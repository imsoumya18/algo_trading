{
 "cells": [
  {
   "cell_type": "markdown",
   "source": [
    "# Quantitative Value Strategy\n",
    "\"Value investing\" means investing in the stocks that are cheapest relative to common measures of business value (like earnings or assets).\n",
    "\n",
    "For this project, we're going to build an investing strategy that selects the 50 stocks with the best value metrics. From there, we will calculate recommended trades for an equal-weight portfolio of these 50 stocks.\n",
    "\n",
    "## Library Imports\n",
    "The first thing we need to do is import the open-source software libraries that we'll be using in this tutorial."
   ],
   "metadata": {
    "collapsed": false
   }
  },
  {
   "cell_type": "code",
   "execution_count": 1,
   "outputs": [
    {
     "name": "stdout",
     "output_type": "stream",
     "text": [
      "Requirement already satisfied: yfinance in /home/soumya/PyCharmProjects/quantitative_investment_strategy/venv/lib/python3.10/site-packages (0.2.31)\r\n",
      "Requirement already satisfied: numpy in /home/soumya/PyCharmProjects/quantitative_investment_strategy/venv/lib/python3.10/site-packages (1.26.0)\r\n",
      "Requirement already satisfied: pandas in /home/soumya/PyCharmProjects/quantitative_investment_strategy/venv/lib/python3.10/site-packages (2.1.1)\r\n",
      "Requirement already satisfied: scipy in /home/soumya/PyCharmProjects/quantitative_investment_strategy/venv/lib/python3.10/site-packages (1.11.3)\r\n",
      "Requirement already satisfied: XlsxWriter in /home/soumya/PyCharmProjects/quantitative_investment_strategy/venv/lib/python3.10/site-packages (3.1.6)\r\n",
      "Requirement already satisfied: ipython in /home/soumya/PyCharmProjects/quantitative_investment_strategy/venv/lib/python3.10/site-packages (8.16.1)\r\n",
      "Requirement already satisfied: requests>=2.31 in /home/soumya/PyCharmProjects/quantitative_investment_strategy/venv/lib/python3.10/site-packages (from yfinance) (2.31.0)\r\n",
      "Requirement already satisfied: multitasking>=0.0.7 in /home/soumya/PyCharmProjects/quantitative_investment_strategy/venv/lib/python3.10/site-packages (from yfinance) (0.0.11)\r\n",
      "Requirement already satisfied: lxml>=4.9.1 in /home/soumya/PyCharmProjects/quantitative_investment_strategy/venv/lib/python3.10/site-packages (from yfinance) (4.9.3)\r\n",
      "Requirement already satisfied: appdirs>=1.4.4 in /home/soumya/PyCharmProjects/quantitative_investment_strategy/venv/lib/python3.10/site-packages (from yfinance) (1.4.4)\r\n",
      "Requirement already satisfied: pytz>=2022.5 in /home/soumya/PyCharmProjects/quantitative_investment_strategy/venv/lib/python3.10/site-packages (from yfinance) (2023.3.post1)\r\n",
      "Requirement already satisfied: frozendict>=2.3.4 in /home/soumya/PyCharmProjects/quantitative_investment_strategy/venv/lib/python3.10/site-packages (from yfinance) (2.3.8)\r\n",
      "Requirement already satisfied: peewee>=3.16.2 in /home/soumya/PyCharmProjects/quantitative_investment_strategy/venv/lib/python3.10/site-packages (from yfinance) (3.16.3)\r\n",
      "Requirement already satisfied: beautifulsoup4>=4.11.1 in /home/soumya/PyCharmProjects/quantitative_investment_strategy/venv/lib/python3.10/site-packages (from yfinance) (4.12.2)\r\n",
      "Requirement already satisfied: html5lib>=1.1 in /home/soumya/PyCharmProjects/quantitative_investment_strategy/venv/lib/python3.10/site-packages (from yfinance) (1.1)\r\n",
      "Requirement already satisfied: python-dateutil>=2.8.2 in /home/soumya/PyCharmProjects/quantitative_investment_strategy/venv/lib/python3.10/site-packages (from pandas) (2.8.2)\r\n",
      "Requirement already satisfied: tzdata>=2022.1 in /home/soumya/PyCharmProjects/quantitative_investment_strategy/venv/lib/python3.10/site-packages (from pandas) (2023.3)\r\n",
      "Requirement already satisfied: backcall in /home/soumya/PyCharmProjects/quantitative_investment_strategy/venv/lib/python3.10/site-packages (from ipython) (0.2.0)\r\n",
      "Requirement already satisfied: decorator in /home/soumya/PyCharmProjects/quantitative_investment_strategy/venv/lib/python3.10/site-packages (from ipython) (5.1.1)\r\n",
      "Requirement already satisfied: jedi>=0.16 in /home/soumya/PyCharmProjects/quantitative_investment_strategy/venv/lib/python3.10/site-packages (from ipython) (0.19.1)\r\n",
      "Requirement already satisfied: matplotlib-inline in /home/soumya/PyCharmProjects/quantitative_investment_strategy/venv/lib/python3.10/site-packages (from ipython) (0.1.6)\r\n",
      "Requirement already satisfied: pickleshare in /home/soumya/PyCharmProjects/quantitative_investment_strategy/venv/lib/python3.10/site-packages (from ipython) (0.7.5)\r\n",
      "Requirement already satisfied: prompt-toolkit!=3.0.37,<3.1.0,>=3.0.30 in /home/soumya/PyCharmProjects/quantitative_investment_strategy/venv/lib/python3.10/site-packages (from ipython) (3.0.39)\r\n",
      "Requirement already satisfied: pygments>=2.4.0 in /home/soumya/PyCharmProjects/quantitative_investment_strategy/venv/lib/python3.10/site-packages (from ipython) (2.16.1)\r\n",
      "Requirement already satisfied: stack-data in /home/soumya/PyCharmProjects/quantitative_investment_strategy/venv/lib/python3.10/site-packages (from ipython) (0.6.3)\r\n",
      "Requirement already satisfied: traitlets>=5 in /home/soumya/PyCharmProjects/quantitative_investment_strategy/venv/lib/python3.10/site-packages (from ipython) (5.11.2)\r\n",
      "Requirement already satisfied: exceptiongroup in /home/soumya/PyCharmProjects/quantitative_investment_strategy/venv/lib/python3.10/site-packages (from ipython) (1.1.3)\r\n",
      "Requirement already satisfied: pexpect>4.3 in /home/soumya/PyCharmProjects/quantitative_investment_strategy/venv/lib/python3.10/site-packages (from ipython) (4.8.0)\r\n",
      "Requirement already satisfied: soupsieve>1.2 in /home/soumya/PyCharmProjects/quantitative_investment_strategy/venv/lib/python3.10/site-packages (from beautifulsoup4>=4.11.1->yfinance) (2.5)\r\n",
      "Requirement already satisfied: six>=1.9 in /home/soumya/PyCharmProjects/quantitative_investment_strategy/venv/lib/python3.10/site-packages (from html5lib>=1.1->yfinance) (1.16.0)\r\n",
      "Requirement already satisfied: webencodings in /home/soumya/PyCharmProjects/quantitative_investment_strategy/venv/lib/python3.10/site-packages (from html5lib>=1.1->yfinance) (0.5.1)\r\n",
      "Requirement already satisfied: parso<0.9.0,>=0.8.3 in /home/soumya/PyCharmProjects/quantitative_investment_strategy/venv/lib/python3.10/site-packages (from jedi>=0.16->ipython) (0.8.3)\r\n",
      "Requirement already satisfied: ptyprocess>=0.5 in /home/soumya/PyCharmProjects/quantitative_investment_strategy/venv/lib/python3.10/site-packages (from pexpect>4.3->ipython) (0.7.0)\r\n",
      "Requirement already satisfied: wcwidth in /home/soumya/PyCharmProjects/quantitative_investment_strategy/venv/lib/python3.10/site-packages (from prompt-toolkit!=3.0.37,<3.1.0,>=3.0.30->ipython) (0.2.8)\r\n",
      "Requirement already satisfied: charset-normalizer<4,>=2 in /home/soumya/PyCharmProjects/quantitative_investment_strategy/venv/lib/python3.10/site-packages (from requests>=2.31->yfinance) (3.3.0)\r\n",
      "Requirement already satisfied: idna<4,>=2.5 in /home/soumya/PyCharmProjects/quantitative_investment_strategy/venv/lib/python3.10/site-packages (from requests>=2.31->yfinance) (3.4)\r\n",
      "Requirement already satisfied: urllib3<3,>=1.21.1 in /home/soumya/PyCharmProjects/quantitative_investment_strategy/venv/lib/python3.10/site-packages (from requests>=2.31->yfinance) (2.0.6)\r\n",
      "Requirement already satisfied: certifi>=2017.4.17 in /home/soumya/PyCharmProjects/quantitative_investment_strategy/venv/lib/python3.10/site-packages (from requests>=2.31->yfinance) (2023.7.22)\r\n",
      "Requirement already satisfied: executing>=1.2.0 in /home/soumya/PyCharmProjects/quantitative_investment_strategy/venv/lib/python3.10/site-packages (from stack-data->ipython) (2.0.0)\r\n",
      "Requirement already satisfied: asttokens>=2.1.0 in /home/soumya/PyCharmProjects/quantitative_investment_strategy/venv/lib/python3.10/site-packages (from stack-data->ipython) (2.4.0)\r\n",
      "Requirement already satisfied: pure-eval in /home/soumya/PyCharmProjects/quantitative_investment_strategy/venv/lib/python3.10/site-packages (from stack-data->ipython) (0.2.2)\r\n"
     ]
    }
   ],
   "source": [
    "! pip install yfinance numpy pandas scipy XlsxWriter ipython"
   ],
   "metadata": {
    "collapsed": false,
    "ExecuteTime": {
     "end_time": "2023-10-05T15:19:10.337363730Z",
     "start_time": "2023-10-05T15:19:08.818803919Z"
    }
   }
  },
  {
   "cell_type": "code",
   "execution_count": 2,
   "metadata": {
    "collapsed": true,
    "ExecuteTime": {
     "end_time": "2023-10-05T15:19:11.184777685Z",
     "start_time": "2023-10-05T15:19:10.348316400Z"
    }
   },
   "outputs": [],
   "source": [
    "import yfinance as yf\n",
    "import numpy as np\n",
    "import pandas as pd\n",
    "import math\n",
    "from scipy.stats import percentileofscore as score\n",
    "from statistics import mean\n",
    "import xlsxwriter\n",
    "from IPython.display import clear_output"
   ]
  },
  {
   "cell_type": "markdown",
   "source": [
    "## Importing Our List of Stocks\n",
    "\n",
    "The next thing we need to do is import the constituents of the S&P 500.\n",
    "\n",
    "These constituents change over time, so in an ideal world you would connect directly to the index provider (Standard & Poor's) and pull their real-time constituents on a regular basis. But, here we have just taken a list of ~500 stocks in a CSV file taken at the time of building the project.\n",
    "\n",
    "Now it's time to import these stocks to our Jupyter Notebook file."
   ],
   "metadata": {
    "collapsed": false
   }
  },
  {
   "cell_type": "code",
   "execution_count": 3,
   "metadata": {
    "ExecuteTime": {
     "end_time": "2023-10-05T15:19:11.229603872Z",
     "start_time": "2023-10-05T15:19:11.187417782Z"
    }
   },
   "outputs": [
    {
     "data": {
      "text/plain": "    Ticker\n0        A\n1      AAL\n2      AAP\n3     AAPL\n4     ABBV\n..     ...\n498    YUM\n499    ZBH\n500   ZBRA\n501   ZION\n502    ZTS\n\n[503 rows x 1 columns]",
      "text/html": "<div>\n<style scoped>\n    .dataframe tbody tr th:only-of-type {\n        vertical-align: middle;\n    }\n\n    .dataframe tbody tr th {\n        vertical-align: top;\n    }\n\n    .dataframe thead th {\n        text-align: right;\n    }\n</style>\n<table border=\"1\" class=\"dataframe\">\n  <thead>\n    <tr style=\"text-align: right;\">\n      <th></th>\n      <th>Ticker</th>\n    </tr>\n  </thead>\n  <tbody>\n    <tr>\n      <th>0</th>\n      <td>A</td>\n    </tr>\n    <tr>\n      <th>1</th>\n      <td>AAL</td>\n    </tr>\n    <tr>\n      <th>2</th>\n      <td>AAP</td>\n    </tr>\n    <tr>\n      <th>3</th>\n      <td>AAPL</td>\n    </tr>\n    <tr>\n      <th>4</th>\n      <td>ABBV</td>\n    </tr>\n    <tr>\n      <th>...</th>\n      <td>...</td>\n    </tr>\n    <tr>\n      <th>498</th>\n      <td>YUM</td>\n    </tr>\n    <tr>\n      <th>499</th>\n      <td>ZBH</td>\n    </tr>\n    <tr>\n      <th>500</th>\n      <td>ZBRA</td>\n    </tr>\n    <tr>\n      <th>501</th>\n      <td>ZION</td>\n    </tr>\n    <tr>\n      <th>502</th>\n      <td>ZTS</td>\n    </tr>\n  </tbody>\n</table>\n<p>503 rows × 1 columns</p>\n</div>"
     },
     "execution_count": 3,
     "metadata": {},
     "output_type": "execute_result"
    }
   ],
   "source": [
    "stocks = pd.read_csv('sp500.csv')\n",
    "stocks"
   ]
  },
  {
   "cell_type": "markdown",
   "source": [
    "## Adding Our Stocks Data to a Pandas DataFrame\n",
    "\n",
    "The next thing we need to do is add our stock's price and market capitalization to a pandas DataFrame."
   ],
   "metadata": {
    "collapsed": false
   }
  },
  {
   "cell_type": "code",
   "execution_count": 4,
   "metadata": {
    "ExecuteTime": {
     "end_time": "2023-10-05T15:19:11.333274337Z",
     "start_time": "2023-10-05T15:19:11.228890905Z"
    }
   },
   "outputs": [
    {
     "data": {
      "text/plain": "Empty DataFrame\nColumns: [Ticker, Stock Price, P/E Ratio, Number of Shares to Buy]\nIndex: []",
      "text/html": "<div>\n<style scoped>\n    .dataframe tbody tr th:only-of-type {\n        vertical-align: middle;\n    }\n\n    .dataframe tbody tr th {\n        vertical-align: top;\n    }\n\n    .dataframe thead th {\n        text-align: right;\n    }\n</style>\n<table border=\"1\" class=\"dataframe\">\n  <thead>\n    <tr style=\"text-align: right;\">\n      <th></th>\n      <th>Ticker</th>\n      <th>Stock Price</th>\n      <th>P/E Ratio</th>\n      <th>Number of Shares to Buy</th>\n    </tr>\n  </thead>\n  <tbody>\n  </tbody>\n</table>\n</div>"
     },
     "execution_count": 4,
     "metadata": {},
     "output_type": "execute_result"
    }
   ],
   "source": [
    "my_columns = ['Ticker',\n",
    "              'Stock Price',\n",
    "              'P/E Ratio',\n",
    "              'Number of Shares to Buy']\n",
    "final_dataframe = pd.DataFrame(columns=my_columns)\n",
    "final_dataframe"
   ]
  },
  {
   "cell_type": "markdown",
   "source": [
    "## Looping Through The Tickers in Our List of Stocks\n",
    "\n",
    "Here to fetch the stock data, we have used `yfinance` API\n",
    "\n",
    "We can pull data for all S&P 500 stocks and store their data in the DataFrame using a `for` loop."
   ],
   "metadata": {
    "collapsed": false
   }
  },
  {
   "cell_type": "code",
   "execution_count": 5,
   "outputs": [
    {
     "name": "stdout",
     "output_type": "stream",
     "text": [
      "    Ticker  Stock Price  P/E Ratio Number of Shares to Buy\n",
      "0        A     108.9950  28.607612                     N/A\n",
      "1      AAL      12.8564   3.437540                     N/A\n",
      "2      AAP      51.8000   8.946459                     N/A\n",
      "3     AAPL     173.2830  29.025628                     N/A\n",
      "4     ABBV     147.5500  30.297741                     N/A\n",
      "..     ...          ...        ...                     ...\n",
      "498    YUM     122.9400  24.736419                     N/A\n",
      "499    ZBH     109.1450  45.667364                     N/A\n",
      "500   ZBRA     220.2600  17.892770                     N/A\n",
      "501   ZION      33.4060   5.819861                     N/A\n",
      "502    ZTS     170.6900  35.784067                     N/A\n",
      "\n",
      "[503 rows x 4 columns]\n"
     ]
    }
   ],
   "source": [
    "for stock in stocks['Ticker']:\n",
    "    data = yf.Ticker(stock).info\n",
    "    price = data['currentPrice']\n",
    "    try:\n",
    "        peRatio = data['currentPrice'] / data['trailingEps']\n",
    "    except:\n",
    "        peRatio = np.NaN\n",
    "    stock_dict = {\n",
    "        'Ticker': [stock],\n",
    "        'Stock Price': [price],\n",
    "        'P/E Ratio': [peRatio],\n",
    "        'Number of Shares to Buy': ['N/A']\n",
    "    }\n",
    "    df = pd.DataFrame(stock_dict)\n",
    "    final_dataframe = pd.concat([final_dataframe, df], ignore_index=True)\n",
    "\n",
    "    clear_output(wait=True)\n",
    "    print(final_dataframe)"
   ],
   "metadata": {
    "collapsed": false
   }
  },
  {
   "cell_type": "code",
   "execution_count": 6,
   "outputs": [
    {
     "data": {
      "text/plain": "    Ticker  Stock Price  P/E Ratio Number of Shares to Buy\n0        A     108.9950  28.607612                     N/A\n1      AAL      12.8564   3.437540                     N/A\n2      AAP      51.8000   8.946459                     N/A\n3     AAPL     173.2830  29.025628                     N/A\n4     ABBV     147.5500  30.297741                     N/A\n..     ...          ...        ...                     ...\n498    YUM     122.9400  24.736419                     N/A\n499    ZBH     109.1450  45.667364                     N/A\n500   ZBRA     220.2600  17.892770                     N/A\n501   ZION      33.4060   5.819861                     N/A\n502    ZTS     170.6900  35.784067                     N/A\n\n[503 rows x 4 columns]",
      "text/html": "<div>\n<style scoped>\n    .dataframe tbody tr th:only-of-type {\n        vertical-align: middle;\n    }\n\n    .dataframe tbody tr th {\n        vertical-align: top;\n    }\n\n    .dataframe thead th {\n        text-align: right;\n    }\n</style>\n<table border=\"1\" class=\"dataframe\">\n  <thead>\n    <tr style=\"text-align: right;\">\n      <th></th>\n      <th>Ticker</th>\n      <th>Stock Price</th>\n      <th>P/E Ratio</th>\n      <th>Number of Shares to Buy</th>\n    </tr>\n  </thead>\n  <tbody>\n    <tr>\n      <th>0</th>\n      <td>A</td>\n      <td>108.9950</td>\n      <td>28.607612</td>\n      <td>N/A</td>\n    </tr>\n    <tr>\n      <th>1</th>\n      <td>AAL</td>\n      <td>12.8564</td>\n      <td>3.437540</td>\n      <td>N/A</td>\n    </tr>\n    <tr>\n      <th>2</th>\n      <td>AAP</td>\n      <td>51.8000</td>\n      <td>8.946459</td>\n      <td>N/A</td>\n    </tr>\n    <tr>\n      <th>3</th>\n      <td>AAPL</td>\n      <td>173.2830</td>\n      <td>29.025628</td>\n      <td>N/A</td>\n    </tr>\n    <tr>\n      <th>4</th>\n      <td>ABBV</td>\n      <td>147.5500</td>\n      <td>30.297741</td>\n      <td>N/A</td>\n    </tr>\n    <tr>\n      <th>...</th>\n      <td>...</td>\n      <td>...</td>\n      <td>...</td>\n      <td>...</td>\n    </tr>\n    <tr>\n      <th>498</th>\n      <td>YUM</td>\n      <td>122.9400</td>\n      <td>24.736419</td>\n      <td>N/A</td>\n    </tr>\n    <tr>\n      <th>499</th>\n      <td>ZBH</td>\n      <td>109.1450</td>\n      <td>45.667364</td>\n      <td>N/A</td>\n    </tr>\n    <tr>\n      <th>500</th>\n      <td>ZBRA</td>\n      <td>220.2600</td>\n      <td>17.892770</td>\n      <td>N/A</td>\n    </tr>\n    <tr>\n      <th>501</th>\n      <td>ZION</td>\n      <td>33.4060</td>\n      <td>5.819861</td>\n      <td>N/A</td>\n    </tr>\n    <tr>\n      <th>502</th>\n      <td>ZTS</td>\n      <td>170.6900</td>\n      <td>35.784067</td>\n      <td>N/A</td>\n    </tr>\n  </tbody>\n</table>\n<p>503 rows × 4 columns</p>\n</div>"
     },
     "execution_count": 6,
     "metadata": {},
     "output_type": "execute_result"
    }
   ],
   "source": [
    "final_dataframe"
   ],
   "metadata": {
    "collapsed": false,
    "ExecuteTime": {
     "end_time": "2023-10-05T15:25:56.128001267Z",
     "start_time": "2023-10-05T15:25:56.113405188Z"
    }
   }
  },
  {
   "cell_type": "code",
   "execution_count": 7,
   "outputs": [
    {
     "data": {
      "text/plain": "   Ticker  Stock Price  P/E Ratio Number of Shares to Buy\n80    CAT       260.83        NaN                     N/A",
      "text/html": "<div>\n<style scoped>\n    .dataframe tbody tr th:only-of-type {\n        vertical-align: middle;\n    }\n\n    .dataframe tbody tr th {\n        vertical-align: top;\n    }\n\n    .dataframe thead th {\n        text-align: right;\n    }\n</style>\n<table border=\"1\" class=\"dataframe\">\n  <thead>\n    <tr style=\"text-align: right;\">\n      <th></th>\n      <th>Ticker</th>\n      <th>Stock Price</th>\n      <th>P/E Ratio</th>\n      <th>Number of Shares to Buy</th>\n    </tr>\n  </thead>\n  <tbody>\n    <tr>\n      <th>80</th>\n      <td>CAT</td>\n      <td>260.83</td>\n      <td>NaN</td>\n      <td>N/A</td>\n    </tr>\n  </tbody>\n</table>\n</div>"
     },
     "execution_count": 7,
     "metadata": {},
     "output_type": "execute_result"
    }
   ],
   "source": [
    "final_dataframe[final_dataframe.isnull().any(axis=1)]"
   ],
   "metadata": {
    "collapsed": false,
    "ExecuteTime": {
     "end_time": "2023-10-05T15:25:56.263482826Z",
     "start_time": "2023-10-05T15:25:56.120124509Z"
    }
   }
  },
  {
   "cell_type": "markdown",
   "source": [
    "Filling the `NULL` cells of the `P/E Ratio` column with mean value"
   ],
   "metadata": {
    "collapsed": false
   }
  },
  {
   "cell_type": "code",
   "execution_count": 8,
   "outputs": [],
   "source": [
    "final_dataframe['P/E Ratio'].fillna(final_dataframe['P/E Ratio'].mean(), inplace=True)"
   ],
   "metadata": {
    "collapsed": false,
    "ExecuteTime": {
     "end_time": "2023-10-05T15:25:56.264220573Z",
     "start_time": "2023-10-05T15:25:56.167546450Z"
    }
   }
  },
  {
   "cell_type": "code",
   "execution_count": 9,
   "outputs": [
    {
     "data": {
      "text/plain": "Empty DataFrame\nColumns: [Ticker, Stock Price, P/E Ratio, Number of Shares to Buy]\nIndex: []",
      "text/html": "<div>\n<style scoped>\n    .dataframe tbody tr th:only-of-type {\n        vertical-align: middle;\n    }\n\n    .dataframe tbody tr th {\n        vertical-align: top;\n    }\n\n    .dataframe thead th {\n        text-align: right;\n    }\n</style>\n<table border=\"1\" class=\"dataframe\">\n  <thead>\n    <tr style=\"text-align: right;\">\n      <th></th>\n      <th>Ticker</th>\n      <th>Stock Price</th>\n      <th>P/E Ratio</th>\n      <th>Number of Shares to Buy</th>\n    </tr>\n  </thead>\n  <tbody>\n  </tbody>\n</table>\n</div>"
     },
     "execution_count": 9,
     "metadata": {},
     "output_type": "execute_result"
    }
   ],
   "source": [
    "final_dataframe[final_dataframe.isnull().any(axis=1)]"
   ],
   "metadata": {
    "collapsed": false,
    "ExecuteTime": {
     "end_time": "2023-10-05T15:25:56.318908965Z",
     "start_time": "2023-10-05T15:25:56.214456356Z"
    }
   }
  },
  {
   "cell_type": "code",
   "execution_count": 10,
   "outputs": [
    {
     "data": {
      "text/plain": "    Ticker  Stock Price  P/E Ratio Number of Shares to Buy\n0        A     108.9950  28.607612                     N/A\n1      AAL      12.8564   3.437540                     N/A\n2      AAP      51.8000   8.946459                     N/A\n3     AAPL     173.2830  29.025628                     N/A\n4     ABBV     147.5500  30.297741                     N/A\n..     ...          ...        ...                     ...\n498    YUM     122.9400  24.736419                     N/A\n499    ZBH     109.1450  45.667364                     N/A\n500   ZBRA     220.2600  17.892770                     N/A\n501   ZION      33.4060   5.819861                     N/A\n502    ZTS     170.6900  35.784067                     N/A\n\n[503 rows x 4 columns]",
      "text/html": "<div>\n<style scoped>\n    .dataframe tbody tr th:only-of-type {\n        vertical-align: middle;\n    }\n\n    .dataframe tbody tr th {\n        vertical-align: top;\n    }\n\n    .dataframe thead th {\n        text-align: right;\n    }\n</style>\n<table border=\"1\" class=\"dataframe\">\n  <thead>\n    <tr style=\"text-align: right;\">\n      <th></th>\n      <th>Ticker</th>\n      <th>Stock Price</th>\n      <th>P/E Ratio</th>\n      <th>Number of Shares to Buy</th>\n    </tr>\n  </thead>\n  <tbody>\n    <tr>\n      <th>0</th>\n      <td>A</td>\n      <td>108.9950</td>\n      <td>28.607612</td>\n      <td>N/A</td>\n    </tr>\n    <tr>\n      <th>1</th>\n      <td>AAL</td>\n      <td>12.8564</td>\n      <td>3.437540</td>\n      <td>N/A</td>\n    </tr>\n    <tr>\n      <th>2</th>\n      <td>AAP</td>\n      <td>51.8000</td>\n      <td>8.946459</td>\n      <td>N/A</td>\n    </tr>\n    <tr>\n      <th>3</th>\n      <td>AAPL</td>\n      <td>173.2830</td>\n      <td>29.025628</td>\n      <td>N/A</td>\n    </tr>\n    <tr>\n      <th>4</th>\n      <td>ABBV</td>\n      <td>147.5500</td>\n      <td>30.297741</td>\n      <td>N/A</td>\n    </tr>\n    <tr>\n      <th>...</th>\n      <td>...</td>\n      <td>...</td>\n      <td>...</td>\n      <td>...</td>\n    </tr>\n    <tr>\n      <th>498</th>\n      <td>YUM</td>\n      <td>122.9400</td>\n      <td>24.736419</td>\n      <td>N/A</td>\n    </tr>\n    <tr>\n      <th>499</th>\n      <td>ZBH</td>\n      <td>109.1450</td>\n      <td>45.667364</td>\n      <td>N/A</td>\n    </tr>\n    <tr>\n      <th>500</th>\n      <td>ZBRA</td>\n      <td>220.2600</td>\n      <td>17.892770</td>\n      <td>N/A</td>\n    </tr>\n    <tr>\n      <th>501</th>\n      <td>ZION</td>\n      <td>33.4060</td>\n      <td>5.819861</td>\n      <td>N/A</td>\n    </tr>\n    <tr>\n      <th>502</th>\n      <td>ZTS</td>\n      <td>170.6900</td>\n      <td>35.784067</td>\n      <td>N/A</td>\n    </tr>\n  </tbody>\n</table>\n<p>503 rows × 4 columns</p>\n</div>"
     },
     "execution_count": 10,
     "metadata": {},
     "output_type": "execute_result"
    }
   ],
   "source": [
    "final_dataframe"
   ],
   "metadata": {
    "collapsed": false,
    "ExecuteTime": {
     "end_time": "2023-10-05T15:25:56.464134312Z",
     "start_time": "2023-10-05T15:25:56.292420128Z"
    }
   }
  },
  {
   "cell_type": "markdown",
   "source": [
    "## Removing Glamour Stocks\n",
    "\n",
    "The opposite of a \"value stock\" is a \"glamour stock\". \n",
    "\n",
    "Since the goal of this strategy is to identify the 50 best value stocks from our universe, our next step is to remove glamour stocks from the DataFrame.\n",
    "\n",
    "We'll consider only those stocks whose `P/E Ratio` is positive."
   ],
   "metadata": {
    "collapsed": false
   }
  },
  {
   "cell_type": "code",
   "execution_count": 11,
   "outputs": [],
   "source": [
    "final_dataframe.sort_values('P/E Ratio', ascending=True, inplace=True)\n",
    "final_dataframe = final_dataframe[final_dataframe['P/E Ratio'] > 0]"
   ],
   "metadata": {
    "collapsed": false,
    "ExecuteTime": {
     "end_time": "2023-10-05T15:25:56.464460921Z",
     "start_time": "2023-10-05T15:25:56.378501681Z"
    }
   }
  },
  {
   "cell_type": "code",
   "execution_count": 12,
   "outputs": [
    {
     "data": {
      "text/plain": "    Ticker  Stock Price   P/E Ratio Number of Shares to Buy\n1      AAL      12.8564    3.437540                     N/A\n100    CMA      39.7900    4.153445                     N/A\n206     GM      30.5250    4.411127                     N/A\n166    EQT      41.0400    4.495071                     N/A\n468    VLO     128.1400    4.581337                     N/A\n..     ...          ...         ...                     ...\n473    VTR      40.4900  184.045455                     N/A\n357   PANW     235.0200  185.055118                     N/A\n431    TAP      60.4900  302.450000                     N/A\n482   WELL      82.3300  304.925926                     N/A\n286    LVS      44.1700  631.000000                     N/A\n\n[463 rows x 4 columns]",
      "text/html": "<div>\n<style scoped>\n    .dataframe tbody tr th:only-of-type {\n        vertical-align: middle;\n    }\n\n    .dataframe tbody tr th {\n        vertical-align: top;\n    }\n\n    .dataframe thead th {\n        text-align: right;\n    }\n</style>\n<table border=\"1\" class=\"dataframe\">\n  <thead>\n    <tr style=\"text-align: right;\">\n      <th></th>\n      <th>Ticker</th>\n      <th>Stock Price</th>\n      <th>P/E Ratio</th>\n      <th>Number of Shares to Buy</th>\n    </tr>\n  </thead>\n  <tbody>\n    <tr>\n      <th>1</th>\n      <td>AAL</td>\n      <td>12.8564</td>\n      <td>3.437540</td>\n      <td>N/A</td>\n    </tr>\n    <tr>\n      <th>100</th>\n      <td>CMA</td>\n      <td>39.7900</td>\n      <td>4.153445</td>\n      <td>N/A</td>\n    </tr>\n    <tr>\n      <th>206</th>\n      <td>GM</td>\n      <td>30.5250</td>\n      <td>4.411127</td>\n      <td>N/A</td>\n    </tr>\n    <tr>\n      <th>166</th>\n      <td>EQT</td>\n      <td>41.0400</td>\n      <td>4.495071</td>\n      <td>N/A</td>\n    </tr>\n    <tr>\n      <th>468</th>\n      <td>VLO</td>\n      <td>128.1400</td>\n      <td>4.581337</td>\n      <td>N/A</td>\n    </tr>\n    <tr>\n      <th>...</th>\n      <td>...</td>\n      <td>...</td>\n      <td>...</td>\n      <td>...</td>\n    </tr>\n    <tr>\n      <th>473</th>\n      <td>VTR</td>\n      <td>40.4900</td>\n      <td>184.045455</td>\n      <td>N/A</td>\n    </tr>\n    <tr>\n      <th>357</th>\n      <td>PANW</td>\n      <td>235.0200</td>\n      <td>185.055118</td>\n      <td>N/A</td>\n    </tr>\n    <tr>\n      <th>431</th>\n      <td>TAP</td>\n      <td>60.4900</td>\n      <td>302.450000</td>\n      <td>N/A</td>\n    </tr>\n    <tr>\n      <th>482</th>\n      <td>WELL</td>\n      <td>82.3300</td>\n      <td>304.925926</td>\n      <td>N/A</td>\n    </tr>\n    <tr>\n      <th>286</th>\n      <td>LVS</td>\n      <td>44.1700</td>\n      <td>631.000000</td>\n      <td>N/A</td>\n    </tr>\n  </tbody>\n</table>\n<p>463 rows × 4 columns</p>\n</div>"
     },
     "execution_count": 12,
     "metadata": {},
     "output_type": "execute_result"
    }
   ],
   "source": [
    "final_dataframe"
   ],
   "metadata": {
    "collapsed": false,
    "ExecuteTime": {
     "end_time": "2023-10-05T15:25:56.610497670Z",
     "start_time": "2023-10-05T15:25:56.415520406Z"
    }
   }
  },
  {
   "cell_type": "code",
   "execution_count": 13,
   "outputs": [],
   "source": [
    "final_dataframe = final_dataframe[:50]\n",
    "final_dataframe.reset_index(drop=True, inplace=True)"
   ],
   "metadata": {
    "collapsed": false,
    "ExecuteTime": {
     "end_time": "2023-10-05T15:25:56.611112892Z",
     "start_time": "2023-10-05T15:25:56.510442732Z"
    }
   }
  },
  {
   "cell_type": "code",
   "execution_count": 14,
   "outputs": [
    {
     "data": {
      "text/plain": "   Ticker  Stock Price  P/E Ratio Number of Shares to Buy\n0     AAL      12.8564   3.437540                     N/A\n1     CMA      39.7900   4.153445                     N/A\n2      GM      30.5250   4.411127                     N/A\n3     EQT      41.0400   4.495071                     N/A\n4     VLO     128.1400   4.581337                     N/A\n5     ALB     152.7400   4.592303                     N/A\n6     PSX     109.6900   4.949910                     N/A\n7     UAL      41.4250   5.133209                     N/A\n8     SYF      28.6400   5.245421                     N/A\n9     MOS      33.8900   5.353870                     N/A\n10    MPC     142.1200   5.407915                     N/A\n11    OGN      16.2000   5.491525                     N/A\n12    CFG      25.6100   5.768018                     N/A\n13   ZION      33.4060   5.819861                     N/A\n14    DVN      43.0800   5.885246                     N/A\n15    PHM      72.6050   5.907648                     N/A\n16    DFS      86.1450   5.949240                     N/A\n17   STLD     106.5400   6.147721                     N/A\n18    TFC      27.0950   6.257506                     N/A\n19      C      39.4400   6.260317                     N/A\n20     VZ      31.5250   6.305000                     N/A\n21   HBAN       9.8400   6.307692                     N/A\n22   VTRS       9.7549   6.635986                     N/A\n23   CTRA      26.0200   6.688946                     N/A\n24    KEY      10.2250   6.726974                     N/A\n25     CF      82.3750   6.802230                     N/A\n26   FITB      23.9650   6.827635                     N/A\n27     RF      16.4100   6.953390                     N/A\n28    TPR      27.6300   6.977273                     N/A\n29    COF      91.4500   6.996940                     N/A\n30    MTB     121.8900   7.009201                     N/A\n31    NUE     155.9550   7.127742                     N/A\n32    DHI     104.0900   7.299439                     N/A\n33    BAC      25.8050   7.415230                     N/A\n34    DAL      36.1318   7.574801                     N/A\n35    APA      37.9100   7.768443                     N/A\n36   FANG     145.0700   7.799462                     N/A\n37    MRO      24.3100   7.918567                     N/A\n38    LEN     108.8000   8.017686                     N/A\n39    GEN      16.9100   8.090909                     N/A\n40     BG     104.2100   8.147772                     N/A\n41    PNC     119.6650   8.185021                     N/A\n42    EOG     118.9600   8.348070                     N/A\n43     IP      35.0050   8.600737                     N/A\n44    STT      63.8652   8.642111                     N/A\n45    USB      31.1750   8.683844                     N/A\n46    XOM     109.6009   8.768072                     N/A\n47  BRK-B     342.7600   8.772972                     N/A\n48    PFE      33.1050   8.804521                     N/A\n49    AAP      51.8000   8.946459                     N/A",
      "text/html": "<div>\n<style scoped>\n    .dataframe tbody tr th:only-of-type {\n        vertical-align: middle;\n    }\n\n    .dataframe tbody tr th {\n        vertical-align: top;\n    }\n\n    .dataframe thead th {\n        text-align: right;\n    }\n</style>\n<table border=\"1\" class=\"dataframe\">\n  <thead>\n    <tr style=\"text-align: right;\">\n      <th></th>\n      <th>Ticker</th>\n      <th>Stock Price</th>\n      <th>P/E Ratio</th>\n      <th>Number of Shares to Buy</th>\n    </tr>\n  </thead>\n  <tbody>\n    <tr>\n      <th>0</th>\n      <td>AAL</td>\n      <td>12.8564</td>\n      <td>3.437540</td>\n      <td>N/A</td>\n    </tr>\n    <tr>\n      <th>1</th>\n      <td>CMA</td>\n      <td>39.7900</td>\n      <td>4.153445</td>\n      <td>N/A</td>\n    </tr>\n    <tr>\n      <th>2</th>\n      <td>GM</td>\n      <td>30.5250</td>\n      <td>4.411127</td>\n      <td>N/A</td>\n    </tr>\n    <tr>\n      <th>3</th>\n      <td>EQT</td>\n      <td>41.0400</td>\n      <td>4.495071</td>\n      <td>N/A</td>\n    </tr>\n    <tr>\n      <th>4</th>\n      <td>VLO</td>\n      <td>128.1400</td>\n      <td>4.581337</td>\n      <td>N/A</td>\n    </tr>\n    <tr>\n      <th>5</th>\n      <td>ALB</td>\n      <td>152.7400</td>\n      <td>4.592303</td>\n      <td>N/A</td>\n    </tr>\n    <tr>\n      <th>6</th>\n      <td>PSX</td>\n      <td>109.6900</td>\n      <td>4.949910</td>\n      <td>N/A</td>\n    </tr>\n    <tr>\n      <th>7</th>\n      <td>UAL</td>\n      <td>41.4250</td>\n      <td>5.133209</td>\n      <td>N/A</td>\n    </tr>\n    <tr>\n      <th>8</th>\n      <td>SYF</td>\n      <td>28.6400</td>\n      <td>5.245421</td>\n      <td>N/A</td>\n    </tr>\n    <tr>\n      <th>9</th>\n      <td>MOS</td>\n      <td>33.8900</td>\n      <td>5.353870</td>\n      <td>N/A</td>\n    </tr>\n    <tr>\n      <th>10</th>\n      <td>MPC</td>\n      <td>142.1200</td>\n      <td>5.407915</td>\n      <td>N/A</td>\n    </tr>\n    <tr>\n      <th>11</th>\n      <td>OGN</td>\n      <td>16.2000</td>\n      <td>5.491525</td>\n      <td>N/A</td>\n    </tr>\n    <tr>\n      <th>12</th>\n      <td>CFG</td>\n      <td>25.6100</td>\n      <td>5.768018</td>\n      <td>N/A</td>\n    </tr>\n    <tr>\n      <th>13</th>\n      <td>ZION</td>\n      <td>33.4060</td>\n      <td>5.819861</td>\n      <td>N/A</td>\n    </tr>\n    <tr>\n      <th>14</th>\n      <td>DVN</td>\n      <td>43.0800</td>\n      <td>5.885246</td>\n      <td>N/A</td>\n    </tr>\n    <tr>\n      <th>15</th>\n      <td>PHM</td>\n      <td>72.6050</td>\n      <td>5.907648</td>\n      <td>N/A</td>\n    </tr>\n    <tr>\n      <th>16</th>\n      <td>DFS</td>\n      <td>86.1450</td>\n      <td>5.949240</td>\n      <td>N/A</td>\n    </tr>\n    <tr>\n      <th>17</th>\n      <td>STLD</td>\n      <td>106.5400</td>\n      <td>6.147721</td>\n      <td>N/A</td>\n    </tr>\n    <tr>\n      <th>18</th>\n      <td>TFC</td>\n      <td>27.0950</td>\n      <td>6.257506</td>\n      <td>N/A</td>\n    </tr>\n    <tr>\n      <th>19</th>\n      <td>C</td>\n      <td>39.4400</td>\n      <td>6.260317</td>\n      <td>N/A</td>\n    </tr>\n    <tr>\n      <th>20</th>\n      <td>VZ</td>\n      <td>31.5250</td>\n      <td>6.305000</td>\n      <td>N/A</td>\n    </tr>\n    <tr>\n      <th>21</th>\n      <td>HBAN</td>\n      <td>9.8400</td>\n      <td>6.307692</td>\n      <td>N/A</td>\n    </tr>\n    <tr>\n      <th>22</th>\n      <td>VTRS</td>\n      <td>9.7549</td>\n      <td>6.635986</td>\n      <td>N/A</td>\n    </tr>\n    <tr>\n      <th>23</th>\n      <td>CTRA</td>\n      <td>26.0200</td>\n      <td>6.688946</td>\n      <td>N/A</td>\n    </tr>\n    <tr>\n      <th>24</th>\n      <td>KEY</td>\n      <td>10.2250</td>\n      <td>6.726974</td>\n      <td>N/A</td>\n    </tr>\n    <tr>\n      <th>25</th>\n      <td>CF</td>\n      <td>82.3750</td>\n      <td>6.802230</td>\n      <td>N/A</td>\n    </tr>\n    <tr>\n      <th>26</th>\n      <td>FITB</td>\n      <td>23.9650</td>\n      <td>6.827635</td>\n      <td>N/A</td>\n    </tr>\n    <tr>\n      <th>27</th>\n      <td>RF</td>\n      <td>16.4100</td>\n      <td>6.953390</td>\n      <td>N/A</td>\n    </tr>\n    <tr>\n      <th>28</th>\n      <td>TPR</td>\n      <td>27.6300</td>\n      <td>6.977273</td>\n      <td>N/A</td>\n    </tr>\n    <tr>\n      <th>29</th>\n      <td>COF</td>\n      <td>91.4500</td>\n      <td>6.996940</td>\n      <td>N/A</td>\n    </tr>\n    <tr>\n      <th>30</th>\n      <td>MTB</td>\n      <td>121.8900</td>\n      <td>7.009201</td>\n      <td>N/A</td>\n    </tr>\n    <tr>\n      <th>31</th>\n      <td>NUE</td>\n      <td>155.9550</td>\n      <td>7.127742</td>\n      <td>N/A</td>\n    </tr>\n    <tr>\n      <th>32</th>\n      <td>DHI</td>\n      <td>104.0900</td>\n      <td>7.299439</td>\n      <td>N/A</td>\n    </tr>\n    <tr>\n      <th>33</th>\n      <td>BAC</td>\n      <td>25.8050</td>\n      <td>7.415230</td>\n      <td>N/A</td>\n    </tr>\n    <tr>\n      <th>34</th>\n      <td>DAL</td>\n      <td>36.1318</td>\n      <td>7.574801</td>\n      <td>N/A</td>\n    </tr>\n    <tr>\n      <th>35</th>\n      <td>APA</td>\n      <td>37.9100</td>\n      <td>7.768443</td>\n      <td>N/A</td>\n    </tr>\n    <tr>\n      <th>36</th>\n      <td>FANG</td>\n      <td>145.0700</td>\n      <td>7.799462</td>\n      <td>N/A</td>\n    </tr>\n    <tr>\n      <th>37</th>\n      <td>MRO</td>\n      <td>24.3100</td>\n      <td>7.918567</td>\n      <td>N/A</td>\n    </tr>\n    <tr>\n      <th>38</th>\n      <td>LEN</td>\n      <td>108.8000</td>\n      <td>8.017686</td>\n      <td>N/A</td>\n    </tr>\n    <tr>\n      <th>39</th>\n      <td>GEN</td>\n      <td>16.9100</td>\n      <td>8.090909</td>\n      <td>N/A</td>\n    </tr>\n    <tr>\n      <th>40</th>\n      <td>BG</td>\n      <td>104.2100</td>\n      <td>8.147772</td>\n      <td>N/A</td>\n    </tr>\n    <tr>\n      <th>41</th>\n      <td>PNC</td>\n      <td>119.6650</td>\n      <td>8.185021</td>\n      <td>N/A</td>\n    </tr>\n    <tr>\n      <th>42</th>\n      <td>EOG</td>\n      <td>118.9600</td>\n      <td>8.348070</td>\n      <td>N/A</td>\n    </tr>\n    <tr>\n      <th>43</th>\n      <td>IP</td>\n      <td>35.0050</td>\n      <td>8.600737</td>\n      <td>N/A</td>\n    </tr>\n    <tr>\n      <th>44</th>\n      <td>STT</td>\n      <td>63.8652</td>\n      <td>8.642111</td>\n      <td>N/A</td>\n    </tr>\n    <tr>\n      <th>45</th>\n      <td>USB</td>\n      <td>31.1750</td>\n      <td>8.683844</td>\n      <td>N/A</td>\n    </tr>\n    <tr>\n      <th>46</th>\n      <td>XOM</td>\n      <td>109.6009</td>\n      <td>8.768072</td>\n      <td>N/A</td>\n    </tr>\n    <tr>\n      <th>47</th>\n      <td>BRK-B</td>\n      <td>342.7600</td>\n      <td>8.772972</td>\n      <td>N/A</td>\n    </tr>\n    <tr>\n      <th>48</th>\n      <td>PFE</td>\n      <td>33.1050</td>\n      <td>8.804521</td>\n      <td>N/A</td>\n    </tr>\n    <tr>\n      <th>49</th>\n      <td>AAP</td>\n      <td>51.8000</td>\n      <td>8.946459</td>\n      <td>N/A</td>\n    </tr>\n  </tbody>\n</table>\n</div>"
     },
     "execution_count": 14,
     "metadata": {},
     "output_type": "execute_result"
    }
   ],
   "source": [
    "final_dataframe"
   ],
   "metadata": {
    "collapsed": false,
    "ExecuteTime": {
     "end_time": "2023-10-05T15:25:56.756598985Z",
     "start_time": "2023-10-05T15:25:56.554590564Z"
    }
   }
  },
  {
   "cell_type": "markdown",
   "source": [
    "## Calculating the Number of Shares to Buy\n",
    "\n",
    "As we can see in the DataFrame above, we stil haven't calculated the number of shares of each stock to buy."
   ],
   "metadata": {
    "collapsed": false
   }
  },
  {
   "cell_type": "code",
   "execution_count": 15,
   "outputs": [
    {
     "data": {
      "text/plain": "10000000"
     },
     "execution_count": 15,
     "metadata": {},
     "output_type": "execute_result"
    }
   ],
   "source": [
    "# portfolio_size = float(input(\"Enter your portfolio value: \"))\n",
    "portfolio_size = 10000000\n",
    "portfolio_size"
   ],
   "metadata": {
    "collapsed": false,
    "ExecuteTime": {
     "end_time": "2023-10-05T15:25:56.789677827Z",
     "start_time": "2023-10-05T15:25:56.678444771Z"
    }
   }
  },
  {
   "cell_type": "code",
   "execution_count": 16,
   "outputs": [
    {
     "data": {
      "text/plain": "200000.0"
     },
     "execution_count": 16,
     "metadata": {},
     "output_type": "execute_result"
    }
   ],
   "source": [
    "position_size = float(portfolio_size) / len(final_dataframe.index)\n",
    "position_size"
   ],
   "metadata": {
    "collapsed": false,
    "ExecuteTime": {
     "end_time": "2023-10-05T15:25:56.810839229Z",
     "start_time": "2023-10-05T15:25:56.686002994Z"
    }
   }
  },
  {
   "cell_type": "code",
   "execution_count": 17,
   "outputs": [
    {
     "data": {
      "text/plain": "   Ticker  Stock Price  P/E Ratio Number of Shares to Buy\n0     AAL      12.8564   3.437540                   15556\n1     CMA      39.7900   4.153445                    5026\n2      GM      30.5250   4.411127                    6552\n3     EQT      41.0400   4.495071                    4873\n4     VLO     128.1400   4.581337                    1560\n5     ALB     152.7400   4.592303                    1309\n6     PSX     109.6900   4.949910                    1823\n7     UAL      41.4250   5.133209                    4828\n8     SYF      28.6400   5.245421                    6983\n9     MOS      33.8900   5.353870                    5901\n10    MPC     142.1200   5.407915                    1407\n11    OGN      16.2000   5.491525                   12345\n12    CFG      25.6100   5.768018                    7809\n13   ZION      33.4060   5.819861                    5986\n14    DVN      43.0800   5.885246                    4642\n15    PHM      72.6050   5.907648                    2754\n16    DFS      86.1450   5.949240                    2321\n17   STLD     106.5400   6.147721                    1877\n18    TFC      27.0950   6.257506                    7381\n19      C      39.4400   6.260317                    5070\n20     VZ      31.5250   6.305000                    6344\n21   HBAN       9.8400   6.307692                   20325\n22   VTRS       9.7549   6.635986                   20502\n23   CTRA      26.0200   6.688946                    7686\n24    KEY      10.2250   6.726974                   19559\n25     CF      82.3750   6.802230                    2427\n26   FITB      23.9650   6.827635                    8345\n27     RF      16.4100   6.953390                   12187\n28    TPR      27.6300   6.977273                    7238\n29    COF      91.4500   6.996940                    2186\n30    MTB     121.8900   7.009201                    1640\n31    NUE     155.9550   7.127742                    1282\n32    DHI     104.0900   7.299439                    1921\n33    BAC      25.8050   7.415230                    7750\n34    DAL      36.1318   7.574801                    5535\n35    APA      37.9100   7.768443                    5275\n36   FANG     145.0700   7.799462                    1378\n37    MRO      24.3100   7.918567                    8227\n38    LEN     108.8000   8.017686                    1838\n39    GEN      16.9100   8.090909                   11827\n40     BG     104.2100   8.147772                    1919\n41    PNC     119.6650   8.185021                    1671\n42    EOG     118.9600   8.348070                    1681\n43     IP      35.0050   8.600737                    5713\n44    STT      63.8652   8.642111                    3131\n45    USB      31.1750   8.683844                    6415\n46    XOM     109.6009   8.768072                    1824\n47  BRK-B     342.7600   8.772972                     583\n48    PFE      33.1050   8.804521                    6041\n49    AAP      51.8000   8.946459                    3861",
      "text/html": "<div>\n<style scoped>\n    .dataframe tbody tr th:only-of-type {\n        vertical-align: middle;\n    }\n\n    .dataframe tbody tr th {\n        vertical-align: top;\n    }\n\n    .dataframe thead th {\n        text-align: right;\n    }\n</style>\n<table border=\"1\" class=\"dataframe\">\n  <thead>\n    <tr style=\"text-align: right;\">\n      <th></th>\n      <th>Ticker</th>\n      <th>Stock Price</th>\n      <th>P/E Ratio</th>\n      <th>Number of Shares to Buy</th>\n    </tr>\n  </thead>\n  <tbody>\n    <tr>\n      <th>0</th>\n      <td>AAL</td>\n      <td>12.8564</td>\n      <td>3.437540</td>\n      <td>15556</td>\n    </tr>\n    <tr>\n      <th>1</th>\n      <td>CMA</td>\n      <td>39.7900</td>\n      <td>4.153445</td>\n      <td>5026</td>\n    </tr>\n    <tr>\n      <th>2</th>\n      <td>GM</td>\n      <td>30.5250</td>\n      <td>4.411127</td>\n      <td>6552</td>\n    </tr>\n    <tr>\n      <th>3</th>\n      <td>EQT</td>\n      <td>41.0400</td>\n      <td>4.495071</td>\n      <td>4873</td>\n    </tr>\n    <tr>\n      <th>4</th>\n      <td>VLO</td>\n      <td>128.1400</td>\n      <td>4.581337</td>\n      <td>1560</td>\n    </tr>\n    <tr>\n      <th>5</th>\n      <td>ALB</td>\n      <td>152.7400</td>\n      <td>4.592303</td>\n      <td>1309</td>\n    </tr>\n    <tr>\n      <th>6</th>\n      <td>PSX</td>\n      <td>109.6900</td>\n      <td>4.949910</td>\n      <td>1823</td>\n    </tr>\n    <tr>\n      <th>7</th>\n      <td>UAL</td>\n      <td>41.4250</td>\n      <td>5.133209</td>\n      <td>4828</td>\n    </tr>\n    <tr>\n      <th>8</th>\n      <td>SYF</td>\n      <td>28.6400</td>\n      <td>5.245421</td>\n      <td>6983</td>\n    </tr>\n    <tr>\n      <th>9</th>\n      <td>MOS</td>\n      <td>33.8900</td>\n      <td>5.353870</td>\n      <td>5901</td>\n    </tr>\n    <tr>\n      <th>10</th>\n      <td>MPC</td>\n      <td>142.1200</td>\n      <td>5.407915</td>\n      <td>1407</td>\n    </tr>\n    <tr>\n      <th>11</th>\n      <td>OGN</td>\n      <td>16.2000</td>\n      <td>5.491525</td>\n      <td>12345</td>\n    </tr>\n    <tr>\n      <th>12</th>\n      <td>CFG</td>\n      <td>25.6100</td>\n      <td>5.768018</td>\n      <td>7809</td>\n    </tr>\n    <tr>\n      <th>13</th>\n      <td>ZION</td>\n      <td>33.4060</td>\n      <td>5.819861</td>\n      <td>5986</td>\n    </tr>\n    <tr>\n      <th>14</th>\n      <td>DVN</td>\n      <td>43.0800</td>\n      <td>5.885246</td>\n      <td>4642</td>\n    </tr>\n    <tr>\n      <th>15</th>\n      <td>PHM</td>\n      <td>72.6050</td>\n      <td>5.907648</td>\n      <td>2754</td>\n    </tr>\n    <tr>\n      <th>16</th>\n      <td>DFS</td>\n      <td>86.1450</td>\n      <td>5.949240</td>\n      <td>2321</td>\n    </tr>\n    <tr>\n      <th>17</th>\n      <td>STLD</td>\n      <td>106.5400</td>\n      <td>6.147721</td>\n      <td>1877</td>\n    </tr>\n    <tr>\n      <th>18</th>\n      <td>TFC</td>\n      <td>27.0950</td>\n      <td>6.257506</td>\n      <td>7381</td>\n    </tr>\n    <tr>\n      <th>19</th>\n      <td>C</td>\n      <td>39.4400</td>\n      <td>6.260317</td>\n      <td>5070</td>\n    </tr>\n    <tr>\n      <th>20</th>\n      <td>VZ</td>\n      <td>31.5250</td>\n      <td>6.305000</td>\n      <td>6344</td>\n    </tr>\n    <tr>\n      <th>21</th>\n      <td>HBAN</td>\n      <td>9.8400</td>\n      <td>6.307692</td>\n      <td>20325</td>\n    </tr>\n    <tr>\n      <th>22</th>\n      <td>VTRS</td>\n      <td>9.7549</td>\n      <td>6.635986</td>\n      <td>20502</td>\n    </tr>\n    <tr>\n      <th>23</th>\n      <td>CTRA</td>\n      <td>26.0200</td>\n      <td>6.688946</td>\n      <td>7686</td>\n    </tr>\n    <tr>\n      <th>24</th>\n      <td>KEY</td>\n      <td>10.2250</td>\n      <td>6.726974</td>\n      <td>19559</td>\n    </tr>\n    <tr>\n      <th>25</th>\n      <td>CF</td>\n      <td>82.3750</td>\n      <td>6.802230</td>\n      <td>2427</td>\n    </tr>\n    <tr>\n      <th>26</th>\n      <td>FITB</td>\n      <td>23.9650</td>\n      <td>6.827635</td>\n      <td>8345</td>\n    </tr>\n    <tr>\n      <th>27</th>\n      <td>RF</td>\n      <td>16.4100</td>\n      <td>6.953390</td>\n      <td>12187</td>\n    </tr>\n    <tr>\n      <th>28</th>\n      <td>TPR</td>\n      <td>27.6300</td>\n      <td>6.977273</td>\n      <td>7238</td>\n    </tr>\n    <tr>\n      <th>29</th>\n      <td>COF</td>\n      <td>91.4500</td>\n      <td>6.996940</td>\n      <td>2186</td>\n    </tr>\n    <tr>\n      <th>30</th>\n      <td>MTB</td>\n      <td>121.8900</td>\n      <td>7.009201</td>\n      <td>1640</td>\n    </tr>\n    <tr>\n      <th>31</th>\n      <td>NUE</td>\n      <td>155.9550</td>\n      <td>7.127742</td>\n      <td>1282</td>\n    </tr>\n    <tr>\n      <th>32</th>\n      <td>DHI</td>\n      <td>104.0900</td>\n      <td>7.299439</td>\n      <td>1921</td>\n    </tr>\n    <tr>\n      <th>33</th>\n      <td>BAC</td>\n      <td>25.8050</td>\n      <td>7.415230</td>\n      <td>7750</td>\n    </tr>\n    <tr>\n      <th>34</th>\n      <td>DAL</td>\n      <td>36.1318</td>\n      <td>7.574801</td>\n      <td>5535</td>\n    </tr>\n    <tr>\n      <th>35</th>\n      <td>APA</td>\n      <td>37.9100</td>\n      <td>7.768443</td>\n      <td>5275</td>\n    </tr>\n    <tr>\n      <th>36</th>\n      <td>FANG</td>\n      <td>145.0700</td>\n      <td>7.799462</td>\n      <td>1378</td>\n    </tr>\n    <tr>\n      <th>37</th>\n      <td>MRO</td>\n      <td>24.3100</td>\n      <td>7.918567</td>\n      <td>8227</td>\n    </tr>\n    <tr>\n      <th>38</th>\n      <td>LEN</td>\n      <td>108.8000</td>\n      <td>8.017686</td>\n      <td>1838</td>\n    </tr>\n    <tr>\n      <th>39</th>\n      <td>GEN</td>\n      <td>16.9100</td>\n      <td>8.090909</td>\n      <td>11827</td>\n    </tr>\n    <tr>\n      <th>40</th>\n      <td>BG</td>\n      <td>104.2100</td>\n      <td>8.147772</td>\n      <td>1919</td>\n    </tr>\n    <tr>\n      <th>41</th>\n      <td>PNC</td>\n      <td>119.6650</td>\n      <td>8.185021</td>\n      <td>1671</td>\n    </tr>\n    <tr>\n      <th>42</th>\n      <td>EOG</td>\n      <td>118.9600</td>\n      <td>8.348070</td>\n      <td>1681</td>\n    </tr>\n    <tr>\n      <th>43</th>\n      <td>IP</td>\n      <td>35.0050</td>\n      <td>8.600737</td>\n      <td>5713</td>\n    </tr>\n    <tr>\n      <th>44</th>\n      <td>STT</td>\n      <td>63.8652</td>\n      <td>8.642111</td>\n      <td>3131</td>\n    </tr>\n    <tr>\n      <th>45</th>\n      <td>USB</td>\n      <td>31.1750</td>\n      <td>8.683844</td>\n      <td>6415</td>\n    </tr>\n    <tr>\n      <th>46</th>\n      <td>XOM</td>\n      <td>109.6009</td>\n      <td>8.768072</td>\n      <td>1824</td>\n    </tr>\n    <tr>\n      <th>47</th>\n      <td>BRK-B</td>\n      <td>342.7600</td>\n      <td>8.772972</td>\n      <td>583</td>\n    </tr>\n    <tr>\n      <th>48</th>\n      <td>PFE</td>\n      <td>33.1050</td>\n      <td>8.804521</td>\n      <td>6041</td>\n    </tr>\n    <tr>\n      <th>49</th>\n      <td>AAP</td>\n      <td>51.8000</td>\n      <td>8.946459</td>\n      <td>3861</td>\n    </tr>\n  </tbody>\n</table>\n</div>"
     },
     "execution_count": 17,
     "metadata": {},
     "output_type": "execute_result"
    }
   ],
   "source": [
    "for i in range(len(final_dataframe.index)):\n",
    "    final_dataframe.loc[i, 'Number of Shares to Buy'] = math.floor(\n",
    "        position_size / final_dataframe.loc[i, 'Stock Price'])\n",
    "\n",
    "final_dataframe"
   ],
   "metadata": {
    "collapsed": false,
    "ExecuteTime": {
     "end_time": "2023-10-05T15:25:56.992603048Z",
     "start_time": "2023-10-05T15:25:56.731523704Z"
    }
   }
  },
  {
   "cell_type": "markdown",
   "source": [
    "## Building a Better (and More Realistic) Value Strategy\n",
    "Every valuation metric has certain flaws.\n",
    "\n",
    "For example, the price-to-earnings ratio doesn't work well with stocks with negative earnings.\n",
    "\n",
    "Similarly, stocks that buyback their own shares are difficult to value using the price-to-book ratio.\n",
    "\n",
    "Investors typically use a `composite` basket of valuation metrics to build robust quantitative value strategies. In this section, we will filter for stocks with the lowest percentiles on the following metrics:\n",
    "\n",
    "* Price-to-earnings ratio\n",
    "* Price-to-book ratio\n",
    "* Price-to-sales ratio\n",
    "* Enterprise Value divided by Earnings Before Interest, Taxes, Depreciation, and Amortization (EV/EBITDA)\n",
    "* Enterprise Value divided by Gross Profit (EV/GP)"
   ],
   "metadata": {
    "collapsed": false
   }
  },
  {
   "cell_type": "code",
   "execution_count": 18,
   "outputs": [
    {
     "data": {
      "text/plain": "Empty DataFrame\nColumns: [Ticker, Stock Price, Number of Shares to Buy, Price-to-Earning Ratio, PE Percentile, Price-to-Book Value, PB Percentile, Price-to-Sales Ratio, PS Percentile, EV/EBITDA, EV/EBITDA Percentile, EV/GP, EV/GP Percentile, RV Score]\nIndex: []",
      "text/html": "<div>\n<style scoped>\n    .dataframe tbody tr th:only-of-type {\n        vertical-align: middle;\n    }\n\n    .dataframe tbody tr th {\n        vertical-align: top;\n    }\n\n    .dataframe thead th {\n        text-align: right;\n    }\n</style>\n<table border=\"1\" class=\"dataframe\">\n  <thead>\n    <tr style=\"text-align: right;\">\n      <th></th>\n      <th>Ticker</th>\n      <th>Stock Price</th>\n      <th>Number of Shares to Buy</th>\n      <th>Price-to-Earning Ratio</th>\n      <th>PE Percentile</th>\n      <th>Price-to-Book Value</th>\n      <th>PB Percentile</th>\n      <th>Price-to-Sales Ratio</th>\n      <th>PS Percentile</th>\n      <th>EV/EBITDA</th>\n      <th>EV/EBITDA Percentile</th>\n      <th>EV/GP</th>\n      <th>EV/GP Percentile</th>\n      <th>RV Score</th>\n    </tr>\n  </thead>\n  <tbody>\n  </tbody>\n</table>\n</div>"
     },
     "execution_count": 18,
     "metadata": {},
     "output_type": "execute_result"
    }
   ],
   "source": [
    "rv_columns = ['Ticker',\n",
    "              'Stock Price',\n",
    "              'Number of Shares to Buy',\n",
    "              'Price-to-Earning Ratio',\n",
    "              'PE Percentile',\n",
    "              'Price-to-Book Value',\n",
    "              'PB Percentile',\n",
    "              'Price-to-Sales Ratio',\n",
    "              'PS Percentile',\n",
    "              'EV/EBITDA',\n",
    "              'EV/EBITDA Percentile',\n",
    "              'EV/GP',\n",
    "              'EV/GP Percentile',\n",
    "              'RV Score']\n",
    "\n",
    "rv_dataframe = pd.DataFrame(columns=rv_columns)\n",
    "rv_dataframe"
   ],
   "metadata": {
    "collapsed": false,
    "ExecuteTime": {
     "end_time": "2023-10-05T15:25:56.993395246Z",
     "start_time": "2023-10-05T15:25:56.850644445Z"
    }
   }
  },
  {
   "cell_type": "code",
   "execution_count": 19,
   "outputs": [
    {
     "name": "stdout",
     "output_type": "stream",
     "text": [
      "    Ticker  Stock Price Number of Shares to Buy  Price-to-Earning Ratio  \\\n",
      "0        A      109.310                     N/A               28.690289   \n",
      "1      AAL       12.810                     N/A                3.425134   \n",
      "2      AAP       51.900                     N/A                8.963731   \n",
      "3     AAPL      173.500                     N/A               29.061977   \n",
      "4     ABBV      147.740                     N/A               30.336756   \n",
      "..     ...          ...                     ...                     ...   \n",
      "498    YUM      122.945                     N/A               24.737425   \n",
      "499    ZBH      108.760                     N/A               45.506276   \n",
      "500   ZBRA      219.950                     N/A               17.867587   \n",
      "501   ZION       33.400                     N/A                5.818815   \n",
      "502    ZTS      171.000                     N/A               35.849057   \n",
      "\n",
      "    PE Percentile  Price-to-Book Value PB Percentile  Price-to-Sales Ratio  \\\n",
      "0             N/A             5.757400           N/A             28.690287   \n",
      "1             N/A                  NaN           N/A              3.425134   \n",
      "2             N/A             1.125667           N/A              8.963730   \n",
      "3             N/A            45.041540           N/A             29.061978   \n",
      "4             N/A            20.266119           N/A             30.336757   \n",
      "..            ...                  ...           ...                   ...   \n",
      "498           N/A                  NaN           N/A             24.737425   \n",
      "499           N/A             1.835612           N/A             45.506275   \n",
      "500           N/A             3.773633           N/A             17.867586   \n",
      "501           N/A             1.021688           N/A              5.818815   \n",
      "502           N/A            17.035265           N/A             35.849058   \n",
      "\n",
      "    PS Percentile     EV/EBITDA EV/EBITDA Percentile         EV/GP  \\\n",
      "0             N/A  1.900548e+01                  N/A  9.032962e+00   \n",
      "1             N/A  5.204278e+00                  N/A  4.303593e+00   \n",
      "2             N/A  8.499322e+00                  N/A  1.492409e+00   \n",
      "3             N/A  2.226039e+01                  N/A  1.615704e+01   \n",
      "4             N/A  1.073419e+01                  N/A  7.711503e+00   \n",
      "..            ...           ...                  ...           ...   \n",
      "498           N/A  1.940987e+01                  N/A  1.399835e+01   \n",
      "499           N/A  1.200298e+01                  N/A  5.756569e+00   \n",
      "500           N/A  1.226272e+01                  N/A  5.192028e+00   \n",
      "501           N/A  8.067043e+09                  N/A  8.067043e+09   \n",
      "502           N/A  2.471945e+01                  N/A  1.489055e+01   \n",
      "\n",
      "    EV/GP Percentile RV Score  \n",
      "0                N/A      N/A  \n",
      "1                N/A      N/A  \n",
      "2                N/A      N/A  \n",
      "3                N/A      N/A  \n",
      "4                N/A      N/A  \n",
      "..               ...      ...  \n",
      "498              N/A      N/A  \n",
      "499              N/A      N/A  \n",
      "500              N/A      N/A  \n",
      "501              N/A      N/A  \n",
      "502              N/A      N/A  \n",
      "\n",
      "[503 rows x 14 columns]\n"
     ]
    }
   ],
   "source": [
    "for stock in stocks['Ticker']:\n",
    "    data = yf.Ticker(stock).info\n",
    "    financials = yf.Ticker(stock).financials\n",
    "\n",
    "    try:\n",
    "        price = data['currentPrice']\n",
    "    except:\n",
    "        price = np.NaN\n",
    "\n",
    "    try:\n",
    "        eps = data['trailingEps']\n",
    "    except:\n",
    "        eps = 1\n",
    "\n",
    "    try:\n",
    "        peRatio = price / eps\n",
    "    except:\n",
    "        peRatio = np.NaN\n",
    "\n",
    "    try:\n",
    "        pbRatio = data['priceToBook']\n",
    "    except:\n",
    "        pbRatio = np.NaN\n",
    "\n",
    "    try:\n",
    "        marketCap = data['marketCap']\n",
    "    except:\n",
    "        marketCap = np.NaN\n",
    "\n",
    "    try:\n",
    "        outstandingShares = data['sharesOutstanding']\n",
    "    except:\n",
    "        outstandingShares = 1\n",
    "\n",
    "    try:\n",
    "        psRatio = marketCap / (outstandingShares * eps)\n",
    "    except:\n",
    "        psRatio = np.NaN\n",
    "\n",
    "    try:\n",
    "        debt = data['totalDebt']\n",
    "    except:\n",
    "        debt = np.NaN\n",
    "\n",
    "    try:\n",
    "        cash = data['totalCash']\n",
    "    except:\n",
    "        cash = np.NaN\n",
    "\n",
    "    try:\n",
    "        ebitda = data['ebitda']\n",
    "    except:\n",
    "        ebitda = 1\n",
    "\n",
    "    try:\n",
    "        evToEBIDTA = (marketCap + debt - cash) / ebitda\n",
    "    except:\n",
    "        evToEBIDTA = np.NaN\n",
    "\n",
    "    try:\n",
    "        grossProfit = financials.loc['Gross Profit'][0]\n",
    "    except:\n",
    "        grossProfit = 1\n",
    "\n",
    "    try:\n",
    "        evToGP = (marketCap + debt - cash) / grossProfit\n",
    "    except:\n",
    "        evToGP = np.NaN\n",
    "\n",
    "    stock_dict = {\n",
    "        'Ticker': [stock],\n",
    "        'Stock Price': [price],\n",
    "        'Number of Shares to Buy': ['N/A'],\n",
    "        'Price-to-Earning Ratio': [peRatio],\n",
    "        'PE Percentile': ['N/A'],\n",
    "        'Price-to-Book Value': [pbRatio],\n",
    "        'PB Percentile': ['N/A'],\n",
    "        'Price-to-Sales Ratio': [psRatio],\n",
    "        'PS Percentile': ['N/A'],\n",
    "        'EV/EBITDA': [evToEBIDTA],\n",
    "        'EV/EBITDA Percentile': ['N/A'],\n",
    "        'EV/GP': [evToGP],\n",
    "        'EV/GP Percentile': ['N/A'],\n",
    "        'RV Score': ['N/A']\n",
    "    }\n",
    "    df = pd.DataFrame(stock_dict)\n",
    "    rv_dataframe = pd.concat([rv_dataframe, df], ignore_index=True)\n",
    "\n",
    "    clear_output(wait=True)\n",
    "    print(rv_dataframe)"
   ],
   "metadata": {
    "collapsed": false
   }
  },
  {
   "cell_type": "code",
   "execution_count": 20,
   "outputs": [
    {
     "data": {
      "text/plain": "    Ticker  Stock Price Number of Shares to Buy  Price-to-Earning Ratio  \\\n0        A      109.310                     N/A               28.690289   \n1      AAL       12.810                     N/A                3.425134   \n2      AAP       51.900                     N/A                8.963731   \n3     AAPL      173.500                     N/A               29.061977   \n4     ABBV      147.740                     N/A               30.336756   \n..     ...          ...                     ...                     ...   \n498    YUM      122.945                     N/A               24.737425   \n499    ZBH      108.760                     N/A               45.506276   \n500   ZBRA      219.950                     N/A               17.867587   \n501   ZION       33.400                     N/A                5.818815   \n502    ZTS      171.000                     N/A               35.849057   \n\n    PE Percentile  Price-to-Book Value PB Percentile  Price-to-Sales Ratio  \\\n0             N/A             5.757400           N/A             28.690287   \n1             N/A                  NaN           N/A              3.425134   \n2             N/A             1.125667           N/A              8.963730   \n3             N/A            45.041540           N/A             29.061978   \n4             N/A            20.266119           N/A             30.336757   \n..            ...                  ...           ...                   ...   \n498           N/A                  NaN           N/A             24.737425   \n499           N/A             1.835612           N/A             45.506275   \n500           N/A             3.773633           N/A             17.867586   \n501           N/A             1.021688           N/A              5.818815   \n502           N/A            17.035265           N/A             35.849058   \n\n    PS Percentile     EV/EBITDA EV/EBITDA Percentile         EV/GP  \\\n0             N/A  1.900548e+01                  N/A  9.032962e+00   \n1             N/A  5.204278e+00                  N/A  4.303593e+00   \n2             N/A  8.499322e+00                  N/A  1.492409e+00   \n3             N/A  2.226039e+01                  N/A  1.615704e+01   \n4             N/A  1.073419e+01                  N/A  7.711503e+00   \n..            ...           ...                  ...           ...   \n498           N/A  1.940987e+01                  N/A  1.399835e+01   \n499           N/A  1.200298e+01                  N/A  5.756569e+00   \n500           N/A  1.226272e+01                  N/A  5.192028e+00   \n501           N/A  8.067043e+09                  N/A  8.067043e+09   \n502           N/A  2.471945e+01                  N/A  1.489055e+01   \n\n    EV/GP Percentile RV Score  \n0                N/A      N/A  \n1                N/A      N/A  \n2                N/A      N/A  \n3                N/A      N/A  \n4                N/A      N/A  \n..               ...      ...  \n498              N/A      N/A  \n499              N/A      N/A  \n500              N/A      N/A  \n501              N/A      N/A  \n502              N/A      N/A  \n\n[503 rows x 14 columns]",
      "text/html": "<div>\n<style scoped>\n    .dataframe tbody tr th:only-of-type {\n        vertical-align: middle;\n    }\n\n    .dataframe tbody tr th {\n        vertical-align: top;\n    }\n\n    .dataframe thead th {\n        text-align: right;\n    }\n</style>\n<table border=\"1\" class=\"dataframe\">\n  <thead>\n    <tr style=\"text-align: right;\">\n      <th></th>\n      <th>Ticker</th>\n      <th>Stock Price</th>\n      <th>Number of Shares to Buy</th>\n      <th>Price-to-Earning Ratio</th>\n      <th>PE Percentile</th>\n      <th>Price-to-Book Value</th>\n      <th>PB Percentile</th>\n      <th>Price-to-Sales Ratio</th>\n      <th>PS Percentile</th>\n      <th>EV/EBITDA</th>\n      <th>EV/EBITDA Percentile</th>\n      <th>EV/GP</th>\n      <th>EV/GP Percentile</th>\n      <th>RV Score</th>\n    </tr>\n  </thead>\n  <tbody>\n    <tr>\n      <th>0</th>\n      <td>A</td>\n      <td>109.310</td>\n      <td>N/A</td>\n      <td>28.690289</td>\n      <td>N/A</td>\n      <td>5.757400</td>\n      <td>N/A</td>\n      <td>28.690287</td>\n      <td>N/A</td>\n      <td>1.900548e+01</td>\n      <td>N/A</td>\n      <td>9.032962e+00</td>\n      <td>N/A</td>\n      <td>N/A</td>\n    </tr>\n    <tr>\n      <th>1</th>\n      <td>AAL</td>\n      <td>12.810</td>\n      <td>N/A</td>\n      <td>3.425134</td>\n      <td>N/A</td>\n      <td>NaN</td>\n      <td>N/A</td>\n      <td>3.425134</td>\n      <td>N/A</td>\n      <td>5.204278e+00</td>\n      <td>N/A</td>\n      <td>4.303593e+00</td>\n      <td>N/A</td>\n      <td>N/A</td>\n    </tr>\n    <tr>\n      <th>2</th>\n      <td>AAP</td>\n      <td>51.900</td>\n      <td>N/A</td>\n      <td>8.963731</td>\n      <td>N/A</td>\n      <td>1.125667</td>\n      <td>N/A</td>\n      <td>8.963730</td>\n      <td>N/A</td>\n      <td>8.499322e+00</td>\n      <td>N/A</td>\n      <td>1.492409e+00</td>\n      <td>N/A</td>\n      <td>N/A</td>\n    </tr>\n    <tr>\n      <th>3</th>\n      <td>AAPL</td>\n      <td>173.500</td>\n      <td>N/A</td>\n      <td>29.061977</td>\n      <td>N/A</td>\n      <td>45.041540</td>\n      <td>N/A</td>\n      <td>29.061978</td>\n      <td>N/A</td>\n      <td>2.226039e+01</td>\n      <td>N/A</td>\n      <td>1.615704e+01</td>\n      <td>N/A</td>\n      <td>N/A</td>\n    </tr>\n    <tr>\n      <th>4</th>\n      <td>ABBV</td>\n      <td>147.740</td>\n      <td>N/A</td>\n      <td>30.336756</td>\n      <td>N/A</td>\n      <td>20.266119</td>\n      <td>N/A</td>\n      <td>30.336757</td>\n      <td>N/A</td>\n      <td>1.073419e+01</td>\n      <td>N/A</td>\n      <td>7.711503e+00</td>\n      <td>N/A</td>\n      <td>N/A</td>\n    </tr>\n    <tr>\n      <th>...</th>\n      <td>...</td>\n      <td>...</td>\n      <td>...</td>\n      <td>...</td>\n      <td>...</td>\n      <td>...</td>\n      <td>...</td>\n      <td>...</td>\n      <td>...</td>\n      <td>...</td>\n      <td>...</td>\n      <td>...</td>\n      <td>...</td>\n      <td>...</td>\n    </tr>\n    <tr>\n      <th>498</th>\n      <td>YUM</td>\n      <td>122.945</td>\n      <td>N/A</td>\n      <td>24.737425</td>\n      <td>N/A</td>\n      <td>NaN</td>\n      <td>N/A</td>\n      <td>24.737425</td>\n      <td>N/A</td>\n      <td>1.940987e+01</td>\n      <td>N/A</td>\n      <td>1.399835e+01</td>\n      <td>N/A</td>\n      <td>N/A</td>\n    </tr>\n    <tr>\n      <th>499</th>\n      <td>ZBH</td>\n      <td>108.760</td>\n      <td>N/A</td>\n      <td>45.506276</td>\n      <td>N/A</td>\n      <td>1.835612</td>\n      <td>N/A</td>\n      <td>45.506275</td>\n      <td>N/A</td>\n      <td>1.200298e+01</td>\n      <td>N/A</td>\n      <td>5.756569e+00</td>\n      <td>N/A</td>\n      <td>N/A</td>\n    </tr>\n    <tr>\n      <th>500</th>\n      <td>ZBRA</td>\n      <td>219.950</td>\n      <td>N/A</td>\n      <td>17.867587</td>\n      <td>N/A</td>\n      <td>3.773633</td>\n      <td>N/A</td>\n      <td>17.867586</td>\n      <td>N/A</td>\n      <td>1.226272e+01</td>\n      <td>N/A</td>\n      <td>5.192028e+00</td>\n      <td>N/A</td>\n      <td>N/A</td>\n    </tr>\n    <tr>\n      <th>501</th>\n      <td>ZION</td>\n      <td>33.400</td>\n      <td>N/A</td>\n      <td>5.818815</td>\n      <td>N/A</td>\n      <td>1.021688</td>\n      <td>N/A</td>\n      <td>5.818815</td>\n      <td>N/A</td>\n      <td>8.067043e+09</td>\n      <td>N/A</td>\n      <td>8.067043e+09</td>\n      <td>N/A</td>\n      <td>N/A</td>\n    </tr>\n    <tr>\n      <th>502</th>\n      <td>ZTS</td>\n      <td>171.000</td>\n      <td>N/A</td>\n      <td>35.849057</td>\n      <td>N/A</td>\n      <td>17.035265</td>\n      <td>N/A</td>\n      <td>35.849058</td>\n      <td>N/A</td>\n      <td>2.471945e+01</td>\n      <td>N/A</td>\n      <td>1.489055e+01</td>\n      <td>N/A</td>\n      <td>N/A</td>\n    </tr>\n  </tbody>\n</table>\n<p>503 rows × 14 columns</p>\n</div>"
     },
     "execution_count": 20,
     "metadata": {},
     "output_type": "execute_result"
    }
   ],
   "source": [
    "rv_dataframe"
   ],
   "metadata": {
    "collapsed": false,
    "ExecuteTime": {
     "end_time": "2023-10-05T15:37:03.329128063Z",
     "start_time": "2023-10-05T15:37:03.307850512Z"
    }
   }
  },
  {
   "cell_type": "code",
   "execution_count": 21,
   "outputs": [
    {
     "data": {
      "text/plain": "    Ticker  Stock Price Number of Shares to Buy  Price-to-Earning Ratio  \\\n1      AAL      12.8100                     N/A                3.425134   \n52     AZO    2495.8450                     N/A               19.034815   \n53      BA     186.7025                     N/A              -25.436308   \n57    BBWI      32.1500                     N/A               10.935374   \n66    BKNG    2996.4100                     N/A               26.970387   \n78     CAH      89.7200                     N/A               89.720000   \n80     CAT     261.5100                     N/A              261.510000   \n98      CL      69.7300                     N/A               38.955307   \n142    DPZ     365.4400                     N/A               27.642965   \n171   ETSY      61.9100                     N/A              -11.401473   \n187   FICO     858.7800                     N/A               52.237226   \n218    HCA     243.2300                     N/A               12.011358   \n223    HLT     148.7400                     N/A               31.117155   \n227    HPQ      26.0150                     N/A               11.213362   \n283    LOW     198.0788                     N/A               19.230951   \n289    LYV      84.1400                     N/A               76.490909   \n292    MAR     192.9950                     N/A               21.684831   \n293    MAS      51.9400                     N/A               14.467967   \n294    MCD     254.8400                     N/A               23.379817   \n296    MCK     445.6600                     N/A               16.475416   \n310     MO      41.8050                     N/A               10.858442   \n319   MSCI     496.1900                     N/A               43.525439   \n323   MTCH      36.9600                     N/A               22.536585   \n324    MTD    1070.1900                     N/A               26.855458   \n349    OGN      16.1850                     N/A                5.486441   \n354   ORLY     898.2997                     N/A               24.973581   \n355   OTIS      79.2000                     N/A               24.905660   \n374     PM      91.5250                     N/A               17.500000   \n406   SBAC     188.5150                     N/A               42.362921   \n407   SBUX      91.6200                     N/A               27.349254   \n423    STX      66.1650                     N/A              -25.845703   \n432    TDG     826.4800                     N/A               44.126001   \n471   VRSN     203.5600                     N/A               29.803807   \n493   WYNN      89.1900                     N/A             -557.437500   \n498    YUM     122.9450                     N/A               24.737425   \n\n    PE Percentile  Price-to-Book Value PB Percentile  Price-to-Sales Ratio  \\\n1             N/A                  NaN           N/A          3.425134e+00   \n52            N/A                  NaN           N/A          1.903482e+01   \n53            N/A                  NaN           N/A         -2.543631e+01   \n57            N/A                  NaN           N/A          1.093537e+01   \n66            N/A                  NaN           N/A          2.697039e+01   \n78            N/A                  NaN           N/A          8.972000e+01   \n80            N/A                  NaN           N/A          1.350296e+11   \n98            N/A                  NaN           N/A          3.895531e+01   \n142           N/A                  NaN           N/A          2.764296e+01   \n171           N/A                  NaN           N/A         -1.140147e+01   \n187           N/A                  NaN           N/A          5.223723e+01   \n218           N/A                  NaN           N/A          1.201136e+01   \n223           N/A                  NaN           N/A          3.111716e+01   \n227           N/A                  NaN           N/A          1.121336e+01   \n283           N/A                  NaN           N/A          1.923095e+01   \n289           N/A                  NaN           N/A          7.649091e+01   \n292           N/A                  NaN           N/A          2.168483e+01   \n293           N/A                  NaN           N/A          1.446797e+01   \n294           N/A                  NaN           N/A          2.337982e+01   \n296           N/A                  NaN           N/A          1.647542e+01   \n310           N/A                  NaN           N/A          1.085844e+01   \n319           N/A                  NaN           N/A          4.352544e+01   \n323           N/A                  NaN           N/A          2.253659e+01   \n324           N/A                  NaN           N/A          2.685546e+01   \n349           N/A                  NaN           N/A          5.486440e+00   \n354           N/A                  NaN           N/A          2.497358e+01   \n355           N/A                  NaN           N/A          2.490566e+01   \n374           N/A                  NaN           N/A          1.750000e+01   \n406           N/A                  NaN           N/A          4.236292e+01   \n407           N/A                  NaN           N/A          2.734926e+01   \n423           N/A                  NaN           N/A         -2.584570e+01   \n432           N/A                  NaN           N/A          4.412600e+01   \n471           N/A                  NaN           N/A          2.980381e+01   \n493           N/A                  NaN           N/A         -5.574375e+02   \n498           N/A                  NaN           N/A          2.473742e+01   \n\n    PS Percentile   EV/EBITDA EV/EBITDA Percentile         EV/GP  \\\n1             N/A    5.204278                  N/A  4.303593e+00   \n52            N/A   13.977439                  N/A  6.050087e+00   \n53            N/A  140.582030                  N/A  4.315411e+01   \n57            N/A    8.460326                  N/A  3.812995e+00   \n66            N/A   16.909395                  N/A  1.062925e+11   \n78            N/A    9.475580                  N/A  3.386396e+00   \n80            N/A         NaN                  N/A           NaN   \n98            N/A   16.598692                  N/A  6.396197e+00   \n142           N/A   21.051325                  N/A  1.090289e+01   \n171           N/A   20.663170                  N/A  4.901403e+00   \n187           N/A   37.041397                  N/A  2.153839e+01   \n218           N/A    8.606812                  N/A  2.082746e+00   \n223           N/A   19.319657                  N/A  1.766553e+01   \n227           N/A    6.971085                  N/A  2.837602e+00   \n283           N/A   10.968588                  N/A  4.684696e+00   \n289           N/A   14.570642                  N/A  4.753759e+00   \n292           N/A   16.039775                  N/A  1.520224e+01   \n293           N/A   10.089728                  N/A  5.373998e+00   \n294           N/A   17.875374                  N/A  1.761456e+01   \n296           N/A   12.840567                  N/A  5.256548e+00   \n310           N/A    8.214169                  N/A  7.055214e+00   \n319           N/A   31.555442                  N/A  2.337761e+01   \n323           N/A   14.328333                  N/A  6.047512e+00   \n324           N/A   20.255002                  N/A  1.103478e+01   \n349           N/A    7.307907                  N/A  3.232054e+00   \n354           N/A   17.758858                  N/A  8.290339e+00   \n355           N/A   16.628806                  N/A  9.837296e+00   \n374           N/A   13.767312                  N/A  9.163106e+00   \n406           N/A   20.202729                  N/A  1.788549e+01   \n407           N/A   19.331359                  N/A  1.502106e+01   \n423           N/A   34.268727                  N/A  1.390027e+01   \n432           N/A   20.769115                  N/A  2.009223e+01   \n471           N/A   21.454733                  N/A  1.784623e+01   \n493           N/A   19.771256                  N/A  1.593465e+01   \n498           N/A   19.409872                  N/A  1.399835e+01   \n\n    EV/GP Percentile RV Score  \n1                N/A      N/A  \n52               N/A      N/A  \n53               N/A      N/A  \n57               N/A      N/A  \n66               N/A      N/A  \n78               N/A      N/A  \n80               N/A      N/A  \n98               N/A      N/A  \n142              N/A      N/A  \n171              N/A      N/A  \n187              N/A      N/A  \n218              N/A      N/A  \n223              N/A      N/A  \n227              N/A      N/A  \n283              N/A      N/A  \n289              N/A      N/A  \n292              N/A      N/A  \n293              N/A      N/A  \n294              N/A      N/A  \n296              N/A      N/A  \n310              N/A      N/A  \n319              N/A      N/A  \n323              N/A      N/A  \n324              N/A      N/A  \n349              N/A      N/A  \n354              N/A      N/A  \n355              N/A      N/A  \n374              N/A      N/A  \n406              N/A      N/A  \n407              N/A      N/A  \n423              N/A      N/A  \n432              N/A      N/A  \n471              N/A      N/A  \n493              N/A      N/A  \n498              N/A      N/A  ",
      "text/html": "<div>\n<style scoped>\n    .dataframe tbody tr th:only-of-type {\n        vertical-align: middle;\n    }\n\n    .dataframe tbody tr th {\n        vertical-align: top;\n    }\n\n    .dataframe thead th {\n        text-align: right;\n    }\n</style>\n<table border=\"1\" class=\"dataframe\">\n  <thead>\n    <tr style=\"text-align: right;\">\n      <th></th>\n      <th>Ticker</th>\n      <th>Stock Price</th>\n      <th>Number of Shares to Buy</th>\n      <th>Price-to-Earning Ratio</th>\n      <th>PE Percentile</th>\n      <th>Price-to-Book Value</th>\n      <th>PB Percentile</th>\n      <th>Price-to-Sales Ratio</th>\n      <th>PS Percentile</th>\n      <th>EV/EBITDA</th>\n      <th>EV/EBITDA Percentile</th>\n      <th>EV/GP</th>\n      <th>EV/GP Percentile</th>\n      <th>RV Score</th>\n    </tr>\n  </thead>\n  <tbody>\n    <tr>\n      <th>1</th>\n      <td>AAL</td>\n      <td>12.8100</td>\n      <td>N/A</td>\n      <td>3.425134</td>\n      <td>N/A</td>\n      <td>NaN</td>\n      <td>N/A</td>\n      <td>3.425134e+00</td>\n      <td>N/A</td>\n      <td>5.204278</td>\n      <td>N/A</td>\n      <td>4.303593e+00</td>\n      <td>N/A</td>\n      <td>N/A</td>\n    </tr>\n    <tr>\n      <th>52</th>\n      <td>AZO</td>\n      <td>2495.8450</td>\n      <td>N/A</td>\n      <td>19.034815</td>\n      <td>N/A</td>\n      <td>NaN</td>\n      <td>N/A</td>\n      <td>1.903482e+01</td>\n      <td>N/A</td>\n      <td>13.977439</td>\n      <td>N/A</td>\n      <td>6.050087e+00</td>\n      <td>N/A</td>\n      <td>N/A</td>\n    </tr>\n    <tr>\n      <th>53</th>\n      <td>BA</td>\n      <td>186.7025</td>\n      <td>N/A</td>\n      <td>-25.436308</td>\n      <td>N/A</td>\n      <td>NaN</td>\n      <td>N/A</td>\n      <td>-2.543631e+01</td>\n      <td>N/A</td>\n      <td>140.582030</td>\n      <td>N/A</td>\n      <td>4.315411e+01</td>\n      <td>N/A</td>\n      <td>N/A</td>\n    </tr>\n    <tr>\n      <th>57</th>\n      <td>BBWI</td>\n      <td>32.1500</td>\n      <td>N/A</td>\n      <td>10.935374</td>\n      <td>N/A</td>\n      <td>NaN</td>\n      <td>N/A</td>\n      <td>1.093537e+01</td>\n      <td>N/A</td>\n      <td>8.460326</td>\n      <td>N/A</td>\n      <td>3.812995e+00</td>\n      <td>N/A</td>\n      <td>N/A</td>\n    </tr>\n    <tr>\n      <th>66</th>\n      <td>BKNG</td>\n      <td>2996.4100</td>\n      <td>N/A</td>\n      <td>26.970387</td>\n      <td>N/A</td>\n      <td>NaN</td>\n      <td>N/A</td>\n      <td>2.697039e+01</td>\n      <td>N/A</td>\n      <td>16.909395</td>\n      <td>N/A</td>\n      <td>1.062925e+11</td>\n      <td>N/A</td>\n      <td>N/A</td>\n    </tr>\n    <tr>\n      <th>78</th>\n      <td>CAH</td>\n      <td>89.7200</td>\n      <td>N/A</td>\n      <td>89.720000</td>\n      <td>N/A</td>\n      <td>NaN</td>\n      <td>N/A</td>\n      <td>8.972000e+01</td>\n      <td>N/A</td>\n      <td>9.475580</td>\n      <td>N/A</td>\n      <td>3.386396e+00</td>\n      <td>N/A</td>\n      <td>N/A</td>\n    </tr>\n    <tr>\n      <th>80</th>\n      <td>CAT</td>\n      <td>261.5100</td>\n      <td>N/A</td>\n      <td>261.510000</td>\n      <td>N/A</td>\n      <td>NaN</td>\n      <td>N/A</td>\n      <td>1.350296e+11</td>\n      <td>N/A</td>\n      <td>NaN</td>\n      <td>N/A</td>\n      <td>NaN</td>\n      <td>N/A</td>\n      <td>N/A</td>\n    </tr>\n    <tr>\n      <th>98</th>\n      <td>CL</td>\n      <td>69.7300</td>\n      <td>N/A</td>\n      <td>38.955307</td>\n      <td>N/A</td>\n      <td>NaN</td>\n      <td>N/A</td>\n      <td>3.895531e+01</td>\n      <td>N/A</td>\n      <td>16.598692</td>\n      <td>N/A</td>\n      <td>6.396197e+00</td>\n      <td>N/A</td>\n      <td>N/A</td>\n    </tr>\n    <tr>\n      <th>142</th>\n      <td>DPZ</td>\n      <td>365.4400</td>\n      <td>N/A</td>\n      <td>27.642965</td>\n      <td>N/A</td>\n      <td>NaN</td>\n      <td>N/A</td>\n      <td>2.764296e+01</td>\n      <td>N/A</td>\n      <td>21.051325</td>\n      <td>N/A</td>\n      <td>1.090289e+01</td>\n      <td>N/A</td>\n      <td>N/A</td>\n    </tr>\n    <tr>\n      <th>171</th>\n      <td>ETSY</td>\n      <td>61.9100</td>\n      <td>N/A</td>\n      <td>-11.401473</td>\n      <td>N/A</td>\n      <td>NaN</td>\n      <td>N/A</td>\n      <td>-1.140147e+01</td>\n      <td>N/A</td>\n      <td>20.663170</td>\n      <td>N/A</td>\n      <td>4.901403e+00</td>\n      <td>N/A</td>\n      <td>N/A</td>\n    </tr>\n    <tr>\n      <th>187</th>\n      <td>FICO</td>\n      <td>858.7800</td>\n      <td>N/A</td>\n      <td>52.237226</td>\n      <td>N/A</td>\n      <td>NaN</td>\n      <td>N/A</td>\n      <td>5.223723e+01</td>\n      <td>N/A</td>\n      <td>37.041397</td>\n      <td>N/A</td>\n      <td>2.153839e+01</td>\n      <td>N/A</td>\n      <td>N/A</td>\n    </tr>\n    <tr>\n      <th>218</th>\n      <td>HCA</td>\n      <td>243.2300</td>\n      <td>N/A</td>\n      <td>12.011358</td>\n      <td>N/A</td>\n      <td>NaN</td>\n      <td>N/A</td>\n      <td>1.201136e+01</td>\n      <td>N/A</td>\n      <td>8.606812</td>\n      <td>N/A</td>\n      <td>2.082746e+00</td>\n      <td>N/A</td>\n      <td>N/A</td>\n    </tr>\n    <tr>\n      <th>223</th>\n      <td>HLT</td>\n      <td>148.7400</td>\n      <td>N/A</td>\n      <td>31.117155</td>\n      <td>N/A</td>\n      <td>NaN</td>\n      <td>N/A</td>\n      <td>3.111716e+01</td>\n      <td>N/A</td>\n      <td>19.319657</td>\n      <td>N/A</td>\n      <td>1.766553e+01</td>\n      <td>N/A</td>\n      <td>N/A</td>\n    </tr>\n    <tr>\n      <th>227</th>\n      <td>HPQ</td>\n      <td>26.0150</td>\n      <td>N/A</td>\n      <td>11.213362</td>\n      <td>N/A</td>\n      <td>NaN</td>\n      <td>N/A</td>\n      <td>1.121336e+01</td>\n      <td>N/A</td>\n      <td>6.971085</td>\n      <td>N/A</td>\n      <td>2.837602e+00</td>\n      <td>N/A</td>\n      <td>N/A</td>\n    </tr>\n    <tr>\n      <th>283</th>\n      <td>LOW</td>\n      <td>198.0788</td>\n      <td>N/A</td>\n      <td>19.230951</td>\n      <td>N/A</td>\n      <td>NaN</td>\n      <td>N/A</td>\n      <td>1.923095e+01</td>\n      <td>N/A</td>\n      <td>10.968588</td>\n      <td>N/A</td>\n      <td>4.684696e+00</td>\n      <td>N/A</td>\n      <td>N/A</td>\n    </tr>\n    <tr>\n      <th>289</th>\n      <td>LYV</td>\n      <td>84.1400</td>\n      <td>N/A</td>\n      <td>76.490909</td>\n      <td>N/A</td>\n      <td>NaN</td>\n      <td>N/A</td>\n      <td>7.649091e+01</td>\n      <td>N/A</td>\n      <td>14.570642</td>\n      <td>N/A</td>\n      <td>4.753759e+00</td>\n      <td>N/A</td>\n      <td>N/A</td>\n    </tr>\n    <tr>\n      <th>292</th>\n      <td>MAR</td>\n      <td>192.9950</td>\n      <td>N/A</td>\n      <td>21.684831</td>\n      <td>N/A</td>\n      <td>NaN</td>\n      <td>N/A</td>\n      <td>2.168483e+01</td>\n      <td>N/A</td>\n      <td>16.039775</td>\n      <td>N/A</td>\n      <td>1.520224e+01</td>\n      <td>N/A</td>\n      <td>N/A</td>\n    </tr>\n    <tr>\n      <th>293</th>\n      <td>MAS</td>\n      <td>51.9400</td>\n      <td>N/A</td>\n      <td>14.467967</td>\n      <td>N/A</td>\n      <td>NaN</td>\n      <td>N/A</td>\n      <td>1.446797e+01</td>\n      <td>N/A</td>\n      <td>10.089728</td>\n      <td>N/A</td>\n      <td>5.373998e+00</td>\n      <td>N/A</td>\n      <td>N/A</td>\n    </tr>\n    <tr>\n      <th>294</th>\n      <td>MCD</td>\n      <td>254.8400</td>\n      <td>N/A</td>\n      <td>23.379817</td>\n      <td>N/A</td>\n      <td>NaN</td>\n      <td>N/A</td>\n      <td>2.337982e+01</td>\n      <td>N/A</td>\n      <td>17.875374</td>\n      <td>N/A</td>\n      <td>1.761456e+01</td>\n      <td>N/A</td>\n      <td>N/A</td>\n    </tr>\n    <tr>\n      <th>296</th>\n      <td>MCK</td>\n      <td>445.6600</td>\n      <td>N/A</td>\n      <td>16.475416</td>\n      <td>N/A</td>\n      <td>NaN</td>\n      <td>N/A</td>\n      <td>1.647542e+01</td>\n      <td>N/A</td>\n      <td>12.840567</td>\n      <td>N/A</td>\n      <td>5.256548e+00</td>\n      <td>N/A</td>\n      <td>N/A</td>\n    </tr>\n    <tr>\n      <th>310</th>\n      <td>MO</td>\n      <td>41.8050</td>\n      <td>N/A</td>\n      <td>10.858442</td>\n      <td>N/A</td>\n      <td>NaN</td>\n      <td>N/A</td>\n      <td>1.085844e+01</td>\n      <td>N/A</td>\n      <td>8.214169</td>\n      <td>N/A</td>\n      <td>7.055214e+00</td>\n      <td>N/A</td>\n      <td>N/A</td>\n    </tr>\n    <tr>\n      <th>319</th>\n      <td>MSCI</td>\n      <td>496.1900</td>\n      <td>N/A</td>\n      <td>43.525439</td>\n      <td>N/A</td>\n      <td>NaN</td>\n      <td>N/A</td>\n      <td>4.352544e+01</td>\n      <td>N/A</td>\n      <td>31.555442</td>\n      <td>N/A</td>\n      <td>2.337761e+01</td>\n      <td>N/A</td>\n      <td>N/A</td>\n    </tr>\n    <tr>\n      <th>323</th>\n      <td>MTCH</td>\n      <td>36.9600</td>\n      <td>N/A</td>\n      <td>22.536585</td>\n      <td>N/A</td>\n      <td>NaN</td>\n      <td>N/A</td>\n      <td>2.253659e+01</td>\n      <td>N/A</td>\n      <td>14.328333</td>\n      <td>N/A</td>\n      <td>6.047512e+00</td>\n      <td>N/A</td>\n      <td>N/A</td>\n    </tr>\n    <tr>\n      <th>324</th>\n      <td>MTD</td>\n      <td>1070.1900</td>\n      <td>N/A</td>\n      <td>26.855458</td>\n      <td>N/A</td>\n      <td>NaN</td>\n      <td>N/A</td>\n      <td>2.685546e+01</td>\n      <td>N/A</td>\n      <td>20.255002</td>\n      <td>N/A</td>\n      <td>1.103478e+01</td>\n      <td>N/A</td>\n      <td>N/A</td>\n    </tr>\n    <tr>\n      <th>349</th>\n      <td>OGN</td>\n      <td>16.1850</td>\n      <td>N/A</td>\n      <td>5.486441</td>\n      <td>N/A</td>\n      <td>NaN</td>\n      <td>N/A</td>\n      <td>5.486440e+00</td>\n      <td>N/A</td>\n      <td>7.307907</td>\n      <td>N/A</td>\n      <td>3.232054e+00</td>\n      <td>N/A</td>\n      <td>N/A</td>\n    </tr>\n    <tr>\n      <th>354</th>\n      <td>ORLY</td>\n      <td>898.2997</td>\n      <td>N/A</td>\n      <td>24.973581</td>\n      <td>N/A</td>\n      <td>NaN</td>\n      <td>N/A</td>\n      <td>2.497358e+01</td>\n      <td>N/A</td>\n      <td>17.758858</td>\n      <td>N/A</td>\n      <td>8.290339e+00</td>\n      <td>N/A</td>\n      <td>N/A</td>\n    </tr>\n    <tr>\n      <th>355</th>\n      <td>OTIS</td>\n      <td>79.2000</td>\n      <td>N/A</td>\n      <td>24.905660</td>\n      <td>N/A</td>\n      <td>NaN</td>\n      <td>N/A</td>\n      <td>2.490566e+01</td>\n      <td>N/A</td>\n      <td>16.628806</td>\n      <td>N/A</td>\n      <td>9.837296e+00</td>\n      <td>N/A</td>\n      <td>N/A</td>\n    </tr>\n    <tr>\n      <th>374</th>\n      <td>PM</td>\n      <td>91.5250</td>\n      <td>N/A</td>\n      <td>17.500000</td>\n      <td>N/A</td>\n      <td>NaN</td>\n      <td>N/A</td>\n      <td>1.750000e+01</td>\n      <td>N/A</td>\n      <td>13.767312</td>\n      <td>N/A</td>\n      <td>9.163106e+00</td>\n      <td>N/A</td>\n      <td>N/A</td>\n    </tr>\n    <tr>\n      <th>406</th>\n      <td>SBAC</td>\n      <td>188.5150</td>\n      <td>N/A</td>\n      <td>42.362921</td>\n      <td>N/A</td>\n      <td>NaN</td>\n      <td>N/A</td>\n      <td>4.236292e+01</td>\n      <td>N/A</td>\n      <td>20.202729</td>\n      <td>N/A</td>\n      <td>1.788549e+01</td>\n      <td>N/A</td>\n      <td>N/A</td>\n    </tr>\n    <tr>\n      <th>407</th>\n      <td>SBUX</td>\n      <td>91.6200</td>\n      <td>N/A</td>\n      <td>27.349254</td>\n      <td>N/A</td>\n      <td>NaN</td>\n      <td>N/A</td>\n      <td>2.734926e+01</td>\n      <td>N/A</td>\n      <td>19.331359</td>\n      <td>N/A</td>\n      <td>1.502106e+01</td>\n      <td>N/A</td>\n      <td>N/A</td>\n    </tr>\n    <tr>\n      <th>423</th>\n      <td>STX</td>\n      <td>66.1650</td>\n      <td>N/A</td>\n      <td>-25.845703</td>\n      <td>N/A</td>\n      <td>NaN</td>\n      <td>N/A</td>\n      <td>-2.584570e+01</td>\n      <td>N/A</td>\n      <td>34.268727</td>\n      <td>N/A</td>\n      <td>1.390027e+01</td>\n      <td>N/A</td>\n      <td>N/A</td>\n    </tr>\n    <tr>\n      <th>432</th>\n      <td>TDG</td>\n      <td>826.4800</td>\n      <td>N/A</td>\n      <td>44.126001</td>\n      <td>N/A</td>\n      <td>NaN</td>\n      <td>N/A</td>\n      <td>4.412600e+01</td>\n      <td>N/A</td>\n      <td>20.769115</td>\n      <td>N/A</td>\n      <td>2.009223e+01</td>\n      <td>N/A</td>\n      <td>N/A</td>\n    </tr>\n    <tr>\n      <th>471</th>\n      <td>VRSN</td>\n      <td>203.5600</td>\n      <td>N/A</td>\n      <td>29.803807</td>\n      <td>N/A</td>\n      <td>NaN</td>\n      <td>N/A</td>\n      <td>2.980381e+01</td>\n      <td>N/A</td>\n      <td>21.454733</td>\n      <td>N/A</td>\n      <td>1.784623e+01</td>\n      <td>N/A</td>\n      <td>N/A</td>\n    </tr>\n    <tr>\n      <th>493</th>\n      <td>WYNN</td>\n      <td>89.1900</td>\n      <td>N/A</td>\n      <td>-557.437500</td>\n      <td>N/A</td>\n      <td>NaN</td>\n      <td>N/A</td>\n      <td>-5.574375e+02</td>\n      <td>N/A</td>\n      <td>19.771256</td>\n      <td>N/A</td>\n      <td>1.593465e+01</td>\n      <td>N/A</td>\n      <td>N/A</td>\n    </tr>\n    <tr>\n      <th>498</th>\n      <td>YUM</td>\n      <td>122.9450</td>\n      <td>N/A</td>\n      <td>24.737425</td>\n      <td>N/A</td>\n      <td>NaN</td>\n      <td>N/A</td>\n      <td>2.473742e+01</td>\n      <td>N/A</td>\n      <td>19.409872</td>\n      <td>N/A</td>\n      <td>1.399835e+01</td>\n      <td>N/A</td>\n      <td>N/A</td>\n    </tr>\n  </tbody>\n</table>\n</div>"
     },
     "execution_count": 21,
     "metadata": {},
     "output_type": "execute_result"
    }
   ],
   "source": [
    "rv_dataframe[rv_dataframe.isnull().any(axis=1)]"
   ],
   "metadata": {
    "collapsed": false,
    "ExecuteTime": {
     "end_time": "2023-10-05T15:37:05.580426748Z",
     "start_time": "2023-10-05T15:37:03.326856923Z"
    }
   }
  },
  {
   "cell_type": "markdown",
   "source": [
    "## Dealing With Missing Data in Our DataFrame\n",
    "\n",
    "Our DataFrame contains some missing data which we have to fill with `mean` values."
   ],
   "metadata": {
    "collapsed": false
   }
  },
  {
   "cell_type": "code",
   "execution_count": 22,
   "outputs": [],
   "source": [
    "for column in ['Price-to-Earning Ratio', 'Price-to-Book Value', 'Price-to-Sales Ratio', 'EV/EBITDA', 'EV/GP']:\n",
    "    rv_dataframe[column].fillna(rv_dataframe[column].mean(), inplace=True)"
   ],
   "metadata": {
    "collapsed": false,
    "ExecuteTime": {
     "end_time": "2023-10-05T15:37:05.581764686Z",
     "start_time": "2023-10-05T15:37:04.362013579Z"
    }
   }
  },
  {
   "cell_type": "code",
   "execution_count": 23,
   "outputs": [
    {
     "data": {
      "text/plain": "Empty DataFrame\nColumns: [Ticker, Stock Price, Number of Shares to Buy, Price-to-Earning Ratio, PE Percentile, Price-to-Book Value, PB Percentile, Price-to-Sales Ratio, PS Percentile, EV/EBITDA, EV/EBITDA Percentile, EV/GP, EV/GP Percentile, RV Score]\nIndex: []",
      "text/html": "<div>\n<style scoped>\n    .dataframe tbody tr th:only-of-type {\n        vertical-align: middle;\n    }\n\n    .dataframe tbody tr th {\n        vertical-align: top;\n    }\n\n    .dataframe thead th {\n        text-align: right;\n    }\n</style>\n<table border=\"1\" class=\"dataframe\">\n  <thead>\n    <tr style=\"text-align: right;\">\n      <th></th>\n      <th>Ticker</th>\n      <th>Stock Price</th>\n      <th>Number of Shares to Buy</th>\n      <th>Price-to-Earning Ratio</th>\n      <th>PE Percentile</th>\n      <th>Price-to-Book Value</th>\n      <th>PB Percentile</th>\n      <th>Price-to-Sales Ratio</th>\n      <th>PS Percentile</th>\n      <th>EV/EBITDA</th>\n      <th>EV/EBITDA Percentile</th>\n      <th>EV/GP</th>\n      <th>EV/GP Percentile</th>\n      <th>RV Score</th>\n    </tr>\n  </thead>\n  <tbody>\n  </tbody>\n</table>\n</div>"
     },
     "execution_count": 23,
     "metadata": {},
     "output_type": "execute_result"
    }
   ],
   "source": [
    "rv_dataframe[rv_dataframe.isnull().any(axis=1)]"
   ],
   "metadata": {
    "collapsed": false,
    "ExecuteTime": {
     "end_time": "2023-10-05T15:37:06.262890836Z",
     "start_time": "2023-10-05T15:37:04.976437469Z"
    }
   }
  },
  {
   "cell_type": "markdown",
   "source": [
    "## Calculating Value Percentiles\n",
    "\n",
    "We now need to calculate value score percentiles for every stock in the universe. More specifically, we need to calculate percentile scores for the following metrics for every stock:\n",
    "\n",
    "* Price-to-earnings ratio\n",
    "* Price-to-book ratio\n",
    "* Price-to-sales ratio\n",
    "* EV/EBITDA\n",
    "* EV/GP"
   ],
   "metadata": {
    "collapsed": false
   }
  },
  {
   "cell_type": "code",
   "execution_count": 24,
   "outputs": [],
   "source": [
    "metrics = {\n",
    "    'Price-to-Earning Ratio': 'PE Percentile',\n",
    "    'Price-to-Book Value': 'PB Percentile',\n",
    "    'Price-to-Sales Ratio': 'PS Percentile',\n",
    "    'EV/EBITDA': 'EV/EBITDA Percentile',\n",
    "    'EV/GP': 'EV/GP Percentile'\n",
    "}\n",
    "\n",
    "for metric in metrics.keys():\n",
    "    for row in rv_dataframe.index:\n",
    "        rv_dataframe.loc[row, metrics[metric]] = score(rv_dataframe[metric], rv_dataframe.loc[row, metric])/100"
   ],
   "metadata": {
    "collapsed": false,
    "ExecuteTime": {
     "end_time": "2023-10-05T15:37:08.780584606Z",
     "start_time": "2023-10-05T15:37:05.957270148Z"
    }
   }
  },
  {
   "cell_type": "code",
   "execution_count": 25,
   "outputs": [
    {
     "data": {
      "text/plain": "    Ticker  Stock Price Number of Shares to Buy  Price-to-Earning Ratio  \\\n0        A      109.310                     N/A               28.690289   \n1      AAL       12.810                     N/A                3.425134   \n2      AAP       51.900                     N/A                8.963731   \n3     AAPL      173.500                     N/A               29.061977   \n4     ABBV      147.740                     N/A               30.336756   \n..     ...          ...                     ...                     ...   \n498    YUM      122.945                     N/A               24.737425   \n499    ZBH      108.760                     N/A               45.506276   \n500   ZBRA      219.950                     N/A               17.867587   \n501   ZION       33.400                     N/A                5.818815   \n502    ZTS      171.000                     N/A               35.849057   \n\n    PE Percentile  Price-to-Book Value PB Percentile  Price-to-Sales Ratio  \\\n0        0.717694             5.757400      0.675944             28.690287   \n1        0.081511            10.257804      0.846918              3.425134   \n2        0.178926             1.125667      0.085487              8.963730   \n3        0.725646            45.041540      0.976143             29.061978   \n4        0.751491            20.266119      0.952286             30.336757   \n..            ...                  ...           ...                   ...   \n498      0.612326            10.257804      0.846918             24.737425   \n499      0.882704             1.835612      0.264414             45.506275   \n500      0.431412             3.773633      0.544732             17.867586   \n501      0.107356             1.021688      0.067594              5.818815   \n502      0.805169            17.035265       0.93837             35.849058   \n\n    PS Percentile     EV/EBITDA EV/EBITDA Percentile         EV/GP  \\\n0        0.713718  1.900548e+01             0.735586  9.032962e+00   \n1        0.081511  5.204278e+00             0.059642  4.303593e+00   \n2         0.17495  8.499322e+00              0.16501  1.492409e+00   \n3        0.719682  2.226039e+01             0.813121  1.615704e+01   \n4        0.739563  1.073419e+01             0.294235  7.711503e+00   \n..            ...           ...                  ...           ...   \n498       0.60835  1.940987e+01             0.747515  1.399835e+01   \n499       0.87674  1.200298e+01             0.393638  5.756569e+00   \n500      0.423459  1.226272e+01             0.405567  5.192028e+00   \n501      0.107356  8.067043e+09             0.960239  8.067043e+09   \n502      0.795229  2.471945e+01             0.850895  1.489055e+01   \n\n    EV/GP Percentile RV Score  \n0           0.477137      N/A  \n1            0.15507      N/A  \n2           0.019881      N/A  \n3            0.77336      N/A  \n4           0.389662      N/A  \n..               ...      ...  \n498         0.723658      N/A  \n499         0.258449      N/A  \n500         0.208748      N/A  \n501         0.910537      N/A  \n502         0.739563      N/A  \n\n[503 rows x 14 columns]",
      "text/html": "<div>\n<style scoped>\n    .dataframe tbody tr th:only-of-type {\n        vertical-align: middle;\n    }\n\n    .dataframe tbody tr th {\n        vertical-align: top;\n    }\n\n    .dataframe thead th {\n        text-align: right;\n    }\n</style>\n<table border=\"1\" class=\"dataframe\">\n  <thead>\n    <tr style=\"text-align: right;\">\n      <th></th>\n      <th>Ticker</th>\n      <th>Stock Price</th>\n      <th>Number of Shares to Buy</th>\n      <th>Price-to-Earning Ratio</th>\n      <th>PE Percentile</th>\n      <th>Price-to-Book Value</th>\n      <th>PB Percentile</th>\n      <th>Price-to-Sales Ratio</th>\n      <th>PS Percentile</th>\n      <th>EV/EBITDA</th>\n      <th>EV/EBITDA Percentile</th>\n      <th>EV/GP</th>\n      <th>EV/GP Percentile</th>\n      <th>RV Score</th>\n    </tr>\n  </thead>\n  <tbody>\n    <tr>\n      <th>0</th>\n      <td>A</td>\n      <td>109.310</td>\n      <td>N/A</td>\n      <td>28.690289</td>\n      <td>0.717694</td>\n      <td>5.757400</td>\n      <td>0.675944</td>\n      <td>28.690287</td>\n      <td>0.713718</td>\n      <td>1.900548e+01</td>\n      <td>0.735586</td>\n      <td>9.032962e+00</td>\n      <td>0.477137</td>\n      <td>N/A</td>\n    </tr>\n    <tr>\n      <th>1</th>\n      <td>AAL</td>\n      <td>12.810</td>\n      <td>N/A</td>\n      <td>3.425134</td>\n      <td>0.081511</td>\n      <td>10.257804</td>\n      <td>0.846918</td>\n      <td>3.425134</td>\n      <td>0.081511</td>\n      <td>5.204278e+00</td>\n      <td>0.059642</td>\n      <td>4.303593e+00</td>\n      <td>0.15507</td>\n      <td>N/A</td>\n    </tr>\n    <tr>\n      <th>2</th>\n      <td>AAP</td>\n      <td>51.900</td>\n      <td>N/A</td>\n      <td>8.963731</td>\n      <td>0.178926</td>\n      <td>1.125667</td>\n      <td>0.085487</td>\n      <td>8.963730</td>\n      <td>0.17495</td>\n      <td>8.499322e+00</td>\n      <td>0.16501</td>\n      <td>1.492409e+00</td>\n      <td>0.019881</td>\n      <td>N/A</td>\n    </tr>\n    <tr>\n      <th>3</th>\n      <td>AAPL</td>\n      <td>173.500</td>\n      <td>N/A</td>\n      <td>29.061977</td>\n      <td>0.725646</td>\n      <td>45.041540</td>\n      <td>0.976143</td>\n      <td>29.061978</td>\n      <td>0.719682</td>\n      <td>2.226039e+01</td>\n      <td>0.813121</td>\n      <td>1.615704e+01</td>\n      <td>0.77336</td>\n      <td>N/A</td>\n    </tr>\n    <tr>\n      <th>4</th>\n      <td>ABBV</td>\n      <td>147.740</td>\n      <td>N/A</td>\n      <td>30.336756</td>\n      <td>0.751491</td>\n      <td>20.266119</td>\n      <td>0.952286</td>\n      <td>30.336757</td>\n      <td>0.739563</td>\n      <td>1.073419e+01</td>\n      <td>0.294235</td>\n      <td>7.711503e+00</td>\n      <td>0.389662</td>\n      <td>N/A</td>\n    </tr>\n    <tr>\n      <th>...</th>\n      <td>...</td>\n      <td>...</td>\n      <td>...</td>\n      <td>...</td>\n      <td>...</td>\n      <td>...</td>\n      <td>...</td>\n      <td>...</td>\n      <td>...</td>\n      <td>...</td>\n      <td>...</td>\n      <td>...</td>\n      <td>...</td>\n      <td>...</td>\n    </tr>\n    <tr>\n      <th>498</th>\n      <td>YUM</td>\n      <td>122.945</td>\n      <td>N/A</td>\n      <td>24.737425</td>\n      <td>0.612326</td>\n      <td>10.257804</td>\n      <td>0.846918</td>\n      <td>24.737425</td>\n      <td>0.60835</td>\n      <td>1.940987e+01</td>\n      <td>0.747515</td>\n      <td>1.399835e+01</td>\n      <td>0.723658</td>\n      <td>N/A</td>\n    </tr>\n    <tr>\n      <th>499</th>\n      <td>ZBH</td>\n      <td>108.760</td>\n      <td>N/A</td>\n      <td>45.506276</td>\n      <td>0.882704</td>\n      <td>1.835612</td>\n      <td>0.264414</td>\n      <td>45.506275</td>\n      <td>0.87674</td>\n      <td>1.200298e+01</td>\n      <td>0.393638</td>\n      <td>5.756569e+00</td>\n      <td>0.258449</td>\n      <td>N/A</td>\n    </tr>\n    <tr>\n      <th>500</th>\n      <td>ZBRA</td>\n      <td>219.950</td>\n      <td>N/A</td>\n      <td>17.867587</td>\n      <td>0.431412</td>\n      <td>3.773633</td>\n      <td>0.544732</td>\n      <td>17.867586</td>\n      <td>0.423459</td>\n      <td>1.226272e+01</td>\n      <td>0.405567</td>\n      <td>5.192028e+00</td>\n      <td>0.208748</td>\n      <td>N/A</td>\n    </tr>\n    <tr>\n      <th>501</th>\n      <td>ZION</td>\n      <td>33.400</td>\n      <td>N/A</td>\n      <td>5.818815</td>\n      <td>0.107356</td>\n      <td>1.021688</td>\n      <td>0.067594</td>\n      <td>5.818815</td>\n      <td>0.107356</td>\n      <td>8.067043e+09</td>\n      <td>0.960239</td>\n      <td>8.067043e+09</td>\n      <td>0.910537</td>\n      <td>N/A</td>\n    </tr>\n    <tr>\n      <th>502</th>\n      <td>ZTS</td>\n      <td>171.000</td>\n      <td>N/A</td>\n      <td>35.849057</td>\n      <td>0.805169</td>\n      <td>17.035265</td>\n      <td>0.93837</td>\n      <td>35.849058</td>\n      <td>0.795229</td>\n      <td>2.471945e+01</td>\n      <td>0.850895</td>\n      <td>1.489055e+01</td>\n      <td>0.739563</td>\n      <td>N/A</td>\n    </tr>\n  </tbody>\n</table>\n<p>503 rows × 14 columns</p>\n</div>"
     },
     "execution_count": 25,
     "metadata": {},
     "output_type": "execute_result"
    }
   ],
   "source": [
    "rv_dataframe"
   ],
   "metadata": {
    "collapsed": false,
    "ExecuteTime": {
     "end_time": "2023-10-05T15:37:08.781926958Z",
     "start_time": "2023-10-05T15:37:07.386148496Z"
    }
   }
  },
  {
   "cell_type": "markdown",
   "source": [
    "## Calculating the RV Score\n",
    "We'll now calculate our RV Score (which stands for Robust Value), which is the value score that we'll use to filter for stocks in this investing strategy.\n",
    "\n",
    "The RV Score will be the arithmetic mean of the 4 percentile scores that we calculated in the last section.\n",
    "\n",
    "To calculate arithmetic mean, we will use the mean function from Python's built-in statistics module."
   ],
   "metadata": {
    "collapsed": false
   }
  },
  {
   "cell_type": "code",
   "execution_count": 26,
   "outputs": [],
   "source": [
    "for row in rv_dataframe.index:\n",
    "    value_percentiles = []\n",
    "    for metric in metrics.keys():\n",
    "        value_percentiles.append(rv_dataframe.loc[row, metrics[metric]])\n",
    "    rv_dataframe.loc[row, 'RV Score'] = mean(value_percentiles)"
   ],
   "metadata": {
    "collapsed": false,
    "ExecuteTime": {
     "end_time": "2023-10-05T15:37:08.782524907Z",
     "start_time": "2023-10-05T15:37:07.405532063Z"
    }
   }
  },
  {
   "cell_type": "code",
   "execution_count": 27,
   "outputs": [
    {
     "data": {
      "text/plain": "    Ticker  Stock Price Number of Shares to Buy  Price-to-Earning Ratio  \\\n0        A      109.310                     N/A               28.690289   \n1      AAL       12.810                     N/A                3.425134   \n2      AAP       51.900                     N/A                8.963731   \n3     AAPL      173.500                     N/A               29.061977   \n4     ABBV      147.740                     N/A               30.336756   \n..     ...          ...                     ...                     ...   \n498    YUM      122.945                     N/A               24.737425   \n499    ZBH      108.760                     N/A               45.506276   \n500   ZBRA      219.950                     N/A               17.867587   \n501   ZION       33.400                     N/A                5.818815   \n502    ZTS      171.000                     N/A               35.849057   \n\n    PE Percentile  Price-to-Book Value PB Percentile  Price-to-Sales Ratio  \\\n0        0.717694             5.757400      0.675944             28.690287   \n1        0.081511            10.257804      0.846918              3.425134   \n2        0.178926             1.125667      0.085487              8.963730   \n3        0.725646            45.041540      0.976143             29.061978   \n4        0.751491            20.266119      0.952286             30.336757   \n..            ...                  ...           ...                   ...   \n498      0.612326            10.257804      0.846918             24.737425   \n499      0.882704             1.835612      0.264414             45.506275   \n500      0.431412             3.773633      0.544732             17.867586   \n501      0.107356             1.021688      0.067594              5.818815   \n502      0.805169            17.035265       0.93837             35.849058   \n\n    PS Percentile     EV/EBITDA EV/EBITDA Percentile         EV/GP  \\\n0        0.713718  1.900548e+01             0.735586  9.032962e+00   \n1        0.081511  5.204278e+00             0.059642  4.303593e+00   \n2         0.17495  8.499322e+00              0.16501  1.492409e+00   \n3        0.719682  2.226039e+01             0.813121  1.615704e+01   \n4        0.739563  1.073419e+01             0.294235  7.711503e+00   \n..            ...           ...                  ...           ...   \n498       0.60835  1.940987e+01             0.747515  1.399835e+01   \n499       0.87674  1.200298e+01             0.393638  5.756569e+00   \n500      0.423459  1.226272e+01             0.405567  5.192028e+00   \n501      0.107356  8.067043e+09             0.960239  8.067043e+09   \n502      0.795229  2.471945e+01             0.850895  1.489055e+01   \n\n    EV/GP Percentile  RV Score  \n0           0.477137  0.664016  \n1            0.15507   0.24493  \n2           0.019881  0.124851  \n3            0.77336   0.80159  \n4           0.389662  0.625447  \n..               ...       ...  \n498         0.723658  0.707753  \n499         0.258449  0.535189  \n500         0.208748  0.402783  \n501         0.910537  0.430616  \n502         0.739563  0.825845  \n\n[503 rows x 14 columns]",
      "text/html": "<div>\n<style scoped>\n    .dataframe tbody tr th:only-of-type {\n        vertical-align: middle;\n    }\n\n    .dataframe tbody tr th {\n        vertical-align: top;\n    }\n\n    .dataframe thead th {\n        text-align: right;\n    }\n</style>\n<table border=\"1\" class=\"dataframe\">\n  <thead>\n    <tr style=\"text-align: right;\">\n      <th></th>\n      <th>Ticker</th>\n      <th>Stock Price</th>\n      <th>Number of Shares to Buy</th>\n      <th>Price-to-Earning Ratio</th>\n      <th>PE Percentile</th>\n      <th>Price-to-Book Value</th>\n      <th>PB Percentile</th>\n      <th>Price-to-Sales Ratio</th>\n      <th>PS Percentile</th>\n      <th>EV/EBITDA</th>\n      <th>EV/EBITDA Percentile</th>\n      <th>EV/GP</th>\n      <th>EV/GP Percentile</th>\n      <th>RV Score</th>\n    </tr>\n  </thead>\n  <tbody>\n    <tr>\n      <th>0</th>\n      <td>A</td>\n      <td>109.310</td>\n      <td>N/A</td>\n      <td>28.690289</td>\n      <td>0.717694</td>\n      <td>5.757400</td>\n      <td>0.675944</td>\n      <td>28.690287</td>\n      <td>0.713718</td>\n      <td>1.900548e+01</td>\n      <td>0.735586</td>\n      <td>9.032962e+00</td>\n      <td>0.477137</td>\n      <td>0.664016</td>\n    </tr>\n    <tr>\n      <th>1</th>\n      <td>AAL</td>\n      <td>12.810</td>\n      <td>N/A</td>\n      <td>3.425134</td>\n      <td>0.081511</td>\n      <td>10.257804</td>\n      <td>0.846918</td>\n      <td>3.425134</td>\n      <td>0.081511</td>\n      <td>5.204278e+00</td>\n      <td>0.059642</td>\n      <td>4.303593e+00</td>\n      <td>0.15507</td>\n      <td>0.24493</td>\n    </tr>\n    <tr>\n      <th>2</th>\n      <td>AAP</td>\n      <td>51.900</td>\n      <td>N/A</td>\n      <td>8.963731</td>\n      <td>0.178926</td>\n      <td>1.125667</td>\n      <td>0.085487</td>\n      <td>8.963730</td>\n      <td>0.17495</td>\n      <td>8.499322e+00</td>\n      <td>0.16501</td>\n      <td>1.492409e+00</td>\n      <td>0.019881</td>\n      <td>0.124851</td>\n    </tr>\n    <tr>\n      <th>3</th>\n      <td>AAPL</td>\n      <td>173.500</td>\n      <td>N/A</td>\n      <td>29.061977</td>\n      <td>0.725646</td>\n      <td>45.041540</td>\n      <td>0.976143</td>\n      <td>29.061978</td>\n      <td>0.719682</td>\n      <td>2.226039e+01</td>\n      <td>0.813121</td>\n      <td>1.615704e+01</td>\n      <td>0.77336</td>\n      <td>0.80159</td>\n    </tr>\n    <tr>\n      <th>4</th>\n      <td>ABBV</td>\n      <td>147.740</td>\n      <td>N/A</td>\n      <td>30.336756</td>\n      <td>0.751491</td>\n      <td>20.266119</td>\n      <td>0.952286</td>\n      <td>30.336757</td>\n      <td>0.739563</td>\n      <td>1.073419e+01</td>\n      <td>0.294235</td>\n      <td>7.711503e+00</td>\n      <td>0.389662</td>\n      <td>0.625447</td>\n    </tr>\n    <tr>\n      <th>...</th>\n      <td>...</td>\n      <td>...</td>\n      <td>...</td>\n      <td>...</td>\n      <td>...</td>\n      <td>...</td>\n      <td>...</td>\n      <td>...</td>\n      <td>...</td>\n      <td>...</td>\n      <td>...</td>\n      <td>...</td>\n      <td>...</td>\n      <td>...</td>\n    </tr>\n    <tr>\n      <th>498</th>\n      <td>YUM</td>\n      <td>122.945</td>\n      <td>N/A</td>\n      <td>24.737425</td>\n      <td>0.612326</td>\n      <td>10.257804</td>\n      <td>0.846918</td>\n      <td>24.737425</td>\n      <td>0.60835</td>\n      <td>1.940987e+01</td>\n      <td>0.747515</td>\n      <td>1.399835e+01</td>\n      <td>0.723658</td>\n      <td>0.707753</td>\n    </tr>\n    <tr>\n      <th>499</th>\n      <td>ZBH</td>\n      <td>108.760</td>\n      <td>N/A</td>\n      <td>45.506276</td>\n      <td>0.882704</td>\n      <td>1.835612</td>\n      <td>0.264414</td>\n      <td>45.506275</td>\n      <td>0.87674</td>\n      <td>1.200298e+01</td>\n      <td>0.393638</td>\n      <td>5.756569e+00</td>\n      <td>0.258449</td>\n      <td>0.535189</td>\n    </tr>\n    <tr>\n      <th>500</th>\n      <td>ZBRA</td>\n      <td>219.950</td>\n      <td>N/A</td>\n      <td>17.867587</td>\n      <td>0.431412</td>\n      <td>3.773633</td>\n      <td>0.544732</td>\n      <td>17.867586</td>\n      <td>0.423459</td>\n      <td>1.226272e+01</td>\n      <td>0.405567</td>\n      <td>5.192028e+00</td>\n      <td>0.208748</td>\n      <td>0.402783</td>\n    </tr>\n    <tr>\n      <th>501</th>\n      <td>ZION</td>\n      <td>33.400</td>\n      <td>N/A</td>\n      <td>5.818815</td>\n      <td>0.107356</td>\n      <td>1.021688</td>\n      <td>0.067594</td>\n      <td>5.818815</td>\n      <td>0.107356</td>\n      <td>8.067043e+09</td>\n      <td>0.960239</td>\n      <td>8.067043e+09</td>\n      <td>0.910537</td>\n      <td>0.430616</td>\n    </tr>\n    <tr>\n      <th>502</th>\n      <td>ZTS</td>\n      <td>171.000</td>\n      <td>N/A</td>\n      <td>35.849057</td>\n      <td>0.805169</td>\n      <td>17.035265</td>\n      <td>0.93837</td>\n      <td>35.849058</td>\n      <td>0.795229</td>\n      <td>2.471945e+01</td>\n      <td>0.850895</td>\n      <td>1.489055e+01</td>\n      <td>0.739563</td>\n      <td>0.825845</td>\n    </tr>\n  </tbody>\n</table>\n<p>503 rows × 14 columns</p>\n</div>"
     },
     "execution_count": 27,
     "metadata": {},
     "output_type": "execute_result"
    }
   ],
   "source": [
    "rv_dataframe"
   ],
   "metadata": {
    "collapsed": false,
    "ExecuteTime": {
     "end_time": "2023-10-05T15:37:08.783486277Z",
     "start_time": "2023-10-05T15:37:08.133329518Z"
    }
   }
  },
  {
   "cell_type": "markdown",
   "source": [
    "## Selecting the 50 Best Value Stocks¶\n",
    "\n",
    "As before, we can identify the 50 best value stocks in our universe by sorting the DataFrame on the RV Score column and dropping all but the top 50 entries."
   ],
   "metadata": {
    "collapsed": false
   }
  },
  {
   "cell_type": "code",
   "execution_count": 28,
   "outputs": [],
   "source": [
    "rv_dataframe.sort_values('RV Score', ascending=True, inplace=True)"
   ],
   "metadata": {
    "collapsed": false,
    "ExecuteTime": {
     "end_time": "2023-10-05T15:37:08.783701192Z",
     "start_time": "2023-10-05T15:37:08.314442349Z"
    }
   }
  },
  {
   "cell_type": "code",
   "execution_count": 29,
   "outputs": [],
   "source": [
    "rv_dataframe = rv_dataframe[:50]\n",
    "rv_dataframe.reset_index(drop=True, inplace=True)"
   ],
   "metadata": {
    "collapsed": false,
    "ExecuteTime": {
     "end_time": "2023-10-05T15:37:08.783854736Z",
     "start_time": "2023-10-05T15:37:08.535014937Z"
    }
   }
  },
  {
   "cell_type": "code",
   "execution_count": 30,
   "outputs": [
    {
     "data": {
      "text/plain": "   Ticker  Stock Price Number of Shares to Buy  Price-to-Earning Ratio  \\\n0     MHK      80.6100                     N/A              -16.828810   \n1       C      39.4800                     N/A                6.266667   \n2     MOS      33.7750                     N/A                5.335703   \n3     EQT      41.0300                     N/A                4.493976   \n4       T      14.6650                     N/A              -12.642241   \n5    PARA      11.6150                     N/A               -4.683468   \n6     STT      63.6550                     N/A                8.613667   \n7     WRK      36.2850                     N/A               -6.537838   \n8     IVZ      13.4250                     N/A                9.589286   \n9    VTRS       9.7650                     N/A                6.642857   \n10    JPM     141.4200                     N/A                9.088689   \n11    VLO     128.0300                     N/A                4.577404   \n12    UAL      41.3800                     N/A                5.127633   \n13     BK      41.3000                     N/A               12.005814   \n14    LEN     108.7200                     N/A                8.011791   \n15    PSX     109.4350                     N/A                4.938403   \n16    PHM      72.5800                     N/A                5.905614   \n17   CTRA      26.0050                     N/A                6.685090   \n18    AAP      51.9000                     N/A                8.963731   \n19     GS     305.8700                     N/A               12.905907   \n20     VZ      31.4641                     N/A                6.292820   \n21    NWL       7.6500                     N/A              -10.337838   \n22   STLD     106.4800                     N/A                6.144259   \n23     GM      30.5350                     N/A                4.412572   \n24    MRO      24.3300                     N/A                7.925081   \n25     IP      35.0492                     N/A                8.611597   \n26    BWA      38.4600                     N/A                9.403423   \n27    MPC     142.4400                     N/A                5.420091   \n28    WBD       9.9800                     N/A               -3.929134   \n29    SJM     118.7850                     N/A            -1187.850000   \n30    DHI     104.1700                     N/A                7.305049   \n31    NUE     156.3400                     N/A                7.145338   \n32     MS      78.2500                     N/A               13.752197   \n33   FANG     145.4000                     N/A                7.817204   \n34     CF      82.2750                     N/A                6.793972   \n35    DVN      43.1150                     N/A                5.890027   \n36    PFE      33.1450                     N/A                8.815160   \n37     BG     104.4300                     N/A                8.164973   \n38    ALB     152.4200                     N/A                4.582682   \n39    WDC      45.9400                     N/A               -8.491682   \n40    TPR      27.5500                     N/A                6.957071   \n41    NRG      38.0500                     N/A               -4.388697   \n42    EOG     119.3000                     N/A                8.371930   \n43    DXC      21.1200                     N/A               -7.680000   \n44    UHS     123.8600                     N/A               12.942529   \n45    CNC      68.6800                     N/A               14.131687   \n46    XOM     109.6550                     N/A                8.772400   \n47    BEN      23.4900                     N/A               14.681250   \n48    NEM      35.8250                     N/A              -36.556122   \n49    CVX     164.1300                     N/A               10.407736   \n\n   PE Percentile  Price-to-Book Value PB Percentile  Price-to-Sales Ratio  \\\n0       0.037773             0.625538      0.017893            -16.828810   \n1       0.119284             0.403380      0.005964              6.266667   \n2       0.099404             0.904574       0.04175              5.335703   \n3       0.087475             1.235955      0.111332              4.493976   \n4        0.04175             1.028906      0.073559            -12.754428   \n5       0.069583             0.349176      0.003976             -5.066364   \n6       0.168986             0.922416      0.047714              8.613667   \n7       0.063618             0.929265       0.05169             -6.537838   \n8       0.188867             0.532126      0.007952              9.589286   \n9       0.125249             0.561788      0.011928              6.642858   \n10      0.180915             1.441458      0.157058              9.088689   \n11      0.089463             1.748876      0.246521              4.577404   \n12      0.095427             1.761451      0.252485              5.127633   \n13      0.250497             0.891085      0.039761             12.005814   \n14      0.157058             1.204961      0.101392              9.022201   \n15      0.093439             1.629879        0.2167              4.938402   \n16      0.111332             1.644500      0.218688              5.905614   \n17      0.127237             1.550963      0.194831              6.817083   \n18      0.178926             1.125667      0.085487              8.963730   \n19       0.27833             1.006572      0.063618             12.905907   \n20      0.121272             1.389573      0.141153              6.292820   \n21      0.049702             0.955892      0.055666            -10.337838   \n22      0.115308             2.034507      0.298211              6.144259   \n23      0.085487             0.596596      0.015905              4.412572   \n24       0.15507             1.311307       0.12326              7.925082   \n25      0.166998             1.443007      0.161034              8.611597   \n26      0.184891             1.197273      0.099404              9.403423   \n27      0.101392             2.243468      0.349901              5.420092   \n28      0.075547             0.535092       0.00994             -3.929134   \n29      0.003976             1.732267      0.242545          -1187.850026   \n30      0.145129             1.626894      0.212724              7.305049   \n31      0.143141             1.948769      0.286282              7.145338   \n32      0.292247             1.416418      0.153082             13.752197   \n33      0.153082             1.675366      0.228628              7.817204   \n34      0.131213             2.734933      0.437376              6.793972   \n35      0.109344             2.507707      0.389662              5.890027   \n36      0.176938             1.889573       0.27833              8.815160   \n37      0.161034             1.487501      0.182903              8.164973   \n38      0.091451             1.822138      0.258449              4.582682   \n39      0.053678             1.363771      0.135189             -8.491682   \n40      0.137177             2.750324      0.439364              6.957071   \n41      0.073559             3.269181      0.497018             -4.388697   \n42       0.16501             2.645350      0.421471              8.371930   \n43      0.055666             1.356803      0.133201             -7.680000   \n44      0.280318             1.411993      0.149105             14.450220   \n45      0.304175             1.460779      0.170974             14.131687   \n46      0.172962             2.205362      0.337972              8.772400   \n47      0.335984             0.981080      0.059642             14.681250   \n48      0.019881             1.477746       0.17495            -36.556124   \n49      0.202783             1.935701      0.284294             10.407737   \n\n   PS Percentile     EV/EBITDA EV/EBITDA Percentile         EV/GP  \\\n0       0.037773  5.828358e+00             0.085487  2.728304e+00   \n1       0.119284 -3.310204e+11             0.001988 -3.310204e+11   \n2       0.099404  3.830500e+00             0.031809  2.507481e+00   \n3       0.087475  3.069075e+00             0.025845  2.523358e+00   \n4        0.04175  6.102095e+00             0.093439  3.789527e+00   \n5       0.067594  9.438663e+00             0.210736  2.240412e+00   \n6       0.166998 -3.813297e+10             0.011928 -3.813297e+10   \n7       0.063618  6.367142e+00             0.101392  4.661298e+00   \n8       0.186879  5.287631e+00              0.06163  1.500147e+00   \n9       0.125249  5.820450e+00             0.081511  4.594276e+00   \n10      0.178926 -2.748477e+11             0.003976 -2.748477e+11   \n11      0.089463  2.923177e+00             0.023857  3.072032e+00   \n12      0.095427  3.922116e+00             0.037773  2.845377e+00   \n13      0.246521 -6.839931e+10             0.007952 -6.839931e+10   \n14      0.176938  5.674901e+00             0.071571  2.991070e+00   \n15      0.093439  5.638725e+00             0.069583  3.557821e+00   \n16      0.111332  4.500337e+00             0.049702  3.441696e+00   \n17      0.131213  3.876387e+00             0.035785  3.623172e+00   \n18       0.17495  8.499322e+00              0.16501  1.492409e+00   \n19      0.272366 -2.293855e+11             0.005964 -2.293855e+11   \n20      0.121272  6.463604e+00             0.105368  3.985204e+00   \n21      0.049702  1.192238e+01             0.387674  3.163596e+00   \n22      0.115308  4.332276e+00             0.043738  3.043303e+00   \n23      0.085487  7.944211e+00             0.147117  6.458434e+00   \n24       0.15507  4.496462e+00             0.047714  4.699442e+00   \n25       0.16501  6.870424e+00             0.115308  2.934029e+00   \n26      0.182903  5.307944e+00             0.063618  4.077241e+00   \n27      0.101392  3.638474e+00             0.029821  3.281995e+00   \n28      0.075547  1.115897e+01             0.326044  5.122695e+00   \n29      0.003976  9.300357e+00             0.204771  5.684179e+00   \n30      0.145129  5.916010e+00             0.089463  3.644529e+00   \n31      0.143141  4.567378e+00              0.05169  3.226007e+00   \n32      0.282306 -6.185510e+10              0.00994 -6.185510e+10   \n33      0.153082  5.176762e+00             0.057654  4.882426e+00   \n34      0.129225  3.602129e+00             0.027833  2.712813e+00   \n35      0.109344  3.848690e+00             0.033797  4.061152e+00   \n36      0.172962  6.695129e+00              0.11332  3.152553e+00   \n37      0.159046  5.843193e+00             0.087475  5.479778e+00   \n38      0.091451  5.517248e+00             0.067594  6.488751e+00   \n39      0.053678 -7.858946e+01             0.015905  1.066184e+01   \n40      0.137177  6.544666e+00             0.109344  1.880295e+00   \n41      0.073559 -1.737713e+01             0.017893  5.026093e+00   \n42      0.163022  4.659813e+00             0.053678  2.868936e+00   \n43      0.055666  1.645364e+01             0.604374  2.588968e+00   \n44      0.310139  7.899472e+00             0.145129  1.148142e+00   \n45      0.294235  6.201073e+00             0.095427  2.351091e+00   \n46      0.170974  5.674922e+00             0.073559  4.357434e+00   \n47      0.326044  5.823080e+00             0.083499  3.546781e+00   \n48      0.019881  9.260216e+00             0.202783  9.600874e+00   \n49      0.200795  6.298297e+00             0.099404  4.392939e+00   \n\n   EV/GP Percentile  RV Score  \n0          0.055666  0.046918  \n1          0.001988  0.049702  \n2          0.047714  0.064016  \n3          0.049702  0.072366  \n4          0.131213  0.076342  \n5          0.039761   0.07833  \n6          0.011928  0.081511  \n7          0.166998  0.089463  \n8          0.021869  0.093439  \n9          0.163022  0.101392  \n10         0.003976   0.10497  \n11         0.085487  0.106958  \n12         0.065606  0.109344  \n13         0.007952  0.110537  \n14         0.073559  0.116103  \n15         0.119284  0.118489  \n16         0.111332  0.120477  \n17          0.12326  0.122465  \n18         0.019881  0.124851  \n19         0.005964  0.125249  \n20         0.139165  0.125646  \n21         0.091451  0.126839  \n22         0.075547  0.129622  \n23         0.314115  0.129622  \n24         0.172962  0.130815  \n25         0.069583  0.135586  \n26         0.147117  0.135586  \n27         0.101392  0.136779  \n28         0.200795  0.137575  \n29         0.250497  0.141153  \n30         0.127237  0.143936  \n31         0.095427  0.143936  \n32          0.00994  0.149503  \n33         0.182903   0.15507  \n34         0.053678  0.155865  \n35         0.145129  0.157455  \n36         0.087475  0.165805  \n37         0.238569  0.165805  \n38          0.32008  0.165805  \n39         0.582505  0.168191  \n40         0.027833  0.170179  \n41         0.192843  0.170974  \n42         0.067594  0.174155  \n43          0.05169  0.180119  \n44         0.015905  0.180119  \n45          0.04175  0.181312  \n46         0.157058  0.182505  \n47         0.117296  0.184493  \n48         0.508946  0.185288  \n49         0.159046  0.189264  ",
      "text/html": "<div>\n<style scoped>\n    .dataframe tbody tr th:only-of-type {\n        vertical-align: middle;\n    }\n\n    .dataframe tbody tr th {\n        vertical-align: top;\n    }\n\n    .dataframe thead th {\n        text-align: right;\n    }\n</style>\n<table border=\"1\" class=\"dataframe\">\n  <thead>\n    <tr style=\"text-align: right;\">\n      <th></th>\n      <th>Ticker</th>\n      <th>Stock Price</th>\n      <th>Number of Shares to Buy</th>\n      <th>Price-to-Earning Ratio</th>\n      <th>PE Percentile</th>\n      <th>Price-to-Book Value</th>\n      <th>PB Percentile</th>\n      <th>Price-to-Sales Ratio</th>\n      <th>PS Percentile</th>\n      <th>EV/EBITDA</th>\n      <th>EV/EBITDA Percentile</th>\n      <th>EV/GP</th>\n      <th>EV/GP Percentile</th>\n      <th>RV Score</th>\n    </tr>\n  </thead>\n  <tbody>\n    <tr>\n      <th>0</th>\n      <td>MHK</td>\n      <td>80.6100</td>\n      <td>N/A</td>\n      <td>-16.828810</td>\n      <td>0.037773</td>\n      <td>0.625538</td>\n      <td>0.017893</td>\n      <td>-16.828810</td>\n      <td>0.037773</td>\n      <td>5.828358e+00</td>\n      <td>0.085487</td>\n      <td>2.728304e+00</td>\n      <td>0.055666</td>\n      <td>0.046918</td>\n    </tr>\n    <tr>\n      <th>1</th>\n      <td>C</td>\n      <td>39.4800</td>\n      <td>N/A</td>\n      <td>6.266667</td>\n      <td>0.119284</td>\n      <td>0.403380</td>\n      <td>0.005964</td>\n      <td>6.266667</td>\n      <td>0.119284</td>\n      <td>-3.310204e+11</td>\n      <td>0.001988</td>\n      <td>-3.310204e+11</td>\n      <td>0.001988</td>\n      <td>0.049702</td>\n    </tr>\n    <tr>\n      <th>2</th>\n      <td>MOS</td>\n      <td>33.7750</td>\n      <td>N/A</td>\n      <td>5.335703</td>\n      <td>0.099404</td>\n      <td>0.904574</td>\n      <td>0.04175</td>\n      <td>5.335703</td>\n      <td>0.099404</td>\n      <td>3.830500e+00</td>\n      <td>0.031809</td>\n      <td>2.507481e+00</td>\n      <td>0.047714</td>\n      <td>0.064016</td>\n    </tr>\n    <tr>\n      <th>3</th>\n      <td>EQT</td>\n      <td>41.0300</td>\n      <td>N/A</td>\n      <td>4.493976</td>\n      <td>0.087475</td>\n      <td>1.235955</td>\n      <td>0.111332</td>\n      <td>4.493976</td>\n      <td>0.087475</td>\n      <td>3.069075e+00</td>\n      <td>0.025845</td>\n      <td>2.523358e+00</td>\n      <td>0.049702</td>\n      <td>0.072366</td>\n    </tr>\n    <tr>\n      <th>4</th>\n      <td>T</td>\n      <td>14.6650</td>\n      <td>N/A</td>\n      <td>-12.642241</td>\n      <td>0.04175</td>\n      <td>1.028906</td>\n      <td>0.073559</td>\n      <td>-12.754428</td>\n      <td>0.04175</td>\n      <td>6.102095e+00</td>\n      <td>0.093439</td>\n      <td>3.789527e+00</td>\n      <td>0.131213</td>\n      <td>0.076342</td>\n    </tr>\n    <tr>\n      <th>5</th>\n      <td>PARA</td>\n      <td>11.6150</td>\n      <td>N/A</td>\n      <td>-4.683468</td>\n      <td>0.069583</td>\n      <td>0.349176</td>\n      <td>0.003976</td>\n      <td>-5.066364</td>\n      <td>0.067594</td>\n      <td>9.438663e+00</td>\n      <td>0.210736</td>\n      <td>2.240412e+00</td>\n      <td>0.039761</td>\n      <td>0.07833</td>\n    </tr>\n    <tr>\n      <th>6</th>\n      <td>STT</td>\n      <td>63.6550</td>\n      <td>N/A</td>\n      <td>8.613667</td>\n      <td>0.168986</td>\n      <td>0.922416</td>\n      <td>0.047714</td>\n      <td>8.613667</td>\n      <td>0.166998</td>\n      <td>-3.813297e+10</td>\n      <td>0.011928</td>\n      <td>-3.813297e+10</td>\n      <td>0.011928</td>\n      <td>0.081511</td>\n    </tr>\n    <tr>\n      <th>7</th>\n      <td>WRK</td>\n      <td>36.2850</td>\n      <td>N/A</td>\n      <td>-6.537838</td>\n      <td>0.063618</td>\n      <td>0.929265</td>\n      <td>0.05169</td>\n      <td>-6.537838</td>\n      <td>0.063618</td>\n      <td>6.367142e+00</td>\n      <td>0.101392</td>\n      <td>4.661298e+00</td>\n      <td>0.166998</td>\n      <td>0.089463</td>\n    </tr>\n    <tr>\n      <th>8</th>\n      <td>IVZ</td>\n      <td>13.4250</td>\n      <td>N/A</td>\n      <td>9.589286</td>\n      <td>0.188867</td>\n      <td>0.532126</td>\n      <td>0.007952</td>\n      <td>9.589286</td>\n      <td>0.186879</td>\n      <td>5.287631e+00</td>\n      <td>0.06163</td>\n      <td>1.500147e+00</td>\n      <td>0.021869</td>\n      <td>0.093439</td>\n    </tr>\n    <tr>\n      <th>9</th>\n      <td>VTRS</td>\n      <td>9.7650</td>\n      <td>N/A</td>\n      <td>6.642857</td>\n      <td>0.125249</td>\n      <td>0.561788</td>\n      <td>0.011928</td>\n      <td>6.642858</td>\n      <td>0.125249</td>\n      <td>5.820450e+00</td>\n      <td>0.081511</td>\n      <td>4.594276e+00</td>\n      <td>0.163022</td>\n      <td>0.101392</td>\n    </tr>\n    <tr>\n      <th>10</th>\n      <td>JPM</td>\n      <td>141.4200</td>\n      <td>N/A</td>\n      <td>9.088689</td>\n      <td>0.180915</td>\n      <td>1.441458</td>\n      <td>0.157058</td>\n      <td>9.088689</td>\n      <td>0.178926</td>\n      <td>-2.748477e+11</td>\n      <td>0.003976</td>\n      <td>-2.748477e+11</td>\n      <td>0.003976</td>\n      <td>0.10497</td>\n    </tr>\n    <tr>\n      <th>11</th>\n      <td>VLO</td>\n      <td>128.0300</td>\n      <td>N/A</td>\n      <td>4.577404</td>\n      <td>0.089463</td>\n      <td>1.748876</td>\n      <td>0.246521</td>\n      <td>4.577404</td>\n      <td>0.089463</td>\n      <td>2.923177e+00</td>\n      <td>0.023857</td>\n      <td>3.072032e+00</td>\n      <td>0.085487</td>\n      <td>0.106958</td>\n    </tr>\n    <tr>\n      <th>12</th>\n      <td>UAL</td>\n      <td>41.3800</td>\n      <td>N/A</td>\n      <td>5.127633</td>\n      <td>0.095427</td>\n      <td>1.761451</td>\n      <td>0.252485</td>\n      <td>5.127633</td>\n      <td>0.095427</td>\n      <td>3.922116e+00</td>\n      <td>0.037773</td>\n      <td>2.845377e+00</td>\n      <td>0.065606</td>\n      <td>0.109344</td>\n    </tr>\n    <tr>\n      <th>13</th>\n      <td>BK</td>\n      <td>41.3000</td>\n      <td>N/A</td>\n      <td>12.005814</td>\n      <td>0.250497</td>\n      <td>0.891085</td>\n      <td>0.039761</td>\n      <td>12.005814</td>\n      <td>0.246521</td>\n      <td>-6.839931e+10</td>\n      <td>0.007952</td>\n      <td>-6.839931e+10</td>\n      <td>0.007952</td>\n      <td>0.110537</td>\n    </tr>\n    <tr>\n      <th>14</th>\n      <td>LEN</td>\n      <td>108.7200</td>\n      <td>N/A</td>\n      <td>8.011791</td>\n      <td>0.157058</td>\n      <td>1.204961</td>\n      <td>0.101392</td>\n      <td>9.022201</td>\n      <td>0.176938</td>\n      <td>5.674901e+00</td>\n      <td>0.071571</td>\n      <td>2.991070e+00</td>\n      <td>0.073559</td>\n      <td>0.116103</td>\n    </tr>\n    <tr>\n      <th>15</th>\n      <td>PSX</td>\n      <td>109.4350</td>\n      <td>N/A</td>\n      <td>4.938403</td>\n      <td>0.093439</td>\n      <td>1.629879</td>\n      <td>0.2167</td>\n      <td>4.938402</td>\n      <td>0.093439</td>\n      <td>5.638725e+00</td>\n      <td>0.069583</td>\n      <td>3.557821e+00</td>\n      <td>0.119284</td>\n      <td>0.118489</td>\n    </tr>\n    <tr>\n      <th>16</th>\n      <td>PHM</td>\n      <td>72.5800</td>\n      <td>N/A</td>\n      <td>5.905614</td>\n      <td>0.111332</td>\n      <td>1.644500</td>\n      <td>0.218688</td>\n      <td>5.905614</td>\n      <td>0.111332</td>\n      <td>4.500337e+00</td>\n      <td>0.049702</td>\n      <td>3.441696e+00</td>\n      <td>0.111332</td>\n      <td>0.120477</td>\n    </tr>\n    <tr>\n      <th>17</th>\n      <td>CTRA</td>\n      <td>26.0050</td>\n      <td>N/A</td>\n      <td>6.685090</td>\n      <td>0.127237</td>\n      <td>1.550963</td>\n      <td>0.194831</td>\n      <td>6.817083</td>\n      <td>0.131213</td>\n      <td>3.876387e+00</td>\n      <td>0.035785</td>\n      <td>3.623172e+00</td>\n      <td>0.12326</td>\n      <td>0.122465</td>\n    </tr>\n    <tr>\n      <th>18</th>\n      <td>AAP</td>\n      <td>51.9000</td>\n      <td>N/A</td>\n      <td>8.963731</td>\n      <td>0.178926</td>\n      <td>1.125667</td>\n      <td>0.085487</td>\n      <td>8.963730</td>\n      <td>0.17495</td>\n      <td>8.499322e+00</td>\n      <td>0.16501</td>\n      <td>1.492409e+00</td>\n      <td>0.019881</td>\n      <td>0.124851</td>\n    </tr>\n    <tr>\n      <th>19</th>\n      <td>GS</td>\n      <td>305.8700</td>\n      <td>N/A</td>\n      <td>12.905907</td>\n      <td>0.27833</td>\n      <td>1.006572</td>\n      <td>0.063618</td>\n      <td>12.905907</td>\n      <td>0.272366</td>\n      <td>-2.293855e+11</td>\n      <td>0.005964</td>\n      <td>-2.293855e+11</td>\n      <td>0.005964</td>\n      <td>0.125249</td>\n    </tr>\n    <tr>\n      <th>20</th>\n      <td>VZ</td>\n      <td>31.4641</td>\n      <td>N/A</td>\n      <td>6.292820</td>\n      <td>0.121272</td>\n      <td>1.389573</td>\n      <td>0.141153</td>\n      <td>6.292820</td>\n      <td>0.121272</td>\n      <td>6.463604e+00</td>\n      <td>0.105368</td>\n      <td>3.985204e+00</td>\n      <td>0.139165</td>\n      <td>0.125646</td>\n    </tr>\n    <tr>\n      <th>21</th>\n      <td>NWL</td>\n      <td>7.6500</td>\n      <td>N/A</td>\n      <td>-10.337838</td>\n      <td>0.049702</td>\n      <td>0.955892</td>\n      <td>0.055666</td>\n      <td>-10.337838</td>\n      <td>0.049702</td>\n      <td>1.192238e+01</td>\n      <td>0.387674</td>\n      <td>3.163596e+00</td>\n      <td>0.091451</td>\n      <td>0.126839</td>\n    </tr>\n    <tr>\n      <th>22</th>\n      <td>STLD</td>\n      <td>106.4800</td>\n      <td>N/A</td>\n      <td>6.144259</td>\n      <td>0.115308</td>\n      <td>2.034507</td>\n      <td>0.298211</td>\n      <td>6.144259</td>\n      <td>0.115308</td>\n      <td>4.332276e+00</td>\n      <td>0.043738</td>\n      <td>3.043303e+00</td>\n      <td>0.075547</td>\n      <td>0.129622</td>\n    </tr>\n    <tr>\n      <th>23</th>\n      <td>GM</td>\n      <td>30.5350</td>\n      <td>N/A</td>\n      <td>4.412572</td>\n      <td>0.085487</td>\n      <td>0.596596</td>\n      <td>0.015905</td>\n      <td>4.412572</td>\n      <td>0.085487</td>\n      <td>7.944211e+00</td>\n      <td>0.147117</td>\n      <td>6.458434e+00</td>\n      <td>0.314115</td>\n      <td>0.129622</td>\n    </tr>\n    <tr>\n      <th>24</th>\n      <td>MRO</td>\n      <td>24.3300</td>\n      <td>N/A</td>\n      <td>7.925081</td>\n      <td>0.15507</td>\n      <td>1.311307</td>\n      <td>0.12326</td>\n      <td>7.925082</td>\n      <td>0.15507</td>\n      <td>4.496462e+00</td>\n      <td>0.047714</td>\n      <td>4.699442e+00</td>\n      <td>0.172962</td>\n      <td>0.130815</td>\n    </tr>\n    <tr>\n      <th>25</th>\n      <td>IP</td>\n      <td>35.0492</td>\n      <td>N/A</td>\n      <td>8.611597</td>\n      <td>0.166998</td>\n      <td>1.443007</td>\n      <td>0.161034</td>\n      <td>8.611597</td>\n      <td>0.16501</td>\n      <td>6.870424e+00</td>\n      <td>0.115308</td>\n      <td>2.934029e+00</td>\n      <td>0.069583</td>\n      <td>0.135586</td>\n    </tr>\n    <tr>\n      <th>26</th>\n      <td>BWA</td>\n      <td>38.4600</td>\n      <td>N/A</td>\n      <td>9.403423</td>\n      <td>0.184891</td>\n      <td>1.197273</td>\n      <td>0.099404</td>\n      <td>9.403423</td>\n      <td>0.182903</td>\n      <td>5.307944e+00</td>\n      <td>0.063618</td>\n      <td>4.077241e+00</td>\n      <td>0.147117</td>\n      <td>0.135586</td>\n    </tr>\n    <tr>\n      <th>27</th>\n      <td>MPC</td>\n      <td>142.4400</td>\n      <td>N/A</td>\n      <td>5.420091</td>\n      <td>0.101392</td>\n      <td>2.243468</td>\n      <td>0.349901</td>\n      <td>5.420092</td>\n      <td>0.101392</td>\n      <td>3.638474e+00</td>\n      <td>0.029821</td>\n      <td>3.281995e+00</td>\n      <td>0.101392</td>\n      <td>0.136779</td>\n    </tr>\n    <tr>\n      <th>28</th>\n      <td>WBD</td>\n      <td>9.9800</td>\n      <td>N/A</td>\n      <td>-3.929134</td>\n      <td>0.075547</td>\n      <td>0.535092</td>\n      <td>0.00994</td>\n      <td>-3.929134</td>\n      <td>0.075547</td>\n      <td>1.115897e+01</td>\n      <td>0.326044</td>\n      <td>5.122695e+00</td>\n      <td>0.200795</td>\n      <td>0.137575</td>\n    </tr>\n    <tr>\n      <th>29</th>\n      <td>SJM</td>\n      <td>118.7850</td>\n      <td>N/A</td>\n      <td>-1187.850000</td>\n      <td>0.003976</td>\n      <td>1.732267</td>\n      <td>0.242545</td>\n      <td>-1187.850026</td>\n      <td>0.003976</td>\n      <td>9.300357e+00</td>\n      <td>0.204771</td>\n      <td>5.684179e+00</td>\n      <td>0.250497</td>\n      <td>0.141153</td>\n    </tr>\n    <tr>\n      <th>30</th>\n      <td>DHI</td>\n      <td>104.1700</td>\n      <td>N/A</td>\n      <td>7.305049</td>\n      <td>0.145129</td>\n      <td>1.626894</td>\n      <td>0.212724</td>\n      <td>7.305049</td>\n      <td>0.145129</td>\n      <td>5.916010e+00</td>\n      <td>0.089463</td>\n      <td>3.644529e+00</td>\n      <td>0.127237</td>\n      <td>0.143936</td>\n    </tr>\n    <tr>\n      <th>31</th>\n      <td>NUE</td>\n      <td>156.3400</td>\n      <td>N/A</td>\n      <td>7.145338</td>\n      <td>0.143141</td>\n      <td>1.948769</td>\n      <td>0.286282</td>\n      <td>7.145338</td>\n      <td>0.143141</td>\n      <td>4.567378e+00</td>\n      <td>0.05169</td>\n      <td>3.226007e+00</td>\n      <td>0.095427</td>\n      <td>0.143936</td>\n    </tr>\n    <tr>\n      <th>32</th>\n      <td>MS</td>\n      <td>78.2500</td>\n      <td>N/A</td>\n      <td>13.752197</td>\n      <td>0.292247</td>\n      <td>1.416418</td>\n      <td>0.153082</td>\n      <td>13.752197</td>\n      <td>0.282306</td>\n      <td>-6.185510e+10</td>\n      <td>0.00994</td>\n      <td>-6.185510e+10</td>\n      <td>0.00994</td>\n      <td>0.149503</td>\n    </tr>\n    <tr>\n      <th>33</th>\n      <td>FANG</td>\n      <td>145.4000</td>\n      <td>N/A</td>\n      <td>7.817204</td>\n      <td>0.153082</td>\n      <td>1.675366</td>\n      <td>0.228628</td>\n      <td>7.817204</td>\n      <td>0.153082</td>\n      <td>5.176762e+00</td>\n      <td>0.057654</td>\n      <td>4.882426e+00</td>\n      <td>0.182903</td>\n      <td>0.15507</td>\n    </tr>\n    <tr>\n      <th>34</th>\n      <td>CF</td>\n      <td>82.2750</td>\n      <td>N/A</td>\n      <td>6.793972</td>\n      <td>0.131213</td>\n      <td>2.734933</td>\n      <td>0.437376</td>\n      <td>6.793972</td>\n      <td>0.129225</td>\n      <td>3.602129e+00</td>\n      <td>0.027833</td>\n      <td>2.712813e+00</td>\n      <td>0.053678</td>\n      <td>0.155865</td>\n    </tr>\n    <tr>\n      <th>35</th>\n      <td>DVN</td>\n      <td>43.1150</td>\n      <td>N/A</td>\n      <td>5.890027</td>\n      <td>0.109344</td>\n      <td>2.507707</td>\n      <td>0.389662</td>\n      <td>5.890027</td>\n      <td>0.109344</td>\n      <td>3.848690e+00</td>\n      <td>0.033797</td>\n      <td>4.061152e+00</td>\n      <td>0.145129</td>\n      <td>0.157455</td>\n    </tr>\n    <tr>\n      <th>36</th>\n      <td>PFE</td>\n      <td>33.1450</td>\n      <td>N/A</td>\n      <td>8.815160</td>\n      <td>0.176938</td>\n      <td>1.889573</td>\n      <td>0.27833</td>\n      <td>8.815160</td>\n      <td>0.172962</td>\n      <td>6.695129e+00</td>\n      <td>0.11332</td>\n      <td>3.152553e+00</td>\n      <td>0.087475</td>\n      <td>0.165805</td>\n    </tr>\n    <tr>\n      <th>37</th>\n      <td>BG</td>\n      <td>104.4300</td>\n      <td>N/A</td>\n      <td>8.164973</td>\n      <td>0.161034</td>\n      <td>1.487501</td>\n      <td>0.182903</td>\n      <td>8.164973</td>\n      <td>0.159046</td>\n      <td>5.843193e+00</td>\n      <td>0.087475</td>\n      <td>5.479778e+00</td>\n      <td>0.238569</td>\n      <td>0.165805</td>\n    </tr>\n    <tr>\n      <th>38</th>\n      <td>ALB</td>\n      <td>152.4200</td>\n      <td>N/A</td>\n      <td>4.582682</td>\n      <td>0.091451</td>\n      <td>1.822138</td>\n      <td>0.258449</td>\n      <td>4.582682</td>\n      <td>0.091451</td>\n      <td>5.517248e+00</td>\n      <td>0.067594</td>\n      <td>6.488751e+00</td>\n      <td>0.32008</td>\n      <td>0.165805</td>\n    </tr>\n    <tr>\n      <th>39</th>\n      <td>WDC</td>\n      <td>45.9400</td>\n      <td>N/A</td>\n      <td>-8.491682</td>\n      <td>0.053678</td>\n      <td>1.363771</td>\n      <td>0.135189</td>\n      <td>-8.491682</td>\n      <td>0.053678</td>\n      <td>-7.858946e+01</td>\n      <td>0.015905</td>\n      <td>1.066184e+01</td>\n      <td>0.582505</td>\n      <td>0.168191</td>\n    </tr>\n    <tr>\n      <th>40</th>\n      <td>TPR</td>\n      <td>27.5500</td>\n      <td>N/A</td>\n      <td>6.957071</td>\n      <td>0.137177</td>\n      <td>2.750324</td>\n      <td>0.439364</td>\n      <td>6.957071</td>\n      <td>0.137177</td>\n      <td>6.544666e+00</td>\n      <td>0.109344</td>\n      <td>1.880295e+00</td>\n      <td>0.027833</td>\n      <td>0.170179</td>\n    </tr>\n    <tr>\n      <th>41</th>\n      <td>NRG</td>\n      <td>38.0500</td>\n      <td>N/A</td>\n      <td>-4.388697</td>\n      <td>0.073559</td>\n      <td>3.269181</td>\n      <td>0.497018</td>\n      <td>-4.388697</td>\n      <td>0.073559</td>\n      <td>-1.737713e+01</td>\n      <td>0.017893</td>\n      <td>5.026093e+00</td>\n      <td>0.192843</td>\n      <td>0.170974</td>\n    </tr>\n    <tr>\n      <th>42</th>\n      <td>EOG</td>\n      <td>119.3000</td>\n      <td>N/A</td>\n      <td>8.371930</td>\n      <td>0.16501</td>\n      <td>2.645350</td>\n      <td>0.421471</td>\n      <td>8.371930</td>\n      <td>0.163022</td>\n      <td>4.659813e+00</td>\n      <td>0.053678</td>\n      <td>2.868936e+00</td>\n      <td>0.067594</td>\n      <td>0.174155</td>\n    </tr>\n    <tr>\n      <th>43</th>\n      <td>DXC</td>\n      <td>21.1200</td>\n      <td>N/A</td>\n      <td>-7.680000</td>\n      <td>0.055666</td>\n      <td>1.356803</td>\n      <td>0.133201</td>\n      <td>-7.680000</td>\n      <td>0.055666</td>\n      <td>1.645364e+01</td>\n      <td>0.604374</td>\n      <td>2.588968e+00</td>\n      <td>0.05169</td>\n      <td>0.180119</td>\n    </tr>\n    <tr>\n      <th>44</th>\n      <td>UHS</td>\n      <td>123.8600</td>\n      <td>N/A</td>\n      <td>12.942529</td>\n      <td>0.280318</td>\n      <td>1.411993</td>\n      <td>0.149105</td>\n      <td>14.450220</td>\n      <td>0.310139</td>\n      <td>7.899472e+00</td>\n      <td>0.145129</td>\n      <td>1.148142e+00</td>\n      <td>0.015905</td>\n      <td>0.180119</td>\n    </tr>\n    <tr>\n      <th>45</th>\n      <td>CNC</td>\n      <td>68.6800</td>\n      <td>N/A</td>\n      <td>14.131687</td>\n      <td>0.304175</td>\n      <td>1.460779</td>\n      <td>0.170974</td>\n      <td>14.131687</td>\n      <td>0.294235</td>\n      <td>6.201073e+00</td>\n      <td>0.095427</td>\n      <td>2.351091e+00</td>\n      <td>0.04175</td>\n      <td>0.181312</td>\n    </tr>\n    <tr>\n      <th>46</th>\n      <td>XOM</td>\n      <td>109.6550</td>\n      <td>N/A</td>\n      <td>8.772400</td>\n      <td>0.172962</td>\n      <td>2.205362</td>\n      <td>0.337972</td>\n      <td>8.772400</td>\n      <td>0.170974</td>\n      <td>5.674922e+00</td>\n      <td>0.073559</td>\n      <td>4.357434e+00</td>\n      <td>0.157058</td>\n      <td>0.182505</td>\n    </tr>\n    <tr>\n      <th>47</th>\n      <td>BEN</td>\n      <td>23.4900</td>\n      <td>N/A</td>\n      <td>14.681250</td>\n      <td>0.335984</td>\n      <td>0.981080</td>\n      <td>0.059642</td>\n      <td>14.681250</td>\n      <td>0.326044</td>\n      <td>5.823080e+00</td>\n      <td>0.083499</td>\n      <td>3.546781e+00</td>\n      <td>0.117296</td>\n      <td>0.184493</td>\n    </tr>\n    <tr>\n      <th>48</th>\n      <td>NEM</td>\n      <td>35.8250</td>\n      <td>N/A</td>\n      <td>-36.556122</td>\n      <td>0.019881</td>\n      <td>1.477746</td>\n      <td>0.17495</td>\n      <td>-36.556124</td>\n      <td>0.019881</td>\n      <td>9.260216e+00</td>\n      <td>0.202783</td>\n      <td>9.600874e+00</td>\n      <td>0.508946</td>\n      <td>0.185288</td>\n    </tr>\n    <tr>\n      <th>49</th>\n      <td>CVX</td>\n      <td>164.1300</td>\n      <td>N/A</td>\n      <td>10.407736</td>\n      <td>0.202783</td>\n      <td>1.935701</td>\n      <td>0.284294</td>\n      <td>10.407737</td>\n      <td>0.200795</td>\n      <td>6.298297e+00</td>\n      <td>0.099404</td>\n      <td>4.392939e+00</td>\n      <td>0.159046</td>\n      <td>0.189264</td>\n    </tr>\n  </tbody>\n</table>\n</div>"
     },
     "execution_count": 30,
     "metadata": {},
     "output_type": "execute_result"
    }
   ],
   "source": [
    "rv_dataframe"
   ],
   "metadata": {
    "collapsed": false,
    "ExecuteTime": {
     "end_time": "2023-10-05T15:37:09.115784331Z",
     "start_time": "2023-10-05T15:37:08.678876430Z"
    }
   }
  },
  {
   "cell_type": "markdown",
   "source": [
    "## Calculating the Number of Shares to Buy\n",
    "\n",
    "As we can see in the DataFrame above, we stil haven't calculated the number of shares of each stock to buy."
   ],
   "metadata": {
    "collapsed": false
   }
  },
  {
   "cell_type": "code",
   "execution_count": 31,
   "outputs": [
    {
     "data": {
      "text/plain": "10000000"
     },
     "execution_count": 31,
     "metadata": {},
     "output_type": "execute_result"
    }
   ],
   "source": [
    "# portfolio_size = float(input(\"Enter your portfolio value: \"))\n",
    "portfolio_size = 10000000\n",
    "portfolio_size"
   ],
   "metadata": {
    "collapsed": false,
    "ExecuteTime": {
     "end_time": "2023-10-05T15:37:09.116307396Z",
     "start_time": "2023-10-05T15:37:08.834409429Z"
    }
   }
  },
  {
   "cell_type": "code",
   "execution_count": 32,
   "outputs": [
    {
     "data": {
      "text/plain": "200000.0"
     },
     "execution_count": 32,
     "metadata": {},
     "output_type": "execute_result"
    }
   ],
   "source": [
    "position_size = float(portfolio_size) / len(rv_dataframe.index)\n",
    "position_size"
   ],
   "metadata": {
    "collapsed": false,
    "ExecuteTime": {
     "end_time": "2023-10-05T15:37:09.325348738Z",
     "start_time": "2023-10-05T15:37:09.051480079Z"
    }
   }
  },
  {
   "cell_type": "code",
   "execution_count": 33,
   "outputs": [],
   "source": [
    "for row in rv_dataframe.index:\n",
    "    rv_dataframe.loc[row, 'Number of Shares to Buy'] = math.floor(\n",
    "        position_size / final_dataframe.loc[row, 'Stock Price'])"
   ],
   "metadata": {
    "collapsed": false,
    "ExecuteTime": {
     "end_time": "2023-10-05T15:37:09.344113271Z",
     "start_time": "2023-10-05T15:37:09.200108872Z"
    }
   }
  },
  {
   "cell_type": "code",
   "execution_count": 34,
   "outputs": [
    {
     "data": {
      "text/plain": "   Ticker  Stock Price Number of Shares to Buy  Price-to-Earning Ratio  \\\n0     MHK      80.6100                   15556              -16.828810   \n1       C      39.4800                    5026                6.266667   \n2     MOS      33.7750                    6552                5.335703   \n3     EQT      41.0300                    4873                4.493976   \n4       T      14.6650                    1560              -12.642241   \n5    PARA      11.6150                    1309               -4.683468   \n6     STT      63.6550                    1823                8.613667   \n7     WRK      36.2850                    4828               -6.537838   \n8     IVZ      13.4250                    6983                9.589286   \n9    VTRS       9.7650                    5901                6.642857   \n10    JPM     141.4200                    1407                9.088689   \n11    VLO     128.0300                   12345                4.577404   \n12    UAL      41.3800                    7809                5.127633   \n13     BK      41.3000                    5986               12.005814   \n14    LEN     108.7200                    4642                8.011791   \n15    PSX     109.4350                    2754                4.938403   \n16    PHM      72.5800                    2321                5.905614   \n17   CTRA      26.0050                    1877                6.685090   \n18    AAP      51.9000                    7381                8.963731   \n19     GS     305.8700                    5070               12.905907   \n20     VZ      31.4641                    6344                6.292820   \n21    NWL       7.6500                   20325              -10.337838   \n22   STLD     106.4800                   20502                6.144259   \n23     GM      30.5350                    7686                4.412572   \n24    MRO      24.3300                   19559                7.925081   \n25     IP      35.0492                    2427                8.611597   \n26    BWA      38.4600                    8345                9.403423   \n27    MPC     142.4400                   12187                5.420091   \n28    WBD       9.9800                    7238               -3.929134   \n29    SJM     118.7850                    2186            -1187.850000   \n30    DHI     104.1700                    1640                7.305049   \n31    NUE     156.3400                    1282                7.145338   \n32     MS      78.2500                    1921               13.752197   \n33   FANG     145.4000                    7750                7.817204   \n34     CF      82.2750                    5535                6.793972   \n35    DVN      43.1150                    5275                5.890027   \n36    PFE      33.1450                    1378                8.815160   \n37     BG     104.4300                    8227                8.164973   \n38    ALB     152.4200                    1838                4.582682   \n39    WDC      45.9400                   11827               -8.491682   \n40    TPR      27.5500                    1919                6.957071   \n41    NRG      38.0500                    1671               -4.388697   \n42    EOG     119.3000                    1681                8.371930   \n43    DXC      21.1200                    5713               -7.680000   \n44    UHS     123.8600                    3131               12.942529   \n45    CNC      68.6800                    6415               14.131687   \n46    XOM     109.6550                    1824                8.772400   \n47    BEN      23.4900                     583               14.681250   \n48    NEM      35.8250                    6041              -36.556122   \n49    CVX     164.1300                    3861               10.407736   \n\n   PE Percentile  Price-to-Book Value PB Percentile  Price-to-Sales Ratio  \\\n0       0.037773             0.625538      0.017893            -16.828810   \n1       0.119284             0.403380      0.005964              6.266667   \n2       0.099404             0.904574       0.04175              5.335703   \n3       0.087475             1.235955      0.111332              4.493976   \n4        0.04175             1.028906      0.073559            -12.754428   \n5       0.069583             0.349176      0.003976             -5.066364   \n6       0.168986             0.922416      0.047714              8.613667   \n7       0.063618             0.929265       0.05169             -6.537838   \n8       0.188867             0.532126      0.007952              9.589286   \n9       0.125249             0.561788      0.011928              6.642858   \n10      0.180915             1.441458      0.157058              9.088689   \n11      0.089463             1.748876      0.246521              4.577404   \n12      0.095427             1.761451      0.252485              5.127633   \n13      0.250497             0.891085      0.039761             12.005814   \n14      0.157058             1.204961      0.101392              9.022201   \n15      0.093439             1.629879        0.2167              4.938402   \n16      0.111332             1.644500      0.218688              5.905614   \n17      0.127237             1.550963      0.194831              6.817083   \n18      0.178926             1.125667      0.085487              8.963730   \n19       0.27833             1.006572      0.063618             12.905907   \n20      0.121272             1.389573      0.141153              6.292820   \n21      0.049702             0.955892      0.055666            -10.337838   \n22      0.115308             2.034507      0.298211              6.144259   \n23      0.085487             0.596596      0.015905              4.412572   \n24       0.15507             1.311307       0.12326              7.925082   \n25      0.166998             1.443007      0.161034              8.611597   \n26      0.184891             1.197273      0.099404              9.403423   \n27      0.101392             2.243468      0.349901              5.420092   \n28      0.075547             0.535092       0.00994             -3.929134   \n29      0.003976             1.732267      0.242545          -1187.850026   \n30      0.145129             1.626894      0.212724              7.305049   \n31      0.143141             1.948769      0.286282              7.145338   \n32      0.292247             1.416418      0.153082             13.752197   \n33      0.153082             1.675366      0.228628              7.817204   \n34      0.131213             2.734933      0.437376              6.793972   \n35      0.109344             2.507707      0.389662              5.890027   \n36      0.176938             1.889573       0.27833              8.815160   \n37      0.161034             1.487501      0.182903              8.164973   \n38      0.091451             1.822138      0.258449              4.582682   \n39      0.053678             1.363771      0.135189             -8.491682   \n40      0.137177             2.750324      0.439364              6.957071   \n41      0.073559             3.269181      0.497018             -4.388697   \n42       0.16501             2.645350      0.421471              8.371930   \n43      0.055666             1.356803      0.133201             -7.680000   \n44      0.280318             1.411993      0.149105             14.450220   \n45      0.304175             1.460779      0.170974             14.131687   \n46      0.172962             2.205362      0.337972              8.772400   \n47      0.335984             0.981080      0.059642             14.681250   \n48      0.019881             1.477746       0.17495            -36.556124   \n49      0.202783             1.935701      0.284294             10.407737   \n\n   PS Percentile     EV/EBITDA EV/EBITDA Percentile         EV/GP  \\\n0       0.037773  5.828358e+00             0.085487  2.728304e+00   \n1       0.119284 -3.310204e+11             0.001988 -3.310204e+11   \n2       0.099404  3.830500e+00             0.031809  2.507481e+00   \n3       0.087475  3.069075e+00             0.025845  2.523358e+00   \n4        0.04175  6.102095e+00             0.093439  3.789527e+00   \n5       0.067594  9.438663e+00             0.210736  2.240412e+00   \n6       0.166998 -3.813297e+10             0.011928 -3.813297e+10   \n7       0.063618  6.367142e+00             0.101392  4.661298e+00   \n8       0.186879  5.287631e+00              0.06163  1.500147e+00   \n9       0.125249  5.820450e+00             0.081511  4.594276e+00   \n10      0.178926 -2.748477e+11             0.003976 -2.748477e+11   \n11      0.089463  2.923177e+00             0.023857  3.072032e+00   \n12      0.095427  3.922116e+00             0.037773  2.845377e+00   \n13      0.246521 -6.839931e+10             0.007952 -6.839931e+10   \n14      0.176938  5.674901e+00             0.071571  2.991070e+00   \n15      0.093439  5.638725e+00             0.069583  3.557821e+00   \n16      0.111332  4.500337e+00             0.049702  3.441696e+00   \n17      0.131213  3.876387e+00             0.035785  3.623172e+00   \n18       0.17495  8.499322e+00              0.16501  1.492409e+00   \n19      0.272366 -2.293855e+11             0.005964 -2.293855e+11   \n20      0.121272  6.463604e+00             0.105368  3.985204e+00   \n21      0.049702  1.192238e+01             0.387674  3.163596e+00   \n22      0.115308  4.332276e+00             0.043738  3.043303e+00   \n23      0.085487  7.944211e+00             0.147117  6.458434e+00   \n24       0.15507  4.496462e+00             0.047714  4.699442e+00   \n25       0.16501  6.870424e+00             0.115308  2.934029e+00   \n26      0.182903  5.307944e+00             0.063618  4.077241e+00   \n27      0.101392  3.638474e+00             0.029821  3.281995e+00   \n28      0.075547  1.115897e+01             0.326044  5.122695e+00   \n29      0.003976  9.300357e+00             0.204771  5.684179e+00   \n30      0.145129  5.916010e+00             0.089463  3.644529e+00   \n31      0.143141  4.567378e+00              0.05169  3.226007e+00   \n32      0.282306 -6.185510e+10              0.00994 -6.185510e+10   \n33      0.153082  5.176762e+00             0.057654  4.882426e+00   \n34      0.129225  3.602129e+00             0.027833  2.712813e+00   \n35      0.109344  3.848690e+00             0.033797  4.061152e+00   \n36      0.172962  6.695129e+00              0.11332  3.152553e+00   \n37      0.159046  5.843193e+00             0.087475  5.479778e+00   \n38      0.091451  5.517248e+00             0.067594  6.488751e+00   \n39      0.053678 -7.858946e+01             0.015905  1.066184e+01   \n40      0.137177  6.544666e+00             0.109344  1.880295e+00   \n41      0.073559 -1.737713e+01             0.017893  5.026093e+00   \n42      0.163022  4.659813e+00             0.053678  2.868936e+00   \n43      0.055666  1.645364e+01             0.604374  2.588968e+00   \n44      0.310139  7.899472e+00             0.145129  1.148142e+00   \n45      0.294235  6.201073e+00             0.095427  2.351091e+00   \n46      0.170974  5.674922e+00             0.073559  4.357434e+00   \n47      0.326044  5.823080e+00             0.083499  3.546781e+00   \n48      0.019881  9.260216e+00             0.202783  9.600874e+00   \n49      0.200795  6.298297e+00             0.099404  4.392939e+00   \n\n   EV/GP Percentile  RV Score  \n0          0.055666  0.046918  \n1          0.001988  0.049702  \n2          0.047714  0.064016  \n3          0.049702  0.072366  \n4          0.131213  0.076342  \n5          0.039761   0.07833  \n6          0.011928  0.081511  \n7          0.166998  0.089463  \n8          0.021869  0.093439  \n9          0.163022  0.101392  \n10         0.003976   0.10497  \n11         0.085487  0.106958  \n12         0.065606  0.109344  \n13         0.007952  0.110537  \n14         0.073559  0.116103  \n15         0.119284  0.118489  \n16         0.111332  0.120477  \n17          0.12326  0.122465  \n18         0.019881  0.124851  \n19         0.005964  0.125249  \n20         0.139165  0.125646  \n21         0.091451  0.126839  \n22         0.075547  0.129622  \n23         0.314115  0.129622  \n24         0.172962  0.130815  \n25         0.069583  0.135586  \n26         0.147117  0.135586  \n27         0.101392  0.136779  \n28         0.200795  0.137575  \n29         0.250497  0.141153  \n30         0.127237  0.143936  \n31         0.095427  0.143936  \n32          0.00994  0.149503  \n33         0.182903   0.15507  \n34         0.053678  0.155865  \n35         0.145129  0.157455  \n36         0.087475  0.165805  \n37         0.238569  0.165805  \n38          0.32008  0.165805  \n39         0.582505  0.168191  \n40         0.027833  0.170179  \n41         0.192843  0.170974  \n42         0.067594  0.174155  \n43          0.05169  0.180119  \n44         0.015905  0.180119  \n45          0.04175  0.181312  \n46         0.157058  0.182505  \n47         0.117296  0.184493  \n48         0.508946  0.185288  \n49         0.159046  0.189264  ",
      "text/html": "<div>\n<style scoped>\n    .dataframe tbody tr th:only-of-type {\n        vertical-align: middle;\n    }\n\n    .dataframe tbody tr th {\n        vertical-align: top;\n    }\n\n    .dataframe thead th {\n        text-align: right;\n    }\n</style>\n<table border=\"1\" class=\"dataframe\">\n  <thead>\n    <tr style=\"text-align: right;\">\n      <th></th>\n      <th>Ticker</th>\n      <th>Stock Price</th>\n      <th>Number of Shares to Buy</th>\n      <th>Price-to-Earning Ratio</th>\n      <th>PE Percentile</th>\n      <th>Price-to-Book Value</th>\n      <th>PB Percentile</th>\n      <th>Price-to-Sales Ratio</th>\n      <th>PS Percentile</th>\n      <th>EV/EBITDA</th>\n      <th>EV/EBITDA Percentile</th>\n      <th>EV/GP</th>\n      <th>EV/GP Percentile</th>\n      <th>RV Score</th>\n    </tr>\n  </thead>\n  <tbody>\n    <tr>\n      <th>0</th>\n      <td>MHK</td>\n      <td>80.6100</td>\n      <td>15556</td>\n      <td>-16.828810</td>\n      <td>0.037773</td>\n      <td>0.625538</td>\n      <td>0.017893</td>\n      <td>-16.828810</td>\n      <td>0.037773</td>\n      <td>5.828358e+00</td>\n      <td>0.085487</td>\n      <td>2.728304e+00</td>\n      <td>0.055666</td>\n      <td>0.046918</td>\n    </tr>\n    <tr>\n      <th>1</th>\n      <td>C</td>\n      <td>39.4800</td>\n      <td>5026</td>\n      <td>6.266667</td>\n      <td>0.119284</td>\n      <td>0.403380</td>\n      <td>0.005964</td>\n      <td>6.266667</td>\n      <td>0.119284</td>\n      <td>-3.310204e+11</td>\n      <td>0.001988</td>\n      <td>-3.310204e+11</td>\n      <td>0.001988</td>\n      <td>0.049702</td>\n    </tr>\n    <tr>\n      <th>2</th>\n      <td>MOS</td>\n      <td>33.7750</td>\n      <td>6552</td>\n      <td>5.335703</td>\n      <td>0.099404</td>\n      <td>0.904574</td>\n      <td>0.04175</td>\n      <td>5.335703</td>\n      <td>0.099404</td>\n      <td>3.830500e+00</td>\n      <td>0.031809</td>\n      <td>2.507481e+00</td>\n      <td>0.047714</td>\n      <td>0.064016</td>\n    </tr>\n    <tr>\n      <th>3</th>\n      <td>EQT</td>\n      <td>41.0300</td>\n      <td>4873</td>\n      <td>4.493976</td>\n      <td>0.087475</td>\n      <td>1.235955</td>\n      <td>0.111332</td>\n      <td>4.493976</td>\n      <td>0.087475</td>\n      <td>3.069075e+00</td>\n      <td>0.025845</td>\n      <td>2.523358e+00</td>\n      <td>0.049702</td>\n      <td>0.072366</td>\n    </tr>\n    <tr>\n      <th>4</th>\n      <td>T</td>\n      <td>14.6650</td>\n      <td>1560</td>\n      <td>-12.642241</td>\n      <td>0.04175</td>\n      <td>1.028906</td>\n      <td>0.073559</td>\n      <td>-12.754428</td>\n      <td>0.04175</td>\n      <td>6.102095e+00</td>\n      <td>0.093439</td>\n      <td>3.789527e+00</td>\n      <td>0.131213</td>\n      <td>0.076342</td>\n    </tr>\n    <tr>\n      <th>5</th>\n      <td>PARA</td>\n      <td>11.6150</td>\n      <td>1309</td>\n      <td>-4.683468</td>\n      <td>0.069583</td>\n      <td>0.349176</td>\n      <td>0.003976</td>\n      <td>-5.066364</td>\n      <td>0.067594</td>\n      <td>9.438663e+00</td>\n      <td>0.210736</td>\n      <td>2.240412e+00</td>\n      <td>0.039761</td>\n      <td>0.07833</td>\n    </tr>\n    <tr>\n      <th>6</th>\n      <td>STT</td>\n      <td>63.6550</td>\n      <td>1823</td>\n      <td>8.613667</td>\n      <td>0.168986</td>\n      <td>0.922416</td>\n      <td>0.047714</td>\n      <td>8.613667</td>\n      <td>0.166998</td>\n      <td>-3.813297e+10</td>\n      <td>0.011928</td>\n      <td>-3.813297e+10</td>\n      <td>0.011928</td>\n      <td>0.081511</td>\n    </tr>\n    <tr>\n      <th>7</th>\n      <td>WRK</td>\n      <td>36.2850</td>\n      <td>4828</td>\n      <td>-6.537838</td>\n      <td>0.063618</td>\n      <td>0.929265</td>\n      <td>0.05169</td>\n      <td>-6.537838</td>\n      <td>0.063618</td>\n      <td>6.367142e+00</td>\n      <td>0.101392</td>\n      <td>4.661298e+00</td>\n      <td>0.166998</td>\n      <td>0.089463</td>\n    </tr>\n    <tr>\n      <th>8</th>\n      <td>IVZ</td>\n      <td>13.4250</td>\n      <td>6983</td>\n      <td>9.589286</td>\n      <td>0.188867</td>\n      <td>0.532126</td>\n      <td>0.007952</td>\n      <td>9.589286</td>\n      <td>0.186879</td>\n      <td>5.287631e+00</td>\n      <td>0.06163</td>\n      <td>1.500147e+00</td>\n      <td>0.021869</td>\n      <td>0.093439</td>\n    </tr>\n    <tr>\n      <th>9</th>\n      <td>VTRS</td>\n      <td>9.7650</td>\n      <td>5901</td>\n      <td>6.642857</td>\n      <td>0.125249</td>\n      <td>0.561788</td>\n      <td>0.011928</td>\n      <td>6.642858</td>\n      <td>0.125249</td>\n      <td>5.820450e+00</td>\n      <td>0.081511</td>\n      <td>4.594276e+00</td>\n      <td>0.163022</td>\n      <td>0.101392</td>\n    </tr>\n    <tr>\n      <th>10</th>\n      <td>JPM</td>\n      <td>141.4200</td>\n      <td>1407</td>\n      <td>9.088689</td>\n      <td>0.180915</td>\n      <td>1.441458</td>\n      <td>0.157058</td>\n      <td>9.088689</td>\n      <td>0.178926</td>\n      <td>-2.748477e+11</td>\n      <td>0.003976</td>\n      <td>-2.748477e+11</td>\n      <td>0.003976</td>\n      <td>0.10497</td>\n    </tr>\n    <tr>\n      <th>11</th>\n      <td>VLO</td>\n      <td>128.0300</td>\n      <td>12345</td>\n      <td>4.577404</td>\n      <td>0.089463</td>\n      <td>1.748876</td>\n      <td>0.246521</td>\n      <td>4.577404</td>\n      <td>0.089463</td>\n      <td>2.923177e+00</td>\n      <td>0.023857</td>\n      <td>3.072032e+00</td>\n      <td>0.085487</td>\n      <td>0.106958</td>\n    </tr>\n    <tr>\n      <th>12</th>\n      <td>UAL</td>\n      <td>41.3800</td>\n      <td>7809</td>\n      <td>5.127633</td>\n      <td>0.095427</td>\n      <td>1.761451</td>\n      <td>0.252485</td>\n      <td>5.127633</td>\n      <td>0.095427</td>\n      <td>3.922116e+00</td>\n      <td>0.037773</td>\n      <td>2.845377e+00</td>\n      <td>0.065606</td>\n      <td>0.109344</td>\n    </tr>\n    <tr>\n      <th>13</th>\n      <td>BK</td>\n      <td>41.3000</td>\n      <td>5986</td>\n      <td>12.005814</td>\n      <td>0.250497</td>\n      <td>0.891085</td>\n      <td>0.039761</td>\n      <td>12.005814</td>\n      <td>0.246521</td>\n      <td>-6.839931e+10</td>\n      <td>0.007952</td>\n      <td>-6.839931e+10</td>\n      <td>0.007952</td>\n      <td>0.110537</td>\n    </tr>\n    <tr>\n      <th>14</th>\n      <td>LEN</td>\n      <td>108.7200</td>\n      <td>4642</td>\n      <td>8.011791</td>\n      <td>0.157058</td>\n      <td>1.204961</td>\n      <td>0.101392</td>\n      <td>9.022201</td>\n      <td>0.176938</td>\n      <td>5.674901e+00</td>\n      <td>0.071571</td>\n      <td>2.991070e+00</td>\n      <td>0.073559</td>\n      <td>0.116103</td>\n    </tr>\n    <tr>\n      <th>15</th>\n      <td>PSX</td>\n      <td>109.4350</td>\n      <td>2754</td>\n      <td>4.938403</td>\n      <td>0.093439</td>\n      <td>1.629879</td>\n      <td>0.2167</td>\n      <td>4.938402</td>\n      <td>0.093439</td>\n      <td>5.638725e+00</td>\n      <td>0.069583</td>\n      <td>3.557821e+00</td>\n      <td>0.119284</td>\n      <td>0.118489</td>\n    </tr>\n    <tr>\n      <th>16</th>\n      <td>PHM</td>\n      <td>72.5800</td>\n      <td>2321</td>\n      <td>5.905614</td>\n      <td>0.111332</td>\n      <td>1.644500</td>\n      <td>0.218688</td>\n      <td>5.905614</td>\n      <td>0.111332</td>\n      <td>4.500337e+00</td>\n      <td>0.049702</td>\n      <td>3.441696e+00</td>\n      <td>0.111332</td>\n      <td>0.120477</td>\n    </tr>\n    <tr>\n      <th>17</th>\n      <td>CTRA</td>\n      <td>26.0050</td>\n      <td>1877</td>\n      <td>6.685090</td>\n      <td>0.127237</td>\n      <td>1.550963</td>\n      <td>0.194831</td>\n      <td>6.817083</td>\n      <td>0.131213</td>\n      <td>3.876387e+00</td>\n      <td>0.035785</td>\n      <td>3.623172e+00</td>\n      <td>0.12326</td>\n      <td>0.122465</td>\n    </tr>\n    <tr>\n      <th>18</th>\n      <td>AAP</td>\n      <td>51.9000</td>\n      <td>7381</td>\n      <td>8.963731</td>\n      <td>0.178926</td>\n      <td>1.125667</td>\n      <td>0.085487</td>\n      <td>8.963730</td>\n      <td>0.17495</td>\n      <td>8.499322e+00</td>\n      <td>0.16501</td>\n      <td>1.492409e+00</td>\n      <td>0.019881</td>\n      <td>0.124851</td>\n    </tr>\n    <tr>\n      <th>19</th>\n      <td>GS</td>\n      <td>305.8700</td>\n      <td>5070</td>\n      <td>12.905907</td>\n      <td>0.27833</td>\n      <td>1.006572</td>\n      <td>0.063618</td>\n      <td>12.905907</td>\n      <td>0.272366</td>\n      <td>-2.293855e+11</td>\n      <td>0.005964</td>\n      <td>-2.293855e+11</td>\n      <td>0.005964</td>\n      <td>0.125249</td>\n    </tr>\n    <tr>\n      <th>20</th>\n      <td>VZ</td>\n      <td>31.4641</td>\n      <td>6344</td>\n      <td>6.292820</td>\n      <td>0.121272</td>\n      <td>1.389573</td>\n      <td>0.141153</td>\n      <td>6.292820</td>\n      <td>0.121272</td>\n      <td>6.463604e+00</td>\n      <td>0.105368</td>\n      <td>3.985204e+00</td>\n      <td>0.139165</td>\n      <td>0.125646</td>\n    </tr>\n    <tr>\n      <th>21</th>\n      <td>NWL</td>\n      <td>7.6500</td>\n      <td>20325</td>\n      <td>-10.337838</td>\n      <td>0.049702</td>\n      <td>0.955892</td>\n      <td>0.055666</td>\n      <td>-10.337838</td>\n      <td>0.049702</td>\n      <td>1.192238e+01</td>\n      <td>0.387674</td>\n      <td>3.163596e+00</td>\n      <td>0.091451</td>\n      <td>0.126839</td>\n    </tr>\n    <tr>\n      <th>22</th>\n      <td>STLD</td>\n      <td>106.4800</td>\n      <td>20502</td>\n      <td>6.144259</td>\n      <td>0.115308</td>\n      <td>2.034507</td>\n      <td>0.298211</td>\n      <td>6.144259</td>\n      <td>0.115308</td>\n      <td>4.332276e+00</td>\n      <td>0.043738</td>\n      <td>3.043303e+00</td>\n      <td>0.075547</td>\n      <td>0.129622</td>\n    </tr>\n    <tr>\n      <th>23</th>\n      <td>GM</td>\n      <td>30.5350</td>\n      <td>7686</td>\n      <td>4.412572</td>\n      <td>0.085487</td>\n      <td>0.596596</td>\n      <td>0.015905</td>\n      <td>4.412572</td>\n      <td>0.085487</td>\n      <td>7.944211e+00</td>\n      <td>0.147117</td>\n      <td>6.458434e+00</td>\n      <td>0.314115</td>\n      <td>0.129622</td>\n    </tr>\n    <tr>\n      <th>24</th>\n      <td>MRO</td>\n      <td>24.3300</td>\n      <td>19559</td>\n      <td>7.925081</td>\n      <td>0.15507</td>\n      <td>1.311307</td>\n      <td>0.12326</td>\n      <td>7.925082</td>\n      <td>0.15507</td>\n      <td>4.496462e+00</td>\n      <td>0.047714</td>\n      <td>4.699442e+00</td>\n      <td>0.172962</td>\n      <td>0.130815</td>\n    </tr>\n    <tr>\n      <th>25</th>\n      <td>IP</td>\n      <td>35.0492</td>\n      <td>2427</td>\n      <td>8.611597</td>\n      <td>0.166998</td>\n      <td>1.443007</td>\n      <td>0.161034</td>\n      <td>8.611597</td>\n      <td>0.16501</td>\n      <td>6.870424e+00</td>\n      <td>0.115308</td>\n      <td>2.934029e+00</td>\n      <td>0.069583</td>\n      <td>0.135586</td>\n    </tr>\n    <tr>\n      <th>26</th>\n      <td>BWA</td>\n      <td>38.4600</td>\n      <td>8345</td>\n      <td>9.403423</td>\n      <td>0.184891</td>\n      <td>1.197273</td>\n      <td>0.099404</td>\n      <td>9.403423</td>\n      <td>0.182903</td>\n      <td>5.307944e+00</td>\n      <td>0.063618</td>\n      <td>4.077241e+00</td>\n      <td>0.147117</td>\n      <td>0.135586</td>\n    </tr>\n    <tr>\n      <th>27</th>\n      <td>MPC</td>\n      <td>142.4400</td>\n      <td>12187</td>\n      <td>5.420091</td>\n      <td>0.101392</td>\n      <td>2.243468</td>\n      <td>0.349901</td>\n      <td>5.420092</td>\n      <td>0.101392</td>\n      <td>3.638474e+00</td>\n      <td>0.029821</td>\n      <td>3.281995e+00</td>\n      <td>0.101392</td>\n      <td>0.136779</td>\n    </tr>\n    <tr>\n      <th>28</th>\n      <td>WBD</td>\n      <td>9.9800</td>\n      <td>7238</td>\n      <td>-3.929134</td>\n      <td>0.075547</td>\n      <td>0.535092</td>\n      <td>0.00994</td>\n      <td>-3.929134</td>\n      <td>0.075547</td>\n      <td>1.115897e+01</td>\n      <td>0.326044</td>\n      <td>5.122695e+00</td>\n      <td>0.200795</td>\n      <td>0.137575</td>\n    </tr>\n    <tr>\n      <th>29</th>\n      <td>SJM</td>\n      <td>118.7850</td>\n      <td>2186</td>\n      <td>-1187.850000</td>\n      <td>0.003976</td>\n      <td>1.732267</td>\n      <td>0.242545</td>\n      <td>-1187.850026</td>\n      <td>0.003976</td>\n      <td>9.300357e+00</td>\n      <td>0.204771</td>\n      <td>5.684179e+00</td>\n      <td>0.250497</td>\n      <td>0.141153</td>\n    </tr>\n    <tr>\n      <th>30</th>\n      <td>DHI</td>\n      <td>104.1700</td>\n      <td>1640</td>\n      <td>7.305049</td>\n      <td>0.145129</td>\n      <td>1.626894</td>\n      <td>0.212724</td>\n      <td>7.305049</td>\n      <td>0.145129</td>\n      <td>5.916010e+00</td>\n      <td>0.089463</td>\n      <td>3.644529e+00</td>\n      <td>0.127237</td>\n      <td>0.143936</td>\n    </tr>\n    <tr>\n      <th>31</th>\n      <td>NUE</td>\n      <td>156.3400</td>\n      <td>1282</td>\n      <td>7.145338</td>\n      <td>0.143141</td>\n      <td>1.948769</td>\n      <td>0.286282</td>\n      <td>7.145338</td>\n      <td>0.143141</td>\n      <td>4.567378e+00</td>\n      <td>0.05169</td>\n      <td>3.226007e+00</td>\n      <td>0.095427</td>\n      <td>0.143936</td>\n    </tr>\n    <tr>\n      <th>32</th>\n      <td>MS</td>\n      <td>78.2500</td>\n      <td>1921</td>\n      <td>13.752197</td>\n      <td>0.292247</td>\n      <td>1.416418</td>\n      <td>0.153082</td>\n      <td>13.752197</td>\n      <td>0.282306</td>\n      <td>-6.185510e+10</td>\n      <td>0.00994</td>\n      <td>-6.185510e+10</td>\n      <td>0.00994</td>\n      <td>0.149503</td>\n    </tr>\n    <tr>\n      <th>33</th>\n      <td>FANG</td>\n      <td>145.4000</td>\n      <td>7750</td>\n      <td>7.817204</td>\n      <td>0.153082</td>\n      <td>1.675366</td>\n      <td>0.228628</td>\n      <td>7.817204</td>\n      <td>0.153082</td>\n      <td>5.176762e+00</td>\n      <td>0.057654</td>\n      <td>4.882426e+00</td>\n      <td>0.182903</td>\n      <td>0.15507</td>\n    </tr>\n    <tr>\n      <th>34</th>\n      <td>CF</td>\n      <td>82.2750</td>\n      <td>5535</td>\n      <td>6.793972</td>\n      <td>0.131213</td>\n      <td>2.734933</td>\n      <td>0.437376</td>\n      <td>6.793972</td>\n      <td>0.129225</td>\n      <td>3.602129e+00</td>\n      <td>0.027833</td>\n      <td>2.712813e+00</td>\n      <td>0.053678</td>\n      <td>0.155865</td>\n    </tr>\n    <tr>\n      <th>35</th>\n      <td>DVN</td>\n      <td>43.1150</td>\n      <td>5275</td>\n      <td>5.890027</td>\n      <td>0.109344</td>\n      <td>2.507707</td>\n      <td>0.389662</td>\n      <td>5.890027</td>\n      <td>0.109344</td>\n      <td>3.848690e+00</td>\n      <td>0.033797</td>\n      <td>4.061152e+00</td>\n      <td>0.145129</td>\n      <td>0.157455</td>\n    </tr>\n    <tr>\n      <th>36</th>\n      <td>PFE</td>\n      <td>33.1450</td>\n      <td>1378</td>\n      <td>8.815160</td>\n      <td>0.176938</td>\n      <td>1.889573</td>\n      <td>0.27833</td>\n      <td>8.815160</td>\n      <td>0.172962</td>\n      <td>6.695129e+00</td>\n      <td>0.11332</td>\n      <td>3.152553e+00</td>\n      <td>0.087475</td>\n      <td>0.165805</td>\n    </tr>\n    <tr>\n      <th>37</th>\n      <td>BG</td>\n      <td>104.4300</td>\n      <td>8227</td>\n      <td>8.164973</td>\n      <td>0.161034</td>\n      <td>1.487501</td>\n      <td>0.182903</td>\n      <td>8.164973</td>\n      <td>0.159046</td>\n      <td>5.843193e+00</td>\n      <td>0.087475</td>\n      <td>5.479778e+00</td>\n      <td>0.238569</td>\n      <td>0.165805</td>\n    </tr>\n    <tr>\n      <th>38</th>\n      <td>ALB</td>\n      <td>152.4200</td>\n      <td>1838</td>\n      <td>4.582682</td>\n      <td>0.091451</td>\n      <td>1.822138</td>\n      <td>0.258449</td>\n      <td>4.582682</td>\n      <td>0.091451</td>\n      <td>5.517248e+00</td>\n      <td>0.067594</td>\n      <td>6.488751e+00</td>\n      <td>0.32008</td>\n      <td>0.165805</td>\n    </tr>\n    <tr>\n      <th>39</th>\n      <td>WDC</td>\n      <td>45.9400</td>\n      <td>11827</td>\n      <td>-8.491682</td>\n      <td>0.053678</td>\n      <td>1.363771</td>\n      <td>0.135189</td>\n      <td>-8.491682</td>\n      <td>0.053678</td>\n      <td>-7.858946e+01</td>\n      <td>0.015905</td>\n      <td>1.066184e+01</td>\n      <td>0.582505</td>\n      <td>0.168191</td>\n    </tr>\n    <tr>\n      <th>40</th>\n      <td>TPR</td>\n      <td>27.5500</td>\n      <td>1919</td>\n      <td>6.957071</td>\n      <td>0.137177</td>\n      <td>2.750324</td>\n      <td>0.439364</td>\n      <td>6.957071</td>\n      <td>0.137177</td>\n      <td>6.544666e+00</td>\n      <td>0.109344</td>\n      <td>1.880295e+00</td>\n      <td>0.027833</td>\n      <td>0.170179</td>\n    </tr>\n    <tr>\n      <th>41</th>\n      <td>NRG</td>\n      <td>38.0500</td>\n      <td>1671</td>\n      <td>-4.388697</td>\n      <td>0.073559</td>\n      <td>3.269181</td>\n      <td>0.497018</td>\n      <td>-4.388697</td>\n      <td>0.073559</td>\n      <td>-1.737713e+01</td>\n      <td>0.017893</td>\n      <td>5.026093e+00</td>\n      <td>0.192843</td>\n      <td>0.170974</td>\n    </tr>\n    <tr>\n      <th>42</th>\n      <td>EOG</td>\n      <td>119.3000</td>\n      <td>1681</td>\n      <td>8.371930</td>\n      <td>0.16501</td>\n      <td>2.645350</td>\n      <td>0.421471</td>\n      <td>8.371930</td>\n      <td>0.163022</td>\n      <td>4.659813e+00</td>\n      <td>0.053678</td>\n      <td>2.868936e+00</td>\n      <td>0.067594</td>\n      <td>0.174155</td>\n    </tr>\n    <tr>\n      <th>43</th>\n      <td>DXC</td>\n      <td>21.1200</td>\n      <td>5713</td>\n      <td>-7.680000</td>\n      <td>0.055666</td>\n      <td>1.356803</td>\n      <td>0.133201</td>\n      <td>-7.680000</td>\n      <td>0.055666</td>\n      <td>1.645364e+01</td>\n      <td>0.604374</td>\n      <td>2.588968e+00</td>\n      <td>0.05169</td>\n      <td>0.180119</td>\n    </tr>\n    <tr>\n      <th>44</th>\n      <td>UHS</td>\n      <td>123.8600</td>\n      <td>3131</td>\n      <td>12.942529</td>\n      <td>0.280318</td>\n      <td>1.411993</td>\n      <td>0.149105</td>\n      <td>14.450220</td>\n      <td>0.310139</td>\n      <td>7.899472e+00</td>\n      <td>0.145129</td>\n      <td>1.148142e+00</td>\n      <td>0.015905</td>\n      <td>0.180119</td>\n    </tr>\n    <tr>\n      <th>45</th>\n      <td>CNC</td>\n      <td>68.6800</td>\n      <td>6415</td>\n      <td>14.131687</td>\n      <td>0.304175</td>\n      <td>1.460779</td>\n      <td>0.170974</td>\n      <td>14.131687</td>\n      <td>0.294235</td>\n      <td>6.201073e+00</td>\n      <td>0.095427</td>\n      <td>2.351091e+00</td>\n      <td>0.04175</td>\n      <td>0.181312</td>\n    </tr>\n    <tr>\n      <th>46</th>\n      <td>XOM</td>\n      <td>109.6550</td>\n      <td>1824</td>\n      <td>8.772400</td>\n      <td>0.172962</td>\n      <td>2.205362</td>\n      <td>0.337972</td>\n      <td>8.772400</td>\n      <td>0.170974</td>\n      <td>5.674922e+00</td>\n      <td>0.073559</td>\n      <td>4.357434e+00</td>\n      <td>0.157058</td>\n      <td>0.182505</td>\n    </tr>\n    <tr>\n      <th>47</th>\n      <td>BEN</td>\n      <td>23.4900</td>\n      <td>583</td>\n      <td>14.681250</td>\n      <td>0.335984</td>\n      <td>0.981080</td>\n      <td>0.059642</td>\n      <td>14.681250</td>\n      <td>0.326044</td>\n      <td>5.823080e+00</td>\n      <td>0.083499</td>\n      <td>3.546781e+00</td>\n      <td>0.117296</td>\n      <td>0.184493</td>\n    </tr>\n    <tr>\n      <th>48</th>\n      <td>NEM</td>\n      <td>35.8250</td>\n      <td>6041</td>\n      <td>-36.556122</td>\n      <td>0.019881</td>\n      <td>1.477746</td>\n      <td>0.17495</td>\n      <td>-36.556124</td>\n      <td>0.019881</td>\n      <td>9.260216e+00</td>\n      <td>0.202783</td>\n      <td>9.600874e+00</td>\n      <td>0.508946</td>\n      <td>0.185288</td>\n    </tr>\n    <tr>\n      <th>49</th>\n      <td>CVX</td>\n      <td>164.1300</td>\n      <td>3861</td>\n      <td>10.407736</td>\n      <td>0.202783</td>\n      <td>1.935701</td>\n      <td>0.284294</td>\n      <td>10.407737</td>\n      <td>0.200795</td>\n      <td>6.298297e+00</td>\n      <td>0.099404</td>\n      <td>4.392939e+00</td>\n      <td>0.159046</td>\n      <td>0.189264</td>\n    </tr>\n  </tbody>\n</table>\n</div>"
     },
     "execution_count": 34,
     "metadata": {},
     "output_type": "execute_result"
    }
   ],
   "source": [
    "rv_dataframe"
   ],
   "metadata": {
    "collapsed": false,
    "ExecuteTime": {
     "end_time": "2023-10-05T15:37:09.395987671Z",
     "start_time": "2023-10-05T15:37:09.300417714Z"
    }
   }
  },
  {
   "cell_type": "markdown",
   "source": [
    "## Formatting Our Excel Output\n",
    "\n",
    "We will be using the XlsxWriter library for Python to create nicely-formatted Excel files.\n",
    "\n",
    "### Initializing our XlsxWriter Object"
   ],
   "metadata": {
    "collapsed": false
   }
  },
  {
   "cell_type": "code",
   "execution_count": 35,
   "outputs": [],
   "source": [
    "writer = pd.ExcelWriter('value_strategy.xlsx', engine='xlsxwriter')\n",
    "rv_dataframe.to_excel(writer, sheet_name='Value Strategy', index=False)"
   ],
   "metadata": {
    "collapsed": false,
    "ExecuteTime": {
     "end_time": "2023-10-05T15:37:09.762216222Z",
     "start_time": "2023-10-05T15:37:09.373706210Z"
    }
   }
  },
  {
   "cell_type": "markdown",
   "source": [
    "## Formatting Our Excel Output"
   ],
   "metadata": {
    "collapsed": false
   }
  },
  {
   "cell_type": "code",
   "execution_count": 36,
   "outputs": [],
   "source": [
    "background_color = '#0a0a23'\n",
    "font_color = '#ffffff'\n",
    "\n",
    "string_template = writer.book.add_format(\n",
    "    {\n",
    "        'font_color': font_color,\n",
    "        'bg_color': background_color,\n",
    "        'border': 1\n",
    "    }\n",
    ")\n",
    "\n",
    "dollar_template = writer.book.add_format(\n",
    "    {\n",
    "        'num_format': '$0.00',\n",
    "        'font_color': font_color,\n",
    "        'bg_color': background_color,\n",
    "        'border': 1\n",
    "    }\n",
    ")\n",
    "\n",
    "integer_template = writer.book.add_format(\n",
    "    {\n",
    "        'num_format': '0',\n",
    "        'font_color': font_color,\n",
    "        'bg_color': background_color,\n",
    "        'border': 1\n",
    "    }\n",
    ")\n",
    "\n",
    "float_template = writer.book.add_format(\n",
    "    {\n",
    "        'num_format': '0.0',\n",
    "        'font_color': font_color,\n",
    "        'bg_color': background_color,\n",
    "        'border': 1\n",
    "    }\n",
    ")\n",
    "\n",
    "percent_template = writer.book.add_format(\n",
    "    {\n",
    "        'num_format': '0.0%',\n",
    "        'font_color': font_color,\n",
    "        'bg_color': background_color,\n",
    "        'border': 1\n",
    "    }\n",
    ")"
   ],
   "metadata": {
    "collapsed": false,
    "ExecuteTime": {
     "end_time": "2023-10-05T15:37:09.806959836Z",
     "start_time": "2023-10-05T15:37:09.766251161Z"
    }
   }
  },
  {
   "cell_type": "code",
   "execution_count": 37,
   "outputs": [],
   "source": [
    "column_formats = {\n",
    "    'A': ['Ticker', string_template],\n",
    "    'B': ['Stock Price', dollar_template],\n",
    "    'C': ['Number of Shares to Buy', integer_template],\n",
    "    'D': ['Price-to-Earning Ratio', float_template],\n",
    "    'E': ['PE Percentile', percent_template],\n",
    "    'F': ['Price-to-Book Value', float_template],\n",
    "    'G': ['PB Percentile', percent_template],\n",
    "    'H': ['Price-to-Sales Ratio', float_template],\n",
    "    'I': ['PS Percentile', percent_template],\n",
    "    'J': ['EV/EBITDA', float_template],\n",
    "    'K': ['EV/EBITDA Percentile', percent_template],\n",
    "    'L': ['EV/GP', float_template],\n",
    "    'M': ['EV/GP Percentile', percent_template],\n",
    "    'N': ['RV Score', percent_template]\n",
    "}\n",
    "\n",
    "for column in column_formats.keys():\n",
    "    writer.sheets['Value Strategy'].set_column(f'{column}:{column}', 20, column_formats[column][1])\n",
    "    writer.sheets['Value Strategy'].write(f'{column}1', column_formats[column][0], string_template)"
   ],
   "metadata": {
    "collapsed": false,
    "ExecuteTime": {
     "end_time": "2023-10-05T15:37:09.858855496Z",
     "start_time": "2023-10-05T15:37:09.806782179Z"
    }
   }
  },
  {
   "cell_type": "markdown",
   "source": [
    "## Saving Our Excel Output"
   ],
   "metadata": {
    "collapsed": false
   }
  },
  {
   "cell_type": "code",
   "execution_count": 38,
   "outputs": [],
   "source": [
    "writer.close()"
   ],
   "metadata": {
    "collapsed": false,
    "ExecuteTime": {
     "end_time": "2023-10-05T15:37:09.953814725Z",
     "start_time": "2023-10-05T15:37:09.852134058Z"
    }
   }
  }
 ],
 "metadata": {
  "kernelspec": {
   "display_name": "Python 3 (ipykernel)",
   "language": "python",
   "name": "python3"
  },
  "language_info": {
   "codemirror_mode": {
    "name": "ipython",
    "version": 3
   },
   "file_extension": ".py",
   "mimetype": "text/x-python",
   "name": "python",
   "nbconvert_exporter": "python",
   "pygments_lexer": "ipython3",
   "version": "3.10.12"
  }
 },
 "nbformat": 4,
 "nbformat_minor": 1
}
