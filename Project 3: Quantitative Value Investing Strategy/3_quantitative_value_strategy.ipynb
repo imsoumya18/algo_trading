{
 "cells": [
  {
   "cell_type": "markdown",
   "source": [
    "# Quantitative Value Strategy\n",
    "\"Value investing\" means investing in the stocks that are cheapest relative to common measures of business value (like earnings or assets).\n",
    "\n",
    "For this project, we're going to build an investing strategy that selects the 50 stocks with the best value metrics. From there, we will calculate recommended trades for an equal-weight portfolio of these 50 stocks.\n",
    "\n",
    "## Library Imports\n",
    "The first thing we need to do is import the open-source software libraries that we'll be using in this tutorial."
   ],
   "metadata": {
    "collapsed": false
   }
  },
  {
   "cell_type": "code",
   "execution_count": 1,
   "outputs": [
    {
     "name": "stdout",
     "output_type": "stream",
     "text": [
      "Requirement already satisfied: yfinance in /home/soumya/PyCharm Projects/quantitative_investment_strategy/venv/lib/python3.10/site-packages (0.2.28)\r\n",
      "Requirement already satisfied: numpy in /home/soumya/PyCharm Projects/quantitative_investment_strategy/venv/lib/python3.10/site-packages (1.26.0)\r\n",
      "Requirement already satisfied: pandas in /home/soumya/PyCharm Projects/quantitative_investment_strategy/venv/lib/python3.10/site-packages (2.1.1)\r\n",
      "Requirement already satisfied: scipy in /home/soumya/PyCharm Projects/quantitative_investment_strategy/venv/lib/python3.10/site-packages (1.11.2)\r\n",
      "Requirement already satisfied: XlsxWriter in /home/soumya/PyCharm Projects/quantitative_investment_strategy/venv/lib/python3.10/site-packages (3.1.4)\r\n",
      "Requirement already satisfied: ipython in /home/soumya/PyCharm Projects/quantitative_investment_strategy/venv/lib/python3.10/site-packages (8.15.0)\r\n",
      "Requirement already satisfied: requests>=2.31 in /home/soumya/PyCharm Projects/quantitative_investment_strategy/venv/lib/python3.10/site-packages (from yfinance) (2.31.0)\r\n",
      "Requirement already satisfied: multitasking>=0.0.7 in /home/soumya/PyCharm Projects/quantitative_investment_strategy/venv/lib/python3.10/site-packages (from yfinance) (0.0.11)\r\n",
      "Requirement already satisfied: lxml>=4.9.1 in /home/soumya/PyCharm Projects/quantitative_investment_strategy/venv/lib/python3.10/site-packages (from yfinance) (4.9.3)\r\n",
      "Requirement already satisfied: appdirs>=1.4.4 in /home/soumya/PyCharm Projects/quantitative_investment_strategy/venv/lib/python3.10/site-packages (from yfinance) (1.4.4)\r\n",
      "Requirement already satisfied: pytz>=2022.5 in /home/soumya/PyCharm Projects/quantitative_investment_strategy/venv/lib/python3.10/site-packages (from yfinance) (2023.3.post1)\r\n",
      "Requirement already satisfied: frozendict>=2.3.4 in /home/soumya/PyCharm Projects/quantitative_investment_strategy/venv/lib/python3.10/site-packages (from yfinance) (2.3.8)\r\n",
      "Requirement already satisfied: beautifulsoup4>=4.11.1 in /home/soumya/PyCharm Projects/quantitative_investment_strategy/venv/lib/python3.10/site-packages (from yfinance) (4.12.2)\r\n",
      "Requirement already satisfied: html5lib>=1.1 in /home/soumya/PyCharm Projects/quantitative_investment_strategy/venv/lib/python3.10/site-packages (from yfinance) (1.1)\r\n",
      "Requirement already satisfied: python-dateutil>=2.8.2 in /home/soumya/PyCharm Projects/quantitative_investment_strategy/venv/lib/python3.10/site-packages (from pandas) (2.8.2)\r\n",
      "Requirement already satisfied: tzdata>=2022.1 in /home/soumya/PyCharm Projects/quantitative_investment_strategy/venv/lib/python3.10/site-packages (from pandas) (2023.3)\r\n",
      "Requirement already satisfied: backcall in /home/soumya/PyCharm Projects/quantitative_investment_strategy/venv/lib/python3.10/site-packages (from ipython) (0.2.0)\r\n",
      "Requirement already satisfied: decorator in /home/soumya/PyCharm Projects/quantitative_investment_strategy/venv/lib/python3.10/site-packages (from ipython) (5.1.1)\r\n",
      "Requirement already satisfied: jedi>=0.16 in /home/soumya/PyCharm Projects/quantitative_investment_strategy/venv/lib/python3.10/site-packages (from ipython) (0.19.0)\r\n",
      "Requirement already satisfied: matplotlib-inline in /home/soumya/PyCharm Projects/quantitative_investment_strategy/venv/lib/python3.10/site-packages (from ipython) (0.1.6)\r\n",
      "Requirement already satisfied: pickleshare in /home/soumya/PyCharm Projects/quantitative_investment_strategy/venv/lib/python3.10/site-packages (from ipython) (0.7.5)\r\n",
      "Requirement already satisfied: prompt-toolkit!=3.0.37,<3.1.0,>=3.0.30 in /home/soumya/PyCharm Projects/quantitative_investment_strategy/venv/lib/python3.10/site-packages (from ipython) (3.0.39)\r\n",
      "Requirement already satisfied: pygments>=2.4.0 in /home/soumya/PyCharm Projects/quantitative_investment_strategy/venv/lib/python3.10/site-packages (from ipython) (2.16.1)\r\n",
      "Requirement already satisfied: stack-data in /home/soumya/PyCharm Projects/quantitative_investment_strategy/venv/lib/python3.10/site-packages (from ipython) (0.6.2)\r\n",
      "Requirement already satisfied: traitlets>=5 in /home/soumya/PyCharm Projects/quantitative_investment_strategy/venv/lib/python3.10/site-packages (from ipython) (5.10.0)\r\n",
      "Requirement already satisfied: exceptiongroup in /home/soumya/PyCharm Projects/quantitative_investment_strategy/venv/lib/python3.10/site-packages (from ipython) (1.1.3)\r\n",
      "Requirement already satisfied: pexpect>4.3 in /home/soumya/PyCharm Projects/quantitative_investment_strategy/venv/lib/python3.10/site-packages (from ipython) (4.8.0)\r\n",
      "Requirement already satisfied: soupsieve>1.2 in /home/soumya/PyCharm Projects/quantitative_investment_strategy/venv/lib/python3.10/site-packages (from beautifulsoup4>=4.11.1->yfinance) (2.5)\r\n",
      "Requirement already satisfied: six>=1.9 in /home/soumya/PyCharm Projects/quantitative_investment_strategy/venv/lib/python3.10/site-packages (from html5lib>=1.1->yfinance) (1.16.0)\r\n",
      "Requirement already satisfied: webencodings in /home/soumya/PyCharm Projects/quantitative_investment_strategy/venv/lib/python3.10/site-packages (from html5lib>=1.1->yfinance) (0.5.1)\r\n",
      "Requirement already satisfied: parso<0.9.0,>=0.8.3 in /home/soumya/PyCharm Projects/quantitative_investment_strategy/venv/lib/python3.10/site-packages (from jedi>=0.16->ipython) (0.8.3)\r\n",
      "Requirement already satisfied: ptyprocess>=0.5 in /home/soumya/PyCharm Projects/quantitative_investment_strategy/venv/lib/python3.10/site-packages (from pexpect>4.3->ipython) (0.7.0)\r\n",
      "Requirement already satisfied: wcwidth in /home/soumya/PyCharm Projects/quantitative_investment_strategy/venv/lib/python3.10/site-packages (from prompt-toolkit!=3.0.37,<3.1.0,>=3.0.30->ipython) (0.2.6)\r\n",
      "Requirement already satisfied: charset-normalizer<4,>=2 in /home/soumya/PyCharm Projects/quantitative_investment_strategy/venv/lib/python3.10/site-packages (from requests>=2.31->yfinance) (3.2.0)\r\n",
      "Requirement already satisfied: idna<4,>=2.5 in /home/soumya/PyCharm Projects/quantitative_investment_strategy/venv/lib/python3.10/site-packages (from requests>=2.31->yfinance) (3.4)\r\n",
      "Requirement already satisfied: urllib3<3,>=1.21.1 in /home/soumya/PyCharm Projects/quantitative_investment_strategy/venv/lib/python3.10/site-packages (from requests>=2.31->yfinance) (2.0.5)\r\n",
      "Requirement already satisfied: certifi>=2017.4.17 in /home/soumya/PyCharm Projects/quantitative_investment_strategy/venv/lib/python3.10/site-packages (from requests>=2.31->yfinance) (2023.7.22)\r\n",
      "Requirement already satisfied: executing>=1.2.0 in /home/soumya/PyCharm Projects/quantitative_investment_strategy/venv/lib/python3.10/site-packages (from stack-data->ipython) (1.2.0)\r\n",
      "Requirement already satisfied: asttokens>=2.1.0 in /home/soumya/PyCharm Projects/quantitative_investment_strategy/venv/lib/python3.10/site-packages (from stack-data->ipython) (2.4.0)\r\n",
      "Requirement already satisfied: pure-eval in /home/soumya/PyCharm Projects/quantitative_investment_strategy/venv/lib/python3.10/site-packages (from stack-data->ipython) (0.2.2)\r\n"
     ]
    }
   ],
   "source": [
    "! pip install yfinance numpy pandas scipy XlsxWriter ipython"
   ],
   "metadata": {
    "collapsed": false,
    "ExecuteTime": {
     "end_time": "2023-09-21T17:59:27.512306386Z",
     "start_time": "2023-09-21T17:59:25.631119802Z"
    }
   }
  },
  {
   "cell_type": "code",
   "execution_count": 2,
   "metadata": {
    "collapsed": true,
    "ExecuteTime": {
     "end_time": "2023-09-21T17:59:28.315667981Z",
     "start_time": "2023-09-21T17:59:27.516108172Z"
    }
   },
   "outputs": [],
   "source": [
    "import yfinance as yf\n",
    "import numpy as np\n",
    "import pandas as pd\n",
    "import math\n",
    "from scipy.stats import percentileofscore as score\n",
    "from statistics import mean\n",
    "import xlsxwriter\n",
    "from IPython.display import clear_output"
   ]
  },
  {
   "cell_type": "markdown",
   "source": [
    "## Importing Our List of Stocks\n",
    "\n",
    "The next thing we need to do is import the constituents of the S&P 500.\n",
    "\n",
    "These constituents change over time, so in an ideal world you would connect directly to the index provider (Standard & Poor's) and pull their real-time constituents on a regular basis. But, here we have just taken a list of ~500 stocks in a CSV file taken at the time of building the project.\n",
    "\n",
    "Now it's time to import these stocks to our Jupyter Notebook file."
   ],
   "metadata": {
    "collapsed": false
   }
  },
  {
   "cell_type": "code",
   "execution_count": 3,
   "metadata": {
    "ExecuteTime": {
     "end_time": "2023-09-21T17:59:28.358339027Z",
     "start_time": "2023-09-21T17:59:28.321003761Z"
    }
   },
   "outputs": [
    {
     "data": {
      "text/plain": "    Ticker\n0        A\n1      AAL\n2      AAP\n3     AAPL\n4     ABBV\n..     ...\n498    YUM\n499    ZBH\n500   ZBRA\n501   ZION\n502    ZTS\n\n[503 rows x 1 columns]",
      "text/html": "<div>\n<style scoped>\n    .dataframe tbody tr th:only-of-type {\n        vertical-align: middle;\n    }\n\n    .dataframe tbody tr th {\n        vertical-align: top;\n    }\n\n    .dataframe thead th {\n        text-align: right;\n    }\n</style>\n<table border=\"1\" class=\"dataframe\">\n  <thead>\n    <tr style=\"text-align: right;\">\n      <th></th>\n      <th>Ticker</th>\n    </tr>\n  </thead>\n  <tbody>\n    <tr>\n      <th>0</th>\n      <td>A</td>\n    </tr>\n    <tr>\n      <th>1</th>\n      <td>AAL</td>\n    </tr>\n    <tr>\n      <th>2</th>\n      <td>AAP</td>\n    </tr>\n    <tr>\n      <th>3</th>\n      <td>AAPL</td>\n    </tr>\n    <tr>\n      <th>4</th>\n      <td>ABBV</td>\n    </tr>\n    <tr>\n      <th>...</th>\n      <td>...</td>\n    </tr>\n    <tr>\n      <th>498</th>\n      <td>YUM</td>\n    </tr>\n    <tr>\n      <th>499</th>\n      <td>ZBH</td>\n    </tr>\n    <tr>\n      <th>500</th>\n      <td>ZBRA</td>\n    </tr>\n    <tr>\n      <th>501</th>\n      <td>ZION</td>\n    </tr>\n    <tr>\n      <th>502</th>\n      <td>ZTS</td>\n    </tr>\n  </tbody>\n</table>\n<p>503 rows × 1 columns</p>\n</div>"
     },
     "execution_count": 3,
     "metadata": {},
     "output_type": "execute_result"
    }
   ],
   "source": [
    "stocks = pd.read_csv('sp500.csv')\n",
    "stocks"
   ]
  },
  {
   "cell_type": "markdown",
   "source": [
    "## Adding Our Stocks Data to a Pandas DataFrame\n",
    "\n",
    "The next thing we need to do is add our stock's price and market capitalization to a pandas DataFrame."
   ],
   "metadata": {
    "collapsed": false
   }
  },
  {
   "cell_type": "code",
   "execution_count": 4,
   "metadata": {
    "ExecuteTime": {
     "end_time": "2023-09-21T17:59:28.360156676Z",
     "start_time": "2023-09-21T17:59:28.339750924Z"
    }
   },
   "outputs": [
    {
     "data": {
      "text/plain": "Empty DataFrame\nColumns: [Ticker, Stock Price, P/E Ratio, Number of Shares to Buy]\nIndex: []",
      "text/html": "<div>\n<style scoped>\n    .dataframe tbody tr th:only-of-type {\n        vertical-align: middle;\n    }\n\n    .dataframe tbody tr th {\n        vertical-align: top;\n    }\n\n    .dataframe thead th {\n        text-align: right;\n    }\n</style>\n<table border=\"1\" class=\"dataframe\">\n  <thead>\n    <tr style=\"text-align: right;\">\n      <th></th>\n      <th>Ticker</th>\n      <th>Stock Price</th>\n      <th>P/E Ratio</th>\n      <th>Number of Shares to Buy</th>\n    </tr>\n  </thead>\n  <tbody>\n  </tbody>\n</table>\n</div>"
     },
     "execution_count": 4,
     "metadata": {},
     "output_type": "execute_result"
    }
   ],
   "source": [
    "my_columns = ['Ticker',\n",
    "              'Stock Price',\n",
    "              'P/E Ratio',\n",
    "              'Number of Shares to Buy']\n",
    "final_dataframe = pd.DataFrame(columns=my_columns)\n",
    "final_dataframe"
   ]
  },
  {
   "cell_type": "markdown",
   "source": [
    "## Looping Through The Tickers in Our List of Stocks\n",
    "\n",
    "Here to fetch the stock data, we have used `yfinance` API\n",
    "\n",
    "We can pull data for all S&P 500 stocks and store their data in the DataFrame using a `for` loop."
   ],
   "metadata": {
    "collapsed": false
   }
  },
  {
   "cell_type": "code",
   "execution_count": 5,
   "outputs": [
    {
     "name": "stdout",
     "output_type": "stream",
     "text": [
      "    Ticker  Stock Price  P/E Ratio Number of Shares to Buy\n",
      "0        A     110.1700  28.840314                     N/A\n",
      "1      AAL      13.2350   3.446615                     N/A\n",
      "2      AAP      58.9300  10.177893                     N/A\n",
      "3     AAPL     175.3354  29.418691                     N/A\n",
      "4     ABBV     153.6200  31.609053                     N/A\n",
      "..     ...          ...        ...                     ...\n",
      "498    YUM     125.6800  25.389899                     N/A\n",
      "499    ZBH     118.1200  49.422594                     N/A\n",
      "500   ZBRA     231.2250  19.847639                     N/A\n",
      "501   ZION      34.4700   6.079365                     N/A\n",
      "502    ZTS     177.7750  37.426316                     N/A\n",
      "\n",
      "[503 rows x 4 columns]\n"
     ]
    }
   ],
   "source": [
    "for stock in stocks['Ticker']:\n",
    "    data = yf.Ticker(stock).info\n",
    "    price = data['currentPrice']\n",
    "    try:\n",
    "        peRatio = data['currentPrice'] / data['trailingEps']\n",
    "    except:\n",
    "        peRatio = np.NaN\n",
    "    stock_dict = {\n",
    "        'Ticker': [stock],\n",
    "        'Stock Price': [price],\n",
    "        'P/E Ratio': [peRatio],\n",
    "        'Number of Shares to Buy': ['N/A']\n",
    "    }\n",
    "    df = pd.DataFrame(stock_dict)\n",
    "    final_dataframe = pd.concat([final_dataframe, df], ignore_index=True)\n",
    "\n",
    "    clear_output(wait=True)\n",
    "    print(final_dataframe)"
   ],
   "metadata": {
    "collapsed": false
   }
  },
  {
   "cell_type": "code",
   "execution_count": 6,
   "outputs": [
    {
     "data": {
      "text/plain": "    Ticker  Stock Price  P/E Ratio Number of Shares to Buy\n0        A     110.1700  28.840314                     N/A\n1      AAL      13.2350   3.446615                     N/A\n2      AAP      58.9300  10.177893                     N/A\n3     AAPL     175.3354  29.418691                     N/A\n4     ABBV     153.6200  31.609053                     N/A\n..     ...          ...        ...                     ...\n498    YUM     125.6800  25.389899                     N/A\n499    ZBH     118.1200  49.422594                     N/A\n500   ZBRA     231.2250  19.847639                     N/A\n501   ZION      34.4700   6.079365                     N/A\n502    ZTS     177.7750  37.426316                     N/A\n\n[503 rows x 4 columns]",
      "text/html": "<div>\n<style scoped>\n    .dataframe tbody tr th:only-of-type {\n        vertical-align: middle;\n    }\n\n    .dataframe tbody tr th {\n        vertical-align: top;\n    }\n\n    .dataframe thead th {\n        text-align: right;\n    }\n</style>\n<table border=\"1\" class=\"dataframe\">\n  <thead>\n    <tr style=\"text-align: right;\">\n      <th></th>\n      <th>Ticker</th>\n      <th>Stock Price</th>\n      <th>P/E Ratio</th>\n      <th>Number of Shares to Buy</th>\n    </tr>\n  </thead>\n  <tbody>\n    <tr>\n      <th>0</th>\n      <td>A</td>\n      <td>110.1700</td>\n      <td>28.840314</td>\n      <td>N/A</td>\n    </tr>\n    <tr>\n      <th>1</th>\n      <td>AAL</td>\n      <td>13.2350</td>\n      <td>3.446615</td>\n      <td>N/A</td>\n    </tr>\n    <tr>\n      <th>2</th>\n      <td>AAP</td>\n      <td>58.9300</td>\n      <td>10.177893</td>\n      <td>N/A</td>\n    </tr>\n    <tr>\n      <th>3</th>\n      <td>AAPL</td>\n      <td>175.3354</td>\n      <td>29.418691</td>\n      <td>N/A</td>\n    </tr>\n    <tr>\n      <th>4</th>\n      <td>ABBV</td>\n      <td>153.6200</td>\n      <td>31.609053</td>\n      <td>N/A</td>\n    </tr>\n    <tr>\n      <th>...</th>\n      <td>...</td>\n      <td>...</td>\n      <td>...</td>\n      <td>...</td>\n    </tr>\n    <tr>\n      <th>498</th>\n      <td>YUM</td>\n      <td>125.6800</td>\n      <td>25.389899</td>\n      <td>N/A</td>\n    </tr>\n    <tr>\n      <th>499</th>\n      <td>ZBH</td>\n      <td>118.1200</td>\n      <td>49.422594</td>\n      <td>N/A</td>\n    </tr>\n    <tr>\n      <th>500</th>\n      <td>ZBRA</td>\n      <td>231.2250</td>\n      <td>19.847639</td>\n      <td>N/A</td>\n    </tr>\n    <tr>\n      <th>501</th>\n      <td>ZION</td>\n      <td>34.4700</td>\n      <td>6.079365</td>\n      <td>N/A</td>\n    </tr>\n    <tr>\n      <th>502</th>\n      <td>ZTS</td>\n      <td>177.7750</td>\n      <td>37.426316</td>\n      <td>N/A</td>\n    </tr>\n  </tbody>\n</table>\n<p>503 rows × 4 columns</p>\n</div>"
     },
     "execution_count": 6,
     "metadata": {},
     "output_type": "execute_result"
    }
   ],
   "source": [
    "final_dataframe"
   ],
   "metadata": {
    "collapsed": false,
    "ExecuteTime": {
     "end_time": "2023-09-21T18:07:06.190911898Z",
     "start_time": "2023-09-21T18:07:06.177427060Z"
    }
   }
  },
  {
   "cell_type": "code",
   "execution_count": 7,
   "outputs": [
    {
     "data": {
      "text/plain": "   Ticker  Stock Price  P/E Ratio Number of Shares to Buy\n80    CAT       274.58        NaN                     N/A",
      "text/html": "<div>\n<style scoped>\n    .dataframe tbody tr th:only-of-type {\n        vertical-align: middle;\n    }\n\n    .dataframe tbody tr th {\n        vertical-align: top;\n    }\n\n    .dataframe thead th {\n        text-align: right;\n    }\n</style>\n<table border=\"1\" class=\"dataframe\">\n  <thead>\n    <tr style=\"text-align: right;\">\n      <th></th>\n      <th>Ticker</th>\n      <th>Stock Price</th>\n      <th>P/E Ratio</th>\n      <th>Number of Shares to Buy</th>\n    </tr>\n  </thead>\n  <tbody>\n    <tr>\n      <th>80</th>\n      <td>CAT</td>\n      <td>274.58</td>\n      <td>NaN</td>\n      <td>N/A</td>\n    </tr>\n  </tbody>\n</table>\n</div>"
     },
     "execution_count": 7,
     "metadata": {},
     "output_type": "execute_result"
    }
   ],
   "source": [
    "final_dataframe[final_dataframe.isnull().any(axis=1)]"
   ],
   "metadata": {
    "collapsed": false,
    "ExecuteTime": {
     "end_time": "2023-09-21T18:07:06.226258919Z",
     "start_time": "2023-09-21T18:07:06.182216450Z"
    }
   }
  },
  {
   "cell_type": "markdown",
   "source": [
    "Filling the `NULL` cells of the `P/E Ratio` column with mean value"
   ],
   "metadata": {
    "collapsed": false
   }
  },
  {
   "cell_type": "code",
   "execution_count": 8,
   "outputs": [],
   "source": [
    "final_dataframe['P/E Ratio'].fillna(final_dataframe['P/E Ratio'].mean(), inplace=True)"
   ],
   "metadata": {
    "collapsed": false,
    "ExecuteTime": {
     "end_time": "2023-09-21T18:07:06.230601427Z",
     "start_time": "2023-09-21T18:07:06.208112116Z"
    }
   }
  },
  {
   "cell_type": "code",
   "execution_count": 9,
   "outputs": [
    {
     "data": {
      "text/plain": "Empty DataFrame\nColumns: [Ticker, Stock Price, P/E Ratio, Number of Shares to Buy]\nIndex: []",
      "text/html": "<div>\n<style scoped>\n    .dataframe tbody tr th:only-of-type {\n        vertical-align: middle;\n    }\n\n    .dataframe tbody tr th {\n        vertical-align: top;\n    }\n\n    .dataframe thead th {\n        text-align: right;\n    }\n</style>\n<table border=\"1\" class=\"dataframe\">\n  <thead>\n    <tr style=\"text-align: right;\">\n      <th></th>\n      <th>Ticker</th>\n      <th>Stock Price</th>\n      <th>P/E Ratio</th>\n      <th>Number of Shares to Buy</th>\n    </tr>\n  </thead>\n  <tbody>\n  </tbody>\n</table>\n</div>"
     },
     "execution_count": 9,
     "metadata": {},
     "output_type": "execute_result"
    }
   ],
   "source": [
    "final_dataframe[final_dataframe.isnull().any(axis=1)]"
   ],
   "metadata": {
    "collapsed": false,
    "ExecuteTime": {
     "end_time": "2023-09-21T18:07:06.327753224Z",
     "start_time": "2023-09-21T18:07:06.219622880Z"
    }
   }
  },
  {
   "cell_type": "code",
   "execution_count": 10,
   "outputs": [
    {
     "data": {
      "text/plain": "    Ticker  Stock Price  P/E Ratio Number of Shares to Buy\n0        A     110.1700  28.840314                     N/A\n1      AAL      13.2350   3.446615                     N/A\n2      AAP      58.9300  10.177893                     N/A\n3     AAPL     175.3354  29.418691                     N/A\n4     ABBV     153.6200  31.609053                     N/A\n..     ...          ...        ...                     ...\n498    YUM     125.6800  25.389899                     N/A\n499    ZBH     118.1200  49.422594                     N/A\n500   ZBRA     231.2250  19.847639                     N/A\n501   ZION      34.4700   6.079365                     N/A\n502    ZTS     177.7750  37.426316                     N/A\n\n[503 rows x 4 columns]",
      "text/html": "<div>\n<style scoped>\n    .dataframe tbody tr th:only-of-type {\n        vertical-align: middle;\n    }\n\n    .dataframe tbody tr th {\n        vertical-align: top;\n    }\n\n    .dataframe thead th {\n        text-align: right;\n    }\n</style>\n<table border=\"1\" class=\"dataframe\">\n  <thead>\n    <tr style=\"text-align: right;\">\n      <th></th>\n      <th>Ticker</th>\n      <th>Stock Price</th>\n      <th>P/E Ratio</th>\n      <th>Number of Shares to Buy</th>\n    </tr>\n  </thead>\n  <tbody>\n    <tr>\n      <th>0</th>\n      <td>A</td>\n      <td>110.1700</td>\n      <td>28.840314</td>\n      <td>N/A</td>\n    </tr>\n    <tr>\n      <th>1</th>\n      <td>AAL</td>\n      <td>13.2350</td>\n      <td>3.446615</td>\n      <td>N/A</td>\n    </tr>\n    <tr>\n      <th>2</th>\n      <td>AAP</td>\n      <td>58.9300</td>\n      <td>10.177893</td>\n      <td>N/A</td>\n    </tr>\n    <tr>\n      <th>3</th>\n      <td>AAPL</td>\n      <td>175.3354</td>\n      <td>29.418691</td>\n      <td>N/A</td>\n    </tr>\n    <tr>\n      <th>4</th>\n      <td>ABBV</td>\n      <td>153.6200</td>\n      <td>31.609053</td>\n      <td>N/A</td>\n    </tr>\n    <tr>\n      <th>...</th>\n      <td>...</td>\n      <td>...</td>\n      <td>...</td>\n      <td>...</td>\n    </tr>\n    <tr>\n      <th>498</th>\n      <td>YUM</td>\n      <td>125.6800</td>\n      <td>25.389899</td>\n      <td>N/A</td>\n    </tr>\n    <tr>\n      <th>499</th>\n      <td>ZBH</td>\n      <td>118.1200</td>\n      <td>49.422594</td>\n      <td>N/A</td>\n    </tr>\n    <tr>\n      <th>500</th>\n      <td>ZBRA</td>\n      <td>231.2250</td>\n      <td>19.847639</td>\n      <td>N/A</td>\n    </tr>\n    <tr>\n      <th>501</th>\n      <td>ZION</td>\n      <td>34.4700</td>\n      <td>6.079365</td>\n      <td>N/A</td>\n    </tr>\n    <tr>\n      <th>502</th>\n      <td>ZTS</td>\n      <td>177.7750</td>\n      <td>37.426316</td>\n      <td>N/A</td>\n    </tr>\n  </tbody>\n</table>\n<p>503 rows × 4 columns</p>\n</div>"
     },
     "execution_count": 10,
     "metadata": {},
     "output_type": "execute_result"
    }
   ],
   "source": [
    "final_dataframe"
   ],
   "metadata": {
    "collapsed": false,
    "ExecuteTime": {
     "end_time": "2023-09-21T18:07:06.362328088Z",
     "start_time": "2023-09-21T18:07:06.241520933Z"
    }
   }
  },
  {
   "cell_type": "markdown",
   "source": [
    "## Removing Glamour Stocks\n",
    "\n",
    "The opposite of a \"value stock\" is a \"glamour stock\". \n",
    "\n",
    "Since the goal of this strategy is to identify the 50 best value stocks from our universe, our next step is to remove glamour stocks from the DataFrame.\n",
    "\n",
    "We'll consider only those stocks whose `P/E Ratio` is positive."
   ],
   "metadata": {
    "collapsed": false
   }
  },
  {
   "cell_type": "code",
   "execution_count": 11,
   "outputs": [],
   "source": [
    "final_dataframe.sort_values('P/E Ratio', ascending=True, inplace=True)\n",
    "final_dataframe = final_dataframe[final_dataframe['P/E Ratio'] > 0]"
   ],
   "metadata": {
    "collapsed": false,
    "ExecuteTime": {
     "end_time": "2023-09-21T18:07:06.431416380Z",
     "start_time": "2023-09-21T18:07:06.289015087Z"
    }
   }
  },
  {
   "cell_type": "code",
   "execution_count": 12,
   "outputs": [
    {
     "data": {
      "text/plain": "    Ticker  Stock Price   P/E Ratio Number of Shares to Buy\n1      AAL      13.2350    3.446615                     N/A\n100    CMA      41.6095    4.343372                     N/A\n166    EQT      39.3050    4.476651                     N/A\n206     GM      33.0650    4.618017                     N/A\n468    VLO     147.8350    5.090737                     N/A\n..     ...          ...         ...                     ...\n420    STE     220.8550  184.045833                     N/A\n473    VTR      43.3000  196.818182                     N/A\n482   WELL      84.2500  324.038462                     N/A\n431    TAP      64.3300  338.578947                     N/A\n286    LVS      46.1750  659.642857                     N/A\n\n[463 rows x 4 columns]",
      "text/html": "<div>\n<style scoped>\n    .dataframe tbody tr th:only-of-type {\n        vertical-align: middle;\n    }\n\n    .dataframe tbody tr th {\n        vertical-align: top;\n    }\n\n    .dataframe thead th {\n        text-align: right;\n    }\n</style>\n<table border=\"1\" class=\"dataframe\">\n  <thead>\n    <tr style=\"text-align: right;\">\n      <th></th>\n      <th>Ticker</th>\n      <th>Stock Price</th>\n      <th>P/E Ratio</th>\n      <th>Number of Shares to Buy</th>\n    </tr>\n  </thead>\n  <tbody>\n    <tr>\n      <th>1</th>\n      <td>AAL</td>\n      <td>13.2350</td>\n      <td>3.446615</td>\n      <td>N/A</td>\n    </tr>\n    <tr>\n      <th>100</th>\n      <td>CMA</td>\n      <td>41.6095</td>\n      <td>4.343372</td>\n      <td>N/A</td>\n    </tr>\n    <tr>\n      <th>166</th>\n      <td>EQT</td>\n      <td>39.3050</td>\n      <td>4.476651</td>\n      <td>N/A</td>\n    </tr>\n    <tr>\n      <th>206</th>\n      <td>GM</td>\n      <td>33.0650</td>\n      <td>4.618017</td>\n      <td>N/A</td>\n    </tr>\n    <tr>\n      <th>468</th>\n      <td>VLO</td>\n      <td>147.8350</td>\n      <td>5.090737</td>\n      <td>N/A</td>\n    </tr>\n    <tr>\n      <th>...</th>\n      <td>...</td>\n      <td>...</td>\n      <td>...</td>\n      <td>...</td>\n    </tr>\n    <tr>\n      <th>420</th>\n      <td>STE</td>\n      <td>220.8550</td>\n      <td>184.045833</td>\n      <td>N/A</td>\n    </tr>\n    <tr>\n      <th>473</th>\n      <td>VTR</td>\n      <td>43.3000</td>\n      <td>196.818182</td>\n      <td>N/A</td>\n    </tr>\n    <tr>\n      <th>482</th>\n      <td>WELL</td>\n      <td>84.2500</td>\n      <td>324.038462</td>\n      <td>N/A</td>\n    </tr>\n    <tr>\n      <th>431</th>\n      <td>TAP</td>\n      <td>64.3300</td>\n      <td>338.578947</td>\n      <td>N/A</td>\n    </tr>\n    <tr>\n      <th>286</th>\n      <td>LVS</td>\n      <td>46.1750</td>\n      <td>659.642857</td>\n      <td>N/A</td>\n    </tr>\n  </tbody>\n</table>\n<p>463 rows × 4 columns</p>\n</div>"
     },
     "execution_count": 12,
     "metadata": {},
     "output_type": "execute_result"
    }
   ],
   "source": [
    "final_dataframe"
   ],
   "metadata": {
    "collapsed": false,
    "ExecuteTime": {
     "end_time": "2023-09-21T18:07:06.432361987Z",
     "start_time": "2023-09-21T18:07:06.332918702Z"
    }
   }
  },
  {
   "cell_type": "code",
   "execution_count": 13,
   "outputs": [],
   "source": [
    "final_dataframe = final_dataframe[:50]\n",
    "final_dataframe.reset_index(drop=True, inplace=True)"
   ],
   "metadata": {
    "collapsed": false,
    "ExecuteTime": {
     "end_time": "2023-09-21T18:07:06.454729924Z",
     "start_time": "2023-09-21T18:07:06.333145118Z"
    }
   }
  },
  {
   "cell_type": "code",
   "execution_count": 14,
   "outputs": [
    {
     "data": {
      "text/plain": "   Ticker  Stock Price  P/E Ratio Number of Shares to Buy\n0     AAL      13.2350   3.446615                     N/A\n1     CMA      41.6095   4.343372                     N/A\n2     EQT      39.3050   4.476651                     N/A\n3      GM      33.0650   4.618017                     N/A\n4     VLO     147.8350   5.090737                     N/A\n5     ALB     170.2701   5.117827                     N/A\n6     PSX     120.6900   5.204398                     N/A\n7     UAL      44.2400   5.564780                     N/A\n8     MPC     155.5600   5.704437                     N/A\n9    STLD     100.2400   5.804285                     N/A\n10    SYF      32.0150   5.820909                     N/A\n11    MOS      37.4800   5.856250                     N/A\n12   ZION      34.4700   6.079365                     N/A\n13    DFS      88.3850   6.108155                     N/A\n14    CFG      27.2650   6.140766                     N/A\n15    PHM      74.2000   6.173045                     N/A\n16    OGN      18.6450   6.320339                     N/A\n17   VTRS       9.7725   6.345779                     N/A\n18    DVN      46.6899   6.378402                     N/A\n19    TFC      28.2900   6.533487                     N/A\n20   CTRA      26.3450   6.636020                     N/A\n21      C      41.9826   6.653344                     N/A\n22     VZ      33.4500   6.690000                     N/A\n23   HBAN      10.4650   6.751613                     N/A\n24     CF      84.1850   6.928807                     N/A\n25    NUE     152.6800   7.019770                     N/A\n26    KEY      10.8100   7.255034                     N/A\n27    MTB     126.8850   7.402859                     N/A\n28     RF      17.5925   7.486170                     N/A\n29    TPR      29.4550   7.591495                     N/A\n30    COF      99.7300   7.595583                     N/A\n31   FITB      26.6100   7.602857                     N/A\n32    DHI     110.1751   7.841644                     N/A\n33   FANG     152.7100   7.920643                     N/A\n34    MRO      26.0650   8.069659                     N/A\n35    BAC      28.1997   8.103362                     N/A\n36    DAL      38.6424   8.292361                     N/A\n37    APA      40.5900   8.317623                     N/A\n38    EOG     123.8200   8.349292                     N/A\n39    PNC     122.8300   8.424554                     N/A\n40    LEN     114.0700   8.462166                     N/A\n41     IP      34.2350   8.474010                     N/A\n42    PFE      33.0250   8.690789                     N/A\n43     BG     114.0700   8.815301                     N/A\n44    GEN      19.1750   9.044811                     N/A\n45    XOM     115.8200   9.265600                     N/A\n46  BRK-B     364.2450   9.280127                     N/A\n47    STT      68.9500   9.330176                     N/A\n48    USB      33.5350   9.341226                     N/A\n49    AIG      61.5800   9.387195                     N/A",
      "text/html": "<div>\n<style scoped>\n    .dataframe tbody tr th:only-of-type {\n        vertical-align: middle;\n    }\n\n    .dataframe tbody tr th {\n        vertical-align: top;\n    }\n\n    .dataframe thead th {\n        text-align: right;\n    }\n</style>\n<table border=\"1\" class=\"dataframe\">\n  <thead>\n    <tr style=\"text-align: right;\">\n      <th></th>\n      <th>Ticker</th>\n      <th>Stock Price</th>\n      <th>P/E Ratio</th>\n      <th>Number of Shares to Buy</th>\n    </tr>\n  </thead>\n  <tbody>\n    <tr>\n      <th>0</th>\n      <td>AAL</td>\n      <td>13.2350</td>\n      <td>3.446615</td>\n      <td>N/A</td>\n    </tr>\n    <tr>\n      <th>1</th>\n      <td>CMA</td>\n      <td>41.6095</td>\n      <td>4.343372</td>\n      <td>N/A</td>\n    </tr>\n    <tr>\n      <th>2</th>\n      <td>EQT</td>\n      <td>39.3050</td>\n      <td>4.476651</td>\n      <td>N/A</td>\n    </tr>\n    <tr>\n      <th>3</th>\n      <td>GM</td>\n      <td>33.0650</td>\n      <td>4.618017</td>\n      <td>N/A</td>\n    </tr>\n    <tr>\n      <th>4</th>\n      <td>VLO</td>\n      <td>147.8350</td>\n      <td>5.090737</td>\n      <td>N/A</td>\n    </tr>\n    <tr>\n      <th>5</th>\n      <td>ALB</td>\n      <td>170.2701</td>\n      <td>5.117827</td>\n      <td>N/A</td>\n    </tr>\n    <tr>\n      <th>6</th>\n      <td>PSX</td>\n      <td>120.6900</td>\n      <td>5.204398</td>\n      <td>N/A</td>\n    </tr>\n    <tr>\n      <th>7</th>\n      <td>UAL</td>\n      <td>44.2400</td>\n      <td>5.564780</td>\n      <td>N/A</td>\n    </tr>\n    <tr>\n      <th>8</th>\n      <td>MPC</td>\n      <td>155.5600</td>\n      <td>5.704437</td>\n      <td>N/A</td>\n    </tr>\n    <tr>\n      <th>9</th>\n      <td>STLD</td>\n      <td>100.2400</td>\n      <td>5.804285</td>\n      <td>N/A</td>\n    </tr>\n    <tr>\n      <th>10</th>\n      <td>SYF</td>\n      <td>32.0150</td>\n      <td>5.820909</td>\n      <td>N/A</td>\n    </tr>\n    <tr>\n      <th>11</th>\n      <td>MOS</td>\n      <td>37.4800</td>\n      <td>5.856250</td>\n      <td>N/A</td>\n    </tr>\n    <tr>\n      <th>12</th>\n      <td>ZION</td>\n      <td>34.4700</td>\n      <td>6.079365</td>\n      <td>N/A</td>\n    </tr>\n    <tr>\n      <th>13</th>\n      <td>DFS</td>\n      <td>88.3850</td>\n      <td>6.108155</td>\n      <td>N/A</td>\n    </tr>\n    <tr>\n      <th>14</th>\n      <td>CFG</td>\n      <td>27.2650</td>\n      <td>6.140766</td>\n      <td>N/A</td>\n    </tr>\n    <tr>\n      <th>15</th>\n      <td>PHM</td>\n      <td>74.2000</td>\n      <td>6.173045</td>\n      <td>N/A</td>\n    </tr>\n    <tr>\n      <th>16</th>\n      <td>OGN</td>\n      <td>18.6450</td>\n      <td>6.320339</td>\n      <td>N/A</td>\n    </tr>\n    <tr>\n      <th>17</th>\n      <td>VTRS</td>\n      <td>9.7725</td>\n      <td>6.345779</td>\n      <td>N/A</td>\n    </tr>\n    <tr>\n      <th>18</th>\n      <td>DVN</td>\n      <td>46.6899</td>\n      <td>6.378402</td>\n      <td>N/A</td>\n    </tr>\n    <tr>\n      <th>19</th>\n      <td>TFC</td>\n      <td>28.2900</td>\n      <td>6.533487</td>\n      <td>N/A</td>\n    </tr>\n    <tr>\n      <th>20</th>\n      <td>CTRA</td>\n      <td>26.3450</td>\n      <td>6.636020</td>\n      <td>N/A</td>\n    </tr>\n    <tr>\n      <th>21</th>\n      <td>C</td>\n      <td>41.9826</td>\n      <td>6.653344</td>\n      <td>N/A</td>\n    </tr>\n    <tr>\n      <th>22</th>\n      <td>VZ</td>\n      <td>33.4500</td>\n      <td>6.690000</td>\n      <td>N/A</td>\n    </tr>\n    <tr>\n      <th>23</th>\n      <td>HBAN</td>\n      <td>10.4650</td>\n      <td>6.751613</td>\n      <td>N/A</td>\n    </tr>\n    <tr>\n      <th>24</th>\n      <td>CF</td>\n      <td>84.1850</td>\n      <td>6.928807</td>\n      <td>N/A</td>\n    </tr>\n    <tr>\n      <th>25</th>\n      <td>NUE</td>\n      <td>152.6800</td>\n      <td>7.019770</td>\n      <td>N/A</td>\n    </tr>\n    <tr>\n      <th>26</th>\n      <td>KEY</td>\n      <td>10.8100</td>\n      <td>7.255034</td>\n      <td>N/A</td>\n    </tr>\n    <tr>\n      <th>27</th>\n      <td>MTB</td>\n      <td>126.8850</td>\n      <td>7.402859</td>\n      <td>N/A</td>\n    </tr>\n    <tr>\n      <th>28</th>\n      <td>RF</td>\n      <td>17.5925</td>\n      <td>7.486170</td>\n      <td>N/A</td>\n    </tr>\n    <tr>\n      <th>29</th>\n      <td>TPR</td>\n      <td>29.4550</td>\n      <td>7.591495</td>\n      <td>N/A</td>\n    </tr>\n    <tr>\n      <th>30</th>\n      <td>COF</td>\n      <td>99.7300</td>\n      <td>7.595583</td>\n      <td>N/A</td>\n    </tr>\n    <tr>\n      <th>31</th>\n      <td>FITB</td>\n      <td>26.6100</td>\n      <td>7.602857</td>\n      <td>N/A</td>\n    </tr>\n    <tr>\n      <th>32</th>\n      <td>DHI</td>\n      <td>110.1751</td>\n      <td>7.841644</td>\n      <td>N/A</td>\n    </tr>\n    <tr>\n      <th>33</th>\n      <td>FANG</td>\n      <td>152.7100</td>\n      <td>7.920643</td>\n      <td>N/A</td>\n    </tr>\n    <tr>\n      <th>34</th>\n      <td>MRO</td>\n      <td>26.0650</td>\n      <td>8.069659</td>\n      <td>N/A</td>\n    </tr>\n    <tr>\n      <th>35</th>\n      <td>BAC</td>\n      <td>28.1997</td>\n      <td>8.103362</td>\n      <td>N/A</td>\n    </tr>\n    <tr>\n      <th>36</th>\n      <td>DAL</td>\n      <td>38.6424</td>\n      <td>8.292361</td>\n      <td>N/A</td>\n    </tr>\n    <tr>\n      <th>37</th>\n      <td>APA</td>\n      <td>40.5900</td>\n      <td>8.317623</td>\n      <td>N/A</td>\n    </tr>\n    <tr>\n      <th>38</th>\n      <td>EOG</td>\n      <td>123.8200</td>\n      <td>8.349292</td>\n      <td>N/A</td>\n    </tr>\n    <tr>\n      <th>39</th>\n      <td>PNC</td>\n      <td>122.8300</td>\n      <td>8.424554</td>\n      <td>N/A</td>\n    </tr>\n    <tr>\n      <th>40</th>\n      <td>LEN</td>\n      <td>114.0700</td>\n      <td>8.462166</td>\n      <td>N/A</td>\n    </tr>\n    <tr>\n      <th>41</th>\n      <td>IP</td>\n      <td>34.2350</td>\n      <td>8.474010</td>\n      <td>N/A</td>\n    </tr>\n    <tr>\n      <th>42</th>\n      <td>PFE</td>\n      <td>33.0250</td>\n      <td>8.690789</td>\n      <td>N/A</td>\n    </tr>\n    <tr>\n      <th>43</th>\n      <td>BG</td>\n      <td>114.0700</td>\n      <td>8.815301</td>\n      <td>N/A</td>\n    </tr>\n    <tr>\n      <th>44</th>\n      <td>GEN</td>\n      <td>19.1750</td>\n      <td>9.044811</td>\n      <td>N/A</td>\n    </tr>\n    <tr>\n      <th>45</th>\n      <td>XOM</td>\n      <td>115.8200</td>\n      <td>9.265600</td>\n      <td>N/A</td>\n    </tr>\n    <tr>\n      <th>46</th>\n      <td>BRK-B</td>\n      <td>364.2450</td>\n      <td>9.280127</td>\n      <td>N/A</td>\n    </tr>\n    <tr>\n      <th>47</th>\n      <td>STT</td>\n      <td>68.9500</td>\n      <td>9.330176</td>\n      <td>N/A</td>\n    </tr>\n    <tr>\n      <th>48</th>\n      <td>USB</td>\n      <td>33.5350</td>\n      <td>9.341226</td>\n      <td>N/A</td>\n    </tr>\n    <tr>\n      <th>49</th>\n      <td>AIG</td>\n      <td>61.5800</td>\n      <td>9.387195</td>\n      <td>N/A</td>\n    </tr>\n  </tbody>\n</table>\n</div>"
     },
     "execution_count": 14,
     "metadata": {},
     "output_type": "execute_result"
    }
   ],
   "source": [
    "final_dataframe"
   ],
   "metadata": {
    "collapsed": false,
    "ExecuteTime": {
     "end_time": "2023-09-21T18:07:06.456259226Z",
     "start_time": "2023-09-21T18:07:06.377063512Z"
    }
   }
  },
  {
   "cell_type": "markdown",
   "source": [
    "## Calculating the Number of Shares to Buy\n",
    "\n",
    "As we can see in the DataFrame above, we stil haven't calculated the number of shares of each stock to buy."
   ],
   "metadata": {
    "collapsed": false
   }
  },
  {
   "cell_type": "code",
   "execution_count": 15,
   "outputs": [
    {
     "data": {
      "text/plain": "10000000"
     },
     "execution_count": 15,
     "metadata": {},
     "output_type": "execute_result"
    }
   ],
   "source": [
    "# portfolio_size = float(input(\"Enter your portfolio value: \"))\n",
    "portfolio_size = 10000000\n",
    "portfolio_size"
   ],
   "metadata": {
    "collapsed": false,
    "ExecuteTime": {
     "end_time": "2023-09-21T18:07:06.456975376Z",
     "start_time": "2023-09-21T18:07:06.377293534Z"
    }
   }
  },
  {
   "cell_type": "code",
   "execution_count": 16,
   "outputs": [
    {
     "data": {
      "text/plain": "200000.0"
     },
     "execution_count": 16,
     "metadata": {},
     "output_type": "execute_result"
    }
   ],
   "source": [
    "position_size = float(portfolio_size) / len(final_dataframe.index)\n",
    "position_size"
   ],
   "metadata": {
    "collapsed": false,
    "ExecuteTime": {
     "end_time": "2023-09-21T18:07:06.489431840Z",
     "start_time": "2023-09-21T18:07:06.420918481Z"
    }
   }
  },
  {
   "cell_type": "code",
   "execution_count": 17,
   "outputs": [
    {
     "data": {
      "text/plain": "   Ticker  Stock Price  P/E Ratio Number of Shares to Buy\n0     AAL      13.2350   3.446615                   15111\n1     CMA      41.6095   4.343372                    4806\n2     EQT      39.3050   4.476651                    5088\n3      GM      33.0650   4.618017                    6048\n4     VLO     147.8350   5.090737                    1352\n5     ALB     170.2701   5.117827                    1174\n6     PSX     120.6900   5.204398                    1657\n7     UAL      44.2400   5.564780                    4520\n8     MPC     155.5600   5.704437                    1285\n9    STLD     100.2400   5.804285                    1995\n10    SYF      32.0150   5.820909                    6247\n11    MOS      37.4800   5.856250                    5336\n12   ZION      34.4700   6.079365                    5802\n13    DFS      88.3850   6.108155                    2262\n14    CFG      27.2650   6.140766                    7335\n15    PHM      74.2000   6.173045                    2695\n16    OGN      18.6450   6.320339                   10726\n17   VTRS       9.7725   6.345779                   20465\n18    DVN      46.6899   6.378402                    4283\n19    TFC      28.2900   6.533487                    7069\n20   CTRA      26.3450   6.636020                    7591\n21      C      41.9826   6.653344                    4763\n22     VZ      33.4500   6.690000                    5979\n23   HBAN      10.4650   6.751613                   19111\n24     CF      84.1850   6.928807                    2375\n25    NUE     152.6800   7.019770                    1309\n26    KEY      10.8100   7.255034                   18501\n27    MTB     126.8850   7.402859                    1576\n28     RF      17.5925   7.486170                   11368\n29    TPR      29.4550   7.591495                    6790\n30    COF      99.7300   7.595583                    2005\n31   FITB      26.6100   7.602857                    7515\n32    DHI     110.1751   7.841644                    1815\n33   FANG     152.7100   7.920643                    1309\n34    MRO      26.0650   8.069659                    7673\n35    BAC      28.1997   8.103362                    7092\n36    DAL      38.6424   8.292361                    5175\n37    APA      40.5900   8.317623                    4927\n38    EOG     123.8200   8.349292                    1615\n39    PNC     122.8300   8.424554                    1628\n40    LEN     114.0700   8.462166                    1753\n41     IP      34.2350   8.474010                    5841\n42    PFE      33.0250   8.690789                    6056\n43     BG     114.0700   8.815301                    1753\n44    GEN      19.1750   9.044811                   10430\n45    XOM     115.8200   9.265600                    1726\n46  BRK-B     364.2450   9.280127                     549\n47    STT      68.9500   9.330176                    2900\n48    USB      33.5350   9.341226                    5963\n49    AIG      61.5800   9.387195                    3247",
      "text/html": "<div>\n<style scoped>\n    .dataframe tbody tr th:only-of-type {\n        vertical-align: middle;\n    }\n\n    .dataframe tbody tr th {\n        vertical-align: top;\n    }\n\n    .dataframe thead th {\n        text-align: right;\n    }\n</style>\n<table border=\"1\" class=\"dataframe\">\n  <thead>\n    <tr style=\"text-align: right;\">\n      <th></th>\n      <th>Ticker</th>\n      <th>Stock Price</th>\n      <th>P/E Ratio</th>\n      <th>Number of Shares to Buy</th>\n    </tr>\n  </thead>\n  <tbody>\n    <tr>\n      <th>0</th>\n      <td>AAL</td>\n      <td>13.2350</td>\n      <td>3.446615</td>\n      <td>15111</td>\n    </tr>\n    <tr>\n      <th>1</th>\n      <td>CMA</td>\n      <td>41.6095</td>\n      <td>4.343372</td>\n      <td>4806</td>\n    </tr>\n    <tr>\n      <th>2</th>\n      <td>EQT</td>\n      <td>39.3050</td>\n      <td>4.476651</td>\n      <td>5088</td>\n    </tr>\n    <tr>\n      <th>3</th>\n      <td>GM</td>\n      <td>33.0650</td>\n      <td>4.618017</td>\n      <td>6048</td>\n    </tr>\n    <tr>\n      <th>4</th>\n      <td>VLO</td>\n      <td>147.8350</td>\n      <td>5.090737</td>\n      <td>1352</td>\n    </tr>\n    <tr>\n      <th>5</th>\n      <td>ALB</td>\n      <td>170.2701</td>\n      <td>5.117827</td>\n      <td>1174</td>\n    </tr>\n    <tr>\n      <th>6</th>\n      <td>PSX</td>\n      <td>120.6900</td>\n      <td>5.204398</td>\n      <td>1657</td>\n    </tr>\n    <tr>\n      <th>7</th>\n      <td>UAL</td>\n      <td>44.2400</td>\n      <td>5.564780</td>\n      <td>4520</td>\n    </tr>\n    <tr>\n      <th>8</th>\n      <td>MPC</td>\n      <td>155.5600</td>\n      <td>5.704437</td>\n      <td>1285</td>\n    </tr>\n    <tr>\n      <th>9</th>\n      <td>STLD</td>\n      <td>100.2400</td>\n      <td>5.804285</td>\n      <td>1995</td>\n    </tr>\n    <tr>\n      <th>10</th>\n      <td>SYF</td>\n      <td>32.0150</td>\n      <td>5.820909</td>\n      <td>6247</td>\n    </tr>\n    <tr>\n      <th>11</th>\n      <td>MOS</td>\n      <td>37.4800</td>\n      <td>5.856250</td>\n      <td>5336</td>\n    </tr>\n    <tr>\n      <th>12</th>\n      <td>ZION</td>\n      <td>34.4700</td>\n      <td>6.079365</td>\n      <td>5802</td>\n    </tr>\n    <tr>\n      <th>13</th>\n      <td>DFS</td>\n      <td>88.3850</td>\n      <td>6.108155</td>\n      <td>2262</td>\n    </tr>\n    <tr>\n      <th>14</th>\n      <td>CFG</td>\n      <td>27.2650</td>\n      <td>6.140766</td>\n      <td>7335</td>\n    </tr>\n    <tr>\n      <th>15</th>\n      <td>PHM</td>\n      <td>74.2000</td>\n      <td>6.173045</td>\n      <td>2695</td>\n    </tr>\n    <tr>\n      <th>16</th>\n      <td>OGN</td>\n      <td>18.6450</td>\n      <td>6.320339</td>\n      <td>10726</td>\n    </tr>\n    <tr>\n      <th>17</th>\n      <td>VTRS</td>\n      <td>9.7725</td>\n      <td>6.345779</td>\n      <td>20465</td>\n    </tr>\n    <tr>\n      <th>18</th>\n      <td>DVN</td>\n      <td>46.6899</td>\n      <td>6.378402</td>\n      <td>4283</td>\n    </tr>\n    <tr>\n      <th>19</th>\n      <td>TFC</td>\n      <td>28.2900</td>\n      <td>6.533487</td>\n      <td>7069</td>\n    </tr>\n    <tr>\n      <th>20</th>\n      <td>CTRA</td>\n      <td>26.3450</td>\n      <td>6.636020</td>\n      <td>7591</td>\n    </tr>\n    <tr>\n      <th>21</th>\n      <td>C</td>\n      <td>41.9826</td>\n      <td>6.653344</td>\n      <td>4763</td>\n    </tr>\n    <tr>\n      <th>22</th>\n      <td>VZ</td>\n      <td>33.4500</td>\n      <td>6.690000</td>\n      <td>5979</td>\n    </tr>\n    <tr>\n      <th>23</th>\n      <td>HBAN</td>\n      <td>10.4650</td>\n      <td>6.751613</td>\n      <td>19111</td>\n    </tr>\n    <tr>\n      <th>24</th>\n      <td>CF</td>\n      <td>84.1850</td>\n      <td>6.928807</td>\n      <td>2375</td>\n    </tr>\n    <tr>\n      <th>25</th>\n      <td>NUE</td>\n      <td>152.6800</td>\n      <td>7.019770</td>\n      <td>1309</td>\n    </tr>\n    <tr>\n      <th>26</th>\n      <td>KEY</td>\n      <td>10.8100</td>\n      <td>7.255034</td>\n      <td>18501</td>\n    </tr>\n    <tr>\n      <th>27</th>\n      <td>MTB</td>\n      <td>126.8850</td>\n      <td>7.402859</td>\n      <td>1576</td>\n    </tr>\n    <tr>\n      <th>28</th>\n      <td>RF</td>\n      <td>17.5925</td>\n      <td>7.486170</td>\n      <td>11368</td>\n    </tr>\n    <tr>\n      <th>29</th>\n      <td>TPR</td>\n      <td>29.4550</td>\n      <td>7.591495</td>\n      <td>6790</td>\n    </tr>\n    <tr>\n      <th>30</th>\n      <td>COF</td>\n      <td>99.7300</td>\n      <td>7.595583</td>\n      <td>2005</td>\n    </tr>\n    <tr>\n      <th>31</th>\n      <td>FITB</td>\n      <td>26.6100</td>\n      <td>7.602857</td>\n      <td>7515</td>\n    </tr>\n    <tr>\n      <th>32</th>\n      <td>DHI</td>\n      <td>110.1751</td>\n      <td>7.841644</td>\n      <td>1815</td>\n    </tr>\n    <tr>\n      <th>33</th>\n      <td>FANG</td>\n      <td>152.7100</td>\n      <td>7.920643</td>\n      <td>1309</td>\n    </tr>\n    <tr>\n      <th>34</th>\n      <td>MRO</td>\n      <td>26.0650</td>\n      <td>8.069659</td>\n      <td>7673</td>\n    </tr>\n    <tr>\n      <th>35</th>\n      <td>BAC</td>\n      <td>28.1997</td>\n      <td>8.103362</td>\n      <td>7092</td>\n    </tr>\n    <tr>\n      <th>36</th>\n      <td>DAL</td>\n      <td>38.6424</td>\n      <td>8.292361</td>\n      <td>5175</td>\n    </tr>\n    <tr>\n      <th>37</th>\n      <td>APA</td>\n      <td>40.5900</td>\n      <td>8.317623</td>\n      <td>4927</td>\n    </tr>\n    <tr>\n      <th>38</th>\n      <td>EOG</td>\n      <td>123.8200</td>\n      <td>8.349292</td>\n      <td>1615</td>\n    </tr>\n    <tr>\n      <th>39</th>\n      <td>PNC</td>\n      <td>122.8300</td>\n      <td>8.424554</td>\n      <td>1628</td>\n    </tr>\n    <tr>\n      <th>40</th>\n      <td>LEN</td>\n      <td>114.0700</td>\n      <td>8.462166</td>\n      <td>1753</td>\n    </tr>\n    <tr>\n      <th>41</th>\n      <td>IP</td>\n      <td>34.2350</td>\n      <td>8.474010</td>\n      <td>5841</td>\n    </tr>\n    <tr>\n      <th>42</th>\n      <td>PFE</td>\n      <td>33.0250</td>\n      <td>8.690789</td>\n      <td>6056</td>\n    </tr>\n    <tr>\n      <th>43</th>\n      <td>BG</td>\n      <td>114.0700</td>\n      <td>8.815301</td>\n      <td>1753</td>\n    </tr>\n    <tr>\n      <th>44</th>\n      <td>GEN</td>\n      <td>19.1750</td>\n      <td>9.044811</td>\n      <td>10430</td>\n    </tr>\n    <tr>\n      <th>45</th>\n      <td>XOM</td>\n      <td>115.8200</td>\n      <td>9.265600</td>\n      <td>1726</td>\n    </tr>\n    <tr>\n      <th>46</th>\n      <td>BRK-B</td>\n      <td>364.2450</td>\n      <td>9.280127</td>\n      <td>549</td>\n    </tr>\n    <tr>\n      <th>47</th>\n      <td>STT</td>\n      <td>68.9500</td>\n      <td>9.330176</td>\n      <td>2900</td>\n    </tr>\n    <tr>\n      <th>48</th>\n      <td>USB</td>\n      <td>33.5350</td>\n      <td>9.341226</td>\n      <td>5963</td>\n    </tr>\n    <tr>\n      <th>49</th>\n      <td>AIG</td>\n      <td>61.5800</td>\n      <td>9.387195</td>\n      <td>3247</td>\n    </tr>\n  </tbody>\n</table>\n</div>"
     },
     "execution_count": 17,
     "metadata": {},
     "output_type": "execute_result"
    }
   ],
   "source": [
    "for i in range(len(final_dataframe.index)):\n",
    "    final_dataframe.loc[i, 'Number of Shares to Buy'] = math.floor(\n",
    "        position_size / final_dataframe.loc[i, 'Stock Price'])\n",
    "\n",
    "final_dataframe"
   ],
   "metadata": {
    "collapsed": false,
    "ExecuteTime": {
     "end_time": "2023-09-21T18:07:06.495182927Z",
     "start_time": "2023-09-21T18:07:06.421072453Z"
    }
   }
  },
  {
   "cell_type": "markdown",
   "source": [
    "## Building a Better (and More Realistic) Value Strategy\n",
    "Every valuation metric has certain flaws.\n",
    "\n",
    "For example, the price-to-earnings ratio doesn't work well with stocks with negative earnings.\n",
    "\n",
    "Similarly, stocks that buyback their own shares are difficult to value using the price-to-book ratio.\n",
    "\n",
    "Investors typically use a `composite` basket of valuation metrics to build robust quantitative value strategies. In this section, we will filter for stocks with the lowest percentiles on the following metrics:\n",
    "\n",
    "* Price-to-earnings ratio\n",
    "* Price-to-book ratio\n",
    "* Price-to-sales ratio\n",
    "* Enterprise Value divided by Earnings Before Interest, Taxes, Depreciation, and Amortization (EV/EBITDA)\n",
    "* Enterprise Value divided by Gross Profit (EV/GP)"
   ],
   "metadata": {
    "collapsed": false
   }
  },
  {
   "cell_type": "code",
   "execution_count": 18,
   "outputs": [
    {
     "data": {
      "text/plain": "Empty DataFrame\nColumns: [Ticker, Stock Price, Number of Shares to Buy, Price-to-Earning Ratio, PE Percentile, Price-to-Book Value, PB Percentile, Price-to-Sales Ratio, PS Percentile, EV/EBITDA, EV/EBITDA Percentile, EV/GP, EV/GP Percentile, RV Score]\nIndex: []",
      "text/html": "<div>\n<style scoped>\n    .dataframe tbody tr th:only-of-type {\n        vertical-align: middle;\n    }\n\n    .dataframe tbody tr th {\n        vertical-align: top;\n    }\n\n    .dataframe thead th {\n        text-align: right;\n    }\n</style>\n<table border=\"1\" class=\"dataframe\">\n  <thead>\n    <tr style=\"text-align: right;\">\n      <th></th>\n      <th>Ticker</th>\n      <th>Stock Price</th>\n      <th>Number of Shares to Buy</th>\n      <th>Price-to-Earning Ratio</th>\n      <th>PE Percentile</th>\n      <th>Price-to-Book Value</th>\n      <th>PB Percentile</th>\n      <th>Price-to-Sales Ratio</th>\n      <th>PS Percentile</th>\n      <th>EV/EBITDA</th>\n      <th>EV/EBITDA Percentile</th>\n      <th>EV/GP</th>\n      <th>EV/GP Percentile</th>\n      <th>RV Score</th>\n    </tr>\n  </thead>\n  <tbody>\n  </tbody>\n</table>\n</div>"
     },
     "execution_count": 18,
     "metadata": {},
     "output_type": "execute_result"
    }
   ],
   "source": [
    "rv_columns = ['Ticker',\n",
    "              'Stock Price',\n",
    "              'Number of Shares to Buy',\n",
    "              'Price-to-Earning Ratio',\n",
    "              'PE Percentile',\n",
    "              'Price-to-Book Value',\n",
    "              'PB Percentile',\n",
    "              'Price-to-Sales Ratio',\n",
    "              'PS Percentile',\n",
    "              'EV/EBITDA',\n",
    "              'EV/EBITDA Percentile',\n",
    "              'EV/GP',\n",
    "              'EV/GP Percentile',\n",
    "              'RV Score']\n",
    "\n",
    "rv_dataframe = pd.DataFrame(columns=rv_columns)\n",
    "rv_dataframe"
   ],
   "metadata": {
    "collapsed": false,
    "ExecuteTime": {
     "end_time": "2023-09-21T18:07:06.583952683Z",
     "start_time": "2023-09-21T18:07:06.443491265Z"
    }
   }
  },
  {
   "cell_type": "code",
   "execution_count": 19,
   "outputs": [
    {
     "name": "stdout",
     "output_type": "stream",
     "text": [
      "    Ticker  Stock Price Number of Shares to Buy  Price-to-Earning Ratio  \\\n",
      "0        A     110.1500                     N/A               28.835079   \n",
      "1      AAL      13.2250                     N/A                3.444010   \n",
      "2      AAP      58.9600                     N/A               10.183074   \n",
      "3     AAPL     175.1629                     N/A               29.389748   \n",
      "4     ABBV     153.4700                     N/A               31.578189   \n",
      "..     ...          ...                     ...                     ...   \n",
      "498    YUM     125.3400                     N/A               25.321212   \n",
      "499    ZBH     118.4300                     N/A               49.552301   \n",
      "500   ZBRA     230.4900                     N/A               19.784549   \n",
      "501   ZION      34.4850                     N/A                6.082011   \n",
      "502    ZTS     177.6300                     N/A               37.395789   \n",
      "\n",
      "    PE Percentile  Price-to-Book Value PB Percentile  Price-to-Sales Ratio  \\\n",
      "0             N/A             5.801643           N/A             28.835078   \n",
      "1             N/A                  NaN           N/A              3.444011   \n",
      "2             N/A             1.278792           N/A             10.183074   \n",
      "3             N/A            45.473236           N/A             29.389750   \n",
      "4             N/A            21.052126           N/A             31.578190   \n",
      "..            ...                  ...           ...                   ...   \n",
      "498           N/A                  NaN           N/A             25.321212   \n",
      "499           N/A             1.998819           N/A             49.552300   \n",
      "500           N/A             3.954466           N/A             19.784549   \n",
      "501           N/A             1.054877           N/A              6.082011   \n",
      "502           N/A            17.695757           N/A             37.395792   \n",
      "\n",
      "    PS Percentile     EV/EBITDA EV/EBITDA Percentile         EV/GP  \\\n",
      "0             N/A  1.914441e+01                  N/A  9.098995e+00   \n",
      "1             N/A  5.240561e+00                  N/A  4.333597e+00   \n",
      "2             N/A  8.981198e+00                  N/A  1.577023e+00   \n",
      "3             N/A  2.247013e+01                  N/A  1.630927e+01   \n",
      "4             N/A  1.108060e+01                  N/A  7.960365e+00   \n",
      "..            ...           ...                  ...           ...   \n",
      "498           N/A  1.969126e+01                  N/A  1.420128e+01   \n",
      "499           N/A  1.285927e+01                  N/A  6.167244e+00   \n",
      "500           N/A  1.274976e+01                  N/A  5.398242e+00   \n",
      "501           N/A  8.227780e+09                  N/A  8.227780e+09   \n",
      "502           N/A  2.561998e+01                  N/A  1.543301e+01   \n",
      "\n",
      "    EV/GP Percentile RV Score  \n",
      "0                N/A      N/A  \n",
      "1                N/A      N/A  \n",
      "2                N/A      N/A  \n",
      "3                N/A      N/A  \n",
      "4                N/A      N/A  \n",
      "..               ...      ...  \n",
      "498              N/A      N/A  \n",
      "499              N/A      N/A  \n",
      "500              N/A      N/A  \n",
      "501              N/A      N/A  \n",
      "502              N/A      N/A  \n",
      "\n",
      "[503 rows x 14 columns]\n"
     ]
    }
   ],
   "source": [
    "for stock in stocks['Ticker']:\n",
    "    data = yf.Ticker(stock).info\n",
    "    financials = yf.Ticker(stock).financials\n",
    "\n",
    "    try:\n",
    "        price = data['currentPrice']\n",
    "    except:\n",
    "        price = np.NaN\n",
    "\n",
    "    try:\n",
    "        eps = data['trailingEps']\n",
    "    except:\n",
    "        eps = 1\n",
    "\n",
    "    try:\n",
    "        peRatio = price / eps\n",
    "    except:\n",
    "        peRatio = np.NaN\n",
    "\n",
    "    try:\n",
    "        pbRatio = data['priceToBook']\n",
    "    except:\n",
    "        pbRatio = np.NaN\n",
    "\n",
    "    try:\n",
    "        marketCap = data['marketCap']\n",
    "    except:\n",
    "        marketCap = np.NaN\n",
    "\n",
    "    try:\n",
    "        outstandingShares = data['sharesOutstanding']\n",
    "    except:\n",
    "        outstandingShares = 1\n",
    "\n",
    "    try:\n",
    "        psRatio = marketCap / (outstandingShares * eps)\n",
    "    except:\n",
    "        psRatio = np.NaN\n",
    "\n",
    "    try:\n",
    "        debt = data['totalDebt']\n",
    "    except:\n",
    "        debt = np.NaN\n",
    "\n",
    "    try:\n",
    "        cash = data['totalCash']\n",
    "    except:\n",
    "        cash = np.NaN\n",
    "\n",
    "    try:\n",
    "        ebitda = data['ebitda']\n",
    "    except:\n",
    "        ebitda = 1\n",
    "\n",
    "    try:\n",
    "        evToEBIDTA = (marketCap + debt - cash) / ebitda\n",
    "    except:\n",
    "        evToEBIDTA = np.NaN\n",
    "\n",
    "    try:\n",
    "        grossProfit = financials.loc['Gross Profit'][0]\n",
    "    except:\n",
    "        grossProfit = 1\n",
    "\n",
    "    try:\n",
    "        evToGP = (marketCap + debt - cash) / grossProfit\n",
    "    except:\n",
    "        evToGP = np.NaN\n",
    "\n",
    "    stock_dict = {\n",
    "        'Ticker': [stock],\n",
    "        'Stock Price': [price],\n",
    "        'Number of Shares to Buy': ['N/A'],\n",
    "        'Price-to-Earning Ratio': [peRatio],\n",
    "        'PE Percentile': ['N/A'],\n",
    "        'Price-to-Book Value': [pbRatio],\n",
    "        'PB Percentile': ['N/A'],\n",
    "        'Price-to-Sales Ratio': [psRatio],\n",
    "        'PS Percentile': ['N/A'],\n",
    "        'EV/EBITDA': [evToEBIDTA],\n",
    "        'EV/EBITDA Percentile': ['N/A'],\n",
    "        'EV/GP': [evToGP],\n",
    "        'EV/GP Percentile': ['N/A'],\n",
    "        'RV Score': ['N/A']\n",
    "    }\n",
    "    df = pd.DataFrame(stock_dict)\n",
    "    rv_dataframe = pd.concat([rv_dataframe, df], ignore_index=True)\n",
    "\n",
    "    clear_output(wait=True)\n",
    "    print(rv_dataframe)"
   ],
   "metadata": {
    "collapsed": false
   }
  },
  {
   "cell_type": "code",
   "execution_count": 20,
   "outputs": [
    {
     "data": {
      "text/plain": "    Ticker  Stock Price Number of Shares to Buy  Price-to-Earning Ratio  \\\n0        A     110.1500                     N/A               28.835079   \n1      AAL      13.2250                     N/A                3.444010   \n2      AAP      58.9600                     N/A               10.183074   \n3     AAPL     175.1629                     N/A               29.389748   \n4     ABBV     153.4700                     N/A               31.578189   \n..     ...          ...                     ...                     ...   \n498    YUM     125.3400                     N/A               25.321212   \n499    ZBH     118.4300                     N/A               49.552301   \n500   ZBRA     230.4900                     N/A               19.784549   \n501   ZION      34.4850                     N/A                6.082011   \n502    ZTS     177.6300                     N/A               37.395789   \n\n    PE Percentile  Price-to-Book Value PB Percentile  Price-to-Sales Ratio  \\\n0             N/A             5.801643           N/A             28.835078   \n1             N/A                  NaN           N/A              3.444011   \n2             N/A             1.278792           N/A             10.183074   \n3             N/A            45.473236           N/A             29.389750   \n4             N/A            21.052126           N/A             31.578190   \n..            ...                  ...           ...                   ...   \n498           N/A                  NaN           N/A             25.321212   \n499           N/A             1.998819           N/A             49.552300   \n500           N/A             3.954466           N/A             19.784549   \n501           N/A             1.054877           N/A              6.082011   \n502           N/A            17.695757           N/A             37.395792   \n\n    PS Percentile     EV/EBITDA EV/EBITDA Percentile         EV/GP  \\\n0             N/A  1.914441e+01                  N/A  9.098995e+00   \n1             N/A  5.240561e+00                  N/A  4.333597e+00   \n2             N/A  8.981198e+00                  N/A  1.577023e+00   \n3             N/A  2.247013e+01                  N/A  1.630927e+01   \n4             N/A  1.108060e+01                  N/A  7.960365e+00   \n..            ...           ...                  ...           ...   \n498           N/A  1.969126e+01                  N/A  1.420128e+01   \n499           N/A  1.285927e+01                  N/A  6.167244e+00   \n500           N/A  1.274976e+01                  N/A  5.398242e+00   \n501           N/A  8.227780e+09                  N/A  8.227780e+09   \n502           N/A  2.561998e+01                  N/A  1.543301e+01   \n\n    EV/GP Percentile RV Score  \n0                N/A      N/A  \n1                N/A      N/A  \n2                N/A      N/A  \n3                N/A      N/A  \n4                N/A      N/A  \n..               ...      ...  \n498              N/A      N/A  \n499              N/A      N/A  \n500              N/A      N/A  \n501              N/A      N/A  \n502              N/A      N/A  \n\n[503 rows x 14 columns]",
      "text/html": "<div>\n<style scoped>\n    .dataframe tbody tr th:only-of-type {\n        vertical-align: middle;\n    }\n\n    .dataframe tbody tr th {\n        vertical-align: top;\n    }\n\n    .dataframe thead th {\n        text-align: right;\n    }\n</style>\n<table border=\"1\" class=\"dataframe\">\n  <thead>\n    <tr style=\"text-align: right;\">\n      <th></th>\n      <th>Ticker</th>\n      <th>Stock Price</th>\n      <th>Number of Shares to Buy</th>\n      <th>Price-to-Earning Ratio</th>\n      <th>PE Percentile</th>\n      <th>Price-to-Book Value</th>\n      <th>PB Percentile</th>\n      <th>Price-to-Sales Ratio</th>\n      <th>PS Percentile</th>\n      <th>EV/EBITDA</th>\n      <th>EV/EBITDA Percentile</th>\n      <th>EV/GP</th>\n      <th>EV/GP Percentile</th>\n      <th>RV Score</th>\n    </tr>\n  </thead>\n  <tbody>\n    <tr>\n      <th>0</th>\n      <td>A</td>\n      <td>110.1500</td>\n      <td>N/A</td>\n      <td>28.835079</td>\n      <td>N/A</td>\n      <td>5.801643</td>\n      <td>N/A</td>\n      <td>28.835078</td>\n      <td>N/A</td>\n      <td>1.914441e+01</td>\n      <td>N/A</td>\n      <td>9.098995e+00</td>\n      <td>N/A</td>\n      <td>N/A</td>\n    </tr>\n    <tr>\n      <th>1</th>\n      <td>AAL</td>\n      <td>13.2250</td>\n      <td>N/A</td>\n      <td>3.444010</td>\n      <td>N/A</td>\n      <td>NaN</td>\n      <td>N/A</td>\n      <td>3.444011</td>\n      <td>N/A</td>\n      <td>5.240561e+00</td>\n      <td>N/A</td>\n      <td>4.333597e+00</td>\n      <td>N/A</td>\n      <td>N/A</td>\n    </tr>\n    <tr>\n      <th>2</th>\n      <td>AAP</td>\n      <td>58.9600</td>\n      <td>N/A</td>\n      <td>10.183074</td>\n      <td>N/A</td>\n      <td>1.278792</td>\n      <td>N/A</td>\n      <td>10.183074</td>\n      <td>N/A</td>\n      <td>8.981198e+00</td>\n      <td>N/A</td>\n      <td>1.577023e+00</td>\n      <td>N/A</td>\n      <td>N/A</td>\n    </tr>\n    <tr>\n      <th>3</th>\n      <td>AAPL</td>\n      <td>175.1629</td>\n      <td>N/A</td>\n      <td>29.389748</td>\n      <td>N/A</td>\n      <td>45.473236</td>\n      <td>N/A</td>\n      <td>29.389750</td>\n      <td>N/A</td>\n      <td>2.247013e+01</td>\n      <td>N/A</td>\n      <td>1.630927e+01</td>\n      <td>N/A</td>\n      <td>N/A</td>\n    </tr>\n    <tr>\n      <th>4</th>\n      <td>ABBV</td>\n      <td>153.4700</td>\n      <td>N/A</td>\n      <td>31.578189</td>\n      <td>N/A</td>\n      <td>21.052126</td>\n      <td>N/A</td>\n      <td>31.578190</td>\n      <td>N/A</td>\n      <td>1.108060e+01</td>\n      <td>N/A</td>\n      <td>7.960365e+00</td>\n      <td>N/A</td>\n      <td>N/A</td>\n    </tr>\n    <tr>\n      <th>...</th>\n      <td>...</td>\n      <td>...</td>\n      <td>...</td>\n      <td>...</td>\n      <td>...</td>\n      <td>...</td>\n      <td>...</td>\n      <td>...</td>\n      <td>...</td>\n      <td>...</td>\n      <td>...</td>\n      <td>...</td>\n      <td>...</td>\n      <td>...</td>\n    </tr>\n    <tr>\n      <th>498</th>\n      <td>YUM</td>\n      <td>125.3400</td>\n      <td>N/A</td>\n      <td>25.321212</td>\n      <td>N/A</td>\n      <td>NaN</td>\n      <td>N/A</td>\n      <td>25.321212</td>\n      <td>N/A</td>\n      <td>1.969126e+01</td>\n      <td>N/A</td>\n      <td>1.420128e+01</td>\n      <td>N/A</td>\n      <td>N/A</td>\n    </tr>\n    <tr>\n      <th>499</th>\n      <td>ZBH</td>\n      <td>118.4300</td>\n      <td>N/A</td>\n      <td>49.552301</td>\n      <td>N/A</td>\n      <td>1.998819</td>\n      <td>N/A</td>\n      <td>49.552300</td>\n      <td>N/A</td>\n      <td>1.285927e+01</td>\n      <td>N/A</td>\n      <td>6.167244e+00</td>\n      <td>N/A</td>\n      <td>N/A</td>\n    </tr>\n    <tr>\n      <th>500</th>\n      <td>ZBRA</td>\n      <td>230.4900</td>\n      <td>N/A</td>\n      <td>19.784549</td>\n      <td>N/A</td>\n      <td>3.954466</td>\n      <td>N/A</td>\n      <td>19.784549</td>\n      <td>N/A</td>\n      <td>1.274976e+01</td>\n      <td>N/A</td>\n      <td>5.398242e+00</td>\n      <td>N/A</td>\n      <td>N/A</td>\n    </tr>\n    <tr>\n      <th>501</th>\n      <td>ZION</td>\n      <td>34.4850</td>\n      <td>N/A</td>\n      <td>6.082011</td>\n      <td>N/A</td>\n      <td>1.054877</td>\n      <td>N/A</td>\n      <td>6.082011</td>\n      <td>N/A</td>\n      <td>8.227780e+09</td>\n      <td>N/A</td>\n      <td>8.227780e+09</td>\n      <td>N/A</td>\n      <td>N/A</td>\n    </tr>\n    <tr>\n      <th>502</th>\n      <td>ZTS</td>\n      <td>177.6300</td>\n      <td>N/A</td>\n      <td>37.395789</td>\n      <td>N/A</td>\n      <td>17.695757</td>\n      <td>N/A</td>\n      <td>37.395792</td>\n      <td>N/A</td>\n      <td>2.561998e+01</td>\n      <td>N/A</td>\n      <td>1.543301e+01</td>\n      <td>N/A</td>\n      <td>N/A</td>\n    </tr>\n  </tbody>\n</table>\n<p>503 rows × 14 columns</p>\n</div>"
     },
     "execution_count": 20,
     "metadata": {},
     "output_type": "execute_result"
    }
   ],
   "source": [
    "rv_dataframe"
   ],
   "metadata": {
    "collapsed": false,
    "ExecuteTime": {
     "end_time": "2023-09-21T18:18:26.002214463Z",
     "start_time": "2023-09-21T18:18:25.961133383Z"
    }
   }
  },
  {
   "cell_type": "code",
   "execution_count": 21,
   "outputs": [
    {
     "data": {
      "text/plain": "    Ticker  Stock Price Number of Shares to Buy  Price-to-Earning Ratio  \\\n1      AAL       13.225                     N/A                3.444010   \n52     AZO     2546.340                     N/A               18.423703   \n53      BA      201.080                     N/A              -26.882353   \n57    BBWI       34.420                     N/A               11.397351   \n66    BKNG     3042.095                     N/A               27.072128   \n78     CAH       89.630                     N/A               89.630000   \n80     CAT      274.600                     N/A              274.600000   \n98      CL       73.575                     N/A               41.103352   \n142    DPZ      379.755                     N/A               28.682402   \n171   ETSY       64.770                     N/A              -11.343257   \n187   FICO      896.905                     N/A               54.823044   \n218    HCA      254.755                     N/A               12.586709   \n223    HLT      149.540                     N/A               31.350105   \n227    HPQ       26.995                     N/A               11.585837   \n283    LOW      211.870                     N/A               20.490329   \n289    LYV       80.480                     N/A               71.857143   \n292    MAR      196.450                     N/A               22.425799   \n293    MAS       54.140                     N/A               15.250704   \n294    MCD      273.610                     N/A               25.217512   \n296    MCK      439.735                     N/A               16.389676   \n310     MO       42.965                     N/A               11.306579   \n319   MSCI      520.195                     N/A               45.591148   \n323   MTCH       41.230                     N/A               25.608696   \n324    MTD     1106.960                     N/A               27.883123   \n349    OGN       18.645                     N/A                6.320339   \n354   ORLY      931.940                     N/A               25.462842   \n355   OTIS       81.625                     N/A               25.830696   \n374     PM       96.290                     N/A               18.624758   \n406   SBAC      207.530                     N/A               44.249467   \n407   SBUX       93.880                     N/A               28.621951   \n423    STX       66.000                     N/A              -25.482625   \n432    TDG      848.115                     N/A               46.168481   \n471   VRSN      200.880                     N/A               29.672083   \n493   WYNN       90.770                     N/A             -567.312500   \n498    YUM      125.340                     N/A               25.321212   \n\n    PE Percentile  Price-to-Book Value PB Percentile  Price-to-Sales Ratio  \\\n1             N/A                  NaN           N/A          3.444011e+00   \n52            N/A                  NaN           N/A          1.842370e+01   \n53            N/A                  NaN           N/A         -2.688235e+01   \n57            N/A                  NaN           N/A          1.139735e+01   \n66            N/A                  NaN           N/A          2.707213e+01   \n78            N/A                  NaN           N/A          8.963000e+01   \n80            N/A                  NaN           N/A          1.417886e+11   \n98            N/A                  NaN           N/A          4.110335e+01   \n142           N/A                  NaN           N/A          2.868240e+01   \n171           N/A                  NaN           N/A         -1.134326e+01   \n187           N/A                  NaN           N/A          5.482305e+01   \n218           N/A                  NaN           N/A          1.258671e+01   \n223           N/A                  NaN           N/A          3.135010e+01   \n227           N/A                  NaN           N/A          1.158584e+01   \n283           N/A                  NaN           N/A          2.049033e+01   \n289           N/A                  NaN           N/A          7.185715e+01   \n292           N/A                  NaN           N/A          2.242580e+01   \n293           N/A                  NaN           N/A          1.525070e+01   \n294           N/A                  NaN           N/A          2.521751e+01   \n296           N/A                  NaN           N/A          1.638968e+01   \n310           N/A                  NaN           N/A          1.131180e+01   \n319           N/A                  NaN           N/A          4.559115e+01   \n323           N/A                  NaN           N/A          2.560870e+01   \n324           N/A                  NaN           N/A          2.788312e+01   \n349           N/A                  NaN           N/A          6.320339e+00   \n354           N/A                  NaN           N/A          2.546284e+01   \n355           N/A                  NaN           N/A          2.583070e+01   \n374           N/A                  NaN           N/A          1.862476e+01   \n406           N/A                  NaN           N/A          4.424947e+01   \n407           N/A                  NaN           N/A          2.862195e+01   \n423           N/A                  NaN           N/A         -2.548263e+01   \n432           N/A                  NaN           N/A          4.616848e+01   \n471           N/A                  NaN           N/A          2.967208e+01   \n493           N/A                  NaN           N/A         -5.673125e+02   \n498           N/A                  NaN           N/A          2.532121e+01   \n\n    PS Percentile   EV/EBITDA EV/EBITDA Percentile         EV/GP  \\\n1             N/A    5.240561                  N/A  4.333597e+00   \n52            N/A   14.207104                  N/A  6.149497e+00   \n53            N/A  148.649526                  N/A  4.563057e+01   \n57            N/A    8.812170                  N/A  3.971568e+00   \n66            N/A   17.168797                  N/A  1.079231e+11   \n78            N/A    9.624137                  N/A  3.439487e+00   \n80            N/A         NaN                  N/A           NaN   \n98            N/A   17.403611                  N/A  6.706368e+00   \n142           N/A   21.639694                  N/A  1.120762e+01   \n171           N/A   21.477430                  N/A  5.094549e+00   \n187           N/A   38.557362                  N/A  2.241988e+01   \n218           N/A    8.861497                  N/A  2.144377e+00   \n223           N/A   19.404459                  N/A  1.774307e+01   \n227           N/A    7.163976                  N/A  2.916119e+00   \n283           N/A   11.546298                  N/A  4.931437e+00   \n289           N/A   13.976252                  N/A  4.559836e+00   \n292           N/A   16.278297                  N/A  1.542831e+01   \n293           N/A   10.432175                  N/A  5.556393e+00   \n294           N/A   18.926423                  N/A  1.865028e+01   \n296           N/A   12.682572                  N/A  5.191870e+00   \n310           N/A    8.385285                  N/A  7.202187e+00   \n319           N/A   32.944973                  N/A  2.440704e+01   \n323           N/A   15.590570                  N/A  6.580260e+00   \n324           N/A   20.894390                  N/A  1.138312e+01   \n349           N/A    7.674281                  N/A  3.394089e+00   \n354           N/A   18.347109                  N/A  8.564951e+00   \n355           N/A   17.059372                  N/A  1.009201e+01   \n374           N/A   14.313171                  N/A  9.526413e+00   \n406           N/A   21.387535                  N/A  1.893440e+01   \n407           N/A   19.729323                  N/A  1.533029e+01   \n423           N/A   34.206145                  N/A  1.387488e+01   \n432           N/A   21.167344                  N/A  2.047748e+01   \n471           N/A   21.183303                  N/A  1.762045e+01   \n493           N/A   19.949453                  N/A  1.607826e+01   \n498           N/A   19.691258                  N/A  1.420128e+01   \n\n    EV/GP Percentile RV Score  \n1                N/A      N/A  \n52               N/A      N/A  \n53               N/A      N/A  \n57               N/A      N/A  \n66               N/A      N/A  \n78               N/A      N/A  \n80               N/A      N/A  \n98               N/A      N/A  \n142              N/A      N/A  \n171              N/A      N/A  \n187              N/A      N/A  \n218              N/A      N/A  \n223              N/A      N/A  \n227              N/A      N/A  \n283              N/A      N/A  \n289              N/A      N/A  \n292              N/A      N/A  \n293              N/A      N/A  \n294              N/A      N/A  \n296              N/A      N/A  \n310              N/A      N/A  \n319              N/A      N/A  \n323              N/A      N/A  \n324              N/A      N/A  \n349              N/A      N/A  \n354              N/A      N/A  \n355              N/A      N/A  \n374              N/A      N/A  \n406              N/A      N/A  \n407              N/A      N/A  \n423              N/A      N/A  \n432              N/A      N/A  \n471              N/A      N/A  \n493              N/A      N/A  \n498              N/A      N/A  ",
      "text/html": "<div>\n<style scoped>\n    .dataframe tbody tr th:only-of-type {\n        vertical-align: middle;\n    }\n\n    .dataframe tbody tr th {\n        vertical-align: top;\n    }\n\n    .dataframe thead th {\n        text-align: right;\n    }\n</style>\n<table border=\"1\" class=\"dataframe\">\n  <thead>\n    <tr style=\"text-align: right;\">\n      <th></th>\n      <th>Ticker</th>\n      <th>Stock Price</th>\n      <th>Number of Shares to Buy</th>\n      <th>Price-to-Earning Ratio</th>\n      <th>PE Percentile</th>\n      <th>Price-to-Book Value</th>\n      <th>PB Percentile</th>\n      <th>Price-to-Sales Ratio</th>\n      <th>PS Percentile</th>\n      <th>EV/EBITDA</th>\n      <th>EV/EBITDA Percentile</th>\n      <th>EV/GP</th>\n      <th>EV/GP Percentile</th>\n      <th>RV Score</th>\n    </tr>\n  </thead>\n  <tbody>\n    <tr>\n      <th>1</th>\n      <td>AAL</td>\n      <td>13.225</td>\n      <td>N/A</td>\n      <td>3.444010</td>\n      <td>N/A</td>\n      <td>NaN</td>\n      <td>N/A</td>\n      <td>3.444011e+00</td>\n      <td>N/A</td>\n      <td>5.240561</td>\n      <td>N/A</td>\n      <td>4.333597e+00</td>\n      <td>N/A</td>\n      <td>N/A</td>\n    </tr>\n    <tr>\n      <th>52</th>\n      <td>AZO</td>\n      <td>2546.340</td>\n      <td>N/A</td>\n      <td>18.423703</td>\n      <td>N/A</td>\n      <td>NaN</td>\n      <td>N/A</td>\n      <td>1.842370e+01</td>\n      <td>N/A</td>\n      <td>14.207104</td>\n      <td>N/A</td>\n      <td>6.149497e+00</td>\n      <td>N/A</td>\n      <td>N/A</td>\n    </tr>\n    <tr>\n      <th>53</th>\n      <td>BA</td>\n      <td>201.080</td>\n      <td>N/A</td>\n      <td>-26.882353</td>\n      <td>N/A</td>\n      <td>NaN</td>\n      <td>N/A</td>\n      <td>-2.688235e+01</td>\n      <td>N/A</td>\n      <td>148.649526</td>\n      <td>N/A</td>\n      <td>4.563057e+01</td>\n      <td>N/A</td>\n      <td>N/A</td>\n    </tr>\n    <tr>\n      <th>57</th>\n      <td>BBWI</td>\n      <td>34.420</td>\n      <td>N/A</td>\n      <td>11.397351</td>\n      <td>N/A</td>\n      <td>NaN</td>\n      <td>N/A</td>\n      <td>1.139735e+01</td>\n      <td>N/A</td>\n      <td>8.812170</td>\n      <td>N/A</td>\n      <td>3.971568e+00</td>\n      <td>N/A</td>\n      <td>N/A</td>\n    </tr>\n    <tr>\n      <th>66</th>\n      <td>BKNG</td>\n      <td>3042.095</td>\n      <td>N/A</td>\n      <td>27.072128</td>\n      <td>N/A</td>\n      <td>NaN</td>\n      <td>N/A</td>\n      <td>2.707213e+01</td>\n      <td>N/A</td>\n      <td>17.168797</td>\n      <td>N/A</td>\n      <td>1.079231e+11</td>\n      <td>N/A</td>\n      <td>N/A</td>\n    </tr>\n    <tr>\n      <th>78</th>\n      <td>CAH</td>\n      <td>89.630</td>\n      <td>N/A</td>\n      <td>89.630000</td>\n      <td>N/A</td>\n      <td>NaN</td>\n      <td>N/A</td>\n      <td>8.963000e+01</td>\n      <td>N/A</td>\n      <td>9.624137</td>\n      <td>N/A</td>\n      <td>3.439487e+00</td>\n      <td>N/A</td>\n      <td>N/A</td>\n    </tr>\n    <tr>\n      <th>80</th>\n      <td>CAT</td>\n      <td>274.600</td>\n      <td>N/A</td>\n      <td>274.600000</td>\n      <td>N/A</td>\n      <td>NaN</td>\n      <td>N/A</td>\n      <td>1.417886e+11</td>\n      <td>N/A</td>\n      <td>NaN</td>\n      <td>N/A</td>\n      <td>NaN</td>\n      <td>N/A</td>\n      <td>N/A</td>\n    </tr>\n    <tr>\n      <th>98</th>\n      <td>CL</td>\n      <td>73.575</td>\n      <td>N/A</td>\n      <td>41.103352</td>\n      <td>N/A</td>\n      <td>NaN</td>\n      <td>N/A</td>\n      <td>4.110335e+01</td>\n      <td>N/A</td>\n      <td>17.403611</td>\n      <td>N/A</td>\n      <td>6.706368e+00</td>\n      <td>N/A</td>\n      <td>N/A</td>\n    </tr>\n    <tr>\n      <th>142</th>\n      <td>DPZ</td>\n      <td>379.755</td>\n      <td>N/A</td>\n      <td>28.682402</td>\n      <td>N/A</td>\n      <td>NaN</td>\n      <td>N/A</td>\n      <td>2.868240e+01</td>\n      <td>N/A</td>\n      <td>21.639694</td>\n      <td>N/A</td>\n      <td>1.120762e+01</td>\n      <td>N/A</td>\n      <td>N/A</td>\n    </tr>\n    <tr>\n      <th>171</th>\n      <td>ETSY</td>\n      <td>64.770</td>\n      <td>N/A</td>\n      <td>-11.343257</td>\n      <td>N/A</td>\n      <td>NaN</td>\n      <td>N/A</td>\n      <td>-1.134326e+01</td>\n      <td>N/A</td>\n      <td>21.477430</td>\n      <td>N/A</td>\n      <td>5.094549e+00</td>\n      <td>N/A</td>\n      <td>N/A</td>\n    </tr>\n    <tr>\n      <th>187</th>\n      <td>FICO</td>\n      <td>896.905</td>\n      <td>N/A</td>\n      <td>54.823044</td>\n      <td>N/A</td>\n      <td>NaN</td>\n      <td>N/A</td>\n      <td>5.482305e+01</td>\n      <td>N/A</td>\n      <td>38.557362</td>\n      <td>N/A</td>\n      <td>2.241988e+01</td>\n      <td>N/A</td>\n      <td>N/A</td>\n    </tr>\n    <tr>\n      <th>218</th>\n      <td>HCA</td>\n      <td>254.755</td>\n      <td>N/A</td>\n      <td>12.586709</td>\n      <td>N/A</td>\n      <td>NaN</td>\n      <td>N/A</td>\n      <td>1.258671e+01</td>\n      <td>N/A</td>\n      <td>8.861497</td>\n      <td>N/A</td>\n      <td>2.144377e+00</td>\n      <td>N/A</td>\n      <td>N/A</td>\n    </tr>\n    <tr>\n      <th>223</th>\n      <td>HLT</td>\n      <td>149.540</td>\n      <td>N/A</td>\n      <td>31.350105</td>\n      <td>N/A</td>\n      <td>NaN</td>\n      <td>N/A</td>\n      <td>3.135010e+01</td>\n      <td>N/A</td>\n      <td>19.404459</td>\n      <td>N/A</td>\n      <td>1.774307e+01</td>\n      <td>N/A</td>\n      <td>N/A</td>\n    </tr>\n    <tr>\n      <th>227</th>\n      <td>HPQ</td>\n      <td>26.995</td>\n      <td>N/A</td>\n      <td>11.585837</td>\n      <td>N/A</td>\n      <td>NaN</td>\n      <td>N/A</td>\n      <td>1.158584e+01</td>\n      <td>N/A</td>\n      <td>7.163976</td>\n      <td>N/A</td>\n      <td>2.916119e+00</td>\n      <td>N/A</td>\n      <td>N/A</td>\n    </tr>\n    <tr>\n      <th>283</th>\n      <td>LOW</td>\n      <td>211.870</td>\n      <td>N/A</td>\n      <td>20.490329</td>\n      <td>N/A</td>\n      <td>NaN</td>\n      <td>N/A</td>\n      <td>2.049033e+01</td>\n      <td>N/A</td>\n      <td>11.546298</td>\n      <td>N/A</td>\n      <td>4.931437e+00</td>\n      <td>N/A</td>\n      <td>N/A</td>\n    </tr>\n    <tr>\n      <th>289</th>\n      <td>LYV</td>\n      <td>80.480</td>\n      <td>N/A</td>\n      <td>71.857143</td>\n      <td>N/A</td>\n      <td>NaN</td>\n      <td>N/A</td>\n      <td>7.185715e+01</td>\n      <td>N/A</td>\n      <td>13.976252</td>\n      <td>N/A</td>\n      <td>4.559836e+00</td>\n      <td>N/A</td>\n      <td>N/A</td>\n    </tr>\n    <tr>\n      <th>292</th>\n      <td>MAR</td>\n      <td>196.450</td>\n      <td>N/A</td>\n      <td>22.425799</td>\n      <td>N/A</td>\n      <td>NaN</td>\n      <td>N/A</td>\n      <td>2.242580e+01</td>\n      <td>N/A</td>\n      <td>16.278297</td>\n      <td>N/A</td>\n      <td>1.542831e+01</td>\n      <td>N/A</td>\n      <td>N/A</td>\n    </tr>\n    <tr>\n      <th>293</th>\n      <td>MAS</td>\n      <td>54.140</td>\n      <td>N/A</td>\n      <td>15.250704</td>\n      <td>N/A</td>\n      <td>NaN</td>\n      <td>N/A</td>\n      <td>1.525070e+01</td>\n      <td>N/A</td>\n      <td>10.432175</td>\n      <td>N/A</td>\n      <td>5.556393e+00</td>\n      <td>N/A</td>\n      <td>N/A</td>\n    </tr>\n    <tr>\n      <th>294</th>\n      <td>MCD</td>\n      <td>273.610</td>\n      <td>N/A</td>\n      <td>25.217512</td>\n      <td>N/A</td>\n      <td>NaN</td>\n      <td>N/A</td>\n      <td>2.521751e+01</td>\n      <td>N/A</td>\n      <td>18.926423</td>\n      <td>N/A</td>\n      <td>1.865028e+01</td>\n      <td>N/A</td>\n      <td>N/A</td>\n    </tr>\n    <tr>\n      <th>296</th>\n      <td>MCK</td>\n      <td>439.735</td>\n      <td>N/A</td>\n      <td>16.389676</td>\n      <td>N/A</td>\n      <td>NaN</td>\n      <td>N/A</td>\n      <td>1.638968e+01</td>\n      <td>N/A</td>\n      <td>12.682572</td>\n      <td>N/A</td>\n      <td>5.191870e+00</td>\n      <td>N/A</td>\n      <td>N/A</td>\n    </tr>\n    <tr>\n      <th>310</th>\n      <td>MO</td>\n      <td>42.965</td>\n      <td>N/A</td>\n      <td>11.306579</td>\n      <td>N/A</td>\n      <td>NaN</td>\n      <td>N/A</td>\n      <td>1.131180e+01</td>\n      <td>N/A</td>\n      <td>8.385285</td>\n      <td>N/A</td>\n      <td>7.202187e+00</td>\n      <td>N/A</td>\n      <td>N/A</td>\n    </tr>\n    <tr>\n      <th>319</th>\n      <td>MSCI</td>\n      <td>520.195</td>\n      <td>N/A</td>\n      <td>45.591148</td>\n      <td>N/A</td>\n      <td>NaN</td>\n      <td>N/A</td>\n      <td>4.559115e+01</td>\n      <td>N/A</td>\n      <td>32.944973</td>\n      <td>N/A</td>\n      <td>2.440704e+01</td>\n      <td>N/A</td>\n      <td>N/A</td>\n    </tr>\n    <tr>\n      <th>323</th>\n      <td>MTCH</td>\n      <td>41.230</td>\n      <td>N/A</td>\n      <td>25.608696</td>\n      <td>N/A</td>\n      <td>NaN</td>\n      <td>N/A</td>\n      <td>2.560870e+01</td>\n      <td>N/A</td>\n      <td>15.590570</td>\n      <td>N/A</td>\n      <td>6.580260e+00</td>\n      <td>N/A</td>\n      <td>N/A</td>\n    </tr>\n    <tr>\n      <th>324</th>\n      <td>MTD</td>\n      <td>1106.960</td>\n      <td>N/A</td>\n      <td>27.883123</td>\n      <td>N/A</td>\n      <td>NaN</td>\n      <td>N/A</td>\n      <td>2.788312e+01</td>\n      <td>N/A</td>\n      <td>20.894390</td>\n      <td>N/A</td>\n      <td>1.138312e+01</td>\n      <td>N/A</td>\n      <td>N/A</td>\n    </tr>\n    <tr>\n      <th>349</th>\n      <td>OGN</td>\n      <td>18.645</td>\n      <td>N/A</td>\n      <td>6.320339</td>\n      <td>N/A</td>\n      <td>NaN</td>\n      <td>N/A</td>\n      <td>6.320339e+00</td>\n      <td>N/A</td>\n      <td>7.674281</td>\n      <td>N/A</td>\n      <td>3.394089e+00</td>\n      <td>N/A</td>\n      <td>N/A</td>\n    </tr>\n    <tr>\n      <th>354</th>\n      <td>ORLY</td>\n      <td>931.940</td>\n      <td>N/A</td>\n      <td>25.462842</td>\n      <td>N/A</td>\n      <td>NaN</td>\n      <td>N/A</td>\n      <td>2.546284e+01</td>\n      <td>N/A</td>\n      <td>18.347109</td>\n      <td>N/A</td>\n      <td>8.564951e+00</td>\n      <td>N/A</td>\n      <td>N/A</td>\n    </tr>\n    <tr>\n      <th>355</th>\n      <td>OTIS</td>\n      <td>81.625</td>\n      <td>N/A</td>\n      <td>25.830696</td>\n      <td>N/A</td>\n      <td>NaN</td>\n      <td>N/A</td>\n      <td>2.583070e+01</td>\n      <td>N/A</td>\n      <td>17.059372</td>\n      <td>N/A</td>\n      <td>1.009201e+01</td>\n      <td>N/A</td>\n      <td>N/A</td>\n    </tr>\n    <tr>\n      <th>374</th>\n      <td>PM</td>\n      <td>96.290</td>\n      <td>N/A</td>\n      <td>18.624758</td>\n      <td>N/A</td>\n      <td>NaN</td>\n      <td>N/A</td>\n      <td>1.862476e+01</td>\n      <td>N/A</td>\n      <td>14.313171</td>\n      <td>N/A</td>\n      <td>9.526413e+00</td>\n      <td>N/A</td>\n      <td>N/A</td>\n    </tr>\n    <tr>\n      <th>406</th>\n      <td>SBAC</td>\n      <td>207.530</td>\n      <td>N/A</td>\n      <td>44.249467</td>\n      <td>N/A</td>\n      <td>NaN</td>\n      <td>N/A</td>\n      <td>4.424947e+01</td>\n      <td>N/A</td>\n      <td>21.387535</td>\n      <td>N/A</td>\n      <td>1.893440e+01</td>\n      <td>N/A</td>\n      <td>N/A</td>\n    </tr>\n    <tr>\n      <th>407</th>\n      <td>SBUX</td>\n      <td>93.880</td>\n      <td>N/A</td>\n      <td>28.621951</td>\n      <td>N/A</td>\n      <td>NaN</td>\n      <td>N/A</td>\n      <td>2.862195e+01</td>\n      <td>N/A</td>\n      <td>19.729323</td>\n      <td>N/A</td>\n      <td>1.533029e+01</td>\n      <td>N/A</td>\n      <td>N/A</td>\n    </tr>\n    <tr>\n      <th>423</th>\n      <td>STX</td>\n      <td>66.000</td>\n      <td>N/A</td>\n      <td>-25.482625</td>\n      <td>N/A</td>\n      <td>NaN</td>\n      <td>N/A</td>\n      <td>-2.548263e+01</td>\n      <td>N/A</td>\n      <td>34.206145</td>\n      <td>N/A</td>\n      <td>1.387488e+01</td>\n      <td>N/A</td>\n      <td>N/A</td>\n    </tr>\n    <tr>\n      <th>432</th>\n      <td>TDG</td>\n      <td>848.115</td>\n      <td>N/A</td>\n      <td>46.168481</td>\n      <td>N/A</td>\n      <td>NaN</td>\n      <td>N/A</td>\n      <td>4.616848e+01</td>\n      <td>N/A</td>\n      <td>21.167344</td>\n      <td>N/A</td>\n      <td>2.047748e+01</td>\n      <td>N/A</td>\n      <td>N/A</td>\n    </tr>\n    <tr>\n      <th>471</th>\n      <td>VRSN</td>\n      <td>200.880</td>\n      <td>N/A</td>\n      <td>29.672083</td>\n      <td>N/A</td>\n      <td>NaN</td>\n      <td>N/A</td>\n      <td>2.967208e+01</td>\n      <td>N/A</td>\n      <td>21.183303</td>\n      <td>N/A</td>\n      <td>1.762045e+01</td>\n      <td>N/A</td>\n      <td>N/A</td>\n    </tr>\n    <tr>\n      <th>493</th>\n      <td>WYNN</td>\n      <td>90.770</td>\n      <td>N/A</td>\n      <td>-567.312500</td>\n      <td>N/A</td>\n      <td>NaN</td>\n      <td>N/A</td>\n      <td>-5.673125e+02</td>\n      <td>N/A</td>\n      <td>19.949453</td>\n      <td>N/A</td>\n      <td>1.607826e+01</td>\n      <td>N/A</td>\n      <td>N/A</td>\n    </tr>\n    <tr>\n      <th>498</th>\n      <td>YUM</td>\n      <td>125.340</td>\n      <td>N/A</td>\n      <td>25.321212</td>\n      <td>N/A</td>\n      <td>NaN</td>\n      <td>N/A</td>\n      <td>2.532121e+01</td>\n      <td>N/A</td>\n      <td>19.691258</td>\n      <td>N/A</td>\n      <td>1.420128e+01</td>\n      <td>N/A</td>\n      <td>N/A</td>\n    </tr>\n  </tbody>\n</table>\n</div>"
     },
     "execution_count": 21,
     "metadata": {},
     "output_type": "execute_result"
    }
   ],
   "source": [
    "rv_dataframe[rv_dataframe.isnull().any(axis=1)]"
   ],
   "metadata": {
    "collapsed": false,
    "ExecuteTime": {
     "end_time": "2023-09-21T18:18:26.011765926Z",
     "start_time": "2023-09-21T18:18:25.961435422Z"
    }
   }
  },
  {
   "cell_type": "markdown",
   "source": [
    "## Dealing With Missing Data in Our DataFrame\n",
    "\n",
    "Our DataFrame contains some missing data which we have to fill with `mean` values."
   ],
   "metadata": {
    "collapsed": false
   }
  },
  {
   "cell_type": "code",
   "execution_count": 22,
   "outputs": [],
   "source": [
    "for column in ['Price-to-Earning Ratio', 'Price-to-Book Value', 'Price-to-Sales Ratio', 'EV/EBITDA', 'EV/GP']:\n",
    "    rv_dataframe[column].fillna(rv_dataframe[column].mean(), inplace=True)"
   ],
   "metadata": {
    "collapsed": false,
    "ExecuteTime": {
     "end_time": "2023-09-21T18:18:26.012102174Z",
     "start_time": "2023-09-21T18:18:25.974403011Z"
    }
   }
  },
  {
   "cell_type": "code",
   "execution_count": 23,
   "outputs": [
    {
     "data": {
      "text/plain": "Empty DataFrame\nColumns: [Ticker, Stock Price, Number of Shares to Buy, Price-to-Earning Ratio, PE Percentile, Price-to-Book Value, PB Percentile, Price-to-Sales Ratio, PS Percentile, EV/EBITDA, EV/EBITDA Percentile, EV/GP, EV/GP Percentile, RV Score]\nIndex: []",
      "text/html": "<div>\n<style scoped>\n    .dataframe tbody tr th:only-of-type {\n        vertical-align: middle;\n    }\n\n    .dataframe tbody tr th {\n        vertical-align: top;\n    }\n\n    .dataframe thead th {\n        text-align: right;\n    }\n</style>\n<table border=\"1\" class=\"dataframe\">\n  <thead>\n    <tr style=\"text-align: right;\">\n      <th></th>\n      <th>Ticker</th>\n      <th>Stock Price</th>\n      <th>Number of Shares to Buy</th>\n      <th>Price-to-Earning Ratio</th>\n      <th>PE Percentile</th>\n      <th>Price-to-Book Value</th>\n      <th>PB Percentile</th>\n      <th>Price-to-Sales Ratio</th>\n      <th>PS Percentile</th>\n      <th>EV/EBITDA</th>\n      <th>EV/EBITDA Percentile</th>\n      <th>EV/GP</th>\n      <th>EV/GP Percentile</th>\n      <th>RV Score</th>\n    </tr>\n  </thead>\n  <tbody>\n  </tbody>\n</table>\n</div>"
     },
     "execution_count": 23,
     "metadata": {},
     "output_type": "execute_result"
    }
   ],
   "source": [
    "rv_dataframe[rv_dataframe.isnull().any(axis=1)]"
   ],
   "metadata": {
    "collapsed": false,
    "ExecuteTime": {
     "end_time": "2023-09-21T18:18:26.104908277Z",
     "start_time": "2023-09-21T18:18:25.981154627Z"
    }
   }
  },
  {
   "cell_type": "markdown",
   "source": [
    "## Calculating Value Percentiles\n",
    "\n",
    "We now need to calculate value score percentiles for every stock in the universe. More specifically, we need to calculate percentile scores for the following metrics for every stock:\n",
    "\n",
    "* Price-to-earnings ratio\n",
    "* Price-to-book ratio\n",
    "* Price-to-sales ratio\n",
    "* EV/EBITDA\n",
    "* EV/GP"
   ],
   "metadata": {
    "collapsed": false
   }
  },
  {
   "cell_type": "code",
   "execution_count": 24,
   "outputs": [],
   "source": [
    "metrics = {\n",
    "    'Price-to-Earning Ratio': 'PE Percentile',\n",
    "    'Price-to-Book Value': 'PB Percentile',\n",
    "    'Price-to-Sales Ratio': 'PS Percentile',\n",
    "    'EV/EBITDA': 'EV/EBITDA Percentile',\n",
    "    'EV/GP': 'EV/GP Percentile'\n",
    "}\n",
    "\n",
    "for metric in metrics.keys():\n",
    "    for row in rv_dataframe.index:\n",
    "        rv_dataframe.loc[row, metrics[metric]] = score(rv_dataframe[metric], rv_dataframe.loc[row, metric])/100"
   ],
   "metadata": {
    "collapsed": false,
    "ExecuteTime": {
     "end_time": "2023-09-21T18:18:26.675580506Z",
     "start_time": "2023-09-21T18:18:26.025086883Z"
    }
   }
  },
  {
   "cell_type": "code",
   "execution_count": 25,
   "outputs": [
    {
     "data": {
      "text/plain": "    Ticker  Stock Price Number of Shares to Buy  Price-to-Earning Ratio  \\\n0        A     110.1500                     N/A               28.835079   \n1      AAL      13.2250                     N/A                3.444010   \n2      AAP      58.9600                     N/A               10.183074   \n3     AAPL     175.1629                     N/A               29.389748   \n4     ABBV     153.4700                     N/A               31.578189   \n..     ...          ...                     ...                     ...   \n498    YUM     125.3400                     N/A               25.321212   \n499    ZBH     118.4300                     N/A               49.552301   \n500   ZBRA     230.4900                     N/A               19.784549   \n501   ZION      34.4850                     N/A                6.082011   \n502    ZTS     177.6300                     N/A               37.395789   \n\n    PE Percentile  Price-to-Book Value PB Percentile  Price-to-Sales Ratio  \\\n0        0.691849             5.801643      0.671968             28.835078   \n1        0.081511            10.635283      0.850895              3.444011   \n2        0.186879             1.278792      0.105368             10.183074   \n3        0.703777            45.473236      0.976143             29.389750   \n4        0.751491            21.052126      0.954274             31.578190   \n..            ...                  ...           ...                   ...   \n498       0.59841            10.635283      0.850895             25.321212   \n499      0.900596             1.998819      0.272366             49.552300   \n500      0.473161             3.954466      0.544732             19.784549   \n501      0.105368             1.054877      0.059642              6.082011   \n502      0.817097            17.695757       0.93837             37.395792   \n\n    PS Percentile     EV/EBITDA EV/EBITDA Percentile         EV/GP  \\\n0         0.67992  1.914441e+01             0.717694  9.098995e+00   \n1        0.081511  5.240561e+00             0.055666  4.333597e+00   \n2        0.184891  8.981198e+00             0.178926  1.577023e+00   \n3        0.695825  2.247013e+01             0.809145  1.630927e+01   \n4        0.739563  1.108060e+01             0.304175  7.960365e+00   \n..            ...           ...                  ...           ...   \n498      0.592445  1.969126e+01             0.743539  1.420128e+01   \n499      0.894632  1.285927e+01             0.413519  6.167244e+00   \n500      0.467197  1.274976e+01             0.407555  5.398242e+00   \n501      0.105368  8.227780e+09              0.95825  8.227780e+09   \n502      0.807157  2.561998e+01             0.848907  1.543301e+01   \n\n    EV/GP Percentile RV Score  \n0           0.465209      N/A  \n1           0.149105      N/A  \n2           0.017893      N/A  \n3           0.763419      N/A  \n4           0.395626      N/A  \n..               ...      ...  \n498         0.709742      N/A  \n499         0.270378      N/A  \n500         0.212724      N/A  \n501         0.910537      N/A  \n502         0.745527      N/A  \n\n[503 rows x 14 columns]",
      "text/html": "<div>\n<style scoped>\n    .dataframe tbody tr th:only-of-type {\n        vertical-align: middle;\n    }\n\n    .dataframe tbody tr th {\n        vertical-align: top;\n    }\n\n    .dataframe thead th {\n        text-align: right;\n    }\n</style>\n<table border=\"1\" class=\"dataframe\">\n  <thead>\n    <tr style=\"text-align: right;\">\n      <th></th>\n      <th>Ticker</th>\n      <th>Stock Price</th>\n      <th>Number of Shares to Buy</th>\n      <th>Price-to-Earning Ratio</th>\n      <th>PE Percentile</th>\n      <th>Price-to-Book Value</th>\n      <th>PB Percentile</th>\n      <th>Price-to-Sales Ratio</th>\n      <th>PS Percentile</th>\n      <th>EV/EBITDA</th>\n      <th>EV/EBITDA Percentile</th>\n      <th>EV/GP</th>\n      <th>EV/GP Percentile</th>\n      <th>RV Score</th>\n    </tr>\n  </thead>\n  <tbody>\n    <tr>\n      <th>0</th>\n      <td>A</td>\n      <td>110.1500</td>\n      <td>N/A</td>\n      <td>28.835079</td>\n      <td>0.691849</td>\n      <td>5.801643</td>\n      <td>0.671968</td>\n      <td>28.835078</td>\n      <td>0.67992</td>\n      <td>1.914441e+01</td>\n      <td>0.717694</td>\n      <td>9.098995e+00</td>\n      <td>0.465209</td>\n      <td>N/A</td>\n    </tr>\n    <tr>\n      <th>1</th>\n      <td>AAL</td>\n      <td>13.2250</td>\n      <td>N/A</td>\n      <td>3.444010</td>\n      <td>0.081511</td>\n      <td>10.635283</td>\n      <td>0.850895</td>\n      <td>3.444011</td>\n      <td>0.081511</td>\n      <td>5.240561e+00</td>\n      <td>0.055666</td>\n      <td>4.333597e+00</td>\n      <td>0.149105</td>\n      <td>N/A</td>\n    </tr>\n    <tr>\n      <th>2</th>\n      <td>AAP</td>\n      <td>58.9600</td>\n      <td>N/A</td>\n      <td>10.183074</td>\n      <td>0.186879</td>\n      <td>1.278792</td>\n      <td>0.105368</td>\n      <td>10.183074</td>\n      <td>0.184891</td>\n      <td>8.981198e+00</td>\n      <td>0.178926</td>\n      <td>1.577023e+00</td>\n      <td>0.017893</td>\n      <td>N/A</td>\n    </tr>\n    <tr>\n      <th>3</th>\n      <td>AAPL</td>\n      <td>175.1629</td>\n      <td>N/A</td>\n      <td>29.389748</td>\n      <td>0.703777</td>\n      <td>45.473236</td>\n      <td>0.976143</td>\n      <td>29.389750</td>\n      <td>0.695825</td>\n      <td>2.247013e+01</td>\n      <td>0.809145</td>\n      <td>1.630927e+01</td>\n      <td>0.763419</td>\n      <td>N/A</td>\n    </tr>\n    <tr>\n      <th>4</th>\n      <td>ABBV</td>\n      <td>153.4700</td>\n      <td>N/A</td>\n      <td>31.578189</td>\n      <td>0.751491</td>\n      <td>21.052126</td>\n      <td>0.954274</td>\n      <td>31.578190</td>\n      <td>0.739563</td>\n      <td>1.108060e+01</td>\n      <td>0.304175</td>\n      <td>7.960365e+00</td>\n      <td>0.395626</td>\n      <td>N/A</td>\n    </tr>\n    <tr>\n      <th>...</th>\n      <td>...</td>\n      <td>...</td>\n      <td>...</td>\n      <td>...</td>\n      <td>...</td>\n      <td>...</td>\n      <td>...</td>\n      <td>...</td>\n      <td>...</td>\n      <td>...</td>\n      <td>...</td>\n      <td>...</td>\n      <td>...</td>\n      <td>...</td>\n    </tr>\n    <tr>\n      <th>498</th>\n      <td>YUM</td>\n      <td>125.3400</td>\n      <td>N/A</td>\n      <td>25.321212</td>\n      <td>0.59841</td>\n      <td>10.635283</td>\n      <td>0.850895</td>\n      <td>25.321212</td>\n      <td>0.592445</td>\n      <td>1.969126e+01</td>\n      <td>0.743539</td>\n      <td>1.420128e+01</td>\n      <td>0.709742</td>\n      <td>N/A</td>\n    </tr>\n    <tr>\n      <th>499</th>\n      <td>ZBH</td>\n      <td>118.4300</td>\n      <td>N/A</td>\n      <td>49.552301</td>\n      <td>0.900596</td>\n      <td>1.998819</td>\n      <td>0.272366</td>\n      <td>49.552300</td>\n      <td>0.894632</td>\n      <td>1.285927e+01</td>\n      <td>0.413519</td>\n      <td>6.167244e+00</td>\n      <td>0.270378</td>\n      <td>N/A</td>\n    </tr>\n    <tr>\n      <th>500</th>\n      <td>ZBRA</td>\n      <td>230.4900</td>\n      <td>N/A</td>\n      <td>19.784549</td>\n      <td>0.473161</td>\n      <td>3.954466</td>\n      <td>0.544732</td>\n      <td>19.784549</td>\n      <td>0.467197</td>\n      <td>1.274976e+01</td>\n      <td>0.407555</td>\n      <td>5.398242e+00</td>\n      <td>0.212724</td>\n      <td>N/A</td>\n    </tr>\n    <tr>\n      <th>501</th>\n      <td>ZION</td>\n      <td>34.4850</td>\n      <td>N/A</td>\n      <td>6.082011</td>\n      <td>0.105368</td>\n      <td>1.054877</td>\n      <td>0.059642</td>\n      <td>6.082011</td>\n      <td>0.105368</td>\n      <td>8.227780e+09</td>\n      <td>0.95825</td>\n      <td>8.227780e+09</td>\n      <td>0.910537</td>\n      <td>N/A</td>\n    </tr>\n    <tr>\n      <th>502</th>\n      <td>ZTS</td>\n      <td>177.6300</td>\n      <td>N/A</td>\n      <td>37.395789</td>\n      <td>0.817097</td>\n      <td>17.695757</td>\n      <td>0.93837</td>\n      <td>37.395792</td>\n      <td>0.807157</td>\n      <td>2.561998e+01</td>\n      <td>0.848907</td>\n      <td>1.543301e+01</td>\n      <td>0.745527</td>\n      <td>N/A</td>\n    </tr>\n  </tbody>\n</table>\n<p>503 rows × 14 columns</p>\n</div>"
     },
     "execution_count": 25,
     "metadata": {},
     "output_type": "execute_result"
    }
   ],
   "source": [
    "rv_dataframe"
   ],
   "metadata": {
    "collapsed": false,
    "ExecuteTime": {
     "end_time": "2023-09-21T18:18:26.748514571Z",
     "start_time": "2023-09-21T18:18:26.693199591Z"
    }
   }
  },
  {
   "cell_type": "markdown",
   "source": [
    "## Calculating the RV Score\n",
    "We'll now calculate our RV Score (which stands for Robust Value), which is the value score that we'll use to filter for stocks in this investing strategy.\n",
    "\n",
    "The RV Score will be the arithmetic mean of the 4 percentile scores that we calculated in the last section.\n",
    "\n",
    "To calculate arithmetic mean, we will use the mean function from Python's built-in statistics module."
   ],
   "metadata": {
    "collapsed": false
   }
  },
  {
   "cell_type": "code",
   "execution_count": 26,
   "outputs": [],
   "source": [
    "for row in rv_dataframe.index:\n",
    "    value_percentiles = []\n",
    "    for metric in metrics.keys():\n",
    "        value_percentiles.append(rv_dataframe.loc[row, metrics[metric]])\n",
    "    rv_dataframe.loc[row, 'RV Score'] = mean(value_percentiles)"
   ],
   "metadata": {
    "collapsed": false,
    "ExecuteTime": {
     "end_time": "2023-09-21T18:18:26.936798687Z",
     "start_time": "2023-09-21T18:18:26.707868105Z"
    }
   }
  },
  {
   "cell_type": "code",
   "execution_count": 27,
   "outputs": [
    {
     "data": {
      "text/plain": "    Ticker  Stock Price Number of Shares to Buy  Price-to-Earning Ratio  \\\n0        A     110.1500                     N/A               28.835079   \n1      AAL      13.2250                     N/A                3.444010   \n2      AAP      58.9600                     N/A               10.183074   \n3     AAPL     175.1629                     N/A               29.389748   \n4     ABBV     153.4700                     N/A               31.578189   \n..     ...          ...                     ...                     ...   \n498    YUM     125.3400                     N/A               25.321212   \n499    ZBH     118.4300                     N/A               49.552301   \n500   ZBRA     230.4900                     N/A               19.784549   \n501   ZION      34.4850                     N/A                6.082011   \n502    ZTS     177.6300                     N/A               37.395789   \n\n    PE Percentile  Price-to-Book Value PB Percentile  Price-to-Sales Ratio  \\\n0        0.691849             5.801643      0.671968             28.835078   \n1        0.081511            10.635283      0.850895              3.444011   \n2        0.186879             1.278792      0.105368             10.183074   \n3        0.703777            45.473236      0.976143             29.389750   \n4        0.751491            21.052126      0.954274             31.578190   \n..            ...                  ...           ...                   ...   \n498       0.59841            10.635283      0.850895             25.321212   \n499      0.900596             1.998819      0.272366             49.552300   \n500      0.473161             3.954466      0.544732             19.784549   \n501      0.105368             1.054877      0.059642              6.082011   \n502      0.817097            17.695757       0.93837             37.395792   \n\n    PS Percentile     EV/EBITDA EV/EBITDA Percentile         EV/GP  \\\n0         0.67992  1.914441e+01             0.717694  9.098995e+00   \n1        0.081511  5.240561e+00             0.055666  4.333597e+00   \n2        0.184891  8.981198e+00             0.178926  1.577023e+00   \n3        0.695825  2.247013e+01             0.809145  1.630927e+01   \n4        0.739563  1.108060e+01             0.304175  7.960365e+00   \n..            ...           ...                  ...           ...   \n498      0.592445  1.969126e+01             0.743539  1.420128e+01   \n499      0.894632  1.285927e+01             0.413519  6.167244e+00   \n500      0.467197  1.274976e+01             0.407555  5.398242e+00   \n501      0.105368  8.227780e+09              0.95825  8.227780e+09   \n502      0.807157  2.561998e+01             0.848907  1.543301e+01   \n\n    EV/GP Percentile  RV Score  \n0           0.465209  0.645328  \n1           0.149105  0.243738  \n2           0.017893  0.134791  \n3           0.763419  0.789662  \n4           0.395626  0.629026  \n..               ...       ...  \n498         0.709742  0.699006  \n499         0.270378  0.550298  \n500         0.212724  0.421074  \n501         0.910537  0.427833  \n502         0.745527  0.831412  \n\n[503 rows x 14 columns]",
      "text/html": "<div>\n<style scoped>\n    .dataframe tbody tr th:only-of-type {\n        vertical-align: middle;\n    }\n\n    .dataframe tbody tr th {\n        vertical-align: top;\n    }\n\n    .dataframe thead th {\n        text-align: right;\n    }\n</style>\n<table border=\"1\" class=\"dataframe\">\n  <thead>\n    <tr style=\"text-align: right;\">\n      <th></th>\n      <th>Ticker</th>\n      <th>Stock Price</th>\n      <th>Number of Shares to Buy</th>\n      <th>Price-to-Earning Ratio</th>\n      <th>PE Percentile</th>\n      <th>Price-to-Book Value</th>\n      <th>PB Percentile</th>\n      <th>Price-to-Sales Ratio</th>\n      <th>PS Percentile</th>\n      <th>EV/EBITDA</th>\n      <th>EV/EBITDA Percentile</th>\n      <th>EV/GP</th>\n      <th>EV/GP Percentile</th>\n      <th>RV Score</th>\n    </tr>\n  </thead>\n  <tbody>\n    <tr>\n      <th>0</th>\n      <td>A</td>\n      <td>110.1500</td>\n      <td>N/A</td>\n      <td>28.835079</td>\n      <td>0.691849</td>\n      <td>5.801643</td>\n      <td>0.671968</td>\n      <td>28.835078</td>\n      <td>0.67992</td>\n      <td>1.914441e+01</td>\n      <td>0.717694</td>\n      <td>9.098995e+00</td>\n      <td>0.465209</td>\n      <td>0.645328</td>\n    </tr>\n    <tr>\n      <th>1</th>\n      <td>AAL</td>\n      <td>13.2250</td>\n      <td>N/A</td>\n      <td>3.444010</td>\n      <td>0.081511</td>\n      <td>10.635283</td>\n      <td>0.850895</td>\n      <td>3.444011</td>\n      <td>0.081511</td>\n      <td>5.240561e+00</td>\n      <td>0.055666</td>\n      <td>4.333597e+00</td>\n      <td>0.149105</td>\n      <td>0.243738</td>\n    </tr>\n    <tr>\n      <th>2</th>\n      <td>AAP</td>\n      <td>58.9600</td>\n      <td>N/A</td>\n      <td>10.183074</td>\n      <td>0.186879</td>\n      <td>1.278792</td>\n      <td>0.105368</td>\n      <td>10.183074</td>\n      <td>0.184891</td>\n      <td>8.981198e+00</td>\n      <td>0.178926</td>\n      <td>1.577023e+00</td>\n      <td>0.017893</td>\n      <td>0.134791</td>\n    </tr>\n    <tr>\n      <th>3</th>\n      <td>AAPL</td>\n      <td>175.1629</td>\n      <td>N/A</td>\n      <td>29.389748</td>\n      <td>0.703777</td>\n      <td>45.473236</td>\n      <td>0.976143</td>\n      <td>29.389750</td>\n      <td>0.695825</td>\n      <td>2.247013e+01</td>\n      <td>0.809145</td>\n      <td>1.630927e+01</td>\n      <td>0.763419</td>\n      <td>0.789662</td>\n    </tr>\n    <tr>\n      <th>4</th>\n      <td>ABBV</td>\n      <td>153.4700</td>\n      <td>N/A</td>\n      <td>31.578189</td>\n      <td>0.751491</td>\n      <td>21.052126</td>\n      <td>0.954274</td>\n      <td>31.578190</td>\n      <td>0.739563</td>\n      <td>1.108060e+01</td>\n      <td>0.304175</td>\n      <td>7.960365e+00</td>\n      <td>0.395626</td>\n      <td>0.629026</td>\n    </tr>\n    <tr>\n      <th>...</th>\n      <td>...</td>\n      <td>...</td>\n      <td>...</td>\n      <td>...</td>\n      <td>...</td>\n      <td>...</td>\n      <td>...</td>\n      <td>...</td>\n      <td>...</td>\n      <td>...</td>\n      <td>...</td>\n      <td>...</td>\n      <td>...</td>\n      <td>...</td>\n    </tr>\n    <tr>\n      <th>498</th>\n      <td>YUM</td>\n      <td>125.3400</td>\n      <td>N/A</td>\n      <td>25.321212</td>\n      <td>0.59841</td>\n      <td>10.635283</td>\n      <td>0.850895</td>\n      <td>25.321212</td>\n      <td>0.592445</td>\n      <td>1.969126e+01</td>\n      <td>0.743539</td>\n      <td>1.420128e+01</td>\n      <td>0.709742</td>\n      <td>0.699006</td>\n    </tr>\n    <tr>\n      <th>499</th>\n      <td>ZBH</td>\n      <td>118.4300</td>\n      <td>N/A</td>\n      <td>49.552301</td>\n      <td>0.900596</td>\n      <td>1.998819</td>\n      <td>0.272366</td>\n      <td>49.552300</td>\n      <td>0.894632</td>\n      <td>1.285927e+01</td>\n      <td>0.413519</td>\n      <td>6.167244e+00</td>\n      <td>0.270378</td>\n      <td>0.550298</td>\n    </tr>\n    <tr>\n      <th>500</th>\n      <td>ZBRA</td>\n      <td>230.4900</td>\n      <td>N/A</td>\n      <td>19.784549</td>\n      <td>0.473161</td>\n      <td>3.954466</td>\n      <td>0.544732</td>\n      <td>19.784549</td>\n      <td>0.467197</td>\n      <td>1.274976e+01</td>\n      <td>0.407555</td>\n      <td>5.398242e+00</td>\n      <td>0.212724</td>\n      <td>0.421074</td>\n    </tr>\n    <tr>\n      <th>501</th>\n      <td>ZION</td>\n      <td>34.4850</td>\n      <td>N/A</td>\n      <td>6.082011</td>\n      <td>0.105368</td>\n      <td>1.054877</td>\n      <td>0.059642</td>\n      <td>6.082011</td>\n      <td>0.105368</td>\n      <td>8.227780e+09</td>\n      <td>0.95825</td>\n      <td>8.227780e+09</td>\n      <td>0.910537</td>\n      <td>0.427833</td>\n    </tr>\n    <tr>\n      <th>502</th>\n      <td>ZTS</td>\n      <td>177.6300</td>\n      <td>N/A</td>\n      <td>37.395789</td>\n      <td>0.817097</td>\n      <td>17.695757</td>\n      <td>0.93837</td>\n      <td>37.395792</td>\n      <td>0.807157</td>\n      <td>2.561998e+01</td>\n      <td>0.848907</td>\n      <td>1.543301e+01</td>\n      <td>0.745527</td>\n      <td>0.831412</td>\n    </tr>\n  </tbody>\n</table>\n<p>503 rows × 14 columns</p>\n</div>"
     },
     "execution_count": 27,
     "metadata": {},
     "output_type": "execute_result"
    }
   ],
   "source": [
    "rv_dataframe"
   ],
   "metadata": {
    "collapsed": false,
    "ExecuteTime": {
     "end_time": "2023-09-21T18:18:26.998165193Z",
     "start_time": "2023-09-21T18:18:26.923874671Z"
    }
   }
  },
  {
   "cell_type": "markdown",
   "source": [
    "## Selecting the 50 Best Value Stocks¶\n",
    "\n",
    "As before, we can identify the 50 best value stocks in our universe by sorting the DataFrame on the RV Score column and dropping all but the top 50 entries."
   ],
   "metadata": {
    "collapsed": false
   }
  },
  {
   "cell_type": "code",
   "execution_count": 28,
   "outputs": [],
   "source": [
    "rv_dataframe.sort_values('RV Score', ascending=True, inplace=True)"
   ],
   "metadata": {
    "collapsed": false,
    "ExecuteTime": {
     "end_time": "2023-09-21T18:18:26.998794178Z",
     "start_time": "2023-09-21T18:18:26.988961514Z"
    }
   }
  },
  {
   "cell_type": "code",
   "execution_count": 29,
   "outputs": [],
   "source": [
    "rv_dataframe = rv_dataframe[:50]\n",
    "rv_dataframe.reset_index(drop=True, inplace=True)"
   ],
   "metadata": {
    "collapsed": false,
    "ExecuteTime": {
     "end_time": "2023-09-21T18:18:27.050077226Z",
     "start_time": "2023-09-21T18:18:26.989209830Z"
    }
   }
  },
  {
   "cell_type": "code",
   "execution_count": 30,
   "outputs": [
    {
     "data": {
      "text/plain": "   Ticker  Stock Price Number of Shares to Buy  Price-to-Earning Ratio  \\\n0     MHK      90.0700                     N/A              -18.232794   \n1       C      41.9750                     N/A                6.652139   \n2     EQT      39.2550                     N/A                4.470957   \n3     MOS      37.4250                     N/A                5.847656   \n4       T      15.3300                     N/A              -13.102564   \n5    PARA      13.4350                     N/A               -5.417339   \n6     STT      68.9800                     N/A                9.334235   \n7     WRK      35.3800                     N/A               -6.374775   \n8    VTRS       9.7775                     N/A                6.349026   \n9     IVZ      14.7800                     N/A               10.557143   \n10    JPM     147.6700                     N/A                9.490360   \n11    UAL      44.1050                     N/A                5.547799   \n12   STLD     100.1900                     N/A                5.801390   \n13     BK      43.3200                     N/A               12.593023   \n14   CTRA      26.3450                     N/A                6.636020   \n15    PHM      74.1500                     N/A                6.168885   \n16    VLO     147.3500                     N/A                5.074036   \n17    LEN     114.2800                     N/A                8.477745   \n18     IP      34.2100                     N/A                8.467822   \n19    PSX     120.5700                     N/A                5.199224   \n20     VZ      33.4900                     N/A                6.698000   \n21     GM      33.0450                     N/A                4.615223   \n22    NUE     152.6100                     N/A                7.016552   \n23    MRO      26.0100                     N/A                8.052632   \n24     GS     332.6300                     N/A               14.154468   \n25    NWL       9.1200                     N/A              -12.160000   \n26    BWA      40.3900                     N/A                9.972840   \n27    AAP      58.9600                     N/A               10.183074   \n28    MPC     155.3700                     N/A                5.697470   \n29    DHI     110.0000                     N/A                7.829181   \n30    WBD      11.5850                     N/A               -4.371698   \n31    SJM     129.3300                     N/A            -1293.300000   \n32     CF      84.0600                     N/A                6.918519   \n33    PFE      33.0000                     N/A                8.684211   \n34   FANG     152.6678                     N/A                7.918454   \n35    WDC      44.6800                     N/A               -7.893993   \n36     MS      85.5100                     N/A               15.028120   \n37    DVN      46.6450                     N/A                6.372268   \n38    NRG      38.3200                     N/A               -4.374429   \n39    DXC      20.5650                     N/A               -7.451087   \n40    EOG     123.7450                     N/A                8.344235   \n41    UHS     126.5600                     N/A               13.169615   \n42    CNC      69.8500                     N/A               14.284254   \n43     BG     114.0700                     N/A                8.815301   \n44    TPR      29.4650                     N/A                7.594072   \n45    ALB     170.3400                     N/A                5.119928   \n46    CVX     166.2300                     N/A               10.540900   \n47    XOM     115.6299                     N/A                9.250392   \n48    WBA      21.6400                     N/A               -5.635417   \n49    BEN      25.4100                     N/A               15.881250   \n\n   PE Percentile  Price-to-Book Value PB Percentile  Price-to-Sales Ratio  \\\n0       0.039761             0.698948      0.019881            -18.232793   \n1        0.12326             0.428872      0.005964              6.652139   \n2       0.085487             1.182486      0.087475              4.470957   \n3        0.10338             1.002330       0.05169              5.847656   \n4        0.04175             1.075563      0.069583            -13.102564   \n5       0.067594             0.403890      0.003976             -5.865619   \n6       0.176938             0.999580      0.047714              9.334235   \n7        0.06163             0.906088      0.035785             -6.618773   \n8       0.115308             0.562507      0.007952              6.349026   \n9       0.194831             0.585834       0.00994             10.557143   \n10      0.180915             1.505163      0.153082              9.530658   \n11      0.095427             1.877448      0.244533              5.547799   \n12      0.099404             1.914324      0.256461              5.801390   \n13      0.246521             0.934668      0.039761             12.593023   \n14      0.121272             1.571241       0.17495              6.636020   \n15      0.111332             1.680073      0.202783              6.168885   \n16      0.089463             2.012786      0.276342              5.074036   \n17      0.163022             1.259895      0.101392              9.533476   \n18      0.161034             1.408456      0.127237              8.467822   \n19      0.093439             1.795720      0.232604              5.199224   \n20      0.125249             1.479044      0.143141              6.698000   \n21      0.087475             0.645637      0.015905              4.615223   \n22      0.131213             1.902275      0.254473              7.016552   \n23      0.149105             1.401854      0.125249              8.052632   \n24      0.290258             1.094635      0.071571             14.372664   \n25      0.043738             1.139573      0.079523            -12.160000   \n26      0.184891             1.257354      0.099404              9.972840   \n27      0.186879             1.278792      0.105368             10.183074   \n28      0.097416             2.447118      0.361829              5.697470   \n29      0.145129             1.717945      0.212724              7.829181   \n30      0.075547             0.621146      0.013917             -4.371698   \n31      0.003976             1.886047      0.248509          -1293.300039   \n32      0.129225             2.794269      0.419483              6.918518   \n33       0.16501             1.881307      0.246521              8.684210   \n34      0.147117             1.759109      0.224652              7.918454   \n35      0.053678             1.326367      0.115308             -7.893993   \n36       0.32008             1.547832      0.163022             15.028120   \n37      0.117296             2.713023       0.40159              6.372268   \n38      0.073559             3.292379      0.481113             -4.374429   \n39      0.055666             1.321149       0.11332             -7.451087   \n40      0.157058             2.743913      0.409543              8.344234   \n41      0.266402             1.442772      0.135189             14.703759   \n42      0.296223             1.485664      0.145129             14.284253   \n43      0.166998             1.624813      0.188867              8.815302   \n44      0.139165             2.941499      0.439364              7.594072   \n45      0.091451             2.036366      0.286282              5.119928   \n46      0.190855             1.960468      0.264414             10.540900   \n47      0.170974             2.325528      0.341948              9.250392   \n48      0.063618             0.886922      0.029821             -5.635416   \n49      0.347913             1.061271      0.065606             15.881250   \n\n   PS Percentile     EV/EBITDA EV/EBITDA Percentile         EV/GP  \\\n0       0.039761  6.265588e+00             0.089463  2.932975e+00   \n1        0.12326 -3.262158e+11             0.001988 -3.262158e+11   \n2       0.085487  2.958875e+00             0.023857  2.432753e+00   \n3        0.10338  4.152391e+00             0.039761  2.718194e+00   \n4        0.04175  6.190190e+00             0.083499  3.844236e+00   \n5       0.065606  9.933107e+00             0.220676  2.357776e+00   \n6       0.172962 -3.643621e+10             0.011928 -3.643621e+10   \n7        0.06163  6.406270e+00             0.101392  4.689944e+00   \n8       0.115308  5.823373e+00             0.071571  4.596584e+00   \n9       0.192843  5.783173e+00             0.069583  1.640737e+00   \n10      0.176938 -2.548624e+11             0.003976 -2.548624e+11   \n11      0.095427  4.037901e+00             0.033797  2.929376e+00   \n12      0.099404  4.089838e+00             0.035785  2.872998e+00   \n13      0.244533 -6.682617e+10             0.007952 -6.682617e+10   \n14      0.121272  3.853038e+00             0.029821  3.601348e+00   \n15      0.111332  4.593522e+00             0.047714  3.512960e+00   \n16      0.089463  3.310733e+00             0.025845  3.479324e+00   \n17      0.180915  5.506747e+00             0.063618  3.171508e+00   \n18      0.159046  6.757442e+00             0.111332  2.885780e+00   \n19      0.093439  6.065133e+00             0.077535  3.826869e+00   \n20      0.125249  6.641381e+00             0.105368  4.094815e+00   \n21      0.087475  8.146681e+00             0.141153  6.623037e+00   \n22      0.131213  4.462327e+00             0.045726  3.151808e+00   \n23      0.149105  4.719561e+00              0.05169  4.932612e+00   \n24      0.286282 -2.188731e+11             0.005964 -2.188731e+11   \n25      0.043738  1.273205e+01             0.405567  3.378442e+00   \n26      0.182903  5.498402e+00              0.06163  4.223539e+00   \n27      0.184891  8.981198e+00             0.178926  1.577023e+00   \n28      0.097416  3.892452e+00             0.031809  3.511090e+00   \n29      0.145129  6.220796e+00             0.085487  3.832291e+00   \n30      0.075547  1.179610e+01              0.33996  5.415181e+00   \n31      0.003976  9.929282e+00             0.218688  6.068564e+00   \n32      0.129225  3.680156e+00             0.027833  2.771576e+00   \n33      0.163022  6.668781e+00             0.107356  3.140146e+00   \n34      0.147117  5.382397e+00             0.059642  5.076369e+00   \n35      0.053678 -7.700513e+01             0.015905  1.044691e+01   \n36      0.310139 -4.982550e+10              0.00994 -4.982550e+10   \n37      0.117296  4.104796e+00             0.037773  4.331396e+00   \n38      0.073559 -1.742934e+01             0.017893  5.041192e+00   \n39      0.055666  1.622635e+01             0.560636  2.553205e+00   \n40       0.15507  4.834984e+00             0.053678  2.976785e+00   \n41      0.296223  8.007550e+00             0.137177  1.163851e+00   \n42      0.284294  6.301395e+00             0.093439  2.389127e+00   \n43       0.16501  6.263752e+00             0.087475  5.874181e+00   \n44      0.139165  6.831825e+00             0.115308  1.962797e+00   \n45      0.091451  6.098794e+00             0.079523  7.172699e+00   \n46      0.188867  6.375929e+00             0.099404  4.447086e+00   \n47      0.168986  5.647626e+00             0.065606  4.588536e+00   \n48      0.067594  1.930391e+01              0.73161  1.950538e+00   \n49      0.337972  6.294023e+00             0.091451  3.833627e+00   \n\n   EV/GP Percentile  RV Score  \n0          0.065606  0.050895  \n1          0.001988  0.051292  \n2          0.043738  0.065209  \n3          0.049702  0.069583  \n4          0.129225  0.073161  \n5          0.037773  0.079125  \n6          0.011928  0.084294  \n7           0.16501  0.085089  \n8          0.161034  0.094235  \n9          0.021869  0.097813  \n10         0.003976  0.103777  \n11         0.063618  0.106561  \n12         0.053678  0.108946  \n13         0.007952  0.109344  \n14          0.11332  0.112127  \n15         0.109344  0.116501  \n16          0.10338  0.116899  \n17         0.081511  0.118091  \n18         0.055666  0.122863  \n19          0.12326  0.124056  \n20         0.133201  0.126441  \n21         0.308151  0.128032  \n22         0.079523  0.128429  \n23          0.17495   0.13002  \n24         0.005964  0.132008  \n25         0.095427  0.133598  \n26         0.141153  0.133996  \n27         0.017893  0.134791  \n28         0.107356  0.139165  \n29         0.125249  0.142744  \n30         0.214712  0.143936  \n31         0.258449   0.14672  \n32          0.05169  0.151491  \n33         0.075547  0.151491  \n34         0.184891  0.152684  \n35         0.548708  0.157455  \n36          0.00994  0.162624  \n37         0.147117  0.164215  \n38         0.182903  0.165805  \n39         0.045726  0.166203  \n40         0.067594  0.168588  \n41         0.013917  0.169781  \n42         0.039761  0.171769  \n43         0.250497  0.171769  \n44         0.027833  0.172167  \n45         0.333996  0.176541  \n46         0.153082  0.179324  \n47         0.159046  0.181312  \n48         0.025845  0.183698  \n49         0.127237  0.194036  ",
      "text/html": "<div>\n<style scoped>\n    .dataframe tbody tr th:only-of-type {\n        vertical-align: middle;\n    }\n\n    .dataframe tbody tr th {\n        vertical-align: top;\n    }\n\n    .dataframe thead th {\n        text-align: right;\n    }\n</style>\n<table border=\"1\" class=\"dataframe\">\n  <thead>\n    <tr style=\"text-align: right;\">\n      <th></th>\n      <th>Ticker</th>\n      <th>Stock Price</th>\n      <th>Number of Shares to Buy</th>\n      <th>Price-to-Earning Ratio</th>\n      <th>PE Percentile</th>\n      <th>Price-to-Book Value</th>\n      <th>PB Percentile</th>\n      <th>Price-to-Sales Ratio</th>\n      <th>PS Percentile</th>\n      <th>EV/EBITDA</th>\n      <th>EV/EBITDA Percentile</th>\n      <th>EV/GP</th>\n      <th>EV/GP Percentile</th>\n      <th>RV Score</th>\n    </tr>\n  </thead>\n  <tbody>\n    <tr>\n      <th>0</th>\n      <td>MHK</td>\n      <td>90.0700</td>\n      <td>N/A</td>\n      <td>-18.232794</td>\n      <td>0.039761</td>\n      <td>0.698948</td>\n      <td>0.019881</td>\n      <td>-18.232793</td>\n      <td>0.039761</td>\n      <td>6.265588e+00</td>\n      <td>0.089463</td>\n      <td>2.932975e+00</td>\n      <td>0.065606</td>\n      <td>0.050895</td>\n    </tr>\n    <tr>\n      <th>1</th>\n      <td>C</td>\n      <td>41.9750</td>\n      <td>N/A</td>\n      <td>6.652139</td>\n      <td>0.12326</td>\n      <td>0.428872</td>\n      <td>0.005964</td>\n      <td>6.652139</td>\n      <td>0.12326</td>\n      <td>-3.262158e+11</td>\n      <td>0.001988</td>\n      <td>-3.262158e+11</td>\n      <td>0.001988</td>\n      <td>0.051292</td>\n    </tr>\n    <tr>\n      <th>2</th>\n      <td>EQT</td>\n      <td>39.2550</td>\n      <td>N/A</td>\n      <td>4.470957</td>\n      <td>0.085487</td>\n      <td>1.182486</td>\n      <td>0.087475</td>\n      <td>4.470957</td>\n      <td>0.085487</td>\n      <td>2.958875e+00</td>\n      <td>0.023857</td>\n      <td>2.432753e+00</td>\n      <td>0.043738</td>\n      <td>0.065209</td>\n    </tr>\n    <tr>\n      <th>3</th>\n      <td>MOS</td>\n      <td>37.4250</td>\n      <td>N/A</td>\n      <td>5.847656</td>\n      <td>0.10338</td>\n      <td>1.002330</td>\n      <td>0.05169</td>\n      <td>5.847656</td>\n      <td>0.10338</td>\n      <td>4.152391e+00</td>\n      <td>0.039761</td>\n      <td>2.718194e+00</td>\n      <td>0.049702</td>\n      <td>0.069583</td>\n    </tr>\n    <tr>\n      <th>4</th>\n      <td>T</td>\n      <td>15.3300</td>\n      <td>N/A</td>\n      <td>-13.102564</td>\n      <td>0.04175</td>\n      <td>1.075563</td>\n      <td>0.069583</td>\n      <td>-13.102564</td>\n      <td>0.04175</td>\n      <td>6.190190e+00</td>\n      <td>0.083499</td>\n      <td>3.844236e+00</td>\n      <td>0.129225</td>\n      <td>0.073161</td>\n    </tr>\n    <tr>\n      <th>5</th>\n      <td>PARA</td>\n      <td>13.4350</td>\n      <td>N/A</td>\n      <td>-5.417339</td>\n      <td>0.067594</td>\n      <td>0.403890</td>\n      <td>0.003976</td>\n      <td>-5.865619</td>\n      <td>0.065606</td>\n      <td>9.933107e+00</td>\n      <td>0.220676</td>\n      <td>2.357776e+00</td>\n      <td>0.037773</td>\n      <td>0.079125</td>\n    </tr>\n    <tr>\n      <th>6</th>\n      <td>STT</td>\n      <td>68.9800</td>\n      <td>N/A</td>\n      <td>9.334235</td>\n      <td>0.176938</td>\n      <td>0.999580</td>\n      <td>0.047714</td>\n      <td>9.334235</td>\n      <td>0.172962</td>\n      <td>-3.643621e+10</td>\n      <td>0.011928</td>\n      <td>-3.643621e+10</td>\n      <td>0.011928</td>\n      <td>0.084294</td>\n    </tr>\n    <tr>\n      <th>7</th>\n      <td>WRK</td>\n      <td>35.3800</td>\n      <td>N/A</td>\n      <td>-6.374775</td>\n      <td>0.06163</td>\n      <td>0.906088</td>\n      <td>0.035785</td>\n      <td>-6.618773</td>\n      <td>0.06163</td>\n      <td>6.406270e+00</td>\n      <td>0.101392</td>\n      <td>4.689944e+00</td>\n      <td>0.16501</td>\n      <td>0.085089</td>\n    </tr>\n    <tr>\n      <th>8</th>\n      <td>VTRS</td>\n      <td>9.7775</td>\n      <td>N/A</td>\n      <td>6.349026</td>\n      <td>0.115308</td>\n      <td>0.562507</td>\n      <td>0.007952</td>\n      <td>6.349026</td>\n      <td>0.115308</td>\n      <td>5.823373e+00</td>\n      <td>0.071571</td>\n      <td>4.596584e+00</td>\n      <td>0.161034</td>\n      <td>0.094235</td>\n    </tr>\n    <tr>\n      <th>9</th>\n      <td>IVZ</td>\n      <td>14.7800</td>\n      <td>N/A</td>\n      <td>10.557143</td>\n      <td>0.194831</td>\n      <td>0.585834</td>\n      <td>0.00994</td>\n      <td>10.557143</td>\n      <td>0.192843</td>\n      <td>5.783173e+00</td>\n      <td>0.069583</td>\n      <td>1.640737e+00</td>\n      <td>0.021869</td>\n      <td>0.097813</td>\n    </tr>\n    <tr>\n      <th>10</th>\n      <td>JPM</td>\n      <td>147.6700</td>\n      <td>N/A</td>\n      <td>9.490360</td>\n      <td>0.180915</td>\n      <td>1.505163</td>\n      <td>0.153082</td>\n      <td>9.530658</td>\n      <td>0.176938</td>\n      <td>-2.548624e+11</td>\n      <td>0.003976</td>\n      <td>-2.548624e+11</td>\n      <td>0.003976</td>\n      <td>0.103777</td>\n    </tr>\n    <tr>\n      <th>11</th>\n      <td>UAL</td>\n      <td>44.1050</td>\n      <td>N/A</td>\n      <td>5.547799</td>\n      <td>0.095427</td>\n      <td>1.877448</td>\n      <td>0.244533</td>\n      <td>5.547799</td>\n      <td>0.095427</td>\n      <td>4.037901e+00</td>\n      <td>0.033797</td>\n      <td>2.929376e+00</td>\n      <td>0.063618</td>\n      <td>0.106561</td>\n    </tr>\n    <tr>\n      <th>12</th>\n      <td>STLD</td>\n      <td>100.1900</td>\n      <td>N/A</td>\n      <td>5.801390</td>\n      <td>0.099404</td>\n      <td>1.914324</td>\n      <td>0.256461</td>\n      <td>5.801390</td>\n      <td>0.099404</td>\n      <td>4.089838e+00</td>\n      <td>0.035785</td>\n      <td>2.872998e+00</td>\n      <td>0.053678</td>\n      <td>0.108946</td>\n    </tr>\n    <tr>\n      <th>13</th>\n      <td>BK</td>\n      <td>43.3200</td>\n      <td>N/A</td>\n      <td>12.593023</td>\n      <td>0.246521</td>\n      <td>0.934668</td>\n      <td>0.039761</td>\n      <td>12.593023</td>\n      <td>0.244533</td>\n      <td>-6.682617e+10</td>\n      <td>0.007952</td>\n      <td>-6.682617e+10</td>\n      <td>0.007952</td>\n      <td>0.109344</td>\n    </tr>\n    <tr>\n      <th>14</th>\n      <td>CTRA</td>\n      <td>26.3450</td>\n      <td>N/A</td>\n      <td>6.636020</td>\n      <td>0.121272</td>\n      <td>1.571241</td>\n      <td>0.17495</td>\n      <td>6.636020</td>\n      <td>0.121272</td>\n      <td>3.853038e+00</td>\n      <td>0.029821</td>\n      <td>3.601348e+00</td>\n      <td>0.11332</td>\n      <td>0.112127</td>\n    </tr>\n    <tr>\n      <th>15</th>\n      <td>PHM</td>\n      <td>74.1500</td>\n      <td>N/A</td>\n      <td>6.168885</td>\n      <td>0.111332</td>\n      <td>1.680073</td>\n      <td>0.202783</td>\n      <td>6.168885</td>\n      <td>0.111332</td>\n      <td>4.593522e+00</td>\n      <td>0.047714</td>\n      <td>3.512960e+00</td>\n      <td>0.109344</td>\n      <td>0.116501</td>\n    </tr>\n    <tr>\n      <th>16</th>\n      <td>VLO</td>\n      <td>147.3500</td>\n      <td>N/A</td>\n      <td>5.074036</td>\n      <td>0.089463</td>\n      <td>2.012786</td>\n      <td>0.276342</td>\n      <td>5.074036</td>\n      <td>0.089463</td>\n      <td>3.310733e+00</td>\n      <td>0.025845</td>\n      <td>3.479324e+00</td>\n      <td>0.10338</td>\n      <td>0.116899</td>\n    </tr>\n    <tr>\n      <th>17</th>\n      <td>LEN</td>\n      <td>114.2800</td>\n      <td>N/A</td>\n      <td>8.477745</td>\n      <td>0.163022</td>\n      <td>1.259895</td>\n      <td>0.101392</td>\n      <td>9.533476</td>\n      <td>0.180915</td>\n      <td>5.506747e+00</td>\n      <td>0.063618</td>\n      <td>3.171508e+00</td>\n      <td>0.081511</td>\n      <td>0.118091</td>\n    </tr>\n    <tr>\n      <th>18</th>\n      <td>IP</td>\n      <td>34.2100</td>\n      <td>N/A</td>\n      <td>8.467822</td>\n      <td>0.161034</td>\n      <td>1.408456</td>\n      <td>0.127237</td>\n      <td>8.467822</td>\n      <td>0.159046</td>\n      <td>6.757442e+00</td>\n      <td>0.111332</td>\n      <td>2.885780e+00</td>\n      <td>0.055666</td>\n      <td>0.122863</td>\n    </tr>\n    <tr>\n      <th>19</th>\n      <td>PSX</td>\n      <td>120.5700</td>\n      <td>N/A</td>\n      <td>5.199224</td>\n      <td>0.093439</td>\n      <td>1.795720</td>\n      <td>0.232604</td>\n      <td>5.199224</td>\n      <td>0.093439</td>\n      <td>6.065133e+00</td>\n      <td>0.077535</td>\n      <td>3.826869e+00</td>\n      <td>0.12326</td>\n      <td>0.124056</td>\n    </tr>\n    <tr>\n      <th>20</th>\n      <td>VZ</td>\n      <td>33.4900</td>\n      <td>N/A</td>\n      <td>6.698000</td>\n      <td>0.125249</td>\n      <td>1.479044</td>\n      <td>0.143141</td>\n      <td>6.698000</td>\n      <td>0.125249</td>\n      <td>6.641381e+00</td>\n      <td>0.105368</td>\n      <td>4.094815e+00</td>\n      <td>0.133201</td>\n      <td>0.126441</td>\n    </tr>\n    <tr>\n      <th>21</th>\n      <td>GM</td>\n      <td>33.0450</td>\n      <td>N/A</td>\n      <td>4.615223</td>\n      <td>0.087475</td>\n      <td>0.645637</td>\n      <td>0.015905</td>\n      <td>4.615223</td>\n      <td>0.087475</td>\n      <td>8.146681e+00</td>\n      <td>0.141153</td>\n      <td>6.623037e+00</td>\n      <td>0.308151</td>\n      <td>0.128032</td>\n    </tr>\n    <tr>\n      <th>22</th>\n      <td>NUE</td>\n      <td>152.6100</td>\n      <td>N/A</td>\n      <td>7.016552</td>\n      <td>0.131213</td>\n      <td>1.902275</td>\n      <td>0.254473</td>\n      <td>7.016552</td>\n      <td>0.131213</td>\n      <td>4.462327e+00</td>\n      <td>0.045726</td>\n      <td>3.151808e+00</td>\n      <td>0.079523</td>\n      <td>0.128429</td>\n    </tr>\n    <tr>\n      <th>23</th>\n      <td>MRO</td>\n      <td>26.0100</td>\n      <td>N/A</td>\n      <td>8.052632</td>\n      <td>0.149105</td>\n      <td>1.401854</td>\n      <td>0.125249</td>\n      <td>8.052632</td>\n      <td>0.149105</td>\n      <td>4.719561e+00</td>\n      <td>0.05169</td>\n      <td>4.932612e+00</td>\n      <td>0.17495</td>\n      <td>0.13002</td>\n    </tr>\n    <tr>\n      <th>24</th>\n      <td>GS</td>\n      <td>332.6300</td>\n      <td>N/A</td>\n      <td>14.154468</td>\n      <td>0.290258</td>\n      <td>1.094635</td>\n      <td>0.071571</td>\n      <td>14.372664</td>\n      <td>0.286282</td>\n      <td>-2.188731e+11</td>\n      <td>0.005964</td>\n      <td>-2.188731e+11</td>\n      <td>0.005964</td>\n      <td>0.132008</td>\n    </tr>\n    <tr>\n      <th>25</th>\n      <td>NWL</td>\n      <td>9.1200</td>\n      <td>N/A</td>\n      <td>-12.160000</td>\n      <td>0.043738</td>\n      <td>1.139573</td>\n      <td>0.079523</td>\n      <td>-12.160000</td>\n      <td>0.043738</td>\n      <td>1.273205e+01</td>\n      <td>0.405567</td>\n      <td>3.378442e+00</td>\n      <td>0.095427</td>\n      <td>0.133598</td>\n    </tr>\n    <tr>\n      <th>26</th>\n      <td>BWA</td>\n      <td>40.3900</td>\n      <td>N/A</td>\n      <td>9.972840</td>\n      <td>0.184891</td>\n      <td>1.257354</td>\n      <td>0.099404</td>\n      <td>9.972840</td>\n      <td>0.182903</td>\n      <td>5.498402e+00</td>\n      <td>0.06163</td>\n      <td>4.223539e+00</td>\n      <td>0.141153</td>\n      <td>0.133996</td>\n    </tr>\n    <tr>\n      <th>27</th>\n      <td>AAP</td>\n      <td>58.9600</td>\n      <td>N/A</td>\n      <td>10.183074</td>\n      <td>0.186879</td>\n      <td>1.278792</td>\n      <td>0.105368</td>\n      <td>10.183074</td>\n      <td>0.184891</td>\n      <td>8.981198e+00</td>\n      <td>0.178926</td>\n      <td>1.577023e+00</td>\n      <td>0.017893</td>\n      <td>0.134791</td>\n    </tr>\n    <tr>\n      <th>28</th>\n      <td>MPC</td>\n      <td>155.3700</td>\n      <td>N/A</td>\n      <td>5.697470</td>\n      <td>0.097416</td>\n      <td>2.447118</td>\n      <td>0.361829</td>\n      <td>5.697470</td>\n      <td>0.097416</td>\n      <td>3.892452e+00</td>\n      <td>0.031809</td>\n      <td>3.511090e+00</td>\n      <td>0.107356</td>\n      <td>0.139165</td>\n    </tr>\n    <tr>\n      <th>29</th>\n      <td>DHI</td>\n      <td>110.0000</td>\n      <td>N/A</td>\n      <td>7.829181</td>\n      <td>0.145129</td>\n      <td>1.717945</td>\n      <td>0.212724</td>\n      <td>7.829181</td>\n      <td>0.145129</td>\n      <td>6.220796e+00</td>\n      <td>0.085487</td>\n      <td>3.832291e+00</td>\n      <td>0.125249</td>\n      <td>0.142744</td>\n    </tr>\n    <tr>\n      <th>30</th>\n      <td>WBD</td>\n      <td>11.5850</td>\n      <td>N/A</td>\n      <td>-4.371698</td>\n      <td>0.075547</td>\n      <td>0.621146</td>\n      <td>0.013917</td>\n      <td>-4.371698</td>\n      <td>0.075547</td>\n      <td>1.179610e+01</td>\n      <td>0.33996</td>\n      <td>5.415181e+00</td>\n      <td>0.214712</td>\n      <td>0.143936</td>\n    </tr>\n    <tr>\n      <th>31</th>\n      <td>SJM</td>\n      <td>129.3300</td>\n      <td>N/A</td>\n      <td>-1293.300000</td>\n      <td>0.003976</td>\n      <td>1.886047</td>\n      <td>0.248509</td>\n      <td>-1293.300039</td>\n      <td>0.003976</td>\n      <td>9.929282e+00</td>\n      <td>0.218688</td>\n      <td>6.068564e+00</td>\n      <td>0.258449</td>\n      <td>0.14672</td>\n    </tr>\n    <tr>\n      <th>32</th>\n      <td>CF</td>\n      <td>84.0600</td>\n      <td>N/A</td>\n      <td>6.918519</td>\n      <td>0.129225</td>\n      <td>2.794269</td>\n      <td>0.419483</td>\n      <td>6.918518</td>\n      <td>0.129225</td>\n      <td>3.680156e+00</td>\n      <td>0.027833</td>\n      <td>2.771576e+00</td>\n      <td>0.05169</td>\n      <td>0.151491</td>\n    </tr>\n    <tr>\n      <th>33</th>\n      <td>PFE</td>\n      <td>33.0000</td>\n      <td>N/A</td>\n      <td>8.684211</td>\n      <td>0.16501</td>\n      <td>1.881307</td>\n      <td>0.246521</td>\n      <td>8.684210</td>\n      <td>0.163022</td>\n      <td>6.668781e+00</td>\n      <td>0.107356</td>\n      <td>3.140146e+00</td>\n      <td>0.075547</td>\n      <td>0.151491</td>\n    </tr>\n    <tr>\n      <th>34</th>\n      <td>FANG</td>\n      <td>152.6678</td>\n      <td>N/A</td>\n      <td>7.918454</td>\n      <td>0.147117</td>\n      <td>1.759109</td>\n      <td>0.224652</td>\n      <td>7.918454</td>\n      <td>0.147117</td>\n      <td>5.382397e+00</td>\n      <td>0.059642</td>\n      <td>5.076369e+00</td>\n      <td>0.184891</td>\n      <td>0.152684</td>\n    </tr>\n    <tr>\n      <th>35</th>\n      <td>WDC</td>\n      <td>44.6800</td>\n      <td>N/A</td>\n      <td>-7.893993</td>\n      <td>0.053678</td>\n      <td>1.326367</td>\n      <td>0.115308</td>\n      <td>-7.893993</td>\n      <td>0.053678</td>\n      <td>-7.700513e+01</td>\n      <td>0.015905</td>\n      <td>1.044691e+01</td>\n      <td>0.548708</td>\n      <td>0.157455</td>\n    </tr>\n    <tr>\n      <th>36</th>\n      <td>MS</td>\n      <td>85.5100</td>\n      <td>N/A</td>\n      <td>15.028120</td>\n      <td>0.32008</td>\n      <td>1.547832</td>\n      <td>0.163022</td>\n      <td>15.028120</td>\n      <td>0.310139</td>\n      <td>-4.982550e+10</td>\n      <td>0.00994</td>\n      <td>-4.982550e+10</td>\n      <td>0.00994</td>\n      <td>0.162624</td>\n    </tr>\n    <tr>\n      <th>37</th>\n      <td>DVN</td>\n      <td>46.6450</td>\n      <td>N/A</td>\n      <td>6.372268</td>\n      <td>0.117296</td>\n      <td>2.713023</td>\n      <td>0.40159</td>\n      <td>6.372268</td>\n      <td>0.117296</td>\n      <td>4.104796e+00</td>\n      <td>0.037773</td>\n      <td>4.331396e+00</td>\n      <td>0.147117</td>\n      <td>0.164215</td>\n    </tr>\n    <tr>\n      <th>38</th>\n      <td>NRG</td>\n      <td>38.3200</td>\n      <td>N/A</td>\n      <td>-4.374429</td>\n      <td>0.073559</td>\n      <td>3.292379</td>\n      <td>0.481113</td>\n      <td>-4.374429</td>\n      <td>0.073559</td>\n      <td>-1.742934e+01</td>\n      <td>0.017893</td>\n      <td>5.041192e+00</td>\n      <td>0.182903</td>\n      <td>0.165805</td>\n    </tr>\n    <tr>\n      <th>39</th>\n      <td>DXC</td>\n      <td>20.5650</td>\n      <td>N/A</td>\n      <td>-7.451087</td>\n      <td>0.055666</td>\n      <td>1.321149</td>\n      <td>0.11332</td>\n      <td>-7.451087</td>\n      <td>0.055666</td>\n      <td>1.622635e+01</td>\n      <td>0.560636</td>\n      <td>2.553205e+00</td>\n      <td>0.045726</td>\n      <td>0.166203</td>\n    </tr>\n    <tr>\n      <th>40</th>\n      <td>EOG</td>\n      <td>123.7450</td>\n      <td>N/A</td>\n      <td>8.344235</td>\n      <td>0.157058</td>\n      <td>2.743913</td>\n      <td>0.409543</td>\n      <td>8.344234</td>\n      <td>0.15507</td>\n      <td>4.834984e+00</td>\n      <td>0.053678</td>\n      <td>2.976785e+00</td>\n      <td>0.067594</td>\n      <td>0.168588</td>\n    </tr>\n    <tr>\n      <th>41</th>\n      <td>UHS</td>\n      <td>126.5600</td>\n      <td>N/A</td>\n      <td>13.169615</td>\n      <td>0.266402</td>\n      <td>1.442772</td>\n      <td>0.135189</td>\n      <td>14.703759</td>\n      <td>0.296223</td>\n      <td>8.007550e+00</td>\n      <td>0.137177</td>\n      <td>1.163851e+00</td>\n      <td>0.013917</td>\n      <td>0.169781</td>\n    </tr>\n    <tr>\n      <th>42</th>\n      <td>CNC</td>\n      <td>69.8500</td>\n      <td>N/A</td>\n      <td>14.284254</td>\n      <td>0.296223</td>\n      <td>1.485664</td>\n      <td>0.145129</td>\n      <td>14.284253</td>\n      <td>0.284294</td>\n      <td>6.301395e+00</td>\n      <td>0.093439</td>\n      <td>2.389127e+00</td>\n      <td>0.039761</td>\n      <td>0.171769</td>\n    </tr>\n    <tr>\n      <th>43</th>\n      <td>BG</td>\n      <td>114.0700</td>\n      <td>N/A</td>\n      <td>8.815301</td>\n      <td>0.166998</td>\n      <td>1.624813</td>\n      <td>0.188867</td>\n      <td>8.815302</td>\n      <td>0.16501</td>\n      <td>6.263752e+00</td>\n      <td>0.087475</td>\n      <td>5.874181e+00</td>\n      <td>0.250497</td>\n      <td>0.171769</td>\n    </tr>\n    <tr>\n      <th>44</th>\n      <td>TPR</td>\n      <td>29.4650</td>\n      <td>N/A</td>\n      <td>7.594072</td>\n      <td>0.139165</td>\n      <td>2.941499</td>\n      <td>0.439364</td>\n      <td>7.594072</td>\n      <td>0.139165</td>\n      <td>6.831825e+00</td>\n      <td>0.115308</td>\n      <td>1.962797e+00</td>\n      <td>0.027833</td>\n      <td>0.172167</td>\n    </tr>\n    <tr>\n      <th>45</th>\n      <td>ALB</td>\n      <td>170.3400</td>\n      <td>N/A</td>\n      <td>5.119928</td>\n      <td>0.091451</td>\n      <td>2.036366</td>\n      <td>0.286282</td>\n      <td>5.119928</td>\n      <td>0.091451</td>\n      <td>6.098794e+00</td>\n      <td>0.079523</td>\n      <td>7.172699e+00</td>\n      <td>0.333996</td>\n      <td>0.176541</td>\n    </tr>\n    <tr>\n      <th>46</th>\n      <td>CVX</td>\n      <td>166.2300</td>\n      <td>N/A</td>\n      <td>10.540900</td>\n      <td>0.190855</td>\n      <td>1.960468</td>\n      <td>0.264414</td>\n      <td>10.540900</td>\n      <td>0.188867</td>\n      <td>6.375929e+00</td>\n      <td>0.099404</td>\n      <td>4.447086e+00</td>\n      <td>0.153082</td>\n      <td>0.179324</td>\n    </tr>\n    <tr>\n      <th>47</th>\n      <td>XOM</td>\n      <td>115.6299</td>\n      <td>N/A</td>\n      <td>9.250392</td>\n      <td>0.170974</td>\n      <td>2.325528</td>\n      <td>0.341948</td>\n      <td>9.250392</td>\n      <td>0.168986</td>\n      <td>5.647626e+00</td>\n      <td>0.065606</td>\n      <td>4.588536e+00</td>\n      <td>0.159046</td>\n      <td>0.181312</td>\n    </tr>\n    <tr>\n      <th>48</th>\n      <td>WBA</td>\n      <td>21.6400</td>\n      <td>N/A</td>\n      <td>-5.635417</td>\n      <td>0.063618</td>\n      <td>0.886922</td>\n      <td>0.029821</td>\n      <td>-5.635416</td>\n      <td>0.067594</td>\n      <td>1.930391e+01</td>\n      <td>0.73161</td>\n      <td>1.950538e+00</td>\n      <td>0.025845</td>\n      <td>0.183698</td>\n    </tr>\n    <tr>\n      <th>49</th>\n      <td>BEN</td>\n      <td>25.4100</td>\n      <td>N/A</td>\n      <td>15.881250</td>\n      <td>0.347913</td>\n      <td>1.061271</td>\n      <td>0.065606</td>\n      <td>15.881250</td>\n      <td>0.337972</td>\n      <td>6.294023e+00</td>\n      <td>0.091451</td>\n      <td>3.833627e+00</td>\n      <td>0.127237</td>\n      <td>0.194036</td>\n    </tr>\n  </tbody>\n</table>\n</div>"
     },
     "execution_count": 30,
     "metadata": {},
     "output_type": "execute_result"
    }
   ],
   "source": [
    "rv_dataframe"
   ],
   "metadata": {
    "collapsed": false,
    "ExecuteTime": {
     "end_time": "2023-09-21T18:18:27.180292692Z",
     "start_time": "2023-09-21T18:18:27.003663700Z"
    }
   }
  },
  {
   "cell_type": "markdown",
   "source": [
    "## Calculating the Number of Shares to Buy\n",
    "\n",
    "As we can see in the DataFrame above, we stil haven't calculated the number of shares of each stock to buy."
   ],
   "metadata": {
    "collapsed": false
   }
  },
  {
   "cell_type": "code",
   "execution_count": 31,
   "outputs": [
    {
     "data": {
      "text/plain": "10000000"
     },
     "execution_count": 31,
     "metadata": {},
     "output_type": "execute_result"
    }
   ],
   "source": [
    "# portfolio_size = float(input(\"Enter your portfolio value: \"))\n",
    "portfolio_size = 10000000\n",
    "portfolio_size"
   ],
   "metadata": {
    "collapsed": false,
    "ExecuteTime": {
     "end_time": "2023-09-21T18:18:27.215834504Z",
     "start_time": "2023-09-21T18:18:27.024648500Z"
    }
   }
  },
  {
   "cell_type": "code",
   "execution_count": 32,
   "outputs": [
    {
     "data": {
      "text/plain": "200000.0"
     },
     "execution_count": 32,
     "metadata": {},
     "output_type": "execute_result"
    }
   ],
   "source": [
    "position_size = float(portfolio_size) / len(rv_dataframe.index)\n",
    "position_size"
   ],
   "metadata": {
    "collapsed": false,
    "ExecuteTime": {
     "end_time": "2023-09-21T18:18:27.216390288Z",
     "start_time": "2023-09-21T18:18:27.065016125Z"
    }
   }
  },
  {
   "cell_type": "code",
   "execution_count": 33,
   "outputs": [],
   "source": [
    "for row in rv_dataframe.index:\n",
    "    rv_dataframe.loc[row, 'Number of Shares to Buy'] = math.floor(\n",
    "        position_size / final_dataframe.loc[row, 'Stock Price'])"
   ],
   "metadata": {
    "collapsed": false,
    "ExecuteTime": {
     "end_time": "2023-09-21T18:18:27.216551099Z",
     "start_time": "2023-09-21T18:18:27.065259482Z"
    }
   }
  },
  {
   "cell_type": "code",
   "execution_count": 34,
   "outputs": [
    {
     "data": {
      "text/plain": "   Ticker  Stock Price Number of Shares to Buy  Price-to-Earning Ratio  \\\n0     MHK      90.0700                   15111              -18.232794   \n1       C      41.9750                    4806                6.652139   \n2     EQT      39.2550                    5088                4.470957   \n3     MOS      37.4250                    6048                5.847656   \n4       T      15.3300                    1352              -13.102564   \n5    PARA      13.4350                    1174               -5.417339   \n6     STT      68.9800                    1657                9.334235   \n7     WRK      35.3800                    4520               -6.374775   \n8    VTRS       9.7775                    1285                6.349026   \n9     IVZ      14.7800                    1995               10.557143   \n10    JPM     147.6700                    6247                9.490360   \n11    UAL      44.1050                    5336                5.547799   \n12   STLD     100.1900                    5802                5.801390   \n13     BK      43.3200                    2262               12.593023   \n14   CTRA      26.3450                    7335                6.636020   \n15    PHM      74.1500                    2695                6.168885   \n16    VLO     147.3500                   10726                5.074036   \n17    LEN     114.2800                   20465                8.477745   \n18     IP      34.2100                    4283                8.467822   \n19    PSX     120.5700                    7069                5.199224   \n20     VZ      33.4900                    7591                6.698000   \n21     GM      33.0450                    4763                4.615223   \n22    NUE     152.6100                    5979                7.016552   \n23    MRO      26.0100                   19111                8.052632   \n24     GS     332.6300                    2375               14.154468   \n25    NWL       9.1200                    1309              -12.160000   \n26    BWA      40.3900                   18501                9.972840   \n27    AAP      58.9600                    1576               10.183074   \n28    MPC     155.3700                   11368                5.697470   \n29    DHI     110.0000                    6790                7.829181   \n30    WBD      11.5850                    2005               -4.371698   \n31    SJM     129.3300                    7515            -1293.300000   \n32     CF      84.0600                    1815                6.918519   \n33    PFE      33.0000                    1309                8.684211   \n34   FANG     152.6678                    7673                7.918454   \n35    WDC      44.6800                    7092               -7.893993   \n36     MS      85.5100                    5175               15.028120   \n37    DVN      46.6450                    4927                6.372268   \n38    NRG      38.3200                    1615               -4.374429   \n39    DXC      20.5650                    1628               -7.451087   \n40    EOG     123.7450                    1753                8.344235   \n41    UHS     126.5600                    5841               13.169615   \n42    CNC      69.8500                    6056               14.284254   \n43     BG     114.0700                    1753                8.815301   \n44    TPR      29.4650                   10430                7.594072   \n45    ALB     170.3400                    1726                5.119928   \n46    CVX     166.2300                     549               10.540900   \n47    XOM     115.6299                    2900                9.250392   \n48    WBA      21.6400                    5963               -5.635417   \n49    BEN      25.4100                    3247               15.881250   \n\n   PE Percentile  Price-to-Book Value PB Percentile  Price-to-Sales Ratio  \\\n0       0.039761             0.698948      0.019881            -18.232793   \n1        0.12326             0.428872      0.005964              6.652139   \n2       0.085487             1.182486      0.087475              4.470957   \n3        0.10338             1.002330       0.05169              5.847656   \n4        0.04175             1.075563      0.069583            -13.102564   \n5       0.067594             0.403890      0.003976             -5.865619   \n6       0.176938             0.999580      0.047714              9.334235   \n7        0.06163             0.906088      0.035785             -6.618773   \n8       0.115308             0.562507      0.007952              6.349026   \n9       0.194831             0.585834       0.00994             10.557143   \n10      0.180915             1.505163      0.153082              9.530658   \n11      0.095427             1.877448      0.244533              5.547799   \n12      0.099404             1.914324      0.256461              5.801390   \n13      0.246521             0.934668      0.039761             12.593023   \n14      0.121272             1.571241       0.17495              6.636020   \n15      0.111332             1.680073      0.202783              6.168885   \n16      0.089463             2.012786      0.276342              5.074036   \n17      0.163022             1.259895      0.101392              9.533476   \n18      0.161034             1.408456      0.127237              8.467822   \n19      0.093439             1.795720      0.232604              5.199224   \n20      0.125249             1.479044      0.143141              6.698000   \n21      0.087475             0.645637      0.015905              4.615223   \n22      0.131213             1.902275      0.254473              7.016552   \n23      0.149105             1.401854      0.125249              8.052632   \n24      0.290258             1.094635      0.071571             14.372664   \n25      0.043738             1.139573      0.079523            -12.160000   \n26      0.184891             1.257354      0.099404              9.972840   \n27      0.186879             1.278792      0.105368             10.183074   \n28      0.097416             2.447118      0.361829              5.697470   \n29      0.145129             1.717945      0.212724              7.829181   \n30      0.075547             0.621146      0.013917             -4.371698   \n31      0.003976             1.886047      0.248509          -1293.300039   \n32      0.129225             2.794269      0.419483              6.918518   \n33       0.16501             1.881307      0.246521              8.684210   \n34      0.147117             1.759109      0.224652              7.918454   \n35      0.053678             1.326367      0.115308             -7.893993   \n36       0.32008             1.547832      0.163022             15.028120   \n37      0.117296             2.713023       0.40159              6.372268   \n38      0.073559             3.292379      0.481113             -4.374429   \n39      0.055666             1.321149       0.11332             -7.451087   \n40      0.157058             2.743913      0.409543              8.344234   \n41      0.266402             1.442772      0.135189             14.703759   \n42      0.296223             1.485664      0.145129             14.284253   \n43      0.166998             1.624813      0.188867              8.815302   \n44      0.139165             2.941499      0.439364              7.594072   \n45      0.091451             2.036366      0.286282              5.119928   \n46      0.190855             1.960468      0.264414             10.540900   \n47      0.170974             2.325528      0.341948              9.250392   \n48      0.063618             0.886922      0.029821             -5.635416   \n49      0.347913             1.061271      0.065606             15.881250   \n\n   PS Percentile     EV/EBITDA EV/EBITDA Percentile         EV/GP  \\\n0       0.039761  6.265588e+00             0.089463  2.932975e+00   \n1        0.12326 -3.262158e+11             0.001988 -3.262158e+11   \n2       0.085487  2.958875e+00             0.023857  2.432753e+00   \n3        0.10338  4.152391e+00             0.039761  2.718194e+00   \n4        0.04175  6.190190e+00             0.083499  3.844236e+00   \n5       0.065606  9.933107e+00             0.220676  2.357776e+00   \n6       0.172962 -3.643621e+10             0.011928 -3.643621e+10   \n7        0.06163  6.406270e+00             0.101392  4.689944e+00   \n8       0.115308  5.823373e+00             0.071571  4.596584e+00   \n9       0.192843  5.783173e+00             0.069583  1.640737e+00   \n10      0.176938 -2.548624e+11             0.003976 -2.548624e+11   \n11      0.095427  4.037901e+00             0.033797  2.929376e+00   \n12      0.099404  4.089838e+00             0.035785  2.872998e+00   \n13      0.244533 -6.682617e+10             0.007952 -6.682617e+10   \n14      0.121272  3.853038e+00             0.029821  3.601348e+00   \n15      0.111332  4.593522e+00             0.047714  3.512960e+00   \n16      0.089463  3.310733e+00             0.025845  3.479324e+00   \n17      0.180915  5.506747e+00             0.063618  3.171508e+00   \n18      0.159046  6.757442e+00             0.111332  2.885780e+00   \n19      0.093439  6.065133e+00             0.077535  3.826869e+00   \n20      0.125249  6.641381e+00             0.105368  4.094815e+00   \n21      0.087475  8.146681e+00             0.141153  6.623037e+00   \n22      0.131213  4.462327e+00             0.045726  3.151808e+00   \n23      0.149105  4.719561e+00              0.05169  4.932612e+00   \n24      0.286282 -2.188731e+11             0.005964 -2.188731e+11   \n25      0.043738  1.273205e+01             0.405567  3.378442e+00   \n26      0.182903  5.498402e+00              0.06163  4.223539e+00   \n27      0.184891  8.981198e+00             0.178926  1.577023e+00   \n28      0.097416  3.892452e+00             0.031809  3.511090e+00   \n29      0.145129  6.220796e+00             0.085487  3.832291e+00   \n30      0.075547  1.179610e+01              0.33996  5.415181e+00   \n31      0.003976  9.929282e+00             0.218688  6.068564e+00   \n32      0.129225  3.680156e+00             0.027833  2.771576e+00   \n33      0.163022  6.668781e+00             0.107356  3.140146e+00   \n34      0.147117  5.382397e+00             0.059642  5.076369e+00   \n35      0.053678 -7.700513e+01             0.015905  1.044691e+01   \n36      0.310139 -4.982550e+10              0.00994 -4.982550e+10   \n37      0.117296  4.104796e+00             0.037773  4.331396e+00   \n38      0.073559 -1.742934e+01             0.017893  5.041192e+00   \n39      0.055666  1.622635e+01             0.560636  2.553205e+00   \n40       0.15507  4.834984e+00             0.053678  2.976785e+00   \n41      0.296223  8.007550e+00             0.137177  1.163851e+00   \n42      0.284294  6.301395e+00             0.093439  2.389127e+00   \n43       0.16501  6.263752e+00             0.087475  5.874181e+00   \n44      0.139165  6.831825e+00             0.115308  1.962797e+00   \n45      0.091451  6.098794e+00             0.079523  7.172699e+00   \n46      0.188867  6.375929e+00             0.099404  4.447086e+00   \n47      0.168986  5.647626e+00             0.065606  4.588536e+00   \n48      0.067594  1.930391e+01              0.73161  1.950538e+00   \n49      0.337972  6.294023e+00             0.091451  3.833627e+00   \n\n   EV/GP Percentile  RV Score  \n0          0.065606  0.050895  \n1          0.001988  0.051292  \n2          0.043738  0.065209  \n3          0.049702  0.069583  \n4          0.129225  0.073161  \n5          0.037773  0.079125  \n6          0.011928  0.084294  \n7           0.16501  0.085089  \n8          0.161034  0.094235  \n9          0.021869  0.097813  \n10         0.003976  0.103777  \n11         0.063618  0.106561  \n12         0.053678  0.108946  \n13         0.007952  0.109344  \n14          0.11332  0.112127  \n15         0.109344  0.116501  \n16          0.10338  0.116899  \n17         0.081511  0.118091  \n18         0.055666  0.122863  \n19          0.12326  0.124056  \n20         0.133201  0.126441  \n21         0.308151  0.128032  \n22         0.079523  0.128429  \n23          0.17495   0.13002  \n24         0.005964  0.132008  \n25         0.095427  0.133598  \n26         0.141153  0.133996  \n27         0.017893  0.134791  \n28         0.107356  0.139165  \n29         0.125249  0.142744  \n30         0.214712  0.143936  \n31         0.258449   0.14672  \n32          0.05169  0.151491  \n33         0.075547  0.151491  \n34         0.184891  0.152684  \n35         0.548708  0.157455  \n36          0.00994  0.162624  \n37         0.147117  0.164215  \n38         0.182903  0.165805  \n39         0.045726  0.166203  \n40         0.067594  0.168588  \n41         0.013917  0.169781  \n42         0.039761  0.171769  \n43         0.250497  0.171769  \n44         0.027833  0.172167  \n45         0.333996  0.176541  \n46         0.153082  0.179324  \n47         0.159046  0.181312  \n48         0.025845  0.183698  \n49         0.127237  0.194036  ",
      "text/html": "<div>\n<style scoped>\n    .dataframe tbody tr th:only-of-type {\n        vertical-align: middle;\n    }\n\n    .dataframe tbody tr th {\n        vertical-align: top;\n    }\n\n    .dataframe thead th {\n        text-align: right;\n    }\n</style>\n<table border=\"1\" class=\"dataframe\">\n  <thead>\n    <tr style=\"text-align: right;\">\n      <th></th>\n      <th>Ticker</th>\n      <th>Stock Price</th>\n      <th>Number of Shares to Buy</th>\n      <th>Price-to-Earning Ratio</th>\n      <th>PE Percentile</th>\n      <th>Price-to-Book Value</th>\n      <th>PB Percentile</th>\n      <th>Price-to-Sales Ratio</th>\n      <th>PS Percentile</th>\n      <th>EV/EBITDA</th>\n      <th>EV/EBITDA Percentile</th>\n      <th>EV/GP</th>\n      <th>EV/GP Percentile</th>\n      <th>RV Score</th>\n    </tr>\n  </thead>\n  <tbody>\n    <tr>\n      <th>0</th>\n      <td>MHK</td>\n      <td>90.0700</td>\n      <td>15111</td>\n      <td>-18.232794</td>\n      <td>0.039761</td>\n      <td>0.698948</td>\n      <td>0.019881</td>\n      <td>-18.232793</td>\n      <td>0.039761</td>\n      <td>6.265588e+00</td>\n      <td>0.089463</td>\n      <td>2.932975e+00</td>\n      <td>0.065606</td>\n      <td>0.050895</td>\n    </tr>\n    <tr>\n      <th>1</th>\n      <td>C</td>\n      <td>41.9750</td>\n      <td>4806</td>\n      <td>6.652139</td>\n      <td>0.12326</td>\n      <td>0.428872</td>\n      <td>0.005964</td>\n      <td>6.652139</td>\n      <td>0.12326</td>\n      <td>-3.262158e+11</td>\n      <td>0.001988</td>\n      <td>-3.262158e+11</td>\n      <td>0.001988</td>\n      <td>0.051292</td>\n    </tr>\n    <tr>\n      <th>2</th>\n      <td>EQT</td>\n      <td>39.2550</td>\n      <td>5088</td>\n      <td>4.470957</td>\n      <td>0.085487</td>\n      <td>1.182486</td>\n      <td>0.087475</td>\n      <td>4.470957</td>\n      <td>0.085487</td>\n      <td>2.958875e+00</td>\n      <td>0.023857</td>\n      <td>2.432753e+00</td>\n      <td>0.043738</td>\n      <td>0.065209</td>\n    </tr>\n    <tr>\n      <th>3</th>\n      <td>MOS</td>\n      <td>37.4250</td>\n      <td>6048</td>\n      <td>5.847656</td>\n      <td>0.10338</td>\n      <td>1.002330</td>\n      <td>0.05169</td>\n      <td>5.847656</td>\n      <td>0.10338</td>\n      <td>4.152391e+00</td>\n      <td>0.039761</td>\n      <td>2.718194e+00</td>\n      <td>0.049702</td>\n      <td>0.069583</td>\n    </tr>\n    <tr>\n      <th>4</th>\n      <td>T</td>\n      <td>15.3300</td>\n      <td>1352</td>\n      <td>-13.102564</td>\n      <td>0.04175</td>\n      <td>1.075563</td>\n      <td>0.069583</td>\n      <td>-13.102564</td>\n      <td>0.04175</td>\n      <td>6.190190e+00</td>\n      <td>0.083499</td>\n      <td>3.844236e+00</td>\n      <td>0.129225</td>\n      <td>0.073161</td>\n    </tr>\n    <tr>\n      <th>5</th>\n      <td>PARA</td>\n      <td>13.4350</td>\n      <td>1174</td>\n      <td>-5.417339</td>\n      <td>0.067594</td>\n      <td>0.403890</td>\n      <td>0.003976</td>\n      <td>-5.865619</td>\n      <td>0.065606</td>\n      <td>9.933107e+00</td>\n      <td>0.220676</td>\n      <td>2.357776e+00</td>\n      <td>0.037773</td>\n      <td>0.079125</td>\n    </tr>\n    <tr>\n      <th>6</th>\n      <td>STT</td>\n      <td>68.9800</td>\n      <td>1657</td>\n      <td>9.334235</td>\n      <td>0.176938</td>\n      <td>0.999580</td>\n      <td>0.047714</td>\n      <td>9.334235</td>\n      <td>0.172962</td>\n      <td>-3.643621e+10</td>\n      <td>0.011928</td>\n      <td>-3.643621e+10</td>\n      <td>0.011928</td>\n      <td>0.084294</td>\n    </tr>\n    <tr>\n      <th>7</th>\n      <td>WRK</td>\n      <td>35.3800</td>\n      <td>4520</td>\n      <td>-6.374775</td>\n      <td>0.06163</td>\n      <td>0.906088</td>\n      <td>0.035785</td>\n      <td>-6.618773</td>\n      <td>0.06163</td>\n      <td>6.406270e+00</td>\n      <td>0.101392</td>\n      <td>4.689944e+00</td>\n      <td>0.16501</td>\n      <td>0.085089</td>\n    </tr>\n    <tr>\n      <th>8</th>\n      <td>VTRS</td>\n      <td>9.7775</td>\n      <td>1285</td>\n      <td>6.349026</td>\n      <td>0.115308</td>\n      <td>0.562507</td>\n      <td>0.007952</td>\n      <td>6.349026</td>\n      <td>0.115308</td>\n      <td>5.823373e+00</td>\n      <td>0.071571</td>\n      <td>4.596584e+00</td>\n      <td>0.161034</td>\n      <td>0.094235</td>\n    </tr>\n    <tr>\n      <th>9</th>\n      <td>IVZ</td>\n      <td>14.7800</td>\n      <td>1995</td>\n      <td>10.557143</td>\n      <td>0.194831</td>\n      <td>0.585834</td>\n      <td>0.00994</td>\n      <td>10.557143</td>\n      <td>0.192843</td>\n      <td>5.783173e+00</td>\n      <td>0.069583</td>\n      <td>1.640737e+00</td>\n      <td>0.021869</td>\n      <td>0.097813</td>\n    </tr>\n    <tr>\n      <th>10</th>\n      <td>JPM</td>\n      <td>147.6700</td>\n      <td>6247</td>\n      <td>9.490360</td>\n      <td>0.180915</td>\n      <td>1.505163</td>\n      <td>0.153082</td>\n      <td>9.530658</td>\n      <td>0.176938</td>\n      <td>-2.548624e+11</td>\n      <td>0.003976</td>\n      <td>-2.548624e+11</td>\n      <td>0.003976</td>\n      <td>0.103777</td>\n    </tr>\n    <tr>\n      <th>11</th>\n      <td>UAL</td>\n      <td>44.1050</td>\n      <td>5336</td>\n      <td>5.547799</td>\n      <td>0.095427</td>\n      <td>1.877448</td>\n      <td>0.244533</td>\n      <td>5.547799</td>\n      <td>0.095427</td>\n      <td>4.037901e+00</td>\n      <td>0.033797</td>\n      <td>2.929376e+00</td>\n      <td>0.063618</td>\n      <td>0.106561</td>\n    </tr>\n    <tr>\n      <th>12</th>\n      <td>STLD</td>\n      <td>100.1900</td>\n      <td>5802</td>\n      <td>5.801390</td>\n      <td>0.099404</td>\n      <td>1.914324</td>\n      <td>0.256461</td>\n      <td>5.801390</td>\n      <td>0.099404</td>\n      <td>4.089838e+00</td>\n      <td>0.035785</td>\n      <td>2.872998e+00</td>\n      <td>0.053678</td>\n      <td>0.108946</td>\n    </tr>\n    <tr>\n      <th>13</th>\n      <td>BK</td>\n      <td>43.3200</td>\n      <td>2262</td>\n      <td>12.593023</td>\n      <td>0.246521</td>\n      <td>0.934668</td>\n      <td>0.039761</td>\n      <td>12.593023</td>\n      <td>0.244533</td>\n      <td>-6.682617e+10</td>\n      <td>0.007952</td>\n      <td>-6.682617e+10</td>\n      <td>0.007952</td>\n      <td>0.109344</td>\n    </tr>\n    <tr>\n      <th>14</th>\n      <td>CTRA</td>\n      <td>26.3450</td>\n      <td>7335</td>\n      <td>6.636020</td>\n      <td>0.121272</td>\n      <td>1.571241</td>\n      <td>0.17495</td>\n      <td>6.636020</td>\n      <td>0.121272</td>\n      <td>3.853038e+00</td>\n      <td>0.029821</td>\n      <td>3.601348e+00</td>\n      <td>0.11332</td>\n      <td>0.112127</td>\n    </tr>\n    <tr>\n      <th>15</th>\n      <td>PHM</td>\n      <td>74.1500</td>\n      <td>2695</td>\n      <td>6.168885</td>\n      <td>0.111332</td>\n      <td>1.680073</td>\n      <td>0.202783</td>\n      <td>6.168885</td>\n      <td>0.111332</td>\n      <td>4.593522e+00</td>\n      <td>0.047714</td>\n      <td>3.512960e+00</td>\n      <td>0.109344</td>\n      <td>0.116501</td>\n    </tr>\n    <tr>\n      <th>16</th>\n      <td>VLO</td>\n      <td>147.3500</td>\n      <td>10726</td>\n      <td>5.074036</td>\n      <td>0.089463</td>\n      <td>2.012786</td>\n      <td>0.276342</td>\n      <td>5.074036</td>\n      <td>0.089463</td>\n      <td>3.310733e+00</td>\n      <td>0.025845</td>\n      <td>3.479324e+00</td>\n      <td>0.10338</td>\n      <td>0.116899</td>\n    </tr>\n    <tr>\n      <th>17</th>\n      <td>LEN</td>\n      <td>114.2800</td>\n      <td>20465</td>\n      <td>8.477745</td>\n      <td>0.163022</td>\n      <td>1.259895</td>\n      <td>0.101392</td>\n      <td>9.533476</td>\n      <td>0.180915</td>\n      <td>5.506747e+00</td>\n      <td>0.063618</td>\n      <td>3.171508e+00</td>\n      <td>0.081511</td>\n      <td>0.118091</td>\n    </tr>\n    <tr>\n      <th>18</th>\n      <td>IP</td>\n      <td>34.2100</td>\n      <td>4283</td>\n      <td>8.467822</td>\n      <td>0.161034</td>\n      <td>1.408456</td>\n      <td>0.127237</td>\n      <td>8.467822</td>\n      <td>0.159046</td>\n      <td>6.757442e+00</td>\n      <td>0.111332</td>\n      <td>2.885780e+00</td>\n      <td>0.055666</td>\n      <td>0.122863</td>\n    </tr>\n    <tr>\n      <th>19</th>\n      <td>PSX</td>\n      <td>120.5700</td>\n      <td>7069</td>\n      <td>5.199224</td>\n      <td>0.093439</td>\n      <td>1.795720</td>\n      <td>0.232604</td>\n      <td>5.199224</td>\n      <td>0.093439</td>\n      <td>6.065133e+00</td>\n      <td>0.077535</td>\n      <td>3.826869e+00</td>\n      <td>0.12326</td>\n      <td>0.124056</td>\n    </tr>\n    <tr>\n      <th>20</th>\n      <td>VZ</td>\n      <td>33.4900</td>\n      <td>7591</td>\n      <td>6.698000</td>\n      <td>0.125249</td>\n      <td>1.479044</td>\n      <td>0.143141</td>\n      <td>6.698000</td>\n      <td>0.125249</td>\n      <td>6.641381e+00</td>\n      <td>0.105368</td>\n      <td>4.094815e+00</td>\n      <td>0.133201</td>\n      <td>0.126441</td>\n    </tr>\n    <tr>\n      <th>21</th>\n      <td>GM</td>\n      <td>33.0450</td>\n      <td>4763</td>\n      <td>4.615223</td>\n      <td>0.087475</td>\n      <td>0.645637</td>\n      <td>0.015905</td>\n      <td>4.615223</td>\n      <td>0.087475</td>\n      <td>8.146681e+00</td>\n      <td>0.141153</td>\n      <td>6.623037e+00</td>\n      <td>0.308151</td>\n      <td>0.128032</td>\n    </tr>\n    <tr>\n      <th>22</th>\n      <td>NUE</td>\n      <td>152.6100</td>\n      <td>5979</td>\n      <td>7.016552</td>\n      <td>0.131213</td>\n      <td>1.902275</td>\n      <td>0.254473</td>\n      <td>7.016552</td>\n      <td>0.131213</td>\n      <td>4.462327e+00</td>\n      <td>0.045726</td>\n      <td>3.151808e+00</td>\n      <td>0.079523</td>\n      <td>0.128429</td>\n    </tr>\n    <tr>\n      <th>23</th>\n      <td>MRO</td>\n      <td>26.0100</td>\n      <td>19111</td>\n      <td>8.052632</td>\n      <td>0.149105</td>\n      <td>1.401854</td>\n      <td>0.125249</td>\n      <td>8.052632</td>\n      <td>0.149105</td>\n      <td>4.719561e+00</td>\n      <td>0.05169</td>\n      <td>4.932612e+00</td>\n      <td>0.17495</td>\n      <td>0.13002</td>\n    </tr>\n    <tr>\n      <th>24</th>\n      <td>GS</td>\n      <td>332.6300</td>\n      <td>2375</td>\n      <td>14.154468</td>\n      <td>0.290258</td>\n      <td>1.094635</td>\n      <td>0.071571</td>\n      <td>14.372664</td>\n      <td>0.286282</td>\n      <td>-2.188731e+11</td>\n      <td>0.005964</td>\n      <td>-2.188731e+11</td>\n      <td>0.005964</td>\n      <td>0.132008</td>\n    </tr>\n    <tr>\n      <th>25</th>\n      <td>NWL</td>\n      <td>9.1200</td>\n      <td>1309</td>\n      <td>-12.160000</td>\n      <td>0.043738</td>\n      <td>1.139573</td>\n      <td>0.079523</td>\n      <td>-12.160000</td>\n      <td>0.043738</td>\n      <td>1.273205e+01</td>\n      <td>0.405567</td>\n      <td>3.378442e+00</td>\n      <td>0.095427</td>\n      <td>0.133598</td>\n    </tr>\n    <tr>\n      <th>26</th>\n      <td>BWA</td>\n      <td>40.3900</td>\n      <td>18501</td>\n      <td>9.972840</td>\n      <td>0.184891</td>\n      <td>1.257354</td>\n      <td>0.099404</td>\n      <td>9.972840</td>\n      <td>0.182903</td>\n      <td>5.498402e+00</td>\n      <td>0.06163</td>\n      <td>4.223539e+00</td>\n      <td>0.141153</td>\n      <td>0.133996</td>\n    </tr>\n    <tr>\n      <th>27</th>\n      <td>AAP</td>\n      <td>58.9600</td>\n      <td>1576</td>\n      <td>10.183074</td>\n      <td>0.186879</td>\n      <td>1.278792</td>\n      <td>0.105368</td>\n      <td>10.183074</td>\n      <td>0.184891</td>\n      <td>8.981198e+00</td>\n      <td>0.178926</td>\n      <td>1.577023e+00</td>\n      <td>0.017893</td>\n      <td>0.134791</td>\n    </tr>\n    <tr>\n      <th>28</th>\n      <td>MPC</td>\n      <td>155.3700</td>\n      <td>11368</td>\n      <td>5.697470</td>\n      <td>0.097416</td>\n      <td>2.447118</td>\n      <td>0.361829</td>\n      <td>5.697470</td>\n      <td>0.097416</td>\n      <td>3.892452e+00</td>\n      <td>0.031809</td>\n      <td>3.511090e+00</td>\n      <td>0.107356</td>\n      <td>0.139165</td>\n    </tr>\n    <tr>\n      <th>29</th>\n      <td>DHI</td>\n      <td>110.0000</td>\n      <td>6790</td>\n      <td>7.829181</td>\n      <td>0.145129</td>\n      <td>1.717945</td>\n      <td>0.212724</td>\n      <td>7.829181</td>\n      <td>0.145129</td>\n      <td>6.220796e+00</td>\n      <td>0.085487</td>\n      <td>3.832291e+00</td>\n      <td>0.125249</td>\n      <td>0.142744</td>\n    </tr>\n    <tr>\n      <th>30</th>\n      <td>WBD</td>\n      <td>11.5850</td>\n      <td>2005</td>\n      <td>-4.371698</td>\n      <td>0.075547</td>\n      <td>0.621146</td>\n      <td>0.013917</td>\n      <td>-4.371698</td>\n      <td>0.075547</td>\n      <td>1.179610e+01</td>\n      <td>0.33996</td>\n      <td>5.415181e+00</td>\n      <td>0.214712</td>\n      <td>0.143936</td>\n    </tr>\n    <tr>\n      <th>31</th>\n      <td>SJM</td>\n      <td>129.3300</td>\n      <td>7515</td>\n      <td>-1293.300000</td>\n      <td>0.003976</td>\n      <td>1.886047</td>\n      <td>0.248509</td>\n      <td>-1293.300039</td>\n      <td>0.003976</td>\n      <td>9.929282e+00</td>\n      <td>0.218688</td>\n      <td>6.068564e+00</td>\n      <td>0.258449</td>\n      <td>0.14672</td>\n    </tr>\n    <tr>\n      <th>32</th>\n      <td>CF</td>\n      <td>84.0600</td>\n      <td>1815</td>\n      <td>6.918519</td>\n      <td>0.129225</td>\n      <td>2.794269</td>\n      <td>0.419483</td>\n      <td>6.918518</td>\n      <td>0.129225</td>\n      <td>3.680156e+00</td>\n      <td>0.027833</td>\n      <td>2.771576e+00</td>\n      <td>0.05169</td>\n      <td>0.151491</td>\n    </tr>\n    <tr>\n      <th>33</th>\n      <td>PFE</td>\n      <td>33.0000</td>\n      <td>1309</td>\n      <td>8.684211</td>\n      <td>0.16501</td>\n      <td>1.881307</td>\n      <td>0.246521</td>\n      <td>8.684210</td>\n      <td>0.163022</td>\n      <td>6.668781e+00</td>\n      <td>0.107356</td>\n      <td>3.140146e+00</td>\n      <td>0.075547</td>\n      <td>0.151491</td>\n    </tr>\n    <tr>\n      <th>34</th>\n      <td>FANG</td>\n      <td>152.6678</td>\n      <td>7673</td>\n      <td>7.918454</td>\n      <td>0.147117</td>\n      <td>1.759109</td>\n      <td>0.224652</td>\n      <td>7.918454</td>\n      <td>0.147117</td>\n      <td>5.382397e+00</td>\n      <td>0.059642</td>\n      <td>5.076369e+00</td>\n      <td>0.184891</td>\n      <td>0.152684</td>\n    </tr>\n    <tr>\n      <th>35</th>\n      <td>WDC</td>\n      <td>44.6800</td>\n      <td>7092</td>\n      <td>-7.893993</td>\n      <td>0.053678</td>\n      <td>1.326367</td>\n      <td>0.115308</td>\n      <td>-7.893993</td>\n      <td>0.053678</td>\n      <td>-7.700513e+01</td>\n      <td>0.015905</td>\n      <td>1.044691e+01</td>\n      <td>0.548708</td>\n      <td>0.157455</td>\n    </tr>\n    <tr>\n      <th>36</th>\n      <td>MS</td>\n      <td>85.5100</td>\n      <td>5175</td>\n      <td>15.028120</td>\n      <td>0.32008</td>\n      <td>1.547832</td>\n      <td>0.163022</td>\n      <td>15.028120</td>\n      <td>0.310139</td>\n      <td>-4.982550e+10</td>\n      <td>0.00994</td>\n      <td>-4.982550e+10</td>\n      <td>0.00994</td>\n      <td>0.162624</td>\n    </tr>\n    <tr>\n      <th>37</th>\n      <td>DVN</td>\n      <td>46.6450</td>\n      <td>4927</td>\n      <td>6.372268</td>\n      <td>0.117296</td>\n      <td>2.713023</td>\n      <td>0.40159</td>\n      <td>6.372268</td>\n      <td>0.117296</td>\n      <td>4.104796e+00</td>\n      <td>0.037773</td>\n      <td>4.331396e+00</td>\n      <td>0.147117</td>\n      <td>0.164215</td>\n    </tr>\n    <tr>\n      <th>38</th>\n      <td>NRG</td>\n      <td>38.3200</td>\n      <td>1615</td>\n      <td>-4.374429</td>\n      <td>0.073559</td>\n      <td>3.292379</td>\n      <td>0.481113</td>\n      <td>-4.374429</td>\n      <td>0.073559</td>\n      <td>-1.742934e+01</td>\n      <td>0.017893</td>\n      <td>5.041192e+00</td>\n      <td>0.182903</td>\n      <td>0.165805</td>\n    </tr>\n    <tr>\n      <th>39</th>\n      <td>DXC</td>\n      <td>20.5650</td>\n      <td>1628</td>\n      <td>-7.451087</td>\n      <td>0.055666</td>\n      <td>1.321149</td>\n      <td>0.11332</td>\n      <td>-7.451087</td>\n      <td>0.055666</td>\n      <td>1.622635e+01</td>\n      <td>0.560636</td>\n      <td>2.553205e+00</td>\n      <td>0.045726</td>\n      <td>0.166203</td>\n    </tr>\n    <tr>\n      <th>40</th>\n      <td>EOG</td>\n      <td>123.7450</td>\n      <td>1753</td>\n      <td>8.344235</td>\n      <td>0.157058</td>\n      <td>2.743913</td>\n      <td>0.409543</td>\n      <td>8.344234</td>\n      <td>0.15507</td>\n      <td>4.834984e+00</td>\n      <td>0.053678</td>\n      <td>2.976785e+00</td>\n      <td>0.067594</td>\n      <td>0.168588</td>\n    </tr>\n    <tr>\n      <th>41</th>\n      <td>UHS</td>\n      <td>126.5600</td>\n      <td>5841</td>\n      <td>13.169615</td>\n      <td>0.266402</td>\n      <td>1.442772</td>\n      <td>0.135189</td>\n      <td>14.703759</td>\n      <td>0.296223</td>\n      <td>8.007550e+00</td>\n      <td>0.137177</td>\n      <td>1.163851e+00</td>\n      <td>0.013917</td>\n      <td>0.169781</td>\n    </tr>\n    <tr>\n      <th>42</th>\n      <td>CNC</td>\n      <td>69.8500</td>\n      <td>6056</td>\n      <td>14.284254</td>\n      <td>0.296223</td>\n      <td>1.485664</td>\n      <td>0.145129</td>\n      <td>14.284253</td>\n      <td>0.284294</td>\n      <td>6.301395e+00</td>\n      <td>0.093439</td>\n      <td>2.389127e+00</td>\n      <td>0.039761</td>\n      <td>0.171769</td>\n    </tr>\n    <tr>\n      <th>43</th>\n      <td>BG</td>\n      <td>114.0700</td>\n      <td>1753</td>\n      <td>8.815301</td>\n      <td>0.166998</td>\n      <td>1.624813</td>\n      <td>0.188867</td>\n      <td>8.815302</td>\n      <td>0.16501</td>\n      <td>6.263752e+00</td>\n      <td>0.087475</td>\n      <td>5.874181e+00</td>\n      <td>0.250497</td>\n      <td>0.171769</td>\n    </tr>\n    <tr>\n      <th>44</th>\n      <td>TPR</td>\n      <td>29.4650</td>\n      <td>10430</td>\n      <td>7.594072</td>\n      <td>0.139165</td>\n      <td>2.941499</td>\n      <td>0.439364</td>\n      <td>7.594072</td>\n      <td>0.139165</td>\n      <td>6.831825e+00</td>\n      <td>0.115308</td>\n      <td>1.962797e+00</td>\n      <td>0.027833</td>\n      <td>0.172167</td>\n    </tr>\n    <tr>\n      <th>45</th>\n      <td>ALB</td>\n      <td>170.3400</td>\n      <td>1726</td>\n      <td>5.119928</td>\n      <td>0.091451</td>\n      <td>2.036366</td>\n      <td>0.286282</td>\n      <td>5.119928</td>\n      <td>0.091451</td>\n      <td>6.098794e+00</td>\n      <td>0.079523</td>\n      <td>7.172699e+00</td>\n      <td>0.333996</td>\n      <td>0.176541</td>\n    </tr>\n    <tr>\n      <th>46</th>\n      <td>CVX</td>\n      <td>166.2300</td>\n      <td>549</td>\n      <td>10.540900</td>\n      <td>0.190855</td>\n      <td>1.960468</td>\n      <td>0.264414</td>\n      <td>10.540900</td>\n      <td>0.188867</td>\n      <td>6.375929e+00</td>\n      <td>0.099404</td>\n      <td>4.447086e+00</td>\n      <td>0.153082</td>\n      <td>0.179324</td>\n    </tr>\n    <tr>\n      <th>47</th>\n      <td>XOM</td>\n      <td>115.6299</td>\n      <td>2900</td>\n      <td>9.250392</td>\n      <td>0.170974</td>\n      <td>2.325528</td>\n      <td>0.341948</td>\n      <td>9.250392</td>\n      <td>0.168986</td>\n      <td>5.647626e+00</td>\n      <td>0.065606</td>\n      <td>4.588536e+00</td>\n      <td>0.159046</td>\n      <td>0.181312</td>\n    </tr>\n    <tr>\n      <th>48</th>\n      <td>WBA</td>\n      <td>21.6400</td>\n      <td>5963</td>\n      <td>-5.635417</td>\n      <td>0.063618</td>\n      <td>0.886922</td>\n      <td>0.029821</td>\n      <td>-5.635416</td>\n      <td>0.067594</td>\n      <td>1.930391e+01</td>\n      <td>0.73161</td>\n      <td>1.950538e+00</td>\n      <td>0.025845</td>\n      <td>0.183698</td>\n    </tr>\n    <tr>\n      <th>49</th>\n      <td>BEN</td>\n      <td>25.4100</td>\n      <td>3247</td>\n      <td>15.881250</td>\n      <td>0.347913</td>\n      <td>1.061271</td>\n      <td>0.065606</td>\n      <td>15.881250</td>\n      <td>0.337972</td>\n      <td>6.294023e+00</td>\n      <td>0.091451</td>\n      <td>3.833627e+00</td>\n      <td>0.127237</td>\n      <td>0.194036</td>\n    </tr>\n  </tbody>\n</table>\n</div>"
     },
     "execution_count": 34,
     "metadata": {},
     "output_type": "execute_result"
    }
   ],
   "source": [
    "rv_dataframe"
   ],
   "metadata": {
    "collapsed": false,
    "ExecuteTime": {
     "end_time": "2023-09-21T18:18:27.235918083Z",
     "start_time": "2023-09-21T18:18:27.081805322Z"
    }
   }
  },
  {
   "cell_type": "markdown",
   "source": [
    "## Formatting Our Excel Output\n",
    "\n",
    "We will be using the XlsxWriter library for Python to create nicely-formatted Excel files.\n",
    "\n",
    "### Initializing our XlsxWriter Object"
   ],
   "metadata": {
    "collapsed": false
   }
  },
  {
   "cell_type": "code",
   "execution_count": 35,
   "outputs": [],
   "source": [
    "writer = pd.ExcelWriter('value_strategy.xlsx', engine='xlsxwriter')\n",
    "rv_dataframe.to_excel(writer, sheet_name='Value Strategy', index=False)"
   ],
   "metadata": {
    "collapsed": false,
    "ExecuteTime": {
     "end_time": "2023-09-21T18:18:27.244783749Z",
     "start_time": "2023-09-21T18:18:27.086642798Z"
    }
   }
  },
  {
   "cell_type": "markdown",
   "source": [
    "## Formatting Our Excel Output"
   ],
   "metadata": {
    "collapsed": false
   }
  },
  {
   "cell_type": "code",
   "execution_count": 36,
   "outputs": [],
   "source": [
    "background_color = '#0a0a23'\n",
    "font_color = '#ffffff'\n",
    "\n",
    "string_template = writer.book.add_format(\n",
    "    {\n",
    "        'font_color': font_color,\n",
    "        'bg_color': background_color,\n",
    "        'border': 1\n",
    "    }\n",
    ")\n",
    "\n",
    "dollar_template = writer.book.add_format(\n",
    "    {\n",
    "        'num_format': '$0.00',\n",
    "        'font_color': font_color,\n",
    "        'bg_color': background_color,\n",
    "        'border': 1\n",
    "    }\n",
    ")\n",
    "\n",
    "integer_template = writer.book.add_format(\n",
    "    {\n",
    "        'num_format': '0',\n",
    "        'font_color': font_color,\n",
    "        'bg_color': background_color,\n",
    "        'border': 1\n",
    "    }\n",
    ")\n",
    "\n",
    "float_template = writer.book.add_format(\n",
    "    {\n",
    "        'num_format': '0.0',\n",
    "        'font_color': font_color,\n",
    "        'bg_color': background_color,\n",
    "        'border': 1\n",
    "    }\n",
    ")\n",
    "\n",
    "percent_template = writer.book.add_format(\n",
    "    {\n",
    "        'num_format': '0.0%',\n",
    "        'font_color': font_color,\n",
    "        'bg_color': background_color,\n",
    "        'border': 1\n",
    "    }\n",
    ")"
   ],
   "metadata": {
    "collapsed": false,
    "ExecuteTime": {
     "end_time": "2023-09-21T18:18:27.245108952Z",
     "start_time": "2023-09-21T18:18:27.119877142Z"
    }
   }
  },
  {
   "cell_type": "code",
   "execution_count": 37,
   "outputs": [],
   "source": [
    "column_formats = {\n",
    "    'A': ['Ticker', string_template],\n",
    "    'B': ['Stock Price', dollar_template],\n",
    "    'C': ['Number of Shares to Buy', integer_template],\n",
    "    'D': ['Price-to-Earning Ratio', float_template],\n",
    "    'E': ['PE Percentile', percent_template],\n",
    "    'F': ['Price-to-Book Value', float_template],\n",
    "    'G': ['PB Percentile', percent_template],\n",
    "    'H': ['Price-to-Sales Ratio', float_template],\n",
    "    'I': ['PS Percentile', percent_template],\n",
    "    'J': ['EV/EBITDA', float_template],\n",
    "    'K': ['EV/EBITDA Percentile', percent_template],\n",
    "    'L': ['EV/GP', float_template],\n",
    "    'M': ['EV/GP Percentile', percent_template],\n",
    "    'N': ['RV Score', percent_template]\n",
    "}\n",
    "\n",
    "for column in column_formats.keys():\n",
    "    writer.sheets['Value Strategy'].set_column(f'{column}:{column}', 20, column_formats[column][1])\n",
    "    writer.sheets['Value Strategy'].write(f'{column}1', column_formats[column][0], string_template)"
   ],
   "metadata": {
    "collapsed": false,
    "ExecuteTime": {
     "end_time": "2023-09-21T18:18:27.245259248Z",
     "start_time": "2023-09-21T18:18:27.129742882Z"
    }
   }
  },
  {
   "cell_type": "markdown",
   "source": [
    "## Saving Our Excel Output"
   ],
   "metadata": {
    "collapsed": false
   }
  },
  {
   "cell_type": "code",
   "execution_count": 38,
   "outputs": [],
   "source": [
    "writer.close()"
   ],
   "metadata": {
    "collapsed": false,
    "ExecuteTime": {
     "end_time": "2023-09-21T18:18:27.245395606Z",
     "start_time": "2023-09-21T18:18:27.134141363Z"
    }
   }
  }
 ],
 "metadata": {
  "kernelspec": {
   "display_name": "Python 3 (ipykernel)",
   "language": "python",
   "name": "python3"
  },
  "language_info": {
   "codemirror_mode": {
    "name": "ipython",
    "version": 3
   },
   "file_extension": ".py",
   "mimetype": "text/x-python",
   "name": "python",
   "nbconvert_exporter": "python",
   "pygments_lexer": "ipython3",
   "version": "3.10.12"
  }
 },
 "nbformat": 4,
 "nbformat_minor": 1
}
