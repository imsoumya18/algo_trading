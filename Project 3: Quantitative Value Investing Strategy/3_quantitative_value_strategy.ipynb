{
 "cells": [
  {
   "cell_type": "markdown",
   "source": [
    "# Quantitative Value Strategy\n",
    "\"Value investing\" means investing in the stocks that are cheapest relative to common measures of business value (like earnings or assets).\n",
    "\n",
    "For this project, we're going to build an investing strategy that selects the 50 stocks with the best value metrics. From there, we will calculate recommended trades for an equal-weight portfolio of these 50 stocks.\n",
    "\n",
    "## Library Imports\n",
    "The first thing we need to do is import the open-source software libraries that we'll be using in this tutorial."
   ],
   "metadata": {
    "collapsed": false
   }
  },
  {
   "cell_type": "code",
   "execution_count": 1,
   "metadata": {
    "collapsed": true,
    "ExecuteTime": {
     "end_time": "2023-08-05T04:11:40.962249803Z",
     "start_time": "2023-08-05T04:11:40.165960943Z"
    }
   },
   "outputs": [],
   "source": [
    "import yfinance as yf\n",
    "import numpy as np\n",
    "import pandas as pd\n",
    "import math\n",
    "from scipy.stats import percentileofscore as score\n",
    "from statistics import mean\n",
    "from IPython.display import clear_output"
   ]
  },
  {
   "cell_type": "markdown",
   "source": [
    "## Importing Our List of Stocks\n",
    "\n",
    "The next thing we need to do is import the constituents of the S&P 500.\n",
    "\n",
    "These constituents change over time, so in an ideal world you would connect directly to the index provider (Standard & Poor's) and pull their real-time constituents on a regular basis. But, here we have just taken a list of ~500 stocks in a CSV file taken at the time of building the project.\n",
    "\n",
    "Now it's time to import these stocks to our Jupyter Notebook file."
   ],
   "metadata": {
    "collapsed": false
   }
  },
  {
   "cell_type": "code",
   "execution_count": 2,
   "metadata": {
    "ExecuteTime": {
     "end_time": "2023-08-05T04:11:40.980259996Z",
     "start_time": "2023-08-05T04:11:40.972139585Z"
    }
   },
   "outputs": [
    {
     "data": {
      "text/plain": "    Ticker\n0        A\n1      AAL\n2      AAP\n3     AAPL\n4     ABBV\n..     ...\n498    YUM\n499    ZBH\n500   ZBRA\n501   ZION\n502    ZTS\n\n[503 rows x 1 columns]",
      "text/html": "<div>\n<style scoped>\n    .dataframe tbody tr th:only-of-type {\n        vertical-align: middle;\n    }\n\n    .dataframe tbody tr th {\n        vertical-align: top;\n    }\n\n    .dataframe thead th {\n        text-align: right;\n    }\n</style>\n<table border=\"1\" class=\"dataframe\">\n  <thead>\n    <tr style=\"text-align: right;\">\n      <th></th>\n      <th>Ticker</th>\n    </tr>\n  </thead>\n  <tbody>\n    <tr>\n      <th>0</th>\n      <td>A</td>\n    </tr>\n    <tr>\n      <th>1</th>\n      <td>AAL</td>\n    </tr>\n    <tr>\n      <th>2</th>\n      <td>AAP</td>\n    </tr>\n    <tr>\n      <th>3</th>\n      <td>AAPL</td>\n    </tr>\n    <tr>\n      <th>4</th>\n      <td>ABBV</td>\n    </tr>\n    <tr>\n      <th>...</th>\n      <td>...</td>\n    </tr>\n    <tr>\n      <th>498</th>\n      <td>YUM</td>\n    </tr>\n    <tr>\n      <th>499</th>\n      <td>ZBH</td>\n    </tr>\n    <tr>\n      <th>500</th>\n      <td>ZBRA</td>\n    </tr>\n    <tr>\n      <th>501</th>\n      <td>ZION</td>\n    </tr>\n    <tr>\n      <th>502</th>\n      <td>ZTS</td>\n    </tr>\n  </tbody>\n</table>\n<p>503 rows × 1 columns</p>\n</div>"
     },
     "execution_count": 2,
     "metadata": {},
     "output_type": "execute_result"
    }
   ],
   "source": [
    "stocks = pd.read_csv('sp500.csv')\n",
    "stocks"
   ]
  },
  {
   "cell_type": "markdown",
   "source": [
    "## Adding Our Stocks Data to a Pandas DataFrame\n",
    "\n",
    "The next thing we need to do is add our stock's price and market capitalization to a pandas DataFrame."
   ],
   "metadata": {
    "collapsed": false
   }
  },
  {
   "cell_type": "code",
   "execution_count": 3,
   "metadata": {
    "ExecuteTime": {
     "end_time": "2023-08-05T04:11:40.996572654Z",
     "start_time": "2023-08-05T04:11:40.986512506Z"
    }
   },
   "outputs": [
    {
     "data": {
      "text/plain": "Empty DataFrame\nColumns: [Ticker, Stock Price, P/E Ratio, Number of Shares to Buy]\nIndex: []",
      "text/html": "<div>\n<style scoped>\n    .dataframe tbody tr th:only-of-type {\n        vertical-align: middle;\n    }\n\n    .dataframe tbody tr th {\n        vertical-align: top;\n    }\n\n    .dataframe thead th {\n        text-align: right;\n    }\n</style>\n<table border=\"1\" class=\"dataframe\">\n  <thead>\n    <tr style=\"text-align: right;\">\n      <th></th>\n      <th>Ticker</th>\n      <th>Stock Price</th>\n      <th>P/E Ratio</th>\n      <th>Number of Shares to Buy</th>\n    </tr>\n  </thead>\n  <tbody>\n  </tbody>\n</table>\n</div>"
     },
     "execution_count": 3,
     "metadata": {},
     "output_type": "execute_result"
    }
   ],
   "source": [
    "my_columns = ['Ticker',\n",
    "              'Stock Price',\n",
    "              'P/E Ratio',\n",
    "              'Number of Shares to Buy']\n",
    "final_dataframe = pd.DataFrame(columns=my_columns)\n",
    "final_dataframe"
   ]
  },
  {
   "cell_type": "markdown",
   "source": [
    "## Looping Through The Tickers in Our List of Stocks\n",
    "\n",
    "Here to fetch the stock data, we have used `yfinance` API\n",
    "\n",
    "We can pull data for all S&P 500 stocks and store their data in the DataFrame using a `for` loop."
   ],
   "metadata": {
    "collapsed": false
   }
  },
  {
   "cell_type": "code",
   "execution_count": 4,
   "outputs": [
    {
     "name": "stdout",
     "output_type": "stream",
     "text": [
      "    Ticker  Stock Price  P/E Ratio Number of Shares to Buy\n",
      "0        A       126.30  27.880795                     N/A\n",
      "1      AAL        15.84   6.187500                     N/A\n",
      "2      AAP        71.01  10.551263                     N/A\n",
      "3     AAPL       181.99  30.898132                     N/A\n",
      "4     ABBV       147.73  34.760000                     N/A\n",
      "..     ...          ...        ...                     ...\n",
      "498    YUM       134.35  31.537559                     N/A\n",
      "499    ZBH       126.32  59.028037                     N/A\n",
      "500   ZBRA       251.41  32.067602                     N/A\n",
      "501   ZION        37.92   6.482051                     N/A\n",
      "502    ZTS       178.63  40.505669                     N/A\n",
      "\n",
      "[503 rows x 4 columns]\n"
     ]
    }
   ],
   "source": [
    "for stock in stocks['Ticker']:\n",
    "    data = yf.Ticker(stock).info\n",
    "    price = data['currentPrice']\n",
    "    try:\n",
    "        peRatio = data['currentPrice'] / data['trailingEps']\n",
    "    except:\n",
    "        peRatio = np.NaN\n",
    "    stock_dict = {\n",
    "        'Ticker': [stock],\n",
    "        'Stock Price': [price],\n",
    "        'P/E Ratio': [peRatio],\n",
    "        'Number of Shares to Buy': ['N/A']\n",
    "    }\n",
    "    df = pd.DataFrame(stock_dict)\n",
    "    final_dataframe = pd.concat([final_dataframe, df], ignore_index=True)\n",
    "\n",
    "    clear_output(wait=True)\n",
    "    print(final_dataframe)"
   ],
   "metadata": {
    "collapsed": false
   }
  },
  {
   "cell_type": "code",
   "execution_count": 5,
   "outputs": [
    {
     "data": {
      "text/plain": "    Ticker  Stock Price  P/E Ratio Number of Shares to Buy\n0        A       126.30  27.880795                     N/A\n1      AAL        15.84   6.187500                     N/A\n2      AAP        71.01  10.551263                     N/A\n3     AAPL       181.99  30.898132                     N/A\n4     ABBV       147.73  34.760000                     N/A\n..     ...          ...        ...                     ...\n498    YUM       134.35  31.537559                     N/A\n499    ZBH       126.32  59.028037                     N/A\n500   ZBRA       251.41  32.067602                     N/A\n501   ZION        37.92   6.482051                     N/A\n502    ZTS       178.63  40.505669                     N/A\n\n[503 rows x 4 columns]",
      "text/html": "<div>\n<style scoped>\n    .dataframe tbody tr th:only-of-type {\n        vertical-align: middle;\n    }\n\n    .dataframe tbody tr th {\n        vertical-align: top;\n    }\n\n    .dataframe thead th {\n        text-align: right;\n    }\n</style>\n<table border=\"1\" class=\"dataframe\">\n  <thead>\n    <tr style=\"text-align: right;\">\n      <th></th>\n      <th>Ticker</th>\n      <th>Stock Price</th>\n      <th>P/E Ratio</th>\n      <th>Number of Shares to Buy</th>\n    </tr>\n  </thead>\n  <tbody>\n    <tr>\n      <th>0</th>\n      <td>A</td>\n      <td>126.30</td>\n      <td>27.880795</td>\n      <td>N/A</td>\n    </tr>\n    <tr>\n      <th>1</th>\n      <td>AAL</td>\n      <td>15.84</td>\n      <td>6.187500</td>\n      <td>N/A</td>\n    </tr>\n    <tr>\n      <th>2</th>\n      <td>AAP</td>\n      <td>71.01</td>\n      <td>10.551263</td>\n      <td>N/A</td>\n    </tr>\n    <tr>\n      <th>3</th>\n      <td>AAPL</td>\n      <td>181.99</td>\n      <td>30.898132</td>\n      <td>N/A</td>\n    </tr>\n    <tr>\n      <th>4</th>\n      <td>ABBV</td>\n      <td>147.73</td>\n      <td>34.760000</td>\n      <td>N/A</td>\n    </tr>\n    <tr>\n      <th>...</th>\n      <td>...</td>\n      <td>...</td>\n      <td>...</td>\n      <td>...</td>\n    </tr>\n    <tr>\n      <th>498</th>\n      <td>YUM</td>\n      <td>134.35</td>\n      <td>31.537559</td>\n      <td>N/A</td>\n    </tr>\n    <tr>\n      <th>499</th>\n      <td>ZBH</td>\n      <td>126.32</td>\n      <td>59.028037</td>\n      <td>N/A</td>\n    </tr>\n    <tr>\n      <th>500</th>\n      <td>ZBRA</td>\n      <td>251.41</td>\n      <td>32.067602</td>\n      <td>N/A</td>\n    </tr>\n    <tr>\n      <th>501</th>\n      <td>ZION</td>\n      <td>37.92</td>\n      <td>6.482051</td>\n      <td>N/A</td>\n    </tr>\n    <tr>\n      <th>502</th>\n      <td>ZTS</td>\n      <td>178.63</td>\n      <td>40.505669</td>\n      <td>N/A</td>\n    </tr>\n  </tbody>\n</table>\n<p>503 rows × 4 columns</p>\n</div>"
     },
     "execution_count": 5,
     "metadata": {},
     "output_type": "execute_result"
    }
   ],
   "source": [
    "final_dataframe"
   ],
   "metadata": {
    "collapsed": false,
    "ExecuteTime": {
     "end_time": "2023-08-05T04:18:34.691592824Z",
     "start_time": "2023-08-05T04:18:34.687695539Z"
    }
   }
  },
  {
   "cell_type": "code",
   "execution_count": 6,
   "outputs": [
    {
     "data": {
      "text/plain": "    Ticker  Stock Price  P/E Ratio Number of Shares to Buy\n80     CAT       276.44        NaN                     N/A\n378   PODD       263.14        NaN                     N/A",
      "text/html": "<div>\n<style scoped>\n    .dataframe tbody tr th:only-of-type {\n        vertical-align: middle;\n    }\n\n    .dataframe tbody tr th {\n        vertical-align: top;\n    }\n\n    .dataframe thead th {\n        text-align: right;\n    }\n</style>\n<table border=\"1\" class=\"dataframe\">\n  <thead>\n    <tr style=\"text-align: right;\">\n      <th></th>\n      <th>Ticker</th>\n      <th>Stock Price</th>\n      <th>P/E Ratio</th>\n      <th>Number of Shares to Buy</th>\n    </tr>\n  </thead>\n  <tbody>\n    <tr>\n      <th>80</th>\n      <td>CAT</td>\n      <td>276.44</td>\n      <td>NaN</td>\n      <td>N/A</td>\n    </tr>\n    <tr>\n      <th>378</th>\n      <td>PODD</td>\n      <td>263.14</td>\n      <td>NaN</td>\n      <td>N/A</td>\n    </tr>\n  </tbody>\n</table>\n</div>"
     },
     "execution_count": 6,
     "metadata": {},
     "output_type": "execute_result"
    }
   ],
   "source": [
    "final_dataframe[final_dataframe.isnull().any(axis=1)]"
   ],
   "metadata": {
    "collapsed": false,
    "ExecuteTime": {
     "end_time": "2023-08-05T04:18:34.787844770Z",
     "start_time": "2023-08-05T04:18:34.691139009Z"
    }
   }
  },
  {
   "cell_type": "markdown",
   "source": [
    "Filling the `NULL` cells of the `P/E Ratio` column with mean value"
   ],
   "metadata": {
    "collapsed": false
   }
  },
  {
   "cell_type": "code",
   "execution_count": 7,
   "outputs": [],
   "source": [
    "final_dataframe['P/E Ratio'].fillna(final_dataframe['P/E Ratio'].mean(), inplace=True)"
   ],
   "metadata": {
    "collapsed": false,
    "ExecuteTime": {
     "end_time": "2023-08-05T04:18:34.788234624Z",
     "start_time": "2023-08-05T04:18:34.738104141Z"
    }
   }
  },
  {
   "cell_type": "code",
   "execution_count": 8,
   "outputs": [
    {
     "data": {
      "text/plain": "Empty DataFrame\nColumns: [Ticker, Stock Price, P/E Ratio, Number of Shares to Buy]\nIndex: []",
      "text/html": "<div>\n<style scoped>\n    .dataframe tbody tr th:only-of-type {\n        vertical-align: middle;\n    }\n\n    .dataframe tbody tr th {\n        vertical-align: top;\n    }\n\n    .dataframe thead th {\n        text-align: right;\n    }\n</style>\n<table border=\"1\" class=\"dataframe\">\n  <thead>\n    <tr style=\"text-align: right;\">\n      <th></th>\n      <th>Ticker</th>\n      <th>Stock Price</th>\n      <th>P/E Ratio</th>\n      <th>Number of Shares to Buy</th>\n    </tr>\n  </thead>\n  <tbody>\n  </tbody>\n</table>\n</div>"
     },
     "execution_count": 8,
     "metadata": {},
     "output_type": "execute_result"
    }
   ],
   "source": [
    "final_dataframe[final_dataframe.isnull().any(axis=1)]"
   ],
   "metadata": {
    "collapsed": false,
    "ExecuteTime": {
     "end_time": "2023-08-05T04:18:34.789033993Z",
     "start_time": "2023-08-05T04:18:34.738287736Z"
    }
   }
  },
  {
   "cell_type": "code",
   "execution_count": 9,
   "outputs": [
    {
     "data": {
      "text/plain": "    Ticker  Stock Price  P/E Ratio Number of Shares to Buy\n0        A       126.30  27.880795                     N/A\n1      AAL        15.84   6.187500                     N/A\n2      AAP        71.01  10.551263                     N/A\n3     AAPL       181.99  30.898132                     N/A\n4     ABBV       147.73  34.760000                     N/A\n..     ...          ...        ...                     ...\n498    YUM       134.35  31.537559                     N/A\n499    ZBH       126.32  59.028037                     N/A\n500   ZBRA       251.41  32.067602                     N/A\n501   ZION        37.92   6.482051                     N/A\n502    ZTS       178.63  40.505669                     N/A\n\n[503 rows x 4 columns]",
      "text/html": "<div>\n<style scoped>\n    .dataframe tbody tr th:only-of-type {\n        vertical-align: middle;\n    }\n\n    .dataframe tbody tr th {\n        vertical-align: top;\n    }\n\n    .dataframe thead th {\n        text-align: right;\n    }\n</style>\n<table border=\"1\" class=\"dataframe\">\n  <thead>\n    <tr style=\"text-align: right;\">\n      <th></th>\n      <th>Ticker</th>\n      <th>Stock Price</th>\n      <th>P/E Ratio</th>\n      <th>Number of Shares to Buy</th>\n    </tr>\n  </thead>\n  <tbody>\n    <tr>\n      <th>0</th>\n      <td>A</td>\n      <td>126.30</td>\n      <td>27.880795</td>\n      <td>N/A</td>\n    </tr>\n    <tr>\n      <th>1</th>\n      <td>AAL</td>\n      <td>15.84</td>\n      <td>6.187500</td>\n      <td>N/A</td>\n    </tr>\n    <tr>\n      <th>2</th>\n      <td>AAP</td>\n      <td>71.01</td>\n      <td>10.551263</td>\n      <td>N/A</td>\n    </tr>\n    <tr>\n      <th>3</th>\n      <td>AAPL</td>\n      <td>181.99</td>\n      <td>30.898132</td>\n      <td>N/A</td>\n    </tr>\n    <tr>\n      <th>4</th>\n      <td>ABBV</td>\n      <td>147.73</td>\n      <td>34.760000</td>\n      <td>N/A</td>\n    </tr>\n    <tr>\n      <th>...</th>\n      <td>...</td>\n      <td>...</td>\n      <td>...</td>\n      <td>...</td>\n    </tr>\n    <tr>\n      <th>498</th>\n      <td>YUM</td>\n      <td>134.35</td>\n      <td>31.537559</td>\n      <td>N/A</td>\n    </tr>\n    <tr>\n      <th>499</th>\n      <td>ZBH</td>\n      <td>126.32</td>\n      <td>59.028037</td>\n      <td>N/A</td>\n    </tr>\n    <tr>\n      <th>500</th>\n      <td>ZBRA</td>\n      <td>251.41</td>\n      <td>32.067602</td>\n      <td>N/A</td>\n    </tr>\n    <tr>\n      <th>501</th>\n      <td>ZION</td>\n      <td>37.92</td>\n      <td>6.482051</td>\n      <td>N/A</td>\n    </tr>\n    <tr>\n      <th>502</th>\n      <td>ZTS</td>\n      <td>178.63</td>\n      <td>40.505669</td>\n      <td>N/A</td>\n    </tr>\n  </tbody>\n</table>\n<p>503 rows × 4 columns</p>\n</div>"
     },
     "execution_count": 9,
     "metadata": {},
     "output_type": "execute_result"
    }
   ],
   "source": [
    "final_dataframe"
   ],
   "metadata": {
    "collapsed": false,
    "ExecuteTime": {
     "end_time": "2023-08-05T04:18:34.789847076Z",
     "start_time": "2023-08-05T04:18:34.738427307Z"
    }
   }
  },
  {
   "cell_type": "markdown",
   "source": [
    "## Removing Glamour Stocks\n",
    "\n",
    "The opposite of a \"value stock\" is a \"glamour stock\". \n",
    "\n",
    "Since the goal of this strategy is to identify the 50 best value stocks from our universe, our next step is to remove glamour stocks from the DataFrame.\n",
    "\n",
    "We'll consider only those stocks whose `P/E Ratio` is positive."
   ],
   "metadata": {
    "collapsed": false
   }
  },
  {
   "cell_type": "code",
   "execution_count": 10,
   "outputs": [],
   "source": [
    "final_dataframe.sort_values('P/E Ratio', ascending=True, inplace=True)\n",
    "final_dataframe = final_dataframe[final_dataframe['P/E Ratio'] > 0]"
   ],
   "metadata": {
    "collapsed": false,
    "ExecuteTime": {
     "end_time": "2023-08-05T04:18:34.790726075Z",
     "start_time": "2023-08-05T04:18:34.738591456Z"
    }
   }
  },
  {
   "cell_type": "code",
   "execution_count": 11,
   "outputs": [
    {
     "data": {
      "text/plain": "    Ticker  Stock Price    P/E Ratio Number of Shares to Buy\n468    VLO       126.89     3.613041                     N/A\n384    PSX       110.48     4.220015                     N/A\n313    MPC       137.95     4.234193                     N/A\n367    PFG        78.57     4.624485                     N/A\n166    EQT        41.80     4.644444                     N/A\n..     ...          ...          ...                     ...\n195   FSLR       194.38   498.410256                     N/A\n116    CRM       214.59   579.972973                     N/A\n29     AMD       115.82   643.444444                     N/A\n286    LVS        57.94   827.714286                     N/A\n97    CINF       109.00  5450.000000                     N/A\n\n[463 rows x 4 columns]",
      "text/html": "<div>\n<style scoped>\n    .dataframe tbody tr th:only-of-type {\n        vertical-align: middle;\n    }\n\n    .dataframe tbody tr th {\n        vertical-align: top;\n    }\n\n    .dataframe thead th {\n        text-align: right;\n    }\n</style>\n<table border=\"1\" class=\"dataframe\">\n  <thead>\n    <tr style=\"text-align: right;\">\n      <th></th>\n      <th>Ticker</th>\n      <th>Stock Price</th>\n      <th>P/E Ratio</th>\n      <th>Number of Shares to Buy</th>\n    </tr>\n  </thead>\n  <tbody>\n    <tr>\n      <th>468</th>\n      <td>VLO</td>\n      <td>126.89</td>\n      <td>3.613041</td>\n      <td>N/A</td>\n    </tr>\n    <tr>\n      <th>384</th>\n      <td>PSX</td>\n      <td>110.48</td>\n      <td>4.220015</td>\n      <td>N/A</td>\n    </tr>\n    <tr>\n      <th>313</th>\n      <td>MPC</td>\n      <td>137.95</td>\n      <td>4.234193</td>\n      <td>N/A</td>\n    </tr>\n    <tr>\n      <th>367</th>\n      <td>PFG</td>\n      <td>78.57</td>\n      <td>4.624485</td>\n      <td>N/A</td>\n    </tr>\n    <tr>\n      <th>166</th>\n      <td>EQT</td>\n      <td>41.80</td>\n      <td>4.644444</td>\n      <td>N/A</td>\n    </tr>\n    <tr>\n      <th>...</th>\n      <td>...</td>\n      <td>...</td>\n      <td>...</td>\n      <td>...</td>\n    </tr>\n    <tr>\n      <th>195</th>\n      <td>FSLR</td>\n      <td>194.38</td>\n      <td>498.410256</td>\n      <td>N/A</td>\n    </tr>\n    <tr>\n      <th>116</th>\n      <td>CRM</td>\n      <td>214.59</td>\n      <td>579.972973</td>\n      <td>N/A</td>\n    </tr>\n    <tr>\n      <th>29</th>\n      <td>AMD</td>\n      <td>115.82</td>\n      <td>643.444444</td>\n      <td>N/A</td>\n    </tr>\n    <tr>\n      <th>286</th>\n      <td>LVS</td>\n      <td>57.94</td>\n      <td>827.714286</td>\n      <td>N/A</td>\n    </tr>\n    <tr>\n      <th>97</th>\n      <td>CINF</td>\n      <td>109.00</td>\n      <td>5450.000000</td>\n      <td>N/A</td>\n    </tr>\n  </tbody>\n</table>\n<p>463 rows × 4 columns</p>\n</div>"
     },
     "execution_count": 11,
     "metadata": {},
     "output_type": "execute_result"
    }
   ],
   "source": [
    "final_dataframe"
   ],
   "metadata": {
    "collapsed": false,
    "ExecuteTime": {
     "end_time": "2023-08-05T04:18:34.791380164Z",
     "start_time": "2023-08-05T04:18:34.782029007Z"
    }
   }
  },
  {
   "cell_type": "code",
   "execution_count": 12,
   "outputs": [],
   "source": [
    "final_dataframe = final_dataframe[:50]\n",
    "final_dataframe.reset_index(drop=True, inplace=True)"
   ],
   "metadata": {
    "collapsed": false,
    "ExecuteTime": {
     "end_time": "2023-08-05T04:18:34.791589355Z",
     "start_time": "2023-08-05T04:18:34.782270450Z"
    }
   }
  },
  {
   "cell_type": "code",
   "execution_count": 13,
   "outputs": [
    {
     "data": {
      "text/plain": "   Ticker  Stock Price  P/E Ratio Number of Shares to Buy\n0     VLO       126.89   3.613041                     N/A\n1     PSX       110.48   4.220015                     N/A\n2     MPC       137.95   4.234193                     N/A\n3     PFG        78.57   4.624485                     N/A\n4     EQT        41.80   4.644444                     N/A\n5     MOS        41.24   5.060123                     N/A\n6    CTRA        27.57   5.281609                     N/A\n7      CF        81.24   5.408788                     N/A\n8     CMA        53.03   5.535491                     N/A\n9     DVN        50.80   5.539804                     N/A\n10     GM        36.57   5.652241                     N/A\n11   STLD       103.79   6.009844                     N/A\n12   FANG       148.57   6.154515                     N/A\n13    AAL        15.84   6.187500                     N/A\n14    SYF        34.36   6.247273                     N/A\n15    MRO        26.18   6.323671                     N/A\n16    ALB       200.09   6.413141                     N/A\n17   ZION        37.92   6.482051                     N/A\n18     VZ        32.62   6.524000                     N/A\n19    APA        41.87   6.572998                     N/A\n20    UAL        52.37   6.671338                     N/A\n21   VTRS        10.59   6.745223                     N/A\n22    PFE        35.02   6.907298                     N/A\n23    PHM        84.35   7.017471                     N/A\n24    CFG        31.25   7.038288                     N/A\n25    DFS       102.36   7.103400                     N/A\n26      C        45.71   7.244057                     N/A\n27    OXY        63.52   7.259429                     N/A\n28    XOM       107.42   7.272850                     N/A\n29    OGN        21.53   7.298305                     N/A\n30    TFC        32.07   7.406467                     N/A\n31    AIG        60.69   7.586250                     N/A\n32    NUE       167.76   7.713103                     N/A\n33   HBAN        12.19   7.864516                     N/A\n34    KEY        11.92   8.000000                     N/A\n35     IP        36.26   8.004415                     N/A\n36    EOG       129.80   8.112500                     N/A\n37   FITB        28.47   8.134286                     N/A\n38    MTB       139.87   8.165207                     N/A\n39    PXD       234.06   8.279448                     N/A\n40    LEN       125.57   8.583049                     N/A\n41    CVX       159.31   8.602052                     N/A\n42    COF       113.38   8.635187                     N/A\n43     RF        20.61   8.770213                     N/A\n44    DHI       125.71   8.947331                     N/A\n45    BAC        31.30   8.994253                     N/A\n46    PNC       131.46   9.016461                     N/A\n47    COP       113.71   9.053344                     N/A\n48     CE       123.95   9.073939                     N/A\n49   MRNA       108.19   9.302666                     N/A",
      "text/html": "<div>\n<style scoped>\n    .dataframe tbody tr th:only-of-type {\n        vertical-align: middle;\n    }\n\n    .dataframe tbody tr th {\n        vertical-align: top;\n    }\n\n    .dataframe thead th {\n        text-align: right;\n    }\n</style>\n<table border=\"1\" class=\"dataframe\">\n  <thead>\n    <tr style=\"text-align: right;\">\n      <th></th>\n      <th>Ticker</th>\n      <th>Stock Price</th>\n      <th>P/E Ratio</th>\n      <th>Number of Shares to Buy</th>\n    </tr>\n  </thead>\n  <tbody>\n    <tr>\n      <th>0</th>\n      <td>VLO</td>\n      <td>126.89</td>\n      <td>3.613041</td>\n      <td>N/A</td>\n    </tr>\n    <tr>\n      <th>1</th>\n      <td>PSX</td>\n      <td>110.48</td>\n      <td>4.220015</td>\n      <td>N/A</td>\n    </tr>\n    <tr>\n      <th>2</th>\n      <td>MPC</td>\n      <td>137.95</td>\n      <td>4.234193</td>\n      <td>N/A</td>\n    </tr>\n    <tr>\n      <th>3</th>\n      <td>PFG</td>\n      <td>78.57</td>\n      <td>4.624485</td>\n      <td>N/A</td>\n    </tr>\n    <tr>\n      <th>4</th>\n      <td>EQT</td>\n      <td>41.80</td>\n      <td>4.644444</td>\n      <td>N/A</td>\n    </tr>\n    <tr>\n      <th>5</th>\n      <td>MOS</td>\n      <td>41.24</td>\n      <td>5.060123</td>\n      <td>N/A</td>\n    </tr>\n    <tr>\n      <th>6</th>\n      <td>CTRA</td>\n      <td>27.57</td>\n      <td>5.281609</td>\n      <td>N/A</td>\n    </tr>\n    <tr>\n      <th>7</th>\n      <td>CF</td>\n      <td>81.24</td>\n      <td>5.408788</td>\n      <td>N/A</td>\n    </tr>\n    <tr>\n      <th>8</th>\n      <td>CMA</td>\n      <td>53.03</td>\n      <td>5.535491</td>\n      <td>N/A</td>\n    </tr>\n    <tr>\n      <th>9</th>\n      <td>DVN</td>\n      <td>50.80</td>\n      <td>5.539804</td>\n      <td>N/A</td>\n    </tr>\n    <tr>\n      <th>10</th>\n      <td>GM</td>\n      <td>36.57</td>\n      <td>5.652241</td>\n      <td>N/A</td>\n    </tr>\n    <tr>\n      <th>11</th>\n      <td>STLD</td>\n      <td>103.79</td>\n      <td>6.009844</td>\n      <td>N/A</td>\n    </tr>\n    <tr>\n      <th>12</th>\n      <td>FANG</td>\n      <td>148.57</td>\n      <td>6.154515</td>\n      <td>N/A</td>\n    </tr>\n    <tr>\n      <th>13</th>\n      <td>AAL</td>\n      <td>15.84</td>\n      <td>6.187500</td>\n      <td>N/A</td>\n    </tr>\n    <tr>\n      <th>14</th>\n      <td>SYF</td>\n      <td>34.36</td>\n      <td>6.247273</td>\n      <td>N/A</td>\n    </tr>\n    <tr>\n      <th>15</th>\n      <td>MRO</td>\n      <td>26.18</td>\n      <td>6.323671</td>\n      <td>N/A</td>\n    </tr>\n    <tr>\n      <th>16</th>\n      <td>ALB</td>\n      <td>200.09</td>\n      <td>6.413141</td>\n      <td>N/A</td>\n    </tr>\n    <tr>\n      <th>17</th>\n      <td>ZION</td>\n      <td>37.92</td>\n      <td>6.482051</td>\n      <td>N/A</td>\n    </tr>\n    <tr>\n      <th>18</th>\n      <td>VZ</td>\n      <td>32.62</td>\n      <td>6.524000</td>\n      <td>N/A</td>\n    </tr>\n    <tr>\n      <th>19</th>\n      <td>APA</td>\n      <td>41.87</td>\n      <td>6.572998</td>\n      <td>N/A</td>\n    </tr>\n    <tr>\n      <th>20</th>\n      <td>UAL</td>\n      <td>52.37</td>\n      <td>6.671338</td>\n      <td>N/A</td>\n    </tr>\n    <tr>\n      <th>21</th>\n      <td>VTRS</td>\n      <td>10.59</td>\n      <td>6.745223</td>\n      <td>N/A</td>\n    </tr>\n    <tr>\n      <th>22</th>\n      <td>PFE</td>\n      <td>35.02</td>\n      <td>6.907298</td>\n      <td>N/A</td>\n    </tr>\n    <tr>\n      <th>23</th>\n      <td>PHM</td>\n      <td>84.35</td>\n      <td>7.017471</td>\n      <td>N/A</td>\n    </tr>\n    <tr>\n      <th>24</th>\n      <td>CFG</td>\n      <td>31.25</td>\n      <td>7.038288</td>\n      <td>N/A</td>\n    </tr>\n    <tr>\n      <th>25</th>\n      <td>DFS</td>\n      <td>102.36</td>\n      <td>7.103400</td>\n      <td>N/A</td>\n    </tr>\n    <tr>\n      <th>26</th>\n      <td>C</td>\n      <td>45.71</td>\n      <td>7.244057</td>\n      <td>N/A</td>\n    </tr>\n    <tr>\n      <th>27</th>\n      <td>OXY</td>\n      <td>63.52</td>\n      <td>7.259429</td>\n      <td>N/A</td>\n    </tr>\n    <tr>\n      <th>28</th>\n      <td>XOM</td>\n      <td>107.42</td>\n      <td>7.272850</td>\n      <td>N/A</td>\n    </tr>\n    <tr>\n      <th>29</th>\n      <td>OGN</td>\n      <td>21.53</td>\n      <td>7.298305</td>\n      <td>N/A</td>\n    </tr>\n    <tr>\n      <th>30</th>\n      <td>TFC</td>\n      <td>32.07</td>\n      <td>7.406467</td>\n      <td>N/A</td>\n    </tr>\n    <tr>\n      <th>31</th>\n      <td>AIG</td>\n      <td>60.69</td>\n      <td>7.586250</td>\n      <td>N/A</td>\n    </tr>\n    <tr>\n      <th>32</th>\n      <td>NUE</td>\n      <td>167.76</td>\n      <td>7.713103</td>\n      <td>N/A</td>\n    </tr>\n    <tr>\n      <th>33</th>\n      <td>HBAN</td>\n      <td>12.19</td>\n      <td>7.864516</td>\n      <td>N/A</td>\n    </tr>\n    <tr>\n      <th>34</th>\n      <td>KEY</td>\n      <td>11.92</td>\n      <td>8.000000</td>\n      <td>N/A</td>\n    </tr>\n    <tr>\n      <th>35</th>\n      <td>IP</td>\n      <td>36.26</td>\n      <td>8.004415</td>\n      <td>N/A</td>\n    </tr>\n    <tr>\n      <th>36</th>\n      <td>EOG</td>\n      <td>129.80</td>\n      <td>8.112500</td>\n      <td>N/A</td>\n    </tr>\n    <tr>\n      <th>37</th>\n      <td>FITB</td>\n      <td>28.47</td>\n      <td>8.134286</td>\n      <td>N/A</td>\n    </tr>\n    <tr>\n      <th>38</th>\n      <td>MTB</td>\n      <td>139.87</td>\n      <td>8.165207</td>\n      <td>N/A</td>\n    </tr>\n    <tr>\n      <th>39</th>\n      <td>PXD</td>\n      <td>234.06</td>\n      <td>8.279448</td>\n      <td>N/A</td>\n    </tr>\n    <tr>\n      <th>40</th>\n      <td>LEN</td>\n      <td>125.57</td>\n      <td>8.583049</td>\n      <td>N/A</td>\n    </tr>\n    <tr>\n      <th>41</th>\n      <td>CVX</td>\n      <td>159.31</td>\n      <td>8.602052</td>\n      <td>N/A</td>\n    </tr>\n    <tr>\n      <th>42</th>\n      <td>COF</td>\n      <td>113.38</td>\n      <td>8.635187</td>\n      <td>N/A</td>\n    </tr>\n    <tr>\n      <th>43</th>\n      <td>RF</td>\n      <td>20.61</td>\n      <td>8.770213</td>\n      <td>N/A</td>\n    </tr>\n    <tr>\n      <th>44</th>\n      <td>DHI</td>\n      <td>125.71</td>\n      <td>8.947331</td>\n      <td>N/A</td>\n    </tr>\n    <tr>\n      <th>45</th>\n      <td>BAC</td>\n      <td>31.30</td>\n      <td>8.994253</td>\n      <td>N/A</td>\n    </tr>\n    <tr>\n      <th>46</th>\n      <td>PNC</td>\n      <td>131.46</td>\n      <td>9.016461</td>\n      <td>N/A</td>\n    </tr>\n    <tr>\n      <th>47</th>\n      <td>COP</td>\n      <td>113.71</td>\n      <td>9.053344</td>\n      <td>N/A</td>\n    </tr>\n    <tr>\n      <th>48</th>\n      <td>CE</td>\n      <td>123.95</td>\n      <td>9.073939</td>\n      <td>N/A</td>\n    </tr>\n    <tr>\n      <th>49</th>\n      <td>MRNA</td>\n      <td>108.19</td>\n      <td>9.302666</td>\n      <td>N/A</td>\n    </tr>\n  </tbody>\n</table>\n</div>"
     },
     "execution_count": 13,
     "metadata": {},
     "output_type": "execute_result"
    }
   ],
   "source": [
    "final_dataframe"
   ],
   "metadata": {
    "collapsed": false,
    "ExecuteTime": {
     "end_time": "2023-08-05T04:18:34.792998496Z",
     "start_time": "2023-08-05T04:18:34.782450405Z"
    }
   }
  },
  {
   "cell_type": "markdown",
   "source": [
    "## Calculating the Number of Shares to Buy\n",
    "\n",
    "As we can see in the DataFrame above, we stil haven't calculated the number of shares of each stock to buy."
   ],
   "metadata": {
    "collapsed": false
   }
  },
  {
   "cell_type": "code",
   "execution_count": 14,
   "outputs": [
    {
     "data": {
      "text/plain": "10000000"
     },
     "execution_count": 14,
     "metadata": {},
     "output_type": "execute_result"
    }
   ],
   "source": [
    "# portfolio_size = float(input(\"Enter your portfolio value: \"))\n",
    "portfolio_size = 10000000\n",
    "portfolio_size"
   ],
   "metadata": {
    "collapsed": false,
    "ExecuteTime": {
     "end_time": "2023-08-05T04:18:34.880730648Z",
     "start_time": "2023-08-05T04:18:34.782803532Z"
    }
   }
  },
  {
   "cell_type": "code",
   "execution_count": 15,
   "outputs": [
    {
     "data": {
      "text/plain": "200000.0"
     },
     "execution_count": 15,
     "metadata": {},
     "output_type": "execute_result"
    }
   ],
   "source": [
    "position_size = float(portfolio_size) / len(final_dataframe.index)\n",
    "position_size"
   ],
   "metadata": {
    "collapsed": false,
    "ExecuteTime": {
     "end_time": "2023-08-05T04:18:34.881245828Z",
     "start_time": "2023-08-05T04:18:34.825946053Z"
    }
   }
  },
  {
   "cell_type": "code",
   "execution_count": 16,
   "outputs": [
    {
     "data": {
      "text/plain": "   Ticker  Stock Price  P/E Ratio Number of Shares to Buy\n0     VLO       126.89   3.613041                    1576\n1     PSX       110.48   4.220015                    1810\n2     MPC       137.95   4.234193                    1449\n3     PFG        78.57   4.624485                    2545\n4     EQT        41.80   4.644444                    4784\n5     MOS        41.24   5.060123                    4849\n6    CTRA        27.57   5.281609                    7254\n7      CF        81.24   5.408788                    2461\n8     CMA        53.03   5.535491                    3771\n9     DVN        50.80   5.539804                    3937\n10     GM        36.57   5.652241                    5468\n11   STLD       103.79   6.009844                    1926\n12   FANG       148.57   6.154515                    1346\n13    AAL        15.84   6.187500                   12626\n14    SYF        34.36   6.247273                    5820\n15    MRO        26.18   6.323671                    7639\n16    ALB       200.09   6.413141                     999\n17   ZION        37.92   6.482051                    5274\n18     VZ        32.62   6.524000                    6131\n19    APA        41.87   6.572998                    4776\n20    UAL        52.37   6.671338                    3818\n21   VTRS        10.59   6.745223                   18885\n22    PFE        35.02   6.907298                    5711\n23    PHM        84.35   7.017471                    2371\n24    CFG        31.25   7.038288                    6400\n25    DFS       102.36   7.103400                    1953\n26      C        45.71   7.244057                    4375\n27    OXY        63.52   7.259429                    3148\n28    XOM       107.42   7.272850                    1861\n29    OGN        21.53   7.298305                    9289\n30    TFC        32.07   7.406467                    6236\n31    AIG        60.69   7.586250                    3295\n32    NUE       167.76   7.713103                    1192\n33   HBAN        12.19   7.864516                   16406\n34    KEY        11.92   8.000000                   16778\n35     IP        36.26   8.004415                    5515\n36    EOG       129.80   8.112500                    1540\n37   FITB        28.47   8.134286                    7024\n38    MTB       139.87   8.165207                    1429\n39    PXD       234.06   8.279448                     854\n40    LEN       125.57   8.583049                    1592\n41    CVX       159.31   8.602052                    1255\n42    COF       113.38   8.635187                    1763\n43     RF        20.61   8.770213                    9704\n44    DHI       125.71   8.947331                    1590\n45    BAC        31.30   8.994253                    6389\n46    PNC       131.46   9.016461                    1521\n47    COP       113.71   9.053344                    1758\n48     CE       123.95   9.073939                    1613\n49   MRNA       108.19   9.302666                    1848",
      "text/html": "<div>\n<style scoped>\n    .dataframe tbody tr th:only-of-type {\n        vertical-align: middle;\n    }\n\n    .dataframe tbody tr th {\n        vertical-align: top;\n    }\n\n    .dataframe thead th {\n        text-align: right;\n    }\n</style>\n<table border=\"1\" class=\"dataframe\">\n  <thead>\n    <tr style=\"text-align: right;\">\n      <th></th>\n      <th>Ticker</th>\n      <th>Stock Price</th>\n      <th>P/E Ratio</th>\n      <th>Number of Shares to Buy</th>\n    </tr>\n  </thead>\n  <tbody>\n    <tr>\n      <th>0</th>\n      <td>VLO</td>\n      <td>126.89</td>\n      <td>3.613041</td>\n      <td>1576</td>\n    </tr>\n    <tr>\n      <th>1</th>\n      <td>PSX</td>\n      <td>110.48</td>\n      <td>4.220015</td>\n      <td>1810</td>\n    </tr>\n    <tr>\n      <th>2</th>\n      <td>MPC</td>\n      <td>137.95</td>\n      <td>4.234193</td>\n      <td>1449</td>\n    </tr>\n    <tr>\n      <th>3</th>\n      <td>PFG</td>\n      <td>78.57</td>\n      <td>4.624485</td>\n      <td>2545</td>\n    </tr>\n    <tr>\n      <th>4</th>\n      <td>EQT</td>\n      <td>41.80</td>\n      <td>4.644444</td>\n      <td>4784</td>\n    </tr>\n    <tr>\n      <th>5</th>\n      <td>MOS</td>\n      <td>41.24</td>\n      <td>5.060123</td>\n      <td>4849</td>\n    </tr>\n    <tr>\n      <th>6</th>\n      <td>CTRA</td>\n      <td>27.57</td>\n      <td>5.281609</td>\n      <td>7254</td>\n    </tr>\n    <tr>\n      <th>7</th>\n      <td>CF</td>\n      <td>81.24</td>\n      <td>5.408788</td>\n      <td>2461</td>\n    </tr>\n    <tr>\n      <th>8</th>\n      <td>CMA</td>\n      <td>53.03</td>\n      <td>5.535491</td>\n      <td>3771</td>\n    </tr>\n    <tr>\n      <th>9</th>\n      <td>DVN</td>\n      <td>50.80</td>\n      <td>5.539804</td>\n      <td>3937</td>\n    </tr>\n    <tr>\n      <th>10</th>\n      <td>GM</td>\n      <td>36.57</td>\n      <td>5.652241</td>\n      <td>5468</td>\n    </tr>\n    <tr>\n      <th>11</th>\n      <td>STLD</td>\n      <td>103.79</td>\n      <td>6.009844</td>\n      <td>1926</td>\n    </tr>\n    <tr>\n      <th>12</th>\n      <td>FANG</td>\n      <td>148.57</td>\n      <td>6.154515</td>\n      <td>1346</td>\n    </tr>\n    <tr>\n      <th>13</th>\n      <td>AAL</td>\n      <td>15.84</td>\n      <td>6.187500</td>\n      <td>12626</td>\n    </tr>\n    <tr>\n      <th>14</th>\n      <td>SYF</td>\n      <td>34.36</td>\n      <td>6.247273</td>\n      <td>5820</td>\n    </tr>\n    <tr>\n      <th>15</th>\n      <td>MRO</td>\n      <td>26.18</td>\n      <td>6.323671</td>\n      <td>7639</td>\n    </tr>\n    <tr>\n      <th>16</th>\n      <td>ALB</td>\n      <td>200.09</td>\n      <td>6.413141</td>\n      <td>999</td>\n    </tr>\n    <tr>\n      <th>17</th>\n      <td>ZION</td>\n      <td>37.92</td>\n      <td>6.482051</td>\n      <td>5274</td>\n    </tr>\n    <tr>\n      <th>18</th>\n      <td>VZ</td>\n      <td>32.62</td>\n      <td>6.524000</td>\n      <td>6131</td>\n    </tr>\n    <tr>\n      <th>19</th>\n      <td>APA</td>\n      <td>41.87</td>\n      <td>6.572998</td>\n      <td>4776</td>\n    </tr>\n    <tr>\n      <th>20</th>\n      <td>UAL</td>\n      <td>52.37</td>\n      <td>6.671338</td>\n      <td>3818</td>\n    </tr>\n    <tr>\n      <th>21</th>\n      <td>VTRS</td>\n      <td>10.59</td>\n      <td>6.745223</td>\n      <td>18885</td>\n    </tr>\n    <tr>\n      <th>22</th>\n      <td>PFE</td>\n      <td>35.02</td>\n      <td>6.907298</td>\n      <td>5711</td>\n    </tr>\n    <tr>\n      <th>23</th>\n      <td>PHM</td>\n      <td>84.35</td>\n      <td>7.017471</td>\n      <td>2371</td>\n    </tr>\n    <tr>\n      <th>24</th>\n      <td>CFG</td>\n      <td>31.25</td>\n      <td>7.038288</td>\n      <td>6400</td>\n    </tr>\n    <tr>\n      <th>25</th>\n      <td>DFS</td>\n      <td>102.36</td>\n      <td>7.103400</td>\n      <td>1953</td>\n    </tr>\n    <tr>\n      <th>26</th>\n      <td>C</td>\n      <td>45.71</td>\n      <td>7.244057</td>\n      <td>4375</td>\n    </tr>\n    <tr>\n      <th>27</th>\n      <td>OXY</td>\n      <td>63.52</td>\n      <td>7.259429</td>\n      <td>3148</td>\n    </tr>\n    <tr>\n      <th>28</th>\n      <td>XOM</td>\n      <td>107.42</td>\n      <td>7.272850</td>\n      <td>1861</td>\n    </tr>\n    <tr>\n      <th>29</th>\n      <td>OGN</td>\n      <td>21.53</td>\n      <td>7.298305</td>\n      <td>9289</td>\n    </tr>\n    <tr>\n      <th>30</th>\n      <td>TFC</td>\n      <td>32.07</td>\n      <td>7.406467</td>\n      <td>6236</td>\n    </tr>\n    <tr>\n      <th>31</th>\n      <td>AIG</td>\n      <td>60.69</td>\n      <td>7.586250</td>\n      <td>3295</td>\n    </tr>\n    <tr>\n      <th>32</th>\n      <td>NUE</td>\n      <td>167.76</td>\n      <td>7.713103</td>\n      <td>1192</td>\n    </tr>\n    <tr>\n      <th>33</th>\n      <td>HBAN</td>\n      <td>12.19</td>\n      <td>7.864516</td>\n      <td>16406</td>\n    </tr>\n    <tr>\n      <th>34</th>\n      <td>KEY</td>\n      <td>11.92</td>\n      <td>8.000000</td>\n      <td>16778</td>\n    </tr>\n    <tr>\n      <th>35</th>\n      <td>IP</td>\n      <td>36.26</td>\n      <td>8.004415</td>\n      <td>5515</td>\n    </tr>\n    <tr>\n      <th>36</th>\n      <td>EOG</td>\n      <td>129.80</td>\n      <td>8.112500</td>\n      <td>1540</td>\n    </tr>\n    <tr>\n      <th>37</th>\n      <td>FITB</td>\n      <td>28.47</td>\n      <td>8.134286</td>\n      <td>7024</td>\n    </tr>\n    <tr>\n      <th>38</th>\n      <td>MTB</td>\n      <td>139.87</td>\n      <td>8.165207</td>\n      <td>1429</td>\n    </tr>\n    <tr>\n      <th>39</th>\n      <td>PXD</td>\n      <td>234.06</td>\n      <td>8.279448</td>\n      <td>854</td>\n    </tr>\n    <tr>\n      <th>40</th>\n      <td>LEN</td>\n      <td>125.57</td>\n      <td>8.583049</td>\n      <td>1592</td>\n    </tr>\n    <tr>\n      <th>41</th>\n      <td>CVX</td>\n      <td>159.31</td>\n      <td>8.602052</td>\n      <td>1255</td>\n    </tr>\n    <tr>\n      <th>42</th>\n      <td>COF</td>\n      <td>113.38</td>\n      <td>8.635187</td>\n      <td>1763</td>\n    </tr>\n    <tr>\n      <th>43</th>\n      <td>RF</td>\n      <td>20.61</td>\n      <td>8.770213</td>\n      <td>9704</td>\n    </tr>\n    <tr>\n      <th>44</th>\n      <td>DHI</td>\n      <td>125.71</td>\n      <td>8.947331</td>\n      <td>1590</td>\n    </tr>\n    <tr>\n      <th>45</th>\n      <td>BAC</td>\n      <td>31.30</td>\n      <td>8.994253</td>\n      <td>6389</td>\n    </tr>\n    <tr>\n      <th>46</th>\n      <td>PNC</td>\n      <td>131.46</td>\n      <td>9.016461</td>\n      <td>1521</td>\n    </tr>\n    <tr>\n      <th>47</th>\n      <td>COP</td>\n      <td>113.71</td>\n      <td>9.053344</td>\n      <td>1758</td>\n    </tr>\n    <tr>\n      <th>48</th>\n      <td>CE</td>\n      <td>123.95</td>\n      <td>9.073939</td>\n      <td>1613</td>\n    </tr>\n    <tr>\n      <th>49</th>\n      <td>MRNA</td>\n      <td>108.19</td>\n      <td>9.302666</td>\n      <td>1848</td>\n    </tr>\n  </tbody>\n</table>\n</div>"
     },
     "execution_count": 16,
     "metadata": {},
     "output_type": "execute_result"
    }
   ],
   "source": [
    "for i in range(len(final_dataframe.index)):\n",
    "    final_dataframe.loc[i, 'Number of Shares to Buy'] = math.floor(\n",
    "        position_size / final_dataframe.loc[i, 'Stock Price'])\n",
    "\n",
    "final_dataframe"
   ],
   "metadata": {
    "collapsed": false,
    "ExecuteTime": {
     "end_time": "2023-08-05T04:18:34.882524631Z",
     "start_time": "2023-08-05T04:18:34.826115024Z"
    }
   }
  },
  {
   "cell_type": "markdown",
   "source": [
    "## Building a Better (and More Realistic) Value Strategy\n",
    "Every valuation metric has certain flaws.\n",
    "\n",
    "For example, the price-to-earnings ratio doesn't work well with stocks with negative earnings.\n",
    "\n",
    "Similarly, stocks that buyback their own shares are difficult to value using the price-to-book ratio.\n",
    "\n",
    "Investors typically use a `composite` basket of valuation metrics to build robust quantitative value strategies. In this section, we will filter for stocks with the lowest percentiles on the following metrics:\n",
    "\n",
    "* Price-to-earnings ratio\n",
    "* Price-to-book ratio\n",
    "* Price-to-sales ratio\n",
    "* Enterprise Value divided by Earnings Before Interest, Taxes, Depreciation, and Amortization (EV/EBITDA)\n",
    "* Enterprise Value divided by Gross Profit (EV/GP)"
   ],
   "metadata": {
    "collapsed": false
   }
  },
  {
   "cell_type": "code",
   "execution_count": 17,
   "outputs": [
    {
     "data": {
      "text/plain": "Empty DataFrame\nColumns: [Ticker, Stock Price, Number of Shares to Buy, Price-to-Earning Ratio, PE Percentile, Price-to-Book Value, PB Percentile, Price-to-Sales Ratio, PS Percentile, EV/EBITDA, EV/EBITDA Percentile, EV/GP, EV/GP Percentile, RV Score]\nIndex: []",
      "text/html": "<div>\n<style scoped>\n    .dataframe tbody tr th:only-of-type {\n        vertical-align: middle;\n    }\n\n    .dataframe tbody tr th {\n        vertical-align: top;\n    }\n\n    .dataframe thead th {\n        text-align: right;\n    }\n</style>\n<table border=\"1\" class=\"dataframe\">\n  <thead>\n    <tr style=\"text-align: right;\">\n      <th></th>\n      <th>Ticker</th>\n      <th>Stock Price</th>\n      <th>Number of Shares to Buy</th>\n      <th>Price-to-Earning Ratio</th>\n      <th>PE Percentile</th>\n      <th>Price-to-Book Value</th>\n      <th>PB Percentile</th>\n      <th>Price-to-Sales Ratio</th>\n      <th>PS Percentile</th>\n      <th>EV/EBITDA</th>\n      <th>EV/EBITDA Percentile</th>\n      <th>EV/GP</th>\n      <th>EV/GP Percentile</th>\n      <th>RV Score</th>\n    </tr>\n  </thead>\n  <tbody>\n  </tbody>\n</table>\n</div>"
     },
     "execution_count": 17,
     "metadata": {},
     "output_type": "execute_result"
    }
   ],
   "source": [
    "rv_columns = ['Ticker',\n",
    "              'Stock Price',\n",
    "              'Number of Shares to Buy',\n",
    "              'Price-to-Earning Ratio',\n",
    "              'PE Percentile',\n",
    "              'Price-to-Book Value',\n",
    "              'PB Percentile',\n",
    "              'Price-to-Sales Ratio',\n",
    "              'PS Percentile',\n",
    "              'EV/EBITDA',\n",
    "              'EV/EBITDA Percentile',\n",
    "              'EV/GP',\n",
    "              'EV/GP Percentile',\n",
    "              'RV Score']\n",
    "\n",
    "rv_dataframe = pd.DataFrame(columns=rv_columns)\n",
    "rv_dataframe"
   ],
   "metadata": {
    "collapsed": false,
    "ExecuteTime": {
     "end_time": "2023-08-05T04:18:34.883060840Z",
     "start_time": "2023-08-05T04:18:34.826357282Z"
    }
   }
  },
  {
   "cell_type": "code",
   "execution_count": 18,
   "outputs": [
    {
     "name": "stdout",
     "output_type": "stream",
     "text": [
      "    Ticker  Stock Price Number of Shares to Buy  Price-to-Earning Ratio  \\\n",
      "0        A       126.30                     N/A               27.880795   \n",
      "1      AAL        15.84                     N/A                6.187500   \n",
      "2      AAP        71.01                     N/A               10.551263   \n",
      "3     AAPL       181.99                     N/A               30.898132   \n",
      "4     ABBV       147.73                     N/A               34.760000   \n",
      "..     ...          ...                     ...                     ...   \n",
      "498    YUM       134.35                     N/A               31.537559   \n",
      "499    ZBH       126.32                     N/A               59.028037   \n",
      "500   ZBRA       251.41                     N/A               32.067602   \n",
      "501   ZION        37.92                     N/A                6.482051   \n",
      "502    ZTS       178.63                     N/A               40.505669   \n",
      "\n",
      "    PE Percentile  Price-to-Book Value PB Percentile  Price-to-Sales Ratio  \\\n",
      "0             N/A             6.450789           N/A             27.880796   \n",
      "1             N/A                  NaN           N/A              6.192229   \n",
      "2             N/A             1.590619           N/A             10.551264   \n",
      "3             N/A            46.038452           N/A             30.898133   \n",
      "4             N/A            19.631893           N/A             34.759998   \n",
      "..            ...                  ...           ...                   ...   \n",
      "498           N/A                  NaN           N/A             31.537559   \n",
      "499           N/A             2.131983           N/A             59.028039   \n",
      "500           N/A             4.313386           N/A             32.067603   \n",
      "501           N/A             1.159952           N/A              6.482051   \n",
      "502           N/A            18.383245           N/A             40.505668   \n",
      "\n",
      "    PS Percentile     EV/EBITDA EV/EBITDA Percentile         EV/GP  \\\n",
      "0             N/A  1.895191e+01                  N/A  1.048415e+01   \n",
      "1             N/A  5.469190e+00                  N/A  4.522657e+00   \n",
      "2             N/A  9.267518e+00                  N/A  1.739365e+00   \n",
      "3             N/A  2.355809e+01                  N/A  1.707562e+01   \n",
      "4             N/A  1.115144e+01                  N/A  7.784881e+00   \n",
      "..            ...           ...                  ...           ...   \n",
      "498           N/A  2.030849e+01                  N/A  1.474469e+01   \n",
      "499           N/A  1.354852e+01                  N/A  6.497805e+00   \n",
      "500           N/A  1.373726e+01                  N/A  5.816346e+00   \n",
      "501           N/A  8.623620e+09                  N/A  8.623620e+09   \n",
      "502           N/A  2.661156e+01                  N/A  1.550054e+01   \n",
      "\n",
      "    EV/GP Percentile RV Score  \n",
      "0                N/A      N/A  \n",
      "1                N/A      N/A  \n",
      "2                N/A      N/A  \n",
      "3                N/A      N/A  \n",
      "4                N/A      N/A  \n",
      "..               ...      ...  \n",
      "498              N/A      N/A  \n",
      "499              N/A      N/A  \n",
      "500              N/A      N/A  \n",
      "501              N/A      N/A  \n",
      "502              N/A      N/A  \n",
      "\n",
      "[503 rows x 14 columns]\n"
     ]
    }
   ],
   "source": [
    "for stock in stocks['Ticker']:\n",
    "    data = yf.Ticker(stock).info\n",
    "    financials = yf.Ticker(stock).financials\n",
    "\n",
    "    try:\n",
    "        price = data['currentPrice']\n",
    "    except:\n",
    "        price = np.NaN\n",
    "\n",
    "    try:\n",
    "        eps = data['trailingEps']\n",
    "    except:\n",
    "        eps = 1\n",
    "\n",
    "    try:\n",
    "        peRatio = price / eps\n",
    "    except:\n",
    "        peRatio = np.NaN\n",
    "\n",
    "    try:\n",
    "        pbRatio = data['priceToBook']\n",
    "    except:\n",
    "        pbRatio = np.NaN\n",
    "\n",
    "    try:\n",
    "        marketCap = data['marketCap']\n",
    "    except:\n",
    "        marketCap = np.NaN\n",
    "\n",
    "    try:\n",
    "        outstandingShares = data['sharesOutstanding']\n",
    "    except:\n",
    "        outstandingShares = 1\n",
    "\n",
    "    try:\n",
    "        psRatio = marketCap / (outstandingShares * eps)\n",
    "    except:\n",
    "        psRatio = np.NaN\n",
    "\n",
    "    try:\n",
    "        debt = data['totalDebt']\n",
    "    except:\n",
    "        debt = np.NaN\n",
    "\n",
    "    try:\n",
    "        cash = data['totalCash']\n",
    "    except:\n",
    "        cash = np.NaN\n",
    "\n",
    "    try:\n",
    "        ebitda = data['ebitda']\n",
    "    except:\n",
    "        ebitda = 1\n",
    "\n",
    "    try:\n",
    "        evToEBIDTA = (marketCap + debt - cash) / ebitda\n",
    "    except:\n",
    "        evToEBIDTA = np.NaN\n",
    "\n",
    "    try:\n",
    "        grossProfit = financials.loc['Gross Profit'][0]\n",
    "    except:\n",
    "        grossProfit = 1\n",
    "\n",
    "    try:\n",
    "        evToGP = (marketCap + debt - cash) / grossProfit\n",
    "    except:\n",
    "        evToGP = np.NaN\n",
    "\n",
    "    stock_dict = {\n",
    "        'Ticker': [stock],\n",
    "        'Stock Price': [price],\n",
    "        'Number of Shares to Buy': ['N/A'],\n",
    "        'Price-to-Earning Ratio': [peRatio],\n",
    "        'PE Percentile': ['N/A'],\n",
    "        'Price-to-Book Value': [pbRatio],\n",
    "        'PB Percentile': ['N/A'],\n",
    "        'Price-to-Sales Ratio': [psRatio],\n",
    "        'PS Percentile': ['N/A'],\n",
    "        'EV/EBITDA': [evToEBIDTA],\n",
    "        'EV/EBITDA Percentile': ['N/A'],\n",
    "        'EV/GP': [evToGP],\n",
    "        'EV/GP Percentile': ['N/A'],\n",
    "        'RV Score': ['N/A']\n",
    "    }\n",
    "    df = pd.DataFrame(stock_dict)\n",
    "    rv_dataframe = pd.concat([rv_dataframe, df], ignore_index=True)\n",
    "\n",
    "    clear_output(wait=True)\n",
    "    print(rv_dataframe)"
   ],
   "metadata": {
    "collapsed": false
   }
  },
  {
   "cell_type": "code",
   "execution_count": 19,
   "outputs": [
    {
     "data": {
      "text/plain": "    Ticker  Stock Price Number of Shares to Buy  Price-to-Earning Ratio  \\\n0        A       126.30                     N/A               27.880795   \n1      AAL        15.84                     N/A                6.187500   \n2      AAP        71.01                     N/A               10.551263   \n3     AAPL       181.99                     N/A               30.898132   \n4     ABBV       147.73                     N/A               34.760000   \n..     ...          ...                     ...                     ...   \n498    YUM       134.35                     N/A               31.537559   \n499    ZBH       126.32                     N/A               59.028037   \n500   ZBRA       251.41                     N/A               32.067602   \n501   ZION        37.92                     N/A                6.482051   \n502    ZTS       178.63                     N/A               40.505669   \n\n    PE Percentile  Price-to-Book Value PB Percentile  Price-to-Sales Ratio  \\\n0             N/A             6.450789           N/A             27.880796   \n1             N/A                  NaN           N/A              6.192229   \n2             N/A             1.590619           N/A             10.551264   \n3             N/A            46.038452           N/A             30.898133   \n4             N/A            19.631893           N/A             34.759998   \n..            ...                  ...           ...                   ...   \n498           N/A                  NaN           N/A             31.537559   \n499           N/A             2.131983           N/A             59.028039   \n500           N/A             4.313386           N/A             32.067603   \n501           N/A             1.159952           N/A              6.482051   \n502           N/A            18.383245           N/A             40.505668   \n\n    PS Percentile     EV/EBITDA EV/EBITDA Percentile         EV/GP  \\\n0             N/A  1.895191e+01                  N/A  1.048415e+01   \n1             N/A  5.469190e+00                  N/A  4.522657e+00   \n2             N/A  9.267518e+00                  N/A  1.739365e+00   \n3             N/A  2.355809e+01                  N/A  1.707562e+01   \n4             N/A  1.115144e+01                  N/A  7.784881e+00   \n..            ...           ...                  ...           ...   \n498           N/A  2.030849e+01                  N/A  1.474469e+01   \n499           N/A  1.354852e+01                  N/A  6.497805e+00   \n500           N/A  1.373726e+01                  N/A  5.816346e+00   \n501           N/A  8.623620e+09                  N/A  8.623620e+09   \n502           N/A  2.661156e+01                  N/A  1.550054e+01   \n\n    EV/GP Percentile RV Score  \n0                N/A      N/A  \n1                N/A      N/A  \n2                N/A      N/A  \n3                N/A      N/A  \n4                N/A      N/A  \n..               ...      ...  \n498              N/A      N/A  \n499              N/A      N/A  \n500              N/A      N/A  \n501              N/A      N/A  \n502              N/A      N/A  \n\n[503 rows x 14 columns]",
      "text/html": "<div>\n<style scoped>\n    .dataframe tbody tr th:only-of-type {\n        vertical-align: middle;\n    }\n\n    .dataframe tbody tr th {\n        vertical-align: top;\n    }\n\n    .dataframe thead th {\n        text-align: right;\n    }\n</style>\n<table border=\"1\" class=\"dataframe\">\n  <thead>\n    <tr style=\"text-align: right;\">\n      <th></th>\n      <th>Ticker</th>\n      <th>Stock Price</th>\n      <th>Number of Shares to Buy</th>\n      <th>Price-to-Earning Ratio</th>\n      <th>PE Percentile</th>\n      <th>Price-to-Book Value</th>\n      <th>PB Percentile</th>\n      <th>Price-to-Sales Ratio</th>\n      <th>PS Percentile</th>\n      <th>EV/EBITDA</th>\n      <th>EV/EBITDA Percentile</th>\n      <th>EV/GP</th>\n      <th>EV/GP Percentile</th>\n      <th>RV Score</th>\n    </tr>\n  </thead>\n  <tbody>\n    <tr>\n      <th>0</th>\n      <td>A</td>\n      <td>126.30</td>\n      <td>N/A</td>\n      <td>27.880795</td>\n      <td>N/A</td>\n      <td>6.450789</td>\n      <td>N/A</td>\n      <td>27.880796</td>\n      <td>N/A</td>\n      <td>1.895191e+01</td>\n      <td>N/A</td>\n      <td>1.048415e+01</td>\n      <td>N/A</td>\n      <td>N/A</td>\n    </tr>\n    <tr>\n      <th>1</th>\n      <td>AAL</td>\n      <td>15.84</td>\n      <td>N/A</td>\n      <td>6.187500</td>\n      <td>N/A</td>\n      <td>NaN</td>\n      <td>N/A</td>\n      <td>6.192229</td>\n      <td>N/A</td>\n      <td>5.469190e+00</td>\n      <td>N/A</td>\n      <td>4.522657e+00</td>\n      <td>N/A</td>\n      <td>N/A</td>\n    </tr>\n    <tr>\n      <th>2</th>\n      <td>AAP</td>\n      <td>71.01</td>\n      <td>N/A</td>\n      <td>10.551263</td>\n      <td>N/A</td>\n      <td>1.590619</td>\n      <td>N/A</td>\n      <td>10.551264</td>\n      <td>N/A</td>\n      <td>9.267518e+00</td>\n      <td>N/A</td>\n      <td>1.739365e+00</td>\n      <td>N/A</td>\n      <td>N/A</td>\n    </tr>\n    <tr>\n      <th>3</th>\n      <td>AAPL</td>\n      <td>181.99</td>\n      <td>N/A</td>\n      <td>30.898132</td>\n      <td>N/A</td>\n      <td>46.038452</td>\n      <td>N/A</td>\n      <td>30.898133</td>\n      <td>N/A</td>\n      <td>2.355809e+01</td>\n      <td>N/A</td>\n      <td>1.707562e+01</td>\n      <td>N/A</td>\n      <td>N/A</td>\n    </tr>\n    <tr>\n      <th>4</th>\n      <td>ABBV</td>\n      <td>147.73</td>\n      <td>N/A</td>\n      <td>34.760000</td>\n      <td>N/A</td>\n      <td>19.631893</td>\n      <td>N/A</td>\n      <td>34.759998</td>\n      <td>N/A</td>\n      <td>1.115144e+01</td>\n      <td>N/A</td>\n      <td>7.784881e+00</td>\n      <td>N/A</td>\n      <td>N/A</td>\n    </tr>\n    <tr>\n      <th>...</th>\n      <td>...</td>\n      <td>...</td>\n      <td>...</td>\n      <td>...</td>\n      <td>...</td>\n      <td>...</td>\n      <td>...</td>\n      <td>...</td>\n      <td>...</td>\n      <td>...</td>\n      <td>...</td>\n      <td>...</td>\n      <td>...</td>\n      <td>...</td>\n    </tr>\n    <tr>\n      <th>498</th>\n      <td>YUM</td>\n      <td>134.35</td>\n      <td>N/A</td>\n      <td>31.537559</td>\n      <td>N/A</td>\n      <td>NaN</td>\n      <td>N/A</td>\n      <td>31.537559</td>\n      <td>N/A</td>\n      <td>2.030849e+01</td>\n      <td>N/A</td>\n      <td>1.474469e+01</td>\n      <td>N/A</td>\n      <td>N/A</td>\n    </tr>\n    <tr>\n      <th>499</th>\n      <td>ZBH</td>\n      <td>126.32</td>\n      <td>N/A</td>\n      <td>59.028037</td>\n      <td>N/A</td>\n      <td>2.131983</td>\n      <td>N/A</td>\n      <td>59.028039</td>\n      <td>N/A</td>\n      <td>1.354852e+01</td>\n      <td>N/A</td>\n      <td>6.497805e+00</td>\n      <td>N/A</td>\n      <td>N/A</td>\n    </tr>\n    <tr>\n      <th>500</th>\n      <td>ZBRA</td>\n      <td>251.41</td>\n      <td>N/A</td>\n      <td>32.067602</td>\n      <td>N/A</td>\n      <td>4.313386</td>\n      <td>N/A</td>\n      <td>32.067603</td>\n      <td>N/A</td>\n      <td>1.373726e+01</td>\n      <td>N/A</td>\n      <td>5.816346e+00</td>\n      <td>N/A</td>\n      <td>N/A</td>\n    </tr>\n    <tr>\n      <th>501</th>\n      <td>ZION</td>\n      <td>37.92</td>\n      <td>N/A</td>\n      <td>6.482051</td>\n      <td>N/A</td>\n      <td>1.159952</td>\n      <td>N/A</td>\n      <td>6.482051</td>\n      <td>N/A</td>\n      <td>8.623620e+09</td>\n      <td>N/A</td>\n      <td>8.623620e+09</td>\n      <td>N/A</td>\n      <td>N/A</td>\n    </tr>\n    <tr>\n      <th>502</th>\n      <td>ZTS</td>\n      <td>178.63</td>\n      <td>N/A</td>\n      <td>40.505669</td>\n      <td>N/A</td>\n      <td>18.383245</td>\n      <td>N/A</td>\n      <td>40.505668</td>\n      <td>N/A</td>\n      <td>2.661156e+01</td>\n      <td>N/A</td>\n      <td>1.550054e+01</td>\n      <td>N/A</td>\n      <td>N/A</td>\n    </tr>\n  </tbody>\n</table>\n<p>503 rows × 14 columns</p>\n</div>"
     },
     "execution_count": 19,
     "metadata": {},
     "output_type": "execute_result"
    }
   ],
   "source": [
    "rv_dataframe"
   ],
   "metadata": {
    "collapsed": false,
    "ExecuteTime": {
     "end_time": "2023-08-05T04:29:40.367123618Z",
     "start_time": "2023-08-05T04:29:40.366160005Z"
    }
   }
  },
  {
   "cell_type": "code",
   "execution_count": 20,
   "outputs": [
    {
     "data": {
      "text/plain": "    Ticker  Stock Price Number of Shares to Buy  Price-to-Earning Ratio  \\\n1      AAL        15.84                     N/A                6.187500   \n19     AIZ       141.78                     N/A               31.367257   \n52     AZO      2450.99                     N/A               19.328050   \n53      BA       231.36                     N/A              -32.631876   \n57    BBWI        37.99                     N/A               12.215434   \n78     CAH        91.25                     N/A               53.676471   \n80     CAT       276.44                     N/A              276.440000   \n98      CL        76.26                     N/A               39.926702   \n142    DPZ       395.36                     N/A               29.861027   \n171   ETSY        81.59                     N/A              -14.700901   \n187   FICO       841.02                     N/A               57.251191   \n218    HCA       268.69                     N/A               13.536020   \n223    HLT       151.35                     N/A               31.796218   \n227    HPQ        32.43                     N/A               12.146067   \n282    LNT        51.30                     N/A               19.655172   \n283    LOW       223.12                     N/A               21.371648   \n289    LYV        87.73                     N/A              112.474359   \n292    MAR       202.98                     N/A               23.823944   \n293    MAS        59.38                     N/A               16.679775   \n294    MCD       287.02                     N/A               30.829216   \n296    MCK       421.77                     N/A               16.850579   \n310     MO        44.00                     N/A               14.147910   \n316   MRNA       108.19                     N/A                9.302666   \n319   MSCI       542.26                     N/A               49.703025   \n323   MTCH        43.83                     N/A               42.553398   \n324    MTD      1271.49                     N/A               31.747566   \n349    OGN        21.53                     N/A                7.298305   \n354   ORLY       925.93                     N/A               26.768719   \n355   OTIS        88.51                     N/A               29.307947   \n374     PM        96.21                     N/A               18.609284   \n378   PODD       263.14                     N/A                     NaN   \n381    PPL        26.08                     N/A               26.612245   \n388   PYPL        62.75                     N/A               27.047414   \n406   SBAC       222.88                     N/A               65.746313   \n407   SBUX       100.68                     N/A               32.688312   \n423    STX        66.79                     N/A              -80.469880   \n432    TDG       896.10                     N/A               53.055062   \n471   VRSN       205.11                     N/A               31.652778   \n493   WYNN       104.18                     N/A              -48.231481   \n498    YUM       134.35                     N/A               31.537559   \n\n    PE Percentile  Price-to-Book Value PB Percentile  Price-to-Sales Ratio  \\\n1             N/A                  NaN           N/A          6.192229e+00   \n19            N/A             1.698635           N/A          3.136726e+01   \n52            N/A                  NaN           N/A          1.932805e+01   \n53            N/A                  NaN           N/A         -3.263188e+01   \n57            N/A                  NaN           N/A          1.221543e+01   \n78            N/A                  NaN           N/A          5.367647e+01   \n80            N/A                  NaN           N/A          1.427387e+11   \n98            N/A                  NaN           N/A          3.992670e+01   \n142           N/A                  NaN           N/A          2.986103e+01   \n171           N/A                  NaN           N/A         -1.470090e+01   \n187           N/A                  NaN           N/A          5.725119e+01   \n218           N/A                  NaN           N/A          1.353602e+01   \n223           N/A                  NaN           N/A          3.179622e+01   \n227           N/A                  NaN           N/A          1.214607e+01   \n282           N/A             2.052739           N/A          1.965517e+01   \n283           N/A                  NaN           N/A          2.137165e+01   \n289           N/A                  NaN           N/A          1.164588e+02   \n292           N/A                  NaN           N/A          2.382394e+01   \n293           N/A                  NaN           N/A          1.667978e+01   \n294           N/A                  NaN           N/A          3.082921e+01   \n296           N/A                  NaN           N/A          1.685058e+01   \n310           N/A                  NaN           N/A          1.414791e+01   \n316           N/A             2.178176           N/A          9.302666e+00   \n319           N/A                  NaN           N/A          4.970302e+01   \n323           N/A                  NaN           N/A          4.255340e+01   \n324           N/A                  NaN           N/A          3.174757e+01   \n349           N/A                  NaN           N/A          7.298306e+00   \n354           N/A                  NaN           N/A          2.676872e+01   \n355           N/A                  NaN           N/A          2.930795e+01   \n374           N/A                  NaN           N/A          1.860929e+01   \n378           N/A            36.476295           N/A                   NaN   \n381           N/A             1.380332           N/A          2.661225e+01   \n388           N/A             3.515997           N/A          2.704741e+01   \n406           N/A                  NaN           N/A          6.630462e+01   \n407           N/A                  NaN           N/A          3.268831e+01   \n423           N/A                  NaN           N/A         -8.046988e+01   \n432           N/A                  NaN           N/A          5.305506e+01   \n471           N/A                  NaN           N/A          3.165278e+01   \n493           N/A                  NaN           N/A         -4.823148e+01   \n498           N/A                  NaN           N/A          3.153756e+01   \n\n    PS Percentile   EV/EBITDA EV/EBITDA Percentile      EV/GP  \\\n1             N/A    5.469190                  N/A   4.522657   \n19            N/A         NaN                  N/A        NaN   \n52            N/A   14.253912                  N/A   6.452208   \n53            N/A  165.293742                  N/A  50.739801   \n57            N/A    9.037379                  N/A   4.186902   \n78            N/A   10.259414                  N/A   3.663293   \n80            N/A         NaN                  N/A        NaN   \n98            N/A   18.021236                  N/A   6.944366   \n142           N/A   22.281081                  N/A  11.539804   \n171           N/A   26.330018                  N/A   6.245606   \n187           N/A   36.518037                  N/A  21.234073   \n218           N/A    9.237136                  N/A   2.235277   \n223           N/A   19.787311                  N/A  18.093142   \n227           N/A    8.082221                  N/A   3.407179   \n282           N/A         NaN                  N/A        NaN   \n283           N/A   11.871374                  N/A   5.207182   \n289           N/A   15.641727                  N/A   5.103207   \n292           N/A   16.969396                  N/A  16.083324   \n293           N/A   11.254523                  N/A   5.994392   \n294           N/A   19.706686                  N/A  19.419156   \n296           N/A   12.254461                  N/A   5.016614   \n310           N/A    8.570019                  N/A   7.360856   \n316           N/A         NaN                  N/A        NaN   \n319           N/A   34.609086                  N/A  25.639883   \n323           N/A   16.663525                  N/A   6.912004   \n324           N/A   23.912515                  N/A  13.027370   \n349           N/A    7.690814                  N/A   3.542135   \n354           N/A   18.408769                  N/A   8.593736   \n355           N/A   18.340831                  N/A  10.850099   \n374           N/A   14.302942                  N/A   9.519605   \n378           N/A  162.409975                  N/A  23.728468   \n381           N/A         NaN                  N/A        NaN   \n388           N/A         NaN                  N/A        NaN   \n406           N/A   22.331373                  N/A  19.880507   \n407           N/A   20.942218                  N/A  16.272742   \n423           N/A   28.900011                  N/A  13.690605   \n432           N/A   24.001890                  N/A  21.507985   \n471           N/A   21.805490                  N/A  18.137993   \n493           N/A   30.749821                  N/A  17.463465   \n498           N/A   20.308493                  N/A  14.744690   \n\n    EV/GP Percentile RV Score  \n1                N/A      N/A  \n19               N/A      N/A  \n52               N/A      N/A  \n53               N/A      N/A  \n57               N/A      N/A  \n78               N/A      N/A  \n80               N/A      N/A  \n98               N/A      N/A  \n142              N/A      N/A  \n171              N/A      N/A  \n187              N/A      N/A  \n218              N/A      N/A  \n223              N/A      N/A  \n227              N/A      N/A  \n282              N/A      N/A  \n283              N/A      N/A  \n289              N/A      N/A  \n292              N/A      N/A  \n293              N/A      N/A  \n294              N/A      N/A  \n296              N/A      N/A  \n310              N/A      N/A  \n316              N/A      N/A  \n319              N/A      N/A  \n323              N/A      N/A  \n324              N/A      N/A  \n349              N/A      N/A  \n354              N/A      N/A  \n355              N/A      N/A  \n374              N/A      N/A  \n378              N/A      N/A  \n381              N/A      N/A  \n388              N/A      N/A  \n406              N/A      N/A  \n407              N/A      N/A  \n423              N/A      N/A  \n432              N/A      N/A  \n471              N/A      N/A  \n493              N/A      N/A  \n498              N/A      N/A  ",
      "text/html": "<div>\n<style scoped>\n    .dataframe tbody tr th:only-of-type {\n        vertical-align: middle;\n    }\n\n    .dataframe tbody tr th {\n        vertical-align: top;\n    }\n\n    .dataframe thead th {\n        text-align: right;\n    }\n</style>\n<table border=\"1\" class=\"dataframe\">\n  <thead>\n    <tr style=\"text-align: right;\">\n      <th></th>\n      <th>Ticker</th>\n      <th>Stock Price</th>\n      <th>Number of Shares to Buy</th>\n      <th>Price-to-Earning Ratio</th>\n      <th>PE Percentile</th>\n      <th>Price-to-Book Value</th>\n      <th>PB Percentile</th>\n      <th>Price-to-Sales Ratio</th>\n      <th>PS Percentile</th>\n      <th>EV/EBITDA</th>\n      <th>EV/EBITDA Percentile</th>\n      <th>EV/GP</th>\n      <th>EV/GP Percentile</th>\n      <th>RV Score</th>\n    </tr>\n  </thead>\n  <tbody>\n    <tr>\n      <th>1</th>\n      <td>AAL</td>\n      <td>15.84</td>\n      <td>N/A</td>\n      <td>6.187500</td>\n      <td>N/A</td>\n      <td>NaN</td>\n      <td>N/A</td>\n      <td>6.192229e+00</td>\n      <td>N/A</td>\n      <td>5.469190</td>\n      <td>N/A</td>\n      <td>4.522657</td>\n      <td>N/A</td>\n      <td>N/A</td>\n    </tr>\n    <tr>\n      <th>19</th>\n      <td>AIZ</td>\n      <td>141.78</td>\n      <td>N/A</td>\n      <td>31.367257</td>\n      <td>N/A</td>\n      <td>1.698635</td>\n      <td>N/A</td>\n      <td>3.136726e+01</td>\n      <td>N/A</td>\n      <td>NaN</td>\n      <td>N/A</td>\n      <td>NaN</td>\n      <td>N/A</td>\n      <td>N/A</td>\n    </tr>\n    <tr>\n      <th>52</th>\n      <td>AZO</td>\n      <td>2450.99</td>\n      <td>N/A</td>\n      <td>19.328050</td>\n      <td>N/A</td>\n      <td>NaN</td>\n      <td>N/A</td>\n      <td>1.932805e+01</td>\n      <td>N/A</td>\n      <td>14.253912</td>\n      <td>N/A</td>\n      <td>6.452208</td>\n      <td>N/A</td>\n      <td>N/A</td>\n    </tr>\n    <tr>\n      <th>53</th>\n      <td>BA</td>\n      <td>231.36</td>\n      <td>N/A</td>\n      <td>-32.631876</td>\n      <td>N/A</td>\n      <td>NaN</td>\n      <td>N/A</td>\n      <td>-3.263188e+01</td>\n      <td>N/A</td>\n      <td>165.293742</td>\n      <td>N/A</td>\n      <td>50.739801</td>\n      <td>N/A</td>\n      <td>N/A</td>\n    </tr>\n    <tr>\n      <th>57</th>\n      <td>BBWI</td>\n      <td>37.99</td>\n      <td>N/A</td>\n      <td>12.215434</td>\n      <td>N/A</td>\n      <td>NaN</td>\n      <td>N/A</td>\n      <td>1.221543e+01</td>\n      <td>N/A</td>\n      <td>9.037379</td>\n      <td>N/A</td>\n      <td>4.186902</td>\n      <td>N/A</td>\n      <td>N/A</td>\n    </tr>\n    <tr>\n      <th>78</th>\n      <td>CAH</td>\n      <td>91.25</td>\n      <td>N/A</td>\n      <td>53.676471</td>\n      <td>N/A</td>\n      <td>NaN</td>\n      <td>N/A</td>\n      <td>5.367647e+01</td>\n      <td>N/A</td>\n      <td>10.259414</td>\n      <td>N/A</td>\n      <td>3.663293</td>\n      <td>N/A</td>\n      <td>N/A</td>\n    </tr>\n    <tr>\n      <th>80</th>\n      <td>CAT</td>\n      <td>276.44</td>\n      <td>N/A</td>\n      <td>276.440000</td>\n      <td>N/A</td>\n      <td>NaN</td>\n      <td>N/A</td>\n      <td>1.427387e+11</td>\n      <td>N/A</td>\n      <td>NaN</td>\n      <td>N/A</td>\n      <td>NaN</td>\n      <td>N/A</td>\n      <td>N/A</td>\n    </tr>\n    <tr>\n      <th>98</th>\n      <td>CL</td>\n      <td>76.26</td>\n      <td>N/A</td>\n      <td>39.926702</td>\n      <td>N/A</td>\n      <td>NaN</td>\n      <td>N/A</td>\n      <td>3.992670e+01</td>\n      <td>N/A</td>\n      <td>18.021236</td>\n      <td>N/A</td>\n      <td>6.944366</td>\n      <td>N/A</td>\n      <td>N/A</td>\n    </tr>\n    <tr>\n      <th>142</th>\n      <td>DPZ</td>\n      <td>395.36</td>\n      <td>N/A</td>\n      <td>29.861027</td>\n      <td>N/A</td>\n      <td>NaN</td>\n      <td>N/A</td>\n      <td>2.986103e+01</td>\n      <td>N/A</td>\n      <td>22.281081</td>\n      <td>N/A</td>\n      <td>11.539804</td>\n      <td>N/A</td>\n      <td>N/A</td>\n    </tr>\n    <tr>\n      <th>171</th>\n      <td>ETSY</td>\n      <td>81.59</td>\n      <td>N/A</td>\n      <td>-14.700901</td>\n      <td>N/A</td>\n      <td>NaN</td>\n      <td>N/A</td>\n      <td>-1.470090e+01</td>\n      <td>N/A</td>\n      <td>26.330018</td>\n      <td>N/A</td>\n      <td>6.245606</td>\n      <td>N/A</td>\n      <td>N/A</td>\n    </tr>\n    <tr>\n      <th>187</th>\n      <td>FICO</td>\n      <td>841.02</td>\n      <td>N/A</td>\n      <td>57.251191</td>\n      <td>N/A</td>\n      <td>NaN</td>\n      <td>N/A</td>\n      <td>5.725119e+01</td>\n      <td>N/A</td>\n      <td>36.518037</td>\n      <td>N/A</td>\n      <td>21.234073</td>\n      <td>N/A</td>\n      <td>N/A</td>\n    </tr>\n    <tr>\n      <th>218</th>\n      <td>HCA</td>\n      <td>268.69</td>\n      <td>N/A</td>\n      <td>13.536020</td>\n      <td>N/A</td>\n      <td>NaN</td>\n      <td>N/A</td>\n      <td>1.353602e+01</td>\n      <td>N/A</td>\n      <td>9.237136</td>\n      <td>N/A</td>\n      <td>2.235277</td>\n      <td>N/A</td>\n      <td>N/A</td>\n    </tr>\n    <tr>\n      <th>223</th>\n      <td>HLT</td>\n      <td>151.35</td>\n      <td>N/A</td>\n      <td>31.796218</td>\n      <td>N/A</td>\n      <td>NaN</td>\n      <td>N/A</td>\n      <td>3.179622e+01</td>\n      <td>N/A</td>\n      <td>19.787311</td>\n      <td>N/A</td>\n      <td>18.093142</td>\n      <td>N/A</td>\n      <td>N/A</td>\n    </tr>\n    <tr>\n      <th>227</th>\n      <td>HPQ</td>\n      <td>32.43</td>\n      <td>N/A</td>\n      <td>12.146067</td>\n      <td>N/A</td>\n      <td>NaN</td>\n      <td>N/A</td>\n      <td>1.214607e+01</td>\n      <td>N/A</td>\n      <td>8.082221</td>\n      <td>N/A</td>\n      <td>3.407179</td>\n      <td>N/A</td>\n      <td>N/A</td>\n    </tr>\n    <tr>\n      <th>282</th>\n      <td>LNT</td>\n      <td>51.30</td>\n      <td>N/A</td>\n      <td>19.655172</td>\n      <td>N/A</td>\n      <td>2.052739</td>\n      <td>N/A</td>\n      <td>1.965517e+01</td>\n      <td>N/A</td>\n      <td>NaN</td>\n      <td>N/A</td>\n      <td>NaN</td>\n      <td>N/A</td>\n      <td>N/A</td>\n    </tr>\n    <tr>\n      <th>283</th>\n      <td>LOW</td>\n      <td>223.12</td>\n      <td>N/A</td>\n      <td>21.371648</td>\n      <td>N/A</td>\n      <td>NaN</td>\n      <td>N/A</td>\n      <td>2.137165e+01</td>\n      <td>N/A</td>\n      <td>11.871374</td>\n      <td>N/A</td>\n      <td>5.207182</td>\n      <td>N/A</td>\n      <td>N/A</td>\n    </tr>\n    <tr>\n      <th>289</th>\n      <td>LYV</td>\n      <td>87.73</td>\n      <td>N/A</td>\n      <td>112.474359</td>\n      <td>N/A</td>\n      <td>NaN</td>\n      <td>N/A</td>\n      <td>1.164588e+02</td>\n      <td>N/A</td>\n      <td>15.641727</td>\n      <td>N/A</td>\n      <td>5.103207</td>\n      <td>N/A</td>\n      <td>N/A</td>\n    </tr>\n    <tr>\n      <th>292</th>\n      <td>MAR</td>\n      <td>202.98</td>\n      <td>N/A</td>\n      <td>23.823944</td>\n      <td>N/A</td>\n      <td>NaN</td>\n      <td>N/A</td>\n      <td>2.382394e+01</td>\n      <td>N/A</td>\n      <td>16.969396</td>\n      <td>N/A</td>\n      <td>16.083324</td>\n      <td>N/A</td>\n      <td>N/A</td>\n    </tr>\n    <tr>\n      <th>293</th>\n      <td>MAS</td>\n      <td>59.38</td>\n      <td>N/A</td>\n      <td>16.679775</td>\n      <td>N/A</td>\n      <td>NaN</td>\n      <td>N/A</td>\n      <td>1.667978e+01</td>\n      <td>N/A</td>\n      <td>11.254523</td>\n      <td>N/A</td>\n      <td>5.994392</td>\n      <td>N/A</td>\n      <td>N/A</td>\n    </tr>\n    <tr>\n      <th>294</th>\n      <td>MCD</td>\n      <td>287.02</td>\n      <td>N/A</td>\n      <td>30.829216</td>\n      <td>N/A</td>\n      <td>NaN</td>\n      <td>N/A</td>\n      <td>3.082921e+01</td>\n      <td>N/A</td>\n      <td>19.706686</td>\n      <td>N/A</td>\n      <td>19.419156</td>\n      <td>N/A</td>\n      <td>N/A</td>\n    </tr>\n    <tr>\n      <th>296</th>\n      <td>MCK</td>\n      <td>421.77</td>\n      <td>N/A</td>\n      <td>16.850579</td>\n      <td>N/A</td>\n      <td>NaN</td>\n      <td>N/A</td>\n      <td>1.685058e+01</td>\n      <td>N/A</td>\n      <td>12.254461</td>\n      <td>N/A</td>\n      <td>5.016614</td>\n      <td>N/A</td>\n      <td>N/A</td>\n    </tr>\n    <tr>\n      <th>310</th>\n      <td>MO</td>\n      <td>44.00</td>\n      <td>N/A</td>\n      <td>14.147910</td>\n      <td>N/A</td>\n      <td>NaN</td>\n      <td>N/A</td>\n      <td>1.414791e+01</td>\n      <td>N/A</td>\n      <td>8.570019</td>\n      <td>N/A</td>\n      <td>7.360856</td>\n      <td>N/A</td>\n      <td>N/A</td>\n    </tr>\n    <tr>\n      <th>316</th>\n      <td>MRNA</td>\n      <td>108.19</td>\n      <td>N/A</td>\n      <td>9.302666</td>\n      <td>N/A</td>\n      <td>2.178176</td>\n      <td>N/A</td>\n      <td>9.302666e+00</td>\n      <td>N/A</td>\n      <td>NaN</td>\n      <td>N/A</td>\n      <td>NaN</td>\n      <td>N/A</td>\n      <td>N/A</td>\n    </tr>\n    <tr>\n      <th>319</th>\n      <td>MSCI</td>\n      <td>542.26</td>\n      <td>N/A</td>\n      <td>49.703025</td>\n      <td>N/A</td>\n      <td>NaN</td>\n      <td>N/A</td>\n      <td>4.970302e+01</td>\n      <td>N/A</td>\n      <td>34.609086</td>\n      <td>N/A</td>\n      <td>25.639883</td>\n      <td>N/A</td>\n      <td>N/A</td>\n    </tr>\n    <tr>\n      <th>323</th>\n      <td>MTCH</td>\n      <td>43.83</td>\n      <td>N/A</td>\n      <td>42.553398</td>\n      <td>N/A</td>\n      <td>NaN</td>\n      <td>N/A</td>\n      <td>4.255340e+01</td>\n      <td>N/A</td>\n      <td>16.663525</td>\n      <td>N/A</td>\n      <td>6.912004</td>\n      <td>N/A</td>\n      <td>N/A</td>\n    </tr>\n    <tr>\n      <th>324</th>\n      <td>MTD</td>\n      <td>1271.49</td>\n      <td>N/A</td>\n      <td>31.747566</td>\n      <td>N/A</td>\n      <td>NaN</td>\n      <td>N/A</td>\n      <td>3.174757e+01</td>\n      <td>N/A</td>\n      <td>23.912515</td>\n      <td>N/A</td>\n      <td>13.027370</td>\n      <td>N/A</td>\n      <td>N/A</td>\n    </tr>\n    <tr>\n      <th>349</th>\n      <td>OGN</td>\n      <td>21.53</td>\n      <td>N/A</td>\n      <td>7.298305</td>\n      <td>N/A</td>\n      <td>NaN</td>\n      <td>N/A</td>\n      <td>7.298306e+00</td>\n      <td>N/A</td>\n      <td>7.690814</td>\n      <td>N/A</td>\n      <td>3.542135</td>\n      <td>N/A</td>\n      <td>N/A</td>\n    </tr>\n    <tr>\n      <th>354</th>\n      <td>ORLY</td>\n      <td>925.93</td>\n      <td>N/A</td>\n      <td>26.768719</td>\n      <td>N/A</td>\n      <td>NaN</td>\n      <td>N/A</td>\n      <td>2.676872e+01</td>\n      <td>N/A</td>\n      <td>18.408769</td>\n      <td>N/A</td>\n      <td>8.593736</td>\n      <td>N/A</td>\n      <td>N/A</td>\n    </tr>\n    <tr>\n      <th>355</th>\n      <td>OTIS</td>\n      <td>88.51</td>\n      <td>N/A</td>\n      <td>29.307947</td>\n      <td>N/A</td>\n      <td>NaN</td>\n      <td>N/A</td>\n      <td>2.930795e+01</td>\n      <td>N/A</td>\n      <td>18.340831</td>\n      <td>N/A</td>\n      <td>10.850099</td>\n      <td>N/A</td>\n      <td>N/A</td>\n    </tr>\n    <tr>\n      <th>374</th>\n      <td>PM</td>\n      <td>96.21</td>\n      <td>N/A</td>\n      <td>18.609284</td>\n      <td>N/A</td>\n      <td>NaN</td>\n      <td>N/A</td>\n      <td>1.860929e+01</td>\n      <td>N/A</td>\n      <td>14.302942</td>\n      <td>N/A</td>\n      <td>9.519605</td>\n      <td>N/A</td>\n      <td>N/A</td>\n    </tr>\n    <tr>\n      <th>378</th>\n      <td>PODD</td>\n      <td>263.14</td>\n      <td>N/A</td>\n      <td>NaN</td>\n      <td>N/A</td>\n      <td>36.476295</td>\n      <td>N/A</td>\n      <td>NaN</td>\n      <td>N/A</td>\n      <td>162.409975</td>\n      <td>N/A</td>\n      <td>23.728468</td>\n      <td>N/A</td>\n      <td>N/A</td>\n    </tr>\n    <tr>\n      <th>381</th>\n      <td>PPL</td>\n      <td>26.08</td>\n      <td>N/A</td>\n      <td>26.612245</td>\n      <td>N/A</td>\n      <td>1.380332</td>\n      <td>N/A</td>\n      <td>2.661225e+01</td>\n      <td>N/A</td>\n      <td>NaN</td>\n      <td>N/A</td>\n      <td>NaN</td>\n      <td>N/A</td>\n      <td>N/A</td>\n    </tr>\n    <tr>\n      <th>388</th>\n      <td>PYPL</td>\n      <td>62.75</td>\n      <td>N/A</td>\n      <td>27.047414</td>\n      <td>N/A</td>\n      <td>3.515997</td>\n      <td>N/A</td>\n      <td>2.704741e+01</td>\n      <td>N/A</td>\n      <td>NaN</td>\n      <td>N/A</td>\n      <td>NaN</td>\n      <td>N/A</td>\n      <td>N/A</td>\n    </tr>\n    <tr>\n      <th>406</th>\n      <td>SBAC</td>\n      <td>222.88</td>\n      <td>N/A</td>\n      <td>65.746313</td>\n      <td>N/A</td>\n      <td>NaN</td>\n      <td>N/A</td>\n      <td>6.630462e+01</td>\n      <td>N/A</td>\n      <td>22.331373</td>\n      <td>N/A</td>\n      <td>19.880507</td>\n      <td>N/A</td>\n      <td>N/A</td>\n    </tr>\n    <tr>\n      <th>407</th>\n      <td>SBUX</td>\n      <td>100.68</td>\n      <td>N/A</td>\n      <td>32.688312</td>\n      <td>N/A</td>\n      <td>NaN</td>\n      <td>N/A</td>\n      <td>3.268831e+01</td>\n      <td>N/A</td>\n      <td>20.942218</td>\n      <td>N/A</td>\n      <td>16.272742</td>\n      <td>N/A</td>\n      <td>N/A</td>\n    </tr>\n    <tr>\n      <th>423</th>\n      <td>STX</td>\n      <td>66.79</td>\n      <td>N/A</td>\n      <td>-80.469880</td>\n      <td>N/A</td>\n      <td>NaN</td>\n      <td>N/A</td>\n      <td>-8.046988e+01</td>\n      <td>N/A</td>\n      <td>28.900011</td>\n      <td>N/A</td>\n      <td>13.690605</td>\n      <td>N/A</td>\n      <td>N/A</td>\n    </tr>\n    <tr>\n      <th>432</th>\n      <td>TDG</td>\n      <td>896.10</td>\n      <td>N/A</td>\n      <td>53.055062</td>\n      <td>N/A</td>\n      <td>NaN</td>\n      <td>N/A</td>\n      <td>5.305506e+01</td>\n      <td>N/A</td>\n      <td>24.001890</td>\n      <td>N/A</td>\n      <td>21.507985</td>\n      <td>N/A</td>\n      <td>N/A</td>\n    </tr>\n    <tr>\n      <th>471</th>\n      <td>VRSN</td>\n      <td>205.11</td>\n      <td>N/A</td>\n      <td>31.652778</td>\n      <td>N/A</td>\n      <td>NaN</td>\n      <td>N/A</td>\n      <td>3.165278e+01</td>\n      <td>N/A</td>\n      <td>21.805490</td>\n      <td>N/A</td>\n      <td>18.137993</td>\n      <td>N/A</td>\n      <td>N/A</td>\n    </tr>\n    <tr>\n      <th>493</th>\n      <td>WYNN</td>\n      <td>104.18</td>\n      <td>N/A</td>\n      <td>-48.231481</td>\n      <td>N/A</td>\n      <td>NaN</td>\n      <td>N/A</td>\n      <td>-4.823148e+01</td>\n      <td>N/A</td>\n      <td>30.749821</td>\n      <td>N/A</td>\n      <td>17.463465</td>\n      <td>N/A</td>\n      <td>N/A</td>\n    </tr>\n    <tr>\n      <th>498</th>\n      <td>YUM</td>\n      <td>134.35</td>\n      <td>N/A</td>\n      <td>31.537559</td>\n      <td>N/A</td>\n      <td>NaN</td>\n      <td>N/A</td>\n      <td>3.153756e+01</td>\n      <td>N/A</td>\n      <td>20.308493</td>\n      <td>N/A</td>\n      <td>14.744690</td>\n      <td>N/A</td>\n      <td>N/A</td>\n    </tr>\n  </tbody>\n</table>\n</div>"
     },
     "execution_count": 20,
     "metadata": {},
     "output_type": "execute_result"
    }
   ],
   "source": [
    "rv_dataframe[rv_dataframe.isnull().any(axis=1)]"
   ],
   "metadata": {
    "collapsed": false,
    "ExecuteTime": {
     "end_time": "2023-08-05T04:29:40.391248024Z",
     "start_time": "2023-08-05T04:29:40.366420282Z"
    }
   }
  },
  {
   "cell_type": "markdown",
   "source": [
    "## Dealing With Missing Data in Our DataFrame\n",
    "\n",
    "Our DataFrame contains some missing data which we have to fill with `mean` values."
   ],
   "metadata": {
    "collapsed": false
   }
  },
  {
   "cell_type": "code",
   "execution_count": 21,
   "outputs": [],
   "source": [
    "for column in ['Price-to-Earning Ratio', 'Price-to-Book Value', 'Price-to-Sales Ratio', 'EV/EBITDA', 'EV/GP']:\n",
    "    rv_dataframe[column].fillna(rv_dataframe[column].mean(), inplace=True)"
   ],
   "metadata": {
    "collapsed": false,
    "ExecuteTime": {
     "end_time": "2023-08-05T04:29:40.391620650Z",
     "start_time": "2023-08-05T04:29:40.379433470Z"
    }
   }
  },
  {
   "cell_type": "code",
   "execution_count": 22,
   "outputs": [
    {
     "data": {
      "text/plain": "Empty DataFrame\nColumns: [Ticker, Stock Price, Number of Shares to Buy, Price-to-Earning Ratio, PE Percentile, Price-to-Book Value, PB Percentile, Price-to-Sales Ratio, PS Percentile, EV/EBITDA, EV/EBITDA Percentile, EV/GP, EV/GP Percentile, RV Score]\nIndex: []",
      "text/html": "<div>\n<style scoped>\n    .dataframe tbody tr th:only-of-type {\n        vertical-align: middle;\n    }\n\n    .dataframe tbody tr th {\n        vertical-align: top;\n    }\n\n    .dataframe thead th {\n        text-align: right;\n    }\n</style>\n<table border=\"1\" class=\"dataframe\">\n  <thead>\n    <tr style=\"text-align: right;\">\n      <th></th>\n      <th>Ticker</th>\n      <th>Stock Price</th>\n      <th>Number of Shares to Buy</th>\n      <th>Price-to-Earning Ratio</th>\n      <th>PE Percentile</th>\n      <th>Price-to-Book Value</th>\n      <th>PB Percentile</th>\n      <th>Price-to-Sales Ratio</th>\n      <th>PS Percentile</th>\n      <th>EV/EBITDA</th>\n      <th>EV/EBITDA Percentile</th>\n      <th>EV/GP</th>\n      <th>EV/GP Percentile</th>\n      <th>RV Score</th>\n    </tr>\n  </thead>\n  <tbody>\n  </tbody>\n</table>\n</div>"
     },
     "execution_count": 22,
     "metadata": {},
     "output_type": "execute_result"
    }
   ],
   "source": [
    "rv_dataframe[rv_dataframe.isnull().any(axis=1)]"
   ],
   "metadata": {
    "collapsed": false,
    "ExecuteTime": {
     "end_time": "2023-08-05T04:29:40.440380770Z",
     "start_time": "2023-08-05T04:29:40.387155031Z"
    }
   }
  },
  {
   "cell_type": "markdown",
   "source": [
    "## Calculating Value Percentiles\n",
    "\n",
    "We now need to calculate value score percentiles for every stock in the universe. More specifically, we need to calculate percentile scores for the following metrics for every stock:\n",
    "\n",
    "* Price-to-earnings ratio\n",
    "* Price-to-book ratio\n",
    "* Price-to-sales ratio\n",
    "* EV/EBITDA\n",
    "* EV/GP"
   ],
   "metadata": {
    "collapsed": false
   }
  },
  {
   "cell_type": "code",
   "execution_count": 23,
   "outputs": [],
   "source": [
    "metrics = {\n",
    "    'Price-to-Earning Ratio': 'PE Percentile',\n",
    "    'Price-to-Book Value': 'PB Percentile',\n",
    "    'Price-to-Sales Ratio': 'PS Percentile',\n",
    "    'EV/EBITDA': 'EV/EBITDA Percentile',\n",
    "    'EV/GP': 'EV/GP Percentile'\n",
    "}\n",
    "\n",
    "for metric in metrics.keys():\n",
    "    for row in rv_dataframe.index:\n",
    "        rv_dataframe.loc[row, metrics[metric]] = score(rv_dataframe[metric], rv_dataframe.loc[row, metric])/100"
   ],
   "metadata": {
    "collapsed": false,
    "ExecuteTime": {
     "end_time": "2023-08-05T04:29:41.047146938Z",
     "start_time": "2023-08-05T04:29:40.451871470Z"
    }
   }
  },
  {
   "cell_type": "code",
   "execution_count": 24,
   "outputs": [
    {
     "data": {
      "text/plain": "    Ticker  Stock Price Number of Shares to Buy  Price-to-Earning Ratio  \\\n0        A       126.30                     N/A               27.880795   \n1      AAL        15.84                     N/A                6.187500   \n2      AAP        71.01                     N/A               10.551263   \n3     AAPL       181.99                     N/A               30.898132   \n4     ABBV       147.73                     N/A               34.760000   \n..     ...          ...                     ...                     ...   \n498    YUM       134.35                     N/A               31.537559   \n499    ZBH       126.32                     N/A               59.028037   \n500   ZBRA       251.41                     N/A               32.067602   \n501   ZION        37.92                     N/A                6.482051   \n502    ZTS       178.63                     N/A               40.505669   \n\n    PE Percentile  Price-to-Book Value PB Percentile  Price-to-Sales Ratio  \\\n0        0.622266             6.450789      0.697813             27.880796   \n1        0.107356            27.235819      0.923459              6.192229   \n2        0.194831             1.590619      0.170974             10.551264   \n3        0.689861            46.038452      0.972167             30.898133   \n4        0.755467            19.631893       0.87674             34.759998   \n..            ...                  ...           ...                   ...   \n498      0.701789            27.235819      0.923459             31.537559   \n499      0.914513             2.131983       0.28827             59.028039   \n500      0.717694             4.313386      0.554672             32.067603   \n501      0.115308             1.159952      0.067594              6.482051   \n502      0.801193            18.383245      0.862823             40.505668   \n\n    PS Percentile     EV/EBITDA EV/EBITDA Percentile         EV/GP  \\\n0        0.614314  1.895191e+01             0.664016  1.048415e+01   \n1        0.107356  5.469190e+00              0.06163  4.522657e+00   \n2        0.194831  9.267518e+00             0.176938  1.739365e+00   \n3        0.677932  2.355809e+01             0.791252  1.707562e+01   \n4        0.741551  1.115144e+01             0.280318  7.784881e+00   \n..            ...           ...                  ...           ...   \n498      0.691849  2.030849e+01             0.709742  1.474469e+01   \n499      0.900596  1.354852e+01             0.415507  6.497805e+00   \n500      0.705765  1.373726e+01             0.425447  5.816346e+00   \n501      0.115308  8.623620e+09             0.956262  8.623620e+09   \n502      0.789264  2.661156e+01             0.831014  1.550054e+01   \n\n    EV/GP Percentile RV Score  \n0           0.518887      N/A  \n1           0.145129      N/A  \n2           0.017893      N/A  \n3           0.745527      N/A  \n4           0.357853      N/A  \n..               ...      ...  \n498         0.693837      N/A  \n499         0.264414      N/A  \n500           0.2167      N/A  \n501         0.908549      N/A  \n502         0.719682      N/A  \n\n[503 rows x 14 columns]",
      "text/html": "<div>\n<style scoped>\n    .dataframe tbody tr th:only-of-type {\n        vertical-align: middle;\n    }\n\n    .dataframe tbody tr th {\n        vertical-align: top;\n    }\n\n    .dataframe thead th {\n        text-align: right;\n    }\n</style>\n<table border=\"1\" class=\"dataframe\">\n  <thead>\n    <tr style=\"text-align: right;\">\n      <th></th>\n      <th>Ticker</th>\n      <th>Stock Price</th>\n      <th>Number of Shares to Buy</th>\n      <th>Price-to-Earning Ratio</th>\n      <th>PE Percentile</th>\n      <th>Price-to-Book Value</th>\n      <th>PB Percentile</th>\n      <th>Price-to-Sales Ratio</th>\n      <th>PS Percentile</th>\n      <th>EV/EBITDA</th>\n      <th>EV/EBITDA Percentile</th>\n      <th>EV/GP</th>\n      <th>EV/GP Percentile</th>\n      <th>RV Score</th>\n    </tr>\n  </thead>\n  <tbody>\n    <tr>\n      <th>0</th>\n      <td>A</td>\n      <td>126.30</td>\n      <td>N/A</td>\n      <td>27.880795</td>\n      <td>0.622266</td>\n      <td>6.450789</td>\n      <td>0.697813</td>\n      <td>27.880796</td>\n      <td>0.614314</td>\n      <td>1.895191e+01</td>\n      <td>0.664016</td>\n      <td>1.048415e+01</td>\n      <td>0.518887</td>\n      <td>N/A</td>\n    </tr>\n    <tr>\n      <th>1</th>\n      <td>AAL</td>\n      <td>15.84</td>\n      <td>N/A</td>\n      <td>6.187500</td>\n      <td>0.107356</td>\n      <td>27.235819</td>\n      <td>0.923459</td>\n      <td>6.192229</td>\n      <td>0.107356</td>\n      <td>5.469190e+00</td>\n      <td>0.06163</td>\n      <td>4.522657e+00</td>\n      <td>0.145129</td>\n      <td>N/A</td>\n    </tr>\n    <tr>\n      <th>2</th>\n      <td>AAP</td>\n      <td>71.01</td>\n      <td>N/A</td>\n      <td>10.551263</td>\n      <td>0.194831</td>\n      <td>1.590619</td>\n      <td>0.170974</td>\n      <td>10.551264</td>\n      <td>0.194831</td>\n      <td>9.267518e+00</td>\n      <td>0.176938</td>\n      <td>1.739365e+00</td>\n      <td>0.017893</td>\n      <td>N/A</td>\n    </tr>\n    <tr>\n      <th>3</th>\n      <td>AAPL</td>\n      <td>181.99</td>\n      <td>N/A</td>\n      <td>30.898132</td>\n      <td>0.689861</td>\n      <td>46.038452</td>\n      <td>0.972167</td>\n      <td>30.898133</td>\n      <td>0.677932</td>\n      <td>2.355809e+01</td>\n      <td>0.791252</td>\n      <td>1.707562e+01</td>\n      <td>0.745527</td>\n      <td>N/A</td>\n    </tr>\n    <tr>\n      <th>4</th>\n      <td>ABBV</td>\n      <td>147.73</td>\n      <td>N/A</td>\n      <td>34.760000</td>\n      <td>0.755467</td>\n      <td>19.631893</td>\n      <td>0.87674</td>\n      <td>34.759998</td>\n      <td>0.741551</td>\n      <td>1.115144e+01</td>\n      <td>0.280318</td>\n      <td>7.784881e+00</td>\n      <td>0.357853</td>\n      <td>N/A</td>\n    </tr>\n    <tr>\n      <th>...</th>\n      <td>...</td>\n      <td>...</td>\n      <td>...</td>\n      <td>...</td>\n      <td>...</td>\n      <td>...</td>\n      <td>...</td>\n      <td>...</td>\n      <td>...</td>\n      <td>...</td>\n      <td>...</td>\n      <td>...</td>\n      <td>...</td>\n      <td>...</td>\n    </tr>\n    <tr>\n      <th>498</th>\n      <td>YUM</td>\n      <td>134.35</td>\n      <td>N/A</td>\n      <td>31.537559</td>\n      <td>0.701789</td>\n      <td>27.235819</td>\n      <td>0.923459</td>\n      <td>31.537559</td>\n      <td>0.691849</td>\n      <td>2.030849e+01</td>\n      <td>0.709742</td>\n      <td>1.474469e+01</td>\n      <td>0.693837</td>\n      <td>N/A</td>\n    </tr>\n    <tr>\n      <th>499</th>\n      <td>ZBH</td>\n      <td>126.32</td>\n      <td>N/A</td>\n      <td>59.028037</td>\n      <td>0.914513</td>\n      <td>2.131983</td>\n      <td>0.28827</td>\n      <td>59.028039</td>\n      <td>0.900596</td>\n      <td>1.354852e+01</td>\n      <td>0.415507</td>\n      <td>6.497805e+00</td>\n      <td>0.264414</td>\n      <td>N/A</td>\n    </tr>\n    <tr>\n      <th>500</th>\n      <td>ZBRA</td>\n      <td>251.41</td>\n      <td>N/A</td>\n      <td>32.067602</td>\n      <td>0.717694</td>\n      <td>4.313386</td>\n      <td>0.554672</td>\n      <td>32.067603</td>\n      <td>0.705765</td>\n      <td>1.373726e+01</td>\n      <td>0.425447</td>\n      <td>5.816346e+00</td>\n      <td>0.2167</td>\n      <td>N/A</td>\n    </tr>\n    <tr>\n      <th>501</th>\n      <td>ZION</td>\n      <td>37.92</td>\n      <td>N/A</td>\n      <td>6.482051</td>\n      <td>0.115308</td>\n      <td>1.159952</td>\n      <td>0.067594</td>\n      <td>6.482051</td>\n      <td>0.115308</td>\n      <td>8.623620e+09</td>\n      <td>0.956262</td>\n      <td>8.623620e+09</td>\n      <td>0.908549</td>\n      <td>N/A</td>\n    </tr>\n    <tr>\n      <th>502</th>\n      <td>ZTS</td>\n      <td>178.63</td>\n      <td>N/A</td>\n      <td>40.505669</td>\n      <td>0.801193</td>\n      <td>18.383245</td>\n      <td>0.862823</td>\n      <td>40.505668</td>\n      <td>0.789264</td>\n      <td>2.661156e+01</td>\n      <td>0.831014</td>\n      <td>1.550054e+01</td>\n      <td>0.719682</td>\n      <td>N/A</td>\n    </tr>\n  </tbody>\n</table>\n<p>503 rows × 14 columns</p>\n</div>"
     },
     "execution_count": 24,
     "metadata": {},
     "output_type": "execute_result"
    }
   ],
   "source": [
    "rv_dataframe"
   ],
   "metadata": {
    "collapsed": false,
    "ExecuteTime": {
     "end_time": "2023-08-05T04:29:41.081550628Z",
     "start_time": "2023-08-05T04:29:41.066366472Z"
    }
   }
  },
  {
   "cell_type": "markdown",
   "source": [
    "## Calculating the RV Score\n",
    "We'll now calculate our RV Score (which stands for Robust Value), which is the value score that we'll use to filter for stocks in this investing strategy.\n",
    "\n",
    "The RV Score will be the arithmetic mean of the 4 percentile scores that we calculated in the last section.\n",
    "\n",
    "To calculate arithmetic mean, we will use the mean function from Python's built-in statistics module."
   ],
   "metadata": {
    "collapsed": false
   }
  },
  {
   "cell_type": "code",
   "execution_count": 25,
   "outputs": [],
   "source": [
    "for row in rv_dataframe.index:\n",
    "    value_percentiles = []\n",
    "    for metric in metrics.keys():\n",
    "        value_percentiles.append(rv_dataframe.loc[row, metrics[metric]])\n",
    "    rv_dataframe.loc[row, 'RV Score'] = mean(value_percentiles)"
   ],
   "metadata": {
    "collapsed": false,
    "ExecuteTime": {
     "end_time": "2023-08-05T04:29:41.236294885Z",
     "start_time": "2023-08-05T04:29:41.071632727Z"
    }
   }
  },
  {
   "cell_type": "code",
   "execution_count": 26,
   "outputs": [
    {
     "data": {
      "text/plain": "    Ticker  Stock Price Number of Shares to Buy  Price-to-Earning Ratio  \\\n0        A       126.30                     N/A               27.880795   \n1      AAL        15.84                     N/A                6.187500   \n2      AAP        71.01                     N/A               10.551263   \n3     AAPL       181.99                     N/A               30.898132   \n4     ABBV       147.73                     N/A               34.760000   \n..     ...          ...                     ...                     ...   \n498    YUM       134.35                     N/A               31.537559   \n499    ZBH       126.32                     N/A               59.028037   \n500   ZBRA       251.41                     N/A               32.067602   \n501   ZION        37.92                     N/A                6.482051   \n502    ZTS       178.63                     N/A               40.505669   \n\n    PE Percentile  Price-to-Book Value PB Percentile  Price-to-Sales Ratio  \\\n0        0.622266             6.450789      0.697813             27.880796   \n1        0.107356            27.235819      0.923459              6.192229   \n2        0.194831             1.590619      0.170974             10.551264   \n3        0.689861            46.038452      0.972167             30.898133   \n4        0.755467            19.631893       0.87674             34.759998   \n..            ...                  ...           ...                   ...   \n498      0.701789            27.235819      0.923459             31.537559   \n499      0.914513             2.131983       0.28827             59.028039   \n500      0.717694             4.313386      0.554672             32.067603   \n501      0.115308             1.159952      0.067594              6.482051   \n502      0.801193            18.383245      0.862823             40.505668   \n\n    PS Percentile     EV/EBITDA EV/EBITDA Percentile         EV/GP  \\\n0        0.614314  1.895191e+01             0.664016  1.048415e+01   \n1        0.107356  5.469190e+00              0.06163  4.522657e+00   \n2        0.194831  9.267518e+00             0.176938  1.739365e+00   \n3        0.677932  2.355809e+01             0.791252  1.707562e+01   \n4        0.741551  1.115144e+01             0.280318  7.784881e+00   \n..            ...           ...                  ...           ...   \n498      0.691849  2.030849e+01             0.709742  1.474469e+01   \n499      0.900596  1.354852e+01             0.415507  6.497805e+00   \n500      0.705765  1.373726e+01             0.425447  5.816346e+00   \n501      0.115308  8.623620e+09             0.956262  8.623620e+09   \n502      0.789264  2.661156e+01             0.831014  1.550054e+01   \n\n    EV/GP Percentile  RV Score  \n0           0.518887  0.623459  \n1           0.145129  0.268986  \n2           0.017893  0.151093  \n3           0.745527  0.775348  \n4           0.357853  0.602386  \n..               ...       ...  \n498         0.693837  0.744135  \n499         0.264414   0.55666  \n500           0.2167  0.524056  \n501         0.908549  0.432604  \n502         0.719682  0.800795  \n\n[503 rows x 14 columns]",
      "text/html": "<div>\n<style scoped>\n    .dataframe tbody tr th:only-of-type {\n        vertical-align: middle;\n    }\n\n    .dataframe tbody tr th {\n        vertical-align: top;\n    }\n\n    .dataframe thead th {\n        text-align: right;\n    }\n</style>\n<table border=\"1\" class=\"dataframe\">\n  <thead>\n    <tr style=\"text-align: right;\">\n      <th></th>\n      <th>Ticker</th>\n      <th>Stock Price</th>\n      <th>Number of Shares to Buy</th>\n      <th>Price-to-Earning Ratio</th>\n      <th>PE Percentile</th>\n      <th>Price-to-Book Value</th>\n      <th>PB Percentile</th>\n      <th>Price-to-Sales Ratio</th>\n      <th>PS Percentile</th>\n      <th>EV/EBITDA</th>\n      <th>EV/EBITDA Percentile</th>\n      <th>EV/GP</th>\n      <th>EV/GP Percentile</th>\n      <th>RV Score</th>\n    </tr>\n  </thead>\n  <tbody>\n    <tr>\n      <th>0</th>\n      <td>A</td>\n      <td>126.30</td>\n      <td>N/A</td>\n      <td>27.880795</td>\n      <td>0.622266</td>\n      <td>6.450789</td>\n      <td>0.697813</td>\n      <td>27.880796</td>\n      <td>0.614314</td>\n      <td>1.895191e+01</td>\n      <td>0.664016</td>\n      <td>1.048415e+01</td>\n      <td>0.518887</td>\n      <td>0.623459</td>\n    </tr>\n    <tr>\n      <th>1</th>\n      <td>AAL</td>\n      <td>15.84</td>\n      <td>N/A</td>\n      <td>6.187500</td>\n      <td>0.107356</td>\n      <td>27.235819</td>\n      <td>0.923459</td>\n      <td>6.192229</td>\n      <td>0.107356</td>\n      <td>5.469190e+00</td>\n      <td>0.06163</td>\n      <td>4.522657e+00</td>\n      <td>0.145129</td>\n      <td>0.268986</td>\n    </tr>\n    <tr>\n      <th>2</th>\n      <td>AAP</td>\n      <td>71.01</td>\n      <td>N/A</td>\n      <td>10.551263</td>\n      <td>0.194831</td>\n      <td>1.590619</td>\n      <td>0.170974</td>\n      <td>10.551264</td>\n      <td>0.194831</td>\n      <td>9.267518e+00</td>\n      <td>0.176938</td>\n      <td>1.739365e+00</td>\n      <td>0.017893</td>\n      <td>0.151093</td>\n    </tr>\n    <tr>\n      <th>3</th>\n      <td>AAPL</td>\n      <td>181.99</td>\n      <td>N/A</td>\n      <td>30.898132</td>\n      <td>0.689861</td>\n      <td>46.038452</td>\n      <td>0.972167</td>\n      <td>30.898133</td>\n      <td>0.677932</td>\n      <td>2.355809e+01</td>\n      <td>0.791252</td>\n      <td>1.707562e+01</td>\n      <td>0.745527</td>\n      <td>0.775348</td>\n    </tr>\n    <tr>\n      <th>4</th>\n      <td>ABBV</td>\n      <td>147.73</td>\n      <td>N/A</td>\n      <td>34.760000</td>\n      <td>0.755467</td>\n      <td>19.631893</td>\n      <td>0.87674</td>\n      <td>34.759998</td>\n      <td>0.741551</td>\n      <td>1.115144e+01</td>\n      <td>0.280318</td>\n      <td>7.784881e+00</td>\n      <td>0.357853</td>\n      <td>0.602386</td>\n    </tr>\n    <tr>\n      <th>...</th>\n      <td>...</td>\n      <td>...</td>\n      <td>...</td>\n      <td>...</td>\n      <td>...</td>\n      <td>...</td>\n      <td>...</td>\n      <td>...</td>\n      <td>...</td>\n      <td>...</td>\n      <td>...</td>\n      <td>...</td>\n      <td>...</td>\n      <td>...</td>\n    </tr>\n    <tr>\n      <th>498</th>\n      <td>YUM</td>\n      <td>134.35</td>\n      <td>N/A</td>\n      <td>31.537559</td>\n      <td>0.701789</td>\n      <td>27.235819</td>\n      <td>0.923459</td>\n      <td>31.537559</td>\n      <td>0.691849</td>\n      <td>2.030849e+01</td>\n      <td>0.709742</td>\n      <td>1.474469e+01</td>\n      <td>0.693837</td>\n      <td>0.744135</td>\n    </tr>\n    <tr>\n      <th>499</th>\n      <td>ZBH</td>\n      <td>126.32</td>\n      <td>N/A</td>\n      <td>59.028037</td>\n      <td>0.914513</td>\n      <td>2.131983</td>\n      <td>0.28827</td>\n      <td>59.028039</td>\n      <td>0.900596</td>\n      <td>1.354852e+01</td>\n      <td>0.415507</td>\n      <td>6.497805e+00</td>\n      <td>0.264414</td>\n      <td>0.55666</td>\n    </tr>\n    <tr>\n      <th>500</th>\n      <td>ZBRA</td>\n      <td>251.41</td>\n      <td>N/A</td>\n      <td>32.067602</td>\n      <td>0.717694</td>\n      <td>4.313386</td>\n      <td>0.554672</td>\n      <td>32.067603</td>\n      <td>0.705765</td>\n      <td>1.373726e+01</td>\n      <td>0.425447</td>\n      <td>5.816346e+00</td>\n      <td>0.2167</td>\n      <td>0.524056</td>\n    </tr>\n    <tr>\n      <th>501</th>\n      <td>ZION</td>\n      <td>37.92</td>\n      <td>N/A</td>\n      <td>6.482051</td>\n      <td>0.115308</td>\n      <td>1.159952</td>\n      <td>0.067594</td>\n      <td>6.482051</td>\n      <td>0.115308</td>\n      <td>8.623620e+09</td>\n      <td>0.956262</td>\n      <td>8.623620e+09</td>\n      <td>0.908549</td>\n      <td>0.432604</td>\n    </tr>\n    <tr>\n      <th>502</th>\n      <td>ZTS</td>\n      <td>178.63</td>\n      <td>N/A</td>\n      <td>40.505669</td>\n      <td>0.801193</td>\n      <td>18.383245</td>\n      <td>0.862823</td>\n      <td>40.505668</td>\n      <td>0.789264</td>\n      <td>2.661156e+01</td>\n      <td>0.831014</td>\n      <td>1.550054e+01</td>\n      <td>0.719682</td>\n      <td>0.800795</td>\n    </tr>\n  </tbody>\n</table>\n<p>503 rows × 14 columns</p>\n</div>"
     },
     "execution_count": 26,
     "metadata": {},
     "output_type": "execute_result"
    }
   ],
   "source": [
    "rv_dataframe"
   ],
   "metadata": {
    "collapsed": false,
    "ExecuteTime": {
     "end_time": "2023-08-05T04:29:41.268753653Z",
     "start_time": "2023-08-05T04:29:41.237296867Z"
    }
   }
  },
  {
   "cell_type": "markdown",
   "source": [
    "## Selecting the 50 Best Value Stocks¶\n",
    "\n",
    "As before, we can identify the 50 best value stocks in our universe by sorting the DataFrame on the RV Score column and dropping all but the top 50 entries."
   ],
   "metadata": {
    "collapsed": false
   }
  },
  {
   "cell_type": "code",
   "execution_count": 27,
   "outputs": [],
   "source": [
    "rv_dataframe.sort_values('RV Score', ascending=True, inplace=True)"
   ],
   "metadata": {
    "collapsed": false,
    "ExecuteTime": {
     "end_time": "2023-08-05T04:29:41.269280513Z",
     "start_time": "2023-08-05T04:29:41.259368016Z"
    }
   }
  },
  {
   "cell_type": "code",
   "execution_count": 28,
   "outputs": [],
   "source": [
    "rv_dataframe = rv_dataframe[:50]\n",
    "rv_dataframe.reset_index(drop=True, inplace=True)"
   ],
   "metadata": {
    "collapsed": false,
    "ExecuteTime": {
     "end_time": "2023-08-05T04:29:41.359542082Z",
     "start_time": "2023-08-05T04:29:41.268992791Z"
    }
   }
  },
  {
   "cell_type": "code",
   "execution_count": 29,
   "outputs": [
    {
     "data": {
      "text/plain": "   Ticker  Stock Price Number of Shares to Buy  Price-to-Earning Ratio  \\\n0     MHK       105.29                     N/A              -48.298165   \n1       C        45.71                     N/A                7.244057   \n2    PARA        15.63                     N/A              -11.492647   \n3     EQT        41.80                     N/A                4.644444   \n4       T        14.00                     N/A              -11.965812   \n5     MOS        41.24                     N/A                5.060123   \n6     WRK        33.89                     N/A               -6.916327   \n7     STT        73.14                     N/A                9.897158   \n8     VLO       126.89                     N/A                3.613041   \n9    VTRS        10.59                     N/A                6.745223   \n10    PSX       110.48                     N/A                4.220015   \n11    TAP        65.31                     N/A              -54.425000   \n12   CTRA        27.57                     N/A                5.281609   \n13     BK        45.39                     N/A               13.194767   \n14    JPM       156.02                     N/A               10.026992   \n15    MRO        26.18                     N/A                6.323671   \n16     VZ        32.62                     N/A                6.524000   \n17   STLD       103.79                     N/A                6.009844   \n18    IVZ        16.65                     N/A               12.242647   \n19    MPC       137.95                     N/A                4.234193   \n20     IP        36.26                     N/A                8.004415   \n21   FANG       148.57                     N/A                6.154515   \n22     CF        81.24                     N/A                5.408788   \n23    LEN       125.57                     N/A                8.583049   \n24    WBD        13.97                     N/A               -2.788423   \n25     GM        36.57                     N/A                5.652241   \n26    UAL        52.37                     N/A                6.671338   \n27    PFE        35.02                     N/A                6.907298   \n28    PHM        84.35                     N/A                7.017471   \n29    WDC        43.45                     N/A              -20.115741   \n30    BWA        42.52                     N/A               10.421569   \n31    NWL        10.91                     N/A              -34.093750   \n32    NUE       167.76                     N/A                7.713103   \n33    DXC        19.32                     N/A               -7.853659   \n34    CVX       159.31                     N/A                8.602052   \n35    AAP        71.01                     N/A               10.551263   \n36    XOM       107.42                     N/A                7.272850   \n37     MS        88.79                     N/A               15.604569   \n38    DVN        50.80                     N/A                5.539804   \n39    DHI       125.71                     N/A                8.947331   \n40    NRG        37.52                     N/A               -4.797954   \n41    EOG       129.80                     N/A                8.112500   \n42    OXY        63.52                     N/A                7.259429   \n43     BG       114.71                     N/A               11.268173   \n44    CZR        55.45                     N/A              -60.934066   \n45    SJM       149.15                     N/A             -175.470588   \n46    TSN        56.46                     N/A               13.507177   \n47    UHS       134.36                     N/A               14.293617   \n48    PXD       234.06                     N/A                8.279448   \n49    COP       113.71                     N/A                9.053344   \n\n   PE Percentile  Price-to-Book Value PB Percentile  Price-to-Sales Ratio  \\\n0       0.027833             0.817057      0.019881            -48.298167   \n1       0.133201             0.467034      0.005964              7.244057   \n2        0.05169             0.465664      0.003976            -12.380315   \n3       0.089463             1.259150      0.081511              4.644444   \n4       0.049702             0.982249      0.037773            -11.965812   \n5       0.091451             1.104505      0.055666              5.060123   \n6       0.063618             0.870291      0.025845             -6.916326   \n7       0.186879             1.059862      0.047714              9.897158   \n8       0.081511             1.733304      0.202783              3.613041   \n9        0.12326             0.606703      0.007952              6.745223   \n10      0.083499             1.675920      0.186879              4.220015   \n11      0.023857             1.083588       0.05169            -58.702753   \n12      0.093439             1.650799      0.184891              5.281609   \n13      0.242545             0.979330      0.035785             13.194767   \n14      0.188867             1.590288      0.168986             10.026993   \n15      0.111332             1.429898      0.119284              6.323672   \n16      0.117296             1.440622       0.12326              6.524000   \n17       0.10338             2.002508      0.264414              6.009844   \n18      0.220676             0.659955       0.00994             12.444363   \n19      0.085487             2.172749      0.298211              4.234193   \n20      0.151093             1.492857      0.141153              8.004415   \n21      0.105368             1.711892      0.198807              6.154516   \n22      0.095427             2.723889       0.38171              5.408788   \n23      0.161034             1.442786      0.125249              9.613158   \n24      0.075547             0.749022      0.015905             -2.788423   \n25      0.101392             0.714509      0.013917              5.652241   \n26      0.121272             2.229270      0.310139              6.671337   \n27      0.125249             1.957847      0.246521              6.907298   \n28      0.127237             1.911182      0.236581              7.017471   \n29       0.04175             1.285845      0.087475            -20.115742   \n30      0.192843             1.323662      0.097416             10.421568   \n31      0.031809             1.363239      0.105368            -34.093751   \n32      0.145129             2.103073       0.27833              7.713103   \n33      0.059642             1.126662      0.059642             -7.853658   \n34      0.163022             1.892560      0.232604              8.602051   \n35      0.194831             1.590619      0.170974             10.551264   \n36      0.137177             2.160412      0.294235              7.272850   \n37      0.312127             1.610703       0.17495             15.604569   \n38      0.099404             2.954691      0.423459              5.539804   \n39      0.168986             1.963298      0.248509              8.947331   \n40      0.073559             3.550677      0.483101             -4.797954   \n41      0.153082             2.878176      0.411531              8.112500   \n42      0.135189             2.742542      0.385686              7.259429   \n43      0.204771             1.535116      0.145129             11.268173   \n44      0.017893             2.622990      0.367793            -60.934068   \n45      0.011928             2.135718      0.292247           -175.470577   \n46      0.248509             1.034995      0.043738             16.818280   \n47       0.27833             1.546697      0.151093             15.940739   \n48      0.159046             2.480395      0.349901              8.279448   \n49       0.17495             2.712353      0.379722              9.053344   \n\n   PS Percentile     EV/EBITDA EV/EBITDA Percentile         EV/GP  \\\n0       0.027833  6.968839e+00             0.097416  3.262173e+00   \n1       0.133201 -3.942013e+11             0.001988 -3.942013e+11   \n2       0.049702  8.997549e+00             0.159046  2.466493e+00   \n3       0.089463  2.803803e+00             0.021869  2.305254e+00   \n4        0.05169  6.021491e+00             0.073559  3.708197e+00   \n5       0.091451  4.402008e+00             0.037773  2.900027e+00   \n6       0.065606  5.935178e+00             0.067594  4.325726e+00   \n7       0.186879 -3.485754e+10              0.00994 -3.485754e+10   \n8       0.081511  2.960741e+00             0.023857  3.111509e+00   \n9        0.12326  5.815300e+00             0.065606  4.793124e+00   \n10      0.083499  5.457135e+00             0.059642  3.450056e+00   \n11      0.021869  1.028500e+01             0.214712  5.504353e+00   \n12      0.093439  3.224545e+00             0.025845  3.747372e+00   \n13      0.242545 -7.133209e+10             0.005964 -7.133209e+10   \n14      0.188867 -2.667733e+11             0.003976 -2.667733e+11   \n15      0.111332  4.870047e+00             0.045726  5.041905e+00   \n16      0.117296  6.565009e+00             0.085487  4.047727e+00   \n17       0.10338  4.310465e+00             0.033797  3.027982e+00   \n18      0.224652  6.699115e+00             0.089463  1.900598e+00   \n19      0.085487  3.754642e+00             0.031809  3.386781e+00   \n20      0.151093  7.048361e+00              0.10338  3.010018e+00   \n21      0.105368  5.335843e+00             0.057654  5.014944e+00   \n22      0.095427  3.594653e+00             0.029821  2.707183e+00   \n23      0.184891  6.254638e+00             0.077535  3.516934e+00   \n24      0.075547  1.090589e+01             0.260437  5.852894e+00   \n25      0.101392  8.461493e+00             0.145129  6.878971e+00   \n26      0.121272  4.389080e+00             0.035785  3.184146e+00   \n27      0.125249  6.870511e+00             0.093439  3.241487e+00   \n28      0.127237  5.198928e+00             0.053678  3.975953e+00   \n29       0.04175 -7.177372e+01             0.011928  1.004147e+01   \n30      0.190855  5.696280e+00             0.063618  4.375537e+00   \n31      0.031809  1.371653e+01             0.423459  3.639672e+00   \n32      0.145129  4.919262e+00             0.047714  3.474548e+00   \n33      0.059642  1.517318e+01             0.491054  2.506624e+00   \n34      0.161034  5.980213e+00             0.071571  4.125734e+00   \n35      0.194831  9.267518e+00             0.176938  1.739365e+00   \n36      0.137177  5.329236e+00             0.055666  4.329853e+00   \n37      0.302187 -6.198038e+10             0.007952 -6.198038e+10   \n38      0.099404  4.409502e+00              0.04175  4.655557e+00   \n39      0.166998  7.040661e+00             0.101392  4.337365e+00   \n40      0.073559 -2.070507e+01             0.015905  5.084038e+00   \n41      0.153082  5.117902e+00              0.05169  3.137749e+00   \n42      0.135189  4.713239e+00             0.043738  4.355038e+00   \n43      0.204771  6.517760e+00             0.083499  5.919443e+00   \n44      0.019881  9.679125e+00             0.190855  6.650380e+00   \n45      0.011928  1.148927e+01             0.292247  6.607826e+00   \n46      0.337972  8.043470e+00             0.127237  4.267816e+00   \n47      0.316103  8.381898e+00             0.137177  1.218260e+00   \n48      0.159046  5.952849e+00             0.069583  5.608391e+00   \n49      0.172962  5.107674e+00             0.049702  4.877417e+00   \n\n   EV/GP Percentile  RV Score  \n0          0.071571  0.048907  \n1          0.001988  0.055268  \n2          0.037773  0.060437  \n3          0.029821  0.062425  \n4          0.109344  0.064414  \n5          0.047714  0.064811  \n6          0.131213  0.070775  \n7           0.00994   0.08827  \n8           0.06163  0.090258  \n9          0.157058  0.095427  \n10         0.091451  0.100994  \n11         0.194831  0.101392  \n12         0.111332  0.101789  \n13         0.005964  0.106561  \n14         0.003976  0.110934  \n15         0.172962  0.112127  \n16         0.117296  0.112127  \n17         0.057654  0.112525  \n18         0.019881  0.112922  \n19         0.077535  0.115706  \n20         0.055666  0.120477  \n21         0.168986  0.127237  \n22         0.043738  0.129225  \n23         0.097416  0.129225  \n24         0.220676  0.129622  \n25         0.290258  0.130417  \n26         0.065606  0.130815  \n27         0.067594   0.13161  \n28         0.115308  0.132008  \n29         0.489066  0.134394  \n30         0.141153  0.137177  \n31         0.105368  0.139563  \n32         0.093439  0.141948  \n33         0.039761  0.141948  \n34         0.119284  0.149503  \n35         0.017893  0.151093  \n36         0.133201  0.151491  \n37         0.007952  0.161034  \n38         0.151093  0.163022  \n39         0.135189  0.164215  \n40         0.176938  0.164612  \n41         0.063618    0.1666  \n42         0.137177  0.167396  \n43         0.222664  0.172167  \n44         0.276342  0.174553  \n45         0.274354  0.176541  \n46         0.125249  0.176541  \n47         0.011928  0.178926  \n48         0.198807  0.187276  \n49          0.16501  0.188469  ",
      "text/html": "<div>\n<style scoped>\n    .dataframe tbody tr th:only-of-type {\n        vertical-align: middle;\n    }\n\n    .dataframe tbody tr th {\n        vertical-align: top;\n    }\n\n    .dataframe thead th {\n        text-align: right;\n    }\n</style>\n<table border=\"1\" class=\"dataframe\">\n  <thead>\n    <tr style=\"text-align: right;\">\n      <th></th>\n      <th>Ticker</th>\n      <th>Stock Price</th>\n      <th>Number of Shares to Buy</th>\n      <th>Price-to-Earning Ratio</th>\n      <th>PE Percentile</th>\n      <th>Price-to-Book Value</th>\n      <th>PB Percentile</th>\n      <th>Price-to-Sales Ratio</th>\n      <th>PS Percentile</th>\n      <th>EV/EBITDA</th>\n      <th>EV/EBITDA Percentile</th>\n      <th>EV/GP</th>\n      <th>EV/GP Percentile</th>\n      <th>RV Score</th>\n    </tr>\n  </thead>\n  <tbody>\n    <tr>\n      <th>0</th>\n      <td>MHK</td>\n      <td>105.29</td>\n      <td>N/A</td>\n      <td>-48.298165</td>\n      <td>0.027833</td>\n      <td>0.817057</td>\n      <td>0.019881</td>\n      <td>-48.298167</td>\n      <td>0.027833</td>\n      <td>6.968839e+00</td>\n      <td>0.097416</td>\n      <td>3.262173e+00</td>\n      <td>0.071571</td>\n      <td>0.048907</td>\n    </tr>\n    <tr>\n      <th>1</th>\n      <td>C</td>\n      <td>45.71</td>\n      <td>N/A</td>\n      <td>7.244057</td>\n      <td>0.133201</td>\n      <td>0.467034</td>\n      <td>0.005964</td>\n      <td>7.244057</td>\n      <td>0.133201</td>\n      <td>-3.942013e+11</td>\n      <td>0.001988</td>\n      <td>-3.942013e+11</td>\n      <td>0.001988</td>\n      <td>0.055268</td>\n    </tr>\n    <tr>\n      <th>2</th>\n      <td>PARA</td>\n      <td>15.63</td>\n      <td>N/A</td>\n      <td>-11.492647</td>\n      <td>0.05169</td>\n      <td>0.465664</td>\n      <td>0.003976</td>\n      <td>-12.380315</td>\n      <td>0.049702</td>\n      <td>8.997549e+00</td>\n      <td>0.159046</td>\n      <td>2.466493e+00</td>\n      <td>0.037773</td>\n      <td>0.060437</td>\n    </tr>\n    <tr>\n      <th>3</th>\n      <td>EQT</td>\n      <td>41.80</td>\n      <td>N/A</td>\n      <td>4.644444</td>\n      <td>0.089463</td>\n      <td>1.259150</td>\n      <td>0.081511</td>\n      <td>4.644444</td>\n      <td>0.089463</td>\n      <td>2.803803e+00</td>\n      <td>0.021869</td>\n      <td>2.305254e+00</td>\n      <td>0.029821</td>\n      <td>0.062425</td>\n    </tr>\n    <tr>\n      <th>4</th>\n      <td>T</td>\n      <td>14.00</td>\n      <td>N/A</td>\n      <td>-11.965812</td>\n      <td>0.049702</td>\n      <td>0.982249</td>\n      <td>0.037773</td>\n      <td>-11.965812</td>\n      <td>0.05169</td>\n      <td>6.021491e+00</td>\n      <td>0.073559</td>\n      <td>3.708197e+00</td>\n      <td>0.109344</td>\n      <td>0.064414</td>\n    </tr>\n    <tr>\n      <th>5</th>\n      <td>MOS</td>\n      <td>41.24</td>\n      <td>N/A</td>\n      <td>5.060123</td>\n      <td>0.091451</td>\n      <td>1.104505</td>\n      <td>0.055666</td>\n      <td>5.060123</td>\n      <td>0.091451</td>\n      <td>4.402008e+00</td>\n      <td>0.037773</td>\n      <td>2.900027e+00</td>\n      <td>0.047714</td>\n      <td>0.064811</td>\n    </tr>\n    <tr>\n      <th>6</th>\n      <td>WRK</td>\n      <td>33.89</td>\n      <td>N/A</td>\n      <td>-6.916327</td>\n      <td>0.063618</td>\n      <td>0.870291</td>\n      <td>0.025845</td>\n      <td>-6.916326</td>\n      <td>0.065606</td>\n      <td>5.935178e+00</td>\n      <td>0.067594</td>\n      <td>4.325726e+00</td>\n      <td>0.131213</td>\n      <td>0.070775</td>\n    </tr>\n    <tr>\n      <th>7</th>\n      <td>STT</td>\n      <td>73.14</td>\n      <td>N/A</td>\n      <td>9.897158</td>\n      <td>0.186879</td>\n      <td>1.059862</td>\n      <td>0.047714</td>\n      <td>9.897158</td>\n      <td>0.186879</td>\n      <td>-3.485754e+10</td>\n      <td>0.00994</td>\n      <td>-3.485754e+10</td>\n      <td>0.00994</td>\n      <td>0.08827</td>\n    </tr>\n    <tr>\n      <th>8</th>\n      <td>VLO</td>\n      <td>126.89</td>\n      <td>N/A</td>\n      <td>3.613041</td>\n      <td>0.081511</td>\n      <td>1.733304</td>\n      <td>0.202783</td>\n      <td>3.613041</td>\n      <td>0.081511</td>\n      <td>2.960741e+00</td>\n      <td>0.023857</td>\n      <td>3.111509e+00</td>\n      <td>0.06163</td>\n      <td>0.090258</td>\n    </tr>\n    <tr>\n      <th>9</th>\n      <td>VTRS</td>\n      <td>10.59</td>\n      <td>N/A</td>\n      <td>6.745223</td>\n      <td>0.12326</td>\n      <td>0.606703</td>\n      <td>0.007952</td>\n      <td>6.745223</td>\n      <td>0.12326</td>\n      <td>5.815300e+00</td>\n      <td>0.065606</td>\n      <td>4.793124e+00</td>\n      <td>0.157058</td>\n      <td>0.095427</td>\n    </tr>\n    <tr>\n      <th>10</th>\n      <td>PSX</td>\n      <td>110.48</td>\n      <td>N/A</td>\n      <td>4.220015</td>\n      <td>0.083499</td>\n      <td>1.675920</td>\n      <td>0.186879</td>\n      <td>4.220015</td>\n      <td>0.083499</td>\n      <td>5.457135e+00</td>\n      <td>0.059642</td>\n      <td>3.450056e+00</td>\n      <td>0.091451</td>\n      <td>0.100994</td>\n    </tr>\n    <tr>\n      <th>11</th>\n      <td>TAP</td>\n      <td>65.31</td>\n      <td>N/A</td>\n      <td>-54.425000</td>\n      <td>0.023857</td>\n      <td>1.083588</td>\n      <td>0.05169</td>\n      <td>-58.702753</td>\n      <td>0.021869</td>\n      <td>1.028500e+01</td>\n      <td>0.214712</td>\n      <td>5.504353e+00</td>\n      <td>0.194831</td>\n      <td>0.101392</td>\n    </tr>\n    <tr>\n      <th>12</th>\n      <td>CTRA</td>\n      <td>27.57</td>\n      <td>N/A</td>\n      <td>5.281609</td>\n      <td>0.093439</td>\n      <td>1.650799</td>\n      <td>0.184891</td>\n      <td>5.281609</td>\n      <td>0.093439</td>\n      <td>3.224545e+00</td>\n      <td>0.025845</td>\n      <td>3.747372e+00</td>\n      <td>0.111332</td>\n      <td>0.101789</td>\n    </tr>\n    <tr>\n      <th>13</th>\n      <td>BK</td>\n      <td>45.39</td>\n      <td>N/A</td>\n      <td>13.194767</td>\n      <td>0.242545</td>\n      <td>0.979330</td>\n      <td>0.035785</td>\n      <td>13.194767</td>\n      <td>0.242545</td>\n      <td>-7.133209e+10</td>\n      <td>0.005964</td>\n      <td>-7.133209e+10</td>\n      <td>0.005964</td>\n      <td>0.106561</td>\n    </tr>\n    <tr>\n      <th>14</th>\n      <td>JPM</td>\n      <td>156.02</td>\n      <td>N/A</td>\n      <td>10.026992</td>\n      <td>0.188867</td>\n      <td>1.590288</td>\n      <td>0.168986</td>\n      <td>10.026993</td>\n      <td>0.188867</td>\n      <td>-2.667733e+11</td>\n      <td>0.003976</td>\n      <td>-2.667733e+11</td>\n      <td>0.003976</td>\n      <td>0.110934</td>\n    </tr>\n    <tr>\n      <th>15</th>\n      <td>MRO</td>\n      <td>26.18</td>\n      <td>N/A</td>\n      <td>6.323671</td>\n      <td>0.111332</td>\n      <td>1.429898</td>\n      <td>0.119284</td>\n      <td>6.323672</td>\n      <td>0.111332</td>\n      <td>4.870047e+00</td>\n      <td>0.045726</td>\n      <td>5.041905e+00</td>\n      <td>0.172962</td>\n      <td>0.112127</td>\n    </tr>\n    <tr>\n      <th>16</th>\n      <td>VZ</td>\n      <td>32.62</td>\n      <td>N/A</td>\n      <td>6.524000</td>\n      <td>0.117296</td>\n      <td>1.440622</td>\n      <td>0.12326</td>\n      <td>6.524000</td>\n      <td>0.117296</td>\n      <td>6.565009e+00</td>\n      <td>0.085487</td>\n      <td>4.047727e+00</td>\n      <td>0.117296</td>\n      <td>0.112127</td>\n    </tr>\n    <tr>\n      <th>17</th>\n      <td>STLD</td>\n      <td>103.79</td>\n      <td>N/A</td>\n      <td>6.009844</td>\n      <td>0.10338</td>\n      <td>2.002508</td>\n      <td>0.264414</td>\n      <td>6.009844</td>\n      <td>0.10338</td>\n      <td>4.310465e+00</td>\n      <td>0.033797</td>\n      <td>3.027982e+00</td>\n      <td>0.057654</td>\n      <td>0.112525</td>\n    </tr>\n    <tr>\n      <th>18</th>\n      <td>IVZ</td>\n      <td>16.65</td>\n      <td>N/A</td>\n      <td>12.242647</td>\n      <td>0.220676</td>\n      <td>0.659955</td>\n      <td>0.00994</td>\n      <td>12.444363</td>\n      <td>0.224652</td>\n      <td>6.699115e+00</td>\n      <td>0.089463</td>\n      <td>1.900598e+00</td>\n      <td>0.019881</td>\n      <td>0.112922</td>\n    </tr>\n    <tr>\n      <th>19</th>\n      <td>MPC</td>\n      <td>137.95</td>\n      <td>N/A</td>\n      <td>4.234193</td>\n      <td>0.085487</td>\n      <td>2.172749</td>\n      <td>0.298211</td>\n      <td>4.234193</td>\n      <td>0.085487</td>\n      <td>3.754642e+00</td>\n      <td>0.031809</td>\n      <td>3.386781e+00</td>\n      <td>0.077535</td>\n      <td>0.115706</td>\n    </tr>\n    <tr>\n      <th>20</th>\n      <td>IP</td>\n      <td>36.26</td>\n      <td>N/A</td>\n      <td>8.004415</td>\n      <td>0.151093</td>\n      <td>1.492857</td>\n      <td>0.141153</td>\n      <td>8.004415</td>\n      <td>0.151093</td>\n      <td>7.048361e+00</td>\n      <td>0.10338</td>\n      <td>3.010018e+00</td>\n      <td>0.055666</td>\n      <td>0.120477</td>\n    </tr>\n    <tr>\n      <th>21</th>\n      <td>FANG</td>\n      <td>148.57</td>\n      <td>N/A</td>\n      <td>6.154515</td>\n      <td>0.105368</td>\n      <td>1.711892</td>\n      <td>0.198807</td>\n      <td>6.154516</td>\n      <td>0.105368</td>\n      <td>5.335843e+00</td>\n      <td>0.057654</td>\n      <td>5.014944e+00</td>\n      <td>0.168986</td>\n      <td>0.127237</td>\n    </tr>\n    <tr>\n      <th>22</th>\n      <td>CF</td>\n      <td>81.24</td>\n      <td>N/A</td>\n      <td>5.408788</td>\n      <td>0.095427</td>\n      <td>2.723889</td>\n      <td>0.38171</td>\n      <td>5.408788</td>\n      <td>0.095427</td>\n      <td>3.594653e+00</td>\n      <td>0.029821</td>\n      <td>2.707183e+00</td>\n      <td>0.043738</td>\n      <td>0.129225</td>\n    </tr>\n    <tr>\n      <th>23</th>\n      <td>LEN</td>\n      <td>125.57</td>\n      <td>N/A</td>\n      <td>8.583049</td>\n      <td>0.161034</td>\n      <td>1.442786</td>\n      <td>0.125249</td>\n      <td>9.613158</td>\n      <td>0.184891</td>\n      <td>6.254638e+00</td>\n      <td>0.077535</td>\n      <td>3.516934e+00</td>\n      <td>0.097416</td>\n      <td>0.129225</td>\n    </tr>\n    <tr>\n      <th>24</th>\n      <td>WBD</td>\n      <td>13.97</td>\n      <td>N/A</td>\n      <td>-2.788423</td>\n      <td>0.075547</td>\n      <td>0.749022</td>\n      <td>0.015905</td>\n      <td>-2.788423</td>\n      <td>0.075547</td>\n      <td>1.090589e+01</td>\n      <td>0.260437</td>\n      <td>5.852894e+00</td>\n      <td>0.220676</td>\n      <td>0.129622</td>\n    </tr>\n    <tr>\n      <th>25</th>\n      <td>GM</td>\n      <td>36.57</td>\n      <td>N/A</td>\n      <td>5.652241</td>\n      <td>0.101392</td>\n      <td>0.714509</td>\n      <td>0.013917</td>\n      <td>5.652241</td>\n      <td>0.101392</td>\n      <td>8.461493e+00</td>\n      <td>0.145129</td>\n      <td>6.878971e+00</td>\n      <td>0.290258</td>\n      <td>0.130417</td>\n    </tr>\n    <tr>\n      <th>26</th>\n      <td>UAL</td>\n      <td>52.37</td>\n      <td>N/A</td>\n      <td>6.671338</td>\n      <td>0.121272</td>\n      <td>2.229270</td>\n      <td>0.310139</td>\n      <td>6.671337</td>\n      <td>0.121272</td>\n      <td>4.389080e+00</td>\n      <td>0.035785</td>\n      <td>3.184146e+00</td>\n      <td>0.065606</td>\n      <td>0.130815</td>\n    </tr>\n    <tr>\n      <th>27</th>\n      <td>PFE</td>\n      <td>35.02</td>\n      <td>N/A</td>\n      <td>6.907298</td>\n      <td>0.125249</td>\n      <td>1.957847</td>\n      <td>0.246521</td>\n      <td>6.907298</td>\n      <td>0.125249</td>\n      <td>6.870511e+00</td>\n      <td>0.093439</td>\n      <td>3.241487e+00</td>\n      <td>0.067594</td>\n      <td>0.13161</td>\n    </tr>\n    <tr>\n      <th>28</th>\n      <td>PHM</td>\n      <td>84.35</td>\n      <td>N/A</td>\n      <td>7.017471</td>\n      <td>0.127237</td>\n      <td>1.911182</td>\n      <td>0.236581</td>\n      <td>7.017471</td>\n      <td>0.127237</td>\n      <td>5.198928e+00</td>\n      <td>0.053678</td>\n      <td>3.975953e+00</td>\n      <td>0.115308</td>\n      <td>0.132008</td>\n    </tr>\n    <tr>\n      <th>29</th>\n      <td>WDC</td>\n      <td>43.45</td>\n      <td>N/A</td>\n      <td>-20.115741</td>\n      <td>0.04175</td>\n      <td>1.285845</td>\n      <td>0.087475</td>\n      <td>-20.115742</td>\n      <td>0.04175</td>\n      <td>-7.177372e+01</td>\n      <td>0.011928</td>\n      <td>1.004147e+01</td>\n      <td>0.489066</td>\n      <td>0.134394</td>\n    </tr>\n    <tr>\n      <th>30</th>\n      <td>BWA</td>\n      <td>42.52</td>\n      <td>N/A</td>\n      <td>10.421569</td>\n      <td>0.192843</td>\n      <td>1.323662</td>\n      <td>0.097416</td>\n      <td>10.421568</td>\n      <td>0.190855</td>\n      <td>5.696280e+00</td>\n      <td>0.063618</td>\n      <td>4.375537e+00</td>\n      <td>0.141153</td>\n      <td>0.137177</td>\n    </tr>\n    <tr>\n      <th>31</th>\n      <td>NWL</td>\n      <td>10.91</td>\n      <td>N/A</td>\n      <td>-34.093750</td>\n      <td>0.031809</td>\n      <td>1.363239</td>\n      <td>0.105368</td>\n      <td>-34.093751</td>\n      <td>0.031809</td>\n      <td>1.371653e+01</td>\n      <td>0.423459</td>\n      <td>3.639672e+00</td>\n      <td>0.105368</td>\n      <td>0.139563</td>\n    </tr>\n    <tr>\n      <th>32</th>\n      <td>NUE</td>\n      <td>167.76</td>\n      <td>N/A</td>\n      <td>7.713103</td>\n      <td>0.145129</td>\n      <td>2.103073</td>\n      <td>0.27833</td>\n      <td>7.713103</td>\n      <td>0.145129</td>\n      <td>4.919262e+00</td>\n      <td>0.047714</td>\n      <td>3.474548e+00</td>\n      <td>0.093439</td>\n      <td>0.141948</td>\n    </tr>\n    <tr>\n      <th>33</th>\n      <td>DXC</td>\n      <td>19.32</td>\n      <td>N/A</td>\n      <td>-7.853659</td>\n      <td>0.059642</td>\n      <td>1.126662</td>\n      <td>0.059642</td>\n      <td>-7.853658</td>\n      <td>0.059642</td>\n      <td>1.517318e+01</td>\n      <td>0.491054</td>\n      <td>2.506624e+00</td>\n      <td>0.039761</td>\n      <td>0.141948</td>\n    </tr>\n    <tr>\n      <th>34</th>\n      <td>CVX</td>\n      <td>159.31</td>\n      <td>N/A</td>\n      <td>8.602052</td>\n      <td>0.163022</td>\n      <td>1.892560</td>\n      <td>0.232604</td>\n      <td>8.602051</td>\n      <td>0.161034</td>\n      <td>5.980213e+00</td>\n      <td>0.071571</td>\n      <td>4.125734e+00</td>\n      <td>0.119284</td>\n      <td>0.149503</td>\n    </tr>\n    <tr>\n      <th>35</th>\n      <td>AAP</td>\n      <td>71.01</td>\n      <td>N/A</td>\n      <td>10.551263</td>\n      <td>0.194831</td>\n      <td>1.590619</td>\n      <td>0.170974</td>\n      <td>10.551264</td>\n      <td>0.194831</td>\n      <td>9.267518e+00</td>\n      <td>0.176938</td>\n      <td>1.739365e+00</td>\n      <td>0.017893</td>\n      <td>0.151093</td>\n    </tr>\n    <tr>\n      <th>36</th>\n      <td>XOM</td>\n      <td>107.42</td>\n      <td>N/A</td>\n      <td>7.272850</td>\n      <td>0.137177</td>\n      <td>2.160412</td>\n      <td>0.294235</td>\n      <td>7.272850</td>\n      <td>0.137177</td>\n      <td>5.329236e+00</td>\n      <td>0.055666</td>\n      <td>4.329853e+00</td>\n      <td>0.133201</td>\n      <td>0.151491</td>\n    </tr>\n    <tr>\n      <th>37</th>\n      <td>MS</td>\n      <td>88.79</td>\n      <td>N/A</td>\n      <td>15.604569</td>\n      <td>0.312127</td>\n      <td>1.610703</td>\n      <td>0.17495</td>\n      <td>15.604569</td>\n      <td>0.302187</td>\n      <td>-6.198038e+10</td>\n      <td>0.007952</td>\n      <td>-6.198038e+10</td>\n      <td>0.007952</td>\n      <td>0.161034</td>\n    </tr>\n    <tr>\n      <th>38</th>\n      <td>DVN</td>\n      <td>50.80</td>\n      <td>N/A</td>\n      <td>5.539804</td>\n      <td>0.099404</td>\n      <td>2.954691</td>\n      <td>0.423459</td>\n      <td>5.539804</td>\n      <td>0.099404</td>\n      <td>4.409502e+00</td>\n      <td>0.04175</td>\n      <td>4.655557e+00</td>\n      <td>0.151093</td>\n      <td>0.163022</td>\n    </tr>\n    <tr>\n      <th>39</th>\n      <td>DHI</td>\n      <td>125.71</td>\n      <td>N/A</td>\n      <td>8.947331</td>\n      <td>0.168986</td>\n      <td>1.963298</td>\n      <td>0.248509</td>\n      <td>8.947331</td>\n      <td>0.166998</td>\n      <td>7.040661e+00</td>\n      <td>0.101392</td>\n      <td>4.337365e+00</td>\n      <td>0.135189</td>\n      <td>0.164215</td>\n    </tr>\n    <tr>\n      <th>40</th>\n      <td>NRG</td>\n      <td>37.52</td>\n      <td>N/A</td>\n      <td>-4.797954</td>\n      <td>0.073559</td>\n      <td>3.550677</td>\n      <td>0.483101</td>\n      <td>-4.797954</td>\n      <td>0.073559</td>\n      <td>-2.070507e+01</td>\n      <td>0.015905</td>\n      <td>5.084038e+00</td>\n      <td>0.176938</td>\n      <td>0.164612</td>\n    </tr>\n    <tr>\n      <th>41</th>\n      <td>EOG</td>\n      <td>129.80</td>\n      <td>N/A</td>\n      <td>8.112500</td>\n      <td>0.153082</td>\n      <td>2.878176</td>\n      <td>0.411531</td>\n      <td>8.112500</td>\n      <td>0.153082</td>\n      <td>5.117902e+00</td>\n      <td>0.05169</td>\n      <td>3.137749e+00</td>\n      <td>0.063618</td>\n      <td>0.1666</td>\n    </tr>\n    <tr>\n      <th>42</th>\n      <td>OXY</td>\n      <td>63.52</td>\n      <td>N/A</td>\n      <td>7.259429</td>\n      <td>0.135189</td>\n      <td>2.742542</td>\n      <td>0.385686</td>\n      <td>7.259429</td>\n      <td>0.135189</td>\n      <td>4.713239e+00</td>\n      <td>0.043738</td>\n      <td>4.355038e+00</td>\n      <td>0.137177</td>\n      <td>0.167396</td>\n    </tr>\n    <tr>\n      <th>43</th>\n      <td>BG</td>\n      <td>114.71</td>\n      <td>N/A</td>\n      <td>11.268173</td>\n      <td>0.204771</td>\n      <td>1.535116</td>\n      <td>0.145129</td>\n      <td>11.268173</td>\n      <td>0.204771</td>\n      <td>6.517760e+00</td>\n      <td>0.083499</td>\n      <td>5.919443e+00</td>\n      <td>0.222664</td>\n      <td>0.172167</td>\n    </tr>\n    <tr>\n      <th>44</th>\n      <td>CZR</td>\n      <td>55.45</td>\n      <td>N/A</td>\n      <td>-60.934066</td>\n      <td>0.017893</td>\n      <td>2.622990</td>\n      <td>0.367793</td>\n      <td>-60.934068</td>\n      <td>0.019881</td>\n      <td>9.679125e+00</td>\n      <td>0.190855</td>\n      <td>6.650380e+00</td>\n      <td>0.276342</td>\n      <td>0.174553</td>\n    </tr>\n    <tr>\n      <th>45</th>\n      <td>SJM</td>\n      <td>149.15</td>\n      <td>N/A</td>\n      <td>-175.470588</td>\n      <td>0.011928</td>\n      <td>2.135718</td>\n      <td>0.292247</td>\n      <td>-175.470577</td>\n      <td>0.011928</td>\n      <td>1.148927e+01</td>\n      <td>0.292247</td>\n      <td>6.607826e+00</td>\n      <td>0.274354</td>\n      <td>0.176541</td>\n    </tr>\n    <tr>\n      <th>46</th>\n      <td>TSN</td>\n      <td>56.46</td>\n      <td>N/A</td>\n      <td>13.507177</td>\n      <td>0.248509</td>\n      <td>1.034995</td>\n      <td>0.043738</td>\n      <td>16.818280</td>\n      <td>0.337972</td>\n      <td>8.043470e+00</td>\n      <td>0.127237</td>\n      <td>4.267816e+00</td>\n      <td>0.125249</td>\n      <td>0.176541</td>\n    </tr>\n    <tr>\n      <th>47</th>\n      <td>UHS</td>\n      <td>134.36</td>\n      <td>N/A</td>\n      <td>14.293617</td>\n      <td>0.27833</td>\n      <td>1.546697</td>\n      <td>0.151093</td>\n      <td>15.940739</td>\n      <td>0.316103</td>\n      <td>8.381898e+00</td>\n      <td>0.137177</td>\n      <td>1.218260e+00</td>\n      <td>0.011928</td>\n      <td>0.178926</td>\n    </tr>\n    <tr>\n      <th>48</th>\n      <td>PXD</td>\n      <td>234.06</td>\n      <td>N/A</td>\n      <td>8.279448</td>\n      <td>0.159046</td>\n      <td>2.480395</td>\n      <td>0.349901</td>\n      <td>8.279448</td>\n      <td>0.159046</td>\n      <td>5.952849e+00</td>\n      <td>0.069583</td>\n      <td>5.608391e+00</td>\n      <td>0.198807</td>\n      <td>0.187276</td>\n    </tr>\n    <tr>\n      <th>49</th>\n      <td>COP</td>\n      <td>113.71</td>\n      <td>N/A</td>\n      <td>9.053344</td>\n      <td>0.17495</td>\n      <td>2.712353</td>\n      <td>0.379722</td>\n      <td>9.053344</td>\n      <td>0.172962</td>\n      <td>5.107674e+00</td>\n      <td>0.049702</td>\n      <td>4.877417e+00</td>\n      <td>0.16501</td>\n      <td>0.188469</td>\n    </tr>\n  </tbody>\n</table>\n</div>"
     },
     "execution_count": 29,
     "metadata": {},
     "output_type": "execute_result"
    }
   ],
   "source": [
    "rv_dataframe"
   ],
   "metadata": {
    "collapsed": false,
    "ExecuteTime": {
     "end_time": "2023-08-05T04:29:41.361084117Z",
     "start_time": "2023-08-05T04:29:41.310056904Z"
    }
   }
  },
  {
   "cell_type": "markdown",
   "source": [
    "## Calculating the Number of Shares to Buy\n",
    "\n",
    "As we can see in the DataFrame above, we stil haven't calculated the number of shares of each stock to buy."
   ],
   "metadata": {
    "collapsed": false
   }
  },
  {
   "cell_type": "code",
   "execution_count": 30,
   "outputs": [
    {
     "data": {
      "text/plain": "10000000"
     },
     "execution_count": 30,
     "metadata": {},
     "output_type": "execute_result"
    }
   ],
   "source": [
    "# portfolio_size = float(input(\"Enter your portfolio value: \"))\n",
    "portfolio_size = 10000000\n",
    "portfolio_size"
   ],
   "metadata": {
    "collapsed": false,
    "ExecuteTime": {
     "end_time": "2023-08-05T04:29:41.361385928Z",
     "start_time": "2023-08-05T04:29:41.310674769Z"
    }
   }
  },
  {
   "cell_type": "code",
   "execution_count": 31,
   "outputs": [
    {
     "data": {
      "text/plain": "200000.0"
     },
     "execution_count": 31,
     "metadata": {},
     "output_type": "execute_result"
    }
   ],
   "source": [
    "position_size = float(portfolio_size) / len(rv_dataframe.index)\n",
    "position_size"
   ],
   "metadata": {
    "collapsed": false,
    "ExecuteTime": {
     "end_time": "2023-08-05T04:29:41.363054193Z",
     "start_time": "2023-08-05T04:29:41.310851449Z"
    }
   }
  },
  {
   "cell_type": "code",
   "execution_count": 32,
   "outputs": [],
   "source": [
    "for row in rv_dataframe.index:\n",
    "    rv_dataframe.loc[row, 'Number of Shares to Buy'] = math.floor(\n",
    "        position_size / final_dataframe.loc[row, 'Stock Price'])"
   ],
   "metadata": {
    "collapsed": false,
    "ExecuteTime": {
     "end_time": "2023-08-05T04:29:41.363313362Z",
     "start_time": "2023-08-05T04:29:41.357990245Z"
    }
   }
  },
  {
   "cell_type": "code",
   "execution_count": 33,
   "outputs": [
    {
     "data": {
      "text/plain": "   Ticker  Stock Price Number of Shares to Buy  Price-to-Earning Ratio  \\\n0     MHK       105.29                    1576              -48.298165   \n1       C        45.71                    1810                7.244057   \n2    PARA        15.63                    1449              -11.492647   \n3     EQT        41.80                    2545                4.644444   \n4       T        14.00                    4784              -11.965812   \n5     MOS        41.24                    4849                5.060123   \n6     WRK        33.89                    7254               -6.916327   \n7     STT        73.14                    2461                9.897158   \n8     VLO       126.89                    3771                3.613041   \n9    VTRS        10.59                    3937                6.745223   \n10    PSX       110.48                    5468                4.220015   \n11    TAP        65.31                    1926              -54.425000   \n12   CTRA        27.57                    1346                5.281609   \n13     BK        45.39                   12626               13.194767   \n14    JPM       156.02                    5820               10.026992   \n15    MRO        26.18                    7639                6.323671   \n16     VZ        32.62                     999                6.524000   \n17   STLD       103.79                    5274                6.009844   \n18    IVZ        16.65                    6131               12.242647   \n19    MPC       137.95                    4776                4.234193   \n20     IP        36.26                    3818                8.004415   \n21   FANG       148.57                   18885                6.154515   \n22     CF        81.24                    5711                5.408788   \n23    LEN       125.57                    2371                8.583049   \n24    WBD        13.97                    6400               -2.788423   \n25     GM        36.57                    1953                5.652241   \n26    UAL        52.37                    4375                6.671338   \n27    PFE        35.02                    3148                6.907298   \n28    PHM        84.35                    1861                7.017471   \n29    WDC        43.45                    9289              -20.115741   \n30    BWA        42.52                    6236               10.421569   \n31    NWL        10.91                    3295              -34.093750   \n32    NUE       167.76                    1192                7.713103   \n33    DXC        19.32                   16406               -7.853659   \n34    CVX       159.31                   16778                8.602052   \n35    AAP        71.01                    5515               10.551263   \n36    XOM       107.42                    1540                7.272850   \n37     MS        88.79                    7024               15.604569   \n38    DVN        50.80                    1429                5.539804   \n39    DHI       125.71                     854                8.947331   \n40    NRG        37.52                    1592               -4.797954   \n41    EOG       129.80                    1255                8.112500   \n42    OXY        63.52                    1763                7.259429   \n43     BG       114.71                    9704               11.268173   \n44    CZR        55.45                    1590              -60.934066   \n45    SJM       149.15                    6389             -175.470588   \n46    TSN        56.46                    1521               13.507177   \n47    UHS       134.36                    1758               14.293617   \n48    PXD       234.06                    1613                8.279448   \n49    COP       113.71                    1848                9.053344   \n\n   PE Percentile  Price-to-Book Value PB Percentile  Price-to-Sales Ratio  \\\n0       0.027833             0.817057      0.019881            -48.298167   \n1       0.133201             0.467034      0.005964              7.244057   \n2        0.05169             0.465664      0.003976            -12.380315   \n3       0.089463             1.259150      0.081511              4.644444   \n4       0.049702             0.982249      0.037773            -11.965812   \n5       0.091451             1.104505      0.055666              5.060123   \n6       0.063618             0.870291      0.025845             -6.916326   \n7       0.186879             1.059862      0.047714              9.897158   \n8       0.081511             1.733304      0.202783              3.613041   \n9        0.12326             0.606703      0.007952              6.745223   \n10      0.083499             1.675920      0.186879              4.220015   \n11      0.023857             1.083588       0.05169            -58.702753   \n12      0.093439             1.650799      0.184891              5.281609   \n13      0.242545             0.979330      0.035785             13.194767   \n14      0.188867             1.590288      0.168986             10.026993   \n15      0.111332             1.429898      0.119284              6.323672   \n16      0.117296             1.440622       0.12326              6.524000   \n17       0.10338             2.002508      0.264414              6.009844   \n18      0.220676             0.659955       0.00994             12.444363   \n19      0.085487             2.172749      0.298211              4.234193   \n20      0.151093             1.492857      0.141153              8.004415   \n21      0.105368             1.711892      0.198807              6.154516   \n22      0.095427             2.723889       0.38171              5.408788   \n23      0.161034             1.442786      0.125249              9.613158   \n24      0.075547             0.749022      0.015905             -2.788423   \n25      0.101392             0.714509      0.013917              5.652241   \n26      0.121272             2.229270      0.310139              6.671337   \n27      0.125249             1.957847      0.246521              6.907298   \n28      0.127237             1.911182      0.236581              7.017471   \n29       0.04175             1.285845      0.087475            -20.115742   \n30      0.192843             1.323662      0.097416             10.421568   \n31      0.031809             1.363239      0.105368            -34.093751   \n32      0.145129             2.103073       0.27833              7.713103   \n33      0.059642             1.126662      0.059642             -7.853658   \n34      0.163022             1.892560      0.232604              8.602051   \n35      0.194831             1.590619      0.170974             10.551264   \n36      0.137177             2.160412      0.294235              7.272850   \n37      0.312127             1.610703       0.17495             15.604569   \n38      0.099404             2.954691      0.423459              5.539804   \n39      0.168986             1.963298      0.248509              8.947331   \n40      0.073559             3.550677      0.483101             -4.797954   \n41      0.153082             2.878176      0.411531              8.112500   \n42      0.135189             2.742542      0.385686              7.259429   \n43      0.204771             1.535116      0.145129             11.268173   \n44      0.017893             2.622990      0.367793            -60.934068   \n45      0.011928             2.135718      0.292247           -175.470577   \n46      0.248509             1.034995      0.043738             16.818280   \n47       0.27833             1.546697      0.151093             15.940739   \n48      0.159046             2.480395      0.349901              8.279448   \n49       0.17495             2.712353      0.379722              9.053344   \n\n   PS Percentile     EV/EBITDA EV/EBITDA Percentile         EV/GP  \\\n0       0.027833  6.968839e+00             0.097416  3.262173e+00   \n1       0.133201 -3.942013e+11             0.001988 -3.942013e+11   \n2       0.049702  8.997549e+00             0.159046  2.466493e+00   \n3       0.089463  2.803803e+00             0.021869  2.305254e+00   \n4        0.05169  6.021491e+00             0.073559  3.708197e+00   \n5       0.091451  4.402008e+00             0.037773  2.900027e+00   \n6       0.065606  5.935178e+00             0.067594  4.325726e+00   \n7       0.186879 -3.485754e+10              0.00994 -3.485754e+10   \n8       0.081511  2.960741e+00             0.023857  3.111509e+00   \n9        0.12326  5.815300e+00             0.065606  4.793124e+00   \n10      0.083499  5.457135e+00             0.059642  3.450056e+00   \n11      0.021869  1.028500e+01             0.214712  5.504353e+00   \n12      0.093439  3.224545e+00             0.025845  3.747372e+00   \n13      0.242545 -7.133209e+10             0.005964 -7.133209e+10   \n14      0.188867 -2.667733e+11             0.003976 -2.667733e+11   \n15      0.111332  4.870047e+00             0.045726  5.041905e+00   \n16      0.117296  6.565009e+00             0.085487  4.047727e+00   \n17       0.10338  4.310465e+00             0.033797  3.027982e+00   \n18      0.224652  6.699115e+00             0.089463  1.900598e+00   \n19      0.085487  3.754642e+00             0.031809  3.386781e+00   \n20      0.151093  7.048361e+00              0.10338  3.010018e+00   \n21      0.105368  5.335843e+00             0.057654  5.014944e+00   \n22      0.095427  3.594653e+00             0.029821  2.707183e+00   \n23      0.184891  6.254638e+00             0.077535  3.516934e+00   \n24      0.075547  1.090589e+01             0.260437  5.852894e+00   \n25      0.101392  8.461493e+00             0.145129  6.878971e+00   \n26      0.121272  4.389080e+00             0.035785  3.184146e+00   \n27      0.125249  6.870511e+00             0.093439  3.241487e+00   \n28      0.127237  5.198928e+00             0.053678  3.975953e+00   \n29       0.04175 -7.177372e+01             0.011928  1.004147e+01   \n30      0.190855  5.696280e+00             0.063618  4.375537e+00   \n31      0.031809  1.371653e+01             0.423459  3.639672e+00   \n32      0.145129  4.919262e+00             0.047714  3.474548e+00   \n33      0.059642  1.517318e+01             0.491054  2.506624e+00   \n34      0.161034  5.980213e+00             0.071571  4.125734e+00   \n35      0.194831  9.267518e+00             0.176938  1.739365e+00   \n36      0.137177  5.329236e+00             0.055666  4.329853e+00   \n37      0.302187 -6.198038e+10             0.007952 -6.198038e+10   \n38      0.099404  4.409502e+00              0.04175  4.655557e+00   \n39      0.166998  7.040661e+00             0.101392  4.337365e+00   \n40      0.073559 -2.070507e+01             0.015905  5.084038e+00   \n41      0.153082  5.117902e+00              0.05169  3.137749e+00   \n42      0.135189  4.713239e+00             0.043738  4.355038e+00   \n43      0.204771  6.517760e+00             0.083499  5.919443e+00   \n44      0.019881  9.679125e+00             0.190855  6.650380e+00   \n45      0.011928  1.148927e+01             0.292247  6.607826e+00   \n46      0.337972  8.043470e+00             0.127237  4.267816e+00   \n47      0.316103  8.381898e+00             0.137177  1.218260e+00   \n48      0.159046  5.952849e+00             0.069583  5.608391e+00   \n49      0.172962  5.107674e+00             0.049702  4.877417e+00   \n\n   EV/GP Percentile  RV Score  \n0          0.071571  0.048907  \n1          0.001988  0.055268  \n2          0.037773  0.060437  \n3          0.029821  0.062425  \n4          0.109344  0.064414  \n5          0.047714  0.064811  \n6          0.131213  0.070775  \n7           0.00994   0.08827  \n8           0.06163  0.090258  \n9          0.157058  0.095427  \n10         0.091451  0.100994  \n11         0.194831  0.101392  \n12         0.111332  0.101789  \n13         0.005964  0.106561  \n14         0.003976  0.110934  \n15         0.172962  0.112127  \n16         0.117296  0.112127  \n17         0.057654  0.112525  \n18         0.019881  0.112922  \n19         0.077535  0.115706  \n20         0.055666  0.120477  \n21         0.168986  0.127237  \n22         0.043738  0.129225  \n23         0.097416  0.129225  \n24         0.220676  0.129622  \n25         0.290258  0.130417  \n26         0.065606  0.130815  \n27         0.067594   0.13161  \n28         0.115308  0.132008  \n29         0.489066  0.134394  \n30         0.141153  0.137177  \n31         0.105368  0.139563  \n32         0.093439  0.141948  \n33         0.039761  0.141948  \n34         0.119284  0.149503  \n35         0.017893  0.151093  \n36         0.133201  0.151491  \n37         0.007952  0.161034  \n38         0.151093  0.163022  \n39         0.135189  0.164215  \n40         0.176938  0.164612  \n41         0.063618    0.1666  \n42         0.137177  0.167396  \n43         0.222664  0.172167  \n44         0.276342  0.174553  \n45         0.274354  0.176541  \n46         0.125249  0.176541  \n47         0.011928  0.178926  \n48         0.198807  0.187276  \n49          0.16501  0.188469  ",
      "text/html": "<div>\n<style scoped>\n    .dataframe tbody tr th:only-of-type {\n        vertical-align: middle;\n    }\n\n    .dataframe tbody tr th {\n        vertical-align: top;\n    }\n\n    .dataframe thead th {\n        text-align: right;\n    }\n</style>\n<table border=\"1\" class=\"dataframe\">\n  <thead>\n    <tr style=\"text-align: right;\">\n      <th></th>\n      <th>Ticker</th>\n      <th>Stock Price</th>\n      <th>Number of Shares to Buy</th>\n      <th>Price-to-Earning Ratio</th>\n      <th>PE Percentile</th>\n      <th>Price-to-Book Value</th>\n      <th>PB Percentile</th>\n      <th>Price-to-Sales Ratio</th>\n      <th>PS Percentile</th>\n      <th>EV/EBITDA</th>\n      <th>EV/EBITDA Percentile</th>\n      <th>EV/GP</th>\n      <th>EV/GP Percentile</th>\n      <th>RV Score</th>\n    </tr>\n  </thead>\n  <tbody>\n    <tr>\n      <th>0</th>\n      <td>MHK</td>\n      <td>105.29</td>\n      <td>1576</td>\n      <td>-48.298165</td>\n      <td>0.027833</td>\n      <td>0.817057</td>\n      <td>0.019881</td>\n      <td>-48.298167</td>\n      <td>0.027833</td>\n      <td>6.968839e+00</td>\n      <td>0.097416</td>\n      <td>3.262173e+00</td>\n      <td>0.071571</td>\n      <td>0.048907</td>\n    </tr>\n    <tr>\n      <th>1</th>\n      <td>C</td>\n      <td>45.71</td>\n      <td>1810</td>\n      <td>7.244057</td>\n      <td>0.133201</td>\n      <td>0.467034</td>\n      <td>0.005964</td>\n      <td>7.244057</td>\n      <td>0.133201</td>\n      <td>-3.942013e+11</td>\n      <td>0.001988</td>\n      <td>-3.942013e+11</td>\n      <td>0.001988</td>\n      <td>0.055268</td>\n    </tr>\n    <tr>\n      <th>2</th>\n      <td>PARA</td>\n      <td>15.63</td>\n      <td>1449</td>\n      <td>-11.492647</td>\n      <td>0.05169</td>\n      <td>0.465664</td>\n      <td>0.003976</td>\n      <td>-12.380315</td>\n      <td>0.049702</td>\n      <td>8.997549e+00</td>\n      <td>0.159046</td>\n      <td>2.466493e+00</td>\n      <td>0.037773</td>\n      <td>0.060437</td>\n    </tr>\n    <tr>\n      <th>3</th>\n      <td>EQT</td>\n      <td>41.80</td>\n      <td>2545</td>\n      <td>4.644444</td>\n      <td>0.089463</td>\n      <td>1.259150</td>\n      <td>0.081511</td>\n      <td>4.644444</td>\n      <td>0.089463</td>\n      <td>2.803803e+00</td>\n      <td>0.021869</td>\n      <td>2.305254e+00</td>\n      <td>0.029821</td>\n      <td>0.062425</td>\n    </tr>\n    <tr>\n      <th>4</th>\n      <td>T</td>\n      <td>14.00</td>\n      <td>4784</td>\n      <td>-11.965812</td>\n      <td>0.049702</td>\n      <td>0.982249</td>\n      <td>0.037773</td>\n      <td>-11.965812</td>\n      <td>0.05169</td>\n      <td>6.021491e+00</td>\n      <td>0.073559</td>\n      <td>3.708197e+00</td>\n      <td>0.109344</td>\n      <td>0.064414</td>\n    </tr>\n    <tr>\n      <th>5</th>\n      <td>MOS</td>\n      <td>41.24</td>\n      <td>4849</td>\n      <td>5.060123</td>\n      <td>0.091451</td>\n      <td>1.104505</td>\n      <td>0.055666</td>\n      <td>5.060123</td>\n      <td>0.091451</td>\n      <td>4.402008e+00</td>\n      <td>0.037773</td>\n      <td>2.900027e+00</td>\n      <td>0.047714</td>\n      <td>0.064811</td>\n    </tr>\n    <tr>\n      <th>6</th>\n      <td>WRK</td>\n      <td>33.89</td>\n      <td>7254</td>\n      <td>-6.916327</td>\n      <td>0.063618</td>\n      <td>0.870291</td>\n      <td>0.025845</td>\n      <td>-6.916326</td>\n      <td>0.065606</td>\n      <td>5.935178e+00</td>\n      <td>0.067594</td>\n      <td>4.325726e+00</td>\n      <td>0.131213</td>\n      <td>0.070775</td>\n    </tr>\n    <tr>\n      <th>7</th>\n      <td>STT</td>\n      <td>73.14</td>\n      <td>2461</td>\n      <td>9.897158</td>\n      <td>0.186879</td>\n      <td>1.059862</td>\n      <td>0.047714</td>\n      <td>9.897158</td>\n      <td>0.186879</td>\n      <td>-3.485754e+10</td>\n      <td>0.00994</td>\n      <td>-3.485754e+10</td>\n      <td>0.00994</td>\n      <td>0.08827</td>\n    </tr>\n    <tr>\n      <th>8</th>\n      <td>VLO</td>\n      <td>126.89</td>\n      <td>3771</td>\n      <td>3.613041</td>\n      <td>0.081511</td>\n      <td>1.733304</td>\n      <td>0.202783</td>\n      <td>3.613041</td>\n      <td>0.081511</td>\n      <td>2.960741e+00</td>\n      <td>0.023857</td>\n      <td>3.111509e+00</td>\n      <td>0.06163</td>\n      <td>0.090258</td>\n    </tr>\n    <tr>\n      <th>9</th>\n      <td>VTRS</td>\n      <td>10.59</td>\n      <td>3937</td>\n      <td>6.745223</td>\n      <td>0.12326</td>\n      <td>0.606703</td>\n      <td>0.007952</td>\n      <td>6.745223</td>\n      <td>0.12326</td>\n      <td>5.815300e+00</td>\n      <td>0.065606</td>\n      <td>4.793124e+00</td>\n      <td>0.157058</td>\n      <td>0.095427</td>\n    </tr>\n    <tr>\n      <th>10</th>\n      <td>PSX</td>\n      <td>110.48</td>\n      <td>5468</td>\n      <td>4.220015</td>\n      <td>0.083499</td>\n      <td>1.675920</td>\n      <td>0.186879</td>\n      <td>4.220015</td>\n      <td>0.083499</td>\n      <td>5.457135e+00</td>\n      <td>0.059642</td>\n      <td>3.450056e+00</td>\n      <td>0.091451</td>\n      <td>0.100994</td>\n    </tr>\n    <tr>\n      <th>11</th>\n      <td>TAP</td>\n      <td>65.31</td>\n      <td>1926</td>\n      <td>-54.425000</td>\n      <td>0.023857</td>\n      <td>1.083588</td>\n      <td>0.05169</td>\n      <td>-58.702753</td>\n      <td>0.021869</td>\n      <td>1.028500e+01</td>\n      <td>0.214712</td>\n      <td>5.504353e+00</td>\n      <td>0.194831</td>\n      <td>0.101392</td>\n    </tr>\n    <tr>\n      <th>12</th>\n      <td>CTRA</td>\n      <td>27.57</td>\n      <td>1346</td>\n      <td>5.281609</td>\n      <td>0.093439</td>\n      <td>1.650799</td>\n      <td>0.184891</td>\n      <td>5.281609</td>\n      <td>0.093439</td>\n      <td>3.224545e+00</td>\n      <td>0.025845</td>\n      <td>3.747372e+00</td>\n      <td>0.111332</td>\n      <td>0.101789</td>\n    </tr>\n    <tr>\n      <th>13</th>\n      <td>BK</td>\n      <td>45.39</td>\n      <td>12626</td>\n      <td>13.194767</td>\n      <td>0.242545</td>\n      <td>0.979330</td>\n      <td>0.035785</td>\n      <td>13.194767</td>\n      <td>0.242545</td>\n      <td>-7.133209e+10</td>\n      <td>0.005964</td>\n      <td>-7.133209e+10</td>\n      <td>0.005964</td>\n      <td>0.106561</td>\n    </tr>\n    <tr>\n      <th>14</th>\n      <td>JPM</td>\n      <td>156.02</td>\n      <td>5820</td>\n      <td>10.026992</td>\n      <td>0.188867</td>\n      <td>1.590288</td>\n      <td>0.168986</td>\n      <td>10.026993</td>\n      <td>0.188867</td>\n      <td>-2.667733e+11</td>\n      <td>0.003976</td>\n      <td>-2.667733e+11</td>\n      <td>0.003976</td>\n      <td>0.110934</td>\n    </tr>\n    <tr>\n      <th>15</th>\n      <td>MRO</td>\n      <td>26.18</td>\n      <td>7639</td>\n      <td>6.323671</td>\n      <td>0.111332</td>\n      <td>1.429898</td>\n      <td>0.119284</td>\n      <td>6.323672</td>\n      <td>0.111332</td>\n      <td>4.870047e+00</td>\n      <td>0.045726</td>\n      <td>5.041905e+00</td>\n      <td>0.172962</td>\n      <td>0.112127</td>\n    </tr>\n    <tr>\n      <th>16</th>\n      <td>VZ</td>\n      <td>32.62</td>\n      <td>999</td>\n      <td>6.524000</td>\n      <td>0.117296</td>\n      <td>1.440622</td>\n      <td>0.12326</td>\n      <td>6.524000</td>\n      <td>0.117296</td>\n      <td>6.565009e+00</td>\n      <td>0.085487</td>\n      <td>4.047727e+00</td>\n      <td>0.117296</td>\n      <td>0.112127</td>\n    </tr>\n    <tr>\n      <th>17</th>\n      <td>STLD</td>\n      <td>103.79</td>\n      <td>5274</td>\n      <td>6.009844</td>\n      <td>0.10338</td>\n      <td>2.002508</td>\n      <td>0.264414</td>\n      <td>6.009844</td>\n      <td>0.10338</td>\n      <td>4.310465e+00</td>\n      <td>0.033797</td>\n      <td>3.027982e+00</td>\n      <td>0.057654</td>\n      <td>0.112525</td>\n    </tr>\n    <tr>\n      <th>18</th>\n      <td>IVZ</td>\n      <td>16.65</td>\n      <td>6131</td>\n      <td>12.242647</td>\n      <td>0.220676</td>\n      <td>0.659955</td>\n      <td>0.00994</td>\n      <td>12.444363</td>\n      <td>0.224652</td>\n      <td>6.699115e+00</td>\n      <td>0.089463</td>\n      <td>1.900598e+00</td>\n      <td>0.019881</td>\n      <td>0.112922</td>\n    </tr>\n    <tr>\n      <th>19</th>\n      <td>MPC</td>\n      <td>137.95</td>\n      <td>4776</td>\n      <td>4.234193</td>\n      <td>0.085487</td>\n      <td>2.172749</td>\n      <td>0.298211</td>\n      <td>4.234193</td>\n      <td>0.085487</td>\n      <td>3.754642e+00</td>\n      <td>0.031809</td>\n      <td>3.386781e+00</td>\n      <td>0.077535</td>\n      <td>0.115706</td>\n    </tr>\n    <tr>\n      <th>20</th>\n      <td>IP</td>\n      <td>36.26</td>\n      <td>3818</td>\n      <td>8.004415</td>\n      <td>0.151093</td>\n      <td>1.492857</td>\n      <td>0.141153</td>\n      <td>8.004415</td>\n      <td>0.151093</td>\n      <td>7.048361e+00</td>\n      <td>0.10338</td>\n      <td>3.010018e+00</td>\n      <td>0.055666</td>\n      <td>0.120477</td>\n    </tr>\n    <tr>\n      <th>21</th>\n      <td>FANG</td>\n      <td>148.57</td>\n      <td>18885</td>\n      <td>6.154515</td>\n      <td>0.105368</td>\n      <td>1.711892</td>\n      <td>0.198807</td>\n      <td>6.154516</td>\n      <td>0.105368</td>\n      <td>5.335843e+00</td>\n      <td>0.057654</td>\n      <td>5.014944e+00</td>\n      <td>0.168986</td>\n      <td>0.127237</td>\n    </tr>\n    <tr>\n      <th>22</th>\n      <td>CF</td>\n      <td>81.24</td>\n      <td>5711</td>\n      <td>5.408788</td>\n      <td>0.095427</td>\n      <td>2.723889</td>\n      <td>0.38171</td>\n      <td>5.408788</td>\n      <td>0.095427</td>\n      <td>3.594653e+00</td>\n      <td>0.029821</td>\n      <td>2.707183e+00</td>\n      <td>0.043738</td>\n      <td>0.129225</td>\n    </tr>\n    <tr>\n      <th>23</th>\n      <td>LEN</td>\n      <td>125.57</td>\n      <td>2371</td>\n      <td>8.583049</td>\n      <td>0.161034</td>\n      <td>1.442786</td>\n      <td>0.125249</td>\n      <td>9.613158</td>\n      <td>0.184891</td>\n      <td>6.254638e+00</td>\n      <td>0.077535</td>\n      <td>3.516934e+00</td>\n      <td>0.097416</td>\n      <td>0.129225</td>\n    </tr>\n    <tr>\n      <th>24</th>\n      <td>WBD</td>\n      <td>13.97</td>\n      <td>6400</td>\n      <td>-2.788423</td>\n      <td>0.075547</td>\n      <td>0.749022</td>\n      <td>0.015905</td>\n      <td>-2.788423</td>\n      <td>0.075547</td>\n      <td>1.090589e+01</td>\n      <td>0.260437</td>\n      <td>5.852894e+00</td>\n      <td>0.220676</td>\n      <td>0.129622</td>\n    </tr>\n    <tr>\n      <th>25</th>\n      <td>GM</td>\n      <td>36.57</td>\n      <td>1953</td>\n      <td>5.652241</td>\n      <td>0.101392</td>\n      <td>0.714509</td>\n      <td>0.013917</td>\n      <td>5.652241</td>\n      <td>0.101392</td>\n      <td>8.461493e+00</td>\n      <td>0.145129</td>\n      <td>6.878971e+00</td>\n      <td>0.290258</td>\n      <td>0.130417</td>\n    </tr>\n    <tr>\n      <th>26</th>\n      <td>UAL</td>\n      <td>52.37</td>\n      <td>4375</td>\n      <td>6.671338</td>\n      <td>0.121272</td>\n      <td>2.229270</td>\n      <td>0.310139</td>\n      <td>6.671337</td>\n      <td>0.121272</td>\n      <td>4.389080e+00</td>\n      <td>0.035785</td>\n      <td>3.184146e+00</td>\n      <td>0.065606</td>\n      <td>0.130815</td>\n    </tr>\n    <tr>\n      <th>27</th>\n      <td>PFE</td>\n      <td>35.02</td>\n      <td>3148</td>\n      <td>6.907298</td>\n      <td>0.125249</td>\n      <td>1.957847</td>\n      <td>0.246521</td>\n      <td>6.907298</td>\n      <td>0.125249</td>\n      <td>6.870511e+00</td>\n      <td>0.093439</td>\n      <td>3.241487e+00</td>\n      <td>0.067594</td>\n      <td>0.13161</td>\n    </tr>\n    <tr>\n      <th>28</th>\n      <td>PHM</td>\n      <td>84.35</td>\n      <td>1861</td>\n      <td>7.017471</td>\n      <td>0.127237</td>\n      <td>1.911182</td>\n      <td>0.236581</td>\n      <td>7.017471</td>\n      <td>0.127237</td>\n      <td>5.198928e+00</td>\n      <td>0.053678</td>\n      <td>3.975953e+00</td>\n      <td>0.115308</td>\n      <td>0.132008</td>\n    </tr>\n    <tr>\n      <th>29</th>\n      <td>WDC</td>\n      <td>43.45</td>\n      <td>9289</td>\n      <td>-20.115741</td>\n      <td>0.04175</td>\n      <td>1.285845</td>\n      <td>0.087475</td>\n      <td>-20.115742</td>\n      <td>0.04175</td>\n      <td>-7.177372e+01</td>\n      <td>0.011928</td>\n      <td>1.004147e+01</td>\n      <td>0.489066</td>\n      <td>0.134394</td>\n    </tr>\n    <tr>\n      <th>30</th>\n      <td>BWA</td>\n      <td>42.52</td>\n      <td>6236</td>\n      <td>10.421569</td>\n      <td>0.192843</td>\n      <td>1.323662</td>\n      <td>0.097416</td>\n      <td>10.421568</td>\n      <td>0.190855</td>\n      <td>5.696280e+00</td>\n      <td>0.063618</td>\n      <td>4.375537e+00</td>\n      <td>0.141153</td>\n      <td>0.137177</td>\n    </tr>\n    <tr>\n      <th>31</th>\n      <td>NWL</td>\n      <td>10.91</td>\n      <td>3295</td>\n      <td>-34.093750</td>\n      <td>0.031809</td>\n      <td>1.363239</td>\n      <td>0.105368</td>\n      <td>-34.093751</td>\n      <td>0.031809</td>\n      <td>1.371653e+01</td>\n      <td>0.423459</td>\n      <td>3.639672e+00</td>\n      <td>0.105368</td>\n      <td>0.139563</td>\n    </tr>\n    <tr>\n      <th>32</th>\n      <td>NUE</td>\n      <td>167.76</td>\n      <td>1192</td>\n      <td>7.713103</td>\n      <td>0.145129</td>\n      <td>2.103073</td>\n      <td>0.27833</td>\n      <td>7.713103</td>\n      <td>0.145129</td>\n      <td>4.919262e+00</td>\n      <td>0.047714</td>\n      <td>3.474548e+00</td>\n      <td>0.093439</td>\n      <td>0.141948</td>\n    </tr>\n    <tr>\n      <th>33</th>\n      <td>DXC</td>\n      <td>19.32</td>\n      <td>16406</td>\n      <td>-7.853659</td>\n      <td>0.059642</td>\n      <td>1.126662</td>\n      <td>0.059642</td>\n      <td>-7.853658</td>\n      <td>0.059642</td>\n      <td>1.517318e+01</td>\n      <td>0.491054</td>\n      <td>2.506624e+00</td>\n      <td>0.039761</td>\n      <td>0.141948</td>\n    </tr>\n    <tr>\n      <th>34</th>\n      <td>CVX</td>\n      <td>159.31</td>\n      <td>16778</td>\n      <td>8.602052</td>\n      <td>0.163022</td>\n      <td>1.892560</td>\n      <td>0.232604</td>\n      <td>8.602051</td>\n      <td>0.161034</td>\n      <td>5.980213e+00</td>\n      <td>0.071571</td>\n      <td>4.125734e+00</td>\n      <td>0.119284</td>\n      <td>0.149503</td>\n    </tr>\n    <tr>\n      <th>35</th>\n      <td>AAP</td>\n      <td>71.01</td>\n      <td>5515</td>\n      <td>10.551263</td>\n      <td>0.194831</td>\n      <td>1.590619</td>\n      <td>0.170974</td>\n      <td>10.551264</td>\n      <td>0.194831</td>\n      <td>9.267518e+00</td>\n      <td>0.176938</td>\n      <td>1.739365e+00</td>\n      <td>0.017893</td>\n      <td>0.151093</td>\n    </tr>\n    <tr>\n      <th>36</th>\n      <td>XOM</td>\n      <td>107.42</td>\n      <td>1540</td>\n      <td>7.272850</td>\n      <td>0.137177</td>\n      <td>2.160412</td>\n      <td>0.294235</td>\n      <td>7.272850</td>\n      <td>0.137177</td>\n      <td>5.329236e+00</td>\n      <td>0.055666</td>\n      <td>4.329853e+00</td>\n      <td>0.133201</td>\n      <td>0.151491</td>\n    </tr>\n    <tr>\n      <th>37</th>\n      <td>MS</td>\n      <td>88.79</td>\n      <td>7024</td>\n      <td>15.604569</td>\n      <td>0.312127</td>\n      <td>1.610703</td>\n      <td>0.17495</td>\n      <td>15.604569</td>\n      <td>0.302187</td>\n      <td>-6.198038e+10</td>\n      <td>0.007952</td>\n      <td>-6.198038e+10</td>\n      <td>0.007952</td>\n      <td>0.161034</td>\n    </tr>\n    <tr>\n      <th>38</th>\n      <td>DVN</td>\n      <td>50.80</td>\n      <td>1429</td>\n      <td>5.539804</td>\n      <td>0.099404</td>\n      <td>2.954691</td>\n      <td>0.423459</td>\n      <td>5.539804</td>\n      <td>0.099404</td>\n      <td>4.409502e+00</td>\n      <td>0.04175</td>\n      <td>4.655557e+00</td>\n      <td>0.151093</td>\n      <td>0.163022</td>\n    </tr>\n    <tr>\n      <th>39</th>\n      <td>DHI</td>\n      <td>125.71</td>\n      <td>854</td>\n      <td>8.947331</td>\n      <td>0.168986</td>\n      <td>1.963298</td>\n      <td>0.248509</td>\n      <td>8.947331</td>\n      <td>0.166998</td>\n      <td>7.040661e+00</td>\n      <td>0.101392</td>\n      <td>4.337365e+00</td>\n      <td>0.135189</td>\n      <td>0.164215</td>\n    </tr>\n    <tr>\n      <th>40</th>\n      <td>NRG</td>\n      <td>37.52</td>\n      <td>1592</td>\n      <td>-4.797954</td>\n      <td>0.073559</td>\n      <td>3.550677</td>\n      <td>0.483101</td>\n      <td>-4.797954</td>\n      <td>0.073559</td>\n      <td>-2.070507e+01</td>\n      <td>0.015905</td>\n      <td>5.084038e+00</td>\n      <td>0.176938</td>\n      <td>0.164612</td>\n    </tr>\n    <tr>\n      <th>41</th>\n      <td>EOG</td>\n      <td>129.80</td>\n      <td>1255</td>\n      <td>8.112500</td>\n      <td>0.153082</td>\n      <td>2.878176</td>\n      <td>0.411531</td>\n      <td>8.112500</td>\n      <td>0.153082</td>\n      <td>5.117902e+00</td>\n      <td>0.05169</td>\n      <td>3.137749e+00</td>\n      <td>0.063618</td>\n      <td>0.1666</td>\n    </tr>\n    <tr>\n      <th>42</th>\n      <td>OXY</td>\n      <td>63.52</td>\n      <td>1763</td>\n      <td>7.259429</td>\n      <td>0.135189</td>\n      <td>2.742542</td>\n      <td>0.385686</td>\n      <td>7.259429</td>\n      <td>0.135189</td>\n      <td>4.713239e+00</td>\n      <td>0.043738</td>\n      <td>4.355038e+00</td>\n      <td>0.137177</td>\n      <td>0.167396</td>\n    </tr>\n    <tr>\n      <th>43</th>\n      <td>BG</td>\n      <td>114.71</td>\n      <td>9704</td>\n      <td>11.268173</td>\n      <td>0.204771</td>\n      <td>1.535116</td>\n      <td>0.145129</td>\n      <td>11.268173</td>\n      <td>0.204771</td>\n      <td>6.517760e+00</td>\n      <td>0.083499</td>\n      <td>5.919443e+00</td>\n      <td>0.222664</td>\n      <td>0.172167</td>\n    </tr>\n    <tr>\n      <th>44</th>\n      <td>CZR</td>\n      <td>55.45</td>\n      <td>1590</td>\n      <td>-60.934066</td>\n      <td>0.017893</td>\n      <td>2.622990</td>\n      <td>0.367793</td>\n      <td>-60.934068</td>\n      <td>0.019881</td>\n      <td>9.679125e+00</td>\n      <td>0.190855</td>\n      <td>6.650380e+00</td>\n      <td>0.276342</td>\n      <td>0.174553</td>\n    </tr>\n    <tr>\n      <th>45</th>\n      <td>SJM</td>\n      <td>149.15</td>\n      <td>6389</td>\n      <td>-175.470588</td>\n      <td>0.011928</td>\n      <td>2.135718</td>\n      <td>0.292247</td>\n      <td>-175.470577</td>\n      <td>0.011928</td>\n      <td>1.148927e+01</td>\n      <td>0.292247</td>\n      <td>6.607826e+00</td>\n      <td>0.274354</td>\n      <td>0.176541</td>\n    </tr>\n    <tr>\n      <th>46</th>\n      <td>TSN</td>\n      <td>56.46</td>\n      <td>1521</td>\n      <td>13.507177</td>\n      <td>0.248509</td>\n      <td>1.034995</td>\n      <td>0.043738</td>\n      <td>16.818280</td>\n      <td>0.337972</td>\n      <td>8.043470e+00</td>\n      <td>0.127237</td>\n      <td>4.267816e+00</td>\n      <td>0.125249</td>\n      <td>0.176541</td>\n    </tr>\n    <tr>\n      <th>47</th>\n      <td>UHS</td>\n      <td>134.36</td>\n      <td>1758</td>\n      <td>14.293617</td>\n      <td>0.27833</td>\n      <td>1.546697</td>\n      <td>0.151093</td>\n      <td>15.940739</td>\n      <td>0.316103</td>\n      <td>8.381898e+00</td>\n      <td>0.137177</td>\n      <td>1.218260e+00</td>\n      <td>0.011928</td>\n      <td>0.178926</td>\n    </tr>\n    <tr>\n      <th>48</th>\n      <td>PXD</td>\n      <td>234.06</td>\n      <td>1613</td>\n      <td>8.279448</td>\n      <td>0.159046</td>\n      <td>2.480395</td>\n      <td>0.349901</td>\n      <td>8.279448</td>\n      <td>0.159046</td>\n      <td>5.952849e+00</td>\n      <td>0.069583</td>\n      <td>5.608391e+00</td>\n      <td>0.198807</td>\n      <td>0.187276</td>\n    </tr>\n    <tr>\n      <th>49</th>\n      <td>COP</td>\n      <td>113.71</td>\n      <td>1848</td>\n      <td>9.053344</td>\n      <td>0.17495</td>\n      <td>2.712353</td>\n      <td>0.379722</td>\n      <td>9.053344</td>\n      <td>0.172962</td>\n      <td>5.107674e+00</td>\n      <td>0.049702</td>\n      <td>4.877417e+00</td>\n      <td>0.16501</td>\n      <td>0.188469</td>\n    </tr>\n  </tbody>\n</table>\n</div>"
     },
     "execution_count": 33,
     "metadata": {},
     "output_type": "execute_result"
    }
   ],
   "source": [
    "rv_dataframe"
   ],
   "metadata": {
    "collapsed": false,
    "ExecuteTime": {
     "end_time": "2023-08-05T04:29:41.388218911Z",
     "start_time": "2023-08-05T04:29:41.358124242Z"
    }
   }
  },
  {
   "cell_type": "markdown",
   "source": [
    "## Formatting Our Excel Output\n",
    "\n",
    "We will be using the XlsxWriter library for Python to create nicely-formatted Excel files.\n",
    "\n",
    "### Initializing our XlsxWriter Object"
   ],
   "metadata": {
    "collapsed": false
   }
  },
  {
   "cell_type": "code",
   "execution_count": 34,
   "outputs": [],
   "source": [
    "writer = pd.ExcelWriter('value_strategy.xlsx', engine='xlsxwriter')\n",
    "rv_dataframe.to_excel(writer, sheet_name='Value Strategy', index=False)"
   ],
   "metadata": {
    "collapsed": false,
    "ExecuteTime": {
     "end_time": "2023-08-05T04:29:41.429021593Z",
     "start_time": "2023-08-05T04:29:41.358479865Z"
    }
   }
  },
  {
   "cell_type": "markdown",
   "source": [
    "## Formatting Our Excel Output"
   ],
   "metadata": {
    "collapsed": false
   }
  },
  {
   "cell_type": "code",
   "execution_count": 35,
   "outputs": [],
   "source": [
    "background_color = '#0a0a23'\n",
    "font_color = '#ffffff'\n",
    "\n",
    "string_template = writer.book.add_format(\n",
    "    {\n",
    "        'font_color': font_color,\n",
    "        'bg_color': background_color,\n",
    "        'border': 1\n",
    "    }\n",
    ")\n",
    "\n",
    "dollar_template = writer.book.add_format(\n",
    "    {\n",
    "        'num_format': '$0.00',\n",
    "        'font_color': font_color,\n",
    "        'bg_color': background_color,\n",
    "        'border': 1\n",
    "    }\n",
    ")\n",
    "\n",
    "integer_template = writer.book.add_format(\n",
    "    {\n",
    "        'num_format': '0',\n",
    "        'font_color': font_color,\n",
    "        'bg_color': background_color,\n",
    "        'border': 1\n",
    "    }\n",
    ")\n",
    "\n",
    "float_template = writer.book.add_format(\n",
    "    {\n",
    "        'num_format': '0.0',\n",
    "        'font_color': font_color,\n",
    "        'bg_color': background_color,\n",
    "        'border': 1\n",
    "    }\n",
    ")\n",
    "\n",
    "percent_template = writer.book.add_format(\n",
    "    {\n",
    "        'num_format': '0.0%',\n",
    "        'font_color': font_color,\n",
    "        'bg_color': background_color,\n",
    "        'border': 1\n",
    "    }\n",
    ")"
   ],
   "metadata": {
    "collapsed": false,
    "ExecuteTime": {
     "end_time": "2023-08-05T04:29:41.480251265Z",
     "start_time": "2023-08-05T04:29:41.379864218Z"
    }
   }
  },
  {
   "cell_type": "code",
   "execution_count": 36,
   "outputs": [],
   "source": [
    "column_formats = {\n",
    "    'A': ['Ticker', string_template],\n",
    "    'B': ['Stock Price', dollar_template],\n",
    "    'C': ['Number of Shares to Buy', integer_template],\n",
    "    'D': ['Price-to-Earning Ratio', float_template],\n",
    "    'E': ['PE Percentile', percent_template],\n",
    "    'F': ['Price-to-Book Value', float_template],\n",
    "    'G': ['PB Percentile', percent_template],\n",
    "    'H': ['Price-to-Sales Ratio', float_template],\n",
    "    'I': ['PS Percentile', percent_template],\n",
    "    'J': ['EV/EBITDA', float_template],\n",
    "    'K': ['EV/EBITDA Percentile', percent_template],\n",
    "    'L': ['EV/GP', float_template],\n",
    "    'M': ['EV/GP Percentile', percent_template],\n",
    "    'N': ['RV Score', percent_template]\n",
    "}\n",
    "\n",
    "for column in column_formats.keys():\n",
    "    writer.sheets['Value Strategy'].set_column(f'{column}:{column}', 20, column_formats[column][1])\n",
    "    writer.sheets['Value Strategy'].write(f'{column}1', column_formats[column][0], string_template)"
   ],
   "metadata": {
    "collapsed": false,
    "ExecuteTime": {
     "end_time": "2023-08-05T04:29:41.480541517Z",
     "start_time": "2023-08-05T04:29:41.426054780Z"
    }
   }
  },
  {
   "cell_type": "markdown",
   "source": [
    "## Saving Our Excel Output"
   ],
   "metadata": {
    "collapsed": false
   }
  },
  {
   "cell_type": "code",
   "execution_count": 37,
   "outputs": [],
   "source": [
    "writer.close()"
   ],
   "metadata": {
    "collapsed": false,
    "ExecuteTime": {
     "end_time": "2023-08-05T04:29:41.480682658Z",
     "start_time": "2023-08-05T04:29:41.426156690Z"
    }
   }
  }
 ],
 "metadata": {
  "kernelspec": {
   "display_name": "Python 3 (ipykernel)",
   "language": "python",
   "name": "python3"
  },
  "language_info": {
   "codemirror_mode": {
    "name": "ipython",
    "version": 3
   },
   "file_extension": ".py",
   "mimetype": "text/x-python",
   "name": "python",
   "nbconvert_exporter": "python",
   "pygments_lexer": "ipython3",
   "version": "3.10.12"
  }
 },
 "nbformat": 4,
 "nbformat_minor": 1
}
