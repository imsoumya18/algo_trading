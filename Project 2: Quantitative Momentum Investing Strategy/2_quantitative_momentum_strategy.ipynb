{
 "nbformat": 4,
 "nbformat_minor": 0,
 "metadata": {
  "colab": {
   "provenance": []
  },
  "kernelspec": {
   "name": "python3",
   "language": "python",
   "display_name": "Python 3 (ipykernel)"
  },
  "language_info": {
   "name": "python"
  }
 },
 "cells": [
  {
   "cell_type": "markdown",
   "source": [
    "# Quantitative Momentum Strategy\n",
    "\n",
    "\"Momentum investing\" means investing in the stocks that have increased in price the most.\n",
    "\n",
    "For this project, we're going to build an investing strategy that selects the 50 stocks with the highest price momentum. From there, we will calculate recommended trades for an equal-weight portfolio of these 50 stocks.\n",
    "\n",
    "\n",
    "## Library Imports\n",
    "\n",
    "The first thing we need to do is import the open-source software libraries that we'll be using in this tutorial."
   ],
   "metadata": {
    "collapsed": false
   }
  },
  {
   "cell_type": "code",
   "execution_count": 1,
   "metadata": {
    "id": "q3-WQbudpG4E",
    "ExecuteTime": {
     "end_time": "2023-08-05T04:11:39.319623909Z",
     "start_time": "2023-08-05T04:11:38.517956844Z"
    }
   },
   "outputs": [],
   "source": [
    "import numpy as np\n",
    "import yfinance as yf\n",
    "import pandas as pd\n",
    "import math\n",
    "from scipy.stats import percentileofscore as score\n",
    "from statistics import mean\n",
    "from IPython.display import clear_output"
   ]
  },
  {
   "cell_type": "markdown",
   "source": [
    "## Importing Our List of Stocks\n",
    "\n",
    "The next thing we need to do is import the constituents of the S&P 500.\n",
    "\n",
    "These constituents change over time, so in an ideal world you would connect directly to the index provider (Standard & Poor's) and pull their real-time constituents on a regular basis. But, here we have just taken a list of ~500 stocks in a CSV file taken at the time of building the project.\n",
    "\n",
    "Now it's time to import these stocks to our Jupyter Notebook file."
   ],
   "metadata": {
    "collapsed": false
   }
  },
  {
   "cell_type": "code",
   "source": [
    "stocks = pd.read_csv('sp500.csv')\n",
    "stocks"
   ],
   "metadata": {
    "colab": {
     "base_uri": "https://localhost:8080/",
     "height": 424
    },
    "id": "-iAHKs_6p0gP",
    "outputId": "64813494-bda2-4f98-8f17-06a27155dcbb",
    "ExecuteTime": {
     "end_time": "2023-08-05T04:11:39.339163006Z",
     "start_time": "2023-08-05T04:11:39.323540914Z"
    }
   },
   "execution_count": 2,
   "outputs": [
    {
     "data": {
      "text/plain": "    Ticker\n0        A\n1      AAL\n2      AAP\n3     AAPL\n4     ABBV\n..     ...\n498    YUM\n499    ZBH\n500   ZBRA\n501   ZION\n502    ZTS\n\n[503 rows x 1 columns]",
      "text/html": "<div>\n<style scoped>\n    .dataframe tbody tr th:only-of-type {\n        vertical-align: middle;\n    }\n\n    .dataframe tbody tr th {\n        vertical-align: top;\n    }\n\n    .dataframe thead th {\n        text-align: right;\n    }\n</style>\n<table border=\"1\" class=\"dataframe\">\n  <thead>\n    <tr style=\"text-align: right;\">\n      <th></th>\n      <th>Ticker</th>\n    </tr>\n  </thead>\n  <tbody>\n    <tr>\n      <th>0</th>\n      <td>A</td>\n    </tr>\n    <tr>\n      <th>1</th>\n      <td>AAL</td>\n    </tr>\n    <tr>\n      <th>2</th>\n      <td>AAP</td>\n    </tr>\n    <tr>\n      <th>3</th>\n      <td>AAPL</td>\n    </tr>\n    <tr>\n      <th>4</th>\n      <td>ABBV</td>\n    </tr>\n    <tr>\n      <th>...</th>\n      <td>...</td>\n    </tr>\n    <tr>\n      <th>498</th>\n      <td>YUM</td>\n    </tr>\n    <tr>\n      <th>499</th>\n      <td>ZBH</td>\n    </tr>\n    <tr>\n      <th>500</th>\n      <td>ZBRA</td>\n    </tr>\n    <tr>\n      <th>501</th>\n      <td>ZION</td>\n    </tr>\n    <tr>\n      <th>502</th>\n      <td>ZTS</td>\n    </tr>\n  </tbody>\n</table>\n<p>503 rows × 1 columns</p>\n</div>"
     },
     "execution_count": 2,
     "metadata": {},
     "output_type": "execute_result"
    }
   ]
  },
  {
   "cell_type": "markdown",
   "source": [
    "## Adding Our Stocks Data to a Pandas DataFrame\n",
    "\n",
    "The next thing we need to do is add our stock's price and market capitalization to a pandas DataFrame."
   ],
   "metadata": {
    "collapsed": false
   }
  },
  {
   "cell_type": "code",
   "source": [
    "my_columns = ['Ticker', 'Stock Price', '1 Year Return', 'Number of Shares to Buy']\n",
    "final_dataframe = pd.DataFrame(columns=my_columns)\n",
    "final_dataframe"
   ],
   "metadata": {
    "colab": {
     "base_uri": "https://localhost:8080/",
     "height": 49
    },
    "id": "dUUIKJDjqaiV",
    "outputId": "e9cba3d3-8459-438c-9722-39ed7c1eacb7",
    "ExecuteTime": {
     "end_time": "2023-08-05T04:11:39.364860309Z",
     "start_time": "2023-08-05T04:11:39.343686942Z"
    }
   },
   "execution_count": 3,
   "outputs": [
    {
     "data": {
      "text/plain": "Empty DataFrame\nColumns: [Ticker, Stock Price, 1 Year Return, Number of Shares to Buy]\nIndex: []",
      "text/html": "<div>\n<style scoped>\n    .dataframe tbody tr th:only-of-type {\n        vertical-align: middle;\n    }\n\n    .dataframe tbody tr th {\n        vertical-align: top;\n    }\n\n    .dataframe thead th {\n        text-align: right;\n    }\n</style>\n<table border=\"1\" class=\"dataframe\">\n  <thead>\n    <tr style=\"text-align: right;\">\n      <th></th>\n      <th>Ticker</th>\n      <th>Stock Price</th>\n      <th>1 Year Return</th>\n      <th>Number of Shares to Buy</th>\n    </tr>\n  </thead>\n  <tbody>\n  </tbody>\n</table>\n</div>"
     },
     "execution_count": 3,
     "metadata": {},
     "output_type": "execute_result"
    }
   ]
  },
  {
   "cell_type": "markdown",
   "source": [
    "## Looping Through The Tickers in Our List of Stocks\n",
    "\n",
    "Here to fetch the stock data, we have used `yfinance` API\n",
    "\n",
    "We can pull data for all S&P 500 stocks and store their data in the DataFrame using a `for` loop."
   ],
   "metadata": {
    "collapsed": false
   }
  },
  {
   "cell_type": "code",
   "source": [
    "for stock in stocks['Ticker']:\n",
    "    data = yf.Ticker(stock).info\n",
    "    try:\n",
    "        yr1Return = data['52WeekChange']\n",
    "    except:\n",
    "        yr1Return = np.NaN\n",
    "    stock_dict = {\n",
    "        'Ticker': [stock],\n",
    "        'Stock Price': [data['currentPrice']],\n",
    "        '1 Year Return': [yr1Return],\n",
    "        'Number of Shares to Buy': ['N/A']\n",
    "    }\n",
    "    df = pd.DataFrame(stock_dict)\n",
    "    final_dataframe = pd.concat([final_dataframe, df], ignore_index=True)\n",
    "\n",
    "    clear_output(wait=True)\n",
    "    print(final_dataframe)"
   ],
   "metadata": {
    "colab": {
     "base_uri": "https://localhost:8080/"
    },
    "id": "OQbNxdVvqd29",
    "outputId": "072e34fe-d425-4e2e-9dbb-7169bc59e824"
   },
   "execution_count": 4,
   "outputs": [
    {
     "name": "stdout",
     "output_type": "stream",
     "text": [
      "    Ticker  Stock Price  1 Year Return Number of Shares to Buy\n",
      "0        A       126.30      -0.046936                     N/A\n",
      "1      AAL        15.84       0.054594                     N/A\n",
      "2      AAP        71.01      -0.634515                     N/A\n",
      "3     AAPL       181.99       0.103839                     N/A\n",
      "4     ABBV       147.73       0.052658                     N/A\n",
      "..     ...          ...            ...                     ...\n",
      "498    YUM       134.35            NaN                     N/A\n",
      "499    ZBH       126.32            NaN                     N/A\n",
      "500   ZBRA       251.41            NaN                     N/A\n",
      "501   ZION        37.92            NaN                     N/A\n",
      "502    ZTS       178.63            NaN                     N/A\n",
      "\n",
      "[503 rows x 4 columns]\n"
     ]
    }
   ]
  },
  {
   "cell_type": "code",
   "source": [
    "final_dataframe"
   ],
   "metadata": {
    "colab": {
     "base_uri": "https://localhost:8080/",
     "height": 687
    },
    "id": "p0tO7FzXq3fy",
    "outputId": "c59b35a6-9e29-4764-9e31-398ae7bb094e",
    "ExecuteTime": {
     "end_time": "2023-08-05T04:18:35.295716622Z",
     "start_time": "2023-08-05T04:18:35.138430461Z"
    }
   },
   "execution_count": 5,
   "outputs": [
    {
     "data": {
      "text/plain": "    Ticker  Stock Price  1 Year Return Number of Shares to Buy\n0        A       126.30      -0.046936                     N/A\n1      AAL        15.84       0.054594                     N/A\n2      AAP        71.01      -0.634515                     N/A\n3     AAPL       181.99       0.103839                     N/A\n4     ABBV       147.73       0.052658                     N/A\n..     ...          ...            ...                     ...\n498    YUM       134.35            NaN                     N/A\n499    ZBH       126.32            NaN                     N/A\n500   ZBRA       251.41            NaN                     N/A\n501   ZION        37.92            NaN                     N/A\n502    ZTS       178.63            NaN                     N/A\n\n[503 rows x 4 columns]",
      "text/html": "<div>\n<style scoped>\n    .dataframe tbody tr th:only-of-type {\n        vertical-align: middle;\n    }\n\n    .dataframe tbody tr th {\n        vertical-align: top;\n    }\n\n    .dataframe thead th {\n        text-align: right;\n    }\n</style>\n<table border=\"1\" class=\"dataframe\">\n  <thead>\n    <tr style=\"text-align: right;\">\n      <th></th>\n      <th>Ticker</th>\n      <th>Stock Price</th>\n      <th>1 Year Return</th>\n      <th>Number of Shares to Buy</th>\n    </tr>\n  </thead>\n  <tbody>\n    <tr>\n      <th>0</th>\n      <td>A</td>\n      <td>126.30</td>\n      <td>-0.046936</td>\n      <td>N/A</td>\n    </tr>\n    <tr>\n      <th>1</th>\n      <td>AAL</td>\n      <td>15.84</td>\n      <td>0.054594</td>\n      <td>N/A</td>\n    </tr>\n    <tr>\n      <th>2</th>\n      <td>AAP</td>\n      <td>71.01</td>\n      <td>-0.634515</td>\n      <td>N/A</td>\n    </tr>\n    <tr>\n      <th>3</th>\n      <td>AAPL</td>\n      <td>181.99</td>\n      <td>0.103839</td>\n      <td>N/A</td>\n    </tr>\n    <tr>\n      <th>4</th>\n      <td>ABBV</td>\n      <td>147.73</td>\n      <td>0.052658</td>\n      <td>N/A</td>\n    </tr>\n    <tr>\n      <th>...</th>\n      <td>...</td>\n      <td>...</td>\n      <td>...</td>\n      <td>...</td>\n    </tr>\n    <tr>\n      <th>498</th>\n      <td>YUM</td>\n      <td>134.35</td>\n      <td>NaN</td>\n      <td>N/A</td>\n    </tr>\n    <tr>\n      <th>499</th>\n      <td>ZBH</td>\n      <td>126.32</td>\n      <td>NaN</td>\n      <td>N/A</td>\n    </tr>\n    <tr>\n      <th>500</th>\n      <td>ZBRA</td>\n      <td>251.41</td>\n      <td>NaN</td>\n      <td>N/A</td>\n    </tr>\n    <tr>\n      <th>501</th>\n      <td>ZION</td>\n      <td>37.92</td>\n      <td>NaN</td>\n      <td>N/A</td>\n    </tr>\n    <tr>\n      <th>502</th>\n      <td>ZTS</td>\n      <td>178.63</td>\n      <td>NaN</td>\n      <td>N/A</td>\n    </tr>\n  </tbody>\n</table>\n<p>503 rows × 4 columns</p>\n</div>"
     },
     "execution_count": 5,
     "metadata": {},
     "output_type": "execute_result"
    }
   ]
  },
  {
   "cell_type": "code",
   "execution_count": 6,
   "outputs": [
    {
     "data": {
      "text/plain": "    Ticker  Stock Price  1 Year Return Number of Shares to Buy\n80     CAT       276.44            NaN                     N/A\n353   ORCL       114.44            NaN                     N/A\n354   ORLY       925.93            NaN                     N/A\n355   OTIS        88.51            NaN                     N/A\n356    OXY        63.52            NaN                     N/A\n..     ...          ...            ...                     ...\n498    YUM       134.35            NaN                     N/A\n499    ZBH       126.32            NaN                     N/A\n500   ZBRA       251.41            NaN                     N/A\n501   ZION        37.92            NaN                     N/A\n502    ZTS       178.63            NaN                     N/A\n\n[151 rows x 4 columns]",
      "text/html": "<div>\n<style scoped>\n    .dataframe tbody tr th:only-of-type {\n        vertical-align: middle;\n    }\n\n    .dataframe tbody tr th {\n        vertical-align: top;\n    }\n\n    .dataframe thead th {\n        text-align: right;\n    }\n</style>\n<table border=\"1\" class=\"dataframe\">\n  <thead>\n    <tr style=\"text-align: right;\">\n      <th></th>\n      <th>Ticker</th>\n      <th>Stock Price</th>\n      <th>1 Year Return</th>\n      <th>Number of Shares to Buy</th>\n    </tr>\n  </thead>\n  <tbody>\n    <tr>\n      <th>80</th>\n      <td>CAT</td>\n      <td>276.44</td>\n      <td>NaN</td>\n      <td>N/A</td>\n    </tr>\n    <tr>\n      <th>353</th>\n      <td>ORCL</td>\n      <td>114.44</td>\n      <td>NaN</td>\n      <td>N/A</td>\n    </tr>\n    <tr>\n      <th>354</th>\n      <td>ORLY</td>\n      <td>925.93</td>\n      <td>NaN</td>\n      <td>N/A</td>\n    </tr>\n    <tr>\n      <th>355</th>\n      <td>OTIS</td>\n      <td>88.51</td>\n      <td>NaN</td>\n      <td>N/A</td>\n    </tr>\n    <tr>\n      <th>356</th>\n      <td>OXY</td>\n      <td>63.52</td>\n      <td>NaN</td>\n      <td>N/A</td>\n    </tr>\n    <tr>\n      <th>...</th>\n      <td>...</td>\n      <td>...</td>\n      <td>...</td>\n      <td>...</td>\n    </tr>\n    <tr>\n      <th>498</th>\n      <td>YUM</td>\n      <td>134.35</td>\n      <td>NaN</td>\n      <td>N/A</td>\n    </tr>\n    <tr>\n      <th>499</th>\n      <td>ZBH</td>\n      <td>126.32</td>\n      <td>NaN</td>\n      <td>N/A</td>\n    </tr>\n    <tr>\n      <th>500</th>\n      <td>ZBRA</td>\n      <td>251.41</td>\n      <td>NaN</td>\n      <td>N/A</td>\n    </tr>\n    <tr>\n      <th>501</th>\n      <td>ZION</td>\n      <td>37.92</td>\n      <td>NaN</td>\n      <td>N/A</td>\n    </tr>\n    <tr>\n      <th>502</th>\n      <td>ZTS</td>\n      <td>178.63</td>\n      <td>NaN</td>\n      <td>N/A</td>\n    </tr>\n  </tbody>\n</table>\n<p>151 rows × 4 columns</p>\n</div>"
     },
     "execution_count": 6,
     "metadata": {},
     "output_type": "execute_result"
    }
   ],
   "source": [
    "final_dataframe[final_dataframe.isnull().any(axis=1)]"
   ],
   "metadata": {
    "collapsed": false,
    "ExecuteTime": {
     "end_time": "2023-08-05T04:18:35.329131229Z",
     "start_time": "2023-08-05T04:18:35.145877961Z"
    }
   }
  },
  {
   "cell_type": "markdown",
   "source": [
    "Filling the `NULL` cells of the `1 Year Return` column with mean value"
   ],
   "metadata": {
    "collapsed": false
   }
  },
  {
   "cell_type": "code",
   "execution_count": 7,
   "outputs": [],
   "source": [
    "final_dataframe['1 Year Return'].fillna(final_dataframe['1 Year Return'].mean(), inplace=True)"
   ],
   "metadata": {
    "collapsed": false,
    "ExecuteTime": {
     "end_time": "2023-08-05T04:18:35.329325972Z",
     "start_time": "2023-08-05T04:18:35.186048768Z"
    }
   }
  },
  {
   "cell_type": "code",
   "execution_count": 8,
   "outputs": [
    {
     "data": {
      "text/plain": "Empty DataFrame\nColumns: [Ticker, Stock Price, 1 Year Return, Number of Shares to Buy]\nIndex: []",
      "text/html": "<div>\n<style scoped>\n    .dataframe tbody tr th:only-of-type {\n        vertical-align: middle;\n    }\n\n    .dataframe tbody tr th {\n        vertical-align: top;\n    }\n\n    .dataframe thead th {\n        text-align: right;\n    }\n</style>\n<table border=\"1\" class=\"dataframe\">\n  <thead>\n    <tr style=\"text-align: right;\">\n      <th></th>\n      <th>Ticker</th>\n      <th>Stock Price</th>\n      <th>1 Year Return</th>\n      <th>Number of Shares to Buy</th>\n    </tr>\n  </thead>\n  <tbody>\n  </tbody>\n</table>\n</div>"
     },
     "execution_count": 8,
     "metadata": {},
     "output_type": "execute_result"
    }
   ],
   "source": [
    "final_dataframe[final_dataframe.isnull().any(axis=1)]"
   ],
   "metadata": {
    "collapsed": false,
    "ExecuteTime": {
     "end_time": "2023-08-05T04:18:35.329621464Z",
     "start_time": "2023-08-05T04:18:35.186217028Z"
    }
   }
  },
  {
   "cell_type": "code",
   "execution_count": 9,
   "outputs": [
    {
     "data": {
      "text/plain": "    Ticker  Stock Price  1 Year Return Number of Shares to Buy\n0        A       126.30      -0.046936                     N/A\n1      AAL        15.84       0.054594                     N/A\n2      AAP        71.01      -0.634515                     N/A\n3     AAPL       181.99       0.103839                     N/A\n4     ABBV       147.73       0.052658                     N/A\n..     ...          ...            ...                     ...\n498    YUM       134.35       0.050348                     N/A\n499    ZBH       126.32       0.050348                     N/A\n500   ZBRA       251.41       0.050348                     N/A\n501   ZION        37.92       0.050348                     N/A\n502    ZTS       178.63       0.050348                     N/A\n\n[503 rows x 4 columns]",
      "text/html": "<div>\n<style scoped>\n    .dataframe tbody tr th:only-of-type {\n        vertical-align: middle;\n    }\n\n    .dataframe tbody tr th {\n        vertical-align: top;\n    }\n\n    .dataframe thead th {\n        text-align: right;\n    }\n</style>\n<table border=\"1\" class=\"dataframe\">\n  <thead>\n    <tr style=\"text-align: right;\">\n      <th></th>\n      <th>Ticker</th>\n      <th>Stock Price</th>\n      <th>1 Year Return</th>\n      <th>Number of Shares to Buy</th>\n    </tr>\n  </thead>\n  <tbody>\n    <tr>\n      <th>0</th>\n      <td>A</td>\n      <td>126.30</td>\n      <td>-0.046936</td>\n      <td>N/A</td>\n    </tr>\n    <tr>\n      <th>1</th>\n      <td>AAL</td>\n      <td>15.84</td>\n      <td>0.054594</td>\n      <td>N/A</td>\n    </tr>\n    <tr>\n      <th>2</th>\n      <td>AAP</td>\n      <td>71.01</td>\n      <td>-0.634515</td>\n      <td>N/A</td>\n    </tr>\n    <tr>\n      <th>3</th>\n      <td>AAPL</td>\n      <td>181.99</td>\n      <td>0.103839</td>\n      <td>N/A</td>\n    </tr>\n    <tr>\n      <th>4</th>\n      <td>ABBV</td>\n      <td>147.73</td>\n      <td>0.052658</td>\n      <td>N/A</td>\n    </tr>\n    <tr>\n      <th>...</th>\n      <td>...</td>\n      <td>...</td>\n      <td>...</td>\n      <td>...</td>\n    </tr>\n    <tr>\n      <th>498</th>\n      <td>YUM</td>\n      <td>134.35</td>\n      <td>0.050348</td>\n      <td>N/A</td>\n    </tr>\n    <tr>\n      <th>499</th>\n      <td>ZBH</td>\n      <td>126.32</td>\n      <td>0.050348</td>\n      <td>N/A</td>\n    </tr>\n    <tr>\n      <th>500</th>\n      <td>ZBRA</td>\n      <td>251.41</td>\n      <td>0.050348</td>\n      <td>N/A</td>\n    </tr>\n    <tr>\n      <th>501</th>\n      <td>ZION</td>\n      <td>37.92</td>\n      <td>0.050348</td>\n      <td>N/A</td>\n    </tr>\n    <tr>\n      <th>502</th>\n      <td>ZTS</td>\n      <td>178.63</td>\n      <td>0.050348</td>\n      <td>N/A</td>\n    </tr>\n  </tbody>\n</table>\n<p>503 rows × 4 columns</p>\n</div>"
     },
     "execution_count": 9,
     "metadata": {},
     "output_type": "execute_result"
    }
   ],
   "source": [
    "final_dataframe"
   ],
   "metadata": {
    "collapsed": false,
    "ExecuteTime": {
     "end_time": "2023-08-05T04:18:35.368762382Z",
     "start_time": "2023-08-05T04:18:35.229946995Z"
    }
   }
  },
  {
   "cell_type": "markdown",
   "source": [
    "## Removing Low-Momentum Stocks\n",
    "\n",
    "The investment strategy that we're building seeks to identify the 50 highest-momentum stocks in the S&P 500.\n",
    "\n",
    "Because of this, the next thing we need to do is remove all the stocks in our DataFrame that fall below this momentum threshold. We'll sort the DataFrame by the stocks' one-year price return, and drop all stocks outside the top 50."
   ],
   "metadata": {
    "collapsed": false
   }
  },
  {
   "cell_type": "code",
   "source": [
    "final_dataframe.sort_values('1 Year Return', ascending=False, inplace=True)"
   ],
   "metadata": {
    "id": "Q87eeDwMvIEy",
    "ExecuteTime": {
     "end_time": "2023-08-05T04:18:35.369041002Z",
     "start_time": "2023-08-05T04:18:35.230133356Z"
    }
   },
   "execution_count": 10,
   "outputs": []
  },
  {
   "cell_type": "code",
   "source": [
    "final_dataframe = final_dataframe[:50]\n",
    "final_dataframe.reset_index(drop=True, inplace=True)"
   ],
   "metadata": {
    "id": "0CG3ZGGHvOdY",
    "ExecuteTime": {
     "end_time": "2023-08-05T04:18:35.369228215Z",
     "start_time": "2023-08-05T04:18:35.230218377Z"
    }
   },
   "execution_count": 11,
   "outputs": []
  },
  {
   "cell_type": "code",
   "source": [
    "final_dataframe"
   ],
   "metadata": {
    "colab": {
     "base_uri": "https://localhost:8080/",
     "height": 687
    },
    "id": "M4TtGwp-vQir",
    "outputId": "709bb4b5-2397-4c2f-a357-5b542a2662ae",
    "ExecuteTime": {
     "end_time": "2023-08-05T04:18:35.412191369Z",
     "start_time": "2023-08-05T04:18:35.230294620Z"
    }
   },
   "execution_count": 12,
   "outputs": [
    {
     "data": {
      "text/plain": "   Ticker  Stock Price  1 Year Return Number of Shares to Buy\n0    NVDA       446.80       1.511100                     N/A\n1      GE       113.06       0.926441                     N/A\n2    NFLX       431.60       0.848473                     N/A\n3    META       310.73       0.825140                     N/A\n4    FSLR       194.38       0.821061                     N/A\n5    ACGL        76.72       0.737712                     N/A\n6    FICO       841.02       0.716928                     N/A\n7     CCL        17.16       0.714286                     N/A\n8     DHI       125.71       0.627103                     N/A\n9    AVGO       881.65       0.616135                     N/A\n10   BKNG      3063.16       0.566193                     N/A\n11    LVS        57.94       0.557946                     N/A\n12   AXON       180.86       0.556053                     N/A\n13    MPC       137.95       0.526164                     N/A\n14     ON       102.31       0.519305                     N/A\n15    LLY       449.49       0.485917                     N/A\n16    CAH        91.25       0.483981                     N/A\n17    HES       152.94       0.470718                     N/A\n18    BKR        35.52       0.463535                     N/A\n19    ETN       215.90       0.459474                     N/A\n20    LEN       125.57       0.448829                     N/A\n21    NVR      6320.97       0.445123                     N/A\n22   ANET       179.60       0.440141                     N/A\n23    HAL        39.55       0.412500                     N/A\n24     BA       231.36       0.394659                     N/A\n25    FCX        42.51       0.388308                     N/A\n26     EG       355.30       0.378200                     N/A\n27    CEG       103.94       0.369614                     N/A\n28   CPRT        88.35       0.369449                     N/A\n29    JPM       156.02       0.364408                     N/A\n30   CARR        57.08       0.360992                     N/A\n31   LRCX       690.46       0.355065                     N/A\n32   AMAT       145.66       0.350830                     N/A\n33     IR        66.91       0.338200                     N/A\n34   NCLH        17.95       0.326682                     N/A\n35   ODFL       407.11       0.326480                     N/A\n36    DAL        44.59       0.321185                     N/A\n37    ABC       185.33       0.317949                     N/A\n38   DXCM       120.33       0.316521                     N/A\n39    HWM        49.05       0.305911                     N/A\n40    MGM        44.99       0.304058                     N/A\n41    APA        41.87       0.299907                     N/A\n42     DD        77.03       0.298331                     N/A\n43    DRI       162.45       0.296075                     N/A\n44   ISRG       309.31       0.293481                     N/A\n45    MLM       455.85       0.290555                     N/A\n46    AFL        76.85       0.289862                     N/A\n47    MAR       202.98       0.282492                     N/A\n48   KLAC       496.47       0.280618                     N/A\n49   GILD        78.68       0.277273                     N/A",
      "text/html": "<div>\n<style scoped>\n    .dataframe tbody tr th:only-of-type {\n        vertical-align: middle;\n    }\n\n    .dataframe tbody tr th {\n        vertical-align: top;\n    }\n\n    .dataframe thead th {\n        text-align: right;\n    }\n</style>\n<table border=\"1\" class=\"dataframe\">\n  <thead>\n    <tr style=\"text-align: right;\">\n      <th></th>\n      <th>Ticker</th>\n      <th>Stock Price</th>\n      <th>1 Year Return</th>\n      <th>Number of Shares to Buy</th>\n    </tr>\n  </thead>\n  <tbody>\n    <tr>\n      <th>0</th>\n      <td>NVDA</td>\n      <td>446.80</td>\n      <td>1.511100</td>\n      <td>N/A</td>\n    </tr>\n    <tr>\n      <th>1</th>\n      <td>GE</td>\n      <td>113.06</td>\n      <td>0.926441</td>\n      <td>N/A</td>\n    </tr>\n    <tr>\n      <th>2</th>\n      <td>NFLX</td>\n      <td>431.60</td>\n      <td>0.848473</td>\n      <td>N/A</td>\n    </tr>\n    <tr>\n      <th>3</th>\n      <td>META</td>\n      <td>310.73</td>\n      <td>0.825140</td>\n      <td>N/A</td>\n    </tr>\n    <tr>\n      <th>4</th>\n      <td>FSLR</td>\n      <td>194.38</td>\n      <td>0.821061</td>\n      <td>N/A</td>\n    </tr>\n    <tr>\n      <th>5</th>\n      <td>ACGL</td>\n      <td>76.72</td>\n      <td>0.737712</td>\n      <td>N/A</td>\n    </tr>\n    <tr>\n      <th>6</th>\n      <td>FICO</td>\n      <td>841.02</td>\n      <td>0.716928</td>\n      <td>N/A</td>\n    </tr>\n    <tr>\n      <th>7</th>\n      <td>CCL</td>\n      <td>17.16</td>\n      <td>0.714286</td>\n      <td>N/A</td>\n    </tr>\n    <tr>\n      <th>8</th>\n      <td>DHI</td>\n      <td>125.71</td>\n      <td>0.627103</td>\n      <td>N/A</td>\n    </tr>\n    <tr>\n      <th>9</th>\n      <td>AVGO</td>\n      <td>881.65</td>\n      <td>0.616135</td>\n      <td>N/A</td>\n    </tr>\n    <tr>\n      <th>10</th>\n      <td>BKNG</td>\n      <td>3063.16</td>\n      <td>0.566193</td>\n      <td>N/A</td>\n    </tr>\n    <tr>\n      <th>11</th>\n      <td>LVS</td>\n      <td>57.94</td>\n      <td>0.557946</td>\n      <td>N/A</td>\n    </tr>\n    <tr>\n      <th>12</th>\n      <td>AXON</td>\n      <td>180.86</td>\n      <td>0.556053</td>\n      <td>N/A</td>\n    </tr>\n    <tr>\n      <th>13</th>\n      <td>MPC</td>\n      <td>137.95</td>\n      <td>0.526164</td>\n      <td>N/A</td>\n    </tr>\n    <tr>\n      <th>14</th>\n      <td>ON</td>\n      <td>102.31</td>\n      <td>0.519305</td>\n      <td>N/A</td>\n    </tr>\n    <tr>\n      <th>15</th>\n      <td>LLY</td>\n      <td>449.49</td>\n      <td>0.485917</td>\n      <td>N/A</td>\n    </tr>\n    <tr>\n      <th>16</th>\n      <td>CAH</td>\n      <td>91.25</td>\n      <td>0.483981</td>\n      <td>N/A</td>\n    </tr>\n    <tr>\n      <th>17</th>\n      <td>HES</td>\n      <td>152.94</td>\n      <td>0.470718</td>\n      <td>N/A</td>\n    </tr>\n    <tr>\n      <th>18</th>\n      <td>BKR</td>\n      <td>35.52</td>\n      <td>0.463535</td>\n      <td>N/A</td>\n    </tr>\n    <tr>\n      <th>19</th>\n      <td>ETN</td>\n      <td>215.90</td>\n      <td>0.459474</td>\n      <td>N/A</td>\n    </tr>\n    <tr>\n      <th>20</th>\n      <td>LEN</td>\n      <td>125.57</td>\n      <td>0.448829</td>\n      <td>N/A</td>\n    </tr>\n    <tr>\n      <th>21</th>\n      <td>NVR</td>\n      <td>6320.97</td>\n      <td>0.445123</td>\n      <td>N/A</td>\n    </tr>\n    <tr>\n      <th>22</th>\n      <td>ANET</td>\n      <td>179.60</td>\n      <td>0.440141</td>\n      <td>N/A</td>\n    </tr>\n    <tr>\n      <th>23</th>\n      <td>HAL</td>\n      <td>39.55</td>\n      <td>0.412500</td>\n      <td>N/A</td>\n    </tr>\n    <tr>\n      <th>24</th>\n      <td>BA</td>\n      <td>231.36</td>\n      <td>0.394659</td>\n      <td>N/A</td>\n    </tr>\n    <tr>\n      <th>25</th>\n      <td>FCX</td>\n      <td>42.51</td>\n      <td>0.388308</td>\n      <td>N/A</td>\n    </tr>\n    <tr>\n      <th>26</th>\n      <td>EG</td>\n      <td>355.30</td>\n      <td>0.378200</td>\n      <td>N/A</td>\n    </tr>\n    <tr>\n      <th>27</th>\n      <td>CEG</td>\n      <td>103.94</td>\n      <td>0.369614</td>\n      <td>N/A</td>\n    </tr>\n    <tr>\n      <th>28</th>\n      <td>CPRT</td>\n      <td>88.35</td>\n      <td>0.369449</td>\n      <td>N/A</td>\n    </tr>\n    <tr>\n      <th>29</th>\n      <td>JPM</td>\n      <td>156.02</td>\n      <td>0.364408</td>\n      <td>N/A</td>\n    </tr>\n    <tr>\n      <th>30</th>\n      <td>CARR</td>\n      <td>57.08</td>\n      <td>0.360992</td>\n      <td>N/A</td>\n    </tr>\n    <tr>\n      <th>31</th>\n      <td>LRCX</td>\n      <td>690.46</td>\n      <td>0.355065</td>\n      <td>N/A</td>\n    </tr>\n    <tr>\n      <th>32</th>\n      <td>AMAT</td>\n      <td>145.66</td>\n      <td>0.350830</td>\n      <td>N/A</td>\n    </tr>\n    <tr>\n      <th>33</th>\n      <td>IR</td>\n      <td>66.91</td>\n      <td>0.338200</td>\n      <td>N/A</td>\n    </tr>\n    <tr>\n      <th>34</th>\n      <td>NCLH</td>\n      <td>17.95</td>\n      <td>0.326682</td>\n      <td>N/A</td>\n    </tr>\n    <tr>\n      <th>35</th>\n      <td>ODFL</td>\n      <td>407.11</td>\n      <td>0.326480</td>\n      <td>N/A</td>\n    </tr>\n    <tr>\n      <th>36</th>\n      <td>DAL</td>\n      <td>44.59</td>\n      <td>0.321185</td>\n      <td>N/A</td>\n    </tr>\n    <tr>\n      <th>37</th>\n      <td>ABC</td>\n      <td>185.33</td>\n      <td>0.317949</td>\n      <td>N/A</td>\n    </tr>\n    <tr>\n      <th>38</th>\n      <td>DXCM</td>\n      <td>120.33</td>\n      <td>0.316521</td>\n      <td>N/A</td>\n    </tr>\n    <tr>\n      <th>39</th>\n      <td>HWM</td>\n      <td>49.05</td>\n      <td>0.305911</td>\n      <td>N/A</td>\n    </tr>\n    <tr>\n      <th>40</th>\n      <td>MGM</td>\n      <td>44.99</td>\n      <td>0.304058</td>\n      <td>N/A</td>\n    </tr>\n    <tr>\n      <th>41</th>\n      <td>APA</td>\n      <td>41.87</td>\n      <td>0.299907</td>\n      <td>N/A</td>\n    </tr>\n    <tr>\n      <th>42</th>\n      <td>DD</td>\n      <td>77.03</td>\n      <td>0.298331</td>\n      <td>N/A</td>\n    </tr>\n    <tr>\n      <th>43</th>\n      <td>DRI</td>\n      <td>162.45</td>\n      <td>0.296075</td>\n      <td>N/A</td>\n    </tr>\n    <tr>\n      <th>44</th>\n      <td>ISRG</td>\n      <td>309.31</td>\n      <td>0.293481</td>\n      <td>N/A</td>\n    </tr>\n    <tr>\n      <th>45</th>\n      <td>MLM</td>\n      <td>455.85</td>\n      <td>0.290555</td>\n      <td>N/A</td>\n    </tr>\n    <tr>\n      <th>46</th>\n      <td>AFL</td>\n      <td>76.85</td>\n      <td>0.289862</td>\n      <td>N/A</td>\n    </tr>\n    <tr>\n      <th>47</th>\n      <td>MAR</td>\n      <td>202.98</td>\n      <td>0.282492</td>\n      <td>N/A</td>\n    </tr>\n    <tr>\n      <th>48</th>\n      <td>KLAC</td>\n      <td>496.47</td>\n      <td>0.280618</td>\n      <td>N/A</td>\n    </tr>\n    <tr>\n      <th>49</th>\n      <td>GILD</td>\n      <td>78.68</td>\n      <td>0.277273</td>\n      <td>N/A</td>\n    </tr>\n  </tbody>\n</table>\n</div>"
     },
     "execution_count": 12,
     "metadata": {},
     "output_type": "execute_result"
    }
   ]
  },
  {
   "cell_type": "markdown",
   "source": [
    "## Calculating the Number of Shares to Buy\n",
    "\n",
    "As we can see in the DataFrame above, we stil haven't calculated the number of shares of each stock to buy."
   ],
   "metadata": {
    "collapsed": false
   }
  },
  {
   "cell_type": "code",
   "source": [
    "# portfolio_size = float(input(\"Enter your portfolio value: \"))\n",
    "portfolio_size = 10000000\n",
    "portfolio_size"
   ],
   "metadata": {
    "colab": {
     "base_uri": "https://localhost:8080/"
    },
    "id": "g1l9P_AEvSzg",
    "outputId": "7c518488-c4a0-4a69-b5fb-c560f1754ec8",
    "ExecuteTime": {
     "end_time": "2023-08-05T04:18:35.412766404Z",
     "start_time": "2023-08-05T04:18:35.278016179Z"
    }
   },
   "execution_count": 13,
   "outputs": [
    {
     "data": {
      "text/plain": "10000000"
     },
     "execution_count": 13,
     "metadata": {},
     "output_type": "execute_result"
    }
   ]
  },
  {
   "cell_type": "code",
   "source": [
    "position_size = float(portfolio_size) / len(final_dataframe.index)\n",
    "position_size"
   ],
   "metadata": {
    "colab": {
     "base_uri": "https://localhost:8080/"
    },
    "id": "2Kr2o8OyvbEP",
    "outputId": "941fbf39-82b9-4868-d6ff-effa56bc8f96",
    "ExecuteTime": {
     "end_time": "2023-08-05T04:18:35.413111327Z",
     "start_time": "2023-08-05T04:18:35.278196911Z"
    }
   },
   "execution_count": 14,
   "outputs": [
    {
     "data": {
      "text/plain": "200000.0"
     },
     "execution_count": 14,
     "metadata": {},
     "output_type": "execute_result"
    }
   ]
  },
  {
   "cell_type": "code",
   "source": [
    "for i in range(len(final_dataframe.index)):\n",
    "    final_dataframe.loc[i, 'Number of Shares to Buy'] = math.floor(\n",
    "        position_size / final_dataframe.loc[i, 'Stock Price'])\n",
    "\n",
    "final_dataframe"
   ],
   "metadata": {
    "colab": {
     "base_uri": "https://localhost:8080/",
     "height": 1000
    },
    "id": "24XzkU0EvdOb",
    "outputId": "5e87f3a8-c797-4117-dc33-28a2b40ce030",
    "ExecuteTime": {
     "end_time": "2023-08-05T04:18:35.413904569Z",
     "start_time": "2023-08-05T04:18:35.278299468Z"
    }
   },
   "execution_count": 15,
   "outputs": [
    {
     "data": {
      "text/plain": "   Ticker  Stock Price  1 Year Return Number of Shares to Buy\n0    NVDA       446.80       1.511100                     447\n1      GE       113.06       0.926441                    1768\n2    NFLX       431.60       0.848473                     463\n3    META       310.73       0.825140                     643\n4    FSLR       194.38       0.821061                    1028\n5    ACGL        76.72       0.737712                    2606\n6    FICO       841.02       0.716928                     237\n7     CCL        17.16       0.714286                   11655\n8     DHI       125.71       0.627103                    1590\n9    AVGO       881.65       0.616135                     226\n10   BKNG      3063.16       0.566193                      65\n11    LVS        57.94       0.557946                    3451\n12   AXON       180.86       0.556053                    1105\n13    MPC       137.95       0.526164                    1449\n14     ON       102.31       0.519305                    1954\n15    LLY       449.49       0.485917                     444\n16    CAH        91.25       0.483981                    2191\n17    HES       152.94       0.470718                    1307\n18    BKR        35.52       0.463535                    5630\n19    ETN       215.90       0.459474                     926\n20    LEN       125.57       0.448829                    1592\n21    NVR      6320.97       0.445123                      31\n22   ANET       179.60       0.440141                    1113\n23    HAL        39.55       0.412500                    5056\n24     BA       231.36       0.394659                     864\n25    FCX        42.51       0.388308                    4704\n26     EG       355.30       0.378200                     562\n27    CEG       103.94       0.369614                    1924\n28   CPRT        88.35       0.369449                    2263\n29    JPM       156.02       0.364408                    1281\n30   CARR        57.08       0.360992                    3503\n31   LRCX       690.46       0.355065                     289\n32   AMAT       145.66       0.350830                    1373\n33     IR        66.91       0.338200                    2989\n34   NCLH        17.95       0.326682                   11142\n35   ODFL       407.11       0.326480                     491\n36    DAL        44.59       0.321185                    4485\n37    ABC       185.33       0.317949                    1079\n38   DXCM       120.33       0.316521                    1662\n39    HWM        49.05       0.305911                    4077\n40    MGM        44.99       0.304058                    4445\n41    APA        41.87       0.299907                    4776\n42     DD        77.03       0.298331                    2596\n43    DRI       162.45       0.296075                    1231\n44   ISRG       309.31       0.293481                     646\n45    MLM       455.85       0.290555                     438\n46    AFL        76.85       0.289862                    2602\n47    MAR       202.98       0.282492                     985\n48   KLAC       496.47       0.280618                     402\n49   GILD        78.68       0.277273                    2541",
      "text/html": "<div>\n<style scoped>\n    .dataframe tbody tr th:only-of-type {\n        vertical-align: middle;\n    }\n\n    .dataframe tbody tr th {\n        vertical-align: top;\n    }\n\n    .dataframe thead th {\n        text-align: right;\n    }\n</style>\n<table border=\"1\" class=\"dataframe\">\n  <thead>\n    <tr style=\"text-align: right;\">\n      <th></th>\n      <th>Ticker</th>\n      <th>Stock Price</th>\n      <th>1 Year Return</th>\n      <th>Number of Shares to Buy</th>\n    </tr>\n  </thead>\n  <tbody>\n    <tr>\n      <th>0</th>\n      <td>NVDA</td>\n      <td>446.80</td>\n      <td>1.511100</td>\n      <td>447</td>\n    </tr>\n    <tr>\n      <th>1</th>\n      <td>GE</td>\n      <td>113.06</td>\n      <td>0.926441</td>\n      <td>1768</td>\n    </tr>\n    <tr>\n      <th>2</th>\n      <td>NFLX</td>\n      <td>431.60</td>\n      <td>0.848473</td>\n      <td>463</td>\n    </tr>\n    <tr>\n      <th>3</th>\n      <td>META</td>\n      <td>310.73</td>\n      <td>0.825140</td>\n      <td>643</td>\n    </tr>\n    <tr>\n      <th>4</th>\n      <td>FSLR</td>\n      <td>194.38</td>\n      <td>0.821061</td>\n      <td>1028</td>\n    </tr>\n    <tr>\n      <th>5</th>\n      <td>ACGL</td>\n      <td>76.72</td>\n      <td>0.737712</td>\n      <td>2606</td>\n    </tr>\n    <tr>\n      <th>6</th>\n      <td>FICO</td>\n      <td>841.02</td>\n      <td>0.716928</td>\n      <td>237</td>\n    </tr>\n    <tr>\n      <th>7</th>\n      <td>CCL</td>\n      <td>17.16</td>\n      <td>0.714286</td>\n      <td>11655</td>\n    </tr>\n    <tr>\n      <th>8</th>\n      <td>DHI</td>\n      <td>125.71</td>\n      <td>0.627103</td>\n      <td>1590</td>\n    </tr>\n    <tr>\n      <th>9</th>\n      <td>AVGO</td>\n      <td>881.65</td>\n      <td>0.616135</td>\n      <td>226</td>\n    </tr>\n    <tr>\n      <th>10</th>\n      <td>BKNG</td>\n      <td>3063.16</td>\n      <td>0.566193</td>\n      <td>65</td>\n    </tr>\n    <tr>\n      <th>11</th>\n      <td>LVS</td>\n      <td>57.94</td>\n      <td>0.557946</td>\n      <td>3451</td>\n    </tr>\n    <tr>\n      <th>12</th>\n      <td>AXON</td>\n      <td>180.86</td>\n      <td>0.556053</td>\n      <td>1105</td>\n    </tr>\n    <tr>\n      <th>13</th>\n      <td>MPC</td>\n      <td>137.95</td>\n      <td>0.526164</td>\n      <td>1449</td>\n    </tr>\n    <tr>\n      <th>14</th>\n      <td>ON</td>\n      <td>102.31</td>\n      <td>0.519305</td>\n      <td>1954</td>\n    </tr>\n    <tr>\n      <th>15</th>\n      <td>LLY</td>\n      <td>449.49</td>\n      <td>0.485917</td>\n      <td>444</td>\n    </tr>\n    <tr>\n      <th>16</th>\n      <td>CAH</td>\n      <td>91.25</td>\n      <td>0.483981</td>\n      <td>2191</td>\n    </tr>\n    <tr>\n      <th>17</th>\n      <td>HES</td>\n      <td>152.94</td>\n      <td>0.470718</td>\n      <td>1307</td>\n    </tr>\n    <tr>\n      <th>18</th>\n      <td>BKR</td>\n      <td>35.52</td>\n      <td>0.463535</td>\n      <td>5630</td>\n    </tr>\n    <tr>\n      <th>19</th>\n      <td>ETN</td>\n      <td>215.90</td>\n      <td>0.459474</td>\n      <td>926</td>\n    </tr>\n    <tr>\n      <th>20</th>\n      <td>LEN</td>\n      <td>125.57</td>\n      <td>0.448829</td>\n      <td>1592</td>\n    </tr>\n    <tr>\n      <th>21</th>\n      <td>NVR</td>\n      <td>6320.97</td>\n      <td>0.445123</td>\n      <td>31</td>\n    </tr>\n    <tr>\n      <th>22</th>\n      <td>ANET</td>\n      <td>179.60</td>\n      <td>0.440141</td>\n      <td>1113</td>\n    </tr>\n    <tr>\n      <th>23</th>\n      <td>HAL</td>\n      <td>39.55</td>\n      <td>0.412500</td>\n      <td>5056</td>\n    </tr>\n    <tr>\n      <th>24</th>\n      <td>BA</td>\n      <td>231.36</td>\n      <td>0.394659</td>\n      <td>864</td>\n    </tr>\n    <tr>\n      <th>25</th>\n      <td>FCX</td>\n      <td>42.51</td>\n      <td>0.388308</td>\n      <td>4704</td>\n    </tr>\n    <tr>\n      <th>26</th>\n      <td>EG</td>\n      <td>355.30</td>\n      <td>0.378200</td>\n      <td>562</td>\n    </tr>\n    <tr>\n      <th>27</th>\n      <td>CEG</td>\n      <td>103.94</td>\n      <td>0.369614</td>\n      <td>1924</td>\n    </tr>\n    <tr>\n      <th>28</th>\n      <td>CPRT</td>\n      <td>88.35</td>\n      <td>0.369449</td>\n      <td>2263</td>\n    </tr>\n    <tr>\n      <th>29</th>\n      <td>JPM</td>\n      <td>156.02</td>\n      <td>0.364408</td>\n      <td>1281</td>\n    </tr>\n    <tr>\n      <th>30</th>\n      <td>CARR</td>\n      <td>57.08</td>\n      <td>0.360992</td>\n      <td>3503</td>\n    </tr>\n    <tr>\n      <th>31</th>\n      <td>LRCX</td>\n      <td>690.46</td>\n      <td>0.355065</td>\n      <td>289</td>\n    </tr>\n    <tr>\n      <th>32</th>\n      <td>AMAT</td>\n      <td>145.66</td>\n      <td>0.350830</td>\n      <td>1373</td>\n    </tr>\n    <tr>\n      <th>33</th>\n      <td>IR</td>\n      <td>66.91</td>\n      <td>0.338200</td>\n      <td>2989</td>\n    </tr>\n    <tr>\n      <th>34</th>\n      <td>NCLH</td>\n      <td>17.95</td>\n      <td>0.326682</td>\n      <td>11142</td>\n    </tr>\n    <tr>\n      <th>35</th>\n      <td>ODFL</td>\n      <td>407.11</td>\n      <td>0.326480</td>\n      <td>491</td>\n    </tr>\n    <tr>\n      <th>36</th>\n      <td>DAL</td>\n      <td>44.59</td>\n      <td>0.321185</td>\n      <td>4485</td>\n    </tr>\n    <tr>\n      <th>37</th>\n      <td>ABC</td>\n      <td>185.33</td>\n      <td>0.317949</td>\n      <td>1079</td>\n    </tr>\n    <tr>\n      <th>38</th>\n      <td>DXCM</td>\n      <td>120.33</td>\n      <td>0.316521</td>\n      <td>1662</td>\n    </tr>\n    <tr>\n      <th>39</th>\n      <td>HWM</td>\n      <td>49.05</td>\n      <td>0.305911</td>\n      <td>4077</td>\n    </tr>\n    <tr>\n      <th>40</th>\n      <td>MGM</td>\n      <td>44.99</td>\n      <td>0.304058</td>\n      <td>4445</td>\n    </tr>\n    <tr>\n      <th>41</th>\n      <td>APA</td>\n      <td>41.87</td>\n      <td>0.299907</td>\n      <td>4776</td>\n    </tr>\n    <tr>\n      <th>42</th>\n      <td>DD</td>\n      <td>77.03</td>\n      <td>0.298331</td>\n      <td>2596</td>\n    </tr>\n    <tr>\n      <th>43</th>\n      <td>DRI</td>\n      <td>162.45</td>\n      <td>0.296075</td>\n      <td>1231</td>\n    </tr>\n    <tr>\n      <th>44</th>\n      <td>ISRG</td>\n      <td>309.31</td>\n      <td>0.293481</td>\n      <td>646</td>\n    </tr>\n    <tr>\n      <th>45</th>\n      <td>MLM</td>\n      <td>455.85</td>\n      <td>0.290555</td>\n      <td>438</td>\n    </tr>\n    <tr>\n      <th>46</th>\n      <td>AFL</td>\n      <td>76.85</td>\n      <td>0.289862</td>\n      <td>2602</td>\n    </tr>\n    <tr>\n      <th>47</th>\n      <td>MAR</td>\n      <td>202.98</td>\n      <td>0.282492</td>\n      <td>985</td>\n    </tr>\n    <tr>\n      <th>48</th>\n      <td>KLAC</td>\n      <td>496.47</td>\n      <td>0.280618</td>\n      <td>402</td>\n    </tr>\n    <tr>\n      <th>49</th>\n      <td>GILD</td>\n      <td>78.68</td>\n      <td>0.277273</td>\n      <td>2541</td>\n    </tr>\n  </tbody>\n</table>\n</div>"
     },
     "execution_count": 15,
     "metadata": {},
     "output_type": "execute_result"
    }
   ]
  },
  {
   "cell_type": "markdown",
   "source": [
    "## Building a Better (and More Realistic) Momentum Strategy\n",
    "\n",
    "Real-world quantitative investment firms differentiate between \"high quality\" and \"low quality\" momentum stocks:\n",
    "\n",
    "* High-quality momentum stocks show \"slow and steady\" outperformance over long periods of time\n",
    "* Low-quality momentum stocks might not show any momentum for a long time, and then surge upwards.\n",
    "\n",
    "The reason why high-quality momentum stocks are preferred is that low-quality momentum can often be caused by short-term news that is unlikely to be repeated in the future (such as an FDA approval for a biotechnology company).\n",
    "\n",
    "To identify high-quality momentum, we're going to build a strategy that selects stocks from the highest percentiles of: \n",
    "\n",
    "* 1-month price returns\n",
    "* 3-month price returns\n",
    "* 6-month price returns\n",
    "* 1-year price returns\n",
    "\n",
    "Here `hqm` stands for `high-quality momentum`."
   ],
   "metadata": {
    "collapsed": false
   }
  },
  {
   "cell_type": "code",
   "execution_count": 16,
   "outputs": [
    {
     "data": {
      "text/plain": "Empty DataFrame\nColumns: [Ticker, Stock Price, Number of Shares to Buy, 1 Year Return, 1 Year Return Percentile, 6 Months Return, 6 Months Return Percentile, 3 Months Return, 3 Months Return Percentile, 1 Month Return, 1 Month Return Percentile, HQM Score]\nIndex: []",
      "text/html": "<div>\n<style scoped>\n    .dataframe tbody tr th:only-of-type {\n        vertical-align: middle;\n    }\n\n    .dataframe tbody tr th {\n        vertical-align: top;\n    }\n\n    .dataframe thead th {\n        text-align: right;\n    }\n</style>\n<table border=\"1\" class=\"dataframe\">\n  <thead>\n    <tr style=\"text-align: right;\">\n      <th></th>\n      <th>Ticker</th>\n      <th>Stock Price</th>\n      <th>Number of Shares to Buy</th>\n      <th>1 Year Return</th>\n      <th>1 Year Return Percentile</th>\n      <th>6 Months Return</th>\n      <th>6 Months Return Percentile</th>\n      <th>3 Months Return</th>\n      <th>3 Months Return Percentile</th>\n      <th>1 Month Return</th>\n      <th>1 Month Return Percentile</th>\n      <th>HQM Score</th>\n    </tr>\n  </thead>\n  <tbody>\n  </tbody>\n</table>\n</div>"
     },
     "execution_count": 16,
     "metadata": {},
     "output_type": "execute_result"
    }
   ],
   "source": [
    "hqm_columns = [\n",
    "    'Ticker',\n",
    "    'Stock Price',\n",
    "    'Number of Shares to Buy',\n",
    "    '1 Year Return',\n",
    "    '1 Year Return Percentile',\n",
    "    '6 Months Return',\n",
    "    '6 Months Return Percentile',\n",
    "    '3 Months Return',\n",
    "    '3 Months Return Percentile',\n",
    "    '1 Month Return',\n",
    "    '1 Month Return Percentile',\n",
    "    'HQM Score'\n",
    "]\n",
    "\n",
    "hqm_dataframe = pd.DataFrame(columns=hqm_columns)\n",
    "hqm_dataframe"
   ],
   "metadata": {
    "collapsed": false,
    "ExecuteTime": {
     "end_time": "2023-08-05T04:18:35.466106960Z",
     "start_time": "2023-08-05T04:18:35.279444982Z"
    }
   }
  },
  {
   "cell_type": "code",
   "source": [
    "for stock in stocks['Ticker']:\n",
    "    data = yf.Ticker(stock).info\n",
    "    try:\n",
    "        yr1Return = data['52WeekChange']\n",
    "    except:\n",
    "        yr1Return = np.NaN\n",
    "    try:\n",
    "        hist = yf.Ticker(stock).history(period='6mo')\n",
    "        mnth6Return = ((hist['Close'][-1] - hist['Close'][0]) / hist['Close'][0]) * 100\n",
    "    except:\n",
    "        mnth6Return = np.NaN\n",
    "    try:\n",
    "        hist = yf.Ticker(stock).history(period='3mo')\n",
    "        mnth3Return = ((hist['Close'][-1] - hist['Close'][0]) / hist['Close'][0]) * 100\n",
    "    except:\n",
    "        mnth3Return = np.NaN\n",
    "    try:\n",
    "        hist = yf.Ticker(stock).history(period='1mo')\n",
    "        mnth1Return = ((hist['Close'][-1] - hist['Close'][0]) / hist['Close'][0]) * 100\n",
    "    except:\n",
    "        mnth1Return = np.NaN\n",
    "    \n",
    "    stock_dict = {\n",
    "        'Ticker': [stock],\n",
    "        'Stock Price': [data['currentPrice']],\n",
    "        'Number of Shares to Buy': ['N/A'],\n",
    "        '1 Year Return': [yr1Return],\n",
    "        '1 Year Return Percentile': ['N/A'],\n",
    "        '6 Months Return': [mnth6Return],\n",
    "        '6 Months Return Percentile': ['N/A'],\n",
    "        '3 Months Return': [mnth3Return],\n",
    "        '3 Months Return Percentile': ['N/A'],\n",
    "        '1 Month Return': [mnth1Return],\n",
    "        '1 Month Return Percentile': ['N/A'],\n",
    "        'HQM Score': ['N/A']\n",
    "    }\n",
    "    df = pd.DataFrame(stock_dict)\n",
    "    hqm_dataframe = pd.concat([hqm_dataframe, df], ignore_index=True)\n",
    "\n",
    "    clear_output(wait=True)\n",
    "    print(hqm_dataframe['Ticker'])"
   ],
   "metadata": {
    "colab": {
     "base_uri": "https://localhost:8080/"
    },
    "id": "K2rDM_RBvfyH",
    "outputId": "a3da2022-a797-4fcc-87d5-51e9b0b0afd2"
   },
   "execution_count": 17,
   "outputs": [
    {
     "name": "stdout",
     "output_type": "stream",
     "text": [
      "0         A\n",
      "1       AAL\n",
      "2       AAP\n",
      "3      AAPL\n",
      "4      ABBV\n",
      "       ... \n",
      "498     YUM\n",
      "499     ZBH\n",
      "500    ZBRA\n",
      "501    ZION\n",
      "502     ZTS\n",
      "Name: Ticker, Length: 503, dtype: object\n"
     ]
    }
   ]
  },
  {
   "cell_type": "code",
   "source": [
    "hqm_dataframe"
   ],
   "metadata": {
    "colab": {
     "base_uri": "https://localhost:8080/",
     "height": 485
    },
    "id": "D-YxN7Xtv7sP",
    "outputId": "e73982ca-27a2-499b-a8b7-f3b6f76c299d",
    "ExecuteTime": {
     "end_time": "2023-08-05T04:38:16.109146461Z",
     "start_time": "2023-08-05T04:38:16.103809691Z"
    }
   },
   "execution_count": 18,
   "outputs": [
    {
     "data": {
      "text/plain": "    Ticker  Stock Price Number of Shares to Buy  1 Year Return  \\\n0        A       126.30                     N/A            NaN   \n1      AAL        15.84                     N/A            NaN   \n2      AAP        71.01                     N/A            NaN   \n3     AAPL       181.99                     N/A            NaN   \n4     ABBV       147.73                     N/A            NaN   \n..     ...          ...                     ...            ...   \n498    YUM       134.35                     N/A            NaN   \n499    ZBH       126.32                     N/A            NaN   \n500   ZBRA       251.41                     N/A            NaN   \n501   ZION        37.92                     N/A            NaN   \n502    ZTS       178.63                     N/A            NaN   \n\n    1 Year Return Percentile  6 Months Return 6 Months Return Percentile  \\\n0                        N/A       -17.038887                        N/A   \n1                        N/A        -6.382978                        N/A   \n2                        N/A       -53.181247                        N/A   \n3                        N/A        19.943327                        N/A   \n4                        N/A         1.868702                        N/A   \n..                       ...              ...                        ...   \n498                      N/A         4.098875                        N/A   \n499                      N/A        -1.711799                        N/A   \n500                      N/A       -22.571606                        N/A   \n501                      N/A       -29.907580                        N/A   \n502                      N/A         8.306562                        N/A   \n\n     3 Months Return 3 Months Return Percentile  1 Month Return  \\\n0          -4.643257                        N/A        6.645278   \n1          10.306410                        N/A      -11.409391   \n2         -43.530813                        N/A        1.500862   \n3           4.893375                        N/A       -5.119646   \n4           0.189894                        N/A        7.635698   \n..               ...                        ...             ...   \n498        -1.596713                        N/A        0.336081   \n499        -8.090805                        N/A      -10.538242   \n500        -9.519176                        N/A      -13.646359   \n501        56.306669                        N/A       36.501070   \n502        -3.375340                        N/A        6.030749   \n\n    1 Month Return Percentile HQM Score  \n0                         N/A       N/A  \n1                         N/A       N/A  \n2                         N/A       N/A  \n3                         N/A       N/A  \n4                         N/A       N/A  \n..                        ...       ...  \n498                       N/A       N/A  \n499                       N/A       N/A  \n500                       N/A       N/A  \n501                       N/A       N/A  \n502                       N/A       N/A  \n\n[503 rows x 12 columns]",
      "text/html": "<div>\n<style scoped>\n    .dataframe tbody tr th:only-of-type {\n        vertical-align: middle;\n    }\n\n    .dataframe tbody tr th {\n        vertical-align: top;\n    }\n\n    .dataframe thead th {\n        text-align: right;\n    }\n</style>\n<table border=\"1\" class=\"dataframe\">\n  <thead>\n    <tr style=\"text-align: right;\">\n      <th></th>\n      <th>Ticker</th>\n      <th>Stock Price</th>\n      <th>Number of Shares to Buy</th>\n      <th>1 Year Return</th>\n      <th>1 Year Return Percentile</th>\n      <th>6 Months Return</th>\n      <th>6 Months Return Percentile</th>\n      <th>3 Months Return</th>\n      <th>3 Months Return Percentile</th>\n      <th>1 Month Return</th>\n      <th>1 Month Return Percentile</th>\n      <th>HQM Score</th>\n    </tr>\n  </thead>\n  <tbody>\n    <tr>\n      <th>0</th>\n      <td>A</td>\n      <td>126.30</td>\n      <td>N/A</td>\n      <td>NaN</td>\n      <td>N/A</td>\n      <td>-17.038887</td>\n      <td>N/A</td>\n      <td>-4.643257</td>\n      <td>N/A</td>\n      <td>6.645278</td>\n      <td>N/A</td>\n      <td>N/A</td>\n    </tr>\n    <tr>\n      <th>1</th>\n      <td>AAL</td>\n      <td>15.84</td>\n      <td>N/A</td>\n      <td>NaN</td>\n      <td>N/A</td>\n      <td>-6.382978</td>\n      <td>N/A</td>\n      <td>10.306410</td>\n      <td>N/A</td>\n      <td>-11.409391</td>\n      <td>N/A</td>\n      <td>N/A</td>\n    </tr>\n    <tr>\n      <th>2</th>\n      <td>AAP</td>\n      <td>71.01</td>\n      <td>N/A</td>\n      <td>NaN</td>\n      <td>N/A</td>\n      <td>-53.181247</td>\n      <td>N/A</td>\n      <td>-43.530813</td>\n      <td>N/A</td>\n      <td>1.500862</td>\n      <td>N/A</td>\n      <td>N/A</td>\n    </tr>\n    <tr>\n      <th>3</th>\n      <td>AAPL</td>\n      <td>181.99</td>\n      <td>N/A</td>\n      <td>NaN</td>\n      <td>N/A</td>\n      <td>19.943327</td>\n      <td>N/A</td>\n      <td>4.893375</td>\n      <td>N/A</td>\n      <td>-5.119646</td>\n      <td>N/A</td>\n      <td>N/A</td>\n    </tr>\n    <tr>\n      <th>4</th>\n      <td>ABBV</td>\n      <td>147.73</td>\n      <td>N/A</td>\n      <td>NaN</td>\n      <td>N/A</td>\n      <td>1.868702</td>\n      <td>N/A</td>\n      <td>0.189894</td>\n      <td>N/A</td>\n      <td>7.635698</td>\n      <td>N/A</td>\n      <td>N/A</td>\n    </tr>\n    <tr>\n      <th>...</th>\n      <td>...</td>\n      <td>...</td>\n      <td>...</td>\n      <td>...</td>\n      <td>...</td>\n      <td>...</td>\n      <td>...</td>\n      <td>...</td>\n      <td>...</td>\n      <td>...</td>\n      <td>...</td>\n      <td>...</td>\n    </tr>\n    <tr>\n      <th>498</th>\n      <td>YUM</td>\n      <td>134.35</td>\n      <td>N/A</td>\n      <td>NaN</td>\n      <td>N/A</td>\n      <td>4.098875</td>\n      <td>N/A</td>\n      <td>-1.596713</td>\n      <td>N/A</td>\n      <td>0.336081</td>\n      <td>N/A</td>\n      <td>N/A</td>\n    </tr>\n    <tr>\n      <th>499</th>\n      <td>ZBH</td>\n      <td>126.32</td>\n      <td>N/A</td>\n      <td>NaN</td>\n      <td>N/A</td>\n      <td>-1.711799</td>\n      <td>N/A</td>\n      <td>-8.090805</td>\n      <td>N/A</td>\n      <td>-10.538242</td>\n      <td>N/A</td>\n      <td>N/A</td>\n    </tr>\n    <tr>\n      <th>500</th>\n      <td>ZBRA</td>\n      <td>251.41</td>\n      <td>N/A</td>\n      <td>NaN</td>\n      <td>N/A</td>\n      <td>-22.571606</td>\n      <td>N/A</td>\n      <td>-9.519176</td>\n      <td>N/A</td>\n      <td>-13.646359</td>\n      <td>N/A</td>\n      <td>N/A</td>\n    </tr>\n    <tr>\n      <th>501</th>\n      <td>ZION</td>\n      <td>37.92</td>\n      <td>N/A</td>\n      <td>NaN</td>\n      <td>N/A</td>\n      <td>-29.907580</td>\n      <td>N/A</td>\n      <td>56.306669</td>\n      <td>N/A</td>\n      <td>36.501070</td>\n      <td>N/A</td>\n      <td>N/A</td>\n    </tr>\n    <tr>\n      <th>502</th>\n      <td>ZTS</td>\n      <td>178.63</td>\n      <td>N/A</td>\n      <td>NaN</td>\n      <td>N/A</td>\n      <td>8.306562</td>\n      <td>N/A</td>\n      <td>-3.375340</td>\n      <td>N/A</td>\n      <td>6.030749</td>\n      <td>N/A</td>\n      <td>N/A</td>\n    </tr>\n  </tbody>\n</table>\n<p>503 rows × 12 columns</p>\n</div>"
     },
     "execution_count": 18,
     "metadata": {},
     "output_type": "execute_result"
    }
   ]
  },
  {
   "cell_type": "code",
   "execution_count": 19,
   "outputs": [
    {
     "data": {
      "text/plain": "    Ticker  Stock Price Number of Shares to Buy  1 Year Return  \\\n0        A       126.30                     N/A            NaN   \n1      AAL        15.84                     N/A            NaN   \n2      AAP        71.01                     N/A            NaN   \n3     AAPL       181.99                     N/A            NaN   \n4     ABBV       147.73                     N/A            NaN   \n..     ...          ...                     ...            ...   \n498    YUM       134.35                     N/A            NaN   \n499    ZBH       126.32                     N/A            NaN   \n500   ZBRA       251.41                     N/A            NaN   \n501   ZION        37.92                     N/A            NaN   \n502    ZTS       178.63                     N/A            NaN   \n\n    1 Year Return Percentile  6 Months Return 6 Months Return Percentile  \\\n0                        N/A       -17.038887                        N/A   \n1                        N/A        -6.382978                        N/A   \n2                        N/A       -53.181247                        N/A   \n3                        N/A        19.943327                        N/A   \n4                        N/A         1.868702                        N/A   \n..                       ...              ...                        ...   \n498                      N/A         4.098875                        N/A   \n499                      N/A        -1.711799                        N/A   \n500                      N/A       -22.571606                        N/A   \n501                      N/A       -29.907580                        N/A   \n502                      N/A         8.306562                        N/A   \n\n     3 Months Return 3 Months Return Percentile  1 Month Return  \\\n0          -4.643257                        N/A        6.645278   \n1          10.306410                        N/A      -11.409391   \n2         -43.530813                        N/A        1.500862   \n3           4.893375                        N/A       -5.119646   \n4           0.189894                        N/A        7.635698   \n..               ...                        ...             ...   \n498        -1.596713                        N/A        0.336081   \n499        -8.090805                        N/A      -10.538242   \n500        -9.519176                        N/A      -13.646359   \n501        56.306669                        N/A       36.501070   \n502        -3.375340                        N/A        6.030749   \n\n    1 Month Return Percentile HQM Score  \n0                         N/A       N/A  \n1                         N/A       N/A  \n2                         N/A       N/A  \n3                         N/A       N/A  \n4                         N/A       N/A  \n..                        ...       ...  \n498                       N/A       N/A  \n499                       N/A       N/A  \n500                       N/A       N/A  \n501                       N/A       N/A  \n502                       N/A       N/A  \n\n[503 rows x 12 columns]",
      "text/html": "<div>\n<style scoped>\n    .dataframe tbody tr th:only-of-type {\n        vertical-align: middle;\n    }\n\n    .dataframe tbody tr th {\n        vertical-align: top;\n    }\n\n    .dataframe thead th {\n        text-align: right;\n    }\n</style>\n<table border=\"1\" class=\"dataframe\">\n  <thead>\n    <tr style=\"text-align: right;\">\n      <th></th>\n      <th>Ticker</th>\n      <th>Stock Price</th>\n      <th>Number of Shares to Buy</th>\n      <th>1 Year Return</th>\n      <th>1 Year Return Percentile</th>\n      <th>6 Months Return</th>\n      <th>6 Months Return Percentile</th>\n      <th>3 Months Return</th>\n      <th>3 Months Return Percentile</th>\n      <th>1 Month Return</th>\n      <th>1 Month Return Percentile</th>\n      <th>HQM Score</th>\n    </tr>\n  </thead>\n  <tbody>\n    <tr>\n      <th>0</th>\n      <td>A</td>\n      <td>126.30</td>\n      <td>N/A</td>\n      <td>NaN</td>\n      <td>N/A</td>\n      <td>-17.038887</td>\n      <td>N/A</td>\n      <td>-4.643257</td>\n      <td>N/A</td>\n      <td>6.645278</td>\n      <td>N/A</td>\n      <td>N/A</td>\n    </tr>\n    <tr>\n      <th>1</th>\n      <td>AAL</td>\n      <td>15.84</td>\n      <td>N/A</td>\n      <td>NaN</td>\n      <td>N/A</td>\n      <td>-6.382978</td>\n      <td>N/A</td>\n      <td>10.306410</td>\n      <td>N/A</td>\n      <td>-11.409391</td>\n      <td>N/A</td>\n      <td>N/A</td>\n    </tr>\n    <tr>\n      <th>2</th>\n      <td>AAP</td>\n      <td>71.01</td>\n      <td>N/A</td>\n      <td>NaN</td>\n      <td>N/A</td>\n      <td>-53.181247</td>\n      <td>N/A</td>\n      <td>-43.530813</td>\n      <td>N/A</td>\n      <td>1.500862</td>\n      <td>N/A</td>\n      <td>N/A</td>\n    </tr>\n    <tr>\n      <th>3</th>\n      <td>AAPL</td>\n      <td>181.99</td>\n      <td>N/A</td>\n      <td>NaN</td>\n      <td>N/A</td>\n      <td>19.943327</td>\n      <td>N/A</td>\n      <td>4.893375</td>\n      <td>N/A</td>\n      <td>-5.119646</td>\n      <td>N/A</td>\n      <td>N/A</td>\n    </tr>\n    <tr>\n      <th>4</th>\n      <td>ABBV</td>\n      <td>147.73</td>\n      <td>N/A</td>\n      <td>NaN</td>\n      <td>N/A</td>\n      <td>1.868702</td>\n      <td>N/A</td>\n      <td>0.189894</td>\n      <td>N/A</td>\n      <td>7.635698</td>\n      <td>N/A</td>\n      <td>N/A</td>\n    </tr>\n    <tr>\n      <th>...</th>\n      <td>...</td>\n      <td>...</td>\n      <td>...</td>\n      <td>...</td>\n      <td>...</td>\n      <td>...</td>\n      <td>...</td>\n      <td>...</td>\n      <td>...</td>\n      <td>...</td>\n      <td>...</td>\n      <td>...</td>\n    </tr>\n    <tr>\n      <th>498</th>\n      <td>YUM</td>\n      <td>134.35</td>\n      <td>N/A</td>\n      <td>NaN</td>\n      <td>N/A</td>\n      <td>4.098875</td>\n      <td>N/A</td>\n      <td>-1.596713</td>\n      <td>N/A</td>\n      <td>0.336081</td>\n      <td>N/A</td>\n      <td>N/A</td>\n    </tr>\n    <tr>\n      <th>499</th>\n      <td>ZBH</td>\n      <td>126.32</td>\n      <td>N/A</td>\n      <td>NaN</td>\n      <td>N/A</td>\n      <td>-1.711799</td>\n      <td>N/A</td>\n      <td>-8.090805</td>\n      <td>N/A</td>\n      <td>-10.538242</td>\n      <td>N/A</td>\n      <td>N/A</td>\n    </tr>\n    <tr>\n      <th>500</th>\n      <td>ZBRA</td>\n      <td>251.41</td>\n      <td>N/A</td>\n      <td>NaN</td>\n      <td>N/A</td>\n      <td>-22.571606</td>\n      <td>N/A</td>\n      <td>-9.519176</td>\n      <td>N/A</td>\n      <td>-13.646359</td>\n      <td>N/A</td>\n      <td>N/A</td>\n    </tr>\n    <tr>\n      <th>501</th>\n      <td>ZION</td>\n      <td>37.92</td>\n      <td>N/A</td>\n      <td>NaN</td>\n      <td>N/A</td>\n      <td>-29.907580</td>\n      <td>N/A</td>\n      <td>56.306669</td>\n      <td>N/A</td>\n      <td>36.501070</td>\n      <td>N/A</td>\n      <td>N/A</td>\n    </tr>\n    <tr>\n      <th>502</th>\n      <td>ZTS</td>\n      <td>178.63</td>\n      <td>N/A</td>\n      <td>NaN</td>\n      <td>N/A</td>\n      <td>8.306562</td>\n      <td>N/A</td>\n      <td>-3.375340</td>\n      <td>N/A</td>\n      <td>6.030749</td>\n      <td>N/A</td>\n      <td>N/A</td>\n    </tr>\n  </tbody>\n</table>\n<p>503 rows × 12 columns</p>\n</div>"
     },
     "execution_count": 19,
     "metadata": {},
     "output_type": "execute_result"
    }
   ],
   "source": [
    "hqm_dataframe[hqm_dataframe.isnull().any(axis=1)]"
   ],
   "metadata": {
    "collapsed": false,
    "ExecuteTime": {
     "end_time": "2023-08-05T04:38:16.145727096Z",
     "start_time": "2023-08-05T04:38:16.108250642Z"
    }
   }
  },
  {
   "cell_type": "markdown",
   "source": [
    "## Dealing With Missing Data in Our DataFrame\n",
    "\n",
    "Our DataFrame contains some missing data which we have to fill with `mean` values."
   ],
   "metadata": {
    "collapsed": false
   }
  },
  {
   "cell_type": "code",
   "execution_count": 20,
   "outputs": [],
   "source": [
    "hqm_dataframe['1 Year Return'].fillna(hqm_dataframe['1 Year Return'].mean(), inplace=True)"
   ],
   "metadata": {
    "collapsed": false,
    "ExecuteTime": {
     "end_time": "2023-08-05T04:38:16.209596320Z",
     "start_time": "2023-08-05T04:38:16.135841799Z"
    }
   }
  },
  {
   "cell_type": "code",
   "execution_count": 21,
   "outputs": [
    {
     "data": {
      "text/plain": "    Ticker  Stock Price Number of Shares to Buy  1 Year Return  \\\n0        A       126.30                     N/A            NaN   \n1      AAL        15.84                     N/A            NaN   \n2      AAP        71.01                     N/A            NaN   \n3     AAPL       181.99                     N/A            NaN   \n4     ABBV       147.73                     N/A            NaN   \n..     ...          ...                     ...            ...   \n498    YUM       134.35                     N/A            NaN   \n499    ZBH       126.32                     N/A            NaN   \n500   ZBRA       251.41                     N/A            NaN   \n501   ZION        37.92                     N/A            NaN   \n502    ZTS       178.63                     N/A            NaN   \n\n    1 Year Return Percentile  6 Months Return 6 Months Return Percentile  \\\n0                        N/A       -17.038887                        N/A   \n1                        N/A        -6.382978                        N/A   \n2                        N/A       -53.181247                        N/A   \n3                        N/A        19.943327                        N/A   \n4                        N/A         1.868702                        N/A   \n..                       ...              ...                        ...   \n498                      N/A         4.098875                        N/A   \n499                      N/A        -1.711799                        N/A   \n500                      N/A       -22.571606                        N/A   \n501                      N/A       -29.907580                        N/A   \n502                      N/A         8.306562                        N/A   \n\n     3 Months Return 3 Months Return Percentile  1 Month Return  \\\n0          -4.643257                        N/A        6.645278   \n1          10.306410                        N/A      -11.409391   \n2         -43.530813                        N/A        1.500862   \n3           4.893375                        N/A       -5.119646   \n4           0.189894                        N/A        7.635698   \n..               ...                        ...             ...   \n498        -1.596713                        N/A        0.336081   \n499        -8.090805                        N/A      -10.538242   \n500        -9.519176                        N/A      -13.646359   \n501        56.306669                        N/A       36.501070   \n502        -3.375340                        N/A        6.030749   \n\n    1 Month Return Percentile HQM Score  \n0                         N/A       N/A  \n1                         N/A       N/A  \n2                         N/A       N/A  \n3                         N/A       N/A  \n4                         N/A       N/A  \n..                        ...       ...  \n498                       N/A       N/A  \n499                       N/A       N/A  \n500                       N/A       N/A  \n501                       N/A       N/A  \n502                       N/A       N/A  \n\n[503 rows x 12 columns]",
      "text/html": "<div>\n<style scoped>\n    .dataframe tbody tr th:only-of-type {\n        vertical-align: middle;\n    }\n\n    .dataframe tbody tr th {\n        vertical-align: top;\n    }\n\n    .dataframe thead th {\n        text-align: right;\n    }\n</style>\n<table border=\"1\" class=\"dataframe\">\n  <thead>\n    <tr style=\"text-align: right;\">\n      <th></th>\n      <th>Ticker</th>\n      <th>Stock Price</th>\n      <th>Number of Shares to Buy</th>\n      <th>1 Year Return</th>\n      <th>1 Year Return Percentile</th>\n      <th>6 Months Return</th>\n      <th>6 Months Return Percentile</th>\n      <th>3 Months Return</th>\n      <th>3 Months Return Percentile</th>\n      <th>1 Month Return</th>\n      <th>1 Month Return Percentile</th>\n      <th>HQM Score</th>\n    </tr>\n  </thead>\n  <tbody>\n    <tr>\n      <th>0</th>\n      <td>A</td>\n      <td>126.30</td>\n      <td>N/A</td>\n      <td>NaN</td>\n      <td>N/A</td>\n      <td>-17.038887</td>\n      <td>N/A</td>\n      <td>-4.643257</td>\n      <td>N/A</td>\n      <td>6.645278</td>\n      <td>N/A</td>\n      <td>N/A</td>\n    </tr>\n    <tr>\n      <th>1</th>\n      <td>AAL</td>\n      <td>15.84</td>\n      <td>N/A</td>\n      <td>NaN</td>\n      <td>N/A</td>\n      <td>-6.382978</td>\n      <td>N/A</td>\n      <td>10.306410</td>\n      <td>N/A</td>\n      <td>-11.409391</td>\n      <td>N/A</td>\n      <td>N/A</td>\n    </tr>\n    <tr>\n      <th>2</th>\n      <td>AAP</td>\n      <td>71.01</td>\n      <td>N/A</td>\n      <td>NaN</td>\n      <td>N/A</td>\n      <td>-53.181247</td>\n      <td>N/A</td>\n      <td>-43.530813</td>\n      <td>N/A</td>\n      <td>1.500862</td>\n      <td>N/A</td>\n      <td>N/A</td>\n    </tr>\n    <tr>\n      <th>3</th>\n      <td>AAPL</td>\n      <td>181.99</td>\n      <td>N/A</td>\n      <td>NaN</td>\n      <td>N/A</td>\n      <td>19.943327</td>\n      <td>N/A</td>\n      <td>4.893375</td>\n      <td>N/A</td>\n      <td>-5.119646</td>\n      <td>N/A</td>\n      <td>N/A</td>\n    </tr>\n    <tr>\n      <th>4</th>\n      <td>ABBV</td>\n      <td>147.73</td>\n      <td>N/A</td>\n      <td>NaN</td>\n      <td>N/A</td>\n      <td>1.868702</td>\n      <td>N/A</td>\n      <td>0.189894</td>\n      <td>N/A</td>\n      <td>7.635698</td>\n      <td>N/A</td>\n      <td>N/A</td>\n    </tr>\n    <tr>\n      <th>...</th>\n      <td>...</td>\n      <td>...</td>\n      <td>...</td>\n      <td>...</td>\n      <td>...</td>\n      <td>...</td>\n      <td>...</td>\n      <td>...</td>\n      <td>...</td>\n      <td>...</td>\n      <td>...</td>\n      <td>...</td>\n    </tr>\n    <tr>\n      <th>498</th>\n      <td>YUM</td>\n      <td>134.35</td>\n      <td>N/A</td>\n      <td>NaN</td>\n      <td>N/A</td>\n      <td>4.098875</td>\n      <td>N/A</td>\n      <td>-1.596713</td>\n      <td>N/A</td>\n      <td>0.336081</td>\n      <td>N/A</td>\n      <td>N/A</td>\n    </tr>\n    <tr>\n      <th>499</th>\n      <td>ZBH</td>\n      <td>126.32</td>\n      <td>N/A</td>\n      <td>NaN</td>\n      <td>N/A</td>\n      <td>-1.711799</td>\n      <td>N/A</td>\n      <td>-8.090805</td>\n      <td>N/A</td>\n      <td>-10.538242</td>\n      <td>N/A</td>\n      <td>N/A</td>\n    </tr>\n    <tr>\n      <th>500</th>\n      <td>ZBRA</td>\n      <td>251.41</td>\n      <td>N/A</td>\n      <td>NaN</td>\n      <td>N/A</td>\n      <td>-22.571606</td>\n      <td>N/A</td>\n      <td>-9.519176</td>\n      <td>N/A</td>\n      <td>-13.646359</td>\n      <td>N/A</td>\n      <td>N/A</td>\n    </tr>\n    <tr>\n      <th>501</th>\n      <td>ZION</td>\n      <td>37.92</td>\n      <td>N/A</td>\n      <td>NaN</td>\n      <td>N/A</td>\n      <td>-29.907580</td>\n      <td>N/A</td>\n      <td>56.306669</td>\n      <td>N/A</td>\n      <td>36.501070</td>\n      <td>N/A</td>\n      <td>N/A</td>\n    </tr>\n    <tr>\n      <th>502</th>\n      <td>ZTS</td>\n      <td>178.63</td>\n      <td>N/A</td>\n      <td>NaN</td>\n      <td>N/A</td>\n      <td>8.306562</td>\n      <td>N/A</td>\n      <td>-3.375340</td>\n      <td>N/A</td>\n      <td>6.030749</td>\n      <td>N/A</td>\n      <td>N/A</td>\n    </tr>\n  </tbody>\n</table>\n<p>503 rows × 12 columns</p>\n</div>"
     },
     "execution_count": 21,
     "metadata": {},
     "output_type": "execute_result"
    }
   ],
   "source": [
    "hqm_dataframe[hqm_dataframe.isnull().any(axis=1)]"
   ],
   "metadata": {
    "collapsed": false,
    "ExecuteTime": {
     "end_time": "2023-08-05T04:38:16.210648937Z",
     "start_time": "2023-08-05T04:38:16.177987576Z"
    }
   }
  },
  {
   "cell_type": "code",
   "execution_count": 22,
   "outputs": [
    {
     "data": {
      "text/plain": "    Ticker  Stock Price Number of Shares to Buy  1 Year Return  \\\n0        A       126.30                     N/A            NaN   \n1      AAL        15.84                     N/A            NaN   \n2      AAP        71.01                     N/A            NaN   \n3     AAPL       181.99                     N/A            NaN   \n4     ABBV       147.73                     N/A            NaN   \n..     ...          ...                     ...            ...   \n498    YUM       134.35                     N/A            NaN   \n499    ZBH       126.32                     N/A            NaN   \n500   ZBRA       251.41                     N/A            NaN   \n501   ZION        37.92                     N/A            NaN   \n502    ZTS       178.63                     N/A            NaN   \n\n    1 Year Return Percentile  6 Months Return 6 Months Return Percentile  \\\n0                        N/A       -17.038887                        N/A   \n1                        N/A        -6.382978                        N/A   \n2                        N/A       -53.181247                        N/A   \n3                        N/A        19.943327                        N/A   \n4                        N/A         1.868702                        N/A   \n..                       ...              ...                        ...   \n498                      N/A         4.098875                        N/A   \n499                      N/A        -1.711799                        N/A   \n500                      N/A       -22.571606                        N/A   \n501                      N/A       -29.907580                        N/A   \n502                      N/A         8.306562                        N/A   \n\n     3 Months Return 3 Months Return Percentile  1 Month Return  \\\n0          -4.643257                        N/A        6.645278   \n1          10.306410                        N/A      -11.409391   \n2         -43.530813                        N/A        1.500862   \n3           4.893375                        N/A       -5.119646   \n4           0.189894                        N/A        7.635698   \n..               ...                        ...             ...   \n498        -1.596713                        N/A        0.336081   \n499        -8.090805                        N/A      -10.538242   \n500        -9.519176                        N/A      -13.646359   \n501        56.306669                        N/A       36.501070   \n502        -3.375340                        N/A        6.030749   \n\n    1 Month Return Percentile HQM Score  \n0                         N/A       N/A  \n1                         N/A       N/A  \n2                         N/A       N/A  \n3                         N/A       N/A  \n4                         N/A       N/A  \n..                        ...       ...  \n498                       N/A       N/A  \n499                       N/A       N/A  \n500                       N/A       N/A  \n501                       N/A       N/A  \n502                       N/A       N/A  \n\n[503 rows x 12 columns]",
      "text/html": "<div>\n<style scoped>\n    .dataframe tbody tr th:only-of-type {\n        vertical-align: middle;\n    }\n\n    .dataframe tbody tr th {\n        vertical-align: top;\n    }\n\n    .dataframe thead th {\n        text-align: right;\n    }\n</style>\n<table border=\"1\" class=\"dataframe\">\n  <thead>\n    <tr style=\"text-align: right;\">\n      <th></th>\n      <th>Ticker</th>\n      <th>Stock Price</th>\n      <th>Number of Shares to Buy</th>\n      <th>1 Year Return</th>\n      <th>1 Year Return Percentile</th>\n      <th>6 Months Return</th>\n      <th>6 Months Return Percentile</th>\n      <th>3 Months Return</th>\n      <th>3 Months Return Percentile</th>\n      <th>1 Month Return</th>\n      <th>1 Month Return Percentile</th>\n      <th>HQM Score</th>\n    </tr>\n  </thead>\n  <tbody>\n    <tr>\n      <th>0</th>\n      <td>A</td>\n      <td>126.30</td>\n      <td>N/A</td>\n      <td>NaN</td>\n      <td>N/A</td>\n      <td>-17.038887</td>\n      <td>N/A</td>\n      <td>-4.643257</td>\n      <td>N/A</td>\n      <td>6.645278</td>\n      <td>N/A</td>\n      <td>N/A</td>\n    </tr>\n    <tr>\n      <th>1</th>\n      <td>AAL</td>\n      <td>15.84</td>\n      <td>N/A</td>\n      <td>NaN</td>\n      <td>N/A</td>\n      <td>-6.382978</td>\n      <td>N/A</td>\n      <td>10.306410</td>\n      <td>N/A</td>\n      <td>-11.409391</td>\n      <td>N/A</td>\n      <td>N/A</td>\n    </tr>\n    <tr>\n      <th>2</th>\n      <td>AAP</td>\n      <td>71.01</td>\n      <td>N/A</td>\n      <td>NaN</td>\n      <td>N/A</td>\n      <td>-53.181247</td>\n      <td>N/A</td>\n      <td>-43.530813</td>\n      <td>N/A</td>\n      <td>1.500862</td>\n      <td>N/A</td>\n      <td>N/A</td>\n    </tr>\n    <tr>\n      <th>3</th>\n      <td>AAPL</td>\n      <td>181.99</td>\n      <td>N/A</td>\n      <td>NaN</td>\n      <td>N/A</td>\n      <td>19.943327</td>\n      <td>N/A</td>\n      <td>4.893375</td>\n      <td>N/A</td>\n      <td>-5.119646</td>\n      <td>N/A</td>\n      <td>N/A</td>\n    </tr>\n    <tr>\n      <th>4</th>\n      <td>ABBV</td>\n      <td>147.73</td>\n      <td>N/A</td>\n      <td>NaN</td>\n      <td>N/A</td>\n      <td>1.868702</td>\n      <td>N/A</td>\n      <td>0.189894</td>\n      <td>N/A</td>\n      <td>7.635698</td>\n      <td>N/A</td>\n      <td>N/A</td>\n    </tr>\n    <tr>\n      <th>...</th>\n      <td>...</td>\n      <td>...</td>\n      <td>...</td>\n      <td>...</td>\n      <td>...</td>\n      <td>...</td>\n      <td>...</td>\n      <td>...</td>\n      <td>...</td>\n      <td>...</td>\n      <td>...</td>\n      <td>...</td>\n    </tr>\n    <tr>\n      <th>498</th>\n      <td>YUM</td>\n      <td>134.35</td>\n      <td>N/A</td>\n      <td>NaN</td>\n      <td>N/A</td>\n      <td>4.098875</td>\n      <td>N/A</td>\n      <td>-1.596713</td>\n      <td>N/A</td>\n      <td>0.336081</td>\n      <td>N/A</td>\n      <td>N/A</td>\n    </tr>\n    <tr>\n      <th>499</th>\n      <td>ZBH</td>\n      <td>126.32</td>\n      <td>N/A</td>\n      <td>NaN</td>\n      <td>N/A</td>\n      <td>-1.711799</td>\n      <td>N/A</td>\n      <td>-8.090805</td>\n      <td>N/A</td>\n      <td>-10.538242</td>\n      <td>N/A</td>\n      <td>N/A</td>\n    </tr>\n    <tr>\n      <th>500</th>\n      <td>ZBRA</td>\n      <td>251.41</td>\n      <td>N/A</td>\n      <td>NaN</td>\n      <td>N/A</td>\n      <td>-22.571606</td>\n      <td>N/A</td>\n      <td>-9.519176</td>\n      <td>N/A</td>\n      <td>-13.646359</td>\n      <td>N/A</td>\n      <td>N/A</td>\n    </tr>\n    <tr>\n      <th>501</th>\n      <td>ZION</td>\n      <td>37.92</td>\n      <td>N/A</td>\n      <td>NaN</td>\n      <td>N/A</td>\n      <td>-29.907580</td>\n      <td>N/A</td>\n      <td>56.306669</td>\n      <td>N/A</td>\n      <td>36.501070</td>\n      <td>N/A</td>\n      <td>N/A</td>\n    </tr>\n    <tr>\n      <th>502</th>\n      <td>ZTS</td>\n      <td>178.63</td>\n      <td>N/A</td>\n      <td>NaN</td>\n      <td>N/A</td>\n      <td>8.306562</td>\n      <td>N/A</td>\n      <td>-3.375340</td>\n      <td>N/A</td>\n      <td>6.030749</td>\n      <td>N/A</td>\n      <td>N/A</td>\n    </tr>\n  </tbody>\n</table>\n<p>503 rows × 12 columns</p>\n</div>"
     },
     "execution_count": 22,
     "metadata": {},
     "output_type": "execute_result"
    }
   ],
   "source": [
    "hqm_dataframe"
   ],
   "metadata": {
    "collapsed": false,
    "ExecuteTime": {
     "end_time": "2023-08-05T04:38:16.292603431Z",
     "start_time": "2023-08-05T04:38:16.178219169Z"
    }
   }
  },
  {
   "cell_type": "markdown",
   "source": [
    "## Calculating Momentum Percentiles\n",
    "\n",
    "We now need to calculate momentum percentile scores for every stock in the universe. More specifically, we need to calculate percentile scores for the following metrics for every stock:\n",
    "\n",
    "* `One-Year Price Return`\n",
    "* `Six-Month Price Return`\n",
    "* `Three-Month Price Return`\n",
    "* `One-Month Price Return`"
   ],
   "metadata": {
    "collapsed": false
   }
  },
  {
   "cell_type": "code",
   "source": [
    "time_periods = [\n",
    "    '1 Year',\n",
    "    '6 Months',\n",
    "    '3 Months',\n",
    "    '1 Month'\n",
    "]\n",
    "\n",
    "for row in hqm_dataframe.index:\n",
    "    for time_period in time_periods:\n",
    "        change_col = f'{time_period} Return'\n",
    "        percentile_col = f'{time_period} Return Percentile'\n",
    "        hqm_dataframe.loc[row, f'{time_period} Return Percentile'] = score(hqm_dataframe[change_col],\n",
    "                                                                           hqm_dataframe.loc[row, change_col]) / 100"
   ],
   "metadata": {
    "id": "QR1RmX3x0llg",
    "ExecuteTime": {
     "end_time": "2023-08-05T04:38:16.695357499Z",
     "start_time": "2023-08-05T04:38:16.222141936Z"
    }
   },
   "execution_count": 23,
   "outputs": []
  },
  {
   "cell_type": "code",
   "source": [
    "hqm_dataframe"
   ],
   "metadata": {
    "colab": {
     "base_uri": "https://localhost:8080/",
     "height": 485
    },
    "id": "QPwmMOnh3bRl",
    "outputId": "f80f01f1-037c-4957-b224-6bd09f15ebde",
    "ExecuteTime": {
     "end_time": "2023-08-05T04:38:16.712790413Z",
     "start_time": "2023-08-05T04:38:16.708281267Z"
    }
   },
   "execution_count": 24,
   "outputs": [
    {
     "data": {
      "text/plain": "    Ticker  Stock Price Number of Shares to Buy  1 Year Return  \\\n0        A       126.30                     N/A            NaN   \n1      AAL        15.84                     N/A            NaN   \n2      AAP        71.01                     N/A            NaN   \n3     AAPL       181.99                     N/A            NaN   \n4     ABBV       147.73                     N/A            NaN   \n..     ...          ...                     ...            ...   \n498    YUM       134.35                     N/A            NaN   \n499    ZBH       126.32                     N/A            NaN   \n500   ZBRA       251.41                     N/A            NaN   \n501   ZION        37.92                     N/A            NaN   \n502    ZTS       178.63                     N/A            NaN   \n\n    1 Year Return Percentile  6 Months Return 6 Months Return Percentile  \\\n0                        NaN       -17.038887                   0.115308   \n1                        NaN        -6.382978                   0.318091   \n2                        NaN       -53.181247                   0.001988   \n3                        NaN        19.943327                   0.892644   \n4                        NaN         1.868702                   0.552684   \n..                       ...              ...                        ...   \n498                      NaN         4.098875                   0.610338   \n499                      NaN        -1.711799                   0.467197   \n500                      NaN       -22.571606                   0.069583   \n501                      NaN       -29.907580                   0.027833   \n502                      NaN         8.306562                   0.727634   \n\n     3 Months Return 3 Months Return Percentile  1 Month Return  \\\n0          -4.643257                   0.212724        6.645278   \n1          10.306410                   0.638171      -11.409391   \n2         -43.530813                   0.001988        1.500862   \n3           4.893375                   0.473161       -5.119646   \n4           0.189894                   0.345924        7.635698   \n..               ...                        ...             ...   \n498        -1.596713                   0.290258        0.336081   \n499        -8.090805                   0.129225      -10.538242   \n500        -9.519176                   0.099404      -13.646359   \n501        56.306669                   0.998012       36.501070   \n502        -3.375340                   0.252485        6.030749   \n\n    1 Month Return Percentile HQM Score  \n0                    0.751491       N/A  \n1                    0.049702       N/A  \n2                    0.481113       N/A  \n3                    0.161034       N/A  \n4                      0.7833       N/A  \n..                        ...       ...  \n498                  0.425447       N/A  \n499                  0.057654       N/A  \n500                  0.021869       N/A  \n501                       1.0       N/A  \n502                  0.715706       N/A  \n\n[503 rows x 12 columns]",
      "text/html": "<div>\n<style scoped>\n    .dataframe tbody tr th:only-of-type {\n        vertical-align: middle;\n    }\n\n    .dataframe tbody tr th {\n        vertical-align: top;\n    }\n\n    .dataframe thead th {\n        text-align: right;\n    }\n</style>\n<table border=\"1\" class=\"dataframe\">\n  <thead>\n    <tr style=\"text-align: right;\">\n      <th></th>\n      <th>Ticker</th>\n      <th>Stock Price</th>\n      <th>Number of Shares to Buy</th>\n      <th>1 Year Return</th>\n      <th>1 Year Return Percentile</th>\n      <th>6 Months Return</th>\n      <th>6 Months Return Percentile</th>\n      <th>3 Months Return</th>\n      <th>3 Months Return Percentile</th>\n      <th>1 Month Return</th>\n      <th>1 Month Return Percentile</th>\n      <th>HQM Score</th>\n    </tr>\n  </thead>\n  <tbody>\n    <tr>\n      <th>0</th>\n      <td>A</td>\n      <td>126.30</td>\n      <td>N/A</td>\n      <td>NaN</td>\n      <td>NaN</td>\n      <td>-17.038887</td>\n      <td>0.115308</td>\n      <td>-4.643257</td>\n      <td>0.212724</td>\n      <td>6.645278</td>\n      <td>0.751491</td>\n      <td>N/A</td>\n    </tr>\n    <tr>\n      <th>1</th>\n      <td>AAL</td>\n      <td>15.84</td>\n      <td>N/A</td>\n      <td>NaN</td>\n      <td>NaN</td>\n      <td>-6.382978</td>\n      <td>0.318091</td>\n      <td>10.306410</td>\n      <td>0.638171</td>\n      <td>-11.409391</td>\n      <td>0.049702</td>\n      <td>N/A</td>\n    </tr>\n    <tr>\n      <th>2</th>\n      <td>AAP</td>\n      <td>71.01</td>\n      <td>N/A</td>\n      <td>NaN</td>\n      <td>NaN</td>\n      <td>-53.181247</td>\n      <td>0.001988</td>\n      <td>-43.530813</td>\n      <td>0.001988</td>\n      <td>1.500862</td>\n      <td>0.481113</td>\n      <td>N/A</td>\n    </tr>\n    <tr>\n      <th>3</th>\n      <td>AAPL</td>\n      <td>181.99</td>\n      <td>N/A</td>\n      <td>NaN</td>\n      <td>NaN</td>\n      <td>19.943327</td>\n      <td>0.892644</td>\n      <td>4.893375</td>\n      <td>0.473161</td>\n      <td>-5.119646</td>\n      <td>0.161034</td>\n      <td>N/A</td>\n    </tr>\n    <tr>\n      <th>4</th>\n      <td>ABBV</td>\n      <td>147.73</td>\n      <td>N/A</td>\n      <td>NaN</td>\n      <td>NaN</td>\n      <td>1.868702</td>\n      <td>0.552684</td>\n      <td>0.189894</td>\n      <td>0.345924</td>\n      <td>7.635698</td>\n      <td>0.7833</td>\n      <td>N/A</td>\n    </tr>\n    <tr>\n      <th>...</th>\n      <td>...</td>\n      <td>...</td>\n      <td>...</td>\n      <td>...</td>\n      <td>...</td>\n      <td>...</td>\n      <td>...</td>\n      <td>...</td>\n      <td>...</td>\n      <td>...</td>\n      <td>...</td>\n      <td>...</td>\n    </tr>\n    <tr>\n      <th>498</th>\n      <td>YUM</td>\n      <td>134.35</td>\n      <td>N/A</td>\n      <td>NaN</td>\n      <td>NaN</td>\n      <td>4.098875</td>\n      <td>0.610338</td>\n      <td>-1.596713</td>\n      <td>0.290258</td>\n      <td>0.336081</td>\n      <td>0.425447</td>\n      <td>N/A</td>\n    </tr>\n    <tr>\n      <th>499</th>\n      <td>ZBH</td>\n      <td>126.32</td>\n      <td>N/A</td>\n      <td>NaN</td>\n      <td>NaN</td>\n      <td>-1.711799</td>\n      <td>0.467197</td>\n      <td>-8.090805</td>\n      <td>0.129225</td>\n      <td>-10.538242</td>\n      <td>0.057654</td>\n      <td>N/A</td>\n    </tr>\n    <tr>\n      <th>500</th>\n      <td>ZBRA</td>\n      <td>251.41</td>\n      <td>N/A</td>\n      <td>NaN</td>\n      <td>NaN</td>\n      <td>-22.571606</td>\n      <td>0.069583</td>\n      <td>-9.519176</td>\n      <td>0.099404</td>\n      <td>-13.646359</td>\n      <td>0.021869</td>\n      <td>N/A</td>\n    </tr>\n    <tr>\n      <th>501</th>\n      <td>ZION</td>\n      <td>37.92</td>\n      <td>N/A</td>\n      <td>NaN</td>\n      <td>NaN</td>\n      <td>-29.907580</td>\n      <td>0.027833</td>\n      <td>56.306669</td>\n      <td>0.998012</td>\n      <td>36.501070</td>\n      <td>1.0</td>\n      <td>N/A</td>\n    </tr>\n    <tr>\n      <th>502</th>\n      <td>ZTS</td>\n      <td>178.63</td>\n      <td>N/A</td>\n      <td>NaN</td>\n      <td>NaN</td>\n      <td>8.306562</td>\n      <td>0.727634</td>\n      <td>-3.375340</td>\n      <td>0.252485</td>\n      <td>6.030749</td>\n      <td>0.715706</td>\n      <td>N/A</td>\n    </tr>\n  </tbody>\n</table>\n<p>503 rows × 12 columns</p>\n</div>"
     },
     "execution_count": 24,
     "metadata": {},
     "output_type": "execute_result"
    }
   ]
  },
  {
   "cell_type": "markdown",
   "source": [
    "## Calculating the HQM Score\n",
    "\n",
    "We'll now calculate our `HQM Score`, which is the high-quality momentum score that we'll use to filter for stocks in this investing strategy.\n",
    "\n",
    "The `HQM Score` will be the arithmetic mean of the 4 momentum percentile scores that we calculated in the last section.\n",
    "\n",
    "To calculate arithmetic mean, we will use the `mean` function from Python's built-in `statistics` module."
   ],
   "metadata": {
    "collapsed": false
   }
  },
  {
   "cell_type": "code",
   "source": [
    "for row in hqm_dataframe.index:\n",
    "    momentum_percentiles = []\n",
    "    for time_period in time_periods:\n",
    "        momentum_percentiles.append(hqm_dataframe.loc[row, f'{time_period} Return Percentile'])\n",
    "    hqm_dataframe.loc[row, 'HQM Score'] = mean(momentum_percentiles)"
   ],
   "metadata": {
    "id": "v3BO-yAY3dM2",
    "ExecuteTime": {
     "end_time": "2023-08-05T04:38:16.851789551Z",
     "start_time": "2023-08-05T04:38:16.713881722Z"
    }
   },
   "execution_count": 25,
   "outputs": []
  },
  {
   "cell_type": "code",
   "source": [
    "hqm_dataframe"
   ],
   "metadata": {
    "colab": {
     "base_uri": "https://localhost:8080/",
     "height": 485
    },
    "id": "U79rv9Bo700D",
    "outputId": "8b5dd20a-d349-484c-bef5-de7b2e71bcef",
    "ExecuteTime": {
     "end_time": "2023-08-05T04:38:16.873567669Z",
     "start_time": "2023-08-05T04:38:16.852694738Z"
    }
   },
   "execution_count": 26,
   "outputs": [
    {
     "data": {
      "text/plain": "    Ticker  Stock Price Number of Shares to Buy  1 Year Return  \\\n0        A       126.30                     N/A            NaN   \n1      AAL        15.84                     N/A            NaN   \n2      AAP        71.01                     N/A            NaN   \n3     AAPL       181.99                     N/A            NaN   \n4     ABBV       147.73                     N/A            NaN   \n..     ...          ...                     ...            ...   \n498    YUM       134.35                     N/A            NaN   \n499    ZBH       126.32                     N/A            NaN   \n500   ZBRA       251.41                     N/A            NaN   \n501   ZION        37.92                     N/A            NaN   \n502    ZTS       178.63                     N/A            NaN   \n\n    1 Year Return Percentile  6 Months Return 6 Months Return Percentile  \\\n0                        NaN       -17.038887                   0.115308   \n1                        NaN        -6.382978                   0.318091   \n2                        NaN       -53.181247                   0.001988   \n3                        NaN        19.943327                   0.892644   \n4                        NaN         1.868702                   0.552684   \n..                       ...              ...                        ...   \n498                      NaN         4.098875                   0.610338   \n499                      NaN        -1.711799                   0.467197   \n500                      NaN       -22.571606                   0.069583   \n501                      NaN       -29.907580                   0.027833   \n502                      NaN         8.306562                   0.727634   \n\n     3 Months Return 3 Months Return Percentile  1 Month Return  \\\n0          -4.643257                   0.212724        6.645278   \n1          10.306410                   0.638171      -11.409391   \n2         -43.530813                   0.001988        1.500862   \n3           4.893375                   0.473161       -5.119646   \n4           0.189894                   0.345924        7.635698   \n..               ...                        ...             ...   \n498        -1.596713                   0.290258        0.336081   \n499        -8.090805                   0.129225      -10.538242   \n500        -9.519176                   0.099404      -13.646359   \n501        56.306669                   0.998012       36.501070   \n502        -3.375340                   0.252485        6.030749   \n\n    1 Month Return Percentile HQM Score  \n0                    0.751491       NaN  \n1                    0.049702       NaN  \n2                    0.481113       NaN  \n3                    0.161034       NaN  \n4                      0.7833       NaN  \n..                        ...       ...  \n498                  0.425447       NaN  \n499                  0.057654       NaN  \n500                  0.021869       NaN  \n501                       1.0       NaN  \n502                  0.715706       NaN  \n\n[503 rows x 12 columns]",
      "text/html": "<div>\n<style scoped>\n    .dataframe tbody tr th:only-of-type {\n        vertical-align: middle;\n    }\n\n    .dataframe tbody tr th {\n        vertical-align: top;\n    }\n\n    .dataframe thead th {\n        text-align: right;\n    }\n</style>\n<table border=\"1\" class=\"dataframe\">\n  <thead>\n    <tr style=\"text-align: right;\">\n      <th></th>\n      <th>Ticker</th>\n      <th>Stock Price</th>\n      <th>Number of Shares to Buy</th>\n      <th>1 Year Return</th>\n      <th>1 Year Return Percentile</th>\n      <th>6 Months Return</th>\n      <th>6 Months Return Percentile</th>\n      <th>3 Months Return</th>\n      <th>3 Months Return Percentile</th>\n      <th>1 Month Return</th>\n      <th>1 Month Return Percentile</th>\n      <th>HQM Score</th>\n    </tr>\n  </thead>\n  <tbody>\n    <tr>\n      <th>0</th>\n      <td>A</td>\n      <td>126.30</td>\n      <td>N/A</td>\n      <td>NaN</td>\n      <td>NaN</td>\n      <td>-17.038887</td>\n      <td>0.115308</td>\n      <td>-4.643257</td>\n      <td>0.212724</td>\n      <td>6.645278</td>\n      <td>0.751491</td>\n      <td>NaN</td>\n    </tr>\n    <tr>\n      <th>1</th>\n      <td>AAL</td>\n      <td>15.84</td>\n      <td>N/A</td>\n      <td>NaN</td>\n      <td>NaN</td>\n      <td>-6.382978</td>\n      <td>0.318091</td>\n      <td>10.306410</td>\n      <td>0.638171</td>\n      <td>-11.409391</td>\n      <td>0.049702</td>\n      <td>NaN</td>\n    </tr>\n    <tr>\n      <th>2</th>\n      <td>AAP</td>\n      <td>71.01</td>\n      <td>N/A</td>\n      <td>NaN</td>\n      <td>NaN</td>\n      <td>-53.181247</td>\n      <td>0.001988</td>\n      <td>-43.530813</td>\n      <td>0.001988</td>\n      <td>1.500862</td>\n      <td>0.481113</td>\n      <td>NaN</td>\n    </tr>\n    <tr>\n      <th>3</th>\n      <td>AAPL</td>\n      <td>181.99</td>\n      <td>N/A</td>\n      <td>NaN</td>\n      <td>NaN</td>\n      <td>19.943327</td>\n      <td>0.892644</td>\n      <td>4.893375</td>\n      <td>0.473161</td>\n      <td>-5.119646</td>\n      <td>0.161034</td>\n      <td>NaN</td>\n    </tr>\n    <tr>\n      <th>4</th>\n      <td>ABBV</td>\n      <td>147.73</td>\n      <td>N/A</td>\n      <td>NaN</td>\n      <td>NaN</td>\n      <td>1.868702</td>\n      <td>0.552684</td>\n      <td>0.189894</td>\n      <td>0.345924</td>\n      <td>7.635698</td>\n      <td>0.7833</td>\n      <td>NaN</td>\n    </tr>\n    <tr>\n      <th>...</th>\n      <td>...</td>\n      <td>...</td>\n      <td>...</td>\n      <td>...</td>\n      <td>...</td>\n      <td>...</td>\n      <td>...</td>\n      <td>...</td>\n      <td>...</td>\n      <td>...</td>\n      <td>...</td>\n      <td>...</td>\n    </tr>\n    <tr>\n      <th>498</th>\n      <td>YUM</td>\n      <td>134.35</td>\n      <td>N/A</td>\n      <td>NaN</td>\n      <td>NaN</td>\n      <td>4.098875</td>\n      <td>0.610338</td>\n      <td>-1.596713</td>\n      <td>0.290258</td>\n      <td>0.336081</td>\n      <td>0.425447</td>\n      <td>NaN</td>\n    </tr>\n    <tr>\n      <th>499</th>\n      <td>ZBH</td>\n      <td>126.32</td>\n      <td>N/A</td>\n      <td>NaN</td>\n      <td>NaN</td>\n      <td>-1.711799</td>\n      <td>0.467197</td>\n      <td>-8.090805</td>\n      <td>0.129225</td>\n      <td>-10.538242</td>\n      <td>0.057654</td>\n      <td>NaN</td>\n    </tr>\n    <tr>\n      <th>500</th>\n      <td>ZBRA</td>\n      <td>251.41</td>\n      <td>N/A</td>\n      <td>NaN</td>\n      <td>NaN</td>\n      <td>-22.571606</td>\n      <td>0.069583</td>\n      <td>-9.519176</td>\n      <td>0.099404</td>\n      <td>-13.646359</td>\n      <td>0.021869</td>\n      <td>NaN</td>\n    </tr>\n    <tr>\n      <th>501</th>\n      <td>ZION</td>\n      <td>37.92</td>\n      <td>N/A</td>\n      <td>NaN</td>\n      <td>NaN</td>\n      <td>-29.907580</td>\n      <td>0.027833</td>\n      <td>56.306669</td>\n      <td>0.998012</td>\n      <td>36.501070</td>\n      <td>1.0</td>\n      <td>NaN</td>\n    </tr>\n    <tr>\n      <th>502</th>\n      <td>ZTS</td>\n      <td>178.63</td>\n      <td>N/A</td>\n      <td>NaN</td>\n      <td>NaN</td>\n      <td>8.306562</td>\n      <td>0.727634</td>\n      <td>-3.375340</td>\n      <td>0.252485</td>\n      <td>6.030749</td>\n      <td>0.715706</td>\n      <td>NaN</td>\n    </tr>\n  </tbody>\n</table>\n<p>503 rows × 12 columns</p>\n</div>"
     },
     "execution_count": 26,
     "metadata": {},
     "output_type": "execute_result"
    }
   ]
  },
  {
   "cell_type": "markdown",
   "source": [
    "## Selecting the 50 Best Momentum Stocks\n",
    "\n",
    "As before, we can identify the 50 best momentum stocks in our universe by sorting the DataFrame on the `HQM Score` column and dropping all but the top 50 entries."
   ],
   "metadata": {
    "collapsed": false
   }
  },
  {
   "cell_type": "code",
   "source": [
    "hqm_dataframe.sort_values('HQM Score', ascending=False, inplace=True)"
   ],
   "metadata": {
    "id": "0-E9hfvqAovr",
    "ExecuteTime": {
     "end_time": "2023-08-05T04:38:16.929266340Z",
     "start_time": "2023-08-05T04:38:16.873105187Z"
    }
   },
   "execution_count": 27,
   "outputs": []
  },
  {
   "cell_type": "code",
   "source": [
    "hqm_dataframe = hqm_dataframe[:50]\n",
    "hqm_dataframe.reset_index(drop=True, inplace=True)"
   ],
   "metadata": {
    "id": "P9TdkLNRBZWG",
    "ExecuteTime": {
     "end_time": "2023-08-05T04:38:16.929512683Z",
     "start_time": "2023-08-05T04:38:16.907432395Z"
    }
   },
   "execution_count": 28,
   "outputs": []
  },
  {
   "cell_type": "code",
   "source": [
    "hqm_dataframe"
   ],
   "metadata": {
    "colab": {
     "base_uri": "https://localhost:8080/",
     "height": 1000
    },
    "id": "emZwm-N7Bk2-",
    "outputId": "9c4a1cec-23b1-4b0c-83c3-03826bbed1bf",
    "ExecuteTime": {
     "end_time": "2023-08-05T04:38:16.931501440Z",
     "start_time": "2023-08-05T04:38:16.907612216Z"
    }
   },
   "execution_count": 29,
   "outputs": [
    {
     "data": {
      "text/plain": "   Ticker  Stock Price Number of Shares to Buy  1 Year Return  \\\n0       A       126.30                     N/A            NaN   \n1     AAL        15.84                     N/A            NaN   \n2     AAP        71.01                     N/A            NaN   \n3    AAPL       181.99                     N/A            NaN   \n4    ABBV       147.73                     N/A            NaN   \n5     ABC       185.33                     N/A            NaN   \n6     ABT       107.65                     N/A            NaN   \n7    ACGL        76.72                     N/A            NaN   \n8     ACN       312.00                     N/A            NaN   \n9    ADBE       526.88                     N/A            NaN   \n10    ADI       188.35                     N/A            NaN   \n11    ADM        85.55                     N/A            NaN   \n12    ADP       245.76                     N/A            NaN   \n13   ADSK       201.57                     N/A            NaN   \n14    AEE        81.40                     N/A            NaN   \n15    AEP        81.24                     N/A            NaN   \n16    AES        19.64                     N/A            NaN   \n17    AFL        76.85                     N/A            NaN   \n18    AIG        60.69                     N/A            NaN   \n19    AIZ       141.78                     N/A            NaN   \n20    AJG       220.81                     N/A            NaN   \n21   AKAM        92.63                     N/A            NaN   \n22    ALB       200.09                     N/A            NaN   \n23   ALGN       361.44                     N/A            NaN   \n24    ALK        46.74                     N/A            NaN   \n25    ALL       109.87                     N/A            NaN   \n26   ALLE       111.91                     N/A            NaN   \n27   AMAT       145.66                     N/A            NaN   \n28   AMCR         9.85                     N/A            NaN   \n29    AMD       115.82                     N/A            NaN   \n30    AME       156.57                     N/A            NaN   \n31   AMGN       243.28                     N/A            NaN   \n32    AMP       344.86                     N/A            NaN   \n33    AMT       184.77                     N/A            NaN   \n34   AMZN       139.57                     N/A            NaN   \n35   ANET       179.60                     N/A            NaN   \n36   ANSS       304.65                     N/A            NaN   \n37    AON       315.06                     N/A            NaN   \n38    AOS        72.64                     N/A            NaN   \n39    APA        41.87                     N/A            NaN   \n40    APD       284.43                     N/A            NaN   \n41    APH        87.30                     N/A            NaN   \n42   APTV       106.80                     N/A            NaN   \n43    ARE       120.75                     N/A            NaN   \n44    ATO       117.27                     N/A            NaN   \n45   ATVI        91.58                     N/A            NaN   \n46    AVB       184.85                     N/A            NaN   \n47   AVGO       881.65                     N/A            NaN   \n48    AVY       185.02                     N/A            NaN   \n49    AWK       141.97                     N/A            NaN   \n\n   1 Year Return Percentile  6 Months Return 6 Months Return Percentile  \\\n0                       NaN       -17.038887                   0.115308   \n1                       NaN        -6.382978                   0.318091   \n2                       NaN       -53.181247                   0.001988   \n3                       NaN        19.943327                   0.892644   \n4                       NaN         1.868702                   0.552684   \n5                       NaN        19.962454                    0.89662   \n6                       NaN        -2.799096                   0.435388   \n7                       NaN        23.423426                   0.918489   \n8                       NaN         9.673787                   0.761431   \n9                       NaN        40.415209                   0.988072   \n10                      NaN         6.082795                   0.667992   \n11                      NaN         3.621615                   0.596421   \n12                      NaN         9.974490                   0.771372   \n13                      NaN        -7.680677                   0.284294   \n14                      NaN        -5.238649                   0.363817   \n15                      NaN       -12.172975                   0.176938   \n16                      NaN       -25.066768                   0.055666   \n17                      NaN        10.448400                   0.781312   \n18                      NaN         1.217478                   0.538767   \n19                      NaN         6.497404                    0.67992   \n20                      NaN        13.497812                   0.833002   \n21                      NaN         5.874957                   0.662028   \n22                      NaN       -27.715762                   0.045726   \n23                      NaN         5.542256                   0.646123   \n24                      NaN       -10.852563                   0.202783   \n25                      NaN       -18.602751                   0.095427   \n26                      NaN        -7.412922                   0.290258   \n27                      NaN        23.765826                   0.922465   \n28                      NaN       -17.435037                   0.111332   \n29                      NaN        38.408221                   0.978131   \n30                      NaN         6.445041                   0.675944   \n31                      NaN        -0.233753                   0.512922   \n32                      NaN        -1.757688                   0.465209   \n33                      NaN       -16.230676                   0.119284   \n34                      NaN        36.592295                   0.974155   \n35                      NaN        38.484080                   0.980119   \n36                      NaN        11.826892                   0.805169   \n37                      NaN        -0.840340                   0.499006   \n38                      NaN         7.630763                   0.705765   \n39                      NaN        -0.356976                   0.508946   \n40                      NaN         0.494645                   0.524851   \n41                      NaN         6.723716                   0.683897   \n42                      NaN        -7.090034                   0.300199   \n43                      NaN       -27.807005                   0.043738   \n44                      NaN        -0.314521                   0.510934   \n45                      NaN        27.940765                   0.950298   \n46                      NaN         3.389459                   0.588469   \n47                      NaN        46.623988                   0.992048   \n48                      NaN         3.629445                    0.59841   \n49                      NaN        -9.232148                   0.252485   \n\n    3 Months Return 3 Months Return Percentile  1 Month Return  \\\n0         -4.643257                   0.212724        6.645278   \n1         10.306410                   0.638171      -11.409391   \n2        -43.530813                   0.001988        1.500862   \n3          4.893375                   0.473161       -5.119646   \n4          0.189894                   0.345924        7.635698   \n5         10.177751                   0.634195       -3.569385   \n6         -2.930568                   0.266402        0.419780   \n7          0.761757                   0.361829        3.858127   \n8         17.815872                   0.831014        1.308569   \n9         53.136083                   0.994036        9.472459   \n10         2.075657                    0.38171        1.160107   \n11        13.461540                   0.715706       11.046212   \n12        14.696406                   0.755467       10.877510   \n13         4.989844                   0.475149        0.258644   \n14        -8.682968                   0.115308       -2.257441   \n15       -11.829826                   0.069583       -4.793161   \n16        -9.534776                   0.097416       -6.919436   \n17        13.616202                   0.725646       10.353244   \n18        12.911625                   0.701789        5.364584   \n19         7.694649                   0.552684       13.724233   \n20         2.549689                   0.397614        2.075624   \n21        16.735979                   0.799205        3.497204   \n22         7.644712                    0.54672      -12.075410   \n23        18.090631                   0.836978        9.222769   \n24         7.547176                   0.542744      -11.460502   \n25        -5.382363                   0.192843        1.020596   \n26         3.986249                   0.451292       -3.041063   \n27        25.840176                   0.920477        3.761219   \n28        -5.831737                    0.17495        0.203463   \n29        21.864477                   0.888668        2.062034   \n30         7.964421                   0.562624       -0.121196   \n31         3.691077                   0.435388        9.103957   \n32        17.423127                   0.821074        4.935483   \n33        -4.368305                   0.228628       -5.734396   \n34        31.881324                   0.966203        8.733255   \n35        30.078943                   0.956262       13.027069   \n36         3.506271                   0.429423       -5.208631   \n37        -5.253662                   0.198807       -6.546438   \n38         3.313898                   0.423459        2.889520   \n39        26.571937                   0.926441       24.427926   \n40        -3.772243                   0.240557       -1.184687   \n41        15.859330                   0.779324        4.301083   \n42        13.653295                   0.727634        1.830669   \n43        -1.307723                   0.308151        3.231597   \n44        -0.500597                   0.324056       -0.229713   \n45        21.217734                   0.882704       10.737612   \n46         2.489469                   0.395626       -3.929108   \n47        40.153567                   0.988072        3.968163   \n48         7.669930                   0.548708        9.046977   \n49        -3.729572                   0.242545       -0.315965   \n\n   1 Month Return Percentile HQM Score  \n0                   0.751491       NaN  \n1                   0.049702       NaN  \n2                   0.481113       NaN  \n3                   0.161034       NaN  \n4                     0.7833       NaN  \n5                   0.222664       NaN  \n6                   0.435388       NaN  \n7                   0.604374       NaN  \n8                   0.471173       NaN  \n9                   0.840954       NaN  \n10                  0.461233       NaN  \n11                  0.882704       NaN  \n12                  0.880716       NaN  \n13                  0.423459       NaN  \n14                  0.286282       NaN  \n15                   0.16501       NaN  \n16                  0.101392       NaN  \n17                  0.866799       NaN  \n18                  0.697813       NaN  \n19                  0.924453       NaN  \n20                  0.506958       NaN  \n21                  0.590457       NaN  \n22                  0.029821       NaN  \n23                  0.833002       NaN  \n24                  0.045726       NaN  \n25                  0.459245       NaN  \n26                  0.248509       NaN  \n27                  0.600398       NaN  \n28                  0.417495       NaN  \n29                   0.50497       NaN  \n30                  0.407555       NaN  \n31                  0.827038       NaN  \n32                  0.677932       NaN  \n33                  0.133201       NaN  \n34                  0.807157       NaN  \n35                  0.920477       NaN  \n36                  0.157058       NaN  \n37                  0.109344       NaN  \n38                  0.562624       NaN  \n39                  0.994036       NaN  \n40                  0.332008       NaN  \n41                  0.632207       NaN  \n42                  0.491054       NaN  \n43                  0.578529       NaN  \n44                   0.40159       NaN  \n45                  0.878728       NaN  \n46                  0.196819       NaN  \n47                  0.616302       NaN  \n48                   0.82505       NaN  \n49                  0.395626       NaN  ",
      "text/html": "<div>\n<style scoped>\n    .dataframe tbody tr th:only-of-type {\n        vertical-align: middle;\n    }\n\n    .dataframe tbody tr th {\n        vertical-align: top;\n    }\n\n    .dataframe thead th {\n        text-align: right;\n    }\n</style>\n<table border=\"1\" class=\"dataframe\">\n  <thead>\n    <tr style=\"text-align: right;\">\n      <th></th>\n      <th>Ticker</th>\n      <th>Stock Price</th>\n      <th>Number of Shares to Buy</th>\n      <th>1 Year Return</th>\n      <th>1 Year Return Percentile</th>\n      <th>6 Months Return</th>\n      <th>6 Months Return Percentile</th>\n      <th>3 Months Return</th>\n      <th>3 Months Return Percentile</th>\n      <th>1 Month Return</th>\n      <th>1 Month Return Percentile</th>\n      <th>HQM Score</th>\n    </tr>\n  </thead>\n  <tbody>\n    <tr>\n      <th>0</th>\n      <td>A</td>\n      <td>126.30</td>\n      <td>N/A</td>\n      <td>NaN</td>\n      <td>NaN</td>\n      <td>-17.038887</td>\n      <td>0.115308</td>\n      <td>-4.643257</td>\n      <td>0.212724</td>\n      <td>6.645278</td>\n      <td>0.751491</td>\n      <td>NaN</td>\n    </tr>\n    <tr>\n      <th>1</th>\n      <td>AAL</td>\n      <td>15.84</td>\n      <td>N/A</td>\n      <td>NaN</td>\n      <td>NaN</td>\n      <td>-6.382978</td>\n      <td>0.318091</td>\n      <td>10.306410</td>\n      <td>0.638171</td>\n      <td>-11.409391</td>\n      <td>0.049702</td>\n      <td>NaN</td>\n    </tr>\n    <tr>\n      <th>2</th>\n      <td>AAP</td>\n      <td>71.01</td>\n      <td>N/A</td>\n      <td>NaN</td>\n      <td>NaN</td>\n      <td>-53.181247</td>\n      <td>0.001988</td>\n      <td>-43.530813</td>\n      <td>0.001988</td>\n      <td>1.500862</td>\n      <td>0.481113</td>\n      <td>NaN</td>\n    </tr>\n    <tr>\n      <th>3</th>\n      <td>AAPL</td>\n      <td>181.99</td>\n      <td>N/A</td>\n      <td>NaN</td>\n      <td>NaN</td>\n      <td>19.943327</td>\n      <td>0.892644</td>\n      <td>4.893375</td>\n      <td>0.473161</td>\n      <td>-5.119646</td>\n      <td>0.161034</td>\n      <td>NaN</td>\n    </tr>\n    <tr>\n      <th>4</th>\n      <td>ABBV</td>\n      <td>147.73</td>\n      <td>N/A</td>\n      <td>NaN</td>\n      <td>NaN</td>\n      <td>1.868702</td>\n      <td>0.552684</td>\n      <td>0.189894</td>\n      <td>0.345924</td>\n      <td>7.635698</td>\n      <td>0.7833</td>\n      <td>NaN</td>\n    </tr>\n    <tr>\n      <th>5</th>\n      <td>ABC</td>\n      <td>185.33</td>\n      <td>N/A</td>\n      <td>NaN</td>\n      <td>NaN</td>\n      <td>19.962454</td>\n      <td>0.89662</td>\n      <td>10.177751</td>\n      <td>0.634195</td>\n      <td>-3.569385</td>\n      <td>0.222664</td>\n      <td>NaN</td>\n    </tr>\n    <tr>\n      <th>6</th>\n      <td>ABT</td>\n      <td>107.65</td>\n      <td>N/A</td>\n      <td>NaN</td>\n      <td>NaN</td>\n      <td>-2.799096</td>\n      <td>0.435388</td>\n      <td>-2.930568</td>\n      <td>0.266402</td>\n      <td>0.419780</td>\n      <td>0.435388</td>\n      <td>NaN</td>\n    </tr>\n    <tr>\n      <th>7</th>\n      <td>ACGL</td>\n      <td>76.72</td>\n      <td>N/A</td>\n      <td>NaN</td>\n      <td>NaN</td>\n      <td>23.423426</td>\n      <td>0.918489</td>\n      <td>0.761757</td>\n      <td>0.361829</td>\n      <td>3.858127</td>\n      <td>0.604374</td>\n      <td>NaN</td>\n    </tr>\n    <tr>\n      <th>8</th>\n      <td>ACN</td>\n      <td>312.00</td>\n      <td>N/A</td>\n      <td>NaN</td>\n      <td>NaN</td>\n      <td>9.673787</td>\n      <td>0.761431</td>\n      <td>17.815872</td>\n      <td>0.831014</td>\n      <td>1.308569</td>\n      <td>0.471173</td>\n      <td>NaN</td>\n    </tr>\n    <tr>\n      <th>9</th>\n      <td>ADBE</td>\n      <td>526.88</td>\n      <td>N/A</td>\n      <td>NaN</td>\n      <td>NaN</td>\n      <td>40.415209</td>\n      <td>0.988072</td>\n      <td>53.136083</td>\n      <td>0.994036</td>\n      <td>9.472459</td>\n      <td>0.840954</td>\n      <td>NaN</td>\n    </tr>\n    <tr>\n      <th>10</th>\n      <td>ADI</td>\n      <td>188.35</td>\n      <td>N/A</td>\n      <td>NaN</td>\n      <td>NaN</td>\n      <td>6.082795</td>\n      <td>0.667992</td>\n      <td>2.075657</td>\n      <td>0.38171</td>\n      <td>1.160107</td>\n      <td>0.461233</td>\n      <td>NaN</td>\n    </tr>\n    <tr>\n      <th>11</th>\n      <td>ADM</td>\n      <td>85.55</td>\n      <td>N/A</td>\n      <td>NaN</td>\n      <td>NaN</td>\n      <td>3.621615</td>\n      <td>0.596421</td>\n      <td>13.461540</td>\n      <td>0.715706</td>\n      <td>11.046212</td>\n      <td>0.882704</td>\n      <td>NaN</td>\n    </tr>\n    <tr>\n      <th>12</th>\n      <td>ADP</td>\n      <td>245.76</td>\n      <td>N/A</td>\n      <td>NaN</td>\n      <td>NaN</td>\n      <td>9.974490</td>\n      <td>0.771372</td>\n      <td>14.696406</td>\n      <td>0.755467</td>\n      <td>10.877510</td>\n      <td>0.880716</td>\n      <td>NaN</td>\n    </tr>\n    <tr>\n      <th>13</th>\n      <td>ADSK</td>\n      <td>201.57</td>\n      <td>N/A</td>\n      <td>NaN</td>\n      <td>NaN</td>\n      <td>-7.680677</td>\n      <td>0.284294</td>\n      <td>4.989844</td>\n      <td>0.475149</td>\n      <td>0.258644</td>\n      <td>0.423459</td>\n      <td>NaN</td>\n    </tr>\n    <tr>\n      <th>14</th>\n      <td>AEE</td>\n      <td>81.40</td>\n      <td>N/A</td>\n      <td>NaN</td>\n      <td>NaN</td>\n      <td>-5.238649</td>\n      <td>0.363817</td>\n      <td>-8.682968</td>\n      <td>0.115308</td>\n      <td>-2.257441</td>\n      <td>0.286282</td>\n      <td>NaN</td>\n    </tr>\n    <tr>\n      <th>15</th>\n      <td>AEP</td>\n      <td>81.24</td>\n      <td>N/A</td>\n      <td>NaN</td>\n      <td>NaN</td>\n      <td>-12.172975</td>\n      <td>0.176938</td>\n      <td>-11.829826</td>\n      <td>0.069583</td>\n      <td>-4.793161</td>\n      <td>0.16501</td>\n      <td>NaN</td>\n    </tr>\n    <tr>\n      <th>16</th>\n      <td>AES</td>\n      <td>19.64</td>\n      <td>N/A</td>\n      <td>NaN</td>\n      <td>NaN</td>\n      <td>-25.066768</td>\n      <td>0.055666</td>\n      <td>-9.534776</td>\n      <td>0.097416</td>\n      <td>-6.919436</td>\n      <td>0.101392</td>\n      <td>NaN</td>\n    </tr>\n    <tr>\n      <th>17</th>\n      <td>AFL</td>\n      <td>76.85</td>\n      <td>N/A</td>\n      <td>NaN</td>\n      <td>NaN</td>\n      <td>10.448400</td>\n      <td>0.781312</td>\n      <td>13.616202</td>\n      <td>0.725646</td>\n      <td>10.353244</td>\n      <td>0.866799</td>\n      <td>NaN</td>\n    </tr>\n    <tr>\n      <th>18</th>\n      <td>AIG</td>\n      <td>60.69</td>\n      <td>N/A</td>\n      <td>NaN</td>\n      <td>NaN</td>\n      <td>1.217478</td>\n      <td>0.538767</td>\n      <td>12.911625</td>\n      <td>0.701789</td>\n      <td>5.364584</td>\n      <td>0.697813</td>\n      <td>NaN</td>\n    </tr>\n    <tr>\n      <th>19</th>\n      <td>AIZ</td>\n      <td>141.78</td>\n      <td>N/A</td>\n      <td>NaN</td>\n      <td>NaN</td>\n      <td>6.497404</td>\n      <td>0.67992</td>\n      <td>7.694649</td>\n      <td>0.552684</td>\n      <td>13.724233</td>\n      <td>0.924453</td>\n      <td>NaN</td>\n    </tr>\n    <tr>\n      <th>20</th>\n      <td>AJG</td>\n      <td>220.81</td>\n      <td>N/A</td>\n      <td>NaN</td>\n      <td>NaN</td>\n      <td>13.497812</td>\n      <td>0.833002</td>\n      <td>2.549689</td>\n      <td>0.397614</td>\n      <td>2.075624</td>\n      <td>0.506958</td>\n      <td>NaN</td>\n    </tr>\n    <tr>\n      <th>21</th>\n      <td>AKAM</td>\n      <td>92.63</td>\n      <td>N/A</td>\n      <td>NaN</td>\n      <td>NaN</td>\n      <td>5.874957</td>\n      <td>0.662028</td>\n      <td>16.735979</td>\n      <td>0.799205</td>\n      <td>3.497204</td>\n      <td>0.590457</td>\n      <td>NaN</td>\n    </tr>\n    <tr>\n      <th>22</th>\n      <td>ALB</td>\n      <td>200.09</td>\n      <td>N/A</td>\n      <td>NaN</td>\n      <td>NaN</td>\n      <td>-27.715762</td>\n      <td>0.045726</td>\n      <td>7.644712</td>\n      <td>0.54672</td>\n      <td>-12.075410</td>\n      <td>0.029821</td>\n      <td>NaN</td>\n    </tr>\n    <tr>\n      <th>23</th>\n      <td>ALGN</td>\n      <td>361.44</td>\n      <td>N/A</td>\n      <td>NaN</td>\n      <td>NaN</td>\n      <td>5.542256</td>\n      <td>0.646123</td>\n      <td>18.090631</td>\n      <td>0.836978</td>\n      <td>9.222769</td>\n      <td>0.833002</td>\n      <td>NaN</td>\n    </tr>\n    <tr>\n      <th>24</th>\n      <td>ALK</td>\n      <td>46.74</td>\n      <td>N/A</td>\n      <td>NaN</td>\n      <td>NaN</td>\n      <td>-10.852563</td>\n      <td>0.202783</td>\n      <td>7.547176</td>\n      <td>0.542744</td>\n      <td>-11.460502</td>\n      <td>0.045726</td>\n      <td>NaN</td>\n    </tr>\n    <tr>\n      <th>25</th>\n      <td>ALL</td>\n      <td>109.87</td>\n      <td>N/A</td>\n      <td>NaN</td>\n      <td>NaN</td>\n      <td>-18.602751</td>\n      <td>0.095427</td>\n      <td>-5.382363</td>\n      <td>0.192843</td>\n      <td>1.020596</td>\n      <td>0.459245</td>\n      <td>NaN</td>\n    </tr>\n    <tr>\n      <th>26</th>\n      <td>ALLE</td>\n      <td>111.91</td>\n      <td>N/A</td>\n      <td>NaN</td>\n      <td>NaN</td>\n      <td>-7.412922</td>\n      <td>0.290258</td>\n      <td>3.986249</td>\n      <td>0.451292</td>\n      <td>-3.041063</td>\n      <td>0.248509</td>\n      <td>NaN</td>\n    </tr>\n    <tr>\n      <th>27</th>\n      <td>AMAT</td>\n      <td>145.66</td>\n      <td>N/A</td>\n      <td>NaN</td>\n      <td>NaN</td>\n      <td>23.765826</td>\n      <td>0.922465</td>\n      <td>25.840176</td>\n      <td>0.920477</td>\n      <td>3.761219</td>\n      <td>0.600398</td>\n      <td>NaN</td>\n    </tr>\n    <tr>\n      <th>28</th>\n      <td>AMCR</td>\n      <td>9.85</td>\n      <td>N/A</td>\n      <td>NaN</td>\n      <td>NaN</td>\n      <td>-17.435037</td>\n      <td>0.111332</td>\n      <td>-5.831737</td>\n      <td>0.17495</td>\n      <td>0.203463</td>\n      <td>0.417495</td>\n      <td>NaN</td>\n    </tr>\n    <tr>\n      <th>29</th>\n      <td>AMD</td>\n      <td>115.82</td>\n      <td>N/A</td>\n      <td>NaN</td>\n      <td>NaN</td>\n      <td>38.408221</td>\n      <td>0.978131</td>\n      <td>21.864477</td>\n      <td>0.888668</td>\n      <td>2.062034</td>\n      <td>0.50497</td>\n      <td>NaN</td>\n    </tr>\n    <tr>\n      <th>30</th>\n      <td>AME</td>\n      <td>156.57</td>\n      <td>N/A</td>\n      <td>NaN</td>\n      <td>NaN</td>\n      <td>6.445041</td>\n      <td>0.675944</td>\n      <td>7.964421</td>\n      <td>0.562624</td>\n      <td>-0.121196</td>\n      <td>0.407555</td>\n      <td>NaN</td>\n    </tr>\n    <tr>\n      <th>31</th>\n      <td>AMGN</td>\n      <td>243.28</td>\n      <td>N/A</td>\n      <td>NaN</td>\n      <td>NaN</td>\n      <td>-0.233753</td>\n      <td>0.512922</td>\n      <td>3.691077</td>\n      <td>0.435388</td>\n      <td>9.103957</td>\n      <td>0.827038</td>\n      <td>NaN</td>\n    </tr>\n    <tr>\n      <th>32</th>\n      <td>AMP</td>\n      <td>344.86</td>\n      <td>N/A</td>\n      <td>NaN</td>\n      <td>NaN</td>\n      <td>-1.757688</td>\n      <td>0.465209</td>\n      <td>17.423127</td>\n      <td>0.821074</td>\n      <td>4.935483</td>\n      <td>0.677932</td>\n      <td>NaN</td>\n    </tr>\n    <tr>\n      <th>33</th>\n      <td>AMT</td>\n      <td>184.77</td>\n      <td>N/A</td>\n      <td>NaN</td>\n      <td>NaN</td>\n      <td>-16.230676</td>\n      <td>0.119284</td>\n      <td>-4.368305</td>\n      <td>0.228628</td>\n      <td>-5.734396</td>\n      <td>0.133201</td>\n      <td>NaN</td>\n    </tr>\n    <tr>\n      <th>34</th>\n      <td>AMZN</td>\n      <td>139.57</td>\n      <td>N/A</td>\n      <td>NaN</td>\n      <td>NaN</td>\n      <td>36.592295</td>\n      <td>0.974155</td>\n      <td>31.881324</td>\n      <td>0.966203</td>\n      <td>8.733255</td>\n      <td>0.807157</td>\n      <td>NaN</td>\n    </tr>\n    <tr>\n      <th>35</th>\n      <td>ANET</td>\n      <td>179.60</td>\n      <td>N/A</td>\n      <td>NaN</td>\n      <td>NaN</td>\n      <td>38.484080</td>\n      <td>0.980119</td>\n      <td>30.078943</td>\n      <td>0.956262</td>\n      <td>13.027069</td>\n      <td>0.920477</td>\n      <td>NaN</td>\n    </tr>\n    <tr>\n      <th>36</th>\n      <td>ANSS</td>\n      <td>304.65</td>\n      <td>N/A</td>\n      <td>NaN</td>\n      <td>NaN</td>\n      <td>11.826892</td>\n      <td>0.805169</td>\n      <td>3.506271</td>\n      <td>0.429423</td>\n      <td>-5.208631</td>\n      <td>0.157058</td>\n      <td>NaN</td>\n    </tr>\n    <tr>\n      <th>37</th>\n      <td>AON</td>\n      <td>315.06</td>\n      <td>N/A</td>\n      <td>NaN</td>\n      <td>NaN</td>\n      <td>-0.840340</td>\n      <td>0.499006</td>\n      <td>-5.253662</td>\n      <td>0.198807</td>\n      <td>-6.546438</td>\n      <td>0.109344</td>\n      <td>NaN</td>\n    </tr>\n    <tr>\n      <th>38</th>\n      <td>AOS</td>\n      <td>72.64</td>\n      <td>N/A</td>\n      <td>NaN</td>\n      <td>NaN</td>\n      <td>7.630763</td>\n      <td>0.705765</td>\n      <td>3.313898</td>\n      <td>0.423459</td>\n      <td>2.889520</td>\n      <td>0.562624</td>\n      <td>NaN</td>\n    </tr>\n    <tr>\n      <th>39</th>\n      <td>APA</td>\n      <td>41.87</td>\n      <td>N/A</td>\n      <td>NaN</td>\n      <td>NaN</td>\n      <td>-0.356976</td>\n      <td>0.508946</td>\n      <td>26.571937</td>\n      <td>0.926441</td>\n      <td>24.427926</td>\n      <td>0.994036</td>\n      <td>NaN</td>\n    </tr>\n    <tr>\n      <th>40</th>\n      <td>APD</td>\n      <td>284.43</td>\n      <td>N/A</td>\n      <td>NaN</td>\n      <td>NaN</td>\n      <td>0.494645</td>\n      <td>0.524851</td>\n      <td>-3.772243</td>\n      <td>0.240557</td>\n      <td>-1.184687</td>\n      <td>0.332008</td>\n      <td>NaN</td>\n    </tr>\n    <tr>\n      <th>41</th>\n      <td>APH</td>\n      <td>87.30</td>\n      <td>N/A</td>\n      <td>NaN</td>\n      <td>NaN</td>\n      <td>6.723716</td>\n      <td>0.683897</td>\n      <td>15.859330</td>\n      <td>0.779324</td>\n      <td>4.301083</td>\n      <td>0.632207</td>\n      <td>NaN</td>\n    </tr>\n    <tr>\n      <th>42</th>\n      <td>APTV</td>\n      <td>106.80</td>\n      <td>N/A</td>\n      <td>NaN</td>\n      <td>NaN</td>\n      <td>-7.090034</td>\n      <td>0.300199</td>\n      <td>13.653295</td>\n      <td>0.727634</td>\n      <td>1.830669</td>\n      <td>0.491054</td>\n      <td>NaN</td>\n    </tr>\n    <tr>\n      <th>43</th>\n      <td>ARE</td>\n      <td>120.75</td>\n      <td>N/A</td>\n      <td>NaN</td>\n      <td>NaN</td>\n      <td>-27.807005</td>\n      <td>0.043738</td>\n      <td>-1.307723</td>\n      <td>0.308151</td>\n      <td>3.231597</td>\n      <td>0.578529</td>\n      <td>NaN</td>\n    </tr>\n    <tr>\n      <th>44</th>\n      <td>ATO</td>\n      <td>117.27</td>\n      <td>N/A</td>\n      <td>NaN</td>\n      <td>NaN</td>\n      <td>-0.314521</td>\n      <td>0.510934</td>\n      <td>-0.500597</td>\n      <td>0.324056</td>\n      <td>-0.229713</td>\n      <td>0.40159</td>\n      <td>NaN</td>\n    </tr>\n    <tr>\n      <th>45</th>\n      <td>ATVI</td>\n      <td>91.58</td>\n      <td>N/A</td>\n      <td>NaN</td>\n      <td>NaN</td>\n      <td>27.940765</td>\n      <td>0.950298</td>\n      <td>21.217734</td>\n      <td>0.882704</td>\n      <td>10.737612</td>\n      <td>0.878728</td>\n      <td>NaN</td>\n    </tr>\n    <tr>\n      <th>46</th>\n      <td>AVB</td>\n      <td>184.85</td>\n      <td>N/A</td>\n      <td>NaN</td>\n      <td>NaN</td>\n      <td>3.389459</td>\n      <td>0.588469</td>\n      <td>2.489469</td>\n      <td>0.395626</td>\n      <td>-3.929108</td>\n      <td>0.196819</td>\n      <td>NaN</td>\n    </tr>\n    <tr>\n      <th>47</th>\n      <td>AVGO</td>\n      <td>881.65</td>\n      <td>N/A</td>\n      <td>NaN</td>\n      <td>NaN</td>\n      <td>46.623988</td>\n      <td>0.992048</td>\n      <td>40.153567</td>\n      <td>0.988072</td>\n      <td>3.968163</td>\n      <td>0.616302</td>\n      <td>NaN</td>\n    </tr>\n    <tr>\n      <th>48</th>\n      <td>AVY</td>\n      <td>185.02</td>\n      <td>N/A</td>\n      <td>NaN</td>\n      <td>NaN</td>\n      <td>3.629445</td>\n      <td>0.59841</td>\n      <td>7.669930</td>\n      <td>0.548708</td>\n      <td>9.046977</td>\n      <td>0.82505</td>\n      <td>NaN</td>\n    </tr>\n    <tr>\n      <th>49</th>\n      <td>AWK</td>\n      <td>141.97</td>\n      <td>N/A</td>\n      <td>NaN</td>\n      <td>NaN</td>\n      <td>-9.232148</td>\n      <td>0.252485</td>\n      <td>-3.729572</td>\n      <td>0.242545</td>\n      <td>-0.315965</td>\n      <td>0.395626</td>\n      <td>NaN</td>\n    </tr>\n  </tbody>\n</table>\n</div>"
     },
     "execution_count": 29,
     "metadata": {},
     "output_type": "execute_result"
    }
   ]
  },
  {
   "cell_type": "markdown",
   "source": [
    "## Calculating the Number of Shares to Buy\n",
    "\n",
    "As we can see in the DataFrame above, we stil haven't calculated the number of shares of each stock to buy."
   ],
   "metadata": {
    "collapsed": false
   }
  },
  {
   "cell_type": "code",
   "source": [
    "# portfolio_size = float(input(\"Enter your portfolio value: \"))\n",
    "portfolio_size = 10000000\n",
    "portfolio_size"
   ],
   "metadata": {
    "colab": {
     "base_uri": "https://localhost:8080/"
    },
    "id": "EdlinDPdBsV5",
    "outputId": "39f5f4ba-1f28-4728-8635-a3dd82777b18",
    "ExecuteTime": {
     "end_time": "2023-08-05T04:38:16.931982944Z",
     "start_time": "2023-08-05T04:38:16.914259571Z"
    }
   },
   "execution_count": 30,
   "outputs": [
    {
     "data": {
      "text/plain": "10000000"
     },
     "execution_count": 30,
     "metadata": {},
     "output_type": "execute_result"
    }
   ]
  },
  {
   "cell_type": "code",
   "source": [
    "position_size = portfolio_size / len(final_dataframe.index)\n",
    "position_size"
   ],
   "metadata": {
    "colab": {
     "base_uri": "https://localhost:8080/"
    },
    "id": "cHFqCXXNB4A5",
    "outputId": "03e6b75d-1db5-439d-9a79-664ae30b0683",
    "ExecuteTime": {
     "end_time": "2023-08-05T04:38:16.932215258Z",
     "start_time": "2023-08-05T04:38:16.918233414Z"
    }
   },
   "execution_count": 31,
   "outputs": [
    {
     "data": {
      "text/plain": "200000.0"
     },
     "execution_count": 31,
     "metadata": {},
     "output_type": "execute_result"
    }
   ]
  },
  {
   "cell_type": "code",
   "source": [
    "for i in range(len(hqm_dataframe.index)):\n",
    "    hqm_dataframe.loc[i, 'Number of Shares to Buy'] = math.floor(position_size / hqm_dataframe.loc[i, 'Stock Price'])\n",
    "\n",
    "hqm_dataframe"
   ],
   "metadata": {
    "colab": {
     "base_uri": "https://localhost:8080/",
     "height": 702
    },
    "id": "b17SIFHSB7Fe",
    "outputId": "18cd2483-77cd-4df8-dbbd-dccd791194bc",
    "ExecuteTime": {
     "end_time": "2023-08-05T04:38:17.004083619Z",
     "start_time": "2023-08-05T04:38:16.931330874Z"
    }
   },
   "execution_count": 32,
   "outputs": [
    {
     "data": {
      "text/plain": "   Ticker  Stock Price Number of Shares to Buy  1 Year Return  \\\n0       A       126.30                    1583            NaN   \n1     AAL        15.84                   12626            NaN   \n2     AAP        71.01                    2816            NaN   \n3    AAPL       181.99                    1098            NaN   \n4    ABBV       147.73                    1353            NaN   \n5     ABC       185.33                    1079            NaN   \n6     ABT       107.65                    1857            NaN   \n7    ACGL        76.72                    2606            NaN   \n8     ACN       312.00                     641            NaN   \n9    ADBE       526.88                     379            NaN   \n10    ADI       188.35                    1061            NaN   \n11    ADM        85.55                    2337            NaN   \n12    ADP       245.76                     813            NaN   \n13   ADSK       201.57                     992            NaN   \n14    AEE        81.40                    2457            NaN   \n15    AEP        81.24                    2461            NaN   \n16    AES        19.64                   10183            NaN   \n17    AFL        76.85                    2602            NaN   \n18    AIG        60.69                    3295            NaN   \n19    AIZ       141.78                    1410            NaN   \n20    AJG       220.81                     905            NaN   \n21   AKAM        92.63                    2159            NaN   \n22    ALB       200.09                     999            NaN   \n23   ALGN       361.44                     553            NaN   \n24    ALK        46.74                    4278            NaN   \n25    ALL       109.87                    1820            NaN   \n26   ALLE       111.91                    1787            NaN   \n27   AMAT       145.66                    1373            NaN   \n28   AMCR         9.85                   20304            NaN   \n29    AMD       115.82                    1726            NaN   \n30    AME       156.57                    1277            NaN   \n31   AMGN       243.28                     822            NaN   \n32    AMP       344.86                     579            NaN   \n33    AMT       184.77                    1082            NaN   \n34   AMZN       139.57                    1432            NaN   \n35   ANET       179.60                    1113            NaN   \n36   ANSS       304.65                     656            NaN   \n37    AON       315.06                     634            NaN   \n38    AOS        72.64                    2753            NaN   \n39    APA        41.87                    4776            NaN   \n40    APD       284.43                     703            NaN   \n41    APH        87.30                    2290            NaN   \n42   APTV       106.80                    1872            NaN   \n43    ARE       120.75                    1656            NaN   \n44    ATO       117.27                    1705            NaN   \n45   ATVI        91.58                    2183            NaN   \n46    AVB       184.85                    1081            NaN   \n47   AVGO       881.65                     226            NaN   \n48    AVY       185.02                    1080            NaN   \n49    AWK       141.97                    1408            NaN   \n\n   1 Year Return Percentile  6 Months Return 6 Months Return Percentile  \\\n0                       NaN       -17.038887                   0.115308   \n1                       NaN        -6.382978                   0.318091   \n2                       NaN       -53.181247                   0.001988   \n3                       NaN        19.943327                   0.892644   \n4                       NaN         1.868702                   0.552684   \n5                       NaN        19.962454                    0.89662   \n6                       NaN        -2.799096                   0.435388   \n7                       NaN        23.423426                   0.918489   \n8                       NaN         9.673787                   0.761431   \n9                       NaN        40.415209                   0.988072   \n10                      NaN         6.082795                   0.667992   \n11                      NaN         3.621615                   0.596421   \n12                      NaN         9.974490                   0.771372   \n13                      NaN        -7.680677                   0.284294   \n14                      NaN        -5.238649                   0.363817   \n15                      NaN       -12.172975                   0.176938   \n16                      NaN       -25.066768                   0.055666   \n17                      NaN        10.448400                   0.781312   \n18                      NaN         1.217478                   0.538767   \n19                      NaN         6.497404                    0.67992   \n20                      NaN        13.497812                   0.833002   \n21                      NaN         5.874957                   0.662028   \n22                      NaN       -27.715762                   0.045726   \n23                      NaN         5.542256                   0.646123   \n24                      NaN       -10.852563                   0.202783   \n25                      NaN       -18.602751                   0.095427   \n26                      NaN        -7.412922                   0.290258   \n27                      NaN        23.765826                   0.922465   \n28                      NaN       -17.435037                   0.111332   \n29                      NaN        38.408221                   0.978131   \n30                      NaN         6.445041                   0.675944   \n31                      NaN        -0.233753                   0.512922   \n32                      NaN        -1.757688                   0.465209   \n33                      NaN       -16.230676                   0.119284   \n34                      NaN        36.592295                   0.974155   \n35                      NaN        38.484080                   0.980119   \n36                      NaN        11.826892                   0.805169   \n37                      NaN        -0.840340                   0.499006   \n38                      NaN         7.630763                   0.705765   \n39                      NaN        -0.356976                   0.508946   \n40                      NaN         0.494645                   0.524851   \n41                      NaN         6.723716                   0.683897   \n42                      NaN        -7.090034                   0.300199   \n43                      NaN       -27.807005                   0.043738   \n44                      NaN        -0.314521                   0.510934   \n45                      NaN        27.940765                   0.950298   \n46                      NaN         3.389459                   0.588469   \n47                      NaN        46.623988                   0.992048   \n48                      NaN         3.629445                    0.59841   \n49                      NaN        -9.232148                   0.252485   \n\n    3 Months Return 3 Months Return Percentile  1 Month Return  \\\n0         -4.643257                   0.212724        6.645278   \n1         10.306410                   0.638171      -11.409391   \n2        -43.530813                   0.001988        1.500862   \n3          4.893375                   0.473161       -5.119646   \n4          0.189894                   0.345924        7.635698   \n5         10.177751                   0.634195       -3.569385   \n6         -2.930568                   0.266402        0.419780   \n7          0.761757                   0.361829        3.858127   \n8         17.815872                   0.831014        1.308569   \n9         53.136083                   0.994036        9.472459   \n10         2.075657                    0.38171        1.160107   \n11        13.461540                   0.715706       11.046212   \n12        14.696406                   0.755467       10.877510   \n13         4.989844                   0.475149        0.258644   \n14        -8.682968                   0.115308       -2.257441   \n15       -11.829826                   0.069583       -4.793161   \n16        -9.534776                   0.097416       -6.919436   \n17        13.616202                   0.725646       10.353244   \n18        12.911625                   0.701789        5.364584   \n19         7.694649                   0.552684       13.724233   \n20         2.549689                   0.397614        2.075624   \n21        16.735979                   0.799205        3.497204   \n22         7.644712                    0.54672      -12.075410   \n23        18.090631                   0.836978        9.222769   \n24         7.547176                   0.542744      -11.460502   \n25        -5.382363                   0.192843        1.020596   \n26         3.986249                   0.451292       -3.041063   \n27        25.840176                   0.920477        3.761219   \n28        -5.831737                    0.17495        0.203463   \n29        21.864477                   0.888668        2.062034   \n30         7.964421                   0.562624       -0.121196   \n31         3.691077                   0.435388        9.103957   \n32        17.423127                   0.821074        4.935483   \n33        -4.368305                   0.228628       -5.734396   \n34        31.881324                   0.966203        8.733255   \n35        30.078943                   0.956262       13.027069   \n36         3.506271                   0.429423       -5.208631   \n37        -5.253662                   0.198807       -6.546438   \n38         3.313898                   0.423459        2.889520   \n39        26.571937                   0.926441       24.427926   \n40        -3.772243                   0.240557       -1.184687   \n41        15.859330                   0.779324        4.301083   \n42        13.653295                   0.727634        1.830669   \n43        -1.307723                   0.308151        3.231597   \n44        -0.500597                   0.324056       -0.229713   \n45        21.217734                   0.882704       10.737612   \n46         2.489469                   0.395626       -3.929108   \n47        40.153567                   0.988072        3.968163   \n48         7.669930                   0.548708        9.046977   \n49        -3.729572                   0.242545       -0.315965   \n\n   1 Month Return Percentile HQM Score  \n0                   0.751491       NaN  \n1                   0.049702       NaN  \n2                   0.481113       NaN  \n3                   0.161034       NaN  \n4                     0.7833       NaN  \n5                   0.222664       NaN  \n6                   0.435388       NaN  \n7                   0.604374       NaN  \n8                   0.471173       NaN  \n9                   0.840954       NaN  \n10                  0.461233       NaN  \n11                  0.882704       NaN  \n12                  0.880716       NaN  \n13                  0.423459       NaN  \n14                  0.286282       NaN  \n15                   0.16501       NaN  \n16                  0.101392       NaN  \n17                  0.866799       NaN  \n18                  0.697813       NaN  \n19                  0.924453       NaN  \n20                  0.506958       NaN  \n21                  0.590457       NaN  \n22                  0.029821       NaN  \n23                  0.833002       NaN  \n24                  0.045726       NaN  \n25                  0.459245       NaN  \n26                  0.248509       NaN  \n27                  0.600398       NaN  \n28                  0.417495       NaN  \n29                   0.50497       NaN  \n30                  0.407555       NaN  \n31                  0.827038       NaN  \n32                  0.677932       NaN  \n33                  0.133201       NaN  \n34                  0.807157       NaN  \n35                  0.920477       NaN  \n36                  0.157058       NaN  \n37                  0.109344       NaN  \n38                  0.562624       NaN  \n39                  0.994036       NaN  \n40                  0.332008       NaN  \n41                  0.632207       NaN  \n42                  0.491054       NaN  \n43                  0.578529       NaN  \n44                   0.40159       NaN  \n45                  0.878728       NaN  \n46                  0.196819       NaN  \n47                  0.616302       NaN  \n48                   0.82505       NaN  \n49                  0.395626       NaN  ",
      "text/html": "<div>\n<style scoped>\n    .dataframe tbody tr th:only-of-type {\n        vertical-align: middle;\n    }\n\n    .dataframe tbody tr th {\n        vertical-align: top;\n    }\n\n    .dataframe thead th {\n        text-align: right;\n    }\n</style>\n<table border=\"1\" class=\"dataframe\">\n  <thead>\n    <tr style=\"text-align: right;\">\n      <th></th>\n      <th>Ticker</th>\n      <th>Stock Price</th>\n      <th>Number of Shares to Buy</th>\n      <th>1 Year Return</th>\n      <th>1 Year Return Percentile</th>\n      <th>6 Months Return</th>\n      <th>6 Months Return Percentile</th>\n      <th>3 Months Return</th>\n      <th>3 Months Return Percentile</th>\n      <th>1 Month Return</th>\n      <th>1 Month Return Percentile</th>\n      <th>HQM Score</th>\n    </tr>\n  </thead>\n  <tbody>\n    <tr>\n      <th>0</th>\n      <td>A</td>\n      <td>126.30</td>\n      <td>1583</td>\n      <td>NaN</td>\n      <td>NaN</td>\n      <td>-17.038887</td>\n      <td>0.115308</td>\n      <td>-4.643257</td>\n      <td>0.212724</td>\n      <td>6.645278</td>\n      <td>0.751491</td>\n      <td>NaN</td>\n    </tr>\n    <tr>\n      <th>1</th>\n      <td>AAL</td>\n      <td>15.84</td>\n      <td>12626</td>\n      <td>NaN</td>\n      <td>NaN</td>\n      <td>-6.382978</td>\n      <td>0.318091</td>\n      <td>10.306410</td>\n      <td>0.638171</td>\n      <td>-11.409391</td>\n      <td>0.049702</td>\n      <td>NaN</td>\n    </tr>\n    <tr>\n      <th>2</th>\n      <td>AAP</td>\n      <td>71.01</td>\n      <td>2816</td>\n      <td>NaN</td>\n      <td>NaN</td>\n      <td>-53.181247</td>\n      <td>0.001988</td>\n      <td>-43.530813</td>\n      <td>0.001988</td>\n      <td>1.500862</td>\n      <td>0.481113</td>\n      <td>NaN</td>\n    </tr>\n    <tr>\n      <th>3</th>\n      <td>AAPL</td>\n      <td>181.99</td>\n      <td>1098</td>\n      <td>NaN</td>\n      <td>NaN</td>\n      <td>19.943327</td>\n      <td>0.892644</td>\n      <td>4.893375</td>\n      <td>0.473161</td>\n      <td>-5.119646</td>\n      <td>0.161034</td>\n      <td>NaN</td>\n    </tr>\n    <tr>\n      <th>4</th>\n      <td>ABBV</td>\n      <td>147.73</td>\n      <td>1353</td>\n      <td>NaN</td>\n      <td>NaN</td>\n      <td>1.868702</td>\n      <td>0.552684</td>\n      <td>0.189894</td>\n      <td>0.345924</td>\n      <td>7.635698</td>\n      <td>0.7833</td>\n      <td>NaN</td>\n    </tr>\n    <tr>\n      <th>5</th>\n      <td>ABC</td>\n      <td>185.33</td>\n      <td>1079</td>\n      <td>NaN</td>\n      <td>NaN</td>\n      <td>19.962454</td>\n      <td>0.89662</td>\n      <td>10.177751</td>\n      <td>0.634195</td>\n      <td>-3.569385</td>\n      <td>0.222664</td>\n      <td>NaN</td>\n    </tr>\n    <tr>\n      <th>6</th>\n      <td>ABT</td>\n      <td>107.65</td>\n      <td>1857</td>\n      <td>NaN</td>\n      <td>NaN</td>\n      <td>-2.799096</td>\n      <td>0.435388</td>\n      <td>-2.930568</td>\n      <td>0.266402</td>\n      <td>0.419780</td>\n      <td>0.435388</td>\n      <td>NaN</td>\n    </tr>\n    <tr>\n      <th>7</th>\n      <td>ACGL</td>\n      <td>76.72</td>\n      <td>2606</td>\n      <td>NaN</td>\n      <td>NaN</td>\n      <td>23.423426</td>\n      <td>0.918489</td>\n      <td>0.761757</td>\n      <td>0.361829</td>\n      <td>3.858127</td>\n      <td>0.604374</td>\n      <td>NaN</td>\n    </tr>\n    <tr>\n      <th>8</th>\n      <td>ACN</td>\n      <td>312.00</td>\n      <td>641</td>\n      <td>NaN</td>\n      <td>NaN</td>\n      <td>9.673787</td>\n      <td>0.761431</td>\n      <td>17.815872</td>\n      <td>0.831014</td>\n      <td>1.308569</td>\n      <td>0.471173</td>\n      <td>NaN</td>\n    </tr>\n    <tr>\n      <th>9</th>\n      <td>ADBE</td>\n      <td>526.88</td>\n      <td>379</td>\n      <td>NaN</td>\n      <td>NaN</td>\n      <td>40.415209</td>\n      <td>0.988072</td>\n      <td>53.136083</td>\n      <td>0.994036</td>\n      <td>9.472459</td>\n      <td>0.840954</td>\n      <td>NaN</td>\n    </tr>\n    <tr>\n      <th>10</th>\n      <td>ADI</td>\n      <td>188.35</td>\n      <td>1061</td>\n      <td>NaN</td>\n      <td>NaN</td>\n      <td>6.082795</td>\n      <td>0.667992</td>\n      <td>2.075657</td>\n      <td>0.38171</td>\n      <td>1.160107</td>\n      <td>0.461233</td>\n      <td>NaN</td>\n    </tr>\n    <tr>\n      <th>11</th>\n      <td>ADM</td>\n      <td>85.55</td>\n      <td>2337</td>\n      <td>NaN</td>\n      <td>NaN</td>\n      <td>3.621615</td>\n      <td>0.596421</td>\n      <td>13.461540</td>\n      <td>0.715706</td>\n      <td>11.046212</td>\n      <td>0.882704</td>\n      <td>NaN</td>\n    </tr>\n    <tr>\n      <th>12</th>\n      <td>ADP</td>\n      <td>245.76</td>\n      <td>813</td>\n      <td>NaN</td>\n      <td>NaN</td>\n      <td>9.974490</td>\n      <td>0.771372</td>\n      <td>14.696406</td>\n      <td>0.755467</td>\n      <td>10.877510</td>\n      <td>0.880716</td>\n      <td>NaN</td>\n    </tr>\n    <tr>\n      <th>13</th>\n      <td>ADSK</td>\n      <td>201.57</td>\n      <td>992</td>\n      <td>NaN</td>\n      <td>NaN</td>\n      <td>-7.680677</td>\n      <td>0.284294</td>\n      <td>4.989844</td>\n      <td>0.475149</td>\n      <td>0.258644</td>\n      <td>0.423459</td>\n      <td>NaN</td>\n    </tr>\n    <tr>\n      <th>14</th>\n      <td>AEE</td>\n      <td>81.40</td>\n      <td>2457</td>\n      <td>NaN</td>\n      <td>NaN</td>\n      <td>-5.238649</td>\n      <td>0.363817</td>\n      <td>-8.682968</td>\n      <td>0.115308</td>\n      <td>-2.257441</td>\n      <td>0.286282</td>\n      <td>NaN</td>\n    </tr>\n    <tr>\n      <th>15</th>\n      <td>AEP</td>\n      <td>81.24</td>\n      <td>2461</td>\n      <td>NaN</td>\n      <td>NaN</td>\n      <td>-12.172975</td>\n      <td>0.176938</td>\n      <td>-11.829826</td>\n      <td>0.069583</td>\n      <td>-4.793161</td>\n      <td>0.16501</td>\n      <td>NaN</td>\n    </tr>\n    <tr>\n      <th>16</th>\n      <td>AES</td>\n      <td>19.64</td>\n      <td>10183</td>\n      <td>NaN</td>\n      <td>NaN</td>\n      <td>-25.066768</td>\n      <td>0.055666</td>\n      <td>-9.534776</td>\n      <td>0.097416</td>\n      <td>-6.919436</td>\n      <td>0.101392</td>\n      <td>NaN</td>\n    </tr>\n    <tr>\n      <th>17</th>\n      <td>AFL</td>\n      <td>76.85</td>\n      <td>2602</td>\n      <td>NaN</td>\n      <td>NaN</td>\n      <td>10.448400</td>\n      <td>0.781312</td>\n      <td>13.616202</td>\n      <td>0.725646</td>\n      <td>10.353244</td>\n      <td>0.866799</td>\n      <td>NaN</td>\n    </tr>\n    <tr>\n      <th>18</th>\n      <td>AIG</td>\n      <td>60.69</td>\n      <td>3295</td>\n      <td>NaN</td>\n      <td>NaN</td>\n      <td>1.217478</td>\n      <td>0.538767</td>\n      <td>12.911625</td>\n      <td>0.701789</td>\n      <td>5.364584</td>\n      <td>0.697813</td>\n      <td>NaN</td>\n    </tr>\n    <tr>\n      <th>19</th>\n      <td>AIZ</td>\n      <td>141.78</td>\n      <td>1410</td>\n      <td>NaN</td>\n      <td>NaN</td>\n      <td>6.497404</td>\n      <td>0.67992</td>\n      <td>7.694649</td>\n      <td>0.552684</td>\n      <td>13.724233</td>\n      <td>0.924453</td>\n      <td>NaN</td>\n    </tr>\n    <tr>\n      <th>20</th>\n      <td>AJG</td>\n      <td>220.81</td>\n      <td>905</td>\n      <td>NaN</td>\n      <td>NaN</td>\n      <td>13.497812</td>\n      <td>0.833002</td>\n      <td>2.549689</td>\n      <td>0.397614</td>\n      <td>2.075624</td>\n      <td>0.506958</td>\n      <td>NaN</td>\n    </tr>\n    <tr>\n      <th>21</th>\n      <td>AKAM</td>\n      <td>92.63</td>\n      <td>2159</td>\n      <td>NaN</td>\n      <td>NaN</td>\n      <td>5.874957</td>\n      <td>0.662028</td>\n      <td>16.735979</td>\n      <td>0.799205</td>\n      <td>3.497204</td>\n      <td>0.590457</td>\n      <td>NaN</td>\n    </tr>\n    <tr>\n      <th>22</th>\n      <td>ALB</td>\n      <td>200.09</td>\n      <td>999</td>\n      <td>NaN</td>\n      <td>NaN</td>\n      <td>-27.715762</td>\n      <td>0.045726</td>\n      <td>7.644712</td>\n      <td>0.54672</td>\n      <td>-12.075410</td>\n      <td>0.029821</td>\n      <td>NaN</td>\n    </tr>\n    <tr>\n      <th>23</th>\n      <td>ALGN</td>\n      <td>361.44</td>\n      <td>553</td>\n      <td>NaN</td>\n      <td>NaN</td>\n      <td>5.542256</td>\n      <td>0.646123</td>\n      <td>18.090631</td>\n      <td>0.836978</td>\n      <td>9.222769</td>\n      <td>0.833002</td>\n      <td>NaN</td>\n    </tr>\n    <tr>\n      <th>24</th>\n      <td>ALK</td>\n      <td>46.74</td>\n      <td>4278</td>\n      <td>NaN</td>\n      <td>NaN</td>\n      <td>-10.852563</td>\n      <td>0.202783</td>\n      <td>7.547176</td>\n      <td>0.542744</td>\n      <td>-11.460502</td>\n      <td>0.045726</td>\n      <td>NaN</td>\n    </tr>\n    <tr>\n      <th>25</th>\n      <td>ALL</td>\n      <td>109.87</td>\n      <td>1820</td>\n      <td>NaN</td>\n      <td>NaN</td>\n      <td>-18.602751</td>\n      <td>0.095427</td>\n      <td>-5.382363</td>\n      <td>0.192843</td>\n      <td>1.020596</td>\n      <td>0.459245</td>\n      <td>NaN</td>\n    </tr>\n    <tr>\n      <th>26</th>\n      <td>ALLE</td>\n      <td>111.91</td>\n      <td>1787</td>\n      <td>NaN</td>\n      <td>NaN</td>\n      <td>-7.412922</td>\n      <td>0.290258</td>\n      <td>3.986249</td>\n      <td>0.451292</td>\n      <td>-3.041063</td>\n      <td>0.248509</td>\n      <td>NaN</td>\n    </tr>\n    <tr>\n      <th>27</th>\n      <td>AMAT</td>\n      <td>145.66</td>\n      <td>1373</td>\n      <td>NaN</td>\n      <td>NaN</td>\n      <td>23.765826</td>\n      <td>0.922465</td>\n      <td>25.840176</td>\n      <td>0.920477</td>\n      <td>3.761219</td>\n      <td>0.600398</td>\n      <td>NaN</td>\n    </tr>\n    <tr>\n      <th>28</th>\n      <td>AMCR</td>\n      <td>9.85</td>\n      <td>20304</td>\n      <td>NaN</td>\n      <td>NaN</td>\n      <td>-17.435037</td>\n      <td>0.111332</td>\n      <td>-5.831737</td>\n      <td>0.17495</td>\n      <td>0.203463</td>\n      <td>0.417495</td>\n      <td>NaN</td>\n    </tr>\n    <tr>\n      <th>29</th>\n      <td>AMD</td>\n      <td>115.82</td>\n      <td>1726</td>\n      <td>NaN</td>\n      <td>NaN</td>\n      <td>38.408221</td>\n      <td>0.978131</td>\n      <td>21.864477</td>\n      <td>0.888668</td>\n      <td>2.062034</td>\n      <td>0.50497</td>\n      <td>NaN</td>\n    </tr>\n    <tr>\n      <th>30</th>\n      <td>AME</td>\n      <td>156.57</td>\n      <td>1277</td>\n      <td>NaN</td>\n      <td>NaN</td>\n      <td>6.445041</td>\n      <td>0.675944</td>\n      <td>7.964421</td>\n      <td>0.562624</td>\n      <td>-0.121196</td>\n      <td>0.407555</td>\n      <td>NaN</td>\n    </tr>\n    <tr>\n      <th>31</th>\n      <td>AMGN</td>\n      <td>243.28</td>\n      <td>822</td>\n      <td>NaN</td>\n      <td>NaN</td>\n      <td>-0.233753</td>\n      <td>0.512922</td>\n      <td>3.691077</td>\n      <td>0.435388</td>\n      <td>9.103957</td>\n      <td>0.827038</td>\n      <td>NaN</td>\n    </tr>\n    <tr>\n      <th>32</th>\n      <td>AMP</td>\n      <td>344.86</td>\n      <td>579</td>\n      <td>NaN</td>\n      <td>NaN</td>\n      <td>-1.757688</td>\n      <td>0.465209</td>\n      <td>17.423127</td>\n      <td>0.821074</td>\n      <td>4.935483</td>\n      <td>0.677932</td>\n      <td>NaN</td>\n    </tr>\n    <tr>\n      <th>33</th>\n      <td>AMT</td>\n      <td>184.77</td>\n      <td>1082</td>\n      <td>NaN</td>\n      <td>NaN</td>\n      <td>-16.230676</td>\n      <td>0.119284</td>\n      <td>-4.368305</td>\n      <td>0.228628</td>\n      <td>-5.734396</td>\n      <td>0.133201</td>\n      <td>NaN</td>\n    </tr>\n    <tr>\n      <th>34</th>\n      <td>AMZN</td>\n      <td>139.57</td>\n      <td>1432</td>\n      <td>NaN</td>\n      <td>NaN</td>\n      <td>36.592295</td>\n      <td>0.974155</td>\n      <td>31.881324</td>\n      <td>0.966203</td>\n      <td>8.733255</td>\n      <td>0.807157</td>\n      <td>NaN</td>\n    </tr>\n    <tr>\n      <th>35</th>\n      <td>ANET</td>\n      <td>179.60</td>\n      <td>1113</td>\n      <td>NaN</td>\n      <td>NaN</td>\n      <td>38.484080</td>\n      <td>0.980119</td>\n      <td>30.078943</td>\n      <td>0.956262</td>\n      <td>13.027069</td>\n      <td>0.920477</td>\n      <td>NaN</td>\n    </tr>\n    <tr>\n      <th>36</th>\n      <td>ANSS</td>\n      <td>304.65</td>\n      <td>656</td>\n      <td>NaN</td>\n      <td>NaN</td>\n      <td>11.826892</td>\n      <td>0.805169</td>\n      <td>3.506271</td>\n      <td>0.429423</td>\n      <td>-5.208631</td>\n      <td>0.157058</td>\n      <td>NaN</td>\n    </tr>\n    <tr>\n      <th>37</th>\n      <td>AON</td>\n      <td>315.06</td>\n      <td>634</td>\n      <td>NaN</td>\n      <td>NaN</td>\n      <td>-0.840340</td>\n      <td>0.499006</td>\n      <td>-5.253662</td>\n      <td>0.198807</td>\n      <td>-6.546438</td>\n      <td>0.109344</td>\n      <td>NaN</td>\n    </tr>\n    <tr>\n      <th>38</th>\n      <td>AOS</td>\n      <td>72.64</td>\n      <td>2753</td>\n      <td>NaN</td>\n      <td>NaN</td>\n      <td>7.630763</td>\n      <td>0.705765</td>\n      <td>3.313898</td>\n      <td>0.423459</td>\n      <td>2.889520</td>\n      <td>0.562624</td>\n      <td>NaN</td>\n    </tr>\n    <tr>\n      <th>39</th>\n      <td>APA</td>\n      <td>41.87</td>\n      <td>4776</td>\n      <td>NaN</td>\n      <td>NaN</td>\n      <td>-0.356976</td>\n      <td>0.508946</td>\n      <td>26.571937</td>\n      <td>0.926441</td>\n      <td>24.427926</td>\n      <td>0.994036</td>\n      <td>NaN</td>\n    </tr>\n    <tr>\n      <th>40</th>\n      <td>APD</td>\n      <td>284.43</td>\n      <td>703</td>\n      <td>NaN</td>\n      <td>NaN</td>\n      <td>0.494645</td>\n      <td>0.524851</td>\n      <td>-3.772243</td>\n      <td>0.240557</td>\n      <td>-1.184687</td>\n      <td>0.332008</td>\n      <td>NaN</td>\n    </tr>\n    <tr>\n      <th>41</th>\n      <td>APH</td>\n      <td>87.30</td>\n      <td>2290</td>\n      <td>NaN</td>\n      <td>NaN</td>\n      <td>6.723716</td>\n      <td>0.683897</td>\n      <td>15.859330</td>\n      <td>0.779324</td>\n      <td>4.301083</td>\n      <td>0.632207</td>\n      <td>NaN</td>\n    </tr>\n    <tr>\n      <th>42</th>\n      <td>APTV</td>\n      <td>106.80</td>\n      <td>1872</td>\n      <td>NaN</td>\n      <td>NaN</td>\n      <td>-7.090034</td>\n      <td>0.300199</td>\n      <td>13.653295</td>\n      <td>0.727634</td>\n      <td>1.830669</td>\n      <td>0.491054</td>\n      <td>NaN</td>\n    </tr>\n    <tr>\n      <th>43</th>\n      <td>ARE</td>\n      <td>120.75</td>\n      <td>1656</td>\n      <td>NaN</td>\n      <td>NaN</td>\n      <td>-27.807005</td>\n      <td>0.043738</td>\n      <td>-1.307723</td>\n      <td>0.308151</td>\n      <td>3.231597</td>\n      <td>0.578529</td>\n      <td>NaN</td>\n    </tr>\n    <tr>\n      <th>44</th>\n      <td>ATO</td>\n      <td>117.27</td>\n      <td>1705</td>\n      <td>NaN</td>\n      <td>NaN</td>\n      <td>-0.314521</td>\n      <td>0.510934</td>\n      <td>-0.500597</td>\n      <td>0.324056</td>\n      <td>-0.229713</td>\n      <td>0.40159</td>\n      <td>NaN</td>\n    </tr>\n    <tr>\n      <th>45</th>\n      <td>ATVI</td>\n      <td>91.58</td>\n      <td>2183</td>\n      <td>NaN</td>\n      <td>NaN</td>\n      <td>27.940765</td>\n      <td>0.950298</td>\n      <td>21.217734</td>\n      <td>0.882704</td>\n      <td>10.737612</td>\n      <td>0.878728</td>\n      <td>NaN</td>\n    </tr>\n    <tr>\n      <th>46</th>\n      <td>AVB</td>\n      <td>184.85</td>\n      <td>1081</td>\n      <td>NaN</td>\n      <td>NaN</td>\n      <td>3.389459</td>\n      <td>0.588469</td>\n      <td>2.489469</td>\n      <td>0.395626</td>\n      <td>-3.929108</td>\n      <td>0.196819</td>\n      <td>NaN</td>\n    </tr>\n    <tr>\n      <th>47</th>\n      <td>AVGO</td>\n      <td>881.65</td>\n      <td>226</td>\n      <td>NaN</td>\n      <td>NaN</td>\n      <td>46.623988</td>\n      <td>0.992048</td>\n      <td>40.153567</td>\n      <td>0.988072</td>\n      <td>3.968163</td>\n      <td>0.616302</td>\n      <td>NaN</td>\n    </tr>\n    <tr>\n      <th>48</th>\n      <td>AVY</td>\n      <td>185.02</td>\n      <td>1080</td>\n      <td>NaN</td>\n      <td>NaN</td>\n      <td>3.629445</td>\n      <td>0.59841</td>\n      <td>7.669930</td>\n      <td>0.548708</td>\n      <td>9.046977</td>\n      <td>0.82505</td>\n      <td>NaN</td>\n    </tr>\n    <tr>\n      <th>49</th>\n      <td>AWK</td>\n      <td>141.97</td>\n      <td>1408</td>\n      <td>NaN</td>\n      <td>NaN</td>\n      <td>-9.232148</td>\n      <td>0.252485</td>\n      <td>-3.729572</td>\n      <td>0.242545</td>\n      <td>-0.315965</td>\n      <td>0.395626</td>\n      <td>NaN</td>\n    </tr>\n  </tbody>\n</table>\n</div>"
     },
     "execution_count": 32,
     "metadata": {},
     "output_type": "execute_result"
    }
   ]
  },
  {
   "cell_type": "markdown",
   "source": [
    "## Formatting Our Excel Output\n",
    "\n",
    "We will be using the XlsxWriter library for Python to create nicely-formatted Excel files.\n",
    "\n",
    "### Initializing our XlsxWriter Object"
   ],
   "metadata": {
    "collapsed": false
   }
  },
  {
   "cell_type": "code",
   "source": [
    "writer = pd.ExcelWriter('momentum_strategy.xlsx', engine='xlsxwriter')\n",
    "hqm_dataframe.to_excel(writer, sheet_name='Momentum Strategy', index=False)"
   ],
   "metadata": {
    "id": "PTpQ-4ZQCIBf",
    "ExecuteTime": {
     "end_time": "2023-08-05T04:38:17.014764025Z",
     "start_time": "2023-08-05T04:38:16.957727799Z"
    }
   },
   "execution_count": 33,
   "outputs": []
  },
  {
   "cell_type": "markdown",
   "source": [
    "## Formatting Our Excel Output"
   ],
   "metadata": {
    "collapsed": false
   }
  },
  {
   "cell_type": "code",
   "source": [
    "background_color = '#0a0a23'\n",
    "font_color = '#ffffff'\n",
    "\n",
    "string_template = writer.book.add_format(\n",
    "    {\n",
    "        'font_color': font_color,\n",
    "        'bg_color': background_color,\n",
    "        'border': 1\n",
    "    }\n",
    ")\n",
    "\n",
    "dollar_template = writer.book.add_format(\n",
    "    {\n",
    "        'num_format': '$0.00',\n",
    "        'font_color': font_color,\n",
    "        'bg_color': background_color,\n",
    "        'border': 1\n",
    "    }\n",
    ")\n",
    "\n",
    "integer_template = writer.book.add_format(\n",
    "    {\n",
    "        'num_format': '0',\n",
    "        'font_color': font_color,\n",
    "        'bg_color': background_color,\n",
    "        'border': 1\n",
    "    }\n",
    ")\n",
    "\n",
    "percent_template = writer.book.add_format(\n",
    "    {\n",
    "        'num_format': '0.0%',\n",
    "        'font_color': font_color,\n",
    "        'bg_color': background_color,\n",
    "        'border': 1\n",
    "    }\n",
    ")"
   ],
   "metadata": {
    "id": "gSIDQ8kJWsqL",
    "ExecuteTime": {
     "end_time": "2023-08-05T04:38:17.057277109Z",
     "start_time": "2023-08-05T04:38:16.997957340Z"
    }
   },
   "execution_count": 34,
   "outputs": []
  },
  {
   "cell_type": "code",
   "source": [
    "column_formats = {\n",
    "    'A': ['Ticker', string_template],\n",
    "    'B': ['Price', dollar_template],\n",
    "    'C': ['Number of Shares to Buy', integer_template],\n",
    "    'D': ['One-Year Price Return', percent_template],\n",
    "    'E': ['One-Year Return Percentile', percent_template],\n",
    "    'F': ['Six-Month Price Return', percent_template],\n",
    "    'G': ['Six-Month Return Percentile', percent_template],\n",
    "    'H': ['Three-Month Price Return', percent_template],\n",
    "    'I': ['Three-Month Return Percentile', percent_template],\n",
    "    'J': ['One-Month Price Return', percent_template],\n",
    "    'K': ['One-Month Return Percentile', percent_template],\n",
    "    'L': ['HQM Score', integer_template]\n",
    "}\n",
    "\n",
    "for column in column_formats.keys():\n",
    "    writer.sheets['Momentum Strategy'].set_column(f'{column}:{column}', 20, column_formats[column][1])\n",
    "    writer.sheets['Momentum Strategy'].write(f'{column}1', column_formats[column][0], string_template)"
   ],
   "metadata": {
    "id": "KLoK02SiW4wI",
    "ExecuteTime": {
     "end_time": "2023-08-05T04:38:17.057506496Z",
     "start_time": "2023-08-05T04:38:17.042177915Z"
    }
   },
   "execution_count": 35,
   "outputs": []
  },
  {
   "cell_type": "markdown",
   "source": [
    "## Saving Our Excel Output"
   ],
   "metadata": {
    "collapsed": false
   }
  },
  {
   "cell_type": "code",
   "source": [
    "writer.close()"
   ],
   "metadata": {
    "id": "-hdAovwqYIc3",
    "ExecuteTime": {
     "end_time": "2023-08-05T04:38:17.057609935Z",
     "start_time": "2023-08-05T04:38:17.042290137Z"
    }
   },
   "execution_count": 36,
   "outputs": []
  }
 ]
}
