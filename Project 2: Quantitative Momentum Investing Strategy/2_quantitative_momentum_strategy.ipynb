{
 "nbformat": 4,
 "nbformat_minor": 0,
 "metadata": {
  "colab": {
   "provenance": []
  },
  "kernelspec": {
   "name": "python3",
   "language": "python",
   "display_name": "Python 3 (ipykernel)"
  },
  "language_info": {
   "name": "python"
  }
 },
 "cells": [
  {
   "cell_type": "markdown",
   "source": [
    "# Quantitative Momentum Strategy\n",
    "\n",
    "\"Momentum investing\" means investing in the stocks that have increased in price the most.\n",
    "\n",
    "For this project, we're going to build an investing strategy that selects the 50 stocks with the highest price momentum. From there, we will calculate recommended trades for an equal-weight portfolio of these 50 stocks.\n",
    "\n",
    "\n",
    "## Library Imports\n",
    "\n",
    "The first thing we need to do is import the open-source software libraries that we'll be using in this tutorial."
   ],
   "metadata": {
    "collapsed": false
   }
  },
  {
   "cell_type": "code",
   "execution_count": 1,
   "outputs": [
    {
     "name": "stdout",
     "output_type": "stream",
     "text": [
      "Requirement already satisfied: yfinance in /home/soumya/PyCharm Projects/quantitative_investment_strategy/venv/lib/python3.10/site-packages (0.2.28)\r\n",
      "Requirement already satisfied: numpy in /home/soumya/PyCharm Projects/quantitative_investment_strategy/venv/lib/python3.10/site-packages (1.26.0)\r\n",
      "Requirement already satisfied: pandas in /home/soumya/PyCharm Projects/quantitative_investment_strategy/venv/lib/python3.10/site-packages (2.1.1)\r\n",
      "Requirement already satisfied: scipy in /home/soumya/PyCharm Projects/quantitative_investment_strategy/venv/lib/python3.10/site-packages (1.11.2)\r\n",
      "Requirement already satisfied: XlsxWriter in /home/soumya/PyCharm Projects/quantitative_investment_strategy/venv/lib/python3.10/site-packages (3.1.4)\r\n",
      "Requirement already satisfied: ipython in /home/soumya/PyCharm Projects/quantitative_investment_strategy/venv/lib/python3.10/site-packages (8.15.0)\r\n",
      "Requirement already satisfied: requests>=2.31 in /home/soumya/PyCharm Projects/quantitative_investment_strategy/venv/lib/python3.10/site-packages (from yfinance) (2.31.0)\r\n",
      "Requirement already satisfied: multitasking>=0.0.7 in /home/soumya/PyCharm Projects/quantitative_investment_strategy/venv/lib/python3.10/site-packages (from yfinance) (0.0.11)\r\n",
      "Requirement already satisfied: lxml>=4.9.1 in /home/soumya/PyCharm Projects/quantitative_investment_strategy/venv/lib/python3.10/site-packages (from yfinance) (4.9.3)\r\n",
      "Requirement already satisfied: appdirs>=1.4.4 in /home/soumya/PyCharm Projects/quantitative_investment_strategy/venv/lib/python3.10/site-packages (from yfinance) (1.4.4)\r\n",
      "Requirement already satisfied: pytz>=2022.5 in /home/soumya/PyCharm Projects/quantitative_investment_strategy/venv/lib/python3.10/site-packages (from yfinance) (2023.3.post1)\r\n",
      "Requirement already satisfied: frozendict>=2.3.4 in /home/soumya/PyCharm Projects/quantitative_investment_strategy/venv/lib/python3.10/site-packages (from yfinance) (2.3.8)\r\n",
      "Requirement already satisfied: beautifulsoup4>=4.11.1 in /home/soumya/PyCharm Projects/quantitative_investment_strategy/venv/lib/python3.10/site-packages (from yfinance) (4.12.2)\r\n",
      "Requirement already satisfied: html5lib>=1.1 in /home/soumya/PyCharm Projects/quantitative_investment_strategy/venv/lib/python3.10/site-packages (from yfinance) (1.1)\r\n",
      "Requirement already satisfied: python-dateutil>=2.8.2 in /home/soumya/PyCharm Projects/quantitative_investment_strategy/venv/lib/python3.10/site-packages (from pandas) (2.8.2)\r\n",
      "Requirement already satisfied: tzdata>=2022.1 in /home/soumya/PyCharm Projects/quantitative_investment_strategy/venv/lib/python3.10/site-packages (from pandas) (2023.3)\r\n",
      "Requirement already satisfied: backcall in /home/soumya/PyCharm Projects/quantitative_investment_strategy/venv/lib/python3.10/site-packages (from ipython) (0.2.0)\r\n",
      "Requirement already satisfied: decorator in /home/soumya/PyCharm Projects/quantitative_investment_strategy/venv/lib/python3.10/site-packages (from ipython) (5.1.1)\r\n",
      "Requirement already satisfied: jedi>=0.16 in /home/soumya/PyCharm Projects/quantitative_investment_strategy/venv/lib/python3.10/site-packages (from ipython) (0.19.0)\r\n",
      "Requirement already satisfied: matplotlib-inline in /home/soumya/PyCharm Projects/quantitative_investment_strategy/venv/lib/python3.10/site-packages (from ipython) (0.1.6)\r\n",
      "Requirement already satisfied: pickleshare in /home/soumya/PyCharm Projects/quantitative_investment_strategy/venv/lib/python3.10/site-packages (from ipython) (0.7.5)\r\n",
      "Requirement already satisfied: prompt-toolkit!=3.0.37,<3.1.0,>=3.0.30 in /home/soumya/PyCharm Projects/quantitative_investment_strategy/venv/lib/python3.10/site-packages (from ipython) (3.0.39)\r\n",
      "Requirement already satisfied: pygments>=2.4.0 in /home/soumya/PyCharm Projects/quantitative_investment_strategy/venv/lib/python3.10/site-packages (from ipython) (2.16.1)\r\n",
      "Requirement already satisfied: stack-data in /home/soumya/PyCharm Projects/quantitative_investment_strategy/venv/lib/python3.10/site-packages (from ipython) (0.6.2)\r\n",
      "Requirement already satisfied: traitlets>=5 in /home/soumya/PyCharm Projects/quantitative_investment_strategy/venv/lib/python3.10/site-packages (from ipython) (5.10.0)\r\n",
      "Requirement already satisfied: exceptiongroup in /home/soumya/PyCharm Projects/quantitative_investment_strategy/venv/lib/python3.10/site-packages (from ipython) (1.1.3)\r\n",
      "Requirement already satisfied: pexpect>4.3 in /home/soumya/PyCharm Projects/quantitative_investment_strategy/venv/lib/python3.10/site-packages (from ipython) (4.8.0)\r\n",
      "Requirement already satisfied: soupsieve>1.2 in /home/soumya/PyCharm Projects/quantitative_investment_strategy/venv/lib/python3.10/site-packages (from beautifulsoup4>=4.11.1->yfinance) (2.5)\r\n",
      "Requirement already satisfied: six>=1.9 in /home/soumya/PyCharm Projects/quantitative_investment_strategy/venv/lib/python3.10/site-packages (from html5lib>=1.1->yfinance) (1.16.0)\r\n",
      "Requirement already satisfied: webencodings in /home/soumya/PyCharm Projects/quantitative_investment_strategy/venv/lib/python3.10/site-packages (from html5lib>=1.1->yfinance) (0.5.1)\r\n",
      "Requirement already satisfied: parso<0.9.0,>=0.8.3 in /home/soumya/PyCharm Projects/quantitative_investment_strategy/venv/lib/python3.10/site-packages (from jedi>=0.16->ipython) (0.8.3)\r\n",
      "Requirement already satisfied: ptyprocess>=0.5 in /home/soumya/PyCharm Projects/quantitative_investment_strategy/venv/lib/python3.10/site-packages (from pexpect>4.3->ipython) (0.7.0)\r\n",
      "Requirement already satisfied: wcwidth in /home/soumya/PyCharm Projects/quantitative_investment_strategy/venv/lib/python3.10/site-packages (from prompt-toolkit!=3.0.37,<3.1.0,>=3.0.30->ipython) (0.2.6)\r\n",
      "Requirement already satisfied: charset-normalizer<4,>=2 in /home/soumya/PyCharm Projects/quantitative_investment_strategy/venv/lib/python3.10/site-packages (from requests>=2.31->yfinance) (3.2.0)\r\n",
      "Requirement already satisfied: idna<4,>=2.5 in /home/soumya/PyCharm Projects/quantitative_investment_strategy/venv/lib/python3.10/site-packages (from requests>=2.31->yfinance) (3.4)\r\n",
      "Requirement already satisfied: urllib3<3,>=1.21.1 in /home/soumya/PyCharm Projects/quantitative_investment_strategy/venv/lib/python3.10/site-packages (from requests>=2.31->yfinance) (2.0.5)\r\n",
      "Requirement already satisfied: certifi>=2017.4.17 in /home/soumya/PyCharm Projects/quantitative_investment_strategy/venv/lib/python3.10/site-packages (from requests>=2.31->yfinance) (2023.7.22)\r\n",
      "Requirement already satisfied: executing>=1.2.0 in /home/soumya/PyCharm Projects/quantitative_investment_strategy/venv/lib/python3.10/site-packages (from stack-data->ipython) (1.2.0)\r\n",
      "Requirement already satisfied: asttokens>=2.1.0 in /home/soumya/PyCharm Projects/quantitative_investment_strategy/venv/lib/python3.10/site-packages (from stack-data->ipython) (2.4.0)\r\n",
      "Requirement already satisfied: pure-eval in /home/soumya/PyCharm Projects/quantitative_investment_strategy/venv/lib/python3.10/site-packages (from stack-data->ipython) (0.2.2)\r\n"
     ]
    }
   ],
   "source": [
    "! pip install yfinance numpy pandas scipy XlsxWriter ipython"
   ],
   "metadata": {
    "collapsed": false,
    "ExecuteTime": {
     "end_time": "2023-09-21T17:47:30.502127003Z",
     "start_time": "2023-09-21T17:47:28.927261684Z"
    }
   }
  },
  {
   "cell_type": "code",
   "execution_count": 2,
   "metadata": {
    "id": "q3-WQbudpG4E",
    "ExecuteTime": {
     "end_time": "2023-09-21T17:47:31.318715220Z",
     "start_time": "2023-09-21T17:47:30.503703133Z"
    }
   },
   "outputs": [],
   "source": [
    "import yfinance as yf\n",
    "import numpy as np\n",
    "import pandas as pd\n",
    "import math\n",
    "from scipy.stats import percentileofscore as score\n",
    "from statistics import mean\n",
    "import xlsxwriter\n",
    "from IPython.display import clear_output"
   ]
  },
  {
   "cell_type": "markdown",
   "source": [
    "## Importing Our List of Stocks\n",
    "\n",
    "The next thing we need to do is import the constituents of the S&P 500.\n",
    "\n",
    "These constituents change over time, so in an ideal world you would connect directly to the index provider (Standard & Poor's) and pull their real-time constituents on a regular basis. But, here we have just taken a list of ~500 stocks in a CSV file taken at the time of building the project.\n",
    "\n",
    "Now it's time to import these stocks to our Jupyter Notebook file."
   ],
   "metadata": {
    "collapsed": false
   }
  },
  {
   "cell_type": "code",
   "source": [
    "stocks = pd.read_csv('sp500.csv')\n",
    "stocks"
   ],
   "metadata": {
    "colab": {
     "base_uri": "https://localhost:8080/",
     "height": 424
    },
    "id": "-iAHKs_6p0gP",
    "outputId": "64813494-bda2-4f98-8f17-06a27155dcbb",
    "ExecuteTime": {
     "end_time": "2023-09-21T17:47:31.339322651Z",
     "start_time": "2023-09-21T17:47:31.322289890Z"
    }
   },
   "execution_count": 3,
   "outputs": [
    {
     "data": {
      "text/plain": "    Ticker\n0        A\n1      AAL\n2      AAP\n3     AAPL\n4     ABBV\n..     ...\n498    YUM\n499    ZBH\n500   ZBRA\n501   ZION\n502    ZTS\n\n[503 rows x 1 columns]",
      "text/html": "<div>\n<style scoped>\n    .dataframe tbody tr th:only-of-type {\n        vertical-align: middle;\n    }\n\n    .dataframe tbody tr th {\n        vertical-align: top;\n    }\n\n    .dataframe thead th {\n        text-align: right;\n    }\n</style>\n<table border=\"1\" class=\"dataframe\">\n  <thead>\n    <tr style=\"text-align: right;\">\n      <th></th>\n      <th>Ticker</th>\n    </tr>\n  </thead>\n  <tbody>\n    <tr>\n      <th>0</th>\n      <td>A</td>\n    </tr>\n    <tr>\n      <th>1</th>\n      <td>AAL</td>\n    </tr>\n    <tr>\n      <th>2</th>\n      <td>AAP</td>\n    </tr>\n    <tr>\n      <th>3</th>\n      <td>AAPL</td>\n    </tr>\n    <tr>\n      <th>4</th>\n      <td>ABBV</td>\n    </tr>\n    <tr>\n      <th>...</th>\n      <td>...</td>\n    </tr>\n    <tr>\n      <th>498</th>\n      <td>YUM</td>\n    </tr>\n    <tr>\n      <th>499</th>\n      <td>ZBH</td>\n    </tr>\n    <tr>\n      <th>500</th>\n      <td>ZBRA</td>\n    </tr>\n    <tr>\n      <th>501</th>\n      <td>ZION</td>\n    </tr>\n    <tr>\n      <th>502</th>\n      <td>ZTS</td>\n    </tr>\n  </tbody>\n</table>\n<p>503 rows × 1 columns</p>\n</div>"
     },
     "execution_count": 3,
     "metadata": {},
     "output_type": "execute_result"
    }
   ]
  },
  {
   "cell_type": "markdown",
   "source": [
    "## Adding Our Stocks Data to a Pandas DataFrame\n",
    "\n",
    "The next thing we need to do is add our stock's price and market capitalization to a pandas DataFrame."
   ],
   "metadata": {
    "collapsed": false
   }
  },
  {
   "cell_type": "code",
   "source": [
    "my_columns = ['Ticker', 'Stock Price', '1 Year Return', 'Number of Shares to Buy']\n",
    "final_dataframe = pd.DataFrame(columns=my_columns)\n",
    "final_dataframe"
   ],
   "metadata": {
    "colab": {
     "base_uri": "https://localhost:8080/",
     "height": 49
    },
    "id": "dUUIKJDjqaiV",
    "outputId": "e9cba3d3-8459-438c-9722-39ed7c1eacb7",
    "ExecuteTime": {
     "end_time": "2023-09-21T17:47:31.384842483Z",
     "start_time": "2023-09-21T17:47:31.341582060Z"
    }
   },
   "execution_count": 4,
   "outputs": [
    {
     "data": {
      "text/plain": "Empty DataFrame\nColumns: [Ticker, Stock Price, 1 Year Return, Number of Shares to Buy]\nIndex: []",
      "text/html": "<div>\n<style scoped>\n    .dataframe tbody tr th:only-of-type {\n        vertical-align: middle;\n    }\n\n    .dataframe tbody tr th {\n        vertical-align: top;\n    }\n\n    .dataframe thead th {\n        text-align: right;\n    }\n</style>\n<table border=\"1\" class=\"dataframe\">\n  <thead>\n    <tr style=\"text-align: right;\">\n      <th></th>\n      <th>Ticker</th>\n      <th>Stock Price</th>\n      <th>1 Year Return</th>\n      <th>Number of Shares to Buy</th>\n    </tr>\n  </thead>\n  <tbody>\n  </tbody>\n</table>\n</div>"
     },
     "execution_count": 4,
     "metadata": {},
     "output_type": "execute_result"
    }
   ]
  },
  {
   "cell_type": "markdown",
   "source": [
    "## Looping Through The Tickers in Our List of Stocks\n",
    "\n",
    "Here to fetch the stock data, we have used `yfinance` API\n",
    "\n",
    "We can pull data for all S&P 500 stocks and store their data in the DataFrame using a `for` loop."
   ],
   "metadata": {
    "collapsed": false
   }
  },
  {
   "cell_type": "code",
   "source": [
    "for stock in stocks['Ticker']:\n",
    "    data = yf.Ticker(stock).info\n",
    "    try:\n",
    "        yr1Return = data['52WeekChange']\n",
    "    except:\n",
    "        yr1Return = np.NaN\n",
    "    stock_dict = {\n",
    "        'Ticker': [stock],\n",
    "        'Stock Price': [data['currentPrice']],\n",
    "        '1 Year Return': [yr1Return],\n",
    "        'Number of Shares to Buy': ['N/A']\n",
    "    }\n",
    "    df = pd.DataFrame(stock_dict)\n",
    "    final_dataframe = pd.concat([final_dataframe, df], ignore_index=True)\n",
    "\n",
    "    clear_output(wait=True)\n",
    "    print(final_dataframe)"
   ],
   "metadata": {
    "colab": {
     "base_uri": "https://localhost:8080/"
    },
    "id": "OQbNxdVvqd29",
    "outputId": "072e34fe-d425-4e2e-9dbb-7169bc59e824"
   },
   "execution_count": 5,
   "outputs": [
    {
     "name": "stdout",
     "output_type": "stream",
     "text": [
      "    Ticker  Stock Price  1 Year Return Number of Shares to Buy\n",
      "0        A     110.1800      -0.095828                     N/A\n",
      "1      AAL      13.2099       0.027537                     N/A\n",
      "2      AAP      59.0500      -0.633660                     N/A\n",
      "3     AAPL     175.4900       0.148946                     N/A\n",
      "4     ABBV     153.6000       0.074121                     N/A\n",
      "..     ...          ...            ...                     ...\n",
      "498    YUM     125.5600       0.146764                     N/A\n",
      "499    ZBH     118.2400       0.113878                     N/A\n",
      "500   ZBRA     231.8300      -0.135964                     N/A\n",
      "501   ZION      34.4200      -0.366816                     N/A\n",
      "502    ZTS     177.7100       0.214238                     N/A\n",
      "\n",
      "[503 rows x 4 columns]\n"
     ]
    }
   ]
  },
  {
   "cell_type": "code",
   "source": [
    "final_dataframe"
   ],
   "metadata": {
    "colab": {
     "base_uri": "https://localhost:8080/",
     "height": 687
    },
    "id": "p0tO7FzXq3fy",
    "outputId": "c59b35a6-9e29-4764-9e31-398ae7bb094e",
    "ExecuteTime": {
     "end_time": "2023-09-21T17:55:52.991412532Z",
     "start_time": "2023-09-21T17:55:52.962307479Z"
    }
   },
   "execution_count": 6,
   "outputs": [
    {
     "data": {
      "text/plain": "    Ticker  Stock Price  1 Year Return Number of Shares to Buy\n0        A     110.1800      -0.095828                     N/A\n1      AAL      13.2099       0.027537                     N/A\n2      AAP      59.0500      -0.633660                     N/A\n3     AAPL     175.4900       0.148946                     N/A\n4     ABBV     153.6000       0.074121                     N/A\n..     ...          ...            ...                     ...\n498    YUM     125.5600       0.146764                     N/A\n499    ZBH     118.2400       0.113878                     N/A\n500   ZBRA     231.8300      -0.135964                     N/A\n501   ZION      34.4200      -0.366816                     N/A\n502    ZTS     177.7100       0.214238                     N/A\n\n[503 rows x 4 columns]",
      "text/html": "<div>\n<style scoped>\n    .dataframe tbody tr th:only-of-type {\n        vertical-align: middle;\n    }\n\n    .dataframe tbody tr th {\n        vertical-align: top;\n    }\n\n    .dataframe thead th {\n        text-align: right;\n    }\n</style>\n<table border=\"1\" class=\"dataframe\">\n  <thead>\n    <tr style=\"text-align: right;\">\n      <th></th>\n      <th>Ticker</th>\n      <th>Stock Price</th>\n      <th>1 Year Return</th>\n      <th>Number of Shares to Buy</th>\n    </tr>\n  </thead>\n  <tbody>\n    <tr>\n      <th>0</th>\n      <td>A</td>\n      <td>110.1800</td>\n      <td>-0.095828</td>\n      <td>N/A</td>\n    </tr>\n    <tr>\n      <th>1</th>\n      <td>AAL</td>\n      <td>13.2099</td>\n      <td>0.027537</td>\n      <td>N/A</td>\n    </tr>\n    <tr>\n      <th>2</th>\n      <td>AAP</td>\n      <td>59.0500</td>\n      <td>-0.633660</td>\n      <td>N/A</td>\n    </tr>\n    <tr>\n      <th>3</th>\n      <td>AAPL</td>\n      <td>175.4900</td>\n      <td>0.148946</td>\n      <td>N/A</td>\n    </tr>\n    <tr>\n      <th>4</th>\n      <td>ABBV</td>\n      <td>153.6000</td>\n      <td>0.074121</td>\n      <td>N/A</td>\n    </tr>\n    <tr>\n      <th>...</th>\n      <td>...</td>\n      <td>...</td>\n      <td>...</td>\n      <td>...</td>\n    </tr>\n    <tr>\n      <th>498</th>\n      <td>YUM</td>\n      <td>125.5600</td>\n      <td>0.146764</td>\n      <td>N/A</td>\n    </tr>\n    <tr>\n      <th>499</th>\n      <td>ZBH</td>\n      <td>118.2400</td>\n      <td>0.113878</td>\n      <td>N/A</td>\n    </tr>\n    <tr>\n      <th>500</th>\n      <td>ZBRA</td>\n      <td>231.8300</td>\n      <td>-0.135964</td>\n      <td>N/A</td>\n    </tr>\n    <tr>\n      <th>501</th>\n      <td>ZION</td>\n      <td>34.4200</td>\n      <td>-0.366816</td>\n      <td>N/A</td>\n    </tr>\n    <tr>\n      <th>502</th>\n      <td>ZTS</td>\n      <td>177.7100</td>\n      <td>0.214238</td>\n      <td>N/A</td>\n    </tr>\n  </tbody>\n</table>\n<p>503 rows × 4 columns</p>\n</div>"
     },
     "execution_count": 6,
     "metadata": {},
     "output_type": "execute_result"
    }
   ]
  },
  {
   "cell_type": "code",
   "execution_count": 7,
   "outputs": [
    {
     "data": {
      "text/plain": "   Ticker  Stock Price  1 Year Return Number of Shares to Buy\n80    CAT        274.3            NaN                     N/A",
      "text/html": "<div>\n<style scoped>\n    .dataframe tbody tr th:only-of-type {\n        vertical-align: middle;\n    }\n\n    .dataframe tbody tr th {\n        vertical-align: top;\n    }\n\n    .dataframe thead th {\n        text-align: right;\n    }\n</style>\n<table border=\"1\" class=\"dataframe\">\n  <thead>\n    <tr style=\"text-align: right;\">\n      <th></th>\n      <th>Ticker</th>\n      <th>Stock Price</th>\n      <th>1 Year Return</th>\n      <th>Number of Shares to Buy</th>\n    </tr>\n  </thead>\n  <tbody>\n    <tr>\n      <th>80</th>\n      <td>CAT</td>\n      <td>274.3</td>\n      <td>NaN</td>\n      <td>N/A</td>\n    </tr>\n  </tbody>\n</table>\n</div>"
     },
     "execution_count": 7,
     "metadata": {},
     "output_type": "execute_result"
    }
   ],
   "source": [
    "final_dataframe[final_dataframe.isnull().any(axis=1)]"
   ],
   "metadata": {
    "collapsed": false,
    "ExecuteTime": {
     "end_time": "2023-09-21T17:55:53.044226036Z",
     "start_time": "2023-09-21T17:55:52.972264969Z"
    }
   }
  },
  {
   "cell_type": "markdown",
   "source": [
    "Filling the `NULL` cells of the `1 Year Return` column with mean value"
   ],
   "metadata": {
    "collapsed": false
   }
  },
  {
   "cell_type": "code",
   "execution_count": 8,
   "outputs": [],
   "source": [
    "final_dataframe['1 Year Return'].fillna(final_dataframe['1 Year Return'].mean(), inplace=True)"
   ],
   "metadata": {
    "collapsed": false,
    "ExecuteTime": {
     "end_time": "2023-09-21T17:55:53.126525975Z",
     "start_time": "2023-09-21T17:55:53.013039610Z"
    }
   }
  },
  {
   "cell_type": "code",
   "execution_count": 9,
   "outputs": [
    {
     "data": {
      "text/plain": "Empty DataFrame\nColumns: [Ticker, Stock Price, 1 Year Return, Number of Shares to Buy]\nIndex: []",
      "text/html": "<div>\n<style scoped>\n    .dataframe tbody tr th:only-of-type {\n        vertical-align: middle;\n    }\n\n    .dataframe tbody tr th {\n        vertical-align: top;\n    }\n\n    .dataframe thead th {\n        text-align: right;\n    }\n</style>\n<table border=\"1\" class=\"dataframe\">\n  <thead>\n    <tr style=\"text-align: right;\">\n      <th></th>\n      <th>Ticker</th>\n      <th>Stock Price</th>\n      <th>1 Year Return</th>\n      <th>Number of Shares to Buy</th>\n    </tr>\n  </thead>\n  <tbody>\n  </tbody>\n</table>\n</div>"
     },
     "execution_count": 9,
     "metadata": {},
     "output_type": "execute_result"
    }
   ],
   "source": [
    "final_dataframe[final_dataframe.isnull().any(axis=1)]"
   ],
   "metadata": {
    "collapsed": false,
    "ExecuteTime": {
     "end_time": "2023-09-21T17:55:53.127953746Z",
     "start_time": "2023-09-21T17:55:53.056979132Z"
    }
   }
  },
  {
   "cell_type": "code",
   "execution_count": 10,
   "outputs": [
    {
     "data": {
      "text/plain": "    Ticker  Stock Price  1 Year Return Number of Shares to Buy\n0        A     110.1800      -0.095828                     N/A\n1      AAL      13.2099       0.027537                     N/A\n2      AAP      59.0500      -0.633660                     N/A\n3     AAPL     175.4900       0.148946                     N/A\n4     ABBV     153.6000       0.074121                     N/A\n..     ...          ...            ...                     ...\n498    YUM     125.5600       0.146764                     N/A\n499    ZBH     118.2400       0.113878                     N/A\n500   ZBRA     231.8300      -0.135964                     N/A\n501   ZION      34.4200      -0.366816                     N/A\n502    ZTS     177.7100       0.214238                     N/A\n\n[503 rows x 4 columns]",
      "text/html": "<div>\n<style scoped>\n    .dataframe tbody tr th:only-of-type {\n        vertical-align: middle;\n    }\n\n    .dataframe tbody tr th {\n        vertical-align: top;\n    }\n\n    .dataframe thead th {\n        text-align: right;\n    }\n</style>\n<table border=\"1\" class=\"dataframe\">\n  <thead>\n    <tr style=\"text-align: right;\">\n      <th></th>\n      <th>Ticker</th>\n      <th>Stock Price</th>\n      <th>1 Year Return</th>\n      <th>Number of Shares to Buy</th>\n    </tr>\n  </thead>\n  <tbody>\n    <tr>\n      <th>0</th>\n      <td>A</td>\n      <td>110.1800</td>\n      <td>-0.095828</td>\n      <td>N/A</td>\n    </tr>\n    <tr>\n      <th>1</th>\n      <td>AAL</td>\n      <td>13.2099</td>\n      <td>0.027537</td>\n      <td>N/A</td>\n    </tr>\n    <tr>\n      <th>2</th>\n      <td>AAP</td>\n      <td>59.0500</td>\n      <td>-0.633660</td>\n      <td>N/A</td>\n    </tr>\n    <tr>\n      <th>3</th>\n      <td>AAPL</td>\n      <td>175.4900</td>\n      <td>0.148946</td>\n      <td>N/A</td>\n    </tr>\n    <tr>\n      <th>4</th>\n      <td>ABBV</td>\n      <td>153.6000</td>\n      <td>0.074121</td>\n      <td>N/A</td>\n    </tr>\n    <tr>\n      <th>...</th>\n      <td>...</td>\n      <td>...</td>\n      <td>...</td>\n      <td>...</td>\n    </tr>\n    <tr>\n      <th>498</th>\n      <td>YUM</td>\n      <td>125.5600</td>\n      <td>0.146764</td>\n      <td>N/A</td>\n    </tr>\n    <tr>\n      <th>499</th>\n      <td>ZBH</td>\n      <td>118.2400</td>\n      <td>0.113878</td>\n      <td>N/A</td>\n    </tr>\n    <tr>\n      <th>500</th>\n      <td>ZBRA</td>\n      <td>231.8300</td>\n      <td>-0.135964</td>\n      <td>N/A</td>\n    </tr>\n    <tr>\n      <th>501</th>\n      <td>ZION</td>\n      <td>34.4200</td>\n      <td>-0.366816</td>\n      <td>N/A</td>\n    </tr>\n    <tr>\n      <th>502</th>\n      <td>ZTS</td>\n      <td>177.7100</td>\n      <td>0.214238</td>\n      <td>N/A</td>\n    </tr>\n  </tbody>\n</table>\n<p>503 rows × 4 columns</p>\n</div>"
     },
     "execution_count": 10,
     "metadata": {},
     "output_type": "execute_result"
    }
   ],
   "source": [
    "final_dataframe"
   ],
   "metadata": {
    "collapsed": false,
    "ExecuteTime": {
     "end_time": "2023-09-21T17:55:53.203056606Z",
     "start_time": "2023-09-21T17:55:53.057196851Z"
    }
   }
  },
  {
   "cell_type": "markdown",
   "source": [
    "## Removing Low-Momentum Stocks\n",
    "\n",
    "The investment strategy that we're building seeks to identify the 50 highest-momentum stocks in the S&P 500.\n",
    "\n",
    "Because of this, the next thing we need to do is remove all the stocks in our DataFrame that fall below this momentum threshold. We'll sort the DataFrame by the stocks' one-year price return, and drop all stocks outside the top 50."
   ],
   "metadata": {
    "collapsed": false
   }
  },
  {
   "cell_type": "code",
   "source": [
    "final_dataframe.sort_values('1 Year Return', ascending=False, inplace=True)"
   ],
   "metadata": {
    "id": "Q87eeDwMvIEy",
    "ExecuteTime": {
     "end_time": "2023-09-21T17:55:53.203540032Z",
     "start_time": "2023-09-21T17:55:53.101077287Z"
    }
   },
   "execution_count": 11,
   "outputs": []
  },
  {
   "cell_type": "code",
   "source": [
    "final_dataframe = final_dataframe[:50]\n",
    "final_dataframe.reset_index(drop=True, inplace=True)"
   ],
   "metadata": {
    "id": "0CG3ZGGHvOdY",
    "ExecuteTime": {
     "end_time": "2023-09-21T17:55:53.260517997Z",
     "start_time": "2023-09-21T17:55:53.101301342Z"
    }
   },
   "execution_count": 12,
   "outputs": []
  },
  {
   "cell_type": "code",
   "source": [
    "final_dataframe"
   ],
   "metadata": {
    "colab": {
     "base_uri": "https://localhost:8080/",
     "height": 687
    },
    "id": "M4TtGwp-vQir",
    "outputId": "709bb4b5-2397-4c2f-a357-5b542a2662ae",
    "ExecuteTime": {
     "end_time": "2023-09-21T17:55:53.304443300Z",
     "start_time": "2023-09-21T17:55:53.145026752Z"
    }
   },
   "execution_count": 13,
   "outputs": [
    {
     "data": {
      "text/plain": "   Ticker  Stock Price  1 Year Return Number of Shares to Buy\n0    NVDA     415.1252       2.362710                     N/A\n1      GE     113.8000       1.250962                     N/A\n2    META     299.7331       1.098236                     N/A\n3    FICO     897.9550       1.056166                     N/A\n4     RCL      95.4100       1.047021                     N/A\n5     PHM      74.2100       0.964791                     N/A\n6    ADBE     518.8450       0.866439                     N/A\n7    ACGL      80.9200       0.851127                     N/A\n8     LLY     550.4600       0.832406                     N/A\n9    AXON     196.4200       0.816436                     N/A\n10   BKNG    3035.8800       0.783648                     N/A\n11   AVGO     816.7900       0.739013                     N/A\n12   ORCL     110.7605       0.709375                     N/A\n13   CPRT      43.5100       0.675676                     N/A\n14   ODFL     401.4950       0.669040                     N/A\n15    URI     439.2242       0.639514                     N/A\n16   NFLX     387.2001       0.629614                     N/A\n17   ANET     179.1600       0.623723                     N/A\n18    FDX     262.5700       0.621069                     N/A\n19    PNR      65.4000       0.612683                     N/A\n20   AMAT     135.9500       0.610654                     N/A\n21   LRCX     613.4600       0.599824                     N/A\n22    DHI     110.0050       0.595490                     N/A\n23    MPC     155.7700       0.590644                     N/A\n24    ETN     211.7800       0.588470                     N/A\n25    SLB      59.2900       0.563955                     N/A\n26     PH     385.0000       0.559158                     N/A\n27    BKR      35.4950       0.558555                     N/A\n28   WYNN      91.0100       0.556571                     N/A\n29    TDG     848.4650       0.540202                     N/A\n30    HAL      41.0050       0.533804                     N/A\n31    NVR    5949.7000       0.529370                     N/A\n32   ISRG     286.3400       0.527946                     N/A\n33     EG     392.9050       0.522291                     N/A\n34    CCL      14.6450       0.519710                     N/A\n35    WST     372.8400       0.518470                     N/A\n36   PCAR      84.3750       0.506184                     N/A\n37    LEN     114.1750       0.504972                     N/A\n38   CARR      52.8650       0.487017                     N/A\n39   SNPS     447.9450       0.476626                     N/A\n40    NOW     554.8900       0.474404                     N/A\n41    TJX      89.7098       0.462022                     N/A\n42    PSX     120.7600       0.459463                     N/A\n43     BA     201.9800       0.458943                     N/A\n44     IR      64.2700       0.451015                     N/A\n45    FLT     271.2600       0.449384                     N/A\n46   KLAC     446.5650       0.444342                     N/A\n47    AMD      97.2300       0.443741                     N/A\n48   CDNS     230.5700       0.442829                     N/A\n49    PWR     189.4800       0.438730                     N/A",
      "text/html": "<div>\n<style scoped>\n    .dataframe tbody tr th:only-of-type {\n        vertical-align: middle;\n    }\n\n    .dataframe tbody tr th {\n        vertical-align: top;\n    }\n\n    .dataframe thead th {\n        text-align: right;\n    }\n</style>\n<table border=\"1\" class=\"dataframe\">\n  <thead>\n    <tr style=\"text-align: right;\">\n      <th></th>\n      <th>Ticker</th>\n      <th>Stock Price</th>\n      <th>1 Year Return</th>\n      <th>Number of Shares to Buy</th>\n    </tr>\n  </thead>\n  <tbody>\n    <tr>\n      <th>0</th>\n      <td>NVDA</td>\n      <td>415.1252</td>\n      <td>2.362710</td>\n      <td>N/A</td>\n    </tr>\n    <tr>\n      <th>1</th>\n      <td>GE</td>\n      <td>113.8000</td>\n      <td>1.250962</td>\n      <td>N/A</td>\n    </tr>\n    <tr>\n      <th>2</th>\n      <td>META</td>\n      <td>299.7331</td>\n      <td>1.098236</td>\n      <td>N/A</td>\n    </tr>\n    <tr>\n      <th>3</th>\n      <td>FICO</td>\n      <td>897.9550</td>\n      <td>1.056166</td>\n      <td>N/A</td>\n    </tr>\n    <tr>\n      <th>4</th>\n      <td>RCL</td>\n      <td>95.4100</td>\n      <td>1.047021</td>\n      <td>N/A</td>\n    </tr>\n    <tr>\n      <th>5</th>\n      <td>PHM</td>\n      <td>74.2100</td>\n      <td>0.964791</td>\n      <td>N/A</td>\n    </tr>\n    <tr>\n      <th>6</th>\n      <td>ADBE</td>\n      <td>518.8450</td>\n      <td>0.866439</td>\n      <td>N/A</td>\n    </tr>\n    <tr>\n      <th>7</th>\n      <td>ACGL</td>\n      <td>80.9200</td>\n      <td>0.851127</td>\n      <td>N/A</td>\n    </tr>\n    <tr>\n      <th>8</th>\n      <td>LLY</td>\n      <td>550.4600</td>\n      <td>0.832406</td>\n      <td>N/A</td>\n    </tr>\n    <tr>\n      <th>9</th>\n      <td>AXON</td>\n      <td>196.4200</td>\n      <td>0.816436</td>\n      <td>N/A</td>\n    </tr>\n    <tr>\n      <th>10</th>\n      <td>BKNG</td>\n      <td>3035.8800</td>\n      <td>0.783648</td>\n      <td>N/A</td>\n    </tr>\n    <tr>\n      <th>11</th>\n      <td>AVGO</td>\n      <td>816.7900</td>\n      <td>0.739013</td>\n      <td>N/A</td>\n    </tr>\n    <tr>\n      <th>12</th>\n      <td>ORCL</td>\n      <td>110.7605</td>\n      <td>0.709375</td>\n      <td>N/A</td>\n    </tr>\n    <tr>\n      <th>13</th>\n      <td>CPRT</td>\n      <td>43.5100</td>\n      <td>0.675676</td>\n      <td>N/A</td>\n    </tr>\n    <tr>\n      <th>14</th>\n      <td>ODFL</td>\n      <td>401.4950</td>\n      <td>0.669040</td>\n      <td>N/A</td>\n    </tr>\n    <tr>\n      <th>15</th>\n      <td>URI</td>\n      <td>439.2242</td>\n      <td>0.639514</td>\n      <td>N/A</td>\n    </tr>\n    <tr>\n      <th>16</th>\n      <td>NFLX</td>\n      <td>387.2001</td>\n      <td>0.629614</td>\n      <td>N/A</td>\n    </tr>\n    <tr>\n      <th>17</th>\n      <td>ANET</td>\n      <td>179.1600</td>\n      <td>0.623723</td>\n      <td>N/A</td>\n    </tr>\n    <tr>\n      <th>18</th>\n      <td>FDX</td>\n      <td>262.5700</td>\n      <td>0.621069</td>\n      <td>N/A</td>\n    </tr>\n    <tr>\n      <th>19</th>\n      <td>PNR</td>\n      <td>65.4000</td>\n      <td>0.612683</td>\n      <td>N/A</td>\n    </tr>\n    <tr>\n      <th>20</th>\n      <td>AMAT</td>\n      <td>135.9500</td>\n      <td>0.610654</td>\n      <td>N/A</td>\n    </tr>\n    <tr>\n      <th>21</th>\n      <td>LRCX</td>\n      <td>613.4600</td>\n      <td>0.599824</td>\n      <td>N/A</td>\n    </tr>\n    <tr>\n      <th>22</th>\n      <td>DHI</td>\n      <td>110.0050</td>\n      <td>0.595490</td>\n      <td>N/A</td>\n    </tr>\n    <tr>\n      <th>23</th>\n      <td>MPC</td>\n      <td>155.7700</td>\n      <td>0.590644</td>\n      <td>N/A</td>\n    </tr>\n    <tr>\n      <th>24</th>\n      <td>ETN</td>\n      <td>211.7800</td>\n      <td>0.588470</td>\n      <td>N/A</td>\n    </tr>\n    <tr>\n      <th>25</th>\n      <td>SLB</td>\n      <td>59.2900</td>\n      <td>0.563955</td>\n      <td>N/A</td>\n    </tr>\n    <tr>\n      <th>26</th>\n      <td>PH</td>\n      <td>385.0000</td>\n      <td>0.559158</td>\n      <td>N/A</td>\n    </tr>\n    <tr>\n      <th>27</th>\n      <td>BKR</td>\n      <td>35.4950</td>\n      <td>0.558555</td>\n      <td>N/A</td>\n    </tr>\n    <tr>\n      <th>28</th>\n      <td>WYNN</td>\n      <td>91.0100</td>\n      <td>0.556571</td>\n      <td>N/A</td>\n    </tr>\n    <tr>\n      <th>29</th>\n      <td>TDG</td>\n      <td>848.4650</td>\n      <td>0.540202</td>\n      <td>N/A</td>\n    </tr>\n    <tr>\n      <th>30</th>\n      <td>HAL</td>\n      <td>41.0050</td>\n      <td>0.533804</td>\n      <td>N/A</td>\n    </tr>\n    <tr>\n      <th>31</th>\n      <td>NVR</td>\n      <td>5949.7000</td>\n      <td>0.529370</td>\n      <td>N/A</td>\n    </tr>\n    <tr>\n      <th>32</th>\n      <td>ISRG</td>\n      <td>286.3400</td>\n      <td>0.527946</td>\n      <td>N/A</td>\n    </tr>\n    <tr>\n      <th>33</th>\n      <td>EG</td>\n      <td>392.9050</td>\n      <td>0.522291</td>\n      <td>N/A</td>\n    </tr>\n    <tr>\n      <th>34</th>\n      <td>CCL</td>\n      <td>14.6450</td>\n      <td>0.519710</td>\n      <td>N/A</td>\n    </tr>\n    <tr>\n      <th>35</th>\n      <td>WST</td>\n      <td>372.8400</td>\n      <td>0.518470</td>\n      <td>N/A</td>\n    </tr>\n    <tr>\n      <th>36</th>\n      <td>PCAR</td>\n      <td>84.3750</td>\n      <td>0.506184</td>\n      <td>N/A</td>\n    </tr>\n    <tr>\n      <th>37</th>\n      <td>LEN</td>\n      <td>114.1750</td>\n      <td>0.504972</td>\n      <td>N/A</td>\n    </tr>\n    <tr>\n      <th>38</th>\n      <td>CARR</td>\n      <td>52.8650</td>\n      <td>0.487017</td>\n      <td>N/A</td>\n    </tr>\n    <tr>\n      <th>39</th>\n      <td>SNPS</td>\n      <td>447.9450</td>\n      <td>0.476626</td>\n      <td>N/A</td>\n    </tr>\n    <tr>\n      <th>40</th>\n      <td>NOW</td>\n      <td>554.8900</td>\n      <td>0.474404</td>\n      <td>N/A</td>\n    </tr>\n    <tr>\n      <th>41</th>\n      <td>TJX</td>\n      <td>89.7098</td>\n      <td>0.462022</td>\n      <td>N/A</td>\n    </tr>\n    <tr>\n      <th>42</th>\n      <td>PSX</td>\n      <td>120.7600</td>\n      <td>0.459463</td>\n      <td>N/A</td>\n    </tr>\n    <tr>\n      <th>43</th>\n      <td>BA</td>\n      <td>201.9800</td>\n      <td>0.458943</td>\n      <td>N/A</td>\n    </tr>\n    <tr>\n      <th>44</th>\n      <td>IR</td>\n      <td>64.2700</td>\n      <td>0.451015</td>\n      <td>N/A</td>\n    </tr>\n    <tr>\n      <th>45</th>\n      <td>FLT</td>\n      <td>271.2600</td>\n      <td>0.449384</td>\n      <td>N/A</td>\n    </tr>\n    <tr>\n      <th>46</th>\n      <td>KLAC</td>\n      <td>446.5650</td>\n      <td>0.444342</td>\n      <td>N/A</td>\n    </tr>\n    <tr>\n      <th>47</th>\n      <td>AMD</td>\n      <td>97.2300</td>\n      <td>0.443741</td>\n      <td>N/A</td>\n    </tr>\n    <tr>\n      <th>48</th>\n      <td>CDNS</td>\n      <td>230.5700</td>\n      <td>0.442829</td>\n      <td>N/A</td>\n    </tr>\n    <tr>\n      <th>49</th>\n      <td>PWR</td>\n      <td>189.4800</td>\n      <td>0.438730</td>\n      <td>N/A</td>\n    </tr>\n  </tbody>\n</table>\n</div>"
     },
     "execution_count": 13,
     "metadata": {},
     "output_type": "execute_result"
    }
   ]
  },
  {
   "cell_type": "markdown",
   "source": [
    "## Calculating the Number of Shares to Buy\n",
    "\n",
    "As we can see in the DataFrame above, we stil haven't calculated the number of shares of each stock to buy."
   ],
   "metadata": {
    "collapsed": false
   }
  },
  {
   "cell_type": "code",
   "source": [
    "# portfolio_size = float(input(\"Enter your portfolio value: \"))\n",
    "portfolio_size = 10000000\n",
    "portfolio_size"
   ],
   "metadata": {
    "colab": {
     "base_uri": "https://localhost:8080/"
    },
    "id": "g1l9P_AEvSzg",
    "outputId": "7c518488-c4a0-4a69-b5fb-c560f1754ec8",
    "ExecuteTime": {
     "end_time": "2023-09-21T17:55:53.331549282Z",
     "start_time": "2023-09-21T17:55:53.189010351Z"
    }
   },
   "execution_count": 14,
   "outputs": [
    {
     "data": {
      "text/plain": "10000000"
     },
     "execution_count": 14,
     "metadata": {},
     "output_type": "execute_result"
    }
   ]
  },
  {
   "cell_type": "code",
   "source": [
    "position_size = float(portfolio_size) / len(final_dataframe.index)\n",
    "position_size"
   ],
   "metadata": {
    "colab": {
     "base_uri": "https://localhost:8080/"
    },
    "id": "2Kr2o8OyvbEP",
    "outputId": "941fbf39-82b9-4868-d6ff-effa56bc8f96",
    "ExecuteTime": {
     "end_time": "2023-09-21T17:55:53.332003775Z",
     "start_time": "2023-09-21T17:55:53.189166057Z"
    }
   },
   "execution_count": 15,
   "outputs": [
    {
     "data": {
      "text/plain": "200000.0"
     },
     "execution_count": 15,
     "metadata": {},
     "output_type": "execute_result"
    }
   ]
  },
  {
   "cell_type": "code",
   "source": [
    "for i in range(len(final_dataframe.index)):\n",
    "    final_dataframe.loc[i, 'Number of Shares to Buy'] = math.floor(\n",
    "        position_size / final_dataframe.loc[i, 'Stock Price'])\n",
    "\n",
    "final_dataframe"
   ],
   "metadata": {
    "colab": {
     "base_uri": "https://localhost:8080/",
     "height": 1000
    },
    "id": "24XzkU0EvdOb",
    "outputId": "5e87f3a8-c797-4117-dc33-28a2b40ce030",
    "ExecuteTime": {
     "end_time": "2023-09-21T17:55:53.396270292Z",
     "start_time": "2023-09-21T17:55:53.189261847Z"
    }
   },
   "execution_count": 16,
   "outputs": [
    {
     "data": {
      "text/plain": "   Ticker  Stock Price  1 Year Return Number of Shares to Buy\n0    NVDA     415.1252       2.362710                     481\n1      GE     113.8000       1.250962                    1757\n2    META     299.7331       1.098236                     667\n3    FICO     897.9550       1.056166                     222\n4     RCL      95.4100       1.047021                    2096\n5     PHM      74.2100       0.964791                    2695\n6    ADBE     518.8450       0.866439                     385\n7    ACGL      80.9200       0.851127                    2471\n8     LLY     550.4600       0.832406                     363\n9    AXON     196.4200       0.816436                    1018\n10   BKNG    3035.8800       0.783648                      65\n11   AVGO     816.7900       0.739013                     244\n12   ORCL     110.7605       0.709375                    1805\n13   CPRT      43.5100       0.675676                    4596\n14   ODFL     401.4950       0.669040                     498\n15    URI     439.2242       0.639514                     455\n16   NFLX     387.2001       0.629614                     516\n17   ANET     179.1600       0.623723                    1116\n18    FDX     262.5700       0.621069                     761\n19    PNR      65.4000       0.612683                    3058\n20   AMAT     135.9500       0.610654                    1471\n21   LRCX     613.4600       0.599824                     326\n22    DHI     110.0050       0.595490                    1818\n23    MPC     155.7700       0.590644                    1283\n24    ETN     211.7800       0.588470                     944\n25    SLB      59.2900       0.563955                    3373\n26     PH     385.0000       0.559158                     519\n27    BKR      35.4950       0.558555                    5634\n28   WYNN      91.0100       0.556571                    2197\n29    TDG     848.4650       0.540202                     235\n30    HAL      41.0050       0.533804                    4877\n31    NVR    5949.7000       0.529370                      33\n32   ISRG     286.3400       0.527946                     698\n33     EG     392.9050       0.522291                     509\n34    CCL      14.6450       0.519710                   13656\n35    WST     372.8400       0.518470                     536\n36   PCAR      84.3750       0.506184                    2370\n37    LEN     114.1750       0.504972                    1751\n38   CARR      52.8650       0.487017                    3783\n39   SNPS     447.9450       0.476626                     446\n40    NOW     554.8900       0.474404                     360\n41    TJX      89.7098       0.462022                    2229\n42    PSX     120.7600       0.459463                    1656\n43     BA     201.9800       0.458943                     990\n44     IR      64.2700       0.451015                    3111\n45    FLT     271.2600       0.449384                     737\n46   KLAC     446.5650       0.444342                     447\n47    AMD      97.2300       0.443741                    2056\n48   CDNS     230.5700       0.442829                     867\n49    PWR     189.4800       0.438730                    1055",
      "text/html": "<div>\n<style scoped>\n    .dataframe tbody tr th:only-of-type {\n        vertical-align: middle;\n    }\n\n    .dataframe tbody tr th {\n        vertical-align: top;\n    }\n\n    .dataframe thead th {\n        text-align: right;\n    }\n</style>\n<table border=\"1\" class=\"dataframe\">\n  <thead>\n    <tr style=\"text-align: right;\">\n      <th></th>\n      <th>Ticker</th>\n      <th>Stock Price</th>\n      <th>1 Year Return</th>\n      <th>Number of Shares to Buy</th>\n    </tr>\n  </thead>\n  <tbody>\n    <tr>\n      <th>0</th>\n      <td>NVDA</td>\n      <td>415.1252</td>\n      <td>2.362710</td>\n      <td>481</td>\n    </tr>\n    <tr>\n      <th>1</th>\n      <td>GE</td>\n      <td>113.8000</td>\n      <td>1.250962</td>\n      <td>1757</td>\n    </tr>\n    <tr>\n      <th>2</th>\n      <td>META</td>\n      <td>299.7331</td>\n      <td>1.098236</td>\n      <td>667</td>\n    </tr>\n    <tr>\n      <th>3</th>\n      <td>FICO</td>\n      <td>897.9550</td>\n      <td>1.056166</td>\n      <td>222</td>\n    </tr>\n    <tr>\n      <th>4</th>\n      <td>RCL</td>\n      <td>95.4100</td>\n      <td>1.047021</td>\n      <td>2096</td>\n    </tr>\n    <tr>\n      <th>5</th>\n      <td>PHM</td>\n      <td>74.2100</td>\n      <td>0.964791</td>\n      <td>2695</td>\n    </tr>\n    <tr>\n      <th>6</th>\n      <td>ADBE</td>\n      <td>518.8450</td>\n      <td>0.866439</td>\n      <td>385</td>\n    </tr>\n    <tr>\n      <th>7</th>\n      <td>ACGL</td>\n      <td>80.9200</td>\n      <td>0.851127</td>\n      <td>2471</td>\n    </tr>\n    <tr>\n      <th>8</th>\n      <td>LLY</td>\n      <td>550.4600</td>\n      <td>0.832406</td>\n      <td>363</td>\n    </tr>\n    <tr>\n      <th>9</th>\n      <td>AXON</td>\n      <td>196.4200</td>\n      <td>0.816436</td>\n      <td>1018</td>\n    </tr>\n    <tr>\n      <th>10</th>\n      <td>BKNG</td>\n      <td>3035.8800</td>\n      <td>0.783648</td>\n      <td>65</td>\n    </tr>\n    <tr>\n      <th>11</th>\n      <td>AVGO</td>\n      <td>816.7900</td>\n      <td>0.739013</td>\n      <td>244</td>\n    </tr>\n    <tr>\n      <th>12</th>\n      <td>ORCL</td>\n      <td>110.7605</td>\n      <td>0.709375</td>\n      <td>1805</td>\n    </tr>\n    <tr>\n      <th>13</th>\n      <td>CPRT</td>\n      <td>43.5100</td>\n      <td>0.675676</td>\n      <td>4596</td>\n    </tr>\n    <tr>\n      <th>14</th>\n      <td>ODFL</td>\n      <td>401.4950</td>\n      <td>0.669040</td>\n      <td>498</td>\n    </tr>\n    <tr>\n      <th>15</th>\n      <td>URI</td>\n      <td>439.2242</td>\n      <td>0.639514</td>\n      <td>455</td>\n    </tr>\n    <tr>\n      <th>16</th>\n      <td>NFLX</td>\n      <td>387.2001</td>\n      <td>0.629614</td>\n      <td>516</td>\n    </tr>\n    <tr>\n      <th>17</th>\n      <td>ANET</td>\n      <td>179.1600</td>\n      <td>0.623723</td>\n      <td>1116</td>\n    </tr>\n    <tr>\n      <th>18</th>\n      <td>FDX</td>\n      <td>262.5700</td>\n      <td>0.621069</td>\n      <td>761</td>\n    </tr>\n    <tr>\n      <th>19</th>\n      <td>PNR</td>\n      <td>65.4000</td>\n      <td>0.612683</td>\n      <td>3058</td>\n    </tr>\n    <tr>\n      <th>20</th>\n      <td>AMAT</td>\n      <td>135.9500</td>\n      <td>0.610654</td>\n      <td>1471</td>\n    </tr>\n    <tr>\n      <th>21</th>\n      <td>LRCX</td>\n      <td>613.4600</td>\n      <td>0.599824</td>\n      <td>326</td>\n    </tr>\n    <tr>\n      <th>22</th>\n      <td>DHI</td>\n      <td>110.0050</td>\n      <td>0.595490</td>\n      <td>1818</td>\n    </tr>\n    <tr>\n      <th>23</th>\n      <td>MPC</td>\n      <td>155.7700</td>\n      <td>0.590644</td>\n      <td>1283</td>\n    </tr>\n    <tr>\n      <th>24</th>\n      <td>ETN</td>\n      <td>211.7800</td>\n      <td>0.588470</td>\n      <td>944</td>\n    </tr>\n    <tr>\n      <th>25</th>\n      <td>SLB</td>\n      <td>59.2900</td>\n      <td>0.563955</td>\n      <td>3373</td>\n    </tr>\n    <tr>\n      <th>26</th>\n      <td>PH</td>\n      <td>385.0000</td>\n      <td>0.559158</td>\n      <td>519</td>\n    </tr>\n    <tr>\n      <th>27</th>\n      <td>BKR</td>\n      <td>35.4950</td>\n      <td>0.558555</td>\n      <td>5634</td>\n    </tr>\n    <tr>\n      <th>28</th>\n      <td>WYNN</td>\n      <td>91.0100</td>\n      <td>0.556571</td>\n      <td>2197</td>\n    </tr>\n    <tr>\n      <th>29</th>\n      <td>TDG</td>\n      <td>848.4650</td>\n      <td>0.540202</td>\n      <td>235</td>\n    </tr>\n    <tr>\n      <th>30</th>\n      <td>HAL</td>\n      <td>41.0050</td>\n      <td>0.533804</td>\n      <td>4877</td>\n    </tr>\n    <tr>\n      <th>31</th>\n      <td>NVR</td>\n      <td>5949.7000</td>\n      <td>0.529370</td>\n      <td>33</td>\n    </tr>\n    <tr>\n      <th>32</th>\n      <td>ISRG</td>\n      <td>286.3400</td>\n      <td>0.527946</td>\n      <td>698</td>\n    </tr>\n    <tr>\n      <th>33</th>\n      <td>EG</td>\n      <td>392.9050</td>\n      <td>0.522291</td>\n      <td>509</td>\n    </tr>\n    <tr>\n      <th>34</th>\n      <td>CCL</td>\n      <td>14.6450</td>\n      <td>0.519710</td>\n      <td>13656</td>\n    </tr>\n    <tr>\n      <th>35</th>\n      <td>WST</td>\n      <td>372.8400</td>\n      <td>0.518470</td>\n      <td>536</td>\n    </tr>\n    <tr>\n      <th>36</th>\n      <td>PCAR</td>\n      <td>84.3750</td>\n      <td>0.506184</td>\n      <td>2370</td>\n    </tr>\n    <tr>\n      <th>37</th>\n      <td>LEN</td>\n      <td>114.1750</td>\n      <td>0.504972</td>\n      <td>1751</td>\n    </tr>\n    <tr>\n      <th>38</th>\n      <td>CARR</td>\n      <td>52.8650</td>\n      <td>0.487017</td>\n      <td>3783</td>\n    </tr>\n    <tr>\n      <th>39</th>\n      <td>SNPS</td>\n      <td>447.9450</td>\n      <td>0.476626</td>\n      <td>446</td>\n    </tr>\n    <tr>\n      <th>40</th>\n      <td>NOW</td>\n      <td>554.8900</td>\n      <td>0.474404</td>\n      <td>360</td>\n    </tr>\n    <tr>\n      <th>41</th>\n      <td>TJX</td>\n      <td>89.7098</td>\n      <td>0.462022</td>\n      <td>2229</td>\n    </tr>\n    <tr>\n      <th>42</th>\n      <td>PSX</td>\n      <td>120.7600</td>\n      <td>0.459463</td>\n      <td>1656</td>\n    </tr>\n    <tr>\n      <th>43</th>\n      <td>BA</td>\n      <td>201.9800</td>\n      <td>0.458943</td>\n      <td>990</td>\n    </tr>\n    <tr>\n      <th>44</th>\n      <td>IR</td>\n      <td>64.2700</td>\n      <td>0.451015</td>\n      <td>3111</td>\n    </tr>\n    <tr>\n      <th>45</th>\n      <td>FLT</td>\n      <td>271.2600</td>\n      <td>0.449384</td>\n      <td>737</td>\n    </tr>\n    <tr>\n      <th>46</th>\n      <td>KLAC</td>\n      <td>446.5650</td>\n      <td>0.444342</td>\n      <td>447</td>\n    </tr>\n    <tr>\n      <th>47</th>\n      <td>AMD</td>\n      <td>97.2300</td>\n      <td>0.443741</td>\n      <td>2056</td>\n    </tr>\n    <tr>\n      <th>48</th>\n      <td>CDNS</td>\n      <td>230.5700</td>\n      <td>0.442829</td>\n      <td>867</td>\n    </tr>\n    <tr>\n      <th>49</th>\n      <td>PWR</td>\n      <td>189.4800</td>\n      <td>0.438730</td>\n      <td>1055</td>\n    </tr>\n  </tbody>\n</table>\n</div>"
     },
     "execution_count": 16,
     "metadata": {},
     "output_type": "execute_result"
    }
   ]
  },
  {
   "cell_type": "markdown",
   "source": [
    "## Building a Better (and More Realistic) Momentum Strategy\n",
    "\n",
    "Real-world quantitative investment firms differentiate between \"high quality\" and \"low quality\" momentum stocks:\n",
    "\n",
    "* High-quality momentum stocks show \"slow and steady\" outperformance over long periods of time\n",
    "* Low-quality momentum stocks might not show any momentum for a long time, and then surge upwards.\n",
    "\n",
    "The reason why high-quality momentum stocks are preferred is that low-quality momentum can often be caused by short-term news that is unlikely to be repeated in the future (such as an FDA approval for a biotechnology company).\n",
    "\n",
    "To identify high-quality momentum, we're going to build a strategy that selects stocks from the highest percentiles of: \n",
    "\n",
    "* 1-month price returns\n",
    "* 3-month price returns\n",
    "* 6-month price returns\n",
    "* 1-year price returns\n",
    "\n",
    "Here `hqm` stands for `high-quality momentum`."
   ],
   "metadata": {
    "collapsed": false
   }
  },
  {
   "cell_type": "code",
   "execution_count": 17,
   "outputs": [
    {
     "data": {
      "text/plain": "Empty DataFrame\nColumns: [Ticker, Stock Price, Number of Shares to Buy, 1 Year Return, 1 Year Return Percentile, 6 Months Return, 6 Months Return Percentile, 3 Months Return, 3 Months Return Percentile, 1 Month Return, 1 Month Return Percentile, HQM Score]\nIndex: []",
      "text/html": "<div>\n<style scoped>\n    .dataframe tbody tr th:only-of-type {\n        vertical-align: middle;\n    }\n\n    .dataframe tbody tr th {\n        vertical-align: top;\n    }\n\n    .dataframe thead th {\n        text-align: right;\n    }\n</style>\n<table border=\"1\" class=\"dataframe\">\n  <thead>\n    <tr style=\"text-align: right;\">\n      <th></th>\n      <th>Ticker</th>\n      <th>Stock Price</th>\n      <th>Number of Shares to Buy</th>\n      <th>1 Year Return</th>\n      <th>1 Year Return Percentile</th>\n      <th>6 Months Return</th>\n      <th>6 Months Return Percentile</th>\n      <th>3 Months Return</th>\n      <th>3 Months Return Percentile</th>\n      <th>1 Month Return</th>\n      <th>1 Month Return Percentile</th>\n      <th>HQM Score</th>\n    </tr>\n  </thead>\n  <tbody>\n  </tbody>\n</table>\n</div>"
     },
     "execution_count": 17,
     "metadata": {},
     "output_type": "execute_result"
    }
   ],
   "source": [
    "hqm_columns = [\n",
    "    'Ticker',\n",
    "    'Stock Price',\n",
    "    'Number of Shares to Buy',\n",
    "    '1 Year Return',\n",
    "    '1 Year Return Percentile',\n",
    "    '6 Months Return',\n",
    "    '6 Months Return Percentile',\n",
    "    '3 Months Return',\n",
    "    '3 Months Return Percentile',\n",
    "    '1 Month Return',\n",
    "    '1 Month Return Percentile',\n",
    "    'HQM Score'\n",
    "]\n",
    "\n",
    "hqm_dataframe = pd.DataFrame(columns=hqm_columns)\n",
    "hqm_dataframe"
   ],
   "metadata": {
    "collapsed": false,
    "ExecuteTime": {
     "end_time": "2023-09-21T17:55:53.399103764Z",
     "start_time": "2023-09-21T17:55:53.261326791Z"
    }
   }
  },
  {
   "cell_type": "code",
   "source": [
    "for stock in stocks['Ticker']:\n",
    "    data = yf.Ticker(stock).info\n",
    "    try:\n",
    "        yr1Return = data['52WeekChange']\n",
    "    except:\n",
    "        yr1Return = np.NaN\n",
    "    try:\n",
    "        hist = yf.Ticker(stock).history(period='6mo')\n",
    "        mnth6Return = ((hist['Close'][-1] - hist['Close'][0]) / hist['Close'][0]) * 100\n",
    "    except:\n",
    "        mnth6Return = np.NaN\n",
    "    try:\n",
    "        hist = yf.Ticker(stock).history(period='3mo')\n",
    "        mnth3Return = ((hist['Close'][-1] - hist['Close'][0]) / hist['Close'][0]) * 100\n",
    "    except:\n",
    "        mnth3Return = np.NaN\n",
    "    try:\n",
    "        hist = yf.Ticker(stock).history(period='1mo')\n",
    "        mnth1Return = ((hist['Close'][-1] - hist['Close'][0]) / hist['Close'][0]) * 100\n",
    "    except:\n",
    "        mnth1Return = np.NaN\n",
    "    \n",
    "    stock_dict = {\n",
    "        'Ticker': [stock],\n",
    "        'Stock Price': [data['currentPrice']],\n",
    "        'Number of Shares to Buy': ['N/A'],\n",
    "        '1 Year Return': [yr1Return],\n",
    "        '1 Year Return Percentile': ['N/A'],\n",
    "        '6 Months Return': [mnth6Return],\n",
    "        '6 Months Return Percentile': ['N/A'],\n",
    "        '3 Months Return': [mnth3Return],\n",
    "        '3 Months Return Percentile': ['N/A'],\n",
    "        '1 Month Return': [mnth1Return],\n",
    "        '1 Month Return Percentile': ['N/A'],\n",
    "        'HQM Score': ['N/A']\n",
    "    }\n",
    "    df = pd.DataFrame(stock_dict)\n",
    "    hqm_dataframe = pd.concat([hqm_dataframe, df], ignore_index=True)\n",
    "\n",
    "    clear_output(wait=True)\n",
    "    print(hqm_dataframe['Ticker'])"
   ],
   "metadata": {
    "colab": {
     "base_uri": "https://localhost:8080/"
    },
    "id": "K2rDM_RBvfyH",
    "outputId": "a3da2022-a797-4fcc-87d5-51e9b0b0afd2"
   },
   "execution_count": 18,
   "outputs": [
    {
     "name": "stdout",
     "output_type": "stream",
     "text": [
      "0         A\n",
      "1       AAL\n",
      "2       AAP\n",
      "3      AAPL\n",
      "4      ABBV\n",
      "       ... \n",
      "498     YUM\n",
      "499     ZBH\n",
      "500    ZBRA\n",
      "501    ZION\n",
      "502     ZTS\n",
      "Name: Ticker, Length: 503, dtype: object\n"
     ]
    }
   ]
  },
  {
   "cell_type": "code",
   "source": [
    "hqm_dataframe"
   ],
   "metadata": {
    "colab": {
     "base_uri": "https://localhost:8080/",
     "height": 485
    },
    "id": "D-YxN7Xtv7sP",
    "outputId": "e73982ca-27a2-499b-a8b7-f3b6f76c299d",
    "ExecuteTime": {
     "end_time": "2023-09-21T18:19:17.298832872Z",
     "start_time": "2023-09-21T18:19:17.274884431Z"
    }
   },
   "execution_count": 19,
   "outputs": [
    {
     "data": {
      "text/plain": "    Ticker  Stock Price Number of Shares to Buy  1 Year Return  \\\n0        A     110.1300                     N/A      -0.095828   \n1      AAL      13.2150                     N/A       0.027537   \n2      AAP      58.9800                     N/A      -0.633660   \n3     AAPL     175.3911                     N/A       0.148946   \n4     ABBV     153.5945                     N/A       0.074121   \n..     ...          ...                     ...            ...   \n498    YUM     125.3400                     N/A            NaN   \n499    ZBH     118.4250                     N/A            NaN   \n500   ZBRA     230.5000                     N/A            NaN   \n501   ZION      34.4400                     N/A            NaN   \n502    ZTS     177.5900                     N/A            NaN   \n\n    1 Year Return Percentile  6 Months Return 6 Months Return Percentile  \\\n0                        N/A       -19.334310                        N/A   \n1                        N/A        -8.037576                        N/A   \n2                        N/A       -49.970784                        N/A   \n3                        N/A        10.409182                        N/A   \n4                        N/A        -0.028126                        N/A   \n..                       ...              ...                        ...   \n498                      N/A        -2.497088                        N/A   \n499                      N/A        -7.328428                        N/A   \n500                      N/A       -21.713139                        N/A   \n501                      N/A         6.658401                        N/A   \n502                      N/A         6.827473                        N/A   \n\n     3 Months Return 3 Months Return Percentile  1 Month Return  \\\n0          -6.752049                        N/A       -7.344778   \n1         -18.926376                        N/A      -12.829813   \n2         -13.869108                        N/A      -13.519058   \n3          -4.535320                        N/A       -0.264443   \n4          13.471623                        N/A        2.287223   \n..               ...                        ...             ...   \n498        -8.336996                        N/A       -2.686341   \n499       -17.121560                        N/A       -1.599498   \n500       -14.906971                        N/A      -13.841438   \n501        23.220028                        N/A       -0.260643   \n502         4.538493                        N/A       -1.780876   \n\n    1 Month Return Percentile HQM Score  \n0                         N/A       N/A  \n1                         N/A       N/A  \n2                         N/A       N/A  \n3                         N/A       N/A  \n4                         N/A       N/A  \n..                        ...       ...  \n498                       N/A       N/A  \n499                       N/A       N/A  \n500                       N/A       N/A  \n501                       N/A       N/A  \n502                       N/A       N/A  \n\n[503 rows x 12 columns]",
      "text/html": "<div>\n<style scoped>\n    .dataframe tbody tr th:only-of-type {\n        vertical-align: middle;\n    }\n\n    .dataframe tbody tr th {\n        vertical-align: top;\n    }\n\n    .dataframe thead th {\n        text-align: right;\n    }\n</style>\n<table border=\"1\" class=\"dataframe\">\n  <thead>\n    <tr style=\"text-align: right;\">\n      <th></th>\n      <th>Ticker</th>\n      <th>Stock Price</th>\n      <th>Number of Shares to Buy</th>\n      <th>1 Year Return</th>\n      <th>1 Year Return Percentile</th>\n      <th>6 Months Return</th>\n      <th>6 Months Return Percentile</th>\n      <th>3 Months Return</th>\n      <th>3 Months Return Percentile</th>\n      <th>1 Month Return</th>\n      <th>1 Month Return Percentile</th>\n      <th>HQM Score</th>\n    </tr>\n  </thead>\n  <tbody>\n    <tr>\n      <th>0</th>\n      <td>A</td>\n      <td>110.1300</td>\n      <td>N/A</td>\n      <td>-0.095828</td>\n      <td>N/A</td>\n      <td>-19.334310</td>\n      <td>N/A</td>\n      <td>-6.752049</td>\n      <td>N/A</td>\n      <td>-7.344778</td>\n      <td>N/A</td>\n      <td>N/A</td>\n    </tr>\n    <tr>\n      <th>1</th>\n      <td>AAL</td>\n      <td>13.2150</td>\n      <td>N/A</td>\n      <td>0.027537</td>\n      <td>N/A</td>\n      <td>-8.037576</td>\n      <td>N/A</td>\n      <td>-18.926376</td>\n      <td>N/A</td>\n      <td>-12.829813</td>\n      <td>N/A</td>\n      <td>N/A</td>\n    </tr>\n    <tr>\n      <th>2</th>\n      <td>AAP</td>\n      <td>58.9800</td>\n      <td>N/A</td>\n      <td>-0.633660</td>\n      <td>N/A</td>\n      <td>-49.970784</td>\n      <td>N/A</td>\n      <td>-13.869108</td>\n      <td>N/A</td>\n      <td>-13.519058</td>\n      <td>N/A</td>\n      <td>N/A</td>\n    </tr>\n    <tr>\n      <th>3</th>\n      <td>AAPL</td>\n      <td>175.3911</td>\n      <td>N/A</td>\n      <td>0.148946</td>\n      <td>N/A</td>\n      <td>10.409182</td>\n      <td>N/A</td>\n      <td>-4.535320</td>\n      <td>N/A</td>\n      <td>-0.264443</td>\n      <td>N/A</td>\n      <td>N/A</td>\n    </tr>\n    <tr>\n      <th>4</th>\n      <td>ABBV</td>\n      <td>153.5945</td>\n      <td>N/A</td>\n      <td>0.074121</td>\n      <td>N/A</td>\n      <td>-0.028126</td>\n      <td>N/A</td>\n      <td>13.471623</td>\n      <td>N/A</td>\n      <td>2.287223</td>\n      <td>N/A</td>\n      <td>N/A</td>\n    </tr>\n    <tr>\n      <th>...</th>\n      <td>...</td>\n      <td>...</td>\n      <td>...</td>\n      <td>...</td>\n      <td>...</td>\n      <td>...</td>\n      <td>...</td>\n      <td>...</td>\n      <td>...</td>\n      <td>...</td>\n      <td>...</td>\n      <td>...</td>\n    </tr>\n    <tr>\n      <th>498</th>\n      <td>YUM</td>\n      <td>125.3400</td>\n      <td>N/A</td>\n      <td>NaN</td>\n      <td>N/A</td>\n      <td>-2.497088</td>\n      <td>N/A</td>\n      <td>-8.336996</td>\n      <td>N/A</td>\n      <td>-2.686341</td>\n      <td>N/A</td>\n      <td>N/A</td>\n    </tr>\n    <tr>\n      <th>499</th>\n      <td>ZBH</td>\n      <td>118.4250</td>\n      <td>N/A</td>\n      <td>NaN</td>\n      <td>N/A</td>\n      <td>-7.328428</td>\n      <td>N/A</td>\n      <td>-17.121560</td>\n      <td>N/A</td>\n      <td>-1.599498</td>\n      <td>N/A</td>\n      <td>N/A</td>\n    </tr>\n    <tr>\n      <th>500</th>\n      <td>ZBRA</td>\n      <td>230.5000</td>\n      <td>N/A</td>\n      <td>NaN</td>\n      <td>N/A</td>\n      <td>-21.713139</td>\n      <td>N/A</td>\n      <td>-14.906971</td>\n      <td>N/A</td>\n      <td>-13.841438</td>\n      <td>N/A</td>\n      <td>N/A</td>\n    </tr>\n    <tr>\n      <th>501</th>\n      <td>ZION</td>\n      <td>34.4400</td>\n      <td>N/A</td>\n      <td>NaN</td>\n      <td>N/A</td>\n      <td>6.658401</td>\n      <td>N/A</td>\n      <td>23.220028</td>\n      <td>N/A</td>\n      <td>-0.260643</td>\n      <td>N/A</td>\n      <td>N/A</td>\n    </tr>\n    <tr>\n      <th>502</th>\n      <td>ZTS</td>\n      <td>177.5900</td>\n      <td>N/A</td>\n      <td>NaN</td>\n      <td>N/A</td>\n      <td>6.827473</td>\n      <td>N/A</td>\n      <td>4.538493</td>\n      <td>N/A</td>\n      <td>-1.780876</td>\n      <td>N/A</td>\n      <td>N/A</td>\n    </tr>\n  </tbody>\n</table>\n<p>503 rows × 12 columns</p>\n</div>"
     },
     "execution_count": 19,
     "metadata": {},
     "output_type": "execute_result"
    }
   ]
  },
  {
   "cell_type": "code",
   "execution_count": 20,
   "outputs": [
    {
     "data": {
      "text/plain": "    Ticker  Stock Price Number of Shares to Buy  1 Year Return  \\\n80     CAT     274.6459                     N/A            NaN   \n207   GNRC     109.8400                     N/A            NaN   \n208   GOOG     132.7300                     N/A            NaN   \n209  GOOGL     131.7750                     N/A            NaN   \n210    GPC     146.9900                     N/A            NaN   \n..     ...          ...                     ...            ...   \n498    YUM     125.3400                     N/A            NaN   \n499    ZBH     118.4250                     N/A            NaN   \n500   ZBRA     230.5000                     N/A            NaN   \n501   ZION      34.4400                     N/A            NaN   \n502    ZTS     177.5900                     N/A            NaN   \n\n    1 Year Return Percentile  6 Months Return 6 Months Return Percentile  \\\n80                       N/A        23.379071                        N/A   \n207                      N/A        -4.262187                        N/A   \n208                      N/A        25.420446                        N/A   \n209                      N/A        25.590933                        N/A   \n210                      N/A       -11.409109                        N/A   \n..                       ...              ...                        ...   \n498                      N/A        -2.497088                        N/A   \n499                      N/A        -7.328428                        N/A   \n500                      N/A       -21.713139                        N/A   \n501                      N/A         6.658401                        N/A   \n502                      N/A         6.827473                        N/A   \n\n     3 Months Return 3 Months Return Percentile  1 Month Return  \\\n80         14.297673                        N/A        0.695107   \n207       -16.472780                        N/A       -5.444136   \n208         9.471378                        N/A        2.958972   \n209         9.307342                        N/A        2.648601   \n210        -8.967607                        N/A       -4.477514   \n..               ...                        ...             ...   \n498        -8.336996                        N/A       -2.686341   \n499       -17.121560                        N/A       -1.599498   \n500       -14.906971                        N/A      -13.841438   \n501        23.220028                        N/A       -0.260643   \n502         4.538493                        N/A       -1.780876   \n\n    1 Month Return Percentile HQM Score  \n80                        N/A       N/A  \n207                       N/A       N/A  \n208                       N/A       N/A  \n209                       N/A       N/A  \n210                       N/A       N/A  \n..                        ...       ...  \n498                       N/A       N/A  \n499                       N/A       N/A  \n500                       N/A       N/A  \n501                       N/A       N/A  \n502                       N/A       N/A  \n\n[297 rows x 12 columns]",
      "text/html": "<div>\n<style scoped>\n    .dataframe tbody tr th:only-of-type {\n        vertical-align: middle;\n    }\n\n    .dataframe tbody tr th {\n        vertical-align: top;\n    }\n\n    .dataframe thead th {\n        text-align: right;\n    }\n</style>\n<table border=\"1\" class=\"dataframe\">\n  <thead>\n    <tr style=\"text-align: right;\">\n      <th></th>\n      <th>Ticker</th>\n      <th>Stock Price</th>\n      <th>Number of Shares to Buy</th>\n      <th>1 Year Return</th>\n      <th>1 Year Return Percentile</th>\n      <th>6 Months Return</th>\n      <th>6 Months Return Percentile</th>\n      <th>3 Months Return</th>\n      <th>3 Months Return Percentile</th>\n      <th>1 Month Return</th>\n      <th>1 Month Return Percentile</th>\n      <th>HQM Score</th>\n    </tr>\n  </thead>\n  <tbody>\n    <tr>\n      <th>80</th>\n      <td>CAT</td>\n      <td>274.6459</td>\n      <td>N/A</td>\n      <td>NaN</td>\n      <td>N/A</td>\n      <td>23.379071</td>\n      <td>N/A</td>\n      <td>14.297673</td>\n      <td>N/A</td>\n      <td>0.695107</td>\n      <td>N/A</td>\n      <td>N/A</td>\n    </tr>\n    <tr>\n      <th>207</th>\n      <td>GNRC</td>\n      <td>109.8400</td>\n      <td>N/A</td>\n      <td>NaN</td>\n      <td>N/A</td>\n      <td>-4.262187</td>\n      <td>N/A</td>\n      <td>-16.472780</td>\n      <td>N/A</td>\n      <td>-5.444136</td>\n      <td>N/A</td>\n      <td>N/A</td>\n    </tr>\n    <tr>\n      <th>208</th>\n      <td>GOOG</td>\n      <td>132.7300</td>\n      <td>N/A</td>\n      <td>NaN</td>\n      <td>N/A</td>\n      <td>25.420446</td>\n      <td>N/A</td>\n      <td>9.471378</td>\n      <td>N/A</td>\n      <td>2.958972</td>\n      <td>N/A</td>\n      <td>N/A</td>\n    </tr>\n    <tr>\n      <th>209</th>\n      <td>GOOGL</td>\n      <td>131.7750</td>\n      <td>N/A</td>\n      <td>NaN</td>\n      <td>N/A</td>\n      <td>25.590933</td>\n      <td>N/A</td>\n      <td>9.307342</td>\n      <td>N/A</td>\n      <td>2.648601</td>\n      <td>N/A</td>\n      <td>N/A</td>\n    </tr>\n    <tr>\n      <th>210</th>\n      <td>GPC</td>\n      <td>146.9900</td>\n      <td>N/A</td>\n      <td>NaN</td>\n      <td>N/A</td>\n      <td>-11.409109</td>\n      <td>N/A</td>\n      <td>-8.967607</td>\n      <td>N/A</td>\n      <td>-4.477514</td>\n      <td>N/A</td>\n      <td>N/A</td>\n    </tr>\n    <tr>\n      <th>...</th>\n      <td>...</td>\n      <td>...</td>\n      <td>...</td>\n      <td>...</td>\n      <td>...</td>\n      <td>...</td>\n      <td>...</td>\n      <td>...</td>\n      <td>...</td>\n      <td>...</td>\n      <td>...</td>\n      <td>...</td>\n    </tr>\n    <tr>\n      <th>498</th>\n      <td>YUM</td>\n      <td>125.3400</td>\n      <td>N/A</td>\n      <td>NaN</td>\n      <td>N/A</td>\n      <td>-2.497088</td>\n      <td>N/A</td>\n      <td>-8.336996</td>\n      <td>N/A</td>\n      <td>-2.686341</td>\n      <td>N/A</td>\n      <td>N/A</td>\n    </tr>\n    <tr>\n      <th>499</th>\n      <td>ZBH</td>\n      <td>118.4250</td>\n      <td>N/A</td>\n      <td>NaN</td>\n      <td>N/A</td>\n      <td>-7.328428</td>\n      <td>N/A</td>\n      <td>-17.121560</td>\n      <td>N/A</td>\n      <td>-1.599498</td>\n      <td>N/A</td>\n      <td>N/A</td>\n    </tr>\n    <tr>\n      <th>500</th>\n      <td>ZBRA</td>\n      <td>230.5000</td>\n      <td>N/A</td>\n      <td>NaN</td>\n      <td>N/A</td>\n      <td>-21.713139</td>\n      <td>N/A</td>\n      <td>-14.906971</td>\n      <td>N/A</td>\n      <td>-13.841438</td>\n      <td>N/A</td>\n      <td>N/A</td>\n    </tr>\n    <tr>\n      <th>501</th>\n      <td>ZION</td>\n      <td>34.4400</td>\n      <td>N/A</td>\n      <td>NaN</td>\n      <td>N/A</td>\n      <td>6.658401</td>\n      <td>N/A</td>\n      <td>23.220028</td>\n      <td>N/A</td>\n      <td>-0.260643</td>\n      <td>N/A</td>\n      <td>N/A</td>\n    </tr>\n    <tr>\n      <th>502</th>\n      <td>ZTS</td>\n      <td>177.5900</td>\n      <td>N/A</td>\n      <td>NaN</td>\n      <td>N/A</td>\n      <td>6.827473</td>\n      <td>N/A</td>\n      <td>4.538493</td>\n      <td>N/A</td>\n      <td>-1.780876</td>\n      <td>N/A</td>\n      <td>N/A</td>\n    </tr>\n  </tbody>\n</table>\n<p>297 rows × 12 columns</p>\n</div>"
     },
     "execution_count": 20,
     "metadata": {},
     "output_type": "execute_result"
    }
   ],
   "source": [
    "hqm_dataframe[hqm_dataframe.isnull().any(axis=1)]"
   ],
   "metadata": {
    "collapsed": false,
    "ExecuteTime": {
     "end_time": "2023-09-21T18:19:17.362874205Z",
     "start_time": "2023-09-21T18:19:17.287105006Z"
    }
   }
  },
  {
   "cell_type": "markdown",
   "source": [
    "## Dealing With Missing Data in Our DataFrame\n",
    "\n",
    "Our DataFrame contains some missing data which we have to fill with `mean` values."
   ],
   "metadata": {
    "collapsed": false
   }
  },
  {
   "cell_type": "code",
   "execution_count": 21,
   "outputs": [],
   "source": [
    "hqm_dataframe['1 Year Return'].fillna(hqm_dataframe['1 Year Return'].mean(), inplace=True)"
   ],
   "metadata": {
    "collapsed": false,
    "ExecuteTime": {
     "end_time": "2023-09-21T18:19:17.390601306Z",
     "start_time": "2023-09-21T18:19:17.307190954Z"
    }
   }
  },
  {
   "cell_type": "code",
   "execution_count": 22,
   "outputs": [
    {
     "data": {
      "text/plain": "Empty DataFrame\nColumns: [Ticker, Stock Price, Number of Shares to Buy, 1 Year Return, 1 Year Return Percentile, 6 Months Return, 6 Months Return Percentile, 3 Months Return, 3 Months Return Percentile, 1 Month Return, 1 Month Return Percentile, HQM Score]\nIndex: []",
      "text/html": "<div>\n<style scoped>\n    .dataframe tbody tr th:only-of-type {\n        vertical-align: middle;\n    }\n\n    .dataframe tbody tr th {\n        vertical-align: top;\n    }\n\n    .dataframe thead th {\n        text-align: right;\n    }\n</style>\n<table border=\"1\" class=\"dataframe\">\n  <thead>\n    <tr style=\"text-align: right;\">\n      <th></th>\n      <th>Ticker</th>\n      <th>Stock Price</th>\n      <th>Number of Shares to Buy</th>\n      <th>1 Year Return</th>\n      <th>1 Year Return Percentile</th>\n      <th>6 Months Return</th>\n      <th>6 Months Return Percentile</th>\n      <th>3 Months Return</th>\n      <th>3 Months Return Percentile</th>\n      <th>1 Month Return</th>\n      <th>1 Month Return Percentile</th>\n      <th>HQM Score</th>\n    </tr>\n  </thead>\n  <tbody>\n  </tbody>\n</table>\n</div>"
     },
     "execution_count": 22,
     "metadata": {},
     "output_type": "execute_result"
    }
   ],
   "source": [
    "hqm_dataframe[hqm_dataframe.isnull().any(axis=1)]"
   ],
   "metadata": {
    "collapsed": false,
    "ExecuteTime": {
     "end_time": "2023-09-21T18:19:17.518695465Z",
     "start_time": "2023-09-21T18:19:17.348980012Z"
    }
   }
  },
  {
   "cell_type": "code",
   "execution_count": 23,
   "outputs": [
    {
     "data": {
      "text/plain": "    Ticker  Stock Price Number of Shares to Buy  1 Year Return  \\\n0        A     110.1300                     N/A      -0.095828   \n1      AAL      13.2150                     N/A       0.027537   \n2      AAP      58.9800                     N/A      -0.633660   \n3     AAPL     175.3911                     N/A       0.148946   \n4     ABBV     153.5945                     N/A       0.074121   \n..     ...          ...                     ...            ...   \n498    YUM     125.3400                     N/A       0.105733   \n499    ZBH     118.4250                     N/A       0.105733   \n500   ZBRA     230.5000                     N/A       0.105733   \n501   ZION      34.4400                     N/A       0.105733   \n502    ZTS     177.5900                     N/A       0.105733   \n\n    1 Year Return Percentile  6 Months Return 6 Months Return Percentile  \\\n0                        N/A       -19.334310                        N/A   \n1                        N/A        -8.037576                        N/A   \n2                        N/A       -49.970784                        N/A   \n3                        N/A        10.409182                        N/A   \n4                        N/A        -0.028126                        N/A   \n..                       ...              ...                        ...   \n498                      N/A        -2.497088                        N/A   \n499                      N/A        -7.328428                        N/A   \n500                      N/A       -21.713139                        N/A   \n501                      N/A         6.658401                        N/A   \n502                      N/A         6.827473                        N/A   \n\n     3 Months Return 3 Months Return Percentile  1 Month Return  \\\n0          -6.752049                        N/A       -7.344778   \n1         -18.926376                        N/A      -12.829813   \n2         -13.869108                        N/A      -13.519058   \n3          -4.535320                        N/A       -0.264443   \n4          13.471623                        N/A        2.287223   \n..               ...                        ...             ...   \n498        -8.336996                        N/A       -2.686341   \n499       -17.121560                        N/A       -1.599498   \n500       -14.906971                        N/A      -13.841438   \n501        23.220028                        N/A       -0.260643   \n502         4.538493                        N/A       -1.780876   \n\n    1 Month Return Percentile HQM Score  \n0                         N/A       N/A  \n1                         N/A       N/A  \n2                         N/A       N/A  \n3                         N/A       N/A  \n4                         N/A       N/A  \n..                        ...       ...  \n498                       N/A       N/A  \n499                       N/A       N/A  \n500                       N/A       N/A  \n501                       N/A       N/A  \n502                       N/A       N/A  \n\n[503 rows x 12 columns]",
      "text/html": "<div>\n<style scoped>\n    .dataframe tbody tr th:only-of-type {\n        vertical-align: middle;\n    }\n\n    .dataframe tbody tr th {\n        vertical-align: top;\n    }\n\n    .dataframe thead th {\n        text-align: right;\n    }\n</style>\n<table border=\"1\" class=\"dataframe\">\n  <thead>\n    <tr style=\"text-align: right;\">\n      <th></th>\n      <th>Ticker</th>\n      <th>Stock Price</th>\n      <th>Number of Shares to Buy</th>\n      <th>1 Year Return</th>\n      <th>1 Year Return Percentile</th>\n      <th>6 Months Return</th>\n      <th>6 Months Return Percentile</th>\n      <th>3 Months Return</th>\n      <th>3 Months Return Percentile</th>\n      <th>1 Month Return</th>\n      <th>1 Month Return Percentile</th>\n      <th>HQM Score</th>\n    </tr>\n  </thead>\n  <tbody>\n    <tr>\n      <th>0</th>\n      <td>A</td>\n      <td>110.1300</td>\n      <td>N/A</td>\n      <td>-0.095828</td>\n      <td>N/A</td>\n      <td>-19.334310</td>\n      <td>N/A</td>\n      <td>-6.752049</td>\n      <td>N/A</td>\n      <td>-7.344778</td>\n      <td>N/A</td>\n      <td>N/A</td>\n    </tr>\n    <tr>\n      <th>1</th>\n      <td>AAL</td>\n      <td>13.2150</td>\n      <td>N/A</td>\n      <td>0.027537</td>\n      <td>N/A</td>\n      <td>-8.037576</td>\n      <td>N/A</td>\n      <td>-18.926376</td>\n      <td>N/A</td>\n      <td>-12.829813</td>\n      <td>N/A</td>\n      <td>N/A</td>\n    </tr>\n    <tr>\n      <th>2</th>\n      <td>AAP</td>\n      <td>58.9800</td>\n      <td>N/A</td>\n      <td>-0.633660</td>\n      <td>N/A</td>\n      <td>-49.970784</td>\n      <td>N/A</td>\n      <td>-13.869108</td>\n      <td>N/A</td>\n      <td>-13.519058</td>\n      <td>N/A</td>\n      <td>N/A</td>\n    </tr>\n    <tr>\n      <th>3</th>\n      <td>AAPL</td>\n      <td>175.3911</td>\n      <td>N/A</td>\n      <td>0.148946</td>\n      <td>N/A</td>\n      <td>10.409182</td>\n      <td>N/A</td>\n      <td>-4.535320</td>\n      <td>N/A</td>\n      <td>-0.264443</td>\n      <td>N/A</td>\n      <td>N/A</td>\n    </tr>\n    <tr>\n      <th>4</th>\n      <td>ABBV</td>\n      <td>153.5945</td>\n      <td>N/A</td>\n      <td>0.074121</td>\n      <td>N/A</td>\n      <td>-0.028126</td>\n      <td>N/A</td>\n      <td>13.471623</td>\n      <td>N/A</td>\n      <td>2.287223</td>\n      <td>N/A</td>\n      <td>N/A</td>\n    </tr>\n    <tr>\n      <th>...</th>\n      <td>...</td>\n      <td>...</td>\n      <td>...</td>\n      <td>...</td>\n      <td>...</td>\n      <td>...</td>\n      <td>...</td>\n      <td>...</td>\n      <td>...</td>\n      <td>...</td>\n      <td>...</td>\n      <td>...</td>\n    </tr>\n    <tr>\n      <th>498</th>\n      <td>YUM</td>\n      <td>125.3400</td>\n      <td>N/A</td>\n      <td>0.105733</td>\n      <td>N/A</td>\n      <td>-2.497088</td>\n      <td>N/A</td>\n      <td>-8.336996</td>\n      <td>N/A</td>\n      <td>-2.686341</td>\n      <td>N/A</td>\n      <td>N/A</td>\n    </tr>\n    <tr>\n      <th>499</th>\n      <td>ZBH</td>\n      <td>118.4250</td>\n      <td>N/A</td>\n      <td>0.105733</td>\n      <td>N/A</td>\n      <td>-7.328428</td>\n      <td>N/A</td>\n      <td>-17.121560</td>\n      <td>N/A</td>\n      <td>-1.599498</td>\n      <td>N/A</td>\n      <td>N/A</td>\n    </tr>\n    <tr>\n      <th>500</th>\n      <td>ZBRA</td>\n      <td>230.5000</td>\n      <td>N/A</td>\n      <td>0.105733</td>\n      <td>N/A</td>\n      <td>-21.713139</td>\n      <td>N/A</td>\n      <td>-14.906971</td>\n      <td>N/A</td>\n      <td>-13.841438</td>\n      <td>N/A</td>\n      <td>N/A</td>\n    </tr>\n    <tr>\n      <th>501</th>\n      <td>ZION</td>\n      <td>34.4400</td>\n      <td>N/A</td>\n      <td>0.105733</td>\n      <td>N/A</td>\n      <td>6.658401</td>\n      <td>N/A</td>\n      <td>23.220028</td>\n      <td>N/A</td>\n      <td>-0.260643</td>\n      <td>N/A</td>\n      <td>N/A</td>\n    </tr>\n    <tr>\n      <th>502</th>\n      <td>ZTS</td>\n      <td>177.5900</td>\n      <td>N/A</td>\n      <td>0.105733</td>\n      <td>N/A</td>\n      <td>6.827473</td>\n      <td>N/A</td>\n      <td>4.538493</td>\n      <td>N/A</td>\n      <td>-1.780876</td>\n      <td>N/A</td>\n      <td>N/A</td>\n    </tr>\n  </tbody>\n</table>\n<p>503 rows × 12 columns</p>\n</div>"
     },
     "execution_count": 23,
     "metadata": {},
     "output_type": "execute_result"
    }
   ],
   "source": [
    "hqm_dataframe"
   ],
   "metadata": {
    "collapsed": false,
    "ExecuteTime": {
     "end_time": "2023-09-21T18:19:17.529092748Z",
     "start_time": "2023-09-21T18:19:17.349161239Z"
    }
   }
  },
  {
   "cell_type": "markdown",
   "source": [
    "## Calculating Momentum Percentiles\n",
    "\n",
    "We now need to calculate momentum percentile scores for every stock in the universe. More specifically, we need to calculate percentile scores for the following metrics for every stock:\n",
    "\n",
    "* `One-Year Price Return`\n",
    "* `Six-Month Price Return`\n",
    "* `Three-Month Price Return`\n",
    "* `One-Month Price Return`"
   ],
   "metadata": {
    "collapsed": false
   }
  },
  {
   "cell_type": "code",
   "source": [
    "time_periods = [\n",
    "    '1 Year',\n",
    "    '6 Months',\n",
    "    '3 Months',\n",
    "    '1 Month'\n",
    "]\n",
    "\n",
    "for row in hqm_dataframe.index:\n",
    "    for time_period in time_periods:\n",
    "        change_col = f'{time_period} Return'\n",
    "        percentile_col = f'{time_period} Return Percentile'\n",
    "        hqm_dataframe.loc[row, f'{time_period} Return Percentile'] = score(hqm_dataframe[change_col],\n",
    "                                                                           hqm_dataframe.loc[row, change_col]) / 100"
   ],
   "metadata": {
    "id": "QR1RmX3x0llg",
    "ExecuteTime": {
     "end_time": "2023-09-21T18:19:17.979847001Z",
     "start_time": "2023-09-21T18:19:17.349322647Z"
    }
   },
   "execution_count": 24,
   "outputs": []
  },
  {
   "cell_type": "code",
   "source": [
    "hqm_dataframe"
   ],
   "metadata": {
    "colab": {
     "base_uri": "https://localhost:8080/",
     "height": 485
    },
    "id": "QPwmMOnh3bRl",
    "outputId": "f80f01f1-037c-4957-b224-6bd09f15ebde",
    "ExecuteTime": {
     "end_time": "2023-09-21T18:19:18.113754458Z",
     "start_time": "2023-09-21T18:19:17.992850225Z"
    }
   },
   "execution_count": 25,
   "outputs": [
    {
     "data": {
      "text/plain": "    Ticker  Stock Price Number of Shares to Buy  1 Year Return  \\\n0        A     110.1300                     N/A      -0.095828   \n1      AAL      13.2150                     N/A       0.027537   \n2      AAP      58.9800                     N/A      -0.633660   \n3     AAPL     175.3911                     N/A       0.148946   \n4     ABBV     153.5945                     N/A       0.074121   \n..     ...          ...                     ...            ...   \n498    YUM     125.3400                     N/A       0.105733   \n499    ZBH     118.4250                     N/A       0.105733   \n500   ZBRA     230.5000                     N/A       0.105733   \n501   ZION      34.4400                     N/A       0.105733   \n502    ZTS     177.5900                     N/A       0.105733   \n\n    1 Year Return Percentile  6 Months Return 6 Months Return Percentile  \\\n0                   0.107356       -19.334310                   0.073559   \n1                   0.163022        -8.037576                     0.2167   \n2                   0.001988       -49.970784                   0.005964   \n3                   0.823062        10.409182                    0.67992   \n4                   0.184891        -0.028126                   0.441352   \n..                       ...              ...                        ...   \n498                 0.502982        -2.497088                   0.355865   \n499                 0.502982        -7.328428                   0.234592   \n500                 0.502982       -21.713139                    0.06163   \n501                 0.502982         6.658401                   0.600398   \n502                 0.502982         6.827473                    0.60835   \n\n     3 Months Return 3 Months Return Percentile  1 Month Return  \\\n0          -6.752049                   0.290258       -7.344778   \n1         -18.926376                   0.053678      -12.829813   \n2         -13.869108                   0.109344      -13.519058   \n3          -4.535320                   0.379722       -0.264443   \n4          13.471623                   0.910537        2.287223   \n..               ...                        ...             ...   \n498        -8.336996                   0.244533       -2.686341   \n499       -17.121560                   0.065606       -1.599498   \n500       -14.906971                   0.093439      -13.841438   \n501        23.220028                   0.982107       -0.260643   \n502         4.538493                    0.72167       -1.780876   \n\n    1 Month Return Percentile HQM Score  \n0                    0.147117       N/A  \n1                    0.039761       N/A  \n2                    0.027833       N/A  \n3                    0.588469       N/A  \n4                    0.787276       N/A  \n..                        ...       ...  \n498                  0.395626       N/A  \n499                  0.471173       N/A  \n500                  0.023857       N/A  \n501                  0.594433       N/A  \n502                  0.459245       N/A  \n\n[503 rows x 12 columns]",
      "text/html": "<div>\n<style scoped>\n    .dataframe tbody tr th:only-of-type {\n        vertical-align: middle;\n    }\n\n    .dataframe tbody tr th {\n        vertical-align: top;\n    }\n\n    .dataframe thead th {\n        text-align: right;\n    }\n</style>\n<table border=\"1\" class=\"dataframe\">\n  <thead>\n    <tr style=\"text-align: right;\">\n      <th></th>\n      <th>Ticker</th>\n      <th>Stock Price</th>\n      <th>Number of Shares to Buy</th>\n      <th>1 Year Return</th>\n      <th>1 Year Return Percentile</th>\n      <th>6 Months Return</th>\n      <th>6 Months Return Percentile</th>\n      <th>3 Months Return</th>\n      <th>3 Months Return Percentile</th>\n      <th>1 Month Return</th>\n      <th>1 Month Return Percentile</th>\n      <th>HQM Score</th>\n    </tr>\n  </thead>\n  <tbody>\n    <tr>\n      <th>0</th>\n      <td>A</td>\n      <td>110.1300</td>\n      <td>N/A</td>\n      <td>-0.095828</td>\n      <td>0.107356</td>\n      <td>-19.334310</td>\n      <td>0.073559</td>\n      <td>-6.752049</td>\n      <td>0.290258</td>\n      <td>-7.344778</td>\n      <td>0.147117</td>\n      <td>N/A</td>\n    </tr>\n    <tr>\n      <th>1</th>\n      <td>AAL</td>\n      <td>13.2150</td>\n      <td>N/A</td>\n      <td>0.027537</td>\n      <td>0.163022</td>\n      <td>-8.037576</td>\n      <td>0.2167</td>\n      <td>-18.926376</td>\n      <td>0.053678</td>\n      <td>-12.829813</td>\n      <td>0.039761</td>\n      <td>N/A</td>\n    </tr>\n    <tr>\n      <th>2</th>\n      <td>AAP</td>\n      <td>58.9800</td>\n      <td>N/A</td>\n      <td>-0.633660</td>\n      <td>0.001988</td>\n      <td>-49.970784</td>\n      <td>0.005964</td>\n      <td>-13.869108</td>\n      <td>0.109344</td>\n      <td>-13.519058</td>\n      <td>0.027833</td>\n      <td>N/A</td>\n    </tr>\n    <tr>\n      <th>3</th>\n      <td>AAPL</td>\n      <td>175.3911</td>\n      <td>N/A</td>\n      <td>0.148946</td>\n      <td>0.823062</td>\n      <td>10.409182</td>\n      <td>0.67992</td>\n      <td>-4.535320</td>\n      <td>0.379722</td>\n      <td>-0.264443</td>\n      <td>0.588469</td>\n      <td>N/A</td>\n    </tr>\n    <tr>\n      <th>4</th>\n      <td>ABBV</td>\n      <td>153.5945</td>\n      <td>N/A</td>\n      <td>0.074121</td>\n      <td>0.184891</td>\n      <td>-0.028126</td>\n      <td>0.441352</td>\n      <td>13.471623</td>\n      <td>0.910537</td>\n      <td>2.287223</td>\n      <td>0.787276</td>\n      <td>N/A</td>\n    </tr>\n    <tr>\n      <th>...</th>\n      <td>...</td>\n      <td>...</td>\n      <td>...</td>\n      <td>...</td>\n      <td>...</td>\n      <td>...</td>\n      <td>...</td>\n      <td>...</td>\n      <td>...</td>\n      <td>...</td>\n      <td>...</td>\n      <td>...</td>\n    </tr>\n    <tr>\n      <th>498</th>\n      <td>YUM</td>\n      <td>125.3400</td>\n      <td>N/A</td>\n      <td>0.105733</td>\n      <td>0.502982</td>\n      <td>-2.497088</td>\n      <td>0.355865</td>\n      <td>-8.336996</td>\n      <td>0.244533</td>\n      <td>-2.686341</td>\n      <td>0.395626</td>\n      <td>N/A</td>\n    </tr>\n    <tr>\n      <th>499</th>\n      <td>ZBH</td>\n      <td>118.4250</td>\n      <td>N/A</td>\n      <td>0.105733</td>\n      <td>0.502982</td>\n      <td>-7.328428</td>\n      <td>0.234592</td>\n      <td>-17.121560</td>\n      <td>0.065606</td>\n      <td>-1.599498</td>\n      <td>0.471173</td>\n      <td>N/A</td>\n    </tr>\n    <tr>\n      <th>500</th>\n      <td>ZBRA</td>\n      <td>230.5000</td>\n      <td>N/A</td>\n      <td>0.105733</td>\n      <td>0.502982</td>\n      <td>-21.713139</td>\n      <td>0.06163</td>\n      <td>-14.906971</td>\n      <td>0.093439</td>\n      <td>-13.841438</td>\n      <td>0.023857</td>\n      <td>N/A</td>\n    </tr>\n    <tr>\n      <th>501</th>\n      <td>ZION</td>\n      <td>34.4400</td>\n      <td>N/A</td>\n      <td>0.105733</td>\n      <td>0.502982</td>\n      <td>6.658401</td>\n      <td>0.600398</td>\n      <td>23.220028</td>\n      <td>0.982107</td>\n      <td>-0.260643</td>\n      <td>0.594433</td>\n      <td>N/A</td>\n    </tr>\n    <tr>\n      <th>502</th>\n      <td>ZTS</td>\n      <td>177.5900</td>\n      <td>N/A</td>\n      <td>0.105733</td>\n      <td>0.502982</td>\n      <td>6.827473</td>\n      <td>0.60835</td>\n      <td>4.538493</td>\n      <td>0.72167</td>\n      <td>-1.780876</td>\n      <td>0.459245</td>\n      <td>N/A</td>\n    </tr>\n  </tbody>\n</table>\n<p>503 rows × 12 columns</p>\n</div>"
     },
     "execution_count": 25,
     "metadata": {},
     "output_type": "execute_result"
    }
   ]
  },
  {
   "cell_type": "markdown",
   "source": [
    "## Calculating the HQM Score\n",
    "\n",
    "We'll now calculate our `HQM Score`, which is the high-quality momentum score that we'll use to filter for stocks in this investing strategy.\n",
    "\n",
    "The `HQM Score` will be the arithmetic mean of the 4 momentum percentile scores that we calculated in the last section.\n",
    "\n",
    "To calculate arithmetic mean, we will use the `mean` function from Python's built-in `statistics` module."
   ],
   "metadata": {
    "collapsed": false
   }
  },
  {
   "cell_type": "code",
   "source": [
    "for row in hqm_dataframe.index:\n",
    "    momentum_percentiles = []\n",
    "    for time_period in time_periods:\n",
    "        momentum_percentiles.append(hqm_dataframe.loc[row, f'{time_period} Return Percentile'])\n",
    "    hqm_dataframe.loc[row, 'HQM Score'] = mean(momentum_percentiles)"
   ],
   "metadata": {
    "id": "v3BO-yAY3dM2",
    "ExecuteTime": {
     "end_time": "2023-09-21T18:19:18.301851060Z",
     "start_time": "2023-09-21T18:19:18.194544151Z"
    }
   },
   "execution_count": 26,
   "outputs": []
  },
  {
   "cell_type": "code",
   "source": [
    "hqm_dataframe"
   ],
   "metadata": {
    "colab": {
     "base_uri": "https://localhost:8080/",
     "height": 485
    },
    "id": "U79rv9Bo700D",
    "outputId": "8b5dd20a-d349-484c-bef5-de7b2e71bcef",
    "ExecuteTime": {
     "end_time": "2023-09-21T18:19:18.358492145Z",
     "start_time": "2023-09-21T18:19:18.241514882Z"
    }
   },
   "execution_count": 27,
   "outputs": [
    {
     "data": {
      "text/plain": "    Ticker  Stock Price Number of Shares to Buy  1 Year Return  \\\n0        A     110.1300                     N/A      -0.095828   \n1      AAL      13.2150                     N/A       0.027537   \n2      AAP      58.9800                     N/A      -0.633660   \n3     AAPL     175.3911                     N/A       0.148946   \n4     ABBV     153.5945                     N/A       0.074121   \n..     ...          ...                     ...            ...   \n498    YUM     125.3400                     N/A       0.105733   \n499    ZBH     118.4250                     N/A       0.105733   \n500   ZBRA     230.5000                     N/A       0.105733   \n501   ZION      34.4400                     N/A       0.105733   \n502    ZTS     177.5900                     N/A       0.105733   \n\n    1 Year Return Percentile  6 Months Return 6 Months Return Percentile  \\\n0                   0.107356       -19.334310                   0.073559   \n1                   0.163022        -8.037576                     0.2167   \n2                   0.001988       -49.970784                   0.005964   \n3                   0.823062        10.409182                    0.67992   \n4                   0.184891        -0.028126                   0.441352   \n..                       ...              ...                        ...   \n498                 0.502982        -2.497088                   0.355865   \n499                 0.502982        -7.328428                   0.234592   \n500                 0.502982       -21.713139                    0.06163   \n501                 0.502982         6.658401                   0.600398   \n502                 0.502982         6.827473                    0.60835   \n\n     3 Months Return 3 Months Return Percentile  1 Month Return  \\\n0          -6.752049                   0.290258       -7.344778   \n1         -18.926376                   0.053678      -12.829813   \n2         -13.869108                   0.109344      -13.519058   \n3          -4.535320                   0.379722       -0.264443   \n4          13.471623                   0.910537        2.287223   \n..               ...                        ...             ...   \n498        -8.336996                   0.244533       -2.686341   \n499       -17.121560                   0.065606       -1.599498   \n500       -14.906971                   0.093439      -13.841438   \n501        23.220028                   0.982107       -0.260643   \n502         4.538493                    0.72167       -1.780876   \n\n    1 Month Return Percentile HQM Score  \n0                    0.147117  0.154573  \n1                    0.039761   0.11829  \n2                    0.027833  0.036282  \n3                    0.588469  0.617793  \n4                    0.787276  0.581014  \n..                        ...       ...  \n498                  0.395626  0.374751  \n499                  0.471173  0.318588  \n500                  0.023857  0.170477  \n501                  0.594433   0.66998  \n502                  0.459245  0.573062  \n\n[503 rows x 12 columns]",
      "text/html": "<div>\n<style scoped>\n    .dataframe tbody tr th:only-of-type {\n        vertical-align: middle;\n    }\n\n    .dataframe tbody tr th {\n        vertical-align: top;\n    }\n\n    .dataframe thead th {\n        text-align: right;\n    }\n</style>\n<table border=\"1\" class=\"dataframe\">\n  <thead>\n    <tr style=\"text-align: right;\">\n      <th></th>\n      <th>Ticker</th>\n      <th>Stock Price</th>\n      <th>Number of Shares to Buy</th>\n      <th>1 Year Return</th>\n      <th>1 Year Return Percentile</th>\n      <th>6 Months Return</th>\n      <th>6 Months Return Percentile</th>\n      <th>3 Months Return</th>\n      <th>3 Months Return Percentile</th>\n      <th>1 Month Return</th>\n      <th>1 Month Return Percentile</th>\n      <th>HQM Score</th>\n    </tr>\n  </thead>\n  <tbody>\n    <tr>\n      <th>0</th>\n      <td>A</td>\n      <td>110.1300</td>\n      <td>N/A</td>\n      <td>-0.095828</td>\n      <td>0.107356</td>\n      <td>-19.334310</td>\n      <td>0.073559</td>\n      <td>-6.752049</td>\n      <td>0.290258</td>\n      <td>-7.344778</td>\n      <td>0.147117</td>\n      <td>0.154573</td>\n    </tr>\n    <tr>\n      <th>1</th>\n      <td>AAL</td>\n      <td>13.2150</td>\n      <td>N/A</td>\n      <td>0.027537</td>\n      <td>0.163022</td>\n      <td>-8.037576</td>\n      <td>0.2167</td>\n      <td>-18.926376</td>\n      <td>0.053678</td>\n      <td>-12.829813</td>\n      <td>0.039761</td>\n      <td>0.11829</td>\n    </tr>\n    <tr>\n      <th>2</th>\n      <td>AAP</td>\n      <td>58.9800</td>\n      <td>N/A</td>\n      <td>-0.633660</td>\n      <td>0.001988</td>\n      <td>-49.970784</td>\n      <td>0.005964</td>\n      <td>-13.869108</td>\n      <td>0.109344</td>\n      <td>-13.519058</td>\n      <td>0.027833</td>\n      <td>0.036282</td>\n    </tr>\n    <tr>\n      <th>3</th>\n      <td>AAPL</td>\n      <td>175.3911</td>\n      <td>N/A</td>\n      <td>0.148946</td>\n      <td>0.823062</td>\n      <td>10.409182</td>\n      <td>0.67992</td>\n      <td>-4.535320</td>\n      <td>0.379722</td>\n      <td>-0.264443</td>\n      <td>0.588469</td>\n      <td>0.617793</td>\n    </tr>\n    <tr>\n      <th>4</th>\n      <td>ABBV</td>\n      <td>153.5945</td>\n      <td>N/A</td>\n      <td>0.074121</td>\n      <td>0.184891</td>\n      <td>-0.028126</td>\n      <td>0.441352</td>\n      <td>13.471623</td>\n      <td>0.910537</td>\n      <td>2.287223</td>\n      <td>0.787276</td>\n      <td>0.581014</td>\n    </tr>\n    <tr>\n      <th>...</th>\n      <td>...</td>\n      <td>...</td>\n      <td>...</td>\n      <td>...</td>\n      <td>...</td>\n      <td>...</td>\n      <td>...</td>\n      <td>...</td>\n      <td>...</td>\n      <td>...</td>\n      <td>...</td>\n      <td>...</td>\n    </tr>\n    <tr>\n      <th>498</th>\n      <td>YUM</td>\n      <td>125.3400</td>\n      <td>N/A</td>\n      <td>0.105733</td>\n      <td>0.502982</td>\n      <td>-2.497088</td>\n      <td>0.355865</td>\n      <td>-8.336996</td>\n      <td>0.244533</td>\n      <td>-2.686341</td>\n      <td>0.395626</td>\n      <td>0.374751</td>\n    </tr>\n    <tr>\n      <th>499</th>\n      <td>ZBH</td>\n      <td>118.4250</td>\n      <td>N/A</td>\n      <td>0.105733</td>\n      <td>0.502982</td>\n      <td>-7.328428</td>\n      <td>0.234592</td>\n      <td>-17.121560</td>\n      <td>0.065606</td>\n      <td>-1.599498</td>\n      <td>0.471173</td>\n      <td>0.318588</td>\n    </tr>\n    <tr>\n      <th>500</th>\n      <td>ZBRA</td>\n      <td>230.5000</td>\n      <td>N/A</td>\n      <td>0.105733</td>\n      <td>0.502982</td>\n      <td>-21.713139</td>\n      <td>0.06163</td>\n      <td>-14.906971</td>\n      <td>0.093439</td>\n      <td>-13.841438</td>\n      <td>0.023857</td>\n      <td>0.170477</td>\n    </tr>\n    <tr>\n      <th>501</th>\n      <td>ZION</td>\n      <td>34.4400</td>\n      <td>N/A</td>\n      <td>0.105733</td>\n      <td>0.502982</td>\n      <td>6.658401</td>\n      <td>0.600398</td>\n      <td>23.220028</td>\n      <td>0.982107</td>\n      <td>-0.260643</td>\n      <td>0.594433</td>\n      <td>0.66998</td>\n    </tr>\n    <tr>\n      <th>502</th>\n      <td>ZTS</td>\n      <td>177.5900</td>\n      <td>N/A</td>\n      <td>0.105733</td>\n      <td>0.502982</td>\n      <td>6.827473</td>\n      <td>0.60835</td>\n      <td>4.538493</td>\n      <td>0.72167</td>\n      <td>-1.780876</td>\n      <td>0.459245</td>\n      <td>0.573062</td>\n    </tr>\n  </tbody>\n</table>\n<p>503 rows × 12 columns</p>\n</div>"
     },
     "execution_count": 27,
     "metadata": {},
     "output_type": "execute_result"
    }
   ]
  },
  {
   "cell_type": "markdown",
   "source": [
    "## Selecting the 50 Best Momentum Stocks\n",
    "\n",
    "As before, we can identify the 50 best momentum stocks in our universe by sorting the DataFrame on the `HQM Score` column and dropping all but the top 50 entries."
   ],
   "metadata": {
    "collapsed": false
   }
  },
  {
   "cell_type": "code",
   "source": [
    "hqm_dataframe.sort_values('HQM Score', ascending=False, inplace=True)"
   ],
   "metadata": {
    "id": "0-E9hfvqAovr",
    "ExecuteTime": {
     "end_time": "2023-09-21T18:19:18.368181512Z",
     "start_time": "2023-09-21T18:19:18.241785644Z"
    }
   },
   "execution_count": 28,
   "outputs": []
  },
  {
   "cell_type": "code",
   "source": [
    "hqm_dataframe = hqm_dataframe[:50]\n",
    "hqm_dataframe.reset_index(drop=True, inplace=True)"
   ],
   "metadata": {
    "id": "P9TdkLNRBZWG",
    "ExecuteTime": {
     "end_time": "2023-09-21T18:19:18.369017120Z",
     "start_time": "2023-09-21T18:19:18.241940672Z"
    }
   },
   "execution_count": 29,
   "outputs": []
  },
  {
   "cell_type": "code",
   "source": [
    "hqm_dataframe"
   ],
   "metadata": {
    "colab": {
     "base_uri": "https://localhost:8080/",
     "height": 1000
    },
    "id": "emZwm-N7Bk2-",
    "outputId": "9c4a1cec-23b1-4b0c-83c3-03826bbed1bf",
    "ExecuteTime": {
     "end_time": "2023-09-21T18:19:18.372469621Z",
     "start_time": "2023-09-21T18:19:18.276106898Z"
    }
   },
   "execution_count": 30,
   "outputs": [
    {
     "data": {
      "text/plain": "   Ticker  Stock Price Number of Shares to Buy  1 Year Return  \\\n0    AKAM     108.4900                     N/A       0.321598   \n1    CHTR     450.6550                     N/A       0.341987   \n2    FICO     895.8425                     N/A       1.056166   \n3     CEG     110.1975                     N/A       0.289880   \n4    ACGL      80.8900                     N/A       0.851127   \n5     FLT     270.9800                     N/A       0.449384   \n6      CE     126.0000                     N/A       0.362610   \n7     DLR     124.6200                     N/A       0.192347   \n8     AJG     233.1800                     N/A       0.363183   \n9      BR     184.3300                     N/A       0.173825   \n10    BKR      35.5000                     N/A       0.558555   \n11     EG     392.6400                     N/A       0.522291   \n12    AIG      61.5700                     N/A       0.216950   \n13    FDX     262.8205                     N/A       0.621069   \n14   CBOE     155.1100                     N/A       0.318908   \n15    AFL      76.3400                     N/A       0.314982   \n16   FANG     152.6600                     N/A       0.208235   \n17  BRK-B     364.3200                     N/A       0.366132   \n18   AMGN     268.9050                     N/A       0.191921   \n19     GE     113.6935                     N/A       1.250962   \n20    BRO      72.7600                     N/A       0.246455   \n21     BG     114.0700                     N/A       0.275085   \n22  CMCSA      45.8450                     N/A       0.401294   \n23    WRK      35.3900                     N/A       0.105733   \n24    PSX     120.6400                     N/A       0.105733   \n25   ADBE     518.2100                     N/A       0.866439   \n26    HAL      40.9550                     N/A       0.105733   \n27     CB     213.6389                     N/A       0.177806   \n28    MPC     155.4650                     N/A       0.105733   \n29   ATVI      92.4850                     N/A       0.201610   \n30    WDC      44.6750                     N/A       0.105733   \n31    EMR      97.0141                     N/A       0.297630   \n32   CTAS     508.9400                     N/A       0.323482   \n33    MOH     336.6950                     N/A       0.105733   \n34    DPZ     379.3850                     N/A       0.202099   \n35   BKNG    3035.6250                     N/A       0.783648   \n36    HAS      66.6262                     N/A       0.105733   \n37   CTSH      69.7300                     N/A       0.162375   \n38    DVA     103.0400                     N/A       0.181049   \n39    BSX      54.4550                     N/A       0.376590   \n40    CDW     206.0400                     N/A       0.285047   \n41   INTU     511.9700                     N/A       0.105733   \n42    IRM      62.0750                     N/A       0.105733   \n43    ETN     211.7550                     N/A       0.588470   \n44    PRU      97.1800                     N/A       0.105733   \n45    VLO     147.3500                     N/A       0.105733   \n46    CAH      89.7200                     N/A       0.328527   \n47    SLB      58.9500                     N/A       0.105733   \n48   COST     557.2100                     N/A       0.157358   \n49    AMP     339.5100                     N/A       0.304409   \n\n   1 Year Return Percentile  6 Months Return 6 Months Return Percentile  \\\n0                  0.926441        43.315723                   0.988072   \n1                  0.936382        27.921595                    0.94831   \n2                  0.998012        28.550471                   0.956262   \n3                  0.904573        44.910856                    0.99006   \n4                  0.994036        20.354115                   0.870775   \n5                  0.964215        28.652141                    0.95825   \n6                  0.942346        21.297162                   0.884692   \n7                  0.856859        30.120190                   0.966203   \n8                  0.944334        27.463773                   0.944334   \n9                  0.840954        35.815196                   0.982107   \n10                 0.974155        28.191616                   0.952286   \n11                 0.972167        12.036310                    0.71173   \n12                 0.874751        21.638139                   0.888668   \n13                 0.982107        20.823803                   0.874751   \n14                 0.924453        20.820996                   0.872763   \n15                 0.922465        19.419040                   0.858847   \n16                 0.866799        18.219474                   0.840954   \n17                  0.94831        19.901267                   0.864811   \n18                 0.854871        17.467897                   0.819085   \n19                      1.0        23.429780                   0.910537   \n20                 0.892644        30.863550                   0.972167   \n21                 0.898608        18.887949                   0.852883   \n22                 0.952286        25.769586                   0.928429   \n23                 0.502982        23.914566                   0.912525   \n24                 0.502982        26.258499                   0.934394   \n25                 0.996024        38.477372                   0.986083   \n26                 0.502982        28.224800                   0.954274   \n27                  0.84493        10.916336                   0.691849   \n28                 0.502982        21.182481                   0.880716   \n29                 0.860835        17.219708                   0.811133   \n30                 0.502982        25.951502                   0.930417   \n31                 0.906561        16.872360                   0.803181   \n32                 0.928429        15.451036                   0.777336   \n33                 0.502982        26.462973                    0.93837   \n34                 0.862823        20.286419                   0.868787   \n35                  0.99006        18.057065                    0.83499   \n36                 0.502982        33.975867                   0.980119   \n37                  0.83499        18.872984                   0.850895   \n38                 0.846918        31.764712                   0.974155   \n39                 0.950298        11.496727                   0.709742   \n40                 0.902584         6.614216                   0.592445   \n41                 0.502982        21.311282                    0.88668   \n42                 0.502982        21.255619                   0.882704   \n43                 0.976143        28.002990                   0.950298   \n44                 0.502982        17.865378                   0.831014   \n45                 0.502982        11.468344                   0.707753   \n46                 0.930417        25.655765                   0.926441   \n47                 0.502982        22.100253                   0.894632   \n48                 0.831014        13.971114                   0.751491   \n49                 0.914513        13.406821                   0.735586   \n\n    3 Months Return 3 Months Return Percentile  1 Month Return  \\\n0         23.186100                   0.980119        7.853665   \n1         37.068861                   0.998012        7.278379   \n2         13.326063                   0.908549        5.966703   \n3         22.090864                   0.978131        3.852136   \n4         12.707264                   0.902584        7.925287   \n5         11.500643                   0.884692        5.010666   \n6         16.756999                   0.944334        6.770611   \n7         20.583894                   0.972167        4.015569   \n8          9.751101                   0.848907        5.553156   \n9         15.930084                   0.934394        4.039311   \n10        17.090908                   0.950298        1.283882   \n11        12.110378                   0.892644       13.155588   \n12         9.701812                   0.846918        7.177088   \n13        16.949903                    0.94831        1.607928   \n14        13.625380                   0.912525        3.001530   \n15        13.687398                   0.918489        3.120353   \n16        20.195772                   0.968191        2.788817   \n17         7.592813                   0.805169        3.473547   \n18        19.399113                   0.964215        3.147290   \n19         8.308009                   0.821074        1.493930   \n20         9.755738                   0.850895        1.563376   \n21        24.976934                   0.988072        0.955838   \n22        13.656395                   0.916501       -0.032707   \n23        25.630100                    0.99006       12.277915   \n24        29.331047                   0.994036        6.450187   \n25         8.530202                   0.827038       -0.434213   \n26        28.305143                   0.992048        5.012825   \n27        10.621875                   0.868787        7.232166   \n28        38.808032                        1.0        8.830934   \n29        15.496303                   0.932406        1.945546   \n30        16.280587                    0.93837       10.581677   \n31        11.540576                    0.88668        2.055651   \n32         4.901548                   0.735586        4.715858   \n33        18.973501                   0.960239        5.217190   \n34        17.776135                   0.954274        0.175432   \n35        14.820521                   0.928429       -0.536533   \n36        10.674746                   0.870775        5.337862   \n37        10.832489                   0.874751        1.410706   \n38         5.487306                   0.749503        1.128670   \n39         0.917351                   0.622266        8.002784   \n40        16.928019                   0.946322        2.589218   \n41        13.637272                   0.914513        4.856017   \n42        11.782182                   0.890656        6.036543   \n43         9.113719                   0.831014       -1.847131   \n44        13.807239                   0.920477        6.545336   \n45        32.010395                   0.996024       12.343704   \n46        -1.944593                   0.497018        3.197606   \n47        23.429654                   0.986083        2.628834   \n48         7.436746                   0.795229        2.771083   \n49         6.073864                   0.767396        1.939655   \n\n   1 Month Return Percentile HQM Score  \n0                   0.974155  0.967197  \n1                   0.970179  0.963221  \n2                   0.942346  0.951292  \n3                   0.882704  0.938867  \n4                   0.976143  0.935885  \n5                   0.926441    0.9334  \n6                   0.960239  0.932903  \n7                    0.89662  0.922962  \n8                   0.940358  0.919483  \n9                   0.898608  0.914016  \n10                   0.72167  0.899602  \n11                       1.0  0.894135  \n12                  0.964215  0.893638  \n13                  0.747515  0.888171  \n14                  0.836978   0.88668  \n15                  0.840954  0.885189  \n16                  0.821074  0.874254  \n17                  0.868787  0.871769  \n18                  0.842942  0.870278  \n19                  0.733598  0.866302  \n20                  0.741551  0.864314  \n21                  0.693837   0.85835  \n22                  0.616302   0.85338  \n23                  0.996024  0.850398  \n24                  0.954274  0.846421  \n25                  0.570577   0.84493  \n26                  0.928429  0.844433  \n27                  0.966203  0.842942  \n28                  0.986083  0.842445  \n29                  0.761431  0.841451  \n30                  0.992048  0.840954  \n31                  0.765408  0.840457  \n32                  0.916501  0.839463  \n33                  0.934394  0.833996  \n34                  0.636183  0.830517  \n35                  0.558648  0.828032  \n36                  0.936382  0.822565  \n37                  0.725646  0.821571  \n38                   0.71173  0.820577  \n39                  0.980119  0.815606  \n40                  0.809145  0.812624  \n41                  0.920477  0.806163  \n42                  0.944334  0.805169  \n43                  0.455268  0.803181  \n44                  0.956262  0.802684  \n45                  0.998012  0.801193  \n46                  0.850895  0.801193  \n47                  0.815109  0.799702  \n48                  0.819085  0.799205  \n49                  0.759443  0.794235  ",
      "text/html": "<div>\n<style scoped>\n    .dataframe tbody tr th:only-of-type {\n        vertical-align: middle;\n    }\n\n    .dataframe tbody tr th {\n        vertical-align: top;\n    }\n\n    .dataframe thead th {\n        text-align: right;\n    }\n</style>\n<table border=\"1\" class=\"dataframe\">\n  <thead>\n    <tr style=\"text-align: right;\">\n      <th></th>\n      <th>Ticker</th>\n      <th>Stock Price</th>\n      <th>Number of Shares to Buy</th>\n      <th>1 Year Return</th>\n      <th>1 Year Return Percentile</th>\n      <th>6 Months Return</th>\n      <th>6 Months Return Percentile</th>\n      <th>3 Months Return</th>\n      <th>3 Months Return Percentile</th>\n      <th>1 Month Return</th>\n      <th>1 Month Return Percentile</th>\n      <th>HQM Score</th>\n    </tr>\n  </thead>\n  <tbody>\n    <tr>\n      <th>0</th>\n      <td>AKAM</td>\n      <td>108.4900</td>\n      <td>N/A</td>\n      <td>0.321598</td>\n      <td>0.926441</td>\n      <td>43.315723</td>\n      <td>0.988072</td>\n      <td>23.186100</td>\n      <td>0.980119</td>\n      <td>7.853665</td>\n      <td>0.974155</td>\n      <td>0.967197</td>\n    </tr>\n    <tr>\n      <th>1</th>\n      <td>CHTR</td>\n      <td>450.6550</td>\n      <td>N/A</td>\n      <td>0.341987</td>\n      <td>0.936382</td>\n      <td>27.921595</td>\n      <td>0.94831</td>\n      <td>37.068861</td>\n      <td>0.998012</td>\n      <td>7.278379</td>\n      <td>0.970179</td>\n      <td>0.963221</td>\n    </tr>\n    <tr>\n      <th>2</th>\n      <td>FICO</td>\n      <td>895.8425</td>\n      <td>N/A</td>\n      <td>1.056166</td>\n      <td>0.998012</td>\n      <td>28.550471</td>\n      <td>0.956262</td>\n      <td>13.326063</td>\n      <td>0.908549</td>\n      <td>5.966703</td>\n      <td>0.942346</td>\n      <td>0.951292</td>\n    </tr>\n    <tr>\n      <th>3</th>\n      <td>CEG</td>\n      <td>110.1975</td>\n      <td>N/A</td>\n      <td>0.289880</td>\n      <td>0.904573</td>\n      <td>44.910856</td>\n      <td>0.99006</td>\n      <td>22.090864</td>\n      <td>0.978131</td>\n      <td>3.852136</td>\n      <td>0.882704</td>\n      <td>0.938867</td>\n    </tr>\n    <tr>\n      <th>4</th>\n      <td>ACGL</td>\n      <td>80.8900</td>\n      <td>N/A</td>\n      <td>0.851127</td>\n      <td>0.994036</td>\n      <td>20.354115</td>\n      <td>0.870775</td>\n      <td>12.707264</td>\n      <td>0.902584</td>\n      <td>7.925287</td>\n      <td>0.976143</td>\n      <td>0.935885</td>\n    </tr>\n    <tr>\n      <th>5</th>\n      <td>FLT</td>\n      <td>270.9800</td>\n      <td>N/A</td>\n      <td>0.449384</td>\n      <td>0.964215</td>\n      <td>28.652141</td>\n      <td>0.95825</td>\n      <td>11.500643</td>\n      <td>0.884692</td>\n      <td>5.010666</td>\n      <td>0.926441</td>\n      <td>0.9334</td>\n    </tr>\n    <tr>\n      <th>6</th>\n      <td>CE</td>\n      <td>126.0000</td>\n      <td>N/A</td>\n      <td>0.362610</td>\n      <td>0.942346</td>\n      <td>21.297162</td>\n      <td>0.884692</td>\n      <td>16.756999</td>\n      <td>0.944334</td>\n      <td>6.770611</td>\n      <td>0.960239</td>\n      <td>0.932903</td>\n    </tr>\n    <tr>\n      <th>7</th>\n      <td>DLR</td>\n      <td>124.6200</td>\n      <td>N/A</td>\n      <td>0.192347</td>\n      <td>0.856859</td>\n      <td>30.120190</td>\n      <td>0.966203</td>\n      <td>20.583894</td>\n      <td>0.972167</td>\n      <td>4.015569</td>\n      <td>0.89662</td>\n      <td>0.922962</td>\n    </tr>\n    <tr>\n      <th>8</th>\n      <td>AJG</td>\n      <td>233.1800</td>\n      <td>N/A</td>\n      <td>0.363183</td>\n      <td>0.944334</td>\n      <td>27.463773</td>\n      <td>0.944334</td>\n      <td>9.751101</td>\n      <td>0.848907</td>\n      <td>5.553156</td>\n      <td>0.940358</td>\n      <td>0.919483</td>\n    </tr>\n    <tr>\n      <th>9</th>\n      <td>BR</td>\n      <td>184.3300</td>\n      <td>N/A</td>\n      <td>0.173825</td>\n      <td>0.840954</td>\n      <td>35.815196</td>\n      <td>0.982107</td>\n      <td>15.930084</td>\n      <td>0.934394</td>\n      <td>4.039311</td>\n      <td>0.898608</td>\n      <td>0.914016</td>\n    </tr>\n    <tr>\n      <th>10</th>\n      <td>BKR</td>\n      <td>35.5000</td>\n      <td>N/A</td>\n      <td>0.558555</td>\n      <td>0.974155</td>\n      <td>28.191616</td>\n      <td>0.952286</td>\n      <td>17.090908</td>\n      <td>0.950298</td>\n      <td>1.283882</td>\n      <td>0.72167</td>\n      <td>0.899602</td>\n    </tr>\n    <tr>\n      <th>11</th>\n      <td>EG</td>\n      <td>392.6400</td>\n      <td>N/A</td>\n      <td>0.522291</td>\n      <td>0.972167</td>\n      <td>12.036310</td>\n      <td>0.71173</td>\n      <td>12.110378</td>\n      <td>0.892644</td>\n      <td>13.155588</td>\n      <td>1.0</td>\n      <td>0.894135</td>\n    </tr>\n    <tr>\n      <th>12</th>\n      <td>AIG</td>\n      <td>61.5700</td>\n      <td>N/A</td>\n      <td>0.216950</td>\n      <td>0.874751</td>\n      <td>21.638139</td>\n      <td>0.888668</td>\n      <td>9.701812</td>\n      <td>0.846918</td>\n      <td>7.177088</td>\n      <td>0.964215</td>\n      <td>0.893638</td>\n    </tr>\n    <tr>\n      <th>13</th>\n      <td>FDX</td>\n      <td>262.8205</td>\n      <td>N/A</td>\n      <td>0.621069</td>\n      <td>0.982107</td>\n      <td>20.823803</td>\n      <td>0.874751</td>\n      <td>16.949903</td>\n      <td>0.94831</td>\n      <td>1.607928</td>\n      <td>0.747515</td>\n      <td>0.888171</td>\n    </tr>\n    <tr>\n      <th>14</th>\n      <td>CBOE</td>\n      <td>155.1100</td>\n      <td>N/A</td>\n      <td>0.318908</td>\n      <td>0.924453</td>\n      <td>20.820996</td>\n      <td>0.872763</td>\n      <td>13.625380</td>\n      <td>0.912525</td>\n      <td>3.001530</td>\n      <td>0.836978</td>\n      <td>0.88668</td>\n    </tr>\n    <tr>\n      <th>15</th>\n      <td>AFL</td>\n      <td>76.3400</td>\n      <td>N/A</td>\n      <td>0.314982</td>\n      <td>0.922465</td>\n      <td>19.419040</td>\n      <td>0.858847</td>\n      <td>13.687398</td>\n      <td>0.918489</td>\n      <td>3.120353</td>\n      <td>0.840954</td>\n      <td>0.885189</td>\n    </tr>\n    <tr>\n      <th>16</th>\n      <td>FANG</td>\n      <td>152.6600</td>\n      <td>N/A</td>\n      <td>0.208235</td>\n      <td>0.866799</td>\n      <td>18.219474</td>\n      <td>0.840954</td>\n      <td>20.195772</td>\n      <td>0.968191</td>\n      <td>2.788817</td>\n      <td>0.821074</td>\n      <td>0.874254</td>\n    </tr>\n    <tr>\n      <th>17</th>\n      <td>BRK-B</td>\n      <td>364.3200</td>\n      <td>N/A</td>\n      <td>0.366132</td>\n      <td>0.94831</td>\n      <td>19.901267</td>\n      <td>0.864811</td>\n      <td>7.592813</td>\n      <td>0.805169</td>\n      <td>3.473547</td>\n      <td>0.868787</td>\n      <td>0.871769</td>\n    </tr>\n    <tr>\n      <th>18</th>\n      <td>AMGN</td>\n      <td>268.9050</td>\n      <td>N/A</td>\n      <td>0.191921</td>\n      <td>0.854871</td>\n      <td>17.467897</td>\n      <td>0.819085</td>\n      <td>19.399113</td>\n      <td>0.964215</td>\n      <td>3.147290</td>\n      <td>0.842942</td>\n      <td>0.870278</td>\n    </tr>\n    <tr>\n      <th>19</th>\n      <td>GE</td>\n      <td>113.6935</td>\n      <td>N/A</td>\n      <td>1.250962</td>\n      <td>1.0</td>\n      <td>23.429780</td>\n      <td>0.910537</td>\n      <td>8.308009</td>\n      <td>0.821074</td>\n      <td>1.493930</td>\n      <td>0.733598</td>\n      <td>0.866302</td>\n    </tr>\n    <tr>\n      <th>20</th>\n      <td>BRO</td>\n      <td>72.7600</td>\n      <td>N/A</td>\n      <td>0.246455</td>\n      <td>0.892644</td>\n      <td>30.863550</td>\n      <td>0.972167</td>\n      <td>9.755738</td>\n      <td>0.850895</td>\n      <td>1.563376</td>\n      <td>0.741551</td>\n      <td>0.864314</td>\n    </tr>\n    <tr>\n      <th>21</th>\n      <td>BG</td>\n      <td>114.0700</td>\n      <td>N/A</td>\n      <td>0.275085</td>\n      <td>0.898608</td>\n      <td>18.887949</td>\n      <td>0.852883</td>\n      <td>24.976934</td>\n      <td>0.988072</td>\n      <td>0.955838</td>\n      <td>0.693837</td>\n      <td>0.85835</td>\n    </tr>\n    <tr>\n      <th>22</th>\n      <td>CMCSA</td>\n      <td>45.8450</td>\n      <td>N/A</td>\n      <td>0.401294</td>\n      <td>0.952286</td>\n      <td>25.769586</td>\n      <td>0.928429</td>\n      <td>13.656395</td>\n      <td>0.916501</td>\n      <td>-0.032707</td>\n      <td>0.616302</td>\n      <td>0.85338</td>\n    </tr>\n    <tr>\n      <th>23</th>\n      <td>WRK</td>\n      <td>35.3900</td>\n      <td>N/A</td>\n      <td>0.105733</td>\n      <td>0.502982</td>\n      <td>23.914566</td>\n      <td>0.912525</td>\n      <td>25.630100</td>\n      <td>0.99006</td>\n      <td>12.277915</td>\n      <td>0.996024</td>\n      <td>0.850398</td>\n    </tr>\n    <tr>\n      <th>24</th>\n      <td>PSX</td>\n      <td>120.6400</td>\n      <td>N/A</td>\n      <td>0.105733</td>\n      <td>0.502982</td>\n      <td>26.258499</td>\n      <td>0.934394</td>\n      <td>29.331047</td>\n      <td>0.994036</td>\n      <td>6.450187</td>\n      <td>0.954274</td>\n      <td>0.846421</td>\n    </tr>\n    <tr>\n      <th>25</th>\n      <td>ADBE</td>\n      <td>518.2100</td>\n      <td>N/A</td>\n      <td>0.866439</td>\n      <td>0.996024</td>\n      <td>38.477372</td>\n      <td>0.986083</td>\n      <td>8.530202</td>\n      <td>0.827038</td>\n      <td>-0.434213</td>\n      <td>0.570577</td>\n      <td>0.84493</td>\n    </tr>\n    <tr>\n      <th>26</th>\n      <td>HAL</td>\n      <td>40.9550</td>\n      <td>N/A</td>\n      <td>0.105733</td>\n      <td>0.502982</td>\n      <td>28.224800</td>\n      <td>0.954274</td>\n      <td>28.305143</td>\n      <td>0.992048</td>\n      <td>5.012825</td>\n      <td>0.928429</td>\n      <td>0.844433</td>\n    </tr>\n    <tr>\n      <th>27</th>\n      <td>CB</td>\n      <td>213.6389</td>\n      <td>N/A</td>\n      <td>0.177806</td>\n      <td>0.84493</td>\n      <td>10.916336</td>\n      <td>0.691849</td>\n      <td>10.621875</td>\n      <td>0.868787</td>\n      <td>7.232166</td>\n      <td>0.966203</td>\n      <td>0.842942</td>\n    </tr>\n    <tr>\n      <th>28</th>\n      <td>MPC</td>\n      <td>155.4650</td>\n      <td>N/A</td>\n      <td>0.105733</td>\n      <td>0.502982</td>\n      <td>21.182481</td>\n      <td>0.880716</td>\n      <td>38.808032</td>\n      <td>1.0</td>\n      <td>8.830934</td>\n      <td>0.986083</td>\n      <td>0.842445</td>\n    </tr>\n    <tr>\n      <th>29</th>\n      <td>ATVI</td>\n      <td>92.4850</td>\n      <td>N/A</td>\n      <td>0.201610</td>\n      <td>0.860835</td>\n      <td>17.219708</td>\n      <td>0.811133</td>\n      <td>15.496303</td>\n      <td>0.932406</td>\n      <td>1.945546</td>\n      <td>0.761431</td>\n      <td>0.841451</td>\n    </tr>\n    <tr>\n      <th>30</th>\n      <td>WDC</td>\n      <td>44.6750</td>\n      <td>N/A</td>\n      <td>0.105733</td>\n      <td>0.502982</td>\n      <td>25.951502</td>\n      <td>0.930417</td>\n      <td>16.280587</td>\n      <td>0.93837</td>\n      <td>10.581677</td>\n      <td>0.992048</td>\n      <td>0.840954</td>\n    </tr>\n    <tr>\n      <th>31</th>\n      <td>EMR</td>\n      <td>97.0141</td>\n      <td>N/A</td>\n      <td>0.297630</td>\n      <td>0.906561</td>\n      <td>16.872360</td>\n      <td>0.803181</td>\n      <td>11.540576</td>\n      <td>0.88668</td>\n      <td>2.055651</td>\n      <td>0.765408</td>\n      <td>0.840457</td>\n    </tr>\n    <tr>\n      <th>32</th>\n      <td>CTAS</td>\n      <td>508.9400</td>\n      <td>N/A</td>\n      <td>0.323482</td>\n      <td>0.928429</td>\n      <td>15.451036</td>\n      <td>0.777336</td>\n      <td>4.901548</td>\n      <td>0.735586</td>\n      <td>4.715858</td>\n      <td>0.916501</td>\n      <td>0.839463</td>\n    </tr>\n    <tr>\n      <th>33</th>\n      <td>MOH</td>\n      <td>336.6950</td>\n      <td>N/A</td>\n      <td>0.105733</td>\n      <td>0.502982</td>\n      <td>26.462973</td>\n      <td>0.93837</td>\n      <td>18.973501</td>\n      <td>0.960239</td>\n      <td>5.217190</td>\n      <td>0.934394</td>\n      <td>0.833996</td>\n    </tr>\n    <tr>\n      <th>34</th>\n      <td>DPZ</td>\n      <td>379.3850</td>\n      <td>N/A</td>\n      <td>0.202099</td>\n      <td>0.862823</td>\n      <td>20.286419</td>\n      <td>0.868787</td>\n      <td>17.776135</td>\n      <td>0.954274</td>\n      <td>0.175432</td>\n      <td>0.636183</td>\n      <td>0.830517</td>\n    </tr>\n    <tr>\n      <th>35</th>\n      <td>BKNG</td>\n      <td>3035.6250</td>\n      <td>N/A</td>\n      <td>0.783648</td>\n      <td>0.99006</td>\n      <td>18.057065</td>\n      <td>0.83499</td>\n      <td>14.820521</td>\n      <td>0.928429</td>\n      <td>-0.536533</td>\n      <td>0.558648</td>\n      <td>0.828032</td>\n    </tr>\n    <tr>\n      <th>36</th>\n      <td>HAS</td>\n      <td>66.6262</td>\n      <td>N/A</td>\n      <td>0.105733</td>\n      <td>0.502982</td>\n      <td>33.975867</td>\n      <td>0.980119</td>\n      <td>10.674746</td>\n      <td>0.870775</td>\n      <td>5.337862</td>\n      <td>0.936382</td>\n      <td>0.822565</td>\n    </tr>\n    <tr>\n      <th>37</th>\n      <td>CTSH</td>\n      <td>69.7300</td>\n      <td>N/A</td>\n      <td>0.162375</td>\n      <td>0.83499</td>\n      <td>18.872984</td>\n      <td>0.850895</td>\n      <td>10.832489</td>\n      <td>0.874751</td>\n      <td>1.410706</td>\n      <td>0.725646</td>\n      <td>0.821571</td>\n    </tr>\n    <tr>\n      <th>38</th>\n      <td>DVA</td>\n      <td>103.0400</td>\n      <td>N/A</td>\n      <td>0.181049</td>\n      <td>0.846918</td>\n      <td>31.764712</td>\n      <td>0.974155</td>\n      <td>5.487306</td>\n      <td>0.749503</td>\n      <td>1.128670</td>\n      <td>0.71173</td>\n      <td>0.820577</td>\n    </tr>\n    <tr>\n      <th>39</th>\n      <td>BSX</td>\n      <td>54.4550</td>\n      <td>N/A</td>\n      <td>0.376590</td>\n      <td>0.950298</td>\n      <td>11.496727</td>\n      <td>0.709742</td>\n      <td>0.917351</td>\n      <td>0.622266</td>\n      <td>8.002784</td>\n      <td>0.980119</td>\n      <td>0.815606</td>\n    </tr>\n    <tr>\n      <th>40</th>\n      <td>CDW</td>\n      <td>206.0400</td>\n      <td>N/A</td>\n      <td>0.285047</td>\n      <td>0.902584</td>\n      <td>6.614216</td>\n      <td>0.592445</td>\n      <td>16.928019</td>\n      <td>0.946322</td>\n      <td>2.589218</td>\n      <td>0.809145</td>\n      <td>0.812624</td>\n    </tr>\n    <tr>\n      <th>41</th>\n      <td>INTU</td>\n      <td>511.9700</td>\n      <td>N/A</td>\n      <td>0.105733</td>\n      <td>0.502982</td>\n      <td>21.311282</td>\n      <td>0.88668</td>\n      <td>13.637272</td>\n      <td>0.914513</td>\n      <td>4.856017</td>\n      <td>0.920477</td>\n      <td>0.806163</td>\n    </tr>\n    <tr>\n      <th>42</th>\n      <td>IRM</td>\n      <td>62.0750</td>\n      <td>N/A</td>\n      <td>0.105733</td>\n      <td>0.502982</td>\n      <td>21.255619</td>\n      <td>0.882704</td>\n      <td>11.782182</td>\n      <td>0.890656</td>\n      <td>6.036543</td>\n      <td>0.944334</td>\n      <td>0.805169</td>\n    </tr>\n    <tr>\n      <th>43</th>\n      <td>ETN</td>\n      <td>211.7550</td>\n      <td>N/A</td>\n      <td>0.588470</td>\n      <td>0.976143</td>\n      <td>28.002990</td>\n      <td>0.950298</td>\n      <td>9.113719</td>\n      <td>0.831014</td>\n      <td>-1.847131</td>\n      <td>0.455268</td>\n      <td>0.803181</td>\n    </tr>\n    <tr>\n      <th>44</th>\n      <td>PRU</td>\n      <td>97.1800</td>\n      <td>N/A</td>\n      <td>0.105733</td>\n      <td>0.502982</td>\n      <td>17.865378</td>\n      <td>0.831014</td>\n      <td>13.807239</td>\n      <td>0.920477</td>\n      <td>6.545336</td>\n      <td>0.956262</td>\n      <td>0.802684</td>\n    </tr>\n    <tr>\n      <th>45</th>\n      <td>VLO</td>\n      <td>147.3500</td>\n      <td>N/A</td>\n      <td>0.105733</td>\n      <td>0.502982</td>\n      <td>11.468344</td>\n      <td>0.707753</td>\n      <td>32.010395</td>\n      <td>0.996024</td>\n      <td>12.343704</td>\n      <td>0.998012</td>\n      <td>0.801193</td>\n    </tr>\n    <tr>\n      <th>46</th>\n      <td>CAH</td>\n      <td>89.7200</td>\n      <td>N/A</td>\n      <td>0.328527</td>\n      <td>0.930417</td>\n      <td>25.655765</td>\n      <td>0.926441</td>\n      <td>-1.944593</td>\n      <td>0.497018</td>\n      <td>3.197606</td>\n      <td>0.850895</td>\n      <td>0.801193</td>\n    </tr>\n    <tr>\n      <th>47</th>\n      <td>SLB</td>\n      <td>58.9500</td>\n      <td>N/A</td>\n      <td>0.105733</td>\n      <td>0.502982</td>\n      <td>22.100253</td>\n      <td>0.894632</td>\n      <td>23.429654</td>\n      <td>0.986083</td>\n      <td>2.628834</td>\n      <td>0.815109</td>\n      <td>0.799702</td>\n    </tr>\n    <tr>\n      <th>48</th>\n      <td>COST</td>\n      <td>557.2100</td>\n      <td>N/A</td>\n      <td>0.157358</td>\n      <td>0.831014</td>\n      <td>13.971114</td>\n      <td>0.751491</td>\n      <td>7.436746</td>\n      <td>0.795229</td>\n      <td>2.771083</td>\n      <td>0.819085</td>\n      <td>0.799205</td>\n    </tr>\n    <tr>\n      <th>49</th>\n      <td>AMP</td>\n      <td>339.5100</td>\n      <td>N/A</td>\n      <td>0.304409</td>\n      <td>0.914513</td>\n      <td>13.406821</td>\n      <td>0.735586</td>\n      <td>6.073864</td>\n      <td>0.767396</td>\n      <td>1.939655</td>\n      <td>0.759443</td>\n      <td>0.794235</td>\n    </tr>\n  </tbody>\n</table>\n</div>"
     },
     "execution_count": 30,
     "metadata": {},
     "output_type": "execute_result"
    }
   ]
  },
  {
   "cell_type": "markdown",
   "source": [
    "## Calculating the Number of Shares to Buy\n",
    "\n",
    "As we can see in the DataFrame above, we stil haven't calculated the number of shares of each stock to buy."
   ],
   "metadata": {
    "collapsed": false
   }
  },
  {
   "cell_type": "code",
   "source": [
    "# portfolio_size = float(input(\"Enter your portfolio value: \"))\n",
    "portfolio_size = 10000000\n",
    "portfolio_size"
   ],
   "metadata": {
    "colab": {
     "base_uri": "https://localhost:8080/"
    },
    "id": "EdlinDPdBsV5",
    "outputId": "39f5f4ba-1f28-4728-8635-a3dd82777b18",
    "ExecuteTime": {
     "end_time": "2023-09-21T18:19:18.472049333Z",
     "start_time": "2023-09-21T18:19:18.281224713Z"
    }
   },
   "execution_count": 31,
   "outputs": [
    {
     "data": {
      "text/plain": "10000000"
     },
     "execution_count": 31,
     "metadata": {},
     "output_type": "execute_result"
    }
   ]
  },
  {
   "cell_type": "code",
   "source": [
    "position_size = portfolio_size / len(final_dataframe.index)\n",
    "position_size"
   ],
   "metadata": {
    "colab": {
     "base_uri": "https://localhost:8080/"
    },
    "id": "cHFqCXXNB4A5",
    "outputId": "03e6b75d-1db5-439d-9a79-664ae30b0683",
    "ExecuteTime": {
     "end_time": "2023-09-21T18:19:18.491153555Z",
     "start_time": "2023-09-21T18:19:18.325220147Z"
    }
   },
   "execution_count": 32,
   "outputs": [
    {
     "data": {
      "text/plain": "200000.0"
     },
     "execution_count": 32,
     "metadata": {},
     "output_type": "execute_result"
    }
   ]
  },
  {
   "cell_type": "code",
   "source": [
    "for i in range(len(hqm_dataframe.index)):\n",
    "    hqm_dataframe.loc[i, 'Number of Shares to Buy'] = math.floor(position_size / hqm_dataframe.loc[i, 'Stock Price'])\n",
    "\n",
    "hqm_dataframe"
   ],
   "metadata": {
    "colab": {
     "base_uri": "https://localhost:8080/",
     "height": 702
    },
    "id": "b17SIFHSB7Fe",
    "outputId": "18cd2483-77cd-4df8-dbbd-dccd791194bc",
    "ExecuteTime": {
     "end_time": "2023-09-21T18:19:18.494158927Z",
     "start_time": "2023-09-21T18:19:18.325638008Z"
    }
   },
   "execution_count": 33,
   "outputs": [
    {
     "data": {
      "text/plain": "   Ticker  Stock Price Number of Shares to Buy  1 Year Return  \\\n0    AKAM     108.4900                    1843       0.321598   \n1    CHTR     450.6550                     443       0.341987   \n2    FICO     895.8425                     223       1.056166   \n3     CEG     110.1975                    1814       0.289880   \n4    ACGL      80.8900                    2472       0.851127   \n5     FLT     270.9800                     738       0.449384   \n6      CE     126.0000                    1587       0.362610   \n7     DLR     124.6200                    1604       0.192347   \n8     AJG     233.1800                     857       0.363183   \n9      BR     184.3300                    1085       0.173825   \n10    BKR      35.5000                    5633       0.558555   \n11     EG     392.6400                     509       0.522291   \n12    AIG      61.5700                    3248       0.216950   \n13    FDX     262.8205                     760       0.621069   \n14   CBOE     155.1100                    1289       0.318908   \n15    AFL      76.3400                    2619       0.314982   \n16   FANG     152.6600                    1310       0.208235   \n17  BRK-B     364.3200                     548       0.366132   \n18   AMGN     268.9050                     743       0.191921   \n19     GE     113.6935                    1759       1.250962   \n20    BRO      72.7600                    2748       0.246455   \n21     BG     114.0700                    1753       0.275085   \n22  CMCSA      45.8450                    4362       0.401294   \n23    WRK      35.3900                    5651       0.105733   \n24    PSX     120.6400                    1657       0.105733   \n25   ADBE     518.2100                     385       0.866439   \n26    HAL      40.9550                    4883       0.105733   \n27     CB     213.6389                     936       0.177806   \n28    MPC     155.4650                    1286       0.105733   \n29   ATVI      92.4850                    2162       0.201610   \n30    WDC      44.6750                    4476       0.105733   \n31    EMR      97.0141                    2061       0.297630   \n32   CTAS     508.9400                     392       0.323482   \n33    MOH     336.6950                     594       0.105733   \n34    DPZ     379.3850                     527       0.202099   \n35   BKNG    3035.6250                      65       0.783648   \n36    HAS      66.6262                    3001       0.105733   \n37   CTSH      69.7300                    2868       0.162375   \n38    DVA     103.0400                    1940       0.181049   \n39    BSX      54.4550                    3672       0.376590   \n40    CDW     206.0400                     970       0.285047   \n41   INTU     511.9700                     390       0.105733   \n42    IRM      62.0750                    3221       0.105733   \n43    ETN     211.7550                     944       0.588470   \n44    PRU      97.1800                    2058       0.105733   \n45    VLO     147.3500                    1357       0.105733   \n46    CAH      89.7200                    2229       0.328527   \n47    SLB      58.9500                    3392       0.105733   \n48   COST     557.2100                     358       0.157358   \n49    AMP     339.5100                     589       0.304409   \n\n   1 Year Return Percentile  6 Months Return 6 Months Return Percentile  \\\n0                  0.926441        43.315723                   0.988072   \n1                  0.936382        27.921595                    0.94831   \n2                  0.998012        28.550471                   0.956262   \n3                  0.904573        44.910856                    0.99006   \n4                  0.994036        20.354115                   0.870775   \n5                  0.964215        28.652141                    0.95825   \n6                  0.942346        21.297162                   0.884692   \n7                  0.856859        30.120190                   0.966203   \n8                  0.944334        27.463773                   0.944334   \n9                  0.840954        35.815196                   0.982107   \n10                 0.974155        28.191616                   0.952286   \n11                 0.972167        12.036310                    0.71173   \n12                 0.874751        21.638139                   0.888668   \n13                 0.982107        20.823803                   0.874751   \n14                 0.924453        20.820996                   0.872763   \n15                 0.922465        19.419040                   0.858847   \n16                 0.866799        18.219474                   0.840954   \n17                  0.94831        19.901267                   0.864811   \n18                 0.854871        17.467897                   0.819085   \n19                      1.0        23.429780                   0.910537   \n20                 0.892644        30.863550                   0.972167   \n21                 0.898608        18.887949                   0.852883   \n22                 0.952286        25.769586                   0.928429   \n23                 0.502982        23.914566                   0.912525   \n24                 0.502982        26.258499                   0.934394   \n25                 0.996024        38.477372                   0.986083   \n26                 0.502982        28.224800                   0.954274   \n27                  0.84493        10.916336                   0.691849   \n28                 0.502982        21.182481                   0.880716   \n29                 0.860835        17.219708                   0.811133   \n30                 0.502982        25.951502                   0.930417   \n31                 0.906561        16.872360                   0.803181   \n32                 0.928429        15.451036                   0.777336   \n33                 0.502982        26.462973                    0.93837   \n34                 0.862823        20.286419                   0.868787   \n35                  0.99006        18.057065                    0.83499   \n36                 0.502982        33.975867                   0.980119   \n37                  0.83499        18.872984                   0.850895   \n38                 0.846918        31.764712                   0.974155   \n39                 0.950298        11.496727                   0.709742   \n40                 0.902584         6.614216                   0.592445   \n41                 0.502982        21.311282                    0.88668   \n42                 0.502982        21.255619                   0.882704   \n43                 0.976143        28.002990                   0.950298   \n44                 0.502982        17.865378                   0.831014   \n45                 0.502982        11.468344                   0.707753   \n46                 0.930417        25.655765                   0.926441   \n47                 0.502982        22.100253                   0.894632   \n48                 0.831014        13.971114                   0.751491   \n49                 0.914513        13.406821                   0.735586   \n\n    3 Months Return 3 Months Return Percentile  1 Month Return  \\\n0         23.186100                   0.980119        7.853665   \n1         37.068861                   0.998012        7.278379   \n2         13.326063                   0.908549        5.966703   \n3         22.090864                   0.978131        3.852136   \n4         12.707264                   0.902584        7.925287   \n5         11.500643                   0.884692        5.010666   \n6         16.756999                   0.944334        6.770611   \n7         20.583894                   0.972167        4.015569   \n8          9.751101                   0.848907        5.553156   \n9         15.930084                   0.934394        4.039311   \n10        17.090908                   0.950298        1.283882   \n11        12.110378                   0.892644       13.155588   \n12         9.701812                   0.846918        7.177088   \n13        16.949903                    0.94831        1.607928   \n14        13.625380                   0.912525        3.001530   \n15        13.687398                   0.918489        3.120353   \n16        20.195772                   0.968191        2.788817   \n17         7.592813                   0.805169        3.473547   \n18        19.399113                   0.964215        3.147290   \n19         8.308009                   0.821074        1.493930   \n20         9.755738                   0.850895        1.563376   \n21        24.976934                   0.988072        0.955838   \n22        13.656395                   0.916501       -0.032707   \n23        25.630100                    0.99006       12.277915   \n24        29.331047                   0.994036        6.450187   \n25         8.530202                   0.827038       -0.434213   \n26        28.305143                   0.992048        5.012825   \n27        10.621875                   0.868787        7.232166   \n28        38.808032                        1.0        8.830934   \n29        15.496303                   0.932406        1.945546   \n30        16.280587                    0.93837       10.581677   \n31        11.540576                    0.88668        2.055651   \n32         4.901548                   0.735586        4.715858   \n33        18.973501                   0.960239        5.217190   \n34        17.776135                   0.954274        0.175432   \n35        14.820521                   0.928429       -0.536533   \n36        10.674746                   0.870775        5.337862   \n37        10.832489                   0.874751        1.410706   \n38         5.487306                   0.749503        1.128670   \n39         0.917351                   0.622266        8.002784   \n40        16.928019                   0.946322        2.589218   \n41        13.637272                   0.914513        4.856017   \n42        11.782182                   0.890656        6.036543   \n43         9.113719                   0.831014       -1.847131   \n44        13.807239                   0.920477        6.545336   \n45        32.010395                   0.996024       12.343704   \n46        -1.944593                   0.497018        3.197606   \n47        23.429654                   0.986083        2.628834   \n48         7.436746                   0.795229        2.771083   \n49         6.073864                   0.767396        1.939655   \n\n   1 Month Return Percentile HQM Score  \n0                   0.974155  0.967197  \n1                   0.970179  0.963221  \n2                   0.942346  0.951292  \n3                   0.882704  0.938867  \n4                   0.976143  0.935885  \n5                   0.926441    0.9334  \n6                   0.960239  0.932903  \n7                    0.89662  0.922962  \n8                   0.940358  0.919483  \n9                   0.898608  0.914016  \n10                   0.72167  0.899602  \n11                       1.0  0.894135  \n12                  0.964215  0.893638  \n13                  0.747515  0.888171  \n14                  0.836978   0.88668  \n15                  0.840954  0.885189  \n16                  0.821074  0.874254  \n17                  0.868787  0.871769  \n18                  0.842942  0.870278  \n19                  0.733598  0.866302  \n20                  0.741551  0.864314  \n21                  0.693837   0.85835  \n22                  0.616302   0.85338  \n23                  0.996024  0.850398  \n24                  0.954274  0.846421  \n25                  0.570577   0.84493  \n26                  0.928429  0.844433  \n27                  0.966203  0.842942  \n28                  0.986083  0.842445  \n29                  0.761431  0.841451  \n30                  0.992048  0.840954  \n31                  0.765408  0.840457  \n32                  0.916501  0.839463  \n33                  0.934394  0.833996  \n34                  0.636183  0.830517  \n35                  0.558648  0.828032  \n36                  0.936382  0.822565  \n37                  0.725646  0.821571  \n38                   0.71173  0.820577  \n39                  0.980119  0.815606  \n40                  0.809145  0.812624  \n41                  0.920477  0.806163  \n42                  0.944334  0.805169  \n43                  0.455268  0.803181  \n44                  0.956262  0.802684  \n45                  0.998012  0.801193  \n46                  0.850895  0.801193  \n47                  0.815109  0.799702  \n48                  0.819085  0.799205  \n49                  0.759443  0.794235  ",
      "text/html": "<div>\n<style scoped>\n    .dataframe tbody tr th:only-of-type {\n        vertical-align: middle;\n    }\n\n    .dataframe tbody tr th {\n        vertical-align: top;\n    }\n\n    .dataframe thead th {\n        text-align: right;\n    }\n</style>\n<table border=\"1\" class=\"dataframe\">\n  <thead>\n    <tr style=\"text-align: right;\">\n      <th></th>\n      <th>Ticker</th>\n      <th>Stock Price</th>\n      <th>Number of Shares to Buy</th>\n      <th>1 Year Return</th>\n      <th>1 Year Return Percentile</th>\n      <th>6 Months Return</th>\n      <th>6 Months Return Percentile</th>\n      <th>3 Months Return</th>\n      <th>3 Months Return Percentile</th>\n      <th>1 Month Return</th>\n      <th>1 Month Return Percentile</th>\n      <th>HQM Score</th>\n    </tr>\n  </thead>\n  <tbody>\n    <tr>\n      <th>0</th>\n      <td>AKAM</td>\n      <td>108.4900</td>\n      <td>1843</td>\n      <td>0.321598</td>\n      <td>0.926441</td>\n      <td>43.315723</td>\n      <td>0.988072</td>\n      <td>23.186100</td>\n      <td>0.980119</td>\n      <td>7.853665</td>\n      <td>0.974155</td>\n      <td>0.967197</td>\n    </tr>\n    <tr>\n      <th>1</th>\n      <td>CHTR</td>\n      <td>450.6550</td>\n      <td>443</td>\n      <td>0.341987</td>\n      <td>0.936382</td>\n      <td>27.921595</td>\n      <td>0.94831</td>\n      <td>37.068861</td>\n      <td>0.998012</td>\n      <td>7.278379</td>\n      <td>0.970179</td>\n      <td>0.963221</td>\n    </tr>\n    <tr>\n      <th>2</th>\n      <td>FICO</td>\n      <td>895.8425</td>\n      <td>223</td>\n      <td>1.056166</td>\n      <td>0.998012</td>\n      <td>28.550471</td>\n      <td>0.956262</td>\n      <td>13.326063</td>\n      <td>0.908549</td>\n      <td>5.966703</td>\n      <td>0.942346</td>\n      <td>0.951292</td>\n    </tr>\n    <tr>\n      <th>3</th>\n      <td>CEG</td>\n      <td>110.1975</td>\n      <td>1814</td>\n      <td>0.289880</td>\n      <td>0.904573</td>\n      <td>44.910856</td>\n      <td>0.99006</td>\n      <td>22.090864</td>\n      <td>0.978131</td>\n      <td>3.852136</td>\n      <td>0.882704</td>\n      <td>0.938867</td>\n    </tr>\n    <tr>\n      <th>4</th>\n      <td>ACGL</td>\n      <td>80.8900</td>\n      <td>2472</td>\n      <td>0.851127</td>\n      <td>0.994036</td>\n      <td>20.354115</td>\n      <td>0.870775</td>\n      <td>12.707264</td>\n      <td>0.902584</td>\n      <td>7.925287</td>\n      <td>0.976143</td>\n      <td>0.935885</td>\n    </tr>\n    <tr>\n      <th>5</th>\n      <td>FLT</td>\n      <td>270.9800</td>\n      <td>738</td>\n      <td>0.449384</td>\n      <td>0.964215</td>\n      <td>28.652141</td>\n      <td>0.95825</td>\n      <td>11.500643</td>\n      <td>0.884692</td>\n      <td>5.010666</td>\n      <td>0.926441</td>\n      <td>0.9334</td>\n    </tr>\n    <tr>\n      <th>6</th>\n      <td>CE</td>\n      <td>126.0000</td>\n      <td>1587</td>\n      <td>0.362610</td>\n      <td>0.942346</td>\n      <td>21.297162</td>\n      <td>0.884692</td>\n      <td>16.756999</td>\n      <td>0.944334</td>\n      <td>6.770611</td>\n      <td>0.960239</td>\n      <td>0.932903</td>\n    </tr>\n    <tr>\n      <th>7</th>\n      <td>DLR</td>\n      <td>124.6200</td>\n      <td>1604</td>\n      <td>0.192347</td>\n      <td>0.856859</td>\n      <td>30.120190</td>\n      <td>0.966203</td>\n      <td>20.583894</td>\n      <td>0.972167</td>\n      <td>4.015569</td>\n      <td>0.89662</td>\n      <td>0.922962</td>\n    </tr>\n    <tr>\n      <th>8</th>\n      <td>AJG</td>\n      <td>233.1800</td>\n      <td>857</td>\n      <td>0.363183</td>\n      <td>0.944334</td>\n      <td>27.463773</td>\n      <td>0.944334</td>\n      <td>9.751101</td>\n      <td>0.848907</td>\n      <td>5.553156</td>\n      <td>0.940358</td>\n      <td>0.919483</td>\n    </tr>\n    <tr>\n      <th>9</th>\n      <td>BR</td>\n      <td>184.3300</td>\n      <td>1085</td>\n      <td>0.173825</td>\n      <td>0.840954</td>\n      <td>35.815196</td>\n      <td>0.982107</td>\n      <td>15.930084</td>\n      <td>0.934394</td>\n      <td>4.039311</td>\n      <td>0.898608</td>\n      <td>0.914016</td>\n    </tr>\n    <tr>\n      <th>10</th>\n      <td>BKR</td>\n      <td>35.5000</td>\n      <td>5633</td>\n      <td>0.558555</td>\n      <td>0.974155</td>\n      <td>28.191616</td>\n      <td>0.952286</td>\n      <td>17.090908</td>\n      <td>0.950298</td>\n      <td>1.283882</td>\n      <td>0.72167</td>\n      <td>0.899602</td>\n    </tr>\n    <tr>\n      <th>11</th>\n      <td>EG</td>\n      <td>392.6400</td>\n      <td>509</td>\n      <td>0.522291</td>\n      <td>0.972167</td>\n      <td>12.036310</td>\n      <td>0.71173</td>\n      <td>12.110378</td>\n      <td>0.892644</td>\n      <td>13.155588</td>\n      <td>1.0</td>\n      <td>0.894135</td>\n    </tr>\n    <tr>\n      <th>12</th>\n      <td>AIG</td>\n      <td>61.5700</td>\n      <td>3248</td>\n      <td>0.216950</td>\n      <td>0.874751</td>\n      <td>21.638139</td>\n      <td>0.888668</td>\n      <td>9.701812</td>\n      <td>0.846918</td>\n      <td>7.177088</td>\n      <td>0.964215</td>\n      <td>0.893638</td>\n    </tr>\n    <tr>\n      <th>13</th>\n      <td>FDX</td>\n      <td>262.8205</td>\n      <td>760</td>\n      <td>0.621069</td>\n      <td>0.982107</td>\n      <td>20.823803</td>\n      <td>0.874751</td>\n      <td>16.949903</td>\n      <td>0.94831</td>\n      <td>1.607928</td>\n      <td>0.747515</td>\n      <td>0.888171</td>\n    </tr>\n    <tr>\n      <th>14</th>\n      <td>CBOE</td>\n      <td>155.1100</td>\n      <td>1289</td>\n      <td>0.318908</td>\n      <td>0.924453</td>\n      <td>20.820996</td>\n      <td>0.872763</td>\n      <td>13.625380</td>\n      <td>0.912525</td>\n      <td>3.001530</td>\n      <td>0.836978</td>\n      <td>0.88668</td>\n    </tr>\n    <tr>\n      <th>15</th>\n      <td>AFL</td>\n      <td>76.3400</td>\n      <td>2619</td>\n      <td>0.314982</td>\n      <td>0.922465</td>\n      <td>19.419040</td>\n      <td>0.858847</td>\n      <td>13.687398</td>\n      <td>0.918489</td>\n      <td>3.120353</td>\n      <td>0.840954</td>\n      <td>0.885189</td>\n    </tr>\n    <tr>\n      <th>16</th>\n      <td>FANG</td>\n      <td>152.6600</td>\n      <td>1310</td>\n      <td>0.208235</td>\n      <td>0.866799</td>\n      <td>18.219474</td>\n      <td>0.840954</td>\n      <td>20.195772</td>\n      <td>0.968191</td>\n      <td>2.788817</td>\n      <td>0.821074</td>\n      <td>0.874254</td>\n    </tr>\n    <tr>\n      <th>17</th>\n      <td>BRK-B</td>\n      <td>364.3200</td>\n      <td>548</td>\n      <td>0.366132</td>\n      <td>0.94831</td>\n      <td>19.901267</td>\n      <td>0.864811</td>\n      <td>7.592813</td>\n      <td>0.805169</td>\n      <td>3.473547</td>\n      <td>0.868787</td>\n      <td>0.871769</td>\n    </tr>\n    <tr>\n      <th>18</th>\n      <td>AMGN</td>\n      <td>268.9050</td>\n      <td>743</td>\n      <td>0.191921</td>\n      <td>0.854871</td>\n      <td>17.467897</td>\n      <td>0.819085</td>\n      <td>19.399113</td>\n      <td>0.964215</td>\n      <td>3.147290</td>\n      <td>0.842942</td>\n      <td>0.870278</td>\n    </tr>\n    <tr>\n      <th>19</th>\n      <td>GE</td>\n      <td>113.6935</td>\n      <td>1759</td>\n      <td>1.250962</td>\n      <td>1.0</td>\n      <td>23.429780</td>\n      <td>0.910537</td>\n      <td>8.308009</td>\n      <td>0.821074</td>\n      <td>1.493930</td>\n      <td>0.733598</td>\n      <td>0.866302</td>\n    </tr>\n    <tr>\n      <th>20</th>\n      <td>BRO</td>\n      <td>72.7600</td>\n      <td>2748</td>\n      <td>0.246455</td>\n      <td>0.892644</td>\n      <td>30.863550</td>\n      <td>0.972167</td>\n      <td>9.755738</td>\n      <td>0.850895</td>\n      <td>1.563376</td>\n      <td>0.741551</td>\n      <td>0.864314</td>\n    </tr>\n    <tr>\n      <th>21</th>\n      <td>BG</td>\n      <td>114.0700</td>\n      <td>1753</td>\n      <td>0.275085</td>\n      <td>0.898608</td>\n      <td>18.887949</td>\n      <td>0.852883</td>\n      <td>24.976934</td>\n      <td>0.988072</td>\n      <td>0.955838</td>\n      <td>0.693837</td>\n      <td>0.85835</td>\n    </tr>\n    <tr>\n      <th>22</th>\n      <td>CMCSA</td>\n      <td>45.8450</td>\n      <td>4362</td>\n      <td>0.401294</td>\n      <td>0.952286</td>\n      <td>25.769586</td>\n      <td>0.928429</td>\n      <td>13.656395</td>\n      <td>0.916501</td>\n      <td>-0.032707</td>\n      <td>0.616302</td>\n      <td>0.85338</td>\n    </tr>\n    <tr>\n      <th>23</th>\n      <td>WRK</td>\n      <td>35.3900</td>\n      <td>5651</td>\n      <td>0.105733</td>\n      <td>0.502982</td>\n      <td>23.914566</td>\n      <td>0.912525</td>\n      <td>25.630100</td>\n      <td>0.99006</td>\n      <td>12.277915</td>\n      <td>0.996024</td>\n      <td>0.850398</td>\n    </tr>\n    <tr>\n      <th>24</th>\n      <td>PSX</td>\n      <td>120.6400</td>\n      <td>1657</td>\n      <td>0.105733</td>\n      <td>0.502982</td>\n      <td>26.258499</td>\n      <td>0.934394</td>\n      <td>29.331047</td>\n      <td>0.994036</td>\n      <td>6.450187</td>\n      <td>0.954274</td>\n      <td>0.846421</td>\n    </tr>\n    <tr>\n      <th>25</th>\n      <td>ADBE</td>\n      <td>518.2100</td>\n      <td>385</td>\n      <td>0.866439</td>\n      <td>0.996024</td>\n      <td>38.477372</td>\n      <td>0.986083</td>\n      <td>8.530202</td>\n      <td>0.827038</td>\n      <td>-0.434213</td>\n      <td>0.570577</td>\n      <td>0.84493</td>\n    </tr>\n    <tr>\n      <th>26</th>\n      <td>HAL</td>\n      <td>40.9550</td>\n      <td>4883</td>\n      <td>0.105733</td>\n      <td>0.502982</td>\n      <td>28.224800</td>\n      <td>0.954274</td>\n      <td>28.305143</td>\n      <td>0.992048</td>\n      <td>5.012825</td>\n      <td>0.928429</td>\n      <td>0.844433</td>\n    </tr>\n    <tr>\n      <th>27</th>\n      <td>CB</td>\n      <td>213.6389</td>\n      <td>936</td>\n      <td>0.177806</td>\n      <td>0.84493</td>\n      <td>10.916336</td>\n      <td>0.691849</td>\n      <td>10.621875</td>\n      <td>0.868787</td>\n      <td>7.232166</td>\n      <td>0.966203</td>\n      <td>0.842942</td>\n    </tr>\n    <tr>\n      <th>28</th>\n      <td>MPC</td>\n      <td>155.4650</td>\n      <td>1286</td>\n      <td>0.105733</td>\n      <td>0.502982</td>\n      <td>21.182481</td>\n      <td>0.880716</td>\n      <td>38.808032</td>\n      <td>1.0</td>\n      <td>8.830934</td>\n      <td>0.986083</td>\n      <td>0.842445</td>\n    </tr>\n    <tr>\n      <th>29</th>\n      <td>ATVI</td>\n      <td>92.4850</td>\n      <td>2162</td>\n      <td>0.201610</td>\n      <td>0.860835</td>\n      <td>17.219708</td>\n      <td>0.811133</td>\n      <td>15.496303</td>\n      <td>0.932406</td>\n      <td>1.945546</td>\n      <td>0.761431</td>\n      <td>0.841451</td>\n    </tr>\n    <tr>\n      <th>30</th>\n      <td>WDC</td>\n      <td>44.6750</td>\n      <td>4476</td>\n      <td>0.105733</td>\n      <td>0.502982</td>\n      <td>25.951502</td>\n      <td>0.930417</td>\n      <td>16.280587</td>\n      <td>0.93837</td>\n      <td>10.581677</td>\n      <td>0.992048</td>\n      <td>0.840954</td>\n    </tr>\n    <tr>\n      <th>31</th>\n      <td>EMR</td>\n      <td>97.0141</td>\n      <td>2061</td>\n      <td>0.297630</td>\n      <td>0.906561</td>\n      <td>16.872360</td>\n      <td>0.803181</td>\n      <td>11.540576</td>\n      <td>0.88668</td>\n      <td>2.055651</td>\n      <td>0.765408</td>\n      <td>0.840457</td>\n    </tr>\n    <tr>\n      <th>32</th>\n      <td>CTAS</td>\n      <td>508.9400</td>\n      <td>392</td>\n      <td>0.323482</td>\n      <td>0.928429</td>\n      <td>15.451036</td>\n      <td>0.777336</td>\n      <td>4.901548</td>\n      <td>0.735586</td>\n      <td>4.715858</td>\n      <td>0.916501</td>\n      <td>0.839463</td>\n    </tr>\n    <tr>\n      <th>33</th>\n      <td>MOH</td>\n      <td>336.6950</td>\n      <td>594</td>\n      <td>0.105733</td>\n      <td>0.502982</td>\n      <td>26.462973</td>\n      <td>0.93837</td>\n      <td>18.973501</td>\n      <td>0.960239</td>\n      <td>5.217190</td>\n      <td>0.934394</td>\n      <td>0.833996</td>\n    </tr>\n    <tr>\n      <th>34</th>\n      <td>DPZ</td>\n      <td>379.3850</td>\n      <td>527</td>\n      <td>0.202099</td>\n      <td>0.862823</td>\n      <td>20.286419</td>\n      <td>0.868787</td>\n      <td>17.776135</td>\n      <td>0.954274</td>\n      <td>0.175432</td>\n      <td>0.636183</td>\n      <td>0.830517</td>\n    </tr>\n    <tr>\n      <th>35</th>\n      <td>BKNG</td>\n      <td>3035.6250</td>\n      <td>65</td>\n      <td>0.783648</td>\n      <td>0.99006</td>\n      <td>18.057065</td>\n      <td>0.83499</td>\n      <td>14.820521</td>\n      <td>0.928429</td>\n      <td>-0.536533</td>\n      <td>0.558648</td>\n      <td>0.828032</td>\n    </tr>\n    <tr>\n      <th>36</th>\n      <td>HAS</td>\n      <td>66.6262</td>\n      <td>3001</td>\n      <td>0.105733</td>\n      <td>0.502982</td>\n      <td>33.975867</td>\n      <td>0.980119</td>\n      <td>10.674746</td>\n      <td>0.870775</td>\n      <td>5.337862</td>\n      <td>0.936382</td>\n      <td>0.822565</td>\n    </tr>\n    <tr>\n      <th>37</th>\n      <td>CTSH</td>\n      <td>69.7300</td>\n      <td>2868</td>\n      <td>0.162375</td>\n      <td>0.83499</td>\n      <td>18.872984</td>\n      <td>0.850895</td>\n      <td>10.832489</td>\n      <td>0.874751</td>\n      <td>1.410706</td>\n      <td>0.725646</td>\n      <td>0.821571</td>\n    </tr>\n    <tr>\n      <th>38</th>\n      <td>DVA</td>\n      <td>103.0400</td>\n      <td>1940</td>\n      <td>0.181049</td>\n      <td>0.846918</td>\n      <td>31.764712</td>\n      <td>0.974155</td>\n      <td>5.487306</td>\n      <td>0.749503</td>\n      <td>1.128670</td>\n      <td>0.71173</td>\n      <td>0.820577</td>\n    </tr>\n    <tr>\n      <th>39</th>\n      <td>BSX</td>\n      <td>54.4550</td>\n      <td>3672</td>\n      <td>0.376590</td>\n      <td>0.950298</td>\n      <td>11.496727</td>\n      <td>0.709742</td>\n      <td>0.917351</td>\n      <td>0.622266</td>\n      <td>8.002784</td>\n      <td>0.980119</td>\n      <td>0.815606</td>\n    </tr>\n    <tr>\n      <th>40</th>\n      <td>CDW</td>\n      <td>206.0400</td>\n      <td>970</td>\n      <td>0.285047</td>\n      <td>0.902584</td>\n      <td>6.614216</td>\n      <td>0.592445</td>\n      <td>16.928019</td>\n      <td>0.946322</td>\n      <td>2.589218</td>\n      <td>0.809145</td>\n      <td>0.812624</td>\n    </tr>\n    <tr>\n      <th>41</th>\n      <td>INTU</td>\n      <td>511.9700</td>\n      <td>390</td>\n      <td>0.105733</td>\n      <td>0.502982</td>\n      <td>21.311282</td>\n      <td>0.88668</td>\n      <td>13.637272</td>\n      <td>0.914513</td>\n      <td>4.856017</td>\n      <td>0.920477</td>\n      <td>0.806163</td>\n    </tr>\n    <tr>\n      <th>42</th>\n      <td>IRM</td>\n      <td>62.0750</td>\n      <td>3221</td>\n      <td>0.105733</td>\n      <td>0.502982</td>\n      <td>21.255619</td>\n      <td>0.882704</td>\n      <td>11.782182</td>\n      <td>0.890656</td>\n      <td>6.036543</td>\n      <td>0.944334</td>\n      <td>0.805169</td>\n    </tr>\n    <tr>\n      <th>43</th>\n      <td>ETN</td>\n      <td>211.7550</td>\n      <td>944</td>\n      <td>0.588470</td>\n      <td>0.976143</td>\n      <td>28.002990</td>\n      <td>0.950298</td>\n      <td>9.113719</td>\n      <td>0.831014</td>\n      <td>-1.847131</td>\n      <td>0.455268</td>\n      <td>0.803181</td>\n    </tr>\n    <tr>\n      <th>44</th>\n      <td>PRU</td>\n      <td>97.1800</td>\n      <td>2058</td>\n      <td>0.105733</td>\n      <td>0.502982</td>\n      <td>17.865378</td>\n      <td>0.831014</td>\n      <td>13.807239</td>\n      <td>0.920477</td>\n      <td>6.545336</td>\n      <td>0.956262</td>\n      <td>0.802684</td>\n    </tr>\n    <tr>\n      <th>45</th>\n      <td>VLO</td>\n      <td>147.3500</td>\n      <td>1357</td>\n      <td>0.105733</td>\n      <td>0.502982</td>\n      <td>11.468344</td>\n      <td>0.707753</td>\n      <td>32.010395</td>\n      <td>0.996024</td>\n      <td>12.343704</td>\n      <td>0.998012</td>\n      <td>0.801193</td>\n    </tr>\n    <tr>\n      <th>46</th>\n      <td>CAH</td>\n      <td>89.7200</td>\n      <td>2229</td>\n      <td>0.328527</td>\n      <td>0.930417</td>\n      <td>25.655765</td>\n      <td>0.926441</td>\n      <td>-1.944593</td>\n      <td>0.497018</td>\n      <td>3.197606</td>\n      <td>0.850895</td>\n      <td>0.801193</td>\n    </tr>\n    <tr>\n      <th>47</th>\n      <td>SLB</td>\n      <td>58.9500</td>\n      <td>3392</td>\n      <td>0.105733</td>\n      <td>0.502982</td>\n      <td>22.100253</td>\n      <td>0.894632</td>\n      <td>23.429654</td>\n      <td>0.986083</td>\n      <td>2.628834</td>\n      <td>0.815109</td>\n      <td>0.799702</td>\n    </tr>\n    <tr>\n      <th>48</th>\n      <td>COST</td>\n      <td>557.2100</td>\n      <td>358</td>\n      <td>0.157358</td>\n      <td>0.831014</td>\n      <td>13.971114</td>\n      <td>0.751491</td>\n      <td>7.436746</td>\n      <td>0.795229</td>\n      <td>2.771083</td>\n      <td>0.819085</td>\n      <td>0.799205</td>\n    </tr>\n    <tr>\n      <th>49</th>\n      <td>AMP</td>\n      <td>339.5100</td>\n      <td>589</td>\n      <td>0.304409</td>\n      <td>0.914513</td>\n      <td>13.406821</td>\n      <td>0.735586</td>\n      <td>6.073864</td>\n      <td>0.767396</td>\n      <td>1.939655</td>\n      <td>0.759443</td>\n      <td>0.794235</td>\n    </tr>\n  </tbody>\n</table>\n</div>"
     },
     "execution_count": 33,
     "metadata": {},
     "output_type": "execute_result"
    }
   ]
  },
  {
   "cell_type": "markdown",
   "source": [
    "## Formatting Our Excel Output\n",
    "\n",
    "We will be using the XlsxWriter library for Python to create nicely-formatted Excel files.\n",
    "\n",
    "### Initializing our XlsxWriter Object"
   ],
   "metadata": {
    "collapsed": false
   }
  },
  {
   "cell_type": "code",
   "source": [
    "writer = pd.ExcelWriter('momentum_strategy.xlsx', engine='xlsxwriter')\n",
    "hqm_dataframe.to_excel(writer, sheet_name='Momentum Strategy', index=False)"
   ],
   "metadata": {
    "id": "PTpQ-4ZQCIBf",
    "ExecuteTime": {
     "end_time": "2023-09-21T18:19:18.503694046Z",
     "start_time": "2023-09-21T18:19:18.349817704Z"
    }
   },
   "execution_count": 34,
   "outputs": []
  },
  {
   "cell_type": "markdown",
   "source": [
    "## Formatting Our Excel Output"
   ],
   "metadata": {
    "collapsed": false
   }
  },
  {
   "cell_type": "code",
   "source": [
    "background_color = '#0a0a23'\n",
    "font_color = '#ffffff'\n",
    "\n",
    "string_template = writer.book.add_format(\n",
    "    {\n",
    "        'font_color': font_color,\n",
    "        'bg_color': background_color,\n",
    "        'border': 1\n",
    "    }\n",
    ")\n",
    "\n",
    "dollar_template = writer.book.add_format(\n",
    "    {\n",
    "        'num_format': '$0.00',\n",
    "        'font_color': font_color,\n",
    "        'bg_color': background_color,\n",
    "        'border': 1\n",
    "    }\n",
    ")\n",
    "\n",
    "integer_template = writer.book.add_format(\n",
    "    {\n",
    "        'num_format': '0',\n",
    "        'font_color': font_color,\n",
    "        'bg_color': background_color,\n",
    "        'border': 1\n",
    "    }\n",
    ")\n",
    "\n",
    "percent_template = writer.book.add_format(\n",
    "    {\n",
    "        'num_format': '0.0%',\n",
    "        'font_color': font_color,\n",
    "        'bg_color': background_color,\n",
    "        'border': 1\n",
    "    }\n",
    ")"
   ],
   "metadata": {
    "id": "gSIDQ8kJWsqL",
    "ExecuteTime": {
     "end_time": "2023-09-21T18:19:18.535375867Z",
     "start_time": "2023-09-21T18:19:18.367508664Z"
    }
   },
   "execution_count": 35,
   "outputs": []
  },
  {
   "cell_type": "code",
   "source": [
    "column_formats = {\n",
    "    'A': ['Ticker', string_template],\n",
    "    'B': ['Price', dollar_template],\n",
    "    'C': ['Number of Shares to Buy', integer_template],\n",
    "    'D': ['One-Year Price Return', percent_template],\n",
    "    'E': ['One-Year Return Percentile', percent_template],\n",
    "    'F': ['Six-Month Price Return', percent_template],\n",
    "    'G': ['Six-Month Return Percentile', percent_template],\n",
    "    'H': ['Three-Month Price Return', percent_template],\n",
    "    'I': ['Three-Month Return Percentile', percent_template],\n",
    "    'J': ['One-Month Price Return', percent_template],\n",
    "    'K': ['One-Month Return Percentile', percent_template],\n",
    "    'L': ['HQM Score', integer_template]\n",
    "}\n",
    "\n",
    "for column in column_formats.keys():\n",
    "    writer.sheets['Momentum Strategy'].set_column(f'{column}:{column}', 20, column_formats[column][1])\n",
    "    writer.sheets['Momentum Strategy'].write(f'{column}1', column_formats[column][0], string_template)"
   ],
   "metadata": {
    "id": "KLoK02SiW4wI",
    "ExecuteTime": {
     "end_time": "2023-09-21T18:19:18.546462256Z",
     "start_time": "2023-09-21T18:19:18.376635805Z"
    }
   },
   "execution_count": 36,
   "outputs": []
  },
  {
   "cell_type": "markdown",
   "source": [
    "## Saving Our Excel Output"
   ],
   "metadata": {
    "collapsed": false
   }
  },
  {
   "cell_type": "code",
   "source": [
    "writer.close()"
   ],
   "metadata": {
    "id": "-hdAovwqYIc3",
    "ExecuteTime": {
     "end_time": "2023-09-21T18:19:18.579929064Z",
     "start_time": "2023-09-21T18:19:18.383066739Z"
    }
   },
   "execution_count": 37,
   "outputs": []
  }
 ]
}
