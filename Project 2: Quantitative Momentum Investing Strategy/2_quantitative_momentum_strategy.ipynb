{
 "nbformat": 4,
 "nbformat_minor": 0,
 "metadata": {
  "colab": {
   "provenance": []
  },
  "kernelspec": {
   "name": "python3",
   "language": "python",
   "display_name": "Python 3 (ipykernel)"
  },
  "language_info": {
   "name": "python"
  }
 },
 "cells": [
  {
   "cell_type": "markdown",
   "source": [
    "# Quantitative Momentum Strategy\n",
    "\n",
    "\"Momentum investing\" means investing in the stocks that have increased in price the most.\n",
    "\n",
    "For this project, we're going to build an investing strategy that selects the 50 stocks with the highest price momentum. From there, we will calculate recommended trades for an equal-weight portfolio of these 50 stocks.\n",
    "\n",
    "\n",
    "## Library Imports\n",
    "\n",
    "The first thing we need to do is import the open-source software libraries that we'll be using in this tutorial."
   ],
   "metadata": {
    "collapsed": false
   }
  },
  {
   "cell_type": "code",
   "execution_count": 1,
   "metadata": {
    "id": "q3-WQbudpG4E",
    "ExecuteTime": {
     "end_time": "2023-08-04T14:46:38.532882701Z",
     "start_time": "2023-08-04T14:46:37.432565826Z"
    }
   },
   "outputs": [],
   "source": [
    "import numpy as np\n",
    "import yfinance as yf\n",
    "import pandas as pd\n",
    "import math\n",
    "from scipy.stats import percentileofscore as score\n",
    "from statistics import mean\n",
    "from IPython.display import clear_output"
   ]
  },
  {
   "cell_type": "markdown",
   "source": [
    "## Importing Our List of Stocks\n",
    "\n",
    "The next thing we need to do is import the constituents of the S&P 500.\n",
    "\n",
    "These constituents change over time, so in an ideal world you would connect directly to the index provider (Standard & Poor's) and pull their real-time constituents on a regular basis. But, here we have just taken a list of ~500 stocks in a CSV file taken at the time of building the project.\n",
    "\n",
    "Now it's time to import these stocks to our Jupyter Notebook file."
   ],
   "metadata": {
    "collapsed": false
   }
  },
  {
   "cell_type": "code",
   "source": [
    "stocks = pd.read_csv('sp500.csv')\n",
    "stocks"
   ],
   "metadata": {
    "colab": {
     "base_uri": "https://localhost:8080/",
     "height": 424
    },
    "id": "-iAHKs_6p0gP",
    "outputId": "64813494-bda2-4f98-8f17-06a27155dcbb",
    "ExecuteTime": {
     "end_time": "2023-08-04T14:46:38.553670774Z",
     "start_time": "2023-08-04T14:46:38.537344351Z"
    }
   },
   "execution_count": 2,
   "outputs": [
    {
     "data": {
      "text/plain": "    Ticker\n0        A\n1      AAL\n2      AAP\n3     AAPL\n4     ABBV\n..     ...\n498    YUM\n499    ZBH\n500   ZBRA\n501   ZION\n502    ZTS\n\n[503 rows x 1 columns]",
      "text/html": "<div>\n<style scoped>\n    .dataframe tbody tr th:only-of-type {\n        vertical-align: middle;\n    }\n\n    .dataframe tbody tr th {\n        vertical-align: top;\n    }\n\n    .dataframe thead th {\n        text-align: right;\n    }\n</style>\n<table border=\"1\" class=\"dataframe\">\n  <thead>\n    <tr style=\"text-align: right;\">\n      <th></th>\n      <th>Ticker</th>\n    </tr>\n  </thead>\n  <tbody>\n    <tr>\n      <th>0</th>\n      <td>A</td>\n    </tr>\n    <tr>\n      <th>1</th>\n      <td>AAL</td>\n    </tr>\n    <tr>\n      <th>2</th>\n      <td>AAP</td>\n    </tr>\n    <tr>\n      <th>3</th>\n      <td>AAPL</td>\n    </tr>\n    <tr>\n      <th>4</th>\n      <td>ABBV</td>\n    </tr>\n    <tr>\n      <th>...</th>\n      <td>...</td>\n    </tr>\n    <tr>\n      <th>498</th>\n      <td>YUM</td>\n    </tr>\n    <tr>\n      <th>499</th>\n      <td>ZBH</td>\n    </tr>\n    <tr>\n      <th>500</th>\n      <td>ZBRA</td>\n    </tr>\n    <tr>\n      <th>501</th>\n      <td>ZION</td>\n    </tr>\n    <tr>\n      <th>502</th>\n      <td>ZTS</td>\n    </tr>\n  </tbody>\n</table>\n<p>503 rows × 1 columns</p>\n</div>"
     },
     "execution_count": 2,
     "metadata": {},
     "output_type": "execute_result"
    }
   ]
  },
  {
   "cell_type": "markdown",
   "source": [
    "## Adding Our Stocks Data to a Pandas DataFrame\n",
    "\n",
    "The next thing we need to do is add our stock's price and market capitalization to a pandas DataFrame."
   ],
   "metadata": {
    "collapsed": false
   }
  },
  {
   "cell_type": "code",
   "source": [
    "my_columns = ['Ticker', 'Stock Price', '1 Year Return', 'Number of Shares to Buy']\n",
    "final_dataframe = pd.DataFrame(columns=my_columns)\n",
    "final_dataframe"
   ],
   "metadata": {
    "colab": {
     "base_uri": "https://localhost:8080/",
     "height": 49
    },
    "id": "dUUIKJDjqaiV",
    "outputId": "e9cba3d3-8459-438c-9722-39ed7c1eacb7",
    "ExecuteTime": {
     "end_time": "2023-08-04T14:46:38.579510074Z",
     "start_time": "2023-08-04T14:46:38.561759148Z"
    }
   },
   "execution_count": 3,
   "outputs": [
    {
     "data": {
      "text/plain": "Empty DataFrame\nColumns: [Ticker, Stock Price, 1 Year Return, Number of Shares to Buy]\nIndex: []",
      "text/html": "<div>\n<style scoped>\n    .dataframe tbody tr th:only-of-type {\n        vertical-align: middle;\n    }\n\n    .dataframe tbody tr th {\n        vertical-align: top;\n    }\n\n    .dataframe thead th {\n        text-align: right;\n    }\n</style>\n<table border=\"1\" class=\"dataframe\">\n  <thead>\n    <tr style=\"text-align: right;\">\n      <th></th>\n      <th>Ticker</th>\n      <th>Stock Price</th>\n      <th>1 Year Return</th>\n      <th>Number of Shares to Buy</th>\n    </tr>\n  </thead>\n  <tbody>\n  </tbody>\n</table>\n</div>"
     },
     "execution_count": 3,
     "metadata": {},
     "output_type": "execute_result"
    }
   ]
  },
  {
   "cell_type": "markdown",
   "source": [
    "## Looping Through The Tickers in Our List of Stocks\n",
    "\n",
    "Here to fetch the stock data, we have used `yfinance` API\n",
    "\n",
    "We can pull data for all S&P 500 stocks and store their data in the DataFrame using a `for` loop."
   ],
   "metadata": {
    "collapsed": false
   }
  },
  {
   "cell_type": "code",
   "source": [
    "for stock in stocks['Ticker']:\n",
    "    data = yf.Ticker(stock).info\n",
    "    try:\n",
    "        yr1Return = data['52WeekChange']\n",
    "    except:\n",
    "        yr1Return = np.NaN\n",
    "    stock_dict = {\n",
    "        'Ticker': [stock],\n",
    "        'Stock Price': [data['currentPrice']],\n",
    "        '1 Year Return': [yr1Return],\n",
    "        'Number of Shares to Buy': ['N/A']\n",
    "    }\n",
    "    df = pd.DataFrame(stock_dict)\n",
    "    final_dataframe = pd.concat([final_dataframe, df], ignore_index=True)\n",
    "\n",
    "    clear_output(wait=True)\n",
    "    print(final_dataframe)"
   ],
   "metadata": {
    "colab": {
     "base_uri": "https://localhost:8080/"
    },
    "id": "OQbNxdVvqd29",
    "outputId": "072e34fe-d425-4e2e-9dbb-7169bc59e824"
   },
   "execution_count": 4,
   "outputs": [
    {
     "name": "stdout",
     "output_type": "stream",
     "text": [
      "    Ticker  Stock Price  1 Year Return Number of Shares to Buy\n",
      "0        A      126.065      -0.064067                     N/A\n",
      "1      AAL       16.025       0.084125                     N/A\n",
      "2      AAP       71.730      -0.627598                     N/A\n",
      "3     AAPL      185.255       0.156154                     N/A\n",
      "4     ABBV      149.445       0.079759                     N/A\n",
      "..     ...          ...            ...                     ...\n",
      "498    YUM      135.800       0.145246                     N/A\n",
      "499    ZBH      127.335       0.110630                     N/A\n",
      "500   ZBRA      250.675      -0.247664                     N/A\n",
      "501   ZION       37.930      -0.307222                     N/A\n",
      "502    ZTS      180.885       0.035909                     N/A\n",
      "\n",
      "[503 rows x 4 columns]\n"
     ]
    }
   ]
  },
  {
   "cell_type": "code",
   "source": [
    "final_dataframe"
   ],
   "metadata": {
    "colab": {
     "base_uri": "https://localhost:8080/",
     "height": 687
    },
    "id": "p0tO7FzXq3fy",
    "outputId": "c59b35a6-9e29-4764-9e31-398ae7bb094e",
    "ExecuteTime": {
     "end_time": "2023-08-04T14:53:15.098811936Z",
     "start_time": "2023-08-04T14:53:15.074797437Z"
    }
   },
   "execution_count": 5,
   "outputs": [
    {
     "data": {
      "text/plain": "    Ticker  Stock Price  1 Year Return Number of Shares to Buy\n0        A      126.065      -0.064067                     N/A\n1      AAL       16.025       0.084125                     N/A\n2      AAP       71.730      -0.627598                     N/A\n3     AAPL      185.255       0.156154                     N/A\n4     ABBV      149.445       0.079759                     N/A\n..     ...          ...            ...                     ...\n498    YUM      135.800       0.145246                     N/A\n499    ZBH      127.335       0.110630                     N/A\n500   ZBRA      250.675      -0.247664                     N/A\n501   ZION       37.930      -0.307222                     N/A\n502    ZTS      180.885       0.035909                     N/A\n\n[503 rows x 4 columns]",
      "text/html": "<div>\n<style scoped>\n    .dataframe tbody tr th:only-of-type {\n        vertical-align: middle;\n    }\n\n    .dataframe tbody tr th {\n        vertical-align: top;\n    }\n\n    .dataframe thead th {\n        text-align: right;\n    }\n</style>\n<table border=\"1\" class=\"dataframe\">\n  <thead>\n    <tr style=\"text-align: right;\">\n      <th></th>\n      <th>Ticker</th>\n      <th>Stock Price</th>\n      <th>1 Year Return</th>\n      <th>Number of Shares to Buy</th>\n    </tr>\n  </thead>\n  <tbody>\n    <tr>\n      <th>0</th>\n      <td>A</td>\n      <td>126.065</td>\n      <td>-0.064067</td>\n      <td>N/A</td>\n    </tr>\n    <tr>\n      <th>1</th>\n      <td>AAL</td>\n      <td>16.025</td>\n      <td>0.084125</td>\n      <td>N/A</td>\n    </tr>\n    <tr>\n      <th>2</th>\n      <td>AAP</td>\n      <td>71.730</td>\n      <td>-0.627598</td>\n      <td>N/A</td>\n    </tr>\n    <tr>\n      <th>3</th>\n      <td>AAPL</td>\n      <td>185.255</td>\n      <td>0.156154</td>\n      <td>N/A</td>\n    </tr>\n    <tr>\n      <th>4</th>\n      <td>ABBV</td>\n      <td>149.445</td>\n      <td>0.079759</td>\n      <td>N/A</td>\n    </tr>\n    <tr>\n      <th>...</th>\n      <td>...</td>\n      <td>...</td>\n      <td>...</td>\n      <td>...</td>\n    </tr>\n    <tr>\n      <th>498</th>\n      <td>YUM</td>\n      <td>135.800</td>\n      <td>0.145246</td>\n      <td>N/A</td>\n    </tr>\n    <tr>\n      <th>499</th>\n      <td>ZBH</td>\n      <td>127.335</td>\n      <td>0.110630</td>\n      <td>N/A</td>\n    </tr>\n    <tr>\n      <th>500</th>\n      <td>ZBRA</td>\n      <td>250.675</td>\n      <td>-0.247664</td>\n      <td>N/A</td>\n    </tr>\n    <tr>\n      <th>501</th>\n      <td>ZION</td>\n      <td>37.930</td>\n      <td>-0.307222</td>\n      <td>N/A</td>\n    </tr>\n    <tr>\n      <th>502</th>\n      <td>ZTS</td>\n      <td>180.885</td>\n      <td>0.035909</td>\n      <td>N/A</td>\n    </tr>\n  </tbody>\n</table>\n<p>503 rows × 4 columns</p>\n</div>"
     },
     "execution_count": 5,
     "metadata": {},
     "output_type": "execute_result"
    }
   ]
  },
  {
   "cell_type": "code",
   "execution_count": 6,
   "outputs": [
    {
     "data": {
      "text/plain": "   Ticker  Stock Price  1 Year Return Number of Shares to Buy\n80    CAT      280.385            NaN                     N/A",
      "text/html": "<div>\n<style scoped>\n    .dataframe tbody tr th:only-of-type {\n        vertical-align: middle;\n    }\n\n    .dataframe tbody tr th {\n        vertical-align: top;\n    }\n\n    .dataframe thead th {\n        text-align: right;\n    }\n</style>\n<table border=\"1\" class=\"dataframe\">\n  <thead>\n    <tr style=\"text-align: right;\">\n      <th></th>\n      <th>Ticker</th>\n      <th>Stock Price</th>\n      <th>1 Year Return</th>\n      <th>Number of Shares to Buy</th>\n    </tr>\n  </thead>\n  <tbody>\n    <tr>\n      <th>80</th>\n      <td>CAT</td>\n      <td>280.385</td>\n      <td>NaN</td>\n      <td>N/A</td>\n    </tr>\n  </tbody>\n</table>\n</div>"
     },
     "execution_count": 6,
     "metadata": {},
     "output_type": "execute_result"
    }
   ],
   "source": [
    "final_dataframe[final_dataframe.isnull().any(axis=1)]"
   ],
   "metadata": {
    "collapsed": false,
    "ExecuteTime": {
     "end_time": "2023-08-04T14:53:15.258850468Z",
     "start_time": "2023-08-04T14:53:15.088318312Z"
    }
   }
  },
  {
   "cell_type": "markdown",
   "source": [
    "Filling the `NULL` cells of the `1 Year Return` column with mean value"
   ],
   "metadata": {
    "collapsed": false
   }
  },
  {
   "cell_type": "code",
   "execution_count": 7,
   "outputs": [],
   "source": [
    "final_dataframe['1 Year Return'].fillna(final_dataframe['1 Year Return'].mean(), inplace=True)"
   ],
   "metadata": {
    "collapsed": false,
    "ExecuteTime": {
     "end_time": "2023-08-04T14:53:15.259778289Z",
     "start_time": "2023-08-04T14:53:15.136336632Z"
    }
   }
  },
  {
   "cell_type": "code",
   "execution_count": 8,
   "outputs": [
    {
     "data": {
      "text/plain": "Empty DataFrame\nColumns: [Ticker, Stock Price, 1 Year Return, Number of Shares to Buy]\nIndex: []",
      "text/html": "<div>\n<style scoped>\n    .dataframe tbody tr th:only-of-type {\n        vertical-align: middle;\n    }\n\n    .dataframe tbody tr th {\n        vertical-align: top;\n    }\n\n    .dataframe thead th {\n        text-align: right;\n    }\n</style>\n<table border=\"1\" class=\"dataframe\">\n  <thead>\n    <tr style=\"text-align: right;\">\n      <th></th>\n      <th>Ticker</th>\n      <th>Stock Price</th>\n      <th>1 Year Return</th>\n      <th>Number of Shares to Buy</th>\n    </tr>\n  </thead>\n  <tbody>\n  </tbody>\n</table>\n</div>"
     },
     "execution_count": 8,
     "metadata": {},
     "output_type": "execute_result"
    }
   ],
   "source": [
    "final_dataframe[final_dataframe.isnull().any(axis=1)]"
   ],
   "metadata": {
    "collapsed": false,
    "ExecuteTime": {
     "end_time": "2023-08-04T14:53:15.261235192Z",
     "start_time": "2023-08-04T14:53:15.136641365Z"
    }
   }
  },
  {
   "cell_type": "code",
   "execution_count": 9,
   "outputs": [
    {
     "data": {
      "text/plain": "    Ticker  Stock Price  1 Year Return Number of Shares to Buy\n0        A      126.065      -0.064067                     N/A\n1      AAL       16.025       0.084125                     N/A\n2      AAP       71.730      -0.627598                     N/A\n3     AAPL      185.255       0.156154                     N/A\n4     ABBV      149.445       0.079759                     N/A\n..     ...          ...            ...                     ...\n498    YUM      135.800       0.145246                     N/A\n499    ZBH      127.335       0.110630                     N/A\n500   ZBRA      250.675      -0.247664                     N/A\n501   ZION       37.930      -0.307222                     N/A\n502    ZTS      180.885       0.035909                     N/A\n\n[503 rows x 4 columns]",
      "text/html": "<div>\n<style scoped>\n    .dataframe tbody tr th:only-of-type {\n        vertical-align: middle;\n    }\n\n    .dataframe tbody tr th {\n        vertical-align: top;\n    }\n\n    .dataframe thead th {\n        text-align: right;\n    }\n</style>\n<table border=\"1\" class=\"dataframe\">\n  <thead>\n    <tr style=\"text-align: right;\">\n      <th></th>\n      <th>Ticker</th>\n      <th>Stock Price</th>\n      <th>1 Year Return</th>\n      <th>Number of Shares to Buy</th>\n    </tr>\n  </thead>\n  <tbody>\n    <tr>\n      <th>0</th>\n      <td>A</td>\n      <td>126.065</td>\n      <td>-0.064067</td>\n      <td>N/A</td>\n    </tr>\n    <tr>\n      <th>1</th>\n      <td>AAL</td>\n      <td>16.025</td>\n      <td>0.084125</td>\n      <td>N/A</td>\n    </tr>\n    <tr>\n      <th>2</th>\n      <td>AAP</td>\n      <td>71.730</td>\n      <td>-0.627598</td>\n      <td>N/A</td>\n    </tr>\n    <tr>\n      <th>3</th>\n      <td>AAPL</td>\n      <td>185.255</td>\n      <td>0.156154</td>\n      <td>N/A</td>\n    </tr>\n    <tr>\n      <th>4</th>\n      <td>ABBV</td>\n      <td>149.445</td>\n      <td>0.079759</td>\n      <td>N/A</td>\n    </tr>\n    <tr>\n      <th>...</th>\n      <td>...</td>\n      <td>...</td>\n      <td>...</td>\n      <td>...</td>\n    </tr>\n    <tr>\n      <th>498</th>\n      <td>YUM</td>\n      <td>135.800</td>\n      <td>0.145246</td>\n      <td>N/A</td>\n    </tr>\n    <tr>\n      <th>499</th>\n      <td>ZBH</td>\n      <td>127.335</td>\n      <td>0.110630</td>\n      <td>N/A</td>\n    </tr>\n    <tr>\n      <th>500</th>\n      <td>ZBRA</td>\n      <td>250.675</td>\n      <td>-0.247664</td>\n      <td>N/A</td>\n    </tr>\n    <tr>\n      <th>501</th>\n      <td>ZION</td>\n      <td>37.930</td>\n      <td>-0.307222</td>\n      <td>N/A</td>\n    </tr>\n    <tr>\n      <th>502</th>\n      <td>ZTS</td>\n      <td>180.885</td>\n      <td>0.035909</td>\n      <td>N/A</td>\n    </tr>\n  </tbody>\n</table>\n<p>503 rows × 4 columns</p>\n</div>"
     },
     "execution_count": 9,
     "metadata": {},
     "output_type": "execute_result"
    }
   ],
   "source": [
    "final_dataframe"
   ],
   "metadata": {
    "collapsed": false,
    "ExecuteTime": {
     "end_time": "2023-08-04T14:53:15.295246330Z",
     "start_time": "2023-08-04T14:53:15.136922344Z"
    }
   }
  },
  {
   "cell_type": "markdown",
   "source": [
    "## Removing Low-Momentum Stocks\n",
    "\n",
    "The investment strategy that we're building seeks to identify the 50 highest-momentum stocks in the S&P 500.\n",
    "\n",
    "Because of this, the next thing we need to do is remove all the stocks in our DataFrame that fall below this momentum threshold. We'll sort the DataFrame by the stocks' one-year price return, and drop all stocks outside the top 50."
   ],
   "metadata": {
    "collapsed": false
   }
  },
  {
   "cell_type": "code",
   "source": [
    "final_dataframe.sort_values('1 Year Return', ascending=False, inplace=True)"
   ],
   "metadata": {
    "id": "Q87eeDwMvIEy",
    "ExecuteTime": {
     "end_time": "2023-08-04T14:53:15.295861046Z",
     "start_time": "2023-08-04T14:53:15.180292505Z"
    }
   },
   "execution_count": 10,
   "outputs": []
  },
  {
   "cell_type": "code",
   "source": [
    "final_dataframe = final_dataframe[:50]\n",
    "final_dataframe.reset_index(drop=True, inplace=True)"
   ],
   "metadata": {
    "id": "0CG3ZGGHvOdY",
    "ExecuteTime": {
     "end_time": "2023-08-04T14:53:15.296265201Z",
     "start_time": "2023-08-04T14:53:15.180643911Z"
    }
   },
   "execution_count": 11,
   "outputs": []
  },
  {
   "cell_type": "code",
   "source": [
    "final_dataframe"
   ],
   "metadata": {
    "colab": {
     "base_uri": "https://localhost:8080/",
     "height": 687
    },
    "id": "M4TtGwp-vQir",
    "outputId": "709bb4b5-2397-4c2f-a357-5b542a2662ae",
    "ExecuteTime": {
     "end_time": "2023-08-04T14:53:15.299118623Z",
     "start_time": "2023-08-04T14:53:15.180852761Z"
    }
   },
   "execution_count": 12,
   "outputs": [
    {
     "data": {
      "text/plain": "   Ticker  Stock Price  1 Year Return Number of Shares to Buy\n0     RCL     104.8000       1.639778                     N/A\n1    NVDA     449.1950       1.344252                     N/A\n2      GE     112.4915       0.935626                     N/A\n3    FSLR     199.0500       0.925810                     N/A\n4     PHM      83.8700       0.921897                     N/A\n5    NFLX     431.1700       0.900520                     N/A\n6    META     313.4100       0.874155                     N/A\n7     CCL      17.4750       0.788187                     N/A\n8    FICO     840.8050       0.772504                     N/A\n9    ACGL      77.1600       0.766492                     N/A\n10    SLB      58.3650       0.672822                     N/A\n11    DHI     125.7150       0.612967                     N/A\n12   AVGO     880.5100       0.604853                     N/A\n13   WYNN     106.1100       0.583121                     N/A\n14    PCG      17.2050       0.553860                     N/A\n15    CAH      92.2100       0.524468                     N/A\n16   AXON     180.9000       0.522917                     N/A\n17     ON     102.7200       0.518557                     N/A\n18    LVS      58.5100       0.513422                     N/A\n19    MPC     139.7600       0.509865                     N/A\n20    LLY     447.7200       0.490641                     N/A\n21    PWR     202.7750       0.485209                     N/A\n22    BKR      35.7500       0.481712                     N/A\n23   ORCL     115.1750       0.480931                     N/A\n24    HES     153.8400       0.476723                     N/A\n25   BKNG    3095.8400       0.475301                     N/A\n26    ETN     217.8800       0.460478                     N/A\n27    LEN     125.5994       0.447421                     N/A\n28    URI     467.9250       0.437714                     N/A\n29    NVR    6296.5490       0.433121                     N/A\n30    HAL      39.8000       0.428212                     N/A\n31     PH     419.0060       0.428113                     N/A\n32    FCX      42.8950       0.422200                     N/A\n33   PANW     216.0800       0.420807                     N/A\n34   FTNT      57.3050       0.418992                     N/A\n35     EG     361.2800       0.417117                     N/A\n36    PNR      69.4600       0.412424                     N/A\n37   ANET     179.8076       0.403221                     N/A\n38    TDG     912.9800       0.403071                     N/A\n39     BA     232.8400       0.401842                     N/A\n40   PCAR      84.6053       0.397290                     N/A\n41   CARR      57.6600       0.387297                     N/A\n42   NCLH      18.3650       0.383800                     N/A\n43   CPRT      89.5950       0.382294                     N/A\n44    UAL      52.4708       0.379164                     N/A\n45   DXCM     122.0000       0.370187                     N/A\n46    TJX      86.1300       0.369309                     N/A\n47   ODFL     406.9850       0.362404                     N/A\n48    CEG     102.9600       0.361238                     N/A\n49    ABC     186.7550       0.354186                     N/A",
      "text/html": "<div>\n<style scoped>\n    .dataframe tbody tr th:only-of-type {\n        vertical-align: middle;\n    }\n\n    .dataframe tbody tr th {\n        vertical-align: top;\n    }\n\n    .dataframe thead th {\n        text-align: right;\n    }\n</style>\n<table border=\"1\" class=\"dataframe\">\n  <thead>\n    <tr style=\"text-align: right;\">\n      <th></th>\n      <th>Ticker</th>\n      <th>Stock Price</th>\n      <th>1 Year Return</th>\n      <th>Number of Shares to Buy</th>\n    </tr>\n  </thead>\n  <tbody>\n    <tr>\n      <th>0</th>\n      <td>RCL</td>\n      <td>104.8000</td>\n      <td>1.639778</td>\n      <td>N/A</td>\n    </tr>\n    <tr>\n      <th>1</th>\n      <td>NVDA</td>\n      <td>449.1950</td>\n      <td>1.344252</td>\n      <td>N/A</td>\n    </tr>\n    <tr>\n      <th>2</th>\n      <td>GE</td>\n      <td>112.4915</td>\n      <td>0.935626</td>\n      <td>N/A</td>\n    </tr>\n    <tr>\n      <th>3</th>\n      <td>FSLR</td>\n      <td>199.0500</td>\n      <td>0.925810</td>\n      <td>N/A</td>\n    </tr>\n    <tr>\n      <th>4</th>\n      <td>PHM</td>\n      <td>83.8700</td>\n      <td>0.921897</td>\n      <td>N/A</td>\n    </tr>\n    <tr>\n      <th>5</th>\n      <td>NFLX</td>\n      <td>431.1700</td>\n      <td>0.900520</td>\n      <td>N/A</td>\n    </tr>\n    <tr>\n      <th>6</th>\n      <td>META</td>\n      <td>313.4100</td>\n      <td>0.874155</td>\n      <td>N/A</td>\n    </tr>\n    <tr>\n      <th>7</th>\n      <td>CCL</td>\n      <td>17.4750</td>\n      <td>0.788187</td>\n      <td>N/A</td>\n    </tr>\n    <tr>\n      <th>8</th>\n      <td>FICO</td>\n      <td>840.8050</td>\n      <td>0.772504</td>\n      <td>N/A</td>\n    </tr>\n    <tr>\n      <th>9</th>\n      <td>ACGL</td>\n      <td>77.1600</td>\n      <td>0.766492</td>\n      <td>N/A</td>\n    </tr>\n    <tr>\n      <th>10</th>\n      <td>SLB</td>\n      <td>58.3650</td>\n      <td>0.672822</td>\n      <td>N/A</td>\n    </tr>\n    <tr>\n      <th>11</th>\n      <td>DHI</td>\n      <td>125.7150</td>\n      <td>0.612967</td>\n      <td>N/A</td>\n    </tr>\n    <tr>\n      <th>12</th>\n      <td>AVGO</td>\n      <td>880.5100</td>\n      <td>0.604853</td>\n      <td>N/A</td>\n    </tr>\n    <tr>\n      <th>13</th>\n      <td>WYNN</td>\n      <td>106.1100</td>\n      <td>0.583121</td>\n      <td>N/A</td>\n    </tr>\n    <tr>\n      <th>14</th>\n      <td>PCG</td>\n      <td>17.2050</td>\n      <td>0.553860</td>\n      <td>N/A</td>\n    </tr>\n    <tr>\n      <th>15</th>\n      <td>CAH</td>\n      <td>92.2100</td>\n      <td>0.524468</td>\n      <td>N/A</td>\n    </tr>\n    <tr>\n      <th>16</th>\n      <td>AXON</td>\n      <td>180.9000</td>\n      <td>0.522917</td>\n      <td>N/A</td>\n    </tr>\n    <tr>\n      <th>17</th>\n      <td>ON</td>\n      <td>102.7200</td>\n      <td>0.518557</td>\n      <td>N/A</td>\n    </tr>\n    <tr>\n      <th>18</th>\n      <td>LVS</td>\n      <td>58.5100</td>\n      <td>0.513422</td>\n      <td>N/A</td>\n    </tr>\n    <tr>\n      <th>19</th>\n      <td>MPC</td>\n      <td>139.7600</td>\n      <td>0.509865</td>\n      <td>N/A</td>\n    </tr>\n    <tr>\n      <th>20</th>\n      <td>LLY</td>\n      <td>447.7200</td>\n      <td>0.490641</td>\n      <td>N/A</td>\n    </tr>\n    <tr>\n      <th>21</th>\n      <td>PWR</td>\n      <td>202.7750</td>\n      <td>0.485209</td>\n      <td>N/A</td>\n    </tr>\n    <tr>\n      <th>22</th>\n      <td>BKR</td>\n      <td>35.7500</td>\n      <td>0.481712</td>\n      <td>N/A</td>\n    </tr>\n    <tr>\n      <th>23</th>\n      <td>ORCL</td>\n      <td>115.1750</td>\n      <td>0.480931</td>\n      <td>N/A</td>\n    </tr>\n    <tr>\n      <th>24</th>\n      <td>HES</td>\n      <td>153.8400</td>\n      <td>0.476723</td>\n      <td>N/A</td>\n    </tr>\n    <tr>\n      <th>25</th>\n      <td>BKNG</td>\n      <td>3095.8400</td>\n      <td>0.475301</td>\n      <td>N/A</td>\n    </tr>\n    <tr>\n      <th>26</th>\n      <td>ETN</td>\n      <td>217.8800</td>\n      <td>0.460478</td>\n      <td>N/A</td>\n    </tr>\n    <tr>\n      <th>27</th>\n      <td>LEN</td>\n      <td>125.5994</td>\n      <td>0.447421</td>\n      <td>N/A</td>\n    </tr>\n    <tr>\n      <th>28</th>\n      <td>URI</td>\n      <td>467.9250</td>\n      <td>0.437714</td>\n      <td>N/A</td>\n    </tr>\n    <tr>\n      <th>29</th>\n      <td>NVR</td>\n      <td>6296.5490</td>\n      <td>0.433121</td>\n      <td>N/A</td>\n    </tr>\n    <tr>\n      <th>30</th>\n      <td>HAL</td>\n      <td>39.8000</td>\n      <td>0.428212</td>\n      <td>N/A</td>\n    </tr>\n    <tr>\n      <th>31</th>\n      <td>PH</td>\n      <td>419.0060</td>\n      <td>0.428113</td>\n      <td>N/A</td>\n    </tr>\n    <tr>\n      <th>32</th>\n      <td>FCX</td>\n      <td>42.8950</td>\n      <td>0.422200</td>\n      <td>N/A</td>\n    </tr>\n    <tr>\n      <th>33</th>\n      <td>PANW</td>\n      <td>216.0800</td>\n      <td>0.420807</td>\n      <td>N/A</td>\n    </tr>\n    <tr>\n      <th>34</th>\n      <td>FTNT</td>\n      <td>57.3050</td>\n      <td>0.418992</td>\n      <td>N/A</td>\n    </tr>\n    <tr>\n      <th>35</th>\n      <td>EG</td>\n      <td>361.2800</td>\n      <td>0.417117</td>\n      <td>N/A</td>\n    </tr>\n    <tr>\n      <th>36</th>\n      <td>PNR</td>\n      <td>69.4600</td>\n      <td>0.412424</td>\n      <td>N/A</td>\n    </tr>\n    <tr>\n      <th>37</th>\n      <td>ANET</td>\n      <td>179.8076</td>\n      <td>0.403221</td>\n      <td>N/A</td>\n    </tr>\n    <tr>\n      <th>38</th>\n      <td>TDG</td>\n      <td>912.9800</td>\n      <td>0.403071</td>\n      <td>N/A</td>\n    </tr>\n    <tr>\n      <th>39</th>\n      <td>BA</td>\n      <td>232.8400</td>\n      <td>0.401842</td>\n      <td>N/A</td>\n    </tr>\n    <tr>\n      <th>40</th>\n      <td>PCAR</td>\n      <td>84.6053</td>\n      <td>0.397290</td>\n      <td>N/A</td>\n    </tr>\n    <tr>\n      <th>41</th>\n      <td>CARR</td>\n      <td>57.6600</td>\n      <td>0.387297</td>\n      <td>N/A</td>\n    </tr>\n    <tr>\n      <th>42</th>\n      <td>NCLH</td>\n      <td>18.3650</td>\n      <td>0.383800</td>\n      <td>N/A</td>\n    </tr>\n    <tr>\n      <th>43</th>\n      <td>CPRT</td>\n      <td>89.5950</td>\n      <td>0.382294</td>\n      <td>N/A</td>\n    </tr>\n    <tr>\n      <th>44</th>\n      <td>UAL</td>\n      <td>52.4708</td>\n      <td>0.379164</td>\n      <td>N/A</td>\n    </tr>\n    <tr>\n      <th>45</th>\n      <td>DXCM</td>\n      <td>122.0000</td>\n      <td>0.370187</td>\n      <td>N/A</td>\n    </tr>\n    <tr>\n      <th>46</th>\n      <td>TJX</td>\n      <td>86.1300</td>\n      <td>0.369309</td>\n      <td>N/A</td>\n    </tr>\n    <tr>\n      <th>47</th>\n      <td>ODFL</td>\n      <td>406.9850</td>\n      <td>0.362404</td>\n      <td>N/A</td>\n    </tr>\n    <tr>\n      <th>48</th>\n      <td>CEG</td>\n      <td>102.9600</td>\n      <td>0.361238</td>\n      <td>N/A</td>\n    </tr>\n    <tr>\n      <th>49</th>\n      <td>ABC</td>\n      <td>186.7550</td>\n      <td>0.354186</td>\n      <td>N/A</td>\n    </tr>\n  </tbody>\n</table>\n</div>"
     },
     "execution_count": 12,
     "metadata": {},
     "output_type": "execute_result"
    }
   ]
  },
  {
   "cell_type": "markdown",
   "source": [
    "## Calculating the Number of Shares to Buy\n",
    "\n",
    "As we can see in the DataFrame above, we stil haven't calculated the number of shares of each stock to buy."
   ],
   "metadata": {
    "collapsed": false
   }
  },
  {
   "cell_type": "code",
   "source": [
    "# portfolio_size = float(input(\"Enter your portfolio value: \"))\n",
    "portfolio_size = 10000000\n",
    "portfolio_size"
   ],
   "metadata": {
    "colab": {
     "base_uri": "https://localhost:8080/"
    },
    "id": "g1l9P_AEvSzg",
    "outputId": "7c518488-c4a0-4a69-b5fb-c560f1754ec8",
    "ExecuteTime": {
     "end_time": "2023-08-04T14:53:15.413814876Z",
     "start_time": "2023-08-04T14:53:15.189538551Z"
    }
   },
   "execution_count": 13,
   "outputs": [
    {
     "data": {
      "text/plain": "10000000"
     },
     "execution_count": 13,
     "metadata": {},
     "output_type": "execute_result"
    }
   ]
  },
  {
   "cell_type": "code",
   "source": [
    "position_size = float(portfolio_size) / len(final_dataframe.index)\n",
    "position_size"
   ],
   "metadata": {
    "colab": {
     "base_uri": "https://localhost:8080/"
    },
    "id": "2Kr2o8OyvbEP",
    "outputId": "941fbf39-82b9-4868-d6ff-effa56bc8f96",
    "ExecuteTime": {
     "end_time": "2023-08-04T14:53:15.414568143Z",
     "start_time": "2023-08-04T14:53:15.236293816Z"
    }
   },
   "execution_count": 14,
   "outputs": [
    {
     "data": {
      "text/plain": "200000.0"
     },
     "execution_count": 14,
     "metadata": {},
     "output_type": "execute_result"
    }
   ]
  },
  {
   "cell_type": "code",
   "source": [
    "for i in range(len(final_dataframe.index)):\n",
    "    final_dataframe.loc[i, 'Number of Shares to Buy'] = math.floor(\n",
    "        position_size / final_dataframe.loc[i, 'Stock Price'])\n",
    "\n",
    "final_dataframe"
   ],
   "metadata": {
    "colab": {
     "base_uri": "https://localhost:8080/",
     "height": 1000
    },
    "id": "24XzkU0EvdOb",
    "outputId": "5e87f3a8-c797-4117-dc33-28a2b40ce030",
    "ExecuteTime": {
     "end_time": "2023-08-04T14:53:15.500702649Z",
     "start_time": "2023-08-04T14:53:15.236482699Z"
    }
   },
   "execution_count": 15,
   "outputs": [
    {
     "data": {
      "text/plain": "   Ticker  Stock Price  1 Year Return Number of Shares to Buy\n0     RCL     104.8000       1.639778                    1908\n1    NVDA     449.1950       1.344252                     445\n2      GE     112.4915       0.935626                    1777\n3    FSLR     199.0500       0.925810                    1004\n4     PHM      83.8700       0.921897                    2384\n5    NFLX     431.1700       0.900520                     463\n6    META     313.4100       0.874155                     638\n7     CCL      17.4750       0.788187                   11444\n8    FICO     840.8050       0.772504                     237\n9    ACGL      77.1600       0.766492                    2592\n10    SLB      58.3650       0.672822                    3426\n11    DHI     125.7150       0.612967                    1590\n12   AVGO     880.5100       0.604853                     227\n13   WYNN     106.1100       0.583121                    1884\n14    PCG      17.2050       0.553860                   11624\n15    CAH      92.2100       0.524468                    2168\n16   AXON     180.9000       0.522917                    1105\n17     ON     102.7200       0.518557                    1947\n18    LVS      58.5100       0.513422                    3418\n19    MPC     139.7600       0.509865                    1431\n20    LLY     447.7200       0.490641                     446\n21    PWR     202.7750       0.485209                     986\n22    BKR      35.7500       0.481712                    5594\n23   ORCL     115.1750       0.480931                    1736\n24    HES     153.8400       0.476723                    1300\n25   BKNG    3095.8400       0.475301                      64\n26    ETN     217.8800       0.460478                     917\n27    LEN     125.5994       0.447421                    1592\n28    URI     467.9250       0.437714                     427\n29    NVR    6296.5490       0.433121                      31\n30    HAL      39.8000       0.428212                    5025\n31     PH     419.0060       0.428113                     477\n32    FCX      42.8950       0.422200                    4662\n33   PANW     216.0800       0.420807                     925\n34   FTNT      57.3050       0.418992                    3490\n35     EG     361.2800       0.417117                     553\n36    PNR      69.4600       0.412424                    2879\n37   ANET     179.8076       0.403221                    1112\n38    TDG     912.9800       0.403071                     219\n39     BA     232.8400       0.401842                     858\n40   PCAR      84.6053       0.397290                    2363\n41   CARR      57.6600       0.387297                    3468\n42   NCLH      18.3650       0.383800                   10890\n43   CPRT      89.5950       0.382294                    2232\n44    UAL      52.4708       0.379164                    3811\n45   DXCM     122.0000       0.370187                    1639\n46    TJX      86.1300       0.369309                    2322\n47   ODFL     406.9850       0.362404                     491\n48    CEG     102.9600       0.361238                    1942\n49    ABC     186.7550       0.354186                    1070",
      "text/html": "<div>\n<style scoped>\n    .dataframe tbody tr th:only-of-type {\n        vertical-align: middle;\n    }\n\n    .dataframe tbody tr th {\n        vertical-align: top;\n    }\n\n    .dataframe thead th {\n        text-align: right;\n    }\n</style>\n<table border=\"1\" class=\"dataframe\">\n  <thead>\n    <tr style=\"text-align: right;\">\n      <th></th>\n      <th>Ticker</th>\n      <th>Stock Price</th>\n      <th>1 Year Return</th>\n      <th>Number of Shares to Buy</th>\n    </tr>\n  </thead>\n  <tbody>\n    <tr>\n      <th>0</th>\n      <td>RCL</td>\n      <td>104.8000</td>\n      <td>1.639778</td>\n      <td>1908</td>\n    </tr>\n    <tr>\n      <th>1</th>\n      <td>NVDA</td>\n      <td>449.1950</td>\n      <td>1.344252</td>\n      <td>445</td>\n    </tr>\n    <tr>\n      <th>2</th>\n      <td>GE</td>\n      <td>112.4915</td>\n      <td>0.935626</td>\n      <td>1777</td>\n    </tr>\n    <tr>\n      <th>3</th>\n      <td>FSLR</td>\n      <td>199.0500</td>\n      <td>0.925810</td>\n      <td>1004</td>\n    </tr>\n    <tr>\n      <th>4</th>\n      <td>PHM</td>\n      <td>83.8700</td>\n      <td>0.921897</td>\n      <td>2384</td>\n    </tr>\n    <tr>\n      <th>5</th>\n      <td>NFLX</td>\n      <td>431.1700</td>\n      <td>0.900520</td>\n      <td>463</td>\n    </tr>\n    <tr>\n      <th>6</th>\n      <td>META</td>\n      <td>313.4100</td>\n      <td>0.874155</td>\n      <td>638</td>\n    </tr>\n    <tr>\n      <th>7</th>\n      <td>CCL</td>\n      <td>17.4750</td>\n      <td>0.788187</td>\n      <td>11444</td>\n    </tr>\n    <tr>\n      <th>8</th>\n      <td>FICO</td>\n      <td>840.8050</td>\n      <td>0.772504</td>\n      <td>237</td>\n    </tr>\n    <tr>\n      <th>9</th>\n      <td>ACGL</td>\n      <td>77.1600</td>\n      <td>0.766492</td>\n      <td>2592</td>\n    </tr>\n    <tr>\n      <th>10</th>\n      <td>SLB</td>\n      <td>58.3650</td>\n      <td>0.672822</td>\n      <td>3426</td>\n    </tr>\n    <tr>\n      <th>11</th>\n      <td>DHI</td>\n      <td>125.7150</td>\n      <td>0.612967</td>\n      <td>1590</td>\n    </tr>\n    <tr>\n      <th>12</th>\n      <td>AVGO</td>\n      <td>880.5100</td>\n      <td>0.604853</td>\n      <td>227</td>\n    </tr>\n    <tr>\n      <th>13</th>\n      <td>WYNN</td>\n      <td>106.1100</td>\n      <td>0.583121</td>\n      <td>1884</td>\n    </tr>\n    <tr>\n      <th>14</th>\n      <td>PCG</td>\n      <td>17.2050</td>\n      <td>0.553860</td>\n      <td>11624</td>\n    </tr>\n    <tr>\n      <th>15</th>\n      <td>CAH</td>\n      <td>92.2100</td>\n      <td>0.524468</td>\n      <td>2168</td>\n    </tr>\n    <tr>\n      <th>16</th>\n      <td>AXON</td>\n      <td>180.9000</td>\n      <td>0.522917</td>\n      <td>1105</td>\n    </tr>\n    <tr>\n      <th>17</th>\n      <td>ON</td>\n      <td>102.7200</td>\n      <td>0.518557</td>\n      <td>1947</td>\n    </tr>\n    <tr>\n      <th>18</th>\n      <td>LVS</td>\n      <td>58.5100</td>\n      <td>0.513422</td>\n      <td>3418</td>\n    </tr>\n    <tr>\n      <th>19</th>\n      <td>MPC</td>\n      <td>139.7600</td>\n      <td>0.509865</td>\n      <td>1431</td>\n    </tr>\n    <tr>\n      <th>20</th>\n      <td>LLY</td>\n      <td>447.7200</td>\n      <td>0.490641</td>\n      <td>446</td>\n    </tr>\n    <tr>\n      <th>21</th>\n      <td>PWR</td>\n      <td>202.7750</td>\n      <td>0.485209</td>\n      <td>986</td>\n    </tr>\n    <tr>\n      <th>22</th>\n      <td>BKR</td>\n      <td>35.7500</td>\n      <td>0.481712</td>\n      <td>5594</td>\n    </tr>\n    <tr>\n      <th>23</th>\n      <td>ORCL</td>\n      <td>115.1750</td>\n      <td>0.480931</td>\n      <td>1736</td>\n    </tr>\n    <tr>\n      <th>24</th>\n      <td>HES</td>\n      <td>153.8400</td>\n      <td>0.476723</td>\n      <td>1300</td>\n    </tr>\n    <tr>\n      <th>25</th>\n      <td>BKNG</td>\n      <td>3095.8400</td>\n      <td>0.475301</td>\n      <td>64</td>\n    </tr>\n    <tr>\n      <th>26</th>\n      <td>ETN</td>\n      <td>217.8800</td>\n      <td>0.460478</td>\n      <td>917</td>\n    </tr>\n    <tr>\n      <th>27</th>\n      <td>LEN</td>\n      <td>125.5994</td>\n      <td>0.447421</td>\n      <td>1592</td>\n    </tr>\n    <tr>\n      <th>28</th>\n      <td>URI</td>\n      <td>467.9250</td>\n      <td>0.437714</td>\n      <td>427</td>\n    </tr>\n    <tr>\n      <th>29</th>\n      <td>NVR</td>\n      <td>6296.5490</td>\n      <td>0.433121</td>\n      <td>31</td>\n    </tr>\n    <tr>\n      <th>30</th>\n      <td>HAL</td>\n      <td>39.8000</td>\n      <td>0.428212</td>\n      <td>5025</td>\n    </tr>\n    <tr>\n      <th>31</th>\n      <td>PH</td>\n      <td>419.0060</td>\n      <td>0.428113</td>\n      <td>477</td>\n    </tr>\n    <tr>\n      <th>32</th>\n      <td>FCX</td>\n      <td>42.8950</td>\n      <td>0.422200</td>\n      <td>4662</td>\n    </tr>\n    <tr>\n      <th>33</th>\n      <td>PANW</td>\n      <td>216.0800</td>\n      <td>0.420807</td>\n      <td>925</td>\n    </tr>\n    <tr>\n      <th>34</th>\n      <td>FTNT</td>\n      <td>57.3050</td>\n      <td>0.418992</td>\n      <td>3490</td>\n    </tr>\n    <tr>\n      <th>35</th>\n      <td>EG</td>\n      <td>361.2800</td>\n      <td>0.417117</td>\n      <td>553</td>\n    </tr>\n    <tr>\n      <th>36</th>\n      <td>PNR</td>\n      <td>69.4600</td>\n      <td>0.412424</td>\n      <td>2879</td>\n    </tr>\n    <tr>\n      <th>37</th>\n      <td>ANET</td>\n      <td>179.8076</td>\n      <td>0.403221</td>\n      <td>1112</td>\n    </tr>\n    <tr>\n      <th>38</th>\n      <td>TDG</td>\n      <td>912.9800</td>\n      <td>0.403071</td>\n      <td>219</td>\n    </tr>\n    <tr>\n      <th>39</th>\n      <td>BA</td>\n      <td>232.8400</td>\n      <td>0.401842</td>\n      <td>858</td>\n    </tr>\n    <tr>\n      <th>40</th>\n      <td>PCAR</td>\n      <td>84.6053</td>\n      <td>0.397290</td>\n      <td>2363</td>\n    </tr>\n    <tr>\n      <th>41</th>\n      <td>CARR</td>\n      <td>57.6600</td>\n      <td>0.387297</td>\n      <td>3468</td>\n    </tr>\n    <tr>\n      <th>42</th>\n      <td>NCLH</td>\n      <td>18.3650</td>\n      <td>0.383800</td>\n      <td>10890</td>\n    </tr>\n    <tr>\n      <th>43</th>\n      <td>CPRT</td>\n      <td>89.5950</td>\n      <td>0.382294</td>\n      <td>2232</td>\n    </tr>\n    <tr>\n      <th>44</th>\n      <td>UAL</td>\n      <td>52.4708</td>\n      <td>0.379164</td>\n      <td>3811</td>\n    </tr>\n    <tr>\n      <th>45</th>\n      <td>DXCM</td>\n      <td>122.0000</td>\n      <td>0.370187</td>\n      <td>1639</td>\n    </tr>\n    <tr>\n      <th>46</th>\n      <td>TJX</td>\n      <td>86.1300</td>\n      <td>0.369309</td>\n      <td>2322</td>\n    </tr>\n    <tr>\n      <th>47</th>\n      <td>ODFL</td>\n      <td>406.9850</td>\n      <td>0.362404</td>\n      <td>491</td>\n    </tr>\n    <tr>\n      <th>48</th>\n      <td>CEG</td>\n      <td>102.9600</td>\n      <td>0.361238</td>\n      <td>1942</td>\n    </tr>\n    <tr>\n      <th>49</th>\n      <td>ABC</td>\n      <td>186.7550</td>\n      <td>0.354186</td>\n      <td>1070</td>\n    </tr>\n  </tbody>\n</table>\n</div>"
     },
     "execution_count": 15,
     "metadata": {},
     "output_type": "execute_result"
    }
   ]
  },
  {
   "cell_type": "markdown",
   "source": [
    "## Building a Better (and More Realistic) Momentum Strategy\n",
    "\n",
    "Real-world quantitative investment firms differentiate between \"high quality\" and \"low quality\" momentum stocks:\n",
    "\n",
    "* High-quality momentum stocks show \"slow and steady\" outperformance over long periods of time\n",
    "* Low-quality momentum stocks might not show any momentum for a long time, and then surge upwards.\n",
    "\n",
    "The reason why high-quality momentum stocks are preferred is that low-quality momentum can often be caused by short-term news that is unlikely to be repeated in the future (such as an FDA approval for a biotechnology company).\n",
    "\n",
    "To identify high-quality momentum, we're going to build a strategy that selects stocks from the highest percentiles of: \n",
    "\n",
    "* 1-month price returns\n",
    "* 3-month price returns\n",
    "* 6-month price returns\n",
    "* 1-year price returns\n",
    "\n",
    "Here `hqm` stands for `high-quality momentum`."
   ],
   "metadata": {
    "collapsed": false
   }
  },
  {
   "cell_type": "code",
   "execution_count": 16,
   "outputs": [
    {
     "data": {
      "text/plain": "Empty DataFrame\nColumns: [Ticker, Stock Price, Number of Shares to Buy, 1 Year Return, 1 Year Return Percentile, 6 Months Return, 6 Months Return Percentile, 3 Months Return, 3 Months Return Percentile, 1 Month Return, 1 Month Return Percentile, HQM Score]\nIndex: []",
      "text/html": "<div>\n<style scoped>\n    .dataframe tbody tr th:only-of-type {\n        vertical-align: middle;\n    }\n\n    .dataframe tbody tr th {\n        vertical-align: top;\n    }\n\n    .dataframe thead th {\n        text-align: right;\n    }\n</style>\n<table border=\"1\" class=\"dataframe\">\n  <thead>\n    <tr style=\"text-align: right;\">\n      <th></th>\n      <th>Ticker</th>\n      <th>Stock Price</th>\n      <th>Number of Shares to Buy</th>\n      <th>1 Year Return</th>\n      <th>1 Year Return Percentile</th>\n      <th>6 Months Return</th>\n      <th>6 Months Return Percentile</th>\n      <th>3 Months Return</th>\n      <th>3 Months Return Percentile</th>\n      <th>1 Month Return</th>\n      <th>1 Month Return Percentile</th>\n      <th>HQM Score</th>\n    </tr>\n  </thead>\n  <tbody>\n  </tbody>\n</table>\n</div>"
     },
     "execution_count": 16,
     "metadata": {},
     "output_type": "execute_result"
    }
   ],
   "source": [
    "hqm_columns = [\n",
    "    'Ticker',\n",
    "    'Stock Price',\n",
    "    'Number of Shares to Buy',\n",
    "    '1 Year Return',\n",
    "    '1 Year Return Percentile',\n",
    "    '6 Months Return',\n",
    "    '6 Months Return Percentile',\n",
    "    '3 Months Return',\n",
    "    '3 Months Return Percentile',\n",
    "    '1 Month Return',\n",
    "    '1 Month Return Percentile',\n",
    "    'HQM Score'\n",
    "]\n",
    "\n",
    "hqm_dataframe = pd.DataFrame(columns=hqm_columns)\n",
    "hqm_dataframe"
   ],
   "metadata": {
    "collapsed": false,
    "ExecuteTime": {
     "end_time": "2023-08-04T14:53:15.502281781Z",
     "start_time": "2023-08-04T14:53:15.284643494Z"
    }
   }
  },
  {
   "cell_type": "code",
   "source": [
    "for stock in stocks['Ticker']:\n",
    "    data = yf.Ticker(stock).info\n",
    "    try:\n",
    "        yr1Return = data['52WeekChange']\n",
    "    except:\n",
    "        yr1Return = np.NaN\n",
    "    try:\n",
    "        hist = yf.Ticker(stock).history(period='6mo')\n",
    "        mnth6Return = ((hist['Close'][-1] - hist['Close'][0]) / hist['Close'][0]) * 100\n",
    "    except:\n",
    "        mnth6Return = np.NaN\n",
    "    try:\n",
    "        hist = yf.Ticker(stock).history(period='3mo')\n",
    "        mnth3Return = ((hist['Close'][-1] - hist['Close'][0]) / hist['Close'][0]) * 100\n",
    "    except:\n",
    "        mnth3Return = np.NaN\n",
    "    try:\n",
    "        hist = yf.Ticker(stock).history(period='1mo')\n",
    "        mnth1Return = ((hist['Close'][-1] - hist['Close'][0]) / hist['Close'][0]) * 100\n",
    "    except:\n",
    "        mnth1Return = np.NaN\n",
    "    \n",
    "    stock_dict = {\n",
    "        'Ticker': [stock],\n",
    "        'Stock Price': [data['currentPrice']],\n",
    "        'Number of Shares to Buy': ['N/A'],\n",
    "        '1 Year Return': [yr1Return],\n",
    "        '1 Year Return Percentile': ['N/A'],\n",
    "        '6 Months Return': [mnth6Return],\n",
    "        '6 Months Return Percentile': ['N/A'],\n",
    "        '3 Months Return': [mnth3Return],\n",
    "        '3 Months Return Percentile': ['N/A'],\n",
    "        '1 Month Return': [mnth1Return],\n",
    "        '1 Month Return Percentile': ['N/A'],\n",
    "        'HQM Score': ['N/A']\n",
    "    }\n",
    "    df = pd.DataFrame(stock_dict)\n",
    "    hqm_dataframe = pd.concat([hqm_dataframe, df], ignore_index=True)\n",
    "\n",
    "    clear_output(wait=True)\n",
    "    print(hqm_dataframe['Ticker'])"
   ],
   "metadata": {
    "colab": {
     "base_uri": "https://localhost:8080/"
    },
    "id": "K2rDM_RBvfyH",
    "outputId": "a3da2022-a797-4fcc-87d5-51e9b0b0afd2"
   },
   "execution_count": 17,
   "outputs": [
    {
     "name": "stdout",
     "output_type": "stream",
     "text": [
      "0         A\n",
      "1       AAL\n",
      "2       AAP\n",
      "3      AAPL\n",
      "4      ABBV\n",
      "       ... \n",
      "498     YUM\n",
      "499     ZBH\n",
      "500    ZBRA\n",
      "501    ZION\n",
      "502     ZTS\n",
      "Name: Ticker, Length: 503, dtype: object\n"
     ]
    }
   ]
  },
  {
   "cell_type": "code",
   "source": [
    "hqm_dataframe"
   ],
   "metadata": {
    "colab": {
     "base_uri": "https://localhost:8080/",
     "height": 485
    },
    "id": "D-YxN7Xtv7sP",
    "outputId": "e73982ca-27a2-499b-a8b7-f3b6f76c299d",
    "ExecuteTime": {
     "end_time": "2023-08-04T15:11:23.196498127Z",
     "start_time": "2023-08-04T15:11:23.180463700Z"
    }
   },
   "execution_count": 18,
   "outputs": [
    {
     "data": {
      "text/plain": "    Ticker  Stock Price Number of Shares to Buy  1 Year Return  \\\n0        A     126.0500                     N/A      -0.064067   \n1      AAL      15.9791                     N/A       0.084125   \n2      AAP      71.7700                     N/A      -0.627598   \n3     AAPL     185.1089                     N/A       0.156154   \n4     ABBV     149.2150                     N/A       0.079759   \n..     ...          ...                     ...            ...   \n498    YUM     135.7500                     N/A       0.145246   \n499    ZBH     127.0000                     N/A       0.110630   \n500   ZBRA     251.9825                     N/A      -0.247664   \n501   ZION      37.9550                     N/A      -0.307222   \n502    ZTS     181.2500                     N/A       0.035909   \n\n    1 Year Return Percentile  6 Months Return 6 Months Return Percentile  \\\n0                        N/A       -16.909856                        N/A   \n1                        N/A        -5.557920                        N/A   \n2                        N/A       -51.917973                        N/A   \n3                        N/A        22.347740                        N/A   \n4                        N/A         4.990424                        N/A   \n..                       ...              ...                        ...   \n498                      N/A         6.160866                        N/A   \n499                      N/A        -0.829496                        N/A   \n500                      N/A       -22.395291                        N/A   \n501                      N/A       -28.051563                        N/A   \n502                      N/A        10.373331                        N/A   \n\n     3 Months Return 3 Months Return Percentile  1 Month Return  \\\n0          -5.668729                        N/A        5.569037   \n1          18.279790                        N/A      -12.775108   \n2         -40.099385                        N/A        1.214864   \n3          11.801215                        N/A       -3.256575   \n4           2.381386                        N/A        9.649431   \n..               ...                        ...             ...   \n498         0.046534                        N/A       -0.665889   \n499        -6.893679                        N/A      -10.789548   \n500        -4.912265                        N/A      -13.955099   \n501        93.798253                        N/A       35.756444   \n502         1.781031                        N/A        7.262244   \n\n    1 Month Return Percentile HQM Score  \n0                         N/A       N/A  \n1                         N/A       N/A  \n2                         N/A       N/A  \n3                         N/A       N/A  \n4                         N/A       N/A  \n..                        ...       ...  \n498                       N/A       N/A  \n499                       N/A       N/A  \n500                       N/A       N/A  \n501                       N/A       N/A  \n502                       N/A       N/A  \n\n[503 rows x 12 columns]",
      "text/html": "<div>\n<style scoped>\n    .dataframe tbody tr th:only-of-type {\n        vertical-align: middle;\n    }\n\n    .dataframe tbody tr th {\n        vertical-align: top;\n    }\n\n    .dataframe thead th {\n        text-align: right;\n    }\n</style>\n<table border=\"1\" class=\"dataframe\">\n  <thead>\n    <tr style=\"text-align: right;\">\n      <th></th>\n      <th>Ticker</th>\n      <th>Stock Price</th>\n      <th>Number of Shares to Buy</th>\n      <th>1 Year Return</th>\n      <th>1 Year Return Percentile</th>\n      <th>6 Months Return</th>\n      <th>6 Months Return Percentile</th>\n      <th>3 Months Return</th>\n      <th>3 Months Return Percentile</th>\n      <th>1 Month Return</th>\n      <th>1 Month Return Percentile</th>\n      <th>HQM Score</th>\n    </tr>\n  </thead>\n  <tbody>\n    <tr>\n      <th>0</th>\n      <td>A</td>\n      <td>126.0500</td>\n      <td>N/A</td>\n      <td>-0.064067</td>\n      <td>N/A</td>\n      <td>-16.909856</td>\n      <td>N/A</td>\n      <td>-5.668729</td>\n      <td>N/A</td>\n      <td>5.569037</td>\n      <td>N/A</td>\n      <td>N/A</td>\n    </tr>\n    <tr>\n      <th>1</th>\n      <td>AAL</td>\n      <td>15.9791</td>\n      <td>N/A</td>\n      <td>0.084125</td>\n      <td>N/A</td>\n      <td>-5.557920</td>\n      <td>N/A</td>\n      <td>18.279790</td>\n      <td>N/A</td>\n      <td>-12.775108</td>\n      <td>N/A</td>\n      <td>N/A</td>\n    </tr>\n    <tr>\n      <th>2</th>\n      <td>AAP</td>\n      <td>71.7700</td>\n      <td>N/A</td>\n      <td>-0.627598</td>\n      <td>N/A</td>\n      <td>-51.917973</td>\n      <td>N/A</td>\n      <td>-40.099385</td>\n      <td>N/A</td>\n      <td>1.214864</td>\n      <td>N/A</td>\n      <td>N/A</td>\n    </tr>\n    <tr>\n      <th>3</th>\n      <td>AAPL</td>\n      <td>185.1089</td>\n      <td>N/A</td>\n      <td>0.156154</td>\n      <td>N/A</td>\n      <td>22.347740</td>\n      <td>N/A</td>\n      <td>11.801215</td>\n      <td>N/A</td>\n      <td>-3.256575</td>\n      <td>N/A</td>\n      <td>N/A</td>\n    </tr>\n    <tr>\n      <th>4</th>\n      <td>ABBV</td>\n      <td>149.2150</td>\n      <td>N/A</td>\n      <td>0.079759</td>\n      <td>N/A</td>\n      <td>4.990424</td>\n      <td>N/A</td>\n      <td>2.381386</td>\n      <td>N/A</td>\n      <td>9.649431</td>\n      <td>N/A</td>\n      <td>N/A</td>\n    </tr>\n    <tr>\n      <th>...</th>\n      <td>...</td>\n      <td>...</td>\n      <td>...</td>\n      <td>...</td>\n      <td>...</td>\n      <td>...</td>\n      <td>...</td>\n      <td>...</td>\n      <td>...</td>\n      <td>...</td>\n      <td>...</td>\n      <td>...</td>\n    </tr>\n    <tr>\n      <th>498</th>\n      <td>YUM</td>\n      <td>135.7500</td>\n      <td>N/A</td>\n      <td>0.145246</td>\n      <td>N/A</td>\n      <td>6.160866</td>\n      <td>N/A</td>\n      <td>0.046534</td>\n      <td>N/A</td>\n      <td>-0.665889</td>\n      <td>N/A</td>\n      <td>N/A</td>\n    </tr>\n    <tr>\n      <th>499</th>\n      <td>ZBH</td>\n      <td>127.0000</td>\n      <td>N/A</td>\n      <td>0.110630</td>\n      <td>N/A</td>\n      <td>-0.829496</td>\n      <td>N/A</td>\n      <td>-6.893679</td>\n      <td>N/A</td>\n      <td>-10.789548</td>\n      <td>N/A</td>\n      <td>N/A</td>\n    </tr>\n    <tr>\n      <th>500</th>\n      <td>ZBRA</td>\n      <td>251.9825</td>\n      <td>N/A</td>\n      <td>-0.247664</td>\n      <td>N/A</td>\n      <td>-22.395291</td>\n      <td>N/A</td>\n      <td>-4.912265</td>\n      <td>N/A</td>\n      <td>-13.955099</td>\n      <td>N/A</td>\n      <td>N/A</td>\n    </tr>\n    <tr>\n      <th>501</th>\n      <td>ZION</td>\n      <td>37.9550</td>\n      <td>N/A</td>\n      <td>-0.307222</td>\n      <td>N/A</td>\n      <td>-28.051563</td>\n      <td>N/A</td>\n      <td>93.798253</td>\n      <td>N/A</td>\n      <td>35.756444</td>\n      <td>N/A</td>\n      <td>N/A</td>\n    </tr>\n    <tr>\n      <th>502</th>\n      <td>ZTS</td>\n      <td>181.2500</td>\n      <td>N/A</td>\n      <td>0.035909</td>\n      <td>N/A</td>\n      <td>10.373331</td>\n      <td>N/A</td>\n      <td>1.781031</td>\n      <td>N/A</td>\n      <td>7.262244</td>\n      <td>N/A</td>\n      <td>N/A</td>\n    </tr>\n  </tbody>\n</table>\n<p>503 rows × 12 columns</p>\n</div>"
     },
     "execution_count": 18,
     "metadata": {},
     "output_type": "execute_result"
    }
   ]
  },
  {
   "cell_type": "code",
   "execution_count": 19,
   "outputs": [
    {
     "data": {
      "text/plain": "   Ticker  Stock Price Number of Shares to Buy  1 Year Return  \\\n80    CAT     280.3777                     N/A            NaN   \n\n   1 Year Return Percentile  6 Months Return 6 Months Return Percentile  \\\n80                      N/A        12.678249                        N/A   \n\n    3 Months Return 3 Months Return Percentile  1 Month Return  \\\n80        33.932013                        N/A        15.08646   \n\n   1 Month Return Percentile HQM Score  \n80                       N/A       N/A  ",
      "text/html": "<div>\n<style scoped>\n    .dataframe tbody tr th:only-of-type {\n        vertical-align: middle;\n    }\n\n    .dataframe tbody tr th {\n        vertical-align: top;\n    }\n\n    .dataframe thead th {\n        text-align: right;\n    }\n</style>\n<table border=\"1\" class=\"dataframe\">\n  <thead>\n    <tr style=\"text-align: right;\">\n      <th></th>\n      <th>Ticker</th>\n      <th>Stock Price</th>\n      <th>Number of Shares to Buy</th>\n      <th>1 Year Return</th>\n      <th>1 Year Return Percentile</th>\n      <th>6 Months Return</th>\n      <th>6 Months Return Percentile</th>\n      <th>3 Months Return</th>\n      <th>3 Months Return Percentile</th>\n      <th>1 Month Return</th>\n      <th>1 Month Return Percentile</th>\n      <th>HQM Score</th>\n    </tr>\n  </thead>\n  <tbody>\n    <tr>\n      <th>80</th>\n      <td>CAT</td>\n      <td>280.3777</td>\n      <td>N/A</td>\n      <td>NaN</td>\n      <td>N/A</td>\n      <td>12.678249</td>\n      <td>N/A</td>\n      <td>33.932013</td>\n      <td>N/A</td>\n      <td>15.08646</td>\n      <td>N/A</td>\n      <td>N/A</td>\n    </tr>\n  </tbody>\n</table>\n</div>"
     },
     "execution_count": 19,
     "metadata": {},
     "output_type": "execute_result"
    }
   ],
   "source": [
    "hqm_dataframe[hqm_dataframe.isnull().any(axis=1)]"
   ],
   "metadata": {
    "collapsed": false,
    "ExecuteTime": {
     "end_time": "2023-08-04T15:11:23.254883601Z",
     "start_time": "2023-08-04T15:11:23.186997999Z"
    }
   }
  },
  {
   "cell_type": "code",
   "execution_count": 20,
   "outputs": [],
   "source": [
    "hqm_dataframe['1 Year Return'].fillna(hqm_dataframe['1 Year Return'].mean(), inplace=True)"
   ],
   "metadata": {
    "collapsed": false,
    "ExecuteTime": {
     "end_time": "2023-08-04T15:11:23.255164040Z",
     "start_time": "2023-08-04T15:11:23.228272442Z"
    }
   }
  },
  {
   "cell_type": "code",
   "execution_count": 21,
   "outputs": [
    {
     "data": {
      "text/plain": "Empty DataFrame\nColumns: [Ticker, Stock Price, Number of Shares to Buy, 1 Year Return, 1 Year Return Percentile, 6 Months Return, 6 Months Return Percentile, 3 Months Return, 3 Months Return Percentile, 1 Month Return, 1 Month Return Percentile, HQM Score]\nIndex: []",
      "text/html": "<div>\n<style scoped>\n    .dataframe tbody tr th:only-of-type {\n        vertical-align: middle;\n    }\n\n    .dataframe tbody tr th {\n        vertical-align: top;\n    }\n\n    .dataframe thead th {\n        text-align: right;\n    }\n</style>\n<table border=\"1\" class=\"dataframe\">\n  <thead>\n    <tr style=\"text-align: right;\">\n      <th></th>\n      <th>Ticker</th>\n      <th>Stock Price</th>\n      <th>Number of Shares to Buy</th>\n      <th>1 Year Return</th>\n      <th>1 Year Return Percentile</th>\n      <th>6 Months Return</th>\n      <th>6 Months Return Percentile</th>\n      <th>3 Months Return</th>\n      <th>3 Months Return Percentile</th>\n      <th>1 Month Return</th>\n      <th>1 Month Return Percentile</th>\n      <th>HQM Score</th>\n    </tr>\n  </thead>\n  <tbody>\n  </tbody>\n</table>\n</div>"
     },
     "execution_count": 21,
     "metadata": {},
     "output_type": "execute_result"
    }
   ],
   "source": [
    "hqm_dataframe[hqm_dataframe.isnull().any(axis=1)]"
   ],
   "metadata": {
    "collapsed": false,
    "ExecuteTime": {
     "end_time": "2023-08-04T15:11:23.255693599Z",
     "start_time": "2023-08-04T15:11:23.228443634Z"
    }
   }
  },
  {
   "cell_type": "code",
   "execution_count": 22,
   "outputs": [
    {
     "data": {
      "text/plain": "    Ticker  Stock Price Number of Shares to Buy  1 Year Return  \\\n0        A     126.0500                     N/A      -0.064067   \n1      AAL      15.9791                     N/A       0.084125   \n2      AAP      71.7700                     N/A      -0.627598   \n3     AAPL     185.1089                     N/A       0.156154   \n4     ABBV     149.2150                     N/A       0.079759   \n..     ...          ...                     ...            ...   \n498    YUM     135.7500                     N/A       0.145246   \n499    ZBH     127.0000                     N/A       0.110630   \n500   ZBRA     251.9825                     N/A      -0.247664   \n501   ZION      37.9550                     N/A      -0.307222   \n502    ZTS     181.2500                     N/A       0.035909   \n\n    1 Year Return Percentile  6 Months Return 6 Months Return Percentile  \\\n0                        N/A       -16.909856                        N/A   \n1                        N/A        -5.557920                        N/A   \n2                        N/A       -51.917973                        N/A   \n3                        N/A        22.347740                        N/A   \n4                        N/A         4.990424                        N/A   \n..                       ...              ...                        ...   \n498                      N/A         6.160866                        N/A   \n499                      N/A        -0.829496                        N/A   \n500                      N/A       -22.395291                        N/A   \n501                      N/A       -28.051563                        N/A   \n502                      N/A        10.373331                        N/A   \n\n     3 Months Return 3 Months Return Percentile  1 Month Return  \\\n0          -5.668729                        N/A        5.569037   \n1          18.279790                        N/A      -12.775108   \n2         -40.099385                        N/A        1.214864   \n3          11.801215                        N/A       -3.256575   \n4           2.381386                        N/A        9.649431   \n..               ...                        ...             ...   \n498         0.046534                        N/A       -0.665889   \n499        -6.893679                        N/A      -10.789548   \n500        -4.912265                        N/A      -13.955099   \n501        93.798253                        N/A       35.756444   \n502         1.781031                        N/A        7.262244   \n\n    1 Month Return Percentile HQM Score  \n0                         N/A       N/A  \n1                         N/A       N/A  \n2                         N/A       N/A  \n3                         N/A       N/A  \n4                         N/A       N/A  \n..                        ...       ...  \n498                       N/A       N/A  \n499                       N/A       N/A  \n500                       N/A       N/A  \n501                       N/A       N/A  \n502                       N/A       N/A  \n\n[503 rows x 12 columns]",
      "text/html": "<div>\n<style scoped>\n    .dataframe tbody tr th:only-of-type {\n        vertical-align: middle;\n    }\n\n    .dataframe tbody tr th {\n        vertical-align: top;\n    }\n\n    .dataframe thead th {\n        text-align: right;\n    }\n</style>\n<table border=\"1\" class=\"dataframe\">\n  <thead>\n    <tr style=\"text-align: right;\">\n      <th></th>\n      <th>Ticker</th>\n      <th>Stock Price</th>\n      <th>Number of Shares to Buy</th>\n      <th>1 Year Return</th>\n      <th>1 Year Return Percentile</th>\n      <th>6 Months Return</th>\n      <th>6 Months Return Percentile</th>\n      <th>3 Months Return</th>\n      <th>3 Months Return Percentile</th>\n      <th>1 Month Return</th>\n      <th>1 Month Return Percentile</th>\n      <th>HQM Score</th>\n    </tr>\n  </thead>\n  <tbody>\n    <tr>\n      <th>0</th>\n      <td>A</td>\n      <td>126.0500</td>\n      <td>N/A</td>\n      <td>-0.064067</td>\n      <td>N/A</td>\n      <td>-16.909856</td>\n      <td>N/A</td>\n      <td>-5.668729</td>\n      <td>N/A</td>\n      <td>5.569037</td>\n      <td>N/A</td>\n      <td>N/A</td>\n    </tr>\n    <tr>\n      <th>1</th>\n      <td>AAL</td>\n      <td>15.9791</td>\n      <td>N/A</td>\n      <td>0.084125</td>\n      <td>N/A</td>\n      <td>-5.557920</td>\n      <td>N/A</td>\n      <td>18.279790</td>\n      <td>N/A</td>\n      <td>-12.775108</td>\n      <td>N/A</td>\n      <td>N/A</td>\n    </tr>\n    <tr>\n      <th>2</th>\n      <td>AAP</td>\n      <td>71.7700</td>\n      <td>N/A</td>\n      <td>-0.627598</td>\n      <td>N/A</td>\n      <td>-51.917973</td>\n      <td>N/A</td>\n      <td>-40.099385</td>\n      <td>N/A</td>\n      <td>1.214864</td>\n      <td>N/A</td>\n      <td>N/A</td>\n    </tr>\n    <tr>\n      <th>3</th>\n      <td>AAPL</td>\n      <td>185.1089</td>\n      <td>N/A</td>\n      <td>0.156154</td>\n      <td>N/A</td>\n      <td>22.347740</td>\n      <td>N/A</td>\n      <td>11.801215</td>\n      <td>N/A</td>\n      <td>-3.256575</td>\n      <td>N/A</td>\n      <td>N/A</td>\n    </tr>\n    <tr>\n      <th>4</th>\n      <td>ABBV</td>\n      <td>149.2150</td>\n      <td>N/A</td>\n      <td>0.079759</td>\n      <td>N/A</td>\n      <td>4.990424</td>\n      <td>N/A</td>\n      <td>2.381386</td>\n      <td>N/A</td>\n      <td>9.649431</td>\n      <td>N/A</td>\n      <td>N/A</td>\n    </tr>\n    <tr>\n      <th>...</th>\n      <td>...</td>\n      <td>...</td>\n      <td>...</td>\n      <td>...</td>\n      <td>...</td>\n      <td>...</td>\n      <td>...</td>\n      <td>...</td>\n      <td>...</td>\n      <td>...</td>\n      <td>...</td>\n      <td>...</td>\n    </tr>\n    <tr>\n      <th>498</th>\n      <td>YUM</td>\n      <td>135.7500</td>\n      <td>N/A</td>\n      <td>0.145246</td>\n      <td>N/A</td>\n      <td>6.160866</td>\n      <td>N/A</td>\n      <td>0.046534</td>\n      <td>N/A</td>\n      <td>-0.665889</td>\n      <td>N/A</td>\n      <td>N/A</td>\n    </tr>\n    <tr>\n      <th>499</th>\n      <td>ZBH</td>\n      <td>127.0000</td>\n      <td>N/A</td>\n      <td>0.110630</td>\n      <td>N/A</td>\n      <td>-0.829496</td>\n      <td>N/A</td>\n      <td>-6.893679</td>\n      <td>N/A</td>\n      <td>-10.789548</td>\n      <td>N/A</td>\n      <td>N/A</td>\n    </tr>\n    <tr>\n      <th>500</th>\n      <td>ZBRA</td>\n      <td>251.9825</td>\n      <td>N/A</td>\n      <td>-0.247664</td>\n      <td>N/A</td>\n      <td>-22.395291</td>\n      <td>N/A</td>\n      <td>-4.912265</td>\n      <td>N/A</td>\n      <td>-13.955099</td>\n      <td>N/A</td>\n      <td>N/A</td>\n    </tr>\n    <tr>\n      <th>501</th>\n      <td>ZION</td>\n      <td>37.9550</td>\n      <td>N/A</td>\n      <td>-0.307222</td>\n      <td>N/A</td>\n      <td>-28.051563</td>\n      <td>N/A</td>\n      <td>93.798253</td>\n      <td>N/A</td>\n      <td>35.756444</td>\n      <td>N/A</td>\n      <td>N/A</td>\n    </tr>\n    <tr>\n      <th>502</th>\n      <td>ZTS</td>\n      <td>181.2500</td>\n      <td>N/A</td>\n      <td>0.035909</td>\n      <td>N/A</td>\n      <td>10.373331</td>\n      <td>N/A</td>\n      <td>1.781031</td>\n      <td>N/A</td>\n      <td>7.262244</td>\n      <td>N/A</td>\n      <td>N/A</td>\n    </tr>\n  </tbody>\n</table>\n<p>503 rows × 12 columns</p>\n</div>"
     },
     "execution_count": 22,
     "metadata": {},
     "output_type": "execute_result"
    }
   ],
   "source": [
    "hqm_dataframe"
   ],
   "metadata": {
    "collapsed": false,
    "ExecuteTime": {
     "end_time": "2023-08-04T15:11:23.353791470Z",
     "start_time": "2023-08-04T15:11:23.228569184Z"
    }
   }
  },
  {
   "cell_type": "markdown",
   "source": [
    "## Calculating Momentum Percentiles\n",
    "\n",
    "We now need to calculate momentum percentile scores for every stock in the universe. More specifically, we need to calculate percentile scores for the following metrics for every stock:\n",
    "\n",
    "* `One-Year Price Return`\n",
    "* `Six-Month Price Return`\n",
    "* `Three-Month Price Return`\n",
    "* `One-Month Price Return`"
   ],
   "metadata": {
    "collapsed": false
   }
  },
  {
   "cell_type": "code",
   "source": [
    "time_periods = [\n",
    "    '1 Year',\n",
    "    '6 Months',\n",
    "    '3 Months',\n",
    "    '1 Month'\n",
    "]\n",
    "\n",
    "for row in hqm_dataframe.index:\n",
    "    for time_period in time_periods:\n",
    "        change_col = f'{time_period} Return'\n",
    "        percentile_col = f'{time_period} Return Percentile'\n",
    "        hqm_dataframe.loc[row, f'{time_period} Return Percentile'] = score(hqm_dataframe[change_col],\n",
    "                                                                           hqm_dataframe.loc[row, change_col]) / 100"
   ],
   "metadata": {
    "id": "QR1RmX3x0llg",
    "ExecuteTime": {
     "end_time": "2023-08-04T15:11:23.864488695Z",
     "start_time": "2023-08-04T15:11:23.272374753Z"
    }
   },
   "execution_count": 23,
   "outputs": []
  },
  {
   "cell_type": "code",
   "source": [
    "hqm_dataframe"
   ],
   "metadata": {
    "colab": {
     "base_uri": "https://localhost:8080/",
     "height": 485
    },
    "id": "QPwmMOnh3bRl",
    "outputId": "f80f01f1-037c-4957-b224-6bd09f15ebde",
    "ExecuteTime": {
     "end_time": "2023-08-04T15:11:23.933272036Z",
     "start_time": "2023-08-04T15:11:23.885772198Z"
    }
   },
   "execution_count": 24,
   "outputs": [
    {
     "data": {
      "text/plain": "    Ticker  Stock Price Number of Shares to Buy  1 Year Return  \\\n0        A     126.0500                     N/A      -0.064067   \n1      AAL      15.9791                     N/A       0.084125   \n2      AAP      71.7700                     N/A      -0.627598   \n3     AAPL     185.1089                     N/A       0.156154   \n4     ABBV     149.2150                     N/A       0.079759   \n..     ...          ...                     ...            ...   \n498    YUM     135.7500                     N/A       0.145246   \n499    ZBH     127.0000                     N/A       0.110630   \n500   ZBRA     251.9825                     N/A      -0.247664   \n501   ZION      37.9550                     N/A      -0.307222   \n502    ZTS     181.2500                     N/A       0.035909   \n\n    1 Year Return Percentile  6 Months Return 6 Months Return Percentile  \\\n0                   0.306163       -16.909856                   0.089463   \n1                   0.590457        -5.557920                   0.300199   \n2                   0.001988       -51.917973                   0.001988   \n3                   0.719682        22.347740                    0.89662   \n4                   0.582505         4.990424                   0.576541   \n..                       ...              ...                        ...   \n498                 0.695825         6.160866                   0.614314   \n499                 0.646123        -0.829496                   0.437376   \n500                 0.073559       -22.395291                   0.059642   \n501                 0.053678       -28.051563                   0.031809   \n502                 0.499006        10.373331                    0.72167   \n\n     3 Months Return 3 Months Return Percentile  1 Month Return  \\\n0          -5.668729                   0.135189        5.569037   \n1          18.279790                   0.749503      -12.775108   \n2         -40.099385                   0.001988        1.214864   \n3          11.801215                   0.582505       -3.256575   \n4           2.381386                   0.353877        9.649431   \n..               ...                        ...             ...   \n498         0.046534                   0.292247       -0.665889   \n499        -6.893679                   0.105368      -10.789548   \n500        -4.912265                   0.147117      -13.955099   \n501        93.798253                        1.0       35.756444   \n502         1.781031                   0.341948        7.262244   \n\n    1 Month Return Percentile HQM Score  \n0                    0.689861       N/A  \n1                    0.027833       N/A  \n2                    0.457256       N/A  \n3                      0.2167       N/A  \n4                     0.84493       N/A  \n..                        ...       ...  \n498                  0.351889       N/A  \n499                  0.047714       N/A  \n500                  0.019881       N/A  \n501                       1.0       N/A  \n502                   0.77336       N/A  \n\n[503 rows x 12 columns]",
      "text/html": "<div>\n<style scoped>\n    .dataframe tbody tr th:only-of-type {\n        vertical-align: middle;\n    }\n\n    .dataframe tbody tr th {\n        vertical-align: top;\n    }\n\n    .dataframe thead th {\n        text-align: right;\n    }\n</style>\n<table border=\"1\" class=\"dataframe\">\n  <thead>\n    <tr style=\"text-align: right;\">\n      <th></th>\n      <th>Ticker</th>\n      <th>Stock Price</th>\n      <th>Number of Shares to Buy</th>\n      <th>1 Year Return</th>\n      <th>1 Year Return Percentile</th>\n      <th>6 Months Return</th>\n      <th>6 Months Return Percentile</th>\n      <th>3 Months Return</th>\n      <th>3 Months Return Percentile</th>\n      <th>1 Month Return</th>\n      <th>1 Month Return Percentile</th>\n      <th>HQM Score</th>\n    </tr>\n  </thead>\n  <tbody>\n    <tr>\n      <th>0</th>\n      <td>A</td>\n      <td>126.0500</td>\n      <td>N/A</td>\n      <td>-0.064067</td>\n      <td>0.306163</td>\n      <td>-16.909856</td>\n      <td>0.089463</td>\n      <td>-5.668729</td>\n      <td>0.135189</td>\n      <td>5.569037</td>\n      <td>0.689861</td>\n      <td>N/A</td>\n    </tr>\n    <tr>\n      <th>1</th>\n      <td>AAL</td>\n      <td>15.9791</td>\n      <td>N/A</td>\n      <td>0.084125</td>\n      <td>0.590457</td>\n      <td>-5.557920</td>\n      <td>0.300199</td>\n      <td>18.279790</td>\n      <td>0.749503</td>\n      <td>-12.775108</td>\n      <td>0.027833</td>\n      <td>N/A</td>\n    </tr>\n    <tr>\n      <th>2</th>\n      <td>AAP</td>\n      <td>71.7700</td>\n      <td>N/A</td>\n      <td>-0.627598</td>\n      <td>0.001988</td>\n      <td>-51.917973</td>\n      <td>0.001988</td>\n      <td>-40.099385</td>\n      <td>0.001988</td>\n      <td>1.214864</td>\n      <td>0.457256</td>\n      <td>N/A</td>\n    </tr>\n    <tr>\n      <th>3</th>\n      <td>AAPL</td>\n      <td>185.1089</td>\n      <td>N/A</td>\n      <td>0.156154</td>\n      <td>0.719682</td>\n      <td>22.347740</td>\n      <td>0.89662</td>\n      <td>11.801215</td>\n      <td>0.582505</td>\n      <td>-3.256575</td>\n      <td>0.2167</td>\n      <td>N/A</td>\n    </tr>\n    <tr>\n      <th>4</th>\n      <td>ABBV</td>\n      <td>149.2150</td>\n      <td>N/A</td>\n      <td>0.079759</td>\n      <td>0.582505</td>\n      <td>4.990424</td>\n      <td>0.576541</td>\n      <td>2.381386</td>\n      <td>0.353877</td>\n      <td>9.649431</td>\n      <td>0.84493</td>\n      <td>N/A</td>\n    </tr>\n    <tr>\n      <th>...</th>\n      <td>...</td>\n      <td>...</td>\n      <td>...</td>\n      <td>...</td>\n      <td>...</td>\n      <td>...</td>\n      <td>...</td>\n      <td>...</td>\n      <td>...</td>\n      <td>...</td>\n      <td>...</td>\n      <td>...</td>\n    </tr>\n    <tr>\n      <th>498</th>\n      <td>YUM</td>\n      <td>135.7500</td>\n      <td>N/A</td>\n      <td>0.145246</td>\n      <td>0.695825</td>\n      <td>6.160866</td>\n      <td>0.614314</td>\n      <td>0.046534</td>\n      <td>0.292247</td>\n      <td>-0.665889</td>\n      <td>0.351889</td>\n      <td>N/A</td>\n    </tr>\n    <tr>\n      <th>499</th>\n      <td>ZBH</td>\n      <td>127.0000</td>\n      <td>N/A</td>\n      <td>0.110630</td>\n      <td>0.646123</td>\n      <td>-0.829496</td>\n      <td>0.437376</td>\n      <td>-6.893679</td>\n      <td>0.105368</td>\n      <td>-10.789548</td>\n      <td>0.047714</td>\n      <td>N/A</td>\n    </tr>\n    <tr>\n      <th>500</th>\n      <td>ZBRA</td>\n      <td>251.9825</td>\n      <td>N/A</td>\n      <td>-0.247664</td>\n      <td>0.073559</td>\n      <td>-22.395291</td>\n      <td>0.059642</td>\n      <td>-4.912265</td>\n      <td>0.147117</td>\n      <td>-13.955099</td>\n      <td>0.019881</td>\n      <td>N/A</td>\n    </tr>\n    <tr>\n      <th>501</th>\n      <td>ZION</td>\n      <td>37.9550</td>\n      <td>N/A</td>\n      <td>-0.307222</td>\n      <td>0.053678</td>\n      <td>-28.051563</td>\n      <td>0.031809</td>\n      <td>93.798253</td>\n      <td>1.0</td>\n      <td>35.756444</td>\n      <td>1.0</td>\n      <td>N/A</td>\n    </tr>\n    <tr>\n      <th>502</th>\n      <td>ZTS</td>\n      <td>181.2500</td>\n      <td>N/A</td>\n      <td>0.035909</td>\n      <td>0.499006</td>\n      <td>10.373331</td>\n      <td>0.72167</td>\n      <td>1.781031</td>\n      <td>0.341948</td>\n      <td>7.262244</td>\n      <td>0.77336</td>\n      <td>N/A</td>\n    </tr>\n  </tbody>\n</table>\n<p>503 rows × 12 columns</p>\n</div>"
     },
     "execution_count": 24,
     "metadata": {},
     "output_type": "execute_result"
    }
   ]
  },
  {
   "cell_type": "markdown",
   "source": [
    "## Calculating the HQM Score\n",
    "\n",
    "We'll now calculate our `HQM Score`, which is the high-quality momentum score that we'll use to filter for stocks in this investing strategy.\n",
    "\n",
    "The `HQM Score` will be the arithmetic mean of the 4 momentum percentile scores that we calculated in the last section.\n",
    "\n",
    "To calculate arithmetic mean, we will use the `mean` function from Python's built-in `statistics` module."
   ],
   "metadata": {
    "collapsed": false
   }
  },
  {
   "cell_type": "code",
   "source": [
    "for row in hqm_dataframe.index:\n",
    "    momentum_percentiles = []\n",
    "    for time_period in time_periods:\n",
    "        momentum_percentiles.append(hqm_dataframe.loc[row, f'{time_period} Return Percentile'])\n",
    "    hqm_dataframe.loc[row, 'HQM Score'] = mean(momentum_percentiles)"
   ],
   "metadata": {
    "id": "v3BO-yAY3dM2",
    "ExecuteTime": {
     "end_time": "2023-08-04T15:11:24.110695335Z",
     "start_time": "2023-08-04T15:11:23.932300179Z"
    }
   },
   "execution_count": 25,
   "outputs": []
  },
  {
   "cell_type": "code",
   "source": [
    "hqm_dataframe"
   ],
   "metadata": {
    "colab": {
     "base_uri": "https://localhost:8080/",
     "height": 485
    },
    "id": "U79rv9Bo700D",
    "outputId": "8b5dd20a-d349-484c-bef5-de7b2e71bcef",
    "ExecuteTime": {
     "end_time": "2023-08-04T15:11:24.161804666Z",
     "start_time": "2023-08-04T15:11:24.102114375Z"
    }
   },
   "execution_count": 26,
   "outputs": [
    {
     "data": {
      "text/plain": "    Ticker  Stock Price Number of Shares to Buy  1 Year Return  \\\n0        A     126.0500                     N/A      -0.064067   \n1      AAL      15.9791                     N/A       0.084125   \n2      AAP      71.7700                     N/A      -0.627598   \n3     AAPL     185.1089                     N/A       0.156154   \n4     ABBV     149.2150                     N/A       0.079759   \n..     ...          ...                     ...            ...   \n498    YUM     135.7500                     N/A       0.145246   \n499    ZBH     127.0000                     N/A       0.110630   \n500   ZBRA     251.9825                     N/A      -0.247664   \n501   ZION      37.9550                     N/A      -0.307222   \n502    ZTS     181.2500                     N/A       0.035909   \n\n    1 Year Return Percentile  6 Months Return 6 Months Return Percentile  \\\n0                   0.306163       -16.909856                   0.089463   \n1                   0.590457        -5.557920                   0.300199   \n2                   0.001988       -51.917973                   0.001988   \n3                   0.719682        22.347740                    0.89662   \n4                   0.582505         4.990424                   0.576541   \n..                       ...              ...                        ...   \n498                 0.695825         6.160866                   0.614314   \n499                 0.646123        -0.829496                   0.437376   \n500                 0.073559       -22.395291                   0.059642   \n501                 0.053678       -28.051563                   0.031809   \n502                 0.499006        10.373331                    0.72167   \n\n     3 Months Return 3 Months Return Percentile  1 Month Return  \\\n0          -5.668729                   0.135189        5.569037   \n1          18.279790                   0.749503      -12.775108   \n2         -40.099385                   0.001988        1.214864   \n3          11.801215                   0.582505       -3.256575   \n4           2.381386                   0.353877        9.649431   \n..               ...                        ...             ...   \n498         0.046534                   0.292247       -0.665889   \n499        -6.893679                   0.105368      -10.789548   \n500        -4.912265                   0.147117      -13.955099   \n501        93.798253                        1.0       35.756444   \n502         1.781031                   0.341948        7.262244   \n\n    1 Month Return Percentile HQM Score  \n0                    0.689861  0.305169  \n1                    0.027833  0.416998  \n2                    0.457256  0.115805  \n3                      0.2167  0.603877  \n4                     0.84493  0.589463  \n..                        ...       ...  \n498                  0.351889  0.488569  \n499                  0.047714  0.309145  \n500                  0.019881   0.07505  \n501                       1.0  0.521372  \n502                   0.77336  0.583996  \n\n[503 rows x 12 columns]",
      "text/html": "<div>\n<style scoped>\n    .dataframe tbody tr th:only-of-type {\n        vertical-align: middle;\n    }\n\n    .dataframe tbody tr th {\n        vertical-align: top;\n    }\n\n    .dataframe thead th {\n        text-align: right;\n    }\n</style>\n<table border=\"1\" class=\"dataframe\">\n  <thead>\n    <tr style=\"text-align: right;\">\n      <th></th>\n      <th>Ticker</th>\n      <th>Stock Price</th>\n      <th>Number of Shares to Buy</th>\n      <th>1 Year Return</th>\n      <th>1 Year Return Percentile</th>\n      <th>6 Months Return</th>\n      <th>6 Months Return Percentile</th>\n      <th>3 Months Return</th>\n      <th>3 Months Return Percentile</th>\n      <th>1 Month Return</th>\n      <th>1 Month Return Percentile</th>\n      <th>HQM Score</th>\n    </tr>\n  </thead>\n  <tbody>\n    <tr>\n      <th>0</th>\n      <td>A</td>\n      <td>126.0500</td>\n      <td>N/A</td>\n      <td>-0.064067</td>\n      <td>0.306163</td>\n      <td>-16.909856</td>\n      <td>0.089463</td>\n      <td>-5.668729</td>\n      <td>0.135189</td>\n      <td>5.569037</td>\n      <td>0.689861</td>\n      <td>0.305169</td>\n    </tr>\n    <tr>\n      <th>1</th>\n      <td>AAL</td>\n      <td>15.9791</td>\n      <td>N/A</td>\n      <td>0.084125</td>\n      <td>0.590457</td>\n      <td>-5.557920</td>\n      <td>0.300199</td>\n      <td>18.279790</td>\n      <td>0.749503</td>\n      <td>-12.775108</td>\n      <td>0.027833</td>\n      <td>0.416998</td>\n    </tr>\n    <tr>\n      <th>2</th>\n      <td>AAP</td>\n      <td>71.7700</td>\n      <td>N/A</td>\n      <td>-0.627598</td>\n      <td>0.001988</td>\n      <td>-51.917973</td>\n      <td>0.001988</td>\n      <td>-40.099385</td>\n      <td>0.001988</td>\n      <td>1.214864</td>\n      <td>0.457256</td>\n      <td>0.115805</td>\n    </tr>\n    <tr>\n      <th>3</th>\n      <td>AAPL</td>\n      <td>185.1089</td>\n      <td>N/A</td>\n      <td>0.156154</td>\n      <td>0.719682</td>\n      <td>22.347740</td>\n      <td>0.89662</td>\n      <td>11.801215</td>\n      <td>0.582505</td>\n      <td>-3.256575</td>\n      <td>0.2167</td>\n      <td>0.603877</td>\n    </tr>\n    <tr>\n      <th>4</th>\n      <td>ABBV</td>\n      <td>149.2150</td>\n      <td>N/A</td>\n      <td>0.079759</td>\n      <td>0.582505</td>\n      <td>4.990424</td>\n      <td>0.576541</td>\n      <td>2.381386</td>\n      <td>0.353877</td>\n      <td>9.649431</td>\n      <td>0.84493</td>\n      <td>0.589463</td>\n    </tr>\n    <tr>\n      <th>...</th>\n      <td>...</td>\n      <td>...</td>\n      <td>...</td>\n      <td>...</td>\n      <td>...</td>\n      <td>...</td>\n      <td>...</td>\n      <td>...</td>\n      <td>...</td>\n      <td>...</td>\n      <td>...</td>\n      <td>...</td>\n    </tr>\n    <tr>\n      <th>498</th>\n      <td>YUM</td>\n      <td>135.7500</td>\n      <td>N/A</td>\n      <td>0.145246</td>\n      <td>0.695825</td>\n      <td>6.160866</td>\n      <td>0.614314</td>\n      <td>0.046534</td>\n      <td>0.292247</td>\n      <td>-0.665889</td>\n      <td>0.351889</td>\n      <td>0.488569</td>\n    </tr>\n    <tr>\n      <th>499</th>\n      <td>ZBH</td>\n      <td>127.0000</td>\n      <td>N/A</td>\n      <td>0.110630</td>\n      <td>0.646123</td>\n      <td>-0.829496</td>\n      <td>0.437376</td>\n      <td>-6.893679</td>\n      <td>0.105368</td>\n      <td>-10.789548</td>\n      <td>0.047714</td>\n      <td>0.309145</td>\n    </tr>\n    <tr>\n      <th>500</th>\n      <td>ZBRA</td>\n      <td>251.9825</td>\n      <td>N/A</td>\n      <td>-0.247664</td>\n      <td>0.073559</td>\n      <td>-22.395291</td>\n      <td>0.059642</td>\n      <td>-4.912265</td>\n      <td>0.147117</td>\n      <td>-13.955099</td>\n      <td>0.019881</td>\n      <td>0.07505</td>\n    </tr>\n    <tr>\n      <th>501</th>\n      <td>ZION</td>\n      <td>37.9550</td>\n      <td>N/A</td>\n      <td>-0.307222</td>\n      <td>0.053678</td>\n      <td>-28.051563</td>\n      <td>0.031809</td>\n      <td>93.798253</td>\n      <td>1.0</td>\n      <td>35.756444</td>\n      <td>1.0</td>\n      <td>0.521372</td>\n    </tr>\n    <tr>\n      <th>502</th>\n      <td>ZTS</td>\n      <td>181.2500</td>\n      <td>N/A</td>\n      <td>0.035909</td>\n      <td>0.499006</td>\n      <td>10.373331</td>\n      <td>0.72167</td>\n      <td>1.781031</td>\n      <td>0.341948</td>\n      <td>7.262244</td>\n      <td>0.77336</td>\n      <td>0.583996</td>\n    </tr>\n  </tbody>\n</table>\n<p>503 rows × 12 columns</p>\n</div>"
     },
     "execution_count": 26,
     "metadata": {},
     "output_type": "execute_result"
    }
   ]
  },
  {
   "cell_type": "markdown",
   "source": [
    "## Selecting the 50 Best Momentum Stocks\n",
    "\n",
    "As before, we can identify the 50 best momentum stocks in our universe by sorting the DataFrame on the `HQM Score` column and dropping all but the top 50 entries."
   ],
   "metadata": {
    "collapsed": false
   }
  },
  {
   "cell_type": "code",
   "source": [
    "hqm_dataframe.sort_values('HQM Score', ascending=False, inplace=True)"
   ],
   "metadata": {
    "id": "0-E9hfvqAovr",
    "ExecuteTime": {
     "end_time": "2023-08-04T15:11:24.162200251Z",
     "start_time": "2023-08-04T15:11:24.144316737Z"
    }
   },
   "execution_count": 27,
   "outputs": []
  },
  {
   "cell_type": "code",
   "source": [
    "hqm_dataframe = hqm_dataframe[:50]\n",
    "hqm_dataframe.reset_index(drop=True, inplace=True)"
   ],
   "metadata": {
    "id": "P9TdkLNRBZWG",
    "ExecuteTime": {
     "end_time": "2023-08-04T15:11:24.217057509Z",
     "start_time": "2023-08-04T15:11:24.144652751Z"
    }
   },
   "execution_count": 28,
   "outputs": []
  },
  {
   "cell_type": "code",
   "source": [
    "hqm_dataframe"
   ],
   "metadata": {
    "colab": {
     "base_uri": "https://localhost:8080/",
     "height": 1000
    },
    "id": "emZwm-N7Bk2-",
    "outputId": "9c4a1cec-23b1-4b0c-83c3-03826bbed1bf",
    "ExecuteTime": {
     "end_time": "2023-08-04T15:11:24.219059003Z",
     "start_time": "2023-08-04T15:11:24.184820963Z"
    }
   },
   "execution_count": 29,
   "outputs": [
    {
     "data": {
      "text/plain": "   Ticker  Stock Price Number of Shares to Buy  1 Year Return  \\\n0    CARR      57.6300                     N/A       0.387297   \n1     MPC     139.3900                     N/A       0.509865   \n2    ANET     180.2500                     N/A       0.403221   \n3    NVDA     451.6700                     N/A       1.344252   \n4      ON     102.7250                     N/A       0.518557   \n5     PHM      84.0500                     N/A       0.921897   \n6    LRCX     695.1000                     N/A       0.333462   \n7    META     314.3429                     N/A       0.874155   \n8     ETN     218.3100                     N/A       0.460478   \n9     CEG     102.9550                     N/A       0.361238   \n10   BKNG    3116.1100                     N/A       0.475301   \n11    BKR      35.7500                     N/A       0.481712   \n12    SLB      58.4150                     N/A       0.672822   \n13   ADBE     528.1700                     N/A       0.208407   \n14     PH     417.8425                     N/A       0.428113   \n15    PSX     112.8300                     N/A       0.318171   \n16    PNR      69.5259                     N/A       0.412424   \n17   KLAC     501.2500                     N/A       0.269344   \n18   AVGO     881.8550                     N/A       0.604853   \n19    HAL      39.7900                     N/A       0.428212   \n20     BG     115.2400                     N/A       0.182326   \n21   TRGP      84.7700                     N/A       0.283898   \n22    RCL     104.6900                     N/A       1.639778   \n23   ODFL     409.0600                     N/A       0.362404   \n24   ATVI      91.7450                     N/A       0.139023   \n25    HES     153.6600                     N/A       0.476723   \n26     RL     135.4850                     N/A       0.319198   \n27    PWR     202.7500                     N/A       0.485209   \n28    DVA     108.9106                     N/A       0.185341   \n29   FICO     848.7500                     N/A       0.772504   \n30   AMAT     147.5000                     N/A       0.348385   \n31     DD      78.1950                     N/A       0.309953   \n32   FSLR     200.0650                     N/A       0.925810   \n33    DHI     125.6250                     N/A       0.612967   \n34    APA      42.2700                     N/A       0.312126   \n35    MAR     203.4800                     N/A       0.279218   \n36     BA     233.0700                     N/A       0.401842   \n37    AFL      77.8900                     N/A       0.296483   \n38   FANG     149.4400                     N/A       0.222790   \n39    JPM     157.4500                     N/A       0.350639   \n40    CAT     280.3777                     N/A       0.059104   \n41    COP     115.7450                     N/A       0.238449   \n42   NXPI     214.5675                     N/A       0.188759   \n43    FTV      78.3000                     N/A       0.197487   \n44     GE     112.5300                     N/A       0.935626   \n45    URI     467.9300                     N/A       0.437714   \n46    CZR      56.7452                     N/A       0.153765   \n47     TT     205.9200                     N/A       0.329856   \n48    TDG     908.9000                     N/A       0.403071   \n49    PKG     156.1450                     N/A       0.147907   \n\n   1 Year Return Percentile  6 Months Return 6 Months Return Percentile  \\\n0                  0.918489        25.923295                   0.926441   \n1                  0.962227        21.264874                   0.890656   \n2                  0.926441        38.985270                   0.980119   \n3                  0.998012       114.231818                        1.0   \n4                  0.966203        27.767409                   0.944334   \n5                  0.992048        46.961988                    0.99006   \n6                  0.888668        34.282694                   0.968191   \n7                  0.988072        68.947060                   0.998012   \n8                   0.94831        35.825718                   0.970179   \n9                  0.904573        24.538563                   0.918489   \n10                 0.950298        26.160860                   0.934394   \n11                 0.956262        13.689972                   0.809145   \n12                 0.980119        11.151935                   0.741551   \n13                 0.789264        40.758992                   0.986083   \n14                  0.93837        20.729812                   0.882704   \n15                 0.878728        17.482869                   0.850895   \n16                 0.928429        20.297247                   0.878728   \n17                 0.848907        24.403006                   0.916501   \n18                 0.976143        48.500596                   0.994036   \n19                 0.940358         4.850498                   0.572565   \n20                 0.749503        17.271373                   0.846918   \n21                 0.858847        18.401624                   0.858847   \n22                      1.0        51.527005                   0.996024   \n23                 0.906561        10.956382                   0.737575   \n24                 0.687873        29.553972                   0.950298   \n25                 0.952286        12.644150                   0.779324   \n26                 0.884692        13.420705                   0.807157   \n27                  0.95825        32.880299                   0.962227   \n28                 0.753479        29.696249                   0.952286   \n29                 0.984095        26.030141                   0.932406   \n30                 0.898608        25.946515                   0.928429   \n31                 0.868787         9.688935                   0.705765   \n32                 0.994036        19.463188                   0.872763   \n33                 0.978131        28.249480                   0.946322   \n34                 0.872763         1.917469                   0.516899   \n35                 0.856859        18.727098                   0.862823   \n36                 0.922465        12.697650                   0.785288   \n37                 0.862823        13.329331                   0.805169   \n38                 0.797217        11.953359                   0.757455   \n39                 0.900596        12.581355                   0.777336   \n40                 0.538767        12.678249                     0.7833   \n41                 0.815109        10.047410                   0.713718   \n42                 0.759443        15.803221                   0.838966   \n43                  0.77336        13.822250                   0.811133   \n44                 0.996024        36.876268                   0.974155   \n45                 0.944334         3.865458                   0.554672   \n46                 0.713718         6.065796                    0.60835   \n47                  0.88668        12.263314                   0.771372   \n48                 0.924453        26.174784                   0.936382   \n49                 0.699801        11.621114                   0.747515   \n\n    3 Months Return 3 Months Return Percentile  1 Month Return  \\\n0         40.759022                   0.978131       17.069453   \n1         33.582173                   0.946322       19.946649   \n2         33.183098                   0.942346       12.882019   \n3         63.891149                   0.994036        6.734882   \n4         31.986376                   0.936382       10.516409   \n5         26.913105                   0.894632        8.985996   \n6         36.072153                   0.964215       10.582576   \n7         34.610693                   0.956262        6.786022   \n8         30.272106                   0.912525        9.758675   \n9         31.469290                   0.926441       11.737576   \n10        19.686047                   0.789264       16.533661   \n11        32.234554                    0.93837       13.348126   \n12        30.314365                   0.914513       18.488848   \n13        57.529122                    0.99006        8.572429   \n14        30.237647                   0.910537        9.140001   \n15        23.577146                   0.858847       17.372314   \n16        22.124074                   0.829026       10.061958   \n17        34.753766                   0.960239        7.125301   \n18        45.298477                   0.984095        2.319982   \n19        37.820014                   0.974155       19.849398   \n20        29.881001                   0.906561       17.042453   \n21        22.998439                    0.84493       11.575435   \n22        45.645529                   0.986083        1.404499   \n23        31.175526                   0.922465       11.239220   \n24        24.325960                   0.870775       11.903859   \n25        17.729055                   0.737575       14.296341   \n26        24.110196                   0.866799        8.779604   \n27        22.669046                   0.836978        3.894443   \n28        24.848066                   0.878728        7.419097   \n29        15.217535                   0.673956        7.169467   \n30        31.507455                   0.928429        3.683401   \n31        23.289202                   0.856859       12.564061   \n32        16.594794                   0.703777        7.015248   \n33        17.165639                   0.715706        5.310587   \n34        31.896204                   0.934394       23.768503   \n35        15.656630                    0.67992       11.728531   \n36        18.279626                   0.747515        9.291645   \n37        17.312409                    0.72167       11.414669   \n38        19.357965                   0.775348       14.425724   \n39        18.201102                   0.745527        8.856470   \n40        33.932013                    0.94831       15.086460   \n41        20.214431                   0.795229       11.271877   \n42        31.706907                   0.930417        5.350570   \n43        22.962021                   0.842942        7.187842   \n44        13.384221                   0.626243        3.647685   \n45        43.117852                   0.982107        5.955209   \n46        30.869927                   0.916501       15.265492   \n47        17.540062                   0.725646        8.510299   \n48        19.593684                   0.787276        2.517540   \n49        18.480455                   0.751491       20.083831   \n\n   1 Month Return Percentile HQM Score  \n0                   0.962227  0.946322  \n1                   0.982107  0.945328  \n2                   0.914513  0.940855  \n3                   0.743539  0.933897  \n4                   0.870775  0.929423  \n5                   0.817097  0.923459  \n6                   0.872763  0.923459  \n7                   0.747515  0.922465  \n8                   0.846918  0.919483  \n9                   0.898608  0.912028  \n10                  0.954274  0.907058  \n11                  0.922465  0.906561  \n12                  0.974155  0.902584  \n13                  0.807157  0.893141  \n14                   0.82505  0.889165  \n15                  0.964215  0.888171  \n16                  0.852883  0.872266  \n17                  0.761431  0.871769  \n18                  0.516899  0.867793  \n19                  0.980119  0.866799  \n20                  0.960239  0.865805  \n21                  0.894632  0.864314  \n22                  0.469185  0.862823  \n23                  0.884692  0.862823  \n24                  0.900596  0.852386  \n25                  0.930417  0.849901  \n26                  0.811133  0.842445  \n27                  0.610338  0.841948  \n28                  0.779324  0.840954  \n29                  0.765408  0.838966  \n30                   0.59841  0.838469  \n31                  0.910537  0.835487  \n32                  0.757455  0.832008  \n33                  0.677932  0.829523  \n34                  0.992048  0.829026  \n35                   0.89662  0.824056  \n36                  0.829026  0.821074  \n37                  0.890656   0.82008  \n38                  0.932406  0.815606  \n39                  0.813121  0.809145  \n40                  0.942346  0.803181  \n41                   0.88668  0.802684  \n42                   0.67992  0.802187  \n43                  0.769384  0.799205  \n44                  0.596421  0.798211  \n45                  0.709742  0.797714  \n46                   0.94831   0.79672  \n47                  0.801193  0.796223  \n48                  0.534791  0.795726  \n49                  0.984095  0.795726  ",
      "text/html": "<div>\n<style scoped>\n    .dataframe tbody tr th:only-of-type {\n        vertical-align: middle;\n    }\n\n    .dataframe tbody tr th {\n        vertical-align: top;\n    }\n\n    .dataframe thead th {\n        text-align: right;\n    }\n</style>\n<table border=\"1\" class=\"dataframe\">\n  <thead>\n    <tr style=\"text-align: right;\">\n      <th></th>\n      <th>Ticker</th>\n      <th>Stock Price</th>\n      <th>Number of Shares to Buy</th>\n      <th>1 Year Return</th>\n      <th>1 Year Return Percentile</th>\n      <th>6 Months Return</th>\n      <th>6 Months Return Percentile</th>\n      <th>3 Months Return</th>\n      <th>3 Months Return Percentile</th>\n      <th>1 Month Return</th>\n      <th>1 Month Return Percentile</th>\n      <th>HQM Score</th>\n    </tr>\n  </thead>\n  <tbody>\n    <tr>\n      <th>0</th>\n      <td>CARR</td>\n      <td>57.6300</td>\n      <td>N/A</td>\n      <td>0.387297</td>\n      <td>0.918489</td>\n      <td>25.923295</td>\n      <td>0.926441</td>\n      <td>40.759022</td>\n      <td>0.978131</td>\n      <td>17.069453</td>\n      <td>0.962227</td>\n      <td>0.946322</td>\n    </tr>\n    <tr>\n      <th>1</th>\n      <td>MPC</td>\n      <td>139.3900</td>\n      <td>N/A</td>\n      <td>0.509865</td>\n      <td>0.962227</td>\n      <td>21.264874</td>\n      <td>0.890656</td>\n      <td>33.582173</td>\n      <td>0.946322</td>\n      <td>19.946649</td>\n      <td>0.982107</td>\n      <td>0.945328</td>\n    </tr>\n    <tr>\n      <th>2</th>\n      <td>ANET</td>\n      <td>180.2500</td>\n      <td>N/A</td>\n      <td>0.403221</td>\n      <td>0.926441</td>\n      <td>38.985270</td>\n      <td>0.980119</td>\n      <td>33.183098</td>\n      <td>0.942346</td>\n      <td>12.882019</td>\n      <td>0.914513</td>\n      <td>0.940855</td>\n    </tr>\n    <tr>\n      <th>3</th>\n      <td>NVDA</td>\n      <td>451.6700</td>\n      <td>N/A</td>\n      <td>1.344252</td>\n      <td>0.998012</td>\n      <td>114.231818</td>\n      <td>1.0</td>\n      <td>63.891149</td>\n      <td>0.994036</td>\n      <td>6.734882</td>\n      <td>0.743539</td>\n      <td>0.933897</td>\n    </tr>\n    <tr>\n      <th>4</th>\n      <td>ON</td>\n      <td>102.7250</td>\n      <td>N/A</td>\n      <td>0.518557</td>\n      <td>0.966203</td>\n      <td>27.767409</td>\n      <td>0.944334</td>\n      <td>31.986376</td>\n      <td>0.936382</td>\n      <td>10.516409</td>\n      <td>0.870775</td>\n      <td>0.929423</td>\n    </tr>\n    <tr>\n      <th>5</th>\n      <td>PHM</td>\n      <td>84.0500</td>\n      <td>N/A</td>\n      <td>0.921897</td>\n      <td>0.992048</td>\n      <td>46.961988</td>\n      <td>0.99006</td>\n      <td>26.913105</td>\n      <td>0.894632</td>\n      <td>8.985996</td>\n      <td>0.817097</td>\n      <td>0.923459</td>\n    </tr>\n    <tr>\n      <th>6</th>\n      <td>LRCX</td>\n      <td>695.1000</td>\n      <td>N/A</td>\n      <td>0.333462</td>\n      <td>0.888668</td>\n      <td>34.282694</td>\n      <td>0.968191</td>\n      <td>36.072153</td>\n      <td>0.964215</td>\n      <td>10.582576</td>\n      <td>0.872763</td>\n      <td>0.923459</td>\n    </tr>\n    <tr>\n      <th>7</th>\n      <td>META</td>\n      <td>314.3429</td>\n      <td>N/A</td>\n      <td>0.874155</td>\n      <td>0.988072</td>\n      <td>68.947060</td>\n      <td>0.998012</td>\n      <td>34.610693</td>\n      <td>0.956262</td>\n      <td>6.786022</td>\n      <td>0.747515</td>\n      <td>0.922465</td>\n    </tr>\n    <tr>\n      <th>8</th>\n      <td>ETN</td>\n      <td>218.3100</td>\n      <td>N/A</td>\n      <td>0.460478</td>\n      <td>0.94831</td>\n      <td>35.825718</td>\n      <td>0.970179</td>\n      <td>30.272106</td>\n      <td>0.912525</td>\n      <td>9.758675</td>\n      <td>0.846918</td>\n      <td>0.919483</td>\n    </tr>\n    <tr>\n      <th>9</th>\n      <td>CEG</td>\n      <td>102.9550</td>\n      <td>N/A</td>\n      <td>0.361238</td>\n      <td>0.904573</td>\n      <td>24.538563</td>\n      <td>0.918489</td>\n      <td>31.469290</td>\n      <td>0.926441</td>\n      <td>11.737576</td>\n      <td>0.898608</td>\n      <td>0.912028</td>\n    </tr>\n    <tr>\n      <th>10</th>\n      <td>BKNG</td>\n      <td>3116.1100</td>\n      <td>N/A</td>\n      <td>0.475301</td>\n      <td>0.950298</td>\n      <td>26.160860</td>\n      <td>0.934394</td>\n      <td>19.686047</td>\n      <td>0.789264</td>\n      <td>16.533661</td>\n      <td>0.954274</td>\n      <td>0.907058</td>\n    </tr>\n    <tr>\n      <th>11</th>\n      <td>BKR</td>\n      <td>35.7500</td>\n      <td>N/A</td>\n      <td>0.481712</td>\n      <td>0.956262</td>\n      <td>13.689972</td>\n      <td>0.809145</td>\n      <td>32.234554</td>\n      <td>0.93837</td>\n      <td>13.348126</td>\n      <td>0.922465</td>\n      <td>0.906561</td>\n    </tr>\n    <tr>\n      <th>12</th>\n      <td>SLB</td>\n      <td>58.4150</td>\n      <td>N/A</td>\n      <td>0.672822</td>\n      <td>0.980119</td>\n      <td>11.151935</td>\n      <td>0.741551</td>\n      <td>30.314365</td>\n      <td>0.914513</td>\n      <td>18.488848</td>\n      <td>0.974155</td>\n      <td>0.902584</td>\n    </tr>\n    <tr>\n      <th>13</th>\n      <td>ADBE</td>\n      <td>528.1700</td>\n      <td>N/A</td>\n      <td>0.208407</td>\n      <td>0.789264</td>\n      <td>40.758992</td>\n      <td>0.986083</td>\n      <td>57.529122</td>\n      <td>0.99006</td>\n      <td>8.572429</td>\n      <td>0.807157</td>\n      <td>0.893141</td>\n    </tr>\n    <tr>\n      <th>14</th>\n      <td>PH</td>\n      <td>417.8425</td>\n      <td>N/A</td>\n      <td>0.428113</td>\n      <td>0.93837</td>\n      <td>20.729812</td>\n      <td>0.882704</td>\n      <td>30.237647</td>\n      <td>0.910537</td>\n      <td>9.140001</td>\n      <td>0.82505</td>\n      <td>0.889165</td>\n    </tr>\n    <tr>\n      <th>15</th>\n      <td>PSX</td>\n      <td>112.8300</td>\n      <td>N/A</td>\n      <td>0.318171</td>\n      <td>0.878728</td>\n      <td>17.482869</td>\n      <td>0.850895</td>\n      <td>23.577146</td>\n      <td>0.858847</td>\n      <td>17.372314</td>\n      <td>0.964215</td>\n      <td>0.888171</td>\n    </tr>\n    <tr>\n      <th>16</th>\n      <td>PNR</td>\n      <td>69.5259</td>\n      <td>N/A</td>\n      <td>0.412424</td>\n      <td>0.928429</td>\n      <td>20.297247</td>\n      <td>0.878728</td>\n      <td>22.124074</td>\n      <td>0.829026</td>\n      <td>10.061958</td>\n      <td>0.852883</td>\n      <td>0.872266</td>\n    </tr>\n    <tr>\n      <th>17</th>\n      <td>KLAC</td>\n      <td>501.2500</td>\n      <td>N/A</td>\n      <td>0.269344</td>\n      <td>0.848907</td>\n      <td>24.403006</td>\n      <td>0.916501</td>\n      <td>34.753766</td>\n      <td>0.960239</td>\n      <td>7.125301</td>\n      <td>0.761431</td>\n      <td>0.871769</td>\n    </tr>\n    <tr>\n      <th>18</th>\n      <td>AVGO</td>\n      <td>881.8550</td>\n      <td>N/A</td>\n      <td>0.604853</td>\n      <td>0.976143</td>\n      <td>48.500596</td>\n      <td>0.994036</td>\n      <td>45.298477</td>\n      <td>0.984095</td>\n      <td>2.319982</td>\n      <td>0.516899</td>\n      <td>0.867793</td>\n    </tr>\n    <tr>\n      <th>19</th>\n      <td>HAL</td>\n      <td>39.7900</td>\n      <td>N/A</td>\n      <td>0.428212</td>\n      <td>0.940358</td>\n      <td>4.850498</td>\n      <td>0.572565</td>\n      <td>37.820014</td>\n      <td>0.974155</td>\n      <td>19.849398</td>\n      <td>0.980119</td>\n      <td>0.866799</td>\n    </tr>\n    <tr>\n      <th>20</th>\n      <td>BG</td>\n      <td>115.2400</td>\n      <td>N/A</td>\n      <td>0.182326</td>\n      <td>0.749503</td>\n      <td>17.271373</td>\n      <td>0.846918</td>\n      <td>29.881001</td>\n      <td>0.906561</td>\n      <td>17.042453</td>\n      <td>0.960239</td>\n      <td>0.865805</td>\n    </tr>\n    <tr>\n      <th>21</th>\n      <td>TRGP</td>\n      <td>84.7700</td>\n      <td>N/A</td>\n      <td>0.283898</td>\n      <td>0.858847</td>\n      <td>18.401624</td>\n      <td>0.858847</td>\n      <td>22.998439</td>\n      <td>0.84493</td>\n      <td>11.575435</td>\n      <td>0.894632</td>\n      <td>0.864314</td>\n    </tr>\n    <tr>\n      <th>22</th>\n      <td>RCL</td>\n      <td>104.6900</td>\n      <td>N/A</td>\n      <td>1.639778</td>\n      <td>1.0</td>\n      <td>51.527005</td>\n      <td>0.996024</td>\n      <td>45.645529</td>\n      <td>0.986083</td>\n      <td>1.404499</td>\n      <td>0.469185</td>\n      <td>0.862823</td>\n    </tr>\n    <tr>\n      <th>23</th>\n      <td>ODFL</td>\n      <td>409.0600</td>\n      <td>N/A</td>\n      <td>0.362404</td>\n      <td>0.906561</td>\n      <td>10.956382</td>\n      <td>0.737575</td>\n      <td>31.175526</td>\n      <td>0.922465</td>\n      <td>11.239220</td>\n      <td>0.884692</td>\n      <td>0.862823</td>\n    </tr>\n    <tr>\n      <th>24</th>\n      <td>ATVI</td>\n      <td>91.7450</td>\n      <td>N/A</td>\n      <td>0.139023</td>\n      <td>0.687873</td>\n      <td>29.553972</td>\n      <td>0.950298</td>\n      <td>24.325960</td>\n      <td>0.870775</td>\n      <td>11.903859</td>\n      <td>0.900596</td>\n      <td>0.852386</td>\n    </tr>\n    <tr>\n      <th>25</th>\n      <td>HES</td>\n      <td>153.6600</td>\n      <td>N/A</td>\n      <td>0.476723</td>\n      <td>0.952286</td>\n      <td>12.644150</td>\n      <td>0.779324</td>\n      <td>17.729055</td>\n      <td>0.737575</td>\n      <td>14.296341</td>\n      <td>0.930417</td>\n      <td>0.849901</td>\n    </tr>\n    <tr>\n      <th>26</th>\n      <td>RL</td>\n      <td>135.4850</td>\n      <td>N/A</td>\n      <td>0.319198</td>\n      <td>0.884692</td>\n      <td>13.420705</td>\n      <td>0.807157</td>\n      <td>24.110196</td>\n      <td>0.866799</td>\n      <td>8.779604</td>\n      <td>0.811133</td>\n      <td>0.842445</td>\n    </tr>\n    <tr>\n      <th>27</th>\n      <td>PWR</td>\n      <td>202.7500</td>\n      <td>N/A</td>\n      <td>0.485209</td>\n      <td>0.95825</td>\n      <td>32.880299</td>\n      <td>0.962227</td>\n      <td>22.669046</td>\n      <td>0.836978</td>\n      <td>3.894443</td>\n      <td>0.610338</td>\n      <td>0.841948</td>\n    </tr>\n    <tr>\n      <th>28</th>\n      <td>DVA</td>\n      <td>108.9106</td>\n      <td>N/A</td>\n      <td>0.185341</td>\n      <td>0.753479</td>\n      <td>29.696249</td>\n      <td>0.952286</td>\n      <td>24.848066</td>\n      <td>0.878728</td>\n      <td>7.419097</td>\n      <td>0.779324</td>\n      <td>0.840954</td>\n    </tr>\n    <tr>\n      <th>29</th>\n      <td>FICO</td>\n      <td>848.7500</td>\n      <td>N/A</td>\n      <td>0.772504</td>\n      <td>0.984095</td>\n      <td>26.030141</td>\n      <td>0.932406</td>\n      <td>15.217535</td>\n      <td>0.673956</td>\n      <td>7.169467</td>\n      <td>0.765408</td>\n      <td>0.838966</td>\n    </tr>\n    <tr>\n      <th>30</th>\n      <td>AMAT</td>\n      <td>147.5000</td>\n      <td>N/A</td>\n      <td>0.348385</td>\n      <td>0.898608</td>\n      <td>25.946515</td>\n      <td>0.928429</td>\n      <td>31.507455</td>\n      <td>0.928429</td>\n      <td>3.683401</td>\n      <td>0.59841</td>\n      <td>0.838469</td>\n    </tr>\n    <tr>\n      <th>31</th>\n      <td>DD</td>\n      <td>78.1950</td>\n      <td>N/A</td>\n      <td>0.309953</td>\n      <td>0.868787</td>\n      <td>9.688935</td>\n      <td>0.705765</td>\n      <td>23.289202</td>\n      <td>0.856859</td>\n      <td>12.564061</td>\n      <td>0.910537</td>\n      <td>0.835487</td>\n    </tr>\n    <tr>\n      <th>32</th>\n      <td>FSLR</td>\n      <td>200.0650</td>\n      <td>N/A</td>\n      <td>0.925810</td>\n      <td>0.994036</td>\n      <td>19.463188</td>\n      <td>0.872763</td>\n      <td>16.594794</td>\n      <td>0.703777</td>\n      <td>7.015248</td>\n      <td>0.757455</td>\n      <td>0.832008</td>\n    </tr>\n    <tr>\n      <th>33</th>\n      <td>DHI</td>\n      <td>125.6250</td>\n      <td>N/A</td>\n      <td>0.612967</td>\n      <td>0.978131</td>\n      <td>28.249480</td>\n      <td>0.946322</td>\n      <td>17.165639</td>\n      <td>0.715706</td>\n      <td>5.310587</td>\n      <td>0.677932</td>\n      <td>0.829523</td>\n    </tr>\n    <tr>\n      <th>34</th>\n      <td>APA</td>\n      <td>42.2700</td>\n      <td>N/A</td>\n      <td>0.312126</td>\n      <td>0.872763</td>\n      <td>1.917469</td>\n      <td>0.516899</td>\n      <td>31.896204</td>\n      <td>0.934394</td>\n      <td>23.768503</td>\n      <td>0.992048</td>\n      <td>0.829026</td>\n    </tr>\n    <tr>\n      <th>35</th>\n      <td>MAR</td>\n      <td>203.4800</td>\n      <td>N/A</td>\n      <td>0.279218</td>\n      <td>0.856859</td>\n      <td>18.727098</td>\n      <td>0.862823</td>\n      <td>15.656630</td>\n      <td>0.67992</td>\n      <td>11.728531</td>\n      <td>0.89662</td>\n      <td>0.824056</td>\n    </tr>\n    <tr>\n      <th>36</th>\n      <td>BA</td>\n      <td>233.0700</td>\n      <td>N/A</td>\n      <td>0.401842</td>\n      <td>0.922465</td>\n      <td>12.697650</td>\n      <td>0.785288</td>\n      <td>18.279626</td>\n      <td>0.747515</td>\n      <td>9.291645</td>\n      <td>0.829026</td>\n      <td>0.821074</td>\n    </tr>\n    <tr>\n      <th>37</th>\n      <td>AFL</td>\n      <td>77.8900</td>\n      <td>N/A</td>\n      <td>0.296483</td>\n      <td>0.862823</td>\n      <td>13.329331</td>\n      <td>0.805169</td>\n      <td>17.312409</td>\n      <td>0.72167</td>\n      <td>11.414669</td>\n      <td>0.890656</td>\n      <td>0.82008</td>\n    </tr>\n    <tr>\n      <th>38</th>\n      <td>FANG</td>\n      <td>149.4400</td>\n      <td>N/A</td>\n      <td>0.222790</td>\n      <td>0.797217</td>\n      <td>11.953359</td>\n      <td>0.757455</td>\n      <td>19.357965</td>\n      <td>0.775348</td>\n      <td>14.425724</td>\n      <td>0.932406</td>\n      <td>0.815606</td>\n    </tr>\n    <tr>\n      <th>39</th>\n      <td>JPM</td>\n      <td>157.4500</td>\n      <td>N/A</td>\n      <td>0.350639</td>\n      <td>0.900596</td>\n      <td>12.581355</td>\n      <td>0.777336</td>\n      <td>18.201102</td>\n      <td>0.745527</td>\n      <td>8.856470</td>\n      <td>0.813121</td>\n      <td>0.809145</td>\n    </tr>\n    <tr>\n      <th>40</th>\n      <td>CAT</td>\n      <td>280.3777</td>\n      <td>N/A</td>\n      <td>0.059104</td>\n      <td>0.538767</td>\n      <td>12.678249</td>\n      <td>0.7833</td>\n      <td>33.932013</td>\n      <td>0.94831</td>\n      <td>15.086460</td>\n      <td>0.942346</td>\n      <td>0.803181</td>\n    </tr>\n    <tr>\n      <th>41</th>\n      <td>COP</td>\n      <td>115.7450</td>\n      <td>N/A</td>\n      <td>0.238449</td>\n      <td>0.815109</td>\n      <td>10.047410</td>\n      <td>0.713718</td>\n      <td>20.214431</td>\n      <td>0.795229</td>\n      <td>11.271877</td>\n      <td>0.88668</td>\n      <td>0.802684</td>\n    </tr>\n    <tr>\n      <th>42</th>\n      <td>NXPI</td>\n      <td>214.5675</td>\n      <td>N/A</td>\n      <td>0.188759</td>\n      <td>0.759443</td>\n      <td>15.803221</td>\n      <td>0.838966</td>\n      <td>31.706907</td>\n      <td>0.930417</td>\n      <td>5.350570</td>\n      <td>0.67992</td>\n      <td>0.802187</td>\n    </tr>\n    <tr>\n      <th>43</th>\n      <td>FTV</td>\n      <td>78.3000</td>\n      <td>N/A</td>\n      <td>0.197487</td>\n      <td>0.77336</td>\n      <td>13.822250</td>\n      <td>0.811133</td>\n      <td>22.962021</td>\n      <td>0.842942</td>\n      <td>7.187842</td>\n      <td>0.769384</td>\n      <td>0.799205</td>\n    </tr>\n    <tr>\n      <th>44</th>\n      <td>GE</td>\n      <td>112.5300</td>\n      <td>N/A</td>\n      <td>0.935626</td>\n      <td>0.996024</td>\n      <td>36.876268</td>\n      <td>0.974155</td>\n      <td>13.384221</td>\n      <td>0.626243</td>\n      <td>3.647685</td>\n      <td>0.596421</td>\n      <td>0.798211</td>\n    </tr>\n    <tr>\n      <th>45</th>\n      <td>URI</td>\n      <td>467.9300</td>\n      <td>N/A</td>\n      <td>0.437714</td>\n      <td>0.944334</td>\n      <td>3.865458</td>\n      <td>0.554672</td>\n      <td>43.117852</td>\n      <td>0.982107</td>\n      <td>5.955209</td>\n      <td>0.709742</td>\n      <td>0.797714</td>\n    </tr>\n    <tr>\n      <th>46</th>\n      <td>CZR</td>\n      <td>56.7452</td>\n      <td>N/A</td>\n      <td>0.153765</td>\n      <td>0.713718</td>\n      <td>6.065796</td>\n      <td>0.60835</td>\n      <td>30.869927</td>\n      <td>0.916501</td>\n      <td>15.265492</td>\n      <td>0.94831</td>\n      <td>0.79672</td>\n    </tr>\n    <tr>\n      <th>47</th>\n      <td>TT</td>\n      <td>205.9200</td>\n      <td>N/A</td>\n      <td>0.329856</td>\n      <td>0.88668</td>\n      <td>12.263314</td>\n      <td>0.771372</td>\n      <td>17.540062</td>\n      <td>0.725646</td>\n      <td>8.510299</td>\n      <td>0.801193</td>\n      <td>0.796223</td>\n    </tr>\n    <tr>\n      <th>48</th>\n      <td>TDG</td>\n      <td>908.9000</td>\n      <td>N/A</td>\n      <td>0.403071</td>\n      <td>0.924453</td>\n      <td>26.174784</td>\n      <td>0.936382</td>\n      <td>19.593684</td>\n      <td>0.787276</td>\n      <td>2.517540</td>\n      <td>0.534791</td>\n      <td>0.795726</td>\n    </tr>\n    <tr>\n      <th>49</th>\n      <td>PKG</td>\n      <td>156.1450</td>\n      <td>N/A</td>\n      <td>0.147907</td>\n      <td>0.699801</td>\n      <td>11.621114</td>\n      <td>0.747515</td>\n      <td>18.480455</td>\n      <td>0.751491</td>\n      <td>20.083831</td>\n      <td>0.984095</td>\n      <td>0.795726</td>\n    </tr>\n  </tbody>\n</table>\n</div>"
     },
     "execution_count": 29,
     "metadata": {},
     "output_type": "execute_result"
    }
   ]
  },
  {
   "cell_type": "markdown",
   "source": [
    "## Calculating the Number of Shares to Buy\n",
    "\n",
    "As we can see in the DataFrame above, we stil haven't calculated the number of shares of each stock to buy."
   ],
   "metadata": {
    "collapsed": false
   }
  },
  {
   "cell_type": "code",
   "source": [
    "# portfolio_size = float(input(\"Enter your portfolio value: \"))\n",
    "portfolio_size = 10000000\n",
    "portfolio_size"
   ],
   "metadata": {
    "colab": {
     "base_uri": "https://localhost:8080/"
    },
    "id": "EdlinDPdBsV5",
    "outputId": "39f5f4ba-1f28-4728-8635-a3dd82777b18",
    "ExecuteTime": {
     "end_time": "2023-08-04T15:11:24.280754103Z",
     "start_time": "2023-08-04T15:11:24.193397537Z"
    }
   },
   "execution_count": 30,
   "outputs": [
    {
     "data": {
      "text/plain": "10000000"
     },
     "execution_count": 30,
     "metadata": {},
     "output_type": "execute_result"
    }
   ]
  },
  {
   "cell_type": "code",
   "source": [
    "position_size = portfolio_size / len(final_dataframe.index)\n",
    "position_size"
   ],
   "metadata": {
    "colab": {
     "base_uri": "https://localhost:8080/"
    },
    "id": "cHFqCXXNB4A5",
    "outputId": "03e6b75d-1db5-439d-9a79-664ae30b0683",
    "ExecuteTime": {
     "end_time": "2023-08-04T15:11:24.360309104Z",
     "start_time": "2023-08-04T15:11:24.200039716Z"
    }
   },
   "execution_count": 31,
   "outputs": [
    {
     "data": {
      "text/plain": "200000.0"
     },
     "execution_count": 31,
     "metadata": {},
     "output_type": "execute_result"
    }
   ]
  },
  {
   "cell_type": "code",
   "source": [
    "for i in range(len(hqm_dataframe.index)):\n",
    "    hqm_dataframe.loc[i, 'Number of Shares to Buy'] = math.floor(position_size / hqm_dataframe.loc[i, 'Stock Price'])\n",
    "\n",
    "hqm_dataframe"
   ],
   "metadata": {
    "colab": {
     "base_uri": "https://localhost:8080/",
     "height": 702
    },
    "id": "b17SIFHSB7Fe",
    "outputId": "18cd2483-77cd-4df8-dbbd-dccd791194bc",
    "ExecuteTime": {
     "end_time": "2023-08-04T15:11:24.362108114Z",
     "start_time": "2023-08-04T15:11:24.244416775Z"
    }
   },
   "execution_count": 32,
   "outputs": [
    {
     "data": {
      "text/plain": "   Ticker  Stock Price Number of Shares to Buy  1 Year Return  \\\n0    CARR      57.6300                    3470       0.387297   \n1     MPC     139.3900                    1434       0.509865   \n2    ANET     180.2500                    1109       0.403221   \n3    NVDA     451.6700                     442       1.344252   \n4      ON     102.7250                    1946       0.518557   \n5     PHM      84.0500                    2379       0.921897   \n6    LRCX     695.1000                     287       0.333462   \n7    META     314.3429                     636       0.874155   \n8     ETN     218.3100                     916       0.460478   \n9     CEG     102.9550                    1942       0.361238   \n10   BKNG    3116.1100                      64       0.475301   \n11    BKR      35.7500                    5594       0.481712   \n12    SLB      58.4150                    3423       0.672822   \n13   ADBE     528.1700                     378       0.208407   \n14     PH     417.8425                     478       0.428113   \n15    PSX     112.8300                    1772       0.318171   \n16    PNR      69.5259                    2876       0.412424   \n17   KLAC     501.2500                     399       0.269344   \n18   AVGO     881.8550                     226       0.604853   \n19    HAL      39.7900                    5026       0.428212   \n20     BG     115.2400                    1735       0.182326   \n21   TRGP      84.7700                    2359       0.283898   \n22    RCL     104.6900                    1910       1.639778   \n23   ODFL     409.0600                     488       0.362404   \n24   ATVI      91.7450                    2179       0.139023   \n25    HES     153.6600                    1301       0.476723   \n26     RL     135.4850                    1476       0.319198   \n27    PWR     202.7500                     986       0.485209   \n28    DVA     108.9106                    1836       0.185341   \n29   FICO     848.7500                     235       0.772504   \n30   AMAT     147.5000                    1355       0.348385   \n31     DD      78.1950                    2557       0.309953   \n32   FSLR     200.0650                     999       0.925810   \n33    DHI     125.6250                    1592       0.612967   \n34    APA      42.2700                    4731       0.312126   \n35    MAR     203.4800                     982       0.279218   \n36     BA     233.0700                     858       0.401842   \n37    AFL      77.8900                    2567       0.296483   \n38   FANG     149.4400                    1338       0.222790   \n39    JPM     157.4500                    1270       0.350639   \n40    CAT     280.3777                     713       0.059104   \n41    COP     115.7450                    1727       0.238449   \n42   NXPI     214.5675                     932       0.188759   \n43    FTV      78.3000                    2554       0.197487   \n44     GE     112.5300                    1777       0.935626   \n45    URI     467.9300                     427       0.437714   \n46    CZR      56.7452                    3524       0.153765   \n47     TT     205.9200                     971       0.329856   \n48    TDG     908.9000                     220       0.403071   \n49    PKG     156.1450                    1280       0.147907   \n\n   1 Year Return Percentile  6 Months Return 6 Months Return Percentile  \\\n0                  0.918489        25.923295                   0.926441   \n1                  0.962227        21.264874                   0.890656   \n2                  0.926441        38.985270                   0.980119   \n3                  0.998012       114.231818                        1.0   \n4                  0.966203        27.767409                   0.944334   \n5                  0.992048        46.961988                    0.99006   \n6                  0.888668        34.282694                   0.968191   \n7                  0.988072        68.947060                   0.998012   \n8                   0.94831        35.825718                   0.970179   \n9                  0.904573        24.538563                   0.918489   \n10                 0.950298        26.160860                   0.934394   \n11                 0.956262        13.689972                   0.809145   \n12                 0.980119        11.151935                   0.741551   \n13                 0.789264        40.758992                   0.986083   \n14                  0.93837        20.729812                   0.882704   \n15                 0.878728        17.482869                   0.850895   \n16                 0.928429        20.297247                   0.878728   \n17                 0.848907        24.403006                   0.916501   \n18                 0.976143        48.500596                   0.994036   \n19                 0.940358         4.850498                   0.572565   \n20                 0.749503        17.271373                   0.846918   \n21                 0.858847        18.401624                   0.858847   \n22                      1.0        51.527005                   0.996024   \n23                 0.906561        10.956382                   0.737575   \n24                 0.687873        29.553972                   0.950298   \n25                 0.952286        12.644150                   0.779324   \n26                 0.884692        13.420705                   0.807157   \n27                  0.95825        32.880299                   0.962227   \n28                 0.753479        29.696249                   0.952286   \n29                 0.984095        26.030141                   0.932406   \n30                 0.898608        25.946515                   0.928429   \n31                 0.868787         9.688935                   0.705765   \n32                 0.994036        19.463188                   0.872763   \n33                 0.978131        28.249480                   0.946322   \n34                 0.872763         1.917469                   0.516899   \n35                 0.856859        18.727098                   0.862823   \n36                 0.922465        12.697650                   0.785288   \n37                 0.862823        13.329331                   0.805169   \n38                 0.797217        11.953359                   0.757455   \n39                 0.900596        12.581355                   0.777336   \n40                 0.538767        12.678249                     0.7833   \n41                 0.815109        10.047410                   0.713718   \n42                 0.759443        15.803221                   0.838966   \n43                  0.77336        13.822250                   0.811133   \n44                 0.996024        36.876268                   0.974155   \n45                 0.944334         3.865458                   0.554672   \n46                 0.713718         6.065796                    0.60835   \n47                  0.88668        12.263314                   0.771372   \n48                 0.924453        26.174784                   0.936382   \n49                 0.699801        11.621114                   0.747515   \n\n    3 Months Return 3 Months Return Percentile  1 Month Return  \\\n0         40.759022                   0.978131       17.069453   \n1         33.582173                   0.946322       19.946649   \n2         33.183098                   0.942346       12.882019   \n3         63.891149                   0.994036        6.734882   \n4         31.986376                   0.936382       10.516409   \n5         26.913105                   0.894632        8.985996   \n6         36.072153                   0.964215       10.582576   \n7         34.610693                   0.956262        6.786022   \n8         30.272106                   0.912525        9.758675   \n9         31.469290                   0.926441       11.737576   \n10        19.686047                   0.789264       16.533661   \n11        32.234554                    0.93837       13.348126   \n12        30.314365                   0.914513       18.488848   \n13        57.529122                    0.99006        8.572429   \n14        30.237647                   0.910537        9.140001   \n15        23.577146                   0.858847       17.372314   \n16        22.124074                   0.829026       10.061958   \n17        34.753766                   0.960239        7.125301   \n18        45.298477                   0.984095        2.319982   \n19        37.820014                   0.974155       19.849398   \n20        29.881001                   0.906561       17.042453   \n21        22.998439                    0.84493       11.575435   \n22        45.645529                   0.986083        1.404499   \n23        31.175526                   0.922465       11.239220   \n24        24.325960                   0.870775       11.903859   \n25        17.729055                   0.737575       14.296341   \n26        24.110196                   0.866799        8.779604   \n27        22.669046                   0.836978        3.894443   \n28        24.848066                   0.878728        7.419097   \n29        15.217535                   0.673956        7.169467   \n30        31.507455                   0.928429        3.683401   \n31        23.289202                   0.856859       12.564061   \n32        16.594794                   0.703777        7.015248   \n33        17.165639                   0.715706        5.310587   \n34        31.896204                   0.934394       23.768503   \n35        15.656630                    0.67992       11.728531   \n36        18.279626                   0.747515        9.291645   \n37        17.312409                    0.72167       11.414669   \n38        19.357965                   0.775348       14.425724   \n39        18.201102                   0.745527        8.856470   \n40        33.932013                    0.94831       15.086460   \n41        20.214431                   0.795229       11.271877   \n42        31.706907                   0.930417        5.350570   \n43        22.962021                   0.842942        7.187842   \n44        13.384221                   0.626243        3.647685   \n45        43.117852                   0.982107        5.955209   \n46        30.869927                   0.916501       15.265492   \n47        17.540062                   0.725646        8.510299   \n48        19.593684                   0.787276        2.517540   \n49        18.480455                   0.751491       20.083831   \n\n   1 Month Return Percentile HQM Score  \n0                   0.962227  0.946322  \n1                   0.982107  0.945328  \n2                   0.914513  0.940855  \n3                   0.743539  0.933897  \n4                   0.870775  0.929423  \n5                   0.817097  0.923459  \n6                   0.872763  0.923459  \n7                   0.747515  0.922465  \n8                   0.846918  0.919483  \n9                   0.898608  0.912028  \n10                  0.954274  0.907058  \n11                  0.922465  0.906561  \n12                  0.974155  0.902584  \n13                  0.807157  0.893141  \n14                   0.82505  0.889165  \n15                  0.964215  0.888171  \n16                  0.852883  0.872266  \n17                  0.761431  0.871769  \n18                  0.516899  0.867793  \n19                  0.980119  0.866799  \n20                  0.960239  0.865805  \n21                  0.894632  0.864314  \n22                  0.469185  0.862823  \n23                  0.884692  0.862823  \n24                  0.900596  0.852386  \n25                  0.930417  0.849901  \n26                  0.811133  0.842445  \n27                  0.610338  0.841948  \n28                  0.779324  0.840954  \n29                  0.765408  0.838966  \n30                   0.59841  0.838469  \n31                  0.910537  0.835487  \n32                  0.757455  0.832008  \n33                  0.677932  0.829523  \n34                  0.992048  0.829026  \n35                   0.89662  0.824056  \n36                  0.829026  0.821074  \n37                  0.890656   0.82008  \n38                  0.932406  0.815606  \n39                  0.813121  0.809145  \n40                  0.942346  0.803181  \n41                   0.88668  0.802684  \n42                   0.67992  0.802187  \n43                  0.769384  0.799205  \n44                  0.596421  0.798211  \n45                  0.709742  0.797714  \n46                   0.94831   0.79672  \n47                  0.801193  0.796223  \n48                  0.534791  0.795726  \n49                  0.984095  0.795726  ",
      "text/html": "<div>\n<style scoped>\n    .dataframe tbody tr th:only-of-type {\n        vertical-align: middle;\n    }\n\n    .dataframe tbody tr th {\n        vertical-align: top;\n    }\n\n    .dataframe thead th {\n        text-align: right;\n    }\n</style>\n<table border=\"1\" class=\"dataframe\">\n  <thead>\n    <tr style=\"text-align: right;\">\n      <th></th>\n      <th>Ticker</th>\n      <th>Stock Price</th>\n      <th>Number of Shares to Buy</th>\n      <th>1 Year Return</th>\n      <th>1 Year Return Percentile</th>\n      <th>6 Months Return</th>\n      <th>6 Months Return Percentile</th>\n      <th>3 Months Return</th>\n      <th>3 Months Return Percentile</th>\n      <th>1 Month Return</th>\n      <th>1 Month Return Percentile</th>\n      <th>HQM Score</th>\n    </tr>\n  </thead>\n  <tbody>\n    <tr>\n      <th>0</th>\n      <td>CARR</td>\n      <td>57.6300</td>\n      <td>3470</td>\n      <td>0.387297</td>\n      <td>0.918489</td>\n      <td>25.923295</td>\n      <td>0.926441</td>\n      <td>40.759022</td>\n      <td>0.978131</td>\n      <td>17.069453</td>\n      <td>0.962227</td>\n      <td>0.946322</td>\n    </tr>\n    <tr>\n      <th>1</th>\n      <td>MPC</td>\n      <td>139.3900</td>\n      <td>1434</td>\n      <td>0.509865</td>\n      <td>0.962227</td>\n      <td>21.264874</td>\n      <td>0.890656</td>\n      <td>33.582173</td>\n      <td>0.946322</td>\n      <td>19.946649</td>\n      <td>0.982107</td>\n      <td>0.945328</td>\n    </tr>\n    <tr>\n      <th>2</th>\n      <td>ANET</td>\n      <td>180.2500</td>\n      <td>1109</td>\n      <td>0.403221</td>\n      <td>0.926441</td>\n      <td>38.985270</td>\n      <td>0.980119</td>\n      <td>33.183098</td>\n      <td>0.942346</td>\n      <td>12.882019</td>\n      <td>0.914513</td>\n      <td>0.940855</td>\n    </tr>\n    <tr>\n      <th>3</th>\n      <td>NVDA</td>\n      <td>451.6700</td>\n      <td>442</td>\n      <td>1.344252</td>\n      <td>0.998012</td>\n      <td>114.231818</td>\n      <td>1.0</td>\n      <td>63.891149</td>\n      <td>0.994036</td>\n      <td>6.734882</td>\n      <td>0.743539</td>\n      <td>0.933897</td>\n    </tr>\n    <tr>\n      <th>4</th>\n      <td>ON</td>\n      <td>102.7250</td>\n      <td>1946</td>\n      <td>0.518557</td>\n      <td>0.966203</td>\n      <td>27.767409</td>\n      <td>0.944334</td>\n      <td>31.986376</td>\n      <td>0.936382</td>\n      <td>10.516409</td>\n      <td>0.870775</td>\n      <td>0.929423</td>\n    </tr>\n    <tr>\n      <th>5</th>\n      <td>PHM</td>\n      <td>84.0500</td>\n      <td>2379</td>\n      <td>0.921897</td>\n      <td>0.992048</td>\n      <td>46.961988</td>\n      <td>0.99006</td>\n      <td>26.913105</td>\n      <td>0.894632</td>\n      <td>8.985996</td>\n      <td>0.817097</td>\n      <td>0.923459</td>\n    </tr>\n    <tr>\n      <th>6</th>\n      <td>LRCX</td>\n      <td>695.1000</td>\n      <td>287</td>\n      <td>0.333462</td>\n      <td>0.888668</td>\n      <td>34.282694</td>\n      <td>0.968191</td>\n      <td>36.072153</td>\n      <td>0.964215</td>\n      <td>10.582576</td>\n      <td>0.872763</td>\n      <td>0.923459</td>\n    </tr>\n    <tr>\n      <th>7</th>\n      <td>META</td>\n      <td>314.3429</td>\n      <td>636</td>\n      <td>0.874155</td>\n      <td>0.988072</td>\n      <td>68.947060</td>\n      <td>0.998012</td>\n      <td>34.610693</td>\n      <td>0.956262</td>\n      <td>6.786022</td>\n      <td>0.747515</td>\n      <td>0.922465</td>\n    </tr>\n    <tr>\n      <th>8</th>\n      <td>ETN</td>\n      <td>218.3100</td>\n      <td>916</td>\n      <td>0.460478</td>\n      <td>0.94831</td>\n      <td>35.825718</td>\n      <td>0.970179</td>\n      <td>30.272106</td>\n      <td>0.912525</td>\n      <td>9.758675</td>\n      <td>0.846918</td>\n      <td>0.919483</td>\n    </tr>\n    <tr>\n      <th>9</th>\n      <td>CEG</td>\n      <td>102.9550</td>\n      <td>1942</td>\n      <td>0.361238</td>\n      <td>0.904573</td>\n      <td>24.538563</td>\n      <td>0.918489</td>\n      <td>31.469290</td>\n      <td>0.926441</td>\n      <td>11.737576</td>\n      <td>0.898608</td>\n      <td>0.912028</td>\n    </tr>\n    <tr>\n      <th>10</th>\n      <td>BKNG</td>\n      <td>3116.1100</td>\n      <td>64</td>\n      <td>0.475301</td>\n      <td>0.950298</td>\n      <td>26.160860</td>\n      <td>0.934394</td>\n      <td>19.686047</td>\n      <td>0.789264</td>\n      <td>16.533661</td>\n      <td>0.954274</td>\n      <td>0.907058</td>\n    </tr>\n    <tr>\n      <th>11</th>\n      <td>BKR</td>\n      <td>35.7500</td>\n      <td>5594</td>\n      <td>0.481712</td>\n      <td>0.956262</td>\n      <td>13.689972</td>\n      <td>0.809145</td>\n      <td>32.234554</td>\n      <td>0.93837</td>\n      <td>13.348126</td>\n      <td>0.922465</td>\n      <td>0.906561</td>\n    </tr>\n    <tr>\n      <th>12</th>\n      <td>SLB</td>\n      <td>58.4150</td>\n      <td>3423</td>\n      <td>0.672822</td>\n      <td>0.980119</td>\n      <td>11.151935</td>\n      <td>0.741551</td>\n      <td>30.314365</td>\n      <td>0.914513</td>\n      <td>18.488848</td>\n      <td>0.974155</td>\n      <td>0.902584</td>\n    </tr>\n    <tr>\n      <th>13</th>\n      <td>ADBE</td>\n      <td>528.1700</td>\n      <td>378</td>\n      <td>0.208407</td>\n      <td>0.789264</td>\n      <td>40.758992</td>\n      <td>0.986083</td>\n      <td>57.529122</td>\n      <td>0.99006</td>\n      <td>8.572429</td>\n      <td>0.807157</td>\n      <td>0.893141</td>\n    </tr>\n    <tr>\n      <th>14</th>\n      <td>PH</td>\n      <td>417.8425</td>\n      <td>478</td>\n      <td>0.428113</td>\n      <td>0.93837</td>\n      <td>20.729812</td>\n      <td>0.882704</td>\n      <td>30.237647</td>\n      <td>0.910537</td>\n      <td>9.140001</td>\n      <td>0.82505</td>\n      <td>0.889165</td>\n    </tr>\n    <tr>\n      <th>15</th>\n      <td>PSX</td>\n      <td>112.8300</td>\n      <td>1772</td>\n      <td>0.318171</td>\n      <td>0.878728</td>\n      <td>17.482869</td>\n      <td>0.850895</td>\n      <td>23.577146</td>\n      <td>0.858847</td>\n      <td>17.372314</td>\n      <td>0.964215</td>\n      <td>0.888171</td>\n    </tr>\n    <tr>\n      <th>16</th>\n      <td>PNR</td>\n      <td>69.5259</td>\n      <td>2876</td>\n      <td>0.412424</td>\n      <td>0.928429</td>\n      <td>20.297247</td>\n      <td>0.878728</td>\n      <td>22.124074</td>\n      <td>0.829026</td>\n      <td>10.061958</td>\n      <td>0.852883</td>\n      <td>0.872266</td>\n    </tr>\n    <tr>\n      <th>17</th>\n      <td>KLAC</td>\n      <td>501.2500</td>\n      <td>399</td>\n      <td>0.269344</td>\n      <td>0.848907</td>\n      <td>24.403006</td>\n      <td>0.916501</td>\n      <td>34.753766</td>\n      <td>0.960239</td>\n      <td>7.125301</td>\n      <td>0.761431</td>\n      <td>0.871769</td>\n    </tr>\n    <tr>\n      <th>18</th>\n      <td>AVGO</td>\n      <td>881.8550</td>\n      <td>226</td>\n      <td>0.604853</td>\n      <td>0.976143</td>\n      <td>48.500596</td>\n      <td>0.994036</td>\n      <td>45.298477</td>\n      <td>0.984095</td>\n      <td>2.319982</td>\n      <td>0.516899</td>\n      <td>0.867793</td>\n    </tr>\n    <tr>\n      <th>19</th>\n      <td>HAL</td>\n      <td>39.7900</td>\n      <td>5026</td>\n      <td>0.428212</td>\n      <td>0.940358</td>\n      <td>4.850498</td>\n      <td>0.572565</td>\n      <td>37.820014</td>\n      <td>0.974155</td>\n      <td>19.849398</td>\n      <td>0.980119</td>\n      <td>0.866799</td>\n    </tr>\n    <tr>\n      <th>20</th>\n      <td>BG</td>\n      <td>115.2400</td>\n      <td>1735</td>\n      <td>0.182326</td>\n      <td>0.749503</td>\n      <td>17.271373</td>\n      <td>0.846918</td>\n      <td>29.881001</td>\n      <td>0.906561</td>\n      <td>17.042453</td>\n      <td>0.960239</td>\n      <td>0.865805</td>\n    </tr>\n    <tr>\n      <th>21</th>\n      <td>TRGP</td>\n      <td>84.7700</td>\n      <td>2359</td>\n      <td>0.283898</td>\n      <td>0.858847</td>\n      <td>18.401624</td>\n      <td>0.858847</td>\n      <td>22.998439</td>\n      <td>0.84493</td>\n      <td>11.575435</td>\n      <td>0.894632</td>\n      <td>0.864314</td>\n    </tr>\n    <tr>\n      <th>22</th>\n      <td>RCL</td>\n      <td>104.6900</td>\n      <td>1910</td>\n      <td>1.639778</td>\n      <td>1.0</td>\n      <td>51.527005</td>\n      <td>0.996024</td>\n      <td>45.645529</td>\n      <td>0.986083</td>\n      <td>1.404499</td>\n      <td>0.469185</td>\n      <td>0.862823</td>\n    </tr>\n    <tr>\n      <th>23</th>\n      <td>ODFL</td>\n      <td>409.0600</td>\n      <td>488</td>\n      <td>0.362404</td>\n      <td>0.906561</td>\n      <td>10.956382</td>\n      <td>0.737575</td>\n      <td>31.175526</td>\n      <td>0.922465</td>\n      <td>11.239220</td>\n      <td>0.884692</td>\n      <td>0.862823</td>\n    </tr>\n    <tr>\n      <th>24</th>\n      <td>ATVI</td>\n      <td>91.7450</td>\n      <td>2179</td>\n      <td>0.139023</td>\n      <td>0.687873</td>\n      <td>29.553972</td>\n      <td>0.950298</td>\n      <td>24.325960</td>\n      <td>0.870775</td>\n      <td>11.903859</td>\n      <td>0.900596</td>\n      <td>0.852386</td>\n    </tr>\n    <tr>\n      <th>25</th>\n      <td>HES</td>\n      <td>153.6600</td>\n      <td>1301</td>\n      <td>0.476723</td>\n      <td>0.952286</td>\n      <td>12.644150</td>\n      <td>0.779324</td>\n      <td>17.729055</td>\n      <td>0.737575</td>\n      <td>14.296341</td>\n      <td>0.930417</td>\n      <td>0.849901</td>\n    </tr>\n    <tr>\n      <th>26</th>\n      <td>RL</td>\n      <td>135.4850</td>\n      <td>1476</td>\n      <td>0.319198</td>\n      <td>0.884692</td>\n      <td>13.420705</td>\n      <td>0.807157</td>\n      <td>24.110196</td>\n      <td>0.866799</td>\n      <td>8.779604</td>\n      <td>0.811133</td>\n      <td>0.842445</td>\n    </tr>\n    <tr>\n      <th>27</th>\n      <td>PWR</td>\n      <td>202.7500</td>\n      <td>986</td>\n      <td>0.485209</td>\n      <td>0.95825</td>\n      <td>32.880299</td>\n      <td>0.962227</td>\n      <td>22.669046</td>\n      <td>0.836978</td>\n      <td>3.894443</td>\n      <td>0.610338</td>\n      <td>0.841948</td>\n    </tr>\n    <tr>\n      <th>28</th>\n      <td>DVA</td>\n      <td>108.9106</td>\n      <td>1836</td>\n      <td>0.185341</td>\n      <td>0.753479</td>\n      <td>29.696249</td>\n      <td>0.952286</td>\n      <td>24.848066</td>\n      <td>0.878728</td>\n      <td>7.419097</td>\n      <td>0.779324</td>\n      <td>0.840954</td>\n    </tr>\n    <tr>\n      <th>29</th>\n      <td>FICO</td>\n      <td>848.7500</td>\n      <td>235</td>\n      <td>0.772504</td>\n      <td>0.984095</td>\n      <td>26.030141</td>\n      <td>0.932406</td>\n      <td>15.217535</td>\n      <td>0.673956</td>\n      <td>7.169467</td>\n      <td>0.765408</td>\n      <td>0.838966</td>\n    </tr>\n    <tr>\n      <th>30</th>\n      <td>AMAT</td>\n      <td>147.5000</td>\n      <td>1355</td>\n      <td>0.348385</td>\n      <td>0.898608</td>\n      <td>25.946515</td>\n      <td>0.928429</td>\n      <td>31.507455</td>\n      <td>0.928429</td>\n      <td>3.683401</td>\n      <td>0.59841</td>\n      <td>0.838469</td>\n    </tr>\n    <tr>\n      <th>31</th>\n      <td>DD</td>\n      <td>78.1950</td>\n      <td>2557</td>\n      <td>0.309953</td>\n      <td>0.868787</td>\n      <td>9.688935</td>\n      <td>0.705765</td>\n      <td>23.289202</td>\n      <td>0.856859</td>\n      <td>12.564061</td>\n      <td>0.910537</td>\n      <td>0.835487</td>\n    </tr>\n    <tr>\n      <th>32</th>\n      <td>FSLR</td>\n      <td>200.0650</td>\n      <td>999</td>\n      <td>0.925810</td>\n      <td>0.994036</td>\n      <td>19.463188</td>\n      <td>0.872763</td>\n      <td>16.594794</td>\n      <td>0.703777</td>\n      <td>7.015248</td>\n      <td>0.757455</td>\n      <td>0.832008</td>\n    </tr>\n    <tr>\n      <th>33</th>\n      <td>DHI</td>\n      <td>125.6250</td>\n      <td>1592</td>\n      <td>0.612967</td>\n      <td>0.978131</td>\n      <td>28.249480</td>\n      <td>0.946322</td>\n      <td>17.165639</td>\n      <td>0.715706</td>\n      <td>5.310587</td>\n      <td>0.677932</td>\n      <td>0.829523</td>\n    </tr>\n    <tr>\n      <th>34</th>\n      <td>APA</td>\n      <td>42.2700</td>\n      <td>4731</td>\n      <td>0.312126</td>\n      <td>0.872763</td>\n      <td>1.917469</td>\n      <td>0.516899</td>\n      <td>31.896204</td>\n      <td>0.934394</td>\n      <td>23.768503</td>\n      <td>0.992048</td>\n      <td>0.829026</td>\n    </tr>\n    <tr>\n      <th>35</th>\n      <td>MAR</td>\n      <td>203.4800</td>\n      <td>982</td>\n      <td>0.279218</td>\n      <td>0.856859</td>\n      <td>18.727098</td>\n      <td>0.862823</td>\n      <td>15.656630</td>\n      <td>0.67992</td>\n      <td>11.728531</td>\n      <td>0.89662</td>\n      <td>0.824056</td>\n    </tr>\n    <tr>\n      <th>36</th>\n      <td>BA</td>\n      <td>233.0700</td>\n      <td>858</td>\n      <td>0.401842</td>\n      <td>0.922465</td>\n      <td>12.697650</td>\n      <td>0.785288</td>\n      <td>18.279626</td>\n      <td>0.747515</td>\n      <td>9.291645</td>\n      <td>0.829026</td>\n      <td>0.821074</td>\n    </tr>\n    <tr>\n      <th>37</th>\n      <td>AFL</td>\n      <td>77.8900</td>\n      <td>2567</td>\n      <td>0.296483</td>\n      <td>0.862823</td>\n      <td>13.329331</td>\n      <td>0.805169</td>\n      <td>17.312409</td>\n      <td>0.72167</td>\n      <td>11.414669</td>\n      <td>0.890656</td>\n      <td>0.82008</td>\n    </tr>\n    <tr>\n      <th>38</th>\n      <td>FANG</td>\n      <td>149.4400</td>\n      <td>1338</td>\n      <td>0.222790</td>\n      <td>0.797217</td>\n      <td>11.953359</td>\n      <td>0.757455</td>\n      <td>19.357965</td>\n      <td>0.775348</td>\n      <td>14.425724</td>\n      <td>0.932406</td>\n      <td>0.815606</td>\n    </tr>\n    <tr>\n      <th>39</th>\n      <td>JPM</td>\n      <td>157.4500</td>\n      <td>1270</td>\n      <td>0.350639</td>\n      <td>0.900596</td>\n      <td>12.581355</td>\n      <td>0.777336</td>\n      <td>18.201102</td>\n      <td>0.745527</td>\n      <td>8.856470</td>\n      <td>0.813121</td>\n      <td>0.809145</td>\n    </tr>\n    <tr>\n      <th>40</th>\n      <td>CAT</td>\n      <td>280.3777</td>\n      <td>713</td>\n      <td>0.059104</td>\n      <td>0.538767</td>\n      <td>12.678249</td>\n      <td>0.7833</td>\n      <td>33.932013</td>\n      <td>0.94831</td>\n      <td>15.086460</td>\n      <td>0.942346</td>\n      <td>0.803181</td>\n    </tr>\n    <tr>\n      <th>41</th>\n      <td>COP</td>\n      <td>115.7450</td>\n      <td>1727</td>\n      <td>0.238449</td>\n      <td>0.815109</td>\n      <td>10.047410</td>\n      <td>0.713718</td>\n      <td>20.214431</td>\n      <td>0.795229</td>\n      <td>11.271877</td>\n      <td>0.88668</td>\n      <td>0.802684</td>\n    </tr>\n    <tr>\n      <th>42</th>\n      <td>NXPI</td>\n      <td>214.5675</td>\n      <td>932</td>\n      <td>0.188759</td>\n      <td>0.759443</td>\n      <td>15.803221</td>\n      <td>0.838966</td>\n      <td>31.706907</td>\n      <td>0.930417</td>\n      <td>5.350570</td>\n      <td>0.67992</td>\n      <td>0.802187</td>\n    </tr>\n    <tr>\n      <th>43</th>\n      <td>FTV</td>\n      <td>78.3000</td>\n      <td>2554</td>\n      <td>0.197487</td>\n      <td>0.77336</td>\n      <td>13.822250</td>\n      <td>0.811133</td>\n      <td>22.962021</td>\n      <td>0.842942</td>\n      <td>7.187842</td>\n      <td>0.769384</td>\n      <td>0.799205</td>\n    </tr>\n    <tr>\n      <th>44</th>\n      <td>GE</td>\n      <td>112.5300</td>\n      <td>1777</td>\n      <td>0.935626</td>\n      <td>0.996024</td>\n      <td>36.876268</td>\n      <td>0.974155</td>\n      <td>13.384221</td>\n      <td>0.626243</td>\n      <td>3.647685</td>\n      <td>0.596421</td>\n      <td>0.798211</td>\n    </tr>\n    <tr>\n      <th>45</th>\n      <td>URI</td>\n      <td>467.9300</td>\n      <td>427</td>\n      <td>0.437714</td>\n      <td>0.944334</td>\n      <td>3.865458</td>\n      <td>0.554672</td>\n      <td>43.117852</td>\n      <td>0.982107</td>\n      <td>5.955209</td>\n      <td>0.709742</td>\n      <td>0.797714</td>\n    </tr>\n    <tr>\n      <th>46</th>\n      <td>CZR</td>\n      <td>56.7452</td>\n      <td>3524</td>\n      <td>0.153765</td>\n      <td>0.713718</td>\n      <td>6.065796</td>\n      <td>0.60835</td>\n      <td>30.869927</td>\n      <td>0.916501</td>\n      <td>15.265492</td>\n      <td>0.94831</td>\n      <td>0.79672</td>\n    </tr>\n    <tr>\n      <th>47</th>\n      <td>TT</td>\n      <td>205.9200</td>\n      <td>971</td>\n      <td>0.329856</td>\n      <td>0.88668</td>\n      <td>12.263314</td>\n      <td>0.771372</td>\n      <td>17.540062</td>\n      <td>0.725646</td>\n      <td>8.510299</td>\n      <td>0.801193</td>\n      <td>0.796223</td>\n    </tr>\n    <tr>\n      <th>48</th>\n      <td>TDG</td>\n      <td>908.9000</td>\n      <td>220</td>\n      <td>0.403071</td>\n      <td>0.924453</td>\n      <td>26.174784</td>\n      <td>0.936382</td>\n      <td>19.593684</td>\n      <td>0.787276</td>\n      <td>2.517540</td>\n      <td>0.534791</td>\n      <td>0.795726</td>\n    </tr>\n    <tr>\n      <th>49</th>\n      <td>PKG</td>\n      <td>156.1450</td>\n      <td>1280</td>\n      <td>0.147907</td>\n      <td>0.699801</td>\n      <td>11.621114</td>\n      <td>0.747515</td>\n      <td>18.480455</td>\n      <td>0.751491</td>\n      <td>20.083831</td>\n      <td>0.984095</td>\n      <td>0.795726</td>\n    </tr>\n  </tbody>\n</table>\n</div>"
     },
     "execution_count": 32,
     "metadata": {},
     "output_type": "execute_result"
    }
   ]
  },
  {
   "cell_type": "markdown",
   "source": [
    "## Formatting Our Excel Output\n",
    "\n",
    "We will be using the XlsxWriter library for Python to create nicely-formatted Excel files.\n",
    "\n",
    "### Initializing our XlsxWriter Object"
   ],
   "metadata": {
    "collapsed": false
   }
  },
  {
   "cell_type": "code",
   "source": [
    "writer = pd.ExcelWriter('momentum_strategy.xlsx', engine='xlsxwriter')\n",
    "hqm_dataframe.to_excel(writer, sheet_name='Momentum Strategy', index=False)"
   ],
   "metadata": {
    "id": "PTpQ-4ZQCIBf",
    "ExecuteTime": {
     "end_time": "2023-08-04T15:11:24.363996284Z",
     "start_time": "2023-08-04T15:11:24.247628312Z"
    }
   },
   "execution_count": 33,
   "outputs": []
  },
  {
   "cell_type": "markdown",
   "source": [
    "## Formatting Our Excel Output"
   ],
   "metadata": {
    "collapsed": false
   }
  },
  {
   "cell_type": "code",
   "source": [
    "background_color = '#0a0a23'\n",
    "font_color = '#ffffff'\n",
    "\n",
    "string_template = writer.book.add_format(\n",
    "    {\n",
    "        'font_color': font_color,\n",
    "        'bg_color': background_color,\n",
    "        'border': 1\n",
    "    }\n",
    ")\n",
    "\n",
    "dollar_template = writer.book.add_format(\n",
    "    {\n",
    "        'num_format': '$0.00',\n",
    "        'font_color': font_color,\n",
    "        'bg_color': background_color,\n",
    "        'border': 1\n",
    "    }\n",
    ")\n",
    "\n",
    "integer_template = writer.book.add_format(\n",
    "    {\n",
    "        'num_format': '0',\n",
    "        'font_color': font_color,\n",
    "        'bg_color': background_color,\n",
    "        'border': 1\n",
    "    }\n",
    ")\n",
    "\n",
    "percent_template = writer.book.add_format(\n",
    "    {\n",
    "        'num_format': '0.0%',\n",
    "        'font_color': font_color,\n",
    "        'bg_color': background_color,\n",
    "        'border': 1\n",
    "    }\n",
    ")"
   ],
   "metadata": {
    "id": "gSIDQ8kJWsqL",
    "ExecuteTime": {
     "end_time": "2023-08-04T15:11:24.390787204Z",
     "start_time": "2023-08-04T15:11:24.284007329Z"
    }
   },
   "execution_count": 34,
   "outputs": []
  },
  {
   "cell_type": "code",
   "source": [
    "column_formats = {\n",
    "    'A': ['Ticker', string_template],\n",
    "    'B': ['Price', dollar_template],\n",
    "    'C': ['Number of Shares to Buy', integer_template],\n",
    "    'D': ['One-Year Price Return', percent_template],\n",
    "    'E': ['One-Year Return Percentile', percent_template],\n",
    "    'F': ['Six-Month Price Return', percent_template],\n",
    "    'G': ['Six-Month Return Percentile', percent_template],\n",
    "    'H': ['Three-Month Price Return', percent_template],\n",
    "    'I': ['Three-Month Return Percentile', percent_template],\n",
    "    'J': ['One-Month Price Return', percent_template],\n",
    "    'K': ['One-Month Return Percentile', percent_template],\n",
    "    'L': ['HQM Score', integer_template]\n",
    "}\n",
    "\n",
    "for column in column_formats.keys():\n",
    "    writer.sheets['Momentum Strategy'].set_column(f'{column}:{column}', 20, column_formats[column][1])\n",
    "    writer.sheets['Momentum Strategy'].write(f'{column}1', column_formats[column][0], string_template)"
   ],
   "metadata": {
    "id": "KLoK02SiW4wI",
    "ExecuteTime": {
     "end_time": "2023-08-04T15:11:24.393017051Z",
     "start_time": "2023-08-04T15:11:24.290305726Z"
    }
   },
   "execution_count": 35,
   "outputs": []
  },
  {
   "cell_type": "markdown",
   "source": [
    "## Saving Our Excel Output"
   ],
   "metadata": {
    "collapsed": false
   }
  },
  {
   "cell_type": "code",
   "source": [
    "writer.close()"
   ],
   "metadata": {
    "id": "-hdAovwqYIc3",
    "ExecuteTime": {
     "end_time": "2023-08-04T15:11:24.393487883Z",
     "start_time": "2023-08-04T15:11:24.332275641Z"
    }
   },
   "execution_count": 36,
   "outputs": []
  }
 ]
}
