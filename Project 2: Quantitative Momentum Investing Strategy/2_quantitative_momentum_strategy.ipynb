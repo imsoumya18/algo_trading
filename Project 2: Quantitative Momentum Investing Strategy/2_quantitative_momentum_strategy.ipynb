{
 "nbformat": 4,
 "nbformat_minor": 0,
 "metadata": {
  "colab": {
   "provenance": []
  },
  "kernelspec": {
   "name": "python3",
   "language": "python",
   "display_name": "Python 3 (ipykernel)"
  },
  "language_info": {
   "name": "python"
  }
 },
 "cells": [
  {
   "cell_type": "markdown",
   "source": [
    "# Quantitative Momentum Strategy\n",
    "\n",
    "\"Momentum investing\" means investing in the stocks that have increased in price the most.\n",
    "\n",
    "For this project, we're going to build an investing strategy that selects the 50 stocks with the highest price momentum. From there, we will calculate recommended trades for an equal-weight portfolio of these 50 stocks.\n",
    "\n",
    "\n",
    "## Library Imports\n",
    "\n",
    "The first thing we need to do is import the open-source software libraries that we'll be using in this tutorial."
   ],
   "metadata": {
    "collapsed": false
   }
  },
  {
   "cell_type": "code",
   "execution_count": 1,
   "outputs": [
    {
     "name": "stdout",
     "output_type": "stream",
     "text": [
      "Requirement already satisfied: yfinance in /home/soumya/PyCharmProjects/quantitative_investment_strategy/venv/lib/python3.10/site-packages (0.2.31)\r\n",
      "Requirement already satisfied: numpy in /home/soumya/PyCharmProjects/quantitative_investment_strategy/venv/lib/python3.10/site-packages (1.26.0)\r\n",
      "Requirement already satisfied: pandas in /home/soumya/PyCharmProjects/quantitative_investment_strategy/venv/lib/python3.10/site-packages (2.1.1)\r\n",
      "Requirement already satisfied: scipy in /home/soumya/PyCharmProjects/quantitative_investment_strategy/venv/lib/python3.10/site-packages (1.11.3)\r\n",
      "Requirement already satisfied: XlsxWriter in /home/soumya/PyCharmProjects/quantitative_investment_strategy/venv/lib/python3.10/site-packages (3.1.6)\r\n",
      "Requirement already satisfied: ipython in /home/soumya/PyCharmProjects/quantitative_investment_strategy/venv/lib/python3.10/site-packages (8.16.1)\r\n",
      "Requirement already satisfied: requests>=2.31 in /home/soumya/PyCharmProjects/quantitative_investment_strategy/venv/lib/python3.10/site-packages (from yfinance) (2.31.0)\r\n",
      "Requirement already satisfied: multitasking>=0.0.7 in /home/soumya/PyCharmProjects/quantitative_investment_strategy/venv/lib/python3.10/site-packages (from yfinance) (0.0.11)\r\n",
      "Requirement already satisfied: lxml>=4.9.1 in /home/soumya/PyCharmProjects/quantitative_investment_strategy/venv/lib/python3.10/site-packages (from yfinance) (4.9.3)\r\n",
      "Requirement already satisfied: appdirs>=1.4.4 in /home/soumya/PyCharmProjects/quantitative_investment_strategy/venv/lib/python3.10/site-packages (from yfinance) (1.4.4)\r\n",
      "Requirement already satisfied: pytz>=2022.5 in /home/soumya/PyCharmProjects/quantitative_investment_strategy/venv/lib/python3.10/site-packages (from yfinance) (2023.3.post1)\r\n",
      "Requirement already satisfied: frozendict>=2.3.4 in /home/soumya/PyCharmProjects/quantitative_investment_strategy/venv/lib/python3.10/site-packages (from yfinance) (2.3.8)\r\n",
      "Requirement already satisfied: peewee>=3.16.2 in /home/soumya/PyCharmProjects/quantitative_investment_strategy/venv/lib/python3.10/site-packages (from yfinance) (3.16.3)\r\n",
      "Requirement already satisfied: beautifulsoup4>=4.11.1 in /home/soumya/PyCharmProjects/quantitative_investment_strategy/venv/lib/python3.10/site-packages (from yfinance) (4.12.2)\r\n",
      "Requirement already satisfied: html5lib>=1.1 in /home/soumya/PyCharmProjects/quantitative_investment_strategy/venv/lib/python3.10/site-packages (from yfinance) (1.1)\r\n",
      "Requirement already satisfied: python-dateutil>=2.8.2 in /home/soumya/PyCharmProjects/quantitative_investment_strategy/venv/lib/python3.10/site-packages (from pandas) (2.8.2)\r\n",
      "Requirement already satisfied: tzdata>=2022.1 in /home/soumya/PyCharmProjects/quantitative_investment_strategy/venv/lib/python3.10/site-packages (from pandas) (2023.3)\r\n",
      "Requirement already satisfied: backcall in /home/soumya/PyCharmProjects/quantitative_investment_strategy/venv/lib/python3.10/site-packages (from ipython) (0.2.0)\r\n",
      "Requirement already satisfied: decorator in /home/soumya/PyCharmProjects/quantitative_investment_strategy/venv/lib/python3.10/site-packages (from ipython) (5.1.1)\r\n",
      "Requirement already satisfied: jedi>=0.16 in /home/soumya/PyCharmProjects/quantitative_investment_strategy/venv/lib/python3.10/site-packages (from ipython) (0.19.1)\r\n",
      "Requirement already satisfied: matplotlib-inline in /home/soumya/PyCharmProjects/quantitative_investment_strategy/venv/lib/python3.10/site-packages (from ipython) (0.1.6)\r\n",
      "Requirement already satisfied: pickleshare in /home/soumya/PyCharmProjects/quantitative_investment_strategy/venv/lib/python3.10/site-packages (from ipython) (0.7.5)\r\n",
      "Requirement already satisfied: prompt-toolkit!=3.0.37,<3.1.0,>=3.0.30 in /home/soumya/PyCharmProjects/quantitative_investment_strategy/venv/lib/python3.10/site-packages (from ipython) (3.0.39)\r\n",
      "Requirement already satisfied: pygments>=2.4.0 in /home/soumya/PyCharmProjects/quantitative_investment_strategy/venv/lib/python3.10/site-packages (from ipython) (2.16.1)\r\n",
      "Requirement already satisfied: stack-data in /home/soumya/PyCharmProjects/quantitative_investment_strategy/venv/lib/python3.10/site-packages (from ipython) (0.6.3)\r\n",
      "Requirement already satisfied: traitlets>=5 in /home/soumya/PyCharmProjects/quantitative_investment_strategy/venv/lib/python3.10/site-packages (from ipython) (5.11.2)\r\n",
      "Requirement already satisfied: exceptiongroup in /home/soumya/PyCharmProjects/quantitative_investment_strategy/venv/lib/python3.10/site-packages (from ipython) (1.1.3)\r\n",
      "Requirement already satisfied: pexpect>4.3 in /home/soumya/PyCharmProjects/quantitative_investment_strategy/venv/lib/python3.10/site-packages (from ipython) (4.8.0)\r\n",
      "Requirement already satisfied: soupsieve>1.2 in /home/soumya/PyCharmProjects/quantitative_investment_strategy/venv/lib/python3.10/site-packages (from beautifulsoup4>=4.11.1->yfinance) (2.5)\r\n",
      "Requirement already satisfied: six>=1.9 in /home/soumya/PyCharmProjects/quantitative_investment_strategy/venv/lib/python3.10/site-packages (from html5lib>=1.1->yfinance) (1.16.0)\r\n",
      "Requirement already satisfied: webencodings in /home/soumya/PyCharmProjects/quantitative_investment_strategy/venv/lib/python3.10/site-packages (from html5lib>=1.1->yfinance) (0.5.1)\r\n",
      "Requirement already satisfied: parso<0.9.0,>=0.8.3 in /home/soumya/PyCharmProjects/quantitative_investment_strategy/venv/lib/python3.10/site-packages (from jedi>=0.16->ipython) (0.8.3)\r\n",
      "Requirement already satisfied: ptyprocess>=0.5 in /home/soumya/PyCharmProjects/quantitative_investment_strategy/venv/lib/python3.10/site-packages (from pexpect>4.3->ipython) (0.7.0)\r\n",
      "Requirement already satisfied: wcwidth in /home/soumya/PyCharmProjects/quantitative_investment_strategy/venv/lib/python3.10/site-packages (from prompt-toolkit!=3.0.37,<3.1.0,>=3.0.30->ipython) (0.2.8)\r\n",
      "Requirement already satisfied: charset-normalizer<4,>=2 in /home/soumya/PyCharmProjects/quantitative_investment_strategy/venv/lib/python3.10/site-packages (from requests>=2.31->yfinance) (3.3.0)\r\n",
      "Requirement already satisfied: idna<4,>=2.5 in /home/soumya/PyCharmProjects/quantitative_investment_strategy/venv/lib/python3.10/site-packages (from requests>=2.31->yfinance) (3.4)\r\n",
      "Requirement already satisfied: urllib3<3,>=1.21.1 in /home/soumya/PyCharmProjects/quantitative_investment_strategy/venv/lib/python3.10/site-packages (from requests>=2.31->yfinance) (2.0.6)\r\n",
      "Requirement already satisfied: certifi>=2017.4.17 in /home/soumya/PyCharmProjects/quantitative_investment_strategy/venv/lib/python3.10/site-packages (from requests>=2.31->yfinance) (2023.7.22)\r\n",
      "Requirement already satisfied: executing>=1.2.0 in /home/soumya/PyCharmProjects/quantitative_investment_strategy/venv/lib/python3.10/site-packages (from stack-data->ipython) (2.0.0)\r\n",
      "Requirement already satisfied: asttokens>=2.1.0 in /home/soumya/PyCharmProjects/quantitative_investment_strategy/venv/lib/python3.10/site-packages (from stack-data->ipython) (2.4.0)\r\n",
      "Requirement already satisfied: pure-eval in /home/soumya/PyCharmProjects/quantitative_investment_strategy/venv/lib/python3.10/site-packages (from stack-data->ipython) (0.2.2)\r\n"
     ]
    }
   ],
   "source": [
    "! pip install yfinance numpy pandas scipy XlsxWriter ipython"
   ],
   "metadata": {
    "collapsed": false,
    "ExecuteTime": {
     "end_time": "2023-10-05T14:48:58.940234154Z",
     "start_time": "2023-10-05T14:48:57.294542845Z"
    }
   }
  },
  {
   "cell_type": "code",
   "execution_count": 2,
   "metadata": {
    "id": "q3-WQbudpG4E",
    "ExecuteTime": {
     "end_time": "2023-10-05T14:48:59.798160430Z",
     "start_time": "2023-10-05T14:48:58.943306821Z"
    }
   },
   "outputs": [],
   "source": [
    "import yfinance as yf\n",
    "import numpy as np\n",
    "import pandas as pd\n",
    "import math\n",
    "from scipy.stats import percentileofscore as score\n",
    "from statistics import mean\n",
    "import xlsxwriter\n",
    "from IPython.display import clear_output"
   ]
  },
  {
   "cell_type": "markdown",
   "source": [
    "## Importing Our List of Stocks\n",
    "\n",
    "The next thing we need to do is import the constituents of the S&P 500.\n",
    "\n",
    "These constituents change over time, so in an ideal world you would connect directly to the index provider (Standard & Poor's) and pull their real-time constituents on a regular basis. But, here we have just taken a list of ~500 stocks in a CSV file taken at the time of building the project.\n",
    "\n",
    "Now it's time to import these stocks to our Jupyter Notebook file."
   ],
   "metadata": {
    "collapsed": false
   }
  },
  {
   "cell_type": "code",
   "source": [
    "stocks = pd.read_csv('sp500.csv')\n",
    "stocks"
   ],
   "metadata": {
    "colab": {
     "base_uri": "https://localhost:8080/",
     "height": 424
    },
    "id": "-iAHKs_6p0gP",
    "outputId": "64813494-bda2-4f98-8f17-06a27155dcbb",
    "ExecuteTime": {
     "end_time": "2023-10-05T14:48:59.818941201Z",
     "start_time": "2023-10-05T14:48:59.801357368Z"
    }
   },
   "execution_count": 3,
   "outputs": [
    {
     "data": {
      "text/plain": "    Ticker\n0        A\n1      AAL\n2      AAP\n3     AAPL\n4     ABBV\n..     ...\n498    YUM\n499    ZBH\n500   ZBRA\n501   ZION\n502    ZTS\n\n[503 rows x 1 columns]",
      "text/html": "<div>\n<style scoped>\n    .dataframe tbody tr th:only-of-type {\n        vertical-align: middle;\n    }\n\n    .dataframe tbody tr th {\n        vertical-align: top;\n    }\n\n    .dataframe thead th {\n        text-align: right;\n    }\n</style>\n<table border=\"1\" class=\"dataframe\">\n  <thead>\n    <tr style=\"text-align: right;\">\n      <th></th>\n      <th>Ticker</th>\n    </tr>\n  </thead>\n  <tbody>\n    <tr>\n      <th>0</th>\n      <td>A</td>\n    </tr>\n    <tr>\n      <th>1</th>\n      <td>AAL</td>\n    </tr>\n    <tr>\n      <th>2</th>\n      <td>AAP</td>\n    </tr>\n    <tr>\n      <th>3</th>\n      <td>AAPL</td>\n    </tr>\n    <tr>\n      <th>4</th>\n      <td>ABBV</td>\n    </tr>\n    <tr>\n      <th>...</th>\n      <td>...</td>\n    </tr>\n    <tr>\n      <th>498</th>\n      <td>YUM</td>\n    </tr>\n    <tr>\n      <th>499</th>\n      <td>ZBH</td>\n    </tr>\n    <tr>\n      <th>500</th>\n      <td>ZBRA</td>\n    </tr>\n    <tr>\n      <th>501</th>\n      <td>ZION</td>\n    </tr>\n    <tr>\n      <th>502</th>\n      <td>ZTS</td>\n    </tr>\n  </tbody>\n</table>\n<p>503 rows × 1 columns</p>\n</div>"
     },
     "execution_count": 3,
     "metadata": {},
     "output_type": "execute_result"
    }
   ]
  },
  {
   "cell_type": "markdown",
   "source": [
    "## Adding Our Stocks Data to a Pandas DataFrame\n",
    "\n",
    "The next thing we need to do is add our stock's price and market capitalization to a pandas DataFrame."
   ],
   "metadata": {
    "collapsed": false
   }
  },
  {
   "cell_type": "code",
   "source": [
    "my_columns = ['Ticker', 'Stock Price', '1 Year Return', 'Number of Shares to Buy']\n",
    "final_dataframe = pd.DataFrame(columns=my_columns)\n",
    "final_dataframe"
   ],
   "metadata": {
    "colab": {
     "base_uri": "https://localhost:8080/",
     "height": 49
    },
    "id": "dUUIKJDjqaiV",
    "outputId": "e9cba3d3-8459-438c-9722-39ed7c1eacb7",
    "ExecuteTime": {
     "end_time": "2023-10-05T14:48:59.982687080Z",
     "start_time": "2023-10-05T14:48:59.818556376Z"
    }
   },
   "execution_count": 4,
   "outputs": [
    {
     "data": {
      "text/plain": "Empty DataFrame\nColumns: [Ticker, Stock Price, 1 Year Return, Number of Shares to Buy]\nIndex: []",
      "text/html": "<div>\n<style scoped>\n    .dataframe tbody tr th:only-of-type {\n        vertical-align: middle;\n    }\n\n    .dataframe tbody tr th {\n        vertical-align: top;\n    }\n\n    .dataframe thead th {\n        text-align: right;\n    }\n</style>\n<table border=\"1\" class=\"dataframe\">\n  <thead>\n    <tr style=\"text-align: right;\">\n      <th></th>\n      <th>Ticker</th>\n      <th>Stock Price</th>\n      <th>1 Year Return</th>\n      <th>Number of Shares to Buy</th>\n    </tr>\n  </thead>\n  <tbody>\n  </tbody>\n</table>\n</div>"
     },
     "execution_count": 4,
     "metadata": {},
     "output_type": "execute_result"
    }
   ]
  },
  {
   "cell_type": "markdown",
   "source": [
    "## Looping Through The Tickers in Our List of Stocks\n",
    "\n",
    "Here to fetch the stock data, we have used `yfinance` API\n",
    "\n",
    "We can pull data for all S&P 500 stocks and store their data in the DataFrame using a `for` loop."
   ],
   "metadata": {
    "collapsed": false
   }
  },
  {
   "cell_type": "code",
   "source": [
    "for stock in stocks['Ticker']:\n",
    "    data = yf.Ticker(stock).info\n",
    "    try:\n",
    "        yr1Return = data['52WeekChange']\n",
    "    except:\n",
    "        yr1Return = np.NaN\n",
    "    stock_dict = {\n",
    "        'Ticker': [stock],\n",
    "        'Stock Price': [data['currentPrice']],\n",
    "        '1 Year Return': [yr1Return],\n",
    "        'Number of Shares to Buy': ['N/A']\n",
    "    }\n",
    "    df = pd.DataFrame(stock_dict)\n",
    "    final_dataframe = pd.concat([final_dataframe, df], ignore_index=True)\n",
    "\n",
    "    clear_output(wait=True)\n",
    "    print(final_dataframe)"
   ],
   "metadata": {
    "colab": {
     "base_uri": "https://localhost:8080/"
    },
    "id": "OQbNxdVvqd29",
    "outputId": "072e34fe-d425-4e2e-9dbb-7169bc59e824"
   },
   "execution_count": 5,
   "outputs": [
    {
     "name": "stdout",
     "output_type": "stream",
     "text": [
      "    Ticker  Stock Price  1 Year Return Number of Shares to Buy\n",
      "0        A     109.8100      -0.155167                     N/A\n",
      "1      AAL      12.8150       0.000000                     N/A\n",
      "2      AAP      51.7686      -0.682815                     N/A\n",
      "3     AAPL     173.0400       0.194114                     N/A\n",
      "4     ABBV     148.1557       0.052748                     N/A\n",
      "..     ...          ...            ...                     ...\n",
      "498    YUM     122.6650       0.121776                     N/A\n",
      "499    ZBH     108.8300      -0.008228                     N/A\n",
      "500   ZBRA     221.6300      -0.176244                     N/A\n",
      "501   ZION      33.5600      -0.364053                     N/A\n",
      "502    ZTS     170.7800       0.120585                     N/A\n",
      "\n",
      "[503 rows x 4 columns]\n"
     ]
    }
   ]
  },
  {
   "cell_type": "code",
   "source": [
    "final_dataframe"
   ],
   "metadata": {
    "colab": {
     "base_uri": "https://localhost:8080/",
     "height": 687
    },
    "id": "p0tO7FzXq3fy",
    "outputId": "c59b35a6-9e29-4764-9e31-398ae7bb094e",
    "ExecuteTime": {
     "end_time": "2023-10-05T14:55:38.938409771Z",
     "start_time": "2023-10-05T14:55:38.917896102Z"
    }
   },
   "execution_count": 6,
   "outputs": [
    {
     "data": {
      "text/plain": "    Ticker  Stock Price  1 Year Return Number of Shares to Buy\n0        A     109.8100      -0.155167                     N/A\n1      AAL      12.8150       0.000000                     N/A\n2      AAP      51.7686      -0.682815                     N/A\n3     AAPL     173.0400       0.194114                     N/A\n4     ABBV     148.1557       0.052748                     N/A\n..     ...          ...            ...                     ...\n498    YUM     122.6650       0.121776                     N/A\n499    ZBH     108.8300      -0.008228                     N/A\n500   ZBRA     221.6300      -0.176244                     N/A\n501   ZION      33.5600      -0.364053                     N/A\n502    ZTS     170.7800       0.120585                     N/A\n\n[503 rows x 4 columns]",
      "text/html": "<div>\n<style scoped>\n    .dataframe tbody tr th:only-of-type {\n        vertical-align: middle;\n    }\n\n    .dataframe tbody tr th {\n        vertical-align: top;\n    }\n\n    .dataframe thead th {\n        text-align: right;\n    }\n</style>\n<table border=\"1\" class=\"dataframe\">\n  <thead>\n    <tr style=\"text-align: right;\">\n      <th></th>\n      <th>Ticker</th>\n      <th>Stock Price</th>\n      <th>1 Year Return</th>\n      <th>Number of Shares to Buy</th>\n    </tr>\n  </thead>\n  <tbody>\n    <tr>\n      <th>0</th>\n      <td>A</td>\n      <td>109.8100</td>\n      <td>-0.155167</td>\n      <td>N/A</td>\n    </tr>\n    <tr>\n      <th>1</th>\n      <td>AAL</td>\n      <td>12.8150</td>\n      <td>0.000000</td>\n      <td>N/A</td>\n    </tr>\n    <tr>\n      <th>2</th>\n      <td>AAP</td>\n      <td>51.7686</td>\n      <td>-0.682815</td>\n      <td>N/A</td>\n    </tr>\n    <tr>\n      <th>3</th>\n      <td>AAPL</td>\n      <td>173.0400</td>\n      <td>0.194114</td>\n      <td>N/A</td>\n    </tr>\n    <tr>\n      <th>4</th>\n      <td>ABBV</td>\n      <td>148.1557</td>\n      <td>0.052748</td>\n      <td>N/A</td>\n    </tr>\n    <tr>\n      <th>...</th>\n      <td>...</td>\n      <td>...</td>\n      <td>...</td>\n      <td>...</td>\n    </tr>\n    <tr>\n      <th>498</th>\n      <td>YUM</td>\n      <td>122.6650</td>\n      <td>0.121776</td>\n      <td>N/A</td>\n    </tr>\n    <tr>\n      <th>499</th>\n      <td>ZBH</td>\n      <td>108.8300</td>\n      <td>-0.008228</td>\n      <td>N/A</td>\n    </tr>\n    <tr>\n      <th>500</th>\n      <td>ZBRA</td>\n      <td>221.6300</td>\n      <td>-0.176244</td>\n      <td>N/A</td>\n    </tr>\n    <tr>\n      <th>501</th>\n      <td>ZION</td>\n      <td>33.5600</td>\n      <td>-0.364053</td>\n      <td>N/A</td>\n    </tr>\n    <tr>\n      <th>502</th>\n      <td>ZTS</td>\n      <td>170.7800</td>\n      <td>0.120585</td>\n      <td>N/A</td>\n    </tr>\n  </tbody>\n</table>\n<p>503 rows × 4 columns</p>\n</div>"
     },
     "execution_count": 6,
     "metadata": {},
     "output_type": "execute_result"
    }
   ]
  },
  {
   "cell_type": "code",
   "execution_count": 7,
   "outputs": [
    {
     "data": {
      "text/plain": "   Ticker  Stock Price  1 Year Return Number of Shares to Buy\n80    CAT       262.13            NaN                     N/A",
      "text/html": "<div>\n<style scoped>\n    .dataframe tbody tr th:only-of-type {\n        vertical-align: middle;\n    }\n\n    .dataframe tbody tr th {\n        vertical-align: top;\n    }\n\n    .dataframe thead th {\n        text-align: right;\n    }\n</style>\n<table border=\"1\" class=\"dataframe\">\n  <thead>\n    <tr style=\"text-align: right;\">\n      <th></th>\n      <th>Ticker</th>\n      <th>Stock Price</th>\n      <th>1 Year Return</th>\n      <th>Number of Shares to Buy</th>\n    </tr>\n  </thead>\n  <tbody>\n    <tr>\n      <th>80</th>\n      <td>CAT</td>\n      <td>262.13</td>\n      <td>NaN</td>\n      <td>N/A</td>\n    </tr>\n  </tbody>\n</table>\n</div>"
     },
     "execution_count": 7,
     "metadata": {},
     "output_type": "execute_result"
    }
   ],
   "source": [
    "final_dataframe[final_dataframe.isnull().any(axis=1)]"
   ],
   "metadata": {
    "collapsed": false,
    "ExecuteTime": {
     "end_time": "2023-10-05T14:55:39.111222836Z",
     "start_time": "2023-10-05T14:55:38.924291476Z"
    }
   }
  },
  {
   "cell_type": "markdown",
   "source": [
    "Filling the `NULL` cells of the `1 Year Return` column with mean value"
   ],
   "metadata": {
    "collapsed": false
   }
  },
  {
   "cell_type": "code",
   "execution_count": 8,
   "outputs": [],
   "source": [
    "final_dataframe['1 Year Return'].fillna(final_dataframe['1 Year Return'].mean(), inplace=True)"
   ],
   "metadata": {
    "collapsed": false,
    "ExecuteTime": {
     "end_time": "2023-10-05T14:55:39.112744697Z",
     "start_time": "2023-10-05T14:55:39.010430701Z"
    }
   }
  },
  {
   "cell_type": "code",
   "execution_count": 9,
   "outputs": [
    {
     "data": {
      "text/plain": "Empty DataFrame\nColumns: [Ticker, Stock Price, 1 Year Return, Number of Shares to Buy]\nIndex: []",
      "text/html": "<div>\n<style scoped>\n    .dataframe tbody tr th:only-of-type {\n        vertical-align: middle;\n    }\n\n    .dataframe tbody tr th {\n        vertical-align: top;\n    }\n\n    .dataframe thead th {\n        text-align: right;\n    }\n</style>\n<table border=\"1\" class=\"dataframe\">\n  <thead>\n    <tr style=\"text-align: right;\">\n      <th></th>\n      <th>Ticker</th>\n      <th>Stock Price</th>\n      <th>1 Year Return</th>\n      <th>Number of Shares to Buy</th>\n    </tr>\n  </thead>\n  <tbody>\n  </tbody>\n</table>\n</div>"
     },
     "execution_count": 9,
     "metadata": {},
     "output_type": "execute_result"
    }
   ],
   "source": [
    "final_dataframe[final_dataframe.isnull().any(axis=1)]"
   ],
   "metadata": {
    "collapsed": false,
    "ExecuteTime": {
     "end_time": "2023-10-05T14:55:39.156175927Z",
     "start_time": "2023-10-05T14:55:39.054470049Z"
    }
   }
  },
  {
   "cell_type": "code",
   "execution_count": 10,
   "outputs": [
    {
     "data": {
      "text/plain": "    Ticker  Stock Price  1 Year Return Number of Shares to Buy\n0        A     109.8100      -0.155167                     N/A\n1      AAL      12.8150       0.000000                     N/A\n2      AAP      51.7686      -0.682815                     N/A\n3     AAPL     173.0400       0.194114                     N/A\n4     ABBV     148.1557       0.052748                     N/A\n..     ...          ...            ...                     ...\n498    YUM     122.6650       0.121776                     N/A\n499    ZBH     108.8300      -0.008228                     N/A\n500   ZBRA     221.6300      -0.176244                     N/A\n501   ZION      33.5600      -0.364053                     N/A\n502    ZTS     170.7800       0.120585                     N/A\n\n[503 rows x 4 columns]",
      "text/html": "<div>\n<style scoped>\n    .dataframe tbody tr th:only-of-type {\n        vertical-align: middle;\n    }\n\n    .dataframe tbody tr th {\n        vertical-align: top;\n    }\n\n    .dataframe thead th {\n        text-align: right;\n    }\n</style>\n<table border=\"1\" class=\"dataframe\">\n  <thead>\n    <tr style=\"text-align: right;\">\n      <th></th>\n      <th>Ticker</th>\n      <th>Stock Price</th>\n      <th>1 Year Return</th>\n      <th>Number of Shares to Buy</th>\n    </tr>\n  </thead>\n  <tbody>\n    <tr>\n      <th>0</th>\n      <td>A</td>\n      <td>109.8100</td>\n      <td>-0.155167</td>\n      <td>N/A</td>\n    </tr>\n    <tr>\n      <th>1</th>\n      <td>AAL</td>\n      <td>12.8150</td>\n      <td>0.000000</td>\n      <td>N/A</td>\n    </tr>\n    <tr>\n      <th>2</th>\n      <td>AAP</td>\n      <td>51.7686</td>\n      <td>-0.682815</td>\n      <td>N/A</td>\n    </tr>\n    <tr>\n      <th>3</th>\n      <td>AAPL</td>\n      <td>173.0400</td>\n      <td>0.194114</td>\n      <td>N/A</td>\n    </tr>\n    <tr>\n      <th>4</th>\n      <td>ABBV</td>\n      <td>148.1557</td>\n      <td>0.052748</td>\n      <td>N/A</td>\n    </tr>\n    <tr>\n      <th>...</th>\n      <td>...</td>\n      <td>...</td>\n      <td>...</td>\n      <td>...</td>\n    </tr>\n    <tr>\n      <th>498</th>\n      <td>YUM</td>\n      <td>122.6650</td>\n      <td>0.121776</td>\n      <td>N/A</td>\n    </tr>\n    <tr>\n      <th>499</th>\n      <td>ZBH</td>\n      <td>108.8300</td>\n      <td>-0.008228</td>\n      <td>N/A</td>\n    </tr>\n    <tr>\n      <th>500</th>\n      <td>ZBRA</td>\n      <td>221.6300</td>\n      <td>-0.176244</td>\n      <td>N/A</td>\n    </tr>\n    <tr>\n      <th>501</th>\n      <td>ZION</td>\n      <td>33.5600</td>\n      <td>-0.364053</td>\n      <td>N/A</td>\n    </tr>\n    <tr>\n      <th>502</th>\n      <td>ZTS</td>\n      <td>170.7800</td>\n      <td>0.120585</td>\n      <td>N/A</td>\n    </tr>\n  </tbody>\n</table>\n<p>503 rows × 4 columns</p>\n</div>"
     },
     "execution_count": 10,
     "metadata": {},
     "output_type": "execute_result"
    }
   ],
   "source": [
    "final_dataframe"
   ],
   "metadata": {
    "collapsed": false,
    "ExecuteTime": {
     "end_time": "2023-10-05T14:55:39.249401090Z",
     "start_time": "2023-10-05T14:55:39.122445477Z"
    }
   }
  },
  {
   "cell_type": "markdown",
   "source": [
    "## Removing Low-Momentum Stocks\n",
    "\n",
    "The investment strategy that we're building seeks to identify the 50 highest-momentum stocks in the S&P 500.\n",
    "\n",
    "Because of this, the next thing we need to do is remove all the stocks in our DataFrame that fall below this momentum threshold. We'll sort the DataFrame by the stocks' one-year price return, and drop all stocks outside the top 50."
   ],
   "metadata": {
    "collapsed": false
   }
  },
  {
   "cell_type": "code",
   "source": [
    "final_dataframe.sort_values('1 Year Return', ascending=False, inplace=True)"
   ],
   "metadata": {
    "id": "Q87eeDwMvIEy",
    "ExecuteTime": {
     "end_time": "2023-10-05T14:55:39.336459564Z",
     "start_time": "2023-10-05T14:55:39.175005643Z"
    }
   },
   "execution_count": 11,
   "outputs": []
  },
  {
   "cell_type": "code",
   "source": [
    "final_dataframe = final_dataframe[:50]\n",
    "final_dataframe.reset_index(drop=True, inplace=True)"
   ],
   "metadata": {
    "id": "0CG3ZGGHvOdY",
    "ExecuteTime": {
     "end_time": "2023-10-05T14:55:39.371315852Z",
     "start_time": "2023-10-05T14:55:39.222480858Z"
    }
   },
   "execution_count": 12,
   "outputs": []
  },
  {
   "cell_type": "code",
   "source": [
    "final_dataframe"
   ],
   "metadata": {
    "colab": {
     "base_uri": "https://localhost:8080/",
     "height": 687
    },
    "id": "M4TtGwp-vQir",
    "outputId": "709bb4b5-2397-4c2f-a357-5b542a2662ae",
    "ExecuteTime": {
     "end_time": "2023-10-05T14:55:39.421394808Z",
     "start_time": "2023-10-05T14:55:39.266698907Z"
    }
   },
   "execution_count": 13,
   "outputs": [
    {
     "data": {
      "text/plain": "   Ticker  Stock Price  1 Year Return Number of Shares to Buy\n0    NVDA     441.5850       2.354227                     N/A\n1    META     300.3750       1.197311                     N/A\n2      GE     108.0300       1.105661                     N/A\n3    FICO     855.5300       1.080252                     N/A\n4     RCL      89.7650       1.029986                     N/A\n5     CCL      13.2550       0.875358                     N/A\n6    BKNG    3010.5400       0.781843                     N/A\n7     PHM      72.2900       0.753332                     N/A\n8    ADBE     510.2150       0.737274                     N/A\n9    AVGO     816.8700       0.718060                     N/A\n10   ACGL      81.5800       0.676250                     N/A\n11    FDX     258.7575       0.675688                     N/A\n12   ORCL     106.7000       0.639816                     N/A\n13    LLY     538.5300       0.596216                     N/A\n14   LRCX     621.7850       0.590493                     N/A\n15   AMAT     138.2250       0.580799                     N/A\n16   NFLX     368.1480       0.570286                     N/A\n17   CPRT      43.5500       0.543593                     N/A\n18   AXON     194.0000       0.539149                     N/A\n19    AMD     101.0750       0.533825                     N/A\n20   ANET     183.6200       0.526087                     N/A\n21    PNR      63.2100       0.522338                     N/A\n22    TDG     827.2110       0.502102                     N/A\n23     PH     384.8000       0.473920                     N/A\n24    ETN     204.6200       0.469568                     N/A\n25   ISRG     285.1350       0.468285                     N/A\n26   CARR      53.5150       0.467616                     N/A\n27    WST     367.4300       0.458597                     N/A\n28   ODFL     402.9100       0.454506                     N/A\n29   PCAR      85.6960       0.449331                     N/A\n30  CMCSA      43.1900       0.446589                     N/A\n31    URI     419.7600       0.444751                     N/A\n32   SNPS     454.4300       0.432982                     N/A\n33     EG     388.9100       0.414895                     N/A\n34    DHI     103.9675       0.414228                     N/A\n35     BA     186.9550       0.412481                     N/A\n36   KLAC     456.9400       0.407829                     N/A\n37    BKR      33.3950       0.395956                     N/A\n38   CDNS     231.2800       0.395701                     N/A\n39     DD      73.3600       0.385483                     N/A\n40   STLD     106.3600       0.381385                     N/A\n41    FLT     250.3700       0.379061                     N/A\n42    NVR    5979.4900       0.377722                     N/A\n43    HWM      46.1031       0.377108                     N/A\n44    GWW     694.6600       0.371357                     N/A\n45   WELL      82.0400       0.366299                     N/A\n46   VRSK     238.0750       0.365644                     N/A\n47    LEN     108.7125       0.359406                     N/A\n48    LIN     372.0600       0.357901                     N/A\n49   PANW     235.7900       0.353019                     N/A",
      "text/html": "<div>\n<style scoped>\n    .dataframe tbody tr th:only-of-type {\n        vertical-align: middle;\n    }\n\n    .dataframe tbody tr th {\n        vertical-align: top;\n    }\n\n    .dataframe thead th {\n        text-align: right;\n    }\n</style>\n<table border=\"1\" class=\"dataframe\">\n  <thead>\n    <tr style=\"text-align: right;\">\n      <th></th>\n      <th>Ticker</th>\n      <th>Stock Price</th>\n      <th>1 Year Return</th>\n      <th>Number of Shares to Buy</th>\n    </tr>\n  </thead>\n  <tbody>\n    <tr>\n      <th>0</th>\n      <td>NVDA</td>\n      <td>441.5850</td>\n      <td>2.354227</td>\n      <td>N/A</td>\n    </tr>\n    <tr>\n      <th>1</th>\n      <td>META</td>\n      <td>300.3750</td>\n      <td>1.197311</td>\n      <td>N/A</td>\n    </tr>\n    <tr>\n      <th>2</th>\n      <td>GE</td>\n      <td>108.0300</td>\n      <td>1.105661</td>\n      <td>N/A</td>\n    </tr>\n    <tr>\n      <th>3</th>\n      <td>FICO</td>\n      <td>855.5300</td>\n      <td>1.080252</td>\n      <td>N/A</td>\n    </tr>\n    <tr>\n      <th>4</th>\n      <td>RCL</td>\n      <td>89.7650</td>\n      <td>1.029986</td>\n      <td>N/A</td>\n    </tr>\n    <tr>\n      <th>5</th>\n      <td>CCL</td>\n      <td>13.2550</td>\n      <td>0.875358</td>\n      <td>N/A</td>\n    </tr>\n    <tr>\n      <th>6</th>\n      <td>BKNG</td>\n      <td>3010.5400</td>\n      <td>0.781843</td>\n      <td>N/A</td>\n    </tr>\n    <tr>\n      <th>7</th>\n      <td>PHM</td>\n      <td>72.2900</td>\n      <td>0.753332</td>\n      <td>N/A</td>\n    </tr>\n    <tr>\n      <th>8</th>\n      <td>ADBE</td>\n      <td>510.2150</td>\n      <td>0.737274</td>\n      <td>N/A</td>\n    </tr>\n    <tr>\n      <th>9</th>\n      <td>AVGO</td>\n      <td>816.8700</td>\n      <td>0.718060</td>\n      <td>N/A</td>\n    </tr>\n    <tr>\n      <th>10</th>\n      <td>ACGL</td>\n      <td>81.5800</td>\n      <td>0.676250</td>\n      <td>N/A</td>\n    </tr>\n    <tr>\n      <th>11</th>\n      <td>FDX</td>\n      <td>258.7575</td>\n      <td>0.675688</td>\n      <td>N/A</td>\n    </tr>\n    <tr>\n      <th>12</th>\n      <td>ORCL</td>\n      <td>106.7000</td>\n      <td>0.639816</td>\n      <td>N/A</td>\n    </tr>\n    <tr>\n      <th>13</th>\n      <td>LLY</td>\n      <td>538.5300</td>\n      <td>0.596216</td>\n      <td>N/A</td>\n    </tr>\n    <tr>\n      <th>14</th>\n      <td>LRCX</td>\n      <td>621.7850</td>\n      <td>0.590493</td>\n      <td>N/A</td>\n    </tr>\n    <tr>\n      <th>15</th>\n      <td>AMAT</td>\n      <td>138.2250</td>\n      <td>0.580799</td>\n      <td>N/A</td>\n    </tr>\n    <tr>\n      <th>16</th>\n      <td>NFLX</td>\n      <td>368.1480</td>\n      <td>0.570286</td>\n      <td>N/A</td>\n    </tr>\n    <tr>\n      <th>17</th>\n      <td>CPRT</td>\n      <td>43.5500</td>\n      <td>0.543593</td>\n      <td>N/A</td>\n    </tr>\n    <tr>\n      <th>18</th>\n      <td>AXON</td>\n      <td>194.0000</td>\n      <td>0.539149</td>\n      <td>N/A</td>\n    </tr>\n    <tr>\n      <th>19</th>\n      <td>AMD</td>\n      <td>101.0750</td>\n      <td>0.533825</td>\n      <td>N/A</td>\n    </tr>\n    <tr>\n      <th>20</th>\n      <td>ANET</td>\n      <td>183.6200</td>\n      <td>0.526087</td>\n      <td>N/A</td>\n    </tr>\n    <tr>\n      <th>21</th>\n      <td>PNR</td>\n      <td>63.2100</td>\n      <td>0.522338</td>\n      <td>N/A</td>\n    </tr>\n    <tr>\n      <th>22</th>\n      <td>TDG</td>\n      <td>827.2110</td>\n      <td>0.502102</td>\n      <td>N/A</td>\n    </tr>\n    <tr>\n      <th>23</th>\n      <td>PH</td>\n      <td>384.8000</td>\n      <td>0.473920</td>\n      <td>N/A</td>\n    </tr>\n    <tr>\n      <th>24</th>\n      <td>ETN</td>\n      <td>204.6200</td>\n      <td>0.469568</td>\n      <td>N/A</td>\n    </tr>\n    <tr>\n      <th>25</th>\n      <td>ISRG</td>\n      <td>285.1350</td>\n      <td>0.468285</td>\n      <td>N/A</td>\n    </tr>\n    <tr>\n      <th>26</th>\n      <td>CARR</td>\n      <td>53.5150</td>\n      <td>0.467616</td>\n      <td>N/A</td>\n    </tr>\n    <tr>\n      <th>27</th>\n      <td>WST</td>\n      <td>367.4300</td>\n      <td>0.458597</td>\n      <td>N/A</td>\n    </tr>\n    <tr>\n      <th>28</th>\n      <td>ODFL</td>\n      <td>402.9100</td>\n      <td>0.454506</td>\n      <td>N/A</td>\n    </tr>\n    <tr>\n      <th>29</th>\n      <td>PCAR</td>\n      <td>85.6960</td>\n      <td>0.449331</td>\n      <td>N/A</td>\n    </tr>\n    <tr>\n      <th>30</th>\n      <td>CMCSA</td>\n      <td>43.1900</td>\n      <td>0.446589</td>\n      <td>N/A</td>\n    </tr>\n    <tr>\n      <th>31</th>\n      <td>URI</td>\n      <td>419.7600</td>\n      <td>0.444751</td>\n      <td>N/A</td>\n    </tr>\n    <tr>\n      <th>32</th>\n      <td>SNPS</td>\n      <td>454.4300</td>\n      <td>0.432982</td>\n      <td>N/A</td>\n    </tr>\n    <tr>\n      <th>33</th>\n      <td>EG</td>\n      <td>388.9100</td>\n      <td>0.414895</td>\n      <td>N/A</td>\n    </tr>\n    <tr>\n      <th>34</th>\n      <td>DHI</td>\n      <td>103.9675</td>\n      <td>0.414228</td>\n      <td>N/A</td>\n    </tr>\n    <tr>\n      <th>35</th>\n      <td>BA</td>\n      <td>186.9550</td>\n      <td>0.412481</td>\n      <td>N/A</td>\n    </tr>\n    <tr>\n      <th>36</th>\n      <td>KLAC</td>\n      <td>456.9400</td>\n      <td>0.407829</td>\n      <td>N/A</td>\n    </tr>\n    <tr>\n      <th>37</th>\n      <td>BKR</td>\n      <td>33.3950</td>\n      <td>0.395956</td>\n      <td>N/A</td>\n    </tr>\n    <tr>\n      <th>38</th>\n      <td>CDNS</td>\n      <td>231.2800</td>\n      <td>0.395701</td>\n      <td>N/A</td>\n    </tr>\n    <tr>\n      <th>39</th>\n      <td>DD</td>\n      <td>73.3600</td>\n      <td>0.385483</td>\n      <td>N/A</td>\n    </tr>\n    <tr>\n      <th>40</th>\n      <td>STLD</td>\n      <td>106.3600</td>\n      <td>0.381385</td>\n      <td>N/A</td>\n    </tr>\n    <tr>\n      <th>41</th>\n      <td>FLT</td>\n      <td>250.3700</td>\n      <td>0.379061</td>\n      <td>N/A</td>\n    </tr>\n    <tr>\n      <th>42</th>\n      <td>NVR</td>\n      <td>5979.4900</td>\n      <td>0.377722</td>\n      <td>N/A</td>\n    </tr>\n    <tr>\n      <th>43</th>\n      <td>HWM</td>\n      <td>46.1031</td>\n      <td>0.377108</td>\n      <td>N/A</td>\n    </tr>\n    <tr>\n      <th>44</th>\n      <td>GWW</td>\n      <td>694.6600</td>\n      <td>0.371357</td>\n      <td>N/A</td>\n    </tr>\n    <tr>\n      <th>45</th>\n      <td>WELL</td>\n      <td>82.0400</td>\n      <td>0.366299</td>\n      <td>N/A</td>\n    </tr>\n    <tr>\n      <th>46</th>\n      <td>VRSK</td>\n      <td>238.0750</td>\n      <td>0.365644</td>\n      <td>N/A</td>\n    </tr>\n    <tr>\n      <th>47</th>\n      <td>LEN</td>\n      <td>108.7125</td>\n      <td>0.359406</td>\n      <td>N/A</td>\n    </tr>\n    <tr>\n      <th>48</th>\n      <td>LIN</td>\n      <td>372.0600</td>\n      <td>0.357901</td>\n      <td>N/A</td>\n    </tr>\n    <tr>\n      <th>49</th>\n      <td>PANW</td>\n      <td>235.7900</td>\n      <td>0.353019</td>\n      <td>N/A</td>\n    </tr>\n  </tbody>\n</table>\n</div>"
     },
     "execution_count": 13,
     "metadata": {},
     "output_type": "execute_result"
    }
   ]
  },
  {
   "cell_type": "markdown",
   "source": [
    "## Calculating the Number of Shares to Buy\n",
    "\n",
    "As we can see in the DataFrame above, we stil haven't calculated the number of shares of each stock to buy."
   ],
   "metadata": {
    "collapsed": false
   }
  },
  {
   "cell_type": "code",
   "source": [
    "# portfolio_size = float(input(\"Enter your portfolio value: \"))\n",
    "portfolio_size = 10000000\n",
    "portfolio_size"
   ],
   "metadata": {
    "colab": {
     "base_uri": "https://localhost:8080/"
    },
    "id": "g1l9P_AEvSzg",
    "outputId": "7c518488-c4a0-4a69-b5fb-c560f1754ec8",
    "ExecuteTime": {
     "end_time": "2023-10-05T14:55:39.660586759Z",
     "start_time": "2023-10-05T14:55:39.382486027Z"
    }
   },
   "execution_count": 14,
   "outputs": [
    {
     "data": {
      "text/plain": "10000000"
     },
     "execution_count": 14,
     "metadata": {},
     "output_type": "execute_result"
    }
   ]
  },
  {
   "cell_type": "code",
   "source": [
    "position_size = float(portfolio_size) / len(final_dataframe.index)\n",
    "position_size"
   ],
   "metadata": {
    "colab": {
     "base_uri": "https://localhost:8080/"
    },
    "id": "2Kr2o8OyvbEP",
    "outputId": "941fbf39-82b9-4868-d6ff-effa56bc8f96",
    "ExecuteTime": {
     "end_time": "2023-10-05T14:55:39.669832917Z",
     "start_time": "2023-10-05T14:55:39.393766042Z"
    }
   },
   "execution_count": 15,
   "outputs": [
    {
     "data": {
      "text/plain": "200000.0"
     },
     "execution_count": 15,
     "metadata": {},
     "output_type": "execute_result"
    }
   ]
  },
  {
   "cell_type": "code",
   "source": [
    "for i in range(len(final_dataframe.index)):\n",
    "    final_dataframe.loc[i, 'Number of Shares to Buy'] = math.floor(\n",
    "        position_size / final_dataframe.loc[i, 'Stock Price'])\n",
    "\n",
    "final_dataframe"
   ],
   "metadata": {
    "colab": {
     "base_uri": "https://localhost:8080/",
     "height": 1000
    },
    "id": "24XzkU0EvdOb",
    "outputId": "5e87f3a8-c797-4117-dc33-28a2b40ce030",
    "ExecuteTime": {
     "end_time": "2023-10-05T14:55:39.729992431Z",
     "start_time": "2023-10-05T14:55:39.439051946Z"
    }
   },
   "execution_count": 16,
   "outputs": [
    {
     "data": {
      "text/plain": "   Ticker  Stock Price  1 Year Return Number of Shares to Buy\n0    NVDA     441.5850       2.354227                     452\n1    META     300.3750       1.197311                     665\n2      GE     108.0300       1.105661                    1851\n3    FICO     855.5300       1.080252                     233\n4     RCL      89.7650       1.029986                    2228\n5     CCL      13.2550       0.875358                   15088\n6    BKNG    3010.5400       0.781843                      66\n7     PHM      72.2900       0.753332                    2766\n8    ADBE     510.2150       0.737274                     391\n9    AVGO     816.8700       0.718060                     244\n10   ACGL      81.5800       0.676250                    2451\n11    FDX     258.7575       0.675688                     772\n12   ORCL     106.7000       0.639816                    1874\n13    LLY     538.5300       0.596216                     371\n14   LRCX     621.7850       0.590493                     321\n15   AMAT     138.2250       0.580799                    1446\n16   NFLX     368.1480       0.570286                     543\n17   CPRT      43.5500       0.543593                    4592\n18   AXON     194.0000       0.539149                    1030\n19    AMD     101.0750       0.533825                    1978\n20   ANET     183.6200       0.526087                    1089\n21    PNR      63.2100       0.522338                    3164\n22    TDG     827.2110       0.502102                     241\n23     PH     384.8000       0.473920                     519\n24    ETN     204.6200       0.469568                     977\n25   ISRG     285.1350       0.468285                     701\n26   CARR      53.5150       0.467616                    3737\n27    WST     367.4300       0.458597                     544\n28   ODFL     402.9100       0.454506                     496\n29   PCAR      85.6960       0.449331                    2333\n30  CMCSA      43.1900       0.446589                    4630\n31    URI     419.7600       0.444751                     476\n32   SNPS     454.4300       0.432982                     440\n33     EG     388.9100       0.414895                     514\n34    DHI     103.9675       0.414228                    1923\n35     BA     186.9550       0.412481                    1069\n36   KLAC     456.9400       0.407829                     437\n37    BKR      33.3950       0.395956                    5988\n38   CDNS     231.2800       0.395701                     864\n39     DD      73.3600       0.385483                    2726\n40   STLD     106.3600       0.381385                    1880\n41    FLT     250.3700       0.379061                     798\n42    NVR    5979.4900       0.377722                      33\n43    HWM      46.1031       0.377108                    4338\n44    GWW     694.6600       0.371357                     287\n45   WELL      82.0400       0.366299                    2437\n46   VRSK     238.0750       0.365644                     840\n47    LEN     108.7125       0.359406                    1839\n48    LIN     372.0600       0.357901                     537\n49   PANW     235.7900       0.353019                     848",
      "text/html": "<div>\n<style scoped>\n    .dataframe tbody tr th:only-of-type {\n        vertical-align: middle;\n    }\n\n    .dataframe tbody tr th {\n        vertical-align: top;\n    }\n\n    .dataframe thead th {\n        text-align: right;\n    }\n</style>\n<table border=\"1\" class=\"dataframe\">\n  <thead>\n    <tr style=\"text-align: right;\">\n      <th></th>\n      <th>Ticker</th>\n      <th>Stock Price</th>\n      <th>1 Year Return</th>\n      <th>Number of Shares to Buy</th>\n    </tr>\n  </thead>\n  <tbody>\n    <tr>\n      <th>0</th>\n      <td>NVDA</td>\n      <td>441.5850</td>\n      <td>2.354227</td>\n      <td>452</td>\n    </tr>\n    <tr>\n      <th>1</th>\n      <td>META</td>\n      <td>300.3750</td>\n      <td>1.197311</td>\n      <td>665</td>\n    </tr>\n    <tr>\n      <th>2</th>\n      <td>GE</td>\n      <td>108.0300</td>\n      <td>1.105661</td>\n      <td>1851</td>\n    </tr>\n    <tr>\n      <th>3</th>\n      <td>FICO</td>\n      <td>855.5300</td>\n      <td>1.080252</td>\n      <td>233</td>\n    </tr>\n    <tr>\n      <th>4</th>\n      <td>RCL</td>\n      <td>89.7650</td>\n      <td>1.029986</td>\n      <td>2228</td>\n    </tr>\n    <tr>\n      <th>5</th>\n      <td>CCL</td>\n      <td>13.2550</td>\n      <td>0.875358</td>\n      <td>15088</td>\n    </tr>\n    <tr>\n      <th>6</th>\n      <td>BKNG</td>\n      <td>3010.5400</td>\n      <td>0.781843</td>\n      <td>66</td>\n    </tr>\n    <tr>\n      <th>7</th>\n      <td>PHM</td>\n      <td>72.2900</td>\n      <td>0.753332</td>\n      <td>2766</td>\n    </tr>\n    <tr>\n      <th>8</th>\n      <td>ADBE</td>\n      <td>510.2150</td>\n      <td>0.737274</td>\n      <td>391</td>\n    </tr>\n    <tr>\n      <th>9</th>\n      <td>AVGO</td>\n      <td>816.8700</td>\n      <td>0.718060</td>\n      <td>244</td>\n    </tr>\n    <tr>\n      <th>10</th>\n      <td>ACGL</td>\n      <td>81.5800</td>\n      <td>0.676250</td>\n      <td>2451</td>\n    </tr>\n    <tr>\n      <th>11</th>\n      <td>FDX</td>\n      <td>258.7575</td>\n      <td>0.675688</td>\n      <td>772</td>\n    </tr>\n    <tr>\n      <th>12</th>\n      <td>ORCL</td>\n      <td>106.7000</td>\n      <td>0.639816</td>\n      <td>1874</td>\n    </tr>\n    <tr>\n      <th>13</th>\n      <td>LLY</td>\n      <td>538.5300</td>\n      <td>0.596216</td>\n      <td>371</td>\n    </tr>\n    <tr>\n      <th>14</th>\n      <td>LRCX</td>\n      <td>621.7850</td>\n      <td>0.590493</td>\n      <td>321</td>\n    </tr>\n    <tr>\n      <th>15</th>\n      <td>AMAT</td>\n      <td>138.2250</td>\n      <td>0.580799</td>\n      <td>1446</td>\n    </tr>\n    <tr>\n      <th>16</th>\n      <td>NFLX</td>\n      <td>368.1480</td>\n      <td>0.570286</td>\n      <td>543</td>\n    </tr>\n    <tr>\n      <th>17</th>\n      <td>CPRT</td>\n      <td>43.5500</td>\n      <td>0.543593</td>\n      <td>4592</td>\n    </tr>\n    <tr>\n      <th>18</th>\n      <td>AXON</td>\n      <td>194.0000</td>\n      <td>0.539149</td>\n      <td>1030</td>\n    </tr>\n    <tr>\n      <th>19</th>\n      <td>AMD</td>\n      <td>101.0750</td>\n      <td>0.533825</td>\n      <td>1978</td>\n    </tr>\n    <tr>\n      <th>20</th>\n      <td>ANET</td>\n      <td>183.6200</td>\n      <td>0.526087</td>\n      <td>1089</td>\n    </tr>\n    <tr>\n      <th>21</th>\n      <td>PNR</td>\n      <td>63.2100</td>\n      <td>0.522338</td>\n      <td>3164</td>\n    </tr>\n    <tr>\n      <th>22</th>\n      <td>TDG</td>\n      <td>827.2110</td>\n      <td>0.502102</td>\n      <td>241</td>\n    </tr>\n    <tr>\n      <th>23</th>\n      <td>PH</td>\n      <td>384.8000</td>\n      <td>0.473920</td>\n      <td>519</td>\n    </tr>\n    <tr>\n      <th>24</th>\n      <td>ETN</td>\n      <td>204.6200</td>\n      <td>0.469568</td>\n      <td>977</td>\n    </tr>\n    <tr>\n      <th>25</th>\n      <td>ISRG</td>\n      <td>285.1350</td>\n      <td>0.468285</td>\n      <td>701</td>\n    </tr>\n    <tr>\n      <th>26</th>\n      <td>CARR</td>\n      <td>53.5150</td>\n      <td>0.467616</td>\n      <td>3737</td>\n    </tr>\n    <tr>\n      <th>27</th>\n      <td>WST</td>\n      <td>367.4300</td>\n      <td>0.458597</td>\n      <td>544</td>\n    </tr>\n    <tr>\n      <th>28</th>\n      <td>ODFL</td>\n      <td>402.9100</td>\n      <td>0.454506</td>\n      <td>496</td>\n    </tr>\n    <tr>\n      <th>29</th>\n      <td>PCAR</td>\n      <td>85.6960</td>\n      <td>0.449331</td>\n      <td>2333</td>\n    </tr>\n    <tr>\n      <th>30</th>\n      <td>CMCSA</td>\n      <td>43.1900</td>\n      <td>0.446589</td>\n      <td>4630</td>\n    </tr>\n    <tr>\n      <th>31</th>\n      <td>URI</td>\n      <td>419.7600</td>\n      <td>0.444751</td>\n      <td>476</td>\n    </tr>\n    <tr>\n      <th>32</th>\n      <td>SNPS</td>\n      <td>454.4300</td>\n      <td>0.432982</td>\n      <td>440</td>\n    </tr>\n    <tr>\n      <th>33</th>\n      <td>EG</td>\n      <td>388.9100</td>\n      <td>0.414895</td>\n      <td>514</td>\n    </tr>\n    <tr>\n      <th>34</th>\n      <td>DHI</td>\n      <td>103.9675</td>\n      <td>0.414228</td>\n      <td>1923</td>\n    </tr>\n    <tr>\n      <th>35</th>\n      <td>BA</td>\n      <td>186.9550</td>\n      <td>0.412481</td>\n      <td>1069</td>\n    </tr>\n    <tr>\n      <th>36</th>\n      <td>KLAC</td>\n      <td>456.9400</td>\n      <td>0.407829</td>\n      <td>437</td>\n    </tr>\n    <tr>\n      <th>37</th>\n      <td>BKR</td>\n      <td>33.3950</td>\n      <td>0.395956</td>\n      <td>5988</td>\n    </tr>\n    <tr>\n      <th>38</th>\n      <td>CDNS</td>\n      <td>231.2800</td>\n      <td>0.395701</td>\n      <td>864</td>\n    </tr>\n    <tr>\n      <th>39</th>\n      <td>DD</td>\n      <td>73.3600</td>\n      <td>0.385483</td>\n      <td>2726</td>\n    </tr>\n    <tr>\n      <th>40</th>\n      <td>STLD</td>\n      <td>106.3600</td>\n      <td>0.381385</td>\n      <td>1880</td>\n    </tr>\n    <tr>\n      <th>41</th>\n      <td>FLT</td>\n      <td>250.3700</td>\n      <td>0.379061</td>\n      <td>798</td>\n    </tr>\n    <tr>\n      <th>42</th>\n      <td>NVR</td>\n      <td>5979.4900</td>\n      <td>0.377722</td>\n      <td>33</td>\n    </tr>\n    <tr>\n      <th>43</th>\n      <td>HWM</td>\n      <td>46.1031</td>\n      <td>0.377108</td>\n      <td>4338</td>\n    </tr>\n    <tr>\n      <th>44</th>\n      <td>GWW</td>\n      <td>694.6600</td>\n      <td>0.371357</td>\n      <td>287</td>\n    </tr>\n    <tr>\n      <th>45</th>\n      <td>WELL</td>\n      <td>82.0400</td>\n      <td>0.366299</td>\n      <td>2437</td>\n    </tr>\n    <tr>\n      <th>46</th>\n      <td>VRSK</td>\n      <td>238.0750</td>\n      <td>0.365644</td>\n      <td>840</td>\n    </tr>\n    <tr>\n      <th>47</th>\n      <td>LEN</td>\n      <td>108.7125</td>\n      <td>0.359406</td>\n      <td>1839</td>\n    </tr>\n    <tr>\n      <th>48</th>\n      <td>LIN</td>\n      <td>372.0600</td>\n      <td>0.357901</td>\n      <td>537</td>\n    </tr>\n    <tr>\n      <th>49</th>\n      <td>PANW</td>\n      <td>235.7900</td>\n      <td>0.353019</td>\n      <td>848</td>\n    </tr>\n  </tbody>\n</table>\n</div>"
     },
     "execution_count": 16,
     "metadata": {},
     "output_type": "execute_result"
    }
   ]
  },
  {
   "cell_type": "markdown",
   "source": [
    "## Building a Better (and More Realistic) Momentum Strategy\n",
    "\n",
    "Real-world quantitative investment firms differentiate between \"high quality\" and \"low quality\" momentum stocks:\n",
    "\n",
    "* High-quality momentum stocks show \"slow and steady\" outperformance over long periods of time\n",
    "* Low-quality momentum stocks might not show any momentum for a long time, and then surge upwards.\n",
    "\n",
    "The reason why high-quality momentum stocks are preferred is that low-quality momentum can often be caused by short-term news that is unlikely to be repeated in the future (such as an FDA approval for a biotechnology company).\n",
    "\n",
    "To identify high-quality momentum, we're going to build a strategy that selects stocks from the highest percentiles of: \n",
    "\n",
    "* 1-month price returns\n",
    "* 3-month price returns\n",
    "* 6-month price returns\n",
    "* 1-year price returns\n",
    "\n",
    "Here `hqm` stands for `high-quality momentum`."
   ],
   "metadata": {
    "collapsed": false
   }
  },
  {
   "cell_type": "code",
   "execution_count": 17,
   "outputs": [
    {
     "data": {
      "text/plain": "Empty DataFrame\nColumns: [Ticker, Stock Price, Number of Shares to Buy, 1 Year Return, 1 Year Return Percentile, 6 Months Return, 6 Months Return Percentile, 3 Months Return, 3 Months Return Percentile, 1 Month Return, 1 Month Return Percentile, HQM Score]\nIndex: []",
      "text/html": "<div>\n<style scoped>\n    .dataframe tbody tr th:only-of-type {\n        vertical-align: middle;\n    }\n\n    .dataframe tbody tr th {\n        vertical-align: top;\n    }\n\n    .dataframe thead th {\n        text-align: right;\n    }\n</style>\n<table border=\"1\" class=\"dataframe\">\n  <thead>\n    <tr style=\"text-align: right;\">\n      <th></th>\n      <th>Ticker</th>\n      <th>Stock Price</th>\n      <th>Number of Shares to Buy</th>\n      <th>1 Year Return</th>\n      <th>1 Year Return Percentile</th>\n      <th>6 Months Return</th>\n      <th>6 Months Return Percentile</th>\n      <th>3 Months Return</th>\n      <th>3 Months Return Percentile</th>\n      <th>1 Month Return</th>\n      <th>1 Month Return Percentile</th>\n      <th>HQM Score</th>\n    </tr>\n  </thead>\n  <tbody>\n  </tbody>\n</table>\n</div>"
     },
     "execution_count": 17,
     "metadata": {},
     "output_type": "execute_result"
    }
   ],
   "source": [
    "hqm_columns = [\n",
    "    'Ticker',\n",
    "    'Stock Price',\n",
    "    'Number of Shares to Buy',\n",
    "    '1 Year Return',\n",
    "    '1 Year Return Percentile',\n",
    "    '6 Months Return',\n",
    "    '6 Months Return Percentile',\n",
    "    '3 Months Return',\n",
    "    '3 Months Return Percentile',\n",
    "    '1 Month Return',\n",
    "    '1 Month Return Percentile',\n",
    "    'HQM Score'\n",
    "]\n",
    "\n",
    "hqm_dataframe = pd.DataFrame(columns=hqm_columns)\n",
    "hqm_dataframe"
   ],
   "metadata": {
    "collapsed": false,
    "ExecuteTime": {
     "end_time": "2023-10-05T14:55:39.824110152Z",
     "start_time": "2023-10-05T14:55:39.666488382Z"
    }
   }
  },
  {
   "cell_type": "code",
   "source": [
    "for stock in stocks['Ticker']:\n",
    "    data = yf.Ticker(stock).info\n",
    "    try:\n",
    "        yr1Return = data['52WeekChange']\n",
    "    except:\n",
    "        yr1Return = np.NaN\n",
    "    try:\n",
    "        hist = yf.Ticker(stock).history(period='6mo')\n",
    "        mnth6Return = ((hist['Close'][-1] - hist['Close'][0]) / hist['Close'][0]) * 100\n",
    "    except:\n",
    "        mnth6Return = np.NaN\n",
    "    try:\n",
    "        hist = yf.Ticker(stock).history(period='3mo')\n",
    "        mnth3Return = ((hist['Close'][-1] - hist['Close'][0]) / hist['Close'][0]) * 100\n",
    "    except:\n",
    "        mnth3Return = np.NaN\n",
    "    try:\n",
    "        hist = yf.Ticker(stock).history(period='1mo')\n",
    "        mnth1Return = ((hist['Close'][-1] - hist['Close'][0]) / hist['Close'][0]) * 100\n",
    "    except:\n",
    "        mnth1Return = np.NaN\n",
    "    \n",
    "    stock_dict = {\n",
    "        'Ticker': [stock],\n",
    "        'Stock Price': [data['currentPrice']],\n",
    "        'Number of Shares to Buy': ['N/A'],\n",
    "        '1 Year Return': [yr1Return],\n",
    "        '1 Year Return Percentile': ['N/A'],\n",
    "        '6 Months Return': [mnth6Return],\n",
    "        '6 Months Return Percentile': ['N/A'],\n",
    "        '3 Months Return': [mnth3Return],\n",
    "        '3 Months Return Percentile': ['N/A'],\n",
    "        '1 Month Return': [mnth1Return],\n",
    "        '1 Month Return Percentile': ['N/A'],\n",
    "        'HQM Score': ['N/A']\n",
    "    }\n",
    "    df = pd.DataFrame(stock_dict)\n",
    "    hqm_dataframe = pd.concat([hqm_dataframe, df], ignore_index=True)\n",
    "\n",
    "    clear_output(wait=True)\n",
    "    print(hqm_dataframe['Ticker'])"
   ],
   "metadata": {
    "colab": {
     "base_uri": "https://localhost:8080/"
    },
    "id": "K2rDM_RBvfyH",
    "outputId": "a3da2022-a797-4fcc-87d5-51e9b0b0afd2"
   },
   "execution_count": 18,
   "outputs": [
    {
     "name": "stdout",
     "output_type": "stream",
     "text": [
      "0         A\n",
      "1       AAL\n",
      "2       AAP\n",
      "3      AAPL\n",
      "4      ABBV\n",
      "       ... \n",
      "498     YUM\n",
      "499     ZBH\n",
      "500    ZBRA\n",
      "501    ZION\n",
      "502     ZTS\n",
      "Name: Ticker, Length: 503, dtype: object\n"
     ]
    }
   ]
  },
  {
   "cell_type": "code",
   "source": [
    "hqm_dataframe"
   ],
   "metadata": {
    "colab": {
     "base_uri": "https://localhost:8080/",
     "height": 485
    },
    "id": "D-YxN7Xtv7sP",
    "outputId": "e73982ca-27a2-499b-a8b7-f3b6f76c299d",
    "ExecuteTime": {
     "end_time": "2023-10-05T15:17:02.341076972Z",
     "start_time": "2023-10-05T15:17:02.330389113Z"
    }
   },
   "execution_count": 19,
   "outputs": [
    {
     "data": {
      "text/plain": "    Ticker  Stock Price Number of Shares to Buy  1 Year Return  \\\n0        A     109.5100                     N/A      -0.155167   \n1      AAL      12.8173                     N/A       0.000000   \n2      AAP      51.6900                     N/A      -0.682815   \n3     AAPL     172.9499                     N/A       0.194114   \n4     ABBV     148.0850                     N/A       0.052748   \n..     ...          ...                     ...            ...   \n498    YUM     122.7500                     N/A       0.121776   \n499    ZBH     108.7750                     N/A      -0.008228   \n500   ZBRA     220.5400                     N/A      -0.176244   \n501   ZION      33.4900                     N/A      -0.364053   \n502    ZTS     170.7200                     N/A       0.120585   \n\n    1 Year Return Percentile  6 Months Return 6 Months Return Percentile  \\\n0                        N/A       -20.385006                        N/A   \n1                        N/A        -7.722826                        N/A   \n2                        N/A       -56.307647                        N/A   \n3                        N/A         5.900766                        N/A   \n4                        N/A        -6.029803                        N/A   \n..                       ...              ...                        ...   \n498                      N/A        -6.093253                        N/A   \n499                      N/A       -15.084781                        N/A   \n500                      N/A       -26.523406                        N/A   \n501                      N/A        20.410872                        N/A   \n502                      N/A         2.274326                        N/A   \n\n     3 Months Return 3 Months Return Percentile  1 Month Return  \\\n0          -8.175068                        N/A       -7.579558   \n1         -30.036572                        N/A      -10.368534   \n2         -27.103296                        N/A      -23.490230   \n3          -9.489604                        N/A       -8.829780   \n4           8.797194                        N/A        1.358659   \n..               ...                        ...             ...   \n498        -9.757733                        N/A       -4.608325   \n499       -23.425674                        N/A       -7.468621   \n500       -24.691826                        N/A      -19.290030   \n501        21.168674                        N/A       -7.306945   \n502         1.030678                        N/A      -10.350256   \n\n    1 Month Return Percentile HQM Score  \n0                         N/A       N/A  \n1                         N/A       N/A  \n2                         N/A       N/A  \n3                         N/A       N/A  \n4                         N/A       N/A  \n..                        ...       ...  \n498                       N/A       N/A  \n499                       N/A       N/A  \n500                       N/A       N/A  \n501                       N/A       N/A  \n502                       N/A       N/A  \n\n[503 rows x 12 columns]",
      "text/html": "<div>\n<style scoped>\n    .dataframe tbody tr th:only-of-type {\n        vertical-align: middle;\n    }\n\n    .dataframe tbody tr th {\n        vertical-align: top;\n    }\n\n    .dataframe thead th {\n        text-align: right;\n    }\n</style>\n<table border=\"1\" class=\"dataframe\">\n  <thead>\n    <tr style=\"text-align: right;\">\n      <th></th>\n      <th>Ticker</th>\n      <th>Stock Price</th>\n      <th>Number of Shares to Buy</th>\n      <th>1 Year Return</th>\n      <th>1 Year Return Percentile</th>\n      <th>6 Months Return</th>\n      <th>6 Months Return Percentile</th>\n      <th>3 Months Return</th>\n      <th>3 Months Return Percentile</th>\n      <th>1 Month Return</th>\n      <th>1 Month Return Percentile</th>\n      <th>HQM Score</th>\n    </tr>\n  </thead>\n  <tbody>\n    <tr>\n      <th>0</th>\n      <td>A</td>\n      <td>109.5100</td>\n      <td>N/A</td>\n      <td>-0.155167</td>\n      <td>N/A</td>\n      <td>-20.385006</td>\n      <td>N/A</td>\n      <td>-8.175068</td>\n      <td>N/A</td>\n      <td>-7.579558</td>\n      <td>N/A</td>\n      <td>N/A</td>\n    </tr>\n    <tr>\n      <th>1</th>\n      <td>AAL</td>\n      <td>12.8173</td>\n      <td>N/A</td>\n      <td>0.000000</td>\n      <td>N/A</td>\n      <td>-7.722826</td>\n      <td>N/A</td>\n      <td>-30.036572</td>\n      <td>N/A</td>\n      <td>-10.368534</td>\n      <td>N/A</td>\n      <td>N/A</td>\n    </tr>\n    <tr>\n      <th>2</th>\n      <td>AAP</td>\n      <td>51.6900</td>\n      <td>N/A</td>\n      <td>-0.682815</td>\n      <td>N/A</td>\n      <td>-56.307647</td>\n      <td>N/A</td>\n      <td>-27.103296</td>\n      <td>N/A</td>\n      <td>-23.490230</td>\n      <td>N/A</td>\n      <td>N/A</td>\n    </tr>\n    <tr>\n      <th>3</th>\n      <td>AAPL</td>\n      <td>172.9499</td>\n      <td>N/A</td>\n      <td>0.194114</td>\n      <td>N/A</td>\n      <td>5.900766</td>\n      <td>N/A</td>\n      <td>-9.489604</td>\n      <td>N/A</td>\n      <td>-8.829780</td>\n      <td>N/A</td>\n      <td>N/A</td>\n    </tr>\n    <tr>\n      <th>4</th>\n      <td>ABBV</td>\n      <td>148.0850</td>\n      <td>N/A</td>\n      <td>0.052748</td>\n      <td>N/A</td>\n      <td>-6.029803</td>\n      <td>N/A</td>\n      <td>8.797194</td>\n      <td>N/A</td>\n      <td>1.358659</td>\n      <td>N/A</td>\n      <td>N/A</td>\n    </tr>\n    <tr>\n      <th>...</th>\n      <td>...</td>\n      <td>...</td>\n      <td>...</td>\n      <td>...</td>\n      <td>...</td>\n      <td>...</td>\n      <td>...</td>\n      <td>...</td>\n      <td>...</td>\n      <td>...</td>\n      <td>...</td>\n      <td>...</td>\n    </tr>\n    <tr>\n      <th>498</th>\n      <td>YUM</td>\n      <td>122.7500</td>\n      <td>N/A</td>\n      <td>0.121776</td>\n      <td>N/A</td>\n      <td>-6.093253</td>\n      <td>N/A</td>\n      <td>-9.757733</td>\n      <td>N/A</td>\n      <td>-4.608325</td>\n      <td>N/A</td>\n      <td>N/A</td>\n    </tr>\n    <tr>\n      <th>499</th>\n      <td>ZBH</td>\n      <td>108.7750</td>\n      <td>N/A</td>\n      <td>-0.008228</td>\n      <td>N/A</td>\n      <td>-15.084781</td>\n      <td>N/A</td>\n      <td>-23.425674</td>\n      <td>N/A</td>\n      <td>-7.468621</td>\n      <td>N/A</td>\n      <td>N/A</td>\n    </tr>\n    <tr>\n      <th>500</th>\n      <td>ZBRA</td>\n      <td>220.5400</td>\n      <td>N/A</td>\n      <td>-0.176244</td>\n      <td>N/A</td>\n      <td>-26.523406</td>\n      <td>N/A</td>\n      <td>-24.691826</td>\n      <td>N/A</td>\n      <td>-19.290030</td>\n      <td>N/A</td>\n      <td>N/A</td>\n    </tr>\n    <tr>\n      <th>501</th>\n      <td>ZION</td>\n      <td>33.4900</td>\n      <td>N/A</td>\n      <td>-0.364053</td>\n      <td>N/A</td>\n      <td>20.410872</td>\n      <td>N/A</td>\n      <td>21.168674</td>\n      <td>N/A</td>\n      <td>-7.306945</td>\n      <td>N/A</td>\n      <td>N/A</td>\n    </tr>\n    <tr>\n      <th>502</th>\n      <td>ZTS</td>\n      <td>170.7200</td>\n      <td>N/A</td>\n      <td>0.120585</td>\n      <td>N/A</td>\n      <td>2.274326</td>\n      <td>N/A</td>\n      <td>1.030678</td>\n      <td>N/A</td>\n      <td>-10.350256</td>\n      <td>N/A</td>\n      <td>N/A</td>\n    </tr>\n  </tbody>\n</table>\n<p>503 rows × 12 columns</p>\n</div>"
     },
     "execution_count": 19,
     "metadata": {},
     "output_type": "execute_result"
    }
   ]
  },
  {
   "cell_type": "code",
   "execution_count": 20,
   "outputs": [
    {
     "data": {
      "text/plain": "   Ticker  Stock Price Number of Shares to Buy  1 Year Return  \\\n80    CAT       262.32                     N/A            NaN   \n\n   1 Year Return Percentile  6 Months Return 6 Months Return Percentile  \\\n80                      N/A        24.127767                        N/A   \n\n    3 Months Return 3 Months Return Percentile  1 Month Return  \\\n80         7.674336                        N/A       -6.856513   \n\n   1 Month Return Percentile HQM Score  \n80                       N/A       N/A  ",
      "text/html": "<div>\n<style scoped>\n    .dataframe tbody tr th:only-of-type {\n        vertical-align: middle;\n    }\n\n    .dataframe tbody tr th {\n        vertical-align: top;\n    }\n\n    .dataframe thead th {\n        text-align: right;\n    }\n</style>\n<table border=\"1\" class=\"dataframe\">\n  <thead>\n    <tr style=\"text-align: right;\">\n      <th></th>\n      <th>Ticker</th>\n      <th>Stock Price</th>\n      <th>Number of Shares to Buy</th>\n      <th>1 Year Return</th>\n      <th>1 Year Return Percentile</th>\n      <th>6 Months Return</th>\n      <th>6 Months Return Percentile</th>\n      <th>3 Months Return</th>\n      <th>3 Months Return Percentile</th>\n      <th>1 Month Return</th>\n      <th>1 Month Return Percentile</th>\n      <th>HQM Score</th>\n    </tr>\n  </thead>\n  <tbody>\n    <tr>\n      <th>80</th>\n      <td>CAT</td>\n      <td>262.32</td>\n      <td>N/A</td>\n      <td>NaN</td>\n      <td>N/A</td>\n      <td>24.127767</td>\n      <td>N/A</td>\n      <td>7.674336</td>\n      <td>N/A</td>\n      <td>-6.856513</td>\n      <td>N/A</td>\n      <td>N/A</td>\n    </tr>\n  </tbody>\n</table>\n</div>"
     },
     "execution_count": 20,
     "metadata": {},
     "output_type": "execute_result"
    }
   ],
   "source": [
    "hqm_dataframe[hqm_dataframe.isnull().any(axis=1)]"
   ],
   "metadata": {
    "collapsed": false,
    "ExecuteTime": {
     "end_time": "2023-10-05T15:17:02.418818173Z",
     "start_time": "2023-10-05T15:17:02.335977290Z"
    }
   }
  },
  {
   "cell_type": "markdown",
   "source": [
    "## Dealing With Missing Data in Our DataFrame\n",
    "\n",
    "Our DataFrame contains some missing data which we have to fill with `mean` values."
   ],
   "metadata": {
    "collapsed": false
   }
  },
  {
   "cell_type": "code",
   "execution_count": 21,
   "outputs": [],
   "source": [
    "hqm_dataframe['1 Year Return'].fillna(hqm_dataframe['1 Year Return'].mean(), inplace=True)"
   ],
   "metadata": {
    "collapsed": false,
    "ExecuteTime": {
     "end_time": "2023-10-05T15:17:02.538939161Z",
     "start_time": "2023-10-05T15:17:02.386729236Z"
    }
   }
  },
  {
   "cell_type": "code",
   "execution_count": 22,
   "outputs": [
    {
     "data": {
      "text/plain": "Empty DataFrame\nColumns: [Ticker, Stock Price, Number of Shares to Buy, 1 Year Return, 1 Year Return Percentile, 6 Months Return, 6 Months Return Percentile, 3 Months Return, 3 Months Return Percentile, 1 Month Return, 1 Month Return Percentile, HQM Score]\nIndex: []",
      "text/html": "<div>\n<style scoped>\n    .dataframe tbody tr th:only-of-type {\n        vertical-align: middle;\n    }\n\n    .dataframe tbody tr th {\n        vertical-align: top;\n    }\n\n    .dataframe thead th {\n        text-align: right;\n    }\n</style>\n<table border=\"1\" class=\"dataframe\">\n  <thead>\n    <tr style=\"text-align: right;\">\n      <th></th>\n      <th>Ticker</th>\n      <th>Stock Price</th>\n      <th>Number of Shares to Buy</th>\n      <th>1 Year Return</th>\n      <th>1 Year Return Percentile</th>\n      <th>6 Months Return</th>\n      <th>6 Months Return Percentile</th>\n      <th>3 Months Return</th>\n      <th>3 Months Return Percentile</th>\n      <th>1 Month Return</th>\n      <th>1 Month Return Percentile</th>\n      <th>HQM Score</th>\n    </tr>\n  </thead>\n  <tbody>\n  </tbody>\n</table>\n</div>"
     },
     "execution_count": 22,
     "metadata": {},
     "output_type": "execute_result"
    }
   ],
   "source": [
    "hqm_dataframe[hqm_dataframe.isnull().any(axis=1)]"
   ],
   "metadata": {
    "collapsed": false,
    "ExecuteTime": {
     "end_time": "2023-10-05T15:17:02.560200013Z",
     "start_time": "2023-10-05T15:17:02.430492928Z"
    }
   }
  },
  {
   "cell_type": "code",
   "execution_count": 23,
   "outputs": [
    {
     "data": {
      "text/plain": "    Ticker  Stock Price Number of Shares to Buy  1 Year Return  \\\n0        A     109.5100                     N/A      -0.155167   \n1      AAL      12.8173                     N/A       0.000000   \n2      AAP      51.6900                     N/A      -0.682815   \n3     AAPL     172.9499                     N/A       0.194114   \n4     ABBV     148.0850                     N/A       0.052748   \n..     ...          ...                     ...            ...   \n498    YUM     122.7500                     N/A       0.121776   \n499    ZBH     108.7750                     N/A      -0.008228   \n500   ZBRA     220.5400                     N/A      -0.176244   \n501   ZION      33.4900                     N/A      -0.364053   \n502    ZTS     170.7200                     N/A       0.120585   \n\n    1 Year Return Percentile  6 Months Return 6 Months Return Percentile  \\\n0                        N/A       -20.385006                        N/A   \n1                        N/A        -7.722826                        N/A   \n2                        N/A       -56.307647                        N/A   \n3                        N/A         5.900766                        N/A   \n4                        N/A        -6.029803                        N/A   \n..                       ...              ...                        ...   \n498                      N/A        -6.093253                        N/A   \n499                      N/A       -15.084781                        N/A   \n500                      N/A       -26.523406                        N/A   \n501                      N/A        20.410872                        N/A   \n502                      N/A         2.274326                        N/A   \n\n     3 Months Return 3 Months Return Percentile  1 Month Return  \\\n0          -8.175068                        N/A       -7.579558   \n1         -30.036572                        N/A      -10.368534   \n2         -27.103296                        N/A      -23.490230   \n3          -9.489604                        N/A       -8.829780   \n4           8.797194                        N/A        1.358659   \n..               ...                        ...             ...   \n498        -9.757733                        N/A       -4.608325   \n499       -23.425674                        N/A       -7.468621   \n500       -24.691826                        N/A      -19.290030   \n501        21.168674                        N/A       -7.306945   \n502         1.030678                        N/A      -10.350256   \n\n    1 Month Return Percentile HQM Score  \n0                         N/A       N/A  \n1                         N/A       N/A  \n2                         N/A       N/A  \n3                         N/A       N/A  \n4                         N/A       N/A  \n..                        ...       ...  \n498                       N/A       N/A  \n499                       N/A       N/A  \n500                       N/A       N/A  \n501                       N/A       N/A  \n502                       N/A       N/A  \n\n[503 rows x 12 columns]",
      "text/html": "<div>\n<style scoped>\n    .dataframe tbody tr th:only-of-type {\n        vertical-align: middle;\n    }\n\n    .dataframe tbody tr th {\n        vertical-align: top;\n    }\n\n    .dataframe thead th {\n        text-align: right;\n    }\n</style>\n<table border=\"1\" class=\"dataframe\">\n  <thead>\n    <tr style=\"text-align: right;\">\n      <th></th>\n      <th>Ticker</th>\n      <th>Stock Price</th>\n      <th>Number of Shares to Buy</th>\n      <th>1 Year Return</th>\n      <th>1 Year Return Percentile</th>\n      <th>6 Months Return</th>\n      <th>6 Months Return Percentile</th>\n      <th>3 Months Return</th>\n      <th>3 Months Return Percentile</th>\n      <th>1 Month Return</th>\n      <th>1 Month Return Percentile</th>\n      <th>HQM Score</th>\n    </tr>\n  </thead>\n  <tbody>\n    <tr>\n      <th>0</th>\n      <td>A</td>\n      <td>109.5100</td>\n      <td>N/A</td>\n      <td>-0.155167</td>\n      <td>N/A</td>\n      <td>-20.385006</td>\n      <td>N/A</td>\n      <td>-8.175068</td>\n      <td>N/A</td>\n      <td>-7.579558</td>\n      <td>N/A</td>\n      <td>N/A</td>\n    </tr>\n    <tr>\n      <th>1</th>\n      <td>AAL</td>\n      <td>12.8173</td>\n      <td>N/A</td>\n      <td>0.000000</td>\n      <td>N/A</td>\n      <td>-7.722826</td>\n      <td>N/A</td>\n      <td>-30.036572</td>\n      <td>N/A</td>\n      <td>-10.368534</td>\n      <td>N/A</td>\n      <td>N/A</td>\n    </tr>\n    <tr>\n      <th>2</th>\n      <td>AAP</td>\n      <td>51.6900</td>\n      <td>N/A</td>\n      <td>-0.682815</td>\n      <td>N/A</td>\n      <td>-56.307647</td>\n      <td>N/A</td>\n      <td>-27.103296</td>\n      <td>N/A</td>\n      <td>-23.490230</td>\n      <td>N/A</td>\n      <td>N/A</td>\n    </tr>\n    <tr>\n      <th>3</th>\n      <td>AAPL</td>\n      <td>172.9499</td>\n      <td>N/A</td>\n      <td>0.194114</td>\n      <td>N/A</td>\n      <td>5.900766</td>\n      <td>N/A</td>\n      <td>-9.489604</td>\n      <td>N/A</td>\n      <td>-8.829780</td>\n      <td>N/A</td>\n      <td>N/A</td>\n    </tr>\n    <tr>\n      <th>4</th>\n      <td>ABBV</td>\n      <td>148.0850</td>\n      <td>N/A</td>\n      <td>0.052748</td>\n      <td>N/A</td>\n      <td>-6.029803</td>\n      <td>N/A</td>\n      <td>8.797194</td>\n      <td>N/A</td>\n      <td>1.358659</td>\n      <td>N/A</td>\n      <td>N/A</td>\n    </tr>\n    <tr>\n      <th>...</th>\n      <td>...</td>\n      <td>...</td>\n      <td>...</td>\n      <td>...</td>\n      <td>...</td>\n      <td>...</td>\n      <td>...</td>\n      <td>...</td>\n      <td>...</td>\n      <td>...</td>\n      <td>...</td>\n      <td>...</td>\n    </tr>\n    <tr>\n      <th>498</th>\n      <td>YUM</td>\n      <td>122.7500</td>\n      <td>N/A</td>\n      <td>0.121776</td>\n      <td>N/A</td>\n      <td>-6.093253</td>\n      <td>N/A</td>\n      <td>-9.757733</td>\n      <td>N/A</td>\n      <td>-4.608325</td>\n      <td>N/A</td>\n      <td>N/A</td>\n    </tr>\n    <tr>\n      <th>499</th>\n      <td>ZBH</td>\n      <td>108.7750</td>\n      <td>N/A</td>\n      <td>-0.008228</td>\n      <td>N/A</td>\n      <td>-15.084781</td>\n      <td>N/A</td>\n      <td>-23.425674</td>\n      <td>N/A</td>\n      <td>-7.468621</td>\n      <td>N/A</td>\n      <td>N/A</td>\n    </tr>\n    <tr>\n      <th>500</th>\n      <td>ZBRA</td>\n      <td>220.5400</td>\n      <td>N/A</td>\n      <td>-0.176244</td>\n      <td>N/A</td>\n      <td>-26.523406</td>\n      <td>N/A</td>\n      <td>-24.691826</td>\n      <td>N/A</td>\n      <td>-19.290030</td>\n      <td>N/A</td>\n      <td>N/A</td>\n    </tr>\n    <tr>\n      <th>501</th>\n      <td>ZION</td>\n      <td>33.4900</td>\n      <td>N/A</td>\n      <td>-0.364053</td>\n      <td>N/A</td>\n      <td>20.410872</td>\n      <td>N/A</td>\n      <td>21.168674</td>\n      <td>N/A</td>\n      <td>-7.306945</td>\n      <td>N/A</td>\n      <td>N/A</td>\n    </tr>\n    <tr>\n      <th>502</th>\n      <td>ZTS</td>\n      <td>170.7200</td>\n      <td>N/A</td>\n      <td>0.120585</td>\n      <td>N/A</td>\n      <td>2.274326</td>\n      <td>N/A</td>\n      <td>1.030678</td>\n      <td>N/A</td>\n      <td>-10.350256</td>\n      <td>N/A</td>\n      <td>N/A</td>\n    </tr>\n  </tbody>\n</table>\n<p>503 rows × 12 columns</p>\n</div>"
     },
     "execution_count": 23,
     "metadata": {},
     "output_type": "execute_result"
    }
   ],
   "source": [
    "hqm_dataframe"
   ],
   "metadata": {
    "collapsed": false,
    "ExecuteTime": {
     "end_time": "2023-10-05T15:17:02.659491998Z",
     "start_time": "2023-10-05T15:17:02.500465566Z"
    }
   }
  },
  {
   "cell_type": "markdown",
   "source": [
    "## Calculating Momentum Percentiles\n",
    "\n",
    "We now need to calculate momentum percentile scores for every stock in the universe. More specifically, we need to calculate percentile scores for the following metrics for every stock:\n",
    "\n",
    "* `One-Year Price Return`\n",
    "* `Six-Month Price Return`\n",
    "* `Three-Month Price Return`\n",
    "* `One-Month Price Return`"
   ],
   "metadata": {
    "collapsed": false
   }
  },
  {
   "cell_type": "code",
   "source": [
    "time_periods = [\n",
    "    '1 Year',\n",
    "    '6 Months',\n",
    "    '3 Months',\n",
    "    '1 Month'\n",
    "]\n",
    "\n",
    "for row in hqm_dataframe.index:\n",
    "    for time_period in time_periods:\n",
    "        change_col = f'{time_period} Return'\n",
    "        percentile_col = f'{time_period} Return Percentile'\n",
    "        hqm_dataframe.loc[row, f'{time_period} Return Percentile'] = score(hqm_dataframe[change_col],\n",
    "                                                                           hqm_dataframe.loc[row, change_col]) / 100"
   ],
   "metadata": {
    "id": "QR1RmX3x0llg",
    "ExecuteTime": {
     "end_time": "2023-10-05T15:17:03.103823422Z",
     "start_time": "2023-10-05T15:17:02.586607541Z"
    }
   },
   "execution_count": 24,
   "outputs": []
  },
  {
   "cell_type": "code",
   "source": [
    "hqm_dataframe"
   ],
   "metadata": {
    "colab": {
     "base_uri": "https://localhost:8080/",
     "height": 485
    },
    "id": "QPwmMOnh3bRl",
    "outputId": "f80f01f1-037c-4957-b224-6bd09f15ebde",
    "ExecuteTime": {
     "end_time": "2023-10-05T15:17:03.157561087Z",
     "start_time": "2023-10-05T15:17:03.104244486Z"
    }
   },
   "execution_count": 25,
   "outputs": [
    {
     "data": {
      "text/plain": "    Ticker  Stock Price Number of Shares to Buy  1 Year Return  \\\n0        A     109.5100                     N/A      -0.155167   \n1      AAL      12.8173                     N/A       0.000000   \n2      AAP      51.6900                     N/A      -0.682815   \n3     AAPL     172.9499                     N/A       0.194114   \n4     ABBV     148.0850                     N/A       0.052748   \n..     ...          ...                     ...            ...   \n498    YUM     122.7500                     N/A       0.121776   \n499    ZBH     108.7750                     N/A      -0.008228   \n500   ZBRA     220.5400                     N/A      -0.176244   \n501   ZION      33.4900                     N/A      -0.364053   \n502    ZTS     170.7200                     N/A       0.120585   \n\n    1 Year Return Percentile  6 Months Return 6 Months Return Percentile  \\\n0                   0.178926       -20.385006                   0.131213   \n1                   0.427435        -7.722826                   0.369781   \n2                   0.001988       -56.307647                   0.003976   \n3                   0.729622         5.900766                    0.67992   \n4                   0.522863        -6.029803                   0.407555   \n..                       ...              ...                        ...   \n498                 0.614314        -6.093253                   0.405567   \n499                 0.411531       -15.084781                   0.190855   \n500                 0.149105       -26.523406                   0.075547   \n501                 0.043738        20.410872                   0.914513   \n502                 0.612326         2.274326                   0.602386   \n\n     3 Months Return 3 Months Return Percentile  1 Month Return  \\\n0          -8.175068                   0.485089       -7.579558   \n1         -30.036572                   0.027833      -10.368534   \n2         -27.103296                    0.04175      -23.490230   \n3          -9.489604                   0.427435       -8.829780   \n4           8.797194                   0.902584        1.358659   \n..               ...                        ...             ...   \n498        -9.757733                   0.413519       -4.608325   \n499       -23.425674                   0.063618       -7.468621   \n500       -24.691826                   0.057654      -19.290030   \n501        21.168674                   0.994036       -7.306945   \n502         1.030678                   0.753479      -10.350256   \n\n    1 Month Return Percentile HQM Score  \n0                    0.389662       N/A  \n1                    0.214712       N/A  \n2                    0.013917       N/A  \n3                    0.296223       N/A  \n4                    0.926441       N/A  \n..                        ...       ...  \n498                  0.648111       N/A  \n499                  0.399602       N/A  \n500                  0.031809       N/A  \n501                  0.425447       N/A  \n502                    0.2167       N/A  \n\n[503 rows x 12 columns]",
      "text/html": "<div>\n<style scoped>\n    .dataframe tbody tr th:only-of-type {\n        vertical-align: middle;\n    }\n\n    .dataframe tbody tr th {\n        vertical-align: top;\n    }\n\n    .dataframe thead th {\n        text-align: right;\n    }\n</style>\n<table border=\"1\" class=\"dataframe\">\n  <thead>\n    <tr style=\"text-align: right;\">\n      <th></th>\n      <th>Ticker</th>\n      <th>Stock Price</th>\n      <th>Number of Shares to Buy</th>\n      <th>1 Year Return</th>\n      <th>1 Year Return Percentile</th>\n      <th>6 Months Return</th>\n      <th>6 Months Return Percentile</th>\n      <th>3 Months Return</th>\n      <th>3 Months Return Percentile</th>\n      <th>1 Month Return</th>\n      <th>1 Month Return Percentile</th>\n      <th>HQM Score</th>\n    </tr>\n  </thead>\n  <tbody>\n    <tr>\n      <th>0</th>\n      <td>A</td>\n      <td>109.5100</td>\n      <td>N/A</td>\n      <td>-0.155167</td>\n      <td>0.178926</td>\n      <td>-20.385006</td>\n      <td>0.131213</td>\n      <td>-8.175068</td>\n      <td>0.485089</td>\n      <td>-7.579558</td>\n      <td>0.389662</td>\n      <td>N/A</td>\n    </tr>\n    <tr>\n      <th>1</th>\n      <td>AAL</td>\n      <td>12.8173</td>\n      <td>N/A</td>\n      <td>0.000000</td>\n      <td>0.427435</td>\n      <td>-7.722826</td>\n      <td>0.369781</td>\n      <td>-30.036572</td>\n      <td>0.027833</td>\n      <td>-10.368534</td>\n      <td>0.214712</td>\n      <td>N/A</td>\n    </tr>\n    <tr>\n      <th>2</th>\n      <td>AAP</td>\n      <td>51.6900</td>\n      <td>N/A</td>\n      <td>-0.682815</td>\n      <td>0.001988</td>\n      <td>-56.307647</td>\n      <td>0.003976</td>\n      <td>-27.103296</td>\n      <td>0.04175</td>\n      <td>-23.490230</td>\n      <td>0.013917</td>\n      <td>N/A</td>\n    </tr>\n    <tr>\n      <th>3</th>\n      <td>AAPL</td>\n      <td>172.9499</td>\n      <td>N/A</td>\n      <td>0.194114</td>\n      <td>0.729622</td>\n      <td>5.900766</td>\n      <td>0.67992</td>\n      <td>-9.489604</td>\n      <td>0.427435</td>\n      <td>-8.829780</td>\n      <td>0.296223</td>\n      <td>N/A</td>\n    </tr>\n    <tr>\n      <th>4</th>\n      <td>ABBV</td>\n      <td>148.0850</td>\n      <td>N/A</td>\n      <td>0.052748</td>\n      <td>0.522863</td>\n      <td>-6.029803</td>\n      <td>0.407555</td>\n      <td>8.797194</td>\n      <td>0.902584</td>\n      <td>1.358659</td>\n      <td>0.926441</td>\n      <td>N/A</td>\n    </tr>\n    <tr>\n      <th>...</th>\n      <td>...</td>\n      <td>...</td>\n      <td>...</td>\n      <td>...</td>\n      <td>...</td>\n      <td>...</td>\n      <td>...</td>\n      <td>...</td>\n      <td>...</td>\n      <td>...</td>\n      <td>...</td>\n      <td>...</td>\n    </tr>\n    <tr>\n      <th>498</th>\n      <td>YUM</td>\n      <td>122.7500</td>\n      <td>N/A</td>\n      <td>0.121776</td>\n      <td>0.614314</td>\n      <td>-6.093253</td>\n      <td>0.405567</td>\n      <td>-9.757733</td>\n      <td>0.413519</td>\n      <td>-4.608325</td>\n      <td>0.648111</td>\n      <td>N/A</td>\n    </tr>\n    <tr>\n      <th>499</th>\n      <td>ZBH</td>\n      <td>108.7750</td>\n      <td>N/A</td>\n      <td>-0.008228</td>\n      <td>0.411531</td>\n      <td>-15.084781</td>\n      <td>0.190855</td>\n      <td>-23.425674</td>\n      <td>0.063618</td>\n      <td>-7.468621</td>\n      <td>0.399602</td>\n      <td>N/A</td>\n    </tr>\n    <tr>\n      <th>500</th>\n      <td>ZBRA</td>\n      <td>220.5400</td>\n      <td>N/A</td>\n      <td>-0.176244</td>\n      <td>0.149105</td>\n      <td>-26.523406</td>\n      <td>0.075547</td>\n      <td>-24.691826</td>\n      <td>0.057654</td>\n      <td>-19.290030</td>\n      <td>0.031809</td>\n      <td>N/A</td>\n    </tr>\n    <tr>\n      <th>501</th>\n      <td>ZION</td>\n      <td>33.4900</td>\n      <td>N/A</td>\n      <td>-0.364053</td>\n      <td>0.043738</td>\n      <td>20.410872</td>\n      <td>0.914513</td>\n      <td>21.168674</td>\n      <td>0.994036</td>\n      <td>-7.306945</td>\n      <td>0.425447</td>\n      <td>N/A</td>\n    </tr>\n    <tr>\n      <th>502</th>\n      <td>ZTS</td>\n      <td>170.7200</td>\n      <td>N/A</td>\n      <td>0.120585</td>\n      <td>0.612326</td>\n      <td>2.274326</td>\n      <td>0.602386</td>\n      <td>1.030678</td>\n      <td>0.753479</td>\n      <td>-10.350256</td>\n      <td>0.2167</td>\n      <td>N/A</td>\n    </tr>\n  </tbody>\n</table>\n<p>503 rows × 12 columns</p>\n</div>"
     },
     "execution_count": 25,
     "metadata": {},
     "output_type": "execute_result"
    }
   ]
  },
  {
   "cell_type": "markdown",
   "source": [
    "## Calculating the HQM Score\n",
    "\n",
    "We'll now calculate our `HQM Score`, which is the high-quality momentum score that we'll use to filter for stocks in this investing strategy.\n",
    "\n",
    "The `HQM Score` will be the arithmetic mean of the 4 momentum percentile scores that we calculated in the last section.\n",
    "\n",
    "To calculate arithmetic mean, we will use the `mean` function from Python's built-in `statistics` module."
   ],
   "metadata": {
    "collapsed": false
   }
  },
  {
   "cell_type": "code",
   "source": [
    "for row in hqm_dataframe.index:\n",
    "    momentum_percentiles = []\n",
    "    for time_period in time_periods:\n",
    "        momentum_percentiles.append(hqm_dataframe.loc[row, f'{time_period} Return Percentile'])\n",
    "    hqm_dataframe.loc[row, 'HQM Score'] = mean(momentum_percentiles)"
   ],
   "metadata": {
    "id": "v3BO-yAY3dM2",
    "ExecuteTime": {
     "end_time": "2023-10-05T15:17:03.323546686Z",
     "start_time": "2023-10-05T15:17:03.146666623Z"
    }
   },
   "execution_count": 26,
   "outputs": []
  },
  {
   "cell_type": "code",
   "source": [
    "hqm_dataframe"
   ],
   "metadata": {
    "colab": {
     "base_uri": "https://localhost:8080/",
     "height": 485
    },
    "id": "U79rv9Bo700D",
    "outputId": "8b5dd20a-d349-484c-bef5-de7b2e71bcef",
    "ExecuteTime": {
     "end_time": "2023-10-05T15:17:03.380159879Z",
     "start_time": "2023-10-05T15:17:03.323823823Z"
    }
   },
   "execution_count": 27,
   "outputs": [
    {
     "data": {
      "text/plain": "    Ticker  Stock Price Number of Shares to Buy  1 Year Return  \\\n0        A     109.5100                     N/A      -0.155167   \n1      AAL      12.8173                     N/A       0.000000   \n2      AAP      51.6900                     N/A      -0.682815   \n3     AAPL     172.9499                     N/A       0.194114   \n4     ABBV     148.0850                     N/A       0.052748   \n..     ...          ...                     ...            ...   \n498    YUM     122.7500                     N/A       0.121776   \n499    ZBH     108.7750                     N/A      -0.008228   \n500   ZBRA     220.5400                     N/A      -0.176244   \n501   ZION      33.4900                     N/A      -0.364053   \n502    ZTS     170.7200                     N/A       0.120585   \n\n    1 Year Return Percentile  6 Months Return 6 Months Return Percentile  \\\n0                   0.178926       -20.385006                   0.131213   \n1                   0.427435        -7.722826                   0.369781   \n2                   0.001988       -56.307647                   0.003976   \n3                   0.729622         5.900766                    0.67992   \n4                   0.522863        -6.029803                   0.407555   \n..                       ...              ...                        ...   \n498                 0.614314        -6.093253                   0.405567   \n499                 0.411531       -15.084781                   0.190855   \n500                 0.149105       -26.523406                   0.075547   \n501                 0.043738        20.410872                   0.914513   \n502                 0.612326         2.274326                   0.602386   \n\n     3 Months Return 3 Months Return Percentile  1 Month Return  \\\n0          -8.175068                   0.485089       -7.579558   \n1         -30.036572                   0.027833      -10.368534   \n2         -27.103296                    0.04175      -23.490230   \n3          -9.489604                   0.427435       -8.829780   \n4           8.797194                   0.902584        1.358659   \n..               ...                        ...             ...   \n498        -9.757733                   0.413519       -4.608325   \n499       -23.425674                   0.063618       -7.468621   \n500       -24.691826                   0.057654      -19.290030   \n501        21.168674                   0.994036       -7.306945   \n502         1.030678                   0.753479      -10.350256   \n\n    1 Month Return Percentile HQM Score  \n0                    0.389662  0.296223  \n1                    0.214712   0.25994  \n2                    0.013917  0.015408  \n3                    0.296223    0.5333  \n4                    0.926441  0.689861  \n..                        ...       ...  \n498                  0.648111  0.520378  \n499                  0.399602  0.266402  \n500                  0.031809  0.078529  \n501                  0.425447  0.594433  \n502                    0.2167  0.546223  \n\n[503 rows x 12 columns]",
      "text/html": "<div>\n<style scoped>\n    .dataframe tbody tr th:only-of-type {\n        vertical-align: middle;\n    }\n\n    .dataframe tbody tr th {\n        vertical-align: top;\n    }\n\n    .dataframe thead th {\n        text-align: right;\n    }\n</style>\n<table border=\"1\" class=\"dataframe\">\n  <thead>\n    <tr style=\"text-align: right;\">\n      <th></th>\n      <th>Ticker</th>\n      <th>Stock Price</th>\n      <th>Number of Shares to Buy</th>\n      <th>1 Year Return</th>\n      <th>1 Year Return Percentile</th>\n      <th>6 Months Return</th>\n      <th>6 Months Return Percentile</th>\n      <th>3 Months Return</th>\n      <th>3 Months Return Percentile</th>\n      <th>1 Month Return</th>\n      <th>1 Month Return Percentile</th>\n      <th>HQM Score</th>\n    </tr>\n  </thead>\n  <tbody>\n    <tr>\n      <th>0</th>\n      <td>A</td>\n      <td>109.5100</td>\n      <td>N/A</td>\n      <td>-0.155167</td>\n      <td>0.178926</td>\n      <td>-20.385006</td>\n      <td>0.131213</td>\n      <td>-8.175068</td>\n      <td>0.485089</td>\n      <td>-7.579558</td>\n      <td>0.389662</td>\n      <td>0.296223</td>\n    </tr>\n    <tr>\n      <th>1</th>\n      <td>AAL</td>\n      <td>12.8173</td>\n      <td>N/A</td>\n      <td>0.000000</td>\n      <td>0.427435</td>\n      <td>-7.722826</td>\n      <td>0.369781</td>\n      <td>-30.036572</td>\n      <td>0.027833</td>\n      <td>-10.368534</td>\n      <td>0.214712</td>\n      <td>0.25994</td>\n    </tr>\n    <tr>\n      <th>2</th>\n      <td>AAP</td>\n      <td>51.6900</td>\n      <td>N/A</td>\n      <td>-0.682815</td>\n      <td>0.001988</td>\n      <td>-56.307647</td>\n      <td>0.003976</td>\n      <td>-27.103296</td>\n      <td>0.04175</td>\n      <td>-23.490230</td>\n      <td>0.013917</td>\n      <td>0.015408</td>\n    </tr>\n    <tr>\n      <th>3</th>\n      <td>AAPL</td>\n      <td>172.9499</td>\n      <td>N/A</td>\n      <td>0.194114</td>\n      <td>0.729622</td>\n      <td>5.900766</td>\n      <td>0.67992</td>\n      <td>-9.489604</td>\n      <td>0.427435</td>\n      <td>-8.829780</td>\n      <td>0.296223</td>\n      <td>0.5333</td>\n    </tr>\n    <tr>\n      <th>4</th>\n      <td>ABBV</td>\n      <td>148.0850</td>\n      <td>N/A</td>\n      <td>0.052748</td>\n      <td>0.522863</td>\n      <td>-6.029803</td>\n      <td>0.407555</td>\n      <td>8.797194</td>\n      <td>0.902584</td>\n      <td>1.358659</td>\n      <td>0.926441</td>\n      <td>0.689861</td>\n    </tr>\n    <tr>\n      <th>...</th>\n      <td>...</td>\n      <td>...</td>\n      <td>...</td>\n      <td>...</td>\n      <td>...</td>\n      <td>...</td>\n      <td>...</td>\n      <td>...</td>\n      <td>...</td>\n      <td>...</td>\n      <td>...</td>\n      <td>...</td>\n    </tr>\n    <tr>\n      <th>498</th>\n      <td>YUM</td>\n      <td>122.7500</td>\n      <td>N/A</td>\n      <td>0.121776</td>\n      <td>0.614314</td>\n      <td>-6.093253</td>\n      <td>0.405567</td>\n      <td>-9.757733</td>\n      <td>0.413519</td>\n      <td>-4.608325</td>\n      <td>0.648111</td>\n      <td>0.520378</td>\n    </tr>\n    <tr>\n      <th>499</th>\n      <td>ZBH</td>\n      <td>108.7750</td>\n      <td>N/A</td>\n      <td>-0.008228</td>\n      <td>0.411531</td>\n      <td>-15.084781</td>\n      <td>0.190855</td>\n      <td>-23.425674</td>\n      <td>0.063618</td>\n      <td>-7.468621</td>\n      <td>0.399602</td>\n      <td>0.266402</td>\n    </tr>\n    <tr>\n      <th>500</th>\n      <td>ZBRA</td>\n      <td>220.5400</td>\n      <td>N/A</td>\n      <td>-0.176244</td>\n      <td>0.149105</td>\n      <td>-26.523406</td>\n      <td>0.075547</td>\n      <td>-24.691826</td>\n      <td>0.057654</td>\n      <td>-19.290030</td>\n      <td>0.031809</td>\n      <td>0.078529</td>\n    </tr>\n    <tr>\n      <th>501</th>\n      <td>ZION</td>\n      <td>33.4900</td>\n      <td>N/A</td>\n      <td>-0.364053</td>\n      <td>0.043738</td>\n      <td>20.410872</td>\n      <td>0.914513</td>\n      <td>21.168674</td>\n      <td>0.994036</td>\n      <td>-7.306945</td>\n      <td>0.425447</td>\n      <td>0.594433</td>\n    </tr>\n    <tr>\n      <th>502</th>\n      <td>ZTS</td>\n      <td>170.7200</td>\n      <td>N/A</td>\n      <td>0.120585</td>\n      <td>0.612326</td>\n      <td>2.274326</td>\n      <td>0.602386</td>\n      <td>1.030678</td>\n      <td>0.753479</td>\n      <td>-10.350256</td>\n      <td>0.2167</td>\n      <td>0.546223</td>\n    </tr>\n  </tbody>\n</table>\n<p>503 rows × 12 columns</p>\n</div>"
     },
     "execution_count": 27,
     "metadata": {},
     "output_type": "execute_result"
    }
   ]
  },
  {
   "cell_type": "markdown",
   "source": [
    "## Selecting the 50 Best Momentum Stocks\n",
    "\n",
    "As before, we can identify the 50 best momentum stocks in our universe by sorting the DataFrame on the `HQM Score` column and dropping all but the top 50 entries."
   ],
   "metadata": {
    "collapsed": false
   }
  },
  {
   "cell_type": "code",
   "source": [
    "hqm_dataframe.sort_values('HQM Score', ascending=False, inplace=True)"
   ],
   "metadata": {
    "id": "0-E9hfvqAovr",
    "ExecuteTime": {
     "end_time": "2023-10-05T15:17:03.510353910Z",
     "start_time": "2023-10-05T15:17:03.379363437Z"
    }
   },
   "execution_count": 28,
   "outputs": []
  },
  {
   "cell_type": "code",
   "source": [
    "hqm_dataframe = hqm_dataframe[:50]\n",
    "hqm_dataframe.reset_index(drop=True, inplace=True)"
   ],
   "metadata": {
    "id": "P9TdkLNRBZWG",
    "ExecuteTime": {
     "end_time": "2023-10-05T15:17:03.541068171Z",
     "start_time": "2023-10-05T15:17:03.413510864Z"
    }
   },
   "execution_count": 29,
   "outputs": []
  },
  {
   "cell_type": "code",
   "source": [
    "hqm_dataframe"
   ],
   "metadata": {
    "colab": {
     "base_uri": "https://localhost:8080/",
     "height": 1000
    },
    "id": "emZwm-N7Bk2-",
    "outputId": "9c4a1cec-23b1-4b0c-83c3-03826bbed1bf",
    "ExecuteTime": {
     "end_time": "2023-10-05T15:17:03.611782995Z",
     "start_time": "2023-10-05T15:17:03.496848230Z"
    }
   },
   "execution_count": 30,
   "outputs": [
    {
     "data": {
      "text/plain": "   Ticker  Stock Price Number of Shares to Buy  1 Year Return  \\\n0    ACGL      81.4200                     N/A       0.676250   \n1    CHTR     431.6500                     N/A       0.336132   \n2    CBOE     158.9511                     N/A       0.314596   \n3    AKAM     105.9100                     N/A       0.261724   \n4    PCAR      85.6600                     N/A       0.449331   \n5    META     299.9852                     N/A       1.197311   \n6     CEG     107.1750                     N/A       0.230413   \n7     AFL      76.7600                     N/A       0.286270   \n8     WDC      46.0500                     N/A       0.222072   \n9     PKG     152.6300                     N/A       0.322723   \n10   GOOG     134.7700                     N/A       0.332844   \n11  GOOGL     133.7650                     N/A       0.333465   \n12     EG     387.5100                     N/A       0.414895   \n13    LLY     533.4800                     N/A       0.596216   \n14    MCK     444.8500                     N/A       0.259740   \n15   VRSK     237.9700                     N/A       0.365644   \n16    WRK      36.2100                     N/A       0.136392   \n17    FDX     258.7000                     N/A       0.675688   \n18   WELL      82.2200                     N/A       0.366299   \n19   FICO     854.6000                     N/A       1.080252   \n20      J     134.9500                     N/A       0.186237   \n21    AJG     229.4600                     N/A       0.280067   \n22     TT     199.8200                     N/A       0.322095   \n23   ATVI      93.8100                     N/A       0.269809   \n24   SNPS     454.7000                     N/A       0.432982   \n25     MU      68.8200                     N/A       0.246979   \n26  CMCSA      43.2000                     N/A       0.446589   \n27   BKNG    2999.7100                     N/A       0.781843   \n28    AIG      60.1500                     N/A       0.169425   \n29   CARR      53.5000                     N/A       0.467616   \n30   ODFL     401.7800                     N/A       0.454506   \n31    MAR     192.9200                     N/A       0.352259   \n32   COST     565.5000                     N/A       0.185102   \n33    MPC     142.5050                     N/A       0.315502   \n34      L      62.9700                     N/A       0.199616   \n35   INTC      35.6750                     N/A       0.321928   \n36    TXT      75.3700                     N/A       0.215232   \n37   AMGN     264.7900                     N/A       0.149390   \n38     GE     108.1950                     N/A       1.105661   \n39    ROP     487.3100                     N/A       0.283491   \n40    MMC     191.4100                     N/A       0.214849   \n41    AIZ     146.3750                     N/A      -0.036484   \n42     BR     177.8350                     N/A       0.233842   \n43    HAL      38.4400                     N/A       0.283797   \n44    STE     219.2550                     N/A       0.288410   \n45    FDS     447.7200                     N/A       0.066905   \n46     CB     210.9100                     N/A       0.099831   \n47    CME     204.5300                     N/A       0.157074   \n48    TJX      87.8600                     N/A       0.352589   \n49    CAH      89.5591                     N/A       0.280386   \n\n   1 Year Return Percentile  6 Months Return 6 Months Return Percentile  \\\n0                  0.980119        18.705354                   0.902584   \n1                  0.894632        22.238899                   0.936382   \n2                  0.866799        17.203290                    0.88668   \n3                  0.811133        36.816947                   0.988072   \n4                  0.942346        25.918307                    0.95825   \n5                  0.998012        41.852656                   0.994036   \n6                  0.769384        40.973082                   0.992048   \n7                   0.84493        20.523122                   0.916501   \n8                  0.757455        31.346256                   0.980119   \n9                  0.882704        10.681784                   0.779324   \n10                 0.890656        28.413538                   0.974155   \n11                 0.892644        28.041541                   0.970179   \n12                 0.934394         7.754901                   0.723658   \n13                 0.974155        47.972115                   0.998012   \n14                 0.809145        19.551960                   0.908549   \n15                 0.908549        24.659803                   0.954274   \n16                 0.638171        22.718885                    0.93837   \n17                 0.978131        13.733969                    0.83499   \n18                 0.910537        18.284566                    0.89662   \n19                 0.994036        26.304274                   0.962227   \n20                  0.72167        20.582121                   0.922465   \n21                 0.831014        18.107982                   0.892644   \n22                 0.880716        18.174752                   0.894632   \n23                  0.82505        11.058801                   0.787276   \n24                 0.936382        20.176559                   0.912525   \n25                 0.793241        21.148358                   0.928429   \n26                 0.940358        15.477501                    0.87674   \n27                 0.988072        14.685344                   0.860835   \n28                 0.701789        21.221725                   0.930417   \n29                  0.94831        28.144766                   0.972167   \n30                 0.944334        23.909190                   0.946322   \n31                 0.898608        19.345358                   0.904573   \n32                 0.719682        14.205579                   0.850895   \n33                 0.868787         8.662345                   0.743539   \n34                 0.735586        12.239133                   0.811133   \n35                 0.878728         9.503377                   0.767396   \n36                 0.751491        11.081018                   0.789264   \n37                  0.66004         6.348029                   0.687873   \n38                 0.996024        14.963312                   0.868787   \n39                 0.838966        11.570367                   0.801193   \n40                 0.749503        14.218369                   0.852883   \n41                 0.355865        24.556708                   0.950298   \n42                  0.77336        27.355823                   0.968191   \n43                 0.840954        17.345161                   0.888668   \n44                 0.848907        14.563271                   0.858847   \n45                 0.548708        11.898259                   0.805169   \n46                 0.586481         8.549770                   0.739563   \n47                 0.683897         5.992797                   0.681909   \n48                 0.900596        13.498894                   0.829026   \n49                 0.833002        14.029207                   0.838966   \n\n    3 Months Return 3 Months Return Percentile  1 Month Return  \\\n0         10.594940                   0.930417        7.329288   \n1         17.407861                   0.984095        5.540479   \n2         15.123551                   0.972167        6.678588   \n3         17.390825                   0.982107        1.300814   \n4          4.439398                   0.829026        4.898359   \n5          1.909160                   0.785288       -0.053308   \n6         16.628658                   0.980119        1.060820   \n7         10.421233                   0.928429        3.450142   \n8         22.278278                   0.996024        0.567806   \n9         18.368266                    0.99006        5.768447   \n10         9.899704                   0.922465       -1.419064   \n11         9.864472                   0.920477       -1.480452   \n12        14.626674                   0.966203        7.644361   \n13        14.799990                   0.970179       -4.426812   \n14         6.379123                   0.878728        9.264854   \n15         5.419132                   0.860835       -0.960082   \n16        28.515867                        1.0       12.979719   \n17         4.721372                   0.836978        1.334319   \n18         2.019683                   0.787276        1.681920   \n19         7.908129                   0.894632       -4.269029   \n20        11.380292                   0.944334        1.741554   \n21         6.509862                   0.880716        1.172841   \n22         5.680778                   0.866799       -0.359024   \n23        14.422589                   0.964215        1.934151   \n24         5.074646                   0.848907       -2.602548   \n25        11.101347                   0.942346       -2.105567   \n26         4.829890                   0.842942       -2.415985   \n27        12.180627                   0.952286       -4.608793   \n28         4.850400                    0.84493        3.257964   \n29         8.651499                   0.900596       -5.175467   \n30         9.361229                   0.910537       -5.114065   \n31         6.198229                   0.872763       -4.034224   \n32         4.700992                    0.83499        3.812902   \n33        23.245122                   0.998012       -3.074414   \n34         5.636159                   0.862823        2.008751   \n35        10.130255                   0.926441       -2.819395   \n36        12.270948                   0.956262       -1.976418   \n37        18.175757                   0.986083        4.243933   \n38        -0.273428                   0.729622       -4.081444   \n39         2.314350                   0.795229       -1.232294   \n40         3.271138                   0.811133       -0.803277   \n41        18.425814                   0.992048        5.823447   \n42         8.938889                   0.904573       -4.846071   \n43        16.250348                   0.978131       -5.552831   \n44         0.379117                   0.745527       -1.960738   \n45        13.475984                    0.95825        3.514291   \n46        10.808820                    0.93837        5.857151   \n47        11.852424                    0.94831        1.535915   \n48         4.131322                   0.823062       -4.103910   \n49        -4.809359                    0.60835        3.646183   \n\n   1 Month Return Percentile HQM Score  \n0                   0.992048  0.951292  \n1                   0.974155  0.947316  \n2                   0.986083  0.927932  \n3                   0.920477  0.925447  \n4                   0.972167  0.925447  \n5                   0.884692  0.915507  \n6                   0.912525  0.913519  \n7                   0.954274  0.911034  \n8                   0.904573  0.909543  \n9                   0.978131  0.907555  \n10                  0.838966  0.906561  \n11                   0.83499  0.904573  \n12                  0.994036  0.904573  \n13                   0.66004  0.900596  \n14                  0.996024  0.898111  \n15                  0.862823   0.89662  \n16                       1.0  0.894135  \n17                  0.924453  0.893638  \n18                  0.934394  0.882207  \n19                  0.675944   0.88171  \n20                  0.936382  0.881213  \n21                  0.918489  0.880716  \n22                  0.880716  0.880716  \n23                   0.93837  0.878728  \n24                  0.785288  0.870775  \n25                  0.805169  0.867296  \n26                  0.789264  0.862326  \n27                  0.646123  0.861829  \n28                  0.952286  0.857356  \n29                  0.604374  0.856362  \n30                  0.614314  0.853877  \n31                  0.695825  0.842942  \n32                  0.962227  0.841948  \n33                  0.755467  0.841451  \n34                  0.940358  0.837475  \n35                  0.775348  0.836978  \n36                  0.817097  0.828529  \n37                  0.964215  0.824553  \n38                  0.693837  0.822068  \n39                  0.850895  0.821571  \n40                  0.868787  0.820577  \n41                  0.980119  0.819583  \n42                  0.632207  0.819583  \n43                  0.564612  0.818091  \n44                  0.819085  0.818091  \n45                  0.956262  0.817097  \n46                  0.984095  0.812127  \n47                  0.930417  0.811133  \n48                  0.691849  0.811133  \n49                   0.95825  0.809642  ",
      "text/html": "<div>\n<style scoped>\n    .dataframe tbody tr th:only-of-type {\n        vertical-align: middle;\n    }\n\n    .dataframe tbody tr th {\n        vertical-align: top;\n    }\n\n    .dataframe thead th {\n        text-align: right;\n    }\n</style>\n<table border=\"1\" class=\"dataframe\">\n  <thead>\n    <tr style=\"text-align: right;\">\n      <th></th>\n      <th>Ticker</th>\n      <th>Stock Price</th>\n      <th>Number of Shares to Buy</th>\n      <th>1 Year Return</th>\n      <th>1 Year Return Percentile</th>\n      <th>6 Months Return</th>\n      <th>6 Months Return Percentile</th>\n      <th>3 Months Return</th>\n      <th>3 Months Return Percentile</th>\n      <th>1 Month Return</th>\n      <th>1 Month Return Percentile</th>\n      <th>HQM Score</th>\n    </tr>\n  </thead>\n  <tbody>\n    <tr>\n      <th>0</th>\n      <td>ACGL</td>\n      <td>81.4200</td>\n      <td>N/A</td>\n      <td>0.676250</td>\n      <td>0.980119</td>\n      <td>18.705354</td>\n      <td>0.902584</td>\n      <td>10.594940</td>\n      <td>0.930417</td>\n      <td>7.329288</td>\n      <td>0.992048</td>\n      <td>0.951292</td>\n    </tr>\n    <tr>\n      <th>1</th>\n      <td>CHTR</td>\n      <td>431.6500</td>\n      <td>N/A</td>\n      <td>0.336132</td>\n      <td>0.894632</td>\n      <td>22.238899</td>\n      <td>0.936382</td>\n      <td>17.407861</td>\n      <td>0.984095</td>\n      <td>5.540479</td>\n      <td>0.974155</td>\n      <td>0.947316</td>\n    </tr>\n    <tr>\n      <th>2</th>\n      <td>CBOE</td>\n      <td>158.9511</td>\n      <td>N/A</td>\n      <td>0.314596</td>\n      <td>0.866799</td>\n      <td>17.203290</td>\n      <td>0.88668</td>\n      <td>15.123551</td>\n      <td>0.972167</td>\n      <td>6.678588</td>\n      <td>0.986083</td>\n      <td>0.927932</td>\n    </tr>\n    <tr>\n      <th>3</th>\n      <td>AKAM</td>\n      <td>105.9100</td>\n      <td>N/A</td>\n      <td>0.261724</td>\n      <td>0.811133</td>\n      <td>36.816947</td>\n      <td>0.988072</td>\n      <td>17.390825</td>\n      <td>0.982107</td>\n      <td>1.300814</td>\n      <td>0.920477</td>\n      <td>0.925447</td>\n    </tr>\n    <tr>\n      <th>4</th>\n      <td>PCAR</td>\n      <td>85.6600</td>\n      <td>N/A</td>\n      <td>0.449331</td>\n      <td>0.942346</td>\n      <td>25.918307</td>\n      <td>0.95825</td>\n      <td>4.439398</td>\n      <td>0.829026</td>\n      <td>4.898359</td>\n      <td>0.972167</td>\n      <td>0.925447</td>\n    </tr>\n    <tr>\n      <th>5</th>\n      <td>META</td>\n      <td>299.9852</td>\n      <td>N/A</td>\n      <td>1.197311</td>\n      <td>0.998012</td>\n      <td>41.852656</td>\n      <td>0.994036</td>\n      <td>1.909160</td>\n      <td>0.785288</td>\n      <td>-0.053308</td>\n      <td>0.884692</td>\n      <td>0.915507</td>\n    </tr>\n    <tr>\n      <th>6</th>\n      <td>CEG</td>\n      <td>107.1750</td>\n      <td>N/A</td>\n      <td>0.230413</td>\n      <td>0.769384</td>\n      <td>40.973082</td>\n      <td>0.992048</td>\n      <td>16.628658</td>\n      <td>0.980119</td>\n      <td>1.060820</td>\n      <td>0.912525</td>\n      <td>0.913519</td>\n    </tr>\n    <tr>\n      <th>7</th>\n      <td>AFL</td>\n      <td>76.7600</td>\n      <td>N/A</td>\n      <td>0.286270</td>\n      <td>0.84493</td>\n      <td>20.523122</td>\n      <td>0.916501</td>\n      <td>10.421233</td>\n      <td>0.928429</td>\n      <td>3.450142</td>\n      <td>0.954274</td>\n      <td>0.911034</td>\n    </tr>\n    <tr>\n      <th>8</th>\n      <td>WDC</td>\n      <td>46.0500</td>\n      <td>N/A</td>\n      <td>0.222072</td>\n      <td>0.757455</td>\n      <td>31.346256</td>\n      <td>0.980119</td>\n      <td>22.278278</td>\n      <td>0.996024</td>\n      <td>0.567806</td>\n      <td>0.904573</td>\n      <td>0.909543</td>\n    </tr>\n    <tr>\n      <th>9</th>\n      <td>PKG</td>\n      <td>152.6300</td>\n      <td>N/A</td>\n      <td>0.322723</td>\n      <td>0.882704</td>\n      <td>10.681784</td>\n      <td>0.779324</td>\n      <td>18.368266</td>\n      <td>0.99006</td>\n      <td>5.768447</td>\n      <td>0.978131</td>\n      <td>0.907555</td>\n    </tr>\n    <tr>\n      <th>10</th>\n      <td>GOOG</td>\n      <td>134.7700</td>\n      <td>N/A</td>\n      <td>0.332844</td>\n      <td>0.890656</td>\n      <td>28.413538</td>\n      <td>0.974155</td>\n      <td>9.899704</td>\n      <td>0.922465</td>\n      <td>-1.419064</td>\n      <td>0.838966</td>\n      <td>0.906561</td>\n    </tr>\n    <tr>\n      <th>11</th>\n      <td>GOOGL</td>\n      <td>133.7650</td>\n      <td>N/A</td>\n      <td>0.333465</td>\n      <td>0.892644</td>\n      <td>28.041541</td>\n      <td>0.970179</td>\n      <td>9.864472</td>\n      <td>0.920477</td>\n      <td>-1.480452</td>\n      <td>0.83499</td>\n      <td>0.904573</td>\n    </tr>\n    <tr>\n      <th>12</th>\n      <td>EG</td>\n      <td>387.5100</td>\n      <td>N/A</td>\n      <td>0.414895</td>\n      <td>0.934394</td>\n      <td>7.754901</td>\n      <td>0.723658</td>\n      <td>14.626674</td>\n      <td>0.966203</td>\n      <td>7.644361</td>\n      <td>0.994036</td>\n      <td>0.904573</td>\n    </tr>\n    <tr>\n      <th>13</th>\n      <td>LLY</td>\n      <td>533.4800</td>\n      <td>N/A</td>\n      <td>0.596216</td>\n      <td>0.974155</td>\n      <td>47.972115</td>\n      <td>0.998012</td>\n      <td>14.799990</td>\n      <td>0.970179</td>\n      <td>-4.426812</td>\n      <td>0.66004</td>\n      <td>0.900596</td>\n    </tr>\n    <tr>\n      <th>14</th>\n      <td>MCK</td>\n      <td>444.8500</td>\n      <td>N/A</td>\n      <td>0.259740</td>\n      <td>0.809145</td>\n      <td>19.551960</td>\n      <td>0.908549</td>\n      <td>6.379123</td>\n      <td>0.878728</td>\n      <td>9.264854</td>\n      <td>0.996024</td>\n      <td>0.898111</td>\n    </tr>\n    <tr>\n      <th>15</th>\n      <td>VRSK</td>\n      <td>237.9700</td>\n      <td>N/A</td>\n      <td>0.365644</td>\n      <td>0.908549</td>\n      <td>24.659803</td>\n      <td>0.954274</td>\n      <td>5.419132</td>\n      <td>0.860835</td>\n      <td>-0.960082</td>\n      <td>0.862823</td>\n      <td>0.89662</td>\n    </tr>\n    <tr>\n      <th>16</th>\n      <td>WRK</td>\n      <td>36.2100</td>\n      <td>N/A</td>\n      <td>0.136392</td>\n      <td>0.638171</td>\n      <td>22.718885</td>\n      <td>0.93837</td>\n      <td>28.515867</td>\n      <td>1.0</td>\n      <td>12.979719</td>\n      <td>1.0</td>\n      <td>0.894135</td>\n    </tr>\n    <tr>\n      <th>17</th>\n      <td>FDX</td>\n      <td>258.7000</td>\n      <td>N/A</td>\n      <td>0.675688</td>\n      <td>0.978131</td>\n      <td>13.733969</td>\n      <td>0.83499</td>\n      <td>4.721372</td>\n      <td>0.836978</td>\n      <td>1.334319</td>\n      <td>0.924453</td>\n      <td>0.893638</td>\n    </tr>\n    <tr>\n      <th>18</th>\n      <td>WELL</td>\n      <td>82.2200</td>\n      <td>N/A</td>\n      <td>0.366299</td>\n      <td>0.910537</td>\n      <td>18.284566</td>\n      <td>0.89662</td>\n      <td>2.019683</td>\n      <td>0.787276</td>\n      <td>1.681920</td>\n      <td>0.934394</td>\n      <td>0.882207</td>\n    </tr>\n    <tr>\n      <th>19</th>\n      <td>FICO</td>\n      <td>854.6000</td>\n      <td>N/A</td>\n      <td>1.080252</td>\n      <td>0.994036</td>\n      <td>26.304274</td>\n      <td>0.962227</td>\n      <td>7.908129</td>\n      <td>0.894632</td>\n      <td>-4.269029</td>\n      <td>0.675944</td>\n      <td>0.88171</td>\n    </tr>\n    <tr>\n      <th>20</th>\n      <td>J</td>\n      <td>134.9500</td>\n      <td>N/A</td>\n      <td>0.186237</td>\n      <td>0.72167</td>\n      <td>20.582121</td>\n      <td>0.922465</td>\n      <td>11.380292</td>\n      <td>0.944334</td>\n      <td>1.741554</td>\n      <td>0.936382</td>\n      <td>0.881213</td>\n    </tr>\n    <tr>\n      <th>21</th>\n      <td>AJG</td>\n      <td>229.4600</td>\n      <td>N/A</td>\n      <td>0.280067</td>\n      <td>0.831014</td>\n      <td>18.107982</td>\n      <td>0.892644</td>\n      <td>6.509862</td>\n      <td>0.880716</td>\n      <td>1.172841</td>\n      <td>0.918489</td>\n      <td>0.880716</td>\n    </tr>\n    <tr>\n      <th>22</th>\n      <td>TT</td>\n      <td>199.8200</td>\n      <td>N/A</td>\n      <td>0.322095</td>\n      <td>0.880716</td>\n      <td>18.174752</td>\n      <td>0.894632</td>\n      <td>5.680778</td>\n      <td>0.866799</td>\n      <td>-0.359024</td>\n      <td>0.880716</td>\n      <td>0.880716</td>\n    </tr>\n    <tr>\n      <th>23</th>\n      <td>ATVI</td>\n      <td>93.8100</td>\n      <td>N/A</td>\n      <td>0.269809</td>\n      <td>0.82505</td>\n      <td>11.058801</td>\n      <td>0.787276</td>\n      <td>14.422589</td>\n      <td>0.964215</td>\n      <td>1.934151</td>\n      <td>0.93837</td>\n      <td>0.878728</td>\n    </tr>\n    <tr>\n      <th>24</th>\n      <td>SNPS</td>\n      <td>454.7000</td>\n      <td>N/A</td>\n      <td>0.432982</td>\n      <td>0.936382</td>\n      <td>20.176559</td>\n      <td>0.912525</td>\n      <td>5.074646</td>\n      <td>0.848907</td>\n      <td>-2.602548</td>\n      <td>0.785288</td>\n      <td>0.870775</td>\n    </tr>\n    <tr>\n      <th>25</th>\n      <td>MU</td>\n      <td>68.8200</td>\n      <td>N/A</td>\n      <td>0.246979</td>\n      <td>0.793241</td>\n      <td>21.148358</td>\n      <td>0.928429</td>\n      <td>11.101347</td>\n      <td>0.942346</td>\n      <td>-2.105567</td>\n      <td>0.805169</td>\n      <td>0.867296</td>\n    </tr>\n    <tr>\n      <th>26</th>\n      <td>CMCSA</td>\n      <td>43.2000</td>\n      <td>N/A</td>\n      <td>0.446589</td>\n      <td>0.940358</td>\n      <td>15.477501</td>\n      <td>0.87674</td>\n      <td>4.829890</td>\n      <td>0.842942</td>\n      <td>-2.415985</td>\n      <td>0.789264</td>\n      <td>0.862326</td>\n    </tr>\n    <tr>\n      <th>27</th>\n      <td>BKNG</td>\n      <td>2999.7100</td>\n      <td>N/A</td>\n      <td>0.781843</td>\n      <td>0.988072</td>\n      <td>14.685344</td>\n      <td>0.860835</td>\n      <td>12.180627</td>\n      <td>0.952286</td>\n      <td>-4.608793</td>\n      <td>0.646123</td>\n      <td>0.861829</td>\n    </tr>\n    <tr>\n      <th>28</th>\n      <td>AIG</td>\n      <td>60.1500</td>\n      <td>N/A</td>\n      <td>0.169425</td>\n      <td>0.701789</td>\n      <td>21.221725</td>\n      <td>0.930417</td>\n      <td>4.850400</td>\n      <td>0.84493</td>\n      <td>3.257964</td>\n      <td>0.952286</td>\n      <td>0.857356</td>\n    </tr>\n    <tr>\n      <th>29</th>\n      <td>CARR</td>\n      <td>53.5000</td>\n      <td>N/A</td>\n      <td>0.467616</td>\n      <td>0.94831</td>\n      <td>28.144766</td>\n      <td>0.972167</td>\n      <td>8.651499</td>\n      <td>0.900596</td>\n      <td>-5.175467</td>\n      <td>0.604374</td>\n      <td>0.856362</td>\n    </tr>\n    <tr>\n      <th>30</th>\n      <td>ODFL</td>\n      <td>401.7800</td>\n      <td>N/A</td>\n      <td>0.454506</td>\n      <td>0.944334</td>\n      <td>23.909190</td>\n      <td>0.946322</td>\n      <td>9.361229</td>\n      <td>0.910537</td>\n      <td>-5.114065</td>\n      <td>0.614314</td>\n      <td>0.853877</td>\n    </tr>\n    <tr>\n      <th>31</th>\n      <td>MAR</td>\n      <td>192.9200</td>\n      <td>N/A</td>\n      <td>0.352259</td>\n      <td>0.898608</td>\n      <td>19.345358</td>\n      <td>0.904573</td>\n      <td>6.198229</td>\n      <td>0.872763</td>\n      <td>-4.034224</td>\n      <td>0.695825</td>\n      <td>0.842942</td>\n    </tr>\n    <tr>\n      <th>32</th>\n      <td>COST</td>\n      <td>565.5000</td>\n      <td>N/A</td>\n      <td>0.185102</td>\n      <td>0.719682</td>\n      <td>14.205579</td>\n      <td>0.850895</td>\n      <td>4.700992</td>\n      <td>0.83499</td>\n      <td>3.812902</td>\n      <td>0.962227</td>\n      <td>0.841948</td>\n    </tr>\n    <tr>\n      <th>33</th>\n      <td>MPC</td>\n      <td>142.5050</td>\n      <td>N/A</td>\n      <td>0.315502</td>\n      <td>0.868787</td>\n      <td>8.662345</td>\n      <td>0.743539</td>\n      <td>23.245122</td>\n      <td>0.998012</td>\n      <td>-3.074414</td>\n      <td>0.755467</td>\n      <td>0.841451</td>\n    </tr>\n    <tr>\n      <th>34</th>\n      <td>L</td>\n      <td>62.9700</td>\n      <td>N/A</td>\n      <td>0.199616</td>\n      <td>0.735586</td>\n      <td>12.239133</td>\n      <td>0.811133</td>\n      <td>5.636159</td>\n      <td>0.862823</td>\n      <td>2.008751</td>\n      <td>0.940358</td>\n      <td>0.837475</td>\n    </tr>\n    <tr>\n      <th>35</th>\n      <td>INTC</td>\n      <td>35.6750</td>\n      <td>N/A</td>\n      <td>0.321928</td>\n      <td>0.878728</td>\n      <td>9.503377</td>\n      <td>0.767396</td>\n      <td>10.130255</td>\n      <td>0.926441</td>\n      <td>-2.819395</td>\n      <td>0.775348</td>\n      <td>0.836978</td>\n    </tr>\n    <tr>\n      <th>36</th>\n      <td>TXT</td>\n      <td>75.3700</td>\n      <td>N/A</td>\n      <td>0.215232</td>\n      <td>0.751491</td>\n      <td>11.081018</td>\n      <td>0.789264</td>\n      <td>12.270948</td>\n      <td>0.956262</td>\n      <td>-1.976418</td>\n      <td>0.817097</td>\n      <td>0.828529</td>\n    </tr>\n    <tr>\n      <th>37</th>\n      <td>AMGN</td>\n      <td>264.7900</td>\n      <td>N/A</td>\n      <td>0.149390</td>\n      <td>0.66004</td>\n      <td>6.348029</td>\n      <td>0.687873</td>\n      <td>18.175757</td>\n      <td>0.986083</td>\n      <td>4.243933</td>\n      <td>0.964215</td>\n      <td>0.824553</td>\n    </tr>\n    <tr>\n      <th>38</th>\n      <td>GE</td>\n      <td>108.1950</td>\n      <td>N/A</td>\n      <td>1.105661</td>\n      <td>0.996024</td>\n      <td>14.963312</td>\n      <td>0.868787</td>\n      <td>-0.273428</td>\n      <td>0.729622</td>\n      <td>-4.081444</td>\n      <td>0.693837</td>\n      <td>0.822068</td>\n    </tr>\n    <tr>\n      <th>39</th>\n      <td>ROP</td>\n      <td>487.3100</td>\n      <td>N/A</td>\n      <td>0.283491</td>\n      <td>0.838966</td>\n      <td>11.570367</td>\n      <td>0.801193</td>\n      <td>2.314350</td>\n      <td>0.795229</td>\n      <td>-1.232294</td>\n      <td>0.850895</td>\n      <td>0.821571</td>\n    </tr>\n    <tr>\n      <th>40</th>\n      <td>MMC</td>\n      <td>191.4100</td>\n      <td>N/A</td>\n      <td>0.214849</td>\n      <td>0.749503</td>\n      <td>14.218369</td>\n      <td>0.852883</td>\n      <td>3.271138</td>\n      <td>0.811133</td>\n      <td>-0.803277</td>\n      <td>0.868787</td>\n      <td>0.820577</td>\n    </tr>\n    <tr>\n      <th>41</th>\n      <td>AIZ</td>\n      <td>146.3750</td>\n      <td>N/A</td>\n      <td>-0.036484</td>\n      <td>0.355865</td>\n      <td>24.556708</td>\n      <td>0.950298</td>\n      <td>18.425814</td>\n      <td>0.992048</td>\n      <td>5.823447</td>\n      <td>0.980119</td>\n      <td>0.819583</td>\n    </tr>\n    <tr>\n      <th>42</th>\n      <td>BR</td>\n      <td>177.8350</td>\n      <td>N/A</td>\n      <td>0.233842</td>\n      <td>0.77336</td>\n      <td>27.355823</td>\n      <td>0.968191</td>\n      <td>8.938889</td>\n      <td>0.904573</td>\n      <td>-4.846071</td>\n      <td>0.632207</td>\n      <td>0.819583</td>\n    </tr>\n    <tr>\n      <th>43</th>\n      <td>HAL</td>\n      <td>38.4400</td>\n      <td>N/A</td>\n      <td>0.283797</td>\n      <td>0.840954</td>\n      <td>17.345161</td>\n      <td>0.888668</td>\n      <td>16.250348</td>\n      <td>0.978131</td>\n      <td>-5.552831</td>\n      <td>0.564612</td>\n      <td>0.818091</td>\n    </tr>\n    <tr>\n      <th>44</th>\n      <td>STE</td>\n      <td>219.2550</td>\n      <td>N/A</td>\n      <td>0.288410</td>\n      <td>0.848907</td>\n      <td>14.563271</td>\n      <td>0.858847</td>\n      <td>0.379117</td>\n      <td>0.745527</td>\n      <td>-1.960738</td>\n      <td>0.819085</td>\n      <td>0.818091</td>\n    </tr>\n    <tr>\n      <th>45</th>\n      <td>FDS</td>\n      <td>447.7200</td>\n      <td>N/A</td>\n      <td>0.066905</td>\n      <td>0.548708</td>\n      <td>11.898259</td>\n      <td>0.805169</td>\n      <td>13.475984</td>\n      <td>0.95825</td>\n      <td>3.514291</td>\n      <td>0.956262</td>\n      <td>0.817097</td>\n    </tr>\n    <tr>\n      <th>46</th>\n      <td>CB</td>\n      <td>210.9100</td>\n      <td>N/A</td>\n      <td>0.099831</td>\n      <td>0.586481</td>\n      <td>8.549770</td>\n      <td>0.739563</td>\n      <td>10.808820</td>\n      <td>0.93837</td>\n      <td>5.857151</td>\n      <td>0.984095</td>\n      <td>0.812127</td>\n    </tr>\n    <tr>\n      <th>47</th>\n      <td>CME</td>\n      <td>204.5300</td>\n      <td>N/A</td>\n      <td>0.157074</td>\n      <td>0.683897</td>\n      <td>5.992797</td>\n      <td>0.681909</td>\n      <td>11.852424</td>\n      <td>0.94831</td>\n      <td>1.535915</td>\n      <td>0.930417</td>\n      <td>0.811133</td>\n    </tr>\n    <tr>\n      <th>48</th>\n      <td>TJX</td>\n      <td>87.8600</td>\n      <td>N/A</td>\n      <td>0.352589</td>\n      <td>0.900596</td>\n      <td>13.498894</td>\n      <td>0.829026</td>\n      <td>4.131322</td>\n      <td>0.823062</td>\n      <td>-4.103910</td>\n      <td>0.691849</td>\n      <td>0.811133</td>\n    </tr>\n    <tr>\n      <th>49</th>\n      <td>CAH</td>\n      <td>89.5591</td>\n      <td>N/A</td>\n      <td>0.280386</td>\n      <td>0.833002</td>\n      <td>14.029207</td>\n      <td>0.838966</td>\n      <td>-4.809359</td>\n      <td>0.60835</td>\n      <td>3.646183</td>\n      <td>0.95825</td>\n      <td>0.809642</td>\n    </tr>\n  </tbody>\n</table>\n</div>"
     },
     "execution_count": 30,
     "metadata": {},
     "output_type": "execute_result"
    }
   ]
  },
  {
   "cell_type": "markdown",
   "source": [
    "## Calculating the Number of Shares to Buy\n",
    "\n",
    "As we can see in the DataFrame above, we stil haven't calculated the number of shares of each stock to buy."
   ],
   "metadata": {
    "collapsed": false
   }
  },
  {
   "cell_type": "code",
   "source": [
    "# portfolio_size = float(input(\"Enter your portfolio value: \"))\n",
    "portfolio_size = 10000000\n",
    "portfolio_size"
   ],
   "metadata": {
    "colab": {
     "base_uri": "https://localhost:8080/"
    },
    "id": "EdlinDPdBsV5",
    "outputId": "39f5f4ba-1f28-4728-8635-a3dd82777b18",
    "ExecuteTime": {
     "end_time": "2023-10-05T15:17:03.718330603Z",
     "start_time": "2023-10-05T15:17:03.602500403Z"
    }
   },
   "execution_count": 31,
   "outputs": [
    {
     "data": {
      "text/plain": "10000000"
     },
     "execution_count": 31,
     "metadata": {},
     "output_type": "execute_result"
    }
   ]
  },
  {
   "cell_type": "code",
   "source": [
    "position_size = portfolio_size / len(final_dataframe.index)\n",
    "position_size"
   ],
   "metadata": {
    "colab": {
     "base_uri": "https://localhost:8080/"
    },
    "id": "cHFqCXXNB4A5",
    "outputId": "03e6b75d-1db5-439d-9a79-664ae30b0683",
    "ExecuteTime": {
     "end_time": "2023-10-05T15:17:03.833188080Z",
     "start_time": "2023-10-05T15:17:03.640512388Z"
    }
   },
   "execution_count": 32,
   "outputs": [
    {
     "data": {
      "text/plain": "200000.0"
     },
     "execution_count": 32,
     "metadata": {},
     "output_type": "execute_result"
    }
   ]
  },
  {
   "cell_type": "code",
   "source": [
    "for i in range(len(hqm_dataframe.index)):\n",
    "    hqm_dataframe.loc[i, 'Number of Shares to Buy'] = math.floor(position_size / hqm_dataframe.loc[i, 'Stock Price'])\n",
    "\n",
    "hqm_dataframe"
   ],
   "metadata": {
    "colab": {
     "base_uri": "https://localhost:8080/",
     "height": 702
    },
    "id": "b17SIFHSB7Fe",
    "outputId": "18cd2483-77cd-4df8-dbbd-dccd791194bc",
    "ExecuteTime": {
     "end_time": "2023-10-05T15:17:03.897494148Z",
     "start_time": "2023-10-05T15:17:03.824938149Z"
    }
   },
   "execution_count": 33,
   "outputs": [
    {
     "data": {
      "text/plain": "   Ticker  Stock Price Number of Shares to Buy  1 Year Return  \\\n0    ACGL      81.4200                    2456       0.676250   \n1    CHTR     431.6500                     463       0.336132   \n2    CBOE     158.9511                    1258       0.314596   \n3    AKAM     105.9100                    1888       0.261724   \n4    PCAR      85.6600                    2334       0.449331   \n5    META     299.9852                     666       1.197311   \n6     CEG     107.1750                    1866       0.230413   \n7     AFL      76.7600                    2605       0.286270   \n8     WDC      46.0500                    4343       0.222072   \n9     PKG     152.6300                    1310       0.322723   \n10   GOOG     134.7700                    1484       0.332844   \n11  GOOGL     133.7650                    1495       0.333465   \n12     EG     387.5100                     516       0.414895   \n13    LLY     533.4800                     374       0.596216   \n14    MCK     444.8500                     449       0.259740   \n15   VRSK     237.9700                     840       0.365644   \n16    WRK      36.2100                    5523       0.136392   \n17    FDX     258.7000                     773       0.675688   \n18   WELL      82.2200                    2432       0.366299   \n19   FICO     854.6000                     234       1.080252   \n20      J     134.9500                    1482       0.186237   \n21    AJG     229.4600                     871       0.280067   \n22     TT     199.8200                    1000       0.322095   \n23   ATVI      93.8100                    2131       0.269809   \n24   SNPS     454.7000                     439       0.432982   \n25     MU      68.8200                    2906       0.246979   \n26  CMCSA      43.2000                    4629       0.446589   \n27   BKNG    2999.7100                      66       0.781843   \n28    AIG      60.1500                    3325       0.169425   \n29   CARR      53.5000                    3738       0.467616   \n30   ODFL     401.7800                     497       0.454506   \n31    MAR     192.9200                    1036       0.352259   \n32   COST     565.5000                     353       0.185102   \n33    MPC     142.5050                    1403       0.315502   \n34      L      62.9700                    3176       0.199616   \n35   INTC      35.6750                    5606       0.321928   \n36    TXT      75.3700                    2653       0.215232   \n37   AMGN     264.7900                     755       0.149390   \n38     GE     108.1950                    1848       1.105661   \n39    ROP     487.3100                     410       0.283491   \n40    MMC     191.4100                    1044       0.214849   \n41    AIZ     146.3750                    1366      -0.036484   \n42     BR     177.8350                    1124       0.233842   \n43    HAL      38.4400                    5202       0.283797   \n44    STE     219.2550                     912       0.288410   \n45    FDS     447.7200                     446       0.066905   \n46     CB     210.9100                     948       0.099831   \n47    CME     204.5300                     977       0.157074   \n48    TJX      87.8600                    2276       0.352589   \n49    CAH      89.5591                    2233       0.280386   \n\n   1 Year Return Percentile  6 Months Return 6 Months Return Percentile  \\\n0                  0.980119        18.705354                   0.902584   \n1                  0.894632        22.238899                   0.936382   \n2                  0.866799        17.203290                    0.88668   \n3                  0.811133        36.816947                   0.988072   \n4                  0.942346        25.918307                    0.95825   \n5                  0.998012        41.852656                   0.994036   \n6                  0.769384        40.973082                   0.992048   \n7                   0.84493        20.523122                   0.916501   \n8                  0.757455        31.346256                   0.980119   \n9                  0.882704        10.681784                   0.779324   \n10                 0.890656        28.413538                   0.974155   \n11                 0.892644        28.041541                   0.970179   \n12                 0.934394         7.754901                   0.723658   \n13                 0.974155        47.972115                   0.998012   \n14                 0.809145        19.551960                   0.908549   \n15                 0.908549        24.659803                   0.954274   \n16                 0.638171        22.718885                    0.93837   \n17                 0.978131        13.733969                    0.83499   \n18                 0.910537        18.284566                    0.89662   \n19                 0.994036        26.304274                   0.962227   \n20                  0.72167        20.582121                   0.922465   \n21                 0.831014        18.107982                   0.892644   \n22                 0.880716        18.174752                   0.894632   \n23                  0.82505        11.058801                   0.787276   \n24                 0.936382        20.176559                   0.912525   \n25                 0.793241        21.148358                   0.928429   \n26                 0.940358        15.477501                    0.87674   \n27                 0.988072        14.685344                   0.860835   \n28                 0.701789        21.221725                   0.930417   \n29                  0.94831        28.144766                   0.972167   \n30                 0.944334        23.909190                   0.946322   \n31                 0.898608        19.345358                   0.904573   \n32                 0.719682        14.205579                   0.850895   \n33                 0.868787         8.662345                   0.743539   \n34                 0.735586        12.239133                   0.811133   \n35                 0.878728         9.503377                   0.767396   \n36                 0.751491        11.081018                   0.789264   \n37                  0.66004         6.348029                   0.687873   \n38                 0.996024        14.963312                   0.868787   \n39                 0.838966        11.570367                   0.801193   \n40                 0.749503        14.218369                   0.852883   \n41                 0.355865        24.556708                   0.950298   \n42                  0.77336        27.355823                   0.968191   \n43                 0.840954        17.345161                   0.888668   \n44                 0.848907        14.563271                   0.858847   \n45                 0.548708        11.898259                   0.805169   \n46                 0.586481         8.549770                   0.739563   \n47                 0.683897         5.992797                   0.681909   \n48                 0.900596        13.498894                   0.829026   \n49                 0.833002        14.029207                   0.838966   \n\n    3 Months Return 3 Months Return Percentile  1 Month Return  \\\n0         10.594940                   0.930417        7.329288   \n1         17.407861                   0.984095        5.540479   \n2         15.123551                   0.972167        6.678588   \n3         17.390825                   0.982107        1.300814   \n4          4.439398                   0.829026        4.898359   \n5          1.909160                   0.785288       -0.053308   \n6         16.628658                   0.980119        1.060820   \n7         10.421233                   0.928429        3.450142   \n8         22.278278                   0.996024        0.567806   \n9         18.368266                    0.99006        5.768447   \n10         9.899704                   0.922465       -1.419064   \n11         9.864472                   0.920477       -1.480452   \n12        14.626674                   0.966203        7.644361   \n13        14.799990                   0.970179       -4.426812   \n14         6.379123                   0.878728        9.264854   \n15         5.419132                   0.860835       -0.960082   \n16        28.515867                        1.0       12.979719   \n17         4.721372                   0.836978        1.334319   \n18         2.019683                   0.787276        1.681920   \n19         7.908129                   0.894632       -4.269029   \n20        11.380292                   0.944334        1.741554   \n21         6.509862                   0.880716        1.172841   \n22         5.680778                   0.866799       -0.359024   \n23        14.422589                   0.964215        1.934151   \n24         5.074646                   0.848907       -2.602548   \n25        11.101347                   0.942346       -2.105567   \n26         4.829890                   0.842942       -2.415985   \n27        12.180627                   0.952286       -4.608793   \n28         4.850400                    0.84493        3.257964   \n29         8.651499                   0.900596       -5.175467   \n30         9.361229                   0.910537       -5.114065   \n31         6.198229                   0.872763       -4.034224   \n32         4.700992                    0.83499        3.812902   \n33        23.245122                   0.998012       -3.074414   \n34         5.636159                   0.862823        2.008751   \n35        10.130255                   0.926441       -2.819395   \n36        12.270948                   0.956262       -1.976418   \n37        18.175757                   0.986083        4.243933   \n38        -0.273428                   0.729622       -4.081444   \n39         2.314350                   0.795229       -1.232294   \n40         3.271138                   0.811133       -0.803277   \n41        18.425814                   0.992048        5.823447   \n42         8.938889                   0.904573       -4.846071   \n43        16.250348                   0.978131       -5.552831   \n44         0.379117                   0.745527       -1.960738   \n45        13.475984                    0.95825        3.514291   \n46        10.808820                    0.93837        5.857151   \n47        11.852424                    0.94831        1.535915   \n48         4.131322                   0.823062       -4.103910   \n49        -4.809359                    0.60835        3.646183   \n\n   1 Month Return Percentile HQM Score  \n0                   0.992048  0.951292  \n1                   0.974155  0.947316  \n2                   0.986083  0.927932  \n3                   0.920477  0.925447  \n4                   0.972167  0.925447  \n5                   0.884692  0.915507  \n6                   0.912525  0.913519  \n7                   0.954274  0.911034  \n8                   0.904573  0.909543  \n9                   0.978131  0.907555  \n10                  0.838966  0.906561  \n11                   0.83499  0.904573  \n12                  0.994036  0.904573  \n13                   0.66004  0.900596  \n14                  0.996024  0.898111  \n15                  0.862823   0.89662  \n16                       1.0  0.894135  \n17                  0.924453  0.893638  \n18                  0.934394  0.882207  \n19                  0.675944   0.88171  \n20                  0.936382  0.881213  \n21                  0.918489  0.880716  \n22                  0.880716  0.880716  \n23                   0.93837  0.878728  \n24                  0.785288  0.870775  \n25                  0.805169  0.867296  \n26                  0.789264  0.862326  \n27                  0.646123  0.861829  \n28                  0.952286  0.857356  \n29                  0.604374  0.856362  \n30                  0.614314  0.853877  \n31                  0.695825  0.842942  \n32                  0.962227  0.841948  \n33                  0.755467  0.841451  \n34                  0.940358  0.837475  \n35                  0.775348  0.836978  \n36                  0.817097  0.828529  \n37                  0.964215  0.824553  \n38                  0.693837  0.822068  \n39                  0.850895  0.821571  \n40                  0.868787  0.820577  \n41                  0.980119  0.819583  \n42                  0.632207  0.819583  \n43                  0.564612  0.818091  \n44                  0.819085  0.818091  \n45                  0.956262  0.817097  \n46                  0.984095  0.812127  \n47                  0.930417  0.811133  \n48                  0.691849  0.811133  \n49                   0.95825  0.809642  ",
      "text/html": "<div>\n<style scoped>\n    .dataframe tbody tr th:only-of-type {\n        vertical-align: middle;\n    }\n\n    .dataframe tbody tr th {\n        vertical-align: top;\n    }\n\n    .dataframe thead th {\n        text-align: right;\n    }\n</style>\n<table border=\"1\" class=\"dataframe\">\n  <thead>\n    <tr style=\"text-align: right;\">\n      <th></th>\n      <th>Ticker</th>\n      <th>Stock Price</th>\n      <th>Number of Shares to Buy</th>\n      <th>1 Year Return</th>\n      <th>1 Year Return Percentile</th>\n      <th>6 Months Return</th>\n      <th>6 Months Return Percentile</th>\n      <th>3 Months Return</th>\n      <th>3 Months Return Percentile</th>\n      <th>1 Month Return</th>\n      <th>1 Month Return Percentile</th>\n      <th>HQM Score</th>\n    </tr>\n  </thead>\n  <tbody>\n    <tr>\n      <th>0</th>\n      <td>ACGL</td>\n      <td>81.4200</td>\n      <td>2456</td>\n      <td>0.676250</td>\n      <td>0.980119</td>\n      <td>18.705354</td>\n      <td>0.902584</td>\n      <td>10.594940</td>\n      <td>0.930417</td>\n      <td>7.329288</td>\n      <td>0.992048</td>\n      <td>0.951292</td>\n    </tr>\n    <tr>\n      <th>1</th>\n      <td>CHTR</td>\n      <td>431.6500</td>\n      <td>463</td>\n      <td>0.336132</td>\n      <td>0.894632</td>\n      <td>22.238899</td>\n      <td>0.936382</td>\n      <td>17.407861</td>\n      <td>0.984095</td>\n      <td>5.540479</td>\n      <td>0.974155</td>\n      <td>0.947316</td>\n    </tr>\n    <tr>\n      <th>2</th>\n      <td>CBOE</td>\n      <td>158.9511</td>\n      <td>1258</td>\n      <td>0.314596</td>\n      <td>0.866799</td>\n      <td>17.203290</td>\n      <td>0.88668</td>\n      <td>15.123551</td>\n      <td>0.972167</td>\n      <td>6.678588</td>\n      <td>0.986083</td>\n      <td>0.927932</td>\n    </tr>\n    <tr>\n      <th>3</th>\n      <td>AKAM</td>\n      <td>105.9100</td>\n      <td>1888</td>\n      <td>0.261724</td>\n      <td>0.811133</td>\n      <td>36.816947</td>\n      <td>0.988072</td>\n      <td>17.390825</td>\n      <td>0.982107</td>\n      <td>1.300814</td>\n      <td>0.920477</td>\n      <td>0.925447</td>\n    </tr>\n    <tr>\n      <th>4</th>\n      <td>PCAR</td>\n      <td>85.6600</td>\n      <td>2334</td>\n      <td>0.449331</td>\n      <td>0.942346</td>\n      <td>25.918307</td>\n      <td>0.95825</td>\n      <td>4.439398</td>\n      <td>0.829026</td>\n      <td>4.898359</td>\n      <td>0.972167</td>\n      <td>0.925447</td>\n    </tr>\n    <tr>\n      <th>5</th>\n      <td>META</td>\n      <td>299.9852</td>\n      <td>666</td>\n      <td>1.197311</td>\n      <td>0.998012</td>\n      <td>41.852656</td>\n      <td>0.994036</td>\n      <td>1.909160</td>\n      <td>0.785288</td>\n      <td>-0.053308</td>\n      <td>0.884692</td>\n      <td>0.915507</td>\n    </tr>\n    <tr>\n      <th>6</th>\n      <td>CEG</td>\n      <td>107.1750</td>\n      <td>1866</td>\n      <td>0.230413</td>\n      <td>0.769384</td>\n      <td>40.973082</td>\n      <td>0.992048</td>\n      <td>16.628658</td>\n      <td>0.980119</td>\n      <td>1.060820</td>\n      <td>0.912525</td>\n      <td>0.913519</td>\n    </tr>\n    <tr>\n      <th>7</th>\n      <td>AFL</td>\n      <td>76.7600</td>\n      <td>2605</td>\n      <td>0.286270</td>\n      <td>0.84493</td>\n      <td>20.523122</td>\n      <td>0.916501</td>\n      <td>10.421233</td>\n      <td>0.928429</td>\n      <td>3.450142</td>\n      <td>0.954274</td>\n      <td>0.911034</td>\n    </tr>\n    <tr>\n      <th>8</th>\n      <td>WDC</td>\n      <td>46.0500</td>\n      <td>4343</td>\n      <td>0.222072</td>\n      <td>0.757455</td>\n      <td>31.346256</td>\n      <td>0.980119</td>\n      <td>22.278278</td>\n      <td>0.996024</td>\n      <td>0.567806</td>\n      <td>0.904573</td>\n      <td>0.909543</td>\n    </tr>\n    <tr>\n      <th>9</th>\n      <td>PKG</td>\n      <td>152.6300</td>\n      <td>1310</td>\n      <td>0.322723</td>\n      <td>0.882704</td>\n      <td>10.681784</td>\n      <td>0.779324</td>\n      <td>18.368266</td>\n      <td>0.99006</td>\n      <td>5.768447</td>\n      <td>0.978131</td>\n      <td>0.907555</td>\n    </tr>\n    <tr>\n      <th>10</th>\n      <td>GOOG</td>\n      <td>134.7700</td>\n      <td>1484</td>\n      <td>0.332844</td>\n      <td>0.890656</td>\n      <td>28.413538</td>\n      <td>0.974155</td>\n      <td>9.899704</td>\n      <td>0.922465</td>\n      <td>-1.419064</td>\n      <td>0.838966</td>\n      <td>0.906561</td>\n    </tr>\n    <tr>\n      <th>11</th>\n      <td>GOOGL</td>\n      <td>133.7650</td>\n      <td>1495</td>\n      <td>0.333465</td>\n      <td>0.892644</td>\n      <td>28.041541</td>\n      <td>0.970179</td>\n      <td>9.864472</td>\n      <td>0.920477</td>\n      <td>-1.480452</td>\n      <td>0.83499</td>\n      <td>0.904573</td>\n    </tr>\n    <tr>\n      <th>12</th>\n      <td>EG</td>\n      <td>387.5100</td>\n      <td>516</td>\n      <td>0.414895</td>\n      <td>0.934394</td>\n      <td>7.754901</td>\n      <td>0.723658</td>\n      <td>14.626674</td>\n      <td>0.966203</td>\n      <td>7.644361</td>\n      <td>0.994036</td>\n      <td>0.904573</td>\n    </tr>\n    <tr>\n      <th>13</th>\n      <td>LLY</td>\n      <td>533.4800</td>\n      <td>374</td>\n      <td>0.596216</td>\n      <td>0.974155</td>\n      <td>47.972115</td>\n      <td>0.998012</td>\n      <td>14.799990</td>\n      <td>0.970179</td>\n      <td>-4.426812</td>\n      <td>0.66004</td>\n      <td>0.900596</td>\n    </tr>\n    <tr>\n      <th>14</th>\n      <td>MCK</td>\n      <td>444.8500</td>\n      <td>449</td>\n      <td>0.259740</td>\n      <td>0.809145</td>\n      <td>19.551960</td>\n      <td>0.908549</td>\n      <td>6.379123</td>\n      <td>0.878728</td>\n      <td>9.264854</td>\n      <td>0.996024</td>\n      <td>0.898111</td>\n    </tr>\n    <tr>\n      <th>15</th>\n      <td>VRSK</td>\n      <td>237.9700</td>\n      <td>840</td>\n      <td>0.365644</td>\n      <td>0.908549</td>\n      <td>24.659803</td>\n      <td>0.954274</td>\n      <td>5.419132</td>\n      <td>0.860835</td>\n      <td>-0.960082</td>\n      <td>0.862823</td>\n      <td>0.89662</td>\n    </tr>\n    <tr>\n      <th>16</th>\n      <td>WRK</td>\n      <td>36.2100</td>\n      <td>5523</td>\n      <td>0.136392</td>\n      <td>0.638171</td>\n      <td>22.718885</td>\n      <td>0.93837</td>\n      <td>28.515867</td>\n      <td>1.0</td>\n      <td>12.979719</td>\n      <td>1.0</td>\n      <td>0.894135</td>\n    </tr>\n    <tr>\n      <th>17</th>\n      <td>FDX</td>\n      <td>258.7000</td>\n      <td>773</td>\n      <td>0.675688</td>\n      <td>0.978131</td>\n      <td>13.733969</td>\n      <td>0.83499</td>\n      <td>4.721372</td>\n      <td>0.836978</td>\n      <td>1.334319</td>\n      <td>0.924453</td>\n      <td>0.893638</td>\n    </tr>\n    <tr>\n      <th>18</th>\n      <td>WELL</td>\n      <td>82.2200</td>\n      <td>2432</td>\n      <td>0.366299</td>\n      <td>0.910537</td>\n      <td>18.284566</td>\n      <td>0.89662</td>\n      <td>2.019683</td>\n      <td>0.787276</td>\n      <td>1.681920</td>\n      <td>0.934394</td>\n      <td>0.882207</td>\n    </tr>\n    <tr>\n      <th>19</th>\n      <td>FICO</td>\n      <td>854.6000</td>\n      <td>234</td>\n      <td>1.080252</td>\n      <td>0.994036</td>\n      <td>26.304274</td>\n      <td>0.962227</td>\n      <td>7.908129</td>\n      <td>0.894632</td>\n      <td>-4.269029</td>\n      <td>0.675944</td>\n      <td>0.88171</td>\n    </tr>\n    <tr>\n      <th>20</th>\n      <td>J</td>\n      <td>134.9500</td>\n      <td>1482</td>\n      <td>0.186237</td>\n      <td>0.72167</td>\n      <td>20.582121</td>\n      <td>0.922465</td>\n      <td>11.380292</td>\n      <td>0.944334</td>\n      <td>1.741554</td>\n      <td>0.936382</td>\n      <td>0.881213</td>\n    </tr>\n    <tr>\n      <th>21</th>\n      <td>AJG</td>\n      <td>229.4600</td>\n      <td>871</td>\n      <td>0.280067</td>\n      <td>0.831014</td>\n      <td>18.107982</td>\n      <td>0.892644</td>\n      <td>6.509862</td>\n      <td>0.880716</td>\n      <td>1.172841</td>\n      <td>0.918489</td>\n      <td>0.880716</td>\n    </tr>\n    <tr>\n      <th>22</th>\n      <td>TT</td>\n      <td>199.8200</td>\n      <td>1000</td>\n      <td>0.322095</td>\n      <td>0.880716</td>\n      <td>18.174752</td>\n      <td>0.894632</td>\n      <td>5.680778</td>\n      <td>0.866799</td>\n      <td>-0.359024</td>\n      <td>0.880716</td>\n      <td>0.880716</td>\n    </tr>\n    <tr>\n      <th>23</th>\n      <td>ATVI</td>\n      <td>93.8100</td>\n      <td>2131</td>\n      <td>0.269809</td>\n      <td>0.82505</td>\n      <td>11.058801</td>\n      <td>0.787276</td>\n      <td>14.422589</td>\n      <td>0.964215</td>\n      <td>1.934151</td>\n      <td>0.93837</td>\n      <td>0.878728</td>\n    </tr>\n    <tr>\n      <th>24</th>\n      <td>SNPS</td>\n      <td>454.7000</td>\n      <td>439</td>\n      <td>0.432982</td>\n      <td>0.936382</td>\n      <td>20.176559</td>\n      <td>0.912525</td>\n      <td>5.074646</td>\n      <td>0.848907</td>\n      <td>-2.602548</td>\n      <td>0.785288</td>\n      <td>0.870775</td>\n    </tr>\n    <tr>\n      <th>25</th>\n      <td>MU</td>\n      <td>68.8200</td>\n      <td>2906</td>\n      <td>0.246979</td>\n      <td>0.793241</td>\n      <td>21.148358</td>\n      <td>0.928429</td>\n      <td>11.101347</td>\n      <td>0.942346</td>\n      <td>-2.105567</td>\n      <td>0.805169</td>\n      <td>0.867296</td>\n    </tr>\n    <tr>\n      <th>26</th>\n      <td>CMCSA</td>\n      <td>43.2000</td>\n      <td>4629</td>\n      <td>0.446589</td>\n      <td>0.940358</td>\n      <td>15.477501</td>\n      <td>0.87674</td>\n      <td>4.829890</td>\n      <td>0.842942</td>\n      <td>-2.415985</td>\n      <td>0.789264</td>\n      <td>0.862326</td>\n    </tr>\n    <tr>\n      <th>27</th>\n      <td>BKNG</td>\n      <td>2999.7100</td>\n      <td>66</td>\n      <td>0.781843</td>\n      <td>0.988072</td>\n      <td>14.685344</td>\n      <td>0.860835</td>\n      <td>12.180627</td>\n      <td>0.952286</td>\n      <td>-4.608793</td>\n      <td>0.646123</td>\n      <td>0.861829</td>\n    </tr>\n    <tr>\n      <th>28</th>\n      <td>AIG</td>\n      <td>60.1500</td>\n      <td>3325</td>\n      <td>0.169425</td>\n      <td>0.701789</td>\n      <td>21.221725</td>\n      <td>0.930417</td>\n      <td>4.850400</td>\n      <td>0.84493</td>\n      <td>3.257964</td>\n      <td>0.952286</td>\n      <td>0.857356</td>\n    </tr>\n    <tr>\n      <th>29</th>\n      <td>CARR</td>\n      <td>53.5000</td>\n      <td>3738</td>\n      <td>0.467616</td>\n      <td>0.94831</td>\n      <td>28.144766</td>\n      <td>0.972167</td>\n      <td>8.651499</td>\n      <td>0.900596</td>\n      <td>-5.175467</td>\n      <td>0.604374</td>\n      <td>0.856362</td>\n    </tr>\n    <tr>\n      <th>30</th>\n      <td>ODFL</td>\n      <td>401.7800</td>\n      <td>497</td>\n      <td>0.454506</td>\n      <td>0.944334</td>\n      <td>23.909190</td>\n      <td>0.946322</td>\n      <td>9.361229</td>\n      <td>0.910537</td>\n      <td>-5.114065</td>\n      <td>0.614314</td>\n      <td>0.853877</td>\n    </tr>\n    <tr>\n      <th>31</th>\n      <td>MAR</td>\n      <td>192.9200</td>\n      <td>1036</td>\n      <td>0.352259</td>\n      <td>0.898608</td>\n      <td>19.345358</td>\n      <td>0.904573</td>\n      <td>6.198229</td>\n      <td>0.872763</td>\n      <td>-4.034224</td>\n      <td>0.695825</td>\n      <td>0.842942</td>\n    </tr>\n    <tr>\n      <th>32</th>\n      <td>COST</td>\n      <td>565.5000</td>\n      <td>353</td>\n      <td>0.185102</td>\n      <td>0.719682</td>\n      <td>14.205579</td>\n      <td>0.850895</td>\n      <td>4.700992</td>\n      <td>0.83499</td>\n      <td>3.812902</td>\n      <td>0.962227</td>\n      <td>0.841948</td>\n    </tr>\n    <tr>\n      <th>33</th>\n      <td>MPC</td>\n      <td>142.5050</td>\n      <td>1403</td>\n      <td>0.315502</td>\n      <td>0.868787</td>\n      <td>8.662345</td>\n      <td>0.743539</td>\n      <td>23.245122</td>\n      <td>0.998012</td>\n      <td>-3.074414</td>\n      <td>0.755467</td>\n      <td>0.841451</td>\n    </tr>\n    <tr>\n      <th>34</th>\n      <td>L</td>\n      <td>62.9700</td>\n      <td>3176</td>\n      <td>0.199616</td>\n      <td>0.735586</td>\n      <td>12.239133</td>\n      <td>0.811133</td>\n      <td>5.636159</td>\n      <td>0.862823</td>\n      <td>2.008751</td>\n      <td>0.940358</td>\n      <td>0.837475</td>\n    </tr>\n    <tr>\n      <th>35</th>\n      <td>INTC</td>\n      <td>35.6750</td>\n      <td>5606</td>\n      <td>0.321928</td>\n      <td>0.878728</td>\n      <td>9.503377</td>\n      <td>0.767396</td>\n      <td>10.130255</td>\n      <td>0.926441</td>\n      <td>-2.819395</td>\n      <td>0.775348</td>\n      <td>0.836978</td>\n    </tr>\n    <tr>\n      <th>36</th>\n      <td>TXT</td>\n      <td>75.3700</td>\n      <td>2653</td>\n      <td>0.215232</td>\n      <td>0.751491</td>\n      <td>11.081018</td>\n      <td>0.789264</td>\n      <td>12.270948</td>\n      <td>0.956262</td>\n      <td>-1.976418</td>\n      <td>0.817097</td>\n      <td>0.828529</td>\n    </tr>\n    <tr>\n      <th>37</th>\n      <td>AMGN</td>\n      <td>264.7900</td>\n      <td>755</td>\n      <td>0.149390</td>\n      <td>0.66004</td>\n      <td>6.348029</td>\n      <td>0.687873</td>\n      <td>18.175757</td>\n      <td>0.986083</td>\n      <td>4.243933</td>\n      <td>0.964215</td>\n      <td>0.824553</td>\n    </tr>\n    <tr>\n      <th>38</th>\n      <td>GE</td>\n      <td>108.1950</td>\n      <td>1848</td>\n      <td>1.105661</td>\n      <td>0.996024</td>\n      <td>14.963312</td>\n      <td>0.868787</td>\n      <td>-0.273428</td>\n      <td>0.729622</td>\n      <td>-4.081444</td>\n      <td>0.693837</td>\n      <td>0.822068</td>\n    </tr>\n    <tr>\n      <th>39</th>\n      <td>ROP</td>\n      <td>487.3100</td>\n      <td>410</td>\n      <td>0.283491</td>\n      <td>0.838966</td>\n      <td>11.570367</td>\n      <td>0.801193</td>\n      <td>2.314350</td>\n      <td>0.795229</td>\n      <td>-1.232294</td>\n      <td>0.850895</td>\n      <td>0.821571</td>\n    </tr>\n    <tr>\n      <th>40</th>\n      <td>MMC</td>\n      <td>191.4100</td>\n      <td>1044</td>\n      <td>0.214849</td>\n      <td>0.749503</td>\n      <td>14.218369</td>\n      <td>0.852883</td>\n      <td>3.271138</td>\n      <td>0.811133</td>\n      <td>-0.803277</td>\n      <td>0.868787</td>\n      <td>0.820577</td>\n    </tr>\n    <tr>\n      <th>41</th>\n      <td>AIZ</td>\n      <td>146.3750</td>\n      <td>1366</td>\n      <td>-0.036484</td>\n      <td>0.355865</td>\n      <td>24.556708</td>\n      <td>0.950298</td>\n      <td>18.425814</td>\n      <td>0.992048</td>\n      <td>5.823447</td>\n      <td>0.980119</td>\n      <td>0.819583</td>\n    </tr>\n    <tr>\n      <th>42</th>\n      <td>BR</td>\n      <td>177.8350</td>\n      <td>1124</td>\n      <td>0.233842</td>\n      <td>0.77336</td>\n      <td>27.355823</td>\n      <td>0.968191</td>\n      <td>8.938889</td>\n      <td>0.904573</td>\n      <td>-4.846071</td>\n      <td>0.632207</td>\n      <td>0.819583</td>\n    </tr>\n    <tr>\n      <th>43</th>\n      <td>HAL</td>\n      <td>38.4400</td>\n      <td>5202</td>\n      <td>0.283797</td>\n      <td>0.840954</td>\n      <td>17.345161</td>\n      <td>0.888668</td>\n      <td>16.250348</td>\n      <td>0.978131</td>\n      <td>-5.552831</td>\n      <td>0.564612</td>\n      <td>0.818091</td>\n    </tr>\n    <tr>\n      <th>44</th>\n      <td>STE</td>\n      <td>219.2550</td>\n      <td>912</td>\n      <td>0.288410</td>\n      <td>0.848907</td>\n      <td>14.563271</td>\n      <td>0.858847</td>\n      <td>0.379117</td>\n      <td>0.745527</td>\n      <td>-1.960738</td>\n      <td>0.819085</td>\n      <td>0.818091</td>\n    </tr>\n    <tr>\n      <th>45</th>\n      <td>FDS</td>\n      <td>447.7200</td>\n      <td>446</td>\n      <td>0.066905</td>\n      <td>0.548708</td>\n      <td>11.898259</td>\n      <td>0.805169</td>\n      <td>13.475984</td>\n      <td>0.95825</td>\n      <td>3.514291</td>\n      <td>0.956262</td>\n      <td>0.817097</td>\n    </tr>\n    <tr>\n      <th>46</th>\n      <td>CB</td>\n      <td>210.9100</td>\n      <td>948</td>\n      <td>0.099831</td>\n      <td>0.586481</td>\n      <td>8.549770</td>\n      <td>0.739563</td>\n      <td>10.808820</td>\n      <td>0.93837</td>\n      <td>5.857151</td>\n      <td>0.984095</td>\n      <td>0.812127</td>\n    </tr>\n    <tr>\n      <th>47</th>\n      <td>CME</td>\n      <td>204.5300</td>\n      <td>977</td>\n      <td>0.157074</td>\n      <td>0.683897</td>\n      <td>5.992797</td>\n      <td>0.681909</td>\n      <td>11.852424</td>\n      <td>0.94831</td>\n      <td>1.535915</td>\n      <td>0.930417</td>\n      <td>0.811133</td>\n    </tr>\n    <tr>\n      <th>48</th>\n      <td>TJX</td>\n      <td>87.8600</td>\n      <td>2276</td>\n      <td>0.352589</td>\n      <td>0.900596</td>\n      <td>13.498894</td>\n      <td>0.829026</td>\n      <td>4.131322</td>\n      <td>0.823062</td>\n      <td>-4.103910</td>\n      <td>0.691849</td>\n      <td>0.811133</td>\n    </tr>\n    <tr>\n      <th>49</th>\n      <td>CAH</td>\n      <td>89.5591</td>\n      <td>2233</td>\n      <td>0.280386</td>\n      <td>0.833002</td>\n      <td>14.029207</td>\n      <td>0.838966</td>\n      <td>-4.809359</td>\n      <td>0.60835</td>\n      <td>3.646183</td>\n      <td>0.95825</td>\n      <td>0.809642</td>\n    </tr>\n  </tbody>\n</table>\n</div>"
     },
     "execution_count": 33,
     "metadata": {},
     "output_type": "execute_result"
    }
   ]
  },
  {
   "cell_type": "markdown",
   "source": [
    "## Formatting Our Excel Output\n",
    "\n",
    "We will be using the XlsxWriter library for Python to create nicely-formatted Excel files.\n",
    "\n",
    "### Initializing our XlsxWriter Object"
   ],
   "metadata": {
    "collapsed": false
   }
  },
  {
   "cell_type": "code",
   "source": [
    "writer = pd.ExcelWriter('momentum_strategy.xlsx', engine='xlsxwriter')\n",
    "hqm_dataframe.to_excel(writer, sheet_name='Momentum Strategy', index=False)"
   ],
   "metadata": {
    "id": "PTpQ-4ZQCIBf",
    "ExecuteTime": {
     "end_time": "2023-10-05T15:17:04.056623831Z",
     "start_time": "2023-10-05T15:17:03.895925100Z"
    }
   },
   "execution_count": 34,
   "outputs": []
  },
  {
   "cell_type": "markdown",
   "source": [
    "## Formatting Our Excel Output"
   ],
   "metadata": {
    "collapsed": false
   }
  },
  {
   "cell_type": "code",
   "source": [
    "background_color = '#0a0a23'\n",
    "font_color = '#ffffff'\n",
    "\n",
    "string_template = writer.book.add_format(\n",
    "    {\n",
    "        'font_color': font_color,\n",
    "        'bg_color': background_color,\n",
    "        'border': 1\n",
    "    }\n",
    ")\n",
    "\n",
    "dollar_template = writer.book.add_format(\n",
    "    {\n",
    "        'num_format': '$0.00',\n",
    "        'font_color': font_color,\n",
    "        'bg_color': background_color,\n",
    "        'border': 1\n",
    "    }\n",
    ")\n",
    "\n",
    "integer_template = writer.book.add_format(\n",
    "    {\n",
    "        'num_format': '0',\n",
    "        'font_color': font_color,\n",
    "        'bg_color': background_color,\n",
    "        'border': 1\n",
    "    }\n",
    ")\n",
    "\n",
    "percent_template = writer.book.add_format(\n",
    "    {\n",
    "        'num_format': '0.0%',\n",
    "        'font_color': font_color,\n",
    "        'bg_color': background_color,\n",
    "        'border': 1\n",
    "    }\n",
    ")"
   ],
   "metadata": {
    "id": "gSIDQ8kJWsqL",
    "ExecuteTime": {
     "end_time": "2023-10-05T15:17:04.087283907Z",
     "start_time": "2023-10-05T15:17:03.945554542Z"
    }
   },
   "execution_count": 35,
   "outputs": []
  },
  {
   "cell_type": "code",
   "source": [
    "column_formats = {\n",
    "    'A': ['Ticker', string_template],\n",
    "    'B': ['Price', dollar_template],\n",
    "    'C': ['Number of Shares to Buy', integer_template],\n",
    "    'D': ['One-Year Price Return', percent_template],\n",
    "    'E': ['One-Year Return Percentile', percent_template],\n",
    "    'F': ['Six-Month Price Return', percent_template],\n",
    "    'G': ['Six-Month Return Percentile', percent_template],\n",
    "    'H': ['Three-Month Price Return', percent_template],\n",
    "    'I': ['Three-Month Return Percentile', percent_template],\n",
    "    'J': ['One-Month Price Return', percent_template],\n",
    "    'K': ['One-Month Return Percentile', percent_template],\n",
    "    'L': ['HQM Score', integer_template]\n",
    "}\n",
    "\n",
    "for column in column_formats.keys():\n",
    "    writer.sheets['Momentum Strategy'].set_column(f'{column}:{column}', 20, column_formats[column][1])\n",
    "    writer.sheets['Momentum Strategy'].write(f'{column}1', column_formats[column][0], string_template)"
   ],
   "metadata": {
    "id": "KLoK02SiW4wI",
    "ExecuteTime": {
     "end_time": "2023-10-05T15:17:04.090449579Z",
     "start_time": "2023-10-05T15:17:04.030966610Z"
    }
   },
   "execution_count": 36,
   "outputs": []
  },
  {
   "cell_type": "markdown",
   "source": [
    "## Saving Our Excel Output"
   ],
   "metadata": {
    "collapsed": false
   }
  },
  {
   "cell_type": "code",
   "source": [
    "writer.close()"
   ],
   "metadata": {
    "id": "-hdAovwqYIc3",
    "ExecuteTime": {
     "end_time": "2023-10-05T15:17:04.132869871Z",
     "start_time": "2023-10-05T15:17:04.076498006Z"
    }
   },
   "execution_count": 37,
   "outputs": []
  }
 ]
}
