{
 "cells": [
  {
   "cell_type": "code",
   "execution_count": 1,
   "metadata": {
    "ExecuteTime": {
     "end_time": "2023-07-17T13:46:24.474503386Z",
     "start_time": "2023-07-17T13:46:24.144337851Z"
    }
   },
   "outputs": [],
   "source": [
    "import yfinance as yf\n",
    "import pandas as pd\n",
    "import numpy as np\n",
    "import math\n",
    "import xlsxwriter\n",
    "from IPython.display import clear_output"
   ]
  },
  {
   "cell_type": "code",
   "execution_count": 2,
   "metadata": {
    "ExecuteTime": {
     "end_time": "2023-07-17T13:46:24.493078950Z",
     "start_time": "2023-07-17T13:46:24.477351542Z"
    }
   },
   "outputs": [
    {
     "data": {
      "text/plain": "    Ticker\n0        A\n1      AAL\n2      AAP\n3     AAPL\n4     ABBV\n..     ...\n498    YUM\n499    ZBH\n500   ZBRA\n501   ZION\n502    ZTS\n\n[503 rows x 1 columns]",
      "text/html": "<div>\n<style scoped>\n    .dataframe tbody tr th:only-of-type {\n        vertical-align: middle;\n    }\n\n    .dataframe tbody tr th {\n        vertical-align: top;\n    }\n\n    .dataframe thead th {\n        text-align: right;\n    }\n</style>\n<table border=\"1\" class=\"dataframe\">\n  <thead>\n    <tr style=\"text-align: right;\">\n      <th></th>\n      <th>Ticker</th>\n    </tr>\n  </thead>\n  <tbody>\n    <tr>\n      <th>0</th>\n      <td>A</td>\n    </tr>\n    <tr>\n      <th>1</th>\n      <td>AAL</td>\n    </tr>\n    <tr>\n      <th>2</th>\n      <td>AAP</td>\n    </tr>\n    <tr>\n      <th>3</th>\n      <td>AAPL</td>\n    </tr>\n    <tr>\n      <th>4</th>\n      <td>ABBV</td>\n    </tr>\n    <tr>\n      <th>...</th>\n      <td>...</td>\n    </tr>\n    <tr>\n      <th>498</th>\n      <td>YUM</td>\n    </tr>\n    <tr>\n      <th>499</th>\n      <td>ZBH</td>\n    </tr>\n    <tr>\n      <th>500</th>\n      <td>ZBRA</td>\n    </tr>\n    <tr>\n      <th>501</th>\n      <td>ZION</td>\n    </tr>\n    <tr>\n      <th>502</th>\n      <td>ZTS</td>\n    </tr>\n  </tbody>\n</table>\n<p>503 rows × 1 columns</p>\n</div>"
     },
     "execution_count": 2,
     "metadata": {},
     "output_type": "execute_result"
    }
   ],
   "source": [
    "stocks = pd.read_csv('sp500.csv')\n",
    "stocks"
   ]
  },
  {
   "cell_type": "code",
   "execution_count": 3,
   "metadata": {
    "ExecuteTime": {
     "end_time": "2023-07-17T13:46:24.537569753Z",
     "start_time": "2023-07-17T13:46:24.500100339Z"
    }
   },
   "outputs": [
    {
     "data": {
      "text/plain": "Empty DataFrame\nColumns: [Ticker, Stock Price, Market Capitalization, Number of Shares to Buy]\nIndex: []",
      "text/html": "<div>\n<style scoped>\n    .dataframe tbody tr th:only-of-type {\n        vertical-align: middle;\n    }\n\n    .dataframe tbody tr th {\n        vertical-align: top;\n    }\n\n    .dataframe thead th {\n        text-align: right;\n    }\n</style>\n<table border=\"1\" class=\"dataframe\">\n  <thead>\n    <tr style=\"text-align: right;\">\n      <th></th>\n      <th>Ticker</th>\n      <th>Stock Price</th>\n      <th>Market Capitalization</th>\n      <th>Number of Shares to Buy</th>\n    </tr>\n  </thead>\n  <tbody>\n  </tbody>\n</table>\n</div>"
     },
     "execution_count": 3,
     "metadata": {},
     "output_type": "execute_result"
    }
   ],
   "source": [
    "my_columns = ['Ticker', 'Stock Price', 'Market Capitalization', 'Number of Shares to Buy']\n",
    "final_dataframe = pd.DataFrame(columns=my_columns)\n",
    "final_dataframe"
   ]
  },
  {
   "cell_type": "code",
   "execution_count": 4,
   "outputs": [
    {
     "name": "stdout",
     "output_type": "stream",
     "text": [
      "    Ticker  Stock Price Market Capitalization Number of Shares to Buy\n",
      "0        A      118.330           34951843840                     N/A\n",
      "1      AAL       18.340           11973507072                     N/A\n",
      "2      AAP       69.645            4139970304                     N/A\n",
      "3     AAPL      192.610         3029504884736                     N/A\n",
      "4     ABBV      135.140          238426161152                     N/A\n",
      "..     ...          ...                   ...                     ...\n",
      "498    YUM      135.805           38037213184                     N/A\n",
      "499    ZBH      141.600           29564381184                     N/A\n",
      "500   ZBRA      308.000           15840532480                     N/A\n",
      "501   ZION       30.970            4586687488                     N/A\n",
      "502    ZTS      171.420           79215239168                     N/A\n",
      "\n",
      "[503 rows x 4 columns]\n"
     ]
    }
   ],
   "source": [
    "for stock in stocks['Ticker']:\n",
    "    try:\n",
    "        data = yf.Ticker(stock).info\n",
    "        stock_dict = {\n",
    "            'Ticker': [stock],\n",
    "            'Stock Price': [data['currentPrice']],\n",
    "            'Market Capitalization': [data['marketCap']],\n",
    "            'Number of Shares to Buy': ['N/A']\n",
    "        }\n",
    "        df = pd.DataFrame(stock_dict)\n",
    "        final_dataframe = pd.concat([final_dataframe, df], ignore_index=True)\n",
    "    except:\n",
    "        data = yf.Ticker(stock).info\n",
    "        stock_dict = {\n",
    "            'Ticker': [stock],\n",
    "            'Stock Price': [data['currentPrice']],\n",
    "            'Market Capitalization': [data['marketCap']],\n",
    "            'Number of Shares to Buy': ['N/A']\n",
    "        }\n",
    "        df = pd.DataFrame(stock_dict)\n",
    "        final_dataframe = pd.concat([final_dataframe, df], ignore_index=True)\n",
    "\n",
    "    clear_output(wait=True)\n",
    "    print(final_dataframe)"
   ],
   "metadata": {
    "collapsed": false
   }
  },
  {
   "cell_type": "code",
   "execution_count": 5,
   "outputs": [
    {
     "data": {
      "text/plain": "10000000.0"
     },
     "execution_count": 5,
     "metadata": {},
     "output_type": "execute_result"
    }
   ],
   "source": [
    "portfolio_size = float(input(\"Enter your portfolio value: \"))\n",
    "portfolio_size"
   ],
   "metadata": {
    "collapsed": false,
    "ExecuteTime": {
     "end_time": "2023-07-17T13:56:34.818653826Z",
     "start_time": "2023-07-17T13:56:25.976649379Z"
    }
   }
  },
  {
   "cell_type": "code",
   "execution_count": 6,
   "outputs": [
    {
     "data": {
      "text/plain": "19880.715705765408"
     },
     "execution_count": 6,
     "metadata": {},
     "output_type": "execute_result"
    }
   ],
   "source": [
    "position_size = portfolio_size / len(final_dataframe.index)\n",
    "position_size"
   ],
   "metadata": {
    "collapsed": false,
    "ExecuteTime": {
     "end_time": "2023-07-17T13:56:34.819088334Z",
     "start_time": "2023-07-17T13:56:34.768998544Z"
    }
   }
  },
  {
   "cell_type": "code",
   "execution_count": 7,
   "outputs": [
    {
     "data": {
      "text/plain": "    Ticker  Stock Price Market Capitalization Number of Shares to Buy\n0        A      118.330           34951843840                     168\n1      AAL       18.340           11973507072                    1084\n2      AAP       69.645            4139970304                     285\n3     AAPL      192.610         3029504884736                     103\n4     ABBV      135.140          238426161152                     147\n..     ...          ...                   ...                     ...\n498    YUM      135.805           38037213184                     146\n499    ZBH      141.600           29564381184                     140\n500   ZBRA      308.000           15840532480                      64\n501   ZION       30.970            4586687488                     641\n502    ZTS      171.420           79215239168                     115\n\n[503 rows x 4 columns]",
      "text/html": "<div>\n<style scoped>\n    .dataframe tbody tr th:only-of-type {\n        vertical-align: middle;\n    }\n\n    .dataframe tbody tr th {\n        vertical-align: top;\n    }\n\n    .dataframe thead th {\n        text-align: right;\n    }\n</style>\n<table border=\"1\" class=\"dataframe\">\n  <thead>\n    <tr style=\"text-align: right;\">\n      <th></th>\n      <th>Ticker</th>\n      <th>Stock Price</th>\n      <th>Market Capitalization</th>\n      <th>Number of Shares to Buy</th>\n    </tr>\n  </thead>\n  <tbody>\n    <tr>\n      <th>0</th>\n      <td>A</td>\n      <td>118.330</td>\n      <td>34951843840</td>\n      <td>168</td>\n    </tr>\n    <tr>\n      <th>1</th>\n      <td>AAL</td>\n      <td>18.340</td>\n      <td>11973507072</td>\n      <td>1084</td>\n    </tr>\n    <tr>\n      <th>2</th>\n      <td>AAP</td>\n      <td>69.645</td>\n      <td>4139970304</td>\n      <td>285</td>\n    </tr>\n    <tr>\n      <th>3</th>\n      <td>AAPL</td>\n      <td>192.610</td>\n      <td>3029504884736</td>\n      <td>103</td>\n    </tr>\n    <tr>\n      <th>4</th>\n      <td>ABBV</td>\n      <td>135.140</td>\n      <td>238426161152</td>\n      <td>147</td>\n    </tr>\n    <tr>\n      <th>...</th>\n      <td>...</td>\n      <td>...</td>\n      <td>...</td>\n      <td>...</td>\n    </tr>\n    <tr>\n      <th>498</th>\n      <td>YUM</td>\n      <td>135.805</td>\n      <td>38037213184</td>\n      <td>146</td>\n    </tr>\n    <tr>\n      <th>499</th>\n      <td>ZBH</td>\n      <td>141.600</td>\n      <td>29564381184</td>\n      <td>140</td>\n    </tr>\n    <tr>\n      <th>500</th>\n      <td>ZBRA</td>\n      <td>308.000</td>\n      <td>15840532480</td>\n      <td>64</td>\n    </tr>\n    <tr>\n      <th>501</th>\n      <td>ZION</td>\n      <td>30.970</td>\n      <td>4586687488</td>\n      <td>641</td>\n    </tr>\n    <tr>\n      <th>502</th>\n      <td>ZTS</td>\n      <td>171.420</td>\n      <td>79215239168</td>\n      <td>115</td>\n    </tr>\n  </tbody>\n</table>\n<p>503 rows × 4 columns</p>\n</div>"
     },
     "execution_count": 7,
     "metadata": {},
     "output_type": "execute_result"
    }
   ],
   "source": [
    "for i in range(len(final_dataframe.index)):\n",
    "    final_dataframe.loc[i, 'Number of Shares to Buy'] = math.floor(\n",
    "        position_size / final_dataframe.loc[i, 'Stock Price'])\n",
    "\n",
    "final_dataframe"
   ],
   "metadata": {
    "collapsed": false,
    "ExecuteTime": {
     "end_time": "2023-07-17T13:56:34.881097573Z",
     "start_time": "2023-07-17T13:56:34.787609719Z"
    }
   }
  },
  {
   "cell_type": "code",
   "execution_count": 8,
   "outputs": [],
   "source": [
    "writer = pd.ExcelWriter('recommended_trades.xlsx', engine='xlsxwriter')\n",
    "final_dataframe.to_excel(writer, 'Recommended Trades', index=False)"
   ],
   "metadata": {
    "collapsed": false,
    "ExecuteTime": {
     "end_time": "2023-07-17T13:56:34.885709179Z",
     "start_time": "2023-07-17T13:56:34.860008412Z"
    }
   }
  },
  {
   "cell_type": "code",
   "execution_count": 9,
   "outputs": [],
   "source": [
    "bg_color = '#0A0A23'\n",
    "font_color = '#FFFFFF'\n",
    "\n",
    "string_format = writer.book.add_format(\n",
    "    {\n",
    "        'font_color': font_color,\n",
    "        'bg_color': bg_color,\n",
    "        'border': 1\n",
    "    }\n",
    ")\n",
    "\n",
    "dollar_format = writer.book.add_format(\n",
    "    {\n",
    "        'num_format': '$0.00',\n",
    "        'font_color': font_color,\n",
    "        'bg_color': bg_color,\n",
    "        'border': 1\n",
    "    }\n",
    ")\n",
    "\n",
    "integer_format = writer.book.add_format(\n",
    "    {\n",
    "        'num_format': '0',\n",
    "        'font_color': font_color,\n",
    "        'bg_color': bg_color,\n",
    "        'border': 1\n",
    "    }\n",
    ")"
   ],
   "metadata": {
    "collapsed": false,
    "ExecuteTime": {
     "end_time": "2023-07-17T13:56:34.979006591Z",
     "start_time": "2023-07-17T13:56:34.891540640Z"
    }
   }
  },
  {
   "cell_type": "code",
   "execution_count": 10,
   "outputs": [
    {
     "data": {
      "text/plain": "0"
     },
     "execution_count": 10,
     "metadata": {},
     "output_type": "execute_result"
    }
   ],
   "source": [
    "# writer.sheets['Recommended Trades'].set_column('A:A', 18, string_format)\n",
    "# writer.sheets['Recommended Trades'].set_column('B:B', 18, string_format)\n",
    "# writer.sheets['Recommended Trades'].set_column('C:C', 18, string_format)\n",
    "# writer.sheets['Recommended Trades'].set_column('D:D', 18, string_format)\n",
    "# writer.close()\n",
    "\n",
    "# writer.sheets['Recommended Trades'].write('A1', 'Ticker', string_format)\n",
    "# writer.sheets['Recommended Trades'].write('B1', 'Stock Price', dollar_format)\n",
    "# writer.sheets['Recommended Trades'].write('C1', 'Market Capitalization', dollar_format)\n",
    "# writer.sheets['Recommended Trades'].write('D1', 'Number of Shares to Buy', integer_format)"
   ],
   "metadata": {
    "collapsed": false,
    "ExecuteTime": {
     "end_time": "2023-07-17T13:56:34.979426825Z",
     "start_time": "2023-07-17T13:56:34.933290171Z"
    }
   }
  },
  {
   "cell_type": "code",
   "execution_count": 11,
   "outputs": [],
   "source": [
    "column_formats = {\n",
    "    'A': ['Ticker', string_format],\n",
    "    'B': ['Stock Price', dollar_format],\n",
    "    'C': ['Market Capitalization', dollar_format],\n",
    "    'D': ['Number of Shares to Buy', integer_format]\n",
    "}\n",
    "\n",
    "for column in column_formats.keys():\n",
    "    writer.sheets['Recommended Trades'].set_column(f'{column}:{column}', 18, column_formats[column][1])\n",
    "    writer.sheets['Recommended Trades'].write(f'{column}1', column_formats[column][0], column_formats[column][1])\n",
    "\n",
    "writer.close()"
   ],
   "metadata": {
    "collapsed": false,
    "ExecuteTime": {
     "end_time": "2023-07-17T13:56:34.979782607Z",
     "start_time": "2023-07-17T13:56:34.933583079Z"
    }
   }
  }
 ],
 "metadata": {
  "kernelspec": {
   "display_name": "Python 3 (ipykernel)",
   "language": "python",
   "name": "python3"
  },
  "language_info": {
   "codemirror_mode": {
    "name": "ipython",
    "version": 3
   },
   "file_extension": ".py",
   "mimetype": "text/x-python",
   "name": "python",
   "nbconvert_exporter": "python",
   "pygments_lexer": "ipython3",
   "version": "3.10.6"
  }
 },
 "nbformat": 4,
 "nbformat_minor": 1
}
