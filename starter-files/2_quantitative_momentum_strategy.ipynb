{
 "nbformat": 4,
 "nbformat_minor": 0,
 "metadata": {
  "colab": {
   "provenance": []
  },
  "kernelspec": {
   "name": "python3",
   "language": "python",
   "display_name": "Python 3 (ipykernel)"
  },
  "language_info": {
   "name": "python"
  }
 },
 "cells": [
  {
   "cell_type": "code",
   "execution_count": 1,
   "metadata": {
    "id": "q3-WQbudpG4E",
    "ExecuteTime": {
     "end_time": "2023-07-22T16:17:24.612855390Z",
     "start_time": "2023-07-22T16:17:23.899858328Z"
    }
   },
   "outputs": [],
   "source": [
    "import yfinance as yf\n",
    "import numpy as np\n",
    "import pandas as pd\n",
    "import requests\n",
    "import math\n",
    "from scipy.stats import percentileofscore as score\n",
    "from statistics import mean\n",
    "import xlsxwriter\n",
    "from IPython.display import clear_output"
   ]
  },
  {
   "cell_type": "code",
   "source": [
    "stocks = pd.read_csv('sp500.csv')\n",
    "stocks"
   ],
   "metadata": {
    "colab": {
     "base_uri": "https://localhost:8080/",
     "height": 424
    },
    "id": "-iAHKs_6p0gP",
    "outputId": "64813494-bda2-4f98-8f17-06a27155dcbb",
    "ExecuteTime": {
     "end_time": "2023-07-22T16:17:24.627620561Z",
     "start_time": "2023-07-22T16:17:24.613709291Z"
    }
   },
   "execution_count": 2,
   "outputs": [
    {
     "data": {
      "text/plain": "    Ticker\n0        A\n1      AAL\n2      AAP\n3     AAPL\n4     ABBV\n..     ...\n498    YUM\n499    ZBH\n500   ZBRA\n501   ZION\n502    ZTS\n\n[503 rows x 1 columns]",
      "text/html": "<div>\n<style scoped>\n    .dataframe tbody tr th:only-of-type {\n        vertical-align: middle;\n    }\n\n    .dataframe tbody tr th {\n        vertical-align: top;\n    }\n\n    .dataframe thead th {\n        text-align: right;\n    }\n</style>\n<table border=\"1\" class=\"dataframe\">\n  <thead>\n    <tr style=\"text-align: right;\">\n      <th></th>\n      <th>Ticker</th>\n    </tr>\n  </thead>\n  <tbody>\n    <tr>\n      <th>0</th>\n      <td>A</td>\n    </tr>\n    <tr>\n      <th>1</th>\n      <td>AAL</td>\n    </tr>\n    <tr>\n      <th>2</th>\n      <td>AAP</td>\n    </tr>\n    <tr>\n      <th>3</th>\n      <td>AAPL</td>\n    </tr>\n    <tr>\n      <th>4</th>\n      <td>ABBV</td>\n    </tr>\n    <tr>\n      <th>...</th>\n      <td>...</td>\n    </tr>\n    <tr>\n      <th>498</th>\n      <td>YUM</td>\n    </tr>\n    <tr>\n      <th>499</th>\n      <td>ZBH</td>\n    </tr>\n    <tr>\n      <th>500</th>\n      <td>ZBRA</td>\n    </tr>\n    <tr>\n      <th>501</th>\n      <td>ZION</td>\n    </tr>\n    <tr>\n      <th>502</th>\n      <td>ZTS</td>\n    </tr>\n  </tbody>\n</table>\n<p>503 rows × 1 columns</p>\n</div>"
     },
     "execution_count": 2,
     "metadata": {},
     "output_type": "execute_result"
    }
   ]
  },
  {
   "cell_type": "code",
   "source": [
    "my_columns = ['Ticker', 'Stock Price', '1 Year Return', 'Number of Shares to Buy']\n",
    "final_dataframe = pd.DataFrame(columns=my_columns)\n",
    "final_dataframe"
   ],
   "metadata": {
    "colab": {
     "base_uri": "https://localhost:8080/",
     "height": 49
    },
    "id": "dUUIKJDjqaiV",
    "outputId": "e9cba3d3-8459-438c-9722-39ed7c1eacb7",
    "ExecuteTime": {
     "end_time": "2023-07-22T16:17:24.643592165Z",
     "start_time": "2023-07-22T16:17:24.634394788Z"
    }
   },
   "execution_count": 3,
   "outputs": [
    {
     "data": {
      "text/plain": "Empty DataFrame\nColumns: [Ticker, Stock Price, 1 Year Return, Number of Shares to Buy]\nIndex: []",
      "text/html": "<div>\n<style scoped>\n    .dataframe tbody tr th:only-of-type {\n        vertical-align: middle;\n    }\n\n    .dataframe tbody tr th {\n        vertical-align: top;\n    }\n\n    .dataframe thead th {\n        text-align: right;\n    }\n</style>\n<table border=\"1\" class=\"dataframe\">\n  <thead>\n    <tr style=\"text-align: right;\">\n      <th></th>\n      <th>Ticker</th>\n      <th>Stock Price</th>\n      <th>1 Year Return</th>\n      <th>Number of Shares to Buy</th>\n    </tr>\n  </thead>\n  <tbody>\n  </tbody>\n</table>\n</div>"
     },
     "execution_count": 3,
     "metadata": {},
     "output_type": "execute_result"
    }
   ]
  },
  {
   "cell_type": "code",
   "source": [
    "for stock in stocks['Ticker']:\n",
    "    try:\n",
    "        data = yf.Ticker(stock).info\n",
    "        stock_dict = {\n",
    "            'Ticker': [stock],\n",
    "            'Stock Price': [data['currentPrice']],\n",
    "            '1 Year Return': [data['52WeekChange']],\n",
    "            'Number of Shares to Buy': ['N/A']\n",
    "        }\n",
    "        df = pd.DataFrame(stock_dict)\n",
    "        final_dataframe = pd.concat([final_dataframe, df], ignore_index=True)\n",
    "    except:\n",
    "        data = yf.Ticker(stock).info\n",
    "        stock_dict = {\n",
    "            'Ticker': [stock],\n",
    "            'Stock Price': [data['currentPrice']],\n",
    "            '1 Year Return': [0],\n",
    "            'Number of Shares to Buy': ['N/A']\n",
    "        }\n",
    "        df = pd.DataFrame(stock_dict)\n",
    "        final_dataframe = pd.concat([final_dataframe, df], ignore_index=True)\n",
    "\n",
    "    clear_output(wait=True)\n",
    "    print(final_dataframe)"
   ],
   "metadata": {
    "colab": {
     "base_uri": "https://localhost:8080/"
    },
    "id": "OQbNxdVvqd29",
    "outputId": "072e34fe-d425-4e2e-9dbb-7169bc59e824"
   },
   "execution_count": 4,
   "outputs": [
    {
     "name": "stdout",
     "output_type": "stream",
     "text": [
      "    Ticker  Stock Price  1 Year Return Number of Shares to Buy\n",
      "0        A       127.62       2.704012                     N/A\n",
      "1      AAL        17.42      26.690912                     N/A\n",
      "2      AAP        70.73     -62.701046                     N/A\n",
      "3     AAPL       191.94      25.491990                     N/A\n",
      "4     ABBV       143.74      -4.313672                     N/A\n",
      "..     ...          ...            ...                     ...\n",
      "498    YUM       137.54      17.505337                     N/A\n",
      "499    ZBH       142.23      31.816494                     N/A\n",
      "500   ZBRA       306.46      -5.811846                     N/A\n",
      "501   ZION        36.11     -33.240900                     N/A\n",
      "502    ZTS       183.51       4.755104                     N/A\n",
      "\n",
      "[503 rows x 4 columns]\n"
     ]
    }
   ]
  },
  {
   "cell_type": "code",
   "source": [
    "final_dataframe"
   ],
   "metadata": {
    "colab": {
     "base_uri": "https://localhost:8080/",
     "height": 687
    },
    "id": "p0tO7FzXq3fy",
    "outputId": "c59b35a6-9e29-4764-9e31-398ae7bb094e",
    "ExecuteTime": {
     "end_time": "2023-07-22T16:24:33.525499918Z",
     "start_time": "2023-07-22T16:24:33.518600744Z"
    }
   },
   "execution_count": 5,
   "outputs": [
    {
     "data": {
      "text/plain": "    Ticker  Stock Price  1 Year Return Number of Shares to Buy\n0        A       127.62       2.704012                     N/A\n1      AAL        17.42      26.690912                     N/A\n2      AAP        70.73     -62.701046                     N/A\n3     AAPL       191.94      25.491990                     N/A\n4     ABBV       143.74      -4.313672                     N/A\n..     ...          ...            ...                     ...\n498    YUM       137.54      17.505337                     N/A\n499    ZBH       142.23      31.816494                     N/A\n500   ZBRA       306.46      -5.811846                     N/A\n501   ZION        36.11     -33.240900                     N/A\n502    ZTS       183.51       4.755104                     N/A\n\n[503 rows x 4 columns]",
      "text/html": "<div>\n<style scoped>\n    .dataframe tbody tr th:only-of-type {\n        vertical-align: middle;\n    }\n\n    .dataframe tbody tr th {\n        vertical-align: top;\n    }\n\n    .dataframe thead th {\n        text-align: right;\n    }\n</style>\n<table border=\"1\" class=\"dataframe\">\n  <thead>\n    <tr style=\"text-align: right;\">\n      <th></th>\n      <th>Ticker</th>\n      <th>Stock Price</th>\n      <th>1 Year Return</th>\n      <th>Number of Shares to Buy</th>\n    </tr>\n  </thead>\n  <tbody>\n    <tr>\n      <th>0</th>\n      <td>A</td>\n      <td>127.62</td>\n      <td>2.704012</td>\n      <td>N/A</td>\n    </tr>\n    <tr>\n      <th>1</th>\n      <td>AAL</td>\n      <td>17.42</td>\n      <td>26.690912</td>\n      <td>N/A</td>\n    </tr>\n    <tr>\n      <th>2</th>\n      <td>AAP</td>\n      <td>70.73</td>\n      <td>-62.701046</td>\n      <td>N/A</td>\n    </tr>\n    <tr>\n      <th>3</th>\n      <td>AAPL</td>\n      <td>191.94</td>\n      <td>25.491990</td>\n      <td>N/A</td>\n    </tr>\n    <tr>\n      <th>4</th>\n      <td>ABBV</td>\n      <td>143.74</td>\n      <td>-4.313672</td>\n      <td>N/A</td>\n    </tr>\n    <tr>\n      <th>...</th>\n      <td>...</td>\n      <td>...</td>\n      <td>...</td>\n      <td>...</td>\n    </tr>\n    <tr>\n      <th>498</th>\n      <td>YUM</td>\n      <td>137.54</td>\n      <td>17.505337</td>\n      <td>N/A</td>\n    </tr>\n    <tr>\n      <th>499</th>\n      <td>ZBH</td>\n      <td>142.23</td>\n      <td>31.816494</td>\n      <td>N/A</td>\n    </tr>\n    <tr>\n      <th>500</th>\n      <td>ZBRA</td>\n      <td>306.46</td>\n      <td>-5.811846</td>\n      <td>N/A</td>\n    </tr>\n    <tr>\n      <th>501</th>\n      <td>ZION</td>\n      <td>36.11</td>\n      <td>-33.240900</td>\n      <td>N/A</td>\n    </tr>\n    <tr>\n      <th>502</th>\n      <td>ZTS</td>\n      <td>183.51</td>\n      <td>4.755104</td>\n      <td>N/A</td>\n    </tr>\n  </tbody>\n</table>\n<p>503 rows × 4 columns</p>\n</div>"
     },
     "execution_count": 5,
     "metadata": {},
     "output_type": "execute_result"
    }
   ]
  },
  {
   "cell_type": "code",
   "source": [
    "final_dataframe.sort_values('1 Year Return', ascending=False, inplace=True)"
   ],
   "metadata": {
    "id": "Q87eeDwMvIEy",
    "ExecuteTime": {
     "end_time": "2023-07-22T16:24:33.635425361Z",
     "start_time": "2023-07-22T16:24:33.524253631Z"
    }
   },
   "execution_count": 6,
   "outputs": []
  },
  {
   "cell_type": "code",
   "source": [
    "final_dataframe = final_dataframe[:50]\n",
    "final_dataframe.reset_index(drop=True, inplace=True)"
   ],
   "metadata": {
    "id": "0CG3ZGGHvOdY",
    "ExecuteTime": {
     "end_time": "2023-07-22T16:24:33.635652717Z",
     "start_time": "2023-07-22T16:24:33.572119622Z"
    }
   },
   "execution_count": 7,
   "outputs": []
  },
  {
   "cell_type": "code",
   "source": [
    "final_dataframe"
   ],
   "metadata": {
    "colab": {
     "base_uri": "https://localhost:8080/",
     "height": 687
    },
    "id": "M4TtGwp-vQir",
    "outputId": "709bb4b5-2397-4c2f-a357-5b542a2662ae",
    "ExecuteTime": {
     "end_time": "2023-07-22T16:24:33.635872483Z",
     "start_time": "2023-07-22T16:24:33.572393563Z"
    }
   },
   "execution_count": 8,
   "outputs": [
    {
     "data": {
      "text/plain": "   Ticker  Stock Price  1 Year Return Number of Shares to Buy\n0     RCL       102.38     197.443340                     N/A\n1    FSLR       197.91     166.904920                     N/A\n2    NVDA       443.09     160.273740                     N/A\n3      GE       110.33     106.747696                     N/A\n4    NFLX       427.50      95.643220                     N/A\n5     CCL        17.88      94.771240                     N/A\n6    ACGL        82.27      86.637924                     N/A\n7    FICO       844.50      79.795610                     N/A\n8    NCLH        21.03      77.918780                     N/A\n9    AXON       179.96      77.475340                     N/A\n10   META       294.26      76.573654                     N/A\n11    CEG        96.60      75.764190                     N/A\n12   AVGO       896.75      74.767590                     N/A\n13    PHM        78.09      74.697980                     N/A\n14   WYNN       107.18      72.232040                     N/A\n15    DHI       127.58      69.294060                     N/A\n16    PCG        17.96      67.069770                     N/A\n17     ON        98.76      66.430730                     N/A\n18   ANET       171.64      65.899864                     N/A\n19    CAH        93.19      62.692036                     N/A\n20    URI       450.43      62.124325                     N/A\n21    MGM        49.62      61.208580                     N/A\n22    GWW       769.00      59.503853                     N/A\n23   BKNG      2923.24      59.333290                     N/A\n24    UAL        57.61      58.530544                     N/A\n25   DXCM       130.60      58.111380                     N/A\n26    CMG      2098.87      57.943962                     N/A\n27   ORCL       117.65      57.160030                     N/A\n28    LEN       126.65      55.189312                     N/A\n29    SLB        56.01      54.852093                     N/A\n30    DAL        48.55      54.568610                     N/A\n31   ISRG       336.66      53.606785                     N/A\n32   PCAR        87.91      53.277924                     N/A\n33    ROK       337.08      53.246044                     N/A\n34    TDG       887.93      51.492870                     N/A\n35    ETN       207.69      51.487970                     N/A\n36     LW       112.96      50.895000                     N/A\n37   CPRT        91.14      50.831604                     N/A\n38    PWR       201.49      50.725616                     N/A\n39     PH       397.65      48.626423                     N/A\n40   IDXX       554.60      47.672810                     N/A\n41   CSGP        90.68      47.231697                     N/A\n42     IR        65.26      47.114517                     N/A\n43    SYK       295.59      46.687508                     N/A\n44    BKR        35.43      45.204914                     N/A\n45   CDNS       242.86      44.852673                     N/A\n46   PANW       243.82      44.766163                     N/A\n47    LVS        55.97      44.066930                     N/A\n48    AMP       353.87      43.826210                     N/A\n49    HCA       285.14      43.553340                     N/A",
      "text/html": "<div>\n<style scoped>\n    .dataframe tbody tr th:only-of-type {\n        vertical-align: middle;\n    }\n\n    .dataframe tbody tr th {\n        vertical-align: top;\n    }\n\n    .dataframe thead th {\n        text-align: right;\n    }\n</style>\n<table border=\"1\" class=\"dataframe\">\n  <thead>\n    <tr style=\"text-align: right;\">\n      <th></th>\n      <th>Ticker</th>\n      <th>Stock Price</th>\n      <th>1 Year Return</th>\n      <th>Number of Shares to Buy</th>\n    </tr>\n  </thead>\n  <tbody>\n    <tr>\n      <th>0</th>\n      <td>RCL</td>\n      <td>102.38</td>\n      <td>197.443340</td>\n      <td>N/A</td>\n    </tr>\n    <tr>\n      <th>1</th>\n      <td>FSLR</td>\n      <td>197.91</td>\n      <td>166.904920</td>\n      <td>N/A</td>\n    </tr>\n    <tr>\n      <th>2</th>\n      <td>NVDA</td>\n      <td>443.09</td>\n      <td>160.273740</td>\n      <td>N/A</td>\n    </tr>\n    <tr>\n      <th>3</th>\n      <td>GE</td>\n      <td>110.33</td>\n      <td>106.747696</td>\n      <td>N/A</td>\n    </tr>\n    <tr>\n      <th>4</th>\n      <td>NFLX</td>\n      <td>427.50</td>\n      <td>95.643220</td>\n      <td>N/A</td>\n    </tr>\n    <tr>\n      <th>5</th>\n      <td>CCL</td>\n      <td>17.88</td>\n      <td>94.771240</td>\n      <td>N/A</td>\n    </tr>\n    <tr>\n      <th>6</th>\n      <td>ACGL</td>\n      <td>82.27</td>\n      <td>86.637924</td>\n      <td>N/A</td>\n    </tr>\n    <tr>\n      <th>7</th>\n      <td>FICO</td>\n      <td>844.50</td>\n      <td>79.795610</td>\n      <td>N/A</td>\n    </tr>\n    <tr>\n      <th>8</th>\n      <td>NCLH</td>\n      <td>21.03</td>\n      <td>77.918780</td>\n      <td>N/A</td>\n    </tr>\n    <tr>\n      <th>9</th>\n      <td>AXON</td>\n      <td>179.96</td>\n      <td>77.475340</td>\n      <td>N/A</td>\n    </tr>\n    <tr>\n      <th>10</th>\n      <td>META</td>\n      <td>294.26</td>\n      <td>76.573654</td>\n      <td>N/A</td>\n    </tr>\n    <tr>\n      <th>11</th>\n      <td>CEG</td>\n      <td>96.60</td>\n      <td>75.764190</td>\n      <td>N/A</td>\n    </tr>\n    <tr>\n      <th>12</th>\n      <td>AVGO</td>\n      <td>896.75</td>\n      <td>74.767590</td>\n      <td>N/A</td>\n    </tr>\n    <tr>\n      <th>13</th>\n      <td>PHM</td>\n      <td>78.09</td>\n      <td>74.697980</td>\n      <td>N/A</td>\n    </tr>\n    <tr>\n      <th>14</th>\n      <td>WYNN</td>\n      <td>107.18</td>\n      <td>72.232040</td>\n      <td>N/A</td>\n    </tr>\n    <tr>\n      <th>15</th>\n      <td>DHI</td>\n      <td>127.58</td>\n      <td>69.294060</td>\n      <td>N/A</td>\n    </tr>\n    <tr>\n      <th>16</th>\n      <td>PCG</td>\n      <td>17.96</td>\n      <td>67.069770</td>\n      <td>N/A</td>\n    </tr>\n    <tr>\n      <th>17</th>\n      <td>ON</td>\n      <td>98.76</td>\n      <td>66.430730</td>\n      <td>N/A</td>\n    </tr>\n    <tr>\n      <th>18</th>\n      <td>ANET</td>\n      <td>171.64</td>\n      <td>65.899864</td>\n      <td>N/A</td>\n    </tr>\n    <tr>\n      <th>19</th>\n      <td>CAH</td>\n      <td>93.19</td>\n      <td>62.692036</td>\n      <td>N/A</td>\n    </tr>\n    <tr>\n      <th>20</th>\n      <td>URI</td>\n      <td>450.43</td>\n      <td>62.124325</td>\n      <td>N/A</td>\n    </tr>\n    <tr>\n      <th>21</th>\n      <td>MGM</td>\n      <td>49.62</td>\n      <td>61.208580</td>\n      <td>N/A</td>\n    </tr>\n    <tr>\n      <th>22</th>\n      <td>GWW</td>\n      <td>769.00</td>\n      <td>59.503853</td>\n      <td>N/A</td>\n    </tr>\n    <tr>\n      <th>23</th>\n      <td>BKNG</td>\n      <td>2923.24</td>\n      <td>59.333290</td>\n      <td>N/A</td>\n    </tr>\n    <tr>\n      <th>24</th>\n      <td>UAL</td>\n      <td>57.61</td>\n      <td>58.530544</td>\n      <td>N/A</td>\n    </tr>\n    <tr>\n      <th>25</th>\n      <td>DXCM</td>\n      <td>130.60</td>\n      <td>58.111380</td>\n      <td>N/A</td>\n    </tr>\n    <tr>\n      <th>26</th>\n      <td>CMG</td>\n      <td>2098.87</td>\n      <td>57.943962</td>\n      <td>N/A</td>\n    </tr>\n    <tr>\n      <th>27</th>\n      <td>ORCL</td>\n      <td>117.65</td>\n      <td>57.160030</td>\n      <td>N/A</td>\n    </tr>\n    <tr>\n      <th>28</th>\n      <td>LEN</td>\n      <td>126.65</td>\n      <td>55.189312</td>\n      <td>N/A</td>\n    </tr>\n    <tr>\n      <th>29</th>\n      <td>SLB</td>\n      <td>56.01</td>\n      <td>54.852093</td>\n      <td>N/A</td>\n    </tr>\n    <tr>\n      <th>30</th>\n      <td>DAL</td>\n      <td>48.55</td>\n      <td>54.568610</td>\n      <td>N/A</td>\n    </tr>\n    <tr>\n      <th>31</th>\n      <td>ISRG</td>\n      <td>336.66</td>\n      <td>53.606785</td>\n      <td>N/A</td>\n    </tr>\n    <tr>\n      <th>32</th>\n      <td>PCAR</td>\n      <td>87.91</td>\n      <td>53.277924</td>\n      <td>N/A</td>\n    </tr>\n    <tr>\n      <th>33</th>\n      <td>ROK</td>\n      <td>337.08</td>\n      <td>53.246044</td>\n      <td>N/A</td>\n    </tr>\n    <tr>\n      <th>34</th>\n      <td>TDG</td>\n      <td>887.93</td>\n      <td>51.492870</td>\n      <td>N/A</td>\n    </tr>\n    <tr>\n      <th>35</th>\n      <td>ETN</td>\n      <td>207.69</td>\n      <td>51.487970</td>\n      <td>N/A</td>\n    </tr>\n    <tr>\n      <th>36</th>\n      <td>LW</td>\n      <td>112.96</td>\n      <td>50.895000</td>\n      <td>N/A</td>\n    </tr>\n    <tr>\n      <th>37</th>\n      <td>CPRT</td>\n      <td>91.14</td>\n      <td>50.831604</td>\n      <td>N/A</td>\n    </tr>\n    <tr>\n      <th>38</th>\n      <td>PWR</td>\n      <td>201.49</td>\n      <td>50.725616</td>\n      <td>N/A</td>\n    </tr>\n    <tr>\n      <th>39</th>\n      <td>PH</td>\n      <td>397.65</td>\n      <td>48.626423</td>\n      <td>N/A</td>\n    </tr>\n    <tr>\n      <th>40</th>\n      <td>IDXX</td>\n      <td>554.60</td>\n      <td>47.672810</td>\n      <td>N/A</td>\n    </tr>\n    <tr>\n      <th>41</th>\n      <td>CSGP</td>\n      <td>90.68</td>\n      <td>47.231697</td>\n      <td>N/A</td>\n    </tr>\n    <tr>\n      <th>42</th>\n      <td>IR</td>\n      <td>65.26</td>\n      <td>47.114517</td>\n      <td>N/A</td>\n    </tr>\n    <tr>\n      <th>43</th>\n      <td>SYK</td>\n      <td>295.59</td>\n      <td>46.687508</td>\n      <td>N/A</td>\n    </tr>\n    <tr>\n      <th>44</th>\n      <td>BKR</td>\n      <td>35.43</td>\n      <td>45.204914</td>\n      <td>N/A</td>\n    </tr>\n    <tr>\n      <th>45</th>\n      <td>CDNS</td>\n      <td>242.86</td>\n      <td>44.852673</td>\n      <td>N/A</td>\n    </tr>\n    <tr>\n      <th>46</th>\n      <td>PANW</td>\n      <td>243.82</td>\n      <td>44.766163</td>\n      <td>N/A</td>\n    </tr>\n    <tr>\n      <th>47</th>\n      <td>LVS</td>\n      <td>55.97</td>\n      <td>44.066930</td>\n      <td>N/A</td>\n    </tr>\n    <tr>\n      <th>48</th>\n      <td>AMP</td>\n      <td>353.87</td>\n      <td>43.826210</td>\n      <td>N/A</td>\n    </tr>\n    <tr>\n      <th>49</th>\n      <td>HCA</td>\n      <td>285.14</td>\n      <td>43.553340</td>\n      <td>N/A</td>\n    </tr>\n  </tbody>\n</table>\n</div>"
     },
     "execution_count": 8,
     "metadata": {},
     "output_type": "execute_result"
    }
   ]
  },
  {
   "cell_type": "code",
   "source": [
    "# portfolio_size = float(input(\"Enter your portfolio value: \"))\n",
    "portfolio_size = 10000000\n",
    "portfolio_size"
   ],
   "metadata": {
    "colab": {
     "base_uri": "https://localhost:8080/"
    },
    "id": "g1l9P_AEvSzg",
    "outputId": "7c518488-c4a0-4a69-b5fb-c560f1754ec8",
    "ExecuteTime": {
     "end_time": "2023-07-22T16:24:33.636019279Z",
     "start_time": "2023-07-22T16:24:33.572776933Z"
    }
   },
   "execution_count": 9,
   "outputs": [
    {
     "data": {
      "text/plain": "10000000"
     },
     "execution_count": 9,
     "metadata": {},
     "output_type": "execute_result"
    }
   ]
  },
  {
   "cell_type": "code",
   "source": [
    "position_size = portfolio_size / len(final_dataframe.index)\n",
    "position_size"
   ],
   "metadata": {
    "colab": {
     "base_uri": "https://localhost:8080/"
    },
    "id": "2Kr2o8OyvbEP",
    "outputId": "941fbf39-82b9-4868-d6ff-effa56bc8f96",
    "ExecuteTime": {
     "end_time": "2023-07-22T16:24:33.636167496Z",
     "start_time": "2023-07-22T16:24:33.572886174Z"
    }
   },
   "execution_count": 10,
   "outputs": [
    {
     "data": {
      "text/plain": "200000.0"
     },
     "execution_count": 10,
     "metadata": {},
     "output_type": "execute_result"
    }
   ]
  },
  {
   "cell_type": "code",
   "source": [
    "for i in range(len(final_dataframe.index)):\n",
    "    final_dataframe.loc[i, 'Number of Shares to Buy'] = math.floor(\n",
    "        position_size / final_dataframe.loc[i, 'Stock Price'])\n",
    "\n",
    "final_dataframe"
   ],
   "metadata": {
    "colab": {
     "base_uri": "https://localhost:8080/",
     "height": 1000
    },
    "id": "24XzkU0EvdOb",
    "outputId": "5e87f3a8-c797-4117-dc33-28a2b40ce030",
    "ExecuteTime": {
     "end_time": "2023-07-22T16:24:33.724274806Z",
     "start_time": "2023-07-22T16:24:33.618425199Z"
    }
   },
   "execution_count": 11,
   "outputs": [
    {
     "data": {
      "text/plain": "   Ticker  Stock Price  1 Year Return Number of Shares to Buy\n0     RCL       102.38     197.443340                    1953\n1    FSLR       197.91     166.904920                    1010\n2    NVDA       443.09     160.273740                     451\n3      GE       110.33     106.747696                    1812\n4    NFLX       427.50      95.643220                     467\n5     CCL        17.88      94.771240                   11185\n6    ACGL        82.27      86.637924                    2431\n7    FICO       844.50      79.795610                     236\n8    NCLH        21.03      77.918780                    9510\n9    AXON       179.96      77.475340                    1111\n10   META       294.26      76.573654                     679\n11    CEG        96.60      75.764190                    2070\n12   AVGO       896.75      74.767590                     223\n13    PHM        78.09      74.697980                    2561\n14   WYNN       107.18      72.232040                    1866\n15    DHI       127.58      69.294060                    1567\n16    PCG        17.96      67.069770                   11135\n17     ON        98.76      66.430730                    2025\n18   ANET       171.64      65.899864                    1165\n19    CAH        93.19      62.692036                    2146\n20    URI       450.43      62.124325                     444\n21    MGM        49.62      61.208580                    4030\n22    GWW       769.00      59.503853                     260\n23   BKNG      2923.24      59.333290                      68\n24    UAL        57.61      58.530544                    3471\n25   DXCM       130.60      58.111380                    1531\n26    CMG      2098.87      57.943962                      95\n27   ORCL       117.65      57.160030                    1699\n28    LEN       126.65      55.189312                    1579\n29    SLB        56.01      54.852093                    3570\n30    DAL        48.55      54.568610                    4119\n31   ISRG       336.66      53.606785                     594\n32   PCAR        87.91      53.277924                    2275\n33    ROK       337.08      53.246044                     593\n34    TDG       887.93      51.492870                     225\n35    ETN       207.69      51.487970                     962\n36     LW       112.96      50.895000                    1770\n37   CPRT        91.14      50.831604                    2194\n38    PWR       201.49      50.725616                     992\n39     PH       397.65      48.626423                     502\n40   IDXX       554.60      47.672810                     360\n41   CSGP        90.68      47.231697                    2205\n42     IR        65.26      47.114517                    3064\n43    SYK       295.59      46.687508                     676\n44    BKR        35.43      45.204914                    5644\n45   CDNS       242.86      44.852673                     823\n46   PANW       243.82      44.766163                     820\n47    LVS        55.97      44.066930                    3573\n48    AMP       353.87      43.826210                     565\n49    HCA       285.14      43.553340                     701",
      "text/html": "<div>\n<style scoped>\n    .dataframe tbody tr th:only-of-type {\n        vertical-align: middle;\n    }\n\n    .dataframe tbody tr th {\n        vertical-align: top;\n    }\n\n    .dataframe thead th {\n        text-align: right;\n    }\n</style>\n<table border=\"1\" class=\"dataframe\">\n  <thead>\n    <tr style=\"text-align: right;\">\n      <th></th>\n      <th>Ticker</th>\n      <th>Stock Price</th>\n      <th>1 Year Return</th>\n      <th>Number of Shares to Buy</th>\n    </tr>\n  </thead>\n  <tbody>\n    <tr>\n      <th>0</th>\n      <td>RCL</td>\n      <td>102.38</td>\n      <td>197.443340</td>\n      <td>1953</td>\n    </tr>\n    <tr>\n      <th>1</th>\n      <td>FSLR</td>\n      <td>197.91</td>\n      <td>166.904920</td>\n      <td>1010</td>\n    </tr>\n    <tr>\n      <th>2</th>\n      <td>NVDA</td>\n      <td>443.09</td>\n      <td>160.273740</td>\n      <td>451</td>\n    </tr>\n    <tr>\n      <th>3</th>\n      <td>GE</td>\n      <td>110.33</td>\n      <td>106.747696</td>\n      <td>1812</td>\n    </tr>\n    <tr>\n      <th>4</th>\n      <td>NFLX</td>\n      <td>427.50</td>\n      <td>95.643220</td>\n      <td>467</td>\n    </tr>\n    <tr>\n      <th>5</th>\n      <td>CCL</td>\n      <td>17.88</td>\n      <td>94.771240</td>\n      <td>11185</td>\n    </tr>\n    <tr>\n      <th>6</th>\n      <td>ACGL</td>\n      <td>82.27</td>\n      <td>86.637924</td>\n      <td>2431</td>\n    </tr>\n    <tr>\n      <th>7</th>\n      <td>FICO</td>\n      <td>844.50</td>\n      <td>79.795610</td>\n      <td>236</td>\n    </tr>\n    <tr>\n      <th>8</th>\n      <td>NCLH</td>\n      <td>21.03</td>\n      <td>77.918780</td>\n      <td>9510</td>\n    </tr>\n    <tr>\n      <th>9</th>\n      <td>AXON</td>\n      <td>179.96</td>\n      <td>77.475340</td>\n      <td>1111</td>\n    </tr>\n    <tr>\n      <th>10</th>\n      <td>META</td>\n      <td>294.26</td>\n      <td>76.573654</td>\n      <td>679</td>\n    </tr>\n    <tr>\n      <th>11</th>\n      <td>CEG</td>\n      <td>96.60</td>\n      <td>75.764190</td>\n      <td>2070</td>\n    </tr>\n    <tr>\n      <th>12</th>\n      <td>AVGO</td>\n      <td>896.75</td>\n      <td>74.767590</td>\n      <td>223</td>\n    </tr>\n    <tr>\n      <th>13</th>\n      <td>PHM</td>\n      <td>78.09</td>\n      <td>74.697980</td>\n      <td>2561</td>\n    </tr>\n    <tr>\n      <th>14</th>\n      <td>WYNN</td>\n      <td>107.18</td>\n      <td>72.232040</td>\n      <td>1866</td>\n    </tr>\n    <tr>\n      <th>15</th>\n      <td>DHI</td>\n      <td>127.58</td>\n      <td>69.294060</td>\n      <td>1567</td>\n    </tr>\n    <tr>\n      <th>16</th>\n      <td>PCG</td>\n      <td>17.96</td>\n      <td>67.069770</td>\n      <td>11135</td>\n    </tr>\n    <tr>\n      <th>17</th>\n      <td>ON</td>\n      <td>98.76</td>\n      <td>66.430730</td>\n      <td>2025</td>\n    </tr>\n    <tr>\n      <th>18</th>\n      <td>ANET</td>\n      <td>171.64</td>\n      <td>65.899864</td>\n      <td>1165</td>\n    </tr>\n    <tr>\n      <th>19</th>\n      <td>CAH</td>\n      <td>93.19</td>\n      <td>62.692036</td>\n      <td>2146</td>\n    </tr>\n    <tr>\n      <th>20</th>\n      <td>URI</td>\n      <td>450.43</td>\n      <td>62.124325</td>\n      <td>444</td>\n    </tr>\n    <tr>\n      <th>21</th>\n      <td>MGM</td>\n      <td>49.62</td>\n      <td>61.208580</td>\n      <td>4030</td>\n    </tr>\n    <tr>\n      <th>22</th>\n      <td>GWW</td>\n      <td>769.00</td>\n      <td>59.503853</td>\n      <td>260</td>\n    </tr>\n    <tr>\n      <th>23</th>\n      <td>BKNG</td>\n      <td>2923.24</td>\n      <td>59.333290</td>\n      <td>68</td>\n    </tr>\n    <tr>\n      <th>24</th>\n      <td>UAL</td>\n      <td>57.61</td>\n      <td>58.530544</td>\n      <td>3471</td>\n    </tr>\n    <tr>\n      <th>25</th>\n      <td>DXCM</td>\n      <td>130.60</td>\n      <td>58.111380</td>\n      <td>1531</td>\n    </tr>\n    <tr>\n      <th>26</th>\n      <td>CMG</td>\n      <td>2098.87</td>\n      <td>57.943962</td>\n      <td>95</td>\n    </tr>\n    <tr>\n      <th>27</th>\n      <td>ORCL</td>\n      <td>117.65</td>\n      <td>57.160030</td>\n      <td>1699</td>\n    </tr>\n    <tr>\n      <th>28</th>\n      <td>LEN</td>\n      <td>126.65</td>\n      <td>55.189312</td>\n      <td>1579</td>\n    </tr>\n    <tr>\n      <th>29</th>\n      <td>SLB</td>\n      <td>56.01</td>\n      <td>54.852093</td>\n      <td>3570</td>\n    </tr>\n    <tr>\n      <th>30</th>\n      <td>DAL</td>\n      <td>48.55</td>\n      <td>54.568610</td>\n      <td>4119</td>\n    </tr>\n    <tr>\n      <th>31</th>\n      <td>ISRG</td>\n      <td>336.66</td>\n      <td>53.606785</td>\n      <td>594</td>\n    </tr>\n    <tr>\n      <th>32</th>\n      <td>PCAR</td>\n      <td>87.91</td>\n      <td>53.277924</td>\n      <td>2275</td>\n    </tr>\n    <tr>\n      <th>33</th>\n      <td>ROK</td>\n      <td>337.08</td>\n      <td>53.246044</td>\n      <td>593</td>\n    </tr>\n    <tr>\n      <th>34</th>\n      <td>TDG</td>\n      <td>887.93</td>\n      <td>51.492870</td>\n      <td>225</td>\n    </tr>\n    <tr>\n      <th>35</th>\n      <td>ETN</td>\n      <td>207.69</td>\n      <td>51.487970</td>\n      <td>962</td>\n    </tr>\n    <tr>\n      <th>36</th>\n      <td>LW</td>\n      <td>112.96</td>\n      <td>50.895000</td>\n      <td>1770</td>\n    </tr>\n    <tr>\n      <th>37</th>\n      <td>CPRT</td>\n      <td>91.14</td>\n      <td>50.831604</td>\n      <td>2194</td>\n    </tr>\n    <tr>\n      <th>38</th>\n      <td>PWR</td>\n      <td>201.49</td>\n      <td>50.725616</td>\n      <td>992</td>\n    </tr>\n    <tr>\n      <th>39</th>\n      <td>PH</td>\n      <td>397.65</td>\n      <td>48.626423</td>\n      <td>502</td>\n    </tr>\n    <tr>\n      <th>40</th>\n      <td>IDXX</td>\n      <td>554.60</td>\n      <td>47.672810</td>\n      <td>360</td>\n    </tr>\n    <tr>\n      <th>41</th>\n      <td>CSGP</td>\n      <td>90.68</td>\n      <td>47.231697</td>\n      <td>2205</td>\n    </tr>\n    <tr>\n      <th>42</th>\n      <td>IR</td>\n      <td>65.26</td>\n      <td>47.114517</td>\n      <td>3064</td>\n    </tr>\n    <tr>\n      <th>43</th>\n      <td>SYK</td>\n      <td>295.59</td>\n      <td>46.687508</td>\n      <td>676</td>\n    </tr>\n    <tr>\n      <th>44</th>\n      <td>BKR</td>\n      <td>35.43</td>\n      <td>45.204914</td>\n      <td>5644</td>\n    </tr>\n    <tr>\n      <th>45</th>\n      <td>CDNS</td>\n      <td>242.86</td>\n      <td>44.852673</td>\n      <td>823</td>\n    </tr>\n    <tr>\n      <th>46</th>\n      <td>PANW</td>\n      <td>243.82</td>\n      <td>44.766163</td>\n      <td>820</td>\n    </tr>\n    <tr>\n      <th>47</th>\n      <td>LVS</td>\n      <td>55.97</td>\n      <td>44.066930</td>\n      <td>3573</td>\n    </tr>\n    <tr>\n      <th>48</th>\n      <td>AMP</td>\n      <td>353.87</td>\n      <td>43.826210</td>\n      <td>565</td>\n    </tr>\n    <tr>\n      <th>49</th>\n      <td>HCA</td>\n      <td>285.14</td>\n      <td>43.553340</td>\n      <td>701</td>\n    </tr>\n  </tbody>\n</table>\n</div>"
     },
     "execution_count": 11,
     "metadata": {},
     "output_type": "execute_result"
    }
   ]
  },
  {
   "cell_type": "code",
   "source": [
    "hqm_columns = [\n",
    "    'Ticker',\n",
    "    'Stock Price',\n",
    "    'Number of Shares to Buy',\n",
    "    '1 Year Return',\n",
    "    '1 Year Return Percentile',\n",
    "    '6 Months Return',\n",
    "    '6 Months Return Percentile',\n",
    "    '3 Months Return',\n",
    "    '3 Months Return Percentile',\n",
    "    '1 Month Return',\n",
    "    '1 Month Return Percentile',\n",
    "    'HQM Score'\n",
    "]\n",
    "\n",
    "hqm_dataframe = pd.DataFrame(columns=hqm_columns)\n",
    "\n",
    "for stock in stocks['Ticker']:\n",
    "    try:\n",
    "        data = yf.Ticker(stock).info\n",
    "        price_6mo = yf.Ticker(stock).history(period='6mo')\n",
    "        price_3mo = yf.Ticker(stock).history(period='3mo')\n",
    "        price_1mo = yf.Ticker(stock).history(period='1mo')\n",
    "        stock_dict = {\n",
    "            'Ticker': [stock],\n",
    "            'Stock Price': [data['currentPrice']],\n",
    "            'Number of Shares to Buy': ['N/A'],\n",
    "            '1 Year Return': [data['52WeekChange']],\n",
    "            '1 Year Return Percentile': ['N/A'],\n",
    "            '6 Months Return': [((price_6mo['Close'][-1] - price_6mo['Close'][0]) / price_6mo['Close'][0]) * 100],\n",
    "            '6 Months Return Percentile': ['N/A'],\n",
    "            '3 Months Return': [((price_3mo['Close'][-1] - price_3mo['Close'][0]) / price_3mo['Close'][0]) * 100],\n",
    "            '3 Months Return Percentile': ['N/A'],\n",
    "            '1 Month Return': [((price_1mo['Close'][-1] - price_1mo['Close'][0]) / price_1mo['Close'][0]) * 100],\n",
    "            '1 Month Return Percentile': ['N/A'],\n",
    "            'HQM Score': ['N/A']\n",
    "        }\n",
    "        df = pd.DataFrame(stock_dict)\n",
    "        hqm_dataframe = pd.concat([hqm_dataframe, df], ignore_index=True)\n",
    "    except:\n",
    "        data = yf.Ticker(stock).info\n",
    "        # price_6mo = yf.Ticker(stock).history(period='6mo')\n",
    "        # price_3mo = yf.Ticker(stock).history(period='3mo')\n",
    "        # price_1mo = yf.Ticker(stock).history(period='1mo')\n",
    "        stock_dict = {\n",
    "            'Ticker': [stock],\n",
    "            'Stock Price': [data['currentPrice']],\n",
    "            'Number of Shares to Buy': ['N/A'],\n",
    "            '1 Year Return': [0],\n",
    "            '1 Year Return Percentile': ['N/A'],\n",
    "            '6 Months Return': [0],\n",
    "            '6 Months Return Percentile': ['N/A'],\n",
    "            '3 Months Return': [0],\n",
    "            '3 Months Return Percentile': ['N/A'],\n",
    "            '1 Month Return': [0],\n",
    "            '1 Month Return Percentile': ['N/A'],\n",
    "            'HQM Score': ['N/A']\n",
    "        }\n",
    "        df = pd.DataFrame(stock_dict)\n",
    "        hqm_dataframe = pd.concat([hqm_dataframe, df], ignore_index=True)\n",
    "\n",
    "    clear_output(wait=True)\n",
    "    print(hqm_dataframe['Ticker'])"
   ],
   "metadata": {
    "colab": {
     "base_uri": "https://localhost:8080/"
    },
    "id": "K2rDM_RBvfyH",
    "outputId": "a3da2022-a797-4fcc-87d5-51e9b0b0afd2"
   },
   "execution_count": 12,
   "outputs": [
    {
     "name": "stdout",
     "output_type": "stream",
     "text": [
      "0         A\n",
      "1       AAL\n",
      "2       AAP\n",
      "3      AAPL\n",
      "4      ABBV\n",
      "       ... \n",
      "498     YUM\n",
      "499     ZBH\n",
      "500    ZBRA\n",
      "501    ZION\n",
      "502     ZTS\n",
      "Name: Ticker, Length: 503, dtype: object\n"
     ]
    }
   ]
  },
  {
   "cell_type": "code",
   "source": [
    "hqm_dataframe"
   ],
   "metadata": {
    "colab": {
     "base_uri": "https://localhost:8080/",
     "height": 485
    },
    "id": "D-YxN7Xtv7sP",
    "outputId": "e73982ca-27a2-499b-a8b7-f3b6f76c299d",
    "ExecuteTime": {
     "end_time": "2023-07-22T16:46:10.516349776Z",
     "start_time": "2023-07-22T16:46:10.474086384Z"
    }
   },
   "execution_count": 13,
   "outputs": [
    {
     "data": {
      "text/plain": "    Ticker  Stock Price Number of Shares to Buy  1 Year Return  \\\n0        A       127.62                     N/A       2.704012   \n1      AAL        17.42                     N/A      26.690912   \n2      AAP        70.73                     N/A     -62.701046   \n3     AAPL       191.94                     N/A      25.491990   \n4     ABBV       143.74                     N/A      -4.313672   \n..     ...          ...                     ...            ...   \n498    YUM       137.54                     N/A      17.505337   \n499    ZBH       142.23                     N/A      31.816494   \n500   ZBRA       306.46                     N/A      -5.811846   \n501   ZION        36.11                     N/A     -33.240900   \n502    ZTS       183.51                     N/A       4.755104   \n\n    1 Year Return Percentile  6 Months Return 6 Months Return Percentile  \\\n0                        N/A       -19.481950                        N/A   \n1                        N/A         7.730365                        N/A   \n2                        N/A       -51.642266                        N/A   \n3                        N/A        36.417649                        N/A   \n4                        N/A        -1.265232                        N/A   \n..                       ...              ...                        ...   \n498                      N/A         9.590149                        N/A   \n499                      N/A        13.338391                        N/A   \n500                      N/A        -3.556149                        N/A   \n501                      N/A       -29.663833                        N/A   \n502                      N/A        10.529881                        N/A   \n\n     3 Months Return 3 Months Return Percentile  1 Month Return  \\\n0          -7.666292                        N/A        7.738212   \n1          30.780784                        N/A        6.479214   \n2         -44.034680                        N/A        4.429622   \n3          16.255662                        N/A        2.641713   \n4         -11.425202                        N/A        5.766332   \n..               ...                        ...             ...   \n498        -0.517070                        N/A        0.880150   \n499         3.131958                        N/A       -1.461827   \n500         6.339564                        N/A       14.389156   \n501        29.975418                        N/A       33.889513   \n502         4.288950                        N/A        8.082727   \n\n    1 Month Return Percentile HQM Score  \n0                         N/A       N/A  \n1                         N/A       N/A  \n2                         N/A       N/A  \n3                         N/A       N/A  \n4                         N/A       N/A  \n..                        ...       ...  \n498                       N/A       N/A  \n499                       N/A       N/A  \n500                       N/A       N/A  \n501                       N/A       N/A  \n502                       N/A       N/A  \n\n[503 rows x 12 columns]",
      "text/html": "<div>\n<style scoped>\n    .dataframe tbody tr th:only-of-type {\n        vertical-align: middle;\n    }\n\n    .dataframe tbody tr th {\n        vertical-align: top;\n    }\n\n    .dataframe thead th {\n        text-align: right;\n    }\n</style>\n<table border=\"1\" class=\"dataframe\">\n  <thead>\n    <tr style=\"text-align: right;\">\n      <th></th>\n      <th>Ticker</th>\n      <th>Stock Price</th>\n      <th>Number of Shares to Buy</th>\n      <th>1 Year Return</th>\n      <th>1 Year Return Percentile</th>\n      <th>6 Months Return</th>\n      <th>6 Months Return Percentile</th>\n      <th>3 Months Return</th>\n      <th>3 Months Return Percentile</th>\n      <th>1 Month Return</th>\n      <th>1 Month Return Percentile</th>\n      <th>HQM Score</th>\n    </tr>\n  </thead>\n  <tbody>\n    <tr>\n      <th>0</th>\n      <td>A</td>\n      <td>127.62</td>\n      <td>N/A</td>\n      <td>2.704012</td>\n      <td>N/A</td>\n      <td>-19.481950</td>\n      <td>N/A</td>\n      <td>-7.666292</td>\n      <td>N/A</td>\n      <td>7.738212</td>\n      <td>N/A</td>\n      <td>N/A</td>\n    </tr>\n    <tr>\n      <th>1</th>\n      <td>AAL</td>\n      <td>17.42</td>\n      <td>N/A</td>\n      <td>26.690912</td>\n      <td>N/A</td>\n      <td>7.730365</td>\n      <td>N/A</td>\n      <td>30.780784</td>\n      <td>N/A</td>\n      <td>6.479214</td>\n      <td>N/A</td>\n      <td>N/A</td>\n    </tr>\n    <tr>\n      <th>2</th>\n      <td>AAP</td>\n      <td>70.73</td>\n      <td>N/A</td>\n      <td>-62.701046</td>\n      <td>N/A</td>\n      <td>-51.642266</td>\n      <td>N/A</td>\n      <td>-44.034680</td>\n      <td>N/A</td>\n      <td>4.429622</td>\n      <td>N/A</td>\n      <td>N/A</td>\n    </tr>\n    <tr>\n      <th>3</th>\n      <td>AAPL</td>\n      <td>191.94</td>\n      <td>N/A</td>\n      <td>25.491990</td>\n      <td>N/A</td>\n      <td>36.417649</td>\n      <td>N/A</td>\n      <td>16.255662</td>\n      <td>N/A</td>\n      <td>2.641713</td>\n      <td>N/A</td>\n      <td>N/A</td>\n    </tr>\n    <tr>\n      <th>4</th>\n      <td>ABBV</td>\n      <td>143.74</td>\n      <td>N/A</td>\n      <td>-4.313672</td>\n      <td>N/A</td>\n      <td>-1.265232</td>\n      <td>N/A</td>\n      <td>-11.425202</td>\n      <td>N/A</td>\n      <td>5.766332</td>\n      <td>N/A</td>\n      <td>N/A</td>\n    </tr>\n    <tr>\n      <th>...</th>\n      <td>...</td>\n      <td>...</td>\n      <td>...</td>\n      <td>...</td>\n      <td>...</td>\n      <td>...</td>\n      <td>...</td>\n      <td>...</td>\n      <td>...</td>\n      <td>...</td>\n      <td>...</td>\n      <td>...</td>\n    </tr>\n    <tr>\n      <th>498</th>\n      <td>YUM</td>\n      <td>137.54</td>\n      <td>N/A</td>\n      <td>17.505337</td>\n      <td>N/A</td>\n      <td>9.590149</td>\n      <td>N/A</td>\n      <td>-0.517070</td>\n      <td>N/A</td>\n      <td>0.880150</td>\n      <td>N/A</td>\n      <td>N/A</td>\n    </tr>\n    <tr>\n      <th>499</th>\n      <td>ZBH</td>\n      <td>142.23</td>\n      <td>N/A</td>\n      <td>31.816494</td>\n      <td>N/A</td>\n      <td>13.338391</td>\n      <td>N/A</td>\n      <td>3.131958</td>\n      <td>N/A</td>\n      <td>-1.461827</td>\n      <td>N/A</td>\n      <td>N/A</td>\n    </tr>\n    <tr>\n      <th>500</th>\n      <td>ZBRA</td>\n      <td>306.46</td>\n      <td>N/A</td>\n      <td>-5.811846</td>\n      <td>N/A</td>\n      <td>-3.556149</td>\n      <td>N/A</td>\n      <td>6.339564</td>\n      <td>N/A</td>\n      <td>14.389156</td>\n      <td>N/A</td>\n      <td>N/A</td>\n    </tr>\n    <tr>\n      <th>501</th>\n      <td>ZION</td>\n      <td>36.11</td>\n      <td>N/A</td>\n      <td>-33.240900</td>\n      <td>N/A</td>\n      <td>-29.663833</td>\n      <td>N/A</td>\n      <td>29.975418</td>\n      <td>N/A</td>\n      <td>33.889513</td>\n      <td>N/A</td>\n      <td>N/A</td>\n    </tr>\n    <tr>\n      <th>502</th>\n      <td>ZTS</td>\n      <td>183.51</td>\n      <td>N/A</td>\n      <td>4.755104</td>\n      <td>N/A</td>\n      <td>10.529881</td>\n      <td>N/A</td>\n      <td>4.288950</td>\n      <td>N/A</td>\n      <td>8.082727</td>\n      <td>N/A</td>\n      <td>N/A</td>\n    </tr>\n  </tbody>\n</table>\n<p>503 rows × 12 columns</p>\n</div>"
     },
     "execution_count": 13,
     "metadata": {},
     "output_type": "execute_result"
    }
   ]
  },
  {
   "cell_type": "code",
   "source": [
    "time_periods = [\n",
    "    '1 Year',\n",
    "    '6 Months',\n",
    "    '3 Months',\n",
    "    '1 Month'\n",
    "]\n",
    "\n",
    "for row in hqm_dataframe.index:\n",
    "    for time_period in time_periods:\n",
    "        change_col = f'{time_period} Return'\n",
    "        percentile_col = f'{time_period} Return Percentile'\n",
    "        hqm_dataframe.loc[row, f'{time_period} Return Percentile'] = score(hqm_dataframe[change_col],\n",
    "                                                                           hqm_dataframe.loc[row, change_col])"
   ],
   "metadata": {
    "id": "QR1RmX3x0llg",
    "ExecuteTime": {
     "end_time": "2023-07-22T16:46:10.982712463Z",
     "start_time": "2023-07-22T16:46:10.516059844Z"
    }
   },
   "execution_count": 14,
   "outputs": []
  },
  {
   "cell_type": "code",
   "source": [
    "hqm_dataframe"
   ],
   "metadata": {
    "colab": {
     "base_uri": "https://localhost:8080/",
     "height": 485
    },
    "id": "QPwmMOnh3bRl",
    "outputId": "f80f01f1-037c-4957-b224-6bd09f15ebde",
    "ExecuteTime": {
     "end_time": "2023-07-22T16:46:11.003329149Z",
     "start_time": "2023-07-22T16:46:10.997590274Z"
    }
   },
   "execution_count": 15,
   "outputs": [
    {
     "data": {
      "text/plain": "    Ticker  Stock Price Number of Shares to Buy  1 Year Return  \\\n0        A       127.62                     N/A       2.704012   \n1      AAL        17.42                     N/A      26.690912   \n2      AAP        70.73                     N/A     -62.701046   \n3     AAPL       191.94                     N/A      25.491990   \n4     ABBV       143.74                     N/A      -4.313672   \n..     ...          ...                     ...            ...   \n498    YUM       137.54                     N/A      17.505337   \n499    ZBH       142.23                     N/A      31.816494   \n500   ZBRA       306.46                     N/A      -5.811846   \n501   ZION        36.11                     N/A     -33.240900   \n502    ZTS       183.51                     N/A       4.755104   \n\n    1 Year Return Percentile  6 Months Return 6 Months Return Percentile  \\\n0                  39.562624       -19.481950                   4.970179   \n1                  76.540755         7.730365                  60.437376   \n2                   0.198807       -51.642266                   0.198807   \n3                  75.745527        36.417649                  96.023857   \n4                  26.640159        -1.265232                  33.996024   \n..                       ...              ...                        ...   \n498                66.600398         9.590149                  65.407555   \n499                81.312127        13.338391                  73.161034   \n500                 23.06163        -3.556149                  28.628231   \n501                 2.982107       -29.663833                   2.186879   \n502                44.930417        10.529881                  67.594433   \n\n     3 Months Return 3 Months Return Percentile  1 Month Return  \\\n0          -7.666292                   9.940358        7.738212   \n1          30.780784                  97.415507        6.479214   \n2         -44.034680                   0.198807        4.429622   \n3          16.255662                  81.709742        2.641713   \n4         -11.425202                   5.964215        5.766332   \n..               ...                        ...             ...   \n498        -0.517070                  27.037773        0.880150   \n499         3.131958                  40.159046       -1.461827   \n500         6.339564                  50.695825       14.389156   \n501        29.975418                  96.620278       33.889513   \n502         4.288950                  43.737575        8.082727   \n\n    1 Month Return Percentile HQM Score  \n0                   70.178926       N/A  \n1                   62.624254       N/A  \n2                   44.333996       N/A  \n3                   29.821074       N/A  \n4                   55.467197       N/A  \n..                        ...       ...  \n498                 18.290258       N/A  \n499                 10.139165       N/A  \n500                 94.234592       N/A  \n501                     100.0       N/A  \n502                 72.166998       N/A  \n\n[503 rows x 12 columns]",
      "text/html": "<div>\n<style scoped>\n    .dataframe tbody tr th:only-of-type {\n        vertical-align: middle;\n    }\n\n    .dataframe tbody tr th {\n        vertical-align: top;\n    }\n\n    .dataframe thead th {\n        text-align: right;\n    }\n</style>\n<table border=\"1\" class=\"dataframe\">\n  <thead>\n    <tr style=\"text-align: right;\">\n      <th></th>\n      <th>Ticker</th>\n      <th>Stock Price</th>\n      <th>Number of Shares to Buy</th>\n      <th>1 Year Return</th>\n      <th>1 Year Return Percentile</th>\n      <th>6 Months Return</th>\n      <th>6 Months Return Percentile</th>\n      <th>3 Months Return</th>\n      <th>3 Months Return Percentile</th>\n      <th>1 Month Return</th>\n      <th>1 Month Return Percentile</th>\n      <th>HQM Score</th>\n    </tr>\n  </thead>\n  <tbody>\n    <tr>\n      <th>0</th>\n      <td>A</td>\n      <td>127.62</td>\n      <td>N/A</td>\n      <td>2.704012</td>\n      <td>39.562624</td>\n      <td>-19.481950</td>\n      <td>4.970179</td>\n      <td>-7.666292</td>\n      <td>9.940358</td>\n      <td>7.738212</td>\n      <td>70.178926</td>\n      <td>N/A</td>\n    </tr>\n    <tr>\n      <th>1</th>\n      <td>AAL</td>\n      <td>17.42</td>\n      <td>N/A</td>\n      <td>26.690912</td>\n      <td>76.540755</td>\n      <td>7.730365</td>\n      <td>60.437376</td>\n      <td>30.780784</td>\n      <td>97.415507</td>\n      <td>6.479214</td>\n      <td>62.624254</td>\n      <td>N/A</td>\n    </tr>\n    <tr>\n      <th>2</th>\n      <td>AAP</td>\n      <td>70.73</td>\n      <td>N/A</td>\n      <td>-62.701046</td>\n      <td>0.198807</td>\n      <td>-51.642266</td>\n      <td>0.198807</td>\n      <td>-44.034680</td>\n      <td>0.198807</td>\n      <td>4.429622</td>\n      <td>44.333996</td>\n      <td>N/A</td>\n    </tr>\n    <tr>\n      <th>3</th>\n      <td>AAPL</td>\n      <td>191.94</td>\n      <td>N/A</td>\n      <td>25.491990</td>\n      <td>75.745527</td>\n      <td>36.417649</td>\n      <td>96.023857</td>\n      <td>16.255662</td>\n      <td>81.709742</td>\n      <td>2.641713</td>\n      <td>29.821074</td>\n      <td>N/A</td>\n    </tr>\n    <tr>\n      <th>4</th>\n      <td>ABBV</td>\n      <td>143.74</td>\n      <td>N/A</td>\n      <td>-4.313672</td>\n      <td>26.640159</td>\n      <td>-1.265232</td>\n      <td>33.996024</td>\n      <td>-11.425202</td>\n      <td>5.964215</td>\n      <td>5.766332</td>\n      <td>55.467197</td>\n      <td>N/A</td>\n    </tr>\n    <tr>\n      <th>...</th>\n      <td>...</td>\n      <td>...</td>\n      <td>...</td>\n      <td>...</td>\n      <td>...</td>\n      <td>...</td>\n      <td>...</td>\n      <td>...</td>\n      <td>...</td>\n      <td>...</td>\n      <td>...</td>\n      <td>...</td>\n    </tr>\n    <tr>\n      <th>498</th>\n      <td>YUM</td>\n      <td>137.54</td>\n      <td>N/A</td>\n      <td>17.505337</td>\n      <td>66.600398</td>\n      <td>9.590149</td>\n      <td>65.407555</td>\n      <td>-0.517070</td>\n      <td>27.037773</td>\n      <td>0.880150</td>\n      <td>18.290258</td>\n      <td>N/A</td>\n    </tr>\n    <tr>\n      <th>499</th>\n      <td>ZBH</td>\n      <td>142.23</td>\n      <td>N/A</td>\n      <td>31.816494</td>\n      <td>81.312127</td>\n      <td>13.338391</td>\n      <td>73.161034</td>\n      <td>3.131958</td>\n      <td>40.159046</td>\n      <td>-1.461827</td>\n      <td>10.139165</td>\n      <td>N/A</td>\n    </tr>\n    <tr>\n      <th>500</th>\n      <td>ZBRA</td>\n      <td>306.46</td>\n      <td>N/A</td>\n      <td>-5.811846</td>\n      <td>23.06163</td>\n      <td>-3.556149</td>\n      <td>28.628231</td>\n      <td>6.339564</td>\n      <td>50.695825</td>\n      <td>14.389156</td>\n      <td>94.234592</td>\n      <td>N/A</td>\n    </tr>\n    <tr>\n      <th>501</th>\n      <td>ZION</td>\n      <td>36.11</td>\n      <td>N/A</td>\n      <td>-33.240900</td>\n      <td>2.982107</td>\n      <td>-29.663833</td>\n      <td>2.186879</td>\n      <td>29.975418</td>\n      <td>96.620278</td>\n      <td>33.889513</td>\n      <td>100.0</td>\n      <td>N/A</td>\n    </tr>\n    <tr>\n      <th>502</th>\n      <td>ZTS</td>\n      <td>183.51</td>\n      <td>N/A</td>\n      <td>4.755104</td>\n      <td>44.930417</td>\n      <td>10.529881</td>\n      <td>67.594433</td>\n      <td>4.288950</td>\n      <td>43.737575</td>\n      <td>8.082727</td>\n      <td>72.166998</td>\n      <td>N/A</td>\n    </tr>\n  </tbody>\n</table>\n<p>503 rows × 12 columns</p>\n</div>"
     },
     "execution_count": 15,
     "metadata": {},
     "output_type": "execute_result"
    }
   ]
  },
  {
   "cell_type": "code",
   "source": [
    "for row in hqm_dataframe.index:\n",
    "    momentum_percentiles = []\n",
    "    for time_period in time_periods:\n",
    "        momentum_percentiles.append(hqm_dataframe.loc[row, f'{time_period} Return Percentile'])\n",
    "    hqm_dataframe.loc[row, 'HQM Score'] = mean(momentum_percentiles)"
   ],
   "metadata": {
    "id": "v3BO-yAY3dM2",
    "ExecuteTime": {
     "end_time": "2023-07-22T16:46:11.139397516Z",
     "start_time": "2023-07-22T16:46:11.002035594Z"
    }
   },
   "execution_count": 16,
   "outputs": []
  },
  {
   "cell_type": "code",
   "source": [
    "hqm_dataframe"
   ],
   "metadata": {
    "colab": {
     "base_uri": "https://localhost:8080/",
     "height": 485
    },
    "id": "U79rv9Bo700D",
    "outputId": "8b5dd20a-d349-484c-bef5-de7b2e71bcef",
    "ExecuteTime": {
     "end_time": "2023-07-22T16:46:11.184338177Z",
     "start_time": "2023-07-22T16:46:11.141969409Z"
    }
   },
   "execution_count": 17,
   "outputs": [
    {
     "data": {
      "text/plain": "    Ticker  Stock Price Number of Shares to Buy  1 Year Return  \\\n0        A       127.62                     N/A       2.704012   \n1      AAL        17.42                     N/A      26.690912   \n2      AAP        70.73                     N/A     -62.701046   \n3     AAPL       191.94                     N/A      25.491990   \n4     ABBV       143.74                     N/A      -4.313672   \n..     ...          ...                     ...            ...   \n498    YUM       137.54                     N/A      17.505337   \n499    ZBH       142.23                     N/A      31.816494   \n500   ZBRA       306.46                     N/A      -5.811846   \n501   ZION        36.11                     N/A     -33.240900   \n502    ZTS       183.51                     N/A       4.755104   \n\n    1 Year Return Percentile  6 Months Return 6 Months Return Percentile  \\\n0                  39.562624       -19.481950                   4.970179   \n1                  76.540755         7.730365                  60.437376   \n2                   0.198807       -51.642266                   0.198807   \n3                  75.745527        36.417649                  96.023857   \n4                  26.640159        -1.265232                  33.996024   \n..                       ...              ...                        ...   \n498                66.600398         9.590149                  65.407555   \n499                81.312127        13.338391                  73.161034   \n500                 23.06163        -3.556149                  28.628231   \n501                 2.982107       -29.663833                   2.186879   \n502                44.930417        10.529881                  67.594433   \n\n     3 Months Return 3 Months Return Percentile  1 Month Return  \\\n0          -7.666292                   9.940358        7.738212   \n1          30.780784                  97.415507        6.479214   \n2         -44.034680                   0.198807        4.429622   \n3          16.255662                  81.709742        2.641713   \n4         -11.425202                   5.964215        5.766332   \n..               ...                        ...             ...   \n498        -0.517070                  27.037773        0.880150   \n499         3.131958                  40.159046       -1.461827   \n500         6.339564                  50.695825       14.389156   \n501        29.975418                  96.620278       33.889513   \n502         4.288950                  43.737575        8.082727   \n\n    1 Month Return Percentile  HQM Score  \n0                   70.178926  31.163022  \n1                   62.624254  74.254473  \n2                   44.333996  11.232604  \n3                   29.821074   70.82505  \n4                   55.467197  30.516899  \n..                        ...        ...  \n498                 18.290258  44.333996  \n499                 10.139165  51.192843  \n500                 94.234592   49.15507  \n501                     100.0  50.447316  \n502                 72.166998  57.107356  \n\n[503 rows x 12 columns]",
      "text/html": "<div>\n<style scoped>\n    .dataframe tbody tr th:only-of-type {\n        vertical-align: middle;\n    }\n\n    .dataframe tbody tr th {\n        vertical-align: top;\n    }\n\n    .dataframe thead th {\n        text-align: right;\n    }\n</style>\n<table border=\"1\" class=\"dataframe\">\n  <thead>\n    <tr style=\"text-align: right;\">\n      <th></th>\n      <th>Ticker</th>\n      <th>Stock Price</th>\n      <th>Number of Shares to Buy</th>\n      <th>1 Year Return</th>\n      <th>1 Year Return Percentile</th>\n      <th>6 Months Return</th>\n      <th>6 Months Return Percentile</th>\n      <th>3 Months Return</th>\n      <th>3 Months Return Percentile</th>\n      <th>1 Month Return</th>\n      <th>1 Month Return Percentile</th>\n      <th>HQM Score</th>\n    </tr>\n  </thead>\n  <tbody>\n    <tr>\n      <th>0</th>\n      <td>A</td>\n      <td>127.62</td>\n      <td>N/A</td>\n      <td>2.704012</td>\n      <td>39.562624</td>\n      <td>-19.481950</td>\n      <td>4.970179</td>\n      <td>-7.666292</td>\n      <td>9.940358</td>\n      <td>7.738212</td>\n      <td>70.178926</td>\n      <td>31.163022</td>\n    </tr>\n    <tr>\n      <th>1</th>\n      <td>AAL</td>\n      <td>17.42</td>\n      <td>N/A</td>\n      <td>26.690912</td>\n      <td>76.540755</td>\n      <td>7.730365</td>\n      <td>60.437376</td>\n      <td>30.780784</td>\n      <td>97.415507</td>\n      <td>6.479214</td>\n      <td>62.624254</td>\n      <td>74.254473</td>\n    </tr>\n    <tr>\n      <th>2</th>\n      <td>AAP</td>\n      <td>70.73</td>\n      <td>N/A</td>\n      <td>-62.701046</td>\n      <td>0.198807</td>\n      <td>-51.642266</td>\n      <td>0.198807</td>\n      <td>-44.034680</td>\n      <td>0.198807</td>\n      <td>4.429622</td>\n      <td>44.333996</td>\n      <td>11.232604</td>\n    </tr>\n    <tr>\n      <th>3</th>\n      <td>AAPL</td>\n      <td>191.94</td>\n      <td>N/A</td>\n      <td>25.491990</td>\n      <td>75.745527</td>\n      <td>36.417649</td>\n      <td>96.023857</td>\n      <td>16.255662</td>\n      <td>81.709742</td>\n      <td>2.641713</td>\n      <td>29.821074</td>\n      <td>70.82505</td>\n    </tr>\n    <tr>\n      <th>4</th>\n      <td>ABBV</td>\n      <td>143.74</td>\n      <td>N/A</td>\n      <td>-4.313672</td>\n      <td>26.640159</td>\n      <td>-1.265232</td>\n      <td>33.996024</td>\n      <td>-11.425202</td>\n      <td>5.964215</td>\n      <td>5.766332</td>\n      <td>55.467197</td>\n      <td>30.516899</td>\n    </tr>\n    <tr>\n      <th>...</th>\n      <td>...</td>\n      <td>...</td>\n      <td>...</td>\n      <td>...</td>\n      <td>...</td>\n      <td>...</td>\n      <td>...</td>\n      <td>...</td>\n      <td>...</td>\n      <td>...</td>\n      <td>...</td>\n      <td>...</td>\n    </tr>\n    <tr>\n      <th>498</th>\n      <td>YUM</td>\n      <td>137.54</td>\n      <td>N/A</td>\n      <td>17.505337</td>\n      <td>66.600398</td>\n      <td>9.590149</td>\n      <td>65.407555</td>\n      <td>-0.517070</td>\n      <td>27.037773</td>\n      <td>0.880150</td>\n      <td>18.290258</td>\n      <td>44.333996</td>\n    </tr>\n    <tr>\n      <th>499</th>\n      <td>ZBH</td>\n      <td>142.23</td>\n      <td>N/A</td>\n      <td>31.816494</td>\n      <td>81.312127</td>\n      <td>13.338391</td>\n      <td>73.161034</td>\n      <td>3.131958</td>\n      <td>40.159046</td>\n      <td>-1.461827</td>\n      <td>10.139165</td>\n      <td>51.192843</td>\n    </tr>\n    <tr>\n      <th>500</th>\n      <td>ZBRA</td>\n      <td>306.46</td>\n      <td>N/A</td>\n      <td>-5.811846</td>\n      <td>23.06163</td>\n      <td>-3.556149</td>\n      <td>28.628231</td>\n      <td>6.339564</td>\n      <td>50.695825</td>\n      <td>14.389156</td>\n      <td>94.234592</td>\n      <td>49.15507</td>\n    </tr>\n    <tr>\n      <th>501</th>\n      <td>ZION</td>\n      <td>36.11</td>\n      <td>N/A</td>\n      <td>-33.240900</td>\n      <td>2.982107</td>\n      <td>-29.663833</td>\n      <td>2.186879</td>\n      <td>29.975418</td>\n      <td>96.620278</td>\n      <td>33.889513</td>\n      <td>100.0</td>\n      <td>50.447316</td>\n    </tr>\n    <tr>\n      <th>502</th>\n      <td>ZTS</td>\n      <td>183.51</td>\n      <td>N/A</td>\n      <td>4.755104</td>\n      <td>44.930417</td>\n      <td>10.529881</td>\n      <td>67.594433</td>\n      <td>4.288950</td>\n      <td>43.737575</td>\n      <td>8.082727</td>\n      <td>72.166998</td>\n      <td>57.107356</td>\n    </tr>\n  </tbody>\n</table>\n<p>503 rows × 12 columns</p>\n</div>"
     },
     "execution_count": 17,
     "metadata": {},
     "output_type": "execute_result"
    }
   ]
  },
  {
   "cell_type": "code",
   "source": [
    "hqm_dataframe.sort_values('HQM Score', ascending=False, inplace=True)"
   ],
   "metadata": {
    "id": "0-E9hfvqAovr",
    "ExecuteTime": {
     "end_time": "2023-07-22T16:46:11.184482538Z",
     "start_time": "2023-07-22T16:46:11.183993860Z"
    }
   },
   "execution_count": 18,
   "outputs": []
  },
  {
   "cell_type": "code",
   "source": [
    "hqm_dataframe = hqm_dataframe[:50]\n",
    "hqm_dataframe.reset_index(drop=True, inplace=True)"
   ],
   "metadata": {
    "id": "P9TdkLNRBZWG",
    "ExecuteTime": {
     "end_time": "2023-07-22T16:46:11.187138373Z",
     "start_time": "2023-07-22T16:46:11.184586328Z"
    }
   },
   "execution_count": 19,
   "outputs": []
  },
  {
   "cell_type": "code",
   "source": [
    "hqm_dataframe"
   ],
   "metadata": {
    "colab": {
     "base_uri": "https://localhost:8080/",
     "height": 1000
    },
    "id": "emZwm-N7Bk2-",
    "outputId": "9c4a1cec-23b1-4b0c-83c3-03826bbed1bf",
    "ExecuteTime": {
     "end_time": "2023-07-22T16:46:11.207910177Z",
     "start_time": "2023-07-22T16:46:11.184681077Z"
    }
   },
   "execution_count": 20,
   "outputs": [
    {
     "data": {
      "text/plain": "   Ticker  Stock Price Number of Shares to Buy  1 Year Return  \\\n0     CCL        17.88                     N/A      94.771240   \n1      ON        98.76                     N/A      66.430730   \n2    NCLH        21.03                     N/A      77.918780   \n3     DAL        48.55                     N/A      54.568610   \n4    PCAR        87.91                     N/A      53.277924   \n5    CARR        53.75                     N/A      40.596390   \n6     CZR        57.73                     N/A      36.865818   \n7     BKR        35.43                     N/A      45.204914   \n8     PNR        66.34                     N/A      41.329360   \n9    ACGL        82.27                     N/A      86.637924   \n10   ADBE       520.23                     N/A      32.725273   \n11    RCL       102.38                     N/A     197.443340   \n12    URI       450.43                     N/A      62.124325   \n13    UAL        57.61                     N/A      58.530544   \n14    MGM        49.62                     N/A      61.208580   \n15   FICO       844.50                     N/A      79.795610   \n16     PH       397.65                     N/A      48.626423   \n17   ANET       171.64                     N/A      65.899864   \n18    CEG        96.60                     N/A      75.764190   \n19   ODFL       394.49                     N/A      43.164574   \n20    ETN       207.69                     N/A      51.487970   \n21    DHI       127.58                     N/A      69.294060   \n22    PWR       201.49                     N/A      50.725616   \n23    ROK       337.08                     N/A      53.246044   \n24   FTNT        78.16                     N/A      28.131151   \n25    IRM        61.89                     N/A      31.624842   \n26   NXPI       213.30                     N/A      22.494686   \n27   NVDA       443.09                     N/A     160.273740   \n28   META       294.26                     N/A      76.573654   \n29   SNPS       454.00                     N/A      34.450794   \n30    HWM        49.91                     N/A      43.296005   \n31   CDNS       242.86                     N/A      44.852673   \n32    CRM       228.06                     N/A      28.636694   \n33   MCHP        89.72                     N/A      38.885452   \n34    NOW       582.02                     N/A      32.277275   \n35    BWA        46.14                     N/A      42.976105   \n36   NTAP        79.51                     N/A      14.948678   \n37    MLM       457.89                     N/A      38.615930   \n38    PHM        78.09                     N/A      74.697980   \n39   BKNG      2923.24                     N/A      59.333290   \n40    VMC       222.30                     N/A      42.135548   \n41    FDX       259.67                     N/A      13.805496   \n42   IDXX       554.60                     N/A      47.672810   \n43    AOS        75.99                     N/A      28.971481   \n44    GWW       769.00                     N/A      59.503853   \n45   CSGP        90.68                     N/A      47.231697   \n46    JPM       154.95                     N/A      34.481857   \n47   SPGI       423.29                     N/A      19.563316   \n48    STZ       269.50                     N/A      11.979055   \n49    LYV        96.84                     N/A       4.986989   \n\n   1 Year Return Percentile  6 Months Return 6 Months Return Percentile  \\\n0                 99.005964        66.791033                  99.403579   \n1                 96.819085        39.491522                  96.819085   \n2                 98.409543        35.502578                  95.626243   \n3                 94.234592        24.493278                  88.667992   \n4                 93.836978        29.852491                  92.047714   \n5                 88.469185        25.233453                  89.662028   \n6                  86.67992        14.680174                  76.341948   \n7                 91.650099        17.323621                  82.107356   \n8                 88.866799        32.512310                  94.234592   \n9                 98.807157        30.318383                  92.445328   \n10                82.107356        42.536568                  97.614314   \n11                    100.0        61.533600                  99.005964   \n12                96.222664        15.775278                  78.926441   \n13                95.427435        16.903413                  81.510934   \n14                96.023857        24.360895                  88.071571   \n15                 98.60835        29.933069                  92.246521   \n16                92.644135        28.636773                  91.451292   \n17                96.620278        44.041620                  98.011928   \n18                97.813121        15.629182                  78.528827   \n19                89.662028        22.485244                   86.67992   \n20                93.240557        32.007232                  93.836978   \n21                  97.2167        33.985230                  94.831014   \n22                92.842942        34.853662                  95.228628   \n23                93.638171        23.326513                  87.077535   \n24                77.932406        54.741648                  98.807157   \n25                 81.11332        21.212120                  85.884692   \n26                73.359841        24.659734                  88.866799   \n27                99.602386       130.923334                      100.0   \n28                98.011928       105.388428                  99.801193   \n29                84.294235        29.592104                  91.650099   \n30                90.059642        26.816322                  90.457256   \n31                91.451292        32.413716                  94.035785   \n32                78.131213        46.314239                  98.409543   \n33                87.276342        18.652861                  83.300199   \n34                81.510934        31.547784                  93.439364   \n35                89.463221        18.280884                   82.50497   \n36                62.624254        20.389318                  85.089463   \n37                87.077535        31.683866                  93.638171   \n38                97.614314        53.708764                   98.60835   \n39                95.626243        21.721529                  86.083499   \n40                89.264414        24.448158                  88.469185   \n41                60.437376        37.371323                  96.222664   \n42                92.445328        11.782956                  69.980119   \n43                79.324056        27.404918                  90.656064   \n44                 95.82505        37.641596                  96.421471   \n45                92.246521        15.149207                  77.335984   \n46                84.493042        14.546904                  75.745527   \n47                69.184891        14.755713                  76.739563   \n48                58.250497        21.200779                  85.685885   \n49                45.328032        27.521719                  90.854871   \n\n    3 Months Return 3 Months Return Percentile  1 Month Return  \\\n0         92.672410                      100.0       13.451770   \n1         32.777636                  98.011928       11.028674   \n2         61.149428                  99.403579       10.220130   \n3         42.590778                  98.807157       13.302229   \n4         19.578339                  87.872763       12.546413   \n5         29.265541                  96.222664       12.306727   \n6         31.713432                  97.813121       24.418098   \n7         18.158529                   86.67992       17.512440   \n8         23.306342                  92.445328       10.510979   \n9         13.460204                  74.552684       13.303947   \n10        37.867702                  98.210736        8.930440   \n11        64.044220                  99.801193        5.102139   \n12        17.930748                  85.884692       11.916414   \n13        31.140451                  97.614314        8.595667   \n14        10.882679                  65.805169       16.752939   \n15        18.350244                  86.878728        7.326686   \n16        23.686714                   93.04175        7.180395   \n17         9.632091                  61.033797       12.007304   \n18        25.428992                  94.234592        8.235292   \n19        11.441655                  68.190855       19.213679   \n20        27.453355                  95.626243        6.180980   \n21        17.846150                   85.28827        6.645494   \n22        19.791268                  88.270378        6.477614   \n23        22.630009                  91.650099        7.016311   \n24        17.977364                  86.083499        8.767051   \n25        15.115958                  79.125249       12.835007   \n26        26.227801                  94.632207        9.581305   \n27        63.869474                  99.602386        2.984311   \n28        38.286583                  98.409543        3.292616   \n29        20.850742                  89.463221        6.540256   \n30        15.448810                  80.119284        7.195014   \n31        14.029489                  76.739563        6.986784   \n32        17.001847                  84.095427        6.924846   \n33        16.683086                  82.902584        7.940325   \n34        23.048630                  92.246521        5.846841   \n35         7.063970                  54.075547       14.169117   \n36        26.436878                  95.029821        9.083473   \n37        28.790901                   95.82505        4.250720   \n38        22.548230                  91.451292        2.682437   \n39         9.088740                  59.244533        9.161660   \n40        29.976991                  96.819085        4.146173   \n41        12.479445                  72.564612       11.479853   \n42        10.124897                  61.829026       13.017602   \n43        10.750497                  64.612326       10.066623   \n44        14.190131                  77.335984        4.493635   \n45        29.063475                  96.023857        4.953702   \n46        10.860609                  65.606362       11.773986   \n47        22.062424                  90.656064        9.027926   \n48        20.578272                  88.667992        9.878907   \n49        44.107144                  99.005964        9.054046   \n\n   1 Month Return Percentile  HQM Score  \n0                  92.047714  97.614314  \n1                  84.691849  94.085487  \n2                   81.11332  93.638171  \n3                  91.252485  93.240557  \n4                  90.258449  91.003976  \n5                  89.065606  90.854871  \n6                  99.403579  90.059642  \n7                  97.017893  89.363817  \n8                  81.709742  89.314115  \n9                  91.451292  89.314115  \n10                  75.54672  88.369781  \n11                 50.298211  87.276342  \n12                 87.475149  87.127237  \n13                 73.558648  87.027833  \n14                 96.222664  86.530815  \n15                 68.389662  86.530815  \n16                 67.196819  86.083499  \n17                 88.469185  86.033797  \n18                 72.763419   85.83499  \n19                 97.813121  85.586481  \n20                 59.244533  85.487078  \n21                  63.61829  85.238569  \n22                 62.425447  84.691849  \n23                 66.003976  84.592445  \n24                 74.751491  84.393638  \n25                 90.457256  84.145129  \n26                 78.727634   83.89662  \n27                 32.803181  83.001988  \n28                  34.99006  82.803181  \n29                 63.021869  82.107356  \n30                 67.594433  82.057654  \n31                 65.805169  82.007952  \n32                 65.208748  81.461233  \n33                 71.172962  81.163022  \n34                 56.262425  80.864811  \n35                 93.439364  79.870775  \n36                 76.540755  79.821074  \n37                 42.147117  79.671968  \n38                 30.417495  79.522863  \n39                  76.93837  79.473161  \n40                 41.153082  78.926441  \n41                 86.083499  78.827038  \n42                 90.854871  78.777336  \n43                 80.318091  78.727634  \n44                 44.930417  78.628231  \n45                 48.707753  78.578529  \n46                 87.077535  78.230616  \n47                 76.143141  78.180915  \n48                 79.522863  78.031809  \n49                 76.341948  77.882704  ",
      "text/html": "<div>\n<style scoped>\n    .dataframe tbody tr th:only-of-type {\n        vertical-align: middle;\n    }\n\n    .dataframe tbody tr th {\n        vertical-align: top;\n    }\n\n    .dataframe thead th {\n        text-align: right;\n    }\n</style>\n<table border=\"1\" class=\"dataframe\">\n  <thead>\n    <tr style=\"text-align: right;\">\n      <th></th>\n      <th>Ticker</th>\n      <th>Stock Price</th>\n      <th>Number of Shares to Buy</th>\n      <th>1 Year Return</th>\n      <th>1 Year Return Percentile</th>\n      <th>6 Months Return</th>\n      <th>6 Months Return Percentile</th>\n      <th>3 Months Return</th>\n      <th>3 Months Return Percentile</th>\n      <th>1 Month Return</th>\n      <th>1 Month Return Percentile</th>\n      <th>HQM Score</th>\n    </tr>\n  </thead>\n  <tbody>\n    <tr>\n      <th>0</th>\n      <td>CCL</td>\n      <td>17.88</td>\n      <td>N/A</td>\n      <td>94.771240</td>\n      <td>99.005964</td>\n      <td>66.791033</td>\n      <td>99.403579</td>\n      <td>92.672410</td>\n      <td>100.0</td>\n      <td>13.451770</td>\n      <td>92.047714</td>\n      <td>97.614314</td>\n    </tr>\n    <tr>\n      <th>1</th>\n      <td>ON</td>\n      <td>98.76</td>\n      <td>N/A</td>\n      <td>66.430730</td>\n      <td>96.819085</td>\n      <td>39.491522</td>\n      <td>96.819085</td>\n      <td>32.777636</td>\n      <td>98.011928</td>\n      <td>11.028674</td>\n      <td>84.691849</td>\n      <td>94.085487</td>\n    </tr>\n    <tr>\n      <th>2</th>\n      <td>NCLH</td>\n      <td>21.03</td>\n      <td>N/A</td>\n      <td>77.918780</td>\n      <td>98.409543</td>\n      <td>35.502578</td>\n      <td>95.626243</td>\n      <td>61.149428</td>\n      <td>99.403579</td>\n      <td>10.220130</td>\n      <td>81.11332</td>\n      <td>93.638171</td>\n    </tr>\n    <tr>\n      <th>3</th>\n      <td>DAL</td>\n      <td>48.55</td>\n      <td>N/A</td>\n      <td>54.568610</td>\n      <td>94.234592</td>\n      <td>24.493278</td>\n      <td>88.667992</td>\n      <td>42.590778</td>\n      <td>98.807157</td>\n      <td>13.302229</td>\n      <td>91.252485</td>\n      <td>93.240557</td>\n    </tr>\n    <tr>\n      <th>4</th>\n      <td>PCAR</td>\n      <td>87.91</td>\n      <td>N/A</td>\n      <td>53.277924</td>\n      <td>93.836978</td>\n      <td>29.852491</td>\n      <td>92.047714</td>\n      <td>19.578339</td>\n      <td>87.872763</td>\n      <td>12.546413</td>\n      <td>90.258449</td>\n      <td>91.003976</td>\n    </tr>\n    <tr>\n      <th>5</th>\n      <td>CARR</td>\n      <td>53.75</td>\n      <td>N/A</td>\n      <td>40.596390</td>\n      <td>88.469185</td>\n      <td>25.233453</td>\n      <td>89.662028</td>\n      <td>29.265541</td>\n      <td>96.222664</td>\n      <td>12.306727</td>\n      <td>89.065606</td>\n      <td>90.854871</td>\n    </tr>\n    <tr>\n      <th>6</th>\n      <td>CZR</td>\n      <td>57.73</td>\n      <td>N/A</td>\n      <td>36.865818</td>\n      <td>86.67992</td>\n      <td>14.680174</td>\n      <td>76.341948</td>\n      <td>31.713432</td>\n      <td>97.813121</td>\n      <td>24.418098</td>\n      <td>99.403579</td>\n      <td>90.059642</td>\n    </tr>\n    <tr>\n      <th>7</th>\n      <td>BKR</td>\n      <td>35.43</td>\n      <td>N/A</td>\n      <td>45.204914</td>\n      <td>91.650099</td>\n      <td>17.323621</td>\n      <td>82.107356</td>\n      <td>18.158529</td>\n      <td>86.67992</td>\n      <td>17.512440</td>\n      <td>97.017893</td>\n      <td>89.363817</td>\n    </tr>\n    <tr>\n      <th>8</th>\n      <td>PNR</td>\n      <td>66.34</td>\n      <td>N/A</td>\n      <td>41.329360</td>\n      <td>88.866799</td>\n      <td>32.512310</td>\n      <td>94.234592</td>\n      <td>23.306342</td>\n      <td>92.445328</td>\n      <td>10.510979</td>\n      <td>81.709742</td>\n      <td>89.314115</td>\n    </tr>\n    <tr>\n      <th>9</th>\n      <td>ACGL</td>\n      <td>82.27</td>\n      <td>N/A</td>\n      <td>86.637924</td>\n      <td>98.807157</td>\n      <td>30.318383</td>\n      <td>92.445328</td>\n      <td>13.460204</td>\n      <td>74.552684</td>\n      <td>13.303947</td>\n      <td>91.451292</td>\n      <td>89.314115</td>\n    </tr>\n    <tr>\n      <th>10</th>\n      <td>ADBE</td>\n      <td>520.23</td>\n      <td>N/A</td>\n      <td>32.725273</td>\n      <td>82.107356</td>\n      <td>42.536568</td>\n      <td>97.614314</td>\n      <td>37.867702</td>\n      <td>98.210736</td>\n      <td>8.930440</td>\n      <td>75.54672</td>\n      <td>88.369781</td>\n    </tr>\n    <tr>\n      <th>11</th>\n      <td>RCL</td>\n      <td>102.38</td>\n      <td>N/A</td>\n      <td>197.443340</td>\n      <td>100.0</td>\n      <td>61.533600</td>\n      <td>99.005964</td>\n      <td>64.044220</td>\n      <td>99.801193</td>\n      <td>5.102139</td>\n      <td>50.298211</td>\n      <td>87.276342</td>\n    </tr>\n    <tr>\n      <th>12</th>\n      <td>URI</td>\n      <td>450.43</td>\n      <td>N/A</td>\n      <td>62.124325</td>\n      <td>96.222664</td>\n      <td>15.775278</td>\n      <td>78.926441</td>\n      <td>17.930748</td>\n      <td>85.884692</td>\n      <td>11.916414</td>\n      <td>87.475149</td>\n      <td>87.127237</td>\n    </tr>\n    <tr>\n      <th>13</th>\n      <td>UAL</td>\n      <td>57.61</td>\n      <td>N/A</td>\n      <td>58.530544</td>\n      <td>95.427435</td>\n      <td>16.903413</td>\n      <td>81.510934</td>\n      <td>31.140451</td>\n      <td>97.614314</td>\n      <td>8.595667</td>\n      <td>73.558648</td>\n      <td>87.027833</td>\n    </tr>\n    <tr>\n      <th>14</th>\n      <td>MGM</td>\n      <td>49.62</td>\n      <td>N/A</td>\n      <td>61.208580</td>\n      <td>96.023857</td>\n      <td>24.360895</td>\n      <td>88.071571</td>\n      <td>10.882679</td>\n      <td>65.805169</td>\n      <td>16.752939</td>\n      <td>96.222664</td>\n      <td>86.530815</td>\n    </tr>\n    <tr>\n      <th>15</th>\n      <td>FICO</td>\n      <td>844.50</td>\n      <td>N/A</td>\n      <td>79.795610</td>\n      <td>98.60835</td>\n      <td>29.933069</td>\n      <td>92.246521</td>\n      <td>18.350244</td>\n      <td>86.878728</td>\n      <td>7.326686</td>\n      <td>68.389662</td>\n      <td>86.530815</td>\n    </tr>\n    <tr>\n      <th>16</th>\n      <td>PH</td>\n      <td>397.65</td>\n      <td>N/A</td>\n      <td>48.626423</td>\n      <td>92.644135</td>\n      <td>28.636773</td>\n      <td>91.451292</td>\n      <td>23.686714</td>\n      <td>93.04175</td>\n      <td>7.180395</td>\n      <td>67.196819</td>\n      <td>86.083499</td>\n    </tr>\n    <tr>\n      <th>17</th>\n      <td>ANET</td>\n      <td>171.64</td>\n      <td>N/A</td>\n      <td>65.899864</td>\n      <td>96.620278</td>\n      <td>44.041620</td>\n      <td>98.011928</td>\n      <td>9.632091</td>\n      <td>61.033797</td>\n      <td>12.007304</td>\n      <td>88.469185</td>\n      <td>86.033797</td>\n    </tr>\n    <tr>\n      <th>18</th>\n      <td>CEG</td>\n      <td>96.60</td>\n      <td>N/A</td>\n      <td>75.764190</td>\n      <td>97.813121</td>\n      <td>15.629182</td>\n      <td>78.528827</td>\n      <td>25.428992</td>\n      <td>94.234592</td>\n      <td>8.235292</td>\n      <td>72.763419</td>\n      <td>85.83499</td>\n    </tr>\n    <tr>\n      <th>19</th>\n      <td>ODFL</td>\n      <td>394.49</td>\n      <td>N/A</td>\n      <td>43.164574</td>\n      <td>89.662028</td>\n      <td>22.485244</td>\n      <td>86.67992</td>\n      <td>11.441655</td>\n      <td>68.190855</td>\n      <td>19.213679</td>\n      <td>97.813121</td>\n      <td>85.586481</td>\n    </tr>\n    <tr>\n      <th>20</th>\n      <td>ETN</td>\n      <td>207.69</td>\n      <td>N/A</td>\n      <td>51.487970</td>\n      <td>93.240557</td>\n      <td>32.007232</td>\n      <td>93.836978</td>\n      <td>27.453355</td>\n      <td>95.626243</td>\n      <td>6.180980</td>\n      <td>59.244533</td>\n      <td>85.487078</td>\n    </tr>\n    <tr>\n      <th>21</th>\n      <td>DHI</td>\n      <td>127.58</td>\n      <td>N/A</td>\n      <td>69.294060</td>\n      <td>97.2167</td>\n      <td>33.985230</td>\n      <td>94.831014</td>\n      <td>17.846150</td>\n      <td>85.28827</td>\n      <td>6.645494</td>\n      <td>63.61829</td>\n      <td>85.238569</td>\n    </tr>\n    <tr>\n      <th>22</th>\n      <td>PWR</td>\n      <td>201.49</td>\n      <td>N/A</td>\n      <td>50.725616</td>\n      <td>92.842942</td>\n      <td>34.853662</td>\n      <td>95.228628</td>\n      <td>19.791268</td>\n      <td>88.270378</td>\n      <td>6.477614</td>\n      <td>62.425447</td>\n      <td>84.691849</td>\n    </tr>\n    <tr>\n      <th>23</th>\n      <td>ROK</td>\n      <td>337.08</td>\n      <td>N/A</td>\n      <td>53.246044</td>\n      <td>93.638171</td>\n      <td>23.326513</td>\n      <td>87.077535</td>\n      <td>22.630009</td>\n      <td>91.650099</td>\n      <td>7.016311</td>\n      <td>66.003976</td>\n      <td>84.592445</td>\n    </tr>\n    <tr>\n      <th>24</th>\n      <td>FTNT</td>\n      <td>78.16</td>\n      <td>N/A</td>\n      <td>28.131151</td>\n      <td>77.932406</td>\n      <td>54.741648</td>\n      <td>98.807157</td>\n      <td>17.977364</td>\n      <td>86.083499</td>\n      <td>8.767051</td>\n      <td>74.751491</td>\n      <td>84.393638</td>\n    </tr>\n    <tr>\n      <th>25</th>\n      <td>IRM</td>\n      <td>61.89</td>\n      <td>N/A</td>\n      <td>31.624842</td>\n      <td>81.11332</td>\n      <td>21.212120</td>\n      <td>85.884692</td>\n      <td>15.115958</td>\n      <td>79.125249</td>\n      <td>12.835007</td>\n      <td>90.457256</td>\n      <td>84.145129</td>\n    </tr>\n    <tr>\n      <th>26</th>\n      <td>NXPI</td>\n      <td>213.30</td>\n      <td>N/A</td>\n      <td>22.494686</td>\n      <td>73.359841</td>\n      <td>24.659734</td>\n      <td>88.866799</td>\n      <td>26.227801</td>\n      <td>94.632207</td>\n      <td>9.581305</td>\n      <td>78.727634</td>\n      <td>83.89662</td>\n    </tr>\n    <tr>\n      <th>27</th>\n      <td>NVDA</td>\n      <td>443.09</td>\n      <td>N/A</td>\n      <td>160.273740</td>\n      <td>99.602386</td>\n      <td>130.923334</td>\n      <td>100.0</td>\n      <td>63.869474</td>\n      <td>99.602386</td>\n      <td>2.984311</td>\n      <td>32.803181</td>\n      <td>83.001988</td>\n    </tr>\n    <tr>\n      <th>28</th>\n      <td>META</td>\n      <td>294.26</td>\n      <td>N/A</td>\n      <td>76.573654</td>\n      <td>98.011928</td>\n      <td>105.388428</td>\n      <td>99.801193</td>\n      <td>38.286583</td>\n      <td>98.409543</td>\n      <td>3.292616</td>\n      <td>34.99006</td>\n      <td>82.803181</td>\n    </tr>\n    <tr>\n      <th>29</th>\n      <td>SNPS</td>\n      <td>454.00</td>\n      <td>N/A</td>\n      <td>34.450794</td>\n      <td>84.294235</td>\n      <td>29.592104</td>\n      <td>91.650099</td>\n      <td>20.850742</td>\n      <td>89.463221</td>\n      <td>6.540256</td>\n      <td>63.021869</td>\n      <td>82.107356</td>\n    </tr>\n    <tr>\n      <th>30</th>\n      <td>HWM</td>\n      <td>49.91</td>\n      <td>N/A</td>\n      <td>43.296005</td>\n      <td>90.059642</td>\n      <td>26.816322</td>\n      <td>90.457256</td>\n      <td>15.448810</td>\n      <td>80.119284</td>\n      <td>7.195014</td>\n      <td>67.594433</td>\n      <td>82.057654</td>\n    </tr>\n    <tr>\n      <th>31</th>\n      <td>CDNS</td>\n      <td>242.86</td>\n      <td>N/A</td>\n      <td>44.852673</td>\n      <td>91.451292</td>\n      <td>32.413716</td>\n      <td>94.035785</td>\n      <td>14.029489</td>\n      <td>76.739563</td>\n      <td>6.986784</td>\n      <td>65.805169</td>\n      <td>82.007952</td>\n    </tr>\n    <tr>\n      <th>32</th>\n      <td>CRM</td>\n      <td>228.06</td>\n      <td>N/A</td>\n      <td>28.636694</td>\n      <td>78.131213</td>\n      <td>46.314239</td>\n      <td>98.409543</td>\n      <td>17.001847</td>\n      <td>84.095427</td>\n      <td>6.924846</td>\n      <td>65.208748</td>\n      <td>81.461233</td>\n    </tr>\n    <tr>\n      <th>33</th>\n      <td>MCHP</td>\n      <td>89.72</td>\n      <td>N/A</td>\n      <td>38.885452</td>\n      <td>87.276342</td>\n      <td>18.652861</td>\n      <td>83.300199</td>\n      <td>16.683086</td>\n      <td>82.902584</td>\n      <td>7.940325</td>\n      <td>71.172962</td>\n      <td>81.163022</td>\n    </tr>\n    <tr>\n      <th>34</th>\n      <td>NOW</td>\n      <td>582.02</td>\n      <td>N/A</td>\n      <td>32.277275</td>\n      <td>81.510934</td>\n      <td>31.547784</td>\n      <td>93.439364</td>\n      <td>23.048630</td>\n      <td>92.246521</td>\n      <td>5.846841</td>\n      <td>56.262425</td>\n      <td>80.864811</td>\n    </tr>\n    <tr>\n      <th>35</th>\n      <td>BWA</td>\n      <td>46.14</td>\n      <td>N/A</td>\n      <td>42.976105</td>\n      <td>89.463221</td>\n      <td>18.280884</td>\n      <td>82.50497</td>\n      <td>7.063970</td>\n      <td>54.075547</td>\n      <td>14.169117</td>\n      <td>93.439364</td>\n      <td>79.870775</td>\n    </tr>\n    <tr>\n      <th>36</th>\n      <td>NTAP</td>\n      <td>79.51</td>\n      <td>N/A</td>\n      <td>14.948678</td>\n      <td>62.624254</td>\n      <td>20.389318</td>\n      <td>85.089463</td>\n      <td>26.436878</td>\n      <td>95.029821</td>\n      <td>9.083473</td>\n      <td>76.540755</td>\n      <td>79.821074</td>\n    </tr>\n    <tr>\n      <th>37</th>\n      <td>MLM</td>\n      <td>457.89</td>\n      <td>N/A</td>\n      <td>38.615930</td>\n      <td>87.077535</td>\n      <td>31.683866</td>\n      <td>93.638171</td>\n      <td>28.790901</td>\n      <td>95.82505</td>\n      <td>4.250720</td>\n      <td>42.147117</td>\n      <td>79.671968</td>\n    </tr>\n    <tr>\n      <th>38</th>\n      <td>PHM</td>\n      <td>78.09</td>\n      <td>N/A</td>\n      <td>74.697980</td>\n      <td>97.614314</td>\n      <td>53.708764</td>\n      <td>98.60835</td>\n      <td>22.548230</td>\n      <td>91.451292</td>\n      <td>2.682437</td>\n      <td>30.417495</td>\n      <td>79.522863</td>\n    </tr>\n    <tr>\n      <th>39</th>\n      <td>BKNG</td>\n      <td>2923.24</td>\n      <td>N/A</td>\n      <td>59.333290</td>\n      <td>95.626243</td>\n      <td>21.721529</td>\n      <td>86.083499</td>\n      <td>9.088740</td>\n      <td>59.244533</td>\n      <td>9.161660</td>\n      <td>76.93837</td>\n      <td>79.473161</td>\n    </tr>\n    <tr>\n      <th>40</th>\n      <td>VMC</td>\n      <td>222.30</td>\n      <td>N/A</td>\n      <td>42.135548</td>\n      <td>89.264414</td>\n      <td>24.448158</td>\n      <td>88.469185</td>\n      <td>29.976991</td>\n      <td>96.819085</td>\n      <td>4.146173</td>\n      <td>41.153082</td>\n      <td>78.926441</td>\n    </tr>\n    <tr>\n      <th>41</th>\n      <td>FDX</td>\n      <td>259.67</td>\n      <td>N/A</td>\n      <td>13.805496</td>\n      <td>60.437376</td>\n      <td>37.371323</td>\n      <td>96.222664</td>\n      <td>12.479445</td>\n      <td>72.564612</td>\n      <td>11.479853</td>\n      <td>86.083499</td>\n      <td>78.827038</td>\n    </tr>\n    <tr>\n      <th>42</th>\n      <td>IDXX</td>\n      <td>554.60</td>\n      <td>N/A</td>\n      <td>47.672810</td>\n      <td>92.445328</td>\n      <td>11.782956</td>\n      <td>69.980119</td>\n      <td>10.124897</td>\n      <td>61.829026</td>\n      <td>13.017602</td>\n      <td>90.854871</td>\n      <td>78.777336</td>\n    </tr>\n    <tr>\n      <th>43</th>\n      <td>AOS</td>\n      <td>75.99</td>\n      <td>N/A</td>\n      <td>28.971481</td>\n      <td>79.324056</td>\n      <td>27.404918</td>\n      <td>90.656064</td>\n      <td>10.750497</td>\n      <td>64.612326</td>\n      <td>10.066623</td>\n      <td>80.318091</td>\n      <td>78.727634</td>\n    </tr>\n    <tr>\n      <th>44</th>\n      <td>GWW</td>\n      <td>769.00</td>\n      <td>N/A</td>\n      <td>59.503853</td>\n      <td>95.82505</td>\n      <td>37.641596</td>\n      <td>96.421471</td>\n      <td>14.190131</td>\n      <td>77.335984</td>\n      <td>4.493635</td>\n      <td>44.930417</td>\n      <td>78.628231</td>\n    </tr>\n    <tr>\n      <th>45</th>\n      <td>CSGP</td>\n      <td>90.68</td>\n      <td>N/A</td>\n      <td>47.231697</td>\n      <td>92.246521</td>\n      <td>15.149207</td>\n      <td>77.335984</td>\n      <td>29.063475</td>\n      <td>96.023857</td>\n      <td>4.953702</td>\n      <td>48.707753</td>\n      <td>78.578529</td>\n    </tr>\n    <tr>\n      <th>46</th>\n      <td>JPM</td>\n      <td>154.95</td>\n      <td>N/A</td>\n      <td>34.481857</td>\n      <td>84.493042</td>\n      <td>14.546904</td>\n      <td>75.745527</td>\n      <td>10.860609</td>\n      <td>65.606362</td>\n      <td>11.773986</td>\n      <td>87.077535</td>\n      <td>78.230616</td>\n    </tr>\n    <tr>\n      <th>47</th>\n      <td>SPGI</td>\n      <td>423.29</td>\n      <td>N/A</td>\n      <td>19.563316</td>\n      <td>69.184891</td>\n      <td>14.755713</td>\n      <td>76.739563</td>\n      <td>22.062424</td>\n      <td>90.656064</td>\n      <td>9.027926</td>\n      <td>76.143141</td>\n      <td>78.180915</td>\n    </tr>\n    <tr>\n      <th>48</th>\n      <td>STZ</td>\n      <td>269.50</td>\n      <td>N/A</td>\n      <td>11.979055</td>\n      <td>58.250497</td>\n      <td>21.200779</td>\n      <td>85.685885</td>\n      <td>20.578272</td>\n      <td>88.667992</td>\n      <td>9.878907</td>\n      <td>79.522863</td>\n      <td>78.031809</td>\n    </tr>\n    <tr>\n      <th>49</th>\n      <td>LYV</td>\n      <td>96.84</td>\n      <td>N/A</td>\n      <td>4.986989</td>\n      <td>45.328032</td>\n      <td>27.521719</td>\n      <td>90.854871</td>\n      <td>44.107144</td>\n      <td>99.005964</td>\n      <td>9.054046</td>\n      <td>76.341948</td>\n      <td>77.882704</td>\n    </tr>\n  </tbody>\n</table>\n</div>"
     },
     "execution_count": 20,
     "metadata": {},
     "output_type": "execute_result"
    }
   ]
  },
  {
   "cell_type": "code",
   "source": [
    "# portfolio_size = float(input(\"Enter your portfolio value: \"))\n",
    "portfolio_size = 10000000\n",
    "portfolio_size"
   ],
   "metadata": {
    "colab": {
     "base_uri": "https://localhost:8080/"
    },
    "id": "EdlinDPdBsV5",
    "outputId": "39f5f4ba-1f28-4728-8635-a3dd82777b18",
    "ExecuteTime": {
     "end_time": "2023-07-22T16:46:11.279274505Z",
     "start_time": "2023-07-22T16:46:11.202580178Z"
    }
   },
   "execution_count": 21,
   "outputs": [
    {
     "data": {
      "text/plain": "10000000"
     },
     "execution_count": 21,
     "metadata": {},
     "output_type": "execute_result"
    }
   ]
  },
  {
   "cell_type": "code",
   "source": [
    "position_size = portfolio_size / len(final_dataframe.index)\n",
    "position_size"
   ],
   "metadata": {
    "colab": {
     "base_uri": "https://localhost:8080/"
    },
    "id": "cHFqCXXNB4A5",
    "outputId": "03e6b75d-1db5-439d-9a79-664ae30b0683",
    "ExecuteTime": {
     "end_time": "2023-07-22T16:46:11.295321744Z",
     "start_time": "2023-07-22T16:46:11.206445378Z"
    }
   },
   "execution_count": 22,
   "outputs": [
    {
     "data": {
      "text/plain": "200000.0"
     },
     "execution_count": 22,
     "metadata": {},
     "output_type": "execute_result"
    }
   ]
  },
  {
   "cell_type": "code",
   "source": [
    "for i in range(len(hqm_dataframe.index)):\n",
    "    hqm_dataframe.loc[i, 'Number of Shares to Buy'] = math.floor(position_size / hqm_dataframe.loc[i, 'Stock Price'])\n",
    "\n",
    "hqm_dataframe"
   ],
   "metadata": {
    "colab": {
     "base_uri": "https://localhost:8080/",
     "height": 702
    },
    "id": "b17SIFHSB7Fe",
    "outputId": "18cd2483-77cd-4df8-dbbd-dccd791194bc",
    "ExecuteTime": {
     "end_time": "2023-07-22T16:46:11.342999134Z",
     "start_time": "2023-07-22T16:46:11.238385229Z"
    }
   },
   "execution_count": 23,
   "outputs": [
    {
     "data": {
      "text/plain": "   Ticker  Stock Price Number of Shares to Buy  1 Year Return  \\\n0     CCL        17.88                   11185      94.771240   \n1      ON        98.76                    2025      66.430730   \n2    NCLH        21.03                    9510      77.918780   \n3     DAL        48.55                    4119      54.568610   \n4    PCAR        87.91                    2275      53.277924   \n5    CARR        53.75                    3720      40.596390   \n6     CZR        57.73                    3464      36.865818   \n7     BKR        35.43                    5644      45.204914   \n8     PNR        66.34                    3014      41.329360   \n9    ACGL        82.27                    2431      86.637924   \n10   ADBE       520.23                     384      32.725273   \n11    RCL       102.38                    1953     197.443340   \n12    URI       450.43                     444      62.124325   \n13    UAL        57.61                    3471      58.530544   \n14    MGM        49.62                    4030      61.208580   \n15   FICO       844.50                     236      79.795610   \n16     PH       397.65                     502      48.626423   \n17   ANET       171.64                    1165      65.899864   \n18    CEG        96.60                    2070      75.764190   \n19   ODFL       394.49                     506      43.164574   \n20    ETN       207.69                     962      51.487970   \n21    DHI       127.58                    1567      69.294060   \n22    PWR       201.49                     992      50.725616   \n23    ROK       337.08                     593      53.246044   \n24   FTNT        78.16                    2558      28.131151   \n25    IRM        61.89                    3231      31.624842   \n26   NXPI       213.30                     937      22.494686   \n27   NVDA       443.09                     451     160.273740   \n28   META       294.26                     679      76.573654   \n29   SNPS       454.00                     440      34.450794   \n30    HWM        49.91                    4007      43.296005   \n31   CDNS       242.86                     823      44.852673   \n32    CRM       228.06                     876      28.636694   \n33   MCHP        89.72                    2229      38.885452   \n34    NOW       582.02                     343      32.277275   \n35    BWA        46.14                    4334      42.976105   \n36   NTAP        79.51                    2515      14.948678   \n37    MLM       457.89                     436      38.615930   \n38    PHM        78.09                    2561      74.697980   \n39   BKNG      2923.24                      68      59.333290   \n40    VMC       222.30                     899      42.135548   \n41    FDX       259.67                     770      13.805496   \n42   IDXX       554.60                     360      47.672810   \n43    AOS        75.99                    2631      28.971481   \n44    GWW       769.00                     260      59.503853   \n45   CSGP        90.68                    2205      47.231697   \n46    JPM       154.95                    1290      34.481857   \n47   SPGI       423.29                     472      19.563316   \n48    STZ       269.50                     742      11.979055   \n49    LYV        96.84                    2065       4.986989   \n\n   1 Year Return Percentile  6 Months Return 6 Months Return Percentile  \\\n0                 99.005964        66.791033                  99.403579   \n1                 96.819085        39.491522                  96.819085   \n2                 98.409543        35.502578                  95.626243   \n3                 94.234592        24.493278                  88.667992   \n4                 93.836978        29.852491                  92.047714   \n5                 88.469185        25.233453                  89.662028   \n6                  86.67992        14.680174                  76.341948   \n7                 91.650099        17.323621                  82.107356   \n8                 88.866799        32.512310                  94.234592   \n9                 98.807157        30.318383                  92.445328   \n10                82.107356        42.536568                  97.614314   \n11                    100.0        61.533600                  99.005964   \n12                96.222664        15.775278                  78.926441   \n13                95.427435        16.903413                  81.510934   \n14                96.023857        24.360895                  88.071571   \n15                 98.60835        29.933069                  92.246521   \n16                92.644135        28.636773                  91.451292   \n17                96.620278        44.041620                  98.011928   \n18                97.813121        15.629182                  78.528827   \n19                89.662028        22.485244                   86.67992   \n20                93.240557        32.007232                  93.836978   \n21                  97.2167        33.985230                  94.831014   \n22                92.842942        34.853662                  95.228628   \n23                93.638171        23.326513                  87.077535   \n24                77.932406        54.741648                  98.807157   \n25                 81.11332        21.212120                  85.884692   \n26                73.359841        24.659734                  88.866799   \n27                99.602386       130.923334                      100.0   \n28                98.011928       105.388428                  99.801193   \n29                84.294235        29.592104                  91.650099   \n30                90.059642        26.816322                  90.457256   \n31                91.451292        32.413716                  94.035785   \n32                78.131213        46.314239                  98.409543   \n33                87.276342        18.652861                  83.300199   \n34                81.510934        31.547784                  93.439364   \n35                89.463221        18.280884                   82.50497   \n36                62.624254        20.389318                  85.089463   \n37                87.077535        31.683866                  93.638171   \n38                97.614314        53.708764                   98.60835   \n39                95.626243        21.721529                  86.083499   \n40                89.264414        24.448158                  88.469185   \n41                60.437376        37.371323                  96.222664   \n42                92.445328        11.782956                  69.980119   \n43                79.324056        27.404918                  90.656064   \n44                 95.82505        37.641596                  96.421471   \n45                92.246521        15.149207                  77.335984   \n46                84.493042        14.546904                  75.745527   \n47                69.184891        14.755713                  76.739563   \n48                58.250497        21.200779                  85.685885   \n49                45.328032        27.521719                  90.854871   \n\n    3 Months Return 3 Months Return Percentile  1 Month Return  \\\n0         92.672410                      100.0       13.451770   \n1         32.777636                  98.011928       11.028674   \n2         61.149428                  99.403579       10.220130   \n3         42.590778                  98.807157       13.302229   \n4         19.578339                  87.872763       12.546413   \n5         29.265541                  96.222664       12.306727   \n6         31.713432                  97.813121       24.418098   \n7         18.158529                   86.67992       17.512440   \n8         23.306342                  92.445328       10.510979   \n9         13.460204                  74.552684       13.303947   \n10        37.867702                  98.210736        8.930440   \n11        64.044220                  99.801193        5.102139   \n12        17.930748                  85.884692       11.916414   \n13        31.140451                  97.614314        8.595667   \n14        10.882679                  65.805169       16.752939   \n15        18.350244                  86.878728        7.326686   \n16        23.686714                   93.04175        7.180395   \n17         9.632091                  61.033797       12.007304   \n18        25.428992                  94.234592        8.235292   \n19        11.441655                  68.190855       19.213679   \n20        27.453355                  95.626243        6.180980   \n21        17.846150                   85.28827        6.645494   \n22        19.791268                  88.270378        6.477614   \n23        22.630009                  91.650099        7.016311   \n24        17.977364                  86.083499        8.767051   \n25        15.115958                  79.125249       12.835007   \n26        26.227801                  94.632207        9.581305   \n27        63.869474                  99.602386        2.984311   \n28        38.286583                  98.409543        3.292616   \n29        20.850742                  89.463221        6.540256   \n30        15.448810                  80.119284        7.195014   \n31        14.029489                  76.739563        6.986784   \n32        17.001847                  84.095427        6.924846   \n33        16.683086                  82.902584        7.940325   \n34        23.048630                  92.246521        5.846841   \n35         7.063970                  54.075547       14.169117   \n36        26.436878                  95.029821        9.083473   \n37        28.790901                   95.82505        4.250720   \n38        22.548230                  91.451292        2.682437   \n39         9.088740                  59.244533        9.161660   \n40        29.976991                  96.819085        4.146173   \n41        12.479445                  72.564612       11.479853   \n42        10.124897                  61.829026       13.017602   \n43        10.750497                  64.612326       10.066623   \n44        14.190131                  77.335984        4.493635   \n45        29.063475                  96.023857        4.953702   \n46        10.860609                  65.606362       11.773986   \n47        22.062424                  90.656064        9.027926   \n48        20.578272                  88.667992        9.878907   \n49        44.107144                  99.005964        9.054046   \n\n   1 Month Return Percentile  HQM Score  \n0                  92.047714  97.614314  \n1                  84.691849  94.085487  \n2                   81.11332  93.638171  \n3                  91.252485  93.240557  \n4                  90.258449  91.003976  \n5                  89.065606  90.854871  \n6                  99.403579  90.059642  \n7                  97.017893  89.363817  \n8                  81.709742  89.314115  \n9                  91.451292  89.314115  \n10                  75.54672  88.369781  \n11                 50.298211  87.276342  \n12                 87.475149  87.127237  \n13                 73.558648  87.027833  \n14                 96.222664  86.530815  \n15                 68.389662  86.530815  \n16                 67.196819  86.083499  \n17                 88.469185  86.033797  \n18                 72.763419   85.83499  \n19                 97.813121  85.586481  \n20                 59.244533  85.487078  \n21                  63.61829  85.238569  \n22                 62.425447  84.691849  \n23                 66.003976  84.592445  \n24                 74.751491  84.393638  \n25                 90.457256  84.145129  \n26                 78.727634   83.89662  \n27                 32.803181  83.001988  \n28                  34.99006  82.803181  \n29                 63.021869  82.107356  \n30                 67.594433  82.057654  \n31                 65.805169  82.007952  \n32                 65.208748  81.461233  \n33                 71.172962  81.163022  \n34                 56.262425  80.864811  \n35                 93.439364  79.870775  \n36                 76.540755  79.821074  \n37                 42.147117  79.671968  \n38                 30.417495  79.522863  \n39                  76.93837  79.473161  \n40                 41.153082  78.926441  \n41                 86.083499  78.827038  \n42                 90.854871  78.777336  \n43                 80.318091  78.727634  \n44                 44.930417  78.628231  \n45                 48.707753  78.578529  \n46                 87.077535  78.230616  \n47                 76.143141  78.180915  \n48                 79.522863  78.031809  \n49                 76.341948  77.882704  ",
      "text/html": "<div>\n<style scoped>\n    .dataframe tbody tr th:only-of-type {\n        vertical-align: middle;\n    }\n\n    .dataframe tbody tr th {\n        vertical-align: top;\n    }\n\n    .dataframe thead th {\n        text-align: right;\n    }\n</style>\n<table border=\"1\" class=\"dataframe\">\n  <thead>\n    <tr style=\"text-align: right;\">\n      <th></th>\n      <th>Ticker</th>\n      <th>Stock Price</th>\n      <th>Number of Shares to Buy</th>\n      <th>1 Year Return</th>\n      <th>1 Year Return Percentile</th>\n      <th>6 Months Return</th>\n      <th>6 Months Return Percentile</th>\n      <th>3 Months Return</th>\n      <th>3 Months Return Percentile</th>\n      <th>1 Month Return</th>\n      <th>1 Month Return Percentile</th>\n      <th>HQM Score</th>\n    </tr>\n  </thead>\n  <tbody>\n    <tr>\n      <th>0</th>\n      <td>CCL</td>\n      <td>17.88</td>\n      <td>11185</td>\n      <td>94.771240</td>\n      <td>99.005964</td>\n      <td>66.791033</td>\n      <td>99.403579</td>\n      <td>92.672410</td>\n      <td>100.0</td>\n      <td>13.451770</td>\n      <td>92.047714</td>\n      <td>97.614314</td>\n    </tr>\n    <tr>\n      <th>1</th>\n      <td>ON</td>\n      <td>98.76</td>\n      <td>2025</td>\n      <td>66.430730</td>\n      <td>96.819085</td>\n      <td>39.491522</td>\n      <td>96.819085</td>\n      <td>32.777636</td>\n      <td>98.011928</td>\n      <td>11.028674</td>\n      <td>84.691849</td>\n      <td>94.085487</td>\n    </tr>\n    <tr>\n      <th>2</th>\n      <td>NCLH</td>\n      <td>21.03</td>\n      <td>9510</td>\n      <td>77.918780</td>\n      <td>98.409543</td>\n      <td>35.502578</td>\n      <td>95.626243</td>\n      <td>61.149428</td>\n      <td>99.403579</td>\n      <td>10.220130</td>\n      <td>81.11332</td>\n      <td>93.638171</td>\n    </tr>\n    <tr>\n      <th>3</th>\n      <td>DAL</td>\n      <td>48.55</td>\n      <td>4119</td>\n      <td>54.568610</td>\n      <td>94.234592</td>\n      <td>24.493278</td>\n      <td>88.667992</td>\n      <td>42.590778</td>\n      <td>98.807157</td>\n      <td>13.302229</td>\n      <td>91.252485</td>\n      <td>93.240557</td>\n    </tr>\n    <tr>\n      <th>4</th>\n      <td>PCAR</td>\n      <td>87.91</td>\n      <td>2275</td>\n      <td>53.277924</td>\n      <td>93.836978</td>\n      <td>29.852491</td>\n      <td>92.047714</td>\n      <td>19.578339</td>\n      <td>87.872763</td>\n      <td>12.546413</td>\n      <td>90.258449</td>\n      <td>91.003976</td>\n    </tr>\n    <tr>\n      <th>5</th>\n      <td>CARR</td>\n      <td>53.75</td>\n      <td>3720</td>\n      <td>40.596390</td>\n      <td>88.469185</td>\n      <td>25.233453</td>\n      <td>89.662028</td>\n      <td>29.265541</td>\n      <td>96.222664</td>\n      <td>12.306727</td>\n      <td>89.065606</td>\n      <td>90.854871</td>\n    </tr>\n    <tr>\n      <th>6</th>\n      <td>CZR</td>\n      <td>57.73</td>\n      <td>3464</td>\n      <td>36.865818</td>\n      <td>86.67992</td>\n      <td>14.680174</td>\n      <td>76.341948</td>\n      <td>31.713432</td>\n      <td>97.813121</td>\n      <td>24.418098</td>\n      <td>99.403579</td>\n      <td>90.059642</td>\n    </tr>\n    <tr>\n      <th>7</th>\n      <td>BKR</td>\n      <td>35.43</td>\n      <td>5644</td>\n      <td>45.204914</td>\n      <td>91.650099</td>\n      <td>17.323621</td>\n      <td>82.107356</td>\n      <td>18.158529</td>\n      <td>86.67992</td>\n      <td>17.512440</td>\n      <td>97.017893</td>\n      <td>89.363817</td>\n    </tr>\n    <tr>\n      <th>8</th>\n      <td>PNR</td>\n      <td>66.34</td>\n      <td>3014</td>\n      <td>41.329360</td>\n      <td>88.866799</td>\n      <td>32.512310</td>\n      <td>94.234592</td>\n      <td>23.306342</td>\n      <td>92.445328</td>\n      <td>10.510979</td>\n      <td>81.709742</td>\n      <td>89.314115</td>\n    </tr>\n    <tr>\n      <th>9</th>\n      <td>ACGL</td>\n      <td>82.27</td>\n      <td>2431</td>\n      <td>86.637924</td>\n      <td>98.807157</td>\n      <td>30.318383</td>\n      <td>92.445328</td>\n      <td>13.460204</td>\n      <td>74.552684</td>\n      <td>13.303947</td>\n      <td>91.451292</td>\n      <td>89.314115</td>\n    </tr>\n    <tr>\n      <th>10</th>\n      <td>ADBE</td>\n      <td>520.23</td>\n      <td>384</td>\n      <td>32.725273</td>\n      <td>82.107356</td>\n      <td>42.536568</td>\n      <td>97.614314</td>\n      <td>37.867702</td>\n      <td>98.210736</td>\n      <td>8.930440</td>\n      <td>75.54672</td>\n      <td>88.369781</td>\n    </tr>\n    <tr>\n      <th>11</th>\n      <td>RCL</td>\n      <td>102.38</td>\n      <td>1953</td>\n      <td>197.443340</td>\n      <td>100.0</td>\n      <td>61.533600</td>\n      <td>99.005964</td>\n      <td>64.044220</td>\n      <td>99.801193</td>\n      <td>5.102139</td>\n      <td>50.298211</td>\n      <td>87.276342</td>\n    </tr>\n    <tr>\n      <th>12</th>\n      <td>URI</td>\n      <td>450.43</td>\n      <td>444</td>\n      <td>62.124325</td>\n      <td>96.222664</td>\n      <td>15.775278</td>\n      <td>78.926441</td>\n      <td>17.930748</td>\n      <td>85.884692</td>\n      <td>11.916414</td>\n      <td>87.475149</td>\n      <td>87.127237</td>\n    </tr>\n    <tr>\n      <th>13</th>\n      <td>UAL</td>\n      <td>57.61</td>\n      <td>3471</td>\n      <td>58.530544</td>\n      <td>95.427435</td>\n      <td>16.903413</td>\n      <td>81.510934</td>\n      <td>31.140451</td>\n      <td>97.614314</td>\n      <td>8.595667</td>\n      <td>73.558648</td>\n      <td>87.027833</td>\n    </tr>\n    <tr>\n      <th>14</th>\n      <td>MGM</td>\n      <td>49.62</td>\n      <td>4030</td>\n      <td>61.208580</td>\n      <td>96.023857</td>\n      <td>24.360895</td>\n      <td>88.071571</td>\n      <td>10.882679</td>\n      <td>65.805169</td>\n      <td>16.752939</td>\n      <td>96.222664</td>\n      <td>86.530815</td>\n    </tr>\n    <tr>\n      <th>15</th>\n      <td>FICO</td>\n      <td>844.50</td>\n      <td>236</td>\n      <td>79.795610</td>\n      <td>98.60835</td>\n      <td>29.933069</td>\n      <td>92.246521</td>\n      <td>18.350244</td>\n      <td>86.878728</td>\n      <td>7.326686</td>\n      <td>68.389662</td>\n      <td>86.530815</td>\n    </tr>\n    <tr>\n      <th>16</th>\n      <td>PH</td>\n      <td>397.65</td>\n      <td>502</td>\n      <td>48.626423</td>\n      <td>92.644135</td>\n      <td>28.636773</td>\n      <td>91.451292</td>\n      <td>23.686714</td>\n      <td>93.04175</td>\n      <td>7.180395</td>\n      <td>67.196819</td>\n      <td>86.083499</td>\n    </tr>\n    <tr>\n      <th>17</th>\n      <td>ANET</td>\n      <td>171.64</td>\n      <td>1165</td>\n      <td>65.899864</td>\n      <td>96.620278</td>\n      <td>44.041620</td>\n      <td>98.011928</td>\n      <td>9.632091</td>\n      <td>61.033797</td>\n      <td>12.007304</td>\n      <td>88.469185</td>\n      <td>86.033797</td>\n    </tr>\n    <tr>\n      <th>18</th>\n      <td>CEG</td>\n      <td>96.60</td>\n      <td>2070</td>\n      <td>75.764190</td>\n      <td>97.813121</td>\n      <td>15.629182</td>\n      <td>78.528827</td>\n      <td>25.428992</td>\n      <td>94.234592</td>\n      <td>8.235292</td>\n      <td>72.763419</td>\n      <td>85.83499</td>\n    </tr>\n    <tr>\n      <th>19</th>\n      <td>ODFL</td>\n      <td>394.49</td>\n      <td>506</td>\n      <td>43.164574</td>\n      <td>89.662028</td>\n      <td>22.485244</td>\n      <td>86.67992</td>\n      <td>11.441655</td>\n      <td>68.190855</td>\n      <td>19.213679</td>\n      <td>97.813121</td>\n      <td>85.586481</td>\n    </tr>\n    <tr>\n      <th>20</th>\n      <td>ETN</td>\n      <td>207.69</td>\n      <td>962</td>\n      <td>51.487970</td>\n      <td>93.240557</td>\n      <td>32.007232</td>\n      <td>93.836978</td>\n      <td>27.453355</td>\n      <td>95.626243</td>\n      <td>6.180980</td>\n      <td>59.244533</td>\n      <td>85.487078</td>\n    </tr>\n    <tr>\n      <th>21</th>\n      <td>DHI</td>\n      <td>127.58</td>\n      <td>1567</td>\n      <td>69.294060</td>\n      <td>97.2167</td>\n      <td>33.985230</td>\n      <td>94.831014</td>\n      <td>17.846150</td>\n      <td>85.28827</td>\n      <td>6.645494</td>\n      <td>63.61829</td>\n      <td>85.238569</td>\n    </tr>\n    <tr>\n      <th>22</th>\n      <td>PWR</td>\n      <td>201.49</td>\n      <td>992</td>\n      <td>50.725616</td>\n      <td>92.842942</td>\n      <td>34.853662</td>\n      <td>95.228628</td>\n      <td>19.791268</td>\n      <td>88.270378</td>\n      <td>6.477614</td>\n      <td>62.425447</td>\n      <td>84.691849</td>\n    </tr>\n    <tr>\n      <th>23</th>\n      <td>ROK</td>\n      <td>337.08</td>\n      <td>593</td>\n      <td>53.246044</td>\n      <td>93.638171</td>\n      <td>23.326513</td>\n      <td>87.077535</td>\n      <td>22.630009</td>\n      <td>91.650099</td>\n      <td>7.016311</td>\n      <td>66.003976</td>\n      <td>84.592445</td>\n    </tr>\n    <tr>\n      <th>24</th>\n      <td>FTNT</td>\n      <td>78.16</td>\n      <td>2558</td>\n      <td>28.131151</td>\n      <td>77.932406</td>\n      <td>54.741648</td>\n      <td>98.807157</td>\n      <td>17.977364</td>\n      <td>86.083499</td>\n      <td>8.767051</td>\n      <td>74.751491</td>\n      <td>84.393638</td>\n    </tr>\n    <tr>\n      <th>25</th>\n      <td>IRM</td>\n      <td>61.89</td>\n      <td>3231</td>\n      <td>31.624842</td>\n      <td>81.11332</td>\n      <td>21.212120</td>\n      <td>85.884692</td>\n      <td>15.115958</td>\n      <td>79.125249</td>\n      <td>12.835007</td>\n      <td>90.457256</td>\n      <td>84.145129</td>\n    </tr>\n    <tr>\n      <th>26</th>\n      <td>NXPI</td>\n      <td>213.30</td>\n      <td>937</td>\n      <td>22.494686</td>\n      <td>73.359841</td>\n      <td>24.659734</td>\n      <td>88.866799</td>\n      <td>26.227801</td>\n      <td>94.632207</td>\n      <td>9.581305</td>\n      <td>78.727634</td>\n      <td>83.89662</td>\n    </tr>\n    <tr>\n      <th>27</th>\n      <td>NVDA</td>\n      <td>443.09</td>\n      <td>451</td>\n      <td>160.273740</td>\n      <td>99.602386</td>\n      <td>130.923334</td>\n      <td>100.0</td>\n      <td>63.869474</td>\n      <td>99.602386</td>\n      <td>2.984311</td>\n      <td>32.803181</td>\n      <td>83.001988</td>\n    </tr>\n    <tr>\n      <th>28</th>\n      <td>META</td>\n      <td>294.26</td>\n      <td>679</td>\n      <td>76.573654</td>\n      <td>98.011928</td>\n      <td>105.388428</td>\n      <td>99.801193</td>\n      <td>38.286583</td>\n      <td>98.409543</td>\n      <td>3.292616</td>\n      <td>34.99006</td>\n      <td>82.803181</td>\n    </tr>\n    <tr>\n      <th>29</th>\n      <td>SNPS</td>\n      <td>454.00</td>\n      <td>440</td>\n      <td>34.450794</td>\n      <td>84.294235</td>\n      <td>29.592104</td>\n      <td>91.650099</td>\n      <td>20.850742</td>\n      <td>89.463221</td>\n      <td>6.540256</td>\n      <td>63.021869</td>\n      <td>82.107356</td>\n    </tr>\n    <tr>\n      <th>30</th>\n      <td>HWM</td>\n      <td>49.91</td>\n      <td>4007</td>\n      <td>43.296005</td>\n      <td>90.059642</td>\n      <td>26.816322</td>\n      <td>90.457256</td>\n      <td>15.448810</td>\n      <td>80.119284</td>\n      <td>7.195014</td>\n      <td>67.594433</td>\n      <td>82.057654</td>\n    </tr>\n    <tr>\n      <th>31</th>\n      <td>CDNS</td>\n      <td>242.86</td>\n      <td>823</td>\n      <td>44.852673</td>\n      <td>91.451292</td>\n      <td>32.413716</td>\n      <td>94.035785</td>\n      <td>14.029489</td>\n      <td>76.739563</td>\n      <td>6.986784</td>\n      <td>65.805169</td>\n      <td>82.007952</td>\n    </tr>\n    <tr>\n      <th>32</th>\n      <td>CRM</td>\n      <td>228.06</td>\n      <td>876</td>\n      <td>28.636694</td>\n      <td>78.131213</td>\n      <td>46.314239</td>\n      <td>98.409543</td>\n      <td>17.001847</td>\n      <td>84.095427</td>\n      <td>6.924846</td>\n      <td>65.208748</td>\n      <td>81.461233</td>\n    </tr>\n    <tr>\n      <th>33</th>\n      <td>MCHP</td>\n      <td>89.72</td>\n      <td>2229</td>\n      <td>38.885452</td>\n      <td>87.276342</td>\n      <td>18.652861</td>\n      <td>83.300199</td>\n      <td>16.683086</td>\n      <td>82.902584</td>\n      <td>7.940325</td>\n      <td>71.172962</td>\n      <td>81.163022</td>\n    </tr>\n    <tr>\n      <th>34</th>\n      <td>NOW</td>\n      <td>582.02</td>\n      <td>343</td>\n      <td>32.277275</td>\n      <td>81.510934</td>\n      <td>31.547784</td>\n      <td>93.439364</td>\n      <td>23.048630</td>\n      <td>92.246521</td>\n      <td>5.846841</td>\n      <td>56.262425</td>\n      <td>80.864811</td>\n    </tr>\n    <tr>\n      <th>35</th>\n      <td>BWA</td>\n      <td>46.14</td>\n      <td>4334</td>\n      <td>42.976105</td>\n      <td>89.463221</td>\n      <td>18.280884</td>\n      <td>82.50497</td>\n      <td>7.063970</td>\n      <td>54.075547</td>\n      <td>14.169117</td>\n      <td>93.439364</td>\n      <td>79.870775</td>\n    </tr>\n    <tr>\n      <th>36</th>\n      <td>NTAP</td>\n      <td>79.51</td>\n      <td>2515</td>\n      <td>14.948678</td>\n      <td>62.624254</td>\n      <td>20.389318</td>\n      <td>85.089463</td>\n      <td>26.436878</td>\n      <td>95.029821</td>\n      <td>9.083473</td>\n      <td>76.540755</td>\n      <td>79.821074</td>\n    </tr>\n    <tr>\n      <th>37</th>\n      <td>MLM</td>\n      <td>457.89</td>\n      <td>436</td>\n      <td>38.615930</td>\n      <td>87.077535</td>\n      <td>31.683866</td>\n      <td>93.638171</td>\n      <td>28.790901</td>\n      <td>95.82505</td>\n      <td>4.250720</td>\n      <td>42.147117</td>\n      <td>79.671968</td>\n    </tr>\n    <tr>\n      <th>38</th>\n      <td>PHM</td>\n      <td>78.09</td>\n      <td>2561</td>\n      <td>74.697980</td>\n      <td>97.614314</td>\n      <td>53.708764</td>\n      <td>98.60835</td>\n      <td>22.548230</td>\n      <td>91.451292</td>\n      <td>2.682437</td>\n      <td>30.417495</td>\n      <td>79.522863</td>\n    </tr>\n    <tr>\n      <th>39</th>\n      <td>BKNG</td>\n      <td>2923.24</td>\n      <td>68</td>\n      <td>59.333290</td>\n      <td>95.626243</td>\n      <td>21.721529</td>\n      <td>86.083499</td>\n      <td>9.088740</td>\n      <td>59.244533</td>\n      <td>9.161660</td>\n      <td>76.93837</td>\n      <td>79.473161</td>\n    </tr>\n    <tr>\n      <th>40</th>\n      <td>VMC</td>\n      <td>222.30</td>\n      <td>899</td>\n      <td>42.135548</td>\n      <td>89.264414</td>\n      <td>24.448158</td>\n      <td>88.469185</td>\n      <td>29.976991</td>\n      <td>96.819085</td>\n      <td>4.146173</td>\n      <td>41.153082</td>\n      <td>78.926441</td>\n    </tr>\n    <tr>\n      <th>41</th>\n      <td>FDX</td>\n      <td>259.67</td>\n      <td>770</td>\n      <td>13.805496</td>\n      <td>60.437376</td>\n      <td>37.371323</td>\n      <td>96.222664</td>\n      <td>12.479445</td>\n      <td>72.564612</td>\n      <td>11.479853</td>\n      <td>86.083499</td>\n      <td>78.827038</td>\n    </tr>\n    <tr>\n      <th>42</th>\n      <td>IDXX</td>\n      <td>554.60</td>\n      <td>360</td>\n      <td>47.672810</td>\n      <td>92.445328</td>\n      <td>11.782956</td>\n      <td>69.980119</td>\n      <td>10.124897</td>\n      <td>61.829026</td>\n      <td>13.017602</td>\n      <td>90.854871</td>\n      <td>78.777336</td>\n    </tr>\n    <tr>\n      <th>43</th>\n      <td>AOS</td>\n      <td>75.99</td>\n      <td>2631</td>\n      <td>28.971481</td>\n      <td>79.324056</td>\n      <td>27.404918</td>\n      <td>90.656064</td>\n      <td>10.750497</td>\n      <td>64.612326</td>\n      <td>10.066623</td>\n      <td>80.318091</td>\n      <td>78.727634</td>\n    </tr>\n    <tr>\n      <th>44</th>\n      <td>GWW</td>\n      <td>769.00</td>\n      <td>260</td>\n      <td>59.503853</td>\n      <td>95.82505</td>\n      <td>37.641596</td>\n      <td>96.421471</td>\n      <td>14.190131</td>\n      <td>77.335984</td>\n      <td>4.493635</td>\n      <td>44.930417</td>\n      <td>78.628231</td>\n    </tr>\n    <tr>\n      <th>45</th>\n      <td>CSGP</td>\n      <td>90.68</td>\n      <td>2205</td>\n      <td>47.231697</td>\n      <td>92.246521</td>\n      <td>15.149207</td>\n      <td>77.335984</td>\n      <td>29.063475</td>\n      <td>96.023857</td>\n      <td>4.953702</td>\n      <td>48.707753</td>\n      <td>78.578529</td>\n    </tr>\n    <tr>\n      <th>46</th>\n      <td>JPM</td>\n      <td>154.95</td>\n      <td>1290</td>\n      <td>34.481857</td>\n      <td>84.493042</td>\n      <td>14.546904</td>\n      <td>75.745527</td>\n      <td>10.860609</td>\n      <td>65.606362</td>\n      <td>11.773986</td>\n      <td>87.077535</td>\n      <td>78.230616</td>\n    </tr>\n    <tr>\n      <th>47</th>\n      <td>SPGI</td>\n      <td>423.29</td>\n      <td>472</td>\n      <td>19.563316</td>\n      <td>69.184891</td>\n      <td>14.755713</td>\n      <td>76.739563</td>\n      <td>22.062424</td>\n      <td>90.656064</td>\n      <td>9.027926</td>\n      <td>76.143141</td>\n      <td>78.180915</td>\n    </tr>\n    <tr>\n      <th>48</th>\n      <td>STZ</td>\n      <td>269.50</td>\n      <td>742</td>\n      <td>11.979055</td>\n      <td>58.250497</td>\n      <td>21.200779</td>\n      <td>85.685885</td>\n      <td>20.578272</td>\n      <td>88.667992</td>\n      <td>9.878907</td>\n      <td>79.522863</td>\n      <td>78.031809</td>\n    </tr>\n    <tr>\n      <th>49</th>\n      <td>LYV</td>\n      <td>96.84</td>\n      <td>2065</td>\n      <td>4.986989</td>\n      <td>45.328032</td>\n      <td>27.521719</td>\n      <td>90.854871</td>\n      <td>44.107144</td>\n      <td>99.005964</td>\n      <td>9.054046</td>\n      <td>76.341948</td>\n      <td>77.882704</td>\n    </tr>\n  </tbody>\n</table>\n</div>"
     },
     "execution_count": 23,
     "metadata": {},
     "output_type": "execute_result"
    }
   ]
  },
  {
   "cell_type": "code",
   "source": [
    "writer = pd.ExcelWriter('momentum_strategy.xlsx', engine='xlsxwriter')\n",
    "hqm_dataframe.to_excel(writer, sheet_name='Momentum Strategy', index=False)"
   ],
   "metadata": {
    "id": "PTpQ-4ZQCIBf",
    "ExecuteTime": {
     "end_time": "2023-07-22T16:46:11.343456994Z",
     "start_time": "2023-07-22T16:46:11.248736607Z"
    }
   },
   "execution_count": 24,
   "outputs": []
  },
  {
   "cell_type": "code",
   "source": [
    "background_color = '#0a0a23'\n",
    "font_color = '#ffffff'\n",
    "\n",
    "string_template = writer.book.add_format(\n",
    "    {\n",
    "        'font_color': font_color,\n",
    "        'bg_color': background_color,\n",
    "        'border': 1\n",
    "    }\n",
    ")\n",
    "\n",
    "dollar_template = writer.book.add_format(\n",
    "    {\n",
    "        'num_format': '$0.00',\n",
    "        'font_color': font_color,\n",
    "        'bg_color': background_color,\n",
    "        'border': 1\n",
    "    }\n",
    ")\n",
    "\n",
    "integer_template = writer.book.add_format(\n",
    "    {\n",
    "        'num_format': '0',\n",
    "        'font_color': font_color,\n",
    "        'bg_color': background_color,\n",
    "        'border': 1\n",
    "    }\n",
    ")\n",
    "\n",
    "percent_template = writer.book.add_format(\n",
    "    {\n",
    "        'num_format': '0.0%',\n",
    "        'font_color': font_color,\n",
    "        'bg_color': background_color,\n",
    "        'border': 1\n",
    "    }\n",
    ")"
   ],
   "metadata": {
    "id": "gSIDQ8kJWsqL",
    "ExecuteTime": {
     "end_time": "2023-07-22T16:46:11.343546602Z",
     "start_time": "2023-07-22T16:46:11.271418842Z"
    }
   },
   "execution_count": 25,
   "outputs": []
  },
  {
   "cell_type": "code",
   "source": [
    "column_formats = {\n",
    "    'A': ['Ticker', string_template],\n",
    "    'B': ['Price', dollar_template],\n",
    "    'C': ['Number of Shares to Buy', integer_template],\n",
    "    'D': ['One-Year Price Return', percent_template],\n",
    "    'E': ['One-Year Return Percentile', percent_template],\n",
    "    'F': ['Six-Month Price Return', percent_template],\n",
    "    'G': ['Six-Month Return Percentile', percent_template],\n",
    "    'H': ['Three-Month Price Return', percent_template],\n",
    "    'I': ['Three-Month Return Percentile', percent_template],\n",
    "    'J': ['One-Month Price Return', percent_template],\n",
    "    'K': ['One-Month Return Percentile', percent_template],\n",
    "    'L': ['HQM Score', integer_template]\n",
    "}\n",
    "\n",
    "for column in column_formats.keys():\n",
    "    writer.sheets['Momentum Strategy'].set_column(f'{column}:{column}', 20, column_formats[column][1])\n",
    "    writer.sheets['Momentum Strategy'].write(f'{column}1', column_formats[column][0], string_template)"
   ],
   "metadata": {
    "id": "KLoK02SiW4wI",
    "ExecuteTime": {
     "end_time": "2023-07-22T16:46:11.435134447Z",
     "start_time": "2023-07-22T16:46:11.279523374Z"
    }
   },
   "execution_count": 26,
   "outputs": []
  },
  {
   "cell_type": "code",
   "source": [
    "writer.close()"
   ],
   "metadata": {
    "id": "-hdAovwqYIc3",
    "ExecuteTime": {
     "end_time": "2023-07-22T16:46:11.439315417Z",
     "start_time": "2023-07-22T16:46:11.319823829Z"
    }
   },
   "execution_count": 27,
   "outputs": []
  }
 ]
}
