{
 "cells": [
  {
   "cell_type": "code",
   "execution_count": 1,
   "metadata": {
    "collapsed": true,
    "ExecuteTime": {
     "end_time": "2023-08-01T16:45:00.306753540Z",
     "start_time": "2023-08-01T16:44:59.554120502Z"
    }
   },
   "outputs": [],
   "source": [
    "import yfinance as yf\n",
    "import numpy as np\n",
    "import pandas as pd\n",
    "import math\n",
    "from scipy import stats\n",
    "import xlsxwriter\n",
    "from IPython.display import clear_output"
   ]
  },
  {
   "cell_type": "code",
   "execution_count": 2,
   "metadata": {
    "ExecuteTime": {
     "end_time": "2023-08-01T16:45:01.306125164Z",
     "start_time": "2023-08-01T16:45:01.268865173Z"
    }
   },
   "outputs": [
    {
     "data": {
      "text/plain": "    Ticker\n0        A\n1      AAL\n2      AAP\n3     AAPL\n4     ABBV\n..     ...\n498    YUM\n499    ZBH\n500   ZBRA\n501   ZION\n502    ZTS\n\n[503 rows x 1 columns]",
      "text/html": "<div>\n<style scoped>\n    .dataframe tbody tr th:only-of-type {\n        vertical-align: middle;\n    }\n\n    .dataframe tbody tr th {\n        vertical-align: top;\n    }\n\n    .dataframe thead th {\n        text-align: right;\n    }\n</style>\n<table border=\"1\" class=\"dataframe\">\n  <thead>\n    <tr style=\"text-align: right;\">\n      <th></th>\n      <th>Ticker</th>\n    </tr>\n  </thead>\n  <tbody>\n    <tr>\n      <th>0</th>\n      <td>A</td>\n    </tr>\n    <tr>\n      <th>1</th>\n      <td>AAL</td>\n    </tr>\n    <tr>\n      <th>2</th>\n      <td>AAP</td>\n    </tr>\n    <tr>\n      <th>3</th>\n      <td>AAPL</td>\n    </tr>\n    <tr>\n      <th>4</th>\n      <td>ABBV</td>\n    </tr>\n    <tr>\n      <th>...</th>\n      <td>...</td>\n    </tr>\n    <tr>\n      <th>498</th>\n      <td>YUM</td>\n    </tr>\n    <tr>\n      <th>499</th>\n      <td>ZBH</td>\n    </tr>\n    <tr>\n      <th>500</th>\n      <td>ZBRA</td>\n    </tr>\n    <tr>\n      <th>501</th>\n      <td>ZION</td>\n    </tr>\n    <tr>\n      <th>502</th>\n      <td>ZTS</td>\n    </tr>\n  </tbody>\n</table>\n<p>503 rows × 1 columns</p>\n</div>"
     },
     "execution_count": 2,
     "metadata": {},
     "output_type": "execute_result"
    }
   ],
   "source": [
    "stocks = pd.read_csv('sp500.csv')\n",
    "stocks"
   ]
  },
  {
   "cell_type": "code",
   "execution_count": 3,
   "metadata": {
    "ExecuteTime": {
     "end_time": "2023-08-01T16:45:02.482012273Z",
     "start_time": "2023-08-01T16:45:02.447765369Z"
    }
   },
   "outputs": [
    {
     "data": {
      "text/plain": "Empty DataFrame\nColumns: [Ticker, Stock Price, P/E Ratio, Number of Shares to Buy]\nIndex: []",
      "text/html": "<div>\n<style scoped>\n    .dataframe tbody tr th:only-of-type {\n        vertical-align: middle;\n    }\n\n    .dataframe tbody tr th {\n        vertical-align: top;\n    }\n\n    .dataframe thead th {\n        text-align: right;\n    }\n</style>\n<table border=\"1\" class=\"dataframe\">\n  <thead>\n    <tr style=\"text-align: right;\">\n      <th></th>\n      <th>Ticker</th>\n      <th>Stock Price</th>\n      <th>P/E Ratio</th>\n      <th>Number of Shares to Buy</th>\n    </tr>\n  </thead>\n  <tbody>\n  </tbody>\n</table>\n</div>"
     },
     "execution_count": 3,
     "metadata": {},
     "output_type": "execute_result"
    }
   ],
   "source": [
    "my_columns = ['Ticker', 'Stock Price', 'P/E Ratio', 'Number of Shares to Buy']\n",
    "final_dataframe = pd.DataFrame(columns=my_columns)\n",
    "final_dataframe"
   ]
  },
  {
   "cell_type": "code",
   "execution_count": 4,
   "outputs": [
    {
     "name": "stdout",
     "output_type": "stream",
     "text": [
      "    Ticker  Stock Price  P/E Ratio Number of Shares to Buy\n",
      "0        A     122.8000          0                     N/A\n",
      "1      AAL      16.1550   6.310547                     N/A\n",
      "2      AAP      73.5450  10.927935                     N/A\n",
      "3     AAPL     195.7100  33.227504                     N/A\n",
      "4     ABBV     148.2000  34.870588                     N/A\n",
      "..     ...          ...        ...                     ...\n",
      "498    YUM     136.0104  31.927324                     N/A\n",
      "499    ZBH     131.5600  61.476636                     N/A\n",
      "500   ZBRA     254.9600  32.520408                     N/A\n",
      "501   ZION      37.1200   6.345299                     N/A\n",
      "502    ZTS     185.1700  41.988662                     N/A\n",
      "\n",
      "[503 rows x 4 columns]\n"
     ]
    }
   ],
   "source": [
    "for stock in stocks['Ticker']:\n",
    "    try:\n",
    "        data = yf.Ticker(stock).info\n",
    "        stock_dict = {\n",
    "            'Ticker': [stock],\n",
    "            'Stock Price': [data['currentPrice']],\n",
    "            'P/E Ratio': [data['currentPrice'] / data['trailingEps']],\n",
    "            'Number of Shares to Buy': ['N/A']\n",
    "        }\n",
    "        df = pd.DataFrame(stock_dict)\n",
    "        final_dataframe = pd.concat([final_dataframe, df], ignore_index=True)\n",
    "    except:\n",
    "        data = yf.Ticker(stock).info\n",
    "        stock_dict = {\n",
    "            'Ticker': [stock],\n",
    "            'Stock Price': [data['currentPrice']],\n",
    "            'P/E Ratio': [0],\n",
    "            'Number of Shares to Buy': ['N/A']\n",
    "        }\n",
    "        df = pd.DataFrame(stock_dict)\n",
    "        final_dataframe = pd.concat([final_dataframe, df], ignore_index=True)\n",
    "\n",
    "    clear_output(wait=True)\n",
    "    print(final_dataframe)"
   ],
   "metadata": {
    "collapsed": false
   }
  },
  {
   "cell_type": "code",
   "execution_count": 5,
   "outputs": [
    {
     "data": {
      "text/plain": "    Ticker  Stock Price  P/E Ratio Number of Shares to Buy\n0        A     122.8000          0                     N/A\n1      AAL      16.1550   6.310547                     N/A\n2      AAP      73.5450  10.927935                     N/A\n3     AAPL     195.7100  33.227504                     N/A\n4     ABBV     148.2000  34.870588                     N/A\n..     ...          ...        ...                     ...\n498    YUM     136.0104  31.927324                     N/A\n499    ZBH     131.5600  61.476636                     N/A\n500   ZBRA     254.9600  32.520408                     N/A\n501   ZION      37.1200   6.345299                     N/A\n502    ZTS     185.1700  41.988662                     N/A\n\n[503 rows x 4 columns]",
      "text/html": "<div>\n<style scoped>\n    .dataframe tbody tr th:only-of-type {\n        vertical-align: middle;\n    }\n\n    .dataframe tbody tr th {\n        vertical-align: top;\n    }\n\n    .dataframe thead th {\n        text-align: right;\n    }\n</style>\n<table border=\"1\" class=\"dataframe\">\n  <thead>\n    <tr style=\"text-align: right;\">\n      <th></th>\n      <th>Ticker</th>\n      <th>Stock Price</th>\n      <th>P/E Ratio</th>\n      <th>Number of Shares to Buy</th>\n    </tr>\n  </thead>\n  <tbody>\n    <tr>\n      <th>0</th>\n      <td>A</td>\n      <td>122.8000</td>\n      <td>0</td>\n      <td>N/A</td>\n    </tr>\n    <tr>\n      <th>1</th>\n      <td>AAL</td>\n      <td>16.1550</td>\n      <td>6.310547</td>\n      <td>N/A</td>\n    </tr>\n    <tr>\n      <th>2</th>\n      <td>AAP</td>\n      <td>73.5450</td>\n      <td>10.927935</td>\n      <td>N/A</td>\n    </tr>\n    <tr>\n      <th>3</th>\n      <td>AAPL</td>\n      <td>195.7100</td>\n      <td>33.227504</td>\n      <td>N/A</td>\n    </tr>\n    <tr>\n      <th>4</th>\n      <td>ABBV</td>\n      <td>148.2000</td>\n      <td>34.870588</td>\n      <td>N/A</td>\n    </tr>\n    <tr>\n      <th>...</th>\n      <td>...</td>\n      <td>...</td>\n      <td>...</td>\n      <td>...</td>\n    </tr>\n    <tr>\n      <th>498</th>\n      <td>YUM</td>\n      <td>136.0104</td>\n      <td>31.927324</td>\n      <td>N/A</td>\n    </tr>\n    <tr>\n      <th>499</th>\n      <td>ZBH</td>\n      <td>131.5600</td>\n      <td>61.476636</td>\n      <td>N/A</td>\n    </tr>\n    <tr>\n      <th>500</th>\n      <td>ZBRA</td>\n      <td>254.9600</td>\n      <td>32.520408</td>\n      <td>N/A</td>\n    </tr>\n    <tr>\n      <th>501</th>\n      <td>ZION</td>\n      <td>37.1200</td>\n      <td>6.345299</td>\n      <td>N/A</td>\n    </tr>\n    <tr>\n      <th>502</th>\n      <td>ZTS</td>\n      <td>185.1700</td>\n      <td>41.988662</td>\n      <td>N/A</td>\n    </tr>\n  </tbody>\n</table>\n<p>503 rows × 4 columns</p>\n</div>"
     },
     "execution_count": 5,
     "metadata": {},
     "output_type": "execute_result"
    }
   ],
   "source": [
    "final_dataframe"
   ],
   "metadata": {
    "collapsed": false,
    "ExecuteTime": {
     "end_time": "2023-08-01T17:22:21.042043185Z",
     "start_time": "2023-08-01T17:22:20.997955822Z"
    }
   }
  },
  {
   "cell_type": "code",
   "execution_count": 8,
   "outputs": [],
   "source": [
    "final_dataframe.sort_values('P/E Ratio', ascending=True, inplace=True)\n",
    "final_dataframe = final_dataframe[final_dataframe['P/E Ratio'] > 0]"
   ],
   "metadata": {
    "collapsed": false,
    "ExecuteTime": {
     "end_time": "2023-08-01T17:23:48.951148176Z",
     "start_time": "2023-08-01T17:23:48.901342338Z"
    }
   }
  },
  {
   "cell_type": "code",
   "execution_count": 9,
   "outputs": [
    {
     "data": {
      "text/plain": "    Ticker  Stock Price   P/E Ratio Number of Shares to Buy\n468    VLO      128.840    3.668565                     N/A\n313    MPC      134.140     4.11725                     N/A\n384    PSX      111.900    4.274255                     N/A\n166    EQT       41.470    4.607778                     N/A\n367    PFG       79.020    4.650971                     N/A\n..     ...          ...         ...                     ...\n195   FSLR      203.840  522.666667                     N/A\n116    CRM      223.765   604.77027                     N/A\n29     AMD      117.070  650.388889                     N/A\n286    LVS       59.160  845.142857                     N/A\n97    CINF      108.540      5427.0                     N/A\n\n[460 rows x 4 columns]",
      "text/html": "<div>\n<style scoped>\n    .dataframe tbody tr th:only-of-type {\n        vertical-align: middle;\n    }\n\n    .dataframe tbody tr th {\n        vertical-align: top;\n    }\n\n    .dataframe thead th {\n        text-align: right;\n    }\n</style>\n<table border=\"1\" class=\"dataframe\">\n  <thead>\n    <tr style=\"text-align: right;\">\n      <th></th>\n      <th>Ticker</th>\n      <th>Stock Price</th>\n      <th>P/E Ratio</th>\n      <th>Number of Shares to Buy</th>\n    </tr>\n  </thead>\n  <tbody>\n    <tr>\n      <th>468</th>\n      <td>VLO</td>\n      <td>128.840</td>\n      <td>3.668565</td>\n      <td>N/A</td>\n    </tr>\n    <tr>\n      <th>313</th>\n      <td>MPC</td>\n      <td>134.140</td>\n      <td>4.11725</td>\n      <td>N/A</td>\n    </tr>\n    <tr>\n      <th>384</th>\n      <td>PSX</td>\n      <td>111.900</td>\n      <td>4.274255</td>\n      <td>N/A</td>\n    </tr>\n    <tr>\n      <th>166</th>\n      <td>EQT</td>\n      <td>41.470</td>\n      <td>4.607778</td>\n      <td>N/A</td>\n    </tr>\n    <tr>\n      <th>367</th>\n      <td>PFG</td>\n      <td>79.020</td>\n      <td>4.650971</td>\n      <td>N/A</td>\n    </tr>\n    <tr>\n      <th>...</th>\n      <td>...</td>\n      <td>...</td>\n      <td>...</td>\n      <td>...</td>\n    </tr>\n    <tr>\n      <th>195</th>\n      <td>FSLR</td>\n      <td>203.840</td>\n      <td>522.666667</td>\n      <td>N/A</td>\n    </tr>\n    <tr>\n      <th>116</th>\n      <td>CRM</td>\n      <td>223.765</td>\n      <td>604.77027</td>\n      <td>N/A</td>\n    </tr>\n    <tr>\n      <th>29</th>\n      <td>AMD</td>\n      <td>117.070</td>\n      <td>650.388889</td>\n      <td>N/A</td>\n    </tr>\n    <tr>\n      <th>286</th>\n      <td>LVS</td>\n      <td>59.160</td>\n      <td>845.142857</td>\n      <td>N/A</td>\n    </tr>\n    <tr>\n      <th>97</th>\n      <td>CINF</td>\n      <td>108.540</td>\n      <td>5427.0</td>\n      <td>N/A</td>\n    </tr>\n  </tbody>\n</table>\n<p>460 rows × 4 columns</p>\n</div>"
     },
     "execution_count": 9,
     "metadata": {},
     "output_type": "execute_result"
    }
   ],
   "source": [
    "final_dataframe"
   ],
   "metadata": {
    "collapsed": false,
    "ExecuteTime": {
     "end_time": "2023-08-01T17:23:58.009074206Z",
     "start_time": "2023-08-01T17:23:58.001253979Z"
    }
   }
  },
  {
   "cell_type": "code",
   "execution_count": 10,
   "outputs": [],
   "source": [
    "final_dataframe = final_dataframe[:50]\n",
    "final_dataframe.reset_index(drop=True, inplace=True)"
   ],
   "metadata": {
    "collapsed": false,
    "ExecuteTime": {
     "end_time": "2023-08-01T17:24:14.922214376Z",
     "start_time": "2023-08-01T17:24:14.875214977Z"
    }
   }
  },
  {
   "cell_type": "code",
   "execution_count": 11,
   "outputs": [
    {
     "data": {
      "text/plain": "   Ticker  Stock Price P/E Ratio Number of Shares to Buy\n0     VLO     128.8400  3.668565                     N/A\n1     MPC     134.1400   4.11725                     N/A\n2     PSX     111.9000  4.274255                     N/A\n3     EQT      41.4700  4.607778                     N/A\n4     PFG      79.0200  4.650971                     N/A\n5     MOS      40.2600  4.939877                     N/A\n6    CTRA      27.5001  5.268218                     N/A\n7      CF      81.1600  5.403462                     N/A\n8     CMA      52.3500  5.464509                     N/A\n9     DVN      53.4850  5.832606                     N/A\n10     GM      38.1150  5.891036                     N/A\n11   FANG     146.7500  6.079122                     N/A\n12   STLD     106.8900  6.189346                     N/A\n13    APA      39.8650  6.258242                     N/A\n14    SYF      34.4400  6.261818                     N/A\n15    MRO      25.9850   6.27657                     N/A\n16    AAL      16.1550  6.310547                     N/A\n17   ZION      37.1200  6.345299                     N/A\n18   VTRS      10.2150  6.506369                     N/A\n19    ALB     207.0200  6.635256                     N/A\n20     VZ      33.3938   6.67876                     N/A\n21    UAL      52.8850  6.736943                     N/A\n22    CFG      31.1200  7.009009                     N/A\n23    PHM      84.3250  7.015391                     N/A\n24    PFE      35.8550  7.071992                     N/A\n25    OXY      62.2450  7.113714                     N/A\n26    XOM     106.2170  7.191401                     N/A\n27    DFS     104.7400  7.268563                     N/A\n28    OGN      21.7000  7.355932                     N/A\n29      C      46.9550  7.441363                     N/A\n30    TFC      32.5350  7.513857                     N/A\n31    AIG      60.3000    7.5375                     N/A\n32   HBAN      12.1550  7.841935                     N/A\n33    PXD     223.2891  7.898447                     N/A\n34    KEY      11.8350  7.942953                     N/A\n35     IP      36.0100  7.949227                     N/A\n36    NUE     173.0400  7.955862                     N/A\n37    MTB     137.5400  8.029189                     N/A\n38   FITB      28.6047  8.172771                     N/A\n39    EOG     130.9100  8.181875                     N/A\n40     RF      20.1850  8.589362                     N/A\n41    LEN     126.4400  8.642515                     N/A\n42    CVX     161.2700  8.707883                     N/A\n43    COF     116.1550  8.846535                     N/A\n44    GEN      19.2650  8.918981                     N/A\n45    BAC      31.5700  9.071839                     N/A\n46    DHI     127.8100  9.096797                     N/A\n47     CE     125.1000  9.158126                     N/A\n48    PNC     135.2600  9.277092                     N/A\n49    COP     117.4100   9.34793                     N/A",
      "text/html": "<div>\n<style scoped>\n    .dataframe tbody tr th:only-of-type {\n        vertical-align: middle;\n    }\n\n    .dataframe tbody tr th {\n        vertical-align: top;\n    }\n\n    .dataframe thead th {\n        text-align: right;\n    }\n</style>\n<table border=\"1\" class=\"dataframe\">\n  <thead>\n    <tr style=\"text-align: right;\">\n      <th></th>\n      <th>Ticker</th>\n      <th>Stock Price</th>\n      <th>P/E Ratio</th>\n      <th>Number of Shares to Buy</th>\n    </tr>\n  </thead>\n  <tbody>\n    <tr>\n      <th>0</th>\n      <td>VLO</td>\n      <td>128.8400</td>\n      <td>3.668565</td>\n      <td>N/A</td>\n    </tr>\n    <tr>\n      <th>1</th>\n      <td>MPC</td>\n      <td>134.1400</td>\n      <td>4.11725</td>\n      <td>N/A</td>\n    </tr>\n    <tr>\n      <th>2</th>\n      <td>PSX</td>\n      <td>111.9000</td>\n      <td>4.274255</td>\n      <td>N/A</td>\n    </tr>\n    <tr>\n      <th>3</th>\n      <td>EQT</td>\n      <td>41.4700</td>\n      <td>4.607778</td>\n      <td>N/A</td>\n    </tr>\n    <tr>\n      <th>4</th>\n      <td>PFG</td>\n      <td>79.0200</td>\n      <td>4.650971</td>\n      <td>N/A</td>\n    </tr>\n    <tr>\n      <th>5</th>\n      <td>MOS</td>\n      <td>40.2600</td>\n      <td>4.939877</td>\n      <td>N/A</td>\n    </tr>\n    <tr>\n      <th>6</th>\n      <td>CTRA</td>\n      <td>27.5001</td>\n      <td>5.268218</td>\n      <td>N/A</td>\n    </tr>\n    <tr>\n      <th>7</th>\n      <td>CF</td>\n      <td>81.1600</td>\n      <td>5.403462</td>\n      <td>N/A</td>\n    </tr>\n    <tr>\n      <th>8</th>\n      <td>CMA</td>\n      <td>52.3500</td>\n      <td>5.464509</td>\n      <td>N/A</td>\n    </tr>\n    <tr>\n      <th>9</th>\n      <td>DVN</td>\n      <td>53.4850</td>\n      <td>5.832606</td>\n      <td>N/A</td>\n    </tr>\n    <tr>\n      <th>10</th>\n      <td>GM</td>\n      <td>38.1150</td>\n      <td>5.891036</td>\n      <td>N/A</td>\n    </tr>\n    <tr>\n      <th>11</th>\n      <td>FANG</td>\n      <td>146.7500</td>\n      <td>6.079122</td>\n      <td>N/A</td>\n    </tr>\n    <tr>\n      <th>12</th>\n      <td>STLD</td>\n      <td>106.8900</td>\n      <td>6.189346</td>\n      <td>N/A</td>\n    </tr>\n    <tr>\n      <th>13</th>\n      <td>APA</td>\n      <td>39.8650</td>\n      <td>6.258242</td>\n      <td>N/A</td>\n    </tr>\n    <tr>\n      <th>14</th>\n      <td>SYF</td>\n      <td>34.4400</td>\n      <td>6.261818</td>\n      <td>N/A</td>\n    </tr>\n    <tr>\n      <th>15</th>\n      <td>MRO</td>\n      <td>25.9850</td>\n      <td>6.27657</td>\n      <td>N/A</td>\n    </tr>\n    <tr>\n      <th>16</th>\n      <td>AAL</td>\n      <td>16.1550</td>\n      <td>6.310547</td>\n      <td>N/A</td>\n    </tr>\n    <tr>\n      <th>17</th>\n      <td>ZION</td>\n      <td>37.1200</td>\n      <td>6.345299</td>\n      <td>N/A</td>\n    </tr>\n    <tr>\n      <th>18</th>\n      <td>VTRS</td>\n      <td>10.2150</td>\n      <td>6.506369</td>\n      <td>N/A</td>\n    </tr>\n    <tr>\n      <th>19</th>\n      <td>ALB</td>\n      <td>207.0200</td>\n      <td>6.635256</td>\n      <td>N/A</td>\n    </tr>\n    <tr>\n      <th>20</th>\n      <td>VZ</td>\n      <td>33.3938</td>\n      <td>6.67876</td>\n      <td>N/A</td>\n    </tr>\n    <tr>\n      <th>21</th>\n      <td>UAL</td>\n      <td>52.8850</td>\n      <td>6.736943</td>\n      <td>N/A</td>\n    </tr>\n    <tr>\n      <th>22</th>\n      <td>CFG</td>\n      <td>31.1200</td>\n      <td>7.009009</td>\n      <td>N/A</td>\n    </tr>\n    <tr>\n      <th>23</th>\n      <td>PHM</td>\n      <td>84.3250</td>\n      <td>7.015391</td>\n      <td>N/A</td>\n    </tr>\n    <tr>\n      <th>24</th>\n      <td>PFE</td>\n      <td>35.8550</td>\n      <td>7.071992</td>\n      <td>N/A</td>\n    </tr>\n    <tr>\n      <th>25</th>\n      <td>OXY</td>\n      <td>62.2450</td>\n      <td>7.113714</td>\n      <td>N/A</td>\n    </tr>\n    <tr>\n      <th>26</th>\n      <td>XOM</td>\n      <td>106.2170</td>\n      <td>7.191401</td>\n      <td>N/A</td>\n    </tr>\n    <tr>\n      <th>27</th>\n      <td>DFS</td>\n      <td>104.7400</td>\n      <td>7.268563</td>\n      <td>N/A</td>\n    </tr>\n    <tr>\n      <th>28</th>\n      <td>OGN</td>\n      <td>21.7000</td>\n      <td>7.355932</td>\n      <td>N/A</td>\n    </tr>\n    <tr>\n      <th>29</th>\n      <td>C</td>\n      <td>46.9550</td>\n      <td>7.441363</td>\n      <td>N/A</td>\n    </tr>\n    <tr>\n      <th>30</th>\n      <td>TFC</td>\n      <td>32.5350</td>\n      <td>7.513857</td>\n      <td>N/A</td>\n    </tr>\n    <tr>\n      <th>31</th>\n      <td>AIG</td>\n      <td>60.3000</td>\n      <td>7.5375</td>\n      <td>N/A</td>\n    </tr>\n    <tr>\n      <th>32</th>\n      <td>HBAN</td>\n      <td>12.1550</td>\n      <td>7.841935</td>\n      <td>N/A</td>\n    </tr>\n    <tr>\n      <th>33</th>\n      <td>PXD</td>\n      <td>223.2891</td>\n      <td>7.898447</td>\n      <td>N/A</td>\n    </tr>\n    <tr>\n      <th>34</th>\n      <td>KEY</td>\n      <td>11.8350</td>\n      <td>7.942953</td>\n      <td>N/A</td>\n    </tr>\n    <tr>\n      <th>35</th>\n      <td>IP</td>\n      <td>36.0100</td>\n      <td>7.949227</td>\n      <td>N/A</td>\n    </tr>\n    <tr>\n      <th>36</th>\n      <td>NUE</td>\n      <td>173.0400</td>\n      <td>7.955862</td>\n      <td>N/A</td>\n    </tr>\n    <tr>\n      <th>37</th>\n      <td>MTB</td>\n      <td>137.5400</td>\n      <td>8.029189</td>\n      <td>N/A</td>\n    </tr>\n    <tr>\n      <th>38</th>\n      <td>FITB</td>\n      <td>28.6047</td>\n      <td>8.172771</td>\n      <td>N/A</td>\n    </tr>\n    <tr>\n      <th>39</th>\n      <td>EOG</td>\n      <td>130.9100</td>\n      <td>8.181875</td>\n      <td>N/A</td>\n    </tr>\n    <tr>\n      <th>40</th>\n      <td>RF</td>\n      <td>20.1850</td>\n      <td>8.589362</td>\n      <td>N/A</td>\n    </tr>\n    <tr>\n      <th>41</th>\n      <td>LEN</td>\n      <td>126.4400</td>\n      <td>8.642515</td>\n      <td>N/A</td>\n    </tr>\n    <tr>\n      <th>42</th>\n      <td>CVX</td>\n      <td>161.2700</td>\n      <td>8.707883</td>\n      <td>N/A</td>\n    </tr>\n    <tr>\n      <th>43</th>\n      <td>COF</td>\n      <td>116.1550</td>\n      <td>8.846535</td>\n      <td>N/A</td>\n    </tr>\n    <tr>\n      <th>44</th>\n      <td>GEN</td>\n      <td>19.2650</td>\n      <td>8.918981</td>\n      <td>N/A</td>\n    </tr>\n    <tr>\n      <th>45</th>\n      <td>BAC</td>\n      <td>31.5700</td>\n      <td>9.071839</td>\n      <td>N/A</td>\n    </tr>\n    <tr>\n      <th>46</th>\n      <td>DHI</td>\n      <td>127.8100</td>\n      <td>9.096797</td>\n      <td>N/A</td>\n    </tr>\n    <tr>\n      <th>47</th>\n      <td>CE</td>\n      <td>125.1000</td>\n      <td>9.158126</td>\n      <td>N/A</td>\n    </tr>\n    <tr>\n      <th>48</th>\n      <td>PNC</td>\n      <td>135.2600</td>\n      <td>9.277092</td>\n      <td>N/A</td>\n    </tr>\n    <tr>\n      <th>49</th>\n      <td>COP</td>\n      <td>117.4100</td>\n      <td>9.34793</td>\n      <td>N/A</td>\n    </tr>\n  </tbody>\n</table>\n</div>"
     },
     "execution_count": 11,
     "metadata": {},
     "output_type": "execute_result"
    }
   ],
   "source": [
    "final_dataframe"
   ],
   "metadata": {
    "collapsed": false,
    "ExecuteTime": {
     "end_time": "2023-08-01T17:24:17.961941389Z",
     "start_time": "2023-08-01T17:24:17.942096315Z"
    }
   }
  },
  {
   "cell_type": "code",
   "execution_count": 12,
   "outputs": [
    {
     "data": {
      "text/plain": "10000000"
     },
     "execution_count": 12,
     "metadata": {},
     "output_type": "execute_result"
    }
   ],
   "source": [
    "# portfolio_size = float(input(\"Enter your portfolio value: \"))\n",
    "portfolio_size = 10000000\n",
    "portfolio_size"
   ],
   "metadata": {
    "collapsed": false,
    "ExecuteTime": {
     "end_time": "2023-08-01T17:26:27.636209889Z",
     "start_time": "2023-08-01T17:26:27.586565486Z"
    }
   }
  },
  {
   "cell_type": "code",
   "execution_count": 14,
   "outputs": [
    {
     "data": {
      "text/plain": "200000.0"
     },
     "execution_count": 14,
     "metadata": {},
     "output_type": "execute_result"
    }
   ],
   "source": [
    "position_size = float(portfolio_size) / len(final_dataframe.index)\n",
    "position_size"
   ],
   "metadata": {
    "collapsed": false,
    "ExecuteTime": {
     "end_time": "2023-08-01T17:27:38.202615517Z",
     "start_time": "2023-08-01T17:27:38.158402540Z"
    }
   }
  },
  {
   "cell_type": "code",
   "execution_count": 15,
   "outputs": [
    {
     "data": {
      "text/plain": "   Ticker  Stock Price P/E Ratio Number of Shares to Buy\n0     VLO     128.8400  3.668565                    1552\n1     MPC     134.1400   4.11725                    1490\n2     PSX     111.9000  4.274255                    1787\n3     EQT      41.4700  4.607778                    4822\n4     PFG      79.0200  4.650971                    2531\n5     MOS      40.2600  4.939877                    4967\n6    CTRA      27.5001  5.268218                    7272\n7      CF      81.1600  5.403462                    2464\n8     CMA      52.3500  5.464509                    3820\n9     DVN      53.4850  5.832606                    3739\n10     GM      38.1150  5.891036                    5247\n11   FANG     146.7500  6.079122                    1362\n12   STLD     106.8900  6.189346                    1871\n13    APA      39.8650  6.258242                    5016\n14    SYF      34.4400  6.261818                    5807\n15    MRO      25.9850   6.27657                    7696\n16    AAL      16.1550  6.310547                   12380\n17   ZION      37.1200  6.345299                    5387\n18   VTRS      10.2150  6.506369                   19579\n19    ALB     207.0200  6.635256                     966\n20     VZ      33.3938   6.67876                    5989\n21    UAL      52.8850  6.736943                    3781\n22    CFG      31.1200  7.009009                    6426\n23    PHM      84.3250  7.015391                    2371\n24    PFE      35.8550  7.071992                    5578\n25    OXY      62.2450  7.113714                    3213\n26    XOM     106.2170  7.191401                    1882\n27    DFS     104.7400  7.268563                    1909\n28    OGN      21.7000  7.355932                    9216\n29      C      46.9550  7.441363                    4259\n30    TFC      32.5350  7.513857                    6147\n31    AIG      60.3000    7.5375                    3316\n32   HBAN      12.1550  7.841935                   16454\n33    PXD     223.2891  7.898447                     895\n34    KEY      11.8350  7.942953                   16899\n35     IP      36.0100  7.949227                    5554\n36    NUE     173.0400  7.955862                    1155\n37    MTB     137.5400  8.029189                    1454\n38   FITB      28.6047  8.172771                    6991\n39    EOG     130.9100  8.181875                    1527\n40     RF      20.1850  8.589362                    9908\n41    LEN     126.4400  8.642515                    1581\n42    CVX     161.2700  8.707883                    1240\n43    COF     116.1550  8.846535                    1721\n44    GEN      19.2650  8.918981                   10381\n45    BAC      31.5700  9.071839                    6335\n46    DHI     127.8100  9.096797                    1564\n47     CE     125.1000  9.158126                    1598\n48    PNC     135.2600  9.277092                    1478\n49    COP     117.4100   9.34793                    1703",
      "text/html": "<div>\n<style scoped>\n    .dataframe tbody tr th:only-of-type {\n        vertical-align: middle;\n    }\n\n    .dataframe tbody tr th {\n        vertical-align: top;\n    }\n\n    .dataframe thead th {\n        text-align: right;\n    }\n</style>\n<table border=\"1\" class=\"dataframe\">\n  <thead>\n    <tr style=\"text-align: right;\">\n      <th></th>\n      <th>Ticker</th>\n      <th>Stock Price</th>\n      <th>P/E Ratio</th>\n      <th>Number of Shares to Buy</th>\n    </tr>\n  </thead>\n  <tbody>\n    <tr>\n      <th>0</th>\n      <td>VLO</td>\n      <td>128.8400</td>\n      <td>3.668565</td>\n      <td>1552</td>\n    </tr>\n    <tr>\n      <th>1</th>\n      <td>MPC</td>\n      <td>134.1400</td>\n      <td>4.11725</td>\n      <td>1490</td>\n    </tr>\n    <tr>\n      <th>2</th>\n      <td>PSX</td>\n      <td>111.9000</td>\n      <td>4.274255</td>\n      <td>1787</td>\n    </tr>\n    <tr>\n      <th>3</th>\n      <td>EQT</td>\n      <td>41.4700</td>\n      <td>4.607778</td>\n      <td>4822</td>\n    </tr>\n    <tr>\n      <th>4</th>\n      <td>PFG</td>\n      <td>79.0200</td>\n      <td>4.650971</td>\n      <td>2531</td>\n    </tr>\n    <tr>\n      <th>5</th>\n      <td>MOS</td>\n      <td>40.2600</td>\n      <td>4.939877</td>\n      <td>4967</td>\n    </tr>\n    <tr>\n      <th>6</th>\n      <td>CTRA</td>\n      <td>27.5001</td>\n      <td>5.268218</td>\n      <td>7272</td>\n    </tr>\n    <tr>\n      <th>7</th>\n      <td>CF</td>\n      <td>81.1600</td>\n      <td>5.403462</td>\n      <td>2464</td>\n    </tr>\n    <tr>\n      <th>8</th>\n      <td>CMA</td>\n      <td>52.3500</td>\n      <td>5.464509</td>\n      <td>3820</td>\n    </tr>\n    <tr>\n      <th>9</th>\n      <td>DVN</td>\n      <td>53.4850</td>\n      <td>5.832606</td>\n      <td>3739</td>\n    </tr>\n    <tr>\n      <th>10</th>\n      <td>GM</td>\n      <td>38.1150</td>\n      <td>5.891036</td>\n      <td>5247</td>\n    </tr>\n    <tr>\n      <th>11</th>\n      <td>FANG</td>\n      <td>146.7500</td>\n      <td>6.079122</td>\n      <td>1362</td>\n    </tr>\n    <tr>\n      <th>12</th>\n      <td>STLD</td>\n      <td>106.8900</td>\n      <td>6.189346</td>\n      <td>1871</td>\n    </tr>\n    <tr>\n      <th>13</th>\n      <td>APA</td>\n      <td>39.8650</td>\n      <td>6.258242</td>\n      <td>5016</td>\n    </tr>\n    <tr>\n      <th>14</th>\n      <td>SYF</td>\n      <td>34.4400</td>\n      <td>6.261818</td>\n      <td>5807</td>\n    </tr>\n    <tr>\n      <th>15</th>\n      <td>MRO</td>\n      <td>25.9850</td>\n      <td>6.27657</td>\n      <td>7696</td>\n    </tr>\n    <tr>\n      <th>16</th>\n      <td>AAL</td>\n      <td>16.1550</td>\n      <td>6.310547</td>\n      <td>12380</td>\n    </tr>\n    <tr>\n      <th>17</th>\n      <td>ZION</td>\n      <td>37.1200</td>\n      <td>6.345299</td>\n      <td>5387</td>\n    </tr>\n    <tr>\n      <th>18</th>\n      <td>VTRS</td>\n      <td>10.2150</td>\n      <td>6.506369</td>\n      <td>19579</td>\n    </tr>\n    <tr>\n      <th>19</th>\n      <td>ALB</td>\n      <td>207.0200</td>\n      <td>6.635256</td>\n      <td>966</td>\n    </tr>\n    <tr>\n      <th>20</th>\n      <td>VZ</td>\n      <td>33.3938</td>\n      <td>6.67876</td>\n      <td>5989</td>\n    </tr>\n    <tr>\n      <th>21</th>\n      <td>UAL</td>\n      <td>52.8850</td>\n      <td>6.736943</td>\n      <td>3781</td>\n    </tr>\n    <tr>\n      <th>22</th>\n      <td>CFG</td>\n      <td>31.1200</td>\n      <td>7.009009</td>\n      <td>6426</td>\n    </tr>\n    <tr>\n      <th>23</th>\n      <td>PHM</td>\n      <td>84.3250</td>\n      <td>7.015391</td>\n      <td>2371</td>\n    </tr>\n    <tr>\n      <th>24</th>\n      <td>PFE</td>\n      <td>35.8550</td>\n      <td>7.071992</td>\n      <td>5578</td>\n    </tr>\n    <tr>\n      <th>25</th>\n      <td>OXY</td>\n      <td>62.2450</td>\n      <td>7.113714</td>\n      <td>3213</td>\n    </tr>\n    <tr>\n      <th>26</th>\n      <td>XOM</td>\n      <td>106.2170</td>\n      <td>7.191401</td>\n      <td>1882</td>\n    </tr>\n    <tr>\n      <th>27</th>\n      <td>DFS</td>\n      <td>104.7400</td>\n      <td>7.268563</td>\n      <td>1909</td>\n    </tr>\n    <tr>\n      <th>28</th>\n      <td>OGN</td>\n      <td>21.7000</td>\n      <td>7.355932</td>\n      <td>9216</td>\n    </tr>\n    <tr>\n      <th>29</th>\n      <td>C</td>\n      <td>46.9550</td>\n      <td>7.441363</td>\n      <td>4259</td>\n    </tr>\n    <tr>\n      <th>30</th>\n      <td>TFC</td>\n      <td>32.5350</td>\n      <td>7.513857</td>\n      <td>6147</td>\n    </tr>\n    <tr>\n      <th>31</th>\n      <td>AIG</td>\n      <td>60.3000</td>\n      <td>7.5375</td>\n      <td>3316</td>\n    </tr>\n    <tr>\n      <th>32</th>\n      <td>HBAN</td>\n      <td>12.1550</td>\n      <td>7.841935</td>\n      <td>16454</td>\n    </tr>\n    <tr>\n      <th>33</th>\n      <td>PXD</td>\n      <td>223.2891</td>\n      <td>7.898447</td>\n      <td>895</td>\n    </tr>\n    <tr>\n      <th>34</th>\n      <td>KEY</td>\n      <td>11.8350</td>\n      <td>7.942953</td>\n      <td>16899</td>\n    </tr>\n    <tr>\n      <th>35</th>\n      <td>IP</td>\n      <td>36.0100</td>\n      <td>7.949227</td>\n      <td>5554</td>\n    </tr>\n    <tr>\n      <th>36</th>\n      <td>NUE</td>\n      <td>173.0400</td>\n      <td>7.955862</td>\n      <td>1155</td>\n    </tr>\n    <tr>\n      <th>37</th>\n      <td>MTB</td>\n      <td>137.5400</td>\n      <td>8.029189</td>\n      <td>1454</td>\n    </tr>\n    <tr>\n      <th>38</th>\n      <td>FITB</td>\n      <td>28.6047</td>\n      <td>8.172771</td>\n      <td>6991</td>\n    </tr>\n    <tr>\n      <th>39</th>\n      <td>EOG</td>\n      <td>130.9100</td>\n      <td>8.181875</td>\n      <td>1527</td>\n    </tr>\n    <tr>\n      <th>40</th>\n      <td>RF</td>\n      <td>20.1850</td>\n      <td>8.589362</td>\n      <td>9908</td>\n    </tr>\n    <tr>\n      <th>41</th>\n      <td>LEN</td>\n      <td>126.4400</td>\n      <td>8.642515</td>\n      <td>1581</td>\n    </tr>\n    <tr>\n      <th>42</th>\n      <td>CVX</td>\n      <td>161.2700</td>\n      <td>8.707883</td>\n      <td>1240</td>\n    </tr>\n    <tr>\n      <th>43</th>\n      <td>COF</td>\n      <td>116.1550</td>\n      <td>8.846535</td>\n      <td>1721</td>\n    </tr>\n    <tr>\n      <th>44</th>\n      <td>GEN</td>\n      <td>19.2650</td>\n      <td>8.918981</td>\n      <td>10381</td>\n    </tr>\n    <tr>\n      <th>45</th>\n      <td>BAC</td>\n      <td>31.5700</td>\n      <td>9.071839</td>\n      <td>6335</td>\n    </tr>\n    <tr>\n      <th>46</th>\n      <td>DHI</td>\n      <td>127.8100</td>\n      <td>9.096797</td>\n      <td>1564</td>\n    </tr>\n    <tr>\n      <th>47</th>\n      <td>CE</td>\n      <td>125.1000</td>\n      <td>9.158126</td>\n      <td>1598</td>\n    </tr>\n    <tr>\n      <th>48</th>\n      <td>PNC</td>\n      <td>135.2600</td>\n      <td>9.277092</td>\n      <td>1478</td>\n    </tr>\n    <tr>\n      <th>49</th>\n      <td>COP</td>\n      <td>117.4100</td>\n      <td>9.34793</td>\n      <td>1703</td>\n    </tr>\n  </tbody>\n</table>\n</div>"
     },
     "execution_count": 15,
     "metadata": {},
     "output_type": "execute_result"
    }
   ],
   "source": [
    "for i in range(len(final_dataframe.index)):\n",
    "    final_dataframe.loc[i, 'Number of Shares to Buy'] = math.floor(\n",
    "        position_size / final_dataframe.loc[i, 'Stock Price'])\n",
    "\n",
    "final_dataframe"
   ],
   "metadata": {
    "collapsed": false,
    "ExecuteTime": {
     "end_time": "2023-08-01T17:28:39.229240704Z",
     "start_time": "2023-08-01T17:28:39.182881007Z"
    }
   }
  },
  {
   "cell_type": "code",
   "execution_count": 16,
   "outputs": [
    {
     "data": {
      "text/plain": "36.50270855904659"
     },
     "execution_count": 16,
     "metadata": {},
     "output_type": "execute_result"
    }
   ],
   "source": [
    "# Price-to-Earning Ratio\n",
    "data = yf.Ticker('MSFT').info\n",
    "peRatio = data['currentPrice'] / data['trailingEps']\n",
    "peRatio"
   ],
   "metadata": {
    "collapsed": false,
    "ExecuteTime": {
     "end_time": "2023-08-01T17:35:59.683331464Z",
     "start_time": "2023-08-01T17:35:58.094632292Z"
    }
   }
  },
  {
   "cell_type": "code",
   "execution_count": 18,
   "outputs": [
    {
     "data": {
      "text/plain": "12.87035"
     },
     "execution_count": 18,
     "metadata": {},
     "output_type": "execute_result"
    }
   ],
   "source": [
    "# Price-to-Book Ratio\n",
    "data['priceToBook']"
   ],
   "metadata": {
    "collapsed": false,
    "ExecuteTime": {
     "end_time": "2023-08-01T17:37:49.426278147Z",
     "start_time": "2023-08-01T17:37:49.375583519Z"
    }
   }
  },
  {
   "cell_type": "code",
   "execution_count": 19,
   "outputs": [
    {
     "data": {
      "text/plain": "{'address1': 'One Microsoft Way',\n 'city': 'Redmond',\n 'state': 'WA',\n 'zip': '98052-6399',\n 'country': 'United States',\n 'phone': '425 882 8080',\n 'website': 'https://www.microsoft.com',\n 'industry': 'Software—Infrastructure',\n 'industryDisp': 'Software—Infrastructure',\n 'sector': 'Technology',\n 'sectorDisp': 'Technology',\n 'longBusinessSummary': 'Microsoft Corporation develops and supports software, services, devices and solutions worldwide. The Productivity and Business Processes segment offers office, exchange, SharePoint, Microsoft Teams, office 365 Security and Compliance, Microsoft viva, and Microsoft 365 copilot; and office consumer services, such as Microsoft 365 consumer subscriptions, Office licensed on-premises, and other office services. This segment also provides LinkedIn; and dynamics business solutions, including Dynamics 365, a set of intelligent, cloud-based applications across ERP, CRM, power apps, and power automate; and on-premises ERP and CRM applications. The Intelligent Cloud segment provides server products and cloud services, such as azure and other cloud services; SQL and windows server, visual studio, system center, and related client access licenses, as well as nuance and GitHub; and enterprise services including enterprise support services, industry solutions, and nuance professional services. The More Personal Computing segment offers Windows, including windows OEM licensing and other non-volume licensing of the Windows operating system; Windows commercial comprising volume licensing of the Windows operating system, windows cloud services, and other Windows commercial offerings; patent licensing; and windows Internet of Things; and devices, such as surface, HoloLens, and PC accessories. Additionally, this segment provides gaming, which includes Xbox hardware and content, and first- and third-party content; Xbox game pass and other subscriptions, cloud gaming, advertising, third-party disc royalties, and other cloud services; and search and news advertising, which includes Bing, Microsoft News and Edge, and third-party affiliates. The company sells its products through OEMs, distributors, and resellers; and directly through digital marketplaces, online, and retail stores. The company was founded in 1975 and is headquartered in Redmond, Washington.',\n 'companyOfficers': [{'maxAge': 1,\n   'name': 'Mr. Satya  Nadella',\n   'age': 55,\n   'title': 'Chairman & CEO',\n   'yearBorn': 1967,\n   'fiscalYear': 2022,\n   'totalPay': 12676750,\n   'exercisedValue': 0,\n   'unexercisedValue': 0},\n  {'maxAge': 1,\n   'name': 'Mr. Bradford L. Smith LCA',\n   'age': 63,\n   'title': 'Pres & Vice Chairman',\n   'yearBorn': 1959,\n   'fiscalYear': 2022,\n   'totalPay': 4655274,\n   'exercisedValue': 0,\n   'unexercisedValue': 0},\n  {'maxAge': 1,\n   'name': 'Ms. Amy E. Hood',\n   'age': 50,\n   'title': 'Exec. VP & CFO',\n   'yearBorn': 1972,\n   'fiscalYear': 2022,\n   'totalPay': 4637915,\n   'exercisedValue': 0,\n   'unexercisedValue': 0},\n  {'maxAge': 1,\n   'name': 'Mr. Judson  Althoff',\n   'age': 49,\n   'title': 'Exec. VP & Chief Commercial Officer',\n   'yearBorn': 1973,\n   'fiscalYear': 2022,\n   'totalPay': 4428268,\n   'exercisedValue': 0,\n   'unexercisedValue': 0},\n  {'maxAge': 1,\n   'name': 'Mr. Christopher David Young',\n   'age': 50,\n   'title': 'Exec. VP of Bus. Devel., Strategy & Ventures',\n   'yearBorn': 1972,\n   'fiscalYear': 2022,\n   'totalPay': 4588876,\n   'exercisedValue': 0,\n   'unexercisedValue': 0},\n  {'maxAge': 1,\n   'name': 'Ms. Alice L. Jolla',\n   'age': 55,\n   'title': 'Corp. VP & Chief Accounting Officer',\n   'yearBorn': 1967,\n   'exercisedValue': 0,\n   'unexercisedValue': 0},\n  {'maxAge': 1,\n   'name': 'Mr. James Kevin Scott',\n   'age': 50,\n   'title': 'Exec. VP of AI & CTO',\n   'yearBorn': 1972,\n   'exercisedValue': 0,\n   'unexercisedValue': 0},\n  {'maxAge': 1,\n   'name': 'Brett  Iversen',\n   'title': 'Gen. Mang. of Investor Relations',\n   'exercisedValue': 0,\n   'unexercisedValue': 0},\n  {'maxAge': 1,\n   'name': 'Mr. Frank X. Shaw',\n   'title': 'Corp. VP for Corp. Communications',\n   'exercisedValue': 0,\n   'unexercisedValue': 0},\n  {'maxAge': 1,\n   'name': 'Mr. Christopher C. Capossela',\n   'age': 52,\n   'title': 'Exec. VP & Chief Marketing Officer',\n   'yearBorn': 1970,\n   'exercisedValue': 0,\n   'unexercisedValue': 0}],\n 'auditRisk': 5,\n 'boardRisk': 5,\n 'compensationRisk': 2,\n 'shareHolderRightsRisk': 2,\n 'overallRisk': 2,\n 'governanceEpochDate': 1690761600,\n 'compensationAsOfEpochDate': 1672444800,\n 'maxAge': 86400,\n 'priceHint': 2,\n 'previousClose': 335.92,\n 'open': 335.19,\n 'dayLow': 333.71,\n 'dayHigh': 338.54,\n 'regularMarketPreviousClose': 335.92,\n 'regularMarketOpen': 335.19,\n 'regularMarketDayLow': 333.71,\n 'regularMarketDayHigh': 338.54,\n 'dividendRate': 2.72,\n 'dividendYield': 0.0081,\n 'exDividendDate': 1692144000,\n 'payoutRatio': 0.2748,\n 'fiveYearAvgDividendYield': 1.06,\n 'trailingPE': 36.502712,\n 'forwardPE': 26.760921,\n 'volume': 11084415,\n 'regularMarketVolume': 11084415,\n 'averageVolume': 28932579,\n 'averageVolume10days': 42797230,\n 'averageDailyVolume10Day': 42797230,\n 'bid': 337.88,\n 'ask': 337.94,\n 'bidSize': 1200,\n 'askSize': 1000,\n 'marketCap': 2505165242368,\n 'fiftyTwoWeekLow': 213.43,\n 'fiftyTwoWeekHigh': 366.78,\n 'fiftyDayAverage': 335.3458,\n 'twoHundredDayAverage': 277.62335,\n 'trailingAnnualDividendRate': 0.0,\n 'trailingAnnualDividendYield': 0.0,\n 'currency': 'USD',\n 'profitMargins': 0.0,\n 'sharesOutstanding': 7435489792,\n 'sharesShort': 42497800,\n 'sharesShortPriorMonth': 44270818,\n 'sharesShortPreviousMonthDate': 1686787200,\n 'dateShortInterest': 1689292800,\n 'sharesPercentSharesOut': 0.0057,\n 'heldPercentInsiders': 0.00052,\n 'heldPercentInstitutions': 0.73212,\n 'shortRatio': 1.66,\n 'shortPercentOfFloat': 0.0057,\n 'impliedSharesOutstanding': 0,\n 'bookValue': 26.178,\n 'priceToBook': 12.87035,\n 'lastFiscalYearEnd': 1688083200,\n 'nextFiscalYearEnd': 1719705600,\n 'mostRecentQuarter': 1688083200,\n 'trailingEps': 9.23,\n 'forwardEps': 12.59,\n 'pegRatio': 2.13,\n 'lastSplitFactor': '2:1',\n 'lastSplitDate': 1045526400,\n '52WeekChange': 22.232735,\n 'SandP52WeekChange': 12.166882,\n 'lastDividendValue': 0.68,\n 'lastDividendDate': 1684281600,\n 'exchange': 'NMS',\n 'quoteType': 'EQUITY',\n 'symbol': 'MSFT',\n 'underlyingSymbol': 'MSFT',\n 'shortName': 'Microsoft Corporation',\n 'longName': 'Microsoft Corporation',\n 'firstTradeDateEpochUtc': 511108200,\n 'timeZoneFullName': 'America/New_York',\n 'timeZoneShortName': 'EDT',\n 'uuid': 'b004b3ec-de24-385e-b2c1-923f10d3fb62',\n 'messageBoardId': 'finmb_21835',\n 'gmtOffSetMilliseconds': -14400000,\n 'currentPrice': 336.92,\n 'targetHighPrice': 433.4,\n 'targetLowPrice': 232.0,\n 'targetMeanPrice': 385.03,\n 'targetMedianPrice': 400.0,\n 'recommendationMean': 1.8,\n 'recommendationKey': 'buy',\n 'numberOfAnalystOpinions': 43,\n 'grossMargins': 0.0,\n 'ebitdaMargins': 0.0,\n 'operatingMargins': 0.0,\n 'financialCurrency': 'USD',\n 'trailingPegRatio': 2.4673}"
     },
     "execution_count": 19,
     "metadata": {},
     "output_type": "execute_result"
    }
   ],
   "source": [
    "# Price-to-Sales Ratio\n",
    "data"
   ],
   "metadata": {
    "collapsed": false,
    "ExecuteTime": {
     "end_time": "2023-08-01T17:38:12.994688804Z",
     "start_time": "2023-08-01T17:38:12.945868831Z"
    }
   }
  },
  {
   "cell_type": "code",
   "execution_count": null,
   "outputs": [],
   "source": [],
   "metadata": {
    "collapsed": false
   }
  }
 ],
 "metadata": {
  "kernelspec": {
   "display_name": "Python 3 (ipykernel)",
   "language": "python",
   "name": "python3"
  },
  "language_info": {
   "codemirror_mode": {
    "name": "ipython",
    "version": 3
   },
   "file_extension": ".py",
   "mimetype": "text/x-python",
   "name": "python",
   "nbconvert_exporter": "python",
   "pygments_lexer": "ipython3",
   "version": "3.10.12"
  }
 },
 "nbformat": 4,
 "nbformat_minor": 1
}
