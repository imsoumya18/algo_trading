{
 "cells": [
  {
   "cell_type": "code",
   "execution_count": 1,
   "metadata": {
    "collapsed": true,
    "ExecuteTime": {
     "end_time": "2023-08-02T05:01:57.555693855Z",
     "start_time": "2023-08-02T05:01:56.114051243Z"
    }
   },
   "outputs": [],
   "source": [
    "import yfinance as yf\n",
    "import numpy as np\n",
    "import pandas as pd\n",
    "import math\n",
    "from scipy import stats\n",
    "import xlsxwriter\n",
    "from IPython.display import clear_output"
   ]
  },
  {
   "cell_type": "code",
   "execution_count": 2,
   "metadata": {
    "ExecuteTime": {
     "end_time": "2023-08-02T05:01:58.499152587Z",
     "start_time": "2023-08-02T05:01:58.458174514Z"
    }
   },
   "outputs": [
    {
     "data": {
      "text/plain": "    Ticker\n0        A\n1      AAL\n2      AAP\n3     AAPL\n4     ABBV\n..     ...\n498    YUM\n499    ZBH\n500   ZBRA\n501   ZION\n502    ZTS\n\n[503 rows x 1 columns]",
      "text/html": "<div>\n<style scoped>\n    .dataframe tbody tr th:only-of-type {\n        vertical-align: middle;\n    }\n\n    .dataframe tbody tr th {\n        vertical-align: top;\n    }\n\n    .dataframe thead th {\n        text-align: right;\n    }\n</style>\n<table border=\"1\" class=\"dataframe\">\n  <thead>\n    <tr style=\"text-align: right;\">\n      <th></th>\n      <th>Ticker</th>\n    </tr>\n  </thead>\n  <tbody>\n    <tr>\n      <th>0</th>\n      <td>A</td>\n    </tr>\n    <tr>\n      <th>1</th>\n      <td>AAL</td>\n    </tr>\n    <tr>\n      <th>2</th>\n      <td>AAP</td>\n    </tr>\n    <tr>\n      <th>3</th>\n      <td>AAPL</td>\n    </tr>\n    <tr>\n      <th>4</th>\n      <td>ABBV</td>\n    </tr>\n    <tr>\n      <th>...</th>\n      <td>...</td>\n    </tr>\n    <tr>\n      <th>498</th>\n      <td>YUM</td>\n    </tr>\n    <tr>\n      <th>499</th>\n      <td>ZBH</td>\n    </tr>\n    <tr>\n      <th>500</th>\n      <td>ZBRA</td>\n    </tr>\n    <tr>\n      <th>501</th>\n      <td>ZION</td>\n    </tr>\n    <tr>\n      <th>502</th>\n      <td>ZTS</td>\n    </tr>\n  </tbody>\n</table>\n<p>503 rows × 1 columns</p>\n</div>"
     },
     "execution_count": 2,
     "metadata": {},
     "output_type": "execute_result"
    }
   ],
   "source": [
    "stocks = pd.read_csv('sp500.csv')\n",
    "stocks"
   ]
  },
  {
   "cell_type": "code",
   "execution_count": 3,
   "metadata": {
    "ExecuteTime": {
     "end_time": "2023-08-02T05:01:59.321796147Z",
     "start_time": "2023-08-02T05:01:59.316751869Z"
    }
   },
   "outputs": [
    {
     "data": {
      "text/plain": "Empty DataFrame\nColumns: [Ticker, Stock Price, P/E Ratio, Number of Shares to Buy]\nIndex: []",
      "text/html": "<div>\n<style scoped>\n    .dataframe tbody tr th:only-of-type {\n        vertical-align: middle;\n    }\n\n    .dataframe tbody tr th {\n        vertical-align: top;\n    }\n\n    .dataframe thead th {\n        text-align: right;\n    }\n</style>\n<table border=\"1\" class=\"dataframe\">\n  <thead>\n    <tr style=\"text-align: right;\">\n      <th></th>\n      <th>Ticker</th>\n      <th>Stock Price</th>\n      <th>P/E Ratio</th>\n      <th>Number of Shares to Buy</th>\n    </tr>\n  </thead>\n  <tbody>\n  </tbody>\n</table>\n</div>"
     },
     "execution_count": 3,
     "metadata": {},
     "output_type": "execute_result"
    }
   ],
   "source": [
    "my_columns = ['Ticker',\n",
    "              'Stock Price',\n",
    "              'P/E Ratio',\n",
    "              'Number of Shares to Buy']\n",
    "final_dataframe = pd.DataFrame(columns=my_columns)\n",
    "final_dataframe"
   ]
  },
  {
   "cell_type": "code",
   "execution_count": 4,
   "outputs": [
    {
     "name": "stdout",
     "output_type": "stream",
     "text": [
      "    Ticker  Stock Price  P/E Ratio Number of Shares to Buy\n",
      "0        A      122.480  27.037528                     N/A\n",
      "1      AAL       16.230   6.339844                     N/A\n",
      "2      AAP       73.720  10.953938                     N/A\n",
      "3     AAPL      195.605  33.209677                     N/A\n",
      "4     ABBV      148.540  34.950588                     N/A\n",
      "..     ...          ...        ...                     ...\n",
      "498    YUM      136.360  32.009390                     N/A\n",
      "499    ZBH      132.270  61.808411                     N/A\n",
      "500   ZBRA      254.770  32.496173                     N/A\n",
      "501   ZION       37.100   6.341880                     N/A\n",
      "502    ZTS      185.510  42.065760                     N/A\n",
      "\n",
      "[503 rows x 4 columns]\n"
     ]
    }
   ],
   "source": [
    "for stock in stocks['Ticker']:\n",
    "    try:\n",
    "        data = yf.Ticker(stock).info\n",
    "        stock_dict = {\n",
    "            'Ticker': [stock],\n",
    "            'Stock Price': [data['currentPrice']],\n",
    "            'P/E Ratio': [data['currentPrice'] / data['trailingEps']],\n",
    "            'Number of Shares to Buy': ['N/A']\n",
    "        }\n",
    "        df = pd.DataFrame(stock_dict)\n",
    "        final_dataframe = pd.concat([final_dataframe, df], ignore_index=True)\n",
    "    except:\n",
    "        data = yf.Ticker(stock).info\n",
    "        stock_dict = {\n",
    "            'Ticker': [stock],\n",
    "            'Stock Price': [data['currentPrice']],\n",
    "            'P/E Ratio': [0],\n",
    "            'Number of Shares to Buy': ['N/A']\n",
    "        }\n",
    "        df = pd.DataFrame(stock_dict)\n",
    "        final_dataframe = pd.concat([final_dataframe, df], ignore_index=True)\n",
    "\n",
    "    clear_output(wait=True)\n",
    "    print(final_dataframe)"
   ],
   "metadata": {
    "collapsed": false
   }
  },
  {
   "cell_type": "code",
   "execution_count": null,
   "outputs": [],
   "source": [
    "final_dataframe"
   ],
   "metadata": {
    "collapsed": false
   }
  },
  {
   "cell_type": "code",
   "execution_count": null,
   "outputs": [],
   "source": [
    "final_dataframe.sort_values('P/E Ratio', ascending=True, inplace=True)\n",
    "final_dataframe = final_dataframe[final_dataframe['P/E Ratio'] > 0]"
   ],
   "metadata": {
    "collapsed": false
   }
  },
  {
   "cell_type": "code",
   "execution_count": null,
   "outputs": [],
   "source": [
    "final_dataframe"
   ],
   "metadata": {
    "collapsed": false
   }
  },
  {
   "cell_type": "code",
   "execution_count": null,
   "outputs": [],
   "source": [
    "final_dataframe = final_dataframe[:50]\n",
    "final_dataframe.reset_index(drop=True, inplace=True)"
   ],
   "metadata": {
    "collapsed": false
   }
  },
  {
   "cell_type": "code",
   "execution_count": null,
   "outputs": [],
   "source": [
    "final_dataframe"
   ],
   "metadata": {
    "collapsed": false
   }
  },
  {
   "cell_type": "code",
   "execution_count": null,
   "outputs": [],
   "source": [
    "# portfolio_size = float(input(\"Enter your portfolio value: \"))\n",
    "portfolio_size = 10000000\n",
    "portfolio_size"
   ],
   "metadata": {
    "collapsed": false
   }
  },
  {
   "cell_type": "code",
   "execution_count": null,
   "outputs": [],
   "source": [
    "position_size = float(portfolio_size) / len(final_dataframe.index)\n",
    "position_size"
   ],
   "metadata": {
    "collapsed": false
   }
  },
  {
   "cell_type": "code",
   "execution_count": null,
   "outputs": [],
   "source": [
    "for i in range(len(final_dataframe.index)):\n",
    "    final_dataframe.loc[i, 'Number of Shares to Buy'] = math.floor(\n",
    "        position_size / final_dataframe.loc[i, 'Stock Price'])\n",
    "\n",
    "final_dataframe"
   ],
   "metadata": {
    "collapsed": false
   }
  },
  {
   "cell_type": "code",
   "execution_count": null,
   "outputs": [],
   "source": [
    "# Price-to-earnings ratio\n",
    "data = yf.Ticker('AAPL').info\n",
    "financials = yf.Ticker('AAPL').financials\n",
    "peRatio = data['currentPrice'] / data['trailingEps']\n",
    "\n",
    "# Price-to-book ratio\n",
    "pbRatio = data['priceToBook']\n",
    "\n",
    "# Price-to-sales ratio\n",
    "psRatio = data['marketCap'] / (data['sharesOutstanding'] * data['trailingEps'])\n",
    "\n",
    "# Enterprise Value divided by Earnings Before Interest, Taxes, Depreciation, and Amortization (EV/EBITDA)\n",
    "ev = data['marketCap'] + data['totalDebt'] - data['totalCash']\n",
    "ebitda = data['ebitda']\n",
    "evToEBIDTA = ev / ebitda\n",
    "\n",
    "# Enterprise Value divided by Gross Profit (EV/GP)\n",
    "gross_profit = financials.loc['Gross Profit'][0]\n",
    "evToGP = ev / gross_profit\n",
    "\n",
    "evToGP"
   ],
   "metadata": {
    "collapsed": false
   }
  },
  {
   "cell_type": "code",
   "execution_count": null,
   "outputs": [],
   "source": [
    "rv_columns = ['Ticker',\n",
    "              'Stock Price',\n",
    "              'Number of Shares to Buy',\n",
    "              'Price-to-Earning Ratio',\n",
    "              'Price-to_Sales Ratio',\n",
    "              'PE Percentile',\n",
    "              'Price-to-Book Value',\n",
    "              'PB Percentile',\n",
    "              'Price-to-Sales Ratio',\n",
    "              'PS Percentile',\n",
    "              'EV/EBITDA',\n",
    "              'EV/EBITDA Percentile',\n",
    "              'EV/GP',\n",
    "              'EV/GP Percentile',\n",
    "              'RV Score']\n",
    "\n",
    "rv_dataframe = pd.DataFrame(columns=rv_columns)\n",
    "rv_dataframe"
   ],
   "metadata": {
    "collapsed": false
   }
  },
  {
   "cell_type": "code",
   "execution_count": null,
   "outputs": [],
   "source": [
    "for stock in stocks['Ticker']:\n",
    "    try:\n",
    "        data = yf.Ticker(stock).info\n",
    "        financials = yf.Ticker('AAPL').financials\n",
    "        stock_dict = {\n",
    "            'Ticker': [stock],\n",
    "            'Stock Price': [data['currentPrice']],\n",
    "            'Number of Shares to Buy': ['N/A'],\n",
    "            'Price-to-Earning Ratio': ['N/A'],\n",
    "            'Price-to_Sales Ratio': ['N/A'],\n",
    "            'PE Percentile': ['N/A'],\n",
    "            'Price-to-Book Value': ['N/A'],\n",
    "            'PB Percentile': ['N/A'],\n",
    "            'Price-to-Sales Ratio': ['N/A'],\n",
    "            'PS Percentile': ['N/A'],\n",
    "            'EV/EBITDA': ['N/A'],\n",
    "            'EV/EBITDA Percentile': ['N/A'],\n",
    "            'EV/GP': ['N/A'],\n",
    "            'EV/GP Percentile': ['N/A'],\n",
    "            'RV Score': ['N/A']\n",
    "        }\n",
    "        df = pd.DataFrame(stock_dict)\n",
    "        final_dataframe = pd.concat([rv_dataframe, df], ignore_index=True)\n",
    "    except:\n",
    "        data = yf.Ticker(stock).info\n",
    "        financials = yf.Ticker('AAPL').financials\n",
    "        stock_dict = {\n",
    "            'Ticker': [stock],\n",
    "            'Stock Price': ['N/A'],\n",
    "            'Number of Shares to Buy': ['N/A'],\n",
    "            'Price-to-Earning Ratio': ['N/A'],\n",
    "            'Price-to_Sales Ratio': ['N/A'],\n",
    "            'PE Percentile': ['N/A'],\n",
    "            'Price-to-Book Value': ['N/A'],\n",
    "            'PB Percentile': ['N/A'],\n",
    "            'Price-to-Sales Ratio': ['N/A'],\n",
    "            'PS Percentile': ['N/A'],\n",
    "            'EV/EBITDA': ['N/A'],\n",
    "            'EV/EBITDA Percentile': ['N/A'],\n",
    "            'EV/GP': ['N/A'],\n",
    "            'EV/GP Percentile': ['N/A'],\n",
    "            'RV Score': ['N/A']\n",
    "        }\n",
    "        df = pd.DataFrame(stock_dict)\n",
    "        final_dataframe = pd.concat([rv_dataframe, df], ignore_index=True)\n",
    "\n",
    "    clear_output(wait=True)\n",
    "    print(final_dataframe)"
   ],
   "metadata": {
    "collapsed": false
   }
  },
  {
   "cell_type": "code",
   "execution_count": null,
   "outputs": [],
   "source": [],
   "metadata": {
    "collapsed": false
   }
  }
 ],
 "metadata": {
  "kernelspec": {
   "display_name": "Python 3 (ipykernel)",
   "language": "python",
   "name": "python3"
  },
  "language_info": {
   "codemirror_mode": {
    "name": "ipython",
    "version": 3
   },
   "file_extension": ".py",
   "mimetype": "text/x-python",
   "name": "python",
   "nbconvert_exporter": "python",
   "pygments_lexer": "ipython3",
   "version": "3.10.12"
  }
 },
 "nbformat": 4,
 "nbformat_minor": 1
}
