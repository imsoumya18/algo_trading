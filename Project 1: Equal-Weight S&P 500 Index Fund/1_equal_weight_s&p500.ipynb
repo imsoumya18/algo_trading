{
 "cells": [
  {
   "cell_type": "markdown",
   "source": [
    "# Equal-Weight S&P 500 Index Fund\n",
    "\n",
    "## Introduction & Library Imports\n",
    "\n",
    "The S&P 500 is the world's most popular stock market index. The largest fund that is benchmarked to this index is the SPDR® S&P 500® ETF Trust. It has more than US$250 billion of assets under management.\n",
    "\n",
    "The goal of this section of the course is to create a Python script that will accept the value of your portfolio and tell you how many shares of each S&P 500 constituent you should purchase to get an equal-weight version of the index fund.\n",
    "\n",
    "## Library Imports\n",
    "\n",
    "The first thing we need to do is import the open-source software libraries that we'll be using in this tutorial."
   ],
   "metadata": {
    "collapsed": false
   }
  },
  {
   "cell_type": "code",
   "execution_count": 1,
   "outputs": [
    {
     "name": "stdout",
     "output_type": "stream",
     "text": [
      "Requirement already satisfied: yfinance in /home/soumya/PyCharmProjects/quantitative_investment_strategy/venv/lib/python3.10/site-packages (0.2.31)\r\n",
      "Requirement already satisfied: pandas in /home/soumya/PyCharmProjects/quantitative_investment_strategy/venv/lib/python3.10/site-packages (2.1.1)\r\n",
      "Requirement already satisfied: XlsxWriter in /home/soumya/PyCharmProjects/quantitative_investment_strategy/venv/lib/python3.10/site-packages (3.1.6)\r\n",
      "Requirement already satisfied: ipython in /home/soumya/PyCharmProjects/quantitative_investment_strategy/venv/lib/python3.10/site-packages (8.16.1)\r\n",
      "Requirement already satisfied: numpy>=1.16.5 in /home/soumya/PyCharmProjects/quantitative_investment_strategy/venv/lib/python3.10/site-packages (from yfinance) (1.26.0)\r\n",
      "Requirement already satisfied: requests>=2.31 in /home/soumya/PyCharmProjects/quantitative_investment_strategy/venv/lib/python3.10/site-packages (from yfinance) (2.31.0)\r\n",
      "Requirement already satisfied: multitasking>=0.0.7 in /home/soumya/PyCharmProjects/quantitative_investment_strategy/venv/lib/python3.10/site-packages (from yfinance) (0.0.11)\r\n",
      "Requirement already satisfied: lxml>=4.9.1 in /home/soumya/PyCharmProjects/quantitative_investment_strategy/venv/lib/python3.10/site-packages (from yfinance) (4.9.3)\r\n",
      "Requirement already satisfied: appdirs>=1.4.4 in /home/soumya/PyCharmProjects/quantitative_investment_strategy/venv/lib/python3.10/site-packages (from yfinance) (1.4.4)\r\n",
      "Requirement already satisfied: pytz>=2022.5 in /home/soumya/PyCharmProjects/quantitative_investment_strategy/venv/lib/python3.10/site-packages (from yfinance) (2023.3.post1)\r\n",
      "Requirement already satisfied: frozendict>=2.3.4 in /home/soumya/PyCharmProjects/quantitative_investment_strategy/venv/lib/python3.10/site-packages (from yfinance) (2.3.8)\r\n",
      "Requirement already satisfied: peewee>=3.16.2 in /home/soumya/PyCharmProjects/quantitative_investment_strategy/venv/lib/python3.10/site-packages (from yfinance) (3.16.3)\r\n",
      "Requirement already satisfied: beautifulsoup4>=4.11.1 in /home/soumya/PyCharmProjects/quantitative_investment_strategy/venv/lib/python3.10/site-packages (from yfinance) (4.12.2)\r\n",
      "Requirement already satisfied: html5lib>=1.1 in /home/soumya/PyCharmProjects/quantitative_investment_strategy/venv/lib/python3.10/site-packages (from yfinance) (1.1)\r\n",
      "Requirement already satisfied: python-dateutil>=2.8.2 in /home/soumya/PyCharmProjects/quantitative_investment_strategy/venv/lib/python3.10/site-packages (from pandas) (2.8.2)\r\n",
      "Requirement already satisfied: tzdata>=2022.1 in /home/soumya/PyCharmProjects/quantitative_investment_strategy/venv/lib/python3.10/site-packages (from pandas) (2023.3)\r\n",
      "Requirement already satisfied: backcall in /home/soumya/PyCharmProjects/quantitative_investment_strategy/venv/lib/python3.10/site-packages (from ipython) (0.2.0)\r\n",
      "Requirement already satisfied: decorator in /home/soumya/PyCharmProjects/quantitative_investment_strategy/venv/lib/python3.10/site-packages (from ipython) (5.1.1)\r\n",
      "Requirement already satisfied: jedi>=0.16 in /home/soumya/PyCharmProjects/quantitative_investment_strategy/venv/lib/python3.10/site-packages (from ipython) (0.19.1)\r\n",
      "Requirement already satisfied: matplotlib-inline in /home/soumya/PyCharmProjects/quantitative_investment_strategy/venv/lib/python3.10/site-packages (from ipython) (0.1.6)\r\n",
      "Requirement already satisfied: pickleshare in /home/soumya/PyCharmProjects/quantitative_investment_strategy/venv/lib/python3.10/site-packages (from ipython) (0.7.5)\r\n",
      "Requirement already satisfied: prompt-toolkit!=3.0.37,<3.1.0,>=3.0.30 in /home/soumya/PyCharmProjects/quantitative_investment_strategy/venv/lib/python3.10/site-packages (from ipython) (3.0.39)\r\n",
      "Requirement already satisfied: pygments>=2.4.0 in /home/soumya/PyCharmProjects/quantitative_investment_strategy/venv/lib/python3.10/site-packages (from ipython) (2.16.1)\r\n",
      "Requirement already satisfied: stack-data in /home/soumya/PyCharmProjects/quantitative_investment_strategy/venv/lib/python3.10/site-packages (from ipython) (0.6.3)\r\n",
      "Requirement already satisfied: traitlets>=5 in /home/soumya/PyCharmProjects/quantitative_investment_strategy/venv/lib/python3.10/site-packages (from ipython) (5.11.2)\r\n",
      "Requirement already satisfied: exceptiongroup in /home/soumya/PyCharmProjects/quantitative_investment_strategy/venv/lib/python3.10/site-packages (from ipython) (1.1.3)\r\n",
      "Requirement already satisfied: pexpect>4.3 in /home/soumya/PyCharmProjects/quantitative_investment_strategy/venv/lib/python3.10/site-packages (from ipython) (4.8.0)\r\n",
      "Requirement already satisfied: soupsieve>1.2 in /home/soumya/PyCharmProjects/quantitative_investment_strategy/venv/lib/python3.10/site-packages (from beautifulsoup4>=4.11.1->yfinance) (2.5)\r\n",
      "Requirement already satisfied: six>=1.9 in /home/soumya/PyCharmProjects/quantitative_investment_strategy/venv/lib/python3.10/site-packages (from html5lib>=1.1->yfinance) (1.16.0)\r\n",
      "Requirement already satisfied: webencodings in /home/soumya/PyCharmProjects/quantitative_investment_strategy/venv/lib/python3.10/site-packages (from html5lib>=1.1->yfinance) (0.5.1)\r\n",
      "Requirement already satisfied: parso<0.9.0,>=0.8.3 in /home/soumya/PyCharmProjects/quantitative_investment_strategy/venv/lib/python3.10/site-packages (from jedi>=0.16->ipython) (0.8.3)\r\n",
      "Requirement already satisfied: ptyprocess>=0.5 in /home/soumya/PyCharmProjects/quantitative_investment_strategy/venv/lib/python3.10/site-packages (from pexpect>4.3->ipython) (0.7.0)\r\n",
      "Requirement already satisfied: wcwidth in /home/soumya/PyCharmProjects/quantitative_investment_strategy/venv/lib/python3.10/site-packages (from prompt-toolkit!=3.0.37,<3.1.0,>=3.0.30->ipython) (0.2.8)\r\n",
      "Requirement already satisfied: charset-normalizer<4,>=2 in /home/soumya/PyCharmProjects/quantitative_investment_strategy/venv/lib/python3.10/site-packages (from requests>=2.31->yfinance) (3.3.0)\r\n",
      "Requirement already satisfied: idna<4,>=2.5 in /home/soumya/PyCharmProjects/quantitative_investment_strategy/venv/lib/python3.10/site-packages (from requests>=2.31->yfinance) (3.4)\r\n",
      "Requirement already satisfied: urllib3<3,>=1.21.1 in /home/soumya/PyCharmProjects/quantitative_investment_strategy/venv/lib/python3.10/site-packages (from requests>=2.31->yfinance) (2.0.6)\r\n",
      "Requirement already satisfied: certifi>=2017.4.17 in /home/soumya/PyCharmProjects/quantitative_investment_strategy/venv/lib/python3.10/site-packages (from requests>=2.31->yfinance) (2023.7.22)\r\n",
      "Requirement already satisfied: executing>=1.2.0 in /home/soumya/PyCharmProjects/quantitative_investment_strategy/venv/lib/python3.10/site-packages (from stack-data->ipython) (2.0.0)\r\n",
      "Requirement already satisfied: asttokens>=2.1.0 in /home/soumya/PyCharmProjects/quantitative_investment_strategy/venv/lib/python3.10/site-packages (from stack-data->ipython) (2.4.0)\r\n",
      "Requirement already satisfied: pure-eval in /home/soumya/PyCharmProjects/quantitative_investment_strategy/venv/lib/python3.10/site-packages (from stack-data->ipython) (0.2.2)\r\n"
     ]
    }
   ],
   "source": [
    "! pip install yfinance pandas XlsxWriter ipython"
   ],
   "metadata": {
    "collapsed": false,
    "ExecuteTime": {
     "end_time": "2023-10-05T14:41:43.423185379Z",
     "start_time": "2023-10-05T14:41:41.872016295Z"
    }
   }
  },
  {
   "cell_type": "code",
   "execution_count": 2,
   "metadata": {
    "ExecuteTime": {
     "end_time": "2023-10-05T14:41:44.896508717Z",
     "start_time": "2023-10-05T14:41:43.427856362Z"
    }
   },
   "outputs": [],
   "source": [
    "import yfinance as yf\n",
    "import pandas as pd\n",
    "import math\n",
    "import xlsxwriter\n",
    "from IPython.display import clear_output"
   ]
  },
  {
   "cell_type": "markdown",
   "source": [
    "## Importing Our List of Stocks\n",
    "\n",
    "The next thing we need to do is import the constituents of the S&P 500.\n",
    "\n",
    "These constituents change over time, so in an ideal world you would connect directly to the index provider (Standard & Poor's) and pull their real-time constituents on a regular basis. But, here we have just taken a list of ~500 stocks in a CSV file taken at the time of building the project.\n",
    "\n",
    "Now it's time to import these stocks to our Jupyter Notebook file."
   ],
   "metadata": {
    "collapsed": false
   }
  },
  {
   "cell_type": "code",
   "execution_count": 3,
   "metadata": {
    "ExecuteTime": {
     "end_time": "2023-10-05T14:41:44.992125515Z",
     "start_time": "2023-10-05T14:41:44.906158771Z"
    }
   },
   "outputs": [
    {
     "data": {
      "text/plain": "    Ticker\n0        A\n1      AAL\n2      AAP\n3     AAPL\n4     ABBV\n..     ...\n498    YUM\n499    ZBH\n500   ZBRA\n501   ZION\n502    ZTS\n\n[503 rows x 1 columns]",
      "text/html": "<div>\n<style scoped>\n    .dataframe tbody tr th:only-of-type {\n        vertical-align: middle;\n    }\n\n    .dataframe tbody tr th {\n        vertical-align: top;\n    }\n\n    .dataframe thead th {\n        text-align: right;\n    }\n</style>\n<table border=\"1\" class=\"dataframe\">\n  <thead>\n    <tr style=\"text-align: right;\">\n      <th></th>\n      <th>Ticker</th>\n    </tr>\n  </thead>\n  <tbody>\n    <tr>\n      <th>0</th>\n      <td>A</td>\n    </tr>\n    <tr>\n      <th>1</th>\n      <td>AAL</td>\n    </tr>\n    <tr>\n      <th>2</th>\n      <td>AAP</td>\n    </tr>\n    <tr>\n      <th>3</th>\n      <td>AAPL</td>\n    </tr>\n    <tr>\n      <th>4</th>\n      <td>ABBV</td>\n    </tr>\n    <tr>\n      <th>...</th>\n      <td>...</td>\n    </tr>\n    <tr>\n      <th>498</th>\n      <td>YUM</td>\n    </tr>\n    <tr>\n      <th>499</th>\n      <td>ZBH</td>\n    </tr>\n    <tr>\n      <th>500</th>\n      <td>ZBRA</td>\n    </tr>\n    <tr>\n      <th>501</th>\n      <td>ZION</td>\n    </tr>\n    <tr>\n      <th>502</th>\n      <td>ZTS</td>\n    </tr>\n  </tbody>\n</table>\n<p>503 rows × 1 columns</p>\n</div>"
     },
     "execution_count": 3,
     "metadata": {},
     "output_type": "execute_result"
    }
   ],
   "source": [
    "stocks = pd.read_csv('sp500.csv')\n",
    "stocks"
   ]
  },
  {
   "cell_type": "markdown",
   "source": [
    "## Adding Our Stocks Data to a Pandas DataFrame\n",
    "\n",
    "The next thing we need to do is add our stock's price and market capitalization to a pandas DataFrame."
   ],
   "metadata": {
    "collapsed": false
   }
  },
  {
   "cell_type": "code",
   "execution_count": 4,
   "metadata": {
    "ExecuteTime": {
     "end_time": "2023-10-05T14:41:45.083404592Z",
     "start_time": "2023-10-05T14:41:44.989818121Z"
    }
   },
   "outputs": [
    {
     "data": {
      "text/plain": "Empty DataFrame\nColumns: [Ticker, Stock Price, Market Capitalization, Number of Shares to Buy]\nIndex: []",
      "text/html": "<div>\n<style scoped>\n    .dataframe tbody tr th:only-of-type {\n        vertical-align: middle;\n    }\n\n    .dataframe tbody tr th {\n        vertical-align: top;\n    }\n\n    .dataframe thead th {\n        text-align: right;\n    }\n</style>\n<table border=\"1\" class=\"dataframe\">\n  <thead>\n    <tr style=\"text-align: right;\">\n      <th></th>\n      <th>Ticker</th>\n      <th>Stock Price</th>\n      <th>Market Capitalization</th>\n      <th>Number of Shares to Buy</th>\n    </tr>\n  </thead>\n  <tbody>\n  </tbody>\n</table>\n</div>"
     },
     "execution_count": 4,
     "metadata": {},
     "output_type": "execute_result"
    }
   ],
   "source": [
    "my_columns = ['Ticker', 'Stock Price', 'Market Capitalization', 'Number of Shares to Buy']\n",
    "final_dataframe = pd.DataFrame(columns=my_columns)\n",
    "final_dataframe"
   ]
  },
  {
   "cell_type": "markdown",
   "source": [
    "## Looping Through The Tickers in Our List of Stocks\n",
    "\n",
    "Here to fetch the stock data, we have used `yfinance` API\n",
    "\n",
    "We can pull data for all S&P 500 stocks and store their data in the DataFrame using a `for` loop."
   ],
   "metadata": {
    "collapsed": false
   }
  },
  {
   "cell_type": "code",
   "execution_count": 5,
   "outputs": [
    {
     "name": "stdout",
     "output_type": "stream",
     "text": [
      "    Ticker  Stock Price Market Capitalization Number of Shares to Buy\n",
      "0        A     109.7500           32111423488                     N/A\n",
      "1      AAL      12.8133            8371723264                     N/A\n",
      "2      AAP      51.8100            3081156352                     N/A\n",
      "3     AAPL     172.8164         2701846118400                     N/A\n",
      "4     ABBV     148.0693          261349720064                     N/A\n",
      "..     ...          ...                   ...                     ...\n",
      "498    YUM     122.9000           34437935104                     N/A\n",
      "499    ZBH     108.8700           22749911040                     N/A\n",
      "500   ZBRA     221.5900           11376075776                     N/A\n",
      "501   ZION      33.6300            4982116352                     N/A\n",
      "502    ZTS     170.6700           78562304000                     N/A\n",
      "\n",
      "[503 rows x 4 columns]\n"
     ]
    }
   ],
   "source": [
    "for stock in stocks['Ticker']:\n",
    "    data = yf.Ticker(stock).info\n",
    "    stock_dict = {\n",
    "        'Ticker': [stock],\n",
    "        'Stock Price': [data['currentPrice']],\n",
    "        'Market Capitalization': [data['marketCap']],\n",
    "        'Number of Shares to Buy': ['N/A']\n",
    "    }\n",
    "    df = pd.DataFrame(stock_dict)\n",
    "    final_dataframe = pd.concat([final_dataframe, df], ignore_index=True)\n",
    "\n",
    "    clear_output(wait=True)\n",
    "    print(final_dataframe)"
   ],
   "metadata": {
    "collapsed": false
   }
  },
  {
   "cell_type": "code",
   "execution_count": 6,
   "outputs": [
    {
     "data": {
      "text/plain": "    Ticker  Stock Price Market Capitalization Number of Shares to Buy\n0        A     109.7500           32111423488                     N/A\n1      AAL      12.8133            8371723264                     N/A\n2      AAP      51.8100            3081156352                     N/A\n3     AAPL     172.8164         2701846118400                     N/A\n4     ABBV     148.0693          261349720064                     N/A\n..     ...          ...                   ...                     ...\n498    YUM     122.9000           34437935104                     N/A\n499    ZBH     108.8700           22749911040                     N/A\n500   ZBRA     221.5900           11376075776                     N/A\n501   ZION      33.6300            4982116352                     N/A\n502    ZTS     170.6700           78562304000                     N/A\n\n[503 rows x 4 columns]",
      "text/html": "<div>\n<style scoped>\n    .dataframe tbody tr th:only-of-type {\n        vertical-align: middle;\n    }\n\n    .dataframe tbody tr th {\n        vertical-align: top;\n    }\n\n    .dataframe thead th {\n        text-align: right;\n    }\n</style>\n<table border=\"1\" class=\"dataframe\">\n  <thead>\n    <tr style=\"text-align: right;\">\n      <th></th>\n      <th>Ticker</th>\n      <th>Stock Price</th>\n      <th>Market Capitalization</th>\n      <th>Number of Shares to Buy</th>\n    </tr>\n  </thead>\n  <tbody>\n    <tr>\n      <th>0</th>\n      <td>A</td>\n      <td>109.7500</td>\n      <td>32111423488</td>\n      <td>N/A</td>\n    </tr>\n    <tr>\n      <th>1</th>\n      <td>AAL</td>\n      <td>12.8133</td>\n      <td>8371723264</td>\n      <td>N/A</td>\n    </tr>\n    <tr>\n      <th>2</th>\n      <td>AAP</td>\n      <td>51.8100</td>\n      <td>3081156352</td>\n      <td>N/A</td>\n    </tr>\n    <tr>\n      <th>3</th>\n      <td>AAPL</td>\n      <td>172.8164</td>\n      <td>2701846118400</td>\n      <td>N/A</td>\n    </tr>\n    <tr>\n      <th>4</th>\n      <td>ABBV</td>\n      <td>148.0693</td>\n      <td>261349720064</td>\n      <td>N/A</td>\n    </tr>\n    <tr>\n      <th>...</th>\n      <td>...</td>\n      <td>...</td>\n      <td>...</td>\n      <td>...</td>\n    </tr>\n    <tr>\n      <th>498</th>\n      <td>YUM</td>\n      <td>122.9000</td>\n      <td>34437935104</td>\n      <td>N/A</td>\n    </tr>\n    <tr>\n      <th>499</th>\n      <td>ZBH</td>\n      <td>108.8700</td>\n      <td>22749911040</td>\n      <td>N/A</td>\n    </tr>\n    <tr>\n      <th>500</th>\n      <td>ZBRA</td>\n      <td>221.5900</td>\n      <td>11376075776</td>\n      <td>N/A</td>\n    </tr>\n    <tr>\n      <th>501</th>\n      <td>ZION</td>\n      <td>33.6300</td>\n      <td>4982116352</td>\n      <td>N/A</td>\n    </tr>\n    <tr>\n      <th>502</th>\n      <td>ZTS</td>\n      <td>170.6700</td>\n      <td>78562304000</td>\n      <td>N/A</td>\n    </tr>\n  </tbody>\n</table>\n<p>503 rows × 4 columns</p>\n</div>"
     },
     "execution_count": 6,
     "metadata": {},
     "output_type": "execute_result"
    }
   ],
   "source": [
    "final_dataframe"
   ],
   "metadata": {
    "collapsed": false,
    "ExecuteTime": {
     "end_time": "2023-10-05T14:48:28.294613406Z",
     "start_time": "2023-10-05T14:48:28.209462422Z"
    }
   }
  },
  {
   "cell_type": "markdown",
   "source": [
    "## Calculating the Number of Shares to Buy\n",
    "\n",
    "As we can see in the DataFrame above, we stil haven't calculated the number of shares of each stock to buy."
   ],
   "metadata": {
    "collapsed": false
   }
  },
  {
   "cell_type": "code",
   "execution_count": 7,
   "outputs": [
    {
     "data": {
      "text/plain": "10000000"
     },
     "execution_count": 7,
     "metadata": {},
     "output_type": "execute_result"
    }
   ],
   "source": [
    "# portfolio_size = float(input(\"Enter your portfolio value: \"))\n",
    "portfolio_size = 10000000\n",
    "portfolio_size"
   ],
   "metadata": {
    "collapsed": false,
    "ExecuteTime": {
     "end_time": "2023-10-05T14:48:28.405944103Z",
     "start_time": "2023-10-05T14:48:28.262555090Z"
    }
   }
  },
  {
   "cell_type": "code",
   "execution_count": 8,
   "outputs": [
    {
     "data": {
      "text/plain": "19880.715705765408"
     },
     "execution_count": 8,
     "metadata": {},
     "output_type": "execute_result"
    }
   ],
   "source": [
    "position_size = float(portfolio_size) / len(final_dataframe.index)\n",
    "position_size"
   ],
   "metadata": {
    "collapsed": false,
    "ExecuteTime": {
     "end_time": "2023-10-05T14:48:28.443442020Z",
     "start_time": "2023-10-05T14:48:28.358677138Z"
    }
   }
  },
  {
   "cell_type": "code",
   "execution_count": 9,
   "outputs": [
    {
     "data": {
      "text/plain": "    Ticker  Stock Price Market Capitalization Number of Shares to Buy\n0        A     109.7500           32111423488                     181\n1      AAL      12.8133            8371723264                    1551\n2      AAP      51.8100            3081156352                     383\n3     AAPL     172.8164         2701846118400                     115\n4     ABBV     148.0693          261349720064                     134\n..     ...          ...                   ...                     ...\n498    YUM     122.9000           34437935104                     161\n499    ZBH     108.8700           22749911040                     182\n500   ZBRA     221.5900           11376075776                      89\n501   ZION      33.6300            4982116352                     591\n502    ZTS     170.6700           78562304000                     116\n\n[503 rows x 4 columns]",
      "text/html": "<div>\n<style scoped>\n    .dataframe tbody tr th:only-of-type {\n        vertical-align: middle;\n    }\n\n    .dataframe tbody tr th {\n        vertical-align: top;\n    }\n\n    .dataframe thead th {\n        text-align: right;\n    }\n</style>\n<table border=\"1\" class=\"dataframe\">\n  <thead>\n    <tr style=\"text-align: right;\">\n      <th></th>\n      <th>Ticker</th>\n      <th>Stock Price</th>\n      <th>Market Capitalization</th>\n      <th>Number of Shares to Buy</th>\n    </tr>\n  </thead>\n  <tbody>\n    <tr>\n      <th>0</th>\n      <td>A</td>\n      <td>109.7500</td>\n      <td>32111423488</td>\n      <td>181</td>\n    </tr>\n    <tr>\n      <th>1</th>\n      <td>AAL</td>\n      <td>12.8133</td>\n      <td>8371723264</td>\n      <td>1551</td>\n    </tr>\n    <tr>\n      <th>2</th>\n      <td>AAP</td>\n      <td>51.8100</td>\n      <td>3081156352</td>\n      <td>383</td>\n    </tr>\n    <tr>\n      <th>3</th>\n      <td>AAPL</td>\n      <td>172.8164</td>\n      <td>2701846118400</td>\n      <td>115</td>\n    </tr>\n    <tr>\n      <th>4</th>\n      <td>ABBV</td>\n      <td>148.0693</td>\n      <td>261349720064</td>\n      <td>134</td>\n    </tr>\n    <tr>\n      <th>...</th>\n      <td>...</td>\n      <td>...</td>\n      <td>...</td>\n      <td>...</td>\n    </tr>\n    <tr>\n      <th>498</th>\n      <td>YUM</td>\n      <td>122.9000</td>\n      <td>34437935104</td>\n      <td>161</td>\n    </tr>\n    <tr>\n      <th>499</th>\n      <td>ZBH</td>\n      <td>108.8700</td>\n      <td>22749911040</td>\n      <td>182</td>\n    </tr>\n    <tr>\n      <th>500</th>\n      <td>ZBRA</td>\n      <td>221.5900</td>\n      <td>11376075776</td>\n      <td>89</td>\n    </tr>\n    <tr>\n      <th>501</th>\n      <td>ZION</td>\n      <td>33.6300</td>\n      <td>4982116352</td>\n      <td>591</td>\n    </tr>\n    <tr>\n      <th>502</th>\n      <td>ZTS</td>\n      <td>170.6700</td>\n      <td>78562304000</td>\n      <td>116</td>\n    </tr>\n  </tbody>\n</table>\n<p>503 rows × 4 columns</p>\n</div>"
     },
     "execution_count": 9,
     "metadata": {},
     "output_type": "execute_result"
    }
   ],
   "source": [
    "for i in range(len(final_dataframe.index)):\n",
    "    final_dataframe.loc[i, 'Number of Shares to Buy'] = math.floor(\n",
    "        position_size / final_dataframe.loc[i, 'Stock Price'])\n",
    "\n",
    "final_dataframe"
   ],
   "metadata": {
    "collapsed": false,
    "ExecuteTime": {
     "end_time": "2023-10-05T14:48:28.679358001Z",
     "start_time": "2023-10-05T14:48:28.418842607Z"
    }
   }
  },
  {
   "cell_type": "markdown",
   "source": [
    "## Formatting Our Excel Output\n",
    "\n",
    "We will be using the XlsxWriter library for Python to create nicely-formatted Excel files.\n",
    "\n",
    "### Initializing our XlsxWriter Object"
   ],
   "metadata": {
    "collapsed": false
   }
  },
  {
   "cell_type": "code",
   "execution_count": 10,
   "outputs": [],
   "source": [
    "writer = pd.ExcelWriter('recommended_trades.xlsx', engine='xlsxwriter')\n",
    "final_dataframe.to_excel(writer, 'Recommended Trades', index=False)"
   ],
   "metadata": {
    "collapsed": false,
    "ExecuteTime": {
     "end_time": "2023-10-05T14:48:28.679873646Z",
     "start_time": "2023-10-05T14:48:28.586511311Z"
    }
   }
  },
  {
   "cell_type": "markdown",
   "source": [
    "## Formatting Our Excel Output"
   ],
   "metadata": {
    "collapsed": false
   }
  },
  {
   "cell_type": "code",
   "execution_count": 11,
   "outputs": [],
   "source": [
    "bg_color = '#0A0A23'\n",
    "font_color = '#FFFFFF'\n",
    "\n",
    "string_format = writer.book.add_format(\n",
    "    {\n",
    "        'font_color': font_color,\n",
    "        'bg_color': bg_color,\n",
    "        'border': 1\n",
    "    }\n",
    ")\n",
    "\n",
    "dollar_format = writer.book.add_format(\n",
    "    {\n",
    "        'num_format': '$0.00',\n",
    "        'font_color': font_color,\n",
    "        'bg_color': bg_color,\n",
    "        'border': 1\n",
    "    }\n",
    ")\n",
    "\n",
    "integer_format = writer.book.add_format(\n",
    "    {\n",
    "        'num_format': '0',\n",
    "        'font_color': font_color,\n",
    "        'bg_color': bg_color,\n",
    "        'border': 1\n",
    "    }\n",
    ")"
   ],
   "metadata": {
    "collapsed": false,
    "ExecuteTime": {
     "end_time": "2023-10-05T14:48:28.689582557Z",
     "start_time": "2023-10-05T14:48:28.641860524Z"
    }
   }
  },
  {
   "cell_type": "code",
   "execution_count": 12,
   "outputs": [],
   "source": [
    "column_formats = {\n",
    "    'A': ['Ticker', string_format],\n",
    "    'B': ['Stock Price', dollar_format],\n",
    "    'C': ['Market Capitalization', dollar_format],\n",
    "    'D': ['Number of Shares to Buy', integer_format]\n",
    "}\n",
    "\n",
    "for column in column_formats.keys():\n",
    "    writer.sheets['Recommended Trades'].set_column(f'{column}:{column}', 18, column_formats[column][1])\n",
    "    writer.sheets['Recommended Trades'].write(f'{column}1', column_formats[column][0], column_formats[column][1])\n"
   ],
   "metadata": {
    "collapsed": false,
    "ExecuteTime": {
     "end_time": "2023-10-05T14:48:28.734798110Z",
     "start_time": "2023-10-05T14:48:28.686538376Z"
    }
   }
  },
  {
   "cell_type": "markdown",
   "source": [
    "## Saving Our Excel Output"
   ],
   "metadata": {
    "collapsed": false
   }
  },
  {
   "cell_type": "code",
   "execution_count": 13,
   "outputs": [],
   "source": [
    "writer.close()"
   ],
   "metadata": {
    "collapsed": false,
    "ExecuteTime": {
     "end_time": "2023-10-05T14:48:28.803940888Z",
     "start_time": "2023-10-05T14:48:28.734599339Z"
    }
   }
  }
 ],
 "metadata": {
  "kernelspec": {
   "display_name": "Python 3 (ipykernel)",
   "language": "python",
   "name": "python3"
  },
  "language_info": {
   "codemirror_mode": {
    "name": "ipython",
    "version": 3
   },
   "file_extension": ".py",
   "mimetype": "text/x-python",
   "name": "python",
   "nbconvert_exporter": "python",
   "pygments_lexer": "ipython3",
   "version": "3.10.6"
  }
 },
 "nbformat": 4,
 "nbformat_minor": 1
}
