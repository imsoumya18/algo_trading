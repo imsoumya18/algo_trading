{
 "cells": [
  {
   "cell_type": "markdown",
   "source": [
    "# Equal-Weight S&P 500 Index Fund\n",
    "\n",
    "## Introduction & Library Imports\n",
    "\n",
    "The S&P 500 is the world's most popular stock market index. The largest fund that is benchmarked to this index is the SPDR® S&P 500® ETF Trust. It has more than US$250 billion of assets under management.\n",
    "\n",
    "The goal of this section of the course is to create a Python script that will accept the value of your portfolio and tell you how many shares of each S&P 500 constituent you should purchase to get an equal-weight version of the index fund.\n",
    "\n",
    "## Library Imports\n",
    "\n",
    "The first thing we need to do is import the open-source software libraries that we'll be using in this tutorial."
   ],
   "metadata": {
    "collapsed": false
   }
  },
  {
   "cell_type": "code",
   "execution_count": 1,
   "metadata": {
    "ExecuteTime": {
     "end_time": "2023-08-05T04:11:38.804735061Z",
     "start_time": "2023-08-05T04:11:38.002019509Z"
    }
   },
   "outputs": [],
   "source": [
    "import yfinance as yf\n",
    "import pandas as pd\n",
    "import math\n",
    "from IPython.display import clear_output"
   ]
  },
  {
   "cell_type": "markdown",
   "source": [
    "## Importing Our List of Stocks\n",
    "\n",
    "The next thing we need to do is import the constituents of the S&P 500.\n",
    "\n",
    "These constituents change over time, so in an ideal world you would connect directly to the index provider (Standard & Poor's) and pull their real-time constituents on a regular basis. But, here we have just taken a list of ~500 stocks in a CSV file taken at the time of building the project.\n",
    "\n",
    "Now it's time to import these stocks to our Jupyter Notebook file."
   ],
   "metadata": {
    "collapsed": false
   }
  },
  {
   "cell_type": "code",
   "execution_count": 2,
   "metadata": {
    "ExecuteTime": {
     "end_time": "2023-08-05T04:11:38.806625358Z",
     "start_time": "2023-08-05T04:11:38.418806874Z"
    }
   },
   "outputs": [
    {
     "data": {
      "text/plain": "    Ticker\n0        A\n1      AAL\n2      AAP\n3     AAPL\n4     ABBV\n..     ...\n498    YUM\n499    ZBH\n500   ZBRA\n501   ZION\n502    ZTS\n\n[503 rows x 1 columns]",
      "text/html": "<div>\n<style scoped>\n    .dataframe tbody tr th:only-of-type {\n        vertical-align: middle;\n    }\n\n    .dataframe tbody tr th {\n        vertical-align: top;\n    }\n\n    .dataframe thead th {\n        text-align: right;\n    }\n</style>\n<table border=\"1\" class=\"dataframe\">\n  <thead>\n    <tr style=\"text-align: right;\">\n      <th></th>\n      <th>Ticker</th>\n    </tr>\n  </thead>\n  <tbody>\n    <tr>\n      <th>0</th>\n      <td>A</td>\n    </tr>\n    <tr>\n      <th>1</th>\n      <td>AAL</td>\n    </tr>\n    <tr>\n      <th>2</th>\n      <td>AAP</td>\n    </tr>\n    <tr>\n      <th>3</th>\n      <td>AAPL</td>\n    </tr>\n    <tr>\n      <th>4</th>\n      <td>ABBV</td>\n    </tr>\n    <tr>\n      <th>...</th>\n      <td>...</td>\n    </tr>\n    <tr>\n      <th>498</th>\n      <td>YUM</td>\n    </tr>\n    <tr>\n      <th>499</th>\n      <td>ZBH</td>\n    </tr>\n    <tr>\n      <th>500</th>\n      <td>ZBRA</td>\n    </tr>\n    <tr>\n      <th>501</th>\n      <td>ZION</td>\n    </tr>\n    <tr>\n      <th>502</th>\n      <td>ZTS</td>\n    </tr>\n  </tbody>\n</table>\n<p>503 rows × 1 columns</p>\n</div>"
     },
     "execution_count": 2,
     "metadata": {},
     "output_type": "execute_result"
    }
   ],
   "source": [
    "stocks = pd.read_csv('sp500.csv')\n",
    "stocks"
   ]
  },
  {
   "cell_type": "markdown",
   "source": [
    "## Adding Our Stocks Data to a Pandas DataFrame\n",
    "\n",
    "The next thing we need to do is add our stock's price and market capitalization to a pandas DataFrame."
   ],
   "metadata": {
    "collapsed": false
   }
  },
  {
   "cell_type": "code",
   "execution_count": 3,
   "metadata": {
    "ExecuteTime": {
     "end_time": "2023-08-05T04:11:38.829079010Z",
     "start_time": "2023-08-05T04:11:38.436787077Z"
    }
   },
   "outputs": [
    {
     "data": {
      "text/plain": "Empty DataFrame\nColumns: [Ticker, Stock Price, Market Capitalization, Number of Shares to Buy]\nIndex: []",
      "text/html": "<div>\n<style scoped>\n    .dataframe tbody tr th:only-of-type {\n        vertical-align: middle;\n    }\n\n    .dataframe tbody tr th {\n        vertical-align: top;\n    }\n\n    .dataframe thead th {\n        text-align: right;\n    }\n</style>\n<table border=\"1\" class=\"dataframe\">\n  <thead>\n    <tr style=\"text-align: right;\">\n      <th></th>\n      <th>Ticker</th>\n      <th>Stock Price</th>\n      <th>Market Capitalization</th>\n      <th>Number of Shares to Buy</th>\n    </tr>\n  </thead>\n  <tbody>\n  </tbody>\n</table>\n</div>"
     },
     "execution_count": 3,
     "metadata": {},
     "output_type": "execute_result"
    }
   ],
   "source": [
    "my_columns = ['Ticker', 'Stock Price', 'Market Capitalization', 'Number of Shares to Buy']\n",
    "final_dataframe = pd.DataFrame(columns=my_columns)\n",
    "final_dataframe"
   ]
  },
  {
   "cell_type": "markdown",
   "source": [
    "## Looping Through The Tickers in Our List of Stocks\n",
    "\n",
    "Here to fetch the stock data, we have used `yfinance` API\n",
    "\n",
    "We can pull data for all S&P 500 stocks and store their data in the DataFrame using a `for` loop."
   ],
   "metadata": {
    "collapsed": false
   }
  },
  {
   "cell_type": "code",
   "execution_count": 4,
   "outputs": [
    {
     "name": "stdout",
     "output_type": "stream",
     "text": [
      "    Ticker  Stock Price Market Capitalization Number of Shares to Buy\n",
      "0        A       126.30           37305991168                     N/A\n",
      "1      AAL        15.84           10349253632                     N/A\n",
      "2      AAP        71.01            4221111552                     N/A\n",
      "3     AAPL       181.99         2862466203648                     N/A\n",
      "4     ABBV       147.73          260638556160                     N/A\n",
      "..     ...          ...                   ...                     ...\n",
      "498    YUM       134.35           37629689856                     N/A\n",
      "499    ZBH       126.32           26374100992                     N/A\n",
      "500   ZBRA       251.41           12930092032                     N/A\n",
      "501   ZION        37.92            5617619968                     N/A\n",
      "502    ZTS       178.63           82547064832                     N/A\n",
      "\n",
      "[503 rows x 4 columns]\n"
     ]
    }
   ],
   "source": [
    "for stock in stocks['Ticker']:\n",
    "    data = yf.Ticker(stock).info\n",
    "    stock_dict = {\n",
    "        'Ticker': [stock],\n",
    "        'Stock Price': [data['currentPrice']],\n",
    "        'Market Capitalization': [data['marketCap']],\n",
    "        'Number of Shares to Buy': ['N/A']\n",
    "    }\n",
    "    df = pd.DataFrame(stock_dict)\n",
    "    final_dataframe = pd.concat([final_dataframe, df], ignore_index=True)\n",
    "\n",
    "    clear_output(wait=True)\n",
    "    print(final_dataframe)"
   ],
   "metadata": {
    "collapsed": false
   }
  },
  {
   "cell_type": "code",
   "execution_count": 5,
   "outputs": [
    {
     "data": {
      "text/plain": "    Ticker  Stock Price Market Capitalization Number of Shares to Buy\n0        A       126.30           37305991168                     N/A\n1      AAL        15.84           10349253632                     N/A\n2      AAP        71.01            4221111552                     N/A\n3     AAPL       181.99         2862466203648                     N/A\n4     ABBV       147.73          260638556160                     N/A\n..     ...          ...                   ...                     ...\n498    YUM       134.35           37629689856                     N/A\n499    ZBH       126.32           26374100992                     N/A\n500   ZBRA       251.41           12930092032                     N/A\n501   ZION        37.92            5617619968                     N/A\n502    ZTS       178.63           82547064832                     N/A\n\n[503 rows x 4 columns]",
      "text/html": "<div>\n<style scoped>\n    .dataframe tbody tr th:only-of-type {\n        vertical-align: middle;\n    }\n\n    .dataframe tbody tr th {\n        vertical-align: top;\n    }\n\n    .dataframe thead th {\n        text-align: right;\n    }\n</style>\n<table border=\"1\" class=\"dataframe\">\n  <thead>\n    <tr style=\"text-align: right;\">\n      <th></th>\n      <th>Ticker</th>\n      <th>Stock Price</th>\n      <th>Market Capitalization</th>\n      <th>Number of Shares to Buy</th>\n    </tr>\n  </thead>\n  <tbody>\n    <tr>\n      <th>0</th>\n      <td>A</td>\n      <td>126.30</td>\n      <td>37305991168</td>\n      <td>N/A</td>\n    </tr>\n    <tr>\n      <th>1</th>\n      <td>AAL</td>\n      <td>15.84</td>\n      <td>10349253632</td>\n      <td>N/A</td>\n    </tr>\n    <tr>\n      <th>2</th>\n      <td>AAP</td>\n      <td>71.01</td>\n      <td>4221111552</td>\n      <td>N/A</td>\n    </tr>\n    <tr>\n      <th>3</th>\n      <td>AAPL</td>\n      <td>181.99</td>\n      <td>2862466203648</td>\n      <td>N/A</td>\n    </tr>\n    <tr>\n      <th>4</th>\n      <td>ABBV</td>\n      <td>147.73</td>\n      <td>260638556160</td>\n      <td>N/A</td>\n    </tr>\n    <tr>\n      <th>...</th>\n      <td>...</td>\n      <td>...</td>\n      <td>...</td>\n      <td>...</td>\n    </tr>\n    <tr>\n      <th>498</th>\n      <td>YUM</td>\n      <td>134.35</td>\n      <td>37629689856</td>\n      <td>N/A</td>\n    </tr>\n    <tr>\n      <th>499</th>\n      <td>ZBH</td>\n      <td>126.32</td>\n      <td>26374100992</td>\n      <td>N/A</td>\n    </tr>\n    <tr>\n      <th>500</th>\n      <td>ZBRA</td>\n      <td>251.41</td>\n      <td>12930092032</td>\n      <td>N/A</td>\n    </tr>\n    <tr>\n      <th>501</th>\n      <td>ZION</td>\n      <td>37.92</td>\n      <td>5617619968</td>\n      <td>N/A</td>\n    </tr>\n    <tr>\n      <th>502</th>\n      <td>ZTS</td>\n      <td>178.63</td>\n      <td>82547064832</td>\n      <td>N/A</td>\n    </tr>\n  </tbody>\n</table>\n<p>503 rows × 4 columns</p>\n</div>"
     },
     "execution_count": 5,
     "metadata": {},
     "output_type": "execute_result"
    }
   ],
   "source": [
    "final_dataframe"
   ],
   "metadata": {
    "collapsed": false,
    "ExecuteTime": {
     "end_time": "2023-08-05T04:18:35.092002082Z",
     "start_time": "2023-08-05T04:18:34.945014830Z"
    }
   }
  },
  {
   "cell_type": "markdown",
   "source": [
    "## Calculating the Number of Shares to Buy\n",
    "\n",
    "As we can see in the DataFrame above, we stil haven't calculated the number of shares of each stock to buy."
   ],
   "metadata": {
    "collapsed": false
   }
  },
  {
   "cell_type": "code",
   "execution_count": 6,
   "outputs": [
    {
     "data": {
      "text/plain": "10000000"
     },
     "execution_count": 6,
     "metadata": {},
     "output_type": "execute_result"
    }
   ],
   "source": [
    "# portfolio_size = float(input(\"Enter your portfolio value: \"))\n",
    "portfolio_size = 10000000\n",
    "portfolio_size"
   ],
   "metadata": {
    "collapsed": false,
    "ExecuteTime": {
     "end_time": "2023-08-05T04:18:35.092623610Z",
     "start_time": "2023-08-05T04:18:34.993912540Z"
    }
   }
  },
  {
   "cell_type": "code",
   "execution_count": 7,
   "outputs": [
    {
     "data": {
      "text/plain": "19880.715705765408"
     },
     "execution_count": 7,
     "metadata": {},
     "output_type": "execute_result"
    }
   ],
   "source": [
    "position_size = float(portfolio_size) / len(final_dataframe.index)\n",
    "position_size"
   ],
   "metadata": {
    "collapsed": false,
    "ExecuteTime": {
     "end_time": "2023-08-05T04:18:35.092940910Z",
     "start_time": "2023-08-05T04:18:34.994025871Z"
    }
   }
  },
  {
   "cell_type": "code",
   "execution_count": 8,
   "outputs": [
    {
     "data": {
      "text/plain": "    Ticker  Stock Price Market Capitalization Number of Shares to Buy\n0        A       126.30           37305991168                     157\n1      AAL        15.84           10349253632                    1255\n2      AAP        71.01            4221111552                     279\n3     AAPL       181.99         2862466203648                     109\n4     ABBV       147.73          260638556160                     134\n..     ...          ...                   ...                     ...\n498    YUM       134.35           37629689856                     147\n499    ZBH       126.32           26374100992                     157\n500   ZBRA       251.41           12930092032                      79\n501   ZION        37.92            5617619968                     524\n502    ZTS       178.63           82547064832                     111\n\n[503 rows x 4 columns]",
      "text/html": "<div>\n<style scoped>\n    .dataframe tbody tr th:only-of-type {\n        vertical-align: middle;\n    }\n\n    .dataframe tbody tr th {\n        vertical-align: top;\n    }\n\n    .dataframe thead th {\n        text-align: right;\n    }\n</style>\n<table border=\"1\" class=\"dataframe\">\n  <thead>\n    <tr style=\"text-align: right;\">\n      <th></th>\n      <th>Ticker</th>\n      <th>Stock Price</th>\n      <th>Market Capitalization</th>\n      <th>Number of Shares to Buy</th>\n    </tr>\n  </thead>\n  <tbody>\n    <tr>\n      <th>0</th>\n      <td>A</td>\n      <td>126.30</td>\n      <td>37305991168</td>\n      <td>157</td>\n    </tr>\n    <tr>\n      <th>1</th>\n      <td>AAL</td>\n      <td>15.84</td>\n      <td>10349253632</td>\n      <td>1255</td>\n    </tr>\n    <tr>\n      <th>2</th>\n      <td>AAP</td>\n      <td>71.01</td>\n      <td>4221111552</td>\n      <td>279</td>\n    </tr>\n    <tr>\n      <th>3</th>\n      <td>AAPL</td>\n      <td>181.99</td>\n      <td>2862466203648</td>\n      <td>109</td>\n    </tr>\n    <tr>\n      <th>4</th>\n      <td>ABBV</td>\n      <td>147.73</td>\n      <td>260638556160</td>\n      <td>134</td>\n    </tr>\n    <tr>\n      <th>...</th>\n      <td>...</td>\n      <td>...</td>\n      <td>...</td>\n      <td>...</td>\n    </tr>\n    <tr>\n      <th>498</th>\n      <td>YUM</td>\n      <td>134.35</td>\n      <td>37629689856</td>\n      <td>147</td>\n    </tr>\n    <tr>\n      <th>499</th>\n      <td>ZBH</td>\n      <td>126.32</td>\n      <td>26374100992</td>\n      <td>157</td>\n    </tr>\n    <tr>\n      <th>500</th>\n      <td>ZBRA</td>\n      <td>251.41</td>\n      <td>12930092032</td>\n      <td>79</td>\n    </tr>\n    <tr>\n      <th>501</th>\n      <td>ZION</td>\n      <td>37.92</td>\n      <td>5617619968</td>\n      <td>524</td>\n    </tr>\n    <tr>\n      <th>502</th>\n      <td>ZTS</td>\n      <td>178.63</td>\n      <td>82547064832</td>\n      <td>111</td>\n    </tr>\n  </tbody>\n</table>\n<p>503 rows × 4 columns</p>\n</div>"
     },
     "execution_count": 8,
     "metadata": {},
     "output_type": "execute_result"
    }
   ],
   "source": [
    "for i in range(len(final_dataframe.index)):\n",
    "    final_dataframe.loc[i, 'Number of Shares to Buy'] = math.floor(\n",
    "        position_size / final_dataframe.loc[i, 'Stock Price'])\n",
    "\n",
    "final_dataframe"
   ],
   "metadata": {
    "collapsed": false,
    "ExecuteTime": {
     "end_time": "2023-08-05T04:18:35.142990788Z",
     "start_time": "2023-08-05T04:18:34.994079520Z"
    }
   }
  },
  {
   "cell_type": "markdown",
   "source": [
    "## Formatting Our Excel Output\n",
    "\n",
    "We will be using the XlsxWriter library for Python to create nicely-formatted Excel files.\n",
    "\n",
    "### Initializing our XlsxWriter Object"
   ],
   "metadata": {
    "collapsed": false
   }
  },
  {
   "cell_type": "code",
   "execution_count": 9,
   "outputs": [],
   "source": [
    "writer = pd.ExcelWriter('recommended_trades.xlsx', engine='xlsxwriter')\n",
    "final_dataframe.to_excel(writer, 'Recommended Trades', index=False)"
   ],
   "metadata": {
    "collapsed": false,
    "ExecuteTime": {
     "end_time": "2023-08-05T04:18:35.220048748Z",
     "start_time": "2023-08-05T04:18:35.038012524Z"
    }
   }
  },
  {
   "cell_type": "markdown",
   "source": [
    "## Formatting Our Excel Output"
   ],
   "metadata": {
    "collapsed": false
   }
  },
  {
   "cell_type": "code",
   "execution_count": 10,
   "outputs": [],
   "source": [
    "bg_color = '#0A0A23'\n",
    "font_color = '#FFFFFF'\n",
    "\n",
    "string_format = writer.book.add_format(\n",
    "    {\n",
    "        'font_color': font_color,\n",
    "        'bg_color': bg_color,\n",
    "        'border': 1\n",
    "    }\n",
    ")\n",
    "\n",
    "dollar_format = writer.book.add_format(\n",
    "    {\n",
    "        'num_format': '$0.00',\n",
    "        'font_color': font_color,\n",
    "        'bg_color': bg_color,\n",
    "        'border': 1\n",
    "    }\n",
    ")\n",
    "\n",
    "integer_format = writer.book.add_format(\n",
    "    {\n",
    "        'num_format': '0',\n",
    "        'font_color': font_color,\n",
    "        'bg_color': bg_color,\n",
    "        'border': 1\n",
    "    }\n",
    ")"
   ],
   "metadata": {
    "collapsed": false,
    "ExecuteTime": {
     "end_time": "2023-08-05T04:18:35.269654421Z",
     "start_time": "2023-08-05T04:18:35.079730963Z"
    }
   }
  },
  {
   "cell_type": "code",
   "execution_count": 11,
   "outputs": [],
   "source": [
    "column_formats = {\n",
    "    'A': ['Ticker', string_format],\n",
    "    'B': ['Stock Price', dollar_format],\n",
    "    'C': ['Market Capitalization', dollar_format],\n",
    "    'D': ['Number of Shares to Buy', integer_format]\n",
    "}\n",
    "\n",
    "for column in column_formats.keys():\n",
    "    writer.sheets['Recommended Trades'].set_column(f'{column}:{column}', 18, column_formats[column][1])\n",
    "    writer.sheets['Recommended Trades'].write(f'{column}1', column_formats[column][0], column_formats[column][1])\n"
   ],
   "metadata": {
    "collapsed": false,
    "ExecuteTime": {
     "end_time": "2023-08-05T04:18:35.269861897Z",
     "start_time": "2023-08-05T04:18:35.125991126Z"
    }
   }
  },
  {
   "cell_type": "markdown",
   "source": [
    "## Saving Our Excel Output"
   ],
   "metadata": {
    "collapsed": false
   }
  },
  {
   "cell_type": "code",
   "execution_count": 12,
   "outputs": [],
   "source": [
    "writer.close()"
   ],
   "metadata": {
    "collapsed": false,
    "ExecuteTime": {
     "end_time": "2023-08-05T04:18:35.269972008Z",
     "start_time": "2023-08-05T04:18:35.126190950Z"
    }
   }
  }
 ],
 "metadata": {
  "kernelspec": {
   "display_name": "Python 3 (ipykernel)",
   "language": "python",
   "name": "python3"
  },
  "language_info": {
   "codemirror_mode": {
    "name": "ipython",
    "version": 3
   },
   "file_extension": ".py",
   "mimetype": "text/x-python",
   "name": "python",
   "nbconvert_exporter": "python",
   "pygments_lexer": "ipython3",
   "version": "3.10.6"
  }
 },
 "nbformat": 4,
 "nbformat_minor": 1
}
